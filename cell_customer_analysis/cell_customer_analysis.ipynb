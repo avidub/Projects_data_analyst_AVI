{
 "cells": [
  {
   "cell_type": "markdown",
   "metadata": {},
   "source": [
    "## Описание проекта"
   ]
  },
  {
   "cell_type": "markdown",
   "metadata": {},
   "source": [
    "### Цель проекта"
   ]
  },
  {
   "cell_type": "markdown",
   "metadata": {},
   "source": [
    "Компании «Мегалайн» — федеральный оператор сотовой связи. Клиентам предлагают два тарифных плана: «Смарт» и «Ультра». Чтобы скорректировать рекламный бюджет, коммерческий департамент хочет понять, какой тариф приносит больше денег.\n",
    "Нужно сделать предварительный анализ тарифов на небольшой выборке клиентов. В нашем распоряжении данные 500 пользователей «Мегалайна»: кто они, откуда, каким тарифом пользуются, сколько звонков и сообщений каждый отправил за 2018 год. Нужно проанализировать поведение клиентов и сделать вывод — какой тариф лучше."
   ]
  },
  {
   "cell_type": "markdown",
   "metadata": {},
   "source": [
    "### Описание данных"
   ]
  },
  {
   "cell_type": "markdown",
   "metadata": {},
   "source": [
    "Таблица users (информация о пользователях):\n",
    "\n",
    "    user_id — уникальный идентификатор пользователя\n",
    "    first_name — имя пользователя\n",
    "    last_name — фамилия пользователя\n",
    "    age — возраст пользователя (годы)\n",
    "    reg_date — дата подключения тарифа (день, месяц, год)\n",
    "    churn_date — дата прекращения пользования тарифом (если значение пропущено, то тариф ещё действовал на момент выгрузки данных)\n",
    "    city — город проживания пользователя\n",
    "    tariff — название тарифного плана\n",
    "\n",
    "Таблица calls (информация о звонках):\n",
    "\n",
    "    id — уникальный номер звонка\n",
    "    call_date — дата звонка\n",
    "    duration — длительность звонка в минутах\n",
    "    user_id — идентификатор пользователя, сделавшего звонок\n",
    "\n",
    "Таблица messages (информация о сообщениях):\n",
    "\n",
    "    id — уникальный номер сообщения\n",
    "    message_date — дата сообщения\n",
    "    user_id — идентификатор пользователя, отправившего сообщение\n",
    "\n",
    "Таблица internet (информация об интернет-сессиях):\n",
    "\n",
    "    id — уникальный номер сессии\n",
    "    mb_used — объём потраченного за сессию интернет-трафика (в мегабайтах)\n",
    "    session_date — дата интернет-сессии\n",
    "    user_id — идентификатор пользователя\n",
    "\n",
    "Таблица tariffs (информация о тарифах):\n",
    "\n",
    "    tariff_name — название тарифа\n",
    "    rub_monthly_fee — ежемесячная абонентская плата в рублях\n",
    "    minutes_included — количество минут разговора в месяц, включённых в абонентскую плату\n",
    "    messages_included — количество сообщений в месяц, включённых в абонентскую плату\n",
    "    mb_per_month_included — объём интернет-трафика, включённого в абонентскую плату (в мегабайтах)\n",
    "    rub_per_minute — стоимость минуты разговора сверх тарифного пакета (например, если в тарифе 100 минут разговора в месяц, то со 101 минуты будет взиматься плата)\n",
    "    rub_per_message — стоимость отправки сообщения сверх тарифного пакета\n",
    "    rub_per_gb — стоимость дополнительного гигабайта интернет-трафика сверх тарифного пакета (1 гигабайт = 1024 мегабайта)"
   ]
  },
  {
   "cell_type": "markdown",
   "metadata": {},
   "source": [
    "### Особенности обработки"
   ]
  },
  {
   "cell_type": "markdown",
   "metadata": {},
   "source": [
    "1. Каждый звонок округляется отдельно: даже если он длился всего 1 секунду, будет засчитан как 1 минута.\n",
    "2. Для веб-трафика отдельные сессии не считаются. Вместо этого общая сумма за месяц округляется в бо́льшую сторону. Если абонент использует 1025 мегабайт в этом месяце, с него возьмут плату за 2 гигабайта. Примите, что неиспользованные за предыдущий месяц звонки, смс, интернет на следующий месяц не переносятся."
   ]
  },
  {
   "cell_type": "markdown",
   "metadata": {},
   "source": [
    "## Изучение файла данных"
   ]
  },
  {
   "cell_type": "markdown",
   "metadata": {},
   "source": [
    "### Открытие файлов"
   ]
  },
  {
   "cell_type": "code",
   "execution_count": 1,
   "metadata": {},
   "outputs": [],
   "source": [
    "from scipy import stats as st\n",
    "import numpy as np\n",
    "import pandas as pd\n",
    "import math"
   ]
  },
  {
   "cell_type": "markdown",
   "metadata": {},
   "source": [
    "Импортируем библиотеки, которые нам понадобятся в процессе исследования"
   ]
  },
  {
   "cell_type": "markdown",
   "metadata": {},
   "source": [
    "Далее будем последовательно открывать каждый из пяти датафреймов и проводить анализ заполнения и наличия ошибок. Первым открываем 'users'."
   ]
  },
  {
   "cell_type": "code",
   "execution_count": 2,
   "metadata": {},
   "outputs": [],
   "source": [
    "users = pd.read_csv('')\n"
   ]
  },
  {
   "cell_type": "code",
   "execution_count": 3,
   "metadata": {
    "scrolled": false
   },
   "outputs": [
    {
     "name": "stdout",
     "output_type": "stream",
     "text": [
      "<class 'pandas.core.frame.DataFrame'>\n",
      "RangeIndex: 500 entries, 0 to 499\n",
      "Data columns (total 8 columns):\n",
      " #   Column      Non-Null Count  Dtype \n",
      "---  ------      --------------  ----- \n",
      " 0   user_id     500 non-null    int64 \n",
      " 1   age         500 non-null    int64 \n",
      " 2   churn_date  38 non-null     object\n",
      " 3   city        500 non-null    object\n",
      " 4   first_name  500 non-null    object\n",
      " 5   last_name   500 non-null    object\n",
      " 6   reg_date    500 non-null    object\n",
      " 7   tariff      500 non-null    object\n",
      "dtypes: int64(2), object(6)\n",
      "memory usage: 31.4+ KB\n",
      "   user_id  age churn_date         city first_name  last_name    reg_date  \\\n",
      "0     1000   52        NaN    Краснодар     Рафаил  Верещагин  2018-05-25   \n",
      "1     1001   41        NaN       Москва       Иван       Ежов  2018-11-01   \n",
      "2     1002   59        NaN  Стерлитамак    Евгений  Абрамович  2018-06-17   \n",
      "3     1003   23        NaN       Москва      Белла   Белякова  2018-08-17   \n",
      "4     1004   68        NaN  Новокузнецк    Татьяна   Авдеенко  2018-05-14   \n",
      "\n",
      "  tariff  \n",
      "0  ultra  \n",
      "1  smart  \n",
      "2  smart  \n",
      "3  ultra  \n",
      "4  ultra  \n"
     ]
    }
   ],
   "source": [
    "users.info()\n",
    "print (users.head())"
   ]
  },
  {
   "cell_type": "markdown",
   "metadata": {},
   "source": [
    "Наименование столбцов корректны. Пропусков в столбцах не видно. Кроме 'churn_date'. Но здесь мы предупреждены при постановке задачи. Заполним пропуски в этом столбце датой 31.12.2018, исходя из того, что контракт действовал, как минимум до конца года."
   ]
  },
  {
   "cell_type": "code",
   "execution_count": 4,
   "metadata": {},
   "outputs": [
    {
     "name": "stdout",
     "output_type": "stream",
     "text": [
      "[nan '2018-10-05' '2018-12-18' '2018-11-21' '2018-10-03' '2018-10-14'\n",
      " '2018-12-09' '2018-12-11' '2018-12-26' '2018-08-31' '2018-12-03'\n",
      " '2018-12-23' '2018-11-07' '2018-12-16' '2018-12-20' '2018-11-30'\n",
      " '2018-12-21' '2018-08-17' '2018-09-02' '2018-10-04' '2018-11-13'\n",
      " '2018-11-22' '2018-10-28' '2018-11-26' '2018-11-27' '2018-11-16'\n",
      " '2018-10-27' '2018-12-30' '2018-09-27' '2018-12-25' '2018-12-14'\n",
      " '2018-12-24' '2018-09-26' '2018-10-25']\n"
     ]
    }
   ],
   "source": [
    "print(users['churn_date'].unique())"
   ]
  },
  {
   "cell_type": "code",
   "execution_count": 5,
   "metadata": {},
   "outputs": [
    {
     "name": "stdout",
     "output_type": "stream",
     "text": [
      "['2018-05-25' '2018-11-01' '2018-06-17' '2018-08-17' '2018-05-14'\n",
      " '2018-01-25' '2018-02-26' '2018-04-19' '2018-12-19' '2018-03-22'\n",
      " '2018-08-05' '2018-03-19' '2018-03-28' '2018-11-14' '2018-05-15'\n",
      " '2018-04-30' '2018-11-21' '2018-05-22' '2018-04-01' '2018-05-16'\n",
      " '2018-10-22' '2018-04-26' '2018-12-01' '2018-10-31' '2018-03-15'\n",
      " '2018-10-06' '2018-04-10' '2018-10-02' '2018-09-15' '2018-05-23'\n",
      " '2018-11-02' '2018-01-04' '2018-07-15' '2018-08-26' '2018-04-03'\n",
      " '2018-07-14' '2018-10-13' '2018-10-07' '2018-06-21' '2018-06-08'\n",
      " '2018-11-29' '2018-11-25' '2018-07-08' '2018-05-09' '2018-01-30'\n",
      " '2018-08-20' '2018-10-29' '2018-08-19' '2018-03-10' '2018-06-16'\n",
      " '2018-05-28' '2018-07-27' '2018-09-30' '2018-03-20' '2018-01-02'\n",
      " '2018-04-13' '2018-03-12' '2018-04-14' '2018-11-24' '2018-11-16'\n",
      " '2018-04-12' '2018-03-17' '2018-03-08' '2018-06-24' '2018-04-09'\n",
      " '2018-07-16' '2018-12-10' '2018-08-07' '2018-01-09' '2018-02-20'\n",
      " '2018-10-04' '2018-12-30' '2018-10-23' '2018-06-19' '2018-08-12'\n",
      " '2018-03-25' '2018-10-05' '2018-04-24' '2018-12-13' '2018-06-12'\n",
      " '2018-10-03' '2018-06-04' '2018-02-24' '2018-10-11' '2018-05-08'\n",
      " '2018-06-29' '2018-12-23' '2018-06-25' '2018-06-23' '2018-03-16'\n",
      " '2018-07-02' '2018-05-21' '2018-12-04' '2018-02-21' '2018-09-29'\n",
      " '2018-07-20' '2018-02-23' '2018-05-06' '2018-09-04' '2018-01-24'\n",
      " '2018-07-26' '2018-07-28' '2018-04-17' '2018-03-06' '2018-04-22'\n",
      " '2018-05-04' '2018-11-07' '2018-03-18' '2018-09-24' '2018-09-01'\n",
      " '2018-01-19' '2018-04-11' '2018-12-15' '2018-12-17' '2018-12-08'\n",
      " '2018-10-19' '2018-01-16' '2018-01-29' '2018-11-19' '2018-12-02'\n",
      " '2018-07-13' '2018-11-09' '2018-12-31' '2018-03-24' '2018-04-27'\n",
      " '2018-04-29' '2018-07-09' '2018-05-19' '2018-02-05' '2018-10-18'\n",
      " '2018-06-02' '2018-11-12' '2018-02-03' '2018-11-28' '2018-07-03'\n",
      " '2018-10-09' '2018-11-03' '2018-10-14' '2018-12-20' '2018-05-05'\n",
      " '2018-02-17' '2018-04-08' '2018-01-20' '2018-02-02' '2018-11-23'\n",
      " '2018-07-12' '2018-09-03' '2018-08-22' '2018-02-04' '2018-12-07'\n",
      " '2018-06-30' '2018-01-01' '2018-12-03' '2018-06-18' '2018-08-15'\n",
      " '2018-09-10' '2018-04-28' '2018-08-06' '2018-09-20' '2018-03-13'\n",
      " '2018-10-21' '2018-07-29' '2018-06-20' '2018-07-05' '2018-01-21'\n",
      " '2018-11-22' '2018-06-03' '2018-08-30' '2018-12-12' '2018-06-01'\n",
      " '2018-12-22' '2018-11-04' '2018-01-08' '2018-02-27' '2018-05-02'\n",
      " '2018-11-18' '2018-09-26' '2018-08-14' '2018-02-13' '2018-02-19'\n",
      " '2018-09-28' '2018-10-30' '2018-07-17' '2018-07-01' '2018-08-29'\n",
      " '2018-05-03' '2018-08-13' '2018-07-18' '2018-06-09' '2018-09-07'\n",
      " '2018-11-27' '2018-09-23' '2018-09-09' '2018-05-11' '2018-02-08'\n",
      " '2018-09-05' '2018-09-19' '2018-06-05' '2018-01-27' '2018-09-27'\n",
      " '2018-01-23' '2018-07-25' '2018-11-05' '2018-10-25' '2018-11-30'\n",
      " '2018-08-03' '2018-10-24' '2018-03-04' '2018-08-24' '2018-08-02'\n",
      " '2018-05-29' '2018-10-16' '2018-10-08' '2018-06-26' '2018-01-15'\n",
      " '2018-06-22' '2018-12-18' '2018-07-21' '2018-04-18' '2018-09-02'\n",
      " '2018-06-14' '2018-09-14' '2018-12-14' '2018-08-18' '2018-02-06'\n",
      " '2018-12-25' '2018-01-17' '2018-05-31' '2018-02-25' '2018-08-09'\n",
      " '2018-05-07' '2018-01-13' '2018-03-26' '2018-12-21' '2018-08-27'\n",
      " '2018-07-30' '2018-05-12' '2018-01-12' '2018-01-06' '2018-12-06'\n",
      " '2018-11-06' '2018-03-09' '2018-05-20' '2018-05-27' '2018-03-14'\n",
      " '2018-08-28' '2018-07-19' '2018-02-22' '2018-10-12' '2018-08-25'\n",
      " '2018-01-26' '2018-04-23' '2018-08-04' '2018-01-05' '2018-04-04'\n",
      " '2018-11-13' '2018-09-17' '2018-12-29' '2018-08-31' '2018-09-13'\n",
      " '2018-09-16' '2018-10-10' '2018-04-06' '2018-02-28' '2018-02-11'\n",
      " '2018-07-06' '2018-01-18' '2018-11-11' '2018-02-14' '2018-04-25']\n"
     ]
    }
   ],
   "source": [
    " print(users['reg_date'].unique())"
   ]
  },
  {
   "cell_type": "markdown",
   "metadata": {},
   "source": [
    "По столбцу 'reg_date' видим, что данные корректны, а все контракты были заключены в течение 2018 года."
   ]
  },
  {
   "cell_type": "code",
   "execution_count": 6,
   "metadata": {},
   "outputs": [
    {
     "data": {
      "text/html": [
       "<div>\n",
       "<style scoped>\n",
       "    .dataframe tbody tr th:only-of-type {\n",
       "        vertical-align: middle;\n",
       "    }\n",
       "\n",
       "    .dataframe tbody tr th {\n",
       "        vertical-align: top;\n",
       "    }\n",
       "\n",
       "    .dataframe thead th {\n",
       "        text-align: right;\n",
       "    }\n",
       "</style>\n",
       "<table border=\"1\" class=\"dataframe\">\n",
       "  <thead>\n",
       "    <tr style=\"text-align: right;\">\n",
       "      <th></th>\n",
       "      <th>user_id</th>\n",
       "      <th>age</th>\n",
       "    </tr>\n",
       "  </thead>\n",
       "  <tbody>\n",
       "    <tr>\n",
       "      <th>count</th>\n",
       "      <td>500.000000</td>\n",
       "      <td>500.00000</td>\n",
       "    </tr>\n",
       "    <tr>\n",
       "      <th>mean</th>\n",
       "      <td>1249.500000</td>\n",
       "      <td>46.58800</td>\n",
       "    </tr>\n",
       "    <tr>\n",
       "      <th>std</th>\n",
       "      <td>144.481833</td>\n",
       "      <td>16.66763</td>\n",
       "    </tr>\n",
       "    <tr>\n",
       "      <th>min</th>\n",
       "      <td>1000.000000</td>\n",
       "      <td>18.00000</td>\n",
       "    </tr>\n",
       "    <tr>\n",
       "      <th>25%</th>\n",
       "      <td>1124.750000</td>\n",
       "      <td>32.00000</td>\n",
       "    </tr>\n",
       "    <tr>\n",
       "      <th>50%</th>\n",
       "      <td>1249.500000</td>\n",
       "      <td>46.00000</td>\n",
       "    </tr>\n",
       "    <tr>\n",
       "      <th>75%</th>\n",
       "      <td>1374.250000</td>\n",
       "      <td>62.00000</td>\n",
       "    </tr>\n",
       "    <tr>\n",
       "      <th>max</th>\n",
       "      <td>1499.000000</td>\n",
       "      <td>75.00000</td>\n",
       "    </tr>\n",
       "  </tbody>\n",
       "</table>\n",
       "</div>"
      ],
      "text/plain": [
       "           user_id        age\n",
       "count   500.000000  500.00000\n",
       "mean   1249.500000   46.58800\n",
       "std     144.481833   16.66763\n",
       "min    1000.000000   18.00000\n",
       "25%    1124.750000   32.00000\n",
       "50%    1249.500000   46.00000\n",
       "75%    1374.250000   62.00000\n",
       "max    1499.000000   75.00000"
      ]
     },
     "execution_count": 6,
     "metadata": {},
     "output_type": "execute_result"
    }
   ],
   "source": [
    "users.describe()"
   ]
  },
  {
   "cell_type": "markdown",
   "metadata": {},
   "source": [
    "По столбцу 'age' видим, что данные корректны, аномальных значений не видно."
   ]
  },
  {
   "cell_type": "code",
   "execution_count": 7,
   "metadata": {
    "scrolled": true
   },
   "outputs": [
    {
     "name": "stdout",
     "output_type": "stream",
     "text": [
      "['Архангельск' 'Астрахань' 'Балашиха' 'Барнаул' 'Белгород' 'Брянск'\n",
      " 'Владивосток' 'Владикавказ' 'Владимир' 'Волгоград' 'Волжский' 'Вологда'\n",
      " 'Воронеж' 'Грозный' 'Екатеринбург' 'Иваново' 'Ижевск' 'Иркутск' 'Казань'\n",
      " 'Калининград' 'Калуга' 'Кемерово' 'Киров' 'Кострома' 'Краснодар'\n",
      " 'Красноярск' 'Курган' 'Курск' 'Липецк' 'Магнитогорск' 'Махачкала'\n",
      " 'Москва' 'Мурманск' 'Набережные Челны' 'Нижневартовск' 'Нижний Новгород'\n",
      " 'Нижний Тагил' 'Новокузнецк' 'Новороссийск' 'Новосибирск' 'Омск'\n",
      " 'Оренбург' 'Орёл' 'Пенза' 'Пермь' 'Петрозаводск' 'Подольск'\n",
      " 'Ростов-на-Дону' 'Рязань' 'Самара' 'Санкт-Петербург' 'Саранск' 'Саратов'\n",
      " 'Севастополь' 'Смоленск' 'Сочи' 'Ставрополь' 'Стерлитамак' 'Сургут'\n",
      " 'Тамбов' 'Тверь' 'Тольятти' 'Томск' 'Тула' 'Тюмень' 'Улан-Удэ'\n",
      " 'Ульяновск' 'Уфа' 'Хабаровск' 'Химки' 'Чебоксары' 'Челябинск' 'Череповец'\n",
      " 'Чита' 'Якутск' 'Ярославль']\n"
     ]
    }
   ],
   "source": [
    "print(users['city'].sort_values().unique())"
   ]
  },
  {
   "cell_type": "markdown",
   "metadata": {},
   "source": [
    "По столбцу 'city' дубликатов и пропусков мы не видим."
   ]
  },
  {
   "cell_type": "markdown",
   "metadata": {},
   "source": [
    "Данные столбцов 'reg_date' и 'churn_date' нужно будет преобразовать к типу datetime для удобства дальнейшей обработки"
   ]
  },
  {
   "cell_type": "code",
   "execution_count": 8,
   "metadata": {},
   "outputs": [
    {
     "name": "stdout",
     "output_type": "stream",
     "text": [
      "['ultra' 'smart']\n"
     ]
    }
   ],
   "source": [
    "print(users['tariff'].unique())"
   ]
  },
  {
   "cell_type": "markdown",
   "metadata": {},
   "source": [
    "В столбце 'tariff' данные заполнены корректно. Пропусков нет."
   ]
  },
  {
   "cell_type": "code",
   "execution_count": 9,
   "metadata": {},
   "outputs": [
    {
     "name": "stdout",
     "output_type": "stream",
     "text": [
      "Дубликатов в таблице: 0\n"
     ]
    }
   ],
   "source": [
    "print ('Дубликатов в таблице:', users.duplicated().sum())"
   ]
  },
  {
   "cell_type": "code",
   "execution_count": 10,
   "metadata": {},
   "outputs": [],
   "source": [
    "calls = pd.read_csv('')"
   ]
  },
  {
   "cell_type": "code",
   "execution_count": 11,
   "metadata": {
    "scrolled": false
   },
   "outputs": [
    {
     "name": "stdout",
     "output_type": "stream",
     "text": [
      "<class 'pandas.core.frame.DataFrame'>\n",
      "RangeIndex: 202607 entries, 0 to 202606\n",
      "Data columns (total 4 columns):\n",
      " #   Column     Non-Null Count   Dtype  \n",
      "---  ------     --------------   -----  \n",
      " 0   id         202607 non-null  object \n",
      " 1   call_date  202607 non-null  object \n",
      " 2   duration   202607 non-null  float64\n",
      " 3   user_id    202607 non-null  int64  \n",
      "dtypes: float64(1), int64(1), object(2)\n",
      "memory usage: 6.2+ MB\n",
      "       id   call_date  duration  user_id\n",
      "0  1000_0  2018-07-25      0.00     1000\n",
      "1  1000_1  2018-08-17      0.00     1000\n",
      "2  1000_2  2018-06-11      2.85     1000\n",
      "3  1000_3  2018-09-21     13.80     1000\n",
      "4  1000_4  2018-12-15      5.18     1000\n"
     ]
    }
   ],
   "source": [
    "calls.info()\n",
    "print (calls.head())"
   ]
  },
  {
   "cell_type": "code",
   "execution_count": 12,
   "metadata": {},
   "outputs": [
    {
     "data": {
      "text/html": [
       "<div>\n",
       "<style scoped>\n",
       "    .dataframe tbody tr th:only-of-type {\n",
       "        vertical-align: middle;\n",
       "    }\n",
       "\n",
       "    .dataframe tbody tr th {\n",
       "        vertical-align: top;\n",
       "    }\n",
       "\n",
       "    .dataframe thead th {\n",
       "        text-align: right;\n",
       "    }\n",
       "</style>\n",
       "<table border=\"1\" class=\"dataframe\">\n",
       "  <thead>\n",
       "    <tr style=\"text-align: right;\">\n",
       "      <th></th>\n",
       "      <th>duration</th>\n",
       "      <th>user_id</th>\n",
       "    </tr>\n",
       "  </thead>\n",
       "  <tbody>\n",
       "    <tr>\n",
       "      <th>count</th>\n",
       "      <td>202607.000000</td>\n",
       "      <td>202607.000000</td>\n",
       "    </tr>\n",
       "    <tr>\n",
       "      <th>mean</th>\n",
       "      <td>6.755887</td>\n",
       "      <td>1253.940619</td>\n",
       "    </tr>\n",
       "    <tr>\n",
       "      <th>std</th>\n",
       "      <td>5.843365</td>\n",
       "      <td>144.722751</td>\n",
       "    </tr>\n",
       "    <tr>\n",
       "      <th>min</th>\n",
       "      <td>0.000000</td>\n",
       "      <td>1000.000000</td>\n",
       "    </tr>\n",
       "    <tr>\n",
       "      <th>25%</th>\n",
       "      <td>1.300000</td>\n",
       "      <td>1126.000000</td>\n",
       "    </tr>\n",
       "    <tr>\n",
       "      <th>50%</th>\n",
       "      <td>6.000000</td>\n",
       "      <td>1260.000000</td>\n",
       "    </tr>\n",
       "    <tr>\n",
       "      <th>75%</th>\n",
       "      <td>10.700000</td>\n",
       "      <td>1379.000000</td>\n",
       "    </tr>\n",
       "    <tr>\n",
       "      <th>max</th>\n",
       "      <td>38.000000</td>\n",
       "      <td>1499.000000</td>\n",
       "    </tr>\n",
       "  </tbody>\n",
       "</table>\n",
       "</div>"
      ],
      "text/plain": [
       "            duration        user_id\n",
       "count  202607.000000  202607.000000\n",
       "mean        6.755887    1253.940619\n",
       "std         5.843365     144.722751\n",
       "min         0.000000    1000.000000\n",
       "25%         1.300000    1126.000000\n",
       "50%         6.000000    1260.000000\n",
       "75%        10.700000    1379.000000\n",
       "max        38.000000    1499.000000"
      ]
     },
     "execution_count": 12,
     "metadata": {},
     "output_type": "execute_result"
    }
   ],
   "source": [
    "calls.describe()"
   ]
  },
  {
   "cell_type": "code",
   "execution_count": 13,
   "metadata": {},
   "outputs": [
    {
     "name": "stdout",
     "output_type": "stream",
     "text": [
      "Дубликатов в таблице: 0\n"
     ]
    }
   ],
   "source": [
    "print ('Дубликатов в таблице:', calls.duplicated().sum())"
   ]
  },
  {
   "cell_type": "markdown",
   "metadata": {},
   "source": [
    "В датафрейме calls, содержащем информацию о звонках пользователей нет пропусков. Не видно аномальных значений. Данные 'call_date' столбца нужно будет привести к типу datetime"
   ]
  },
  {
   "cell_type": "code",
   "execution_count": 14,
   "metadata": {
    "scrolled": true
   },
   "outputs": [],
   "source": [
    "messages = pd.read_csv('')"
   ]
  },
  {
   "cell_type": "code",
   "execution_count": 15,
   "metadata": {},
   "outputs": [
    {
     "name": "stdout",
     "output_type": "stream",
     "text": [
      "<class 'pandas.core.frame.DataFrame'>\n",
      "RangeIndex: 123036 entries, 0 to 123035\n",
      "Data columns (total 3 columns):\n",
      " #   Column        Non-Null Count   Dtype \n",
      "---  ------        --------------   ----- \n",
      " 0   id            123036 non-null  object\n",
      " 1   message_date  123036 non-null  object\n",
      " 2   user_id       123036 non-null  int64 \n",
      "dtypes: int64(1), object(2)\n",
      "memory usage: 2.8+ MB\n",
      "       id message_date  user_id\n",
      "0  1000_0   2018-06-27     1000\n",
      "1  1000_1   2018-10-08     1000\n",
      "2  1000_2   2018-08-04     1000\n",
      "3  1000_3   2018-06-16     1000\n",
      "4  1000_4   2018-12-05     1000\n"
     ]
    }
   ],
   "source": [
    "messages.info()\n",
    "print (messages.head())"
   ]
  },
  {
   "cell_type": "code",
   "execution_count": 16,
   "metadata": {},
   "outputs": [
    {
     "name": "stdout",
     "output_type": "stream",
     "text": [
      "Дубликатов в таблице: 0\n"
     ]
    }
   ],
   "source": [
    "print ('Дубликатов в таблице:', messages.duplicated().sum())"
   ]
  },
  {
   "cell_type": "markdown",
   "metadata": {},
   "source": [
    "В датафрейме messages, содержащем информацию о звонках пользователей нет пропусков. Не видно аномальных значений. Данные 'message_date' столбца нужно будет привести к типу datetime."
   ]
  },
  {
   "cell_type": "code",
   "execution_count": 17,
   "metadata": {},
   "outputs": [],
   "source": [
    "internet = pd.read_csv('')"
   ]
  },
  {
   "cell_type": "code",
   "execution_count": 18,
   "metadata": {},
   "outputs": [
    {
     "name": "stdout",
     "output_type": "stream",
     "text": [
      "<class 'pandas.core.frame.DataFrame'>\n",
      "RangeIndex: 149396 entries, 0 to 149395\n",
      "Data columns (total 5 columns):\n",
      " #   Column        Non-Null Count   Dtype  \n",
      "---  ------        --------------   -----  \n",
      " 0   Unnamed: 0    149396 non-null  int64  \n",
      " 1   id            149396 non-null  object \n",
      " 2   mb_used       149396 non-null  float64\n",
      " 3   session_date  149396 non-null  object \n",
      " 4   user_id       149396 non-null  int64  \n",
      "dtypes: float64(1), int64(2), object(2)\n",
      "memory usage: 5.7+ MB\n",
      "   Unnamed: 0      id  mb_used session_date  user_id\n",
      "0           0  1000_0   112.95   2018-11-25     1000\n",
      "1           1  1000_1  1052.81   2018-09-07     1000\n",
      "2           2  1000_2  1197.26   2018-06-25     1000\n",
      "3           3  1000_3   550.27   2018-08-22     1000\n",
      "4           4  1000_4   302.56   2018-09-24     1000\n"
     ]
    }
   ],
   "source": [
    "internet.info()\n",
    "print (internet.head())"
   ]
  },
  {
   "cell_type": "code",
   "execution_count": 19,
   "metadata": {
    "scrolled": true
   },
   "outputs": [
    {
     "data": {
      "text/html": [
       "<div>\n",
       "<style scoped>\n",
       "    .dataframe tbody tr th:only-of-type {\n",
       "        vertical-align: middle;\n",
       "    }\n",
       "\n",
       "    .dataframe tbody tr th {\n",
       "        vertical-align: top;\n",
       "    }\n",
       "\n",
       "    .dataframe thead th {\n",
       "        text-align: right;\n",
       "    }\n",
       "</style>\n",
       "<table border=\"1\" class=\"dataframe\">\n",
       "  <thead>\n",
       "    <tr style=\"text-align: right;\">\n",
       "      <th></th>\n",
       "      <th>Unnamed: 0</th>\n",
       "      <th>mb_used</th>\n",
       "      <th>user_id</th>\n",
       "    </tr>\n",
       "  </thead>\n",
       "  <tbody>\n",
       "    <tr>\n",
       "      <th>count</th>\n",
       "      <td>149396.000000</td>\n",
       "      <td>149396.000000</td>\n",
       "      <td>149396.000000</td>\n",
       "    </tr>\n",
       "    <tr>\n",
       "      <th>mean</th>\n",
       "      <td>74697.500000</td>\n",
       "      <td>370.192426</td>\n",
       "      <td>1252.099842</td>\n",
       "    </tr>\n",
       "    <tr>\n",
       "      <th>std</th>\n",
       "      <td>43127.054745</td>\n",
       "      <td>278.300951</td>\n",
       "      <td>144.050823</td>\n",
       "    </tr>\n",
       "    <tr>\n",
       "      <th>min</th>\n",
       "      <td>0.000000</td>\n",
       "      <td>0.000000</td>\n",
       "      <td>1000.000000</td>\n",
       "    </tr>\n",
       "    <tr>\n",
       "      <th>25%</th>\n",
       "      <td>37348.750000</td>\n",
       "      <td>138.187500</td>\n",
       "      <td>1130.000000</td>\n",
       "    </tr>\n",
       "    <tr>\n",
       "      <th>50%</th>\n",
       "      <td>74697.500000</td>\n",
       "      <td>348.015000</td>\n",
       "      <td>1251.000000</td>\n",
       "    </tr>\n",
       "    <tr>\n",
       "      <th>75%</th>\n",
       "      <td>112046.250000</td>\n",
       "      <td>559.552500</td>\n",
       "      <td>1380.000000</td>\n",
       "    </tr>\n",
       "    <tr>\n",
       "      <th>max</th>\n",
       "      <td>149395.000000</td>\n",
       "      <td>1724.830000</td>\n",
       "      <td>1499.000000</td>\n",
       "    </tr>\n",
       "  </tbody>\n",
       "</table>\n",
       "</div>"
      ],
      "text/plain": [
       "          Unnamed: 0        mb_used        user_id\n",
       "count  149396.000000  149396.000000  149396.000000\n",
       "mean    74697.500000     370.192426    1252.099842\n",
       "std     43127.054745     278.300951     144.050823\n",
       "min         0.000000       0.000000    1000.000000\n",
       "25%     37348.750000     138.187500    1130.000000\n",
       "50%     74697.500000     348.015000    1251.000000\n",
       "75%    112046.250000     559.552500    1380.000000\n",
       "max    149395.000000    1724.830000    1499.000000"
      ]
     },
     "execution_count": 19,
     "metadata": {},
     "output_type": "execute_result"
    }
   ],
   "source": [
    "internet.describe()"
   ]
  },
  {
   "cell_type": "code",
   "execution_count": 20,
   "metadata": {},
   "outputs": [
    {
     "name": "stdout",
     "output_type": "stream",
     "text": [
      "Дубликатов в таблице: 0\n"
     ]
    }
   ],
   "source": [
    "print ('Дубликатов в таблице:', internet.duplicated().sum())"
   ]
  },
  {
   "cell_type": "markdown",
   "metadata": {},
   "source": [
    "В датафрейме internet, содержащем информацию о звонках пользователей нет пропусков. Не видно аномальных значений. Данные 'session_date' столбца нужно будет привести к типу datetime. В датафрейме присутствует лишний столбец 'Unnamed: 0'. Он дублирует индексы. Его мы удалим."
   ]
  },
  {
   "cell_type": "code",
   "execution_count": 21,
   "metadata": {},
   "outputs": [
    {
     "name": "stdout",
     "output_type": "stream",
     "text": [
      "Нулевых интернет-сессий: 0.13 %\n"
     ]
    },
    {
     "data": {
      "image/png": "[encoded data removed]",
      "text/plain": [
       "<Figure size 432x288 with 1 Axes>"
      ]
     },
     "metadata": {
      "needs_background": "light"
     },
     "output_type": "display_data"
    }
   ],
   "source": [
    "# Комментарий ревьюера 2\n",
    "temp = internet.copy()\n",
    "temp['mb_used'].hist(bins = 50)\n",
    "print('Нулевых интернет-сессий:',round(temp['mb_used'].value_counts().sort_index()[0]/temp['mb_used'].count(),2), '%')"
   ]
  },
  {
   "cell_type": "code",
   "execution_count": 22,
   "metadata": {},
   "outputs": [],
   "source": [
    "tariffs = pd.read_csv('')"
   ]
  },
  {
   "cell_type": "code",
   "execution_count": 23,
   "metadata": {},
   "outputs": [
    {
     "name": "stdout",
     "output_type": "stream",
     "text": [
      "<class 'pandas.core.frame.DataFrame'>\n",
      "RangeIndex: 2 entries, 0 to 1\n",
      "Data columns (total 8 columns):\n",
      " #   Column                 Non-Null Count  Dtype \n",
      "---  ------                 --------------  ----- \n",
      " 0   messages_included      2 non-null      int64 \n",
      " 1   mb_per_month_included  2 non-null      int64 \n",
      " 2   minutes_included       2 non-null      int64 \n",
      " 3   rub_monthly_fee        2 non-null      int64 \n",
      " 4   rub_per_gb             2 non-null      int64 \n",
      " 5   rub_per_message        2 non-null      int64 \n",
      " 6   rub_per_minute         2 non-null      int64 \n",
      " 7   tariff_name            2 non-null      object\n",
      "dtypes: int64(7), object(1)\n",
      "memory usage: 256.0+ bytes\n",
      "   messages_included  mb_per_month_included  minutes_included  \\\n",
      "0                 50                  15360               500   \n",
      "1               1000                  30720              3000   \n",
      "\n",
      "   rub_monthly_fee  rub_per_gb  rub_per_message  rub_per_minute tariff_name  \n",
      "0              550         200                3               3       smart  \n",
      "1             1950         150                1               1       ultra  \n"
     ]
    }
   ],
   "source": [
    "tariffs.info()\n",
    "print (tariffs.head())"
   ]
  },
  {
   "cell_type": "markdown",
   "metadata": {},
   "source": [
    "В датафрейме tariffs нет ничего, вызывающего вопросы."
   ]
  },
  {
   "cell_type": "markdown",
   "metadata": {},
   "source": [
    "### Выводы по результатам предварительного анализа данных"
   ]
  },
  {
   "cell_type": "markdown",
   "metadata": {},
   "source": [
    "1. Столбцы 'message_date' в датафрейме messages, 'call_date' в calls, 'session_date' в internet, 'churn_date' и 'reg_date' нужно привести к типу datetime.\n",
    "2. Cтолбец 'Unnamed: 0' в internet нужно удалить.\n",
    "3. Нужно заполнить пропуски в столбце 'churn_date' в users значением 31 декабря 2018 года, полагая, что контракт дейстовал, как минимум до конца 2018 года (а это период нашего анализа).\n"
   ]
  },
  {
   "cell_type": "markdown",
   "metadata": {},
   "source": [
    "## Предобработка данных"
   ]
  },
  {
   "cell_type": "markdown",
   "metadata": {},
   "source": [
    "### Предварительная обработка данных"
   ]
  },
  {
   "cell_type": "markdown",
   "metadata": {},
   "source": [
    "Удалим столбец 'Unnamed: 0' с использованием метода drop "
   ]
  },
  {
   "cell_type": "code",
   "execution_count": 24,
   "metadata": {
    "scrolled": true
   },
   "outputs": [
    {
     "name": "stdout",
     "output_type": "stream",
     "text": [
      "<class 'pandas.core.frame.DataFrame'>\n",
      "RangeIndex: 149396 entries, 0 to 149395\n",
      "Data columns (total 4 columns):\n",
      " #   Column        Non-Null Count   Dtype  \n",
      "---  ------        --------------   -----  \n",
      " 0   id            149396 non-null  object \n",
      " 1   mb_used       149396 non-null  float64\n",
      " 2   session_date  149396 non-null  object \n",
      " 3   user_id       149396 non-null  int64  \n",
      "dtypes: float64(1), int64(1), object(2)\n",
      "memory usage: 4.6+ MB\n"
     ]
    }
   ],
   "source": [
    "internet=internet.drop(columns=['Unnamed: 0'],axis=1)\n",
    "internet.info ()"
   ]
  },
  {
   "cell_type": "code",
   "execution_count": 25,
   "metadata": {},
   "outputs": [
    {
     "name": "stdout",
     "output_type": "stream",
     "text": [
      "   user_id  age  churn_date         city first_name  last_name    reg_date  \\\n",
      "0     1000   52  2018-12-31    Краснодар     Рафаил  Верещагин  2018-05-25   \n",
      "1     1001   41  2018-12-31       Москва       Иван       Ежов  2018-11-01   \n",
      "2     1002   59  2018-12-31  Стерлитамак    Евгений  Абрамович  2018-06-17   \n",
      "3     1003   23  2018-12-31       Москва      Белла   Белякова  2018-08-17   \n",
      "4     1004   68  2018-12-31  Новокузнецк    Татьяна   Авдеенко  2018-05-14   \n",
      "\n",
      "  tariff  \n",
      "0  ultra  \n",
      "1  smart  \n",
      "2  smart  \n",
      "3  ultra  \n",
      "4  ultra  \n"
     ]
    }
   ],
   "source": [
    "users['churn_date']=users['churn_date'].fillna('2018-12-31')\n",
    "print(users.head())"
   ]
  },
  {
   "cell_type": "code",
   "execution_count": 26,
   "metadata": {},
   "outputs": [
    {
     "name": "stdout",
     "output_type": "stream",
     "text": [
      "<class 'pandas.core.frame.DataFrame'>\n",
      "RangeIndex: 500 entries, 0 to 499\n",
      "Data columns (total 8 columns):\n",
      " #   Column      Non-Null Count  Dtype         \n",
      "---  ------      --------------  -----         \n",
      " 0   user_id     500 non-null    int64         \n",
      " 1   age         500 non-null    int64         \n",
      " 2   churn_date  500 non-null    datetime64[ns]\n",
      " 3   city        500 non-null    object        \n",
      " 4   first_name  500 non-null    object        \n",
      " 5   last_name   500 non-null    object        \n",
      " 6   reg_date    500 non-null    datetime64[ns]\n",
      " 7   tariff      500 non-null    object        \n",
      "dtypes: datetime64[ns](2), int64(2), object(4)\n",
      "memory usage: 31.4+ KB\n"
     ]
    }
   ],
   "source": [
    "users['reg_date'] = pd.to_datetime(users['reg_date'], format='%Y-%m-%d')\n",
    "users['churn_date'] = pd.to_datetime(users['churn_date'], format='%Y-%m-%d')\n",
    "users.info()"
   ]
  },
  {
   "cell_type": "code",
   "execution_count": 27,
   "metadata": {},
   "outputs": [
    {
     "name": "stdout",
     "output_type": "stream",
     "text": [
      "<class 'pandas.core.frame.DataFrame'>\n",
      "RangeIndex: 123036 entries, 0 to 123035\n",
      "Data columns (total 3 columns):\n",
      " #   Column        Non-Null Count   Dtype         \n",
      "---  ------        --------------   -----         \n",
      " 0   id            123036 non-null  object        \n",
      " 1   message_date  123036 non-null  datetime64[ns]\n",
      " 2   user_id       123036 non-null  int64         \n",
      "dtypes: datetime64[ns](1), int64(1), object(1)\n",
      "memory usage: 2.8+ MB\n",
      "<class 'pandas.core.frame.DataFrame'>\n",
      "RangeIndex: 202607 entries, 0 to 202606\n",
      "Data columns (total 4 columns):\n",
      " #   Column     Non-Null Count   Dtype         \n",
      "---  ------     --------------   -----         \n",
      " 0   id         202607 non-null  object        \n",
      " 1   call_date  202607 non-null  datetime64[ns]\n",
      " 2   duration   202607 non-null  float64       \n",
      " 3   user_id    202607 non-null  int64         \n",
      "dtypes: datetime64[ns](1), float64(1), int64(1), object(1)\n",
      "memory usage: 6.2+ MB\n",
      "<class 'pandas.core.frame.DataFrame'>\n",
      "RangeIndex: 149396 entries, 0 to 149395\n",
      "Data columns (total 4 columns):\n",
      " #   Column        Non-Null Count   Dtype         \n",
      "---  ------        --------------   -----         \n",
      " 0   id            149396 non-null  object        \n",
      " 1   mb_used       149396 non-null  float64       \n",
      " 2   session_date  149396 non-null  datetime64[ns]\n",
      " 3   user_id       149396 non-null  int64         \n",
      "dtypes: datetime64[ns](1), float64(1), int64(1), object(1)\n",
      "memory usage: 4.6+ MB\n"
     ]
    }
   ],
   "source": [
    "messages['message_date'] = pd.to_datetime(messages['message_date'], format='%Y-%m-%d')\n",
    "calls['call_date'] = pd.to_datetime(calls['call_date'], format='%Y-%m-%d')\n",
    "internet['session_date'] = pd.to_datetime(internet['session_date'], format='%Y-%m-%d')\n",
    "messages.info()\n",
    "calls.info()\n",
    "internet.info()"
   ]
  },
  {
   "cell_type": "markdown",
   "metadata": {},
   "source": [
    "### Результаты обработки"
   ]
  },
  {
   "cell_type": "markdown",
   "metadata": {},
   "source": [
    "1. В столбцах 'message_date' в датафрейме messages, 'call_date' в calls, 'session_date' в internet, 'churn_date' и 'reg_date' заменили тип на datetime.\n",
    "2. Cтолбец 'Unnamed: 0' в internet удален.\n",
    "3. Заполнили пропуски в столбце 'churn_date' в users значением 31 декабря 2018 года, полагая, что контракт дейстовал, как минимум до конца 2018 года (а это период нашего анализа)."
   ]
  },
  {
   "cell_type": "markdown",
   "metadata": {},
   "source": [
    "## Расчёты и добавление результатов в таблицы. Создание дополнительных таблиц."
   ]
  },
  {
   "cell_type": "markdown",
   "metadata": {},
   "source": [
    "### План работы"
   ]
  },
  {
   "cell_type": "markdown",
   "metadata": {},
   "source": [
    "1. На основании данных из таблицы messages нам нужно получить таблицу, содержащую id пользователей и данные о количестве сообщений по месяцам.\n",
    "2. На основании данных из таблицы calls нам нужно получить таблицу, содержащую id пользователей и данные о количестве использованных минут по месяцам. При этом помним, что данные о количестве минут каждого разговора округляются в большую сторону. Данные, где длительность 0.0 не учитываем. Т.к. это пропущенные звонки, а значит они не тарифицировались.\n",
    "3. На основании данных из таблицы internet нам нужно получить таблицу, содержащую id пользователей и количество гигабайт по месяцам. При этом помним:\n",
    "    - 1 Гб это 1024 Мб,\n",
    "    - суммируются данные по всем сессиям за месяц и округляются до целых Гб в большую сторону.\n",
    "4. Создать сводную таблицу, куда войдут id пользователей, данные о потраченных минутах, сообщениях и гигабайтах, по видам услуг. Данные о суммарных затратах пользователей по месяцам.\n"
   ]
  },
  {
   "cell_type": "markdown",
   "metadata": {},
   "source": [
    "### Обработка таблицы messages"
   ]
  },
  {
   "cell_type": "code",
   "execution_count": 28,
   "metadata": {},
   "outputs": [
    {
     "name": "stdout",
     "output_type": "stream",
     "text": [
      "         id message_date  user_id  month\n",
      "0    1000_0   2018-06-27     1000      6\n",
      "1    1000_1   2018-10-08     1000     10\n",
      "2    1000_2   2018-08-04     1000      8\n",
      "3    1000_3   2018-06-16     1000      6\n",
      "4    1000_4   2018-12-05     1000     12\n",
      "5    1000_5   2018-06-20     1000      6\n",
      "6    1000_6   2018-11-19     1000     11\n",
      "7    1000_7   2018-10-29     1000     10\n",
      "8    1000_8   2018-06-25     1000      6\n",
      "9    1000_9   2018-12-18     1000     12\n",
      "10  1000_10   2018-05-30     1000      5\n",
      "11  1000_11   2018-07-06     1000      7\n",
      "12  1000_12   2018-08-20     1000      8\n",
      "13  1000_13   2018-10-30     1000     10\n",
      "14  1000_14   2018-09-14     1000      9\n",
      "15  1000_15   2018-08-28     1000      8\n",
      "16  1000_16   2018-06-25     1000      6\n",
      "17  1000_17   2018-06-29     1000      6\n",
      "18  1000_18   2018-07-07     1000      7\n",
      "19  1000_19   2018-05-29     1000      5\n"
     ]
    }
   ],
   "source": [
    "messages['month']=pd.DatetimeIndex(messages['message_date']).month\n",
    "print (messages.head(20))"
   ]
  },
  {
   "cell_type": "markdown",
   "metadata": {},
   "source": [
    "<font color='DarkBlue'><b>Комментарий ревьюера</b></font><br>\n",
    "<font color='DarkGreen'>👌 Хорошо, добавили колонку с категорией месяца.</font>"
   ]
  },
  {
   "cell_type": "markdown",
   "metadata": {},
   "source": [
    "Используя сводную таблицу с индексами по столбцам 'user_id', 'month' посчитаем количество значений, например по id. Далее уберем мультииндекс, используя reset_index(). Затем удалим лишние столбцы."
   ]
  },
  {
   "cell_type": "code",
   "execution_count": 29,
   "metadata": {},
   "outputs": [
    {
     "name": "stdout",
     "output_type": "stream",
     "text": [
      "    user_id  month  mes_count\n",
      "0      1000      5         22\n",
      "1      1000      6         60\n",
      "2      1000      7         75\n",
      "3      1000      8         81\n",
      "4      1000      9         57\n",
      "5      1000     10         73\n",
      "6      1000     11         58\n",
      "7      1000     12         70\n",
      "8      1002      6          4\n",
      "9      1002      7         11\n",
      "10     1002      8         13\n",
      "11     1002      9          4\n",
      "12     1002     10         10\n",
      "13     1002     11         16\n",
      "14     1002     12         12\n",
      "15     1003      8         37\n",
      "16     1003      9         91\n",
      "17     1003     10         83\n",
      "18     1003     11         94\n",
      "19     1003     12         75\n"
     ]
    }
   ],
   "source": [
    "messages_aggregated=messages.pivot_table(index=['user_id', 'month'], aggfunc='count')\n",
    "messages_aggregated=messages_aggregated.reset_index()\n",
    "messages_aggregated ['mes_count']=messages_aggregated ['message_date']\n",
    "messages_aggregated=messages_aggregated.drop(columns=['id','message_date'],axis=1)\n",
    "print (messages_aggregated.head(20))"
   ]
  },
  {
   "cell_type": "markdown",
   "metadata": {},
   "source": [
    "### Обработка таблицы calls"
   ]
  },
  {
   "cell_type": "markdown",
   "metadata": {},
   "source": [
    "Вставим столбец с номером месяца, когда проводился звонок, а также выполним округление минут по каждому звонку, используя np.ceil()"
   ]
  },
  {
   "cell_type": "code",
   "execution_count": 30,
   "metadata": {},
   "outputs": [
    {
     "name": "stdout",
     "output_type": "stream",
     "text": [
      "         id  call_date  duration  user_id  month  duration_rounded\n",
      "0    1000_0 2018-07-25      0.00     1000      7               0.0\n",
      "1    1000_1 2018-08-17      0.00     1000      8               0.0\n",
      "2    1000_2 2018-06-11      2.85     1000      6               3.0\n",
      "3    1000_3 2018-09-21     13.80     1000      9              14.0\n",
      "4    1000_4 2018-12-15      5.18     1000     12               6.0\n",
      "5    1000_5 2018-11-02      0.00     1000     11               0.0\n",
      "6    1000_6 2018-10-18      0.00     1000     10               0.0\n",
      "7    1000_7 2018-08-22     18.31     1000      8              19.0\n",
      "8    1000_8 2018-09-15     18.44     1000      9              19.0\n",
      "9    1000_9 2018-08-15      0.00     1000      8               0.0\n",
      "10  1000_10 2018-08-22      5.03     1000      8               6.0\n",
      "11  1000_11 2018-05-28     18.82     1000      5              19.0\n",
      "12  1000_12 2018-07-05      2.02     1000      7               3.0\n",
      "13  1000_13 2018-09-29      7.15     1000      9               8.0\n",
      "14  1000_14 2018-12-11      9.13     1000     12              10.0\n",
      "15  1000_15 2018-07-27      9.36     1000      7              10.0\n",
      "16  1000_16 2018-08-11      4.08     1000      8               5.0\n",
      "17  1000_17 2018-08-02     12.63     1000      8              13.0\n",
      "18  1000_18 2018-06-15      4.46     1000      6               5.0\n",
      "19  1000_19 2018-11-02     15.08     1000     11              16.0\n"
     ]
    }
   ],
   "source": [
    "calls['month']=pd.DatetimeIndex(calls['call_date']).month\n",
    "calls['duration_rounded']=np.ceil(calls['duration'])\n",
    "print (calls.head(20))"
   ]
  },
  {
   "cell_type": "markdown",
   "metadata": {},
   "source": [
    "Создадим сводную таблицу с индексацией по 'user_id', 'month' и суммой по столбцу 'duration_rounded'. Уберем мультииндекс. И переименуем итоговый столбец в 'calls_time_m'"
   ]
  },
  {
   "cell_type": "code",
   "execution_count": 31,
   "metadata": {},
   "outputs": [
    {
     "name": "stdout",
     "output_type": "stream",
     "text": [
      "    user_id  month  calls_time_m\n",
      "0      1000      5         159.0\n",
      "1      1000      6         172.0\n",
      "2      1000      7         340.0\n",
      "3      1000      8         408.0\n",
      "4      1000      9         466.0\n",
      "5      1000     10         350.0\n",
      "6      1000     11         338.0\n",
      "7      1000     12         333.0\n",
      "8      1001     11         430.0\n",
      "9      1001     12         414.0\n",
      "10     1002      6         117.0\n",
      "11     1002      7         214.0\n",
      "12     1002      8         289.0\n",
      "13     1002      9         206.0\n",
      "14     1002     10         212.0\n",
      "15     1002     11         243.0\n",
      "16     1002     12         236.0\n",
      "17     1003      8         380.0\n",
      "18     1003      9         961.0\n",
      "19     1003     10         855.0\n"
     ]
    }
   ],
   "source": [
    "calls_aggregated=calls.pivot_table(index=['user_id', 'month'],values='duration_rounded', aggfunc='sum')\n",
    "calls_aggregated=calls_aggregated.reset_index()\n",
    "calls_aggregated = calls_aggregated.rename(columns={'duration_rounded': 'calls_time_m'})\n",
    "print (calls_aggregated.head(20))"
   ]
  },
  {
   "cell_type": "markdown",
   "metadata": {},
   "source": [
    "### Обработка таблицы internet"
   ]
  },
  {
   "cell_type": "markdown",
   "metadata": {},
   "source": [
    "Вставим столбец с номером месяца, когда была интернет сессия. Создадим сводную таблицу с индексацией по 'user_id', 'month' и суммой по столбцу 'mb_used'. Уберем мультииндекс. Вставим столбец 'gb_used_m', куда поместим итоговые значения с округлением в большую сторону до Гб (как делает компания)."
   ]
  },
  {
   "cell_type": "code",
   "execution_count": 32,
   "metadata": {},
   "outputs": [
    {
     "name": "stdout",
     "output_type": "stream",
     "text": [
      "    user_id  month   mb_used\n",
      "0      1000      5   2253.49\n",
      "1      1000      6  23233.77\n",
      "2      1000      7  14003.64\n",
      "3      1000      8  14055.93\n",
      "4      1000      9  14568.91\n",
      "5      1000     10  14702.49\n",
      "6      1000     11  14756.47\n",
      "7      1000     12   9817.61\n",
      "8      1001     11  18429.34\n",
      "9      1001     12  14036.66\n",
      "10     1002      6  10856.82\n",
      "11     1002      7  17580.10\n",
      "12     1002      8  20319.26\n",
      "13     1002      9  16691.08\n",
      "14     1002     10  13888.25\n",
      "15     1002     11  18587.28\n",
      "16     1002     12  18113.73\n",
      "17     1003      8   8565.21\n",
      "18     1003      9  12468.87\n",
      "19     1003     10  14768.14\n"
     ]
    }
   ],
   "source": [
    "internet['month']=pd.DatetimeIndex(internet['session_date']).month\n",
    "internet_aggregated=internet.pivot_table(index=['user_id', 'month'],values='mb_used', aggfunc='sum')\n",
    "internet_aggregated=internet_aggregated.reset_index()\n",
    "#internet_aggregated['gb_used_m']=np.ceil(internet_aggregated['mb_used']/1024)\n",
    "#internet_aggregated=internet_aggregated.drop(columns=['mb_used'],axis=1)\n",
    "print (internet_aggregated.head(20))"
   ]
  },
  {
   "cell_type": "markdown",
   "metadata": {},
   "source": [
    "Удалим ставший ненужным столбец 'mb_used'"
   ]
  },
  {
   "cell_type": "markdown",
   "metadata": {},
   "source": [
    "### Создание сводной таблицы"
   ]
  },
  {
   "cell_type": "markdown",
   "metadata": {},
   "source": [
    "messages_aggregatedВыполним попарное слияние таблиц internet_aggregated, calls_aggregated и users. "
   ]
  },
  {
   "cell_type": "code",
   "execution_count": 33,
   "metadata": {},
   "outputs": [
    {
     "name": "stdout",
     "output_type": "stream",
     "text": [
      "<class 'pandas.core.frame.DataFrame'>\n",
      "Int64Index: 3214 entries, 0 to 3213\n",
      "Data columns (total 4 columns):\n",
      " #   Column        Non-Null Count  Dtype  \n",
      "---  ------        --------------  -----  \n",
      " 0   user_id       3214 non-null   int64  \n",
      " 1   month         3214 non-null   int64  \n",
      " 2   mb_used       3203 non-null   float64\n",
      " 3   calls_time_m  3174 non-null   float64\n",
      "dtypes: float64(2), int64(2)\n",
      "memory usage: 125.5 KB\n",
      "   user_id  month   mb_used  calls_time_m\n",
      "0     1000      5   2253.49         159.0\n",
      "1     1000      6  23233.77         172.0\n",
      "2     1000      7  14003.64         340.0\n",
      "3     1000      8  14055.93         408.0\n",
      "4     1000      9  14568.91         466.0\n",
      "5     1000     10  14702.49         350.0\n",
      "6     1000     11  14756.47         338.0\n",
      "7     1000     12   9817.61         333.0\n",
      "8     1001     11  18429.34         430.0\n",
      "9     1001     12  14036.66         414.0\n"
     ]
    }
   ],
   "source": [
    "table_merged_1=internet_aggregated.merge(calls_aggregated, on=['user_id','month'], how='outer') \n",
    "table_merged_1.info()\n",
    "print(table_merged_1.head(10))"
   ]
  },
  {
   "cell_type": "code",
   "execution_count": 34,
   "metadata": {},
   "outputs": [
    {
     "name": "stdout",
     "output_type": "stream",
     "text": [
      "<class 'pandas.core.frame.DataFrame'>\n",
      "Int64Index: 3214 entries, 0 to 3213\n",
      "Data columns (total 5 columns):\n",
      " #   Column        Non-Null Count  Dtype  \n",
      "---  ------        --------------  -----  \n",
      " 0   user_id       3214 non-null   int64  \n",
      " 1   month         3214 non-null   int64  \n",
      " 2   mb_used       3203 non-null   float64\n",
      " 3   calls_time_m  3174 non-null   float64\n",
      " 4   mes_count     2717 non-null   float64\n",
      "dtypes: float64(3), int64(2)\n",
      "memory usage: 150.7 KB\n",
      "   user_id  month   mb_used  calls_time_m  mes_count\n",
      "0     1000      5   2253.49         159.0       22.0\n",
      "1     1000      6  23233.77         172.0       60.0\n",
      "2     1000      7  14003.64         340.0       75.0\n",
      "3     1000      8  14055.93         408.0       81.0\n",
      "4     1000      9  14568.91         466.0       57.0\n",
      "5     1000     10  14702.49         350.0       73.0\n",
      "6     1000     11  14756.47         338.0       58.0\n",
      "7     1000     12   9817.61         333.0       70.0\n",
      "8     1001     11  18429.34         430.0        NaN\n",
      "9     1001     12  14036.66         414.0        NaN\n"
     ]
    }
   ],
   "source": [
    "table_merged_2=table_merged_1.merge(messages_aggregated, on=['user_id','month'], how='outer')\n",
    "table_merged_2.info()\n",
    "print(table_merged_2.head(10))"
   ]
  },
  {
   "cell_type": "code",
   "execution_count": 35,
   "metadata": {},
   "outputs": [
    {
     "name": "stdout",
     "output_type": "stream",
     "text": [
      "<class 'pandas.core.frame.DataFrame'>\n",
      "Int64Index: 3216 entries, 0 to 3215\n",
      "Data columns (total 7 columns):\n",
      " #   Column        Non-Null Count  Dtype  \n",
      "---  ------        --------------  -----  \n",
      " 0   user_id       3216 non-null   int64  \n",
      " 1   month         3214 non-null   float64\n",
      " 2   mb_used       3203 non-null   float64\n",
      " 3   calls_time_m  3174 non-null   float64\n",
      " 4   mes_count     2717 non-null   float64\n",
      " 5   city          3216 non-null   object \n",
      " 6   tariff        3216 non-null   object \n",
      "dtypes: float64(4), int64(1), object(2)\n",
      "memory usage: 201.0+ KB\n",
      "   user_id  month   mb_used  calls_time_m  mes_count       city tariff\n",
      "0     1000    5.0   2253.49         159.0       22.0  Краснодар  ultra\n",
      "1     1000    6.0  23233.77         172.0       60.0  Краснодар  ultra\n",
      "2     1000    7.0  14003.64         340.0       75.0  Краснодар  ultra\n",
      "3     1000    8.0  14055.93         408.0       81.0  Краснодар  ultra\n",
      "4     1000    9.0  14568.91         466.0       57.0  Краснодар  ultra\n",
      "5     1000   10.0  14702.49         350.0       73.0  Краснодар  ultra\n",
      "6     1000   11.0  14756.47         338.0       58.0  Краснодар  ultra\n",
      "7     1000   12.0   9817.61         333.0       70.0  Краснодар  ultra\n",
      "8     1001   11.0  18429.34         430.0        NaN     Москва  smart\n",
      "9     1001   12.0  14036.66         414.0        NaN     Москва  smart\n"
     ]
    }
   ],
   "source": [
    "table_aggregated=table_merged_2.merge(users, on='user_id', how='outer')\n",
    "\n",
    "table_aggregated=table_aggregated.drop(columns=['age','churn_date', 'first_name', 'last_name', 'reg_date'],axis=1)\n",
    "table_aggregated.info()\n",
    "print(table_aggregated.head(10))"
   ]
  },
  {
   "cell_type": "markdown",
   "metadata": {},
   "source": [
    "Из полученной после слияний таблицы удалим столбцы 'age','churn_date', 'first_name', 'last_name', 'reg_date', которые нам не нужны далее. Кроме того, видим, что в таблице появились две дополнительный строки. Это пользователи, которые зарегистрировались, но не пользовались услугами. Их удалим, используя метод dropna."
   ]
  },
  {
   "cell_type": "code",
   "execution_count": 36,
   "metadata": {},
   "outputs": [
    {
     "name": "stdout",
     "output_type": "stream",
     "text": [
      "<class 'pandas.core.frame.DataFrame'>\n",
      "RangeIndex: 3214 entries, 0 to 3213\n",
      "Data columns (total 7 columns):\n",
      " #   Column        Non-Null Count  Dtype  \n",
      "---  ------        --------------  -----  \n",
      " 0   user_id       3214 non-null   int64  \n",
      " 1   month         3214 non-null   float64\n",
      " 2   mb_used       3203 non-null   float64\n",
      " 3   calls_time_m  3174 non-null   float64\n",
      " 4   mes_count     2717 non-null   float64\n",
      " 5   city          3214 non-null   object \n",
      " 6   tariff        3214 non-null   object \n",
      "dtypes: float64(4), int64(1), object(2)\n",
      "memory usage: 175.9+ KB\n",
      "   user_id  month   mb_used  calls_time_m  mes_count       city tariff\n",
      "0     1000    5.0   2253.49         159.0       22.0  Краснодар  ultra\n",
      "1     1000    6.0  23233.77         172.0       60.0  Краснодар  ultra\n",
      "2     1000    7.0  14003.64         340.0       75.0  Краснодар  ultra\n",
      "3     1000    8.0  14055.93         408.0       81.0  Краснодар  ultra\n",
      "4     1000    9.0  14568.91         466.0       57.0  Краснодар  ultra\n",
      "5     1000   10.0  14702.49         350.0       73.0  Краснодар  ultra\n",
      "6     1000   11.0  14756.47         338.0       58.0  Краснодар  ultra\n",
      "7     1000   12.0   9817.61         333.0       70.0  Краснодар  ultra\n",
      "8     1001   11.0  18429.34         430.0        NaN     Москва  smart\n",
      "9     1001   12.0  14036.66         414.0        NaN     Москва  smart\n"
     ]
    }
   ],
   "source": [
    "table_aggregated = table_aggregated.dropna(subset=['month']).reset_index(drop=True)\n",
    "table_aggregated.info()\n",
    "print(table_aggregated.head(10))"
   ]
  },
  {
   "cell_type": "code",
   "execution_count": 37,
   "metadata": {},
   "outputs": [
    {
     "data": {
      "text/plain": [
       "(498,)"
      ]
     },
     "execution_count": 37,
     "metadata": {},
     "output_type": "execute_result"
    }
   ],
   "source": [
    "# Комментарий ревьюера\n",
    "table_aggregated.user_id.unique().shape "
   ]
  },
  {
   "cell_type": "markdown",
   "metadata": {},
   "source": [
    "По недостающим данным из столбцов gb_used_m, calls_time_m, mes_count будем исходить из того, что если их за какой-то месяц нет, то пользователь соответствующей услугой не пользовался. Заменяем на 0, используя fiilna."
   ]
  },
  {
   "cell_type": "code",
   "execution_count": 38,
   "metadata": {},
   "outputs": [
    {
     "name": "stdout",
     "output_type": "stream",
     "text": [
      "<class 'pandas.core.frame.DataFrame'>\n",
      "RangeIndex: 3214 entries, 0 to 3213\n",
      "Data columns (total 7 columns):\n",
      " #   Column        Non-Null Count  Dtype  \n",
      "---  ------        --------------  -----  \n",
      " 0   user_id       3214 non-null   int64  \n",
      " 1   month         3214 non-null   float64\n",
      " 2   mb_used       3214 non-null   float64\n",
      " 3   calls_time_m  3214 non-null   float64\n",
      " 4   mes_count     3214 non-null   float64\n",
      " 5   city          3214 non-null   object \n",
      " 6   tariff        3214 non-null   object \n",
      "dtypes: float64(4), int64(1), object(2)\n",
      "memory usage: 175.9+ KB\n",
      "   user_id  month   mb_used  calls_time_m  mes_count       city tariff\n",
      "0     1000    5.0   2253.49         159.0       22.0  Краснодар  ultra\n",
      "1     1000    6.0  23233.77         172.0       60.0  Краснодар  ultra\n",
      "2     1000    7.0  14003.64         340.0       75.0  Краснодар  ultra\n",
      "3     1000    8.0  14055.93         408.0       81.0  Краснодар  ultra\n",
      "4     1000    9.0  14568.91         466.0       57.0  Краснодар  ultra\n",
      "5     1000   10.0  14702.49         350.0       73.0  Краснодар  ultra\n",
      "6     1000   11.0  14756.47         338.0       58.0  Краснодар  ultra\n",
      "7     1000   12.0   9817.61         333.0       70.0  Краснодар  ultra\n",
      "8     1001   11.0  18429.34         430.0        0.0     Москва  smart\n",
      "9     1001   12.0  14036.66         414.0        0.0     Москва  smart\n"
     ]
    }
   ],
   "source": [
    "table_aggregated['mb_used']=table_aggregated['mb_used'].fillna(0)\n",
    "table_aggregated['calls_time_m']=table_aggregated['calls_time_m'].fillna(0)\n",
    "table_aggregated['mes_count']=table_aggregated['mes_count'].fillna(0)\n",
    "table_aggregated.info()\n",
    "print(table_aggregated.head(10))"
   ]
  },
  {
   "cell_type": "markdown",
   "metadata": {},
   "source": [
    "Переименуем столбец 'tariff_name' в 'tariff' в таблице tariffs"
   ]
  },
  {
   "cell_type": "code",
   "execution_count": 39,
   "metadata": {},
   "outputs": [
    {
     "name": "stdout",
     "output_type": "stream",
     "text": [
      "   messages_included  mb_per_month_included  minutes_included  \\\n",
      "0                 50                  15360               500   \n",
      "1               1000                  30720              3000   \n",
      "\n",
      "   rub_monthly_fee  rub_per_gb  rub_per_message  rub_per_minute tariff  \n",
      "0              550         200                3               3  smart  \n",
      "1             1950         150                1               1  ultra  \n"
     ]
    }
   ],
   "source": [
    "tariffs = tariffs.rename(columns={'tariff_name': 'tariff'})\n",
    "print (tariffs)"
   ]
  },
  {
   "cell_type": "code",
   "execution_count": 40,
   "metadata": {},
   "outputs": [
    {
     "data": {
      "text/html": [
       "<div>\n",
       "<style scoped>\n",
       "    .dataframe tbody tr th:only-of-type {\n",
       "        vertical-align: middle;\n",
       "    }\n",
       "\n",
       "    .dataframe tbody tr th {\n",
       "        vertical-align: top;\n",
       "    }\n",
       "\n",
       "    .dataframe thead th {\n",
       "        text-align: right;\n",
       "    }\n",
       "</style>\n",
       "<table border=\"1\" class=\"dataframe\">\n",
       "  <thead>\n",
       "    <tr style=\"text-align: right;\">\n",
       "      <th></th>\n",
       "      <th>messages_included</th>\n",
       "      <th>mb_per_month_included</th>\n",
       "      <th>minutes_included</th>\n",
       "      <th>rub_monthly_fee</th>\n",
       "      <th>rub_per_gb</th>\n",
       "      <th>rub_per_message</th>\n",
       "      <th>rub_per_minute</th>\n",
       "      <th>tariff</th>\n",
       "    </tr>\n",
       "  </thead>\n",
       "  <tbody>\n",
       "    <tr>\n",
       "      <th>0</th>\n",
       "      <td>50</td>\n",
       "      <td>15360</td>\n",
       "      <td>500</td>\n",
       "      <td>550</td>\n",
       "      <td>200</td>\n",
       "      <td>3</td>\n",
       "      <td>3</td>\n",
       "      <td>smart</td>\n",
       "    </tr>\n",
       "    <tr>\n",
       "      <th>1</th>\n",
       "      <td>1000</td>\n",
       "      <td>30720</td>\n",
       "      <td>3000</td>\n",
       "      <td>1950</td>\n",
       "      <td>150</td>\n",
       "      <td>1</td>\n",
       "      <td>1</td>\n",
       "      <td>ultra</td>\n",
       "    </tr>\n",
       "  </tbody>\n",
       "</table>\n",
       "</div>"
      ],
      "text/plain": [
       "   messages_included  mb_per_month_included  minutes_included  \\\n",
       "0                 50                  15360               500   \n",
       "1               1000                  30720              3000   \n",
       "\n",
       "   rub_monthly_fee  rub_per_gb  rub_per_message  rub_per_minute tariff  \n",
       "0              550         200                3               3  smart  \n",
       "1             1950         150                1               1  ultra  "
      ]
     },
     "execution_count": 40,
     "metadata": {},
     "output_type": "execute_result"
    }
   ],
   "source": [
    "# Комментарий ревьюера\n",
    "tariffs"
   ]
  },
  {
   "cell_type": "markdown",
   "metadata": {},
   "source": [
    "Выполним слияние таблиц table_aggregated с tariffs по столбцу 'tariff' для дальнейешего расчета расходов пользователей по месяцам"
   ]
  },
  {
   "cell_type": "code",
   "execution_count": 41,
   "metadata": {},
   "outputs": [
    {
     "name": "stdout",
     "output_type": "stream",
     "text": [
      "<class 'pandas.core.frame.DataFrame'>\n",
      "Int64Index: 3214 entries, 0 to 3213\n",
      "Data columns (total 14 columns):\n",
      " #   Column                 Non-Null Count  Dtype  \n",
      "---  ------                 --------------  -----  \n",
      " 0   user_id                3214 non-null   int64  \n",
      " 1   month                  3214 non-null   float64\n",
      " 2   mb_used                3214 non-null   float64\n",
      " 3   calls_time_m           3214 non-null   float64\n",
      " 4   mes_count              3214 non-null   float64\n",
      " 5   city                   3214 non-null   object \n",
      " 6   tariff                 3214 non-null   object \n",
      " 7   messages_included      3214 non-null   int64  \n",
      " 8   mb_per_month_included  3214 non-null   int64  \n",
      " 9   minutes_included       3214 non-null   int64  \n",
      " 10  rub_monthly_fee        3214 non-null   int64  \n",
      " 11  rub_per_gb             3214 non-null   int64  \n",
      " 12  rub_per_message        3214 non-null   int64  \n",
      " 13  rub_per_minute         3214 non-null   int64  \n",
      "dtypes: float64(4), int64(8), object(2)\n",
      "memory usage: 376.6+ KB\n",
      "   user_id  month   mb_used  calls_time_m  mes_count       city tariff  \\\n",
      "0     1000    5.0   2253.49         159.0       22.0  Краснодар  ultra   \n",
      "1     1000    6.0  23233.77         172.0       60.0  Краснодар  ultra   \n",
      "2     1000    7.0  14003.64         340.0       75.0  Краснодар  ultra   \n",
      "3     1000    8.0  14055.93         408.0       81.0  Краснодар  ultra   \n",
      "4     1000    9.0  14568.91         466.0       57.0  Краснодар  ultra   \n",
      "5     1000   10.0  14702.49         350.0       73.0  Краснодар  ultra   \n",
      "6     1000   11.0  14756.47         338.0       58.0  Краснодар  ultra   \n",
      "7     1000   12.0   9817.61         333.0       70.0  Краснодар  ultra   \n",
      "8     1003    8.0   8565.21         380.0       37.0     Москва  ultra   \n",
      "9     1003    9.0  12468.87         961.0       91.0     Москва  ultra   \n",
      "\n",
      "   messages_included  mb_per_month_included  minutes_included  \\\n",
      "0               1000                  30720              3000   \n",
      "1               1000                  30720              3000   \n",
      "2               1000                  30720              3000   \n",
      "3               1000                  30720              3000   \n",
      "4               1000                  30720              3000   \n",
      "5               1000                  30720              3000   \n",
      "6               1000                  30720              3000   \n",
      "7               1000                  30720              3000   \n",
      "8               1000                  30720              3000   \n",
      "9               1000                  30720              3000   \n",
      "\n",
      "   rub_monthly_fee  rub_per_gb  rub_per_message  rub_per_minute  \n",
      "0             1950         150                1               1  \n",
      "1             1950         150                1               1  \n",
      "2             1950         150                1               1  \n",
      "3             1950         150                1               1  \n",
      "4             1950         150                1               1  \n",
      "5             1950         150                1               1  \n",
      "6             1950         150                1               1  \n",
      "7             1950         150                1               1  \n",
      "8             1950         150                1               1  \n",
      "9             1950         150                1               1  \n"
     ]
    }
   ],
   "source": [
    "table_aggregated_final=table_aggregated.merge(tariffs, on='tariff')\n",
    "table_aggregated_final.info()\n",
    "print(table_aggregated_final.head(10))"
   ]
  },
  {
   "cell_type": "markdown",
   "metadata": {},
   "source": [
    "Составим функцию для расчета расходов пользователей по месяцам. Для последующего применения её в строке к всему датафрейму"
   ]
  },
  {
   "cell_type": "code",
   "execution_count": 42,
   "metadata": {},
   "outputs": [],
   "source": [
    "def extra (data):\n",
    "    # проверка условия перерасхода интернет траффика и перевод разницы в ГБ\n",
    "    if (data['mb_used']-data['mb_per_month_included'])>0:\n",
    "        extra_Gb=(data['mb_used']-data['mb_per_month_included'])/1024\n",
    "    else:\n",
    "        extra_Gb=0\n",
    "    extra_Gb = math.ceil(extra_Gb)\n",
    "    # проверка условия перерасхода лимита по звонкам\n",
    "    if (data['calls_time_m']-data['minutes_included'])>0:\n",
    "        extra_min=data['calls_time_m']-data['minutes_included']\n",
    "    else:\n",
    "        extra_min=0\n",
    "    # проверка условия перерасхода количества сообщений\n",
    "    if (data['mes_count']-data['messages_included'])>0:\n",
    "        extra_mes=data['mes_count']-data['messages_included']\n",
    "    else:\n",
    "        extra_mes=0\n",
    "    # расчет доплат по перерасходам и основной тариф. Возвращаем полученное значение\n",
    "    return extra_Gb*data['rub_per_gb']+ extra_min*data['rub_per_minute']+ extra_mes*data['rub_per_message']+data['rub_monthly_fee']\n",
    "    \n",
    "table_aggregated_final['revenue'] = table_aggregated_final.apply(extra, axis=1)\n"
   ]
  },
  {
   "cell_type": "code",
   "execution_count": 43,
   "metadata": {},
   "outputs": [
    {
     "name": "stdout",
     "output_type": "stream",
     "text": [
      "<class 'pandas.core.frame.DataFrame'>\n",
      "Int64Index: 3214 entries, 0 to 3213\n",
      "Data columns (total 15 columns):\n",
      " #   Column                 Non-Null Count  Dtype  \n",
      "---  ------                 --------------  -----  \n",
      " 0   user_id                3214 non-null   int64  \n",
      " 1   month                  3214 non-null   float64\n",
      " 2   mb_used                3214 non-null   float64\n",
      " 3   calls_time_m           3214 non-null   float64\n",
      " 4   mes_count              3214 non-null   float64\n",
      " 5   city                   3214 non-null   object \n",
      " 6   tariff                 3214 non-null   object \n",
      " 7   messages_included      3214 non-null   int64  \n",
      " 8   mb_per_month_included  3214 non-null   int64  \n",
      " 9   minutes_included       3214 non-null   int64  \n",
      " 10  rub_monthly_fee        3214 non-null   int64  \n",
      " 11  rub_per_gb             3214 non-null   int64  \n",
      " 12  rub_per_message        3214 non-null   int64  \n",
      " 13  rub_per_minute         3214 non-null   int64  \n",
      " 14  revenue                3214 non-null   float64\n",
      "dtypes: float64(5), int64(8), object(2)\n",
      "memory usage: 401.8+ KB\n"
     ]
    },
    {
     "data": {
      "text/html": [
       "<div>\n",
       "<style scoped>\n",
       "    .dataframe tbody tr th:only-of-type {\n",
       "        vertical-align: middle;\n",
       "    }\n",
       "\n",
       "    .dataframe tbody tr th {\n",
       "        vertical-align: top;\n",
       "    }\n",
       "\n",
       "    .dataframe thead th {\n",
       "        text-align: right;\n",
       "    }\n",
       "</style>\n",
       "<table border=\"1\" class=\"dataframe\">\n",
       "  <thead>\n",
       "    <tr style=\"text-align: right;\">\n",
       "      <th></th>\n",
       "      <th>user_id</th>\n",
       "      <th>month</th>\n",
       "      <th>mb_used</th>\n",
       "      <th>calls_time_m</th>\n",
       "      <th>mes_count</th>\n",
       "      <th>messages_included</th>\n",
       "      <th>mb_per_month_included</th>\n",
       "      <th>minutes_included</th>\n",
       "      <th>rub_monthly_fee</th>\n",
       "      <th>rub_per_gb</th>\n",
       "      <th>rub_per_message</th>\n",
       "      <th>rub_per_minute</th>\n",
       "      <th>revenue</th>\n",
       "    </tr>\n",
       "  </thead>\n",
       "  <tbody>\n",
       "    <tr>\n",
       "      <th>count</th>\n",
       "      <td>3214.000000</td>\n",
       "      <td>3214.000000</td>\n",
       "      <td>3214.000000</td>\n",
       "      <td>3214.000000</td>\n",
       "      <td>3214.000000</td>\n",
       "      <td>3214.000000</td>\n",
       "      <td>3214.000000</td>\n",
       "      <td>3214.000000</td>\n",
       "      <td>3214.000000</td>\n",
       "      <td>3214.000000</td>\n",
       "      <td>3214.000000</td>\n",
       "      <td>3214.000000</td>\n",
       "      <td>3214.000000</td>\n",
       "    </tr>\n",
       "    <tr>\n",
       "      <th>mean</th>\n",
       "      <td>1251.590230</td>\n",
       "      <td>8.317362</td>\n",
       "      <td>17207.612859</td>\n",
       "      <td>451.244866</td>\n",
       "      <td>38.281269</td>\n",
       "      <td>341.148102</td>\n",
       "      <td>20067.405103</td>\n",
       "      <td>1266.179216</td>\n",
       "      <td>979.060361</td>\n",
       "      <td>184.676416</td>\n",
       "      <td>2.387057</td>\n",
       "      <td>2.387057</td>\n",
       "      <td>1529.076229</td>\n",
       "    </tr>\n",
       "    <tr>\n",
       "      <th>std</th>\n",
       "      <td>144.659172</td>\n",
       "      <td>2.905413</td>\n",
       "      <td>7570.958771</td>\n",
       "      <td>241.909978</td>\n",
       "      <td>36.148326</td>\n",
       "      <td>438.044726</td>\n",
       "      <td>7082.491569</td>\n",
       "      <td>1152.749279</td>\n",
       "      <td>645.539596</td>\n",
       "      <td>23.054986</td>\n",
       "      <td>0.922199</td>\n",
       "      <td>0.922199</td>\n",
       "      <td>798.251091</td>\n",
       "    </tr>\n",
       "    <tr>\n",
       "      <th>min</th>\n",
       "      <td>1000.000000</td>\n",
       "      <td>1.000000</td>\n",
       "      <td>0.000000</td>\n",
       "      <td>0.000000</td>\n",
       "      <td>0.000000</td>\n",
       "      <td>50.000000</td>\n",
       "      <td>15360.000000</td>\n",
       "      <td>500.000000</td>\n",
       "      <td>550.000000</td>\n",
       "      <td>150.000000</td>\n",
       "      <td>1.000000</td>\n",
       "      <td>1.000000</td>\n",
       "      <td>550.000000</td>\n",
       "    </tr>\n",
       "    <tr>\n",
       "      <th>25%</th>\n",
       "      <td>1125.000000</td>\n",
       "      <td>6.000000</td>\n",
       "      <td>12491.890000</td>\n",
       "      <td>282.000000</td>\n",
       "      <td>9.000000</td>\n",
       "      <td>50.000000</td>\n",
       "      <td>15360.000000</td>\n",
       "      <td>500.000000</td>\n",
       "      <td>550.000000</td>\n",
       "      <td>150.000000</td>\n",
       "      <td>1.000000</td>\n",
       "      <td>1.000000</td>\n",
       "      <td>750.000000</td>\n",
       "    </tr>\n",
       "    <tr>\n",
       "      <th>50%</th>\n",
       "      <td>1253.000000</td>\n",
       "      <td>9.000000</td>\n",
       "      <td>16943.175000</td>\n",
       "      <td>443.000000</td>\n",
       "      <td>30.000000</td>\n",
       "      <td>50.000000</td>\n",
       "      <td>15360.000000</td>\n",
       "      <td>500.000000</td>\n",
       "      <td>550.000000</td>\n",
       "      <td>200.000000</td>\n",
       "      <td>3.000000</td>\n",
       "      <td>3.000000</td>\n",
       "      <td>1653.500000</td>\n",
       "    </tr>\n",
       "    <tr>\n",
       "      <th>75%</th>\n",
       "      <td>1378.750000</td>\n",
       "      <td>11.000000</td>\n",
       "      <td>21424.625000</td>\n",
       "      <td>589.000000</td>\n",
       "      <td>57.000000</td>\n",
       "      <td>1000.000000</td>\n",
       "      <td>30720.000000</td>\n",
       "      <td>3000.000000</td>\n",
       "      <td>1950.000000</td>\n",
       "      <td>200.000000</td>\n",
       "      <td>3.000000</td>\n",
       "      <td>3.000000</td>\n",
       "      <td>1950.000000</td>\n",
       "    </tr>\n",
       "    <tr>\n",
       "      <th>max</th>\n",
       "      <td>1499.000000</td>\n",
       "      <td>12.000000</td>\n",
       "      <td>49745.690000</td>\n",
       "      <td>1673.000000</td>\n",
       "      <td>224.000000</td>\n",
       "      <td>1000.000000</td>\n",
       "      <td>30720.000000</td>\n",
       "      <td>3000.000000</td>\n",
       "      <td>1950.000000</td>\n",
       "      <td>200.000000</td>\n",
       "      <td>3.000000</td>\n",
       "      <td>3.000000</td>\n",
       "      <td>6770.000000</td>\n",
       "    </tr>\n",
       "  </tbody>\n",
       "</table>\n",
       "</div>"
      ],
      "text/plain": [
       "           user_id        month       mb_used  calls_time_m    mes_count  \\\n",
       "count  3214.000000  3214.000000   3214.000000   3214.000000  3214.000000   \n",
       "mean   1251.590230     8.317362  17207.612859    451.244866    38.281269   \n",
       "std     144.659172     2.905413   7570.958771    241.909978    36.148326   \n",
       "min    1000.000000     1.000000      0.000000      0.000000     0.000000   \n",
       "25%    1125.000000     6.000000  12491.890000    282.000000     9.000000   \n",
       "50%    1253.000000     9.000000  16943.175000    443.000000    30.000000   \n",
       "75%    1378.750000    11.000000  21424.625000    589.000000    57.000000   \n",
       "max    1499.000000    12.000000  49745.690000   1673.000000   224.000000   \n",
       "\n",
       "       messages_included  mb_per_month_included  minutes_included  \\\n",
       "count        3214.000000            3214.000000       3214.000000   \n",
       "mean          341.148102           20067.405103       1266.179216   \n",
       "std           438.044726            7082.491569       1152.749279   \n",
       "min            50.000000           15360.000000        500.000000   \n",
       "25%            50.000000           15360.000000        500.000000   \n",
       "50%            50.000000           15360.000000        500.000000   \n",
       "75%          1000.000000           30720.000000       3000.000000   \n",
       "max          1000.000000           30720.000000       3000.000000   \n",
       "\n",
       "       rub_monthly_fee   rub_per_gb  rub_per_message  rub_per_minute  \\\n",
       "count      3214.000000  3214.000000      3214.000000     3214.000000   \n",
       "mean        979.060361   184.676416         2.387057        2.387057   \n",
       "std         645.539596    23.054986         0.922199        0.922199   \n",
       "min         550.000000   150.000000         1.000000        1.000000   \n",
       "25%         550.000000   150.000000         1.000000        1.000000   \n",
       "50%         550.000000   200.000000         3.000000        3.000000   \n",
       "75%        1950.000000   200.000000         3.000000        3.000000   \n",
       "max        1950.000000   200.000000         3.000000        3.000000   \n",
       "\n",
       "           revenue  \n",
       "count  3214.000000  \n",
       "mean   1529.076229  \n",
       "std     798.251091  \n",
       "min     550.000000  \n",
       "25%     750.000000  \n",
       "50%    1653.500000  \n",
       "75%    1950.000000  \n",
       "max    6770.000000  "
      ]
     },
     "execution_count": 43,
     "metadata": {},
     "output_type": "execute_result"
    }
   ],
   "source": [
    "table_aggregated_final.info()\n",
    "table_aggregated_final.describe()"
   ]
  },
  {
   "cell_type": "markdown",
   "metadata": {},
   "source": [
    "Для удобства дальнейшей обработки уберем из полученной таблицы все данные связанные с описанием тарифов. И далее будем анализировать полученную таблицу."
   ]
  },
  {
   "cell_type": "code",
   "execution_count": 81,
   "metadata": {},
   "outputs": [
    {
     "data": {
      "text/html": [
       "<div>\n",
       "<style scoped>\n",
       "    .dataframe tbody tr th:only-of-type {\n",
       "        vertical-align: middle;\n",
       "    }\n",
       "\n",
       "    .dataframe tbody tr th {\n",
       "        vertical-align: top;\n",
       "    }\n",
       "\n",
       "    .dataframe thead th {\n",
       "        text-align: right;\n",
       "    }\n",
       "</style>\n",
       "<table border=\"1\" class=\"dataframe\">\n",
       "  <thead>\n",
       "    <tr style=\"text-align: right;\">\n",
       "      <th></th>\n",
       "      <th>user_id</th>\n",
       "      <th>month</th>\n",
       "      <th>mb_used</th>\n",
       "      <th>calls_time_m</th>\n",
       "      <th>mes_count</th>\n",
       "      <th>city</th>\n",
       "      <th>tariff</th>\n",
       "      <th>messages_included</th>\n",
       "      <th>mb_per_month_included</th>\n",
       "      <th>minutes_included</th>\n",
       "      <th>rub_monthly_fee</th>\n",
       "      <th>rub_per_gb</th>\n",
       "      <th>rub_per_message</th>\n",
       "      <th>rub_per_minute</th>\n",
       "      <th>revenue</th>\n",
       "    </tr>\n",
       "  </thead>\n",
       "  <tbody>\n",
       "    <tr>\n",
       "      <th>0</th>\n",
       "      <td>1000</td>\n",
       "      <td>5.0</td>\n",
       "      <td>2253.49</td>\n",
       "      <td>159.0</td>\n",
       "      <td>22.0</td>\n",
       "      <td>Краснодар</td>\n",
       "      <td>ultra</td>\n",
       "      <td>1000</td>\n",
       "      <td>30720</td>\n",
       "      <td>3000</td>\n",
       "      <td>1950</td>\n",
       "      <td>150</td>\n",
       "      <td>1</td>\n",
       "      <td>1</td>\n",
       "      <td>1950.0</td>\n",
       "    </tr>\n",
       "    <tr>\n",
       "      <th>1</th>\n",
       "      <td>1000</td>\n",
       "      <td>6.0</td>\n",
       "      <td>23233.77</td>\n",
       "      <td>172.0</td>\n",
       "      <td>60.0</td>\n",
       "      <td>Краснодар</td>\n",
       "      <td>ultra</td>\n",
       "      <td>1000</td>\n",
       "      <td>30720</td>\n",
       "      <td>3000</td>\n",
       "      <td>1950</td>\n",
       "      <td>150</td>\n",
       "      <td>1</td>\n",
       "      <td>1</td>\n",
       "      <td>1950.0</td>\n",
       "    </tr>\n",
       "    <tr>\n",
       "      <th>2</th>\n",
       "      <td>1000</td>\n",
       "      <td>7.0</td>\n",
       "      <td>14003.64</td>\n",
       "      <td>340.0</td>\n",
       "      <td>75.0</td>\n",
       "      <td>Краснодар</td>\n",
       "      <td>ultra</td>\n",
       "      <td>1000</td>\n",
       "      <td>30720</td>\n",
       "      <td>3000</td>\n",
       "      <td>1950</td>\n",
       "      <td>150</td>\n",
       "      <td>1</td>\n",
       "      <td>1</td>\n",
       "      <td>1950.0</td>\n",
       "    </tr>\n",
       "    <tr>\n",
       "      <th>3</th>\n",
       "      <td>1000</td>\n",
       "      <td>8.0</td>\n",
       "      <td>14055.93</td>\n",
       "      <td>408.0</td>\n",
       "      <td>81.0</td>\n",
       "      <td>Краснодар</td>\n",
       "      <td>ultra</td>\n",
       "      <td>1000</td>\n",
       "      <td>30720</td>\n",
       "      <td>3000</td>\n",
       "      <td>1950</td>\n",
       "      <td>150</td>\n",
       "      <td>1</td>\n",
       "      <td>1</td>\n",
       "      <td>1950.0</td>\n",
       "    </tr>\n",
       "    <tr>\n",
       "      <th>4</th>\n",
       "      <td>1000</td>\n",
       "      <td>9.0</td>\n",
       "      <td>14568.91</td>\n",
       "      <td>466.0</td>\n",
       "      <td>57.0</td>\n",
       "      <td>Краснодар</td>\n",
       "      <td>ultra</td>\n",
       "      <td>1000</td>\n",
       "      <td>30720</td>\n",
       "      <td>3000</td>\n",
       "      <td>1950</td>\n",
       "      <td>150</td>\n",
       "      <td>1</td>\n",
       "      <td>1</td>\n",
       "      <td>1950.0</td>\n",
       "    </tr>\n",
       "  </tbody>\n",
       "</table>\n",
       "</div>"
      ],
      "text/plain": [
       "   user_id  month   mb_used  calls_time_m  mes_count       city tariff  \\\n",
       "0     1000    5.0   2253.49         159.0       22.0  Краснодар  ultra   \n",
       "1     1000    6.0  23233.77         172.0       60.0  Краснодар  ultra   \n",
       "2     1000    7.0  14003.64         340.0       75.0  Краснодар  ultra   \n",
       "3     1000    8.0  14055.93         408.0       81.0  Краснодар  ultra   \n",
       "4     1000    9.0  14568.91         466.0       57.0  Краснодар  ultra   \n",
       "\n",
       "   messages_included  mb_per_month_included  minutes_included  \\\n",
       "0               1000                  30720              3000   \n",
       "1               1000                  30720              3000   \n",
       "2               1000                  30720              3000   \n",
       "3               1000                  30720              3000   \n",
       "4               1000                  30720              3000   \n",
       "\n",
       "   rub_monthly_fee  rub_per_gb  rub_per_message  rub_per_minute  revenue  \n",
       "0             1950         150                1               1   1950.0  \n",
       "1             1950         150                1               1   1950.0  \n",
       "2             1950         150                1               1   1950.0  \n",
       "3             1950         150                1               1   1950.0  \n",
       "4             1950         150                1               1   1950.0  "
      ]
     },
     "execution_count": 81,
     "metadata": {},
     "output_type": "execute_result"
    }
   ],
   "source": [
    "# Комментарий ревьюера 3\n",
    "table_aggregated_final.head()"
   ]
  },
  {
   "cell_type": "code",
   "execution_count": 44,
   "metadata": {},
   "outputs": [
    {
     "name": "stdout",
     "output_type": "stream",
     "text": [
      "<class 'pandas.core.frame.DataFrame'>\n",
      "Int64Index: 3214 entries, 0 to 3213\n",
      "Data columns (total 8 columns):\n",
      " #   Column        Non-Null Count  Dtype  \n",
      "---  ------        --------------  -----  \n",
      " 0   user_id       3214 non-null   int64  \n",
      " 1   month         3214 non-null   int64  \n",
      " 2   mb_used       3214 non-null   float64\n",
      " 3   calls_time_m  3214 non-null   float64\n",
      " 4   mes_count     3214 non-null   float64\n",
      " 5   city          3214 non-null   object \n",
      " 6   tariff        3214 non-null   object \n",
      " 7   revenue       3214 non-null   float64\n",
      "dtypes: float64(4), int64(2), object(2)\n",
      "memory usage: 226.0+ KB\n"
     ]
    },
    {
     "data": {
      "text/html": [
       "<div>\n",
       "<style scoped>\n",
       "    .dataframe tbody tr th:only-of-type {\n",
       "        vertical-align: middle;\n",
       "    }\n",
       "\n",
       "    .dataframe tbody tr th {\n",
       "        vertical-align: top;\n",
       "    }\n",
       "\n",
       "    .dataframe thead th {\n",
       "        text-align: right;\n",
       "    }\n",
       "</style>\n",
       "<table border=\"1\" class=\"dataframe\">\n",
       "  <thead>\n",
       "    <tr style=\"text-align: right;\">\n",
       "      <th></th>\n",
       "      <th>user_id</th>\n",
       "      <th>month</th>\n",
       "      <th>mb_used</th>\n",
       "      <th>calls_time_m</th>\n",
       "      <th>mes_count</th>\n",
       "      <th>revenue</th>\n",
       "    </tr>\n",
       "  </thead>\n",
       "  <tbody>\n",
       "    <tr>\n",
       "      <th>count</th>\n",
       "      <td>3214.000000</td>\n",
       "      <td>3214.000000</td>\n",
       "      <td>3214.000000</td>\n",
       "      <td>3214.000000</td>\n",
       "      <td>3214.000000</td>\n",
       "      <td>3214.000000</td>\n",
       "    </tr>\n",
       "    <tr>\n",
       "      <th>mean</th>\n",
       "      <td>1251.590230</td>\n",
       "      <td>8.317362</td>\n",
       "      <td>17207.612859</td>\n",
       "      <td>451.244866</td>\n",
       "      <td>38.281269</td>\n",
       "      <td>1529.076229</td>\n",
       "    </tr>\n",
       "    <tr>\n",
       "      <th>std</th>\n",
       "      <td>144.659172</td>\n",
       "      <td>2.905413</td>\n",
       "      <td>7570.958771</td>\n",
       "      <td>241.909978</td>\n",
       "      <td>36.148326</td>\n",
       "      <td>798.251091</td>\n",
       "    </tr>\n",
       "    <tr>\n",
       "      <th>min</th>\n",
       "      <td>1000.000000</td>\n",
       "      <td>1.000000</td>\n",
       "      <td>0.000000</td>\n",
       "      <td>0.000000</td>\n",
       "      <td>0.000000</td>\n",
       "      <td>550.000000</td>\n",
       "    </tr>\n",
       "    <tr>\n",
       "      <th>25%</th>\n",
       "      <td>1125.000000</td>\n",
       "      <td>6.000000</td>\n",
       "      <td>12491.890000</td>\n",
       "      <td>282.000000</td>\n",
       "      <td>9.000000</td>\n",
       "      <td>750.000000</td>\n",
       "    </tr>\n",
       "    <tr>\n",
       "      <th>50%</th>\n",
       "      <td>1253.000000</td>\n",
       "      <td>9.000000</td>\n",
       "      <td>16943.175000</td>\n",
       "      <td>443.000000</td>\n",
       "      <td>30.000000</td>\n",
       "      <td>1653.500000</td>\n",
       "    </tr>\n",
       "    <tr>\n",
       "      <th>75%</th>\n",
       "      <td>1378.750000</td>\n",
       "      <td>11.000000</td>\n",
       "      <td>21424.625000</td>\n",
       "      <td>589.000000</td>\n",
       "      <td>57.000000</td>\n",
       "      <td>1950.000000</td>\n",
       "    </tr>\n",
       "    <tr>\n",
       "      <th>max</th>\n",
       "      <td>1499.000000</td>\n",
       "      <td>12.000000</td>\n",
       "      <td>49745.690000</td>\n",
       "      <td>1673.000000</td>\n",
       "      <td>224.000000</td>\n",
       "      <td>6770.000000</td>\n",
       "    </tr>\n",
       "  </tbody>\n",
       "</table>\n",
       "</div>"
      ],
      "text/plain": [
       "           user_id        month       mb_used  calls_time_m    mes_count  \\\n",
       "count  3214.000000  3214.000000   3214.000000   3214.000000  3214.000000   \n",
       "mean   1251.590230     8.317362  17207.612859    451.244866    38.281269   \n",
       "std     144.659172     2.905413   7570.958771    241.909978    36.148326   \n",
       "min    1000.000000     1.000000      0.000000      0.000000     0.000000   \n",
       "25%    1125.000000     6.000000  12491.890000    282.000000     9.000000   \n",
       "50%    1253.000000     9.000000  16943.175000    443.000000    30.000000   \n",
       "75%    1378.750000    11.000000  21424.625000    589.000000    57.000000   \n",
       "max    1499.000000    12.000000  49745.690000   1673.000000   224.000000   \n",
       "\n",
       "           revenue  \n",
       "count  3214.000000  \n",
       "mean   1529.076229  \n",
       "std     798.251091  \n",
       "min     550.000000  \n",
       "25%     750.000000  \n",
       "50%    1653.500000  \n",
       "75%    1950.000000  \n",
       "max    6770.000000  "
      ]
     },
     "execution_count": 44,
     "metadata": {},
     "output_type": "execute_result"
    }
   ],
   "source": [
    "table_sfinal=table_aggregated_final.drop(columns=['messages_included','mb_per_month_included', 'minutes_included', 'rub_monthly_fee', 'rub_per_gb', 'rub_per_message', 'rub_per_minute' ],axis=1)\n",
    "table_sfinal['month'] = table_sfinal['month'].astype('int')\n",
    "table_sfinal.info()\n",
    "table_sfinal.describe()"
   ]
  },
  {
   "cell_type": "markdown",
   "metadata": {},
   "source": [
    "### Результаты расчетов и создания таблицы"
   ]
  },
  {
   "cell_type": "markdown",
   "metadata": {},
   "source": [
    "1. На основании данных из таблицы messages создана таблица, содержащая id пользователей и данные о количестве сообщений по месяцам.\n",
    "2. На основании данных из таблицы calls создана таблица, содержащая id пользователей и данные о количестве использованных минут по месяцам. При этом учли, что данные о количестве минут каждого разговора округляются в большую сторону. Данные, где длительность 0.0 не учитывали (но и не удаляли). Т.к. это пропущенные звонки, а значит они не тарифицировались.\n",
    "3. На основании данных из таблицы internet получена таблица, содержащая id пользователей и количество гигабайт по месяцам.\n",
    "4. Создана сводная таблица, куда вошли id пользователей, данные о потраченных минутах, сообщениях и гигабайтах, по видам услуг. Данные о суммарных затратах пользователей по месяцам.\n",
    "5. Для расчета суммарного тарифа составлена функция, где учли, что:\n",
    "        - 1 Гб это 1024 Мб,\n",
    "        - суммируются данные по всем интернет-сессиям за месяц и округляются до целых Гб в большую сторону.\n",
    "4. Сводная таблица очищена от избыточных для дальнейшего анализа столбцов. Данные в 'table_sfinal'.\n",
    "\n"
   ]
  },
  {
   "cell_type": "markdown",
   "metadata": {},
   "source": [
    "## Анализ данных."
   ]
  },
  {
   "cell_type": "markdown",
   "metadata": {},
   "source": [
    "### Исследования потребностей пользователей на каждом из тарифов в количестве телефонных звонков, сообщений и интернет траффике."
   ]
  },
  {
   "cell_type": "markdown",
   "metadata": {},
   "source": [
    "Для исследования данных об времени звонков составим сводную таблицу со средними значениями использованных минут в разбивке по тарифам."
   ]
  },
  {
   "cell_type": "code",
   "execution_count": 45,
   "metadata": {
    "scrolled": false
   },
   "outputs": [
    {
     "name": "stdout",
     "output_type": "stream",
     "text": [
      "tariff  month       smart       ultra\n",
      "0           1  203.852941  428.111111\n",
      "1           2  298.689655  297.125000\n",
      "2           3  390.051948  489.648649\n",
      "3           4  367.133929  458.018182\n",
      "4           5  387.361702  510.328358\n",
      "5           6  395.640244  479.702381\n",
      "6           7  408.353234  545.791209\n",
      "7           8  421.468085  510.775701\n",
      "8           9  428.611538  539.443478\n",
      "9          10  426.136054  558.081301\n",
      "10         11  435.265823  541.380597\n",
      "11         12  478.560831  592.805755\n"
     ]
    },
    {
     "data": {
      "text/html": [
       "<div>\n",
       "<style scoped>\n",
       "    .dataframe tbody tr th:only-of-type {\n",
       "        vertical-align: middle;\n",
       "    }\n",
       "\n",
       "    .dataframe tbody tr th {\n",
       "        vertical-align: top;\n",
       "    }\n",
       "\n",
       "    .dataframe thead th {\n",
       "        text-align: right;\n",
       "    }\n",
       "</style>\n",
       "<table border=\"1\" class=\"dataframe\">\n",
       "  <thead>\n",
       "    <tr style=\"text-align: right;\">\n",
       "      <th>tariff</th>\n",
       "      <th>month</th>\n",
       "      <th>smart</th>\n",
       "      <th>ultra</th>\n",
       "    </tr>\n",
       "  </thead>\n",
       "  <tbody>\n",
       "    <tr>\n",
       "      <th>count</th>\n",
       "      <td>12.000000</td>\n",
       "      <td>12.000000</td>\n",
       "      <td>12.000000</td>\n",
       "    </tr>\n",
       "    <tr>\n",
       "      <th>mean</th>\n",
       "      <td>6.500000</td>\n",
       "      <td>386.760499</td>\n",
       "      <td>495.934310</td>\n",
       "    </tr>\n",
       "    <tr>\n",
       "      <th>std</th>\n",
       "      <td>3.605551</td>\n",
       "      <td>72.262004</td>\n",
       "      <td>77.450072</td>\n",
       "    </tr>\n",
       "    <tr>\n",
       "      <th>min</th>\n",
       "      <td>1.000000</td>\n",
       "      <td>203.852941</td>\n",
       "      <td>297.125000</td>\n",
       "    </tr>\n",
       "    <tr>\n",
       "      <th>25%</th>\n",
       "      <td>3.750000</td>\n",
       "      <td>382.304759</td>\n",
       "      <td>474.281331</td>\n",
       "    </tr>\n",
       "    <tr>\n",
       "      <th>50%</th>\n",
       "      <td>6.500000</td>\n",
       "      <td>401.996739</td>\n",
       "      <td>510.552030</td>\n",
       "    </tr>\n",
       "    <tr>\n",
       "      <th>75%</th>\n",
       "      <td>9.250000</td>\n",
       "      <td>426.754925</td>\n",
       "      <td>542.483250</td>\n",
       "    </tr>\n",
       "    <tr>\n",
       "      <th>max</th>\n",
       "      <td>12.000000</td>\n",
       "      <td>478.560831</td>\n",
       "      <td>592.805755</td>\n",
       "    </tr>\n",
       "  </tbody>\n",
       "</table>\n",
       "</div>"
      ],
      "text/plain": [
       "tariff      month       smart       ultra\n",
       "count   12.000000   12.000000   12.000000\n",
       "mean     6.500000  386.760499  495.934310\n",
       "std      3.605551   72.262004   77.450072\n",
       "min      1.000000  203.852941  297.125000\n",
       "25%      3.750000  382.304759  474.281331\n",
       "50%      6.500000  401.996739  510.552030\n",
       "75%      9.250000  426.754925  542.483250\n",
       "max     12.000000  478.560831  592.805755"
      ]
     },
     "execution_count": 45,
     "metadata": {},
     "output_type": "execute_result"
    }
   ],
   "source": [
    "calls_smart_vs_ultra=table_sfinal.pivot_table(index='month',columns = 'tariff',values='calls_time_m', aggfunc='mean')\n",
    "calls_smart_vs_ultra=calls_smart_vs_ultra.reset_index()\n",
    "print (calls_smart_vs_ultra)\n",
    "calls_smart_vs_ultra.describe()"
   ]
  },
  {
   "cell_type": "code",
   "execution_count": 46,
   "metadata": {},
   "outputs": [
    {
     "data": {
      "text/html": [
       "<div>\n",
       "<style scoped>\n",
       "    .dataframe tbody tr th:only-of-type {\n",
       "        vertical-align: middle;\n",
       "    }\n",
       "\n",
       "    .dataframe tbody tr th {\n",
       "        vertical-align: top;\n",
       "    }\n",
       "\n",
       "    .dataframe thead th {\n",
       "        text-align: right;\n",
       "    }\n",
       "</style>\n",
       "<table border=\"1\" class=\"dataframe\">\n",
       "  <thead>\n",
       "    <tr style=\"text-align: right;\">\n",
       "      <th></th>\n",
       "      <th>calls_time_m</th>\n",
       "    </tr>\n",
       "    <tr>\n",
       "      <th>tariff</th>\n",
       "      <th></th>\n",
       "    </tr>\n",
       "  </thead>\n",
       "  <tbody>\n",
       "    <tr>\n",
       "      <th>smart</th>\n",
       "      <td>417.934948</td>\n",
       "    </tr>\n",
       "    <tr>\n",
       "      <th>ultra</th>\n",
       "      <td>526.623350</td>\n",
       "    </tr>\n",
       "  </tbody>\n",
       "</table>\n",
       "</div>"
      ],
      "text/plain": [
       "        calls_time_m\n",
       "tariff              \n",
       "smart     417.934948\n",
       "ultra     526.623350"
      ]
     },
     "execution_count": 46,
     "metadata": {},
     "output_type": "execute_result"
    }
   ],
   "source": [
    "calls_smart_vs_ultra_t=table_sfinal.pivot_table(index='tariff',values='calls_time_m', aggfunc='mean')\n",
    "calls_smart_vs_ultra_t"
   ]
  },
  {
   "cell_type": "markdown",
   "metadata": {},
   "source": [
    "После использования describe() и анализируя диаграмму видим, что среднее количество минут, используемых в тариф ультра больше примерно на 25-30%."
   ]
  },
  {
   "cell_type": "code",
   "execution_count": 47,
   "metadata": {
    "scrolled": false
   },
   "outputs": [
    {
     "data": {
      "text/plain": [
       "<AxesSubplot:xlabel='month'>"
      ]
     },
     "execution_count": 47,
     "metadata": {},
     "output_type": "execute_result"
    },
    {
     "data": {
      "image/png": "[encoded data removed]",
      "text/plain": [
       "<Figure size 864x360 with 1 Axes>"
      ]
     },
     "metadata": {
      "needs_background": "light"
     },
     "output_type": "display_data"
    }
   ],
   "source": [
    "calls_smart_vs_ultra.plot(kind='bar',y= ['smart','ultra'], x='month',grid=True, figsize=(12, 5))"
   ]
  },
  {
   "cell_type": "code",
   "execution_count": 48,
   "metadata": {},
   "outputs": [
    {
     "data": {
      "text/plain": [
       "<AxesSubplot:xlabel='month'>"
      ]
     },
     "execution_count": 48,
     "metadata": {},
     "output_type": "execute_result"
    },
    {
     "data": {
      "image/png": "[encoded data removed]",
      "text/plain": [
       "<Figure size 864x360 with 1 Axes>"
      ]
     },
     "metadata": {
      "needs_background": "light"
     },
     "output_type": "display_data"
    }
   ],
   "source": [
    "calls_smart_vs_ultra.plot(kind='bar',y= ['smart','ultra'], x='month',grid=True, figsize=(12, 5))"
   ]
  },
  {
   "cell_type": "code",
   "execution_count": 49,
   "metadata": {},
   "outputs": [
    {
     "data": {
      "text/plain": [
       "[Text(0.5, 1.0, 'Название графика'),\n",
       " Text(0.5, 0, 'Подпись оси Х'),\n",
       " Text(0, 0.5, 'Подпись оси Y')]"
      ]
     },
     "execution_count": 49,
     "metadata": {},
     "output_type": "execute_result"
    },
    {
     "data": {
      "image/png": "[encoded data removed]",
      "text/plain": [
       "<Figure size 864x360 with 1 Axes>"
      ]
     },
     "metadata": {
      "needs_background": "light"
     },
     "output_type": "display_data"
    }
   ],
   "source": [
    "# Комментарий ревьюера 2\n",
    "(calls_smart_vs_ultra.plot(kind='bar',y= ['smart','ultra'], x='month',grid=True, figsize=(12, 5))\n",
    " .set(title = 'Название графика', xlabel = 'Подпись оси Х', ylabel = 'Подпись оси Y'))"
   ]
  },
  {
   "cell_type": "code",
   "execution_count": 50,
   "metadata": {
    "scrolled": false
   },
   "outputs": [
    {
     "data": {
      "text/plain": [
       "<AxesSubplot:xlabel='month'>"
      ]
     },
     "execution_count": 50,
     "metadata": {},
     "output_type": "execute_result"
    },
    {
     "data": {
      "image/png": "[encoded data removed]",
      "text/plain": [
       "<Figure size 864x360 with 1 Axes>"
      ]
     },
     "metadata": {
      "needs_background": "light"
     },
     "output_type": "display_data"
    }
   ],
   "source": [
    "(\n",
    "table_sfinal.pivot_table(index='month',columns = 'tariff',values='calls_time_m', aggfunc='var')\n",
    "    .plot(kind='bar',y= ['smart','ultra'],grid=True, figsize=(12, 5))\n",
    ")"
   ]
  },
  {
   "cell_type": "markdown",
   "metadata": {},
   "source": [
    "Анализ дисперсии и среднеквадратичного отклонения по диаграммам показывает, что разброс количества используемых минут по тарифу Ультра больше, чем по тарифу Смарт."
   ]
  },
  {
   "cell_type": "code",
   "execution_count": 51,
   "metadata": {},
   "outputs": [
    {
     "data": {
      "text/plain": [
       "<AxesSubplot:xlabel='month'>"
      ]
     },
     "execution_count": 51,
     "metadata": {},
     "output_type": "execute_result"
    },
    {
     "data": {
      "image/png": "[encoded data removed]",
      "text/plain": [
       "<Figure size 864x360 with 1 Axes>"
      ]
     },
     "metadata": {
      "needs_background": "light"
     },
     "output_type": "display_data"
    }
   ],
   "source": [
    "(\n",
    "table_sfinal.pivot_table(index='month',columns = 'tariff',values='calls_time_m', aggfunc='std')\n",
    "    .plot(kind='bar',y= ['smart','ultra'],grid=True, figsize=(12, 5))\n",
    ")"
   ]
  },
  {
   "cell_type": "code",
   "execution_count": 52,
   "metadata": {},
   "outputs": [
    {
     "name": "stdout",
     "output_type": "stream",
     "text": [
      "tariff  month         smart         ultra\n",
      "0           1   8513.717647  13140.681111\n",
      "1           2  11597.054310  11775.937500\n",
      "2           3  15104.159091  17535.550270\n",
      "3           4  13462.180625  16828.134364\n",
      "4           5  15805.184326  19363.152985\n",
      "5           6  15794.647988  18924.939286\n",
      "6           7  15743.150348  20495.665165\n",
      "7           8  16610.720085  19576.054673\n",
      "8           9  16303.578808  19204.277130\n",
      "9          10  16757.122891  20045.337317\n",
      "10         11  16895.696646  19786.812463\n",
      "11         12  18113.662047  21793.172590\n"
     ]
    }
   ],
   "source": [
    "internet_smart_vs_ultra=table_sfinal.pivot_table(index='month',columns = 'tariff',values='mb_used', aggfunc='mean')\n",
    "internet_smart_vs_ultra=internet_smart_vs_ultra.reset_index()\n",
    "print (internet_smart_vs_ultra)"
   ]
  },
  {
   "cell_type": "code",
   "execution_count": 53,
   "metadata": {},
   "outputs": [
    {
     "data": {
      "text/html": [
       "<div>\n",
       "<style scoped>\n",
       "    .dataframe tbody tr th:only-of-type {\n",
       "        vertical-align: middle;\n",
       "    }\n",
       "\n",
       "    .dataframe tbody tr th {\n",
       "        vertical-align: top;\n",
       "    }\n",
       "\n",
       "    .dataframe thead th {\n",
       "        text-align: right;\n",
       "    }\n",
       "</style>\n",
       "<table border=\"1\" class=\"dataframe\">\n",
       "  <thead>\n",
       "    <tr style=\"text-align: right;\">\n",
       "      <th></th>\n",
       "      <th>calls_time_m</th>\n",
       "    </tr>\n",
       "    <tr>\n",
       "      <th>tariff</th>\n",
       "      <th></th>\n",
       "    </tr>\n",
       "  </thead>\n",
       "  <tbody>\n",
       "    <tr>\n",
       "      <th>smart</th>\n",
       "      <td>931577.0</td>\n",
       "    </tr>\n",
       "    <tr>\n",
       "      <th>ultra</th>\n",
       "      <td>518724.0</td>\n",
       "    </tr>\n",
       "  </tbody>\n",
       "</table>\n",
       "</div>"
      ],
      "text/plain": [
       "        calls_time_m\n",
       "tariff              \n",
       "smart       931577.0\n",
       "ultra       518724.0"
      ]
     },
     "execution_count": 53,
     "metadata": {},
     "output_type": "execute_result"
    }
   ],
   "source": [
    "internet_smart_vs_ultra_t=table_sfinal.pivot_table(index='tariff',values='calls_time_m', aggfunc='sum')\n",
    "internet_smart_vs_ultra_t"
   ]
  },
  {
   "cell_type": "markdown",
   "metadata": {},
   "source": [
    "После использования describe() и анализируя диаграмму видим, что среднее количество траффика, используемого в тарифе ультра больше примерно на 20-25%."
   ]
  },
  {
   "cell_type": "code",
   "execution_count": 54,
   "metadata": {
    "scrolled": false
   },
   "outputs": [
    {
     "data": {
      "text/plain": [
       "<AxesSubplot:xlabel='month'>"
      ]
     },
     "execution_count": 54,
     "metadata": {},
     "output_type": "execute_result"
    },
    {
     "data": {
      "image/png": "[encoded data removed]",
      "text/plain": [
       "<Figure size 864x360 with 1 Axes>"
      ]
     },
     "metadata": {
      "needs_background": "light"
     },
     "output_type": "display_data"
    }
   ],
   "source": [
    "internet_smart_vs_ultra.plot(kind='bar', y= ['smart','ultra'],x='month',grid=True, figsize=(12, 5))"
   ]
  },
  {
   "cell_type": "code",
   "execution_count": 55,
   "metadata": {},
   "outputs": [
    {
     "data": {
      "text/plain": [
       "<AxesSubplot:xlabel='month'>"
      ]
     },
     "execution_count": 55,
     "metadata": {},
     "output_type": "execute_result"
    },
    {
     "data": {
      "image/png": "[encoded data removed]",
      "text/plain": [
       "<Figure size 864x360 with 1 Axes>"
      ]
     },
     "metadata": {
      "needs_background": "light"
     },
     "output_type": "display_data"
    }
   ],
   "source": [
    "(\n",
    "table_sfinal.pivot_table(index='month',columns = 'tariff',values='mb_used', aggfunc='var')\n",
    "    .plot(kind='bar',y= ['smart','ultra'],grid=True, figsize=(12, 5))\n",
    ")"
   ]
  },
  {
   "cell_type": "markdown",
   "metadata": {},
   "source": [
    "Анализ дисперсии и среднеквадратичного отклонения по диаграммам показывает, что разброс количества используемых минут по тарифу Ультра больше, чем по тарифу Смарт."
   ]
  },
  {
   "cell_type": "code",
   "execution_count": 56,
   "metadata": {},
   "outputs": [
    {
     "data": {
      "text/plain": [
       "<AxesSubplot:xlabel='month'>"
      ]
     },
     "execution_count": 56,
     "metadata": {},
     "output_type": "execute_result"
    },
    {
     "data": {
      "image/png": "[encoded data removed]",
      "text/plain": [
       "<Figure size 864x360 with 1 Axes>"
      ]
     },
     "metadata": {
      "needs_background": "light"
     },
     "output_type": "display_data"
    }
   ],
   "source": [
    "(\n",
    "table_sfinal.pivot_table(index='month',columns = 'tariff',values='mb_used', aggfunc='std')\n",
    "    .plot(kind='bar',y= ['smart','ultra'],grid=True, figsize=(12, 5))\n",
    ")"
   ]
  },
  {
   "cell_type": "code",
   "execution_count": 57,
   "metadata": {},
   "outputs": [
    {
     "name": "stdout",
     "output_type": "stream",
     "text": [
      "tariff  month      smart      ultra\n",
      "0           1  18.235294  33.777778\n",
      "1           2  24.086207  21.958333\n",
      "2           3  31.857143  32.297297\n",
      "3           4  30.741071  31.563636\n",
      "4           5  33.773050  37.850746\n",
      "5           6  33.402439  41.726190\n",
      "6           7  33.751244  49.846154\n",
      "7           8  33.638298  48.439252\n",
      "8           9  33.638462  52.286957\n",
      "9          10  33.765306  58.430894\n",
      "10         11  34.075949  55.791045\n",
      "11         12  35.994065  60.611511\n"
     ]
    }
   ],
   "source": [
    "messages_smart_vs_ultra=table_sfinal.pivot_table(index='month',columns = 'tariff',values='mes_count', aggfunc='mean')\n",
    "messages_smart_vs_ultra=messages_smart_vs_ultra.reset_index()\n",
    "print (messages_smart_vs_ultra)"
   ]
  },
  {
   "cell_type": "markdown",
   "metadata": {},
   "source": [
    "После использования describe() и анализируя диаграмму видим, что среднее сообщений, отправляемых  в тарифе ультра до мая было сравнимо со средним количеством сообщений в тарифе Смарт. Во второй половине года среднее количество сообщений в тарифе Ультра начало расти и к декабрю стало больше более чем на 80%."
   ]
  },
  {
   "cell_type": "code",
   "execution_count": 58,
   "metadata": {
    "scrolled": false
   },
   "outputs": [
    {
     "data": {
      "text/plain": [
       "<AxesSubplot:xlabel='month'>"
      ]
     },
     "execution_count": 58,
     "metadata": {},
     "output_type": "execute_result"
    },
    {
     "data": {
      "image/png": "[encoded data removed]",
      "text/plain": [
       "<Figure size 864x360 with 1 Axes>"
      ]
     },
     "metadata": {
      "needs_background": "light"
     },
     "output_type": "display_data"
    }
   ],
   "source": [
    "messages_smart_vs_ultra.plot(kind='bar', y= ['smart','ultra'],x='month',grid=True, figsize=(12, 5))"
   ]
  },
  {
   "cell_type": "code",
   "execution_count": 59,
   "metadata": {},
   "outputs": [
    {
     "data": {
      "text/plain": [
       "<AxesSubplot:xlabel='month'>"
      ]
     },
     "execution_count": 59,
     "metadata": {},
     "output_type": "execute_result"
    },
    {
     "data": {
      "image/png": "[encoded data removed]",
      "text/plain": [
       "<Figure size 864x360 with 1 Axes>"
      ]
     },
     "metadata": {
      "needs_background": "light"
     },
     "output_type": "display_data"
    }
   ],
   "source": [
    "(\n",
    "table_sfinal.pivot_table(index='month',columns = 'tariff',values='mes_count', aggfunc='var')\n",
    "    .plot(kind='bar',y= ['smart','ultra'],grid=True, figsize=(12, 5))\n",
    ")"
   ]
  },
  {
   "cell_type": "markdown",
   "metadata": {},
   "source": [
    "Анализ дисперсии и среднеквадратичного отклонения по диаграммам показывает, что разброс количества сообщений по тарифу Ультра больше, чем по тарифу Смарт."
   ]
  },
  {
   "cell_type": "code",
   "execution_count": 60,
   "metadata": {},
   "outputs": [
    {
     "data": {
      "text/plain": [
       "<AxesSubplot:xlabel='month'>"
      ]
     },
     "execution_count": 60,
     "metadata": {},
     "output_type": "execute_result"
    },
    {
     "data": {
      "image/png": "[encoded data removed]",
      "text/plain": [
       "<Figure size 864x360 with 1 Axes>"
      ]
     },
     "metadata": {
      "needs_background": "light"
     },
     "output_type": "display_data"
    }
   ],
   "source": [
    "(\n",
    "table_sfinal.pivot_table(index='month',columns = 'tariff',values='mes_count', aggfunc='std')\n",
    "    .plot(kind='bar',y= ['smart','ultra'],grid=True, figsize=(12, 5))\n",
    ")"
   ]
  },
  {
   "cell_type": "markdown",
   "metadata": {},
   "source": [
    "Ниже построим гистограммы, показывающие разброс средних значений по количеству минут, интернет-траффику и количеству сообщений. Их анализ подтверждает тезис о том, что пользователи тарифа Ультра используют больше ресурсов. В среднем не менее, чем на 20%. Т.е. создают большую нагрузку на инфраструктуру оператора."
   ]
  },
  {
   "cell_type": "code",
   "execution_count": 61,
   "metadata": {
    "scrolled": false
   },
   "outputs": [
    {
     "data": {
      "text/plain": [
       "array([[<AxesSubplot:title={'center':'smart'}>,\n",
       "        <AxesSubplot:title={'center':'ultra'}>]], dtype=object)"
      ]
     },
     "execution_count": 61,
     "metadata": {},
     "output_type": "execute_result"
    },
    {
     "data": {
      "image/png": "[encoded data removed]",
      "text/plain": [
       "<Figure size 432x288 with 2 Axes>"
      ]
     },
     "metadata": {
      "needs_background": "light"
     },
     "output_type": "display_data"
    }
   ],
   "source": [
    "table_sfinal.pivot_table(index = 'user_id',columns=['tariff'], values='calls_time_m', aggfunc='mean').hist(bins=25)"
   ]
  },
  {
   "cell_type": "code",
   "execution_count": 62,
   "metadata": {
    "scrolled": true
   },
   "outputs": [
    {
     "data": {
      "text/plain": [
       "array([[<AxesSubplot:title={'center':'smart'}>,\n",
       "        <AxesSubplot:title={'center':'ultra'}>]], dtype=object)"
      ]
     },
     "execution_count": 62,
     "metadata": {},
     "output_type": "execute_result"
    },
    {
     "data": {
      "image/png": "[encoded data removed]",
      "text/plain": [
       "<Figure size 432x288 with 2 Axes>"
      ]
     },
     "metadata": {
      "needs_background": "light"
     },
     "output_type": "display_data"
    }
   ],
   "source": [
    "table_sfinal.pivot_table(index = 'user_id',columns=['tariff'], values='mb_used', aggfunc='mean').hist(bins=25)"
   ]
  },
  {
   "cell_type": "code",
   "execution_count": 63,
   "metadata": {
    "scrolled": true
   },
   "outputs": [
    {
     "data": {
      "text/plain": [
       "array([[<AxesSubplot:title={'center':'smart'}>,\n",
       "        <AxesSubplot:title={'center':'ultra'}>]], dtype=object)"
      ]
     },
     "execution_count": 63,
     "metadata": {},
     "output_type": "execute_result"
    },
    {
     "data": {
      "image/png": "[encoded data removed]",
      "text/plain": [
       "<Figure size 432x288 with 2 Axes>"
      ]
     },
     "metadata": {
      "needs_background": "light"
     },
     "output_type": "display_data"
    }
   ],
   "source": [
    "table_sfinal.query('mes_count!=0').pivot_table(index = 'user_id',columns=['tariff'], values='mes_count', aggfunc='mean').hist(bins=25)"
   ]
  },
  {
   "cell_type": "code",
   "execution_count": 85,
   "metadata": {},
   "outputs": [
    {
     "data": {
      "image/png": "[encoded data removed]",
      "text/plain": [
       "<Figure size 720x432 with 1 Axes>"
      ]
     },
     "metadata": {
      "needs_background": "light"
     },
     "output_type": "display_data"
    },
    {
     "data": {
      "image/png": "[encoded data removed]",
      "text/plain": [
       "<Figure size 720x432 with 1 Axes>"
      ]
     },
     "metadata": {
      "needs_background": "light"
     },
     "output_type": "display_data"
    },
    {
     "data": {
      "image/png": "[encoded data removed]",
      "text/plain": [
       "<Figure size 720x432 with 1 Axes>"
      ]
     },
     "metadata": {
      "needs_background": "light"
     },
     "output_type": "display_data"
    },
    {
     "data": {
      "image/png": "[encoded data removed]",
      "text/plain": [
       "<Figure size 720x432 with 1 Axes>"
      ]
     },
     "metadata": {
      "needs_background": "light"
     },
     "output_type": "display_data"
    }
   ],
   "source": [
    "# Комментарий ревьюера 3\n",
    "# Лень названия колонок переделывать в нормальный текст\n",
    "import matplotlib.pyplot as plt\n",
    "temp = table_aggregated_final.copy()\n",
    "temp['gb_used'] = np.ceil(temp['mb_used'] / 1024)\n",
    "\n",
    "col = ['calls_time_m', 'mes_count', 'gb_used', 'revenue']\n",
    "for col_l in col:\n",
    "    plt.figure(figsize=(10, 6))\n",
    "    temp[col_l][temp['tariff'] == 'smart'].plot(kind='hist', alpha=0.5, bins=15)\n",
    "    temp[col_l][temp['tariff'] == 'ultra'].plot(kind='hist', alpha=0.5, bins=15)\n",
    "    plt.title('Гистограмма распределения '+ col_l +' в месяц по 2-м тарифам'+ \"\\n\")\n",
    "    plt.xlabel(col_l)\n",
    "    plt.ylabel('Частотность')\n",
    "    plt.legend(['smart', 'ultra'])\n",
    "    plt.show()"
   ]
  },
  {
   "cell_type": "code",
   "execution_count": 64,
   "metadata": {},
   "outputs": [
    {
     "data": {
      "text/html": [
       "<div>\n",
       "<style scoped>\n",
       "    .dataframe tbody tr th:only-of-type {\n",
       "        vertical-align: middle;\n",
       "    }\n",
       "\n",
       "    .dataframe tbody tr th {\n",
       "        vertical-align: top;\n",
       "    }\n",
       "\n",
       "    .dataframe thead th {\n",
       "        text-align: right;\n",
       "    }\n",
       "</style>\n",
       "<table border=\"1\" class=\"dataframe\">\n",
       "  <thead>\n",
       "    <tr style=\"text-align: right;\">\n",
       "      <th>tariff</th>\n",
       "      <th>month</th>\n",
       "      <th>smart</th>\n",
       "      <th>ultra</th>\n",
       "    </tr>\n",
       "  </thead>\n",
       "  <tbody>\n",
       "    <tr>\n",
       "      <th>0</th>\n",
       "      <td>1</td>\n",
       "      <td>18.235294</td>\n",
       "      <td>33.777778</td>\n",
       "    </tr>\n",
       "    <tr>\n",
       "      <th>1</th>\n",
       "      <td>2</td>\n",
       "      <td>24.086207</td>\n",
       "      <td>21.958333</td>\n",
       "    </tr>\n",
       "    <tr>\n",
       "      <th>2</th>\n",
       "      <td>3</td>\n",
       "      <td>31.857143</td>\n",
       "      <td>32.297297</td>\n",
       "    </tr>\n",
       "    <tr>\n",
       "      <th>3</th>\n",
       "      <td>4</td>\n",
       "      <td>30.741071</td>\n",
       "      <td>31.563636</td>\n",
       "    </tr>\n",
       "    <tr>\n",
       "      <th>4</th>\n",
       "      <td>5</td>\n",
       "      <td>33.773050</td>\n",
       "      <td>37.850746</td>\n",
       "    </tr>\n",
       "    <tr>\n",
       "      <th>5</th>\n",
       "      <td>6</td>\n",
       "      <td>33.402439</td>\n",
       "      <td>41.726190</td>\n",
       "    </tr>\n",
       "    <tr>\n",
       "      <th>6</th>\n",
       "      <td>7</td>\n",
       "      <td>33.751244</td>\n",
       "      <td>49.846154</td>\n",
       "    </tr>\n",
       "    <tr>\n",
       "      <th>7</th>\n",
       "      <td>8</td>\n",
       "      <td>33.638298</td>\n",
       "      <td>48.439252</td>\n",
       "    </tr>\n",
       "    <tr>\n",
       "      <th>8</th>\n",
       "      <td>9</td>\n",
       "      <td>33.638462</td>\n",
       "      <td>52.286957</td>\n",
       "    </tr>\n",
       "    <tr>\n",
       "      <th>9</th>\n",
       "      <td>10</td>\n",
       "      <td>33.765306</td>\n",
       "      <td>58.430894</td>\n",
       "    </tr>\n",
       "    <tr>\n",
       "      <th>10</th>\n",
       "      <td>11</td>\n",
       "      <td>34.075949</td>\n",
       "      <td>55.791045</td>\n",
       "    </tr>\n",
       "    <tr>\n",
       "      <th>11</th>\n",
       "      <td>12</td>\n",
       "      <td>35.994065</td>\n",
       "      <td>60.611511</td>\n",
       "    </tr>\n",
       "  </tbody>\n",
       "</table>\n",
       "</div>"
      ],
      "text/plain": [
       "tariff  month      smart      ultra\n",
       "0           1  18.235294  33.777778\n",
       "1           2  24.086207  21.958333\n",
       "2           3  31.857143  32.297297\n",
       "3           4  30.741071  31.563636\n",
       "4           5  33.773050  37.850746\n",
       "5           6  33.402439  41.726190\n",
       "6           7  33.751244  49.846154\n",
       "7           8  33.638298  48.439252\n",
       "8           9  33.638462  52.286957\n",
       "9          10  33.765306  58.430894\n",
       "10         11  34.075949  55.791045\n",
       "11         12  35.994065  60.611511"
      ]
     },
     "execution_count": 64,
     "metadata": {},
     "output_type": "execute_result"
    }
   ],
   "source": [
    "revenue_year_per_month=table_sfinal.pivot_table(index='month',columns = 'tariff',values='revenue', aggfunc='sum')\n",
    "revenue_year_per_month=revenue_year_per_month.reset_index()\n",
    "messages_smart_vs_ultra"
   ]
  },
  {
   "cell_type": "code",
   "execution_count": 65,
   "metadata": {
    "scrolled": false
   },
   "outputs": [
    {
     "data": {
      "text/plain": [
       "<AxesSubplot:xlabel='month'>"
      ]
     },
     "execution_count": 65,
     "metadata": {},
     "output_type": "execute_result"
    },
    {
     "data": {
      "image/png": "[encoded data removed]",
      "text/plain": [
       "<Figure size 864x360 with 1 Axes>"
      ]
     },
     "metadata": {
      "needs_background": "light"
     },
     "output_type": "display_data"
    }
   ],
   "source": [
    "revenue_year_per_month.plot(kind='bar',y= ['smart','ultra'], x='month',grid=True, figsize=(12, 5))"
   ]
  },
  {
   "cell_type": "code",
   "execution_count": 66,
   "metadata": {},
   "outputs": [
    {
     "data": {
      "text/html": [
       "<div>\n",
       "<style scoped>\n",
       "    .dataframe tbody tr th:only-of-type {\n",
       "        vertical-align: middle;\n",
       "    }\n",
       "\n",
       "    .dataframe tbody tr th {\n",
       "        vertical-align: top;\n",
       "    }\n",
       "\n",
       "    .dataframe thead th {\n",
       "        text-align: right;\n",
       "    }\n",
       "</style>\n",
       "<table border=\"1\" class=\"dataframe\">\n",
       "  <thead>\n",
       "    <tr style=\"text-align: right;\">\n",
       "      <th></th>\n",
       "      <th>revenue</th>\n",
       "    </tr>\n",
       "    <tr>\n",
       "      <th>tariff</th>\n",
       "      <th></th>\n",
       "    </tr>\n",
       "  </thead>\n",
       "  <tbody>\n",
       "    <tr>\n",
       "      <th>smart</th>\n",
       "      <td>2875351.0</td>\n",
       "    </tr>\n",
       "    <tr>\n",
       "      <th>ultra</th>\n",
       "      <td>2039100.0</td>\n",
       "    </tr>\n",
       "  </tbody>\n",
       "</table>\n",
       "</div>"
      ],
      "text/plain": [
       "          revenue\n",
       "tariff           \n",
       "smart   2875351.0\n",
       "ultra   2039100.0"
      ]
     },
     "execution_count": 66,
     "metadata": {},
     "output_type": "execute_result"
    }
   ],
   "source": [
    "revenue_smart_vs_ultra_t=table_sfinal.pivot_table(index='tariff',values='revenue', aggfunc='sum')\n",
    "revenue_smart_vs_ultra_t"
   ]
  },
  {
   "cell_type": "markdown",
   "metadata": {},
   "source": [
    "### Выводы."
   ]
  },
  {
   "cell_type": "markdown",
   "metadata": {},
   "source": [
    "1. Пользователи тарифа Ультра используют больше минут разговора, интернет-траффика и сообщений в среднем по месяцу на 20-30%.\n",
    "2. Разброс величин по тарифу Ультра больше, чем по тарифу Смарт.\n",
    "3. Пользователи  тарифа Ультра создают большую нагрузку на инфраструктуру оператора в расчете на человека на 20-30%.\n",
    "4. Пользователи тарифа Смарт в общей сложности приносят в 1.45 раз больше выручки за год."
   ]
  },
  {
   "cell_type": "markdown",
   "metadata": {},
   "source": [
    "## Проверка гипотез."
   ]
  },
  {
   "cell_type": "markdown",
   "metadata": {},
   "source": [
    "### Проверка гипотезы о том, что средняя выручка по тарифам отличается."
   ]
  },
  {
   "cell_type": "markdown",
   "metadata": {},
   "source": [
    "Для начала небольшая иллюстрация. Построим гистограмму распределения выручки в зависимости от тарифа. Сразу интересно. По тарифу Ультру основное количество пользователей платит исключительно ежемесячный платеж (выброс до 2000 руб.). А вот по тарифу Смарт выручка распределена более равномерно вокруг величины 2.000 рублей."
   ]
  },
  {
   "cell_type": "code",
   "execution_count": 67,
   "metadata": {},
   "outputs": [
    {
     "data": {
      "text/plain": [
       "array([[<AxesSubplot:title={'center':'smart'}>,\n",
       "        <AxesSubplot:title={'center':'ultra'}>]], dtype=object)"
      ]
     },
     "execution_count": 67,
     "metadata": {},
     "output_type": "execute_result"
    },
    {
     "data": {
      "image/png": "[encoded data removed]",
      "text/plain": [
       "<Figure size 432x288 with 2 Axes>"
      ]
     },
     "metadata": {
      "needs_background": "light"
     },
     "output_type": "display_data"
    }
   ],
   "source": [
    "table_sfinal.pivot_table(index = 'user_id',columns=['tariff'], values='revenue', aggfunc='mean').hist(bins=25)"
   ]
  },
  {
   "cell_type": "markdown",
   "metadata": {},
   "source": [
    "Построим сводную таблицу со средними значениями по выручке в группировке по пользователям-месяцам."
   ]
  },
  {
   "cell_type": "code",
   "execution_count": 68,
   "metadata": {
    "scrolled": false
   },
   "outputs": [
    {
     "name": "stdout",
     "output_type": "stream",
     "text": [
      "<class 'pandas.core.frame.DataFrame'>\n",
      "MultiIndex: 3214 entries, (1000, 5) to (1499, 12)\n",
      "Data columns (total 2 columns):\n",
      " #   Column  Non-Null Count  Dtype  \n",
      "---  ------  --------------  -----  \n",
      " 0   smart   2229 non-null   float64\n",
      " 1   ultra   985 non-null    float64\n",
      "dtypes: float64(2)\n",
      "memory usage: 63.7 KB\n"
     ]
    },
    {
     "data": {
      "text/html": [
       "<div>\n",
       "<style scoped>\n",
       "    .dataframe tbody tr th:only-of-type {\n",
       "        vertical-align: middle;\n",
       "    }\n",
       "\n",
       "    .dataframe tbody tr th {\n",
       "        vertical-align: top;\n",
       "    }\n",
       "\n",
       "    .dataframe thead th {\n",
       "        text-align: right;\n",
       "    }\n",
       "</style>\n",
       "<table border=\"1\" class=\"dataframe\">\n",
       "  <thead>\n",
       "    <tr style=\"text-align: right;\">\n",
       "      <th>tariff</th>\n",
       "      <th>smart</th>\n",
       "      <th>ultra</th>\n",
       "    </tr>\n",
       "  </thead>\n",
       "  <tbody>\n",
       "    <tr>\n",
       "      <th>count</th>\n",
       "      <td>2229.000000</td>\n",
       "      <td>985.000000</td>\n",
       "    </tr>\n",
       "    <tr>\n",
       "      <th>mean</th>\n",
       "      <td>1289.973531</td>\n",
       "      <td>2070.152284</td>\n",
       "    </tr>\n",
       "    <tr>\n",
       "      <th>std</th>\n",
       "      <td>818.404367</td>\n",
       "      <td>376.187114</td>\n",
       "    </tr>\n",
       "    <tr>\n",
       "      <th>min</th>\n",
       "      <td>550.000000</td>\n",
       "      <td>1950.000000</td>\n",
       "    </tr>\n",
       "    <tr>\n",
       "      <th>25%</th>\n",
       "      <td>550.000000</td>\n",
       "      <td>1950.000000</td>\n",
       "    </tr>\n",
       "    <tr>\n",
       "      <th>50%</th>\n",
       "      <td>1023.000000</td>\n",
       "      <td>1950.000000</td>\n",
       "    </tr>\n",
       "    <tr>\n",
       "      <th>75%</th>\n",
       "      <td>1750.000000</td>\n",
       "      <td>1950.000000</td>\n",
       "    </tr>\n",
       "    <tr>\n",
       "      <th>max</th>\n",
       "      <td>6770.000000</td>\n",
       "      <td>4800.000000</td>\n",
       "    </tr>\n",
       "  </tbody>\n",
       "</table>\n",
       "</div>"
      ],
      "text/plain": [
       "tariff        smart        ultra\n",
       "count   2229.000000   985.000000\n",
       "mean    1289.973531  2070.152284\n",
       "std      818.404367   376.187114\n",
       "min      550.000000  1950.000000\n",
       "25%      550.000000  1950.000000\n",
       "50%     1023.000000  1950.000000\n",
       "75%     1750.000000  1950.000000\n",
       "max     6770.000000  4800.000000"
      ]
     },
     "execution_count": 68,
     "metadata": {},
     "output_type": "execute_result"
    }
   ],
   "source": [
    "revenue_smart_vs_ultra=table_sfinal.pivot_table(index=['user_id','month'],columns = 'tariff',values='revenue', aggfunc='mean')\n",
    "revenue_smart_vs_ultra.info()\n",
    "revenue_smart_vs_ultra.describe()"
   ]
  },
  {
   "cell_type": "markdown",
   "metadata": {},
   "source": [
    "Составим отдельные фреймы для тарифов Смарт и Ультра и удалим из них ячейки с пустыми значениями."
   ]
  },
  {
   "cell_type": "code",
   "execution_count": 69,
   "metadata": {},
   "outputs": [
    {
     "data": {
      "text/plain": [
       "count    2229.000000\n",
       "mean     1289.973531\n",
       "std       818.404367\n",
       "min       550.000000\n",
       "25%       550.000000\n",
       "50%      1023.000000\n",
       "75%      1750.000000\n",
       "max      6770.000000\n",
       "Name: smart, dtype: float64"
      ]
     },
     "execution_count": 69,
     "metadata": {},
     "output_type": "execute_result"
    }
   ],
   "source": [
    "total_smart=revenue_smart_vs_ultra['smart']\n",
    "total_smart=total_smart.dropna()\n",
    "total_smart.describe()"
   ]
  },
  {
   "cell_type": "code",
   "execution_count": 70,
   "metadata": {},
   "outputs": [
    {
     "data": {
      "text/plain": [
       "count     985.000000\n",
       "mean     2070.152284\n",
       "std       376.187114\n",
       "min      1950.000000\n",
       "25%      1950.000000\n",
       "50%      1950.000000\n",
       "75%      1950.000000\n",
       "max      4800.000000\n",
       "Name: ultra, dtype: float64"
      ]
     },
     "execution_count": 70,
     "metadata": {},
     "output_type": "execute_result"
    }
   ],
   "source": [
    "total_ultra=revenue_smart_vs_ultra['ultra']\n",
    "total_ultra=total_ultra.dropna()\n",
    "total_ultra.describe()"
   ]
  },
  {
   "cell_type": "markdown",
   "metadata": {},
   "source": [
    "Исследуем нулевую гипотезу о том, что средняя выручка по тарифам Смарт и Ультра не различаются. Альтернативная гипотеза, что они отличаются. Зададим уровень значимости (pvalue) в 0.01. "
   ]
  },
  {
   "cell_type": "code",
   "execution_count": 71,
   "metadata": {},
   "outputs": [
    {
     "name": "stdout",
     "output_type": "stream",
     "text": [
      "Средняя выручка по тарифам Смарт и Ультра не различаются. pvalue =  1.4229814360764067e-160\n",
      "Ttest_indResult(statistic=-28.611056741704818, pvalue=1.4229814360764067e-160)\n"
     ]
    }
   ],
   "source": [
    "results = st.ttest_ind(\n",
    "    total_smart, \n",
    "    total_ultra)\n",
    "if results.pvalue<0.01:\n",
    "    print ('Средняя выручка по тарифам Смарт и Ультра не различаются. pvalue = ',results.pvalue)\n",
    "else:\n",
    "    print ('Средняя выручка по тарифам Смарт и Ультра различаются. pvalue = ',results.pvalue)\n",
    "print (results)"
   ]
  },
  {
   "cell_type": "markdown",
   "metadata": {},
   "source": [
    "Гипотеза подтверждена. Средняя выручка по тарифам не отличается."
   ]
  },
  {
   "cell_type": "markdown",
   "metadata": {},
   "source": [
    "### Проверка гипотезы о том, что выручка в Москве и в остальных городах отличаются."
   ]
  },
  {
   "cell_type": "markdown",
   "metadata": {},
   "source": [
    "Проверим гипотезу о различии в средней выручке в Москве и других городах. Для этого сделаем две выборки Москва и неМосква и выделим из них столбцы с выручкой. "
   ]
  },
  {
   "cell_type": "code",
   "execution_count": 72,
   "metadata": {},
   "outputs": [
    {
     "data": {
      "text/plain": [
       "count     611.000000\n",
       "mean     1546.713584\n",
       "std       752.088071\n",
       "min       550.000000\n",
       "25%       780.500000\n",
       "50%      1750.000000\n",
       "75%      1950.000000\n",
       "max      5321.000000\n",
       "Name: revenue, dtype: float64"
      ]
     },
     "execution_count": 72,
     "metadata": {},
     "output_type": "execute_result"
    }
   ],
   "source": [
    "revenue_moscow_table = table_sfinal.query('city==\"Москва\"')\n",
    "revenue_moscow= revenue_moscow_table['revenue']\n",
    "revenue_moscow.describe()"
   ]
  },
  {
   "cell_type": "code",
   "execution_count": 73,
   "metadata": {},
   "outputs": [
    {
     "data": {
      "text/plain": [
       "count    2603.000000\n",
       "mean     1524.936227\n",
       "std       808.787752\n",
       "min       550.000000\n",
       "25%       750.000000\n",
       "50%      1583.000000\n",
       "75%      1950.000000\n",
       "max      6770.000000\n",
       "Name: revenue, dtype: float64"
      ]
     },
     "execution_count": 73,
     "metadata": {},
     "output_type": "execute_result"
    }
   ],
   "source": [
    "revenue_non_moscow_table = table_sfinal.query('city!=\"Москва\"')\n",
    "revenue_non_moscow= revenue_non_moscow_table['revenue']\n",
    "revenue_non_moscow.describe()"
   ]
  },
  {
   "cell_type": "code",
   "execution_count": 74,
   "metadata": {},
   "outputs": [
    {
     "name": "stdout",
     "output_type": "stream",
     "text": [
      "Ttest_indResult(statistic=0.606816942705698, pvalue=0.5440152911670224)\n"
     ]
    }
   ],
   "source": [
    "results_city = st.ttest_ind(\n",
    "    revenue_moscow, \n",
    "    revenue_non_moscow)\n",
    "print (results_city)"
   ]
  },
  {
   "cell_type": "markdown",
   "metadata": {},
   "source": [
    "Исследуем нулевую гипотезу о том, что средняя выручка в Москве и других городах не различаются. Альтернативная гипотеза, что они отличаются. Зададим уровень значимости (pvalue) в 0.01. "
   ]
  },
  {
   "cell_type": "code",
   "execution_count": 75,
   "metadata": {
    "scrolled": true
   },
   "outputs": [
    {
     "name": "stdout",
     "output_type": "stream",
     "text": [
      "Средняя выручка  в Москве и других городах различаются. pvalue =  0.5440152911670224\n",
      "Ttest_indResult(statistic=0.606816942705698, pvalue=0.5440152911670224)\n"
     ]
    }
   ],
   "source": [
    "if results_city.pvalue<0.01:\n",
    "    print ('Средняя выручка в Москве и других городах не различаются. pvalue = ',results_city.pvalue)\n",
    "else:\n",
    "    print ('Средняя выручка  в Москве и других городах различаются. pvalue = ',results_city.pvalue)\n",
    "print (results_city)"
   ]
  },
  {
   "cell_type": "code",
   "execution_count": 76,
   "metadata": {},
   "outputs": [
    {
     "name": "stdout",
     "output_type": "stream",
     "text": [
      "Средняя выручка  в Москве и других городах различаются. pvalue =  0.5440152911670224\n",
      "Ttest_indResult(statistic=0.606816942705698, pvalue=0.5440152911670224)\n"
     ]
    }
   ],
   "source": [
    "if results_city.pvalue<0.05:\n",
    "    print ('Средняя выручка в Москве и других городах не различаются. pvalue = ',results_city.pvalue)\n",
    "else:\n",
    "    print ('Средняя выручка  в Москве и других городах различаются. pvalue = ',results_city.pvalue)\n",
    "print (results_city)"
   ]
  },
  {
   "cell_type": "markdown",
   "metadata": {},
   "source": [
    "Нулевая гипотеза опровергнута. Выручка в Москве и других городах значительно различаются."
   ]
  },
  {
   "cell_type": "markdown",
   "metadata": {},
   "source": [
    "### Выводы."
   ]
  },
  {
   "cell_type": "markdown",
   "metadata": {},
   "source": [
    "1. Проведены исследования показателей используемых минут, интернет-трафика и сообщений. Установлено:\n",
    "    - пользователи тарифа Ультра используют ресурсы в среднем не менее чем на 20% более активно, т.е. создают пропорционально большую нагрузку на оборудование оператора.\n",
    "    - разброс величин значений использования ресурсов по тарифу Ультра также больше.\n",
    "    - к концу года пользователи тарифа Ультра начали использовать значительно больше сообщений.\n",
    "2. Гипотеза о том, что средняя выручка по тарифам Ультра и Смарт не отличается подтверждена.\n",
    "3. Средняя выручка в Москве и других городах различаются."
   ]
  },
  {
   "cell_type": "markdown",
   "metadata": {},
   "source": [
    "## Общие выводы."
   ]
  },
  {
   "cell_type": "markdown",
   "metadata": {},
   "source": [
    "1. В ходе исследования были открыты и исследованы исходные файлы. В ходе предобработки:\n",
    "    - Столбцы 'message_date' в датафрейме messages, 'call_date' в calls, 'session_date' в internet, 'churn_date' и 'reg_date' приведены к типу datetime.\n",
    "    - Cтолбец 'Unnamed: 0' в internet удалён.\n",
    "    - Заполнили пропуски в столбце 'churn_date' в users значением 31 декабря 2018 года, полагая, что контракт дейстовал, как минимум до конца 2018 года (а это период нашего анализа).\n",
    "    \n",
    "2. На этапе расчетов:\n",
    "    - Создана сводная таблица, куда вошли id пользователей, данные о потраченных минутах, сообщениях и гигабайтах, по видам услуг. Данные о суммарных затратах пользователей по месяцам.\n",
    "    - Для расчета суммарного тарифа составлена функция, где учли, что:\n",
    "        - 1 Гб это 1024 Мб,\n",
    "        - суммируются данные по всем интернет-сессиям за месяц и округляются до целых Гб в большую сторону.\n",
    "    - Сводная таблица очищена от избыточных для дальнейшего анализа столбцов. Данные в 'table_sfinal'.\n",
    "    \n",
    "3. На этапе исследований устновлено:\n",
    "    - Пользователи тарифа Ультра используют больше минут разговора, интернет-траффика и сообщений в среднем по месяцу на 20-30%.\n",
    "    - Разброс величин по тарифу Ультра больше, чем по тарифу Смарт.\n",
    "    - Пользователи тарифа Ультра создают большую нагрузку на инфраструктуру оператора в расчете на человека на 20-30%.\n",
    "    \n",
    "4. На этапе статистического анализа:\n",
    "    - Проведены исследования показателей используемых минут, интернет-трафика и сообщений. Установлено:\n",
    "        - пользователи тарифа Ультра используют ресурсы в среднем не менее чем на 20% более активно, т.е. создают пропорционально большую нагрузку на оборудование оператора.\n",
    "        - разброс величин значений использования ресурсов по тарифу Ультра также больше.\n",
    "        - к концу года пользователи тарифа Ультра начали использовать значительно больше сообщений.\n",
    "    - Гипотеза о том, что средняя выручка по тарифам Ультра и Смарт не отличается подтверждена.\n",
    "    - Средняя выручка в Москве и других городах различаются.\n",
    "\n",
    "5. Пользователи тарифа Ультра создают большую удельную нагрузку на оборудование оператора (от 20%). При этом средняя выручка по тарифам сравнима. Поэтому более перспективным для оператора является вложение средств в продвижение тарифа Смарт.\n",
    "6. Пользователи тарифа Ультра в целом по году принесли в 1.45 раза больше выручки."
   ]
  },
  {
   "cell_type": "markdown",
   "metadata": {},
   "source": [
    "## Самый глобальный вывод."
   ]
  },
  {
   "cell_type": "markdown",
   "metadata": {},
   "source": [
    "Тариф Смарт более выгоден для компании, так как:\n",
    "1. Пользователи тарифа приносят в 1.45 раза большую выручку в течение года.\n",
    "2. Пользователи тарифа Ультра создают большую удельную нагрузку на оборудование оператора (от 20%). При этом средняя выручка по тарифам сравнима. Поэтому более перспективным для оператора является вложение средств в продвижение тарифа Смарт."
   ]
  }
 ],
 "metadata": {
  "ExecuteTimeLog": [
   {
    "duration": 47,
    "start_time": "2022-06-20T00:51:13.485Z"
   },
   {
    "duration": 937,
    "start_time": "2022-06-24T21:18:30.314Z"
   },
   {
    "duration": 195,
    "start_time": "2022-06-24T21:18:33.324Z"
   },
   {
    "duration": 15,
    "start_time": "2022-06-24T21:19:02.362Z"
   },
   {
    "duration": 16,
    "start_time": "2022-06-24T21:20:10.088Z"
   },
   {
    "duration": 428,
    "start_time": "2022-06-24T21:22:15.162Z"
   },
   {
    "duration": 5,
    "start_time": "2022-06-24T21:23:09.146Z"
   },
   {
    "duration": 130,
    "start_time": "2022-06-24T21:23:09.153Z"
   },
   {
    "duration": 22,
    "start_time": "2022-06-24T21:23:09.290Z"
   },
   {
    "duration": 297,
    "start_time": "2022-06-24T21:23:09.314Z"
   },
   {
    "duration": 49,
    "start_time": "2022-06-24T21:23:09.614Z"
   },
   {
    "duration": 86,
    "start_time": "2022-06-24T21:26:20.261Z"
   },
   {
    "duration": 959,
    "start_time": "2022-06-24T21:26:42.893Z"
   },
   {
    "duration": 31,
    "start_time": "2022-06-24T21:26:46.359Z"
   },
   {
    "duration": 590,
    "start_time": "2022-06-24T21:30:27.115Z"
   },
   {
    "duration": 41,
    "start_time": "2022-06-24T21:30:29.481Z"
   },
   {
    "duration": 103,
    "start_time": "2022-06-24T21:32:24.937Z"
   },
   {
    "duration": 24,
    "start_time": "2022-06-24T21:32:27.720Z"
   },
   {
    "duration": 47,
    "start_time": "2022-06-25T08:18:20.007Z"
   },
   {
    "duration": 770,
    "start_time": "2022-06-25T08:18:36.365Z"
   },
   {
    "duration": 76,
    "start_time": "2022-06-25T08:18:37.137Z"
   },
   {
    "duration": 16,
    "start_time": "2022-06-25T08:18:37.214Z"
   },
   {
    "duration": 23,
    "start_time": "2022-06-25T08:18:37.232Z"
   },
   {
    "duration": 238,
    "start_time": "2022-06-25T08:18:37.257Z"
   },
   {
    "duration": 32,
    "start_time": "2022-06-25T08:18:37.497Z"
   },
   {
    "duration": 285,
    "start_time": "2022-06-25T08:18:37.531Z"
   },
   {
    "duration": 19,
    "start_time": "2022-06-25T08:18:37.818Z"
   },
   {
    "duration": 305,
    "start_time": "2022-06-25T08:18:37.838Z"
   },
   {
    "duration": 23,
    "start_time": "2022-06-25T08:18:38.145Z"
   },
   {
    "duration": 67,
    "start_time": "2022-06-25T08:18:38.170Z"
   },
   {
    "duration": 13,
    "start_time": "2022-06-25T08:18:38.239Z"
   },
   {
    "duration": 48,
    "start_time": "2022-06-25T15:15:59.841Z"
   },
   {
    "duration": 983,
    "start_time": "2022-06-25T15:16:06.583Z"
   },
   {
    "duration": 94,
    "start_time": "2022-06-25T15:16:07.568Z"
   },
   {
    "duration": 23,
    "start_time": "2022-06-25T15:16:07.664Z"
   },
   {
    "duration": 23,
    "start_time": "2022-06-25T15:16:07.690Z"
   },
   {
    "duration": 302,
    "start_time": "2022-06-25T15:16:07.715Z"
   },
   {
    "duration": 43,
    "start_time": "2022-06-25T15:16:08.019Z"
   },
   {
    "duration": 38,
    "start_time": "2022-06-25T15:16:08.065Z"
   },
   {
    "duration": 349,
    "start_time": "2022-06-25T15:16:08.105Z"
   },
   {
    "duration": 35,
    "start_time": "2022-06-25T15:16:08.457Z"
   },
   {
    "duration": 512,
    "start_time": "2022-06-25T15:16:08.494Z"
   },
   {
    "duration": 46,
    "start_time": "2022-06-25T15:16:09.008Z"
   },
   {
    "duration": 79,
    "start_time": "2022-06-25T15:16:09.056Z"
   },
   {
    "duration": 19,
    "start_time": "2022-06-25T15:16:09.137Z"
   },
   {
    "duration": 13,
    "start_time": "2022-06-25T15:17:20.957Z"
   },
   {
    "duration": 5,
    "start_time": "2022-06-25T15:19:34.916Z"
   },
   {
    "duration": 4,
    "start_time": "2022-06-25T15:20:05.381Z"
   },
   {
    "duration": 4,
    "start_time": "2022-06-25T15:21:52.067Z"
   },
   {
    "duration": 5,
    "start_time": "2022-06-25T15:24:16.789Z"
   },
   {
    "duration": 4,
    "start_time": "2022-06-25T15:52:53.018Z"
   },
   {
    "duration": 43,
    "start_time": "2022-06-25T15:55:11.795Z"
   },
   {
    "duration": 2,
    "start_time": "2022-06-25T16:08:01.152Z"
   },
   {
    "duration": 63,
    "start_time": "2022-06-25T16:08:01.157Z"
   },
   {
    "duration": 19,
    "start_time": "2022-06-25T16:08:01.222Z"
   },
   {
    "duration": 93,
    "start_time": "2022-06-25T16:08:01.243Z"
   },
   {
    "duration": 32,
    "start_time": "2022-06-25T16:08:01.338Z"
   },
   {
    "duration": 21,
    "start_time": "2022-06-25T16:08:01.372Z"
   },
   {
    "duration": 33,
    "start_time": "2022-06-25T16:08:01.396Z"
   },
   {
    "duration": 206,
    "start_time": "2022-06-25T16:08:01.431Z"
   },
   {
    "duration": 30,
    "start_time": "2022-06-25T16:08:01.639Z"
   },
   {
    "duration": 48,
    "start_time": "2022-06-25T16:08:01.671Z"
   },
   {
    "duration": 103,
    "start_time": "2022-06-25T16:08:01.721Z"
   },
   {
    "duration": 21,
    "start_time": "2022-06-25T16:08:01.826Z"
   },
   {
    "duration": 144,
    "start_time": "2022-06-25T16:08:01.849Z"
   },
   {
    "duration": 23,
    "start_time": "2022-06-25T16:08:01.994Z"
   },
   {
    "duration": 26,
    "start_time": "2022-06-25T16:08:02.026Z"
   },
   {
    "duration": 14,
    "start_time": "2022-06-25T16:08:02.054Z"
   },
   {
    "duration": 12,
    "start_time": "2022-06-25T16:08:02.070Z"
   },
   {
    "duration": 3,
    "start_time": "2022-06-25T16:34:41.551Z"
   },
   {
    "duration": 43,
    "start_time": "2022-06-25T16:34:41.558Z"
   },
   {
    "duration": 14,
    "start_time": "2022-06-25T16:34:41.603Z"
   },
   {
    "duration": 24,
    "start_time": "2022-06-25T16:34:41.618Z"
   },
   {
    "duration": 7,
    "start_time": "2022-06-25T16:34:41.644Z"
   },
   {
    "duration": 10,
    "start_time": "2022-06-25T16:34:41.653Z"
   },
   {
    "duration": 6,
    "start_time": "2022-06-25T16:34:41.665Z"
   },
   {
    "duration": 186,
    "start_time": "2022-06-25T16:34:41.673Z"
   },
   {
    "duration": 27,
    "start_time": "2022-06-25T16:34:41.861Z"
   },
   {
    "duration": 27,
    "start_time": "2022-06-25T16:34:41.889Z"
   },
   {
    "duration": 102,
    "start_time": "2022-06-25T16:34:41.918Z"
   },
   {
    "duration": 32,
    "start_time": "2022-06-25T16:34:42.021Z"
   },
   {
    "duration": 139,
    "start_time": "2022-06-25T16:34:42.054Z"
   },
   {
    "duration": 24,
    "start_time": "2022-06-25T16:34:42.195Z"
   },
   {
    "duration": 40,
    "start_time": "2022-06-25T16:34:42.221Z"
   },
   {
    "duration": 14,
    "start_time": "2022-06-25T16:34:42.263Z"
   },
   {
    "duration": 13,
    "start_time": "2022-06-25T16:34:42.279Z"
   },
   {
    "duration": 4,
    "start_time": "2022-06-25T16:45:11.196Z"
   },
   {
    "duration": 54,
    "start_time": "2022-06-25T16:46:56.367Z"
   },
   {
    "duration": 8,
    "start_time": "2022-06-25T16:49:10.001Z"
   },
   {
    "duration": 8,
    "start_time": "2022-06-25T16:49:30.317Z"
   },
   {
    "duration": 4,
    "start_time": "2022-06-25T16:50:11.802Z"
   },
   {
    "duration": 5,
    "start_time": "2022-06-25T16:51:17.023Z"
   },
   {
    "duration": 6,
    "start_time": "2022-06-25T16:56:00.014Z"
   },
   {
    "duration": 804,
    "start_time": "2022-06-26T12:24:14.016Z"
   },
   {
    "duration": 72,
    "start_time": "2022-06-26T12:24:14.822Z"
   },
   {
    "duration": 15,
    "start_time": "2022-06-26T12:24:14.896Z"
   },
   {
    "duration": 7,
    "start_time": "2022-06-26T12:24:14.912Z"
   },
   {
    "duration": 7,
    "start_time": "2022-06-26T12:24:14.920Z"
   },
   {
    "duration": 19,
    "start_time": "2022-06-26T12:24:14.929Z"
   },
   {
    "duration": 4,
    "start_time": "2022-06-26T12:24:14.949Z"
   },
   {
    "duration": 6,
    "start_time": "2022-06-26T12:24:14.954Z"
   },
   {
    "duration": 201,
    "start_time": "2022-06-26T12:24:14.961Z"
   },
   {
    "duration": 23,
    "start_time": "2022-06-26T12:24:15.164Z"
   },
   {
    "duration": 23,
    "start_time": "2022-06-26T12:24:15.189Z"
   },
   {
    "duration": 293,
    "start_time": "2022-06-26T12:24:15.213Z"
   },
   {
    "duration": 19,
    "start_time": "2022-06-26T12:24:15.507Z"
   },
   {
    "duration": 278,
    "start_time": "2022-06-26T12:24:15.528Z"
   },
   {
    "duration": 20,
    "start_time": "2022-06-26T12:24:15.808Z"
   },
   {
    "duration": 37,
    "start_time": "2022-06-26T12:24:15.830Z"
   },
   {
    "duration": 67,
    "start_time": "2022-06-26T12:24:15.869Z"
   },
   {
    "duration": 11,
    "start_time": "2022-06-26T12:24:15.938Z"
   },
   {
    "duration": 23,
    "start_time": "2022-06-26T12:26:40.440Z"
   },
   {
    "duration": 3,
    "start_time": "2022-06-26T12:27:17.356Z"
   },
   {
    "duration": 42,
    "start_time": "2022-06-26T12:27:17.362Z"
   },
   {
    "duration": 14,
    "start_time": "2022-06-26T12:27:17.405Z"
   },
   {
    "duration": 3,
    "start_time": "2022-06-26T12:27:17.421Z"
   },
   {
    "duration": 5,
    "start_time": "2022-06-26T12:27:17.426Z"
   },
   {
    "duration": 14,
    "start_time": "2022-06-26T12:27:17.433Z"
   },
   {
    "duration": 6,
    "start_time": "2022-06-26T12:27:17.448Z"
   },
   {
    "duration": 5,
    "start_time": "2022-06-26T12:27:17.455Z"
   },
   {
    "duration": 146,
    "start_time": "2022-06-26T12:27:17.461Z"
   },
   {
    "duration": 24,
    "start_time": "2022-06-26T12:27:17.609Z"
   },
   {
    "duration": 29,
    "start_time": "2022-06-26T12:27:17.636Z"
   },
   {
    "duration": 80,
    "start_time": "2022-06-26T12:27:17.666Z"
   },
   {
    "duration": 17,
    "start_time": "2022-06-26T12:27:17.748Z"
   },
   {
    "duration": 110,
    "start_time": "2022-06-26T12:27:17.767Z"
   },
   {
    "duration": 21,
    "start_time": "2022-06-26T12:27:17.879Z"
   },
   {
    "duration": 24,
    "start_time": "2022-06-26T12:27:17.902Z"
   },
   {
    "duration": 24,
    "start_time": "2022-06-26T12:27:17.928Z"
   },
   {
    "duration": 13,
    "start_time": "2022-06-26T12:27:17.953Z"
   },
   {
    "duration": 24,
    "start_time": "2022-06-26T12:27:17.968Z"
   },
   {
    "duration": 23,
    "start_time": "2022-06-26T12:28:12.606Z"
   },
   {
    "duration": 22,
    "start_time": "2022-06-26T12:28:43.331Z"
   },
   {
    "duration": 24,
    "start_time": "2022-06-26T12:29:51.607Z"
   },
   {
    "duration": 77,
    "start_time": "2022-06-26T12:35:03.123Z"
   },
   {
    "duration": 7,
    "start_time": "2022-06-26T12:35:18.348Z"
   },
   {
    "duration": 15,
    "start_time": "2022-06-26T12:35:59.206Z"
   },
   {
    "duration": 28,
    "start_time": "2022-06-26T12:39:27.535Z"
   },
   {
    "duration": 6,
    "start_time": "2022-06-26T12:40:09.034Z"
   },
   {
    "duration": 13,
    "start_time": "2022-06-26T12:40:50.044Z"
   },
   {
    "duration": 2,
    "start_time": "2022-06-26T12:41:28.048Z"
   },
   {
    "duration": 41,
    "start_time": "2022-06-26T12:41:28.054Z"
   },
   {
    "duration": 12,
    "start_time": "2022-06-26T12:41:28.097Z"
   },
   {
    "duration": 6,
    "start_time": "2022-06-26T12:41:28.111Z"
   },
   {
    "duration": 9,
    "start_time": "2022-06-26T12:41:28.119Z"
   },
   {
    "duration": 19,
    "start_time": "2022-06-26T12:41:28.131Z"
   },
   {
    "duration": 9,
    "start_time": "2022-06-26T12:41:28.152Z"
   },
   {
    "duration": 19,
    "start_time": "2022-06-26T12:41:28.163Z"
   },
   {
    "duration": 135,
    "start_time": "2022-06-26T12:41:28.184Z"
   },
   {
    "duration": 23,
    "start_time": "2022-06-26T12:41:28.320Z"
   },
   {
    "duration": 27,
    "start_time": "2022-06-26T12:41:28.345Z"
   },
   {
    "duration": 77,
    "start_time": "2022-06-26T12:41:28.374Z"
   },
   {
    "duration": 19,
    "start_time": "2022-06-26T12:41:28.452Z"
   },
   {
    "duration": 113,
    "start_time": "2022-06-26T12:41:28.472Z"
   },
   {
    "duration": 19,
    "start_time": "2022-06-26T12:41:28.588Z"
   },
   {
    "duration": 33,
    "start_time": "2022-06-26T12:41:28.609Z"
   },
   {
    "duration": 15,
    "start_time": "2022-06-26T12:41:28.643Z"
   },
   {
    "duration": 11,
    "start_time": "2022-06-26T12:41:28.659Z"
   },
   {
    "duration": 25,
    "start_time": "2022-06-26T12:41:28.672Z"
   },
   {
    "duration": 7,
    "start_time": "2022-06-26T12:41:28.698Z"
   },
   {
    "duration": 13,
    "start_time": "2022-06-26T12:41:28.706Z"
   },
   {
    "duration": 13,
    "start_time": "2022-06-26T12:42:26.404Z"
   },
   {
    "duration": 100,
    "start_time": "2022-06-26T12:49:14.484Z"
   },
   {
    "duration": 2,
    "start_time": "2022-06-26T12:51:39.675Z"
   },
   {
    "duration": 38,
    "start_time": "2022-06-26T12:51:39.681Z"
   },
   {
    "duration": 12,
    "start_time": "2022-06-26T12:51:39.721Z"
   },
   {
    "duration": 10,
    "start_time": "2022-06-26T12:51:39.734Z"
   },
   {
    "duration": 5,
    "start_time": "2022-06-26T12:51:39.746Z"
   },
   {
    "duration": 17,
    "start_time": "2022-06-26T12:51:39.752Z"
   },
   {
    "duration": 4,
    "start_time": "2022-06-26T12:51:39.770Z"
   },
   {
    "duration": 6,
    "start_time": "2022-06-26T12:51:39.776Z"
   },
   {
    "duration": 139,
    "start_time": "2022-06-26T12:51:39.783Z"
   },
   {
    "duration": 28,
    "start_time": "2022-06-26T12:51:39.924Z"
   },
   {
    "duration": 22,
    "start_time": "2022-06-26T12:51:39.954Z"
   },
   {
    "duration": 82,
    "start_time": "2022-06-26T12:51:39.978Z"
   },
   {
    "duration": 21,
    "start_time": "2022-06-26T12:51:40.062Z"
   },
   {
    "duration": 122,
    "start_time": "2022-06-26T12:51:40.084Z"
   },
   {
    "duration": 19,
    "start_time": "2022-06-26T12:51:40.208Z"
   },
   {
    "duration": 33,
    "start_time": "2022-06-26T12:51:40.229Z"
   },
   {
    "duration": 14,
    "start_time": "2022-06-26T12:51:40.264Z"
   },
   {
    "duration": 18,
    "start_time": "2022-06-26T12:51:40.279Z"
   },
   {
    "duration": 26,
    "start_time": "2022-06-26T12:51:40.298Z"
   },
   {
    "duration": 6,
    "start_time": "2022-06-26T12:51:40.326Z"
   },
   {
    "duration": 19,
    "start_time": "2022-06-26T12:51:40.333Z"
   },
   {
    "duration": 104,
    "start_time": "2022-06-26T12:51:40.354Z"
   },
   {
    "duration": 2,
    "start_time": "2022-06-26T12:55:10.873Z"
   },
   {
    "duration": 40,
    "start_time": "2022-06-26T12:55:10.881Z"
   },
   {
    "duration": 19,
    "start_time": "2022-06-26T12:55:10.923Z"
   },
   {
    "duration": 13,
    "start_time": "2022-06-26T12:55:10.944Z"
   },
   {
    "duration": 14,
    "start_time": "2022-06-26T12:55:10.959Z"
   },
   {
    "duration": 18,
    "start_time": "2022-06-26T12:55:10.976Z"
   },
   {
    "duration": 4,
    "start_time": "2022-06-26T12:55:10.996Z"
   },
   {
    "duration": 8,
    "start_time": "2022-06-26T12:55:11.002Z"
   },
   {
    "duration": 135,
    "start_time": "2022-06-26T12:55:11.012Z"
   },
   {
    "duration": 24,
    "start_time": "2022-06-26T12:55:11.148Z"
   },
   {
    "duration": 22,
    "start_time": "2022-06-26T12:55:11.173Z"
   },
   {
    "duration": 74,
    "start_time": "2022-06-26T12:55:11.197Z"
   },
   {
    "duration": 18,
    "start_time": "2022-06-26T12:55:11.273Z"
   },
   {
    "duration": 111,
    "start_time": "2022-06-26T12:55:11.292Z"
   },
   {
    "duration": 20,
    "start_time": "2022-06-26T12:55:11.405Z"
   },
   {
    "duration": 37,
    "start_time": "2022-06-26T12:55:11.426Z"
   },
   {
    "duration": 15,
    "start_time": "2022-06-26T12:55:11.465Z"
   },
   {
    "duration": 12,
    "start_time": "2022-06-26T12:55:11.481Z"
   },
   {
    "duration": 28,
    "start_time": "2022-06-26T12:55:11.494Z"
   },
   {
    "duration": 6,
    "start_time": "2022-06-26T12:55:11.524Z"
   },
   {
    "duration": 26,
    "start_time": "2022-06-26T12:55:11.532Z"
   },
   {
    "duration": 100,
    "start_time": "2022-06-26T12:55:11.559Z"
   },
   {
    "duration": 2,
    "start_time": "2022-06-26T12:57:16.833Z"
   },
   {
    "duration": 63,
    "start_time": "2022-06-26T12:57:16.842Z"
   },
   {
    "duration": 13,
    "start_time": "2022-06-26T12:57:16.906Z"
   },
   {
    "duration": 10,
    "start_time": "2022-06-26T12:57:16.920Z"
   },
   {
    "duration": 16,
    "start_time": "2022-06-26T12:57:16.931Z"
   },
   {
    "duration": 17,
    "start_time": "2022-06-26T12:57:16.949Z"
   },
   {
    "duration": 28,
    "start_time": "2022-06-26T12:57:16.968Z"
   },
   {
    "duration": 21,
    "start_time": "2022-06-26T12:57:16.999Z"
   },
   {
    "duration": 143,
    "start_time": "2022-06-26T12:57:17.022Z"
   },
   {
    "duration": 22,
    "start_time": "2022-06-26T12:57:17.167Z"
   },
   {
    "duration": 33,
    "start_time": "2022-06-26T12:57:17.190Z"
   },
   {
    "duration": 79,
    "start_time": "2022-06-26T12:57:17.224Z"
   },
   {
    "duration": 17,
    "start_time": "2022-06-26T12:57:17.305Z"
   },
   {
    "duration": 125,
    "start_time": "2022-06-26T12:57:17.324Z"
   },
   {
    "duration": 22,
    "start_time": "2022-06-26T12:57:17.452Z"
   },
   {
    "duration": 30,
    "start_time": "2022-06-26T12:57:17.475Z"
   },
   {
    "duration": 14,
    "start_time": "2022-06-26T12:57:17.507Z"
   },
   {
    "duration": 29,
    "start_time": "2022-06-26T12:57:17.523Z"
   },
   {
    "duration": 30,
    "start_time": "2022-06-26T12:57:17.553Z"
   },
   {
    "duration": 6,
    "start_time": "2022-06-26T12:57:17.585Z"
   },
   {
    "duration": 28,
    "start_time": "2022-06-26T12:57:17.593Z"
   },
   {
    "duration": 109,
    "start_time": "2022-06-26T12:57:17.622Z"
   },
   {
    "duration": 2,
    "start_time": "2022-06-26T13:53:11.436Z"
   },
   {
    "duration": 43,
    "start_time": "2022-06-26T13:53:11.442Z"
   },
   {
    "duration": 13,
    "start_time": "2022-06-26T13:53:11.487Z"
   },
   {
    "duration": 3,
    "start_time": "2022-06-26T13:53:11.502Z"
   },
   {
    "duration": 10,
    "start_time": "2022-06-26T13:53:11.507Z"
   },
   {
    "duration": 22,
    "start_time": "2022-06-26T13:53:11.519Z"
   },
   {
    "duration": 5,
    "start_time": "2022-06-26T13:53:11.543Z"
   },
   {
    "duration": 7,
    "start_time": "2022-06-26T13:53:11.550Z"
   },
   {
    "duration": 136,
    "start_time": "2022-06-26T13:53:11.559Z"
   },
   {
    "duration": 24,
    "start_time": "2022-06-26T13:53:11.697Z"
   },
   {
    "duration": 34,
    "start_time": "2022-06-26T13:53:11.723Z"
   },
   {
    "duration": 78,
    "start_time": "2022-06-26T13:53:11.759Z"
   },
   {
    "duration": 22,
    "start_time": "2022-06-26T13:53:11.839Z"
   },
   {
    "duration": 117,
    "start_time": "2022-06-26T13:53:11.862Z"
   },
   {
    "duration": 20,
    "start_time": "2022-06-26T13:53:11.982Z"
   },
   {
    "duration": 25,
    "start_time": "2022-06-26T13:53:12.004Z"
   },
   {
    "duration": 22,
    "start_time": "2022-06-26T13:53:12.030Z"
   },
   {
    "duration": 11,
    "start_time": "2022-06-26T13:53:12.054Z"
   },
   {
    "duration": 23,
    "start_time": "2022-06-26T13:53:12.066Z"
   },
   {
    "duration": 6,
    "start_time": "2022-06-26T13:53:12.091Z"
   },
   {
    "duration": 22,
    "start_time": "2022-06-26T13:53:12.098Z"
   },
   {
    "duration": 112,
    "start_time": "2022-06-26T13:53:12.121Z"
   },
   {
    "duration": 2,
    "start_time": "2022-06-26T13:57:28.995Z"
   },
   {
    "duration": 42,
    "start_time": "2022-06-26T13:57:29.002Z"
   },
   {
    "duration": 12,
    "start_time": "2022-06-26T13:57:29.046Z"
   },
   {
    "duration": 23,
    "start_time": "2022-06-26T13:57:29.059Z"
   },
   {
    "duration": 19,
    "start_time": "2022-06-26T13:57:29.084Z"
   },
   {
    "duration": 31,
    "start_time": "2022-06-26T13:57:29.104Z"
   },
   {
    "duration": 15,
    "start_time": "2022-06-26T13:57:29.136Z"
   },
   {
    "duration": 16,
    "start_time": "2022-06-26T13:57:29.153Z"
   },
   {
    "duration": 136,
    "start_time": "2022-06-26T13:57:29.171Z"
   },
   {
    "duration": 23,
    "start_time": "2022-06-26T13:57:29.308Z"
   },
   {
    "duration": 33,
    "start_time": "2022-06-26T13:57:29.333Z"
   },
   {
    "duration": 75,
    "start_time": "2022-06-26T13:57:29.367Z"
   },
   {
    "duration": 17,
    "start_time": "2022-06-26T13:57:29.444Z"
   },
   {
    "duration": 106,
    "start_time": "2022-06-26T13:57:29.463Z"
   },
   {
    "duration": 20,
    "start_time": "2022-06-26T13:57:29.571Z"
   },
   {
    "duration": 27,
    "start_time": "2022-06-26T13:57:29.593Z"
   },
   {
    "duration": 15,
    "start_time": "2022-06-26T13:57:29.621Z"
   },
   {
    "duration": 17,
    "start_time": "2022-06-26T13:57:29.637Z"
   },
   {
    "duration": 25,
    "start_time": "2022-06-26T13:57:29.656Z"
   },
   {
    "duration": 6,
    "start_time": "2022-06-26T13:57:29.683Z"
   },
   {
    "duration": 14,
    "start_time": "2022-06-26T13:57:29.690Z"
   },
   {
    "duration": 108,
    "start_time": "2022-06-26T13:57:29.705Z"
   },
   {
    "duration": 18,
    "start_time": "2022-06-26T14:03:42.936Z"
   },
   {
    "duration": 89,
    "start_time": "2022-06-26T14:21:30.615Z"
   },
   {
    "duration": 22,
    "start_time": "2022-06-26T14:21:40.444Z"
   },
   {
    "duration": 23,
    "start_time": "2022-06-26T14:22:53.427Z"
   },
   {
    "duration": 22,
    "start_time": "2022-06-26T14:26:32.284Z"
   },
   {
    "duration": 25,
    "start_time": "2022-06-26T14:27:58.498Z"
   },
   {
    "duration": 59,
    "start_time": "2022-06-26T14:37:40.612Z"
   },
   {
    "duration": 24,
    "start_time": "2022-06-26T14:37:57.706Z"
   },
   {
    "duration": 24,
    "start_time": "2022-06-26T14:38:32.418Z"
   },
   {
    "duration": 30,
    "start_time": "2022-06-26T14:49:05.464Z"
   },
   {
    "duration": 3,
    "start_time": "2022-06-26T14:49:23.453Z"
   },
   {
    "duration": 45,
    "start_time": "2022-06-26T14:49:23.467Z"
   },
   {
    "duration": 12,
    "start_time": "2022-06-26T14:49:23.514Z"
   },
   {
    "duration": 21,
    "start_time": "2022-06-26T14:49:23.528Z"
   },
   {
    "duration": 44,
    "start_time": "2022-06-26T14:49:23.551Z"
   },
   {
    "duration": 37,
    "start_time": "2022-06-26T14:49:23.597Z"
   },
   {
    "duration": 27,
    "start_time": "2022-06-26T14:49:23.636Z"
   },
   {
    "duration": 20,
    "start_time": "2022-06-26T14:49:23.665Z"
   },
   {
    "duration": 145,
    "start_time": "2022-06-26T14:49:23.687Z"
   },
   {
    "duration": 24,
    "start_time": "2022-06-26T14:49:23.834Z"
   },
   {
    "duration": 27,
    "start_time": "2022-06-26T14:49:23.859Z"
   },
   {
    "duration": 77,
    "start_time": "2022-06-26T14:49:23.888Z"
   },
   {
    "duration": 19,
    "start_time": "2022-06-26T14:49:23.967Z"
   },
   {
    "duration": 117,
    "start_time": "2022-06-26T14:49:23.987Z"
   },
   {
    "duration": 22,
    "start_time": "2022-06-26T14:49:24.107Z"
   },
   {
    "duration": 34,
    "start_time": "2022-06-26T14:49:24.130Z"
   },
   {
    "duration": 15,
    "start_time": "2022-06-26T14:49:24.165Z"
   },
   {
    "duration": 11,
    "start_time": "2022-06-26T14:49:24.181Z"
   },
   {
    "duration": 23,
    "start_time": "2022-06-26T14:49:24.193Z"
   },
   {
    "duration": 7,
    "start_time": "2022-06-26T14:49:24.218Z"
   },
   {
    "duration": 29,
    "start_time": "2022-06-26T14:49:24.227Z"
   },
   {
    "duration": 105,
    "start_time": "2022-06-26T14:49:24.257Z"
   },
   {
    "duration": 16,
    "start_time": "2022-06-26T14:49:24.364Z"
   },
   {
    "duration": 23,
    "start_time": "2022-06-26T14:49:24.382Z"
   },
   {
    "duration": 51,
    "start_time": "2022-06-26T14:49:24.407Z"
   },
   {
    "duration": 0,
    "start_time": "2022-06-26T14:49:24.459Z"
   },
   {
    "duration": 31,
    "start_time": "2022-06-26T14:51:24.929Z"
   },
   {
    "duration": 30,
    "start_time": "2022-06-26T14:52:13.351Z"
   },
   {
    "duration": 751,
    "start_time": "2022-06-26T14:52:32.661Z"
   },
   {
    "duration": 32,
    "start_time": "2022-06-26T14:56:37.714Z"
   },
   {
    "duration": 30,
    "start_time": "2022-06-26T14:57:01.596Z"
   },
   {
    "duration": 31,
    "start_time": "2022-06-26T14:57:24.395Z"
   },
   {
    "duration": 41,
    "start_time": "2022-06-26T15:02:40.501Z"
   },
   {
    "duration": 1340,
    "start_time": "2022-06-26T15:02:52.215Z"
   },
   {
    "duration": 841,
    "start_time": "2022-06-26T15:03:27.290Z"
   },
   {
    "duration": 28489,
    "start_time": "2022-06-26T15:03:46.306Z"
   },
   {
    "duration": 867,
    "start_time": "2022-06-26T15:04:33.899Z"
   },
   {
    "duration": 34,
    "start_time": "2022-06-26T15:05:17.139Z"
   },
   {
    "duration": 27,
    "start_time": "2022-06-26T15:10:48.031Z"
   },
   {
    "duration": 18,
    "start_time": "2022-06-26T15:10:48.094Z"
   },
   {
    "duration": 23,
    "start_time": "2022-06-26T15:10:48.121Z"
   },
   {
    "duration": 10,
    "start_time": "2022-06-26T15:10:48.175Z"
   },
   {
    "duration": 20,
    "start_time": "2022-06-26T15:10:48.207Z"
   },
   {
    "duration": 18,
    "start_time": "2022-06-26T15:10:48.242Z"
   },
   {
    "duration": 4,
    "start_time": "2022-06-26T15:10:48.413Z"
   },
   {
    "duration": 3,
    "start_time": "2022-06-26T15:10:48.464Z"
   },
   {
    "duration": 143,
    "start_time": "2022-06-26T15:10:48.501Z"
   },
   {
    "duration": 27,
    "start_time": "2022-06-26T15:10:48.739Z"
   },
   {
    "duration": 34,
    "start_time": "2022-06-26T15:10:48.798Z"
   },
   {
    "duration": 80,
    "start_time": "2022-06-26T15:10:48.981Z"
   },
   {
    "duration": 29,
    "start_time": "2022-06-26T15:10:49.092Z"
   },
   {
    "duration": 110,
    "start_time": "2022-06-26T15:10:49.172Z"
   },
   {
    "duration": 21,
    "start_time": "2022-06-26T15:10:49.300Z"
   },
   {
    "duration": 30,
    "start_time": "2022-06-26T15:10:49.352Z"
   },
   {
    "duration": 6,
    "start_time": "2022-06-26T15:10:49.408Z"
   },
   {
    "duration": 34,
    "start_time": "2022-06-26T15:10:49.427Z"
   },
   {
    "duration": 19,
    "start_time": "2022-06-26T15:10:49.477Z"
   },
   {
    "duration": 0,
    "start_time": "2022-06-26T15:10:49.499Z"
   },
   {
    "duration": 0,
    "start_time": "2022-06-26T15:10:49.501Z"
   },
   {
    "duration": 0,
    "start_time": "2022-06-26T15:10:49.503Z"
   },
   {
    "duration": 0,
    "start_time": "2022-06-26T15:10:49.507Z"
   },
   {
    "duration": 0,
    "start_time": "2022-06-26T15:10:49.510Z"
   },
   {
    "duration": 0,
    "start_time": "2022-06-26T15:10:49.511Z"
   },
   {
    "duration": 0,
    "start_time": "2022-06-26T15:10:49.513Z"
   },
   {
    "duration": 57,
    "start_time": "2022-06-26T15:12:55.598Z"
   },
   {
    "duration": 0,
    "start_time": "2022-06-26T15:12:55.659Z"
   },
   {
    "duration": 0,
    "start_time": "2022-06-26T15:12:55.661Z"
   },
   {
    "duration": 0,
    "start_time": "2022-06-26T15:12:55.662Z"
   },
   {
    "duration": 0,
    "start_time": "2022-06-26T15:12:55.664Z"
   },
   {
    "duration": 0,
    "start_time": "2022-06-26T15:12:55.666Z"
   },
   {
    "duration": 0,
    "start_time": "2022-06-26T15:12:55.668Z"
   },
   {
    "duration": 0,
    "start_time": "2022-06-26T15:12:55.670Z"
   },
   {
    "duration": 0,
    "start_time": "2022-06-26T15:12:55.672Z"
   },
   {
    "duration": 0,
    "start_time": "2022-06-26T15:12:55.673Z"
   },
   {
    "duration": 0,
    "start_time": "2022-06-26T15:12:55.674Z"
   },
   {
    "duration": 0,
    "start_time": "2022-06-26T15:12:55.676Z"
   },
   {
    "duration": 0,
    "start_time": "2022-06-26T15:12:55.677Z"
   },
   {
    "duration": 0,
    "start_time": "2022-06-26T15:12:55.679Z"
   },
   {
    "duration": 0,
    "start_time": "2022-06-26T15:12:55.681Z"
   },
   {
    "duration": 0,
    "start_time": "2022-06-26T15:12:55.682Z"
   },
   {
    "duration": 0,
    "start_time": "2022-06-26T15:12:55.684Z"
   },
   {
    "duration": 0,
    "start_time": "2022-06-26T15:12:55.686Z"
   },
   {
    "duration": 0,
    "start_time": "2022-06-26T15:12:55.688Z"
   },
   {
    "duration": 0,
    "start_time": "2022-06-26T15:12:55.689Z"
   },
   {
    "duration": 0,
    "start_time": "2022-06-26T15:12:55.691Z"
   },
   {
    "duration": 0,
    "start_time": "2022-06-26T15:12:55.693Z"
   },
   {
    "duration": 1,
    "start_time": "2022-06-26T15:12:55.694Z"
   },
   {
    "duration": 0,
    "start_time": "2022-06-26T15:12:55.753Z"
   },
   {
    "duration": 0,
    "start_time": "2022-06-26T15:12:55.755Z"
   },
   {
    "duration": 0,
    "start_time": "2022-06-26T15:12:55.757Z"
   },
   {
    "duration": 2,
    "start_time": "2022-06-26T15:13:42.732Z"
   },
   {
    "duration": 39,
    "start_time": "2022-06-26T15:13:42.739Z"
   },
   {
    "duration": 12,
    "start_time": "2022-06-26T15:13:42.780Z"
   },
   {
    "duration": 10,
    "start_time": "2022-06-26T15:13:42.794Z"
   },
   {
    "duration": 12,
    "start_time": "2022-06-26T15:13:42.805Z"
   },
   {
    "duration": 15,
    "start_time": "2022-06-26T15:13:42.819Z"
   },
   {
    "duration": 7,
    "start_time": "2022-06-26T15:13:42.835Z"
   },
   {
    "duration": 8,
    "start_time": "2022-06-26T15:13:42.844Z"
   },
   {
    "duration": 136,
    "start_time": "2022-06-26T15:13:42.854Z"
   },
   {
    "duration": 23,
    "start_time": "2022-06-26T15:13:42.992Z"
   },
   {
    "duration": 43,
    "start_time": "2022-06-26T15:13:43.017Z"
   },
   {
    "duration": 86,
    "start_time": "2022-06-26T15:13:43.062Z"
   },
   {
    "duration": 19,
    "start_time": "2022-06-26T15:13:43.149Z"
   },
   {
    "duration": 121,
    "start_time": "2022-06-26T15:13:43.169Z"
   },
   {
    "duration": 22,
    "start_time": "2022-06-26T15:13:43.292Z"
   },
   {
    "duration": 38,
    "start_time": "2022-06-26T15:13:43.315Z"
   },
   {
    "duration": 15,
    "start_time": "2022-06-26T15:13:43.355Z"
   },
   {
    "duration": 11,
    "start_time": "2022-06-26T15:13:43.371Z"
   },
   {
    "duration": 23,
    "start_time": "2022-06-26T15:13:43.384Z"
   },
   {
    "duration": 6,
    "start_time": "2022-06-26T15:13:43.409Z"
   },
   {
    "duration": 19,
    "start_time": "2022-06-26T15:13:43.417Z"
   },
   {
    "duration": 106,
    "start_time": "2022-06-26T15:13:43.438Z"
   },
   {
    "duration": 18,
    "start_time": "2022-06-26T15:13:43.551Z"
   },
   {
    "duration": 25,
    "start_time": "2022-06-26T15:13:43.571Z"
   },
   {
    "duration": 10,
    "start_time": "2022-06-26T15:14:51.133Z"
   },
   {
    "duration": 0,
    "start_time": "2022-06-26T15:14:51.152Z"
   },
   {
    "duration": 28,
    "start_time": "2022-06-26T15:16:16.813Z"
   },
   {
    "duration": 31,
    "start_time": "2022-06-26T15:16:39.931Z"
   },
   {
    "duration": 31,
    "start_time": "2022-06-26T15:20:28.715Z"
   },
   {
    "duration": 792,
    "start_time": "2022-06-26T15:25:18.130Z"
   },
   {
    "duration": 37,
    "start_time": "2022-06-26T15:25:18.923Z"
   },
   {
    "duration": 15,
    "start_time": "2022-06-26T15:25:18.962Z"
   },
   {
    "duration": 4,
    "start_time": "2022-06-26T15:25:18.979Z"
   },
   {
    "duration": 4,
    "start_time": "2022-06-26T15:25:18.985Z"
   },
   {
    "duration": 19,
    "start_time": "2022-06-26T15:25:18.991Z"
   },
   {
    "duration": 4,
    "start_time": "2022-06-26T15:25:19.012Z"
   },
   {
    "duration": 7,
    "start_time": "2022-06-26T15:25:19.018Z"
   },
   {
    "duration": 141,
    "start_time": "2022-06-26T15:25:19.052Z"
   },
   {
    "duration": 24,
    "start_time": "2022-06-26T15:25:19.194Z"
   },
   {
    "duration": 38,
    "start_time": "2022-06-26T15:25:19.219Z"
   },
   {
    "duration": 80,
    "start_time": "2022-06-26T15:25:19.259Z"
   },
   {
    "duration": 20,
    "start_time": "2022-06-26T15:25:19.341Z"
   },
   {
    "duration": 119,
    "start_time": "2022-06-26T15:25:19.363Z"
   },
   {
    "duration": 24,
    "start_time": "2022-06-26T15:25:19.484Z"
   },
   {
    "duration": 42,
    "start_time": "2022-06-26T15:25:19.510Z"
   },
   {
    "duration": 15,
    "start_time": "2022-06-26T15:25:19.553Z"
   },
   {
    "duration": 12,
    "start_time": "2022-06-26T15:25:19.569Z"
   },
   {
    "duration": 27,
    "start_time": "2022-06-26T15:25:19.582Z"
   },
   {
    "duration": 6,
    "start_time": "2022-06-26T15:25:19.611Z"
   },
   {
    "duration": 16,
    "start_time": "2022-06-26T15:25:19.619Z"
   },
   {
    "duration": 119,
    "start_time": "2022-06-26T15:25:19.652Z"
   },
   {
    "duration": 15,
    "start_time": "2022-06-26T15:25:19.773Z"
   },
   {
    "duration": 29,
    "start_time": "2022-06-26T15:25:19.790Z"
   },
   {
    "duration": 863,
    "start_time": "2022-06-26T15:26:30.951Z"
   },
   {
    "duration": 40,
    "start_time": "2022-06-26T15:26:31.816Z"
   },
   {
    "duration": 22,
    "start_time": "2022-06-26T15:26:31.858Z"
   },
   {
    "duration": 4,
    "start_time": "2022-06-26T15:26:31.883Z"
   },
   {
    "duration": 9,
    "start_time": "2022-06-26T15:26:31.888Z"
   },
   {
    "duration": 38,
    "start_time": "2022-06-26T15:26:31.898Z"
   },
   {
    "duration": 5,
    "start_time": "2022-06-26T15:26:31.937Z"
   },
   {
    "duration": 9,
    "start_time": "2022-06-26T15:26:31.952Z"
   },
   {
    "duration": 150,
    "start_time": "2022-06-26T15:26:31.962Z"
   },
   {
    "duration": 32,
    "start_time": "2022-06-26T15:26:32.114Z"
   },
   {
    "duration": 27,
    "start_time": "2022-06-26T15:26:32.152Z"
   },
   {
    "duration": 84,
    "start_time": "2022-06-26T15:26:32.180Z"
   },
   {
    "duration": 18,
    "start_time": "2022-06-26T15:26:32.265Z"
   },
   {
    "duration": 127,
    "start_time": "2022-06-26T15:26:32.284Z"
   },
   {
    "duration": 21,
    "start_time": "2022-06-26T15:26:32.412Z"
   },
   {
    "duration": 36,
    "start_time": "2022-06-26T15:26:32.434Z"
   },
   {
    "duration": 15,
    "start_time": "2022-06-26T15:26:32.472Z"
   },
   {
    "duration": 14,
    "start_time": "2022-06-26T15:26:32.488Z"
   },
   {
    "duration": 28,
    "start_time": "2022-06-26T15:26:32.503Z"
   },
   {
    "duration": 35,
    "start_time": "2022-06-26T15:26:32.534Z"
   },
   {
    "duration": 22,
    "start_time": "2022-06-26T15:26:32.571Z"
   },
   {
    "duration": 123,
    "start_time": "2022-06-26T15:26:32.595Z"
   },
   {
    "duration": 17,
    "start_time": "2022-06-26T15:26:32.719Z"
   },
   {
    "duration": 39,
    "start_time": "2022-06-26T15:26:32.737Z"
   },
   {
    "duration": 29,
    "start_time": "2022-06-26T15:26:32.778Z"
   },
   {
    "duration": 43,
    "start_time": "2022-06-26T15:26:32.809Z"
   },
   {
    "duration": 838,
    "start_time": "2022-06-26T15:27:28.447Z"
   },
   {
    "duration": 37,
    "start_time": "2022-06-26T15:27:29.286Z"
   },
   {
    "duration": 14,
    "start_time": "2022-06-26T15:27:29.325Z"
   },
   {
    "duration": 6,
    "start_time": "2022-06-26T15:27:29.341Z"
   },
   {
    "duration": 3,
    "start_time": "2022-06-26T15:27:30.005Z"
   },
   {
    "duration": 32,
    "start_time": "2022-06-26T15:27:30.012Z"
   },
   {
    "duration": 4,
    "start_time": "2022-06-26T15:27:30.045Z"
   },
   {
    "duration": 8,
    "start_time": "2022-06-26T15:27:30.050Z"
   },
   {
    "duration": 149,
    "start_time": "2022-06-26T15:27:30.060Z"
   },
   {
    "duration": 24,
    "start_time": "2022-06-26T15:27:30.210Z"
   },
   {
    "duration": 34,
    "start_time": "2022-06-26T15:27:30.235Z"
   },
   {
    "duration": 82,
    "start_time": "2022-06-26T15:27:30.271Z"
   },
   {
    "duration": 17,
    "start_time": "2022-06-26T15:27:30.355Z"
   },
   {
    "duration": 170,
    "start_time": "2022-06-26T15:27:30.374Z"
   },
   {
    "duration": 31,
    "start_time": "2022-06-26T15:27:30.546Z"
   },
   {
    "duration": 42,
    "start_time": "2022-06-26T15:27:30.579Z"
   },
   {
    "duration": 15,
    "start_time": "2022-06-26T15:27:30.622Z"
   },
   {
    "duration": 20,
    "start_time": "2022-06-26T15:27:30.639Z"
   },
   {
    "duration": 35,
    "start_time": "2022-06-26T15:27:30.661Z"
   },
   {
    "duration": 7,
    "start_time": "2022-06-26T15:27:30.698Z"
   },
   {
    "duration": 18,
    "start_time": "2022-06-26T15:27:30.706Z"
   },
   {
    "duration": 114,
    "start_time": "2022-06-26T15:27:30.726Z"
   },
   {
    "duration": 17,
    "start_time": "2022-06-26T15:27:30.842Z"
   },
   {
    "duration": 31,
    "start_time": "2022-06-26T15:27:30.861Z"
   },
   {
    "duration": 29,
    "start_time": "2022-06-26T15:27:30.894Z"
   },
   {
    "duration": 55,
    "start_time": "2022-06-26T15:27:30.924Z"
   },
   {
    "duration": 812,
    "start_time": "2022-06-26T15:28:36.297Z"
   },
   {
    "duration": 38,
    "start_time": "2022-06-26T15:28:37.111Z"
   },
   {
    "duration": 17,
    "start_time": "2022-06-26T15:28:37.151Z"
   },
   {
    "duration": 36,
    "start_time": "2022-06-26T15:28:37.171Z"
   },
   {
    "duration": 20,
    "start_time": "2022-06-26T15:28:37.209Z"
   },
   {
    "duration": 50,
    "start_time": "2022-06-26T15:28:37.231Z"
   },
   {
    "duration": 35,
    "start_time": "2022-06-26T15:28:37.284Z"
   },
   {
    "duration": 25,
    "start_time": "2022-06-26T15:28:37.321Z"
   },
   {
    "duration": 164,
    "start_time": "2022-06-26T15:28:37.348Z"
   },
   {
    "duration": 22,
    "start_time": "2022-06-26T15:28:37.515Z"
   },
   {
    "duration": 37,
    "start_time": "2022-06-26T15:28:37.538Z"
   },
   {
    "duration": 88,
    "start_time": "2022-06-26T15:28:37.577Z"
   },
   {
    "duration": 23,
    "start_time": "2022-06-26T15:28:37.667Z"
   },
   {
    "duration": 131,
    "start_time": "2022-06-26T15:28:37.692Z"
   },
   {
    "duration": 31,
    "start_time": "2022-06-26T15:28:37.825Z"
   },
   {
    "duration": 28,
    "start_time": "2022-06-26T15:28:37.858Z"
   },
   {
    "duration": 15,
    "start_time": "2022-06-26T15:28:37.887Z"
   },
   {
    "duration": 12,
    "start_time": "2022-06-26T15:28:37.904Z"
   },
   {
    "duration": 55,
    "start_time": "2022-06-26T15:28:37.919Z"
   },
   {
    "duration": 10,
    "start_time": "2022-06-26T15:28:37.976Z"
   },
   {
    "duration": 18,
    "start_time": "2022-06-26T15:28:37.988Z"
   },
   {
    "duration": 122,
    "start_time": "2022-06-26T15:28:38.008Z"
   },
   {
    "duration": 27,
    "start_time": "2022-06-26T15:28:38.132Z"
   },
   {
    "duration": 29,
    "start_time": "2022-06-26T15:28:38.160Z"
   },
   {
    "duration": 25,
    "start_time": "2022-06-26T15:28:38.191Z"
   },
   {
    "duration": 53,
    "start_time": "2022-06-26T15:28:38.218Z"
   },
   {
    "duration": 32,
    "start_time": "2022-06-26T15:32:36.441Z"
   },
   {
    "duration": 914,
    "start_time": "2022-06-26T15:33:35.146Z"
   },
   {
    "duration": 44,
    "start_time": "2022-06-26T15:33:36.062Z"
   },
   {
    "duration": 17,
    "start_time": "2022-06-26T15:33:36.108Z"
   },
   {
    "duration": 4,
    "start_time": "2022-06-26T15:33:36.131Z"
   },
   {
    "duration": 15,
    "start_time": "2022-06-26T15:33:36.137Z"
   },
   {
    "duration": 39,
    "start_time": "2022-06-26T15:33:36.153Z"
   },
   {
    "duration": 4,
    "start_time": "2022-06-26T15:33:36.194Z"
   },
   {
    "duration": 12,
    "start_time": "2022-06-26T15:33:36.199Z"
   },
   {
    "duration": 172,
    "start_time": "2022-06-26T15:33:36.213Z"
   },
   {
    "duration": 26,
    "start_time": "2022-06-26T15:33:36.386Z"
   },
   {
    "duration": 49,
    "start_time": "2022-06-26T15:33:36.414Z"
   },
   {
    "duration": 100,
    "start_time": "2022-06-26T15:33:36.464Z"
   },
   {
    "duration": 20,
    "start_time": "2022-06-26T15:33:36.566Z"
   },
   {
    "duration": 140,
    "start_time": "2022-06-26T15:33:36.589Z"
   },
   {
    "duration": 30,
    "start_time": "2022-06-26T15:33:36.731Z"
   },
   {
    "duration": 35,
    "start_time": "2022-06-26T15:33:36.762Z"
   },
   {
    "duration": 16,
    "start_time": "2022-06-26T15:33:36.799Z"
   },
   {
    "duration": 13,
    "start_time": "2022-06-26T15:33:36.817Z"
   },
   {
    "duration": 27,
    "start_time": "2022-06-26T15:33:36.853Z"
   },
   {
    "duration": 11,
    "start_time": "2022-06-26T15:33:36.881Z"
   },
   {
    "duration": 22,
    "start_time": "2022-06-26T15:33:36.895Z"
   },
   {
    "duration": 145,
    "start_time": "2022-06-26T15:33:36.919Z"
   },
   {
    "duration": 19,
    "start_time": "2022-06-26T15:33:37.066Z"
   },
   {
    "duration": 32,
    "start_time": "2022-06-26T15:33:37.088Z"
   },
   {
    "duration": 49,
    "start_time": "2022-06-26T15:33:37.122Z"
   },
   {
    "duration": 31,
    "start_time": "2022-06-26T15:33:37.172Z"
   },
   {
    "duration": 829,
    "start_time": "2022-06-26T15:35:04.764Z"
   },
   {
    "duration": 38,
    "start_time": "2022-06-26T15:35:05.595Z"
   },
   {
    "duration": 15,
    "start_time": "2022-06-26T15:35:05.634Z"
   },
   {
    "duration": 3,
    "start_time": "2022-06-26T15:35:05.651Z"
   },
   {
    "duration": 6,
    "start_time": "2022-06-26T15:35:05.656Z"
   },
   {
    "duration": 21,
    "start_time": "2022-06-26T15:35:05.663Z"
   },
   {
    "duration": 19,
    "start_time": "2022-06-26T15:35:05.685Z"
   },
   {
    "duration": 10,
    "start_time": "2022-06-26T15:35:05.705Z"
   },
   {
    "duration": 151,
    "start_time": "2022-06-26T15:35:05.716Z"
   },
   {
    "duration": 25,
    "start_time": "2022-06-26T15:35:05.869Z"
   },
   {
    "duration": 25,
    "start_time": "2022-06-26T15:35:05.895Z"
   },
   {
    "duration": 94,
    "start_time": "2022-06-26T15:35:05.922Z"
   },
   {
    "duration": 18,
    "start_time": "2022-06-26T15:35:06.017Z"
   },
   {
    "duration": 134,
    "start_time": "2022-06-26T15:35:06.037Z"
   },
   {
    "duration": 21,
    "start_time": "2022-06-26T15:35:06.173Z"
   },
   {
    "duration": 28,
    "start_time": "2022-06-26T15:35:06.196Z"
   },
   {
    "duration": 15,
    "start_time": "2022-06-26T15:35:06.226Z"
   },
   {
    "duration": 20,
    "start_time": "2022-06-26T15:35:06.242Z"
   },
   {
    "duration": 24,
    "start_time": "2022-06-26T15:35:06.264Z"
   },
   {
    "duration": 6,
    "start_time": "2022-06-26T15:35:06.290Z"
   },
   {
    "duration": 17,
    "start_time": "2022-06-26T15:35:06.298Z"
   },
   {
    "duration": 124,
    "start_time": "2022-06-26T15:35:06.317Z"
   },
   {
    "duration": 22,
    "start_time": "2022-06-26T15:35:06.443Z"
   },
   {
    "duration": 29,
    "start_time": "2022-06-26T15:35:06.467Z"
   },
   {
    "duration": 28,
    "start_time": "2022-06-26T15:35:06.498Z"
   },
   {
    "duration": 52,
    "start_time": "2022-06-26T15:35:06.528Z"
   },
   {
    "duration": 105,
    "start_time": "2022-06-26T15:46:10.719Z"
   },
   {
    "duration": 37,
    "start_time": "2022-06-26T15:46:45.597Z"
   },
   {
    "duration": 41,
    "start_time": "2022-06-26T15:49:23.238Z"
   },
   {
    "duration": 38,
    "start_time": "2022-06-26T15:50:00.901Z"
   },
   {
    "duration": 770,
    "start_time": "2022-06-26T15:52:16.339Z"
   },
   {
    "duration": 37,
    "start_time": "2022-06-26T15:52:17.111Z"
   },
   {
    "duration": 21,
    "start_time": "2022-06-26T15:52:17.149Z"
   },
   {
    "duration": 6,
    "start_time": "2022-06-26T15:52:17.173Z"
   },
   {
    "duration": 6,
    "start_time": "2022-06-26T15:52:17.180Z"
   },
   {
    "duration": 23,
    "start_time": "2022-06-26T15:52:17.187Z"
   },
   {
    "duration": 4,
    "start_time": "2022-06-26T15:52:17.211Z"
   },
   {
    "duration": 6,
    "start_time": "2022-06-26T15:52:17.216Z"
   },
   {
    "duration": 156,
    "start_time": "2022-06-26T15:52:17.223Z"
   },
   {
    "duration": 24,
    "start_time": "2022-06-26T15:52:17.381Z"
   },
   {
    "duration": 25,
    "start_time": "2022-06-26T15:52:17.406Z"
   },
   {
    "duration": 99,
    "start_time": "2022-06-26T15:52:17.433Z"
   },
   {
    "duration": 27,
    "start_time": "2022-06-26T15:52:17.534Z"
   },
   {
    "duration": 127,
    "start_time": "2022-06-26T15:52:17.564Z"
   },
   {
    "duration": 21,
    "start_time": "2022-06-26T15:52:17.693Z"
   },
   {
    "duration": 49,
    "start_time": "2022-06-26T15:52:17.716Z"
   },
   {
    "duration": 15,
    "start_time": "2022-06-26T15:52:17.767Z"
   },
   {
    "duration": 19,
    "start_time": "2022-06-26T15:52:17.784Z"
   },
   {
    "duration": 33,
    "start_time": "2022-06-26T15:52:17.804Z"
   },
   {
    "duration": 6,
    "start_time": "2022-06-26T15:52:17.839Z"
   },
   {
    "duration": 34,
    "start_time": "2022-06-26T15:52:17.846Z"
   },
   {
    "duration": 134,
    "start_time": "2022-06-26T15:52:17.882Z"
   },
   {
    "duration": 16,
    "start_time": "2022-06-26T15:52:18.018Z"
   },
   {
    "duration": 45,
    "start_time": "2022-06-26T15:52:18.035Z"
   },
   {
    "duration": 27,
    "start_time": "2022-06-26T15:52:18.082Z"
   },
   {
    "duration": 48,
    "start_time": "2022-06-26T15:52:18.110Z"
   },
   {
    "duration": 42,
    "start_time": "2022-06-26T15:52:18.160Z"
   },
   {
    "duration": 7,
    "start_time": "2022-06-26T15:54:48.701Z"
   },
   {
    "duration": 837,
    "start_time": "2022-06-26T15:58:57.632Z"
   },
   {
    "duration": 39,
    "start_time": "2022-06-26T15:58:58.471Z"
   },
   {
    "duration": 18,
    "start_time": "2022-06-26T15:58:58.511Z"
   },
   {
    "duration": 4,
    "start_time": "2022-06-26T15:58:58.532Z"
   },
   {
    "duration": 7,
    "start_time": "2022-06-26T15:58:58.538Z"
   },
   {
    "duration": 31,
    "start_time": "2022-06-26T15:58:58.547Z"
   },
   {
    "duration": 10,
    "start_time": "2022-06-26T15:58:58.580Z"
   },
   {
    "duration": 6,
    "start_time": "2022-06-26T15:58:58.591Z"
   },
   {
    "duration": 166,
    "start_time": "2022-06-26T15:58:58.598Z"
   },
   {
    "duration": 27,
    "start_time": "2022-06-26T15:58:58.768Z"
   },
   {
    "duration": 26,
    "start_time": "2022-06-26T15:58:58.796Z"
   },
   {
    "duration": 98,
    "start_time": "2022-06-26T15:58:58.824Z"
   },
   {
    "duration": 28,
    "start_time": "2022-06-26T15:58:58.924Z"
   },
   {
    "duration": 133,
    "start_time": "2022-06-26T15:58:58.954Z"
   },
   {
    "duration": 24,
    "start_time": "2022-06-26T15:58:59.089Z"
   },
   {
    "duration": 51,
    "start_time": "2022-06-26T15:58:59.115Z"
   },
   {
    "duration": 15,
    "start_time": "2022-06-26T15:58:59.169Z"
   },
   {
    "duration": 13,
    "start_time": "2022-06-26T15:58:59.186Z"
   },
   {
    "duration": 27,
    "start_time": "2022-06-26T15:58:59.201Z"
   },
   {
    "duration": 24,
    "start_time": "2022-06-26T15:58:59.230Z"
   },
   {
    "duration": 33,
    "start_time": "2022-06-26T15:58:59.257Z"
   },
   {
    "duration": 124,
    "start_time": "2022-06-26T15:58:59.292Z"
   },
   {
    "duration": 18,
    "start_time": "2022-06-26T15:58:59.417Z"
   },
   {
    "duration": 54,
    "start_time": "2022-06-26T15:58:59.437Z"
   },
   {
    "duration": 29,
    "start_time": "2022-06-26T15:58:59.493Z"
   },
   {
    "duration": 62,
    "start_time": "2022-06-26T15:58:59.524Z"
   },
   {
    "duration": 41,
    "start_time": "2022-06-26T15:58:59.588Z"
   },
   {
    "duration": 29,
    "start_time": "2022-06-26T15:58:59.632Z"
   },
   {
    "duration": 21,
    "start_time": "2022-06-26T16:14:06.365Z"
   },
   {
    "duration": 18,
    "start_time": "2022-06-26T16:15:17.933Z"
   },
   {
    "duration": 12,
    "start_time": "2022-06-26T16:20:33.351Z"
   },
   {
    "duration": 16,
    "start_time": "2022-06-26T16:20:57.202Z"
   },
   {
    "duration": 12,
    "start_time": "2022-06-26T16:23:31.145Z"
   },
   {
    "duration": 23,
    "start_time": "2022-06-26T16:24:07.681Z"
   },
   {
    "duration": 29,
    "start_time": "2022-06-26T16:29:36.861Z"
   },
   {
    "duration": 19,
    "start_time": "2022-06-26T16:30:19.630Z"
   },
   {
    "duration": 103,
    "start_time": "2022-06-26T16:39:21.295Z"
   },
   {
    "duration": 7,
    "start_time": "2022-06-26T16:40:48.452Z"
   },
   {
    "duration": 16,
    "start_time": "2022-06-26T16:41:04.431Z"
   },
   {
    "duration": 15,
    "start_time": "2022-06-26T16:47:17.990Z"
   },
   {
    "duration": 15,
    "start_time": "2022-06-26T16:48:38.882Z"
   },
   {
    "duration": 863,
    "start_time": "2022-06-26T16:49:02.360Z"
   },
   {
    "duration": 38,
    "start_time": "2022-06-26T16:49:03.225Z"
   },
   {
    "duration": 20,
    "start_time": "2022-06-26T16:49:03.265Z"
   },
   {
    "duration": 9,
    "start_time": "2022-06-26T16:49:03.287Z"
   },
   {
    "duration": 13,
    "start_time": "2022-06-26T16:49:03.297Z"
   },
   {
    "duration": 41,
    "start_time": "2022-06-26T16:49:03.312Z"
   },
   {
    "duration": 12,
    "start_time": "2022-06-26T16:49:03.355Z"
   },
   {
    "duration": 22,
    "start_time": "2022-06-26T16:49:03.369Z"
   },
   {
    "duration": 174,
    "start_time": "2022-06-26T16:49:03.393Z"
   },
   {
    "duration": 26,
    "start_time": "2022-06-26T16:49:03.570Z"
   },
   {
    "duration": 34,
    "start_time": "2022-06-26T16:49:03.597Z"
   },
   {
    "duration": 88,
    "start_time": "2022-06-26T16:49:03.632Z"
   },
   {
    "duration": 19,
    "start_time": "2022-06-26T16:49:03.722Z"
   },
   {
    "duration": 155,
    "start_time": "2022-06-26T16:49:03.742Z"
   },
   {
    "duration": 31,
    "start_time": "2022-06-26T16:49:03.899Z"
   },
   {
    "duration": 35,
    "start_time": "2022-06-26T16:49:03.931Z"
   },
   {
    "duration": 19,
    "start_time": "2022-06-26T16:49:03.968Z"
   },
   {
    "duration": 19,
    "start_time": "2022-06-26T16:49:03.988Z"
   },
   {
    "duration": 42,
    "start_time": "2022-06-26T16:49:04.009Z"
   },
   {
    "duration": 8,
    "start_time": "2022-06-26T16:49:04.053Z"
   },
   {
    "duration": 38,
    "start_time": "2022-06-26T16:49:04.063Z"
   },
   {
    "duration": 111,
    "start_time": "2022-06-26T16:49:04.102Z"
   },
   {
    "duration": 16,
    "start_time": "2022-06-26T16:49:04.215Z"
   },
   {
    "duration": 38,
    "start_time": "2022-06-26T16:49:04.233Z"
   },
   {
    "duration": 26,
    "start_time": "2022-06-26T16:49:04.275Z"
   },
   {
    "duration": 53,
    "start_time": "2022-06-26T16:49:04.303Z"
   },
   {
    "duration": 43,
    "start_time": "2022-06-26T16:49:04.359Z"
   },
   {
    "duration": 7,
    "start_time": "2022-06-26T16:49:04.404Z"
   },
   {
    "duration": 20,
    "start_time": "2022-06-26T16:49:04.413Z"
   },
   {
    "duration": 24,
    "start_time": "2022-06-26T16:49:04.452Z"
   },
   {
    "duration": 25,
    "start_time": "2022-06-26T16:49:04.478Z"
   },
   {
    "duration": 15,
    "start_time": "2022-06-26T16:49:04.505Z"
   },
   {
    "duration": 45,
    "start_time": "2022-06-26T16:49:04.522Z"
   },
   {
    "duration": 17,
    "start_time": "2022-06-26T17:07:12.300Z"
   },
   {
    "duration": 2,
    "start_time": "2022-06-26T17:07:49.614Z"
   },
   {
    "duration": 24,
    "start_time": "2022-06-26T17:07:49.622Z"
   },
   {
    "duration": 26,
    "start_time": "2022-06-26T17:07:49.647Z"
   },
   {
    "duration": 7,
    "start_time": "2022-06-26T17:07:49.674Z"
   },
   {
    "duration": 8,
    "start_time": "2022-06-26T17:07:49.682Z"
   },
   {
    "duration": 15,
    "start_time": "2022-06-26T17:07:49.692Z"
   },
   {
    "duration": 10,
    "start_time": "2022-06-26T17:07:49.709Z"
   },
   {
    "duration": 5,
    "start_time": "2022-06-26T17:07:49.721Z"
   },
   {
    "duration": 171,
    "start_time": "2022-06-26T17:07:49.728Z"
   },
   {
    "duration": 23,
    "start_time": "2022-06-26T17:07:49.901Z"
   },
   {
    "duration": 46,
    "start_time": "2022-06-26T17:07:49.926Z"
   },
   {
    "duration": 82,
    "start_time": "2022-06-26T17:07:49.974Z"
   },
   {
    "duration": 22,
    "start_time": "2022-06-26T17:07:50.058Z"
   },
   {
    "duration": 127,
    "start_time": "2022-06-26T17:07:50.082Z"
   },
   {
    "duration": 21,
    "start_time": "2022-06-26T17:07:50.212Z"
   },
   {
    "duration": 46,
    "start_time": "2022-06-26T17:07:50.235Z"
   },
   {
    "duration": 9,
    "start_time": "2022-06-26T17:07:50.283Z"
   },
   {
    "duration": 12,
    "start_time": "2022-06-26T17:07:50.294Z"
   },
   {
    "duration": 47,
    "start_time": "2022-06-26T17:07:50.308Z"
   },
   {
    "duration": 6,
    "start_time": "2022-06-26T17:07:50.357Z"
   },
   {
    "duration": 14,
    "start_time": "2022-06-26T17:07:50.364Z"
   },
   {
    "duration": 115,
    "start_time": "2022-06-26T17:07:50.380Z"
   },
   {
    "duration": 16,
    "start_time": "2022-06-26T17:07:50.497Z"
   },
   {
    "duration": 46,
    "start_time": "2022-06-26T17:07:50.514Z"
   },
   {
    "duration": 28,
    "start_time": "2022-06-26T17:07:50.562Z"
   },
   {
    "duration": 23,
    "start_time": "2022-06-26T17:07:50.592Z"
   },
   {
    "duration": 56,
    "start_time": "2022-06-26T17:07:50.616Z"
   },
   {
    "duration": 2,
    "start_time": "2022-06-26T17:07:50.673Z"
   },
   {
    "duration": 18,
    "start_time": "2022-06-26T17:08:29.811Z"
   },
   {
    "duration": 18,
    "start_time": "2022-06-26T17:08:36.694Z"
   },
   {
    "duration": 20,
    "start_time": "2022-06-26T17:08:42.604Z"
   },
   {
    "duration": 16,
    "start_time": "2022-06-26T17:09:30.821Z"
   },
   {
    "duration": 25,
    "start_time": "2022-06-26T17:09:34.298Z"
   },
   {
    "duration": 18,
    "start_time": "2022-06-26T17:09:42.763Z"
   },
   {
    "duration": 22,
    "start_time": "2022-06-26T17:10:38.362Z"
   },
   {
    "duration": 89,
    "start_time": "2022-06-26T17:14:57.550Z"
   },
   {
    "duration": 8,
    "start_time": "2022-06-26T17:15:28.742Z"
   },
   {
    "duration": 10,
    "start_time": "2022-06-26T17:15:44.352Z"
   },
   {
    "duration": 284,
    "start_time": "2022-06-26T17:18:36.442Z"
   },
   {
    "duration": 233,
    "start_time": "2022-06-26T17:19:08.238Z"
   },
   {
    "duration": 30,
    "start_time": "2022-06-26T17:19:49.260Z"
   },
   {
    "duration": 42,
    "start_time": "2022-06-26T17:48:27.960Z"
   },
   {
    "duration": 22,
    "start_time": "2022-06-26T17:49:14.068Z"
   },
   {
    "duration": 21,
    "start_time": "2022-06-26T17:50:44.744Z"
   },
   {
    "duration": 900,
    "start_time": "2022-06-26T17:51:02.251Z"
   },
   {
    "duration": 22,
    "start_time": "2022-06-26T17:51:03.152Z"
   },
   {
    "duration": 15,
    "start_time": "2022-06-26T17:51:03.178Z"
   },
   {
    "duration": 13,
    "start_time": "2022-06-26T17:51:03.195Z"
   },
   {
    "duration": 18,
    "start_time": "2022-06-26T17:51:03.210Z"
   },
   {
    "duration": 27,
    "start_time": "2022-06-26T17:51:03.229Z"
   },
   {
    "duration": 14,
    "start_time": "2022-06-26T17:51:03.258Z"
   },
   {
    "duration": 11,
    "start_time": "2022-06-26T17:51:03.274Z"
   },
   {
    "duration": 144,
    "start_time": "2022-06-26T17:51:03.287Z"
   },
   {
    "duration": 32,
    "start_time": "2022-06-26T17:51:03.434Z"
   },
   {
    "duration": 32,
    "start_time": "2022-06-26T17:51:03.468Z"
   },
   {
    "duration": 95,
    "start_time": "2022-06-26T17:51:03.501Z"
   },
   {
    "duration": 18,
    "start_time": "2022-06-26T17:51:03.597Z"
   },
   {
    "duration": 133,
    "start_time": "2022-06-26T17:51:03.616Z"
   },
   {
    "duration": 33,
    "start_time": "2022-06-26T17:51:03.750Z"
   },
   {
    "duration": 28,
    "start_time": "2022-06-26T17:51:03.785Z"
   },
   {
    "duration": 10,
    "start_time": "2022-06-26T17:51:03.815Z"
   },
   {
    "duration": 40,
    "start_time": "2022-06-26T17:51:03.826Z"
   },
   {
    "duration": 31,
    "start_time": "2022-06-26T17:51:03.871Z"
   },
   {
    "duration": 7,
    "start_time": "2022-06-26T17:51:03.903Z"
   },
   {
    "duration": 44,
    "start_time": "2022-06-26T17:51:03.911Z"
   },
   {
    "duration": 114,
    "start_time": "2022-06-26T17:51:03.957Z"
   },
   {
    "duration": 17,
    "start_time": "2022-06-26T17:51:04.073Z"
   },
   {
    "duration": 29,
    "start_time": "2022-06-26T17:51:04.091Z"
   },
   {
    "duration": 58,
    "start_time": "2022-06-26T17:51:04.122Z"
   },
   {
    "duration": 28,
    "start_time": "2022-06-26T17:51:04.182Z"
   },
   {
    "duration": 63,
    "start_time": "2022-06-26T17:51:04.212Z"
   },
   {
    "duration": 2,
    "start_time": "2022-06-26T17:51:04.279Z"
   },
   {
    "duration": 32,
    "start_time": "2022-06-26T17:51:04.283Z"
   },
   {
    "duration": 17,
    "start_time": "2022-06-26T17:51:04.317Z"
   },
   {
    "duration": 23,
    "start_time": "2022-06-26T17:51:04.352Z"
   },
   {
    "duration": 18,
    "start_time": "2022-06-26T17:51:04.377Z"
   },
   {
    "duration": 17,
    "start_time": "2022-06-26T17:51:04.397Z"
   },
   {
    "duration": 37,
    "start_time": "2022-06-26T17:51:04.416Z"
   },
   {
    "duration": 35,
    "start_time": "2022-06-26T17:51:04.456Z"
   },
   {
    "duration": 2,
    "start_time": "2022-06-26T17:51:04.493Z"
   },
   {
    "duration": 118,
    "start_time": "2022-06-26T17:51:04.496Z"
   },
   {
    "duration": 23,
    "start_time": "2022-06-26T17:52:04.236Z"
   },
   {
    "duration": 17,
    "start_time": "2022-06-26T17:56:31.382Z"
   },
   {
    "duration": 2,
    "start_time": "2022-06-26T18:01:00.845Z"
   },
   {
    "duration": 29,
    "start_time": "2022-06-26T18:01:00.853Z"
   },
   {
    "duration": 13,
    "start_time": "2022-06-26T18:01:00.884Z"
   },
   {
    "duration": 13,
    "start_time": "2022-06-26T18:01:00.899Z"
   },
   {
    "duration": 18,
    "start_time": "2022-06-26T18:01:00.913Z"
   },
   {
    "duration": 26,
    "start_time": "2022-06-26T18:01:00.933Z"
   },
   {
    "duration": 24,
    "start_time": "2022-06-26T18:01:00.961Z"
   },
   {
    "duration": 14,
    "start_time": "2022-06-26T18:01:00.987Z"
   },
   {
    "duration": 156,
    "start_time": "2022-06-26T18:01:01.003Z"
   },
   {
    "duration": 26,
    "start_time": "2022-06-26T18:01:01.163Z"
   },
   {
    "duration": 35,
    "start_time": "2022-06-26T18:01:01.191Z"
   },
   {
    "duration": 98,
    "start_time": "2022-06-26T18:01:01.228Z"
   },
   {
    "duration": 30,
    "start_time": "2022-06-26T18:01:01.328Z"
   },
   {
    "duration": 128,
    "start_time": "2022-06-26T18:01:01.360Z"
   },
   {
    "duration": 23,
    "start_time": "2022-06-26T18:01:01.492Z"
   },
   {
    "duration": 43,
    "start_time": "2022-06-26T18:01:01.517Z"
   },
   {
    "duration": 62,
    "start_time": "2022-06-26T18:01:01.562Z"
   },
   {
    "duration": 16,
    "start_time": "2022-06-26T18:01:01.626Z"
   },
   {
    "duration": 41,
    "start_time": "2022-06-26T18:01:01.643Z"
   },
   {
    "duration": 52,
    "start_time": "2022-06-26T18:01:01.686Z"
   },
   {
    "duration": 38,
    "start_time": "2022-06-26T18:01:01.740Z"
   },
   {
    "duration": 135,
    "start_time": "2022-06-26T18:01:01.780Z"
   },
   {
    "duration": 18,
    "start_time": "2022-06-26T18:01:01.917Z"
   },
   {
    "duration": 50,
    "start_time": "2022-06-26T18:01:01.937Z"
   },
   {
    "duration": 27,
    "start_time": "2022-06-26T18:01:01.988Z"
   },
   {
    "duration": 57,
    "start_time": "2022-06-26T18:01:02.016Z"
   },
   {
    "duration": 38,
    "start_time": "2022-06-26T18:01:02.076Z"
   },
   {
    "duration": 4,
    "start_time": "2022-06-26T18:01:02.115Z"
   },
   {
    "duration": 53,
    "start_time": "2022-06-26T18:01:02.120Z"
   },
   {
    "duration": 18,
    "start_time": "2022-06-26T18:01:02.175Z"
   },
   {
    "duration": 21,
    "start_time": "2022-06-26T18:01:02.195Z"
   },
   {
    "duration": 39,
    "start_time": "2022-06-26T18:01:02.218Z"
   },
   {
    "duration": 21,
    "start_time": "2022-06-26T18:01:02.259Z"
   },
   {
    "duration": 5,
    "start_time": "2022-06-26T18:01:02.282Z"
   },
   {
    "duration": 26,
    "start_time": "2022-06-26T18:01:02.288Z"
   },
   {
    "duration": 3,
    "start_time": "2022-06-26T18:01:02.317Z"
   },
   {
    "duration": 51,
    "start_time": "2022-06-26T18:01:02.322Z"
   },
   {
    "duration": 17,
    "start_time": "2022-06-26T18:01:44.643Z"
   },
   {
    "duration": 16,
    "start_time": "2022-06-26T18:03:13.516Z"
   },
   {
    "duration": 1114,
    "start_time": "2022-06-26T18:03:35.457Z"
   },
   {
    "duration": 143,
    "start_time": "2022-06-26T18:03:56.061Z"
   },
   {
    "duration": 17,
    "start_time": "2022-06-26T18:04:24.508Z"
   },
   {
    "duration": 39,
    "start_time": "2022-06-26T18:05:07.080Z"
   },
   {
    "duration": 813,
    "start_time": "2022-06-26T18:06:05.283Z"
   },
   {
    "duration": 21,
    "start_time": "2022-06-26T18:06:06.097Z"
   },
   {
    "duration": 18,
    "start_time": "2022-06-26T18:06:06.119Z"
   },
   {
    "duration": 12,
    "start_time": "2022-06-26T18:06:06.140Z"
   },
   {
    "duration": 15,
    "start_time": "2022-06-26T18:06:06.154Z"
   },
   {
    "duration": 29,
    "start_time": "2022-06-26T18:06:06.171Z"
   },
   {
    "duration": 5,
    "start_time": "2022-06-26T18:06:06.202Z"
   },
   {
    "duration": 7,
    "start_time": "2022-06-26T18:06:06.209Z"
   },
   {
    "duration": 169,
    "start_time": "2022-06-26T18:06:06.217Z"
   },
   {
    "duration": 24,
    "start_time": "2022-06-26T18:06:06.389Z"
   },
   {
    "duration": 44,
    "start_time": "2022-06-26T18:06:06.415Z"
   },
   {
    "duration": 83,
    "start_time": "2022-06-26T18:06:06.461Z"
   },
   {
    "duration": 31,
    "start_time": "2022-06-26T18:06:06.546Z"
   },
   {
    "duration": 136,
    "start_time": "2022-06-26T18:06:06.579Z"
   },
   {
    "duration": 20,
    "start_time": "2022-06-26T18:06:06.717Z"
   },
   {
    "duration": 40,
    "start_time": "2022-06-26T18:06:06.738Z"
   },
   {
    "duration": 9,
    "start_time": "2022-06-26T18:06:06.780Z"
   },
   {
    "duration": 14,
    "start_time": "2022-06-26T18:06:06.790Z"
   },
   {
    "duration": 59,
    "start_time": "2022-06-26T18:06:06.806Z"
   },
   {
    "duration": 10,
    "start_time": "2022-06-26T18:06:06.867Z"
   },
   {
    "duration": 19,
    "start_time": "2022-06-26T18:06:06.879Z"
   },
   {
    "duration": 140,
    "start_time": "2022-06-26T18:06:06.900Z"
   },
   {
    "duration": 32,
    "start_time": "2022-06-26T18:06:07.042Z"
   },
   {
    "duration": 30,
    "start_time": "2022-06-26T18:06:07.076Z"
   },
   {
    "duration": 59,
    "start_time": "2022-06-26T18:06:07.108Z"
   },
   {
    "duration": 31,
    "start_time": "2022-06-26T18:06:07.173Z"
   },
   {
    "duration": 57,
    "start_time": "2022-06-26T18:06:07.206Z"
   },
   {
    "duration": 2,
    "start_time": "2022-06-26T18:06:07.268Z"
   },
   {
    "duration": 26,
    "start_time": "2022-06-26T18:06:07.272Z"
   },
   {
    "duration": 16,
    "start_time": "2022-06-26T18:06:07.299Z"
   },
   {
    "duration": 53,
    "start_time": "2022-06-26T18:06:07.317Z"
   },
   {
    "duration": 18,
    "start_time": "2022-06-26T18:06:07.375Z"
   },
   {
    "duration": 16,
    "start_time": "2022-06-26T18:06:07.395Z"
   },
   {
    "duration": 6,
    "start_time": "2022-06-26T18:06:07.413Z"
   },
   {
    "duration": 54,
    "start_time": "2022-06-26T18:06:07.421Z"
   },
   {
    "duration": 129,
    "start_time": "2022-06-26T18:06:07.477Z"
   },
   {
    "duration": 15,
    "start_time": "2022-06-26T18:06:07.608Z"
   },
   {
    "duration": 57,
    "start_time": "2022-06-26T18:06:07.625Z"
   },
   {
    "duration": 900,
    "start_time": "2022-06-27T10:39:41.418Z"
   },
   {
    "duration": 48,
    "start_time": "2022-06-27T10:39:42.321Z"
   },
   {
    "duration": 22,
    "start_time": "2022-06-27T10:39:42.371Z"
   },
   {
    "duration": 12,
    "start_time": "2022-06-27T10:39:42.396Z"
   },
   {
    "duration": 10,
    "start_time": "2022-06-27T10:39:42.412Z"
   },
   {
    "duration": 33,
    "start_time": "2022-06-27T10:39:42.424Z"
   },
   {
    "duration": 10,
    "start_time": "2022-06-27T10:39:42.459Z"
   },
   {
    "duration": 8,
    "start_time": "2022-06-27T10:39:42.471Z"
   },
   {
    "duration": 275,
    "start_time": "2022-06-27T10:39:42.481Z"
   },
   {
    "duration": 47,
    "start_time": "2022-06-27T10:39:42.760Z"
   },
   {
    "duration": 49,
    "start_time": "2022-06-27T10:39:42.809Z"
   },
   {
    "duration": 166,
    "start_time": "2022-06-27T10:39:42.860Z"
   },
   {
    "duration": 24,
    "start_time": "2022-06-27T10:39:43.028Z"
   },
   {
    "duration": 304,
    "start_time": "2022-06-27T10:39:43.053Z"
   },
   {
    "duration": 24,
    "start_time": "2022-06-27T10:39:43.359Z"
   },
   {
    "duration": 42,
    "start_time": "2022-06-27T10:39:43.385Z"
   },
   {
    "duration": 35,
    "start_time": "2022-06-27T10:39:43.429Z"
   },
   {
    "duration": 20,
    "start_time": "2022-06-27T10:39:43.465Z"
   },
   {
    "duration": 36,
    "start_time": "2022-06-27T10:39:43.487Z"
   },
   {
    "duration": 8,
    "start_time": "2022-06-27T10:39:43.525Z"
   },
   {
    "duration": 18,
    "start_time": "2022-06-27T10:39:43.534Z"
   },
   {
    "duration": 133,
    "start_time": "2022-06-27T10:39:43.554Z"
   },
   {
    "duration": 19,
    "start_time": "2022-06-27T10:39:43.688Z"
   },
   {
    "duration": 58,
    "start_time": "2022-06-27T10:39:43.708Z"
   },
   {
    "duration": 30,
    "start_time": "2022-06-27T10:39:43.768Z"
   },
   {
    "duration": 54,
    "start_time": "2022-06-27T10:39:43.799Z"
   },
   {
    "duration": 40,
    "start_time": "2022-06-27T10:39:43.855Z"
   },
   {
    "duration": 3,
    "start_time": "2022-06-27T10:39:43.899Z"
   },
   {
    "duration": 42,
    "start_time": "2022-06-27T10:39:43.903Z"
   },
   {
    "duration": 24,
    "start_time": "2022-06-27T10:39:43.947Z"
   },
   {
    "duration": 57,
    "start_time": "2022-06-27T10:39:43.973Z"
   },
   {
    "duration": 25,
    "start_time": "2022-06-27T10:39:44.032Z"
   },
   {
    "duration": 22,
    "start_time": "2022-06-27T10:39:44.059Z"
   },
   {
    "duration": 8,
    "start_time": "2022-06-27T10:39:44.083Z"
   },
   {
    "duration": 22,
    "start_time": "2022-06-27T10:39:44.127Z"
   },
   {
    "duration": 143,
    "start_time": "2022-06-27T10:39:44.151Z"
   },
   {
    "duration": 32,
    "start_time": "2022-06-27T10:39:44.296Z"
   },
   {
    "duration": 48,
    "start_time": "2022-06-27T10:39:44.329Z"
   },
   {
    "duration": 50,
    "start_time": "2022-06-27T10:47:27.945Z"
   },
   {
    "duration": 34,
    "start_time": "2022-06-27T10:54:56.678Z"
   },
   {
    "duration": 921,
    "start_time": "2022-06-27T11:05:58.357Z"
   },
   {
    "duration": 22,
    "start_time": "2022-06-27T11:05:59.281Z"
   },
   {
    "duration": 17,
    "start_time": "2022-06-27T11:05:59.304Z"
   },
   {
    "duration": 10,
    "start_time": "2022-06-27T11:05:59.323Z"
   },
   {
    "duration": 8,
    "start_time": "2022-06-27T11:05:59.335Z"
   },
   {
    "duration": 26,
    "start_time": "2022-06-27T11:05:59.345Z"
   },
   {
    "duration": 4,
    "start_time": "2022-06-27T11:05:59.373Z"
   },
   {
    "duration": 9,
    "start_time": "2022-06-27T11:05:59.379Z"
   },
   {
    "duration": 197,
    "start_time": "2022-06-27T11:05:59.389Z"
   },
   {
    "duration": 30,
    "start_time": "2022-06-27T11:05:59.590Z"
   },
   {
    "duration": 31,
    "start_time": "2022-06-27T11:05:59.626Z"
   },
   {
    "duration": 99,
    "start_time": "2022-06-27T11:05:59.658Z"
   },
   {
    "duration": 22,
    "start_time": "2022-06-27T11:05:59.758Z"
   },
   {
    "duration": 152,
    "start_time": "2022-06-27T11:05:59.782Z"
   },
   {
    "duration": 27,
    "start_time": "2022-06-27T11:05:59.935Z"
   },
   {
    "duration": 35,
    "start_time": "2022-06-27T11:05:59.964Z"
   },
   {
    "duration": 29,
    "start_time": "2022-06-27T11:06:00.001Z"
   },
   {
    "duration": 14,
    "start_time": "2022-06-27T11:06:00.032Z"
   },
   {
    "duration": 49,
    "start_time": "2022-06-27T11:06:00.048Z"
   },
   {
    "duration": 9,
    "start_time": "2022-06-27T11:06:00.099Z"
   },
   {
    "duration": 37,
    "start_time": "2022-06-27T11:06:00.110Z"
   },
   {
    "duration": 181,
    "start_time": "2022-06-27T11:06:00.149Z"
   },
   {
    "duration": 19,
    "start_time": "2022-06-27T11:06:00.332Z"
   },
   {
    "duration": 38,
    "start_time": "2022-06-27T11:06:00.353Z"
   },
   {
    "duration": 52,
    "start_time": "2022-06-27T11:06:00.393Z"
   },
   {
    "duration": 32,
    "start_time": "2022-06-27T11:06:00.447Z"
   },
   {
    "duration": 53,
    "start_time": "2022-06-27T11:06:00.481Z"
   },
   {
    "duration": 4,
    "start_time": "2022-06-27T11:06:00.537Z"
   },
   {
    "duration": 63,
    "start_time": "2022-06-27T11:06:00.543Z"
   },
   {
    "duration": 55,
    "start_time": "2022-06-27T11:06:00.608Z"
   },
   {
    "duration": 37,
    "start_time": "2022-06-27T11:06:00.665Z"
   },
   {
    "duration": 21,
    "start_time": "2022-06-27T11:06:00.704Z"
   },
   {
    "duration": 26,
    "start_time": "2022-06-27T11:06:00.727Z"
   },
   {
    "duration": 13,
    "start_time": "2022-06-27T11:06:00.756Z"
   },
   {
    "duration": 43,
    "start_time": "2022-06-27T11:06:00.771Z"
   },
   {
    "duration": 131,
    "start_time": "2022-06-27T11:06:00.816Z"
   },
   {
    "duration": 67,
    "start_time": "2022-06-27T11:06:00.950Z"
   },
   {
    "duration": 42,
    "start_time": "2022-06-27T11:06:01.027Z"
   },
   {
    "duration": 909,
    "start_time": "2022-06-27T12:13:39.665Z"
   },
   {
    "duration": 21,
    "start_time": "2022-06-27T12:13:40.576Z"
   },
   {
    "duration": 17,
    "start_time": "2022-06-27T12:13:40.599Z"
   },
   {
    "duration": 8,
    "start_time": "2022-06-27T12:13:40.618Z"
   },
   {
    "duration": 9,
    "start_time": "2022-06-27T12:13:40.629Z"
   },
   {
    "duration": 28,
    "start_time": "2022-06-27T12:13:40.640Z"
   },
   {
    "duration": 9,
    "start_time": "2022-06-27T12:13:40.670Z"
   },
   {
    "duration": 9,
    "start_time": "2022-06-27T12:13:40.680Z"
   },
   {
    "duration": 201,
    "start_time": "2022-06-27T12:13:40.691Z"
   },
   {
    "duration": 47,
    "start_time": "2022-06-27T12:13:40.894Z"
   },
   {
    "duration": 29,
    "start_time": "2022-06-27T12:13:40.943Z"
   },
   {
    "duration": 109,
    "start_time": "2022-06-27T12:13:40.974Z"
   },
   {
    "duration": 22,
    "start_time": "2022-06-27T12:13:41.085Z"
   },
   {
    "duration": 166,
    "start_time": "2022-06-27T12:13:41.110Z"
   },
   {
    "duration": 33,
    "start_time": "2022-06-27T12:13:41.278Z"
   },
   {
    "duration": 42,
    "start_time": "2022-06-27T12:13:41.313Z"
   },
   {
    "duration": 16,
    "start_time": "2022-06-27T12:13:41.357Z"
   },
   {
    "duration": 17,
    "start_time": "2022-06-27T12:13:41.375Z"
   },
   {
    "duration": 59,
    "start_time": "2022-06-27T12:13:41.394Z"
   },
   {
    "duration": 8,
    "start_time": "2022-06-27T12:13:41.455Z"
   },
   {
    "duration": 30,
    "start_time": "2022-06-27T12:13:41.464Z"
   },
   {
    "duration": 196,
    "start_time": "2022-06-27T12:13:41.496Z"
   },
   {
    "duration": 17,
    "start_time": "2022-06-27T12:13:41.694Z"
   },
   {
    "duration": 52,
    "start_time": "2022-06-27T12:13:41.713Z"
   },
   {
    "duration": 33,
    "start_time": "2022-06-27T12:13:41.768Z"
   },
   {
    "duration": 56,
    "start_time": "2022-06-27T12:13:41.803Z"
   },
   {
    "duration": 38,
    "start_time": "2022-06-27T12:13:41.861Z"
   },
   {
    "duration": 13,
    "start_time": "2022-06-27T12:13:41.901Z"
   },
   {
    "duration": 49,
    "start_time": "2022-06-27T12:13:41.917Z"
   },
   {
    "duration": 22,
    "start_time": "2022-06-27T12:13:41.968Z"
   },
   {
    "duration": 31,
    "start_time": "2022-06-27T12:13:41.991Z"
   },
   {
    "duration": 29,
    "start_time": "2022-06-27T12:13:42.024Z"
   },
   {
    "duration": 15,
    "start_time": "2022-06-27T12:13:42.055Z"
   },
   {
    "duration": 17,
    "start_time": "2022-06-27T12:13:42.072Z"
   },
   {
    "duration": 41,
    "start_time": "2022-06-27T12:13:42.091Z"
   },
   {
    "duration": 152,
    "start_time": "2022-06-27T12:13:42.134Z"
   },
   {
    "duration": 73,
    "start_time": "2022-06-27T12:13:42.288Z"
   },
   {
    "duration": 32,
    "start_time": "2022-06-27T12:13:42.362Z"
   },
   {
    "duration": 583,
    "start_time": "2022-06-27T12:34:49.005Z"
   },
   {
    "duration": 201,
    "start_time": "2022-06-27T12:35:55.784Z"
   },
   {
    "duration": 175,
    "start_time": "2022-06-27T12:36:36.132Z"
   },
   {
    "duration": 155,
    "start_time": "2022-06-27T12:36:52.619Z"
   },
   {
    "duration": 169,
    "start_time": "2022-06-27T12:38:01.717Z"
   },
   {
    "duration": 164,
    "start_time": "2022-06-27T12:38:22.986Z"
   },
   {
    "duration": 168,
    "start_time": "2022-06-27T12:38:40.927Z"
   },
   {
    "duration": 138,
    "start_time": "2022-06-27T12:43:13.477Z"
   },
   {
    "duration": 850,
    "start_time": "2022-06-27T12:44:11.937Z"
   },
   {
    "duration": 733,
    "start_time": "2022-06-27T12:45:18.811Z"
   },
   {
    "duration": 174,
    "start_time": "2022-06-27T12:45:45.285Z"
   },
   {
    "duration": 41,
    "start_time": "2022-06-27T13:04:41.957Z"
   },
   {
    "duration": 28,
    "start_time": "2022-06-27T13:07:53.497Z"
   },
   {
    "duration": 4,
    "start_time": "2022-06-27T13:09:37.060Z"
   },
   {
    "duration": 56,
    "start_time": "2022-06-27T13:10:04.272Z"
   },
   {
    "duration": 67,
    "start_time": "2022-06-27T13:12:10.533Z"
   },
   {
    "duration": 93,
    "start_time": "2022-06-27T13:12:31.399Z"
   },
   {
    "duration": 39,
    "start_time": "2022-06-27T13:13:06.406Z"
   },
   {
    "duration": 40,
    "start_time": "2022-06-27T13:13:37.024Z"
   },
   {
    "duration": 58,
    "start_time": "2022-06-27T13:14:52.181Z"
   },
   {
    "duration": 12,
    "start_time": "2022-06-27T13:20:23.222Z"
   },
   {
    "duration": 20,
    "start_time": "2022-06-27T13:21:01.188Z"
   },
   {
    "duration": 323,
    "start_time": "2022-06-27T13:26:30.240Z"
   },
   {
    "duration": 17,
    "start_time": "2022-06-27T13:29:29.570Z"
   },
   {
    "duration": 264,
    "start_time": "2022-06-27T13:29:45.011Z"
   },
   {
    "duration": 246,
    "start_time": "2022-06-27T13:31:39.577Z"
   },
   {
    "duration": 37,
    "start_time": "2022-06-27T13:35:05.302Z"
   },
   {
    "duration": 176,
    "start_time": "2022-06-27T13:35:05.341Z"
   },
   {
    "duration": 177,
    "start_time": "2022-06-27T13:35:05.519Z"
   },
   {
    "duration": 172,
    "start_time": "2022-06-27T13:35:05.698Z"
   },
   {
    "duration": 207,
    "start_time": "2022-06-27T13:35:05.872Z"
   },
   {
    "duration": 5,
    "start_time": "2022-06-27T13:35:06.080Z"
   },
   {
    "duration": 73,
    "start_time": "2022-06-27T13:35:06.086Z"
   },
   {
    "duration": 17,
    "start_time": "2022-06-27T13:35:06.161Z"
   },
   {
    "duration": 255,
    "start_time": "2022-06-27T13:35:06.179Z"
   },
   {
    "duration": 18,
    "start_time": "2022-06-27T13:35:43.044Z"
   },
   {
    "duration": 214,
    "start_time": "2022-06-27T13:35:46.337Z"
   },
   {
    "duration": 16,
    "start_time": "2022-06-27T13:39:47.058Z"
   },
   {
    "duration": 252,
    "start_time": "2022-06-27T13:40:23.026Z"
   },
   {
    "duration": 849,
    "start_time": "2022-06-27T13:43:00.631Z"
   },
   {
    "duration": 23,
    "start_time": "2022-06-27T13:43:01.482Z"
   },
   {
    "duration": 17,
    "start_time": "2022-06-27T13:43:01.507Z"
   },
   {
    "duration": 13,
    "start_time": "2022-06-27T13:43:01.527Z"
   },
   {
    "duration": 27,
    "start_time": "2022-06-27T13:43:01.542Z"
   },
   {
    "duration": 48,
    "start_time": "2022-06-27T13:43:01.572Z"
   },
   {
    "duration": 20,
    "start_time": "2022-06-27T13:43:01.622Z"
   },
   {
    "duration": 38,
    "start_time": "2022-06-27T13:43:01.644Z"
   },
   {
    "duration": 187,
    "start_time": "2022-06-27T13:43:01.684Z"
   },
   {
    "duration": 29,
    "start_time": "2022-06-27T13:43:01.874Z"
   },
   {
    "duration": 45,
    "start_time": "2022-06-27T13:43:01.904Z"
   },
   {
    "duration": 89,
    "start_time": "2022-06-27T13:43:01.950Z"
   },
   {
    "duration": 21,
    "start_time": "2022-06-27T13:43:02.040Z"
   },
   {
    "duration": 164,
    "start_time": "2022-06-27T13:43:02.063Z"
   },
   {
    "duration": 38,
    "start_time": "2022-06-27T13:43:02.229Z"
   },
   {
    "duration": 36,
    "start_time": "2022-06-27T13:43:02.269Z"
   },
   {
    "duration": 10,
    "start_time": "2022-06-27T13:43:02.326Z"
   },
   {
    "duration": 19,
    "start_time": "2022-06-27T13:43:02.338Z"
   },
   {
    "duration": 37,
    "start_time": "2022-06-27T13:43:02.359Z"
   },
   {
    "duration": 7,
    "start_time": "2022-06-27T13:43:02.398Z"
   },
   {
    "duration": 23,
    "start_time": "2022-06-27T13:43:02.407Z"
   },
   {
    "duration": 131,
    "start_time": "2022-06-27T13:43:02.432Z"
   },
   {
    "duration": 19,
    "start_time": "2022-06-27T13:43:02.565Z"
   },
   {
    "duration": 52,
    "start_time": "2022-06-27T13:43:02.586Z"
   },
   {
    "duration": 28,
    "start_time": "2022-06-27T13:43:02.640Z"
   },
   {
    "duration": 34,
    "start_time": "2022-06-27T13:43:02.670Z"
   },
   {
    "duration": 55,
    "start_time": "2022-06-27T13:43:02.706Z"
   },
   {
    "duration": 3,
    "start_time": "2022-06-27T13:43:02.764Z"
   },
   {
    "duration": 31,
    "start_time": "2022-06-27T13:43:02.768Z"
   },
   {
    "duration": 32,
    "start_time": "2022-06-27T13:43:02.800Z"
   },
   {
    "duration": 21,
    "start_time": "2022-06-27T13:43:02.834Z"
   },
   {
    "duration": 17,
    "start_time": "2022-06-27T13:43:02.857Z"
   },
   {
    "duration": 16,
    "start_time": "2022-06-27T13:43:02.875Z"
   },
   {
    "duration": 36,
    "start_time": "2022-06-27T13:43:02.893Z"
   },
   {
    "duration": 27,
    "start_time": "2022-06-27T13:43:02.931Z"
   },
   {
    "duration": 135,
    "start_time": "2022-06-27T13:43:02.960Z"
   },
   {
    "duration": 61,
    "start_time": "2022-06-27T13:43:03.097Z"
   },
   {
    "duration": 33,
    "start_time": "2022-06-27T13:43:03.160Z"
   },
   {
    "duration": 38,
    "start_time": "2022-06-27T13:43:03.194Z"
   },
   {
    "duration": 495,
    "start_time": "2022-06-27T13:43:03.233Z"
   },
   {
    "duration": 15,
    "start_time": "2022-06-27T13:43:03.730Z"
   },
   {
    "duration": 279,
    "start_time": "2022-06-27T13:43:03.747Z"
   },
   {
    "duration": 47,
    "start_time": "2022-06-27T13:44:32.175Z"
   },
   {
    "duration": 215,
    "start_time": "2022-06-27T13:44:53.544Z"
   },
   {
    "duration": 218,
    "start_time": "2022-06-27T13:45:20.058Z"
   },
   {
    "duration": 880,
    "start_time": "2022-06-27T13:45:30.065Z"
   },
   {
    "duration": 23,
    "start_time": "2022-06-27T13:45:30.948Z"
   },
   {
    "duration": 18,
    "start_time": "2022-06-27T13:45:30.973Z"
   },
   {
    "duration": 27,
    "start_time": "2022-06-27T13:45:30.993Z"
   },
   {
    "duration": 21,
    "start_time": "2022-06-27T13:45:31.021Z"
   },
   {
    "duration": 29,
    "start_time": "2022-06-27T13:45:31.044Z"
   },
   {
    "duration": 7,
    "start_time": "2022-06-27T13:45:31.075Z"
   },
   {
    "duration": 36,
    "start_time": "2022-06-27T13:45:31.084Z"
   },
   {
    "duration": 198,
    "start_time": "2022-06-27T13:45:31.121Z"
   },
   {
    "duration": 27,
    "start_time": "2022-06-27T13:45:31.323Z"
   },
   {
    "duration": 28,
    "start_time": "2022-06-27T13:45:31.352Z"
   },
   {
    "duration": 98,
    "start_time": "2022-06-27T13:45:31.382Z"
   },
   {
    "duration": 24,
    "start_time": "2022-06-27T13:45:31.482Z"
   },
   {
    "duration": 146,
    "start_time": "2022-06-27T13:45:31.508Z"
   },
   {
    "duration": 24,
    "start_time": "2022-06-27T13:45:31.656Z"
   },
   {
    "duration": 46,
    "start_time": "2022-06-27T13:45:31.681Z"
   },
   {
    "duration": 63,
    "start_time": "2022-06-27T13:45:31.728Z"
   },
   {
    "duration": 19,
    "start_time": "2022-06-27T13:45:31.793Z"
   },
   {
    "duration": 40,
    "start_time": "2022-06-27T13:45:31.813Z"
   },
   {
    "duration": 7,
    "start_time": "2022-06-27T13:45:31.855Z"
   },
   {
    "duration": 52,
    "start_time": "2022-06-27T13:45:31.863Z"
   },
   {
    "duration": 128,
    "start_time": "2022-06-27T13:45:31.917Z"
   },
   {
    "duration": 18,
    "start_time": "2022-06-27T13:45:32.047Z"
   },
   {
    "duration": 33,
    "start_time": "2022-06-27T13:45:32.067Z"
   },
   {
    "duration": 49,
    "start_time": "2022-06-27T13:45:32.102Z"
   },
   {
    "duration": 32,
    "start_time": "2022-06-27T13:45:32.152Z"
   },
   {
    "duration": 64,
    "start_time": "2022-06-27T13:45:32.185Z"
   },
   {
    "duration": 2,
    "start_time": "2022-06-27T13:45:32.252Z"
   },
   {
    "duration": 20,
    "start_time": "2022-06-27T13:45:32.256Z"
   },
   {
    "duration": 18,
    "start_time": "2022-06-27T13:45:32.278Z"
   },
   {
    "duration": 51,
    "start_time": "2022-06-27T13:45:32.298Z"
   },
   {
    "duration": 20,
    "start_time": "2022-06-27T13:45:32.351Z"
   },
   {
    "duration": 16,
    "start_time": "2022-06-27T13:45:32.373Z"
   },
   {
    "duration": 6,
    "start_time": "2022-06-27T13:45:32.391Z"
   },
   {
    "duration": 44,
    "start_time": "2022-06-27T13:45:32.399Z"
   },
   {
    "duration": 125,
    "start_time": "2022-06-27T13:45:32.445Z"
   },
   {
    "duration": 67,
    "start_time": "2022-06-27T13:45:32.572Z"
   },
   {
    "duration": 35,
    "start_time": "2022-06-27T13:45:32.641Z"
   },
   {
    "duration": 15,
    "start_time": "2022-06-27T13:45:32.678Z"
   },
   {
    "duration": 513,
    "start_time": "2022-06-27T13:45:32.695Z"
   },
   {
    "duration": 23,
    "start_time": "2022-06-27T13:45:33.210Z"
   },
   {
    "duration": 243,
    "start_time": "2022-06-27T13:45:33.234Z"
   },
   {
    "duration": 17,
    "start_time": "2022-06-27T13:47:37.479Z"
   },
   {
    "duration": 15,
    "start_time": "2022-06-27T13:48:13.231Z"
   },
   {
    "duration": 847,
    "start_time": "2022-06-27T13:49:06.926Z"
   },
   {
    "duration": 21,
    "start_time": "2022-06-27T13:49:07.775Z"
   },
   {
    "duration": 16,
    "start_time": "2022-06-27T13:49:07.798Z"
   },
   {
    "duration": 19,
    "start_time": "2022-06-27T13:49:07.816Z"
   },
   {
    "duration": 19,
    "start_time": "2022-06-27T13:49:07.837Z"
   },
   {
    "duration": 30,
    "start_time": "2022-06-27T13:49:07.858Z"
   },
   {
    "duration": 13,
    "start_time": "2022-06-27T13:49:07.890Z"
   },
   {
    "duration": 16,
    "start_time": "2022-06-27T13:49:07.905Z"
   },
   {
    "duration": 163,
    "start_time": "2022-06-27T13:49:07.922Z"
   },
   {
    "duration": 38,
    "start_time": "2022-06-27T13:49:08.088Z"
   },
   {
    "duration": 36,
    "start_time": "2022-06-27T13:49:08.127Z"
   },
   {
    "duration": 104,
    "start_time": "2022-06-27T13:49:08.165Z"
   },
   {
    "duration": 29,
    "start_time": "2022-06-27T13:49:08.271Z"
   },
   {
    "duration": 168,
    "start_time": "2022-06-27T13:49:08.302Z"
   },
   {
    "duration": 27,
    "start_time": "2022-06-27T13:49:08.472Z"
   },
   {
    "duration": 48,
    "start_time": "2022-06-27T13:49:08.501Z"
   },
   {
    "duration": 15,
    "start_time": "2022-06-27T13:49:08.551Z"
   },
   {
    "duration": 18,
    "start_time": "2022-06-27T13:49:08.569Z"
   },
   {
    "duration": 30,
    "start_time": "2022-06-27T13:49:08.588Z"
   },
   {
    "duration": 8,
    "start_time": "2022-06-27T13:49:08.626Z"
   },
   {
    "duration": 30,
    "start_time": "2022-06-27T13:49:08.636Z"
   },
   {
    "duration": 129,
    "start_time": "2022-06-27T13:49:08.667Z"
   },
   {
    "duration": 28,
    "start_time": "2022-06-27T13:49:08.797Z"
   },
   {
    "duration": 33,
    "start_time": "2022-06-27T13:49:08.827Z"
   },
   {
    "duration": 29,
    "start_time": "2022-06-27T13:49:08.862Z"
   },
   {
    "duration": 58,
    "start_time": "2022-06-27T13:49:08.893Z"
   },
   {
    "duration": 41,
    "start_time": "2022-06-27T13:49:08.953Z"
   },
   {
    "duration": 2,
    "start_time": "2022-06-27T13:49:08.998Z"
   },
   {
    "duration": 39,
    "start_time": "2022-06-27T13:49:09.001Z"
   },
   {
    "duration": 18,
    "start_time": "2022-06-27T13:49:09.042Z"
   },
   {
    "duration": 21,
    "start_time": "2022-06-27T13:49:09.062Z"
   },
   {
    "duration": 42,
    "start_time": "2022-06-27T13:49:09.084Z"
   },
   {
    "duration": 18,
    "start_time": "2022-06-27T13:49:09.128Z"
   },
   {
    "duration": 5,
    "start_time": "2022-06-27T13:49:09.148Z"
   },
   {
    "duration": 24,
    "start_time": "2022-06-27T13:49:09.155Z"
   },
   {
    "duration": 133,
    "start_time": "2022-06-27T13:49:09.180Z"
   },
   {
    "duration": 56,
    "start_time": "2022-06-27T13:49:09.314Z"
   },
   {
    "duration": 34,
    "start_time": "2022-06-27T13:49:09.371Z"
   },
   {
    "duration": 32,
    "start_time": "2022-06-27T13:49:09.406Z"
   },
   {
    "duration": 464,
    "start_time": "2022-06-27T13:49:09.439Z"
   },
   {
    "duration": 22,
    "start_time": "2022-06-27T13:49:09.905Z"
   },
   {
    "duration": 226,
    "start_time": "2022-06-27T13:49:09.929Z"
   },
   {
    "duration": 16,
    "start_time": "2022-06-27T13:49:10.157Z"
   },
   {
    "duration": 212,
    "start_time": "2022-06-27T13:49:10.174Z"
   },
   {
    "duration": 15,
    "start_time": "2022-06-27T13:50:02.456Z"
   },
   {
    "duration": 293,
    "start_time": "2022-06-27T13:50:07.586Z"
   },
   {
    "duration": 134,
    "start_time": "2022-06-27T14:08:03.678Z"
   },
   {
    "duration": 146,
    "start_time": "2022-06-27T14:13:04.090Z"
   },
   {
    "duration": 90,
    "start_time": "2022-06-27T14:14:15.473Z"
   },
   {
    "duration": 224,
    "start_time": "2022-06-27T14:14:25.194Z"
   },
   {
    "duration": 213,
    "start_time": "2022-06-27T14:17:50.502Z"
   },
   {
    "duration": 269,
    "start_time": "2022-06-27T14:20:08.387Z"
   },
   {
    "duration": 198,
    "start_time": "2022-06-27T14:20:47.159Z"
   },
   {
    "duration": 931,
    "start_time": "2022-06-27T14:22:28.735Z"
   },
   {
    "duration": 745,
    "start_time": "2022-06-27T14:24:40.895Z"
   },
   {
    "duration": 309,
    "start_time": "2022-06-27T14:25:20.707Z"
   },
   {
    "duration": 222,
    "start_time": "2022-06-27T14:27:45.320Z"
   },
   {
    "duration": 14998,
    "start_time": "2022-06-27T14:28:43.828Z"
   },
   {
    "duration": 159,
    "start_time": "2022-06-27T14:29:30.788Z"
   },
   {
    "duration": 188,
    "start_time": "2022-06-27T14:30:15.046Z"
   },
   {
    "duration": 194,
    "start_time": "2022-06-27T14:30:26.496Z"
   },
   {
    "duration": 116,
    "start_time": "2022-06-27T14:31:27.060Z"
   },
   {
    "duration": 545,
    "start_time": "2022-06-27T14:31:56.597Z"
   },
   {
    "duration": 49,
    "start_time": "2022-06-27T14:35:36.185Z"
   },
   {
    "duration": 32,
    "start_time": "2022-06-27T14:35:55.328Z"
   },
   {
    "duration": 32,
    "start_time": "2022-06-27T14:36:25.513Z"
   },
   {
    "duration": 233,
    "start_time": "2022-06-27T14:37:08.484Z"
   },
   {
    "duration": 13,
    "start_time": "2022-06-27T14:37:53.815Z"
   },
   {
    "duration": 124,
    "start_time": "2022-06-27T14:38:12.354Z"
   },
   {
    "duration": 418,
    "start_time": "2022-06-27T14:38:50.569Z"
   },
   {
    "duration": 30,
    "start_time": "2022-06-27T14:39:43.980Z"
   },
   {
    "duration": 419,
    "start_time": "2022-06-27T14:39:48.035Z"
   },
   {
    "duration": 31,
    "start_time": "2022-06-27T14:40:16.573Z"
   },
   {
    "duration": 449,
    "start_time": "2022-06-27T14:40:35.110Z"
   },
   {
    "duration": 463,
    "start_time": "2022-06-27T14:41:17.851Z"
   },
   {
    "duration": 316,
    "start_time": "2022-06-27T14:41:37.929Z"
   },
   {
    "duration": 235,
    "start_time": "2022-06-27T14:42:01.954Z"
   },
   {
    "duration": 212,
    "start_time": "2022-06-27T14:42:33.155Z"
   },
   {
    "duration": 222,
    "start_time": "2022-06-27T14:42:47.652Z"
   },
   {
    "duration": 33,
    "start_time": "2022-06-27T14:46:22.320Z"
   },
   {
    "duration": 218,
    "start_time": "2022-06-27T14:46:29.160Z"
   },
   {
    "duration": 663,
    "start_time": "2022-06-27T14:46:44.999Z"
   },
   {
    "duration": 440,
    "start_time": "2022-06-27T14:46:59.206Z"
   },
   {
    "duration": 228,
    "start_time": "2022-06-27T14:47:13.385Z"
   },
   {
    "duration": 238,
    "start_time": "2022-06-27T14:47:22.674Z"
   },
   {
    "duration": 31,
    "start_time": "2022-06-27T14:48:23.653Z"
   },
   {
    "duration": 272,
    "start_time": "2022-06-27T14:48:32.932Z"
   },
   {
    "duration": 31,
    "start_time": "2022-06-27T15:01:45.541Z"
   },
   {
    "duration": 32,
    "start_time": "2022-06-27T15:02:03.405Z"
   },
   {
    "duration": 256,
    "start_time": "2022-06-27T15:02:10.660Z"
   },
   {
    "duration": 237,
    "start_time": "2022-06-27T15:02:36.263Z"
   },
   {
    "duration": 211,
    "start_time": "2022-06-27T15:03:14.705Z"
   },
   {
    "duration": 418,
    "start_time": "2022-06-27T15:03:53.251Z"
   },
   {
    "duration": 234,
    "start_time": "2022-06-27T15:04:27.339Z"
   },
   {
    "duration": 264,
    "start_time": "2022-06-27T15:04:49.822Z"
   },
   {
    "duration": 230,
    "start_time": "2022-06-27T15:05:17.997Z"
   },
   {
    "duration": 286,
    "start_time": "2022-06-27T15:06:07.065Z"
   },
   {
    "duration": 899,
    "start_time": "2022-06-27T15:07:05.620Z"
   },
   {
    "duration": 263,
    "start_time": "2022-06-27T15:07:53.286Z"
   },
   {
    "duration": 340,
    "start_time": "2022-06-27T15:09:13.837Z"
   },
   {
    "duration": 250,
    "start_time": "2022-06-27T15:13:27.661Z"
   },
   {
    "duration": 716,
    "start_time": "2022-06-27T15:14:36.051Z"
   },
   {
    "duration": 281,
    "start_time": "2022-06-27T15:16:37.176Z"
   },
   {
    "duration": 870,
    "start_time": "2022-06-27T15:17:45.590Z"
   },
   {
    "duration": 22,
    "start_time": "2022-06-27T15:17:46.463Z"
   },
   {
    "duration": 16,
    "start_time": "2022-06-27T15:17:46.488Z"
   },
   {
    "duration": 7,
    "start_time": "2022-06-27T15:17:46.506Z"
   },
   {
    "duration": 9,
    "start_time": "2022-06-27T15:17:46.515Z"
   },
   {
    "duration": 37,
    "start_time": "2022-06-27T15:17:46.525Z"
   },
   {
    "duration": 11,
    "start_time": "2022-06-27T15:17:46.564Z"
   },
   {
    "duration": 7,
    "start_time": "2022-06-27T15:17:46.577Z"
   },
   {
    "duration": 168,
    "start_time": "2022-06-27T15:17:46.586Z"
   },
   {
    "duration": 29,
    "start_time": "2022-06-27T15:17:46.757Z"
   },
   {
    "duration": 52,
    "start_time": "2022-06-27T15:17:46.789Z"
   },
   {
    "duration": 100,
    "start_time": "2022-06-27T15:17:46.843Z"
   },
   {
    "duration": 21,
    "start_time": "2022-06-27T15:17:46.945Z"
   },
   {
    "duration": 163,
    "start_time": "2022-06-27T15:17:46.968Z"
   },
   {
    "duration": 32,
    "start_time": "2022-06-27T15:17:47.133Z"
   },
   {
    "duration": 34,
    "start_time": "2022-06-27T15:17:47.167Z"
   },
   {
    "duration": 27,
    "start_time": "2022-06-27T15:17:47.203Z"
   },
   {
    "duration": 16,
    "start_time": "2022-06-27T15:17:47.232Z"
   },
   {
    "duration": 38,
    "start_time": "2022-06-27T15:17:47.250Z"
   },
   {
    "duration": 8,
    "start_time": "2022-06-27T15:17:47.290Z"
   },
   {
    "duration": 57,
    "start_time": "2022-06-27T15:17:47.299Z"
   },
   {
    "duration": 176,
    "start_time": "2022-06-27T15:17:47.357Z"
   },
   {
    "duration": 18,
    "start_time": "2022-06-27T15:17:47.535Z"
   },
   {
    "duration": 35,
    "start_time": "2022-06-27T15:17:47.555Z"
   },
   {
    "duration": 50,
    "start_time": "2022-06-27T15:17:47.592Z"
   },
   {
    "duration": 34,
    "start_time": "2022-06-27T15:17:47.644Z"
   },
   {
    "duration": 60,
    "start_time": "2022-06-27T15:17:47.679Z"
   },
   {
    "duration": 2,
    "start_time": "2022-06-27T15:17:47.743Z"
   },
   {
    "duration": 26,
    "start_time": "2022-06-27T15:17:47.747Z"
   },
   {
    "duration": 16,
    "start_time": "2022-06-27T15:17:47.775Z"
   },
   {
    "duration": 43,
    "start_time": "2022-06-27T15:17:47.793Z"
   },
   {
    "duration": 17,
    "start_time": "2022-06-27T15:17:47.838Z"
   },
   {
    "duration": 23,
    "start_time": "2022-06-27T15:17:47.857Z"
   },
   {
    "duration": 8,
    "start_time": "2022-06-27T15:17:47.883Z"
   },
   {
    "duration": 45,
    "start_time": "2022-06-27T15:17:47.893Z"
   },
   {
    "duration": 128,
    "start_time": "2022-06-27T15:17:47.940Z"
   },
   {
    "duration": 68,
    "start_time": "2022-06-27T15:17:48.070Z"
   },
   {
    "duration": 37,
    "start_time": "2022-06-27T15:17:48.139Z"
   },
   {
    "duration": 18,
    "start_time": "2022-06-27T15:17:48.178Z"
   },
   {
    "duration": 528,
    "start_time": "2022-06-27T15:17:48.198Z"
   },
   {
    "duration": 17,
    "start_time": "2022-06-27T15:17:48.728Z"
   },
   {
    "duration": 233,
    "start_time": "2022-06-27T15:17:48.747Z"
   },
   {
    "duration": 18,
    "start_time": "2022-06-27T15:17:48.982Z"
   },
   {
    "duration": 247,
    "start_time": "2022-06-27T15:17:49.002Z"
   },
   {
    "duration": 313,
    "start_time": "2022-06-27T15:17:49.251Z"
   },
   {
    "duration": 280,
    "start_time": "2022-06-27T15:17:49.566Z"
   },
   {
    "duration": 289,
    "start_time": "2022-06-27T15:17:49.848Z"
   },
   {
    "duration": 364,
    "start_time": "2022-06-27T15:30:00.451Z"
   },
   {
    "duration": 93,
    "start_time": "2022-06-27T15:30:28.688Z"
   },
   {
    "duration": 246,
    "start_time": "2022-06-27T15:30:50.499Z"
   },
   {
    "duration": 36,
    "start_time": "2022-06-27T15:41:50.340Z"
   },
   {
    "duration": 28,
    "start_time": "2022-06-27T15:42:34.904Z"
   },
   {
    "duration": 757,
    "start_time": "2022-06-27T15:44:48.660Z"
   },
   {
    "duration": 251,
    "start_time": "2022-06-27T15:45:21.401Z"
   },
   {
    "duration": 291,
    "start_time": "2022-06-27T15:46:34.179Z"
   },
   {
    "duration": 24,
    "start_time": "2022-06-27T15:48:53.705Z"
   },
   {
    "duration": 23,
    "start_time": "2022-06-27T15:49:07.146Z"
   },
   {
    "duration": 905,
    "start_time": "2022-06-27T15:49:20.246Z"
   },
   {
    "duration": 22,
    "start_time": "2022-06-27T15:49:21.153Z"
   },
   {
    "duration": 17,
    "start_time": "2022-06-27T15:49:21.180Z"
   },
   {
    "duration": 10,
    "start_time": "2022-06-27T15:49:21.199Z"
   },
   {
    "duration": 17,
    "start_time": "2022-06-27T15:49:21.211Z"
   },
   {
    "duration": 24,
    "start_time": "2022-06-27T15:49:21.230Z"
   },
   {
    "duration": 9,
    "start_time": "2022-06-27T15:49:21.256Z"
   },
   {
    "duration": 11,
    "start_time": "2022-06-27T15:49:21.267Z"
   },
   {
    "duration": 180,
    "start_time": "2022-06-27T15:49:21.281Z"
   },
   {
    "duration": 30,
    "start_time": "2022-06-27T15:49:21.464Z"
   },
   {
    "duration": 46,
    "start_time": "2022-06-27T15:49:21.496Z"
   },
   {
    "duration": 98,
    "start_time": "2022-06-27T15:49:21.545Z"
   },
   {
    "duration": 21,
    "start_time": "2022-06-27T15:49:21.645Z"
   },
   {
    "duration": 150,
    "start_time": "2022-06-27T15:49:21.668Z"
   },
   {
    "duration": 26,
    "start_time": "2022-06-27T15:49:21.820Z"
   },
   {
    "duration": 33,
    "start_time": "2022-06-27T15:49:21.847Z"
   },
   {
    "duration": 11,
    "start_time": "2022-06-27T15:49:21.882Z"
   },
   {
    "duration": 35,
    "start_time": "2022-06-27T15:49:21.894Z"
   },
   {
    "duration": 36,
    "start_time": "2022-06-27T15:49:21.931Z"
   },
   {
    "duration": 8,
    "start_time": "2022-06-27T15:49:21.969Z"
   },
   {
    "duration": 20,
    "start_time": "2022-06-27T15:49:21.979Z"
   },
   {
    "duration": 139,
    "start_time": "2022-06-27T15:49:22.001Z"
   },
   {
    "duration": 18,
    "start_time": "2022-06-27T15:49:22.142Z"
   },
   {
    "duration": 34,
    "start_time": "2022-06-27T15:49:22.161Z"
   },
   {
    "duration": 54,
    "start_time": "2022-06-27T15:49:22.197Z"
   },
   {
    "duration": 37,
    "start_time": "2022-06-27T15:49:22.253Z"
   },
   {
    "duration": 64,
    "start_time": "2022-06-27T15:49:22.294Z"
   },
   {
    "duration": 3,
    "start_time": "2022-06-27T15:49:22.360Z"
   },
   {
    "duration": 20,
    "start_time": "2022-06-27T15:49:22.364Z"
   },
   {
    "duration": 17,
    "start_time": "2022-06-27T15:49:22.386Z"
   },
   {
    "duration": 41,
    "start_time": "2022-06-27T15:49:22.405Z"
   },
   {
    "duration": 17,
    "start_time": "2022-06-27T15:49:22.448Z"
   },
   {
    "duration": 17,
    "start_time": "2022-06-27T15:49:22.466Z"
   },
   {
    "duration": 7,
    "start_time": "2022-06-27T15:49:22.485Z"
   },
   {
    "duration": 20,
    "start_time": "2022-06-27T15:49:22.527Z"
   },
   {
    "duration": 135,
    "start_time": "2022-06-27T15:49:22.549Z"
   },
   {
    "duration": 59,
    "start_time": "2022-06-27T15:49:22.686Z"
   },
   {
    "duration": 33,
    "start_time": "2022-06-27T15:49:22.747Z"
   },
   {
    "duration": 14,
    "start_time": "2022-06-27T15:49:22.782Z"
   },
   {
    "duration": 508,
    "start_time": "2022-06-27T15:49:22.797Z"
   },
   {
    "duration": 256,
    "start_time": "2022-06-27T15:49:23.306Z"
   },
   {
    "duration": 245,
    "start_time": "2022-06-27T15:49:23.564Z"
   },
   {
    "duration": 22,
    "start_time": "2022-06-27T15:49:23.811Z"
   },
   {
    "duration": 238,
    "start_time": "2022-06-27T15:49:23.835Z"
   },
   {
    "duration": 20,
    "start_time": "2022-06-27T15:49:24.075Z"
   },
   {
    "duration": 276,
    "start_time": "2022-06-27T15:49:24.096Z"
   },
   {
    "duration": 364,
    "start_time": "2022-06-27T15:49:24.373Z"
   },
   {
    "duration": 282,
    "start_time": "2022-06-27T15:49:24.739Z"
   },
   {
    "duration": 366,
    "start_time": "2022-06-27T15:49:25.026Z"
   },
   {
    "duration": 255,
    "start_time": "2022-06-27T15:54:04.084Z"
   },
   {
    "duration": 249,
    "start_time": "2022-06-27T15:55:21.345Z"
   },
   {
    "duration": 233,
    "start_time": "2022-06-27T15:59:58.101Z"
   },
   {
    "duration": 223,
    "start_time": "2022-06-27T16:00:50.422Z"
   },
   {
    "duration": 793,
    "start_time": "2022-06-27T16:37:42.837Z"
   },
   {
    "duration": 22,
    "start_time": "2022-06-27T16:37:43.632Z"
   },
   {
    "duration": 16,
    "start_time": "2022-06-27T16:37:43.655Z"
   },
   {
    "duration": 4,
    "start_time": "2022-06-27T16:37:43.673Z"
   },
   {
    "duration": 8,
    "start_time": "2022-06-27T16:37:43.678Z"
   },
   {
    "duration": 21,
    "start_time": "2022-06-27T16:37:43.687Z"
   },
   {
    "duration": 16,
    "start_time": "2022-06-27T16:37:43.710Z"
   },
   {
    "duration": 3,
    "start_time": "2022-06-27T16:37:43.727Z"
   },
   {
    "duration": 163,
    "start_time": "2022-06-27T16:37:43.732Z"
   },
   {
    "duration": 34,
    "start_time": "2022-06-27T16:37:43.898Z"
   },
   {
    "duration": 27,
    "start_time": "2022-06-27T16:37:43.933Z"
   },
   {
    "duration": 98,
    "start_time": "2022-06-27T16:37:43.962Z"
   },
   {
    "duration": 22,
    "start_time": "2022-06-27T16:37:44.062Z"
   },
   {
    "duration": 147,
    "start_time": "2022-06-27T16:37:44.086Z"
   },
   {
    "duration": 27,
    "start_time": "2022-06-27T16:37:44.235Z"
   },
   {
    "duration": 40,
    "start_time": "2022-06-27T16:37:44.264Z"
   },
   {
    "duration": 29,
    "start_time": "2022-06-27T16:37:44.306Z"
   },
   {
    "duration": 13,
    "start_time": "2022-06-27T16:37:44.337Z"
   },
   {
    "duration": 45,
    "start_time": "2022-06-27T16:37:44.352Z"
   },
   {
    "duration": 10,
    "start_time": "2022-06-27T16:37:44.399Z"
   },
   {
    "duration": 20,
    "start_time": "2022-06-27T16:37:44.425Z"
   },
   {
    "duration": 164,
    "start_time": "2022-06-27T16:37:44.447Z"
   },
   {
    "duration": 30,
    "start_time": "2022-06-27T16:37:44.613Z"
   },
   {
    "duration": 33,
    "start_time": "2022-06-27T16:37:44.645Z"
   },
   {
    "duration": 27,
    "start_time": "2022-06-27T16:37:44.679Z"
   },
   {
    "duration": 32,
    "start_time": "2022-06-27T16:37:44.726Z"
   },
   {
    "duration": 41,
    "start_time": "2022-06-27T16:37:44.760Z"
   },
   {
    "duration": 3,
    "start_time": "2022-06-27T16:37:44.827Z"
   },
   {
    "duration": 22,
    "start_time": "2022-06-27T16:37:44.831Z"
   },
   {
    "duration": 19,
    "start_time": "2022-06-27T16:37:44.855Z"
   },
   {
    "duration": 21,
    "start_time": "2022-06-27T16:37:44.876Z"
   },
   {
    "duration": 45,
    "start_time": "2022-06-27T16:37:44.898Z"
   },
   {
    "duration": 18,
    "start_time": "2022-06-27T16:37:44.944Z"
   },
   {
    "duration": 12,
    "start_time": "2022-06-27T16:37:44.964Z"
   },
   {
    "duration": 31,
    "start_time": "2022-06-27T16:37:44.978Z"
   },
   {
    "duration": 134,
    "start_time": "2022-06-27T16:37:45.025Z"
   },
   {
    "duration": 56,
    "start_time": "2022-06-27T16:37:45.161Z"
   },
   {
    "duration": 36,
    "start_time": "2022-06-27T16:37:45.225Z"
   },
   {
    "duration": 15,
    "start_time": "2022-06-27T16:37:45.263Z"
   },
   {
    "duration": 474,
    "start_time": "2022-06-27T16:37:45.280Z"
   },
   {
    "duration": 218,
    "start_time": "2022-06-27T16:37:45.756Z"
   },
   {
    "duration": 219,
    "start_time": "2022-06-27T16:37:45.976Z"
   },
   {
    "duration": 29,
    "start_time": "2022-06-27T16:37:46.197Z"
   },
   {
    "duration": 211,
    "start_time": "2022-06-27T16:37:46.228Z"
   },
   {
    "duration": 224,
    "start_time": "2022-06-27T16:37:46.441Z"
   },
   {
    "duration": 228,
    "start_time": "2022-06-27T16:37:46.667Z"
   },
   {
    "duration": 16,
    "start_time": "2022-06-27T16:37:46.897Z"
   },
   {
    "duration": 217,
    "start_time": "2022-06-27T16:37:46.925Z"
   },
   {
    "duration": 226,
    "start_time": "2022-06-27T16:37:47.143Z"
   },
   {
    "duration": 216,
    "start_time": "2022-06-27T16:37:47.370Z"
   },
   {
    "duration": 345,
    "start_time": "2022-06-27T16:37:47.588Z"
   },
   {
    "duration": 247,
    "start_time": "2022-06-27T16:37:47.934Z"
   },
   {
    "duration": 268,
    "start_time": "2022-06-27T16:37:48.183Z"
   },
   {
    "duration": 293,
    "start_time": "2022-06-27T16:45:24.266Z"
   },
   {
    "duration": 33,
    "start_time": "2022-06-27T16:58:02.473Z"
   },
   {
    "duration": 5,
    "start_time": "2022-06-27T17:01:19.215Z"
   },
   {
    "duration": 5,
    "start_time": "2022-06-27T17:01:55.222Z"
   },
   {
    "duration": 99,
    "start_time": "2022-06-27T17:05:46.968Z"
   },
   {
    "duration": 9,
    "start_time": "2022-06-27T17:05:58.162Z"
   },
   {
    "duration": 10,
    "start_time": "2022-06-27T17:07:34.526Z"
   },
   {
    "duration": 11,
    "start_time": "2022-06-27T17:08:18.192Z"
   },
   {
    "duration": 11,
    "start_time": "2022-06-27T17:09:09.323Z"
   },
   {
    "duration": 9,
    "start_time": "2022-06-27T17:10:52.400Z"
   },
   {
    "duration": 5,
    "start_time": "2022-06-27T17:11:52.066Z"
   },
   {
    "duration": 891,
    "start_time": "2022-06-27T17:13:03.690Z"
   },
   {
    "duration": 23,
    "start_time": "2022-06-27T17:13:04.583Z"
   },
   {
    "duration": 20,
    "start_time": "2022-06-27T17:13:04.608Z"
   },
   {
    "duration": 5,
    "start_time": "2022-06-27T17:13:04.631Z"
   },
   {
    "duration": 10,
    "start_time": "2022-06-27T17:13:04.638Z"
   },
   {
    "duration": 24,
    "start_time": "2022-06-27T17:13:04.649Z"
   },
   {
    "duration": 5,
    "start_time": "2022-06-27T17:13:04.674Z"
   },
   {
    "duration": 9,
    "start_time": "2022-06-27T17:13:04.681Z"
   },
   {
    "duration": 164,
    "start_time": "2022-06-27T17:13:04.692Z"
   },
   {
    "duration": 27,
    "start_time": "2022-06-27T17:13:04.860Z"
   },
   {
    "duration": 39,
    "start_time": "2022-06-27T17:13:04.888Z"
   },
   {
    "duration": 86,
    "start_time": "2022-06-27T17:13:04.929Z"
   },
   {
    "duration": 23,
    "start_time": "2022-06-27T17:13:05.017Z"
   },
   {
    "duration": 143,
    "start_time": "2022-06-27T17:13:05.042Z"
   },
   {
    "duration": 25,
    "start_time": "2022-06-27T17:13:05.186Z"
   },
   {
    "duration": 38,
    "start_time": "2022-06-27T17:13:05.213Z"
   },
   {
    "duration": 9,
    "start_time": "2022-06-27T17:13:05.253Z"
   },
   {
    "duration": 18,
    "start_time": "2022-06-27T17:13:05.263Z"
   },
   {
    "duration": 39,
    "start_time": "2022-06-27T17:13:05.283Z"
   },
   {
    "duration": 6,
    "start_time": "2022-06-27T17:13:05.324Z"
   },
   {
    "duration": 17,
    "start_time": "2022-06-27T17:13:05.332Z"
   },
   {
    "duration": 141,
    "start_time": "2022-06-27T17:13:05.351Z"
   },
   {
    "duration": 17,
    "start_time": "2022-06-27T17:13:05.494Z"
   },
   {
    "duration": 43,
    "start_time": "2022-06-27T17:13:05.513Z"
   },
   {
    "duration": 27,
    "start_time": "2022-06-27T17:13:05.558Z"
   },
   {
    "duration": 50,
    "start_time": "2022-06-27T17:13:05.587Z"
   },
   {
    "duration": 40,
    "start_time": "2022-06-27T17:13:05.639Z"
   },
   {
    "duration": 2,
    "start_time": "2022-06-27T17:13:05.683Z"
   },
   {
    "duration": 40,
    "start_time": "2022-06-27T17:13:05.686Z"
   },
   {
    "duration": 15,
    "start_time": "2022-06-27T17:13:05.728Z"
   },
   {
    "duration": 32,
    "start_time": "2022-06-27T17:13:05.745Z"
   },
   {
    "duration": 17,
    "start_time": "2022-06-27T17:13:05.778Z"
   },
   {
    "duration": 30,
    "start_time": "2022-06-27T17:13:05.796Z"
   },
   {
    "duration": 6,
    "start_time": "2022-06-27T17:13:05.827Z"
   },
   {
    "duration": 46,
    "start_time": "2022-06-27T17:13:05.834Z"
   },
   {
    "duration": 126,
    "start_time": "2022-06-27T17:13:05.882Z"
   },
   {
    "duration": 56,
    "start_time": "2022-06-27T17:13:06.010Z"
   },
   {
    "duration": 34,
    "start_time": "2022-06-27T17:13:06.069Z"
   },
   {
    "duration": 34,
    "start_time": "2022-06-27T17:13:06.105Z"
   },
   {
    "duration": 503,
    "start_time": "2022-06-27T17:13:06.141Z"
   },
   {
    "duration": 231,
    "start_time": "2022-06-27T17:13:06.646Z"
   },
   {
    "duration": 239,
    "start_time": "2022-06-27T17:13:06.879Z"
   },
   {
    "duration": 16,
    "start_time": "2022-06-27T17:13:07.125Z"
   },
   {
    "duration": 233,
    "start_time": "2022-06-27T17:13:07.142Z"
   },
   {
    "duration": 235,
    "start_time": "2022-06-27T17:13:07.377Z"
   },
   {
    "duration": 228,
    "start_time": "2022-06-27T17:13:07.614Z"
   },
   {
    "duration": 16,
    "start_time": "2022-06-27T17:13:07.844Z"
   },
   {
    "duration": 230,
    "start_time": "2022-06-27T17:13:07.861Z"
   },
   {
    "duration": 249,
    "start_time": "2022-06-27T17:13:08.092Z"
   },
   {
    "duration": 225,
    "start_time": "2022-06-27T17:13:08.343Z"
   },
   {
    "duration": 378,
    "start_time": "2022-06-27T17:13:08.569Z"
   },
   {
    "duration": 272,
    "start_time": "2022-06-27T17:13:08.949Z"
   },
   {
    "duration": 272,
    "start_time": "2022-06-27T17:13:09.225Z"
   },
   {
    "duration": 245,
    "start_time": "2022-06-27T17:13:09.499Z"
   },
   {
    "duration": 33,
    "start_time": "2022-06-27T17:13:09.745Z"
   },
   {
    "duration": 3,
    "start_time": "2022-06-27T17:13:09.780Z"
   },
   {
    "duration": 16,
    "start_time": "2022-06-27T17:13:09.785Z"
   },
   {
    "duration": 25,
    "start_time": "2022-06-27T17:13:09.803Z"
   },
   {
    "duration": 6,
    "start_time": "2022-06-27T17:13:09.830Z"
   },
   {
    "duration": 57,
    "start_time": "2022-06-27T17:15:23.246Z"
   },
   {
    "duration": 43,
    "start_time": "2022-06-27T17:15:55.927Z"
   },
   {
    "duration": 3,
    "start_time": "2022-06-27T17:16:12.894Z"
   },
   {
    "duration": 3,
    "start_time": "2022-06-27T17:16:23.374Z"
   },
   {
    "duration": 4,
    "start_time": "2022-06-27T17:17:20.884Z"
   },
   {
    "duration": 98,
    "start_time": "2022-06-27T17:31:15.152Z"
   },
   {
    "duration": 11,
    "start_time": "2022-06-27T17:32:40.715Z"
   },
   {
    "duration": 21,
    "start_time": "2022-06-27T17:33:37.313Z"
   },
   {
    "duration": 913,
    "start_time": "2022-06-27T17:34:10.538Z"
   },
   {
    "duration": 22,
    "start_time": "2022-06-27T17:34:11.453Z"
   },
   {
    "duration": 18,
    "start_time": "2022-06-27T17:34:11.476Z"
   },
   {
    "duration": 6,
    "start_time": "2022-06-27T17:34:11.496Z"
   },
   {
    "duration": 41,
    "start_time": "2022-06-27T17:34:11.503Z"
   },
   {
    "duration": 44,
    "start_time": "2022-06-27T17:34:11.547Z"
   },
   {
    "duration": 6,
    "start_time": "2022-06-27T17:34:11.595Z"
   },
   {
    "duration": 22,
    "start_time": "2022-06-27T17:34:11.603Z"
   },
   {
    "duration": 186,
    "start_time": "2022-06-27T17:34:11.627Z"
   },
   {
    "duration": 34,
    "start_time": "2022-06-27T17:34:11.816Z"
   },
   {
    "duration": 27,
    "start_time": "2022-06-27T17:34:11.852Z"
   },
   {
    "duration": 96,
    "start_time": "2022-06-27T17:34:11.881Z"
   },
   {
    "duration": 22,
    "start_time": "2022-06-27T17:34:11.978Z"
   },
   {
    "duration": 148,
    "start_time": "2022-06-27T17:34:12.001Z"
   },
   {
    "duration": 27,
    "start_time": "2022-06-27T17:34:12.151Z"
   },
   {
    "duration": 46,
    "start_time": "2022-06-27T17:34:12.180Z"
   },
   {
    "duration": 10,
    "start_time": "2022-06-27T17:34:12.228Z"
   },
   {
    "duration": 16,
    "start_time": "2022-06-27T17:34:12.240Z"
   },
   {
    "duration": 40,
    "start_time": "2022-06-27T17:34:12.257Z"
   },
   {
    "duration": 27,
    "start_time": "2022-06-27T17:34:12.299Z"
   },
   {
    "duration": 21,
    "start_time": "2022-06-27T17:34:12.328Z"
   },
   {
    "duration": 150,
    "start_time": "2022-06-27T17:34:12.352Z"
   },
   {
    "duration": 27,
    "start_time": "2022-06-27T17:34:12.504Z"
   },
   {
    "duration": 45,
    "start_time": "2022-06-27T17:34:12.533Z"
   },
   {
    "duration": 46,
    "start_time": "2022-06-27T17:34:12.580Z"
   },
   {
    "duration": 43,
    "start_time": "2022-06-27T17:34:12.629Z"
   },
   {
    "duration": 69,
    "start_time": "2022-06-27T17:34:12.674Z"
   },
   {
    "duration": 2,
    "start_time": "2022-06-27T17:34:12.749Z"
   },
   {
    "duration": 29,
    "start_time": "2022-06-27T17:34:12.753Z"
   },
   {
    "duration": 19,
    "start_time": "2022-06-27T17:34:12.784Z"
   },
   {
    "duration": 44,
    "start_time": "2022-06-27T17:34:12.805Z"
   },
   {
    "duration": 21,
    "start_time": "2022-06-27T17:34:12.852Z"
   },
   {
    "duration": 16,
    "start_time": "2022-06-27T17:34:12.875Z"
   },
   {
    "duration": 6,
    "start_time": "2022-06-27T17:34:12.892Z"
   },
   {
    "duration": 27,
    "start_time": "2022-06-27T17:34:12.927Z"
   },
   {
    "duration": 139,
    "start_time": "2022-06-27T17:34:12.956Z"
   },
   {
    "duration": 63,
    "start_time": "2022-06-27T17:34:13.097Z"
   },
   {
    "duration": 36,
    "start_time": "2022-06-27T17:34:13.163Z"
   },
   {
    "duration": 38,
    "start_time": "2022-06-27T17:34:13.201Z"
   },
   {
    "duration": 514,
    "start_time": "2022-06-27T17:34:13.240Z"
   },
   {
    "duration": 244,
    "start_time": "2022-06-27T17:34:13.755Z"
   },
   {
    "duration": 274,
    "start_time": "2022-06-27T17:34:14.001Z"
   },
   {
    "duration": 18,
    "start_time": "2022-06-27T17:34:14.278Z"
   },
   {
    "duration": 294,
    "start_time": "2022-06-27T17:34:14.297Z"
   },
   {
    "duration": 295,
    "start_time": "2022-06-27T17:34:14.596Z"
   },
   {
    "duration": 290,
    "start_time": "2022-06-27T17:34:14.892Z"
   },
   {
    "duration": 23,
    "start_time": "2022-06-27T17:34:15.184Z"
   },
   {
    "duration": 273,
    "start_time": "2022-06-27T17:34:15.209Z"
   },
   {
    "duration": 287,
    "start_time": "2022-06-27T17:34:15.484Z"
   },
   {
    "duration": 283,
    "start_time": "2022-06-27T17:34:15.773Z"
   },
   {
    "duration": 415,
    "start_time": "2022-06-27T17:34:16.058Z"
   },
   {
    "duration": 266,
    "start_time": "2022-06-27T17:34:16.475Z"
   },
   {
    "duration": 285,
    "start_time": "2022-06-27T17:34:16.743Z"
   },
   {
    "duration": 244,
    "start_time": "2022-06-27T17:34:17.030Z"
   },
   {
    "duration": 51,
    "start_time": "2022-06-27T17:34:17.276Z"
   },
   {
    "duration": 11,
    "start_time": "2022-06-27T17:34:17.329Z"
   },
   {
    "duration": 21,
    "start_time": "2022-06-27T17:34:17.342Z"
   },
   {
    "duration": 8,
    "start_time": "2022-06-27T17:34:17.365Z"
   },
   {
    "duration": 6,
    "start_time": "2022-06-27T17:34:17.374Z"
   },
   {
    "duration": 11,
    "start_time": "2022-06-27T17:34:17.381Z"
   },
   {
    "duration": 37,
    "start_time": "2022-06-27T17:34:17.394Z"
   },
   {
    "duration": 18,
    "start_time": "2022-06-27T17:34:41.636Z"
   },
   {
    "duration": 5,
    "start_time": "2022-06-27T17:36:16.809Z"
   },
   {
    "duration": 7,
    "start_time": "2022-06-27T17:40:45.674Z"
   },
   {
    "duration": 5,
    "start_time": "2022-06-27T17:42:11.051Z"
   },
   {
    "duration": 108,
    "start_time": "2022-06-27T17:42:39.780Z"
   },
   {
    "duration": 50,
    "start_time": "2022-06-27T17:43:35.939Z"
   },
   {
    "duration": 4,
    "start_time": "2022-06-27T17:43:43.521Z"
   },
   {
    "duration": 886,
    "start_time": "2022-06-27T17:44:00.956Z"
   },
   {
    "duration": 22,
    "start_time": "2022-06-27T17:44:01.844Z"
   },
   {
    "duration": 45,
    "start_time": "2022-06-27T17:44:01.868Z"
   },
   {
    "duration": 87,
    "start_time": "2022-06-27T17:44:01.915Z"
   },
   {
    "duration": 30,
    "start_time": "2022-06-27T17:44:02.004Z"
   },
   {
    "duration": 31,
    "start_time": "2022-06-27T17:44:02.036Z"
   },
   {
    "duration": 17,
    "start_time": "2022-06-27T17:44:02.069Z"
   },
   {
    "duration": 23,
    "start_time": "2022-06-27T17:44:02.087Z"
   },
   {
    "duration": 161,
    "start_time": "2022-06-27T17:44:02.112Z"
   },
   {
    "duration": 37,
    "start_time": "2022-06-27T17:44:02.276Z"
   },
   {
    "duration": 49,
    "start_time": "2022-06-27T17:44:02.315Z"
   },
   {
    "duration": 124,
    "start_time": "2022-06-27T17:44:02.366Z"
   },
   {
    "duration": 22,
    "start_time": "2022-06-27T17:44:02.491Z"
   },
   {
    "duration": 140,
    "start_time": "2022-06-27T17:44:02.526Z"
   },
   {
    "duration": 24,
    "start_time": "2022-06-27T17:44:02.668Z"
   },
   {
    "duration": 40,
    "start_time": "2022-06-27T17:44:02.693Z"
   },
   {
    "duration": 9,
    "start_time": "2022-06-27T17:44:02.735Z"
   },
   {
    "duration": 13,
    "start_time": "2022-06-27T17:44:02.746Z"
   },
   {
    "duration": 34,
    "start_time": "2022-06-27T17:44:02.760Z"
   },
   {
    "duration": 7,
    "start_time": "2022-06-27T17:44:02.796Z"
   },
   {
    "duration": 15,
    "start_time": "2022-06-27T17:44:02.826Z"
   },
   {
    "duration": 133,
    "start_time": "2022-06-27T17:44:02.842Z"
   },
   {
    "duration": 19,
    "start_time": "2022-06-27T17:44:02.978Z"
   },
   {
    "duration": 53,
    "start_time": "2022-06-27T17:44:02.999Z"
   },
   {
    "duration": 30,
    "start_time": "2022-06-27T17:44:03.053Z"
   },
   {
    "duration": 57,
    "start_time": "2022-06-27T17:44:03.085Z"
   },
   {
    "duration": 41,
    "start_time": "2022-06-27T17:44:03.143Z"
   },
   {
    "duration": 2,
    "start_time": "2022-06-27T17:44:03.188Z"
   },
   {
    "duration": 37,
    "start_time": "2022-06-27T17:44:03.192Z"
   },
   {
    "duration": 23,
    "start_time": "2022-06-27T17:44:03.231Z"
   },
   {
    "duration": 29,
    "start_time": "2022-06-27T17:44:03.256Z"
   },
   {
    "duration": 16,
    "start_time": "2022-06-27T17:44:03.287Z"
   },
   {
    "duration": 36,
    "start_time": "2022-06-27T17:44:03.305Z"
   },
   {
    "duration": 9,
    "start_time": "2022-06-27T17:44:03.343Z"
   },
   {
    "duration": 22,
    "start_time": "2022-06-27T17:44:03.354Z"
   },
   {
    "duration": 142,
    "start_time": "2022-06-27T17:44:03.378Z"
   },
   {
    "duration": 51,
    "start_time": "2022-06-27T17:44:03.522Z"
   },
   {
    "duration": 32,
    "start_time": "2022-06-27T17:44:03.575Z"
   },
   {
    "duration": 15,
    "start_time": "2022-06-27T17:44:03.626Z"
   },
   {
    "duration": 472,
    "start_time": "2022-06-27T17:44:03.643Z"
   },
   {
    "duration": 239,
    "start_time": "2022-06-27T17:44:04.117Z"
   },
   {
    "duration": 319,
    "start_time": "2022-06-27T17:44:04.358Z"
   },
   {
    "duration": 19,
    "start_time": "2022-06-27T17:44:04.679Z"
   },
   {
    "duration": 227,
    "start_time": "2022-06-27T17:44:04.701Z"
   },
   {
    "duration": 229,
    "start_time": "2022-06-27T17:44:04.930Z"
   },
   {
    "duration": 227,
    "start_time": "2022-06-27T17:44:05.160Z"
   },
   {
    "duration": 16,
    "start_time": "2022-06-27T17:44:05.389Z"
   },
   {
    "duration": 252,
    "start_time": "2022-06-27T17:44:05.407Z"
   },
   {
    "duration": 218,
    "start_time": "2022-06-27T17:44:05.661Z"
   },
   {
    "duration": 230,
    "start_time": "2022-06-27T17:44:05.880Z"
   },
   {
    "duration": 374,
    "start_time": "2022-06-27T17:44:06.111Z"
   },
   {
    "duration": 262,
    "start_time": "2022-06-27T17:44:06.488Z"
   },
   {
    "duration": 252,
    "start_time": "2022-06-27T17:44:06.752Z"
   },
   {
    "duration": 264,
    "start_time": "2022-06-27T17:44:07.005Z"
   },
   {
    "duration": 39,
    "start_time": "2022-06-27T17:44:07.270Z"
   },
   {
    "duration": 20,
    "start_time": "2022-06-27T17:44:07.311Z"
   },
   {
    "duration": 12,
    "start_time": "2022-06-27T17:44:07.333Z"
   },
   {
    "duration": 7,
    "start_time": "2022-06-27T17:44:07.347Z"
   },
   {
    "duration": 6,
    "start_time": "2022-06-27T17:44:07.356Z"
   },
   {
    "duration": 17,
    "start_time": "2022-06-27T17:44:07.365Z"
   },
   {
    "duration": 49,
    "start_time": "2022-06-27T17:44:07.384Z"
   },
   {
    "duration": 5,
    "start_time": "2022-06-27T17:44:07.435Z"
   },
   {
    "duration": 10,
    "start_time": "2022-06-27T17:44:07.442Z"
   },
   {
    "duration": 28,
    "start_time": "2022-06-27T18:10:14.010Z"
   },
   {
    "duration": 847,
    "start_time": "2022-06-27T19:19:44.469Z"
   },
   {
    "duration": 22,
    "start_time": "2022-06-27T19:19:45.318Z"
   },
   {
    "duration": 15,
    "start_time": "2022-06-27T19:19:45.342Z"
   },
   {
    "duration": 4,
    "start_time": "2022-06-27T19:19:45.359Z"
   },
   {
    "duration": 12,
    "start_time": "2022-06-27T19:19:45.364Z"
   },
   {
    "duration": 20,
    "start_time": "2022-06-27T19:19:45.378Z"
   },
   {
    "duration": 6,
    "start_time": "2022-06-27T19:19:45.399Z"
   },
   {
    "duration": 6,
    "start_time": "2022-06-27T19:19:45.406Z"
   },
   {
    "duration": 163,
    "start_time": "2022-06-27T19:19:45.413Z"
   },
   {
    "duration": 27,
    "start_time": "2022-06-27T19:19:45.578Z"
   },
   {
    "duration": 38,
    "start_time": "2022-06-27T19:19:45.607Z"
   },
   {
    "duration": 87,
    "start_time": "2022-06-27T19:19:45.646Z"
   },
   {
    "duration": 20,
    "start_time": "2022-06-27T19:19:45.735Z"
   },
   {
    "duration": 147,
    "start_time": "2022-06-27T19:19:45.757Z"
   },
   {
    "duration": 28,
    "start_time": "2022-06-27T19:19:45.905Z"
   },
   {
    "duration": 27,
    "start_time": "2022-06-27T19:19:45.935Z"
   },
   {
    "duration": 10,
    "start_time": "2022-06-27T19:19:45.963Z"
   },
   {
    "duration": 11,
    "start_time": "2022-06-27T19:19:45.974Z"
   },
   {
    "duration": 47,
    "start_time": "2022-06-27T19:19:45.986Z"
   },
   {
    "duration": 6,
    "start_time": "2022-06-27T19:19:46.035Z"
   },
   {
    "duration": 14,
    "start_time": "2022-06-27T19:19:46.043Z"
   },
   {
    "duration": 124,
    "start_time": "2022-06-27T19:19:46.059Z"
   },
   {
    "duration": 17,
    "start_time": "2022-06-27T19:19:46.185Z"
   },
   {
    "duration": 45,
    "start_time": "2022-06-27T19:19:46.204Z"
   },
   {
    "duration": 28,
    "start_time": "2022-06-27T19:19:46.251Z"
   },
   {
    "duration": 52,
    "start_time": "2022-06-27T19:19:46.281Z"
   },
   {
    "duration": 39,
    "start_time": "2022-06-27T19:19:46.335Z"
   },
   {
    "duration": 16,
    "start_time": "2022-06-27T19:19:46.378Z"
   },
   {
    "duration": 37,
    "start_time": "2022-06-27T19:19:46.395Z"
   },
   {
    "duration": 21,
    "start_time": "2022-06-27T19:19:46.434Z"
   },
   {
    "duration": 15,
    "start_time": "2022-06-27T19:19:46.457Z"
   },
   {
    "duration": 16,
    "start_time": "2022-06-27T19:19:46.473Z"
   },
   {
    "duration": 5,
    "start_time": "2022-06-27T19:19:46.491Z"
   },
   {
    "duration": 19,
    "start_time": "2022-06-27T19:19:46.526Z"
   },
   {
    "duration": 124,
    "start_time": "2022-06-27T19:19:46.546Z"
   },
   {
    "duration": 59,
    "start_time": "2022-06-27T19:19:46.672Z"
   },
   {
    "duration": 47,
    "start_time": "2022-06-27T19:19:46.733Z"
   },
   {
    "duration": 46,
    "start_time": "2022-06-27T19:19:46.781Z"
   },
   {
    "duration": 443,
    "start_time": "2022-06-27T19:19:46.829Z"
   },
   {
    "duration": 231,
    "start_time": "2022-06-27T19:19:47.274Z"
   },
   {
    "duration": 225,
    "start_time": "2022-06-27T19:19:47.508Z"
   },
   {
    "duration": 16,
    "start_time": "2022-06-27T19:19:47.735Z"
   },
   {
    "duration": 222,
    "start_time": "2022-06-27T19:19:47.753Z"
   },
   {
    "duration": 212,
    "start_time": "2022-06-27T19:19:47.977Z"
   },
   {
    "duration": 230,
    "start_time": "2022-06-27T19:19:48.191Z"
   },
   {
    "duration": 18,
    "start_time": "2022-06-27T19:19:48.426Z"
   },
   {
    "duration": 221,
    "start_time": "2022-06-27T19:19:48.446Z"
   },
   {
    "duration": 239,
    "start_time": "2022-06-27T19:19:48.669Z"
   },
   {
    "duration": 214,
    "start_time": "2022-06-27T19:19:48.910Z"
   },
   {
    "duration": 345,
    "start_time": "2022-06-27T19:19:49.126Z"
   },
   {
    "duration": 248,
    "start_time": "2022-06-27T19:19:49.473Z"
   },
   {
    "duration": 261,
    "start_time": "2022-06-27T19:19:49.723Z"
   },
   {
    "duration": 241,
    "start_time": "2022-06-27T19:19:49.986Z"
   },
   {
    "duration": 31,
    "start_time": "2022-06-27T19:19:50.229Z"
   },
   {
    "duration": 9,
    "start_time": "2022-06-27T19:19:50.262Z"
   },
   {
    "duration": 28,
    "start_time": "2022-06-27T19:19:50.273Z"
   },
   {
    "duration": 5,
    "start_time": "2022-06-27T19:19:50.303Z"
   },
   {
    "duration": 31,
    "start_time": "2022-06-27T19:19:50.310Z"
   },
   {
    "duration": 15,
    "start_time": "2022-06-27T19:19:50.343Z"
   },
   {
    "duration": 10,
    "start_time": "2022-06-27T19:19:50.359Z"
   },
   {
    "duration": 21,
    "start_time": "2022-06-27T19:19:50.371Z"
   },
   {
    "duration": 833,
    "start_time": "2022-06-27T19:38:14.488Z"
   },
   {
    "duration": 23,
    "start_time": "2022-06-27T19:38:15.324Z"
   },
   {
    "duration": 18,
    "start_time": "2022-06-27T19:38:15.349Z"
   },
   {
    "duration": 4,
    "start_time": "2022-06-27T19:38:15.369Z"
   },
   {
    "duration": 16,
    "start_time": "2022-06-27T19:38:15.375Z"
   },
   {
    "duration": 24,
    "start_time": "2022-06-27T19:38:15.393Z"
   },
   {
    "duration": 10,
    "start_time": "2022-06-27T19:38:15.426Z"
   },
   {
    "duration": 7,
    "start_time": "2022-06-27T19:38:15.437Z"
   },
   {
    "duration": 169,
    "start_time": "2022-06-27T19:38:15.445Z"
   },
   {
    "duration": 35,
    "start_time": "2022-06-27T19:38:15.617Z"
   },
   {
    "duration": 35,
    "start_time": "2022-06-27T19:38:15.654Z"
   },
   {
    "duration": 108,
    "start_time": "2022-06-27T19:38:15.691Z"
   },
   {
    "duration": 28,
    "start_time": "2022-06-27T19:38:15.800Z"
   },
   {
    "duration": 157,
    "start_time": "2022-06-27T19:38:15.830Z"
   },
   {
    "duration": 28,
    "start_time": "2022-06-27T19:38:15.989Z"
   },
   {
    "duration": 47,
    "start_time": "2022-06-27T19:38:16.026Z"
   },
   {
    "duration": 9,
    "start_time": "2022-06-27T19:38:16.075Z"
   },
   {
    "duration": 13,
    "start_time": "2022-06-27T19:38:16.085Z"
   },
   {
    "duration": 39,
    "start_time": "2022-06-27T19:38:16.099Z"
   },
   {
    "duration": 7,
    "start_time": "2022-06-27T19:38:16.140Z"
   },
   {
    "duration": 16,
    "start_time": "2022-06-27T19:38:16.148Z"
   },
   {
    "duration": 135,
    "start_time": "2022-06-27T19:38:16.166Z"
   },
   {
    "duration": 23,
    "start_time": "2022-06-27T19:38:16.303Z"
   },
   {
    "duration": 34,
    "start_time": "2022-06-27T19:38:16.328Z"
   },
   {
    "duration": 29,
    "start_time": "2022-06-27T19:38:16.364Z"
   },
   {
    "duration": 66,
    "start_time": "2022-06-27T19:38:16.395Z"
   },
   {
    "duration": 42,
    "start_time": "2022-06-27T19:38:16.463Z"
   },
   {
    "duration": 18,
    "start_time": "2022-06-27T19:38:16.527Z"
   },
   {
    "duration": 17,
    "start_time": "2022-06-27T19:38:16.546Z"
   },
   {
    "duration": 19,
    "start_time": "2022-06-27T19:38:16.565Z"
   },
   {
    "duration": 15,
    "start_time": "2022-06-27T19:38:16.586Z"
   },
   {
    "duration": 16,
    "start_time": "2022-06-27T19:38:16.626Z"
   },
   {
    "duration": 5,
    "start_time": "2022-06-27T19:38:16.644Z"
   },
   {
    "duration": 22,
    "start_time": "2022-06-27T19:38:16.651Z"
   },
   {
    "duration": 135,
    "start_time": "2022-06-27T19:38:16.675Z"
   },
   {
    "duration": 59,
    "start_time": "2022-06-27T19:38:16.811Z"
   },
   {
    "duration": 36,
    "start_time": "2022-06-27T19:38:16.872Z"
   },
   {
    "duration": 30,
    "start_time": "2022-06-27T19:38:16.927Z"
   },
   {
    "duration": 456,
    "start_time": "2022-06-27T19:38:16.958Z"
   },
   {
    "duration": 227,
    "start_time": "2022-06-27T19:38:17.416Z"
   },
   {
    "duration": 220,
    "start_time": "2022-06-27T19:38:17.644Z"
   },
   {
    "duration": 14,
    "start_time": "2022-06-27T19:38:17.866Z"
   },
   {
    "duration": 205,
    "start_time": "2022-06-27T19:38:17.881Z"
   },
   {
    "duration": 220,
    "start_time": "2022-06-27T19:38:18.088Z"
   },
   {
    "duration": 208,
    "start_time": "2022-06-27T19:38:18.310Z"
   },
   {
    "duration": 14,
    "start_time": "2022-06-27T19:38:18.525Z"
   },
   {
    "duration": 211,
    "start_time": "2022-06-27T19:38:18.541Z"
   },
   {
    "duration": 211,
    "start_time": "2022-06-27T19:38:18.754Z"
   },
   {
    "duration": 211,
    "start_time": "2022-06-27T19:38:18.966Z"
   },
   {
    "duration": 353,
    "start_time": "2022-06-27T19:38:19.179Z"
   },
   {
    "duration": 247,
    "start_time": "2022-06-27T19:38:19.535Z"
   },
   {
    "duration": 252,
    "start_time": "2022-06-27T19:38:19.784Z"
   },
   {
    "duration": 232,
    "start_time": "2022-06-27T19:38:20.038Z"
   },
   {
    "duration": 34,
    "start_time": "2022-06-27T19:38:20.272Z"
   },
   {
    "duration": 21,
    "start_time": "2022-06-27T19:38:20.308Z"
   },
   {
    "duration": 13,
    "start_time": "2022-06-27T19:38:20.331Z"
   },
   {
    "duration": 7,
    "start_time": "2022-06-27T19:38:20.345Z"
   },
   {
    "duration": 15,
    "start_time": "2022-06-27T19:38:20.353Z"
   },
   {
    "duration": 9,
    "start_time": "2022-06-27T19:38:20.370Z"
   },
   {
    "duration": 4,
    "start_time": "2022-06-27T19:38:20.380Z"
   },
   {
    "duration": 10,
    "start_time": "2022-06-27T19:38:20.385Z"
   },
   {
    "duration": 828,
    "start_time": "2022-06-27T20:45:31.027Z"
   },
   {
    "duration": 22,
    "start_time": "2022-06-27T20:45:31.857Z"
   },
   {
    "duration": 16,
    "start_time": "2022-06-27T20:45:31.880Z"
   },
   {
    "duration": 12,
    "start_time": "2022-06-27T20:45:31.898Z"
   },
   {
    "duration": 29,
    "start_time": "2022-06-27T20:45:31.912Z"
   },
   {
    "duration": 28,
    "start_time": "2022-06-27T20:45:31.943Z"
   },
   {
    "duration": 17,
    "start_time": "2022-06-27T20:45:31.972Z"
   },
   {
    "duration": 28,
    "start_time": "2022-06-27T20:45:31.990Z"
   },
   {
    "duration": 158,
    "start_time": "2022-06-27T20:45:32.019Z"
   },
   {
    "duration": 27,
    "start_time": "2022-06-27T20:45:32.179Z"
   },
   {
    "duration": 33,
    "start_time": "2022-06-27T20:45:32.208Z"
   },
   {
    "duration": 85,
    "start_time": "2022-06-27T20:45:32.243Z"
   },
   {
    "duration": 21,
    "start_time": "2022-06-27T20:45:32.330Z"
   },
   {
    "duration": 143,
    "start_time": "2022-06-27T20:45:32.353Z"
   },
   {
    "duration": 37,
    "start_time": "2022-06-27T20:45:32.498Z"
   },
   {
    "duration": 35,
    "start_time": "2022-06-27T20:45:32.537Z"
   },
   {
    "duration": 10,
    "start_time": "2022-06-27T20:45:32.574Z"
   },
   {
    "duration": 18,
    "start_time": "2022-06-27T20:45:32.587Z"
   },
   {
    "duration": 42,
    "start_time": "2022-06-27T20:45:32.607Z"
   },
   {
    "duration": 7,
    "start_time": "2022-06-27T20:45:32.651Z"
   },
   {
    "duration": 14,
    "start_time": "2022-06-27T20:45:32.659Z"
   },
   {
    "duration": 142,
    "start_time": "2022-06-27T20:45:32.675Z"
   },
   {
    "duration": 17,
    "start_time": "2022-06-27T20:45:32.824Z"
   },
   {
    "duration": 32,
    "start_time": "2022-06-27T20:45:32.843Z"
   },
   {
    "duration": 48,
    "start_time": "2022-06-27T20:45:32.877Z"
   },
   {
    "duration": 31,
    "start_time": "2022-06-27T20:45:32.927Z"
   },
   {
    "duration": 37,
    "start_time": "2022-06-27T20:45:32.960Z"
   },
   {
    "duration": 17,
    "start_time": "2022-06-27T20:45:33.022Z"
   },
   {
    "duration": 15,
    "start_time": "2022-06-27T20:45:33.041Z"
   },
   {
    "duration": 19,
    "start_time": "2022-06-27T20:45:33.058Z"
   },
   {
    "duration": 14,
    "start_time": "2022-06-27T20:45:33.079Z"
   },
   {
    "duration": 41,
    "start_time": "2022-06-27T20:45:33.095Z"
   },
   {
    "duration": 6,
    "start_time": "2022-06-27T20:45:33.137Z"
   },
   {
    "duration": 27,
    "start_time": "2022-06-27T20:45:33.144Z"
   },
   {
    "duration": 130,
    "start_time": "2022-06-27T20:45:33.173Z"
   },
   {
    "duration": 56,
    "start_time": "2022-06-27T20:45:33.305Z"
   },
   {
    "duration": 30,
    "start_time": "2022-06-27T20:45:33.362Z"
   },
   {
    "duration": 43,
    "start_time": "2022-06-27T20:45:33.393Z"
   },
   {
    "duration": 479,
    "start_time": "2022-06-27T20:45:33.437Z"
   },
   {
    "duration": 227,
    "start_time": "2022-06-27T20:45:33.917Z"
   },
   {
    "duration": 215,
    "start_time": "2022-06-27T20:45:34.145Z"
   },
   {
    "duration": 15,
    "start_time": "2022-06-27T20:45:34.361Z"
   },
   {
    "duration": 204,
    "start_time": "2022-06-27T20:45:34.377Z"
   },
   {
    "duration": 220,
    "start_time": "2022-06-27T20:45:34.582Z"
   },
   {
    "duration": 220,
    "start_time": "2022-06-27T20:45:34.803Z"
   },
   {
    "duration": 17,
    "start_time": "2022-06-27T20:45:35.024Z"
   },
   {
    "duration": 218,
    "start_time": "2022-06-27T20:45:35.043Z"
   },
   {
    "duration": 221,
    "start_time": "2022-06-27T20:45:35.263Z"
   },
   {
    "duration": 214,
    "start_time": "2022-06-27T20:45:35.485Z"
   },
   {
    "duration": 336,
    "start_time": "2022-06-27T20:45:35.702Z"
   },
   {
    "duration": 237,
    "start_time": "2022-06-27T20:45:36.040Z"
   },
   {
    "duration": 244,
    "start_time": "2022-06-27T20:45:36.279Z"
   },
   {
    "duration": 228,
    "start_time": "2022-06-27T20:45:36.525Z"
   },
   {
    "duration": 30,
    "start_time": "2022-06-27T20:45:36.755Z"
   },
   {
    "duration": 8,
    "start_time": "2022-06-27T20:45:36.787Z"
   },
   {
    "duration": 28,
    "start_time": "2022-06-27T20:45:36.796Z"
   },
   {
    "duration": 4,
    "start_time": "2022-06-27T20:45:36.825Z"
   },
   {
    "duration": 11,
    "start_time": "2022-06-27T20:45:36.831Z"
   },
   {
    "duration": 9,
    "start_time": "2022-06-27T20:45:36.844Z"
   },
   {
    "duration": 3,
    "start_time": "2022-06-27T20:45:36.855Z"
   },
   {
    "duration": 6,
    "start_time": "2022-06-27T20:45:36.860Z"
   },
   {
    "duration": 4,
    "start_time": "2022-06-27T20:53:47.034Z"
   },
   {
    "duration": 8,
    "start_time": "2022-06-27T20:56:24.384Z"
   },
   {
    "duration": 17,
    "start_time": "2022-06-27T21:00:20.971Z"
   },
   {
    "duration": 7,
    "start_time": "2022-06-27T21:10:39.538Z"
   },
   {
    "duration": 16,
    "start_time": "2022-06-27T21:12:03.290Z"
   },
   {
    "duration": 73,
    "start_time": "2022-06-27T22:30:25.580Z"
   },
   {
    "duration": 941,
    "start_time": "2022-06-27T22:34:28.846Z"
   },
   {
    "duration": 52,
    "start_time": "2022-06-27T22:34:29.790Z"
   },
   {
    "duration": 24,
    "start_time": "2022-06-27T22:34:29.843Z"
   },
   {
    "duration": 22,
    "start_time": "2022-06-27T22:34:29.874Z"
   },
   {
    "duration": 9,
    "start_time": "2022-06-27T22:34:29.898Z"
   },
   {
    "duration": 30,
    "start_time": "2022-06-27T22:34:29.910Z"
   },
   {
    "duration": 6,
    "start_time": "2022-06-27T22:34:29.942Z"
   },
   {
    "duration": 16,
    "start_time": "2022-06-27T22:34:29.950Z"
   },
   {
    "duration": 326,
    "start_time": "2022-06-27T22:34:29.973Z"
   },
   {
    "duration": 28,
    "start_time": "2022-06-27T22:34:30.303Z"
   },
   {
    "duration": 61,
    "start_time": "2022-06-27T22:34:30.333Z"
   },
   {
    "duration": 197,
    "start_time": "2022-06-27T22:34:30.399Z"
   },
   {
    "duration": 23,
    "start_time": "2022-06-27T22:34:30.597Z"
   },
   {
    "duration": 447,
    "start_time": "2022-06-27T22:34:30.622Z"
   },
   {
    "duration": 54,
    "start_time": "2022-06-27T22:34:31.072Z"
   },
   {
    "duration": 53,
    "start_time": "2022-06-27T22:34:31.128Z"
   },
   {
    "duration": 72,
    "start_time": "2022-06-27T22:34:31.183Z"
   },
   {
    "duration": 35,
    "start_time": "2022-06-27T22:34:31.257Z"
   },
   {
    "duration": 74,
    "start_time": "2022-06-27T22:34:31.296Z"
   },
   {
    "duration": 64,
    "start_time": "2022-06-27T22:34:31.375Z"
   },
   {
    "duration": 36,
    "start_time": "2022-06-27T22:34:31.441Z"
   },
   {
    "duration": 212,
    "start_time": "2022-06-27T22:34:31.479Z"
   },
   {
    "duration": 23,
    "start_time": "2022-06-27T22:34:31.693Z"
   },
   {
    "duration": 61,
    "start_time": "2022-06-27T22:34:31.718Z"
   },
   {
    "duration": 33,
    "start_time": "2022-06-27T22:34:31.782Z"
   },
   {
    "duration": 31,
    "start_time": "2022-06-27T22:34:31.817Z"
   },
   {
    "duration": 75,
    "start_time": "2022-06-27T22:34:31.850Z"
   },
   {
    "duration": 26,
    "start_time": "2022-06-27T22:34:31.930Z"
   },
   {
    "duration": 28,
    "start_time": "2022-06-27T22:34:31.961Z"
   },
   {
    "duration": 48,
    "start_time": "2022-06-27T22:34:31.991Z"
   },
   {
    "duration": 24,
    "start_time": "2022-06-27T22:34:32.041Z"
   },
   {
    "duration": 31,
    "start_time": "2022-06-27T22:34:32.069Z"
   },
   {
    "duration": 18,
    "start_time": "2022-06-27T22:34:32.102Z"
   },
   {
    "duration": 9,
    "start_time": "2022-06-27T22:34:32.122Z"
   },
   {
    "duration": 13,
    "start_time": "2022-06-27T22:34:32.132Z"
   },
   {
    "duration": 27,
    "start_time": "2022-06-27T22:34:32.147Z"
   },
   {
    "duration": 178,
    "start_time": "2022-06-27T22:34:32.175Z"
   },
   {
    "duration": 68,
    "start_time": "2022-06-27T22:34:32.355Z"
   },
   {
    "duration": 47,
    "start_time": "2022-06-27T22:34:32.425Z"
   },
   {
    "duration": 41,
    "start_time": "2022-06-27T22:34:32.482Z"
   },
   {
    "duration": 773,
    "start_time": "2022-06-27T22:34:32.525Z"
   },
   {
    "duration": 264,
    "start_time": "2022-06-27T22:34:33.300Z"
   },
   {
    "duration": 289,
    "start_time": "2022-06-27T22:34:33.568Z"
   },
   {
    "duration": 20,
    "start_time": "2022-06-27T22:34:33.862Z"
   },
   {
    "duration": 242,
    "start_time": "2022-06-27T22:34:33.887Z"
   },
   {
    "duration": 263,
    "start_time": "2022-06-27T22:34:34.131Z"
   },
   {
    "duration": 244,
    "start_time": "2022-06-27T22:34:34.395Z"
   },
   {
    "duration": 36,
    "start_time": "2022-06-27T22:34:34.643Z"
   },
   {
    "duration": 283,
    "start_time": "2022-06-27T22:34:34.680Z"
   },
   {
    "duration": 331,
    "start_time": "2022-06-27T22:34:34.967Z"
   },
   {
    "duration": 363,
    "start_time": "2022-06-27T22:34:35.302Z"
   },
   {
    "duration": 312,
    "start_time": "2022-06-27T22:34:35.670Z"
   },
   {
    "duration": 330,
    "start_time": "2022-06-27T22:34:35.984Z"
   },
   {
    "duration": 307,
    "start_time": "2022-06-27T22:34:36.316Z"
   },
   {
    "duration": 366,
    "start_time": "2022-06-27T22:34:36.625Z"
   },
   {
    "duration": 46,
    "start_time": "2022-06-27T22:34:36.993Z"
   },
   {
    "duration": 35,
    "start_time": "2022-06-27T22:34:37.041Z"
   },
   {
    "duration": 11,
    "start_time": "2022-06-27T22:34:37.078Z"
   },
   {
    "duration": 36,
    "start_time": "2022-06-27T22:34:37.094Z"
   },
   {
    "duration": 47,
    "start_time": "2022-06-27T22:34:37.132Z"
   },
   {
    "duration": 71,
    "start_time": "2022-06-27T22:34:37.181Z"
   },
   {
    "duration": 8,
    "start_time": "2022-06-27T22:34:37.253Z"
   },
   {
    "duration": 72,
    "start_time": "2022-06-27T22:34:37.265Z"
   },
   {
    "duration": 820,
    "start_time": "2022-06-27T22:35:25.389Z"
   },
   {
    "duration": 22,
    "start_time": "2022-06-27T22:35:26.212Z"
   },
   {
    "duration": 15,
    "start_time": "2022-06-27T22:35:26.236Z"
   },
   {
    "duration": 48,
    "start_time": "2022-06-27T22:35:26.253Z"
   },
   {
    "duration": 6,
    "start_time": "2022-06-27T22:35:26.303Z"
   },
   {
    "duration": 23,
    "start_time": "2022-06-27T22:35:26.311Z"
   },
   {
    "duration": 7,
    "start_time": "2022-06-27T22:35:26.337Z"
   },
   {
    "duration": 8,
    "start_time": "2022-06-27T22:35:26.346Z"
   },
   {
    "duration": 214,
    "start_time": "2022-06-27T22:35:26.355Z"
   },
   {
    "duration": 53,
    "start_time": "2022-06-27T22:35:26.577Z"
   },
   {
    "duration": 45,
    "start_time": "2022-06-27T22:35:26.634Z"
   },
   {
    "duration": 113,
    "start_time": "2022-06-27T22:35:26.681Z"
   },
   {
    "duration": 30,
    "start_time": "2022-06-27T22:35:26.798Z"
   },
   {
    "duration": 147,
    "start_time": "2022-06-27T22:35:26.830Z"
   },
   {
    "duration": 38,
    "start_time": "2022-06-27T22:35:26.983Z"
   },
   {
    "duration": 38,
    "start_time": "2022-06-27T22:35:27.023Z"
   },
   {
    "duration": 28,
    "start_time": "2022-06-27T22:35:27.066Z"
   },
   {
    "duration": 19,
    "start_time": "2022-06-27T22:35:27.096Z"
   },
   {
    "duration": 48,
    "start_time": "2022-06-27T22:35:27.120Z"
   },
   {
    "duration": 8,
    "start_time": "2022-06-27T22:35:27.169Z"
   },
   {
    "duration": 52,
    "start_time": "2022-06-27T22:35:27.178Z"
   },
   {
    "duration": 170,
    "start_time": "2022-06-27T22:35:27.232Z"
   },
   {
    "duration": 23,
    "start_time": "2022-06-27T22:35:27.404Z"
   },
   {
    "duration": 43,
    "start_time": "2022-06-27T22:35:27.429Z"
   },
   {
    "duration": 35,
    "start_time": "2022-06-27T22:35:27.474Z"
   },
   {
    "duration": 60,
    "start_time": "2022-06-27T22:35:27.511Z"
   },
   {
    "duration": 91,
    "start_time": "2022-06-27T22:35:27.576Z"
   },
   {
    "duration": 21,
    "start_time": "2022-06-27T22:35:27.672Z"
   },
   {
    "duration": 41,
    "start_time": "2022-06-27T22:35:27.695Z"
   },
   {
    "duration": 81,
    "start_time": "2022-06-27T22:35:27.738Z"
   },
   {
    "duration": 15,
    "start_time": "2022-06-27T22:35:27.822Z"
   },
   {
    "duration": 5,
    "start_time": "2022-06-27T22:35:27.839Z"
   },
   {
    "duration": 30,
    "start_time": "2022-06-27T22:35:27.845Z"
   },
   {
    "duration": 15,
    "start_time": "2022-06-27T22:35:27.881Z"
   },
   {
    "duration": 12,
    "start_time": "2022-06-27T22:35:27.898Z"
   },
   {
    "duration": 20,
    "start_time": "2022-06-27T22:35:27.912Z"
   },
   {
    "duration": 120,
    "start_time": "2022-06-27T22:35:27.934Z"
   },
   {
    "duration": 62,
    "start_time": "2022-06-27T22:35:28.056Z"
   },
   {
    "duration": 42,
    "start_time": "2022-06-27T22:35:28.120Z"
   },
   {
    "duration": 38,
    "start_time": "2022-06-27T22:35:28.164Z"
   },
   {
    "duration": 523,
    "start_time": "2022-06-27T22:35:28.204Z"
   },
   {
    "duration": 260,
    "start_time": "2022-06-27T22:35:28.730Z"
   },
   {
    "duration": 228,
    "start_time": "2022-06-27T22:35:28.994Z"
   },
   {
    "duration": 19,
    "start_time": "2022-06-27T22:35:29.223Z"
   },
   {
    "duration": 270,
    "start_time": "2022-06-27T22:35:29.244Z"
   },
   {
    "duration": 330,
    "start_time": "2022-06-27T22:35:29.516Z"
   },
   {
    "duration": 343,
    "start_time": "2022-06-27T22:35:29.847Z"
   },
   {
    "duration": 24,
    "start_time": "2022-06-27T22:35:30.192Z"
   },
   {
    "duration": 285,
    "start_time": "2022-06-27T22:35:30.218Z"
   },
   {
    "duration": 277,
    "start_time": "2022-06-27T22:35:30.505Z"
   },
   {
    "duration": 251,
    "start_time": "2022-06-27T22:35:30.785Z"
   },
   {
    "duration": 377,
    "start_time": "2022-06-27T22:35:31.039Z"
   },
   {
    "duration": 286,
    "start_time": "2022-06-27T22:35:31.418Z"
   },
   {
    "duration": 303,
    "start_time": "2022-06-27T22:35:31.706Z"
   },
   {
    "duration": 282,
    "start_time": "2022-06-27T22:35:32.010Z"
   },
   {
    "duration": 35,
    "start_time": "2022-06-27T22:35:32.294Z"
   },
   {
    "duration": 32,
    "start_time": "2022-06-27T22:35:32.331Z"
   },
   {
    "duration": 30,
    "start_time": "2022-06-27T22:35:32.369Z"
   },
   {
    "duration": 15,
    "start_time": "2022-06-27T22:35:32.401Z"
   },
   {
    "duration": 50,
    "start_time": "2022-06-27T22:35:32.419Z"
   },
   {
    "duration": 42,
    "start_time": "2022-06-27T22:35:32.473Z"
   },
   {
    "duration": 25,
    "start_time": "2022-06-27T22:35:32.517Z"
   },
   {
    "duration": 19,
    "start_time": "2022-06-27T22:35:32.544Z"
   },
   {
    "duration": 21,
    "start_time": "2022-06-27T22:49:06.925Z"
   },
   {
    "duration": 26,
    "start_time": "2022-06-27T22:54:54.747Z"
   },
   {
    "duration": 19,
    "start_time": "2022-06-27T23:02:47.891Z"
   },
   {
    "duration": 235,
    "start_time": "2022-06-27T23:04:44.417Z"
   },
   {
    "duration": 20,
    "start_time": "2022-06-27T23:05:51.908Z"
   },
   {
    "duration": 272,
    "start_time": "2022-06-27T23:06:03.926Z"
   },
   {
    "duration": 16,
    "start_time": "2022-06-27T23:09:12.707Z"
   },
   {
    "duration": 9,
    "start_time": "2022-06-27T23:21:05.195Z"
   },
   {
    "duration": 114,
    "start_time": "2022-06-27T23:21:50.601Z"
   },
   {
    "duration": 47,
    "start_time": "2022-06-27T23:22:37.672Z"
   },
   {
    "duration": 67,
    "start_time": "2022-06-27T23:23:40.885Z"
   },
   {
    "duration": 830,
    "start_time": "2022-06-27T23:23:54.543Z"
   },
   {
    "duration": 23,
    "start_time": "2022-06-27T23:23:55.375Z"
   },
   {
    "duration": 20,
    "start_time": "2022-06-27T23:23:55.400Z"
   },
   {
    "duration": 4,
    "start_time": "2022-06-27T23:23:55.422Z"
   },
   {
    "duration": 7,
    "start_time": "2022-06-27T23:23:55.429Z"
   },
   {
    "duration": 34,
    "start_time": "2022-06-27T23:23:55.438Z"
   },
   {
    "duration": 12,
    "start_time": "2022-06-27T23:23:55.476Z"
   },
   {
    "duration": 5,
    "start_time": "2022-06-27T23:23:55.490Z"
   },
   {
    "duration": 8,
    "start_time": "2022-06-27T23:23:55.497Z"
   },
   {
    "duration": 192,
    "start_time": "2022-06-27T23:23:55.509Z"
   },
   {
    "duration": 28,
    "start_time": "2022-06-27T23:23:55.702Z"
   },
   {
    "duration": 46,
    "start_time": "2022-06-27T23:23:55.732Z"
   },
   {
    "duration": 127,
    "start_time": "2022-06-27T23:23:55.779Z"
   },
   {
    "duration": 91,
    "start_time": "2022-06-27T23:23:55.908Z"
   },
   {
    "duration": 22,
    "start_time": "2022-06-27T23:23:56.001Z"
   },
   {
    "duration": 70,
    "start_time": "2022-06-27T23:23:56.024Z"
   },
   {
    "duration": 131,
    "start_time": "2022-06-27T23:23:56.096Z"
   },
   {
    "duration": 43,
    "start_time": "2022-06-27T23:23:56.228Z"
   },
   {
    "duration": 29,
    "start_time": "2022-06-27T23:23:56.273Z"
   },
   {
    "duration": 70,
    "start_time": "2022-06-27T23:23:56.305Z"
   },
   {
    "duration": 11,
    "start_time": "2022-06-27T23:23:56.378Z"
   },
   {
    "duration": 16,
    "start_time": "2022-06-27T23:23:56.391Z"
   },
   {
    "duration": 38,
    "start_time": "2022-06-27T23:23:56.409Z"
   },
   {
    "duration": 16,
    "start_time": "2022-06-27T23:23:56.450Z"
   },
   {
    "duration": 32,
    "start_time": "2022-06-27T23:23:56.470Z"
   },
   {
    "duration": 128,
    "start_time": "2022-06-27T23:23:56.504Z"
   },
   {
    "duration": 40,
    "start_time": "2022-06-27T23:23:56.634Z"
   },
   {
    "duration": 44,
    "start_time": "2022-06-27T23:23:56.680Z"
   },
   {
    "duration": 31,
    "start_time": "2022-06-27T23:23:56.726Z"
   },
   {
    "duration": 49,
    "start_time": "2022-06-27T23:23:56.759Z"
   },
   {
    "duration": 58,
    "start_time": "2022-06-27T23:23:56.810Z"
   },
   {
    "duration": 18,
    "start_time": "2022-06-27T23:23:56.873Z"
   },
   {
    "duration": 16,
    "start_time": "2022-06-27T23:23:56.893Z"
   },
   {
    "duration": 22,
    "start_time": "2022-06-27T23:23:56.911Z"
   },
   {
    "duration": 50,
    "start_time": "2022-06-27T23:23:56.934Z"
   },
   {
    "duration": 4,
    "start_time": "2022-06-27T23:23:56.986Z"
   },
   {
    "duration": 17,
    "start_time": "2022-06-27T23:23:56.991Z"
   },
   {
    "duration": 9,
    "start_time": "2022-06-27T23:23:57.009Z"
   },
   {
    "duration": 17,
    "start_time": "2022-06-27T23:23:57.019Z"
   },
   {
    "duration": 40,
    "start_time": "2022-06-27T23:23:57.038Z"
   },
   {
    "duration": 181,
    "start_time": "2022-06-27T23:23:57.080Z"
   },
   {
    "duration": 69,
    "start_time": "2022-06-27T23:23:57.267Z"
   },
   {
    "duration": 56,
    "start_time": "2022-06-27T23:23:57.338Z"
   },
   {
    "duration": 38,
    "start_time": "2022-06-27T23:23:57.396Z"
   },
   {
    "duration": 37,
    "start_time": "2022-06-27T23:23:57.436Z"
   },
   {
    "duration": 510,
    "start_time": "2022-06-27T23:23:57.475Z"
   },
   {
    "duration": 222,
    "start_time": "2022-06-27T23:23:57.987Z"
   },
   {
    "duration": 239,
    "start_time": "2022-06-27T23:23:58.211Z"
   },
   {
    "duration": 255,
    "start_time": "2022-06-27T23:23:58.452Z"
   },
   {
    "duration": 19,
    "start_time": "2022-06-27T23:23:58.709Z"
   },
   {
    "duration": 125,
    "start_time": "2022-06-27T23:23:58.730Z"
   },
   {
    "duration": 0,
    "start_time": "2022-06-27T23:23:58.858Z"
   },
   {
    "duration": 0,
    "start_time": "2022-06-27T23:23:58.859Z"
   },
   {
    "duration": 0,
    "start_time": "2022-06-27T23:23:58.860Z"
   },
   {
    "duration": 0,
    "start_time": "2022-06-27T23:23:58.861Z"
   },
   {
    "duration": 0,
    "start_time": "2022-06-27T23:23:58.861Z"
   },
   {
    "duration": 0,
    "start_time": "2022-06-27T23:23:58.863Z"
   },
   {
    "duration": 0,
    "start_time": "2022-06-27T23:23:58.864Z"
   },
   {
    "duration": 0,
    "start_time": "2022-06-27T23:23:58.864Z"
   },
   {
    "duration": 0,
    "start_time": "2022-06-27T23:23:58.865Z"
   },
   {
    "duration": 0,
    "start_time": "2022-06-27T23:23:58.866Z"
   },
   {
    "duration": 0,
    "start_time": "2022-06-27T23:23:58.866Z"
   },
   {
    "duration": 0,
    "start_time": "2022-06-27T23:23:58.867Z"
   },
   {
    "duration": 0,
    "start_time": "2022-06-27T23:23:58.868Z"
   },
   {
    "duration": 0,
    "start_time": "2022-06-27T23:23:58.869Z"
   },
   {
    "duration": 0,
    "start_time": "2022-06-27T23:23:58.870Z"
   },
   {
    "duration": 0,
    "start_time": "2022-06-27T23:23:58.871Z"
   },
   {
    "duration": 0,
    "start_time": "2022-06-27T23:23:58.872Z"
   },
   {
    "duration": 0,
    "start_time": "2022-06-27T23:23:58.873Z"
   },
   {
    "duration": 1,
    "start_time": "2022-06-27T23:23:58.873Z"
   },
   {
    "duration": 0,
    "start_time": "2022-06-27T23:23:58.875Z"
   },
   {
    "duration": 0,
    "start_time": "2022-06-27T23:23:58.876Z"
   },
   {
    "duration": 1,
    "start_time": "2022-06-27T23:23:58.876Z"
   },
   {
    "duration": 55,
    "start_time": "2022-06-27T23:25:27.577Z"
   },
   {
    "duration": 840,
    "start_time": "2022-06-27T23:41:39.361Z"
   },
   {
    "duration": 25,
    "start_time": "2022-06-27T23:41:40.202Z"
   },
   {
    "duration": 17,
    "start_time": "2022-06-27T23:41:40.228Z"
   },
   {
    "duration": 4,
    "start_time": "2022-06-27T23:41:40.247Z"
   },
   {
    "duration": 11,
    "start_time": "2022-06-27T23:41:40.267Z"
   },
   {
    "duration": 29,
    "start_time": "2022-06-27T23:41:40.280Z"
   },
   {
    "duration": 5,
    "start_time": "2022-06-27T23:41:40.311Z"
   },
   {
    "duration": 7,
    "start_time": "2022-06-27T23:41:40.318Z"
   },
   {
    "duration": 8,
    "start_time": "2022-06-27T23:41:40.327Z"
   },
   {
    "duration": 168,
    "start_time": "2022-06-27T23:41:40.338Z"
   },
   {
    "duration": 28,
    "start_time": "2022-06-27T23:41:40.508Z"
   },
   {
    "duration": 43,
    "start_time": "2022-06-27T23:41:40.537Z"
   },
   {
    "duration": 121,
    "start_time": "2022-06-27T23:41:40.582Z"
   },
   {
    "duration": 92,
    "start_time": "2022-06-27T23:41:40.705Z"
   },
   {
    "duration": 29,
    "start_time": "2022-06-27T23:41:40.799Z"
   },
   {
    "duration": 63,
    "start_time": "2022-06-27T23:41:40.831Z"
   },
   {
    "duration": 138,
    "start_time": "2022-06-27T23:41:40.896Z"
   },
   {
    "duration": 39,
    "start_time": "2022-06-27T23:41:41.035Z"
   },
   {
    "duration": 31,
    "start_time": "2022-06-27T23:41:41.076Z"
   },
   {
    "duration": 78,
    "start_time": "2022-06-27T23:41:41.109Z"
   },
   {
    "duration": 10,
    "start_time": "2022-06-27T23:41:41.189Z"
   },
   {
    "duration": 18,
    "start_time": "2022-06-27T23:41:41.200Z"
   },
   {
    "duration": 50,
    "start_time": "2022-06-27T23:41:41.220Z"
   },
   {
    "duration": 7,
    "start_time": "2022-06-27T23:41:41.277Z"
   },
   {
    "duration": 16,
    "start_time": "2022-06-27T23:41:41.286Z"
   },
   {
    "duration": 125,
    "start_time": "2022-06-27T23:41:41.304Z"
   },
   {
    "duration": 32,
    "start_time": "2022-06-27T23:41:41.430Z"
   },
   {
    "duration": 34,
    "start_time": "2022-06-27T23:41:41.470Z"
   },
   {
    "duration": 26,
    "start_time": "2022-06-27T23:41:41.505Z"
   },
   {
    "duration": 54,
    "start_time": "2022-06-27T23:41:41.533Z"
   },
   {
    "duration": 33,
    "start_time": "2022-06-27T23:41:41.589Z"
   },
   {
    "duration": 43,
    "start_time": "2022-06-27T23:41:41.624Z"
   },
   {
    "duration": 20,
    "start_time": "2022-06-27T23:41:41.669Z"
   },
   {
    "duration": 23,
    "start_time": "2022-06-27T23:41:41.691Z"
   },
   {
    "duration": 21,
    "start_time": "2022-06-27T23:41:41.716Z"
   },
   {
    "duration": 7,
    "start_time": "2022-06-27T23:41:41.759Z"
   },
   {
    "duration": 31,
    "start_time": "2022-06-27T23:41:41.767Z"
   },
   {
    "duration": 5,
    "start_time": "2022-06-27T23:41:41.800Z"
   },
   {
    "duration": 9,
    "start_time": "2022-06-27T23:41:41.807Z"
   },
   {
    "duration": 20,
    "start_time": "2022-06-27T23:41:41.818Z"
   },
   {
    "duration": 166,
    "start_time": "2022-06-27T23:41:41.840Z"
   },
   {
    "duration": 76,
    "start_time": "2022-06-27T23:41:42.008Z"
   },
   {
    "duration": 34,
    "start_time": "2022-06-27T23:41:42.085Z"
   },
   {
    "duration": 61,
    "start_time": "2022-06-27T23:41:42.120Z"
   },
   {
    "duration": 14,
    "start_time": "2022-06-27T23:41:42.184Z"
   },
   {
    "duration": 485,
    "start_time": "2022-06-27T23:41:42.200Z"
   },
   {
    "duration": 223,
    "start_time": "2022-06-27T23:41:42.687Z"
   },
   {
    "duration": 291,
    "start_time": "2022-06-27T23:41:42.912Z"
   },
   {
    "duration": 234,
    "start_time": "2022-06-27T23:41:43.205Z"
   },
   {
    "duration": 29,
    "start_time": "2022-06-27T23:41:43.442Z"
   },
   {
    "duration": 108,
    "start_time": "2022-06-27T23:41:43.472Z"
   },
   {
    "duration": 0,
    "start_time": "2022-06-27T23:41:43.582Z"
   },
   {
    "duration": 0,
    "start_time": "2022-06-27T23:41:43.584Z"
   },
   {
    "duration": 0,
    "start_time": "2022-06-27T23:41:43.585Z"
   },
   {
    "duration": 0,
    "start_time": "2022-06-27T23:41:43.586Z"
   },
   {
    "duration": 0,
    "start_time": "2022-06-27T23:41:43.588Z"
   },
   {
    "duration": 0,
    "start_time": "2022-06-27T23:41:43.589Z"
   },
   {
    "duration": 0,
    "start_time": "2022-06-27T23:41:43.589Z"
   },
   {
    "duration": 0,
    "start_time": "2022-06-27T23:41:43.591Z"
   },
   {
    "duration": 0,
    "start_time": "2022-06-27T23:41:43.592Z"
   },
   {
    "duration": 0,
    "start_time": "2022-06-27T23:41:43.593Z"
   },
   {
    "duration": 0,
    "start_time": "2022-06-27T23:41:43.594Z"
   },
   {
    "duration": 0,
    "start_time": "2022-06-27T23:41:43.595Z"
   },
   {
    "duration": 0,
    "start_time": "2022-06-27T23:41:43.596Z"
   },
   {
    "duration": 0,
    "start_time": "2022-06-27T23:41:43.597Z"
   },
   {
    "duration": 0,
    "start_time": "2022-06-27T23:41:43.598Z"
   },
   {
    "duration": 0,
    "start_time": "2022-06-27T23:41:43.599Z"
   },
   {
    "duration": 0,
    "start_time": "2022-06-27T23:41:43.600Z"
   },
   {
    "duration": 0,
    "start_time": "2022-06-27T23:41:43.602Z"
   },
   {
    "duration": 0,
    "start_time": "2022-06-27T23:41:43.603Z"
   },
   {
    "duration": 0,
    "start_time": "2022-06-27T23:41:43.604Z"
   },
   {
    "duration": 0,
    "start_time": "2022-06-27T23:41:43.606Z"
   },
   {
    "duration": 0,
    "start_time": "2022-06-27T23:41:43.607Z"
   },
   {
    "duration": 965,
    "start_time": "2022-06-27T23:49:50.223Z"
   },
   {
    "duration": 23,
    "start_time": "2022-06-27T23:49:51.190Z"
   },
   {
    "duration": 16,
    "start_time": "2022-06-27T23:49:51.214Z"
   },
   {
    "duration": 8,
    "start_time": "2022-06-27T23:49:51.233Z"
   },
   {
    "duration": 9,
    "start_time": "2022-06-27T23:49:51.243Z"
   },
   {
    "duration": 48,
    "start_time": "2022-06-27T23:49:51.254Z"
   },
   {
    "duration": 13,
    "start_time": "2022-06-27T23:49:51.304Z"
   },
   {
    "duration": 18,
    "start_time": "2022-06-27T23:49:51.319Z"
   },
   {
    "duration": 8,
    "start_time": "2022-06-27T23:49:51.339Z"
   },
   {
    "duration": 195,
    "start_time": "2022-06-27T23:49:51.350Z"
   },
   {
    "duration": 38,
    "start_time": "2022-06-27T23:49:51.548Z"
   },
   {
    "duration": 38,
    "start_time": "2022-06-27T23:49:51.588Z"
   },
   {
    "duration": 146,
    "start_time": "2022-06-27T23:49:51.628Z"
   },
   {
    "duration": 90,
    "start_time": "2022-06-27T23:49:51.776Z"
   },
   {
    "duration": 27,
    "start_time": "2022-06-27T23:49:51.868Z"
   },
   {
    "duration": 48,
    "start_time": "2022-06-27T23:49:51.897Z"
   },
   {
    "duration": 146,
    "start_time": "2022-06-27T23:49:51.961Z"
   },
   {
    "duration": 25,
    "start_time": "2022-06-27T23:49:52.109Z"
   },
   {
    "duration": 44,
    "start_time": "2022-06-27T23:49:52.136Z"
   },
   {
    "duration": 114,
    "start_time": "2022-06-27T23:49:52.183Z"
   },
   {
    "duration": 16,
    "start_time": "2022-06-27T23:49:52.298Z"
   },
   {
    "duration": 16,
    "start_time": "2022-06-27T23:49:52.316Z"
   },
   {
    "duration": 51,
    "start_time": "2022-06-27T23:49:52.334Z"
   },
   {
    "duration": 10,
    "start_time": "2022-06-27T23:49:52.387Z"
   },
   {
    "duration": 23,
    "start_time": "2022-06-27T23:49:52.399Z"
   },
   {
    "duration": 150,
    "start_time": "2022-06-27T23:49:52.425Z"
   },
   {
    "duration": 22,
    "start_time": "2022-06-27T23:49:52.577Z"
   },
   {
    "duration": 33,
    "start_time": "2022-06-27T23:49:52.603Z"
   },
   {
    "duration": 52,
    "start_time": "2022-06-27T23:49:52.639Z"
   },
   {
    "duration": 34,
    "start_time": "2022-06-27T23:49:52.693Z"
   },
   {
    "duration": 61,
    "start_time": "2022-06-27T23:49:52.729Z"
   },
   {
    "duration": 24,
    "start_time": "2022-06-27T23:49:52.792Z"
   },
   {
    "duration": 24,
    "start_time": "2022-06-27T23:49:52.818Z"
   },
   {
    "duration": 29,
    "start_time": "2022-06-27T23:49:52.864Z"
   },
   {
    "duration": 21,
    "start_time": "2022-06-27T23:49:52.896Z"
   },
   {
    "duration": 6,
    "start_time": "2022-06-27T23:49:52.919Z"
   },
   {
    "duration": 61,
    "start_time": "2022-06-27T23:49:52.928Z"
   },
   {
    "duration": 8,
    "start_time": "2022-06-27T23:49:52.992Z"
   },
   {
    "duration": 23,
    "start_time": "2022-06-27T23:49:53.001Z"
   },
   {
    "duration": 45,
    "start_time": "2022-06-27T23:49:53.026Z"
   },
   {
    "duration": 155,
    "start_time": "2022-06-27T23:49:53.073Z"
   },
   {
    "duration": 65,
    "start_time": "2022-06-27T23:49:53.229Z"
   },
   {
    "duration": 34,
    "start_time": "2022-06-27T23:49:53.296Z"
   },
   {
    "duration": 52,
    "start_time": "2022-06-27T23:49:53.331Z"
   },
   {
    "duration": 11,
    "start_time": "2022-06-27T23:49:53.385Z"
   },
   {
    "duration": 535,
    "start_time": "2022-06-27T23:49:53.397Z"
   },
   {
    "duration": 260,
    "start_time": "2022-06-27T23:49:53.934Z"
   },
   {
    "duration": 306,
    "start_time": "2022-06-27T23:49:54.196Z"
   },
   {
    "duration": 301,
    "start_time": "2022-06-27T23:49:54.504Z"
   },
   {
    "duration": 17,
    "start_time": "2022-06-27T23:49:54.807Z"
   },
   {
    "duration": 121,
    "start_time": "2022-06-27T23:49:54.826Z"
   },
   {
    "duration": 0,
    "start_time": "2022-06-27T23:49:54.950Z"
   },
   {
    "duration": 0,
    "start_time": "2022-06-27T23:49:54.963Z"
   },
   {
    "duration": 0,
    "start_time": "2022-06-27T23:49:54.964Z"
   },
   {
    "duration": 0,
    "start_time": "2022-06-27T23:49:54.965Z"
   },
   {
    "duration": 0,
    "start_time": "2022-06-27T23:49:54.966Z"
   },
   {
    "duration": 0,
    "start_time": "2022-06-27T23:49:54.967Z"
   },
   {
    "duration": 0,
    "start_time": "2022-06-27T23:49:54.968Z"
   },
   {
    "duration": 0,
    "start_time": "2022-06-27T23:49:54.969Z"
   },
   {
    "duration": 0,
    "start_time": "2022-06-27T23:49:54.970Z"
   },
   {
    "duration": 0,
    "start_time": "2022-06-27T23:49:54.971Z"
   },
   {
    "duration": 0,
    "start_time": "2022-06-27T23:49:54.971Z"
   },
   {
    "duration": 0,
    "start_time": "2022-06-27T23:49:54.972Z"
   },
   {
    "duration": 0,
    "start_time": "2022-06-27T23:49:54.973Z"
   },
   {
    "duration": 1,
    "start_time": "2022-06-27T23:49:54.973Z"
   },
   {
    "duration": 0,
    "start_time": "2022-06-27T23:49:54.974Z"
   },
   {
    "duration": 0,
    "start_time": "2022-06-27T23:49:54.975Z"
   },
   {
    "duration": 0,
    "start_time": "2022-06-27T23:49:54.976Z"
   },
   {
    "duration": 0,
    "start_time": "2022-06-27T23:49:54.977Z"
   },
   {
    "duration": 0,
    "start_time": "2022-06-27T23:49:54.978Z"
   },
   {
    "duration": 0,
    "start_time": "2022-06-27T23:49:54.979Z"
   },
   {
    "duration": 0,
    "start_time": "2022-06-27T23:49:54.980Z"
   },
   {
    "duration": 0,
    "start_time": "2022-06-27T23:49:54.981Z"
   },
   {
    "duration": 873,
    "start_time": "2022-06-28T21:38:32.343Z"
   },
   {
    "duration": 22,
    "start_time": "2022-06-28T21:38:33.218Z"
   },
   {
    "duration": 17,
    "start_time": "2022-06-28T21:38:33.242Z"
   },
   {
    "duration": 4,
    "start_time": "2022-06-28T21:38:33.261Z"
   },
   {
    "duration": 14,
    "start_time": "2022-06-28T21:38:33.267Z"
   },
   {
    "duration": 24,
    "start_time": "2022-06-28T21:38:33.283Z"
   },
   {
    "duration": 4,
    "start_time": "2022-06-28T21:38:33.309Z"
   },
   {
    "duration": 9,
    "start_time": "2022-06-28T21:38:33.314Z"
   },
   {
    "duration": 7,
    "start_time": "2022-06-28T21:38:33.325Z"
   },
   {
    "duration": 149,
    "start_time": "2022-06-28T21:38:33.335Z"
   },
   {
    "duration": 26,
    "start_time": "2022-06-28T21:38:33.485Z"
   },
   {
    "duration": 33,
    "start_time": "2022-06-28T21:38:33.513Z"
   },
   {
    "duration": 118,
    "start_time": "2022-06-28T21:38:33.547Z"
   },
   {
    "duration": 90,
    "start_time": "2022-06-28T21:38:33.666Z"
   },
   {
    "duration": 21,
    "start_time": "2022-06-28T21:38:33.758Z"
   },
   {
    "duration": 59,
    "start_time": "2022-06-28T21:38:33.781Z"
   },
   {
    "duration": 129,
    "start_time": "2022-06-28T21:38:33.842Z"
   },
   {
    "duration": 23,
    "start_time": "2022-06-28T21:38:33.973Z"
   },
   {
    "duration": 41,
    "start_time": "2022-06-28T21:38:33.998Z"
   },
   {
    "duration": 83,
    "start_time": "2022-06-28T21:38:34.041Z"
   },
   {
    "duration": 10,
    "start_time": "2022-06-28T21:38:34.126Z"
   },
   {
    "duration": 13,
    "start_time": "2022-06-28T21:38:34.137Z"
   },
   {
    "duration": 25,
    "start_time": "2022-06-28T21:38:34.152Z"
   },
   {
    "duration": 7,
    "start_time": "2022-06-28T21:38:34.179Z"
   },
   {
    "duration": 42,
    "start_time": "2022-06-28T21:38:34.187Z"
   },
   {
    "duration": 113,
    "start_time": "2022-06-28T21:38:34.230Z"
   },
   {
    "duration": 16,
    "start_time": "2022-06-28T21:38:34.345Z"
   },
   {
    "duration": 32,
    "start_time": "2022-06-28T21:38:34.364Z"
   },
   {
    "duration": 48,
    "start_time": "2022-06-28T21:38:34.397Z"
   },
   {
    "duration": 32,
    "start_time": "2022-06-28T21:38:34.447Z"
   },
   {
    "duration": 49,
    "start_time": "2022-06-28T21:38:34.480Z"
   },
   {
    "duration": 16,
    "start_time": "2022-06-28T21:38:34.530Z"
   },
   {
    "duration": 15,
    "start_time": "2022-06-28T21:38:34.547Z"
   },
   {
    "duration": 19,
    "start_time": "2022-06-28T21:38:34.563Z"
   },
   {
    "duration": 39,
    "start_time": "2022-06-28T21:38:34.584Z"
   },
   {
    "duration": 3,
    "start_time": "2022-06-28T21:38:34.625Z"
   },
   {
    "duration": 18,
    "start_time": "2022-06-28T21:38:34.630Z"
   },
   {
    "duration": 5,
    "start_time": "2022-06-28T21:38:34.650Z"
   },
   {
    "duration": 11,
    "start_time": "2022-06-28T21:38:34.656Z"
   },
   {
    "duration": 20,
    "start_time": "2022-06-28T21:38:34.668Z"
   },
   {
    "duration": 136,
    "start_time": "2022-06-28T21:38:34.690Z"
   },
   {
    "duration": 46,
    "start_time": "2022-06-28T21:38:34.828Z"
   },
   {
    "duration": 50,
    "start_time": "2022-06-28T21:38:34.875Z"
   },
   {
    "duration": 26,
    "start_time": "2022-06-28T21:38:34.927Z"
   },
   {
    "duration": 11,
    "start_time": "2022-06-28T21:38:34.955Z"
   },
   {
    "duration": 457,
    "start_time": "2022-06-28T21:38:34.967Z"
   },
   {
    "duration": 212,
    "start_time": "2022-06-28T21:38:35.425Z"
   },
   {
    "duration": 212,
    "start_time": "2022-06-28T21:38:35.638Z"
   },
   {
    "duration": 228,
    "start_time": "2022-06-28T21:38:35.852Z"
   },
   {
    "duration": 15,
    "start_time": "2022-06-28T21:38:36.081Z"
   },
   {
    "duration": 107,
    "start_time": "2022-06-28T21:38:36.098Z"
   },
   {
    "duration": 0,
    "start_time": "2022-06-28T21:38:36.207Z"
   },
   {
    "duration": 0,
    "start_time": "2022-06-28T21:38:36.208Z"
   },
   {
    "duration": 0,
    "start_time": "2022-06-28T21:38:36.208Z"
   },
   {
    "duration": 0,
    "start_time": "2022-06-28T21:38:36.222Z"
   },
   {
    "duration": 0,
    "start_time": "2022-06-28T21:38:36.223Z"
   },
   {
    "duration": 0,
    "start_time": "2022-06-28T21:38:36.225Z"
   },
   {
    "duration": 0,
    "start_time": "2022-06-28T21:38:36.226Z"
   },
   {
    "duration": 0,
    "start_time": "2022-06-28T21:38:36.227Z"
   },
   {
    "duration": 0,
    "start_time": "2022-06-28T21:38:36.229Z"
   },
   {
    "duration": 0,
    "start_time": "2022-06-28T21:38:36.230Z"
   },
   {
    "duration": 0,
    "start_time": "2022-06-28T21:38:36.232Z"
   },
   {
    "duration": 0,
    "start_time": "2022-06-28T21:38:36.233Z"
   },
   {
    "duration": 0,
    "start_time": "2022-06-28T21:38:36.235Z"
   },
   {
    "duration": 1,
    "start_time": "2022-06-28T21:38:36.236Z"
   },
   {
    "duration": 0,
    "start_time": "2022-06-28T21:38:36.238Z"
   },
   {
    "duration": 0,
    "start_time": "2022-06-28T21:38:36.240Z"
   },
   {
    "duration": 0,
    "start_time": "2022-06-28T21:38:36.241Z"
   },
   {
    "duration": 0,
    "start_time": "2022-06-28T21:38:36.242Z"
   },
   {
    "duration": 0,
    "start_time": "2022-06-28T21:38:36.243Z"
   },
   {
    "duration": 0,
    "start_time": "2022-06-28T21:38:36.244Z"
   },
   {
    "duration": 0,
    "start_time": "2022-06-28T21:38:36.246Z"
   },
   {
    "duration": 0,
    "start_time": "2022-06-28T21:38:36.247Z"
   },
   {
    "duration": 188,
    "start_time": "2022-06-28T21:40:49.026Z"
   },
   {
    "duration": 198,
    "start_time": "2022-06-28T21:50:52.695Z"
   },
   {
    "duration": 213,
    "start_time": "2022-06-28T21:51:19.729Z"
   },
   {
    "duration": 205,
    "start_time": "2022-06-28T21:53:51.109Z"
   },
   {
    "duration": 198,
    "start_time": "2022-06-28T21:54:27.331Z"
   },
   {
    "duration": 294,
    "start_time": "2022-06-28T21:54:44.605Z"
   },
   {
    "duration": 777,
    "start_time": "2022-06-28T21:55:18.579Z"
   },
   {
    "duration": 20,
    "start_time": "2022-06-28T21:55:19.358Z"
   },
   {
    "duration": 14,
    "start_time": "2022-06-28T21:55:19.380Z"
   },
   {
    "duration": 3,
    "start_time": "2022-06-28T21:55:19.396Z"
   },
   {
    "duration": 9,
    "start_time": "2022-06-28T21:55:19.401Z"
   },
   {
    "duration": 20,
    "start_time": "2022-06-28T21:55:19.411Z"
   },
   {
    "duration": 4,
    "start_time": "2022-06-28T21:55:19.433Z"
   },
   {
    "duration": 17,
    "start_time": "2022-06-28T21:55:19.439Z"
   },
   {
    "duration": 14,
    "start_time": "2022-06-28T21:55:19.457Z"
   },
   {
    "duration": 152,
    "start_time": "2022-06-28T21:55:19.473Z"
   },
   {
    "duration": 27,
    "start_time": "2022-06-28T21:55:19.627Z"
   },
   {
    "duration": 25,
    "start_time": "2022-06-28T21:55:19.656Z"
   },
   {
    "duration": 120,
    "start_time": "2022-06-28T21:55:19.682Z"
   },
   {
    "duration": 80,
    "start_time": "2022-06-28T21:55:19.804Z"
   },
   {
    "duration": 20,
    "start_time": "2022-06-28T21:55:19.885Z"
   },
   {
    "duration": 55,
    "start_time": "2022-06-28T21:55:19.907Z"
   },
   {
    "duration": 132,
    "start_time": "2022-06-28T21:55:19.963Z"
   },
   {
    "duration": 34,
    "start_time": "2022-06-28T21:55:20.096Z"
   },
   {
    "duration": 28,
    "start_time": "2022-06-28T21:55:20.131Z"
   },
   {
    "duration": 83,
    "start_time": "2022-06-28T21:55:20.160Z"
   },
   {
    "duration": 451,
    "start_time": "2022-06-28T21:55:20.244Z"
   },
   {
    "duration": 14,
    "start_time": "2022-06-28T21:55:20.697Z"
   },
   {
    "duration": 14,
    "start_time": "2022-06-28T21:55:20.712Z"
   },
   {
    "duration": 27,
    "start_time": "2022-06-28T21:55:20.728Z"
   },
   {
    "duration": 7,
    "start_time": "2022-06-28T21:55:20.757Z"
   },
   {
    "duration": 14,
    "start_time": "2022-06-28T21:55:20.766Z"
   },
   {
    "duration": 139,
    "start_time": "2022-06-28T21:55:20.781Z"
   },
   {
    "duration": 18,
    "start_time": "2022-06-28T21:55:20.927Z"
   },
   {
    "duration": 32,
    "start_time": "2022-06-28T21:55:20.947Z"
   },
   {
    "duration": 57,
    "start_time": "2022-06-28T21:55:20.981Z"
   },
   {
    "duration": 32,
    "start_time": "2022-06-28T21:55:21.040Z"
   },
   {
    "duration": 51,
    "start_time": "2022-06-28T21:55:21.074Z"
   },
   {
    "duration": 18,
    "start_time": "2022-06-28T21:55:21.127Z"
   },
   {
    "duration": 17,
    "start_time": "2022-06-28T21:55:21.147Z"
   },
   {
    "duration": 20,
    "start_time": "2022-06-28T21:55:21.166Z"
   },
   {
    "duration": 46,
    "start_time": "2022-06-28T21:55:21.188Z"
   },
   {
    "duration": 5,
    "start_time": "2022-06-28T21:55:21.236Z"
   },
   {
    "duration": 23,
    "start_time": "2022-06-28T21:55:21.243Z"
   },
   {
    "duration": 7,
    "start_time": "2022-06-28T21:55:21.268Z"
   },
   {
    "duration": 19,
    "start_time": "2022-06-28T21:55:21.277Z"
   },
   {
    "duration": 39,
    "start_time": "2022-06-28T21:55:21.297Z"
   },
   {
    "duration": 121,
    "start_time": "2022-06-28T21:55:21.338Z"
   },
   {
    "duration": 49,
    "start_time": "2022-06-28T21:55:21.461Z"
   },
   {
    "duration": 35,
    "start_time": "2022-06-28T21:55:21.522Z"
   },
   {
    "duration": 27,
    "start_time": "2022-06-28T21:55:21.559Z"
   },
   {
    "duration": 38,
    "start_time": "2022-06-28T21:55:21.588Z"
   },
   {
    "duration": 213,
    "start_time": "2022-06-28T21:55:21.628Z"
   },
   {
    "duration": 221,
    "start_time": "2022-06-28T21:55:21.843Z"
   },
   {
    "duration": 224,
    "start_time": "2022-06-28T21:55:22.066Z"
   },
   {
    "duration": 219,
    "start_time": "2022-06-28T21:55:22.292Z"
   },
   {
    "duration": 256,
    "start_time": "2022-06-28T21:55:22.513Z"
   },
   {
    "duration": 14,
    "start_time": "2022-06-28T21:55:22.770Z"
   },
   {
    "duration": 109,
    "start_time": "2022-06-28T21:55:22.786Z"
   },
   {
    "duration": 1,
    "start_time": "2022-06-28T21:55:22.896Z"
   },
   {
    "duration": 0,
    "start_time": "2022-06-28T21:55:22.897Z"
   },
   {
    "duration": 0,
    "start_time": "2022-06-28T21:55:22.898Z"
   },
   {
    "duration": 0,
    "start_time": "2022-06-28T21:55:22.900Z"
   },
   {
    "duration": 0,
    "start_time": "2022-06-28T21:55:22.901Z"
   },
   {
    "duration": 0,
    "start_time": "2022-06-28T21:55:22.902Z"
   },
   {
    "duration": 0,
    "start_time": "2022-06-28T21:55:22.903Z"
   },
   {
    "duration": 0,
    "start_time": "2022-06-28T21:55:22.905Z"
   },
   {
    "duration": 0,
    "start_time": "2022-06-28T21:55:22.923Z"
   },
   {
    "duration": 0,
    "start_time": "2022-06-28T21:55:22.924Z"
   },
   {
    "duration": 0,
    "start_time": "2022-06-28T21:55:22.925Z"
   },
   {
    "duration": 0,
    "start_time": "2022-06-28T21:55:22.927Z"
   },
   {
    "duration": 0,
    "start_time": "2022-06-28T21:55:22.928Z"
   },
   {
    "duration": 0,
    "start_time": "2022-06-28T21:55:22.929Z"
   },
   {
    "duration": 0,
    "start_time": "2022-06-28T21:55:22.930Z"
   },
   {
    "duration": 0,
    "start_time": "2022-06-28T21:55:22.931Z"
   },
   {
    "duration": 0,
    "start_time": "2022-06-28T21:55:22.932Z"
   },
   {
    "duration": 0,
    "start_time": "2022-06-28T21:55:22.934Z"
   },
   {
    "duration": 0,
    "start_time": "2022-06-28T21:55:22.934Z"
   },
   {
    "duration": 0,
    "start_time": "2022-06-28T21:55:22.935Z"
   },
   {
    "duration": 0,
    "start_time": "2022-06-28T21:55:22.936Z"
   },
   {
    "duration": 0,
    "start_time": "2022-06-28T21:55:22.937Z"
   },
   {
    "duration": 223,
    "start_time": "2022-06-28T21:55:50.080Z"
   },
   {
    "duration": 226,
    "start_time": "2022-06-28T21:55:58.741Z"
   },
   {
    "duration": 206,
    "start_time": "2022-06-28T21:57:09.303Z"
   },
   {
    "duration": 56,
    "start_time": "2022-06-29T04:11:50.644Z"
   },
   {
    "duration": 936,
    "start_time": "2022-06-29T04:12:11.049Z"
   },
   {
    "duration": 59,
    "start_time": "2022-06-29T04:12:11.987Z"
   },
   {
    "duration": 17,
    "start_time": "2022-06-29T04:12:12.047Z"
   },
   {
    "duration": 12,
    "start_time": "2022-06-29T04:12:12.066Z"
   },
   {
    "duration": 8,
    "start_time": "2022-06-29T04:12:12.081Z"
   },
   {
    "duration": 22,
    "start_time": "2022-06-29T04:12:12.090Z"
   },
   {
    "duration": 4,
    "start_time": "2022-06-29T04:12:12.113Z"
   },
   {
    "duration": 5,
    "start_time": "2022-06-29T04:12:12.119Z"
   },
   {
    "duration": 23,
    "start_time": "2022-06-29T04:12:12.131Z"
   },
   {
    "duration": 223,
    "start_time": "2022-06-29T04:12:12.155Z"
   },
   {
    "duration": 26,
    "start_time": "2022-06-29T04:12:12.380Z"
   },
   {
    "duration": 32,
    "start_time": "2022-06-29T04:12:12.408Z"
   },
   {
    "duration": 104,
    "start_time": "2022-06-29T04:12:12.442Z"
   },
   {
    "duration": 135,
    "start_time": "2022-06-29T04:12:12.549Z"
   },
   {
    "duration": 20,
    "start_time": "2022-06-29T04:12:12.686Z"
   },
   {
    "duration": 54,
    "start_time": "2022-06-29T04:12:12.708Z"
   },
   {
    "duration": 305,
    "start_time": "2022-06-29T04:12:12.763Z"
   },
   {
    "duration": 26,
    "start_time": "2022-06-29T04:12:13.070Z"
   },
   {
    "duration": 31,
    "start_time": "2022-06-29T04:12:13.097Z"
   },
   {
    "duration": 81,
    "start_time": "2022-06-29T04:12:13.129Z"
   },
   {
    "duration": 702,
    "start_time": "2022-06-29T04:12:13.212Z"
   },
   {
    "duration": 46,
    "start_time": "2022-06-29T04:12:13.916Z"
   },
   {
    "duration": 14,
    "start_time": "2022-06-29T04:12:13.964Z"
   },
   {
    "duration": 36,
    "start_time": "2022-06-29T04:12:13.979Z"
   },
   {
    "duration": 7,
    "start_time": "2022-06-29T04:12:14.016Z"
   },
   {
    "duration": 38,
    "start_time": "2022-06-29T04:12:14.025Z"
   },
   {
    "duration": 135,
    "start_time": "2022-06-29T04:12:14.065Z"
   },
   {
    "duration": 18,
    "start_time": "2022-06-29T04:12:14.202Z"
   },
   {
    "duration": 37,
    "start_time": "2022-06-29T04:12:14.234Z"
   },
   {
    "duration": 27,
    "start_time": "2022-06-29T04:12:14.273Z"
   },
   {
    "duration": 48,
    "start_time": "2022-06-29T04:12:14.302Z"
   },
   {
    "duration": 33,
    "start_time": "2022-06-29T04:12:14.351Z"
   },
   {
    "duration": 17,
    "start_time": "2022-06-29T04:12:14.386Z"
   },
   {
    "duration": 33,
    "start_time": "2022-06-29T04:12:14.405Z"
   },
   {
    "duration": 28,
    "start_time": "2022-06-29T04:12:14.445Z"
   },
   {
    "duration": 23,
    "start_time": "2022-06-29T04:12:14.475Z"
   },
   {
    "duration": 4,
    "start_time": "2022-06-29T04:12:14.500Z"
   },
   {
    "duration": 27,
    "start_time": "2022-06-29T04:12:14.529Z"
   },
   {
    "duration": 13,
    "start_time": "2022-06-29T04:12:14.561Z"
   },
   {
    "duration": 10,
    "start_time": "2022-06-29T04:12:14.575Z"
   },
   {
    "duration": 19,
    "start_time": "2022-06-29T04:12:14.588Z"
   },
   {
    "duration": 149,
    "start_time": "2022-06-29T04:12:14.608Z"
   },
   {
    "duration": 69,
    "start_time": "2022-06-29T04:12:14.759Z"
   },
   {
    "duration": 51,
    "start_time": "2022-06-29T04:12:14.834Z"
   },
   {
    "duration": 29,
    "start_time": "2022-06-29T04:12:14.887Z"
   },
   {
    "duration": 19,
    "start_time": "2022-06-29T04:12:14.929Z"
   },
   {
    "duration": 258,
    "start_time": "2022-06-29T04:12:14.950Z"
   },
   {
    "duration": 246,
    "start_time": "2022-06-29T04:12:15.210Z"
   },
   {
    "duration": 239,
    "start_time": "2022-06-29T04:12:15.458Z"
   },
   {
    "duration": 240,
    "start_time": "2022-06-29T04:12:15.699Z"
   },
   {
    "duration": 243,
    "start_time": "2022-06-29T04:12:15.941Z"
   },
   {
    "duration": 21,
    "start_time": "2022-06-29T04:12:16.186Z"
   },
   {
    "duration": 33,
    "start_time": "2022-06-29T04:12:16.209Z"
   },
   {
    "duration": 304,
    "start_time": "2022-06-29T04:12:16.257Z"
   },
   {
    "duration": 320,
    "start_time": "2022-06-29T04:12:16.563Z"
   },
   {
    "duration": 230,
    "start_time": "2022-06-29T04:12:16.885Z"
   },
   {
    "duration": 30,
    "start_time": "2022-06-29T04:12:17.117Z"
   },
   {
    "duration": 231,
    "start_time": "2022-06-29T04:12:17.149Z"
   },
   {
    "duration": 223,
    "start_time": "2022-06-29T04:12:17.382Z"
   },
   {
    "duration": 231,
    "start_time": "2022-06-29T04:12:17.607Z"
   },
   {
    "duration": 309,
    "start_time": "2022-06-29T04:12:17.843Z"
   },
   {
    "duration": 292,
    "start_time": "2022-06-29T04:12:18.154Z"
   },
   {
    "duration": 286,
    "start_time": "2022-06-29T04:12:18.448Z"
   },
   {
    "duration": 25,
    "start_time": "2022-06-29T04:12:18.739Z"
   },
   {
    "duration": 338,
    "start_time": "2022-06-29T04:12:18.766Z"
   },
   {
    "duration": 21,
    "start_time": "2022-06-29T04:12:19.106Z"
   },
   {
    "duration": 291,
    "start_time": "2022-06-29T04:12:19.129Z"
   },
   {
    "duration": 44,
    "start_time": "2022-06-29T04:12:19.421Z"
   },
   {
    "duration": 9,
    "start_time": "2022-06-29T04:12:19.467Z"
   },
   {
    "duration": 8,
    "start_time": "2022-06-29T04:12:19.478Z"
   },
   {
    "duration": 5,
    "start_time": "2022-06-29T04:12:19.487Z"
   },
   {
    "duration": 13,
    "start_time": "2022-06-29T04:12:19.493Z"
   },
   {
    "duration": 19,
    "start_time": "2022-06-29T04:12:19.529Z"
   },
   {
    "duration": 5,
    "start_time": "2022-06-29T04:12:19.550Z"
   },
   {
    "duration": 7,
    "start_time": "2022-06-29T04:12:19.557Z"
   },
   {
    "duration": 931,
    "start_time": "2022-06-29T04:13:27.448Z"
   },
   {
    "duration": 21,
    "start_time": "2022-06-29T04:13:28.381Z"
   },
   {
    "duration": 15,
    "start_time": "2022-06-29T04:13:28.406Z"
   },
   {
    "duration": 7,
    "start_time": "2022-06-29T04:13:28.422Z"
   },
   {
    "duration": 34,
    "start_time": "2022-06-29T04:13:28.431Z"
   },
   {
    "duration": 23,
    "start_time": "2022-06-29T04:13:28.467Z"
   },
   {
    "duration": 5,
    "start_time": "2022-06-29T04:13:28.491Z"
   },
   {
    "duration": 7,
    "start_time": "2022-06-29T04:13:28.497Z"
   },
   {
    "duration": 7,
    "start_time": "2022-06-29T04:13:28.507Z"
   },
   {
    "duration": 210,
    "start_time": "2022-06-29T04:13:28.516Z"
   },
   {
    "duration": 45,
    "start_time": "2022-06-29T04:13:28.732Z"
   },
   {
    "duration": 38,
    "start_time": "2022-06-29T04:13:28.779Z"
   },
   {
    "duration": 139,
    "start_time": "2022-06-29T04:13:28.841Z"
   },
   {
    "duration": 108,
    "start_time": "2022-06-29T04:13:28.983Z"
   },
   {
    "duration": 21,
    "start_time": "2022-06-29T04:13:29.093Z"
   },
   {
    "duration": 72,
    "start_time": "2022-06-29T04:13:29.116Z"
   },
   {
    "duration": 159,
    "start_time": "2022-06-29T04:13:29.189Z"
   },
   {
    "duration": 44,
    "start_time": "2022-06-29T04:13:29.350Z"
   },
   {
    "duration": 27,
    "start_time": "2022-06-29T04:13:29.395Z"
   },
   {
    "duration": 98,
    "start_time": "2022-06-29T04:13:29.424Z"
   },
   {
    "duration": 614,
    "start_time": "2022-06-29T04:13:29.524Z"
   },
   {
    "duration": 39,
    "start_time": "2022-06-29T04:13:30.140Z"
   },
   {
    "duration": 14,
    "start_time": "2022-06-29T04:13:30.181Z"
   },
   {
    "duration": 37,
    "start_time": "2022-06-29T04:13:30.197Z"
   },
   {
    "duration": 11,
    "start_time": "2022-06-29T04:13:30.237Z"
   },
   {
    "duration": 60,
    "start_time": "2022-06-29T04:13:30.251Z"
   },
   {
    "duration": 193,
    "start_time": "2022-06-29T04:13:30.315Z"
   },
   {
    "duration": 20,
    "start_time": "2022-06-29T04:13:30.510Z"
   },
   {
    "duration": 130,
    "start_time": "2022-06-29T04:13:30.533Z"
   },
   {
    "duration": 71,
    "start_time": "2022-06-29T04:13:30.665Z"
   },
   {
    "duration": 74,
    "start_time": "2022-06-29T04:13:30.738Z"
   },
   {
    "duration": 79,
    "start_time": "2022-06-29T04:13:30.815Z"
   },
   {
    "duration": 19,
    "start_time": "2022-06-29T04:13:30.896Z"
   },
   {
    "duration": 33,
    "start_time": "2022-06-29T04:13:30.917Z"
   },
   {
    "duration": 67,
    "start_time": "2022-06-29T04:13:30.952Z"
   },
   {
    "duration": 22,
    "start_time": "2022-06-29T04:13:31.021Z"
   },
   {
    "duration": 51,
    "start_time": "2022-06-29T04:13:31.045Z"
   },
   {
    "duration": 56,
    "start_time": "2022-06-29T04:13:31.097Z"
   },
   {
    "duration": 51,
    "start_time": "2022-06-29T04:13:31.155Z"
   },
   {
    "duration": 17,
    "start_time": "2022-06-29T04:13:31.208Z"
   },
   {
    "duration": 69,
    "start_time": "2022-06-29T04:13:31.227Z"
   },
   {
    "duration": 180,
    "start_time": "2022-06-29T04:13:31.298Z"
   },
   {
    "duration": 72,
    "start_time": "2022-06-29T04:13:31.480Z"
   },
   {
    "duration": 48,
    "start_time": "2022-06-29T04:13:31.554Z"
   },
   {
    "duration": 52,
    "start_time": "2022-06-29T04:13:31.604Z"
   },
   {
    "duration": 22,
    "start_time": "2022-06-29T04:13:31.658Z"
   },
   {
    "duration": 308,
    "start_time": "2022-06-29T04:13:31.683Z"
   },
   {
    "duration": 272,
    "start_time": "2022-06-29T04:13:31.993Z"
   },
   {
    "duration": 245,
    "start_time": "2022-06-29T04:13:32.266Z"
   },
   {
    "duration": 277,
    "start_time": "2022-06-29T04:13:32.514Z"
   },
   {
    "duration": 245,
    "start_time": "2022-06-29T04:13:32.793Z"
   },
   {
    "duration": 19,
    "start_time": "2022-06-29T04:13:33.040Z"
   },
   {
    "duration": 13,
    "start_time": "2022-06-29T04:13:33.064Z"
   },
   {
    "duration": 286,
    "start_time": "2022-06-29T04:13:33.078Z"
   },
   {
    "duration": 233,
    "start_time": "2022-06-29T04:13:33.366Z"
   },
   {
    "duration": 272,
    "start_time": "2022-06-29T04:13:33.600Z"
   },
   {
    "duration": 14,
    "start_time": "2022-06-29T04:13:33.875Z"
   },
   {
    "duration": 333,
    "start_time": "2022-06-29T04:13:33.891Z"
   },
   {
    "duration": 242,
    "start_time": "2022-06-29T04:13:34.229Z"
   },
   {
    "duration": 236,
    "start_time": "2022-06-29T04:13:34.473Z"
   },
   {
    "duration": 304,
    "start_time": "2022-06-29T04:13:34.712Z"
   },
   {
    "duration": 315,
    "start_time": "2022-06-29T04:13:35.017Z"
   },
   {
    "duration": 281,
    "start_time": "2022-06-29T04:13:35.334Z"
   },
   {
    "duration": 29,
    "start_time": "2022-06-29T04:13:35.616Z"
   },
   {
    "duration": 237,
    "start_time": "2022-06-29T04:13:35.646Z"
   },
   {
    "duration": 13,
    "start_time": "2022-06-29T04:13:35.884Z"
   },
   {
    "duration": 404,
    "start_time": "2022-06-29T04:13:35.899Z"
   },
   {
    "duration": 63,
    "start_time": "2022-06-29T04:13:36.305Z"
   },
   {
    "duration": 11,
    "start_time": "2022-06-29T04:13:36.370Z"
   },
   {
    "duration": 21,
    "start_time": "2022-06-29T04:13:36.382Z"
   },
   {
    "duration": 5,
    "start_time": "2022-06-29T04:13:36.405Z"
   },
   {
    "duration": 29,
    "start_time": "2022-06-29T04:13:36.412Z"
   },
   {
    "duration": 50,
    "start_time": "2022-06-29T04:13:36.443Z"
   },
   {
    "duration": 5,
    "start_time": "2022-06-29T04:13:36.495Z"
   },
   {
    "duration": 11,
    "start_time": "2022-06-29T04:13:36.502Z"
   },
   {
    "duration": 870,
    "start_time": "2022-06-29T04:39:25.567Z"
   },
   {
    "duration": 44,
    "start_time": "2022-06-29T04:39:26.439Z"
   },
   {
    "duration": 62,
    "start_time": "2022-06-29T04:39:26.486Z"
   },
   {
    "duration": 52,
    "start_time": "2022-06-29T04:39:26.550Z"
   },
   {
    "duration": 56,
    "start_time": "2022-06-29T04:39:26.604Z"
   },
   {
    "duration": 51,
    "start_time": "2022-06-29T04:39:26.663Z"
   },
   {
    "duration": 39,
    "start_time": "2022-06-29T04:39:26.716Z"
   },
   {
    "duration": 21,
    "start_time": "2022-06-29T04:39:26.757Z"
   },
   {
    "duration": 26,
    "start_time": "2022-06-29T04:39:26.780Z"
   },
   {
    "duration": 202,
    "start_time": "2022-06-29T04:39:26.812Z"
   },
   {
    "duration": 39,
    "start_time": "2022-06-29T04:39:27.016Z"
   },
   {
    "duration": 48,
    "start_time": "2022-06-29T04:39:27.057Z"
   },
   {
    "duration": 114,
    "start_time": "2022-06-29T04:39:27.107Z"
   },
   {
    "duration": 104,
    "start_time": "2022-06-29T04:39:27.223Z"
   },
   {
    "duration": 30,
    "start_time": "2022-06-29T04:39:27.334Z"
   },
   {
    "duration": 51,
    "start_time": "2022-06-29T04:39:27.366Z"
   },
   {
    "duration": 133,
    "start_time": "2022-06-29T04:39:27.419Z"
   },
   {
    "duration": 23,
    "start_time": "2022-06-29T04:39:27.554Z"
   },
   {
    "duration": 45,
    "start_time": "2022-06-29T04:39:27.579Z"
   },
   {
    "duration": 82,
    "start_time": "2022-06-29T04:39:27.626Z"
   },
   {
    "duration": 460,
    "start_time": "2022-06-29T04:39:27.710Z"
   },
   {
    "duration": 15,
    "start_time": "2022-06-29T04:39:28.172Z"
   },
   {
    "duration": 13,
    "start_time": "2022-06-29T04:39:28.189Z"
   },
   {
    "duration": 62,
    "start_time": "2022-06-29T04:39:28.204Z"
   },
   {
    "duration": 7,
    "start_time": "2022-06-29T04:39:28.268Z"
   },
   {
    "duration": 17,
    "start_time": "2022-06-29T04:39:28.277Z"
   },
   {
    "duration": 120,
    "start_time": "2022-06-29T04:39:28.296Z"
   },
   {
    "duration": 25,
    "start_time": "2022-06-29T04:39:28.420Z"
   },
   {
    "duration": 39,
    "start_time": "2022-06-29T04:39:28.447Z"
   },
   {
    "duration": 51,
    "start_time": "2022-06-29T04:39:28.488Z"
   },
   {
    "duration": 33,
    "start_time": "2022-06-29T04:39:28.541Z"
   },
   {
    "duration": 35,
    "start_time": "2022-06-29T04:39:28.576Z"
   },
   {
    "duration": 43,
    "start_time": "2022-06-29T04:39:28.613Z"
   },
   {
    "duration": 17,
    "start_time": "2022-06-29T04:39:28.658Z"
   },
   {
    "duration": 22,
    "start_time": "2022-06-29T04:39:28.676Z"
   },
   {
    "duration": 37,
    "start_time": "2022-06-29T04:39:28.700Z"
   },
   {
    "duration": 4,
    "start_time": "2022-06-29T04:39:28.742Z"
   },
   {
    "duration": 18,
    "start_time": "2022-06-29T04:39:28.748Z"
   },
   {
    "duration": 5,
    "start_time": "2022-06-29T04:39:28.768Z"
   },
   {
    "duration": 9,
    "start_time": "2022-06-29T04:39:28.774Z"
   },
   {
    "duration": 21,
    "start_time": "2022-06-29T04:39:28.785Z"
   },
   {
    "duration": 169,
    "start_time": "2022-06-29T04:39:28.807Z"
   },
   {
    "duration": 67,
    "start_time": "2022-06-29T04:39:28.978Z"
   },
   {
    "duration": 33,
    "start_time": "2022-06-29T04:39:29.047Z"
   },
   {
    "duration": 26,
    "start_time": "2022-06-29T04:39:29.082Z"
   },
   {
    "duration": 14,
    "start_time": "2022-06-29T04:39:29.130Z"
   },
   {
    "duration": 233,
    "start_time": "2022-06-29T04:39:29.146Z"
   },
   {
    "duration": 229,
    "start_time": "2022-06-29T04:39:29.381Z"
   },
   {
    "duration": 243,
    "start_time": "2022-06-29T04:39:29.612Z"
   },
   {
    "duration": 228,
    "start_time": "2022-06-29T04:39:29.856Z"
   },
   {
    "duration": 233,
    "start_time": "2022-06-29T04:39:30.085Z"
   },
   {
    "duration": 24,
    "start_time": "2022-06-29T04:39:30.320Z"
   },
   {
    "duration": 46,
    "start_time": "2022-06-29T04:39:30.346Z"
   },
   {
    "duration": 247,
    "start_time": "2022-06-29T04:39:30.394Z"
   },
   {
    "duration": 231,
    "start_time": "2022-06-29T04:39:30.643Z"
   },
   {
    "duration": 218,
    "start_time": "2022-06-29T04:39:30.876Z"
   },
   {
    "duration": 14,
    "start_time": "2022-06-29T04:39:31.095Z"
   },
   {
    "duration": 335,
    "start_time": "2022-06-29T04:39:31.111Z"
   },
   {
    "duration": 232,
    "start_time": "2022-06-29T04:39:31.448Z"
   },
   {
    "duration": 218,
    "start_time": "2022-06-29T04:39:31.682Z"
   },
   {
    "duration": 285,
    "start_time": "2022-06-29T04:39:31.902Z"
   },
   {
    "duration": 272,
    "start_time": "2022-06-29T04:39:32.189Z"
   },
   {
    "duration": 271,
    "start_time": "2022-06-29T04:39:32.464Z"
   },
   {
    "duration": 25,
    "start_time": "2022-06-29T04:39:32.742Z"
   },
   {
    "duration": 237,
    "start_time": "2022-06-29T04:39:32.769Z"
   },
   {
    "duration": 35,
    "start_time": "2022-06-29T04:39:33.008Z"
   },
   {
    "duration": 402,
    "start_time": "2022-06-29T04:39:33.045Z"
   },
   {
    "duration": 39,
    "start_time": "2022-06-29T04:39:33.449Z"
   },
   {
    "duration": 12,
    "start_time": "2022-06-29T04:39:33.490Z"
   },
   {
    "duration": 37,
    "start_time": "2022-06-29T04:39:33.505Z"
   },
   {
    "duration": 17,
    "start_time": "2022-06-29T04:39:33.544Z"
   },
   {
    "duration": 12,
    "start_time": "2022-06-29T04:39:33.563Z"
   },
   {
    "duration": 12,
    "start_time": "2022-06-29T04:39:33.577Z"
   },
   {
    "duration": 4,
    "start_time": "2022-06-29T04:39:33.591Z"
   },
   {
    "duration": 6,
    "start_time": "2022-06-29T04:39:33.597Z"
   },
   {
    "duration": 821,
    "start_time": "2022-06-29T04:40:08.692Z"
   },
   {
    "duration": 35,
    "start_time": "2022-06-29T04:40:09.514Z"
   },
   {
    "duration": 16,
    "start_time": "2022-06-29T04:40:09.550Z"
   },
   {
    "duration": 5,
    "start_time": "2022-06-29T04:40:09.569Z"
   },
   {
    "duration": 6,
    "start_time": "2022-06-29T04:40:09.577Z"
   },
   {
    "duration": 33,
    "start_time": "2022-06-29T04:40:09.585Z"
   },
   {
    "duration": 18,
    "start_time": "2022-06-29T04:40:09.620Z"
   },
   {
    "duration": 15,
    "start_time": "2022-06-29T04:40:09.639Z"
   },
   {
    "duration": 11,
    "start_time": "2022-06-29T04:40:09.656Z"
   },
   {
    "duration": 174,
    "start_time": "2022-06-29T04:40:09.671Z"
   },
   {
    "duration": 45,
    "start_time": "2022-06-29T04:40:09.849Z"
   },
   {
    "duration": 43,
    "start_time": "2022-06-29T04:40:09.896Z"
   },
   {
    "duration": 113,
    "start_time": "2022-06-29T04:40:09.946Z"
   },
   {
    "duration": 88,
    "start_time": "2022-06-29T04:40:10.061Z"
   },
   {
    "duration": 21,
    "start_time": "2022-06-29T04:40:10.150Z"
   },
   {
    "duration": 70,
    "start_time": "2022-06-29T04:40:10.173Z"
   },
   {
    "duration": 131,
    "start_time": "2022-06-29T04:40:10.245Z"
   },
   {
    "duration": 26,
    "start_time": "2022-06-29T04:40:10.378Z"
   },
   {
    "duration": 49,
    "start_time": "2022-06-29T04:40:10.406Z"
   },
   {
    "duration": 101,
    "start_time": "2022-06-29T04:40:10.456Z"
   },
   {
    "duration": 483,
    "start_time": "2022-06-29T04:40:10.558Z"
   },
   {
    "duration": 16,
    "start_time": "2022-06-29T04:40:11.044Z"
   },
   {
    "duration": 16,
    "start_time": "2022-06-29T04:40:11.061Z"
   },
   {
    "duration": 32,
    "start_time": "2022-06-29T04:40:11.079Z"
   },
   {
    "duration": 6,
    "start_time": "2022-06-29T04:40:11.113Z"
   },
   {
    "duration": 24,
    "start_time": "2022-06-29T04:40:11.121Z"
   },
   {
    "duration": 129,
    "start_time": "2022-06-29T04:40:11.147Z"
   },
   {
    "duration": 16,
    "start_time": "2022-06-29T04:40:11.280Z"
   },
   {
    "duration": 46,
    "start_time": "2022-06-29T04:40:11.298Z"
   },
   {
    "duration": 28,
    "start_time": "2022-06-29T04:40:11.348Z"
   },
   {
    "duration": 50,
    "start_time": "2022-06-29T04:40:11.378Z"
   },
   {
    "duration": 39,
    "start_time": "2022-06-29T04:40:11.431Z"
   },
   {
    "duration": 19,
    "start_time": "2022-06-29T04:40:11.472Z"
   },
   {
    "duration": 44,
    "start_time": "2022-06-29T04:40:11.492Z"
   },
   {
    "duration": 24,
    "start_time": "2022-06-29T04:40:11.538Z"
   },
   {
    "duration": 18,
    "start_time": "2022-06-29T04:40:11.564Z"
   },
   {
    "duration": 5,
    "start_time": "2022-06-29T04:40:11.583Z"
   },
   {
    "duration": 52,
    "start_time": "2022-06-29T04:40:11.590Z"
   },
   {
    "duration": 6,
    "start_time": "2022-06-29T04:40:11.644Z"
   },
   {
    "duration": 11,
    "start_time": "2022-06-29T04:40:11.652Z"
   },
   {
    "duration": 21,
    "start_time": "2022-06-29T04:40:11.664Z"
   },
   {
    "duration": 147,
    "start_time": "2022-06-29T04:40:11.686Z"
   },
   {
    "duration": 55,
    "start_time": "2022-06-29T04:40:11.834Z"
   },
   {
    "duration": 53,
    "start_time": "2022-06-29T04:40:11.890Z"
   },
   {
    "duration": 30,
    "start_time": "2022-06-29T04:40:11.944Z"
   },
   {
    "duration": 13,
    "start_time": "2022-06-29T04:40:11.976Z"
   },
   {
    "duration": 251,
    "start_time": "2022-06-29T04:40:11.990Z"
   },
   {
    "duration": 220,
    "start_time": "2022-06-29T04:40:12.243Z"
   },
   {
    "duration": 239,
    "start_time": "2022-06-29T04:40:12.465Z"
   },
   {
    "duration": 236,
    "start_time": "2022-06-29T04:40:12.706Z"
   },
   {
    "duration": 233,
    "start_time": "2022-06-29T04:40:12.943Z"
   },
   {
    "duration": 22,
    "start_time": "2022-06-29T04:40:13.178Z"
   },
   {
    "duration": 36,
    "start_time": "2022-06-29T04:40:13.202Z"
   },
   {
    "duration": 254,
    "start_time": "2022-06-29T04:40:13.245Z"
   },
   {
    "duration": 245,
    "start_time": "2022-06-29T04:40:13.501Z"
   },
   {
    "duration": 255,
    "start_time": "2022-06-29T04:40:13.748Z"
   },
   {
    "duration": 23,
    "start_time": "2022-06-29T04:40:14.005Z"
   },
   {
    "duration": 316,
    "start_time": "2022-06-29T04:40:14.030Z"
   },
   {
    "duration": 231,
    "start_time": "2022-06-29T04:40:14.347Z"
   },
   {
    "duration": 235,
    "start_time": "2022-06-29T04:40:14.580Z"
   },
   {
    "duration": 288,
    "start_time": "2022-06-29T04:40:14.817Z"
   },
   {
    "duration": 273,
    "start_time": "2022-06-29T04:40:15.107Z"
   },
   {
    "duration": 275,
    "start_time": "2022-06-29T04:40:15.382Z"
   },
   {
    "duration": 19,
    "start_time": "2022-06-29T04:40:15.658Z"
   },
   {
    "duration": 232,
    "start_time": "2022-06-29T04:40:15.679Z"
   },
   {
    "duration": 25,
    "start_time": "2022-06-29T04:40:15.912Z"
   },
   {
    "duration": 467,
    "start_time": "2022-06-29T04:40:15.938Z"
   },
   {
    "duration": 56,
    "start_time": "2022-06-29T04:40:16.409Z"
   },
   {
    "duration": 19,
    "start_time": "2022-06-29T04:40:16.467Z"
   },
   {
    "duration": 34,
    "start_time": "2022-06-29T04:40:16.488Z"
   },
   {
    "duration": 17,
    "start_time": "2022-06-29T04:40:16.524Z"
   },
   {
    "duration": 46,
    "start_time": "2022-06-29T04:40:16.543Z"
   },
   {
    "duration": 22,
    "start_time": "2022-06-29T04:40:16.591Z"
   },
   {
    "duration": 4,
    "start_time": "2022-06-29T04:40:16.616Z"
   },
   {
    "duration": 41,
    "start_time": "2022-06-29T04:40:16.622Z"
   },
   {
    "duration": 5,
    "start_time": "2022-06-29T05:00:22.555Z"
   },
   {
    "duration": 896,
    "start_time": "2022-06-29T05:00:38.114Z"
   },
   {
    "duration": 45,
    "start_time": "2022-06-29T05:00:39.012Z"
   },
   {
    "duration": 18,
    "start_time": "2022-06-29T05:00:39.060Z"
   },
   {
    "duration": 6,
    "start_time": "2022-06-29T05:00:39.080Z"
   },
   {
    "duration": 8,
    "start_time": "2022-06-29T05:00:39.087Z"
   },
   {
    "duration": 21,
    "start_time": "2022-06-29T05:00:39.097Z"
   },
   {
    "duration": 21,
    "start_time": "2022-06-29T05:00:39.120Z"
   },
   {
    "duration": 16,
    "start_time": "2022-06-29T05:00:39.150Z"
   },
   {
    "duration": 10,
    "start_time": "2022-06-29T05:00:39.168Z"
   },
   {
    "duration": 179,
    "start_time": "2022-06-29T05:00:39.181Z"
   },
   {
    "duration": 29,
    "start_time": "2022-06-29T05:00:39.362Z"
   },
   {
    "duration": 42,
    "start_time": "2022-06-29T05:00:39.392Z"
   },
   {
    "duration": 126,
    "start_time": "2022-06-29T05:00:39.438Z"
   },
   {
    "duration": 103,
    "start_time": "2022-06-29T05:00:39.566Z"
   },
   {
    "duration": 23,
    "start_time": "2022-06-29T05:00:39.671Z"
   },
   {
    "duration": 76,
    "start_time": "2022-06-29T05:00:39.695Z"
   },
   {
    "duration": 137,
    "start_time": "2022-06-29T05:00:39.773Z"
   },
   {
    "duration": 52,
    "start_time": "2022-06-29T05:00:39.912Z"
   },
   {
    "duration": 35,
    "start_time": "2022-06-29T05:00:39.966Z"
   },
   {
    "duration": 92,
    "start_time": "2022-06-29T05:00:40.003Z"
   },
   {
    "duration": 536,
    "start_time": "2022-06-29T05:00:40.096Z"
   },
   {
    "duration": 25,
    "start_time": "2022-06-29T05:00:40.633Z"
   },
   {
    "duration": 17,
    "start_time": "2022-06-29T05:00:40.660Z"
   },
   {
    "duration": 30,
    "start_time": "2022-06-29T05:00:40.679Z"
   },
   {
    "duration": 27,
    "start_time": "2022-06-29T05:00:40.711Z"
   },
   {
    "duration": 34,
    "start_time": "2022-06-29T05:00:40.739Z"
   },
   {
    "duration": 132,
    "start_time": "2022-06-29T05:00:40.775Z"
   },
   {
    "duration": 37,
    "start_time": "2022-06-29T05:00:40.912Z"
   },
   {
    "duration": 34,
    "start_time": "2022-06-29T05:00:40.956Z"
   },
   {
    "duration": 30,
    "start_time": "2022-06-29T05:00:40.992Z"
   },
   {
    "duration": 50,
    "start_time": "2022-06-29T05:00:41.023Z"
   },
   {
    "duration": 35,
    "start_time": "2022-06-29T05:00:41.074Z"
   },
   {
    "duration": 32,
    "start_time": "2022-06-29T05:00:41.111Z"
   },
   {
    "duration": 28,
    "start_time": "2022-06-29T05:00:41.146Z"
   },
   {
    "duration": 22,
    "start_time": "2022-06-29T05:00:41.176Z"
   },
   {
    "duration": 32,
    "start_time": "2022-06-29T05:00:41.200Z"
   },
   {
    "duration": 9,
    "start_time": "2022-06-29T05:00:41.234Z"
   },
   {
    "duration": 34,
    "start_time": "2022-06-29T05:00:41.248Z"
   },
   {
    "duration": 14,
    "start_time": "2022-06-29T05:00:41.284Z"
   },
   {
    "duration": 17,
    "start_time": "2022-06-29T05:00:41.300Z"
   },
   {
    "duration": 63,
    "start_time": "2022-06-29T05:00:41.319Z"
   },
   {
    "duration": 135,
    "start_time": "2022-06-29T05:00:41.383Z"
   },
   {
    "duration": 61,
    "start_time": "2022-06-29T05:00:41.520Z"
   },
   {
    "duration": 57,
    "start_time": "2022-06-29T05:00:41.583Z"
   },
   {
    "duration": 37,
    "start_time": "2022-06-29T05:00:41.642Z"
   },
   {
    "duration": 14,
    "start_time": "2022-06-29T05:00:41.680Z"
   },
   {
    "duration": 263,
    "start_time": "2022-06-29T05:00:41.696Z"
   },
   {
    "duration": 263,
    "start_time": "2022-06-29T05:00:41.961Z"
   },
   {
    "duration": 265,
    "start_time": "2022-06-29T05:00:42.226Z"
   },
   {
    "duration": 272,
    "start_time": "2022-06-29T05:00:42.493Z"
   },
   {
    "duration": 257,
    "start_time": "2022-06-29T05:00:42.767Z"
   },
   {
    "duration": 22,
    "start_time": "2022-06-29T05:00:43.027Z"
   },
   {
    "duration": 21,
    "start_time": "2022-06-29T05:00:43.056Z"
   },
   {
    "duration": 244,
    "start_time": "2022-06-29T05:00:43.079Z"
   },
   {
    "duration": 266,
    "start_time": "2022-06-29T05:00:43.325Z"
   },
   {
    "duration": 271,
    "start_time": "2022-06-29T05:00:43.592Z"
   },
   {
    "duration": 15,
    "start_time": "2022-06-29T05:00:43.865Z"
   },
   {
    "duration": 326,
    "start_time": "2022-06-29T05:00:43.882Z"
   },
   {
    "duration": 247,
    "start_time": "2022-06-29T05:00:44.210Z"
   },
   {
    "duration": 242,
    "start_time": "2022-06-29T05:00:44.459Z"
   },
   {
    "duration": 352,
    "start_time": "2022-06-29T05:00:44.703Z"
   },
   {
    "duration": 321,
    "start_time": "2022-06-29T05:00:45.057Z"
   },
   {
    "duration": 291,
    "start_time": "2022-06-29T05:00:45.380Z"
   },
   {
    "duration": 22,
    "start_time": "2022-06-29T05:00:45.672Z"
   },
   {
    "duration": 268,
    "start_time": "2022-06-29T05:00:45.696Z"
   },
   {
    "duration": 14,
    "start_time": "2022-06-29T05:00:45.966Z"
   },
   {
    "duration": 444,
    "start_time": "2022-06-29T05:00:45.982Z"
   },
   {
    "duration": 58,
    "start_time": "2022-06-29T05:00:46.428Z"
   },
   {
    "duration": 10,
    "start_time": "2022-06-29T05:00:46.488Z"
   },
   {
    "duration": 14,
    "start_time": "2022-06-29T05:00:46.501Z"
   },
   {
    "duration": 40,
    "start_time": "2022-06-29T05:00:46.530Z"
   },
   {
    "duration": 23,
    "start_time": "2022-06-29T05:00:46.573Z"
   },
   {
    "duration": 18,
    "start_time": "2022-06-29T05:00:46.598Z"
   },
   {
    "duration": 20,
    "start_time": "2022-06-29T05:00:46.618Z"
   },
   {
    "duration": 33,
    "start_time": "2022-06-29T05:00:46.640Z"
   },
   {
    "duration": 13,
    "start_time": "2022-06-29T05:00:46.676Z"
   },
   {
    "duration": 904,
    "start_time": "2022-06-29T05:05:37.692Z"
   },
   {
    "duration": 22,
    "start_time": "2022-06-29T05:05:38.598Z"
   },
   {
    "duration": 17,
    "start_time": "2022-06-29T05:05:38.622Z"
   },
   {
    "duration": 13,
    "start_time": "2022-06-29T05:05:38.641Z"
   },
   {
    "duration": 11,
    "start_time": "2022-06-29T05:05:38.656Z"
   },
   {
    "duration": 29,
    "start_time": "2022-06-29T05:05:38.669Z"
   },
   {
    "duration": 4,
    "start_time": "2022-06-29T05:05:38.700Z"
   },
   {
    "duration": 9,
    "start_time": "2022-06-29T05:05:38.705Z"
   },
   {
    "duration": 21,
    "start_time": "2022-06-29T05:05:38.715Z"
   },
   {
    "duration": 166,
    "start_time": "2022-06-29T05:05:38.738Z"
   },
   {
    "duration": 38,
    "start_time": "2022-06-29T05:05:38.906Z"
   },
   {
    "duration": 28,
    "start_time": "2022-06-29T05:05:38.946Z"
   },
   {
    "duration": 122,
    "start_time": "2022-06-29T05:05:38.976Z"
   },
   {
    "duration": 93,
    "start_time": "2022-06-29T05:05:39.100Z"
   },
   {
    "duration": 20,
    "start_time": "2022-06-29T05:05:39.194Z"
   },
   {
    "duration": 61,
    "start_time": "2022-06-29T05:05:39.215Z"
   },
   {
    "duration": 139,
    "start_time": "2022-06-29T05:05:39.278Z"
   },
   {
    "duration": 35,
    "start_time": "2022-06-29T05:05:39.419Z"
   },
   {
    "duration": 33,
    "start_time": "2022-06-29T05:05:39.456Z"
   },
   {
    "duration": 98,
    "start_time": "2022-06-29T05:05:39.490Z"
   },
   {
    "duration": 482,
    "start_time": "2022-06-29T05:05:39.590Z"
   },
   {
    "duration": 16,
    "start_time": "2022-06-29T05:05:40.074Z"
   },
   {
    "duration": 15,
    "start_time": "2022-06-29T05:05:40.091Z"
   },
   {
    "duration": 46,
    "start_time": "2022-06-29T05:05:40.108Z"
   },
   {
    "duration": 7,
    "start_time": "2022-06-29T05:05:40.156Z"
   },
   {
    "duration": 18,
    "start_time": "2022-06-29T05:05:40.164Z"
   },
   {
    "duration": 130,
    "start_time": "2022-06-29T05:05:40.185Z"
   },
   {
    "duration": 28,
    "start_time": "2022-06-29T05:05:40.319Z"
   },
   {
    "duration": 39,
    "start_time": "2022-06-29T05:05:40.349Z"
   },
   {
    "duration": 52,
    "start_time": "2022-06-29T05:05:40.390Z"
   },
   {
    "duration": 30,
    "start_time": "2022-06-29T05:05:40.445Z"
   },
   {
    "duration": 34,
    "start_time": "2022-06-29T05:05:40.476Z"
   },
   {
    "duration": 35,
    "start_time": "2022-06-29T05:05:40.511Z"
   },
   {
    "duration": 17,
    "start_time": "2022-06-29T05:05:40.548Z"
   },
   {
    "duration": 20,
    "start_time": "2022-06-29T05:05:40.567Z"
   },
   {
    "duration": 51,
    "start_time": "2022-06-29T05:05:40.589Z"
   },
   {
    "duration": 5,
    "start_time": "2022-06-29T05:05:40.644Z"
   },
   {
    "duration": 17,
    "start_time": "2022-06-29T05:05:40.650Z"
   },
   {
    "duration": 7,
    "start_time": "2022-06-29T05:05:40.668Z"
   },
   {
    "duration": 19,
    "start_time": "2022-06-29T05:05:40.676Z"
   },
   {
    "duration": 52,
    "start_time": "2022-06-29T05:05:40.696Z"
   },
   {
    "duration": 118,
    "start_time": "2022-06-29T05:05:40.750Z"
   },
   {
    "duration": 75,
    "start_time": "2022-06-29T05:05:40.869Z"
   },
   {
    "duration": 31,
    "start_time": "2022-06-29T05:05:40.946Z"
   },
   {
    "duration": 24,
    "start_time": "2022-06-29T05:05:40.979Z"
   },
   {
    "duration": 27,
    "start_time": "2022-06-29T05:05:41.005Z"
   },
   {
    "duration": 246,
    "start_time": "2022-06-29T05:05:41.037Z"
   },
   {
    "duration": 230,
    "start_time": "2022-06-29T05:05:41.285Z"
   },
   {
    "duration": 254,
    "start_time": "2022-06-29T05:05:41.517Z"
   },
   {
    "duration": 238,
    "start_time": "2022-06-29T05:05:41.772Z"
   },
   {
    "duration": 244,
    "start_time": "2022-06-29T05:05:42.012Z"
   },
   {
    "duration": 22,
    "start_time": "2022-06-29T05:05:42.258Z"
   },
   {
    "duration": 19,
    "start_time": "2022-06-29T05:05:42.282Z"
   },
   {
    "duration": 239,
    "start_time": "2022-06-29T05:05:42.303Z"
   },
   {
    "duration": 222,
    "start_time": "2022-06-29T05:05:42.544Z"
   },
   {
    "duration": 223,
    "start_time": "2022-06-29T05:05:42.767Z"
   },
   {
    "duration": 16,
    "start_time": "2022-06-29T05:05:42.992Z"
   },
   {
    "duration": 334,
    "start_time": "2022-06-29T05:05:43.009Z"
   },
   {
    "duration": 228,
    "start_time": "2022-06-29T05:05:43.344Z"
   },
   {
    "duration": 216,
    "start_time": "2022-06-29T05:05:43.574Z"
   },
   {
    "duration": 295,
    "start_time": "2022-06-29T05:05:43.791Z"
   },
   {
    "duration": 263,
    "start_time": "2022-06-29T05:05:44.088Z"
   },
   {
    "duration": 263,
    "start_time": "2022-06-29T05:05:44.352Z"
   },
   {
    "duration": 27,
    "start_time": "2022-06-29T05:05:44.617Z"
   },
   {
    "duration": 239,
    "start_time": "2022-06-29T05:05:44.646Z"
   },
   {
    "duration": 13,
    "start_time": "2022-06-29T05:05:44.887Z"
   },
   {
    "duration": 379,
    "start_time": "2022-06-29T05:05:44.902Z"
   },
   {
    "duration": 49,
    "start_time": "2022-06-29T05:05:45.283Z"
   },
   {
    "duration": 13,
    "start_time": "2022-06-29T05:05:45.333Z"
   },
   {
    "duration": 12,
    "start_time": "2022-06-29T05:05:45.348Z"
   },
   {
    "duration": 6,
    "start_time": "2022-06-29T05:05:45.362Z"
   },
   {
    "duration": 13,
    "start_time": "2022-06-29T05:05:45.369Z"
   },
   {
    "duration": 10,
    "start_time": "2022-06-29T05:05:45.384Z"
   },
   {
    "duration": 4,
    "start_time": "2022-06-29T05:05:45.395Z"
   },
   {
    "duration": 4,
    "start_time": "2022-06-29T05:05:45.427Z"
   },
   {
    "duration": 3,
    "start_time": "2022-06-29T05:05:45.433Z"
   },
   {
    "duration": 840,
    "start_time": "2022-06-29T19:23:45.728Z"
   },
   {
    "duration": 20,
    "start_time": "2022-06-29T19:23:46.570Z"
   },
   {
    "duration": 15,
    "start_time": "2022-06-29T19:23:46.592Z"
   },
   {
    "duration": 4,
    "start_time": "2022-06-29T19:23:46.610Z"
   },
   {
    "duration": 6,
    "start_time": "2022-06-29T19:23:46.616Z"
   },
   {
    "duration": 36,
    "start_time": "2022-06-29T19:23:46.624Z"
   },
   {
    "duration": 4,
    "start_time": "2022-06-29T19:23:46.662Z"
   },
   {
    "duration": 5,
    "start_time": "2022-06-29T19:23:46.668Z"
   },
   {
    "duration": 7,
    "start_time": "2022-06-29T19:23:46.675Z"
   },
   {
    "duration": 201,
    "start_time": "2022-06-29T19:23:46.686Z"
   },
   {
    "duration": 28,
    "start_time": "2022-06-29T19:23:46.888Z"
   },
   {
    "duration": 42,
    "start_time": "2022-06-29T19:23:46.917Z"
   },
   {
    "duration": 105,
    "start_time": "2022-06-29T19:23:46.961Z"
   },
   {
    "duration": 80,
    "start_time": "2022-06-29T19:23:47.068Z"
   },
   {
    "duration": 25,
    "start_time": "2022-06-29T19:23:47.150Z"
   },
   {
    "duration": 56,
    "start_time": "2022-06-29T19:23:47.177Z"
   },
   {
    "duration": 158,
    "start_time": "2022-06-29T19:23:47.235Z"
   },
   {
    "duration": 30,
    "start_time": "2022-06-29T19:23:47.396Z"
   },
   {
    "duration": 50,
    "start_time": "2022-06-29T19:23:47.428Z"
   },
   {
    "duration": 81,
    "start_time": "2022-06-29T19:23:47.480Z"
   },
   {
    "duration": 455,
    "start_time": "2022-06-29T19:23:47.562Z"
   },
   {
    "duration": 15,
    "start_time": "2022-06-29T19:23:48.018Z"
   },
   {
    "duration": 13,
    "start_time": "2022-06-29T19:23:48.034Z"
   },
   {
    "duration": 26,
    "start_time": "2022-06-29T19:23:48.059Z"
   },
   {
    "duration": 7,
    "start_time": "2022-06-29T19:23:48.087Z"
   },
   {
    "duration": 19,
    "start_time": "2022-06-29T19:23:48.095Z"
   },
   {
    "duration": 125,
    "start_time": "2022-06-29T19:23:48.116Z"
   },
   {
    "duration": 24,
    "start_time": "2022-06-29T19:23:48.246Z"
   },
   {
    "duration": 39,
    "start_time": "2022-06-29T19:23:48.272Z"
   },
   {
    "duration": 26,
    "start_time": "2022-06-29T19:23:48.313Z"
   },
   {
    "duration": 45,
    "start_time": "2022-06-29T19:23:48.340Z"
   },
   {
    "duration": 32,
    "start_time": "2022-06-29T19:23:48.386Z"
   },
   {
    "duration": 39,
    "start_time": "2022-06-29T19:23:48.420Z"
   },
   {
    "duration": 16,
    "start_time": "2022-06-29T19:23:48.461Z"
   },
   {
    "duration": 20,
    "start_time": "2022-06-29T19:23:48.478Z"
   },
   {
    "duration": 17,
    "start_time": "2022-06-29T19:23:48.499Z"
   },
   {
    "duration": 4,
    "start_time": "2022-06-29T19:23:48.517Z"
   },
   {
    "duration": 50,
    "start_time": "2022-06-29T19:23:48.522Z"
   },
   {
    "duration": 5,
    "start_time": "2022-06-29T19:23:48.574Z"
   },
   {
    "duration": 11,
    "start_time": "2022-06-29T19:23:48.580Z"
   },
   {
    "duration": 20,
    "start_time": "2022-06-29T19:23:48.592Z"
   },
   {
    "duration": 138,
    "start_time": "2022-06-29T19:23:48.613Z"
   },
   {
    "duration": 49,
    "start_time": "2022-06-29T19:23:48.753Z"
   },
   {
    "duration": 33,
    "start_time": "2022-06-29T19:23:48.804Z"
   },
   {
    "duration": 44,
    "start_time": "2022-06-29T19:23:48.838Z"
   },
   {
    "duration": 10,
    "start_time": "2022-06-29T19:23:48.884Z"
   },
   {
    "duration": 226,
    "start_time": "2022-06-29T19:23:48.895Z"
   },
   {
    "duration": 209,
    "start_time": "2022-06-29T19:23:49.123Z"
   },
   {
    "duration": 216,
    "start_time": "2022-06-29T19:23:49.334Z"
   },
   {
    "duration": 210,
    "start_time": "2022-06-29T19:23:49.558Z"
   },
   {
    "duration": 211,
    "start_time": "2022-06-29T19:23:49.770Z"
   },
   {
    "duration": 14,
    "start_time": "2022-06-29T19:23:49.982Z"
   },
   {
    "duration": 35,
    "start_time": "2022-06-29T19:23:49.997Z"
   },
   {
    "duration": 218,
    "start_time": "2022-06-29T19:23:50.033Z"
   },
   {
    "duration": 228,
    "start_time": "2022-06-29T19:23:50.252Z"
   },
   {
    "duration": 223,
    "start_time": "2022-06-29T19:23:50.481Z"
   },
   {
    "duration": 18,
    "start_time": "2022-06-29T19:23:50.706Z"
   },
   {
    "duration": 334,
    "start_time": "2022-06-29T19:23:50.726Z"
   },
   {
    "duration": 215,
    "start_time": "2022-06-29T19:23:51.062Z"
   },
   {
    "duration": 215,
    "start_time": "2022-06-29T19:23:51.279Z"
   },
   {
    "duration": 253,
    "start_time": "2022-06-29T19:23:51.495Z"
   },
   {
    "duration": 241,
    "start_time": "2022-06-29T19:23:51.750Z"
   },
   {
    "duration": 246,
    "start_time": "2022-06-29T19:23:51.993Z"
   },
   {
    "duration": 26,
    "start_time": "2022-06-29T19:23:52.240Z"
   },
   {
    "duration": 219,
    "start_time": "2022-06-29T19:23:52.267Z"
   },
   {
    "duration": 17,
    "start_time": "2022-06-29T19:23:52.489Z"
   },
   {
    "duration": 342,
    "start_time": "2022-06-29T19:23:52.507Z"
   },
   {
    "duration": 35,
    "start_time": "2022-06-29T19:23:52.851Z"
   },
   {
    "duration": 7,
    "start_time": "2022-06-29T19:23:52.888Z"
   },
   {
    "duration": 10,
    "start_time": "2022-06-29T19:23:52.897Z"
   },
   {
    "duration": 5,
    "start_time": "2022-06-29T19:23:52.909Z"
   },
   {
    "duration": 15,
    "start_time": "2022-06-29T19:23:52.916Z"
   },
   {
    "duration": 38,
    "start_time": "2022-06-29T19:23:52.932Z"
   },
   {
    "duration": 5,
    "start_time": "2022-06-29T19:23:52.971Z"
   },
   {
    "duration": 6,
    "start_time": "2022-06-29T19:23:52.977Z"
   },
   {
    "duration": 9,
    "start_time": "2022-06-29T19:23:52.985Z"
   },
   {
    "duration": 18,
    "start_time": "2022-06-29T19:34:35.251Z"
   },
   {
    "duration": 93,
    "start_time": "2022-06-29T19:36:06.801Z"
   },
   {
    "duration": 202,
    "start_time": "2022-06-29T19:36:31.435Z"
   },
   {
    "duration": 19,
    "start_time": "2022-06-29T19:40:24.381Z"
   },
   {
    "duration": 13,
    "start_time": "2022-06-29T19:43:52.407Z"
   },
   {
    "duration": 1026,
    "start_time": "2022-06-29T19:54:06.641Z"
   },
   {
    "duration": 817,
    "start_time": "2022-06-29T19:54:27.771Z"
   },
   {
    "duration": 995,
    "start_time": "2022-06-29T19:54:48.845Z"
   },
   {
    "duration": 939,
    "start_time": "2022-06-29T19:55:52.099Z"
   },
   {
    "duration": 237,
    "start_time": "2022-06-29T20:00:43.831Z"
   }
  ],
  "kernelspec": {
   "display_name": "Python 3 (ipykernel)",
   "language": "python",
   "name": "python3"
  },
  "language_info": {
   "codemirror_mode": {
    "name": "ipython",
    "version": 3
   },
   "file_extension": ".py",
   "mimetype": "text/x-python",
   "name": "python",
   "nbconvert_exporter": "python",
   "pygments_lexer": "ipython3",
   "version": "3.9.13"
  },
  "toc": {
   "base_numbering": 1,
   "nav_menu": {},
   "number_sections": true,
   "sideBar": true,
   "skip_h1_title": true,
   "title_cell": "Содержание",
   "title_sidebar": "Contents",
   "toc_cell": true,
   "toc_position": {
    "height": "calc(100% - 180px)",
    "left": "10px",
    "top": "150px",
    "width": "184.398px"
   },
   "toc_section_display": true,
   "toc_window_display": true
  }
 },
 "nbformat": 4,
 "nbformat_minor": 2
}
