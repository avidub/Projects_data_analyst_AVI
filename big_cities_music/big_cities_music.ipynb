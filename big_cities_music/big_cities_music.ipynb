{
 "cells": [
  {
   "cell_type": "markdown",
   "metadata": {
    "id": "E0vqbgi9ay0H"
   },
   "source": [
    "# Яндекс.Музыка"
   ]
  },
  {
   "cell_type": "markdown",
   "metadata": {
    "id": "VUC88oWjTJw2"
   },
   "source": [
    "Сравнение Москвы и Петербурга окружено мифами. Например:\n",
    " * Москва — мегаполис, подчинённый жёсткому ритму рабочей недели;\n",
    " * Петербург — культурная столица, со своими вкусами.\n",
    "\n",
    "На данных Яндекс.Музыки вы сравните поведение пользователей двух столиц.\n",
    "\n",
    "**Цель исследования** — проверьте три гипотезы:\n",
    "1. Активность пользователей зависит от дня недели. Причём в Москве и Петербурге это проявляется по-разному.\n",
    "2. В понедельник утром в Москве преобладают одни жанры, а в Петербурге — другие. Так же и вечером пятницы преобладают разные жанры — в зависимости от города. \n",
    "3. Москва и Петербург предпочитают разные жанры музыки. В Москве чаще слушают поп-музыку, в Петербурге — русский рэп.\n",
    "\n",
    "**Ход исследования**\n",
    "\n",
    "Данные о поведении пользователей вы получите из файла `yandex_music_project.csv`. О качестве данных ничего не известно. Поэтому перед проверкой гипотез понадобится обзор данных. \n",
    "\n",
    "Вы проверите данные на ошибки и оцените их влияние на исследование. Затем, на этапе предобработки вы поищете возможность исправить самые критичные ошибки данных.\n",
    " \n",
    "Таким образом, исследование пройдёт в три этапа:\n",
    " 1. Обзор данных.\n",
    " 2. Предобработка данных.\n",
    " 3. Проверка гипотез.\n",
    "\n"
   ]
  },
  {
   "cell_type": "markdown",
   "metadata": {
    "id": "Ml1hmfXC_Zcs"
   },
   "source": [
    "## Обзор данных\n",
    "\n",
    "Составьте первое представление о данных Яндекс.Музыки.\n",
    "\n",
    "\n"
   ]
  },
  {
   "cell_type": "markdown",
   "metadata": {
    "id": "57eAOGIz_Zcs"
   },
   "source": [
    "Основной инструмент аналитика — `pandas`. Импортируйте эту библиотеку."
   ]
  },
  {
   "cell_type": "code",
   "execution_count": 1,
   "metadata": {
    "id": "AXN7PHPN_Zcs"
   },
   "outputs": [],
   "source": [
    "import pandas as pd# импорт библиотеки pandas"
   ]
  },
  {
   "cell_type": "markdown",
   "metadata": {
    "id": "SG23P8tt_Zcs"
   },
   "source": [
    "Прочитайте файл `yandex_music_project.csv` из папки `/datasets` и сохраните его в переменной `df`:"
   ]
  },
  {
   "cell_type": "code",
   "execution_count": 2,
   "metadata": {
    "id": "fFVu7vqh_Zct"
   },
   "outputs": [],
   "source": [
    "df = pd.read_csv('...')# чтение файла с данными и сохранение в df"
   ]
  },
  {
   "cell_type": "markdown",
   "metadata": {
    "id": "rDoOMd3uTqnZ"
   },
   "source": [
    "Выведите на экран первые десять строк таблицы:"
   ]
  },
  {
   "cell_type": "code",
   "execution_count": 3,
   "metadata": {
    "id": "oWTVX3gW_Zct"
   },
   "outputs": [
    {
     "data": {
      "text/html": [
       "<div>\n",
       "<style scoped>\n",
       "    .dataframe tbody tr th:only-of-type {\n",
       "        vertical-align: middle;\n",
       "    }\n",
       "\n",
       "    .dataframe tbody tr th {\n",
       "        vertical-align: top;\n",
       "    }\n",
       "\n",
       "    .dataframe thead th {\n",
       "        text-align: right;\n",
       "    }\n",
       "</style>\n",
       "<table border=\"1\" class=\"dataframe\">\n",
       "  <thead>\n",
       "    <tr style=\"text-align: right;\">\n",
       "      <th></th>\n",
       "      <th>userID</th>\n",
       "      <th>Track</th>\n",
       "      <th>artist</th>\n",
       "      <th>genre</th>\n",
       "      <th>City</th>\n",
       "      <th>time</th>\n",
       "      <th>Day</th>\n",
       "    </tr>\n",
       "  </thead>\n",
       "  <tbody>\n",
       "    <tr>\n",
       "      <th>0</th>\n",
       "      <td>FFB692EC</td>\n",
       "      <td>Kamigata To Boots</td>\n",
       "      <td>The Mass Missile</td>\n",
       "      <td>rock</td>\n",
       "      <td>Saint-Petersburg</td>\n",
       "      <td>20:28:33</td>\n",
       "      <td>Wednesday</td>\n",
       "    </tr>\n",
       "    <tr>\n",
       "      <th>1</th>\n",
       "      <td>55204538</td>\n",
       "      <td>Delayed Because of Accident</td>\n",
       "      <td>Andreas Rönnberg</td>\n",
       "      <td>rock</td>\n",
       "      <td>Moscow</td>\n",
       "      <td>14:07:09</td>\n",
       "      <td>Friday</td>\n",
       "    </tr>\n",
       "    <tr>\n",
       "      <th>2</th>\n",
       "      <td>20EC38</td>\n",
       "      <td>Funiculì funiculà</td>\n",
       "      <td>Mario Lanza</td>\n",
       "      <td>pop</td>\n",
       "      <td>Saint-Petersburg</td>\n",
       "      <td>20:58:07</td>\n",
       "      <td>Wednesday</td>\n",
       "    </tr>\n",
       "    <tr>\n",
       "      <th>3</th>\n",
       "      <td>A3DD03C9</td>\n",
       "      <td>Dragons in the Sunset</td>\n",
       "      <td>Fire + Ice</td>\n",
       "      <td>folk</td>\n",
       "      <td>Saint-Petersburg</td>\n",
       "      <td>08:37:09</td>\n",
       "      <td>Monday</td>\n",
       "    </tr>\n",
       "    <tr>\n",
       "      <th>4</th>\n",
       "      <td>E2DC1FAE</td>\n",
       "      <td>Soul People</td>\n",
       "      <td>Space Echo</td>\n",
       "      <td>dance</td>\n",
       "      <td>Moscow</td>\n",
       "      <td>08:34:34</td>\n",
       "      <td>Monday</td>\n",
       "    </tr>\n",
       "    <tr>\n",
       "      <th>5</th>\n",
       "      <td>842029A1</td>\n",
       "      <td>Преданная</td>\n",
       "      <td>IMPERVTOR</td>\n",
       "      <td>rusrap</td>\n",
       "      <td>Saint-Petersburg</td>\n",
       "      <td>13:09:41</td>\n",
       "      <td>Friday</td>\n",
       "    </tr>\n",
       "    <tr>\n",
       "      <th>6</th>\n",
       "      <td>4CB90AA5</td>\n",
       "      <td>True</td>\n",
       "      <td>Roman Messer</td>\n",
       "      <td>dance</td>\n",
       "      <td>Moscow</td>\n",
       "      <td>13:00:07</td>\n",
       "      <td>Wednesday</td>\n",
       "    </tr>\n",
       "    <tr>\n",
       "      <th>7</th>\n",
       "      <td>F03E1C1F</td>\n",
       "      <td>Feeling This Way</td>\n",
       "      <td>Polina Griffith</td>\n",
       "      <td>dance</td>\n",
       "      <td>Moscow</td>\n",
       "      <td>20:47:49</td>\n",
       "      <td>Wednesday</td>\n",
       "    </tr>\n",
       "    <tr>\n",
       "      <th>8</th>\n",
       "      <td>8FA1D3BE</td>\n",
       "      <td>И вновь продолжается бой</td>\n",
       "      <td>NaN</td>\n",
       "      <td>ruspop</td>\n",
       "      <td>Moscow</td>\n",
       "      <td>09:17:40</td>\n",
       "      <td>Friday</td>\n",
       "    </tr>\n",
       "    <tr>\n",
       "      <th>9</th>\n",
       "      <td>E772D5C0</td>\n",
       "      <td>Pessimist</td>\n",
       "      <td>NaN</td>\n",
       "      <td>dance</td>\n",
       "      <td>Saint-Petersburg</td>\n",
       "      <td>21:20:49</td>\n",
       "      <td>Wednesday</td>\n",
       "    </tr>\n",
       "  </tbody>\n",
       "</table>\n",
       "</div>"
      ],
      "text/plain": [
       "     userID                        Track            artist   genre  \\\n",
       "0  FFB692EC            Kamigata To Boots  The Mass Missile    rock   \n",
       "1  55204538  Delayed Because of Accident  Andreas Rönnberg    rock   \n",
       "2    20EC38            Funiculì funiculà       Mario Lanza     pop   \n",
       "3  A3DD03C9        Dragons in the Sunset        Fire + Ice    folk   \n",
       "4  E2DC1FAE                  Soul People        Space Echo   dance   \n",
       "5  842029A1                    Преданная         IMPERVTOR  rusrap   \n",
       "6  4CB90AA5                         True      Roman Messer   dance   \n",
       "7  F03E1C1F             Feeling This Way   Polina Griffith   dance   \n",
       "8  8FA1D3BE     И вновь продолжается бой               NaN  ruspop   \n",
       "9  E772D5C0                    Pessimist               NaN   dance   \n",
       "\n",
       "             City        time        Day  \n",
       "0  Saint-Petersburg  20:28:33  Wednesday  \n",
       "1            Moscow  14:07:09     Friday  \n",
       "2  Saint-Petersburg  20:58:07  Wednesday  \n",
       "3  Saint-Petersburg  08:37:09     Monday  \n",
       "4            Moscow  08:34:34     Monday  \n",
       "5  Saint-Petersburg  13:09:41     Friday  \n",
       "6            Moscow  13:00:07  Wednesday  \n",
       "7            Moscow  20:47:49  Wednesday  \n",
       "8            Moscow  09:17:40     Friday  \n",
       "9  Saint-Petersburg  21:20:49  Wednesday  "
      ]
     },
     "metadata": {},
     "output_type": "display_data"
    }
   ],
   "source": [
    "display (df.head(10))# получение первых 10 строк таблицы df"
   ]
  },
  {
   "cell_type": "markdown",
   "metadata": {
    "id": "EO73Kwic_Zct"
   },
   "source": [
    "Одной командой получить общую информацию о таблице:"
   ]
  },
  {
   "cell_type": "code",
   "execution_count": 4,
   "metadata": {
    "id": "DSf2kIb-_Zct"
   },
   "outputs": [
    {
     "name": "stdout",
     "output_type": "stream",
     "text": [
      "<class 'pandas.core.frame.DataFrame'>\n",
      "RangeIndex: 65079 entries, 0 to 65078\n",
      "Data columns (total 7 columns):\n",
      " #   Column    Non-Null Count  Dtype \n",
      "---  ------    --------------  ----- \n",
      " 0     userID  65079 non-null  object\n",
      " 1   Track     63848 non-null  object\n",
      " 2   artist    57876 non-null  object\n",
      " 3   genre     63881 non-null  object\n",
      " 4     City    65079 non-null  object\n",
      " 5   time      65079 non-null  object\n",
      " 6   Day       65079 non-null  object\n",
      "dtypes: object(7)\n",
      "memory usage: 3.5+ MB\n"
     ]
    }
   ],
   "source": [
    "df.info()# получение общей информации о данных в таблице df"
   ]
  },
  {
   "cell_type": "markdown",
   "metadata": {
    "id": "TaQ2Iwbr_Zct"
   },
   "source": [
    "Итак, в таблице семь столбцов. Тип данных во всех столбцах — `object`.\n",
    "\n",
    "Согласно документации к данным:\n",
    "* `userID` — идентификатор пользователя;\n",
    "* `Track` — название трека;  \n",
    "* `artist` — имя исполнителя;\n",
    "* `genre` — название жанра;\n",
    "* `City` — город пользователя;\n",
    "* `time` — время начала прослушивания;\n",
    "* `Day` — день недели.\n",
    "\n",
    "В названиях колонок видны три нарушения стиля:\n",
    "1. Строчные буквы сочетаются с прописными.\n",
    "2. Встречаются пробелы.\n",
    "3. Найдите ещё одну проблему в названии колонок и опишите её в этом пункте.\n",
    "\n",
    "userID состоити из двух слов. Нужно использовать \"змеиный код\" и строчные буквы.\n",
    "\n",
    "Количество значений в столбцах различается. Значит, в данных есть пропущенные значения.\n"
   ]
  },
  {
   "cell_type": "markdown",
   "metadata": {},
   "source": [
    "userID состоити из двух слов. Нужно использовать \"змеиный код\" и строчные буквы."
   ]
  },
  {
   "cell_type": "markdown",
   "metadata": {
    "id": "MCB6-dXG_Zct"
   },
   "source": [
    "**Выводы**\n",
    "\n",
    "В каждой строке таблицы — данные о прослушанном треке. Часть колонок описывает саму композицию: название, исполнителя и жанр. Остальные данные рассказывают о пользователе: из какого он города, когда он слушал музыку. \n",
    "\n",
    "Предварительно можно утверждать, что, данных достаточно для проверки гипотез. Но встречаются пропуски в данных, а в названиях колонок — расхождения с хорошим стилем.\n",
    "\n",
    "Чтобы двигаться дальше, нужно устранить проблемы в данных."
   ]
  },
  {
   "cell_type": "markdown",
   "metadata": {
    "id": "SjYF6Ub9_Zct"
   },
   "source": [
    "## Предобработка данных\n",
    "Исправьте стиль в заголовках столбцов, исключите пропуски. Затем проверьте данные на дубликаты."
   ]
  },
  {
   "cell_type": "markdown",
   "metadata": {
    "id": "dIaKXr29_Zct"
   },
   "source": [
    "### Стиль заголовков\n",
    "Выведите на экран названия столбцов:"
   ]
  },
  {
   "cell_type": "code",
   "execution_count": 5,
   "metadata": {
    "id": "oKOTdF_Q_Zct"
   },
   "outputs": [
    {
     "name": "stdout",
     "output_type": "stream",
     "text": [
      "Index(['  userID', 'Track', 'artist', 'genre', '  City  ', 'time', 'Day'], dtype='object')\n"
     ]
    }
   ],
   "source": [
    "print (df.columns)# перечень названий столбцов таблицы df"
   ]
  },
  {
   "cell_type": "markdown",
   "metadata": {
    "id": "zj5534cv_Zct"
   },
   "source": [
    "Приведите названия в соответствие с хорошим стилем:\n",
    "* несколько слов в названии запишите в «змеином_регистре»,\n",
    "* все символы сделайте строчными,\n",
    "* устраните пробелы.\n",
    "\n",
    "Для этого переименуйте колонки так:\n",
    "* `'  userID'` → `'user_id'`;\n",
    "* `'Track'` → `'track'`;\n",
    "* `'  City  '` → `'city'`;\n",
    "* `'Day'` → `'day'`."
   ]
  },
  {
   "cell_type": "code",
   "execution_count": 6,
   "metadata": {
    "id": "ISlFqs5y_Zct"
   },
   "outputs": [],
   "source": [
    "df_upd = df.rename(columns={'  userID':'user_id','Track':'track','  City  ':'city','Day':'day'}) # переименование столбцов"
   ]
  },
  {
   "cell_type": "markdown",
   "metadata": {
    "id": "1dqbh00J_Zct"
   },
   "source": [
    "Проверьте результат. Для этого ещё раз выведите на экран названия столбцов:"
   ]
  },
  {
   "cell_type": "code",
   "execution_count": 7,
   "metadata": {
    "id": "d4NOAmTW_Zct"
   },
   "outputs": [
    {
     "name": "stdout",
     "output_type": "stream",
     "text": [
      "Index(['user_id', 'track', 'artist', 'genre', 'city', 'time', 'day'], dtype='object')\n"
     ]
    }
   ],
   "source": [
    "print (df_upd.columns)# проверка результатов - перечень названий столбцов"
   ]
  },
  {
   "cell_type": "markdown",
   "metadata": {
    "id": "5ISfbcfY_Zct"
   },
   "source": [
    "### Пропуски значений\n",
    "Сначала посчитайте, сколько в таблице пропущенных значений. Для этого достаточно двух методов `pandas`:"
   ]
  },
  {
   "cell_type": "code",
   "execution_count": 8,
   "metadata": {
    "id": "RskX29qr_Zct"
   },
   "outputs": [
    {
     "name": "stdout",
     "output_type": "stream",
     "text": [
      "user_id       0\n",
      "track      1231\n",
      "artist     7203\n",
      "genre      1198\n",
      "city          0\n",
      "time          0\n",
      "day           0\n",
      "dtype: int64\n"
     ]
    }
   ],
   "source": [
    "print(df_upd.isna().sum()) # подсчёт пропусков"
   ]
  },
  {
   "cell_type": "markdown",
   "metadata": {
    "id": "qubhgnlO_Zct"
   },
   "source": [
    "Не все пропущенные значения влияют на исследование. Так в `track` и `artist` пропуски не важны для вашей работы. Достаточно заменить их явными обозначениями.\n",
    "\n",
    "Но пропуски в `genre` могут помешать сравнению музыкальных вкусов в Москве и Санкт-Петербурге. На практике было бы правильно установить причину пропусков и восстановить данные. Такой возможности нет в учебном проекте. Придётся:\n",
    "* заполнить и эти пропуски явными обозначениями,\n",
    "* оценить, насколько они повредят расчётам. "
   ]
  },
  {
   "cell_type": "markdown",
   "metadata": {
    "id": "fSv2laPA_Zct"
   },
   "source": [
    "Замените пропущенные значения в столбцах `track`, `artist` и `genre` на строку `'unknown'`. Для этого создайте список `columns_to_replace`, переберите его элементы циклом `for` и для каждого столбца выполните замену пропущенных значений:"
   ]
  },
  {
   "cell_type": "code",
   "execution_count": 9,
   "metadata": {
    "id": "KplB5qWs_Zct"
   },
   "outputs": [],
   "source": [
    "columns_to_replace = ['track','artist', 'genre']\n",
    "for i in columns_to_replace:\n",
    "    df_upd[columns_to_replace]= df_upd[columns_to_replace].fillna('unknown')# перебор названий столбцов в цикле и замена пропущенных значений на 'unknown'"
   ]
  },
  {
   "cell_type": "markdown",
   "metadata": {
    "id": "Ilsm-MZo_Zct"
   },
   "source": [
    "Убедитесь, что в таблице не осталось пропусков. Для этого ещё раз посчитайте пропущенные значения."
   ]
  },
  {
   "cell_type": "code",
   "execution_count": 10,
   "metadata": {
    "id": "Tq4nYRX4_Zct"
   },
   "outputs": [
    {
     "data": {
      "text/plain": [
       "user_id    0\n",
       "track      0\n",
       "artist     0\n",
       "genre      0\n",
       "city       0\n",
       "time       0\n",
       "day        0\n",
       "dtype: int64"
      ]
     },
     "metadata": {},
     "output_type": "display_data"
    }
   ],
   "source": [
    "display(df_upd.isna().sum())# подсчёт пропусков"
   ]
  },
  {
   "cell_type": "markdown",
   "metadata": {
    "id": "BWKRtBJ3_Zct"
   },
   "source": [
    "### Дубликаты\n",
    "Посчитайте явные дубликаты в таблице одной командой:"
   ]
  },
  {
   "cell_type": "code",
   "execution_count": 11,
   "metadata": {
    "id": "36eES_S0_Zct"
   },
   "outputs": [
    {
     "name": "stdout",
     "output_type": "stream",
     "text": [
      "3826\n"
     ]
    }
   ],
   "source": [
    "print(df_upd.duplicated().sum())  # подсчёт явных дубликатов"
   ]
  },
  {
   "cell_type": "markdown",
   "metadata": {
    "id": "Ot25h6XR_Zct"
   },
   "source": [
    "Вызовите специальный метод `pandas`, чтобы удалить явные дубликаты:"
   ]
  },
  {
   "cell_type": "code",
   "execution_count": 12,
   "metadata": {
    "id": "exFHq6tt_Zct"
   },
   "outputs": [],
   "source": [
    "df_upd = df_upd.drop_duplicates().reset_index(drop=True) # удаление явных дубликатов (с удалением старых индексов и формированием новых)"
   ]
  },
  {
   "cell_type": "markdown",
   "metadata": {
    "id": "Im2YwBEG_Zct"
   },
   "source": [
    "Ещё раз посчитайте явные дубликаты в таблице — убедитесь, что полностью от них избавились:"
   ]
  },
  {
   "cell_type": "code",
   "execution_count": 13,
   "metadata": {
    "id": "-8PuNWQ0_Zct"
   },
   "outputs": [
    {
     "name": "stdout",
     "output_type": "stream",
     "text": [
      "0\n"
     ]
    }
   ],
   "source": [
    "print(df_upd.duplicated().sum())# проверка на отсутствие дубликатов"
   ]
  },
  {
   "cell_type": "markdown",
   "metadata": {
    "id": "QlFBsxAr_Zct"
   },
   "source": [
    "Теперь избавьтесь от неявных дубликатов в колонке `genre`. Например, название одного и того же жанра может быть записано немного по-разному. Такие ошибки тоже повлияют на результат исследования."
   ]
  },
  {
   "cell_type": "markdown",
   "metadata": {
    "id": "eSjWwsOh_Zct"
   },
   "source": [
    "Выведите на экран список уникальных названий жанров, отсортированный в алфавитном порядке. Для этого:\n",
    "* извлеките нужный столбец датафрейма, \n",
    "* примените к нему метод сортировки,\n",
    "* для отсортированного столбца вызовите метод, который вернёт уникальные значения из столбца."
   ]
  },
  {
   "cell_type": "code",
   "execution_count": 14,
   "metadata": {
    "id": "JIUcqzZN_Zct"
   },
   "outputs": [
    {
     "name": "stdout",
     "output_type": "stream",
     "text": [
      "['acid', 'acoustic', 'action', 'adult', 'africa', 'afrikaans', 'alternative', 'alternativepunk', 'ambient', 'americana', 'animated', 'anime', 'arabesk', 'arabic', 'arena', 'argentinetango', 'art', 'audiobook', 'author', 'avantgarde', 'axé', 'baile', 'balkan', 'beats', 'bigroom', 'black', 'bluegrass', 'blues', 'bollywood', 'bossa', 'brazilian', 'breakbeat', 'breaks', 'broadway', 'cantautori', 'cantopop', 'canzone', 'caribbean', 'caucasian', 'celtic', 'chamber', 'chanson', 'children', 'chill', 'chinese', 'choral', 'christian', 'christmas', 'classical', 'classicmetal', 'club', 'colombian', 'comedy', 'conjazz', 'contemporary', 'country', 'cuban', 'dance', 'dancehall', 'dancepop', 'dark', 'death', 'deep', 'deutschrock', 'deutschspr', 'dirty', 'disco', 'dnb', 'documentary', 'downbeat', 'downtempo', 'drum', 'dub', 'dubstep', 'eastern', 'easy', 'electronic', 'electropop', 'emo', 'entehno', 'epicmetal', 'estrada', 'ethnic', 'eurofolk', 'european', 'experimental', 'extrememetal', 'fado', 'fairytail', 'film', 'fitness', 'flamenco', 'folk', 'folklore', 'folkmetal', 'folkrock', 'folktronica', 'forró', 'frankreich', 'französisch', 'french', 'funk', 'future', 'gangsta', 'garage', 'german', 'ghazal', 'gitarre', 'glitch', 'gospel', 'gothic', 'grime', 'grunge', 'gypsy', 'handsup', \"hard'n'heavy\", 'hardcore', 'hardstyle', 'hardtechno', 'hip', 'hip-hop', 'hiphop', 'historisch', 'holiday', 'hop', 'horror', 'house', 'hymn', 'idm', 'independent', 'indian', 'indie', 'indipop', 'industrial', 'inspirational', 'instrumental', 'international', 'irish', 'jam', 'japanese', 'jazz', 'jewish', 'jpop', 'jungle', 'k-pop', 'karadeniz', 'karaoke', 'kayokyoku', 'korean', 'laiko', 'latin', 'latino', 'leftfield', 'local', 'lounge', 'loungeelectronic', 'lovers', 'malaysian', 'mandopop', 'marschmusik', 'meditative', 'mediterranean', 'melodic', 'metal', 'metalcore', 'mexican', 'middle', 'minimal', 'miscellaneous', 'modern', 'mood', 'mpb', 'muslim', 'native', 'neoklassik', 'neue', 'new', 'newage', 'newwave', 'nu', 'nujazz', 'numetal', 'oceania', 'old', 'opera', 'orchestral', 'other', 'piano', 'podcasts', 'pop', 'popdance', 'popelectronic', 'popeurodance', 'poprussian', 'post', 'posthardcore', 'postrock', 'power', 'progmetal', 'progressive', 'psychedelic', 'punjabi', 'punk', 'quebecois', 'ragga', 'ram', 'rancheras', 'rap', 'rave', 'reggae', 'reggaeton', 'regional', 'relax', 'religious', 'retro', 'rhythm', 'rnb', 'rnr', 'rock', 'rockabilly', 'rockalternative', 'rockindie', 'rockother', 'romance', 'roots', 'ruspop', 'rusrap', 'rusrock', 'russian', 'salsa', 'samba', 'scenic', 'schlager', 'self', 'sertanejo', 'shanson', 'shoegazing', 'showtunes', 'singer', 'ska', 'skarock', 'slow', 'smooth', 'soft', 'soul', 'soulful', 'sound', 'soundtrack', 'southern', 'specialty', 'speech', 'spiritual', 'sport', 'stonerrock', 'surf', 'swing', 'synthpop', 'synthrock', 'sängerportrait', 'tango', 'tanzorchester', 'taraftar', 'tatar', 'tech', 'techno', 'teen', 'thrash', 'top', 'traditional', 'tradjazz', 'trance', 'tribal', 'trip', 'triphop', 'tropical', 'türk', 'türkçe', 'ukrrock', 'unknown', 'urban', 'uzbek', 'variété', 'vi', 'videogame', 'vocal', 'western', 'world', 'worldbeat', 'ïîï', 'электроника']\n"
     ]
    }
   ],
   "source": [
    "print(sorted(df_upd['genre'].unique()))# Просмотр уникальных названий жанров"
   ]
  },
  {
   "cell_type": "markdown",
   "metadata": {
    "id": "qej-Qmuo_Zct"
   },
   "source": [
    "Просмотрите список и найдите неявные дубликаты названия `hiphop`. Это могут быть названия с ошибками или альтернативные названия того же жанра.\n",
    "\n",
    "Вы увидите следующие неявные дубликаты:\n",
    "* *hip*,\n",
    "* *hop*,\n",
    "* *hip-hop*.\n",
    "\n",
    "Чтобы очистить от них таблицу, напишите функцию `replace_wrong_genres()` с двумя параметрами: \n",
    "* `wrong_genres` — список дубликатов,\n",
    "* `correct_genre` — строка с правильным значением.\n",
    "\n",
    "Функция должна исправить колонку `genre` в таблице `df`: заменить каждое значение из списка `wrong_genres` на значение из `correct_genre`."
   ]
  },
  {
   "cell_type": "code",
   "execution_count": 15,
   "metadata": {
    "id": "ErNDkmns_Zct"
   },
   "outputs": [],
   "source": [
    "def replace_wrong_genres(wrong_genres, correct_genre):\n",
    "    for wrong_genre in wrong_genres:\n",
    "        df_upd['genre']=df_upd['genre'].replace(wrong_genre,correct_genre)# Функция для замены неявных дубликатов"
   ]
  },
  {
   "cell_type": "markdown",
   "metadata": {
    "id": "aDoBJxbA_Zct"
   },
   "source": [
    "Вызовите `replace_wrong_genres()` и передайте ей такие аргументы, чтобы она устранила неявные дубликаты: вместо `hip`, `hop` и `hip-hop` в таблице должно быть значение `hiphop`:"
   ]
  },
  {
   "cell_type": "code",
   "execution_count": 16,
   "metadata": {
    "id": "YN5i2hpmSo09"
   },
   "outputs": [],
   "source": [
    "wrong_genres=['hip', 'hop', 'hip-hop']\n",
    "correct_genre='hiphop'\n",
    "replace_wrong_genres(wrong_genres, correct_genre)# Устранение неявных дубликатов"
   ]
  },
  {
   "cell_type": "markdown",
   "metadata": {
    "id": "zQKF16_RG15m"
   },
   "source": [
    "Проверьте, что заменили неправильные названия:\n",
    "\n",
    "*   hip\n",
    "*   hop\n",
    "*   hip-hop\n",
    "\n",
    "Выведите отсортированный список уникальных значений столбца `genre`:"
   ]
  },
  {
   "cell_type": "code",
   "execution_count": 17,
   "metadata": {
    "id": "wvixALnFG15m"
   },
   "outputs": [
    {
     "name": "stdout",
     "output_type": "stream",
     "text": [
      "['acid', 'acoustic', 'action', 'adult', 'africa', 'afrikaans', 'alternative', 'alternativepunk', 'ambient', 'americana', 'animated', 'anime', 'arabesk', 'arabic', 'arena', 'argentinetango', 'art', 'audiobook', 'author', 'avantgarde', 'axé', 'baile', 'balkan', 'beats', 'bigroom', 'black', 'bluegrass', 'blues', 'bollywood', 'bossa', 'brazilian', 'breakbeat', 'breaks', 'broadway', 'cantautori', 'cantopop', 'canzone', 'caribbean', 'caucasian', 'celtic', 'chamber', 'chanson', 'children', 'chill', 'chinese', 'choral', 'christian', 'christmas', 'classical', 'classicmetal', 'club', 'colombian', 'comedy', 'conjazz', 'contemporary', 'country', 'cuban', 'dance', 'dancehall', 'dancepop', 'dark', 'death', 'deep', 'deutschrock', 'deutschspr', 'dirty', 'disco', 'dnb', 'documentary', 'downbeat', 'downtempo', 'drum', 'dub', 'dubstep', 'eastern', 'easy', 'electronic', 'electropop', 'emo', 'entehno', 'epicmetal', 'estrada', 'ethnic', 'eurofolk', 'european', 'experimental', 'extrememetal', 'fado', 'fairytail', 'film', 'fitness', 'flamenco', 'folk', 'folklore', 'folkmetal', 'folkrock', 'folktronica', 'forró', 'frankreich', 'französisch', 'french', 'funk', 'future', 'gangsta', 'garage', 'german', 'ghazal', 'gitarre', 'glitch', 'gospel', 'gothic', 'grime', 'grunge', 'gypsy', 'handsup', \"hard'n'heavy\", 'hardcore', 'hardstyle', 'hardtechno', 'hiphop', 'historisch', 'holiday', 'horror', 'house', 'hymn', 'idm', 'independent', 'indian', 'indie', 'indipop', 'industrial', 'inspirational', 'instrumental', 'international', 'irish', 'jam', 'japanese', 'jazz', 'jewish', 'jpop', 'jungle', 'k-pop', 'karadeniz', 'karaoke', 'kayokyoku', 'korean', 'laiko', 'latin', 'latino', 'leftfield', 'local', 'lounge', 'loungeelectronic', 'lovers', 'malaysian', 'mandopop', 'marschmusik', 'meditative', 'mediterranean', 'melodic', 'metal', 'metalcore', 'mexican', 'middle', 'minimal', 'miscellaneous', 'modern', 'mood', 'mpb', 'muslim', 'native', 'neoklassik', 'neue', 'new', 'newage', 'newwave', 'nu', 'nujazz', 'numetal', 'oceania', 'old', 'opera', 'orchestral', 'other', 'piano', 'podcasts', 'pop', 'popdance', 'popelectronic', 'popeurodance', 'poprussian', 'post', 'posthardcore', 'postrock', 'power', 'progmetal', 'progressive', 'psychedelic', 'punjabi', 'punk', 'quebecois', 'ragga', 'ram', 'rancheras', 'rap', 'rave', 'reggae', 'reggaeton', 'regional', 'relax', 'religious', 'retro', 'rhythm', 'rnb', 'rnr', 'rock', 'rockabilly', 'rockalternative', 'rockindie', 'rockother', 'romance', 'roots', 'ruspop', 'rusrap', 'rusrock', 'russian', 'salsa', 'samba', 'scenic', 'schlager', 'self', 'sertanejo', 'shanson', 'shoegazing', 'showtunes', 'singer', 'ska', 'skarock', 'slow', 'smooth', 'soft', 'soul', 'soulful', 'sound', 'soundtrack', 'southern', 'specialty', 'speech', 'spiritual', 'sport', 'stonerrock', 'surf', 'swing', 'synthpop', 'synthrock', 'sängerportrait', 'tango', 'tanzorchester', 'taraftar', 'tatar', 'tech', 'techno', 'teen', 'thrash', 'top', 'traditional', 'tradjazz', 'trance', 'tribal', 'trip', 'triphop', 'tropical', 'türk', 'türkçe', 'ukrrock', 'unknown', 'urban', 'uzbek', 'variété', 'vi', 'videogame', 'vocal', 'western', 'world', 'worldbeat', 'ïîï', 'электроника']\n"
     ]
    }
   ],
   "source": [
    "print(sorted(df_upd['genre'].unique()))# Проверка на неявные дубликаты"
   ]
  },
  {
   "cell_type": "markdown",
   "metadata": {
    "id": "jz6a9-7HQUDd"
   },
   "source": [
    "**Выводы**\n",
    "\n",
    "Предобработка обнаружила три проблемы в данных:\n",
    "\n",
    "- нарушения в стиле заголовков,\n",
    "- пропущенные значения,\n",
    "- дубликаты — явные и неявные.\n",
    "\n",
    "Вы исправили заголовки, чтобы упростить работу с таблицей. Без дубликатов исследование станет более точным.\n",
    "\n",
    "Пропущенные значения вы заменили на `'unknown'`. Ещё предстоит увидеть, не повредят ли исследованию пропуски в колонке `genre`.\n",
    "\n",
    "Теперь можно перейти к проверке гипотез. "
   ]
  },
  {
   "cell_type": "markdown",
   "metadata": {
    "id": "WttZHXH0SqKk"
   },
   "source": [
    "## Проверка гипотез"
   ]
  },
  {
   "cell_type": "markdown",
   "metadata": {
    "id": "Im936VVi_Zcu"
   },
   "source": [
    "### Сравнение поведения пользователей двух столиц"
   ]
  },
  {
   "cell_type": "markdown",
   "metadata": {
    "id": "nwt_MuaL_Zcu"
   },
   "source": [
    "Первая гипотеза утверждает, что пользователи по-разному слушают музыку в Москве и Санкт-Петербурге. Проверьте это предположение по данным о трёх днях недели — понедельнике, среде и пятнице. Для этого:\n",
    "\n",
    "* Разделите пользователей Москвы и Санкт-Петербурга\n",
    "* Сравните, сколько треков послушала каждая группа пользователей в понедельник, среду и пятницу.\n"
   ]
  },
  {
   "cell_type": "markdown",
   "metadata": {
    "id": "8Dw_YMmT_Zcu"
   },
   "source": [
    "Для тренировки сначала выполните каждый из расчётов по отдельности. \n",
    "\n",
    "Оцените активность пользователей в каждом городе. Сгруппируйте данные по городу и посчитайте прослушивания в каждой группе.\n",
    "\n"
   ]
  },
  {
   "cell_type": "code",
   "execution_count": 18,
   "metadata": {
    "id": "0_Qs96oh_Zcu"
   },
   "outputs": [
    {
     "data": {
      "text/plain": [
       "city\n",
       "Moscow              42741\n",
       "Saint-Petersburg    18512\n",
       "Name: time, dtype: int64"
      ]
     },
     "metadata": {},
     "output_type": "display_data"
    }
   ],
   "source": [
    "city_grouping_count = df_upd.groupby('city')['time'].count()\n",
    "\n",
    "display (city_grouping_count)\n",
    "\n",
    "# Подсчёт прослушиваний в каждом городе"
   ]
  },
  {
   "cell_type": "markdown",
   "metadata": {
    "id": "dzli3w8o_Zcu"
   },
   "source": [
    "В Москве прослушиваний больше, чем в Петербурге. Из этого не следует, что московские пользователи чаще слушают музыку. Просто самих пользователей в Москве больше.\n",
    "\n",
    "Теперь сгруппируйте данные по дню недели и подсчитайте прослушивания в понедельник, среду и пятницу. Учтите, что в данных есть информация о прослушиваниях только за эти дни.\n"
   ]
  },
  {
   "cell_type": "code",
   "execution_count": 19,
   "metadata": {
    "id": "uZMKjiJz_Zcu"
   },
   "outputs": [
    {
     "data": {
      "text/plain": [
       "day\n",
       "Friday       21840\n",
       "Monday       21354\n",
       "Wednesday    18059\n",
       "Name: time, dtype: int64"
      ]
     },
     "metadata": {},
     "output_type": "display_data"
    }
   ],
   "source": [
    "day_grouping_count = df_upd.groupby('day')['time'].count()\n",
    "\n",
    "display (day_grouping_count)\n",
    "# Подсчёт прослушиваний в каждый из трёх дней"
   ]
  },
  {
   "cell_type": "markdown",
   "metadata": {
    "id": "cC2tNrlL_Zcu"
   },
   "source": [
    "В среднем пользователи из двух городов менее активны по средам. Но картина может измениться, если рассмотреть каждый город в отдельности."
   ]
  },
  {
   "cell_type": "markdown",
   "metadata": {
    "id": "POzs8bGa_Zcu"
   },
   "source": [
    "Вы видели, как работает группировка по городу и по дням недели. Теперь напишите функцию, которая объединит два эти расчёта.\n",
    "\n",
    "Создайте функцию `number_tracks()`, которая посчитает прослушивания для заданного дня и города. Ей понадобятся два параметра:\n",
    "* день недели,\n",
    "* название города.\n",
    "\n",
    "В функции сохраните в переменную строки исходной таблицы, у которых значение:\n",
    "  * в колонке `day` равно параметру `day`,\n",
    "  * в колонке `city` равно параметру `city`.\n",
    "\n",
    "Для этого примените последовательную фильтрацию с логической индексацией.\n",
    "\n",
    "Затем посчитайте значения в столбце `user_id` получившейся таблицы. Результат сохраните в новую переменную. Верните эту переменную из функции."
   ]
  },
  {
   "cell_type": "code",
   "execution_count": 20,
   "metadata": {
    "id": "Nz3GdQB1_Zcu"
   },
   "outputs": [],
   "source": [
    "# <создание функции number_tracks()>\n",
    "def number_tracks(day,city):# Объявляется функция с двумя параметрами: day, city.\n",
    "    track_list_city=df_upd[df_upd['city']== city]\n",
    "    track_list=track_list_city[track_list_city['day']==day]\n",
    "    track_list_count=track_list['user_id'].count()\n",
    "    return track_list_count# В переменной track_list сохраняются те строки таблицы df, для которых \n",
    "# значение в столбце 'day' равно параметру day и одновременно значение\n",
    "# в столбце 'city' равно параметру city (используйте последовательную фильтрацию\n",
    "# с помощью логической индексации).\n",
    "# В переменной track_list_count сохраняется число значений столбца 'user_id',\n",
    "# рассчитанное методом count() для таблицы track_list.\n",
    "# Функция возвращает число - значение track_list_count.\n",
    "\n",
    "# Функция для подсчёта прослушиваний для конкретного города и дня.\n",
    "# С помощью последовательной фильтрации с логической индексацией она \n",
    "# сначала получит из исходной таблицы строки с нужным днём,\n",
    "# затем из результата отфильтрует строки с нужным городом,\n",
    "# методом count() посчитает количество значений в колонке user_id. \n",
    "# Это количество функция вернёт в качестве результата"
   ]
  },
  {
   "cell_type": "markdown",
   "metadata": {
    "id": "ytf7xFrFJQ2r"
   },
   "source": [
    "Вызовите `number_tracks()` шесть раз, меняя значение параметров — так, чтобы получить данные для каждого города в каждый из трёх дней."
   ]
  },
  {
   "cell_type": "code",
   "execution_count": 21,
   "metadata": {
    "id": "rJcRATNQ_Zcu"
   },
   "outputs": [
    {
     "name": "stdout",
     "output_type": "stream",
     "text": [
      "15740\n"
     ]
    }
   ],
   "source": [
    "print(number_tracks('Monday','Moscow'))# количество прослушиваний в Москве по понедельникам"
   ]
  },
  {
   "cell_type": "code",
   "execution_count": 22,
   "metadata": {
    "id": "hq_ncZ5T_Zcu"
   },
   "outputs": [
    {
     "name": "stdout",
     "output_type": "stream",
     "text": [
      "5614\n"
     ]
    }
   ],
   "source": [
    "print(number_tracks('Monday','Saint-Petersburg'))# количество прослушиваний в Санкт-Петербурге по понедельникам"
   ]
  },
  {
   "cell_type": "code",
   "execution_count": 23,
   "metadata": {
    "id": "_NTy2VPU_Zcu"
   },
   "outputs": [
    {
     "name": "stdout",
     "output_type": "stream",
     "text": [
      "11056\n"
     ]
    }
   ],
   "source": [
    "print(number_tracks('Wednesday','Moscow'))# количество прослушиваний в Москве по средам"
   ]
  },
  {
   "cell_type": "code",
   "execution_count": 24,
   "metadata": {
    "id": "j2y3TAwo_Zcu"
   },
   "outputs": [
    {
     "name": "stdout",
     "output_type": "stream",
     "text": [
      "7003\n"
     ]
    }
   ],
   "source": [
    "print(number_tracks('Wednesday','Saint-Petersburg'))# количество прослушиваний в Санкт-Петербурге по средам"
   ]
  },
  {
   "cell_type": "code",
   "execution_count": 25,
   "metadata": {
    "id": "vYDw5u_K_Zcu"
   },
   "outputs": [
    {
     "name": "stdout",
     "output_type": "stream",
     "text": [
      "15945\n"
     ]
    }
   ],
   "source": [
    "print(number_tracks('Friday','Moscow'))# количество прослушиваний в Москве по пятницам"
   ]
  },
  {
   "cell_type": "code",
   "execution_count": 26,
   "metadata": {
    "id": "8_yzFtW3_Zcu"
   },
   "outputs": [
    {
     "name": "stdout",
     "output_type": "stream",
     "text": [
      "5895\n"
     ]
    }
   ],
   "source": [
    "print(number_tracks('Friday','Saint-Petersburg'))# количество прослушиваний в Санкт-Петербурге по пятницам"
   ]
  },
  {
   "cell_type": "markdown",
   "metadata": {
    "id": "7QXffbO-_Zcu"
   },
   "source": [
    "Создайте c помощью конструктора `pd.DataFrame` таблицу, где\n",
    "* названия колонок — `['city', 'monday', 'wednesday', 'friday']`;\n",
    "* данные — результаты, которые вы получили с помощью `number_tracks`."
   ]
  },
  {
   "cell_type": "code",
   "execution_count": 27,
   "metadata": {
    "id": "APAcLpOr_Zcu"
   },
   "outputs": [
    {
     "data": {
      "text/html": [
       "<div>\n",
       "<style scoped>\n",
       "    .dataframe tbody tr th:only-of-type {\n",
       "        vertical-align: middle;\n",
       "    }\n",
       "\n",
       "    .dataframe tbody tr th {\n",
       "        vertical-align: top;\n",
       "    }\n",
       "\n",
       "    .dataframe thead th {\n",
       "        text-align: right;\n",
       "    }\n",
       "</style>\n",
       "<table border=\"1\" class=\"dataframe\">\n",
       "  <thead>\n",
       "    <tr style=\"text-align: right;\">\n",
       "      <th></th>\n",
       "      <th>city</th>\n",
       "      <th>monday</th>\n",
       "      <th>wednesday</th>\n",
       "      <th>friday</th>\n",
       "    </tr>\n",
       "  </thead>\n",
       "  <tbody>\n",
       "    <tr>\n",
       "      <th>0</th>\n",
       "      <td>Moscow</td>\n",
       "      <td>15740</td>\n",
       "      <td>11056</td>\n",
       "      <td>15945</td>\n",
       "    </tr>\n",
       "    <tr>\n",
       "      <th>1</th>\n",
       "      <td>Saint-Petersburg</td>\n",
       "      <td>5614</td>\n",
       "      <td>7003</td>\n",
       "      <td>5895</td>\n",
       "    </tr>\n",
       "  </tbody>\n",
       "</table>\n",
       "</div>"
      ],
      "text/plain": [
       "               city  monday  wednesday  friday\n",
       "0            Moscow   15740      11056   15945\n",
       "1  Saint-Petersburg    5614       7003    5895"
      ]
     },
     "metadata": {},
     "output_type": "display_data"
    }
   ],
   "source": [
    "column_names=['city', 'monday', 'wednesday', 'friday']\n",
    "row_data=[\n",
    "    ['Moscow',15740,11056,15945],\n",
    "    ['Saint-Petersburg',5614,7003,5895],\n",
    "]\n",
    "tracks_result=pd.DataFrame(data=row_data , columns=column_names)\n",
    "display (tracks_result)\n",
    " # Таблица с результатами"
   ]
  },
  {
   "cell_type": "markdown",
   "metadata": {
    "id": "-EgPIHYu_Zcu"
   },
   "source": [
    "**Выводы**\n",
    "\n",
    "Данные показывают разницу поведения пользователей:\n",
    "\n",
    "- В Москве пик прослушиваний приходится на понедельник и пятницу, а в среду заметен спад.\n",
    "- В Петербурге, наоборот, больше слушают музыку по средам. Активность в понедельник и пятницу здесь почти в равной мере уступает среде.\n",
    "\n",
    "Значит, данные говорят в пользу первой гипотезы."
   ]
  },
  {
   "cell_type": "markdown",
   "metadata": {
    "id": "atZAxtq4_Zcu"
   },
   "source": [
    "### Музыка в начале и в конце недели"
   ]
  },
  {
   "cell_type": "markdown",
   "metadata": {
    "id": "eXrQqXFH_Zcu"
   },
   "source": [
    "Согласно второй гипотезе, утром в понедельник в Москве преобладают одни жанры, а в Петербурге — другие. Так же и вечером пятницы преобладают разные жанры — в зависимости от города."
   ]
  },
  {
   "cell_type": "markdown",
   "metadata": {
    "id": "S8UcW6Hw_Zcu"
   },
   "source": [
    "Сохраните таблицы с данными в две переменные:\n",
    "* по Москве — в `moscow_general`;\n",
    "* по Санкт-Петербургу — в `spb_general`."
   ]
  },
  {
   "cell_type": "code",
   "execution_count": 28,
   "metadata": {
    "id": "qeaFfM_P_Zcu"
   },
   "outputs": [],
   "source": [
    "moscow_general=df_upd[df_upd['city']=='Moscow']# получение таблицы moscow_general из тех строк таблицы df, \n",
    "# для которых значение в столбце 'city' равно 'Moscow'"
   ]
  },
  {
   "cell_type": "code",
   "execution_count": 29,
   "metadata": {
    "id": "ORaVRKto_Zcu"
   },
   "outputs": [],
   "source": [
    "spb_general=df_upd[df_upd['city']=='Saint-Petersburg']# получение таблицы spb_general из тех строк таблицы df,\n",
    "# для которых значение в столбце 'city' равно 'Saint-Petersburg'\n"
   ]
  },
  {
   "cell_type": "markdown",
   "metadata": {
    "id": "MEJV-CX2_Zcu"
   },
   "source": [
    "Создайте функцию `genre_weekday()` с четырьмя параметрами:\n",
    "* таблица (датафрейм) с данными,\n",
    "* день недели,\n",
    "* начальная временная метка в формате 'hh:mm', \n",
    "* последняя временная метка в формате 'hh:mm'.\n",
    "\n",
    "Функция должна вернуть информацию о топ-10 жанров тех треков, которые прослушивали в указанный день, в промежутке между двумя отметками времени."
   ]
  },
  {
   "cell_type": "code",
   "execution_count": 30,
   "metadata": {
    "id": "laJT9BYl_Zcu"
   },
   "outputs": [],
   "source": [
    "def genre_weekday(table,day,time1,time2):\n",
    "    genre_df=table[table['day']==day]\n",
    "    genre_df=genre_df[genre_df['time']<time2]\n",
    "    genre_df=genre_df[genre_df['time']>time1]\n",
    "    genre_df_count=genre_df.groupby('genre')['city'].count()\n",
    "    genre_df_sorted=genre_df_count.sort_values(ascending=False)\n",
    "    return genre_df_sorted.head(10)# Объявление функции genre_weekday() с параметрами table, day, time1, time2,\n",
    "# которая возвращает информацию о самых популярных жанрах в указанный день в\n",
    "# заданное время:\n",
    "# 1) в переменную genre_df сохраняются те строки переданного датафрейма table, для\n",
    "#    которых одновременно:\n",
    "    #    - значение в столбце day равно значению аргумента day\n",
    "#    - значение в столбце time больше значения аргумента time1\n",
    "#    - значение в столбце time меньше значения аргумента time2\n",
    "#    Используйте последовательную фильтрацию с помощью логической индексации.\n",
    "# 2) сгруппировать датафрейм genre_df по столбцу genre, взять один из его\n",
    "#    столбцов и посчитать методом count() количество записей для каждого из\n",
    "#    присутствующих жанров, получившийся Series записать в переменную\n",
    "#    genre_df_count\n",
    "# 3) отсортировать genre_df_count по убыванию встречаемости и сохранить\n",
    "#    в переменную genre_df_sorted\n",
    "# 4) вернуть Series из 10 первых значений genre_df_sorted, это будут топ-10\n",
    "#    популярных жанров (в указанный день, в заданное время)"
   ]
  },
  {
   "cell_type": "markdown",
   "metadata": {
    "id": "la2s2_PF_Zcu"
   },
   "source": [
    "Cравните результаты функции `genre_weekday()` для Москвы и Санкт-Петербурга в понедельник утром (с 7:00 до 11:00) и в пятницу вечером (с 17:00 до 23:00):"
   ]
  },
  {
   "cell_type": "code",
   "execution_count": 31,
   "metadata": {
    "id": "yz7itPUQ_Zcu"
   },
   "outputs": [
    {
     "data": {
      "text/plain": [
       "genre\n",
       "pop            781\n",
       "dance          549\n",
       "electronic     480\n",
       "rock           474\n",
       "hiphop         286\n",
       "ruspop         186\n",
       "world          181\n",
       "rusrap         175\n",
       "alternative    164\n",
       "unknown        161\n",
       "Name: city, dtype: int64"
      ]
     },
     "metadata": {},
     "output_type": "display_data"
    }
   ],
   "source": [
    "display(genre_weekday(moscow_general,'Monday','07:00','11:00'))# вызов функции для утра понедельника в Москве (вместо df — таблица moscow_general)\n",
    "# объекты, хранящие время, являются строками и сравниваются как строки\n",
    "# пример вызова: genre_weekday(moscow_general, 'Monday', '07:00', '11:00')"
   ]
  },
  {
   "cell_type": "code",
   "execution_count": 32,
   "metadata": {
    "id": "kwUcHPdy_Zcu"
   },
   "outputs": [
    {
     "data": {
      "text/plain": [
       "genre\n",
       "pop            218\n",
       "dance          182\n",
       "rock           162\n",
       "electronic     147\n",
       "hiphop          80\n",
       "ruspop          64\n",
       "alternative     58\n",
       "rusrap          55\n",
       "jazz            44\n",
       "classical       40\n",
       "Name: city, dtype: int64"
      ]
     },
     "metadata": {},
     "output_type": "display_data"
    }
   ],
   "source": [
    "display(genre_weekday(spb_general,'Monday','07:00','11:00'))# вызов функции для утра понедельника в Петербурге (вместо df — таблица spb_general)"
   ]
  },
  {
   "cell_type": "code",
   "execution_count": 33,
   "metadata": {
    "id": "EzXVRE1o_Zcu",
    "scrolled": true
   },
   "outputs": [
    {
     "data": {
      "text/plain": [
       "genre\n",
       "pop            713\n",
       "rock           517\n",
       "dance          495\n",
       "electronic     482\n",
       "hiphop         273\n",
       "world          208\n",
       "ruspop         170\n",
       "alternative    163\n",
       "classical      163\n",
       "rusrap         142\n",
       "Name: city, dtype: int64"
      ]
     },
     "metadata": {},
     "output_type": "display_data"
    }
   ],
   "source": [
    "display(genre_weekday(moscow_general,'Friday','17:00','23:00'))# вызов функции для вечера пятницы в Москве"
   ]
  },
  {
   "cell_type": "code",
   "execution_count": 34,
   "metadata": {
    "id": "JZaEKu5v_Zcu"
   },
   "outputs": [
    {
     "data": {
      "text/plain": [
       "genre\n",
       "pop            256\n",
       "electronic     216\n",
       "rock           216\n",
       "dance          210\n",
       "hiphop          97\n",
       "alternative     63\n",
       "jazz            61\n",
       "classical       60\n",
       "rusrap          59\n",
       "world           54\n",
       "Name: city, dtype: int64"
      ]
     },
     "metadata": {},
     "output_type": "display_data"
    }
   ],
   "source": [
    "display(genre_weekday(spb_general,'Friday','17:00','23:00'))# вызов функции для вечера пятницы в Петербурге"
   ]
  },
  {
   "cell_type": "markdown",
   "metadata": {
    "id": "wrCe4MNX_Zcu"
   },
   "source": [
    "**Выводы**\n",
    "\n",
    "Если сравнить топ-10 жанров в понедельник утром, можно сделать такие выводы:\n",
    "\n",
    "1. В Москве и Петербурге слушают похожую музыку. Единственное отличие — в московский рейтинг вошёл жанр “world”, а в петербургский — джаз и классика.\n",
    "\n",
    "2. В Москве пропущенных значений оказалось так много, что значение `'unknown'` заняло десятое место среди самых популярных жанров. Значит, пропущенные значения занимают существенную долю в данных и угрожают достоверности исследования.\n",
    "\n",
    "Вечер пятницы не меняет эту картину. Некоторые жанры поднимаются немного выше, другие спускаются, но в целом топ-10 остаётся тем же самым.\n",
    "\n",
    "Таким образом, вторая гипотеза подтвердилась лишь частично:\n",
    "* Пользователи слушают похожую музыку в начале недели и в конце.\n",
    "* Разница между Москвой и Петербургом не слишком выражена. В Москве чаще слушают русскую популярную музыку, в Петербурге — джаз.\n",
    "\n",
    "Однако пропуски в данных ставят под сомнение этот результат. В Москве их так много, что рейтинг топ-10 мог бы выглядеть иначе, если бы не утерянные  данные о жанрах."
   ]
  },
  {
   "cell_type": "markdown",
   "metadata": {
    "id": "JolODAqr_Zcu"
   },
   "source": [
    "### Жанровые предпочтения в Москве и Петербурге\n",
    "\n",
    "Гипотеза: Петербург — столица рэпа, музыку этого жанра там слушают чаще, чем в Москве.  А Москва — город контрастов, в котором, тем не менее, преобладает поп-музыка."
   ]
  },
  {
   "cell_type": "markdown",
   "metadata": {
    "id": "DlegSvaT_Zcu"
   },
   "source": [
    "Сгруппируйте таблицу `moscow_general` по жанру и посчитайте прослушивания треков каждого жанра методом `count()`. Затем отсортируйте результат в порядке убывания и сохраните его в таблице `moscow_genres`."
   ]
  },
  {
   "cell_type": "code",
   "execution_count": 35,
   "metadata": {
    "id": "r19lIPke_Zcu"
   },
   "outputs": [],
   "source": [
    "moscow_genre_count=moscow_general.groupby('genre')['city'].count()# одной строкой: группировка таблицы moscow_general по столбцу 'genre', \n",
    "moscow_genres=moscow_genre_count.sort_values(ascending=False)\n",
    "# подсчёт числа значений 'genre' в этой группировке методом count(), \n",
    "# сортировка получившегося Series в порядке убывания и сохранение в moscow_genres"
   ]
  },
  {
   "cell_type": "markdown",
   "metadata": {
    "id": "6kMuomxTiIr8"
   },
   "source": [
    "Выведите на экран первые десять строк `moscow_genres`:"
   ]
  },
  {
   "cell_type": "code",
   "execution_count": 36,
   "metadata": {
    "id": "WhCSooF8_Zcv"
   },
   "outputs": [
    {
     "data": {
      "text/plain": [
       "genre\n",
       "pop            5892\n",
       "dance          4435\n",
       "rock           3965\n",
       "electronic     3786\n",
       "hiphop         2096\n",
       "classical      1616\n",
       "world          1432\n",
       "alternative    1379\n",
       "ruspop         1372\n",
       "rusrap         1161\n",
       "Name: city, dtype: int64"
      ]
     },
     "metadata": {},
     "output_type": "display_data"
    }
   ],
   "source": [
    "display (moscow_genres.head(10))# просмотр первых 10 строк moscow_genres"
   ]
  },
  {
   "cell_type": "markdown",
   "metadata": {
    "id": "cnPG2vnN_Zcv"
   },
   "source": [
    "Теперь повторите то же и для Петербурга.\n",
    "\n",
    "Сгруппируйте таблицу `spb_general` по жанру. Посчитайте прослушивания треков каждого жанра. Результат отсортируйте в порядке убывания и сохраните в таблице `spb_genres`:\n"
   ]
  },
  {
   "cell_type": "code",
   "execution_count": 37,
   "metadata": {
    "id": "gluLIpE7_Zcv"
   },
   "outputs": [],
   "source": [
    "spb_genre_count=spb_general.groupby('genre')['city'].count()\n",
    "spb_genres=spb_genre_count.sort_values(ascending=False)# одной строкой: группировка таблицы spb_general по столбцу 'genre', \n",
    "# подсчёт числа значений 'genre' в этой группировке методом count(), \n",
    "# сортировка получившегося Series в порядке убывания и сохранение в spb_genres"
   ]
  },
  {
   "cell_type": "markdown",
   "metadata": {
    "id": "5Doha_ODgyQ8"
   },
   "source": [
    "Выведите на экран первые десять строк `spb_genres`:"
   ]
  },
  {
   "cell_type": "code",
   "execution_count": 38,
   "metadata": {
    "id": "uaGJHjVU_Zcv"
   },
   "outputs": [
    {
     "data": {
      "text/plain": [
       "genre\n",
       "pop            2431\n",
       "dance          1932\n",
       "rock           1879\n",
       "electronic     1736\n",
       "hiphop          960\n",
       "alternative     649\n",
       "classical       646\n",
       "rusrap          564\n",
       "ruspop          538\n",
       "world           515\n",
       "Name: city, dtype: int64"
      ]
     },
     "metadata": {},
     "output_type": "display_data"
    }
   ],
   "source": [
    "display (spb_genres.head(10))# просмотр первых 10 строк spb_genres"
   ]
  },
  {
   "cell_type": "markdown",
   "metadata": {
    "id": "RY51YJYu_Zcv"
   },
   "source": [
    "**Выводы**"
   ]
  },
  {
   "cell_type": "markdown",
   "metadata": {
    "id": "nVhnJEm__Zcv"
   },
   "source": [
    "Гипотеза частично подтвердилась:\n",
    "* Поп-музыка — самый популярный жанр в Москве, как и предполагала гипотеза. Более того, в топ-10 жанров встречается близкий жанр — русская популярная музыка.\n",
    "* Вопреки ожиданиям, рэп одинаково популярен в Москве и Петербурге. \n"
   ]
  },
  {
   "cell_type": "markdown",
   "metadata": {
    "id": "ykKQ0N65_Zcv"
   },
   "source": [
    "## Итоги исследования"
   ]
  },
  {
   "cell_type": "markdown",
   "metadata": {
    "id": "tjUwbHb3_Zcv"
   },
   "source": [
    "Вы проверили три гипотезы и установили:\n",
    "\n",
    "1. День недели по-разному влияет на активность пользователей в Москве и Петербурге. \n",
    "\n",
    "Первая гипотеза полностью подтвердилась.\n",
    "\n",
    "2. Музыкальные предпочтения не сильно меняются в течение недели — будь то Москва или Петербург. Небольшие различия заметны в начале недели, по понедельникам:\n",
    "* в Москве слушают музыку жанра “world”,\n",
    "* в Петербурге — джаз и классику.\n",
    "\n",
    "Таким образом, вторая гипотеза подтвердилась лишь отчасти. Этот результат мог оказаться иным, если бы не пропуски в данных.\n",
    "\n",
    "3. Во вкусах пользователей Москвы и Петербурга больше общего чем различий. Вопреки ожиданиям, предпочтения жанров в Петербурге напоминают московские.\n",
    "\n",
    "Третья гипотеза не подтвердилась. Если различия в предпочтениях и существуют, на основной массе пользователей они незаметны.\n",
    "\n",
    "**На практике исследования содержат проверки статистических гипотез.**\n",
    "Из данных одного сервиса не всегда можно сделать вывод о всех жителях города.\n",
    "Проверки статистических гипотез покажут, насколько они достоверны, исходя из имеющихся данных. \n",
    "С методами проверок гипотез вы ещё познакомитесь в следующих темах."
   ]
  }
 ],
 "metadata": {
  "ExecuteTimeLog": [
   {
    "duration": 52,
    "start_time": "2022-05-09T18:14:09.340Z"
   },
   {
    "duration": 395,
    "start_time": "2022-05-09T18:14:22.044Z"
   },
   {
    "duration": 301,
    "start_time": "2022-05-09T18:14:23.551Z"
   },
   {
    "duration": 30,
    "start_time": "2022-05-09T18:16:30.766Z"
   },
   {
    "duration": 18,
    "start_time": "2022-05-09T18:16:45.685Z"
   },
   {
    "duration": 28,
    "start_time": "2022-05-09T18:18:19.215Z"
   },
   {
    "duration": 192,
    "start_time": "2022-05-09T18:19:37.581Z"
   },
   {
    "duration": 10,
    "start_time": "2022-05-09T18:19:41.524Z"
   },
   {
    "duration": 26,
    "start_time": "2022-05-09T18:19:49.031Z"
   },
   {
    "duration": 167,
    "start_time": "2022-05-09T18:20:19.021Z"
   },
   {
    "duration": 13,
    "start_time": "2022-05-09T18:20:22.691Z"
   },
   {
    "duration": 36,
    "start_time": "2022-05-09T18:20:30.410Z"
   },
   {
    "duration": 4,
    "start_time": "2022-05-09T18:45:33.613Z"
   },
   {
    "duration": 57,
    "start_time": "2022-05-09T18:58:28.808Z"
   },
   {
    "duration": 62,
    "start_time": "2022-05-09T18:59:02.404Z"
   },
   {
    "duration": 15,
    "start_time": "2022-05-09T19:00:22.384Z"
   },
   {
    "duration": 4,
    "start_time": "2022-05-09T19:00:38.627Z"
   },
   {
    "duration": 27,
    "start_time": "2022-05-09T19:11:25.442Z"
   },
   {
    "duration": 3,
    "start_time": "2022-05-09T19:36:03.278Z"
   },
   {
    "duration": 9,
    "start_time": "2022-05-09T19:39:42.780Z"
   },
   {
    "duration": 8,
    "start_time": "2022-05-09T19:41:21.373Z"
   },
   {
    "duration": 27,
    "start_time": "2022-05-09T19:43:17.174Z"
   },
   {
    "duration": 24,
    "start_time": "2022-05-09T19:43:37.795Z"
   },
   {
    "duration": 26,
    "start_time": "2022-05-09T19:44:37.345Z"
   },
   {
    "duration": 22,
    "start_time": "2022-05-09T19:45:22.683Z"
   },
   {
    "duration": 29,
    "start_time": "2022-05-09T19:45:47.060Z"
   },
   {
    "duration": 30,
    "start_time": "2022-05-09T19:46:15.472Z"
   },
   {
    "duration": 64,
    "start_time": "2022-05-09T19:47:53.677Z"
   },
   {
    "duration": 63,
    "start_time": "2022-05-09T19:49:57.535Z"
   },
   {
    "duration": 30,
    "start_time": "2022-05-09T19:50:00.661Z"
   },
   {
    "duration": 58,
    "start_time": "2022-05-09T19:50:19.464Z"
   },
   {
    "duration": 31,
    "start_time": "2022-05-09T19:50:21.400Z"
   },
   {
    "duration": 62,
    "start_time": "2022-05-09T19:51:05.768Z"
   },
   {
    "duration": 64,
    "start_time": "2022-05-09T19:51:48.987Z"
   },
   {
    "duration": 79,
    "start_time": "2022-05-09T19:52:49.136Z"
   },
   {
    "duration": 61,
    "start_time": "2022-05-09T19:54:31.974Z"
   },
   {
    "duration": 84,
    "start_time": "2022-05-09T19:55:23.320Z"
   },
   {
    "duration": 56,
    "start_time": "2022-05-09T19:55:57.251Z"
   },
   {
    "duration": 7,
    "start_time": "2022-05-09T19:59:27.046Z"
   },
   {
    "duration": 4,
    "start_time": "2022-05-09T19:59:28.969Z"
   },
   {
    "duration": 27,
    "start_time": "2022-05-09T19:59:48.004Z"
   },
   {
    "duration": 156,
    "start_time": "2022-05-09T20:00:14.520Z"
   },
   {
    "duration": 12,
    "start_time": "2022-05-09T20:00:16.695Z"
   },
   {
    "duration": 39,
    "start_time": "2022-05-09T20:00:19.613Z"
   },
   {
    "duration": 3,
    "start_time": "2022-05-09T20:00:26.343Z"
   },
   {
    "duration": 12,
    "start_time": "2022-05-09T20:00:33.916Z"
   },
   {
    "duration": 4,
    "start_time": "2022-05-09T20:00:35.909Z"
   },
   {
    "duration": 27,
    "start_time": "2022-05-09T20:00:40.138Z"
   },
   {
    "duration": 55,
    "start_time": "2022-05-09T20:12:50.673Z"
   },
   {
    "duration": 30,
    "start_time": "2022-05-09T20:13:02.735Z"
   },
   {
    "duration": 30,
    "start_time": "2022-05-09T20:13:11.590Z"
   },
   {
    "duration": 64,
    "start_time": "2022-05-09T20:13:23.659Z"
   },
   {
    "duration": 62,
    "start_time": "2022-05-09T20:13:33.576Z"
   },
   {
    "duration": 72,
    "start_time": "2022-05-09T20:13:55.789Z"
   },
   {
    "duration": 63,
    "start_time": "2022-05-09T20:14:18.908Z"
   },
   {
    "duration": 7,
    "start_time": "2022-05-09T20:14:27.788Z"
   },
   {
    "duration": 55,
    "start_time": "2022-05-09T20:14:36.255Z"
   },
   {
    "duration": 7,
    "start_time": "2022-05-09T20:16:41.542Z"
   },
   {
    "duration": 7,
    "start_time": "2022-05-09T20:24:35.765Z"
   },
   {
    "duration": 65,
    "start_time": "2022-05-09T20:33:03.819Z"
   },
   {
    "duration": 3,
    "start_time": "2022-05-09T20:33:19.013Z"
   },
   {
    "duration": 11,
    "start_time": "2022-05-09T20:37:38.124Z"
   },
   {
    "duration": 7,
    "start_time": "2022-05-09T20:37:59.233Z"
   },
   {
    "duration": 13,
    "start_time": "2022-05-09T20:51:11.353Z"
   },
   {
    "duration": 322,
    "start_time": "2022-05-09T20:53:12.455Z"
   },
   {
    "duration": 4,
    "start_time": "2022-05-09T20:55:00.499Z"
   },
   {
    "duration": 333,
    "start_time": "2022-05-09T20:58:00.210Z"
   },
   {
    "duration": 301,
    "start_time": "2022-05-09T20:58:26.856Z"
   },
   {
    "duration": 12,
    "start_time": "2022-05-09T21:15:54.370Z"
   },
   {
    "duration": 19,
    "start_time": "2022-05-09T21:16:20.042Z"
   },
   {
    "duration": 14,
    "start_time": "2022-05-09T21:19:00.714Z"
   },
   {
    "duration": 14,
    "start_time": "2022-05-09T21:20:17.922Z"
   },
   {
    "duration": 65,
    "start_time": "2022-05-09T22:13:15.423Z"
   },
   {
    "duration": 3,
    "start_time": "2022-05-09T22:13:36.574Z"
   },
   {
    "duration": 75,
    "start_time": "2022-05-09T22:15:38.567Z"
   },
   {
    "duration": 20,
    "start_time": "2022-05-09T22:15:58.370Z"
   },
   {
    "duration": 14,
    "start_time": "2022-05-09T22:16:57.856Z"
   },
   {
    "duration": 19,
    "start_time": "2022-05-09T22:18:12.895Z"
   },
   {
    "duration": 15,
    "start_time": "2022-05-09T22:18:42.980Z"
   },
   {
    "duration": 20,
    "start_time": "2022-05-09T22:19:30.357Z"
   },
   {
    "duration": 15,
    "start_time": "2022-05-09T22:19:56.708Z"
   },
   {
    "duration": 7,
    "start_time": "2022-05-09T22:31:02.071Z"
   },
   {
    "duration": 68,
    "start_time": "2022-05-09T22:34:08.704Z"
   },
   {
    "duration": 33,
    "start_time": "2022-05-09T22:34:20.928Z"
   },
   {
    "duration": 39,
    "start_time": "2022-05-09T22:35:39.515Z"
   },
   {
    "duration": 13,
    "start_time": "2022-05-09T22:35:56.792Z"
   },
   {
    "duration": 3,
    "start_time": "2022-05-09T22:43:23.028Z"
   },
   {
    "duration": 67,
    "start_time": "2022-05-09T22:46:01.172Z"
   },
   {
    "duration": 64,
    "start_time": "2022-05-09T22:46:25.499Z"
   },
   {
    "duration": 70,
    "start_time": "2022-05-09T22:47:27.122Z"
   },
   {
    "duration": 66,
    "start_time": "2022-05-09T22:48:16.913Z"
   },
   {
    "duration": 3,
    "start_time": "2022-05-09T22:48:57.156Z"
   },
   {
    "duration": 5,
    "start_time": "2022-05-09T23:08:20.207Z"
   },
   {
    "duration": 5,
    "start_time": "2022-05-09T23:08:22.319Z"
   },
   {
    "duration": 22,
    "start_time": "2022-05-09T23:10:57.195Z"
   },
   {
    "duration": 8,
    "start_time": "2022-05-09T23:12:34.681Z"
   },
   {
    "duration": 4,
    "start_time": "2022-05-09T23:13:05.767Z"
   },
   {
    "duration": 20,
    "start_time": "2022-05-09T23:13:07.666Z"
   },
   {
    "duration": 7,
    "start_time": "2022-05-09T23:13:29.246Z"
   },
   {
    "duration": 12,
    "start_time": "2022-05-09T23:13:58.329Z"
   },
   {
    "duration": 7,
    "start_time": "2022-05-09T23:14:02.202Z"
   },
   {
    "duration": 5,
    "start_time": "2022-05-09T23:14:25.493Z"
   },
   {
    "duration": 3,
    "start_time": "2022-05-09T23:14:30.144Z"
   },
   {
    "duration": 21,
    "start_time": "2022-05-09T23:14:32.205Z"
   },
   {
    "duration": 20,
    "start_time": "2022-05-09T23:15:00.308Z"
   },
   {
    "duration": 11,
    "start_time": "2022-05-09T23:15:10.066Z"
   },
   {
    "duration": 10,
    "start_time": "2022-05-09T23:15:11.912Z"
   },
   {
    "duration": 21,
    "start_time": "2022-05-09T23:15:14.304Z"
   },
   {
    "duration": 4,
    "start_time": "2022-05-09T23:19:28.509Z"
   },
   {
    "duration": 5,
    "start_time": "2022-05-09T23:19:34.510Z"
   },
   {
    "duration": 11,
    "start_time": "2022-05-09T23:22:43.050Z"
   },
   {
    "duration": 9,
    "start_time": "2022-05-09T23:22:44.475Z"
   },
   {
    "duration": 5,
    "start_time": "2022-05-09T23:22:46.275Z"
   },
   {
    "duration": 22,
    "start_time": "2022-05-09T23:22:48.897Z"
   },
   {
    "duration": 4,
    "start_time": "2022-05-09T23:26:50.855Z"
   },
   {
    "duration": 19,
    "start_time": "2022-05-09T23:26:52.923Z"
   },
   {
    "duration": 8,
    "start_time": "2022-05-09T23:34:22.772Z"
   },
   {
    "duration": 20,
    "start_time": "2022-05-09T23:34:26.047Z"
   },
   {
    "duration": 4,
    "start_time": "2022-05-09T23:36:03.867Z"
   },
   {
    "duration": 17,
    "start_time": "2022-05-09T23:36:05.950Z"
   },
   {
    "duration": 11,
    "start_time": "2022-05-09T23:36:55.503Z"
   },
   {
    "duration": 20,
    "start_time": "2022-05-09T23:38:11.945Z"
   },
   {
    "duration": 11,
    "start_time": "2022-05-09T23:39:02.838Z"
   },
   {
    "duration": 65,
    "start_time": "2022-05-09T23:44:00.243Z"
   },
   {
    "duration": 4,
    "start_time": "2022-05-09T23:44:14.440Z"
   },
   {
    "duration": 16,
    "start_time": "2022-05-09T23:44:17.346Z"
   },
   {
    "duration": 5,
    "start_time": "2022-05-09T23:44:46.650Z"
   },
   {
    "duration": 16,
    "start_time": "2022-05-09T23:44:48.918Z"
   },
   {
    "duration": 4,
    "start_time": "2022-05-09T23:45:48.866Z"
   },
   {
    "duration": 22,
    "start_time": "2022-05-09T23:45:50.903Z"
   },
   {
    "duration": 21,
    "start_time": "2022-05-09T23:46:58.138Z"
   },
   {
    "duration": 22,
    "start_time": "2022-05-09T23:46:59.591Z"
   },
   {
    "duration": 4,
    "start_time": "2022-05-09T23:47:07.181Z"
   },
   {
    "duration": 17,
    "start_time": "2022-05-09T23:47:08.748Z"
   },
   {
    "duration": 4,
    "start_time": "2022-05-09T23:48:42.822Z"
   },
   {
    "duration": 16,
    "start_time": "2022-05-09T23:48:44.796Z"
   },
   {
    "duration": 12,
    "start_time": "2022-05-09T23:48:50.569Z"
   },
   {
    "duration": 18,
    "start_time": "2022-05-09T23:48:53.593Z"
   },
   {
    "duration": 12,
    "start_time": "2022-05-09T23:48:58.808Z"
   },
   {
    "duration": 13,
    "start_time": "2022-05-09T23:58:16.242Z"
   },
   {
    "duration": 11,
    "start_time": "2022-05-09T23:58:46.043Z"
   },
   {
    "duration": 5,
    "start_time": "2022-05-09T23:59:26.184Z"
   },
   {
    "duration": 8,
    "start_time": "2022-05-10T00:02:14.408Z"
   },
   {
    "duration": 5,
    "start_time": "2022-05-10T00:02:15.995Z"
   },
   {
    "duration": 29,
    "start_time": "2022-05-10T00:08:42.958Z"
   },
   {
    "duration": 14,
    "start_time": "2022-05-10T00:09:40.968Z"
   },
   {
    "duration": 14,
    "start_time": "2022-05-10T00:09:58.152Z"
   },
   {
    "duration": 9,
    "start_time": "2022-05-10T00:10:27.770Z"
   },
   {
    "duration": 8,
    "start_time": "2022-05-10T00:10:58.162Z"
   },
   {
    "duration": 17,
    "start_time": "2022-05-10T00:11:06.885Z"
   },
   {
    "duration": 12,
    "start_time": "2022-05-10T00:11:20.455Z"
   },
   {
    "duration": 19,
    "start_time": "2022-05-10T00:11:34.398Z"
   },
   {
    "duration": 13,
    "start_time": "2022-05-10T00:11:47.132Z"
   },
   {
    "duration": 3,
    "start_time": "2022-05-10T00:12:18.224Z"
   },
   {
    "duration": 179,
    "start_time": "2022-05-10T00:12:18.238Z"
   },
   {
    "duration": 11,
    "start_time": "2022-05-10T00:12:18.419Z"
   },
   {
    "duration": 37,
    "start_time": "2022-05-10T00:12:18.432Z"
   },
   {
    "duration": 4,
    "start_time": "2022-05-10T00:12:18.472Z"
   },
   {
    "duration": 35,
    "start_time": "2022-05-10T00:12:18.479Z"
   },
   {
    "duration": 4,
    "start_time": "2022-05-10T00:12:18.516Z"
   },
   {
    "duration": 31,
    "start_time": "2022-05-10T00:12:18.522Z"
   },
   {
    "duration": 90,
    "start_time": "2022-05-10T00:12:18.555Z"
   },
   {
    "duration": 32,
    "start_time": "2022-05-10T00:12:18.647Z"
   },
   {
    "duration": 82,
    "start_time": "2022-05-10T00:12:18.681Z"
   },
   {
    "duration": 93,
    "start_time": "2022-05-10T00:12:18.765Z"
   },
   {
    "duration": 70,
    "start_time": "2022-05-10T00:12:18.860Z"
   },
   {
    "duration": 7,
    "start_time": "2022-05-10T00:12:18.932Z"
   },
   {
    "duration": 3,
    "start_time": "2022-05-10T00:12:18.944Z"
   },
   {
    "duration": 12,
    "start_time": "2022-05-10T00:12:18.949Z"
   },
   {
    "duration": 7,
    "start_time": "2022-05-10T00:12:18.963Z"
   },
   {
    "duration": 47,
    "start_time": "2022-05-10T00:12:18.972Z"
   },
   {
    "duration": 14,
    "start_time": "2022-05-10T00:12:19.021Z"
   },
   {
    "duration": 4,
    "start_time": "2022-05-10T00:12:19.037Z"
   },
   {
    "duration": 25,
    "start_time": "2022-05-10T00:12:19.043Z"
   },
   {
    "duration": 45,
    "start_time": "2022-05-10T00:12:19.070Z"
   },
   {
    "duration": 21,
    "start_time": "2022-05-10T00:12:19.118Z"
   },
   {
    "duration": 15,
    "start_time": "2022-05-10T00:12:19.141Z"
   },
   {
    "duration": 56,
    "start_time": "2022-05-10T00:12:19.159Z"
   },
   {
    "duration": 15,
    "start_time": "2022-05-10T00:12:19.217Z"
   },
   {
    "duration": 10,
    "start_time": "2022-05-10T00:12:19.234Z"
   },
   {
    "duration": 12,
    "start_time": "2022-05-10T00:12:19.246Z"
   },
   {
    "duration": 12,
    "start_time": "2022-05-10T00:12:19.260Z"
   },
   {
    "duration": 4,
    "start_time": "2022-05-10T00:12:19.307Z"
   },
   {
    "duration": 20,
    "start_time": "2022-05-10T00:12:19.313Z"
   },
   {
    "duration": 12,
    "start_time": "2022-05-10T00:12:19.336Z"
   },
   {
    "duration": 20,
    "start_time": "2022-05-10T00:12:19.351Z"
   },
   {
    "duration": 47,
    "start_time": "2022-05-10T00:12:19.373Z"
   },
   {
    "duration": 10,
    "start_time": "2022-05-10T00:12:19.421Z"
   },
   {
    "duration": 5,
    "start_time": "2022-05-10T00:12:19.432Z"
   },
   {
    "duration": 8,
    "start_time": "2022-05-10T00:12:19.438Z"
   },
   {
    "duration": 5,
    "start_time": "2022-05-10T00:12:19.447Z"
   },
   {
    "duration": 354,
    "start_time": "2022-05-10T14:18:31.321Z"
   },
   {
    "duration": 147,
    "start_time": "2022-05-10T14:18:31.677Z"
   },
   {
    "duration": 18,
    "start_time": "2022-05-10T14:18:31.825Z"
   },
   {
    "duration": 56,
    "start_time": "2022-05-10T14:18:31.845Z"
   },
   {
    "duration": 14,
    "start_time": "2022-05-10T14:18:31.903Z"
   },
   {
    "duration": 22,
    "start_time": "2022-05-10T14:18:31.919Z"
   },
   {
    "duration": 52,
    "start_time": "2022-05-10T14:18:31.943Z"
   },
   {
    "duration": 46,
    "start_time": "2022-05-10T14:18:31.997Z"
   },
   {
    "duration": 57,
    "start_time": "2022-05-10T14:18:32.045Z"
   },
   {
    "duration": 25,
    "start_time": "2022-05-10T14:18:32.104Z"
   },
   {
    "duration": 78,
    "start_time": "2022-05-10T14:18:32.131Z"
   },
   {
    "duration": 87,
    "start_time": "2022-05-10T14:18:32.211Z"
   },
   {
    "duration": 73,
    "start_time": "2022-05-10T14:18:32.300Z"
   },
   {
    "duration": 7,
    "start_time": "2022-05-10T14:18:32.375Z"
   },
   {
    "duration": 34,
    "start_time": "2022-05-10T14:18:32.384Z"
   },
   {
    "duration": 22,
    "start_time": "2022-05-10T14:18:32.420Z"
   },
   {
    "duration": 10,
    "start_time": "2022-05-10T14:18:32.444Z"
   },
   {
    "duration": 30,
    "start_time": "2022-05-10T14:18:32.456Z"
   },
   {
    "duration": 20,
    "start_time": "2022-05-10T14:18:32.488Z"
   },
   {
    "duration": 8,
    "start_time": "2022-05-10T14:18:32.509Z"
   },
   {
    "duration": 39,
    "start_time": "2022-05-10T14:18:32.518Z"
   },
   {
    "duration": 23,
    "start_time": "2022-05-10T14:18:32.558Z"
   },
   {
    "duration": 27,
    "start_time": "2022-05-10T14:18:32.585Z"
   },
   {
    "duration": 14,
    "start_time": "2022-05-10T14:18:32.614Z"
   },
   {
    "duration": 44,
    "start_time": "2022-05-10T14:18:32.630Z"
   },
   {
    "duration": 16,
    "start_time": "2022-05-10T14:18:32.676Z"
   },
   {
    "duration": 14,
    "start_time": "2022-05-10T14:18:32.694Z"
   },
   {
    "duration": 11,
    "start_time": "2022-05-10T14:18:32.713Z"
   },
   {
    "duration": 11,
    "start_time": "2022-05-10T14:18:32.726Z"
   },
   {
    "duration": 35,
    "start_time": "2022-05-10T14:18:32.739Z"
   },
   {
    "duration": 25,
    "start_time": "2022-05-10T14:18:32.775Z"
   },
   {
    "duration": 13,
    "start_time": "2022-05-10T14:18:32.802Z"
   },
   {
    "duration": 22,
    "start_time": "2022-05-10T14:18:32.817Z"
   },
   {
    "duration": 43,
    "start_time": "2022-05-10T14:18:32.841Z"
   },
   {
    "duration": 9,
    "start_time": "2022-05-10T14:18:32.886Z"
   },
   {
    "duration": 10,
    "start_time": "2022-05-10T14:18:32.897Z"
   },
   {
    "duration": 12,
    "start_time": "2022-05-10T14:18:32.908Z"
   },
   {
    "duration": 8,
    "start_time": "2022-05-10T14:18:32.922Z"
   },
   {
    "duration": 117,
    "start_time": "2022-05-10T14:27:41.668Z"
   },
   {
    "duration": 43,
    "start_time": "2022-05-10T22:19:15.442Z"
   },
   {
    "duration": 397,
    "start_time": "2022-05-10T22:19:38.291Z"
   },
   {
    "duration": 592,
    "start_time": "2022-05-10T22:19:38.690Z"
   },
   {
    "duration": 17,
    "start_time": "2022-05-10T22:19:39.284Z"
   },
   {
    "duration": 27,
    "start_time": "2022-05-10T22:19:39.303Z"
   },
   {
    "duration": 3,
    "start_time": "2022-05-10T22:19:39.331Z"
   },
   {
    "duration": 10,
    "start_time": "2022-05-10T22:19:39.336Z"
   },
   {
    "duration": 11,
    "start_time": "2022-05-10T22:19:39.348Z"
   },
   {
    "duration": 40,
    "start_time": "2022-05-10T22:19:39.361Z"
   },
   {
    "duration": 51,
    "start_time": "2022-05-10T22:19:39.402Z"
   },
   {
    "duration": 23,
    "start_time": "2022-05-10T22:19:39.455Z"
   },
   {
    "duration": 75,
    "start_time": "2022-05-10T22:19:39.479Z"
   },
   {
    "duration": 86,
    "start_time": "2022-05-10T22:19:39.556Z"
   },
   {
    "duration": 59,
    "start_time": "2022-05-10T22:19:39.643Z"
   },
   {
    "duration": 6,
    "start_time": "2022-05-10T22:19:39.703Z"
   },
   {
    "duration": 4,
    "start_time": "2022-05-10T22:19:39.710Z"
   },
   {
    "duration": 14,
    "start_time": "2022-05-10T22:19:39.716Z"
   },
   {
    "duration": 9,
    "start_time": "2022-05-10T22:19:39.731Z"
   },
   {
    "duration": 12,
    "start_time": "2022-05-10T22:19:39.741Z"
   },
   {
    "duration": 14,
    "start_time": "2022-05-10T22:19:39.754Z"
   },
   {
    "duration": 3,
    "start_time": "2022-05-10T22:19:39.769Z"
   },
   {
    "duration": 43,
    "start_time": "2022-05-10T22:19:39.774Z"
   },
   {
    "duration": 12,
    "start_time": "2022-05-10T22:19:39.819Z"
   },
   {
    "duration": 16,
    "start_time": "2022-05-10T22:19:39.833Z"
   },
   {
    "duration": 13,
    "start_time": "2022-05-10T22:19:39.851Z"
   },
   {
    "duration": 47,
    "start_time": "2022-05-10T22:19:39.865Z"
   },
   {
    "duration": 13,
    "start_time": "2022-05-10T22:19:39.914Z"
   },
   {
    "duration": 11,
    "start_time": "2022-05-10T22:19:39.928Z"
   },
   {
    "duration": 9,
    "start_time": "2022-05-10T22:19:39.942Z"
   },
   {
    "duration": 8,
    "start_time": "2022-05-10T22:19:39.953Z"
   },
   {
    "duration": 4,
    "start_time": "2022-05-10T22:19:39.962Z"
   },
   {
    "duration": 45,
    "start_time": "2022-05-10T22:19:39.967Z"
   },
   {
    "duration": 12,
    "start_time": "2022-05-10T22:19:40.013Z"
   },
   {
    "duration": 9,
    "start_time": "2022-05-10T22:19:40.026Z"
   },
   {
    "duration": 8,
    "start_time": "2022-05-10T22:19:40.037Z"
   },
   {
    "duration": 14,
    "start_time": "2022-05-10T22:19:40.047Z"
   },
   {
    "duration": 7,
    "start_time": "2022-05-10T22:19:40.062Z"
   },
   {
    "duration": 29,
    "start_time": "2022-05-10T22:19:40.071Z"
   },
   {
    "duration": 5,
    "start_time": "2022-05-10T22:19:40.101Z"
   },
   {
    "duration": 3,
    "start_time": "2022-05-10T22:20:23.026Z"
   },
   {
    "duration": 146,
    "start_time": "2022-05-10T22:20:23.034Z"
   },
   {
    "duration": 10,
    "start_time": "2022-05-10T22:20:23.181Z"
   },
   {
    "duration": 29,
    "start_time": "2022-05-10T22:20:23.192Z"
   },
   {
    "duration": 3,
    "start_time": "2022-05-10T22:20:23.223Z"
   },
   {
    "duration": 12,
    "start_time": "2022-05-10T22:20:23.228Z"
   },
   {
    "duration": 3,
    "start_time": "2022-05-10T22:20:23.242Z"
   },
   {
    "duration": 24,
    "start_time": "2022-05-10T22:20:23.247Z"
   },
   {
    "duration": 69,
    "start_time": "2022-05-10T22:20:23.273Z"
   },
   {
    "duration": 23,
    "start_time": "2022-05-10T22:20:23.343Z"
   },
   {
    "duration": 73,
    "start_time": "2022-05-10T22:20:23.368Z"
   },
   {
    "duration": 77,
    "start_time": "2022-05-10T22:20:23.443Z"
   },
   {
    "duration": 53,
    "start_time": "2022-05-10T22:20:23.522Z"
   },
   {
    "duration": 7,
    "start_time": "2022-05-10T22:20:23.577Z"
   },
   {
    "duration": 4,
    "start_time": "2022-05-10T22:20:23.599Z"
   },
   {
    "duration": 15,
    "start_time": "2022-05-10T22:20:23.605Z"
   },
   {
    "duration": 7,
    "start_time": "2022-05-10T22:20:23.621Z"
   },
   {
    "duration": 14,
    "start_time": "2022-05-10T22:20:23.630Z"
   },
   {
    "duration": 12,
    "start_time": "2022-05-10T22:20:23.646Z"
   },
   {
    "duration": 3,
    "start_time": "2022-05-10T22:20:23.660Z"
   },
   {
    "duration": 49,
    "start_time": "2022-05-10T22:20:23.665Z"
   },
   {
    "duration": 14,
    "start_time": "2022-05-10T22:20:23.716Z"
   },
   {
    "duration": 44,
    "start_time": "2022-05-10T22:20:23.731Z"
   },
   {
    "duration": 13,
    "start_time": "2022-05-10T22:20:23.776Z"
   },
   {
    "duration": 16,
    "start_time": "2022-05-10T22:20:23.790Z"
   },
   {
    "duration": 11,
    "start_time": "2022-05-10T22:20:23.808Z"
   },
   {
    "duration": 12,
    "start_time": "2022-05-10T22:20:23.821Z"
   },
   {
    "duration": 24,
    "start_time": "2022-05-10T22:20:23.834Z"
   },
   {
    "duration": 25,
    "start_time": "2022-05-10T22:20:23.859Z"
   },
   {
    "duration": 6,
    "start_time": "2022-05-10T22:20:23.886Z"
   },
   {
    "duration": 35,
    "start_time": "2022-05-10T22:20:23.893Z"
   },
   {
    "duration": 20,
    "start_time": "2022-05-10T22:20:23.930Z"
   },
   {
    "duration": 23,
    "start_time": "2022-05-10T22:20:23.951Z"
   },
   {
    "duration": 10,
    "start_time": "2022-05-10T22:20:23.975Z"
   },
   {
    "duration": 7,
    "start_time": "2022-05-10T22:20:23.987Z"
   },
   {
    "duration": 5,
    "start_time": "2022-05-10T22:20:23.996Z"
   },
   {
    "duration": 10,
    "start_time": "2022-05-10T22:20:24.002Z"
   },
   {
    "duration": 6,
    "start_time": "2022-05-10T22:20:24.014Z"
   },
   {
    "duration": 532,
    "start_time": "2022-05-10T23:15:51.644Z"
   },
   {
    "duration": 234,
    "start_time": "2022-05-10T23:15:52.179Z"
   },
   {
    "duration": 34,
    "start_time": "2022-05-10T23:15:52.416Z"
   },
   {
    "duration": 41,
    "start_time": "2022-05-10T23:15:52.453Z"
   },
   {
    "duration": 29,
    "start_time": "2022-05-10T23:15:52.496Z"
   },
   {
    "duration": 18,
    "start_time": "2022-05-10T23:15:52.529Z"
   },
   {
    "duration": 9,
    "start_time": "2022-05-10T23:15:52.549Z"
   },
   {
    "duration": 36,
    "start_time": "2022-05-10T23:15:52.560Z"
   },
   {
    "duration": 111,
    "start_time": "2022-05-10T23:15:52.629Z"
   },
   {
    "duration": 36,
    "start_time": "2022-05-10T23:15:52.744Z"
   },
   {
    "duration": 135,
    "start_time": "2022-05-10T23:15:52.782Z"
   },
   {
    "duration": 152,
    "start_time": "2022-05-10T23:15:52.919Z"
   },
   {
    "duration": 115,
    "start_time": "2022-05-10T23:15:53.074Z"
   },
   {
    "duration": 10,
    "start_time": "2022-05-10T23:15:53.191Z"
   },
   {
    "duration": 27,
    "start_time": "2022-05-10T23:15:53.204Z"
   },
   {
    "duration": 20,
    "start_time": "2022-05-10T23:15:53.235Z"
   },
   {
    "duration": 12,
    "start_time": "2022-05-10T23:15:53.257Z"
   },
   {
    "duration": 19,
    "start_time": "2022-05-10T23:15:53.272Z"
   },
   {
    "duration": 56,
    "start_time": "2022-05-10T23:15:53.293Z"
   },
   {
    "duration": 5,
    "start_time": "2022-05-10T23:15:53.351Z"
   },
   {
    "duration": 39,
    "start_time": "2022-05-10T23:15:53.359Z"
   },
   {
    "duration": 43,
    "start_time": "2022-05-10T23:15:53.401Z"
   },
   {
    "duration": 28,
    "start_time": "2022-05-10T23:15:53.446Z"
   },
   {
    "duration": 52,
    "start_time": "2022-05-10T23:15:53.476Z"
   },
   {
    "duration": 32,
    "start_time": "2022-05-10T23:15:53.532Z"
   },
   {
    "duration": 21,
    "start_time": "2022-05-10T23:15:53.566Z"
   },
   {
    "duration": 48,
    "start_time": "2022-05-10T23:15:53.590Z"
   },
   {
    "duration": 18,
    "start_time": "2022-05-10T23:15:53.645Z"
   },
   {
    "duration": 15,
    "start_time": "2022-05-10T23:15:53.665Z"
   },
   {
    "duration": 6,
    "start_time": "2022-05-10T23:15:53.682Z"
   },
   {
    "duration": 36,
    "start_time": "2022-05-10T23:15:53.725Z"
   },
   {
    "duration": 18,
    "start_time": "2022-05-10T23:15:53.763Z"
   },
   {
    "duration": 58,
    "start_time": "2022-05-10T23:15:53.783Z"
   },
   {
    "duration": 18,
    "start_time": "2022-05-10T23:15:53.843Z"
   },
   {
    "duration": 12,
    "start_time": "2022-05-10T23:15:53.863Z"
   },
   {
    "duration": 7,
    "start_time": "2022-05-10T23:15:53.877Z"
   },
   {
    "duration": 51,
    "start_time": "2022-05-10T23:15:53.887Z"
   },
   {
    "duration": 11,
    "start_time": "2022-05-10T23:15:53.940Z"
   }
  ],
  "colab": {
   "collapsed_sections": [
    "E0vqbgi9ay0H",
    "VUC88oWjTJw2"
   ],
   "name": "yandex_music_project.ipynb",
   "provenance": []
  },
  "kernelspec": {
   "display_name": "Python 3 (ipykernel)",
   "language": "python",
   "name": "python3"
  },
  "language_info": {
   "codemirror_mode": {
    "name": "ipython",
    "version": 3
   },
   "file_extension": ".py",
   "mimetype": "text/x-python",
   "name": "python",
   "nbconvert_exporter": "python",
   "pygments_lexer": "ipython3",
   "version": "3.9.12"
  },
  "toc": {
   "base_numbering": 1,
   "nav_menu": {},
   "number_sections": true,
   "sideBar": true,
   "skip_h1_title": true,
   "title_cell": "Table of Contents",
   "title_sidebar": "Contents",
   "toc_cell": false,
   "toc_position": {
    "height": "calc(100% - 180px)",
    "left": "10px",
    "top": "150px",
    "width": "366.4px"
   },
   "toc_section_display": true,
   "toc_window_display": true
  }
 },
 "nbformat": 4,
 "nbformat_minor": 1
}
