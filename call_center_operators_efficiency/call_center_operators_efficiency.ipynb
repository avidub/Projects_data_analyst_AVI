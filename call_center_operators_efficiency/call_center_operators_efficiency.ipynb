{
 "cells": [
  {
   "cell_type": "markdown",
   "metadata": {},
   "source": [
    "## Материалы"
   ]
  },
  {
   "cell_type": "markdown",
   "metadata": {},
   "source": [
    "Презентация: https://disk.yandex.com/i/NlDXq16o_zRvqQ"
   ]
  },
  {
   "cell_type": "markdown",
   "metadata": {},
   "source": [
    "## План проекта"
   ]
  },
  {
   "cell_type": "markdown",
   "metadata": {},
   "source": [
    "### Предобработка данных"
   ]
  },
  {
   "cell_type": "markdown",
   "metadata": {},
   "source": [
    "1. Открыть\n",
    "2. Проведем общий обзор датафреймов.\n",
    "3. Исследовать наличие дубликатов\n",
    "4. Разобраться с возможностью удаления/заполнения пропущенных полей в internal\n",
    "5. Исследовать столбец operator_id. На какие колл-центры приходятся пропущенные id (равномерно распределены или на один - два). По итогам принять решение об заполнении/удалении. Удаление отдельных строк? Или отдельных колл-центров (где нет заполенных операторов). Заполнение? По какому принципу?\n",
    "6. Исследовать столбец call count на наличие аномальных значений.\n",
    "7. Исследовать столбец total_call_duration на наличие аномальных значений.\n",
    "8. Распределение операторов по колл-центрам.\n",
    "9. Преобразовать данные в столбце date (нас интересуют только даты).\n",
    "10. За какой период у нас данные? По всем ли колл-центрам этот период одинаков.\n",
    "11. Исследовать корректность заполнения (наличие аномальных значений) в столбцах direction и internal. \n",
    "12. Проверить совпадение значений в столбцах user_id в обоих дата фреймах."
   ]
  },
  {
   "cell_type": "markdown",
   "metadata": {},
   "source": [
    "###  Поиск и формулирование критериев эффективности операторов. Исследовательский анализ данных."
   ]
  },
  {
   "cell_type": "markdown",
   "metadata": {},
   "source": [
    "1. Критерии эффективности (предложение).\n",
    "2. Исследование разницы в работе КЦ на разных тарифах.\n",
    "3. Исследование рабочего времени, которое операторы проводят за звонками (с разбивкой по тарифным группам).\n",
    "4. Исследование количества и доли пропущенных входящих звонков.\n",
    "5. Поиск операторов без пропущенных звонков.\n",
    "6. Исследование длительности ожидания клиентов.\n",
    "7. Сводный отчет по неэффективным операторам."
   ]
  },
  {
   "cell_type": "markdown",
   "metadata": {},
   "source": [
    "### Проверка гипотез"
   ]
  },
  {
   "cell_type": "markdown",
   "metadata": {},
   "source": [
    "1. Проверка гипотезы о равенстве среднего времени работы на телефоне для операторов тарифных групп А и В, В и С, А и В.\n",
    "2. Проверка гипотезы о равенстве среднего времени ожидания ответа неэффективных операторов для тарифных групп А и В, В и С, А и В.\n"
   ]
  },
  {
   "cell_type": "markdown",
   "metadata": {},
   "source": [
    "### Подготовка выводов"
   ]
  },
  {
   "cell_type": "markdown",
   "metadata": {},
   "source": [
    "1. Критерии оценки эффективности операторов\n",
    "2. Количество эффективных-неэффективных операторов по колл-центрам\n",
    "3. Сформулировать сильные и слабые стороны предложенного подхода\n",
    "4. Сформулировать ЦА для потенциального программного продукта\n",
    "5. Рекомендации по целесообразности разработки"
   ]
  },
  {
   "cell_type": "markdown",
   "metadata": {},
   "source": [
    "## Выполнение задач проекта"
   ]
  },
  {
   "cell_type": "markdown",
   "metadata": {},
   "source": [
    "### Предобработка данных"
   ]
  },
  {
   "cell_type": "markdown",
   "metadata": {},
   "source": [
    "Загрузка необходимых библиотек"
   ]
  },
  {
   "cell_type": "code",
   "execution_count": 1,
   "metadata": {},
   "outputs": [],
   "source": [
    "import pandas as pd\n",
    "import seaborn as sns\n",
    "import numpy as np\n",
    "import datetime as dt\n",
    "from matplotlib import pyplot as plt\n",
    "from scipy import stats as st\n",
    "import datetime as dt\n",
    "from plotly import graph_objects as go\n",
    "import math as mth\n"
   ]
  },
  {
   "cell_type": "markdown",
   "metadata": {},
   "source": [
    "#### Открытие датафреймов"
   ]
  },
  {
   "cell_type": "code",
   "execution_count": 2,
   "metadata": {},
   "outputs": [],
   "source": [
    "try:\n",
    "    path = ''\n",
    "    data_ds = pd.read_csv(path + '')\n",
    "except:\n",
    "    print (\"Какая то ошибка\")"
   ]
  },
  {
   "cell_type": "code",
   "execution_count": 3,
   "metadata": {},
   "outputs": [],
   "source": [
    "try:\n",
    "    path = ''\n",
    "    data_cl = pd.read_csv(path + '')\n",
    "except:\n",
    "    print (\"Какая то ошибка\")"
   ]
  },
  {
   "cell_type": "markdown",
   "metadata": {},
   "source": [
    "#### Обзор датафреймов"
   ]
  },
  {
   "cell_type": "code",
   "execution_count": 4,
   "metadata": {},
   "outputs": [
    {
     "name": "stdout",
     "output_type": "stream",
     "text": [
      "<class 'pandas.core.frame.DataFrame'>\n",
      "RangeIndex: 53902 entries, 0 to 53901\n",
      "Data columns (total 9 columns):\n",
      " #   Column               Non-Null Count  Dtype  \n",
      "---  ------               --------------  -----  \n",
      " 0   user_id              53902 non-null  int64  \n",
      " 1   date                 53902 non-null  object \n",
      " 2   direction            53902 non-null  object \n",
      " 3   internal             53785 non-null  object \n",
      " 4   operator_id          45730 non-null  float64\n",
      " 5   is_missed_call       53902 non-null  bool   \n",
      " 6   calls_count          53902 non-null  int64  \n",
      " 7   call_duration        53902 non-null  int64  \n",
      " 8   total_call_duration  53902 non-null  int64  \n",
      "dtypes: bool(1), float64(1), int64(4), object(3)\n",
      "memory usage: 3.3+ MB\n"
     ]
    },
    {
     "data": {
      "text/html": [
       "<div>\n",
       "<style scoped>\n",
       "    .dataframe tbody tr th:only-of-type {\n",
       "        vertical-align: middle;\n",
       "    }\n",
       "\n",
       "    .dataframe tbody tr th {\n",
       "        vertical-align: top;\n",
       "    }\n",
       "\n",
       "    .dataframe thead th {\n",
       "        text-align: right;\n",
       "    }\n",
       "</style>\n",
       "<table border=\"1\" class=\"dataframe\">\n",
       "  <thead>\n",
       "    <tr style=\"text-align: right;\">\n",
       "      <th></th>\n",
       "      <th>user_id</th>\n",
       "      <th>date</th>\n",
       "      <th>direction</th>\n",
       "      <th>internal</th>\n",
       "      <th>operator_id</th>\n",
       "      <th>is_missed_call</th>\n",
       "      <th>calls_count</th>\n",
       "      <th>call_duration</th>\n",
       "      <th>total_call_duration</th>\n",
       "    </tr>\n",
       "  </thead>\n",
       "  <tbody>\n",
       "    <tr>\n",
       "      <th>0</th>\n",
       "      <td>166377</td>\n",
       "      <td>2019-08-04 00:00:00+03:00</td>\n",
       "      <td>in</td>\n",
       "      <td>False</td>\n",
       "      <td>NaN</td>\n",
       "      <td>True</td>\n",
       "      <td>2</td>\n",
       "      <td>0</td>\n",
       "      <td>4</td>\n",
       "    </tr>\n",
       "    <tr>\n",
       "      <th>1</th>\n",
       "      <td>166377</td>\n",
       "      <td>2019-08-05 00:00:00+03:00</td>\n",
       "      <td>out</td>\n",
       "      <td>True</td>\n",
       "      <td>880022.0</td>\n",
       "      <td>True</td>\n",
       "      <td>3</td>\n",
       "      <td>0</td>\n",
       "      <td>5</td>\n",
       "    </tr>\n",
       "    <tr>\n",
       "      <th>2</th>\n",
       "      <td>166377</td>\n",
       "      <td>2019-08-05 00:00:00+03:00</td>\n",
       "      <td>out</td>\n",
       "      <td>True</td>\n",
       "      <td>880020.0</td>\n",
       "      <td>True</td>\n",
       "      <td>1</td>\n",
       "      <td>0</td>\n",
       "      <td>1</td>\n",
       "    </tr>\n",
       "    <tr>\n",
       "      <th>3</th>\n",
       "      <td>166377</td>\n",
       "      <td>2019-08-05 00:00:00+03:00</td>\n",
       "      <td>out</td>\n",
       "      <td>True</td>\n",
       "      <td>880020.0</td>\n",
       "      <td>False</td>\n",
       "      <td>1</td>\n",
       "      <td>10</td>\n",
       "      <td>18</td>\n",
       "    </tr>\n",
       "    <tr>\n",
       "      <th>4</th>\n",
       "      <td>166377</td>\n",
       "      <td>2019-08-05 00:00:00+03:00</td>\n",
       "      <td>out</td>\n",
       "      <td>False</td>\n",
       "      <td>880022.0</td>\n",
       "      <td>True</td>\n",
       "      <td>3</td>\n",
       "      <td>0</td>\n",
       "      <td>25</td>\n",
       "    </tr>\n",
       "    <tr>\n",
       "      <th>5</th>\n",
       "      <td>166377</td>\n",
       "      <td>2019-08-05 00:00:00+03:00</td>\n",
       "      <td>out</td>\n",
       "      <td>False</td>\n",
       "      <td>880020.0</td>\n",
       "      <td>False</td>\n",
       "      <td>2</td>\n",
       "      <td>3</td>\n",
       "      <td>29</td>\n",
       "    </tr>\n",
       "    <tr>\n",
       "      <th>6</th>\n",
       "      <td>166377</td>\n",
       "      <td>2019-08-05 00:00:00+03:00</td>\n",
       "      <td>out</td>\n",
       "      <td>False</td>\n",
       "      <td>880020.0</td>\n",
       "      <td>True</td>\n",
       "      <td>8</td>\n",
       "      <td>0</td>\n",
       "      <td>50</td>\n",
       "    </tr>\n",
       "    <tr>\n",
       "      <th>7</th>\n",
       "      <td>166377</td>\n",
       "      <td>2019-08-05 00:00:00+03:00</td>\n",
       "      <td>in</td>\n",
       "      <td>False</td>\n",
       "      <td>NaN</td>\n",
       "      <td>True</td>\n",
       "      <td>6</td>\n",
       "      <td>0</td>\n",
       "      <td>35</td>\n",
       "    </tr>\n",
       "    <tr>\n",
       "      <th>8</th>\n",
       "      <td>166377</td>\n",
       "      <td>2019-08-05 00:00:00+03:00</td>\n",
       "      <td>out</td>\n",
       "      <td>False</td>\n",
       "      <td>880020.0</td>\n",
       "      <td>True</td>\n",
       "      <td>8</td>\n",
       "      <td>0</td>\n",
       "      <td>50</td>\n",
       "    </tr>\n",
       "    <tr>\n",
       "      <th>9</th>\n",
       "      <td>166377</td>\n",
       "      <td>2019-08-06 00:00:00+03:00</td>\n",
       "      <td>in</td>\n",
       "      <td>False</td>\n",
       "      <td>NaN</td>\n",
       "      <td>True</td>\n",
       "      <td>4</td>\n",
       "      <td>0</td>\n",
       "      <td>62</td>\n",
       "    </tr>\n",
       "  </tbody>\n",
       "</table>\n",
       "</div>"
      ],
      "text/plain": [
       "   user_id                       date direction internal  operator_id  \\\n",
       "0   166377  2019-08-04 00:00:00+03:00        in    False          NaN   \n",
       "1   166377  2019-08-05 00:00:00+03:00       out     True     880022.0   \n",
       "2   166377  2019-08-05 00:00:00+03:00       out     True     880020.0   \n",
       "3   166377  2019-08-05 00:00:00+03:00       out     True     880020.0   \n",
       "4   166377  2019-08-05 00:00:00+03:00       out    False     880022.0   \n",
       "5   166377  2019-08-05 00:00:00+03:00       out    False     880020.0   \n",
       "6   166377  2019-08-05 00:00:00+03:00       out    False     880020.0   \n",
       "7   166377  2019-08-05 00:00:00+03:00        in    False          NaN   \n",
       "8   166377  2019-08-05 00:00:00+03:00       out    False     880020.0   \n",
       "9   166377  2019-08-06 00:00:00+03:00        in    False          NaN   \n",
       "\n",
       "   is_missed_call  calls_count  call_duration  total_call_duration  \n",
       "0            True            2              0                    4  \n",
       "1            True            3              0                    5  \n",
       "2            True            1              0                    1  \n",
       "3           False            1             10                   18  \n",
       "4            True            3              0                   25  \n",
       "5           False            2              3                   29  \n",
       "6            True            8              0                   50  \n",
       "7            True            6              0                   35  \n",
       "8            True            8              0                   50  \n",
       "9            True            4              0                   62  "
      ]
     },
     "metadata": {},
     "output_type": "display_data"
    },
    {
     "data": {
      "text/html": [
       "<div>\n",
       "<style scoped>\n",
       "    .dataframe tbody tr th:only-of-type {\n",
       "        vertical-align: middle;\n",
       "    }\n",
       "\n",
       "    .dataframe tbody tr th {\n",
       "        vertical-align: top;\n",
       "    }\n",
       "\n",
       "    .dataframe thead th {\n",
       "        text-align: right;\n",
       "    }\n",
       "</style>\n",
       "<table border=\"1\" class=\"dataframe\">\n",
       "  <thead>\n",
       "    <tr style=\"text-align: right;\">\n",
       "      <th></th>\n",
       "      <th>user_id</th>\n",
       "      <th>operator_id</th>\n",
       "      <th>calls_count</th>\n",
       "      <th>call_duration</th>\n",
       "      <th>total_call_duration</th>\n",
       "    </tr>\n",
       "  </thead>\n",
       "  <tbody>\n",
       "    <tr>\n",
       "      <th>count</th>\n",
       "      <td>53902.000000</td>\n",
       "      <td>45730.000000</td>\n",
       "      <td>53902.000000</td>\n",
       "      <td>53902.000000</td>\n",
       "      <td>53902.000000</td>\n",
       "    </tr>\n",
       "    <tr>\n",
       "      <th>mean</th>\n",
       "      <td>167295.344477</td>\n",
       "      <td>916535.993002</td>\n",
       "      <td>16.451245</td>\n",
       "      <td>866.684427</td>\n",
       "      <td>1157.133297</td>\n",
       "    </tr>\n",
       "    <tr>\n",
       "      <th>std</th>\n",
       "      <td>598.883775</td>\n",
       "      <td>21254.123136</td>\n",
       "      <td>62.917170</td>\n",
       "      <td>3731.791202</td>\n",
       "      <td>4403.468763</td>\n",
       "    </tr>\n",
       "    <tr>\n",
       "      <th>min</th>\n",
       "      <td>166377.000000</td>\n",
       "      <td>879896.000000</td>\n",
       "      <td>1.000000</td>\n",
       "      <td>0.000000</td>\n",
       "      <td>0.000000</td>\n",
       "    </tr>\n",
       "    <tr>\n",
       "      <th>25%</th>\n",
       "      <td>166782.000000</td>\n",
       "      <td>900788.000000</td>\n",
       "      <td>1.000000</td>\n",
       "      <td>0.000000</td>\n",
       "      <td>47.000000</td>\n",
       "    </tr>\n",
       "    <tr>\n",
       "      <th>50%</th>\n",
       "      <td>167162.000000</td>\n",
       "      <td>913938.000000</td>\n",
       "      <td>4.000000</td>\n",
       "      <td>38.000000</td>\n",
       "      <td>210.000000</td>\n",
       "    </tr>\n",
       "    <tr>\n",
       "      <th>75%</th>\n",
       "      <td>167819.000000</td>\n",
       "      <td>937708.000000</td>\n",
       "      <td>12.000000</td>\n",
       "      <td>572.000000</td>\n",
       "      <td>902.000000</td>\n",
       "    </tr>\n",
       "    <tr>\n",
       "      <th>max</th>\n",
       "      <td>168606.000000</td>\n",
       "      <td>973286.000000</td>\n",
       "      <td>4817.000000</td>\n",
       "      <td>144395.000000</td>\n",
       "      <td>166155.000000</td>\n",
       "    </tr>\n",
       "  </tbody>\n",
       "</table>\n",
       "</div>"
      ],
      "text/plain": [
       "             user_id    operator_id   calls_count  call_duration  \\\n",
       "count   53902.000000   45730.000000  53902.000000   53902.000000   \n",
       "mean   167295.344477  916535.993002     16.451245     866.684427   \n",
       "std       598.883775   21254.123136     62.917170    3731.791202   \n",
       "min    166377.000000  879896.000000      1.000000       0.000000   \n",
       "25%    166782.000000  900788.000000      1.000000       0.000000   \n",
       "50%    167162.000000  913938.000000      4.000000      38.000000   \n",
       "75%    167819.000000  937708.000000     12.000000     572.000000   \n",
       "max    168606.000000  973286.000000   4817.000000  144395.000000   \n",
       "\n",
       "       total_call_duration  \n",
       "count         53902.000000  \n",
       "mean           1157.133297  \n",
       "std            4403.468763  \n",
       "min               0.000000  \n",
       "25%              47.000000  \n",
       "50%             210.000000  \n",
       "75%             902.000000  \n",
       "max          166155.000000  "
      ]
     },
     "execution_count": 4,
     "metadata": {},
     "output_type": "execute_result"
    }
   ],
   "source": [
    "data_ds.info()\n",
    "display(data_ds.head(10))\n",
    "data_ds.describe()"
   ]
  },
  {
   "cell_type": "markdown",
   "metadata": {},
   "source": [
    "Обзор файлов выделяет следующие вопросы:\n",
    "1. В столбце internal отсутствуют часть значений. Поскольку их всего 117 из 53902 (чуть более 0,02%, то строки с этими значениями можно удалить).\n",
    "2. В столбце operator_id отсутствуют часть значений (8172 из 53902). Это довольно много - 15,2%. Но цель нашего исследования - эффективность операторов. Поэтому их надо идентифицировать. Но заполнение средним или медианным значением нам может не подойти. Мы даже не можем сказать по скольки операторам реально эти данные. Значит, приемлемый метод в данном случае все же удаление. Однако, прежде чем принять окончательное решение, посмотрим относятся ли эти данные ко всем КЦ, к одному, или к нескольким.\n",
    "3. Вызывают вопросы также и максимальные значения в столбцах calls_count, call_duration, total_call_duration. Предполагаю, что это следствие наличия значений NaN в operator_id\n",
    "4. Ну и вопрос к типу переменной в столбце operator_id. Он не должен быть вещественным. И скорее всего это тоже следствие наличия NaN.\n",
    "5. Также нужно обратить внимание на то, что из столбца date нам нужна только информация о дате (время не меняется, т.е. мы имеем дело с информацией за день)."
   ]
  },
  {
   "cell_type": "code",
   "execution_count": 5,
   "metadata": {},
   "outputs": [
    {
     "name": "stdout",
     "output_type": "stream",
     "text": [
      "<class 'pandas.core.frame.DataFrame'>\n",
      "RangeIndex: 732 entries, 0 to 731\n",
      "Data columns (total 3 columns):\n",
      " #   Column       Non-Null Count  Dtype \n",
      "---  ------       --------------  ----- \n",
      " 0   user_id      732 non-null    int64 \n",
      " 1   tariff_plan  732 non-null    object\n",
      " 2   date_start   732 non-null    object\n",
      "dtypes: int64(1), object(2)\n",
      "memory usage: 17.3+ KB\n"
     ]
    },
    {
     "data": {
      "text/html": [
       "<div>\n",
       "<style scoped>\n",
       "    .dataframe tbody tr th:only-of-type {\n",
       "        vertical-align: middle;\n",
       "    }\n",
       "\n",
       "    .dataframe tbody tr th {\n",
       "        vertical-align: top;\n",
       "    }\n",
       "\n",
       "    .dataframe thead th {\n",
       "        text-align: right;\n",
       "    }\n",
       "</style>\n",
       "<table border=\"1\" class=\"dataframe\">\n",
       "  <thead>\n",
       "    <tr style=\"text-align: right;\">\n",
       "      <th></th>\n",
       "      <th>user_id</th>\n",
       "      <th>tariff_plan</th>\n",
       "      <th>date_start</th>\n",
       "    </tr>\n",
       "  </thead>\n",
       "  <tbody>\n",
       "    <tr>\n",
       "      <th>0</th>\n",
       "      <td>166713</td>\n",
       "      <td>A</td>\n",
       "      <td>2019-08-15</td>\n",
       "    </tr>\n",
       "    <tr>\n",
       "      <th>1</th>\n",
       "      <td>166901</td>\n",
       "      <td>A</td>\n",
       "      <td>2019-08-23</td>\n",
       "    </tr>\n",
       "    <tr>\n",
       "      <th>2</th>\n",
       "      <td>168527</td>\n",
       "      <td>A</td>\n",
       "      <td>2019-10-29</td>\n",
       "    </tr>\n",
       "    <tr>\n",
       "      <th>3</th>\n",
       "      <td>167097</td>\n",
       "      <td>A</td>\n",
       "      <td>2019-09-01</td>\n",
       "    </tr>\n",
       "    <tr>\n",
       "      <th>4</th>\n",
       "      <td>168193</td>\n",
       "      <td>A</td>\n",
       "      <td>2019-10-16</td>\n",
       "    </tr>\n",
       "  </tbody>\n",
       "</table>\n",
       "</div>"
      ],
      "text/plain": [
       "   user_id tariff_plan  date_start\n",
       "0   166713           A  2019-08-15\n",
       "1   166901           A  2019-08-23\n",
       "2   168527           A  2019-10-29\n",
       "3   167097           A  2019-09-01\n",
       "4   168193           A  2019-10-16"
      ]
     },
     "metadata": {},
     "output_type": "display_data"
    }
   ],
   "source": [
    "data_cl.info()\n",
    "display(data_cl.head())\n"
   ]
  },
  {
   "cell_type": "markdown",
   "metadata": {},
   "source": [
    "Определим, а по скольким КЦ из 732 у нас есть данные. Видим, что у нас есть данные по 307 КЦ."
   ]
  },
  {
   "cell_type": "code",
   "execution_count": 6,
   "metadata": {},
   "outputs": [
    {
     "name": "stdout",
     "output_type": "stream",
     "text": [
      "<class 'pandas.core.frame.DataFrame'>\n",
      "Int64Index: 307 entries, 0 to 306\n",
      "Data columns (total 2 columns):\n",
      " #   Column   Non-Null Count  Dtype\n",
      "---  ------   --------------  -----\n",
      " 0   user_id  307 non-null    int64\n",
      " 1   date     307 non-null    int64\n",
      "dtypes: int64(2)\n",
      "memory usage: 7.2 KB\n"
     ]
    }
   ],
   "source": [
    "data_us=data_ds.groupby(['user_id'], as_index = False).agg({'date': 'count'})\n",
    "data_us.info()"
   ]
  },
  {
   "cell_type": "markdown",
   "metadata": {},
   "source": [
    "#### Проверка наличия и удаление дубликатов."
   ]
  },
  {
   "cell_type": "code",
   "execution_count": 7,
   "metadata": {},
   "outputs": [
    {
     "name": "stdout",
     "output_type": "stream",
     "text": [
      "Дубликатов в таблице data_ds: 4900\n"
     ]
    }
   ],
   "source": [
    "print ('Дубликатов в таблице data_ds:', data_ds.duplicated().sum())"
   ]
  },
  {
   "cell_type": "markdown",
   "metadata": {},
   "source": [
    "Видим, что дубликатов много. Их мы удалим, и после этого посмотрим на таблицу заново. Что изменилось."
   ]
  },
  {
   "cell_type": "code",
   "execution_count": 8,
   "metadata": {},
   "outputs": [
    {
     "name": "stdout",
     "output_type": "stream",
     "text": [
      "<class 'pandas.core.frame.DataFrame'>\n",
      "RangeIndex: 49002 entries, 0 to 49001\n",
      "Data columns (total 9 columns):\n",
      " #   Column               Non-Null Count  Dtype  \n",
      "---  ------               --------------  -----  \n",
      " 0   user_id              49002 non-null  int64  \n",
      " 1   date                 49002 non-null  object \n",
      " 2   direction            49002 non-null  object \n",
      " 3   internal             48892 non-null  object \n",
      " 4   operator_id          41546 non-null  float64\n",
      " 5   is_missed_call       49002 non-null  bool   \n",
      " 6   calls_count          49002 non-null  int64  \n",
      " 7   call_duration        49002 non-null  int64  \n",
      " 8   total_call_duration  49002 non-null  int64  \n",
      "dtypes: bool(1), float64(1), int64(4), object(3)\n",
      "memory usage: 3.0+ MB\n"
     ]
    },
    {
     "data": {
      "text/html": [
       "<div>\n",
       "<style scoped>\n",
       "    .dataframe tbody tr th:only-of-type {\n",
       "        vertical-align: middle;\n",
       "    }\n",
       "\n",
       "    .dataframe tbody tr th {\n",
       "        vertical-align: top;\n",
       "    }\n",
       "\n",
       "    .dataframe thead th {\n",
       "        text-align: right;\n",
       "    }\n",
       "</style>\n",
       "<table border=\"1\" class=\"dataframe\">\n",
       "  <thead>\n",
       "    <tr style=\"text-align: right;\">\n",
       "      <th></th>\n",
       "      <th>user_id</th>\n",
       "      <th>date</th>\n",
       "      <th>direction</th>\n",
       "      <th>internal</th>\n",
       "      <th>operator_id</th>\n",
       "      <th>is_missed_call</th>\n",
       "      <th>calls_count</th>\n",
       "      <th>call_duration</th>\n",
       "      <th>total_call_duration</th>\n",
       "    </tr>\n",
       "  </thead>\n",
       "  <tbody>\n",
       "    <tr>\n",
       "      <th>0</th>\n",
       "      <td>166377</td>\n",
       "      <td>2019-08-04 00:00:00+03:00</td>\n",
       "      <td>in</td>\n",
       "      <td>False</td>\n",
       "      <td>NaN</td>\n",
       "      <td>True</td>\n",
       "      <td>2</td>\n",
       "      <td>0</td>\n",
       "      <td>4</td>\n",
       "    </tr>\n",
       "    <tr>\n",
       "      <th>1</th>\n",
       "      <td>166377</td>\n",
       "      <td>2019-08-05 00:00:00+03:00</td>\n",
       "      <td>out</td>\n",
       "      <td>True</td>\n",
       "      <td>880022.0</td>\n",
       "      <td>True</td>\n",
       "      <td>3</td>\n",
       "      <td>0</td>\n",
       "      <td>5</td>\n",
       "    </tr>\n",
       "    <tr>\n",
       "      <th>2</th>\n",
       "      <td>166377</td>\n",
       "      <td>2019-08-05 00:00:00+03:00</td>\n",
       "      <td>out</td>\n",
       "      <td>True</td>\n",
       "      <td>880020.0</td>\n",
       "      <td>True</td>\n",
       "      <td>1</td>\n",
       "      <td>0</td>\n",
       "      <td>1</td>\n",
       "    </tr>\n",
       "    <tr>\n",
       "      <th>3</th>\n",
       "      <td>166377</td>\n",
       "      <td>2019-08-05 00:00:00+03:00</td>\n",
       "      <td>out</td>\n",
       "      <td>True</td>\n",
       "      <td>880020.0</td>\n",
       "      <td>False</td>\n",
       "      <td>1</td>\n",
       "      <td>10</td>\n",
       "      <td>18</td>\n",
       "    </tr>\n",
       "    <tr>\n",
       "      <th>4</th>\n",
       "      <td>166377</td>\n",
       "      <td>2019-08-05 00:00:00+03:00</td>\n",
       "      <td>out</td>\n",
       "      <td>False</td>\n",
       "      <td>880022.0</td>\n",
       "      <td>True</td>\n",
       "      <td>3</td>\n",
       "      <td>0</td>\n",
       "      <td>25</td>\n",
       "    </tr>\n",
       "    <tr>\n",
       "      <th>5</th>\n",
       "      <td>166377</td>\n",
       "      <td>2019-08-05 00:00:00+03:00</td>\n",
       "      <td>out</td>\n",
       "      <td>False</td>\n",
       "      <td>880020.0</td>\n",
       "      <td>False</td>\n",
       "      <td>2</td>\n",
       "      <td>3</td>\n",
       "      <td>29</td>\n",
       "    </tr>\n",
       "    <tr>\n",
       "      <th>6</th>\n",
       "      <td>166377</td>\n",
       "      <td>2019-08-05 00:00:00+03:00</td>\n",
       "      <td>out</td>\n",
       "      <td>False</td>\n",
       "      <td>880020.0</td>\n",
       "      <td>True</td>\n",
       "      <td>8</td>\n",
       "      <td>0</td>\n",
       "      <td>50</td>\n",
       "    </tr>\n",
       "    <tr>\n",
       "      <th>7</th>\n",
       "      <td>166377</td>\n",
       "      <td>2019-08-05 00:00:00+03:00</td>\n",
       "      <td>in</td>\n",
       "      <td>False</td>\n",
       "      <td>NaN</td>\n",
       "      <td>True</td>\n",
       "      <td>6</td>\n",
       "      <td>0</td>\n",
       "      <td>35</td>\n",
       "    </tr>\n",
       "    <tr>\n",
       "      <th>8</th>\n",
       "      <td>166377</td>\n",
       "      <td>2019-08-06 00:00:00+03:00</td>\n",
       "      <td>in</td>\n",
       "      <td>False</td>\n",
       "      <td>NaN</td>\n",
       "      <td>True</td>\n",
       "      <td>4</td>\n",
       "      <td>0</td>\n",
       "      <td>62</td>\n",
       "    </tr>\n",
       "    <tr>\n",
       "      <th>9</th>\n",
       "      <td>166377</td>\n",
       "      <td>2019-08-06 00:00:00+03:00</td>\n",
       "      <td>out</td>\n",
       "      <td>False</td>\n",
       "      <td>881278.0</td>\n",
       "      <td>True</td>\n",
       "      <td>3</td>\n",
       "      <td>0</td>\n",
       "      <td>29</td>\n",
       "    </tr>\n",
       "  </tbody>\n",
       "</table>\n",
       "</div>"
      ],
      "text/plain": [
       "   user_id                       date direction internal  operator_id  \\\n",
       "0   166377  2019-08-04 00:00:00+03:00        in    False          NaN   \n",
       "1   166377  2019-08-05 00:00:00+03:00       out     True     880022.0   \n",
       "2   166377  2019-08-05 00:00:00+03:00       out     True     880020.0   \n",
       "3   166377  2019-08-05 00:00:00+03:00       out     True     880020.0   \n",
       "4   166377  2019-08-05 00:00:00+03:00       out    False     880022.0   \n",
       "5   166377  2019-08-05 00:00:00+03:00       out    False     880020.0   \n",
       "6   166377  2019-08-05 00:00:00+03:00       out    False     880020.0   \n",
       "7   166377  2019-08-05 00:00:00+03:00        in    False          NaN   \n",
       "8   166377  2019-08-06 00:00:00+03:00        in    False          NaN   \n",
       "9   166377  2019-08-06 00:00:00+03:00       out    False     881278.0   \n",
       "\n",
       "   is_missed_call  calls_count  call_duration  total_call_duration  \n",
       "0            True            2              0                    4  \n",
       "1            True            3              0                    5  \n",
       "2            True            1              0                    1  \n",
       "3           False            1             10                   18  \n",
       "4            True            3              0                   25  \n",
       "5           False            2              3                   29  \n",
       "6            True            8              0                   50  \n",
       "7            True            6              0                   35  \n",
       "8            True            4              0                   62  \n",
       "9            True            3              0                   29  "
      ]
     },
     "metadata": {},
     "output_type": "display_data"
    }
   ],
   "source": [
    "data_ds = data_ds.drop_duplicates()\n",
    "data_ds.reset_index(drop=True, inplace=True)\n",
    "data_ds.info()\n",
    "display(data_ds.head(10))"
   ]
  },
  {
   "cell_type": "code",
   "execution_count": 9,
   "metadata": {
    "scrolled": true
   },
   "outputs": [
    {
     "data": {
      "text/html": [
       "<div>\n",
       "<style scoped>\n",
       "    .dataframe tbody tr th:only-of-type {\n",
       "        vertical-align: middle;\n",
       "    }\n",
       "\n",
       "    .dataframe tbody tr th {\n",
       "        vertical-align: top;\n",
       "    }\n",
       "\n",
       "    .dataframe thead th {\n",
       "        text-align: right;\n",
       "    }\n",
       "</style>\n",
       "<table border=\"1\" class=\"dataframe\">\n",
       "  <thead>\n",
       "    <tr style=\"text-align: right;\">\n",
       "      <th></th>\n",
       "      <th>user_id</th>\n",
       "      <th>operator_id</th>\n",
       "      <th>calls_count</th>\n",
       "      <th>call_duration</th>\n",
       "      <th>total_call_duration</th>\n",
       "    </tr>\n",
       "  </thead>\n",
       "  <tbody>\n",
       "    <tr>\n",
       "      <th>count</th>\n",
       "      <td>49002.000000</td>\n",
       "      <td>41546.000000</td>\n",
       "      <td>49002.000000</td>\n",
       "      <td>49002.000000</td>\n",
       "      <td>49002.000000</td>\n",
       "    </tr>\n",
       "    <tr>\n",
       "      <th>mean</th>\n",
       "      <td>167294.892759</td>\n",
       "      <td>916523.315409</td>\n",
       "      <td>16.462777</td>\n",
       "      <td>866.282091</td>\n",
       "      <td>1156.558202</td>\n",
       "    </tr>\n",
       "    <tr>\n",
       "      <th>std</th>\n",
       "      <td>598.558965</td>\n",
       "      <td>21230.041008</td>\n",
       "      <td>63.604098</td>\n",
       "      <td>3775.503352</td>\n",
       "      <td>4451.473661</td>\n",
       "    </tr>\n",
       "    <tr>\n",
       "      <th>min</th>\n",
       "      <td>166377.000000</td>\n",
       "      <td>879896.000000</td>\n",
       "      <td>1.000000</td>\n",
       "      <td>0.000000</td>\n",
       "      <td>0.000000</td>\n",
       "    </tr>\n",
       "    <tr>\n",
       "      <th>25%</th>\n",
       "      <td>166782.000000</td>\n",
       "      <td>900790.500000</td>\n",
       "      <td>1.000000</td>\n",
       "      <td>0.000000</td>\n",
       "      <td>46.000000</td>\n",
       "    </tr>\n",
       "    <tr>\n",
       "      <th>50%</th>\n",
       "      <td>167158.000000</td>\n",
       "      <td>913938.000000</td>\n",
       "      <td>4.000000</td>\n",
       "      <td>37.000000</td>\n",
       "      <td>208.000000</td>\n",
       "    </tr>\n",
       "    <tr>\n",
       "      <th>75%</th>\n",
       "      <td>167819.000000</td>\n",
       "      <td>937708.000000</td>\n",
       "      <td>12.000000</td>\n",
       "      <td>570.000000</td>\n",
       "      <td>901.000000</td>\n",
       "    </tr>\n",
       "    <tr>\n",
       "      <th>max</th>\n",
       "      <td>168606.000000</td>\n",
       "      <td>973286.000000</td>\n",
       "      <td>4817.000000</td>\n",
       "      <td>144395.000000</td>\n",
       "      <td>166155.000000</td>\n",
       "    </tr>\n",
       "  </tbody>\n",
       "</table>\n",
       "</div>"
      ],
      "text/plain": [
       "             user_id    operator_id   calls_count  call_duration  \\\n",
       "count   49002.000000   41546.000000  49002.000000   49002.000000   \n",
       "mean   167294.892759  916523.315409     16.462777     866.282091   \n",
       "std       598.558965   21230.041008     63.604098    3775.503352   \n",
       "min    166377.000000  879896.000000      1.000000       0.000000   \n",
       "25%    166782.000000  900790.500000      1.000000       0.000000   \n",
       "50%    167158.000000  913938.000000      4.000000      37.000000   \n",
       "75%    167819.000000  937708.000000     12.000000     570.000000   \n",
       "max    168606.000000  973286.000000   4817.000000  144395.000000   \n",
       "\n",
       "       total_call_duration  \n",
       "count         49002.000000  \n",
       "mean           1156.558202  \n",
       "std            4451.473661  \n",
       "min               0.000000  \n",
       "25%              46.000000  \n",
       "50%             208.000000  \n",
       "75%             901.000000  \n",
       "max          166155.000000  "
      ]
     },
     "execution_count": 9,
     "metadata": {},
     "output_type": "execute_result"
    }
   ],
   "source": [
    "data_ds.describe()"
   ]
  },
  {
   "cell_type": "markdown",
   "metadata": {},
   "source": [
    "#### Удаление строк с пропущенными значениями internal"
   ]
  },
  {
   "cell_type": "markdown",
   "metadata": {},
   "source": [
    "1. Видим, что строк с пропущенным значением internal осталось только 10. Их просто удалим.\n",
    "2. По строкам с пустым значением в стоблце operator_id ситуация радикально не изменилось. Процентное соотношение тоже сохранилось 15,2%. Будем смотреть распределение по КЦ и принимать решение."
   ]
  },
  {
   "cell_type": "markdown",
   "metadata": {},
   "source": [
    "Используя метод dropna, удали строки, где отсутствует значение в столбце 'internal'"
   ]
  },
  {
   "cell_type": "code",
   "execution_count": 10,
   "metadata": {},
   "outputs": [
    {
     "name": "stdout",
     "output_type": "stream",
     "text": [
      "<class 'pandas.core.frame.DataFrame'>\n",
      "RangeIndex: 48892 entries, 0 to 48891\n",
      "Data columns (total 9 columns):\n",
      " #   Column               Non-Null Count  Dtype  \n",
      "---  ------               --------------  -----  \n",
      " 0   user_id              48892 non-null  int64  \n",
      " 1   date                 48892 non-null  object \n",
      " 2   direction            48892 non-null  object \n",
      " 3   internal             48892 non-null  object \n",
      " 4   operator_id          41491 non-null  float64\n",
      " 5   is_missed_call       48892 non-null  bool   \n",
      " 6   calls_count          48892 non-null  int64  \n",
      " 7   call_duration        48892 non-null  int64  \n",
      " 8   total_call_duration  48892 non-null  int64  \n",
      "dtypes: bool(1), float64(1), int64(4), object(3)\n",
      "memory usage: 3.0+ MB\n"
     ]
    },
    {
     "data": {
      "text/html": [
       "<div>\n",
       "<style scoped>\n",
       "    .dataframe tbody tr th:only-of-type {\n",
       "        vertical-align: middle;\n",
       "    }\n",
       "\n",
       "    .dataframe tbody tr th {\n",
       "        vertical-align: top;\n",
       "    }\n",
       "\n",
       "    .dataframe thead th {\n",
       "        text-align: right;\n",
       "    }\n",
       "</style>\n",
       "<table border=\"1\" class=\"dataframe\">\n",
       "  <thead>\n",
       "    <tr style=\"text-align: right;\">\n",
       "      <th></th>\n",
       "      <th>user_id</th>\n",
       "      <th>date</th>\n",
       "      <th>direction</th>\n",
       "      <th>internal</th>\n",
       "      <th>operator_id</th>\n",
       "      <th>is_missed_call</th>\n",
       "      <th>calls_count</th>\n",
       "      <th>call_duration</th>\n",
       "      <th>total_call_duration</th>\n",
       "    </tr>\n",
       "  </thead>\n",
       "  <tbody>\n",
       "    <tr>\n",
       "      <th>0</th>\n",
       "      <td>166377</td>\n",
       "      <td>2019-08-04 00:00:00+03:00</td>\n",
       "      <td>in</td>\n",
       "      <td>False</td>\n",
       "      <td>NaN</td>\n",
       "      <td>True</td>\n",
       "      <td>2</td>\n",
       "      <td>0</td>\n",
       "      <td>4</td>\n",
       "    </tr>\n",
       "    <tr>\n",
       "      <th>1</th>\n",
       "      <td>166377</td>\n",
       "      <td>2019-08-05 00:00:00+03:00</td>\n",
       "      <td>out</td>\n",
       "      <td>True</td>\n",
       "      <td>880022.0</td>\n",
       "      <td>True</td>\n",
       "      <td>3</td>\n",
       "      <td>0</td>\n",
       "      <td>5</td>\n",
       "    </tr>\n",
       "    <tr>\n",
       "      <th>2</th>\n",
       "      <td>166377</td>\n",
       "      <td>2019-08-05 00:00:00+03:00</td>\n",
       "      <td>out</td>\n",
       "      <td>True</td>\n",
       "      <td>880020.0</td>\n",
       "      <td>True</td>\n",
       "      <td>1</td>\n",
       "      <td>0</td>\n",
       "      <td>1</td>\n",
       "    </tr>\n",
       "    <tr>\n",
       "      <th>3</th>\n",
       "      <td>166377</td>\n",
       "      <td>2019-08-05 00:00:00+03:00</td>\n",
       "      <td>out</td>\n",
       "      <td>True</td>\n",
       "      <td>880020.0</td>\n",
       "      <td>False</td>\n",
       "      <td>1</td>\n",
       "      <td>10</td>\n",
       "      <td>18</td>\n",
       "    </tr>\n",
       "    <tr>\n",
       "      <th>4</th>\n",
       "      <td>166377</td>\n",
       "      <td>2019-08-05 00:00:00+03:00</td>\n",
       "      <td>out</td>\n",
       "      <td>False</td>\n",
       "      <td>880022.0</td>\n",
       "      <td>True</td>\n",
       "      <td>3</td>\n",
       "      <td>0</td>\n",
       "      <td>25</td>\n",
       "    </tr>\n",
       "    <tr>\n",
       "      <th>5</th>\n",
       "      <td>166377</td>\n",
       "      <td>2019-08-05 00:00:00+03:00</td>\n",
       "      <td>out</td>\n",
       "      <td>False</td>\n",
       "      <td>880020.0</td>\n",
       "      <td>False</td>\n",
       "      <td>2</td>\n",
       "      <td>3</td>\n",
       "      <td>29</td>\n",
       "    </tr>\n",
       "    <tr>\n",
       "      <th>6</th>\n",
       "      <td>166377</td>\n",
       "      <td>2019-08-05 00:00:00+03:00</td>\n",
       "      <td>out</td>\n",
       "      <td>False</td>\n",
       "      <td>880020.0</td>\n",
       "      <td>True</td>\n",
       "      <td>8</td>\n",
       "      <td>0</td>\n",
       "      <td>50</td>\n",
       "    </tr>\n",
       "    <tr>\n",
       "      <th>7</th>\n",
       "      <td>166377</td>\n",
       "      <td>2019-08-05 00:00:00+03:00</td>\n",
       "      <td>in</td>\n",
       "      <td>False</td>\n",
       "      <td>NaN</td>\n",
       "      <td>True</td>\n",
       "      <td>6</td>\n",
       "      <td>0</td>\n",
       "      <td>35</td>\n",
       "    </tr>\n",
       "    <tr>\n",
       "      <th>8</th>\n",
       "      <td>166377</td>\n",
       "      <td>2019-08-06 00:00:00+03:00</td>\n",
       "      <td>in</td>\n",
       "      <td>False</td>\n",
       "      <td>NaN</td>\n",
       "      <td>True</td>\n",
       "      <td>4</td>\n",
       "      <td>0</td>\n",
       "      <td>62</td>\n",
       "    </tr>\n",
       "    <tr>\n",
       "      <th>9</th>\n",
       "      <td>166377</td>\n",
       "      <td>2019-08-06 00:00:00+03:00</td>\n",
       "      <td>out</td>\n",
       "      <td>False</td>\n",
       "      <td>881278.0</td>\n",
       "      <td>True</td>\n",
       "      <td>3</td>\n",
       "      <td>0</td>\n",
       "      <td>29</td>\n",
       "    </tr>\n",
       "  </tbody>\n",
       "</table>\n",
       "</div>"
      ],
      "text/plain": [
       "   user_id                       date direction internal  operator_id  \\\n",
       "0   166377  2019-08-04 00:00:00+03:00        in    False          NaN   \n",
       "1   166377  2019-08-05 00:00:00+03:00       out     True     880022.0   \n",
       "2   166377  2019-08-05 00:00:00+03:00       out     True     880020.0   \n",
       "3   166377  2019-08-05 00:00:00+03:00       out     True     880020.0   \n",
       "4   166377  2019-08-05 00:00:00+03:00       out    False     880022.0   \n",
       "5   166377  2019-08-05 00:00:00+03:00       out    False     880020.0   \n",
       "6   166377  2019-08-05 00:00:00+03:00       out    False     880020.0   \n",
       "7   166377  2019-08-05 00:00:00+03:00        in    False          NaN   \n",
       "8   166377  2019-08-06 00:00:00+03:00        in    False          NaN   \n",
       "9   166377  2019-08-06 00:00:00+03:00       out    False     881278.0   \n",
       "\n",
       "   is_missed_call  calls_count  call_duration  total_call_duration  \n",
       "0            True            2              0                    4  \n",
       "1            True            3              0                    5  \n",
       "2            True            1              0                    1  \n",
       "3           False            1             10                   18  \n",
       "4            True            3              0                   25  \n",
       "5           False            2              3                   29  \n",
       "6            True            8              0                   50  \n",
       "7            True            6              0                   35  \n",
       "8            True            4              0                   62  \n",
       "9            True            3              0                   29  "
      ]
     },
     "metadata": {},
     "output_type": "display_data"
    }
   ],
   "source": [
    "data_ds = data_ds.dropna(subset=['internal'])\n",
    "data_ds.reset_index(drop=True, inplace=True)\n",
    "data_ds.info()\n",
    "display(data_ds.head(10))"
   ]
  },
  {
   "cell_type": "code",
   "execution_count": 11,
   "metadata": {},
   "outputs": [
    {
     "data": {
      "text/html": [
       "<div>\n",
       "<style scoped>\n",
       "    .dataframe tbody tr th:only-of-type {\n",
       "        vertical-align: middle;\n",
       "    }\n",
       "\n",
       "    .dataframe tbody tr th {\n",
       "        vertical-align: top;\n",
       "    }\n",
       "\n",
       "    .dataframe thead th {\n",
       "        text-align: right;\n",
       "    }\n",
       "</style>\n",
       "<table border=\"1\" class=\"dataframe\">\n",
       "  <thead>\n",
       "    <tr style=\"text-align: right;\">\n",
       "      <th></th>\n",
       "      <th>user_id</th>\n",
       "      <th>operator_id</th>\n",
       "      <th>calls_count</th>\n",
       "      <th>call_duration</th>\n",
       "      <th>total_call_duration</th>\n",
       "    </tr>\n",
       "  </thead>\n",
       "  <tbody>\n",
       "    <tr>\n",
       "      <th>count</th>\n",
       "      <td>48892.000000</td>\n",
       "      <td>41491.000000</td>\n",
       "      <td>48892.000000</td>\n",
       "      <td>48892.000000</td>\n",
       "      <td>48892.000000</td>\n",
       "    </tr>\n",
       "    <tr>\n",
       "      <th>mean</th>\n",
       "      <td>167294.492841</td>\n",
       "      <td>916516.771155</td>\n",
       "      <td>16.495214</td>\n",
       "      <td>868.088788</td>\n",
       "      <td>1158.976458</td>\n",
       "    </tr>\n",
       "    <tr>\n",
       "      <th>std</th>\n",
       "      <td>598.675508</td>\n",
       "      <td>21234.081589</td>\n",
       "      <td>63.671633</td>\n",
       "      <td>3779.549967</td>\n",
       "      <td>4456.180933</td>\n",
       "    </tr>\n",
       "    <tr>\n",
       "      <th>min</th>\n",
       "      <td>166377.000000</td>\n",
       "      <td>879896.000000</td>\n",
       "      <td>1.000000</td>\n",
       "      <td>0.000000</td>\n",
       "      <td>0.000000</td>\n",
       "    </tr>\n",
       "    <tr>\n",
       "      <th>25%</th>\n",
       "      <td>166782.000000</td>\n",
       "      <td>900790.000000</td>\n",
       "      <td>1.000000</td>\n",
       "      <td>0.000000</td>\n",
       "      <td>46.000000</td>\n",
       "    </tr>\n",
       "    <tr>\n",
       "      <th>50%</th>\n",
       "      <td>167158.000000</td>\n",
       "      <td>913938.000000</td>\n",
       "      <td>4.000000</td>\n",
       "      <td>37.000000</td>\n",
       "      <td>210.000000</td>\n",
       "    </tr>\n",
       "    <tr>\n",
       "      <th>75%</th>\n",
       "      <td>167819.000000</td>\n",
       "      <td>937708.000000</td>\n",
       "      <td>12.000000</td>\n",
       "      <td>573.000000</td>\n",
       "      <td>902.000000</td>\n",
       "    </tr>\n",
       "    <tr>\n",
       "      <th>max</th>\n",
       "      <td>168606.000000</td>\n",
       "      <td>973286.000000</td>\n",
       "      <td>4817.000000</td>\n",
       "      <td>144395.000000</td>\n",
       "      <td>166155.000000</td>\n",
       "    </tr>\n",
       "  </tbody>\n",
       "</table>\n",
       "</div>"
      ],
      "text/plain": [
       "             user_id    operator_id   calls_count  call_duration  \\\n",
       "count   48892.000000   41491.000000  48892.000000   48892.000000   \n",
       "mean   167294.492841  916516.771155     16.495214     868.088788   \n",
       "std       598.675508   21234.081589     63.671633    3779.549967   \n",
       "min    166377.000000  879896.000000      1.000000       0.000000   \n",
       "25%    166782.000000  900790.000000      1.000000       0.000000   \n",
       "50%    167158.000000  913938.000000      4.000000      37.000000   \n",
       "75%    167819.000000  937708.000000     12.000000     573.000000   \n",
       "max    168606.000000  973286.000000   4817.000000  144395.000000   \n",
       "\n",
       "       total_call_duration  \n",
       "count         48892.000000  \n",
       "mean           1158.976458  \n",
       "std            4456.180933  \n",
       "min               0.000000  \n",
       "25%              46.000000  \n",
       "50%             210.000000  \n",
       "75%             902.000000  \n",
       "max          166155.000000  "
      ]
     },
     "execution_count": 11,
     "metadata": {},
     "output_type": "execute_result"
    }
   ],
   "source": [
    "data_ds.describe()"
   ]
  },
  {
   "cell_type": "markdown",
   "metadata": {},
   "source": [
    "К сожалению, удаление пропусков в столбце 'internal' не исправило ситуацию в датафрейме в целом."
   ]
  },
  {
   "cell_type": "markdown",
   "metadata": {},
   "source": [
    "#### Исследование и предобработка столбца operator_id"
   ]
  },
  {
   "cell_type": "markdown",
   "metadata": {},
   "source": [
    "Проанализируем пропуски в столбце operator_id. Для этого вынесем в отдельный датафрейм строки с пропущенными значениями 'operator_id'"
   ]
  },
  {
   "cell_type": "code",
   "execution_count": 12,
   "metadata": {},
   "outputs": [
    {
     "name": "stdout",
     "output_type": "stream",
     "text": [
      "       user_id                       date direction internal  operator_id  \\\n",
      "0       166377  2019-08-04 00:00:00+03:00        in    False          NaN   \n",
      "7       166377  2019-08-05 00:00:00+03:00        in    False          NaN   \n",
      "8       166377  2019-08-06 00:00:00+03:00        in    False          NaN   \n",
      "16      166377  2019-08-07 00:00:00+03:00        in    False          NaN   \n",
      "26      166377  2019-08-12 00:00:00+03:00        in    False          NaN   \n",
      "...        ...                        ...       ...      ...          ...   \n",
      "48868   168601  2019-11-27 00:00:00+03:00        in    False          NaN   \n",
      "48872   168601  2019-11-28 00:00:00+03:00        in    False          NaN   \n",
      "48880   168603  2019-11-28 00:00:00+03:00        in    False          NaN   \n",
      "48884   168606  2019-11-08 00:00:00+03:00        in    False          NaN   \n",
      "48891   168606  2019-11-19 00:00:00+03:00        in    False          NaN   \n",
      "\n",
      "       is_missed_call  calls_count  call_duration  total_call_duration  \n",
      "0                True            2              0                    4  \n",
      "7                True            6              0                   35  \n",
      "8                True            4              0                   62  \n",
      "16               True            2              0                   24  \n",
      "26               True            2              0                   34  \n",
      "...               ...          ...            ...                  ...  \n",
      "48868            True            2              0                   39  \n",
      "48872            True            1              0                   19  \n",
      "48880            True            1              0                   30  \n",
      "48884            True            6              0                  121  \n",
      "48891            True            2              0                   64  \n",
      "\n",
      "[7401 rows x 9 columns]\n"
     ]
    },
    {
     "data": {
      "text/html": [
       "<div>\n",
       "<style scoped>\n",
       "    .dataframe tbody tr th:only-of-type {\n",
       "        vertical-align: middle;\n",
       "    }\n",
       "\n",
       "    .dataframe tbody tr th {\n",
       "        vertical-align: top;\n",
       "    }\n",
       "\n",
       "    .dataframe thead th {\n",
       "        text-align: right;\n",
       "    }\n",
       "</style>\n",
       "<table border=\"1\" class=\"dataframe\">\n",
       "  <thead>\n",
       "    <tr style=\"text-align: right;\">\n",
       "      <th></th>\n",
       "      <th>user_id</th>\n",
       "      <th>date</th>\n",
       "    </tr>\n",
       "  </thead>\n",
       "  <tbody>\n",
       "    <tr>\n",
       "      <th>0</th>\n",
       "      <td>166377</td>\n",
       "      <td>37</td>\n",
       "    </tr>\n",
       "    <tr>\n",
       "      <th>1</th>\n",
       "      <td>166391</td>\n",
       "      <td>14</td>\n",
       "    </tr>\n",
       "    <tr>\n",
       "      <th>2</th>\n",
       "      <td>166392</td>\n",
       "      <td>46</td>\n",
       "    </tr>\n",
       "    <tr>\n",
       "      <th>3</th>\n",
       "      <td>166399</td>\n",
       "      <td>11</td>\n",
       "    </tr>\n",
       "    <tr>\n",
       "      <th>4</th>\n",
       "      <td>166405</td>\n",
       "      <td>109</td>\n",
       "    </tr>\n",
       "    <tr>\n",
       "      <th>5</th>\n",
       "      <td>166406</td>\n",
       "      <td>54</td>\n",
       "    </tr>\n",
       "    <tr>\n",
       "      <th>6</th>\n",
       "      <td>166407</td>\n",
       "      <td>37</td>\n",
       "    </tr>\n",
       "    <tr>\n",
       "      <th>7</th>\n",
       "      <td>166428</td>\n",
       "      <td>32</td>\n",
       "    </tr>\n",
       "    <tr>\n",
       "      <th>8</th>\n",
       "      <td>166481</td>\n",
       "      <td>9</td>\n",
       "    </tr>\n",
       "    <tr>\n",
       "      <th>9</th>\n",
       "      <td>166482</td>\n",
       "      <td>40</td>\n",
       "    </tr>\n",
       "  </tbody>\n",
       "</table>\n",
       "</div>"
      ],
      "text/plain": [
       "   user_id  date\n",
       "0   166377    37\n",
       "1   166391    14\n",
       "2   166392    46\n",
       "3   166399    11\n",
       "4   166405   109\n",
       "5   166406    54\n",
       "6   166407    37\n",
       "7   166428    32\n",
       "8   166481     9\n",
       "9   166482    40"
      ]
     },
     "execution_count": 12,
     "metadata": {},
     "output_type": "execute_result"
    }
   ],
   "source": [
    "df_filter = data_ds['operator_id']. isna() \n",
    "data_ds_cc= data_ds [df_filter]\n",
    "print(data_ds_cc)\n",
    "data_cc_op=data_ds_cc.groupby(['user_id'], as_index = False).agg({'date': 'count'})\n",
    "data_cc_op.head(10)"
   ]
  },
  {
   "cell_type": "code",
   "execution_count": 13,
   "metadata": {},
   "outputs": [
    {
     "data": {
      "text/html": [
       "<div>\n",
       "<style scoped>\n",
       "    .dataframe tbody tr th:only-of-type {\n",
       "        vertical-align: middle;\n",
       "    }\n",
       "\n",
       "    .dataframe tbody tr th {\n",
       "        vertical-align: top;\n",
       "    }\n",
       "\n",
       "    .dataframe thead th {\n",
       "        text-align: right;\n",
       "    }\n",
       "</style>\n",
       "<table border=\"1\" class=\"dataframe\">\n",
       "  <thead>\n",
       "    <tr style=\"text-align: right;\">\n",
       "      <th></th>\n",
       "      <th>user_id</th>\n",
       "      <th>date</th>\n",
       "    </tr>\n",
       "  </thead>\n",
       "  <tbody>\n",
       "    <tr>\n",
       "      <th>count</th>\n",
       "      <td>305.000000</td>\n",
       "      <td>305.000000</td>\n",
       "    </tr>\n",
       "    <tr>\n",
       "      <th>mean</th>\n",
       "      <td>167452.793443</td>\n",
       "      <td>24.265574</td>\n",
       "    </tr>\n",
       "    <tr>\n",
       "      <th>std</th>\n",
       "      <td>611.753261</td>\n",
       "      <td>23.577942</td>\n",
       "    </tr>\n",
       "    <tr>\n",
       "      <th>min</th>\n",
       "      <td>166377.000000</td>\n",
       "      <td>1.000000</td>\n",
       "    </tr>\n",
       "    <tr>\n",
       "      <th>25%</th>\n",
       "      <td>166971.000000</td>\n",
       "      <td>6.000000</td>\n",
       "    </tr>\n",
       "    <tr>\n",
       "      <th>50%</th>\n",
       "      <td>167451.000000</td>\n",
       "      <td>16.000000</td>\n",
       "    </tr>\n",
       "    <tr>\n",
       "      <th>75%</th>\n",
       "      <td>167995.000000</td>\n",
       "      <td>35.000000</td>\n",
       "    </tr>\n",
       "    <tr>\n",
       "      <th>max</th>\n",
       "      <td>168606.000000</td>\n",
       "      <td>135.000000</td>\n",
       "    </tr>\n",
       "  </tbody>\n",
       "</table>\n",
       "</div>"
      ],
      "text/plain": [
       "             user_id        date\n",
       "count     305.000000  305.000000\n",
       "mean   167452.793443   24.265574\n",
       "std       611.753261   23.577942\n",
       "min    166377.000000    1.000000\n",
       "25%    166971.000000    6.000000\n",
       "50%    167451.000000   16.000000\n",
       "75%    167995.000000   35.000000\n",
       "max    168606.000000  135.000000"
      ]
     },
     "execution_count": 13,
     "metadata": {},
     "output_type": "execute_result"
    }
   ],
   "source": [
    "data_cc_op.describe()"
   ]
  },
  {
   "cell_type": "code",
   "execution_count": 14,
   "metadata": {},
   "outputs": [
    {
     "data": {
      "text/plain": [
       "array(['in', 'out'], dtype=object)"
      ]
     },
     "execution_count": 14,
     "metadata": {},
     "output_type": "execute_result"
    }
   ],
   "source": [
    "data_ds_cc['direction'].unique()"
   ]
  },
  {
   "cell_type": "code",
   "execution_count": 15,
   "metadata": {},
   "outputs": [
    {
     "data": {
      "text/html": [
       "<div>\n",
       "<style scoped>\n",
       "    .dataframe tbody tr th:only-of-type {\n",
       "        vertical-align: middle;\n",
       "    }\n",
       "\n",
       "    .dataframe tbody tr th {\n",
       "        vertical-align: top;\n",
       "    }\n",
       "\n",
       "    .dataframe thead th {\n",
       "        text-align: right;\n",
       "    }\n",
       "</style>\n",
       "<table border=\"1\" class=\"dataframe\">\n",
       "  <thead>\n",
       "    <tr style=\"text-align: right;\">\n",
       "      <th></th>\n",
       "      <th>direction</th>\n",
       "      <th>calls_count</th>\n",
       "    </tr>\n",
       "  </thead>\n",
       "  <tbody>\n",
       "    <tr>\n",
       "      <th>0</th>\n",
       "      <td>in</td>\n",
       "      <td>103884</td>\n",
       "    </tr>\n",
       "    <tr>\n",
       "      <th>1</th>\n",
       "      <td>out</td>\n",
       "      <td>515</td>\n",
       "    </tr>\n",
       "  </tbody>\n",
       "</table>\n",
       "</div>"
      ],
      "text/plain": [
       "  direction  calls_count\n",
       "0        in       103884\n",
       "1       out          515"
      ]
     },
     "execution_count": 15,
     "metadata": {},
     "output_type": "execute_result"
    }
   ],
   "source": [
    "data_ds_cc_gr=data_ds_cc.groupby(['direction'], as_index = False).agg({'calls_count': 'sum'})\n",
    "data_ds_cc_gr.head(10)"
   ]
  },
  {
   "cell_type": "code",
   "execution_count": 16,
   "metadata": {},
   "outputs": [
    {
     "data": {
      "text/plain": [
       "array([ True, False])"
      ]
     },
     "execution_count": 16,
     "metadata": {},
     "output_type": "execute_result"
    }
   ],
   "source": [
    "data_ds_cc['is_missed_call'].unique()"
   ]
  },
  {
   "cell_type": "code",
   "execution_count": 17,
   "metadata": {},
   "outputs": [
    {
     "data": {
      "text/html": [
       "<div>\n",
       "<style scoped>\n",
       "    .dataframe tbody tr th:only-of-type {\n",
       "        vertical-align: middle;\n",
       "    }\n",
       "\n",
       "    .dataframe tbody tr th {\n",
       "        vertical-align: top;\n",
       "    }\n",
       "\n",
       "    .dataframe thead th {\n",
       "        text-align: right;\n",
       "    }\n",
       "</style>\n",
       "<table border=\"1\" class=\"dataframe\">\n",
       "  <thead>\n",
       "    <tr style=\"text-align: right;\">\n",
       "      <th></th>\n",
       "      <th>is_missed_call</th>\n",
       "      <th>calls_count</th>\n",
       "    </tr>\n",
       "  </thead>\n",
       "  <tbody>\n",
       "    <tr>\n",
       "      <th>0</th>\n",
       "      <td>False</td>\n",
       "      <td>965</td>\n",
       "    </tr>\n",
       "    <tr>\n",
       "      <th>1</th>\n",
       "      <td>True</td>\n",
       "      <td>103434</td>\n",
       "    </tr>\n",
       "  </tbody>\n",
       "</table>\n",
       "</div>"
      ],
      "text/plain": [
       "   is_missed_call  calls_count\n",
       "0           False          965\n",
       "1            True       103434"
      ]
     },
     "execution_count": 17,
     "metadata": {},
     "output_type": "execute_result"
    }
   ],
   "source": [
    "data_ds_cc_gr_m=data_ds_cc.groupby(['is_missed_call'], as_index = False).agg({'calls_count': 'sum'})\n",
    "data_ds_cc_gr_m.head(10)"
   ]
  },
  {
   "cell_type": "markdown",
   "metadata": {},
   "source": [
    "Обзор полученного фрейма показывает, что пропуски есть примерно у половины КЦ(305  из 732) и распределены достаточно равномерно. Кроме того, подавляющее большинство пропусков - пропущенные входящие звонки. Возможно, они просто не были распределены на операторов.\n",
    "Построим гистограмму, чтобы визуализировать распределение пропусков."
   ]
  },
  {
   "cell_type": "code",
   "execution_count": 18,
   "metadata": {},
   "outputs": [
    {
     "data": {
      "image/png": "[encoded data removed]",
      "text/plain": [
       "<Figure size 1296x432 with 1 Axes>"
      ]
     },
     "metadata": {
      "needs_background": "light"
     },
     "output_type": "display_data"
    }
   ],
   "source": [
    "plt.figure(figsize = (18,6))\n",
    "data_cc_op['date'].hist(bins=100, color = 'royalblue', edgecolor = 'black').set(title = 'Распределение незаполненных operator_id по КЦ', xlabel = 'Количество пропусков', ylabel = 'Количество КЦ')\n",
    "plt.show()"
   ]
  },
  {
   "cell_type": "markdown",
   "metadata": {},
   "source": [
    "Пропуски распределены достаточно равномерно (лишь в 5 КЦ их больше 100). Поэтому для дальнейшей работы просто удалим строки, где есть пропуски в столбце 'operator_id'. Вновь используем метод dropna()"
   ]
  },
  {
   "cell_type": "code",
   "execution_count": 19,
   "metadata": {},
   "outputs": [
    {
     "name": "stdout",
     "output_type": "stream",
     "text": [
      "<class 'pandas.core.frame.DataFrame'>\n",
      "RangeIndex: 41491 entries, 0 to 41490\n",
      "Data columns (total 9 columns):\n",
      " #   Column               Non-Null Count  Dtype  \n",
      "---  ------               --------------  -----  \n",
      " 0   user_id              41491 non-null  int64  \n",
      " 1   date                 41491 non-null  object \n",
      " 2   direction            41491 non-null  object \n",
      " 3   internal             41491 non-null  object \n",
      " 4   operator_id          41491 non-null  float64\n",
      " 5   is_missed_call       41491 non-null  bool   \n",
      " 6   calls_count          41491 non-null  int64  \n",
      " 7   call_duration        41491 non-null  int64  \n",
      " 8   total_call_duration  41491 non-null  int64  \n",
      "dtypes: bool(1), float64(1), int64(4), object(3)\n",
      "memory usage: 2.6+ MB\n"
     ]
    },
    {
     "data": {
      "text/html": [
       "<div>\n",
       "<style scoped>\n",
       "    .dataframe tbody tr th:only-of-type {\n",
       "        vertical-align: middle;\n",
       "    }\n",
       "\n",
       "    .dataframe tbody tr th {\n",
       "        vertical-align: top;\n",
       "    }\n",
       "\n",
       "    .dataframe thead th {\n",
       "        text-align: right;\n",
       "    }\n",
       "</style>\n",
       "<table border=\"1\" class=\"dataframe\">\n",
       "  <thead>\n",
       "    <tr style=\"text-align: right;\">\n",
       "      <th></th>\n",
       "      <th>user_id</th>\n",
       "      <th>date</th>\n",
       "      <th>direction</th>\n",
       "      <th>internal</th>\n",
       "      <th>operator_id</th>\n",
       "      <th>is_missed_call</th>\n",
       "      <th>calls_count</th>\n",
       "      <th>call_duration</th>\n",
       "      <th>total_call_duration</th>\n",
       "    </tr>\n",
       "  </thead>\n",
       "  <tbody>\n",
       "    <tr>\n",
       "      <th>0</th>\n",
       "      <td>166377</td>\n",
       "      <td>2019-08-05 00:00:00+03:00</td>\n",
       "      <td>out</td>\n",
       "      <td>True</td>\n",
       "      <td>880022.0</td>\n",
       "      <td>True</td>\n",
       "      <td>3</td>\n",
       "      <td>0</td>\n",
       "      <td>5</td>\n",
       "    </tr>\n",
       "    <tr>\n",
       "      <th>1</th>\n",
       "      <td>166377</td>\n",
       "      <td>2019-08-05 00:00:00+03:00</td>\n",
       "      <td>out</td>\n",
       "      <td>True</td>\n",
       "      <td>880020.0</td>\n",
       "      <td>True</td>\n",
       "      <td>1</td>\n",
       "      <td>0</td>\n",
       "      <td>1</td>\n",
       "    </tr>\n",
       "    <tr>\n",
       "      <th>2</th>\n",
       "      <td>166377</td>\n",
       "      <td>2019-08-05 00:00:00+03:00</td>\n",
       "      <td>out</td>\n",
       "      <td>True</td>\n",
       "      <td>880020.0</td>\n",
       "      <td>False</td>\n",
       "      <td>1</td>\n",
       "      <td>10</td>\n",
       "      <td>18</td>\n",
       "    </tr>\n",
       "    <tr>\n",
       "      <th>3</th>\n",
       "      <td>166377</td>\n",
       "      <td>2019-08-05 00:00:00+03:00</td>\n",
       "      <td>out</td>\n",
       "      <td>False</td>\n",
       "      <td>880022.0</td>\n",
       "      <td>True</td>\n",
       "      <td>3</td>\n",
       "      <td>0</td>\n",
       "      <td>25</td>\n",
       "    </tr>\n",
       "    <tr>\n",
       "      <th>4</th>\n",
       "      <td>166377</td>\n",
       "      <td>2019-08-05 00:00:00+03:00</td>\n",
       "      <td>out</td>\n",
       "      <td>False</td>\n",
       "      <td>880020.0</td>\n",
       "      <td>False</td>\n",
       "      <td>2</td>\n",
       "      <td>3</td>\n",
       "      <td>29</td>\n",
       "    </tr>\n",
       "    <tr>\n",
       "      <th>5</th>\n",
       "      <td>166377</td>\n",
       "      <td>2019-08-05 00:00:00+03:00</td>\n",
       "      <td>out</td>\n",
       "      <td>False</td>\n",
       "      <td>880020.0</td>\n",
       "      <td>True</td>\n",
       "      <td>8</td>\n",
       "      <td>0</td>\n",
       "      <td>50</td>\n",
       "    </tr>\n",
       "    <tr>\n",
       "      <th>6</th>\n",
       "      <td>166377</td>\n",
       "      <td>2019-08-06 00:00:00+03:00</td>\n",
       "      <td>out</td>\n",
       "      <td>False</td>\n",
       "      <td>881278.0</td>\n",
       "      <td>True</td>\n",
       "      <td>3</td>\n",
       "      <td>0</td>\n",
       "      <td>29</td>\n",
       "    </tr>\n",
       "    <tr>\n",
       "      <th>7</th>\n",
       "      <td>166377</td>\n",
       "      <td>2019-08-06 00:00:00+03:00</td>\n",
       "      <td>out</td>\n",
       "      <td>False</td>\n",
       "      <td>880020.0</td>\n",
       "      <td>True</td>\n",
       "      <td>5</td>\n",
       "      <td>0</td>\n",
       "      <td>70</td>\n",
       "    </tr>\n",
       "    <tr>\n",
       "      <th>8</th>\n",
       "      <td>166377</td>\n",
       "      <td>2019-08-06 00:00:00+03:00</td>\n",
       "      <td>out</td>\n",
       "      <td>True</td>\n",
       "      <td>881278.0</td>\n",
       "      <td>True</td>\n",
       "      <td>2</td>\n",
       "      <td>0</td>\n",
       "      <td>5</td>\n",
       "    </tr>\n",
       "    <tr>\n",
       "      <th>9</th>\n",
       "      <td>166377</td>\n",
       "      <td>2019-08-06 00:00:00+03:00</td>\n",
       "      <td>out</td>\n",
       "      <td>False</td>\n",
       "      <td>880020.0</td>\n",
       "      <td>False</td>\n",
       "      <td>5</td>\n",
       "      <td>800</td>\n",
       "      <td>819</td>\n",
       "    </tr>\n",
       "  </tbody>\n",
       "</table>\n",
       "</div>"
      ],
      "text/plain": [
       "   user_id                       date direction internal  operator_id  \\\n",
       "0   166377  2019-08-05 00:00:00+03:00       out     True     880022.0   \n",
       "1   166377  2019-08-05 00:00:00+03:00       out     True     880020.0   \n",
       "2   166377  2019-08-05 00:00:00+03:00       out     True     880020.0   \n",
       "3   166377  2019-08-05 00:00:00+03:00       out    False     880022.0   \n",
       "4   166377  2019-08-05 00:00:00+03:00       out    False     880020.0   \n",
       "5   166377  2019-08-05 00:00:00+03:00       out    False     880020.0   \n",
       "6   166377  2019-08-06 00:00:00+03:00       out    False     881278.0   \n",
       "7   166377  2019-08-06 00:00:00+03:00       out    False     880020.0   \n",
       "8   166377  2019-08-06 00:00:00+03:00       out     True     881278.0   \n",
       "9   166377  2019-08-06 00:00:00+03:00       out    False     880020.0   \n",
       "\n",
       "   is_missed_call  calls_count  call_duration  total_call_duration  \n",
       "0            True            3              0                    5  \n",
       "1            True            1              0                    1  \n",
       "2           False            1             10                   18  \n",
       "3            True            3              0                   25  \n",
       "4           False            2              3                   29  \n",
       "5            True            8              0                   50  \n",
       "6            True            3              0                   29  \n",
       "7            True            5              0                   70  \n",
       "8            True            2              0                    5  \n",
       "9           False            5            800                  819  "
      ]
     },
     "metadata": {},
     "output_type": "display_data"
    }
   ],
   "source": [
    "data_ds_f = data_ds.dropna(subset=['operator_id'])\n",
    "data_ds_f.reset_index(drop=True, inplace=True)\n",
    "data_ds_f.info()\n",
    "display(data_ds_f.head(10))"
   ]
  },
  {
   "cell_type": "code",
   "execution_count": 20,
   "metadata": {},
   "outputs": [
    {
     "data": {
      "text/html": [
       "<div>\n",
       "<style scoped>\n",
       "    .dataframe tbody tr th:only-of-type {\n",
       "        vertical-align: middle;\n",
       "    }\n",
       "\n",
       "    .dataframe tbody tr th {\n",
       "        vertical-align: top;\n",
       "    }\n",
       "\n",
       "    .dataframe thead th {\n",
       "        text-align: right;\n",
       "    }\n",
       "</style>\n",
       "<table border=\"1\" class=\"dataframe\">\n",
       "  <thead>\n",
       "    <tr style=\"text-align: right;\">\n",
       "      <th></th>\n",
       "      <th>user_id</th>\n",
       "      <th>operator_id</th>\n",
       "      <th>calls_count</th>\n",
       "      <th>call_duration</th>\n",
       "      <th>total_call_duration</th>\n",
       "    </tr>\n",
       "  </thead>\n",
       "  <tbody>\n",
       "    <tr>\n",
       "      <th>count</th>\n",
       "      <td>41491.000000</td>\n",
       "      <td>41491.000000</td>\n",
       "      <td>41491.000000</td>\n",
       "      <td>41491.000000</td>\n",
       "      <td>41491.000000</td>\n",
       "    </tr>\n",
       "    <tr>\n",
       "      <th>mean</th>\n",
       "      <td>167301.113543</td>\n",
       "      <td>916516.771155</td>\n",
       "      <td>16.921381</td>\n",
       "      <td>1010.940011</td>\n",
       "      <td>1323.153238</td>\n",
       "    </tr>\n",
       "    <tr>\n",
       "      <th>std</th>\n",
       "      <td>600.513986</td>\n",
       "      <td>21234.081589</td>\n",
       "      <td>59.786187</td>\n",
       "      <td>4066.666485</td>\n",
       "      <td>4788.953155</td>\n",
       "    </tr>\n",
       "    <tr>\n",
       "      <th>min</th>\n",
       "      <td>166377.000000</td>\n",
       "      <td>879896.000000</td>\n",
       "      <td>1.000000</td>\n",
       "      <td>0.000000</td>\n",
       "      <td>0.000000</td>\n",
       "    </tr>\n",
       "    <tr>\n",
       "      <th>25%</th>\n",
       "      <td>166782.000000</td>\n",
       "      <td>900790.000000</td>\n",
       "      <td>1.000000</td>\n",
       "      <td>0.000000</td>\n",
       "      <td>67.000000</td>\n",
       "    </tr>\n",
       "    <tr>\n",
       "      <th>50%</th>\n",
       "      <td>167175.000000</td>\n",
       "      <td>913938.000000</td>\n",
       "      <td>4.000000</td>\n",
       "      <td>106.000000</td>\n",
       "      <td>289.000000</td>\n",
       "    </tr>\n",
       "    <tr>\n",
       "      <th>75%</th>\n",
       "      <td>167827.000000</td>\n",
       "      <td>937708.000000</td>\n",
       "      <td>14.000000</td>\n",
       "      <td>772.000000</td>\n",
       "      <td>1107.000000</td>\n",
       "    </tr>\n",
       "    <tr>\n",
       "      <th>max</th>\n",
       "      <td>168606.000000</td>\n",
       "      <td>973286.000000</td>\n",
       "      <td>4817.000000</td>\n",
       "      <td>144395.000000</td>\n",
       "      <td>166155.000000</td>\n",
       "    </tr>\n",
       "  </tbody>\n",
       "</table>\n",
       "</div>"
      ],
      "text/plain": [
       "             user_id    operator_id   calls_count  call_duration  \\\n",
       "count   41491.000000   41491.000000  41491.000000   41491.000000   \n",
       "mean   167301.113543  916516.771155     16.921381    1010.940011   \n",
       "std       600.513986   21234.081589     59.786187    4066.666485   \n",
       "min    166377.000000  879896.000000      1.000000       0.000000   \n",
       "25%    166782.000000  900790.000000      1.000000       0.000000   \n",
       "50%    167175.000000  913938.000000      4.000000     106.000000   \n",
       "75%    167827.000000  937708.000000     14.000000     772.000000   \n",
       "max    168606.000000  973286.000000   4817.000000  144395.000000   \n",
       "\n",
       "       total_call_duration  \n",
       "count         41491.000000  \n",
       "mean           1323.153238  \n",
       "std            4788.953155  \n",
       "min               0.000000  \n",
       "25%              67.000000  \n",
       "50%             289.000000  \n",
       "75%            1107.000000  \n",
       "max          166155.000000  "
      ]
     },
     "execution_count": 20,
     "metadata": {},
     "output_type": "execute_result"
    }
   ],
   "source": [
    "data_ds_f.describe()"
   ]
  },
  {
   "cell_type": "markdown",
   "metadata": {},
   "source": [
    "Объеденим дата фрейм "
   ]
  },
  {
   "cell_type": "markdown",
   "metadata": {},
   "source": [
    "data_fin_both=data_fin_a.merge(data_fin_b, on='user_id', how='inner')"
   ]
  },
  {
   "cell_type": "markdown",
   "metadata": {},
   "source": [
    "#### Исследовать столбец call count на наличие аномальных значений."
   ]
  },
  {
   "cell_type": "markdown",
   "metadata": {},
   "source": [
    "Видим, что удаление строк с пропусками не сказалось на максимальных значениях в столбцах calls_count, call_duration, total_call_duration. Мое предположение было ошибочным. Посмотрим на распределение значений в этих столбцах, но прежде приведем operator_id к целочисленному типу. "
   ]
  },
  {
   "cell_type": "code",
   "execution_count": 21,
   "metadata": {
    "scrolled": false
   },
   "outputs": [
    {
     "name": "stdout",
     "output_type": "stream",
     "text": [
      "<class 'pandas.core.frame.DataFrame'>\n",
      "RangeIndex: 41491 entries, 0 to 41490\n",
      "Data columns (total 9 columns):\n",
      " #   Column               Non-Null Count  Dtype \n",
      "---  ------               --------------  ----- \n",
      " 0   user_id              41491 non-null  int64 \n",
      " 1   date                 41491 non-null  object\n",
      " 2   direction            41491 non-null  object\n",
      " 3   internal             41491 non-null  object\n",
      " 4   operator_id          41491 non-null  int64 \n",
      " 5   is_missed_call       41491 non-null  bool  \n",
      " 6   calls_count          41491 non-null  int64 \n",
      " 7   call_duration        41491 non-null  int64 \n",
      " 8   total_call_duration  41491 non-null  int64 \n",
      "dtypes: bool(1), int64(5), object(3)\n",
      "memory usage: 2.6+ MB\n"
     ]
    },
    {
     "name": "stderr",
     "output_type": "stream",
     "text": [
      "/opt/conda/lib/python3.9/site-packages/pandas/core/indexing.py:1676: SettingWithCopyWarning: \n",
      "A value is trying to be set on a copy of a slice from a DataFrame.\n",
      "Try using .loc[row_indexer,col_indexer] = value instead\n",
      "\n",
      "See the caveats in the documentation: https://pandas.pydata.org/pandas-docs/stable/user_guide/indexing.html#returning-a-view-versus-a-copy\n",
      "  self._setitem_single_column(ilocs[0], value, pi)\n"
     ]
    }
   ],
   "source": [
    "data_ds_f.loc[:,'operator_id'] = data_ds_f.loc[:,'operator_id'].astype('int')\n",
    "data_ds_f.info()"
   ]
  },
  {
   "cell_type": "code",
   "execution_count": 22,
   "metadata": {
    "scrolled": false
   },
   "outputs": [
    {
     "name": "stdout",
     "output_type": "stream",
     "text": [
      "<class 'pandas.core.frame.DataFrame'>\n",
      "RangeIndex: 41491 entries, 0 to 41490\n",
      "Data columns (total 9 columns):\n",
      " #   Column               Non-Null Count  Dtype \n",
      "---  ------               --------------  ----- \n",
      " 0   user_id              41491 non-null  int64 \n",
      " 1   date                 41491 non-null  object\n",
      " 2   direction            41491 non-null  object\n",
      " 3   internal             41491 non-null  object\n",
      " 4   operator_id          41491 non-null  int64 \n",
      " 5   is_missed_call       41491 non-null  bool  \n",
      " 6   calls_count          41491 non-null  int64 \n",
      " 7   call_duration        41491 non-null  int64 \n",
      " 8   total_call_duration  41491 non-null  int64 \n",
      "dtypes: bool(1), int64(5), object(3)\n",
      "memory usage: 2.6+ MB\n"
     ]
    }
   ],
   "source": [
    "data_ds_f.info()"
   ]
  },
  {
   "cell_type": "code",
   "execution_count": 23,
   "metadata": {},
   "outputs": [
    {
     "data": {
      "image/png": "[encoded data removed]",
      "text/plain": [
       "<Figure size 1296x432 with 1 Axes>"
      ]
     },
     "metadata": {
      "needs_background": "light"
     },
     "output_type": "display_data"
    }
   ],
   "source": [
    "plt.figure(figsize = (18,6))\n",
    "data_ds_f['calls_count'].hist(bins=700, color = 'royalblue', edgecolor = 'black').set(title = 'Распределение значений calls_count', xlabel = 'Значение calls_count')\n",
    "plt.show()"
   ]
  },
  {
   "cell_type": "markdown",
   "metadata": {},
   "source": [
    "Оценим сколько строк удалится, если убрать аномально большие значения. Для начала будем считать аномальным значением calls_count > 100. Сравним количество строк с этими значениями и без них. Исходим из того, что даже если коллцентр работает круглосуточно (т.е. под одним operator_id выступают три разных человека, которые работают по 8 часов (при чем 1 час на обед и 1 час на прочие перерывы). Итого каждый из них может звонить по 6 часов, а все вместе 18 часов. Пусть на звонок уходит 3 минуты. В это случае до 20 звонков в час. И за сутки не более 360 звонков с одного рабочего места. Будем считать, что не более 300.А из диаграммы видим, что большая часть значений менее 100 (так как 300 формируется из звонков разных типов (входящие, исходящие, внутренние)). "
   ]
  },
  {
   "cell_type": "code",
   "execution_count": 24,
   "metadata": {},
   "outputs": [
    {
     "name": "stdout",
     "output_type": "stream",
     "text": [
      "Количество строк, где количество звонков >100: 929\n",
      "Доля строк, где количество звонков >100: 2.24%\n"
     ]
    }
   ],
   "source": [
    "print('Количество строк, где количество звонков >100:', len(data_ds_f.query('calls_count > 100')))\n",
    "print ('Доля строк, где количество звонков >100: {:.2f}%'.format((len(data_ds_f.query('calls_count > 100'))/len(data_ds_f)*100)))"
   ]
  },
  {
   "cell_type": "markdown",
   "metadata": {},
   "source": [
    "Посмотрим, как операторы с количеством звонков не больше 100 за сутки распределены по КЦ. Для этого составим срез."
   ]
  },
  {
   "cell_type": "code",
   "execution_count": 25,
   "metadata": {},
   "outputs": [
    {
     "name": "stdout",
     "output_type": "stream",
     "text": [
      "<class 'pandas.core.frame.DataFrame'>\n",
      "RangeIndex: 40562 entries, 0 to 40561\n",
      "Data columns (total 9 columns):\n",
      " #   Column               Non-Null Count  Dtype \n",
      "---  ------               --------------  ----- \n",
      " 0   user_id              40562 non-null  int64 \n",
      " 1   date                 40562 non-null  object\n",
      " 2   direction            40562 non-null  object\n",
      " 3   internal             40562 non-null  object\n",
      " 4   operator_id          40562 non-null  int64 \n",
      " 5   is_missed_call       40562 non-null  bool  \n",
      " 6   calls_count          40562 non-null  int64 \n",
      " 7   call_duration        40562 non-null  int64 \n",
      " 8   total_call_duration  40562 non-null  int64 \n",
      "dtypes: bool(1), int64(5), object(3)\n",
      "memory usage: 2.5+ MB\n"
     ]
    },
    {
     "data": {
      "text/html": [
       "<div>\n",
       "<style scoped>\n",
       "    .dataframe tbody tr th:only-of-type {\n",
       "        vertical-align: middle;\n",
       "    }\n",
       "\n",
       "    .dataframe tbody tr th {\n",
       "        vertical-align: top;\n",
       "    }\n",
       "\n",
       "    .dataframe thead th {\n",
       "        text-align: right;\n",
       "    }\n",
       "</style>\n",
       "<table border=\"1\" class=\"dataframe\">\n",
       "  <thead>\n",
       "    <tr style=\"text-align: right;\">\n",
       "      <th></th>\n",
       "      <th>user_id</th>\n",
       "      <th>date</th>\n",
       "      <th>direction</th>\n",
       "      <th>internal</th>\n",
       "      <th>operator_id</th>\n",
       "      <th>is_missed_call</th>\n",
       "      <th>calls_count</th>\n",
       "      <th>call_duration</th>\n",
       "      <th>total_call_duration</th>\n",
       "    </tr>\n",
       "  </thead>\n",
       "  <tbody>\n",
       "    <tr>\n",
       "      <th>0</th>\n",
       "      <td>166377</td>\n",
       "      <td>2019-08-05 00:00:00+03:00</td>\n",
       "      <td>out</td>\n",
       "      <td>True</td>\n",
       "      <td>880022</td>\n",
       "      <td>True</td>\n",
       "      <td>3</td>\n",
       "      <td>0</td>\n",
       "      <td>5</td>\n",
       "    </tr>\n",
       "    <tr>\n",
       "      <th>1</th>\n",
       "      <td>166377</td>\n",
       "      <td>2019-08-05 00:00:00+03:00</td>\n",
       "      <td>out</td>\n",
       "      <td>True</td>\n",
       "      <td>880020</td>\n",
       "      <td>True</td>\n",
       "      <td>1</td>\n",
       "      <td>0</td>\n",
       "      <td>1</td>\n",
       "    </tr>\n",
       "    <tr>\n",
       "      <th>2</th>\n",
       "      <td>166377</td>\n",
       "      <td>2019-08-05 00:00:00+03:00</td>\n",
       "      <td>out</td>\n",
       "      <td>True</td>\n",
       "      <td>880020</td>\n",
       "      <td>False</td>\n",
       "      <td>1</td>\n",
       "      <td>10</td>\n",
       "      <td>18</td>\n",
       "    </tr>\n",
       "    <tr>\n",
       "      <th>3</th>\n",
       "      <td>166377</td>\n",
       "      <td>2019-08-05 00:00:00+03:00</td>\n",
       "      <td>out</td>\n",
       "      <td>False</td>\n",
       "      <td>880022</td>\n",
       "      <td>True</td>\n",
       "      <td>3</td>\n",
       "      <td>0</td>\n",
       "      <td>25</td>\n",
       "    </tr>\n",
       "    <tr>\n",
       "      <th>4</th>\n",
       "      <td>166377</td>\n",
       "      <td>2019-08-05 00:00:00+03:00</td>\n",
       "      <td>out</td>\n",
       "      <td>False</td>\n",
       "      <td>880020</td>\n",
       "      <td>False</td>\n",
       "      <td>2</td>\n",
       "      <td>3</td>\n",
       "      <td>29</td>\n",
       "    </tr>\n",
       "    <tr>\n",
       "      <th>5</th>\n",
       "      <td>166377</td>\n",
       "      <td>2019-08-05 00:00:00+03:00</td>\n",
       "      <td>out</td>\n",
       "      <td>False</td>\n",
       "      <td>880020</td>\n",
       "      <td>True</td>\n",
       "      <td>8</td>\n",
       "      <td>0</td>\n",
       "      <td>50</td>\n",
       "    </tr>\n",
       "    <tr>\n",
       "      <th>6</th>\n",
       "      <td>166377</td>\n",
       "      <td>2019-08-06 00:00:00+03:00</td>\n",
       "      <td>out</td>\n",
       "      <td>False</td>\n",
       "      <td>881278</td>\n",
       "      <td>True</td>\n",
       "      <td>3</td>\n",
       "      <td>0</td>\n",
       "      <td>29</td>\n",
       "    </tr>\n",
       "    <tr>\n",
       "      <th>7</th>\n",
       "      <td>166377</td>\n",
       "      <td>2019-08-06 00:00:00+03:00</td>\n",
       "      <td>out</td>\n",
       "      <td>False</td>\n",
       "      <td>880020</td>\n",
       "      <td>True</td>\n",
       "      <td>5</td>\n",
       "      <td>0</td>\n",
       "      <td>70</td>\n",
       "    </tr>\n",
       "    <tr>\n",
       "      <th>8</th>\n",
       "      <td>166377</td>\n",
       "      <td>2019-08-06 00:00:00+03:00</td>\n",
       "      <td>out</td>\n",
       "      <td>True</td>\n",
       "      <td>881278</td>\n",
       "      <td>True</td>\n",
       "      <td>2</td>\n",
       "      <td>0</td>\n",
       "      <td>5</td>\n",
       "    </tr>\n",
       "    <tr>\n",
       "      <th>9</th>\n",
       "      <td>166377</td>\n",
       "      <td>2019-08-06 00:00:00+03:00</td>\n",
       "      <td>out</td>\n",
       "      <td>False</td>\n",
       "      <td>880020</td>\n",
       "      <td>False</td>\n",
       "      <td>5</td>\n",
       "      <td>800</td>\n",
       "      <td>819</td>\n",
       "    </tr>\n",
       "  </tbody>\n",
       "</table>\n",
       "</div>"
      ],
      "text/plain": [
       "   user_id                       date direction internal  operator_id  \\\n",
       "0   166377  2019-08-05 00:00:00+03:00       out     True       880022   \n",
       "1   166377  2019-08-05 00:00:00+03:00       out     True       880020   \n",
       "2   166377  2019-08-05 00:00:00+03:00       out     True       880020   \n",
       "3   166377  2019-08-05 00:00:00+03:00       out    False       880022   \n",
       "4   166377  2019-08-05 00:00:00+03:00       out    False       880020   \n",
       "5   166377  2019-08-05 00:00:00+03:00       out    False       880020   \n",
       "6   166377  2019-08-06 00:00:00+03:00       out    False       881278   \n",
       "7   166377  2019-08-06 00:00:00+03:00       out    False       880020   \n",
       "8   166377  2019-08-06 00:00:00+03:00       out     True       881278   \n",
       "9   166377  2019-08-06 00:00:00+03:00       out    False       880020   \n",
       "\n",
       "   is_missed_call  calls_count  call_duration  total_call_duration  \n",
       "0            True            3              0                    5  \n",
       "1            True            1              0                    1  \n",
       "2           False            1             10                   18  \n",
       "3            True            3              0                   25  \n",
       "4           False            2              3                   29  \n",
       "5            True            8              0                   50  \n",
       "6            True            3              0                   29  \n",
       "7            True            5              0                   70  \n",
       "8            True            2              0                    5  \n",
       "9           False            5            800                  819  "
      ]
     },
     "metadata": {},
     "output_type": "display_data"
    }
   ],
   "source": [
    "data_ds_fi = data_ds_f.query('calls_count<=100')\n",
    "data_ds_fi.reset_index(drop=True, inplace=True)\n",
    "data_ds_fi.info()\n",
    "display(data_ds_f.head(10))"
   ]
  },
  {
   "cell_type": "code",
   "execution_count": 26,
   "metadata": {},
   "outputs": [
    {
     "data": {
      "text/html": [
       "<div>\n",
       "<style scoped>\n",
       "    .dataframe tbody tr th:only-of-type {\n",
       "        vertical-align: middle;\n",
       "    }\n",
       "\n",
       "    .dataframe tbody tr th {\n",
       "        vertical-align: top;\n",
       "    }\n",
       "\n",
       "    .dataframe thead th {\n",
       "        text-align: right;\n",
       "    }\n",
       "</style>\n",
       "<table border=\"1\" class=\"dataframe\">\n",
       "  <thead>\n",
       "    <tr style=\"text-align: right;\">\n",
       "      <th></th>\n",
       "      <th>user_id</th>\n",
       "      <th>operator_id</th>\n",
       "    </tr>\n",
       "  </thead>\n",
       "  <tbody>\n",
       "    <tr>\n",
       "      <th>0</th>\n",
       "      <td>166377</td>\n",
       "      <td>5</td>\n",
       "    </tr>\n",
       "    <tr>\n",
       "      <th>1</th>\n",
       "      <td>166391</td>\n",
       "      <td>2</td>\n",
       "    </tr>\n",
       "    <tr>\n",
       "      <th>2</th>\n",
       "      <td>166392</td>\n",
       "      <td>3</td>\n",
       "    </tr>\n",
       "    <tr>\n",
       "      <th>3</th>\n",
       "      <td>166399</td>\n",
       "      <td>1</td>\n",
       "    </tr>\n",
       "    <tr>\n",
       "      <th>4</th>\n",
       "      <td>166405</td>\n",
       "      <td>10</td>\n",
       "    </tr>\n",
       "    <tr>\n",
       "      <th>5</th>\n",
       "      <td>166406</td>\n",
       "      <td>3</td>\n",
       "    </tr>\n",
       "    <tr>\n",
       "      <th>6</th>\n",
       "      <td>166407</td>\n",
       "      <td>8</td>\n",
       "    </tr>\n",
       "    <tr>\n",
       "      <th>7</th>\n",
       "      <td>166428</td>\n",
       "      <td>3</td>\n",
       "    </tr>\n",
       "    <tr>\n",
       "      <th>8</th>\n",
       "      <td>166481</td>\n",
       "      <td>1</td>\n",
       "    </tr>\n",
       "    <tr>\n",
       "      <th>9</th>\n",
       "      <td>166482</td>\n",
       "      <td>2</td>\n",
       "    </tr>\n",
       "  </tbody>\n",
       "</table>\n",
       "</div>"
      ],
      "text/plain": [
       "   user_id  operator_id\n",
       "0   166377            5\n",
       "1   166391            2\n",
       "2   166392            3\n",
       "3   166399            1\n",
       "4   166405           10\n",
       "5   166406            3\n",
       "6   166407            8\n",
       "7   166428            3\n",
       "8   166481            1\n",
       "9   166482            2"
      ]
     },
     "execution_count": 26,
     "metadata": {},
     "output_type": "execute_result"
    }
   ],
   "source": [
    "data_ds_fi_gr=data_ds_fi.groupby(['user_id'], as_index = False).agg({'operator_id': 'nunique'})\n",
    "data_ds_fi_gr.head(10)"
   ]
  },
  {
   "cell_type": "code",
   "execution_count": 27,
   "metadata": {},
   "outputs": [
    {
     "name": "stdout",
     "output_type": "stream",
     "text": [
      "<class 'pandas.core.frame.DataFrame'>\n",
      "Int64Index: 290 entries, 0 to 289\n",
      "Data columns (total 2 columns):\n",
      " #   Column       Non-Null Count  Dtype\n",
      "---  ------       --------------  -----\n",
      " 0   user_id      290 non-null    int64\n",
      " 1   operator_id  290 non-null    int64\n",
      "dtypes: int64(2)\n",
      "memory usage: 6.8 KB\n"
     ]
    }
   ],
   "source": [
    "data_ds_fi_gr.info()"
   ]
  },
  {
   "cell_type": "code",
   "execution_count": 28,
   "metadata": {
    "scrolled": false
   },
   "outputs": [
    {
     "data": {
      "image/png": "[encoded data removed]",
      "text/plain": [
       "<Figure size 1296x432 with 1 Axes>"
      ]
     },
     "metadata": {
      "needs_background": "light"
     },
     "output_type": "display_data"
    }
   ],
   "source": [
    "plt.figure(figsize = (18,6))\n",
    "data_ds_fi_gr['operator_id'].hist(bins=100, color = 'royalblue', edgecolor = 'black').set(title = 'Распределение КЦ по количеству операторов', xlabel = 'Количество операторов')\n",
    "plt.show()"
   ]
  },
  {
   "cell_type": "markdown",
   "metadata": {},
   "source": [
    "Видим, что большая часть КЦ имеет не более 5 операторов. Лишь несколько КЦ имеют более 10 операторов"
   ]
  },
  {
   "cell_type": "code",
   "execution_count": 29,
   "metadata": {},
   "outputs": [
    {
     "data": {
      "text/html": [
       "<div>\n",
       "<style scoped>\n",
       "    .dataframe tbody tr th:only-of-type {\n",
       "        vertical-align: middle;\n",
       "    }\n",
       "\n",
       "    .dataframe tbody tr th {\n",
       "        vertical-align: top;\n",
       "    }\n",
       "\n",
       "    .dataframe thead th {\n",
       "        text-align: right;\n",
       "    }\n",
       "</style>\n",
       "<table border=\"1\" class=\"dataframe\">\n",
       "  <thead>\n",
       "    <tr style=\"text-align: right;\">\n",
       "      <th></th>\n",
       "      <th>user_id</th>\n",
       "      <th>operator_id</th>\n",
       "      <th>calls_count</th>\n",
       "      <th>call_duration</th>\n",
       "      <th>total_call_duration</th>\n",
       "    </tr>\n",
       "  </thead>\n",
       "  <tbody>\n",
       "    <tr>\n",
       "      <th>count</th>\n",
       "      <td>40562.000000</td>\n",
       "      <td>40562.000000</td>\n",
       "      <td>40562.000000</td>\n",
       "      <td>40562.000000</td>\n",
       "      <td>40562.000000</td>\n",
       "    </tr>\n",
       "    <tr>\n",
       "      <th>mean</th>\n",
       "      <td>167298.329496</td>\n",
       "      <td>916495.163355</td>\n",
       "      <td>11.166609</td>\n",
       "      <td>740.013165</td>\n",
       "      <td>935.053819</td>\n",
       "    </tr>\n",
       "    <tr>\n",
       "      <th>std</th>\n",
       "      <td>597.644263</td>\n",
       "      <td>21146.602119</td>\n",
       "      <td>17.039748</td>\n",
       "      <td>1559.197629</td>\n",
       "      <td>1735.110369</td>\n",
       "    </tr>\n",
       "    <tr>\n",
       "      <th>min</th>\n",
       "      <td>166377.000000</td>\n",
       "      <td>879896.000000</td>\n",
       "      <td>1.000000</td>\n",
       "      <td>0.000000</td>\n",
       "      <td>0.000000</td>\n",
       "    </tr>\n",
       "    <tr>\n",
       "      <th>25%</th>\n",
       "      <td>166800.000000</td>\n",
       "      <td>900826.000000</td>\n",
       "      <td>1.000000</td>\n",
       "      <td>0.000000</td>\n",
       "      <td>65.000000</td>\n",
       "    </tr>\n",
       "    <tr>\n",
       "      <th>50%</th>\n",
       "      <td>167172.000000</td>\n",
       "      <td>913886.000000</td>\n",
       "      <td>4.000000</td>\n",
       "      <td>105.000000</td>\n",
       "      <td>273.000000</td>\n",
       "    </tr>\n",
       "    <tr>\n",
       "      <th>75%</th>\n",
       "      <td>167819.000000</td>\n",
       "      <td>937678.000000</td>\n",
       "      <td>12.000000</td>\n",
       "      <td>737.000000</td>\n",
       "      <td>1004.000000</td>\n",
       "    </tr>\n",
       "    <tr>\n",
       "      <th>max</th>\n",
       "      <td>168606.000000</td>\n",
       "      <td>973286.000000</td>\n",
       "      <td>100.000000</td>\n",
       "      <td>20282.000000</td>\n",
       "      <td>22087.000000</td>\n",
       "    </tr>\n",
       "  </tbody>\n",
       "</table>\n",
       "</div>"
      ],
      "text/plain": [
       "             user_id    operator_id   calls_count  call_duration  \\\n",
       "count   40562.000000   40562.000000  40562.000000   40562.000000   \n",
       "mean   167298.329496  916495.163355     11.166609     740.013165   \n",
       "std       597.644263   21146.602119     17.039748    1559.197629   \n",
       "min    166377.000000  879896.000000      1.000000       0.000000   \n",
       "25%    166800.000000  900826.000000      1.000000       0.000000   \n",
       "50%    167172.000000  913886.000000      4.000000     105.000000   \n",
       "75%    167819.000000  937678.000000     12.000000     737.000000   \n",
       "max    168606.000000  973286.000000    100.000000   20282.000000   \n",
       "\n",
       "       total_call_duration  \n",
       "count         40562.000000  \n",
       "mean            935.053819  \n",
       "std            1735.110369  \n",
       "min               0.000000  \n",
       "25%              65.000000  \n",
       "50%             273.000000  \n",
       "75%            1004.000000  \n",
       "max           22087.000000  "
      ]
     },
     "execution_count": 29,
     "metadata": {},
     "output_type": "execute_result"
    }
   ],
   "source": [
    "data_ds_fi.describe()"
   ]
  },
  {
   "cell_type": "code",
   "execution_count": 30,
   "metadata": {},
   "outputs": [
    {
     "data": {
      "image/png": "[encoded data removed]",
      "text/plain": [
       "<Figure size 1296x432 with 1 Axes>"
      ]
     },
     "metadata": {
      "needs_background": "light"
     },
     "output_type": "display_data"
    }
   ],
   "source": [
    "plt.figure(figsize = (18,6))\n",
    "data_ds_fi['calls_count'].hist(bins=100, color = 'royalblue', edgecolor = 'black').set(title = 'Распределение значений calls_count', xlabel = 'Значение calls_count')\n",
    "plt.show()"
   ]
  },
  {
   "cell_type": "markdown",
   "metadata": {},
   "source": [
    "Видим, что после того, как мы отбросили строки, где величина calls_count мы потеряли 929 строк (2,2%). И в нашем распоряжении данные от 290 КЦ из 307 изначальных. Далее будем использовать полученный датафрейм. И еще выглядит так, что мы имеем дело с длительностью разговора в секундах."
   ]
  },
  {
   "cell_type": "markdown",
   "metadata": {},
   "source": [
    "#### Исследование столбца total_call_duration на наличие аномальных значений."
   ]
  },
  {
   "cell_type": "markdown",
   "metadata": {},
   "source": [
    "После того, как мы сделали выборку без аномальных значений в столбце calls_count, аномальные значения в столбце total_call_duration также пропали. Соответственно нет необходимости в дополнительной обработке в этой части."
   ]
  },
  {
   "cell_type": "markdown",
   "metadata": {},
   "source": [
    "#### Распределение операторов по колл-центрам"
   ]
  },
  {
   "cell_type": "code",
   "execution_count": 31,
   "metadata": {},
   "outputs": [
    {
     "data": {
      "text/html": [
       "<div>\n",
       "<style scoped>\n",
       "    .dataframe tbody tr th:only-of-type {\n",
       "        vertical-align: middle;\n",
       "    }\n",
       "\n",
       "    .dataframe tbody tr th {\n",
       "        vertical-align: top;\n",
       "    }\n",
       "\n",
       "    .dataframe thead th {\n",
       "        text-align: right;\n",
       "    }\n",
       "</style>\n",
       "<table border=\"1\" class=\"dataframe\">\n",
       "  <thead>\n",
       "    <tr style=\"text-align: right;\">\n",
       "      <th></th>\n",
       "      <th>user_id</th>\n",
       "      <th>operator_id</th>\n",
       "    </tr>\n",
       "  </thead>\n",
       "  <tbody>\n",
       "    <tr>\n",
       "      <th>252</th>\n",
       "      <td>168187</td>\n",
       "      <td>50</td>\n",
       "    </tr>\n",
       "    <tr>\n",
       "      <th>170</th>\n",
       "      <td>167626</td>\n",
       "      <td>48</td>\n",
       "    </tr>\n",
       "    <tr>\n",
       "      <th>156</th>\n",
       "      <td>167497</td>\n",
       "      <td>30</td>\n",
       "    </tr>\n",
       "    <tr>\n",
       "      <th>259</th>\n",
       "      <td>168252</td>\n",
       "      <td>28</td>\n",
       "    </tr>\n",
       "    <tr>\n",
       "      <th>270</th>\n",
       "      <td>168361</td>\n",
       "      <td>27</td>\n",
       "    </tr>\n",
       "    <tr>\n",
       "      <th>236</th>\n",
       "      <td>168062</td>\n",
       "      <td>27</td>\n",
       "    </tr>\n",
       "    <tr>\n",
       "      <th>35</th>\n",
       "      <td>166680</td>\n",
       "      <td>21</td>\n",
       "    </tr>\n",
       "    <tr>\n",
       "      <th>16</th>\n",
       "      <td>166520</td>\n",
       "      <td>18</td>\n",
       "    </tr>\n",
       "    <tr>\n",
       "      <th>28</th>\n",
       "      <td>166658</td>\n",
       "      <td>17</td>\n",
       "    </tr>\n",
       "    <tr>\n",
       "      <th>66</th>\n",
       "      <td>166916</td>\n",
       "      <td>16</td>\n",
       "    </tr>\n",
       "  </tbody>\n",
       "</table>\n",
       "</div>"
      ],
      "text/plain": [
       "     user_id  operator_id\n",
       "252   168187           50\n",
       "170   167626           48\n",
       "156   167497           30\n",
       "259   168252           28\n",
       "270   168361           27\n",
       "236   168062           27\n",
       "35    166680           21\n",
       "16    166520           18\n",
       "28    166658           17\n",
       "66    166916           16"
      ]
     },
     "metadata": {},
     "output_type": "display_data"
    },
    {
     "data": {
      "text/html": [
       "<div>\n",
       "<style scoped>\n",
       "    .dataframe tbody tr th:only-of-type {\n",
       "        vertical-align: middle;\n",
       "    }\n",
       "\n",
       "    .dataframe tbody tr th {\n",
       "        vertical-align: top;\n",
       "    }\n",
       "\n",
       "    .dataframe thead th {\n",
       "        text-align: right;\n",
       "    }\n",
       "</style>\n",
       "<table border=\"1\" class=\"dataframe\">\n",
       "  <thead>\n",
       "    <tr style=\"text-align: right;\">\n",
       "      <th></th>\n",
       "      <th>user_id</th>\n",
       "      <th>operator_id</th>\n",
       "    </tr>\n",
       "  </thead>\n",
       "  <tbody>\n",
       "    <tr>\n",
       "      <th>159</th>\n",
       "      <td>167530</td>\n",
       "      <td>1</td>\n",
       "    </tr>\n",
       "    <tr>\n",
       "      <th>161</th>\n",
       "      <td>167533</td>\n",
       "      <td>1</td>\n",
       "    </tr>\n",
       "    <tr>\n",
       "      <th>179</th>\n",
       "      <td>167664</td>\n",
       "      <td>1</td>\n",
       "    </tr>\n",
       "    <tr>\n",
       "      <th>163</th>\n",
       "      <td>167543</td>\n",
       "      <td>1</td>\n",
       "    </tr>\n",
       "    <tr>\n",
       "      <th>168</th>\n",
       "      <td>167599</td>\n",
       "      <td>1</td>\n",
       "    </tr>\n",
       "    <tr>\n",
       "      <th>169</th>\n",
       "      <td>167621</td>\n",
       "      <td>1</td>\n",
       "    </tr>\n",
       "    <tr>\n",
       "      <th>171</th>\n",
       "      <td>167630</td>\n",
       "      <td>1</td>\n",
       "    </tr>\n",
       "    <tr>\n",
       "      <th>54</th>\n",
       "      <td>166833</td>\n",
       "      <td>1</td>\n",
       "    </tr>\n",
       "    <tr>\n",
       "      <th>175</th>\n",
       "      <td>167646</td>\n",
       "      <td>1</td>\n",
       "    </tr>\n",
       "    <tr>\n",
       "      <th>289</th>\n",
       "      <td>168606</td>\n",
       "      <td>1</td>\n",
       "    </tr>\n",
       "  </tbody>\n",
       "</table>\n",
       "</div>"
      ],
      "text/plain": [
       "     user_id  operator_id\n",
       "159   167530            1\n",
       "161   167533            1\n",
       "179   167664            1\n",
       "163   167543            1\n",
       "168   167599            1\n",
       "169   167621            1\n",
       "171   167630            1\n",
       "54    166833            1\n",
       "175   167646            1\n",
       "289   168606            1"
      ]
     },
     "execution_count": 31,
     "metadata": {},
     "output_type": "execute_result"
    }
   ],
   "source": [
    "data_cc_op_f=data_ds_fi.groupby(['user_id'], as_index = False).agg({'operator_id': 'nunique'}).sort_values(by=['operator_id'], ascending=False)\n",
    "\n",
    "display (data_cc_op_f.head(10))\n",
    "data_cc_op_f.tail(10)\n"
   ]
  },
  {
   "cell_type": "code",
   "execution_count": 32,
   "metadata": {},
   "outputs": [
    {
     "data": {
      "image/png": "[encoded data removed]",
      "text/plain": [
       "<Figure size 1296x432 with 1 Axes>"
      ]
     },
     "metadata": {
      "needs_background": "light"
     },
     "output_type": "display_data"
    }
   ],
   "source": [
    "plt.figure(figsize = (18,6))\n",
    "(\n",
    "data_cc_op_f['operator_id'].hist(bins=50, color = 'royalblue', edgecolor = 'black').set(title = 'Распределение операторов по КЦ',\n",
    "             xlabel = 'Количество операторов', ylabel = 'Количество КЦ')\n",
    ")\n",
    "plt.show()"
   ]
  },
  {
   "cell_type": "markdown",
   "metadata": {},
   "source": [
    "Видим, что большая часть КЦ имеет не более 5 операторов. Лишь несколько КЦ имеют более 10 операторов"
   ]
  },
  {
   "cell_type": "markdown",
   "metadata": {},
   "source": [
    "#### Преобразавание данных в столбце date"
   ]
  },
  {
   "cell_type": "code",
   "execution_count": 33,
   "metadata": {},
   "outputs": [
    {
     "name": "stdout",
     "output_type": "stream",
     "text": [
      "0    2019-08-05 00:00:00+03:00\n",
      "1    2019-08-05 00:00:00+03:00\n",
      "2    2019-08-05 00:00:00+03:00\n",
      "3    2019-08-05 00:00:00+03:00\n",
      "4    2019-08-05 00:00:00+03:00\n",
      "Name: date, dtype: object\n"
     ]
    },
    {
     "name": "stderr",
     "output_type": "stream",
     "text": [
      "/opt/conda/lib/python3.9/site-packages/pandas/core/indexing.py:1676: SettingWithCopyWarning: \n",
      "A value is trying to be set on a copy of a slice from a DataFrame.\n",
      "Try using .loc[row_indexer,col_indexer] = value instead\n",
      "\n",
      "See the caveats in the documentation: https://pandas.pydata.org/pandas-docs/stable/user_guide/indexing.html#returning-a-view-versus-a-copy\n",
      "  self._setitem_single_column(ilocs[0], value, pi)\n"
     ]
    },
    {
     "name": "stdout",
     "output_type": "stream",
     "text": [
      "0   2019-08-05\n",
      "1   2019-08-05\n",
      "2   2019-08-05\n",
      "3   2019-08-05\n",
      "4   2019-08-05\n",
      "Name: date, dtype: datetime64[ns]\n"
     ]
    }
   ],
   "source": [
    "print(data_ds_fi['date'].head())\n",
    "\n",
    "data_ds_fi.loc[:,'date'] = pd.to_datetime(data_ds_fi.loc[:,'date'])\n",
    "data_ds_fi.loc[:,'date'] = pd.to_datetime(data_ds_fi.loc[:,'date'].map(lambda x: dt.datetime.date(x)))\n",
    "\n",
    "print(data_ds_fi['date'].head())\n"
   ]
  },
  {
   "cell_type": "markdown",
   "metadata": {},
   "source": [
    "#### За какой период у нас данные"
   ]
  },
  {
   "cell_type": "code",
   "execution_count": 34,
   "metadata": {},
   "outputs": [
    {
     "name": "stdout",
     "output_type": "stream",
     "text": [
      "2019-08-02 00:00:00\n"
     ]
    }
   ],
   "source": [
    "print (data_ds_fi['date'].min())"
   ]
  },
  {
   "cell_type": "code",
   "execution_count": 35,
   "metadata": {},
   "outputs": [
    {
     "name": "stdout",
     "output_type": "stream",
     "text": [
      "2019-11-28 00:00:00\n"
     ]
    }
   ],
   "source": [
    "print (data_ds_fi['date'].max())"
   ]
  },
  {
   "cell_type": "markdown",
   "metadata": {},
   "source": [
    "У нас данные со второго августа по двадцать восьмое ноября. Попробуем оценить распределение количества строк по датам."
   ]
  },
  {
   "cell_type": "code",
   "execution_count": 36,
   "metadata": {},
   "outputs": [
    {
     "data": {
      "image/png": "[encoded data removed]",
      "text/plain": [
       "<Figure size 1296x432 with 1 Axes>"
      ]
     },
     "metadata": {
      "needs_background": "light"
     },
     "output_type": "display_data"
    }
   ],
   "source": [
    "plt.figure(figsize = (18,6))\n",
    "data_ds_fi['date'].hist(bins=100, color = 'royalblue', edgecolor = 'black').set(title = 'Распределение количества строк с данными по датам', xlabel = 'Дата')\n",
    "plt.show()"
   ]
  },
  {
   "cell_type": "markdown",
   "metadata": {},
   "source": [
    "Здесь нужно отметить, что за первый месяц исследования наши данные довольно малочислены. Т.е. мы видим менее чем по 250 операторам в день. Пока просто возьмем это на заметку, но избавляться от части строк за эти даты не будем пока. "
   ]
  },
  {
   "cell_type": "markdown",
   "metadata": {},
   "source": [
    "#### Проверка корректности заполнения в столбцах directon и internal."
   ]
  },
  {
   "cell_type": "markdown",
   "metadata": {},
   "source": [
    "Мы уже знаем, что в этих столбцах нет пропусков. Осталость убедиться, что в каждом из них только два варианта значений. Ну и заодно посчитать количество этих значений. Используем метод groupby."
   ]
  },
  {
   "cell_type": "code",
   "execution_count": 37,
   "metadata": {},
   "outputs": [
    {
     "data": {
      "text/html": [
       "<div>\n",
       "<style scoped>\n",
       "    .dataframe tbody tr th:only-of-type {\n",
       "        vertical-align: middle;\n",
       "    }\n",
       "\n",
       "    .dataframe tbody tr th {\n",
       "        vertical-align: top;\n",
       "    }\n",
       "\n",
       "    .dataframe thead th {\n",
       "        text-align: right;\n",
       "    }\n",
       "</style>\n",
       "<table border=\"1\" class=\"dataframe\">\n",
       "  <thead>\n",
       "    <tr style=\"text-align: right;\">\n",
       "      <th></th>\n",
       "      <th>direction</th>\n",
       "      <th>operator_id</th>\n",
       "    </tr>\n",
       "  </thead>\n",
       "  <tbody>\n",
       "    <tr>\n",
       "      <th>0</th>\n",
       "      <td>in</td>\n",
       "      <td>754</td>\n",
       "    </tr>\n",
       "    <tr>\n",
       "      <th>1</th>\n",
       "      <td>out</td>\n",
       "      <td>882</td>\n",
       "    </tr>\n",
       "  </tbody>\n",
       "</table>\n",
       "</div>"
      ],
      "text/plain": [
       "  direction  operator_id\n",
       "0        in          754\n",
       "1       out          882"
      ]
     },
     "execution_count": 37,
     "metadata": {},
     "output_type": "execute_result"
    }
   ],
   "source": [
    "data_dir_t=data_ds_fi.groupby(['direction'], as_index = False).agg({'operator_id': 'nunique'})\n",
    "data_dir_t"
   ]
  },
  {
   "cell_type": "code",
   "execution_count": 38,
   "metadata": {},
   "outputs": [
    {
     "data": {
      "text/html": [
       "<div>\n",
       "<style scoped>\n",
       "    .dataframe tbody tr th:only-of-type {\n",
       "        vertical-align: middle;\n",
       "    }\n",
       "\n",
       "    .dataframe tbody tr th {\n",
       "        vertical-align: top;\n",
       "    }\n",
       "\n",
       "    .dataframe thead th {\n",
       "        text-align: right;\n",
       "    }\n",
       "</style>\n",
       "<table border=\"1\" class=\"dataframe\">\n",
       "  <thead>\n",
       "    <tr style=\"text-align: right;\">\n",
       "      <th></th>\n",
       "      <th>internal</th>\n",
       "      <th>operator_id</th>\n",
       "    </tr>\n",
       "  </thead>\n",
       "  <tbody>\n",
       "    <tr>\n",
       "      <th>0</th>\n",
       "      <td>False</td>\n",
       "      <td>1055</td>\n",
       "    </tr>\n",
       "    <tr>\n",
       "      <th>1</th>\n",
       "      <td>True</td>\n",
       "      <td>568</td>\n",
       "    </tr>\n",
       "  </tbody>\n",
       "</table>\n",
       "</div>"
      ],
      "text/plain": [
       "   internal  operator_id\n",
       "0     False         1055\n",
       "1      True          568"
      ]
     },
     "execution_count": 38,
     "metadata": {},
     "output_type": "execute_result"
    }
   ],
   "source": [
    "data_int=data_ds_fi.groupby(['internal'], as_index = False).agg({'operator_id': 'nunique'})\n",
    "data_int.head()"
   ]
  },
  {
   "cell_type": "markdown",
   "metadata": {},
   "source": [
    "На входящих и исходящих звонках работает примерно одинаковое количество операторов."
   ]
  },
  {
   "cell_type": "markdown",
   "metadata": {},
   "source": [
    "Проверим гипотезу о том, что все внутренние звонки исходящие (т.е. друг другу)"
   ]
  },
  {
   "cell_type": "code",
   "execution_count": 39,
   "metadata": {
    "scrolled": true
   },
   "outputs": [
    {
     "data": {
      "text/html": [
       "<div>\n",
       "<style scoped>\n",
       "    .dataframe tbody tr th:only-of-type {\n",
       "        vertical-align: middle;\n",
       "    }\n",
       "\n",
       "    .dataframe tbody tr th {\n",
       "        vertical-align: top;\n",
       "    }\n",
       "\n",
       "    .dataframe thead th {\n",
       "        text-align: right;\n",
       "    }\n",
       "</style>\n",
       "<table border=\"1\" class=\"dataframe\">\n",
       "  <thead>\n",
       "    <tr style=\"text-align: right;\">\n",
       "      <th></th>\n",
       "      <th>direction</th>\n",
       "      <th>calls_count</th>\n",
       "    </tr>\n",
       "  </thead>\n",
       "  <tbody>\n",
       "    <tr>\n",
       "      <th>0</th>\n",
       "      <td>in</td>\n",
       "      <td>691</td>\n",
       "    </tr>\n",
       "    <tr>\n",
       "      <th>1</th>\n",
       "      <td>out</td>\n",
       "      <td>12974</td>\n",
       "    </tr>\n",
       "  </tbody>\n",
       "</table>\n",
       "</div>"
      ],
      "text/plain": [
       "  direction  calls_count\n",
       "0        in          691\n",
       "1       out        12974"
      ]
     },
     "execution_count": 39,
     "metadata": {},
     "output_type": "execute_result"
    }
   ],
   "source": [
    "data_int_sel=data_ds_fi.query('internal == True').groupby(['direction'], as_index = False).agg({'calls_count': 'sum'})\n",
    "data_int_sel.head(20)"
   ]
  },
  {
   "cell_type": "markdown",
   "metadata": {},
   "source": [
    "Среди внутренних звонков есть и входящие и исходящие. Хотя, конечно, исходящих более чем в 20 раз больше."
   ]
  },
  {
   "cell_type": "markdown",
   "metadata": {},
   "source": [
    "#### Проверка вхождения user_id из data_ds_fi в data_cl"
   ]
  },
  {
   "cell_type": "code",
   "execution_count": 40,
   "metadata": {},
   "outputs": [
    {
     "name": "stdout",
     "output_type": "stream",
     "text": [
      "Количество уникальных идентификаторов КЦ в датафрейме data_ds_fi: 290\n"
     ]
    }
   ],
   "source": [
    "ds_user_id=data_ds_fi['user_id'].unique()\n",
    "\n",
    "print('Количество уникальных идентификаторов КЦ в датафрейме data_ds_fi:',len(ds_user_id))"
   ]
  },
  {
   "cell_type": "code",
   "execution_count": 41,
   "metadata": {},
   "outputs": [
    {
     "name": "stdout",
     "output_type": "stream",
     "text": [
      "Количество уникальных идентификаторов КЦ в датафрейме data_cl: 732\n"
     ]
    }
   ],
   "source": [
    "ds_user_id_cl=data_cl['user_id'].unique()\n",
    "\n",
    "print('Количество уникальных идентификаторов КЦ в датафрейме data_cl:',len(ds_user_id_cl))"
   ]
  },
  {
   "cell_type": "markdown",
   "metadata": {},
   "source": [
    "Теперь создадим выборку значений из столбца 'user_id' во датафрейме ds_user_id_cl, куда войдут только значения из ds_user_id. И если ее длина будет 290, то все значения 'user_id' из data_ds_fi, содержатся в data_cl."
   ]
  },
  {
   "cell_type": "code",
   "execution_count": 42,
   "metadata": {},
   "outputs": [
    {
     "name": "stdout",
     "output_type": "stream",
     "text": [
      "290 значений user_id из датафрейма data_ds_fi входят в data_cl\n"
     ]
    }
   ],
   "source": [
    "length = 0\n",
    "for i in range(len(ds_user_id)):\n",
    "    if ds_user_id[i-1] in ds_user_id_cl:\n",
    "        length = length+1\n",
    "        \n",
    "print (length, 'значений user_id из датафрейма data_ds_fi входят в data_cl')"
   ]
  },
  {
   "cell_type": "markdown",
   "metadata": {},
   "source": [
    "Все значения вошли."
   ]
  },
  {
   "cell_type": "markdown",
   "metadata": {},
   "source": [
    "#### Промежуточные результаты и выводы после предобработки данных"
   ]
  },
  {
   "cell_type": "markdown",
   "metadata": {},
   "source": [
    "1. Удалены 4900 дубликатов.\n",
    "2. В датафрейме data_ds данные изначально были только из 307 КЦ (из 732 в датафрейме с информацией по контрактам). После обработки остались данные по 290 КЦ.\n",
    "3. Мы удалили 10 строк, где содержались пропуски в столбце internal.\n",
    "4. Мы удалили 7401 строку, где содержались пропуски в столбце operator_id. Это значительное количество, но иначе мы бы получили искажения в последующем анализе.\n",
    "5. После удаления 929 строк с аномально большими значениями в столбце calls_count у нас остались в датафрейме 40562 строки (из изначальных 53902) и данные о 290 КЦ из изначальных 307. Т.е. в результате предобработки мы удалили около 25% строк. Это значительное количество, но удаленное либо невозможно было бы вовлечь в последующий анализ, либо наши данные были бы искажены.\n",
    "6. Нет КЦ, специализирующихся только на исходящих или только входящих звонках (и операторов тоже нет). \n",
    "7. В нашем распоряжении данные за период с 02 августа 2019 года по 28 ноября 2019 года. Причем мы имеем более чем по 250 строк в день, только начиная с 15 сентября. Возможно, в последующем анализе стоит отбросить более ранние даты.\n",
    "8. Длительность звонков в секундах."
   ]
  },
  {
   "cell_type": "markdown",
   "metadata": {},
   "source": [
    "### Поиск и формулирование критериев эффективности операторов. Исследовательский анализ данных."
   ]
  },
  {
   "cell_type": "markdown",
   "metadata": {},
   "source": [
    "#### Критерии эффективности (предложение)."
   ]
  },
  {
   "cell_type": "markdown",
   "metadata": {},
   "source": [
    "Важное замечание: определим, что неэффективность оператора необязательно следствие его плохой работы, но, возможно, и того что КЦ не обеспечивает достаточную загрузку в виде баз для исходящих звонков, либо малого количества входящих звонков.\n",
    "В качестве критериев для оценки эффективности работы операторов примем:\n",
    "1. Общее время, которое оператор проводит за телефонными звонками. Исходим из того, что в рабочем дне 8 часов (из них 1 час на обед и 1 час на санитарные нужды). Итого 6 часов с полной загрузкой на смену. На одном рабочем месте (с одним opertor_id) могут в 3 смены работать 3 разных человека. Тогда у нас получится фонд рабочего времени 18 часов (после анализа показателей поймем, насколько примлемо допущение о 18 часах в сутки (или для всех ли КЦ). (6 часов = 360 минут = 21 600 секунд)(18 часов = 1 080 минут = 64 800 секунд)\n",
    "    1. Расчет времени за звонками для трех тарифов.\n",
    "2. Количество пропущенных оператором звонков (в том случае, если звонок был на него распределен, но пропущен). Примем, что для КЦ в целом приемлемая доля пропущенных звонков 5%. Из них убираем долю нераспределенные звонки. Оставшиеся будут допустимым процентом для операторов. Если не укладываются, то неэффективны.\n",
    "3. Возможно не у всех операторов в принципе есть пропущенные звонки. И это дополнительный критерий эффективности. Т.е. оператор эффективен (по этому критерию), если звонков нет вообще. Вторая ступень (есть пропущенные звонки, но время ожидания у оператора меньше). Третья ступень: есть пропущенные звонки и время ожидания больше среднего.\n",
    "4. Время ожидания ответа оператора. Здесь мы сравним среднее время по пропущенным звонкам (у абонента не хватило терпения). И если наш оператор показывает среднее время ожидания (даже и по отвеченным звонкам) хуже этой величины, то он неэффективен."
   ]
  },
  {
   "cell_type": "markdown",
   "metadata": {},
   "source": [
    "Для начала поймем, а о скольки уникальных операторах у нас в принципе есть данные в нашем датафрейме."
   ]
  },
  {
   "cell_type": "code",
   "execution_count": 43,
   "metadata": {},
   "outputs": [
    {
     "name": "stdout",
     "output_type": "stream",
     "text": [
      "Количество уникальных идентификаторов операторов в датафрейме data_ds_fi: 1092\n"
     ]
    }
   ],
   "source": [
    "ds_op_id=data_ds_fi['operator_id'].unique()\n",
    "\n",
    "print('Количество уникальных идентификаторов операторов в датафрейме data_ds_fi:',len(ds_op_id))"
   ]
  },
  {
   "cell_type": "markdown",
   "metadata": {},
   "source": [
    "#### Исследование разницы в работе КЦ на разных тарифах"
   ]
  },
  {
   "cell_type": "markdown",
   "metadata": {},
   "source": [
    "Попробуем определить есть ли разница в модели работы между КЦ на разных тарифах. Определим количества и названия используемых тарифов. Их 3."
   ]
  },
  {
   "cell_type": "code",
   "execution_count": 44,
   "metadata": {},
   "outputs": [
    {
     "data": {
      "text/plain": [
       "array(['A', 'C', 'B'], dtype=object)"
      ]
     },
     "execution_count": 44,
     "metadata": {},
     "output_type": "execute_result"
    }
   ],
   "source": [
    "ds_tarpl=data_cl['tariff_plan'].unique()\n",
    "ds_tarpl"
   ]
  },
  {
   "cell_type": "markdown",
   "metadata": {},
   "source": [
    "Выполним слияние датафреймов data_ds_fi и data_cl по столбцу user_id."
   ]
  },
  {
   "cell_type": "code",
   "execution_count": 45,
   "metadata": {},
   "outputs": [
    {
     "name": "stdout",
     "output_type": "stream",
     "text": [
      "<class 'pandas.core.frame.DataFrame'>\n",
      "RangeIndex: 40562 entries, 0 to 40561\n",
      "Data columns (total 11 columns):\n",
      " #   Column               Non-Null Count  Dtype         \n",
      "---  ------               --------------  -----         \n",
      " 0   user_id              40562 non-null  int64         \n",
      " 1   date                 40562 non-null  datetime64[ns]\n",
      " 2   direction            40562 non-null  object        \n",
      " 3   internal             40562 non-null  object        \n",
      " 4   operator_id          40562 non-null  int64         \n",
      " 5   is_missed_call       40562 non-null  bool          \n",
      " 6   calls_count          40562 non-null  int64         \n",
      " 7   call_duration        40562 non-null  int64         \n",
      " 8   total_call_duration  40562 non-null  int64         \n",
      " 9   tariff_plan          40562 non-null  object        \n",
      " 10  date_start           40562 non-null  object        \n",
      "dtypes: bool(1), datetime64[ns](1), int64(5), object(4)\n",
      "memory usage: 3.1+ MB\n"
     ]
    },
    {
     "data": {
      "text/html": [
       "<div>\n",
       "<style scoped>\n",
       "    .dataframe tbody tr th:only-of-type {\n",
       "        vertical-align: middle;\n",
       "    }\n",
       "\n",
       "    .dataframe tbody tr th {\n",
       "        vertical-align: top;\n",
       "    }\n",
       "\n",
       "    .dataframe thead th {\n",
       "        text-align: right;\n",
       "    }\n",
       "</style>\n",
       "<table border=\"1\" class=\"dataframe\">\n",
       "  <thead>\n",
       "    <tr style=\"text-align: right;\">\n",
       "      <th></th>\n",
       "      <th>user_id</th>\n",
       "      <th>date</th>\n",
       "      <th>direction</th>\n",
       "      <th>internal</th>\n",
       "      <th>operator_id</th>\n",
       "      <th>is_missed_call</th>\n",
       "      <th>calls_count</th>\n",
       "      <th>call_duration</th>\n",
       "      <th>total_call_duration</th>\n",
       "      <th>tariff_plan</th>\n",
       "      <th>date_start</th>\n",
       "    </tr>\n",
       "  </thead>\n",
       "  <tbody>\n",
       "    <tr>\n",
       "      <th>0</th>\n",
       "      <td>166377</td>\n",
       "      <td>2019-08-05</td>\n",
       "      <td>out</td>\n",
       "      <td>True</td>\n",
       "      <td>880022</td>\n",
       "      <td>True</td>\n",
       "      <td>3</td>\n",
       "      <td>0</td>\n",
       "      <td>5</td>\n",
       "      <td>B</td>\n",
       "      <td>2019-08-01</td>\n",
       "    </tr>\n",
       "    <tr>\n",
       "      <th>1</th>\n",
       "      <td>166377</td>\n",
       "      <td>2019-08-05</td>\n",
       "      <td>out</td>\n",
       "      <td>True</td>\n",
       "      <td>880020</td>\n",
       "      <td>True</td>\n",
       "      <td>1</td>\n",
       "      <td>0</td>\n",
       "      <td>1</td>\n",
       "      <td>B</td>\n",
       "      <td>2019-08-01</td>\n",
       "    </tr>\n",
       "    <tr>\n",
       "      <th>2</th>\n",
       "      <td>166377</td>\n",
       "      <td>2019-08-05</td>\n",
       "      <td>out</td>\n",
       "      <td>True</td>\n",
       "      <td>880020</td>\n",
       "      <td>False</td>\n",
       "      <td>1</td>\n",
       "      <td>10</td>\n",
       "      <td>18</td>\n",
       "      <td>B</td>\n",
       "      <td>2019-08-01</td>\n",
       "    </tr>\n",
       "    <tr>\n",
       "      <th>3</th>\n",
       "      <td>166377</td>\n",
       "      <td>2019-08-05</td>\n",
       "      <td>out</td>\n",
       "      <td>False</td>\n",
       "      <td>880022</td>\n",
       "      <td>True</td>\n",
       "      <td>3</td>\n",
       "      <td>0</td>\n",
       "      <td>25</td>\n",
       "      <td>B</td>\n",
       "      <td>2019-08-01</td>\n",
       "    </tr>\n",
       "    <tr>\n",
       "      <th>4</th>\n",
       "      <td>166377</td>\n",
       "      <td>2019-08-05</td>\n",
       "      <td>out</td>\n",
       "      <td>False</td>\n",
       "      <td>880020</td>\n",
       "      <td>False</td>\n",
       "      <td>2</td>\n",
       "      <td>3</td>\n",
       "      <td>29</td>\n",
       "      <td>B</td>\n",
       "      <td>2019-08-01</td>\n",
       "    </tr>\n",
       "    <tr>\n",
       "      <th>5</th>\n",
       "      <td>166377</td>\n",
       "      <td>2019-08-05</td>\n",
       "      <td>out</td>\n",
       "      <td>False</td>\n",
       "      <td>880020</td>\n",
       "      <td>True</td>\n",
       "      <td>8</td>\n",
       "      <td>0</td>\n",
       "      <td>50</td>\n",
       "      <td>B</td>\n",
       "      <td>2019-08-01</td>\n",
       "    </tr>\n",
       "    <tr>\n",
       "      <th>6</th>\n",
       "      <td>166377</td>\n",
       "      <td>2019-08-06</td>\n",
       "      <td>out</td>\n",
       "      <td>False</td>\n",
       "      <td>881278</td>\n",
       "      <td>True</td>\n",
       "      <td>3</td>\n",
       "      <td>0</td>\n",
       "      <td>29</td>\n",
       "      <td>B</td>\n",
       "      <td>2019-08-01</td>\n",
       "    </tr>\n",
       "    <tr>\n",
       "      <th>7</th>\n",
       "      <td>166377</td>\n",
       "      <td>2019-08-06</td>\n",
       "      <td>out</td>\n",
       "      <td>False</td>\n",
       "      <td>880020</td>\n",
       "      <td>True</td>\n",
       "      <td>5</td>\n",
       "      <td>0</td>\n",
       "      <td>70</td>\n",
       "      <td>B</td>\n",
       "      <td>2019-08-01</td>\n",
       "    </tr>\n",
       "    <tr>\n",
       "      <th>8</th>\n",
       "      <td>166377</td>\n",
       "      <td>2019-08-06</td>\n",
       "      <td>out</td>\n",
       "      <td>True</td>\n",
       "      <td>881278</td>\n",
       "      <td>True</td>\n",
       "      <td>2</td>\n",
       "      <td>0</td>\n",
       "      <td>5</td>\n",
       "      <td>B</td>\n",
       "      <td>2019-08-01</td>\n",
       "    </tr>\n",
       "    <tr>\n",
       "      <th>9</th>\n",
       "      <td>166377</td>\n",
       "      <td>2019-08-06</td>\n",
       "      <td>out</td>\n",
       "      <td>False</td>\n",
       "      <td>880020</td>\n",
       "      <td>False</td>\n",
       "      <td>5</td>\n",
       "      <td>800</td>\n",
       "      <td>819</td>\n",
       "      <td>B</td>\n",
       "      <td>2019-08-01</td>\n",
       "    </tr>\n",
       "  </tbody>\n",
       "</table>\n",
       "</div>"
      ],
      "text/plain": [
       "   user_id       date direction internal  operator_id  is_missed_call  \\\n",
       "0   166377 2019-08-05       out     True       880022            True   \n",
       "1   166377 2019-08-05       out     True       880020            True   \n",
       "2   166377 2019-08-05       out     True       880020           False   \n",
       "3   166377 2019-08-05       out    False       880022            True   \n",
       "4   166377 2019-08-05       out    False       880020           False   \n",
       "5   166377 2019-08-05       out    False       880020            True   \n",
       "6   166377 2019-08-06       out    False       881278            True   \n",
       "7   166377 2019-08-06       out    False       880020            True   \n",
       "8   166377 2019-08-06       out     True       881278            True   \n",
       "9   166377 2019-08-06       out    False       880020           False   \n",
       "\n",
       "   calls_count  call_duration  total_call_duration tariff_plan  date_start  \n",
       "0            3              0                    5           B  2019-08-01  \n",
       "1            1              0                    1           B  2019-08-01  \n",
       "2            1             10                   18           B  2019-08-01  \n",
       "3            3              0                   25           B  2019-08-01  \n",
       "4            2              3                   29           B  2019-08-01  \n",
       "5            8              0                   50           B  2019-08-01  \n",
       "6            3              0                   29           B  2019-08-01  \n",
       "7            5              0                   70           B  2019-08-01  \n",
       "8            2              0                    5           B  2019-08-01  \n",
       "9            5            800                  819           B  2019-08-01  "
      ]
     },
     "execution_count": 45,
     "metadata": {},
     "output_type": "execute_result"
    }
   ],
   "source": [
    "data_ds_fin=data_ds_fi.merge(data_cl, on='user_id', how='inner')\n",
    "data_ds_fin.reset_index(drop=True, inplace=True)\n",
    "data_ds_fin.info()\n",
    "data_ds_fin.head(10)"
   ]
  },
  {
   "cell_type": "code",
   "execution_count": 46,
   "metadata": {
    "scrolled": true
   },
   "outputs": [
    {
     "data": {
      "text/html": [
       "<div>\n",
       "<style scoped>\n",
       "    .dataframe tbody tr th:only-of-type {\n",
       "        vertical-align: middle;\n",
       "    }\n",
       "\n",
       "    .dataframe tbody tr th {\n",
       "        vertical-align: top;\n",
       "    }\n",
       "\n",
       "    .dataframe thead th {\n",
       "        text-align: right;\n",
       "    }\n",
       "</style>\n",
       "<table border=\"1\" class=\"dataframe\">\n",
       "  <thead>\n",
       "    <tr style=\"text-align: right;\">\n",
       "      <th></th>\n",
       "      <th>tariff_plan</th>\n",
       "      <th>direction</th>\n",
       "      <th>user_id</th>\n",
       "      <th>operator_id</th>\n",
       "      <th>calls_count</th>\n",
       "      <th>call_duration</th>\n",
       "      <th>total_call_duration</th>\n",
       "    </tr>\n",
       "  </thead>\n",
       "  <tbody>\n",
       "    <tr>\n",
       "      <th>0</th>\n",
       "      <td>A</td>\n",
       "      <td>in</td>\n",
       "      <td>29</td>\n",
       "      <td>186</td>\n",
       "      <td>3</td>\n",
       "      <td>295.5</td>\n",
       "      <td>342.0</td>\n",
       "    </tr>\n",
       "    <tr>\n",
       "      <th>1</th>\n",
       "      <td>A</td>\n",
       "      <td>out</td>\n",
       "      <td>27</td>\n",
       "      <td>278</td>\n",
       "      <td>7</td>\n",
       "      <td>19.0</td>\n",
       "      <td>379.0</td>\n",
       "    </tr>\n",
       "    <tr>\n",
       "      <th>2</th>\n",
       "      <td>B</td>\n",
       "      <td>in</td>\n",
       "      <td>93</td>\n",
       "      <td>276</td>\n",
       "      <td>2</td>\n",
       "      <td>259.0</td>\n",
       "      <td>305.0</td>\n",
       "    </tr>\n",
       "    <tr>\n",
       "      <th>3</th>\n",
       "      <td>B</td>\n",
       "      <td>out</td>\n",
       "      <td>87</td>\n",
       "      <td>329</td>\n",
       "      <td>4</td>\n",
       "      <td>29.0</td>\n",
       "      <td>226.5</td>\n",
       "    </tr>\n",
       "    <tr>\n",
       "      <th>4</th>\n",
       "      <td>C</td>\n",
       "      <td>in</td>\n",
       "      <td>151</td>\n",
       "      <td>292</td>\n",
       "      <td>3</td>\n",
       "      <td>238.0</td>\n",
       "      <td>281.5</td>\n",
       "    </tr>\n",
       "    <tr>\n",
       "      <th>5</th>\n",
       "      <td>C</td>\n",
       "      <td>out</td>\n",
       "      <td>108</td>\n",
       "      <td>275</td>\n",
       "      <td>5</td>\n",
       "      <td>16.0</td>\n",
       "      <td>224.0</td>\n",
       "    </tr>\n",
       "  </tbody>\n",
       "</table>\n",
       "</div>"
      ],
      "text/plain": [
       "  tariff_plan direction  user_id  operator_id  calls_count  call_duration  \\\n",
       "0           A        in       29          186            3          295.5   \n",
       "1           A       out       27          278            7           19.0   \n",
       "2           B        in       93          276            2          259.0   \n",
       "3           B       out       87          329            4           29.0   \n",
       "4           C        in      151          292            3          238.0   \n",
       "5           C       out      108          275            5           16.0   \n",
       "\n",
       "   total_call_duration  \n",
       "0                342.0  \n",
       "1                379.0  \n",
       "2                305.0  \n",
       "3                226.5  \n",
       "4                281.5  \n",
       "5                224.0  "
      ]
     },
     "execution_count": 46,
     "metadata": {},
     "output_type": "execute_result"
    }
   ],
   "source": [
    "data_dir_tar_us=data_ds_fin.groupby(['tariff_plan','direction'], as_index = False).agg({'user_id': 'nunique', 'operator_id': 'nunique',\n",
    "                                                                           'calls_count': 'median', 'call_duration': 'median',\n",
    "                                                                            'total_call_duration': 'median'})\n",
    "data_dir_tar_us"
   ]
  },
  {
   "cell_type": "markdown",
   "metadata": {},
   "source": [
    "Промежуточный вывод:\n",
    "1. Основное отличие между КЦ на разных тарифах - разное количество операторов. В тарифе А - около 10, в тарифе B - 3-4, в тарифе C - 2-3. \n"
   ]
  },
  {
   "cell_type": "code",
   "execution_count": 47,
   "metadata": {},
   "outputs": [
    {
     "data": {
      "text/html": [
       "<div>\n",
       "<style scoped>\n",
       "    .dataframe tbody tr th:only-of-type {\n",
       "        vertical-align: middle;\n",
       "    }\n",
       "\n",
       "    .dataframe tbody tr th {\n",
       "        vertical-align: top;\n",
       "    }\n",
       "\n",
       "    .dataframe thead th {\n",
       "        text-align: right;\n",
       "    }\n",
       "</style>\n",
       "<table border=\"1\" class=\"dataframe\">\n",
       "  <thead>\n",
       "    <tr style=\"text-align: right;\">\n",
       "      <th></th>\n",
       "      <th>tariff_plan</th>\n",
       "      <th>direction</th>\n",
       "      <th>calls_count</th>\n",
       "      <th>call_duration</th>\n",
       "      <th>total_call_duration</th>\n",
       "    </tr>\n",
       "  </thead>\n",
       "  <tbody>\n",
       "    <tr>\n",
       "      <th>0</th>\n",
       "      <td>A</td>\n",
       "      <td>in</td>\n",
       "      <td>7.418523</td>\n",
       "      <td>694.226553</td>\n",
       "      <td>777.199590</td>\n",
       "    </tr>\n",
       "    <tr>\n",
       "      <th>1</th>\n",
       "      <td>A</td>\n",
       "      <td>out</td>\n",
       "      <td>19.726207</td>\n",
       "      <td>997.099988</td>\n",
       "      <td>1395.417479</td>\n",
       "    </tr>\n",
       "    <tr>\n",
       "      <th>2</th>\n",
       "      <td>B</td>\n",
       "      <td>in</td>\n",
       "      <td>6.208685</td>\n",
       "      <td>756.247768</td>\n",
       "      <td>872.463932</td>\n",
       "    </tr>\n",
       "    <tr>\n",
       "      <th>3</th>\n",
       "      <td>B</td>\n",
       "      <td>out</td>\n",
       "      <td>9.715111</td>\n",
       "      <td>662.544236</td>\n",
       "      <td>825.929634</td>\n",
       "    </tr>\n",
       "    <tr>\n",
       "      <th>4</th>\n",
       "      <td>C</td>\n",
       "      <td>in</td>\n",
       "      <td>6.627521</td>\n",
       "      <td>639.468762</td>\n",
       "      <td>722.426255</td>\n",
       "    </tr>\n",
       "    <tr>\n",
       "      <th>5</th>\n",
       "      <td>C</td>\n",
       "      <td>out</td>\n",
       "      <td>11.352306</td>\n",
       "      <td>667.973515</td>\n",
       "      <td>858.104175</td>\n",
       "    </tr>\n",
       "  </tbody>\n",
       "</table>\n",
       "</div>"
      ],
      "text/plain": [
       "  tariff_plan direction  calls_count  call_duration  total_call_duration\n",
       "0           A        in     7.418523     694.226553           777.199590\n",
       "1           A       out    19.726207     997.099988          1395.417479\n",
       "2           B        in     6.208685     756.247768           872.463932\n",
       "3           B       out     9.715111     662.544236           825.929634\n",
       "4           C        in     6.627521     639.468762           722.426255\n",
       "5           C       out    11.352306     667.973515           858.104175"
      ]
     },
     "execution_count": 47,
     "metadata": {},
     "output_type": "execute_result"
    }
   ],
   "source": [
    "data_dir_tar_usm=data_ds_fin.groupby(['tariff_plan','direction'], as_index = False).agg({'calls_count': 'mean', 'call_duration': 'mean','total_call_duration': 'mean'})\n",
    "data_dir_tar_usm"
   ]
  },
  {
   "cell_type": "markdown",
   "metadata": {},
   "source": [
    "Исходящие звонки больше похожи на продажи. При низких медианных значениях средней продолжительности разговора, мы имеем заметно более высокие средние. Что говорит о том, что есть меньшие по количеству, но значительные по времени звонки (когда продавца послушали и, может, купили)."
   ]
  },
  {
   "cell_type": "markdown",
   "metadata": {},
   "source": [
    "#### Исследование рабочего времени, которое операторы проводят за звонками."
   ]
  },
  {
   "cell_type": "markdown",
   "metadata": {},
   "source": [
    "Для начала определим по каждому оператору количество дней, за которые по нему есть данные."
   ]
  },
  {
   "cell_type": "code",
   "execution_count": 48,
   "metadata": {
    "scrolled": false
   },
   "outputs": [
    {
     "data": {
      "text/html": [
       "<div>\n",
       "<style scoped>\n",
       "    .dataframe tbody tr th:only-of-type {\n",
       "        vertical-align: middle;\n",
       "    }\n",
       "\n",
       "    .dataframe tbody tr th {\n",
       "        vertical-align: top;\n",
       "    }\n",
       "\n",
       "    .dataframe thead th {\n",
       "        text-align: right;\n",
       "    }\n",
       "</style>\n",
       "<table border=\"1\" class=\"dataframe\">\n",
       "  <thead>\n",
       "    <tr style=\"text-align: right;\">\n",
       "      <th></th>\n",
       "      <th>operator_id</th>\n",
       "      <th>date</th>\n",
       "      <th>call_duration</th>\n",
       "      <th>work_duration</th>\n",
       "    </tr>\n",
       "  </thead>\n",
       "  <tbody>\n",
       "    <tr>\n",
       "      <th>0</th>\n",
       "      <td>919302</td>\n",
       "      <td>17</td>\n",
       "      <td>221327</td>\n",
       "      <td>13019.235294</td>\n",
       "    </tr>\n",
       "    <tr>\n",
       "      <th>1</th>\n",
       "      <td>945318</td>\n",
       "      <td>16</td>\n",
       "      <td>167793</td>\n",
       "      <td>10487.062500</td>\n",
       "    </tr>\n",
       "    <tr>\n",
       "      <th>2</th>\n",
       "      <td>945308</td>\n",
       "      <td>16</td>\n",
       "      <td>153963</td>\n",
       "      <td>9622.687500</td>\n",
       "    </tr>\n",
       "    <tr>\n",
       "      <th>3</th>\n",
       "      <td>945280</td>\n",
       "      <td>21</td>\n",
       "      <td>201113</td>\n",
       "      <td>9576.809524</td>\n",
       "    </tr>\n",
       "    <tr>\n",
       "      <th>4</th>\n",
       "      <td>945304</td>\n",
       "      <td>19</td>\n",
       "      <td>171462</td>\n",
       "      <td>9024.315789</td>\n",
       "    </tr>\n",
       "    <tr>\n",
       "      <th>5</th>\n",
       "      <td>945320</td>\n",
       "      <td>19</td>\n",
       "      <td>161515</td>\n",
       "      <td>8500.789474</td>\n",
       "    </tr>\n",
       "    <tr>\n",
       "      <th>6</th>\n",
       "      <td>964666</td>\n",
       "      <td>6</td>\n",
       "      <td>49557</td>\n",
       "      <td>8259.500000</td>\n",
       "    </tr>\n",
       "    <tr>\n",
       "      <th>7</th>\n",
       "      <td>945312</td>\n",
       "      <td>25</td>\n",
       "      <td>206111</td>\n",
       "      <td>8244.440000</td>\n",
       "    </tr>\n",
       "    <tr>\n",
       "      <th>8</th>\n",
       "      <td>919192</td>\n",
       "      <td>16</td>\n",
       "      <td>126352</td>\n",
       "      <td>7897.000000</td>\n",
       "    </tr>\n",
       "    <tr>\n",
       "      <th>9</th>\n",
       "      <td>965540</td>\n",
       "      <td>9</td>\n",
       "      <td>69142</td>\n",
       "      <td>7682.444444</td>\n",
       "    </tr>\n",
       "  </tbody>\n",
       "</table>\n",
       "</div>"
      ],
      "text/plain": [
       "   operator_id  date  call_duration  work_duration\n",
       "0       919302    17         221327   13019.235294\n",
       "1       945318    16         167793   10487.062500\n",
       "2       945308    16         153963    9622.687500\n",
       "3       945280    21         201113    9576.809524\n",
       "4       945304    19         171462    9024.315789\n",
       "5       945320    19         161515    8500.789474\n",
       "6       964666     6          49557    8259.500000\n",
       "7       945312    25         206111    8244.440000\n",
       "8       919192    16         126352    7897.000000\n",
       "9       965540     9          69142    7682.444444"
      ]
     },
     "metadata": {},
     "output_type": "display_data"
    },
    {
     "data": {
      "text/html": [
       "<div>\n",
       "<style scoped>\n",
       "    .dataframe tbody tr th:only-of-type {\n",
       "        vertical-align: middle;\n",
       "    }\n",
       "\n",
       "    .dataframe tbody tr th {\n",
       "        vertical-align: top;\n",
       "    }\n",
       "\n",
       "    .dataframe thead th {\n",
       "        text-align: right;\n",
       "    }\n",
       "</style>\n",
       "<table border=\"1\" class=\"dataframe\">\n",
       "  <thead>\n",
       "    <tr style=\"text-align: right;\">\n",
       "      <th></th>\n",
       "      <th>operator_id</th>\n",
       "      <th>date</th>\n",
       "      <th>call_duration</th>\n",
       "      <th>work_duration</th>\n",
       "    </tr>\n",
       "  </thead>\n",
       "  <tbody>\n",
       "    <tr>\n",
       "      <th>1082</th>\n",
       "      <td>924572</td>\n",
       "      <td>1</td>\n",
       "      <td>0</td>\n",
       "      <td>0.0</td>\n",
       "    </tr>\n",
       "    <tr>\n",
       "      <th>1083</th>\n",
       "      <td>928282</td>\n",
       "      <td>2</td>\n",
       "      <td>0</td>\n",
       "      <td>0.0</td>\n",
       "    </tr>\n",
       "    <tr>\n",
       "      <th>1084</th>\n",
       "      <td>928284</td>\n",
       "      <td>1</td>\n",
       "      <td>0</td>\n",
       "      <td>0.0</td>\n",
       "    </tr>\n",
       "    <tr>\n",
       "      <th>1085</th>\n",
       "      <td>958458</td>\n",
       "      <td>1</td>\n",
       "      <td>0</td>\n",
       "      <td>0.0</td>\n",
       "    </tr>\n",
       "    <tr>\n",
       "      <th>1086</th>\n",
       "      <td>891976</td>\n",
       "      <td>1</td>\n",
       "      <td>0</td>\n",
       "      <td>0.0</td>\n",
       "    </tr>\n",
       "    <tr>\n",
       "      <th>1087</th>\n",
       "      <td>936296</td>\n",
       "      <td>2</td>\n",
       "      <td>0</td>\n",
       "      <td>0.0</td>\n",
       "    </tr>\n",
       "    <tr>\n",
       "      <th>1088</th>\n",
       "      <td>937710</td>\n",
       "      <td>1</td>\n",
       "      <td>0</td>\n",
       "      <td>0.0</td>\n",
       "    </tr>\n",
       "    <tr>\n",
       "      <th>1089</th>\n",
       "      <td>937716</td>\n",
       "      <td>1</td>\n",
       "      <td>0</td>\n",
       "      <td>0.0</td>\n",
       "    </tr>\n",
       "    <tr>\n",
       "      <th>1090</th>\n",
       "      <td>969262</td>\n",
       "      <td>1</td>\n",
       "      <td>0</td>\n",
       "      <td>0.0</td>\n",
       "    </tr>\n",
       "    <tr>\n",
       "      <th>1091</th>\n",
       "      <td>932246</td>\n",
       "      <td>1</td>\n",
       "      <td>0</td>\n",
       "      <td>0.0</td>\n",
       "    </tr>\n",
       "  </tbody>\n",
       "</table>\n",
       "</div>"
      ],
      "text/plain": [
       "      operator_id  date  call_duration  work_duration\n",
       "1082       924572     1              0            0.0\n",
       "1083       928282     2              0            0.0\n",
       "1084       928284     1              0            0.0\n",
       "1085       958458     1              0            0.0\n",
       "1086       891976     1              0            0.0\n",
       "1087       936296     2              0            0.0\n",
       "1088       937710     1              0            0.0\n",
       "1089       937716     1              0            0.0\n",
       "1090       969262     1              0            0.0\n",
       "1091       932246     1              0            0.0"
      ]
     },
     "execution_count": 48,
     "metadata": {},
     "output_type": "execute_result"
    }
   ],
   "source": [
    "op_days=data_ds_fin.groupby(['operator_id'], as_index = False).agg({'date': 'nunique', 'call_duration': 'sum'})\n",
    "op_days['work_duration']=op_days['call_duration']/op_days['date']\n",
    "op_days=op_days.sort_values(by=['work_duration'], ascending=False)\n",
    "op_days.reset_index(drop=True, inplace=True)\n",
    "display (op_days.head(10))\n",
    "op_days.tail(10)"
   ]
  },
  {
   "cell_type": "markdown",
   "metadata": {},
   "source": [
    "Составим таблицу неэффективных операторов по времени работы на звонках. Т.е. тех у кого, продолжительность работы на звонках менее 1.000 за минут за сутки."
   ]
  },
  {
   "cell_type": "code",
   "execution_count": 49,
   "metadata": {},
   "outputs": [
    {
     "name": "stdout",
     "output_type": "stream",
     "text": [
      "<class 'pandas.core.frame.DataFrame'>\n",
      "Int64Index: 737 entries, 355 to 1091\n",
      "Data columns (total 2 columns):\n",
      " #   Column         Non-Null Count  Dtype  \n",
      "---  ------         --------------  -----  \n",
      " 0   operator_id    737 non-null    int64  \n",
      " 1   work_duration  737 non-null    float64\n",
      "dtypes: float64(1), int64(1)\n",
      "memory usage: 17.3 KB\n",
      "     operator_id  work_duration\n",
      "355       947638     995.222222\n",
      "356       940434     995.178571\n",
      "357       959312     994.250000\n",
      "358       951492     991.550000\n",
      "359       939738     991.200000\n",
      "360       943050     986.000000\n",
      "361       937988     984.200000\n",
      "362       902608     963.777778\n",
      "363       944226     956.444444\n",
      "364       908960     951.311688\n",
      "Количество операторов неэффективных по времени работы на звонках: 737\n"
     ]
    },
    {
     "name": "stderr",
     "output_type": "stream",
     "text": [
      "/opt/conda/lib/python3.9/site-packages/pandas/core/frame.py:4308: SettingWithCopyWarning: \n",
      "A value is trying to be set on a copy of a slice from a DataFrame\n",
      "\n",
      "See the caveats in the documentation: https://pandas.pydata.org/pandas-docs/stable/user_guide/indexing.html#returning-a-view-versus-a-copy\n",
      "  return super().drop(\n"
     ]
    }
   ],
   "source": [
    "non_ef_work_duration=op_days.query('work_duration<1000')\n",
    "non_ef_work_duration.drop(columns = ['date','call_duration'],axis = 1, inplace=True)\n",
    "non_ef_work_duration.info()\n",
    "print(non_ef_work_duration.head(10))\n",
    "print('Количество операторов неэффективных по времени работы на звонках:',len(non_ef_work_duration['work_duration']))"
   ]
  },
  {
   "cell_type": "markdown",
   "metadata": {},
   "source": [
    "Ранее в пункте 2.1.6 мы пришли к выводу, что единица измерения длительности звонков у нас все же минута. Значит при односменной работе речь идет о фонде времени 360 минут в день. При трехсменной 1080. Выглядит так, что много операторов, у которых результат значительно больше даже трехсменной работы. Оценим сколько таких."
   ]
  },
  {
   "cell_type": "code",
   "execution_count": 50,
   "metadata": {},
   "outputs": [
    {
     "data": {
      "image/png": "[encoded data removed]",
      "text/plain": [
       "<Figure size 1296x432 with 1 Axes>"
      ]
     },
     "metadata": {
      "needs_background": "light"
     },
     "output_type": "display_data"
    }
   ],
   "source": [
    "plt.figure(figsize = (18,6))\n",
    "op_days['work_duration'].hist(bins=100, color = 'royalblue', edgecolor = 'black').set(title = 'Распределение по количеству рабочих минут в сутки', xlabel = 'Минуты')\n",
    "plt.show()"
   ]
  },
  {
   "cell_type": "code",
   "execution_count": 51,
   "metadata": {},
   "outputs": [
    {
     "data": {
      "text/plain": [
       "370"
      ]
     },
     "execution_count": 51,
     "metadata": {},
     "output_type": "execute_result"
    }
   ],
   "source": [
    "op_days_min = op_days.query('work_duration<180')\n",
    "len(op_days_min)"
   ]
  },
  {
   "cell_type": "code",
   "execution_count": 52,
   "metadata": {},
   "outputs": [
    {
     "data": {
      "text/plain": [
       "355"
      ]
     },
     "execution_count": 52,
     "metadata": {},
     "output_type": "execute_result"
    }
   ],
   "source": [
    "op_days_max = op_days.query('work_duration>1000')\n",
    "len(op_days_max)"
   ]
  },
  {
   "cell_type": "markdown",
   "metadata": {},
   "source": [
    "Мы получили результат, в соответствии с которым получается, что из 1092 операторов по показателю времени звонков эффективна только примерно третья часть 355 операторов. Критерий вполне рабочий, однако занесение данных в КЦ нужно привести к единообразию. А так - показатель рабочий. Неэффективны 737 операторов"
   ]
  },
  {
   "cell_type": "markdown",
   "metadata": {},
   "source": [
    "##### Напишем функцию для расчета времени за звонками и применим ее к каждой из наших трех тарифных групп. Интересно как будут различаться показатели."
   ]
  },
  {
   "cell_type": "code",
   "execution_count": 53,
   "metadata": {},
   "outputs": [],
   "source": [
    "def w_duration (tariff):\n",
    "    print ('Распределение по количеству рабочих минут в сутки для тарифа ',tariff)\n",
    "    data_ds_fin_g=data_ds_fin.query('tariff_plan == @tariff')\n",
    "    fop_days=data_ds_fin_g.groupby(['operator_id'], as_index = False).agg({'date': 'nunique', 'call_duration': 'sum'})\n",
    "    fop_days['work_duration']=fop_days['call_duration']/fop_days['date']\n",
    "    fop_days=fop_days.sort_values(by=['work_duration'], ascending=False)\n",
    "    fop_days.reset_index(drop=True, inplace=True)\n",
    "    plt.figure(figsize = (18,6))\n",
    "    fop_days['work_duration'].hist(bins=100, color = 'royalblue', edgecolor = 'black').set( xlabel = 'Минуты')\n",
    "    plt.show()\n",
    "    return fop_days['work_duration']\n",
    "    "
   ]
  },
  {
   "cell_type": "code",
   "execution_count": 54,
   "metadata": {
    "scrolled": false
   },
   "outputs": [
    {
     "name": "stdout",
     "output_type": "stream",
     "text": [
      "Распределение по количеству рабочих минут в сутки для тарифа  A\n"
     ]
    },
    {
     "data": {
      "image/png": "[encoded data removed]",
      "text/plain": [
       "<Figure size 1296x432 with 1 Axes>"
      ]
     },
     "metadata": {
      "needs_background": "light"
     },
     "output_type": "display_data"
    },
    {
     "name": "stdout",
     "output_type": "stream",
     "text": [
      "Распределение по количеству рабочих минут в сутки для тарифа  B\n"
     ]
    },
    {
     "data": {
      "image/png": "[encoded data removed]",
      "text/plain": [
       "<Figure size 1296x432 with 1 Axes>"
      ]
     },
     "metadata": {
      "needs_background": "light"
     },
     "output_type": "display_data"
    },
    {
     "name": "stdout",
     "output_type": "stream",
     "text": [
      "Распределение по количеству рабочих минут в сутки для тарифа  C\n"
     ]
    },
    {
     "data": {
      "image/png": "[encoded data removed]",
      "text/plain": [
       "<Figure size 1296x432 with 1 Axes>"
      ]
     },
     "metadata": {
      "needs_background": "light"
     },
     "output_type": "display_data"
    }
   ],
   "source": [
    "workdur_a=w_duration ('A')\n",
    "workdur_b=w_duration ('B')\n",
    "workdur_c=w_duration ('C')"
   ]
  },
  {
   "cell_type": "markdown",
   "metadata": {},
   "source": [
    "В следующем разделе проекта проверим гипотезы о равенстве среднего времени на звонках для трех тарифных групп."
   ]
  },
  {
   "cell_type": "markdown",
   "metadata": {},
   "source": [
    "#### Исследование количества и доли пропущенных входящих звонков."
   ]
  },
  {
   "cell_type": "markdown",
   "metadata": {},
   "source": [
    "Для начала возьмем общее количество пропущенных КЦ звонков. Как мы установили ранее, это звонки, где для operator_id не установлено значение. Для этого возьмем датафрейм, где мы еще не удалили строки с незаполненным operator_id (только дубликаты и незаполненны поля internal удалены)."
   ]
  },
  {
   "cell_type": "code",
   "execution_count": 55,
   "metadata": {
    "scrolled": false
   },
   "outputs": [
    {
     "name": "stdout",
     "output_type": "stream",
     "text": [
      "<class 'pandas.core.frame.DataFrame'>\n",
      "Int64Index: 7833 entries, 0 to 48891\n",
      "Data columns (total 9 columns):\n",
      " #   Column               Non-Null Count  Dtype  \n",
      "---  ------               --------------  -----  \n",
      " 0   user_id              7833 non-null   int64  \n",
      " 1   date                 7833 non-null   object \n",
      " 2   direction            7833 non-null   object \n",
      " 3   internal             7833 non-null   object \n",
      " 4   operator_id          684 non-null    float64\n",
      " 5   is_missed_call       7833 non-null   bool   \n",
      " 6   calls_count          7833 non-null   int64  \n",
      " 7   call_duration        7833 non-null   int64  \n",
      " 8   total_call_duration  7833 non-null   int64  \n",
      "dtypes: bool(1), float64(1), int64(4), object(3)\n",
      "memory usage: 558.4+ KB\n"
     ]
    },
    {
     "data": {
      "text/html": [
       "<div>\n",
       "<style scoped>\n",
       "    .dataframe tbody tr th:only-of-type {\n",
       "        vertical-align: middle;\n",
       "    }\n",
       "\n",
       "    .dataframe tbody tr th {\n",
       "        vertical-align: top;\n",
       "    }\n",
       "\n",
       "    .dataframe thead th {\n",
       "        text-align: right;\n",
       "    }\n",
       "</style>\n",
       "<table border=\"1\" class=\"dataframe\">\n",
       "  <thead>\n",
       "    <tr style=\"text-align: right;\">\n",
       "      <th></th>\n",
       "      <th>user_id</th>\n",
       "      <th>date</th>\n",
       "      <th>direction</th>\n",
       "      <th>internal</th>\n",
       "      <th>operator_id</th>\n",
       "      <th>is_missed_call</th>\n",
       "      <th>calls_count</th>\n",
       "      <th>call_duration</th>\n",
       "      <th>total_call_duration</th>\n",
       "    </tr>\n",
       "  </thead>\n",
       "  <tbody>\n",
       "    <tr>\n",
       "      <th>0</th>\n",
       "      <td>166377</td>\n",
       "      <td>2019-08-04 00:00:00+03:00</td>\n",
       "      <td>in</td>\n",
       "      <td>False</td>\n",
       "      <td>NaN</td>\n",
       "      <td>True</td>\n",
       "      <td>2</td>\n",
       "      <td>0</td>\n",
       "      <td>4</td>\n",
       "    </tr>\n",
       "    <tr>\n",
       "      <th>7</th>\n",
       "      <td>166377</td>\n",
       "      <td>2019-08-05 00:00:00+03:00</td>\n",
       "      <td>in</td>\n",
       "      <td>False</td>\n",
       "      <td>NaN</td>\n",
       "      <td>True</td>\n",
       "      <td>6</td>\n",
       "      <td>0</td>\n",
       "      <td>35</td>\n",
       "    </tr>\n",
       "    <tr>\n",
       "      <th>8</th>\n",
       "      <td>166377</td>\n",
       "      <td>2019-08-06 00:00:00+03:00</td>\n",
       "      <td>in</td>\n",
       "      <td>False</td>\n",
       "      <td>NaN</td>\n",
       "      <td>True</td>\n",
       "      <td>4</td>\n",
       "      <td>0</td>\n",
       "      <td>62</td>\n",
       "    </tr>\n",
       "    <tr>\n",
       "      <th>16</th>\n",
       "      <td>166377</td>\n",
       "      <td>2019-08-07 00:00:00+03:00</td>\n",
       "      <td>in</td>\n",
       "      <td>False</td>\n",
       "      <td>NaN</td>\n",
       "      <td>True</td>\n",
       "      <td>2</td>\n",
       "      <td>0</td>\n",
       "      <td>24</td>\n",
       "    </tr>\n",
       "    <tr>\n",
       "      <th>26</th>\n",
       "      <td>166377</td>\n",
       "      <td>2019-08-12 00:00:00+03:00</td>\n",
       "      <td>in</td>\n",
       "      <td>False</td>\n",
       "      <td>NaN</td>\n",
       "      <td>True</td>\n",
       "      <td>2</td>\n",
       "      <td>0</td>\n",
       "      <td>34</td>\n",
       "    </tr>\n",
       "    <tr>\n",
       "      <th>28</th>\n",
       "      <td>166377</td>\n",
       "      <td>2019-08-13 00:00:00+03:00</td>\n",
       "      <td>in</td>\n",
       "      <td>False</td>\n",
       "      <td>NaN</td>\n",
       "      <td>True</td>\n",
       "      <td>7</td>\n",
       "      <td>0</td>\n",
       "      <td>128</td>\n",
       "    </tr>\n",
       "    <tr>\n",
       "      <th>36</th>\n",
       "      <td>166377</td>\n",
       "      <td>2019-08-14 00:00:00+03:00</td>\n",
       "      <td>in</td>\n",
       "      <td>False</td>\n",
       "      <td>NaN</td>\n",
       "      <td>True</td>\n",
       "      <td>1</td>\n",
       "      <td>0</td>\n",
       "      <td>3</td>\n",
       "    </tr>\n",
       "    <tr>\n",
       "      <th>71</th>\n",
       "      <td>166377</td>\n",
       "      <td>2019-08-22 00:00:00+03:00</td>\n",
       "      <td>in</td>\n",
       "      <td>False</td>\n",
       "      <td>NaN</td>\n",
       "      <td>True</td>\n",
       "      <td>1</td>\n",
       "      <td>0</td>\n",
       "      <td>1</td>\n",
       "    </tr>\n",
       "    <tr>\n",
       "      <th>74</th>\n",
       "      <td>166377</td>\n",
       "      <td>2019-08-23 00:00:00+03:00</td>\n",
       "      <td>in</td>\n",
       "      <td>False</td>\n",
       "      <td>NaN</td>\n",
       "      <td>True</td>\n",
       "      <td>2</td>\n",
       "      <td>0</td>\n",
       "      <td>47</td>\n",
       "    </tr>\n",
       "    <tr>\n",
       "      <th>79</th>\n",
       "      <td>166377</td>\n",
       "      <td>2019-08-24 00:00:00+03:00</td>\n",
       "      <td>in</td>\n",
       "      <td>False</td>\n",
       "      <td>NaN</td>\n",
       "      <td>True</td>\n",
       "      <td>2</td>\n",
       "      <td>0</td>\n",
       "      <td>35</td>\n",
       "    </tr>\n",
       "  </tbody>\n",
       "</table>\n",
       "</div>"
      ],
      "text/plain": [
       "    user_id                       date direction internal  operator_id  \\\n",
       "0    166377  2019-08-04 00:00:00+03:00        in    False          NaN   \n",
       "7    166377  2019-08-05 00:00:00+03:00        in    False          NaN   \n",
       "8    166377  2019-08-06 00:00:00+03:00        in    False          NaN   \n",
       "16   166377  2019-08-07 00:00:00+03:00        in    False          NaN   \n",
       "26   166377  2019-08-12 00:00:00+03:00        in    False          NaN   \n",
       "28   166377  2019-08-13 00:00:00+03:00        in    False          NaN   \n",
       "36   166377  2019-08-14 00:00:00+03:00        in    False          NaN   \n",
       "71   166377  2019-08-22 00:00:00+03:00        in    False          NaN   \n",
       "74   166377  2019-08-23 00:00:00+03:00        in    False          NaN   \n",
       "79   166377  2019-08-24 00:00:00+03:00        in    False          NaN   \n",
       "\n",
       "    is_missed_call  calls_count  call_duration  total_call_duration  \n",
       "0             True            2              0                    4  \n",
       "7             True            6              0                   35  \n",
       "8             True            4              0                   62  \n",
       "16            True            2              0                   24  \n",
       "26            True            2              0                   34  \n",
       "28            True            7              0                  128  \n",
       "36            True            1              0                    3  \n",
       "71            True            1              0                    1  \n",
       "74            True            2              0                   47  \n",
       "79            True            2              0                   35  "
      ]
     },
     "execution_count": 55,
     "metadata": {},
     "output_type": "execute_result"
    }
   ],
   "source": [
    "data_in_misssed_total = data_ds.query('direction==\"in\" and is_missed_call==True')\n",
    "data_in_misssed_total.info()\n",
    "data_in_misssed_total.head(10)"
   ]
  },
  {
   "cell_type": "code",
   "execution_count": 56,
   "metadata": {},
   "outputs": [
    {
     "data": {
      "text/html": [
       "<div>\n",
       "<style scoped>\n",
       "    .dataframe tbody tr th:only-of-type {\n",
       "        vertical-align: middle;\n",
       "    }\n",
       "\n",
       "    .dataframe tbody tr th {\n",
       "        vertical-align: top;\n",
       "    }\n",
       "\n",
       "    .dataframe thead th {\n",
       "        text-align: right;\n",
       "    }\n",
       "</style>\n",
       "<table border=\"1\" class=\"dataframe\">\n",
       "  <thead>\n",
       "    <tr style=\"text-align: right;\">\n",
       "      <th></th>\n",
       "      <th>user_id</th>\n",
       "      <th>calls_count</th>\n",
       "    </tr>\n",
       "  </thead>\n",
       "  <tbody>\n",
       "    <tr>\n",
       "      <th>0</th>\n",
       "      <td>166377</td>\n",
       "      <td>94</td>\n",
       "    </tr>\n",
       "    <tr>\n",
       "      <th>1</th>\n",
       "      <td>166391</td>\n",
       "      <td>20</td>\n",
       "    </tr>\n",
       "    <tr>\n",
       "      <th>2</th>\n",
       "      <td>166392</td>\n",
       "      <td>107</td>\n",
       "    </tr>\n",
       "    <tr>\n",
       "      <th>3</th>\n",
       "      <td>166399</td>\n",
       "      <td>11</td>\n",
       "    </tr>\n",
       "    <tr>\n",
       "      <th>4</th>\n",
       "      <td>166405</td>\n",
       "      <td>5535</td>\n",
       "    </tr>\n",
       "    <tr>\n",
       "      <th>5</th>\n",
       "      <td>166406</td>\n",
       "      <td>95</td>\n",
       "    </tr>\n",
       "    <tr>\n",
       "      <th>6</th>\n",
       "      <td>166407</td>\n",
       "      <td>70</td>\n",
       "    </tr>\n",
       "    <tr>\n",
       "      <th>7</th>\n",
       "      <td>166428</td>\n",
       "      <td>45</td>\n",
       "    </tr>\n",
       "    <tr>\n",
       "      <th>8</th>\n",
       "      <td>166481</td>\n",
       "      <td>57</td>\n",
       "    </tr>\n",
       "    <tr>\n",
       "      <th>9</th>\n",
       "      <td>166482</td>\n",
       "      <td>54</td>\n",
       "    </tr>\n",
       "  </tbody>\n",
       "</table>\n",
       "</div>"
      ],
      "text/plain": [
       "   user_id  calls_count\n",
       "0   166377           94\n",
       "1   166391           20\n",
       "2   166392          107\n",
       "3   166399           11\n",
       "4   166405         5535\n",
       "5   166406           95\n",
       "6   166407           70\n",
       "7   166428           45\n",
       "8   166481           57\n",
       "9   166482           54"
      ]
     },
     "metadata": {},
     "output_type": "display_data"
    },
    {
     "data": {
      "text/plain": [
       "104163"
      ]
     },
     "metadata": {},
     "output_type": "display_data"
    }
   ],
   "source": [
    "data_in_misssed_total_count=data_in_misssed_total.groupby(['user_id'], as_index = False).agg({'calls_count': 'sum'})\n",
    "display(data_in_misssed_total_count.head(10))\n",
    "display(data_in_misssed_total_count['calls_count'].sum())"
   ]
  },
  {
   "cell_type": "markdown",
   "metadata": {},
   "source": [
    "Видим, что пропущено в общей сложности 104163 звонка. Довольно много. Далее из того же фрейма получим общее количество входящих звонков, также применив срез."
   ]
  },
  {
   "cell_type": "code",
   "execution_count": 57,
   "metadata": {},
   "outputs": [
    {
     "name": "stdout",
     "output_type": "stream",
     "text": [
      "<class 'pandas.core.frame.DataFrame'>\n",
      "Int64Index: 19895 entries, 0 to 48891\n",
      "Data columns (total 9 columns):\n",
      " #   Column               Non-Null Count  Dtype  \n",
      "---  ------               --------------  -----  \n",
      " 0   user_id              19895 non-null  int64  \n",
      " 1   date                 19895 non-null  object \n",
      " 2   direction            19895 non-null  object \n",
      " 3   internal             19895 non-null  object \n",
      " 4   operator_id          12678 non-null  float64\n",
      " 5   is_missed_call       19895 non-null  bool   \n",
      " 6   calls_count          19895 non-null  int64  \n",
      " 7   call_duration        19895 non-null  int64  \n",
      " 8   total_call_duration  19895 non-null  int64  \n",
      "dtypes: bool(1), float64(1), int64(4), object(3)\n",
      "memory usage: 1.4+ MB\n"
     ]
    },
    {
     "data": {
      "text/html": [
       "<div>\n",
       "<style scoped>\n",
       "    .dataframe tbody tr th:only-of-type {\n",
       "        vertical-align: middle;\n",
       "    }\n",
       "\n",
       "    .dataframe tbody tr th {\n",
       "        vertical-align: top;\n",
       "    }\n",
       "\n",
       "    .dataframe thead th {\n",
       "        text-align: right;\n",
       "    }\n",
       "</style>\n",
       "<table border=\"1\" class=\"dataframe\">\n",
       "  <thead>\n",
       "    <tr style=\"text-align: right;\">\n",
       "      <th></th>\n",
       "      <th>user_id</th>\n",
       "      <th>date</th>\n",
       "      <th>direction</th>\n",
       "      <th>internal</th>\n",
       "      <th>operator_id</th>\n",
       "      <th>is_missed_call</th>\n",
       "      <th>calls_count</th>\n",
       "      <th>call_duration</th>\n",
       "      <th>total_call_duration</th>\n",
       "    </tr>\n",
       "  </thead>\n",
       "  <tbody>\n",
       "    <tr>\n",
       "      <th>0</th>\n",
       "      <td>166377</td>\n",
       "      <td>2019-08-04 00:00:00+03:00</td>\n",
       "      <td>in</td>\n",
       "      <td>False</td>\n",
       "      <td>NaN</td>\n",
       "      <td>True</td>\n",
       "      <td>2</td>\n",
       "      <td>0</td>\n",
       "      <td>4</td>\n",
       "    </tr>\n",
       "    <tr>\n",
       "      <th>7</th>\n",
       "      <td>166377</td>\n",
       "      <td>2019-08-05 00:00:00+03:00</td>\n",
       "      <td>in</td>\n",
       "      <td>False</td>\n",
       "      <td>NaN</td>\n",
       "      <td>True</td>\n",
       "      <td>6</td>\n",
       "      <td>0</td>\n",
       "      <td>35</td>\n",
       "    </tr>\n",
       "    <tr>\n",
       "      <th>8</th>\n",
       "      <td>166377</td>\n",
       "      <td>2019-08-06 00:00:00+03:00</td>\n",
       "      <td>in</td>\n",
       "      <td>False</td>\n",
       "      <td>NaN</td>\n",
       "      <td>True</td>\n",
       "      <td>4</td>\n",
       "      <td>0</td>\n",
       "      <td>62</td>\n",
       "    </tr>\n",
       "    <tr>\n",
       "      <th>16</th>\n",
       "      <td>166377</td>\n",
       "      <td>2019-08-07 00:00:00+03:00</td>\n",
       "      <td>in</td>\n",
       "      <td>False</td>\n",
       "      <td>NaN</td>\n",
       "      <td>True</td>\n",
       "      <td>2</td>\n",
       "      <td>0</td>\n",
       "      <td>24</td>\n",
       "    </tr>\n",
       "    <tr>\n",
       "      <th>25</th>\n",
       "      <td>166377</td>\n",
       "      <td>2019-08-12 00:00:00+03:00</td>\n",
       "      <td>in</td>\n",
       "      <td>False</td>\n",
       "      <td>880028.0</td>\n",
       "      <td>False</td>\n",
       "      <td>1</td>\n",
       "      <td>407</td>\n",
       "      <td>411</td>\n",
       "    </tr>\n",
       "    <tr>\n",
       "      <th>26</th>\n",
       "      <td>166377</td>\n",
       "      <td>2019-08-12 00:00:00+03:00</td>\n",
       "      <td>in</td>\n",
       "      <td>False</td>\n",
       "      <td>NaN</td>\n",
       "      <td>True</td>\n",
       "      <td>2</td>\n",
       "      <td>0</td>\n",
       "      <td>34</td>\n",
       "    </tr>\n",
       "    <tr>\n",
       "      <th>28</th>\n",
       "      <td>166377</td>\n",
       "      <td>2019-08-13 00:00:00+03:00</td>\n",
       "      <td>in</td>\n",
       "      <td>False</td>\n",
       "      <td>NaN</td>\n",
       "      <td>True</td>\n",
       "      <td>7</td>\n",
       "      <td>0</td>\n",
       "      <td>128</td>\n",
       "    </tr>\n",
       "    <tr>\n",
       "      <th>32</th>\n",
       "      <td>166377</td>\n",
       "      <td>2019-08-13 00:00:00+03:00</td>\n",
       "      <td>in</td>\n",
       "      <td>False</td>\n",
       "      <td>880028.0</td>\n",
       "      <td>False</td>\n",
       "      <td>1</td>\n",
       "      <td>88</td>\n",
       "      <td>102</td>\n",
       "    </tr>\n",
       "    <tr>\n",
       "      <th>35</th>\n",
       "      <td>166377</td>\n",
       "      <td>2019-08-14 00:00:00+03:00</td>\n",
       "      <td>in</td>\n",
       "      <td>False</td>\n",
       "      <td>880026.0</td>\n",
       "      <td>False</td>\n",
       "      <td>2</td>\n",
       "      <td>197</td>\n",
       "      <td>218</td>\n",
       "    </tr>\n",
       "    <tr>\n",
       "      <th>36</th>\n",
       "      <td>166377</td>\n",
       "      <td>2019-08-14 00:00:00+03:00</td>\n",
       "      <td>in</td>\n",
       "      <td>False</td>\n",
       "      <td>NaN</td>\n",
       "      <td>True</td>\n",
       "      <td>1</td>\n",
       "      <td>0</td>\n",
       "      <td>3</td>\n",
       "    </tr>\n",
       "  </tbody>\n",
       "</table>\n",
       "</div>"
      ],
      "text/plain": [
       "    user_id                       date direction internal  operator_id  \\\n",
       "0    166377  2019-08-04 00:00:00+03:00        in    False          NaN   \n",
       "7    166377  2019-08-05 00:00:00+03:00        in    False          NaN   \n",
       "8    166377  2019-08-06 00:00:00+03:00        in    False          NaN   \n",
       "16   166377  2019-08-07 00:00:00+03:00        in    False          NaN   \n",
       "25   166377  2019-08-12 00:00:00+03:00        in    False     880028.0   \n",
       "26   166377  2019-08-12 00:00:00+03:00        in    False          NaN   \n",
       "28   166377  2019-08-13 00:00:00+03:00        in    False          NaN   \n",
       "32   166377  2019-08-13 00:00:00+03:00        in    False     880028.0   \n",
       "35   166377  2019-08-14 00:00:00+03:00        in    False     880026.0   \n",
       "36   166377  2019-08-14 00:00:00+03:00        in    False          NaN   \n",
       "\n",
       "    is_missed_call  calls_count  call_duration  total_call_duration  \n",
       "0             True            2              0                    4  \n",
       "7             True            6              0                   35  \n",
       "8             True            4              0                   62  \n",
       "16            True            2              0                   24  \n",
       "25           False            1            407                  411  \n",
       "26            True            2              0                   34  \n",
       "28            True            7              0                  128  \n",
       "32           False            1             88                  102  \n",
       "35           False            2            197                  218  \n",
       "36            True            1              0                    3  "
      ]
     },
     "execution_count": 57,
     "metadata": {},
     "output_type": "execute_result"
    }
   ],
   "source": [
    "data_in_total = data_ds.query('direction==\"in\"')\n",
    "data_in_total.info()\n",
    "data_in_total.head(10)"
   ]
  },
  {
   "cell_type": "code",
   "execution_count": 58,
   "metadata": {},
   "outputs": [
    {
     "data": {
      "text/html": [
       "<div>\n",
       "<style scoped>\n",
       "    .dataframe tbody tr th:only-of-type {\n",
       "        vertical-align: middle;\n",
       "    }\n",
       "\n",
       "    .dataframe tbody tr th {\n",
       "        vertical-align: top;\n",
       "    }\n",
       "\n",
       "    .dataframe thead th {\n",
       "        text-align: right;\n",
       "    }\n",
       "</style>\n",
       "<table border=\"1\" class=\"dataframe\">\n",
       "  <thead>\n",
       "    <tr style=\"text-align: right;\">\n",
       "      <th></th>\n",
       "      <th>user_id</th>\n",
       "      <th>calls_count</th>\n",
       "    </tr>\n",
       "  </thead>\n",
       "  <tbody>\n",
       "    <tr>\n",
       "      <th>0</th>\n",
       "      <td>166377</td>\n",
       "      <td>196</td>\n",
       "    </tr>\n",
       "    <tr>\n",
       "      <th>1</th>\n",
       "      <td>166391</td>\n",
       "      <td>26</td>\n",
       "    </tr>\n",
       "    <tr>\n",
       "      <th>2</th>\n",
       "      <td>166392</td>\n",
       "      <td>209</td>\n",
       "    </tr>\n",
       "    <tr>\n",
       "      <th>3</th>\n",
       "      <td>166399</td>\n",
       "      <td>24</td>\n",
       "    </tr>\n",
       "    <tr>\n",
       "      <th>4</th>\n",
       "      <td>166405</td>\n",
       "      <td>7709</td>\n",
       "    </tr>\n",
       "    <tr>\n",
       "      <th>5</th>\n",
       "      <td>166406</td>\n",
       "      <td>256</td>\n",
       "    </tr>\n",
       "    <tr>\n",
       "      <th>6</th>\n",
       "      <td>166407</td>\n",
       "      <td>151</td>\n",
       "    </tr>\n",
       "    <tr>\n",
       "      <th>7</th>\n",
       "      <td>166428</td>\n",
       "      <td>168</td>\n",
       "    </tr>\n",
       "    <tr>\n",
       "      <th>8</th>\n",
       "      <td>166481</td>\n",
       "      <td>58</td>\n",
       "    </tr>\n",
       "    <tr>\n",
       "      <th>9</th>\n",
       "      <td>166482</td>\n",
       "      <td>100</td>\n",
       "    </tr>\n",
       "  </tbody>\n",
       "</table>\n",
       "</div>"
      ],
      "text/plain": [
       "   user_id  calls_count\n",
       "0   166377          196\n",
       "1   166391           26\n",
       "2   166392          209\n",
       "3   166399           24\n",
       "4   166405         7709\n",
       "5   166406          256\n",
       "6   166407          151\n",
       "7   166428          168\n",
       "8   166481           58\n",
       "9   166482          100"
      ]
     },
     "metadata": {},
     "output_type": "display_data"
    },
    {
     "data": {
      "text/plain": [
       "197626"
      ]
     },
     "metadata": {},
     "output_type": "display_data"
    }
   ],
   "source": [
    "data_in_total_count=data_in_total.groupby(['user_id'], as_index = False).agg({'calls_count': 'sum'})\n",
    "display(data_in_total_count.head(10))\n",
    "display(data_in_total_count['calls_count'].sum())"
   ]
  },
  {
   "cell_type": "markdown",
   "metadata": {},
   "source": [
    "Получили, что в общей сложности было 197626 звонков. Значит пропущен (не распределен) КЦ более чем каждый второй звонок. В принципе с этого места можно уже не смотреть сколько распределенных звонков пропущено уже оператором. Для этого возьмем уже наш финальный дата фрейм после всех обработок и применим к нему тот же подход."
   ]
  },
  {
   "cell_type": "code",
   "execution_count": 59,
   "metadata": {},
   "outputs": [],
   "source": [
    "data_in=data_ds_fin"
   ]
  },
  {
   "cell_type": "code",
   "execution_count": 60,
   "metadata": {},
   "outputs": [
    {
     "name": "stdout",
     "output_type": "stream",
     "text": [
      "<class 'pandas.core.frame.DataFrame'>\n",
      "Int64Index: 684 entries, 573 to 40554\n",
      "Data columns (total 11 columns):\n",
      " #   Column               Non-Null Count  Dtype         \n",
      "---  ------               --------------  -----         \n",
      " 0   user_id              684 non-null    int64         \n",
      " 1   date                 684 non-null    datetime64[ns]\n",
      " 2   direction            684 non-null    object        \n",
      " 3   internal             684 non-null    object        \n",
      " 4   operator_id          684 non-null    int64         \n",
      " 5   is_missed_call       684 non-null    bool          \n",
      " 6   calls_count          684 non-null    int64         \n",
      " 7   call_duration        684 non-null    int64         \n",
      " 8   total_call_duration  684 non-null    int64         \n",
      " 9   tariff_plan          684 non-null    object        \n",
      " 10  date_start           684 non-null    object        \n",
      "dtypes: bool(1), datetime64[ns](1), int64(5), object(4)\n",
      "memory usage: 59.4+ KB\n"
     ]
    },
    {
     "data": {
      "text/html": [
       "<div>\n",
       "<style scoped>\n",
       "    .dataframe tbody tr th:only-of-type {\n",
       "        vertical-align: middle;\n",
       "    }\n",
       "\n",
       "    .dataframe tbody tr th {\n",
       "        vertical-align: top;\n",
       "    }\n",
       "\n",
       "    .dataframe thead th {\n",
       "        text-align: right;\n",
       "    }\n",
       "</style>\n",
       "<table border=\"1\" class=\"dataframe\">\n",
       "  <thead>\n",
       "    <tr style=\"text-align: right;\">\n",
       "      <th></th>\n",
       "      <th>user_id</th>\n",
       "      <th>date</th>\n",
       "      <th>direction</th>\n",
       "      <th>internal</th>\n",
       "      <th>operator_id</th>\n",
       "      <th>is_missed_call</th>\n",
       "      <th>calls_count</th>\n",
       "      <th>call_duration</th>\n",
       "      <th>total_call_duration</th>\n",
       "      <th>tariff_plan</th>\n",
       "      <th>date_start</th>\n",
       "    </tr>\n",
       "  </thead>\n",
       "  <tbody>\n",
       "    <tr>\n",
       "      <th>573</th>\n",
       "      <td>166405</td>\n",
       "      <td>2019-08-19</td>\n",
       "      <td>in</td>\n",
       "      <td>False</td>\n",
       "      <td>882684</td>\n",
       "      <td>True</td>\n",
       "      <td>1</td>\n",
       "      <td>0</td>\n",
       "      <td>7</td>\n",
       "      <td>B</td>\n",
       "      <td>2019-08-02</td>\n",
       "    </tr>\n",
       "    <tr>\n",
       "      <th>574</th>\n",
       "      <td>166405</td>\n",
       "      <td>2019-08-19</td>\n",
       "      <td>in</td>\n",
       "      <td>False</td>\n",
       "      <td>882686</td>\n",
       "      <td>True</td>\n",
       "      <td>1</td>\n",
       "      <td>0</td>\n",
       "      <td>5</td>\n",
       "      <td>B</td>\n",
       "      <td>2019-08-02</td>\n",
       "    </tr>\n",
       "    <tr>\n",
       "      <th>597</th>\n",
       "      <td>166405</td>\n",
       "      <td>2019-08-24</td>\n",
       "      <td>in</td>\n",
       "      <td>False</td>\n",
       "      <td>882684</td>\n",
       "      <td>True</td>\n",
       "      <td>1</td>\n",
       "      <td>0</td>\n",
       "      <td>14</td>\n",
       "      <td>B</td>\n",
       "      <td>2019-08-02</td>\n",
       "    </tr>\n",
       "    <tr>\n",
       "      <th>615</th>\n",
       "      <td>166405</td>\n",
       "      <td>2019-08-28</td>\n",
       "      <td>in</td>\n",
       "      <td>False</td>\n",
       "      <td>882686</td>\n",
       "      <td>True</td>\n",
       "      <td>2</td>\n",
       "      <td>0</td>\n",
       "      <td>50</td>\n",
       "      <td>B</td>\n",
       "      <td>2019-08-02</td>\n",
       "    </tr>\n",
       "    <tr>\n",
       "      <th>709</th>\n",
       "      <td>166405</td>\n",
       "      <td>2019-09-09</td>\n",
       "      <td>in</td>\n",
       "      <td>False</td>\n",
       "      <td>882686</td>\n",
       "      <td>True</td>\n",
       "      <td>1</td>\n",
       "      <td>0</td>\n",
       "      <td>8</td>\n",
       "      <td>B</td>\n",
       "      <td>2019-08-02</td>\n",
       "    </tr>\n",
       "    <tr>\n",
       "      <th>719</th>\n",
       "      <td>166405</td>\n",
       "      <td>2019-09-11</td>\n",
       "      <td>in</td>\n",
       "      <td>False</td>\n",
       "      <td>882684</td>\n",
       "      <td>True</td>\n",
       "      <td>1</td>\n",
       "      <td>0</td>\n",
       "      <td>29</td>\n",
       "      <td>B</td>\n",
       "      <td>2019-08-02</td>\n",
       "    </tr>\n",
       "    <tr>\n",
       "      <th>814</th>\n",
       "      <td>166405</td>\n",
       "      <td>2019-09-27</td>\n",
       "      <td>in</td>\n",
       "      <td>False</td>\n",
       "      <td>882684</td>\n",
       "      <td>True</td>\n",
       "      <td>1</td>\n",
       "      <td>0</td>\n",
       "      <td>16</td>\n",
       "      <td>B</td>\n",
       "      <td>2019-08-02</td>\n",
       "    </tr>\n",
       "    <tr>\n",
       "      <th>850</th>\n",
       "      <td>166405</td>\n",
       "      <td>2019-10-02</td>\n",
       "      <td>in</td>\n",
       "      <td>False</td>\n",
       "      <td>902532</td>\n",
       "      <td>True</td>\n",
       "      <td>1</td>\n",
       "      <td>0</td>\n",
       "      <td>111</td>\n",
       "      <td>B</td>\n",
       "      <td>2019-08-02</td>\n",
       "    </tr>\n",
       "    <tr>\n",
       "      <th>974</th>\n",
       "      <td>166405</td>\n",
       "      <td>2019-10-21</td>\n",
       "      <td>in</td>\n",
       "      <td>False</td>\n",
       "      <td>882690</td>\n",
       "      <td>True</td>\n",
       "      <td>1</td>\n",
       "      <td>0</td>\n",
       "      <td>11</td>\n",
       "      <td>B</td>\n",
       "      <td>2019-08-02</td>\n",
       "    </tr>\n",
       "    <tr>\n",
       "      <th>1023</th>\n",
       "      <td>166405</td>\n",
       "      <td>2019-10-25</td>\n",
       "      <td>in</td>\n",
       "      <td>False</td>\n",
       "      <td>902510</td>\n",
       "      <td>True</td>\n",
       "      <td>1</td>\n",
       "      <td>0</td>\n",
       "      <td>12</td>\n",
       "      <td>B</td>\n",
       "      <td>2019-08-02</td>\n",
       "    </tr>\n",
       "  </tbody>\n",
       "</table>\n",
       "</div>"
      ],
      "text/plain": [
       "      user_id       date direction internal  operator_id  is_missed_call  \\\n",
       "573    166405 2019-08-19        in    False       882684            True   \n",
       "574    166405 2019-08-19        in    False       882686            True   \n",
       "597    166405 2019-08-24        in    False       882684            True   \n",
       "615    166405 2019-08-28        in    False       882686            True   \n",
       "709    166405 2019-09-09        in    False       882686            True   \n",
       "719    166405 2019-09-11        in    False       882684            True   \n",
       "814    166405 2019-09-27        in    False       882684            True   \n",
       "850    166405 2019-10-02        in    False       902532            True   \n",
       "974    166405 2019-10-21        in    False       882690            True   \n",
       "1023   166405 2019-10-25        in    False       902510            True   \n",
       "\n",
       "      calls_count  call_duration  total_call_duration tariff_plan  date_start  \n",
       "573             1              0                    7           B  2019-08-02  \n",
       "574             1              0                    5           B  2019-08-02  \n",
       "597             1              0                   14           B  2019-08-02  \n",
       "615             2              0                   50           B  2019-08-02  \n",
       "709             1              0                    8           B  2019-08-02  \n",
       "719             1              0                   29           B  2019-08-02  \n",
       "814             1              0                   16           B  2019-08-02  \n",
       "850             1              0                  111           B  2019-08-02  \n",
       "974             1              0                   11           B  2019-08-02  \n",
       "1023            1              0                   12           B  2019-08-02  "
      ]
     },
     "execution_count": 60,
     "metadata": {},
     "output_type": "execute_result"
    }
   ],
   "source": [
    "data_in_missed = data_in.query('direction==\"in\" and is_missed_call==True')\n",
    "data_in_missed.info()\n",
    "data_in_missed.head(10)"
   ]
  },
  {
   "cell_type": "code",
   "execution_count": 61,
   "metadata": {},
   "outputs": [
    {
     "data": {
      "text/html": [
       "<div>\n",
       "<style scoped>\n",
       "    .dataframe tbody tr th:only-of-type {\n",
       "        vertical-align: middle;\n",
       "    }\n",
       "\n",
       "    .dataframe tbody tr th {\n",
       "        vertical-align: top;\n",
       "    }\n",
       "\n",
       "    .dataframe thead th {\n",
       "        text-align: right;\n",
       "    }\n",
       "</style>\n",
       "<table border=\"1\" class=\"dataframe\">\n",
       "  <thead>\n",
       "    <tr style=\"text-align: right;\">\n",
       "      <th></th>\n",
       "      <th>operator_id</th>\n",
       "      <th>missed_calls_op</th>\n",
       "    </tr>\n",
       "  </thead>\n",
       "  <tbody>\n",
       "    <tr>\n",
       "      <th>0</th>\n",
       "      <td>882680</td>\n",
       "      <td>3</td>\n",
       "    </tr>\n",
       "    <tr>\n",
       "      <th>1</th>\n",
       "      <td>882684</td>\n",
       "      <td>4</td>\n",
       "    </tr>\n",
       "    <tr>\n",
       "      <th>2</th>\n",
       "      <td>882686</td>\n",
       "      <td>6</td>\n",
       "    </tr>\n",
       "    <tr>\n",
       "      <th>3</th>\n",
       "      <td>882690</td>\n",
       "      <td>2</td>\n",
       "    </tr>\n",
       "    <tr>\n",
       "      <th>4</th>\n",
       "      <td>884408</td>\n",
       "      <td>4</td>\n",
       "    </tr>\n",
       "    <tr>\n",
       "      <th>5</th>\n",
       "      <td>885876</td>\n",
       "      <td>20</td>\n",
       "    </tr>\n",
       "    <tr>\n",
       "      <th>6</th>\n",
       "      <td>885890</td>\n",
       "      <td>26</td>\n",
       "    </tr>\n",
       "    <tr>\n",
       "      <th>7</th>\n",
       "      <td>887276</td>\n",
       "      <td>3</td>\n",
       "    </tr>\n",
       "    <tr>\n",
       "      <th>8</th>\n",
       "      <td>888406</td>\n",
       "      <td>1</td>\n",
       "    </tr>\n",
       "    <tr>\n",
       "      <th>9</th>\n",
       "      <td>888532</td>\n",
       "      <td>2</td>\n",
       "    </tr>\n",
       "  </tbody>\n",
       "</table>\n",
       "</div>"
      ],
      "text/plain": [
       "   operator_id  missed_calls_op\n",
       "0       882680                3\n",
       "1       882684                4\n",
       "2       882686                6\n",
       "3       882690                2\n",
       "4       884408                4\n",
       "5       885876               20\n",
       "6       885890               26\n",
       "7       887276                3\n",
       "8       888406                1\n",
       "9       888532                2"
      ]
     },
     "metadata": {},
     "output_type": "display_data"
    },
    {
     "name": "stdout",
     "output_type": "stream",
     "text": [
      "Количество пропущенных операторами звонков: 925\n",
      "Количество операторов, пропускающих звонки: 239\n"
     ]
    }
   ],
   "source": [
    "data_in_missed_op=data_in_missed.groupby(['operator_id'], as_index = False).agg({'calls_count': 'sum'})\n",
    "data_in_missed_op.columns = ['operator_id', 'missed_calls_op'] \n",
    "display(data_in_missed_op.head(10))\n",
    "print('Количество пропущенных операторами звонков:', data_in_missed_op['missed_calls_op'].sum())\n",
    "print('Количество операторов, пропускающих звонки:',len(data_in_missed_op['missed_calls_op']))"
   ]
  },
  {
   "cell_type": "markdown",
   "metadata": {},
   "source": [
    "Таким образом, из 197626 входящих звонков в общей сложности было пропущено 104163, из них операторами 925. Менее 1%. Можем признать, что критерий оценки по количеству пропущенных входящих звонков в целом работает. Но в нашем случае его стоит модифицировать. Т.е., признать неэффективными всех операторов, у кого есть пропущенные звонки. Таких у нас 239 человек из 1092."
   ]
  },
  {
   "cell_type": "code",
   "execution_count": 62,
   "metadata": {},
   "outputs": [
    {
     "data": {
      "image/png": "[encoded data removed]",
      "text/plain": [
       "<Figure size 1296x432 with 1 Axes>"
      ]
     },
     "metadata": {
      "needs_background": "light"
     },
     "output_type": "display_data"
    }
   ],
   "source": [
    "plt.figure(figsize = (18,6))\n",
    "data_in_missed_op['missed_calls_op'].hist(bins=60, color = 'royalblue', edgecolor = 'black').set(title = 'Распределение по количеству пропущенных операторами звонков', xlabel = 'Звонки')\n",
    "plt.show()"
   ]
  },
  {
   "cell_type": "markdown",
   "metadata": {},
   "source": [
    "#### Поиск операторов без пропущенных звонков"
   ]
  },
  {
   "cell_type": "markdown",
   "metadata": {},
   "source": [
    "Ранее в пункте 2.2.1 мы установили, что у нас в базе 1092 оператора. Операторов, пропустивших звонки 239. Т.е. операторов без пропущенных звонков точно существуют. Их 853"
   ]
  },
  {
   "cell_type": "markdown",
   "metadata": {},
   "source": [
    "#### Исследование длительности ожидания клиентов."
   ]
  },
  {
   "cell_type": "code",
   "execution_count": 63,
   "metadata": {},
   "outputs": [
    {
     "name": "stderr",
     "output_type": "stream",
     "text": [
      "/tmp/ipykernel_471/2673431241.py:2: SettingWithCopyWarning: \n",
      "A value is trying to be set on a copy of a slice from a DataFrame.\n",
      "Try using .loc[row_indexer,col_indexer] = value instead\n",
      "\n",
      "See the caveats in the documentation: https://pandas.pydata.org/pandas-docs/stable/user_guide/indexing.html#returning-a-view-versus-a-copy\n",
      "  data_in_waiting['waiting']=(data_in_waiting['total_call_duration']-data_in_waiting['call_duration'])/data_in_waiting['calls_count']\n"
     ]
    },
    {
     "data": {
      "text/html": [
       "<div>\n",
       "<style scoped>\n",
       "    .dataframe tbody tr th:only-of-type {\n",
       "        vertical-align: middle;\n",
       "    }\n",
       "\n",
       "    .dataframe tbody tr th {\n",
       "        vertical-align: top;\n",
       "    }\n",
       "\n",
       "    .dataframe thead th {\n",
       "        text-align: right;\n",
       "    }\n",
       "</style>\n",
       "<table border=\"1\" class=\"dataframe\">\n",
       "  <thead>\n",
       "    <tr style=\"text-align: right;\">\n",
       "      <th></th>\n",
       "      <th>user_id</th>\n",
       "      <th>date</th>\n",
       "      <th>direction</th>\n",
       "      <th>internal</th>\n",
       "      <th>operator_id</th>\n",
       "      <th>is_missed_call</th>\n",
       "      <th>calls_count</th>\n",
       "      <th>call_duration</th>\n",
       "      <th>total_call_duration</th>\n",
       "      <th>waiting</th>\n",
       "    </tr>\n",
       "  </thead>\n",
       "  <tbody>\n",
       "    <tr>\n",
       "      <th>0</th>\n",
       "      <td>166377</td>\n",
       "      <td>2019-08-04 00:00:00+03:00</td>\n",
       "      <td>in</td>\n",
       "      <td>False</td>\n",
       "      <td>NaN</td>\n",
       "      <td>True</td>\n",
       "      <td>2</td>\n",
       "      <td>0</td>\n",
       "      <td>4</td>\n",
       "      <td>2.000000</td>\n",
       "    </tr>\n",
       "    <tr>\n",
       "      <th>7</th>\n",
       "      <td>166377</td>\n",
       "      <td>2019-08-05 00:00:00+03:00</td>\n",
       "      <td>in</td>\n",
       "      <td>False</td>\n",
       "      <td>NaN</td>\n",
       "      <td>True</td>\n",
       "      <td>6</td>\n",
       "      <td>0</td>\n",
       "      <td>35</td>\n",
       "      <td>5.833333</td>\n",
       "    </tr>\n",
       "    <tr>\n",
       "      <th>8</th>\n",
       "      <td>166377</td>\n",
       "      <td>2019-08-06 00:00:00+03:00</td>\n",
       "      <td>in</td>\n",
       "      <td>False</td>\n",
       "      <td>NaN</td>\n",
       "      <td>True</td>\n",
       "      <td>4</td>\n",
       "      <td>0</td>\n",
       "      <td>62</td>\n",
       "      <td>15.500000</td>\n",
       "    </tr>\n",
       "    <tr>\n",
       "      <th>16</th>\n",
       "      <td>166377</td>\n",
       "      <td>2019-08-07 00:00:00+03:00</td>\n",
       "      <td>in</td>\n",
       "      <td>False</td>\n",
       "      <td>NaN</td>\n",
       "      <td>True</td>\n",
       "      <td>2</td>\n",
       "      <td>0</td>\n",
       "      <td>24</td>\n",
       "      <td>12.000000</td>\n",
       "    </tr>\n",
       "    <tr>\n",
       "      <th>26</th>\n",
       "      <td>166377</td>\n",
       "      <td>2019-08-12 00:00:00+03:00</td>\n",
       "      <td>in</td>\n",
       "      <td>False</td>\n",
       "      <td>NaN</td>\n",
       "      <td>True</td>\n",
       "      <td>2</td>\n",
       "      <td>0</td>\n",
       "      <td>34</td>\n",
       "      <td>17.000000</td>\n",
       "    </tr>\n",
       "    <tr>\n",
       "      <th>28</th>\n",
       "      <td>166377</td>\n",
       "      <td>2019-08-13 00:00:00+03:00</td>\n",
       "      <td>in</td>\n",
       "      <td>False</td>\n",
       "      <td>NaN</td>\n",
       "      <td>True</td>\n",
       "      <td>7</td>\n",
       "      <td>0</td>\n",
       "      <td>128</td>\n",
       "      <td>18.285714</td>\n",
       "    </tr>\n",
       "    <tr>\n",
       "      <th>36</th>\n",
       "      <td>166377</td>\n",
       "      <td>2019-08-14 00:00:00+03:00</td>\n",
       "      <td>in</td>\n",
       "      <td>False</td>\n",
       "      <td>NaN</td>\n",
       "      <td>True</td>\n",
       "      <td>1</td>\n",
       "      <td>0</td>\n",
       "      <td>3</td>\n",
       "      <td>3.000000</td>\n",
       "    </tr>\n",
       "    <tr>\n",
       "      <th>71</th>\n",
       "      <td>166377</td>\n",
       "      <td>2019-08-22 00:00:00+03:00</td>\n",
       "      <td>in</td>\n",
       "      <td>False</td>\n",
       "      <td>NaN</td>\n",
       "      <td>True</td>\n",
       "      <td>1</td>\n",
       "      <td>0</td>\n",
       "      <td>1</td>\n",
       "      <td>1.000000</td>\n",
       "    </tr>\n",
       "    <tr>\n",
       "      <th>74</th>\n",
       "      <td>166377</td>\n",
       "      <td>2019-08-23 00:00:00+03:00</td>\n",
       "      <td>in</td>\n",
       "      <td>False</td>\n",
       "      <td>NaN</td>\n",
       "      <td>True</td>\n",
       "      <td>2</td>\n",
       "      <td>0</td>\n",
       "      <td>47</td>\n",
       "      <td>23.500000</td>\n",
       "    </tr>\n",
       "    <tr>\n",
       "      <th>79</th>\n",
       "      <td>166377</td>\n",
       "      <td>2019-08-24 00:00:00+03:00</td>\n",
       "      <td>in</td>\n",
       "      <td>False</td>\n",
       "      <td>NaN</td>\n",
       "      <td>True</td>\n",
       "      <td>2</td>\n",
       "      <td>0</td>\n",
       "      <td>35</td>\n",
       "      <td>17.500000</td>\n",
       "    </tr>\n",
       "  </tbody>\n",
       "</table>\n",
       "</div>"
      ],
      "text/plain": [
       "    user_id                       date direction internal  operator_id  \\\n",
       "0    166377  2019-08-04 00:00:00+03:00        in    False          NaN   \n",
       "7    166377  2019-08-05 00:00:00+03:00        in    False          NaN   \n",
       "8    166377  2019-08-06 00:00:00+03:00        in    False          NaN   \n",
       "16   166377  2019-08-07 00:00:00+03:00        in    False          NaN   \n",
       "26   166377  2019-08-12 00:00:00+03:00        in    False          NaN   \n",
       "28   166377  2019-08-13 00:00:00+03:00        in    False          NaN   \n",
       "36   166377  2019-08-14 00:00:00+03:00        in    False          NaN   \n",
       "71   166377  2019-08-22 00:00:00+03:00        in    False          NaN   \n",
       "74   166377  2019-08-23 00:00:00+03:00        in    False          NaN   \n",
       "79   166377  2019-08-24 00:00:00+03:00        in    False          NaN   \n",
       "\n",
       "    is_missed_call  calls_count  call_duration  total_call_duration    waiting  \n",
       "0             True            2              0                    4   2.000000  \n",
       "7             True            6              0                   35   5.833333  \n",
       "8             True            4              0                   62  15.500000  \n",
       "16            True            2              0                   24  12.000000  \n",
       "26            True            2              0                   34  17.000000  \n",
       "28            True            7              0                  128  18.285714  \n",
       "36            True            1              0                    3   3.000000  \n",
       "71            True            1              0                    1   1.000000  \n",
       "74            True            2              0                   47  23.500000  \n",
       "79            True            2              0                   35  17.500000  "
      ]
     },
     "execution_count": 63,
     "metadata": {},
     "output_type": "execute_result"
    }
   ],
   "source": [
    "data_in_waiting=data_in_misssed_total\n",
    "data_in_waiting['waiting']=(data_in_waiting['total_call_duration']-data_in_waiting['call_duration'])/data_in_waiting['calls_count']\n",
    "data_in_waiting.head(10)"
   ]
  },
  {
   "cell_type": "code",
   "execution_count": 64,
   "metadata": {},
   "outputs": [
    {
     "data": {
      "image/png": "[encoded data removed]",
      "text/plain": [
       "<Figure size 1296x432 with 1 Axes>"
      ]
     },
     "metadata": {
      "needs_background": "light"
     },
     "output_type": "display_data"
    }
   ],
   "source": [
    "plt.figure(figsize = (18,6))\n",
    "data_in_waiting['waiting'].hist(bins=100, color = 'royalblue', edgecolor = 'black').set(title = 'Распределение времени ожидания', xlabel = 'Время ожидания')\n",
    "plt.show()"
   ]
  },
  {
   "cell_type": "markdown",
   "metadata": {},
   "source": [
    "Рассчитаем медианное время ожидания для всех пропущенных звонков"
   ]
  },
  {
   "cell_type": "code",
   "execution_count": 65,
   "metadata": {},
   "outputs": [
    {
     "name": "stdout",
     "output_type": "stream",
     "text": [
      "Медианное время ожидания на входящих звонках:  14.0\n"
     ]
    }
   ],
   "source": [
    "waiting_median=data_in_waiting['waiting'].median()\n",
    "print ('Медианное время ожидания на входящих звонках: ', waiting_median)"
   ]
  },
  {
   "cell_type": "markdown",
   "metadata": {},
   "source": [
    "Однако, 14 минут. Стоит ли удивляться тому, что более 50% входящих звонков пропущено. Что-то не так с системой распределения звонков в КЦ, либо с организацией работы операторов. Однако сравним достижения наших операторов с полученным значением. Для этого из нашего финального датафрейма data_ds_fin сделаем группировку по операторам."
   ]
  },
  {
   "cell_type": "code",
   "execution_count": 66,
   "metadata": {},
   "outputs": [
    {
     "data": {
      "text/html": [
       "<div>\n",
       "<style scoped>\n",
       "    .dataframe tbody tr th:only-of-type {\n",
       "        vertical-align: middle;\n",
       "    }\n",
       "\n",
       "    .dataframe tbody tr th {\n",
       "        vertical-align: top;\n",
       "    }\n",
       "\n",
       "    .dataframe thead th {\n",
       "        text-align: right;\n",
       "    }\n",
       "</style>\n",
       "<table border=\"1\" class=\"dataframe\">\n",
       "  <thead>\n",
       "    <tr style=\"text-align: right;\">\n",
       "      <th></th>\n",
       "      <th>operator_id</th>\n",
       "      <th>calls_count</th>\n",
       "      <th>call_duration</th>\n",
       "      <th>total_call_duration</th>\n",
       "    </tr>\n",
       "  </thead>\n",
       "  <tbody>\n",
       "    <tr>\n",
       "      <th>0</th>\n",
       "      <td>879896</td>\n",
       "      <td>58</td>\n",
       "      <td>5616</td>\n",
       "      <td>6190</td>\n",
       "    </tr>\n",
       "    <tr>\n",
       "      <th>1</th>\n",
       "      <td>879898</td>\n",
       "      <td>103</td>\n",
       "      <td>6351</td>\n",
       "      <td>8024</td>\n",
       "    </tr>\n",
       "    <tr>\n",
       "      <th>2</th>\n",
       "      <td>880020</td>\n",
       "      <td>7</td>\n",
       "      <td>299</td>\n",
       "      <td>353</td>\n",
       "    </tr>\n",
       "    <tr>\n",
       "      <th>3</th>\n",
       "      <td>880022</td>\n",
       "      <td>8</td>\n",
       "      <td>512</td>\n",
       "      <td>624</td>\n",
       "    </tr>\n",
       "    <tr>\n",
       "      <th>4</th>\n",
       "      <td>880026</td>\n",
       "      <td>24</td>\n",
       "      <td>1587</td>\n",
       "      <td>1730</td>\n",
       "    </tr>\n",
       "  </tbody>\n",
       "</table>\n",
       "</div>"
      ],
      "text/plain": [
       "   operator_id  calls_count  call_duration  total_call_duration\n",
       "0       879896           58           5616                 6190\n",
       "1       879898          103           6351                 8024\n",
       "2       880020            7            299                  353\n",
       "3       880022            8            512                  624\n",
       "4       880026           24           1587                 1730"
      ]
     },
     "execution_count": 66,
     "metadata": {},
     "output_type": "execute_result"
    }
   ],
   "source": [
    "data_op_in=data_ds_fin.query('direction==\"in\"')\n",
    "\n",
    "waiting_by_op=data_op_in.groupby(['operator_id'], as_index = False).agg({'calls_count':'sum','call_duration':'sum', 'total_call_duration':'sum'})\n",
    "waiting_by_op.head()\n"
   ]
  },
  {
   "cell_type": "code",
   "execution_count": 67,
   "metadata": {},
   "outputs": [
    {
     "data": {
      "text/html": [
       "<div>\n",
       "<style scoped>\n",
       "    .dataframe tbody tr th:only-of-type {\n",
       "        vertical-align: middle;\n",
       "    }\n",
       "\n",
       "    .dataframe tbody tr th {\n",
       "        vertical-align: top;\n",
       "    }\n",
       "\n",
       "    .dataframe thead th {\n",
       "        text-align: right;\n",
       "    }\n",
       "</style>\n",
       "<table border=\"1\" class=\"dataframe\">\n",
       "  <thead>\n",
       "    <tr style=\"text-align: right;\">\n",
       "      <th></th>\n",
       "      <th>operator_id</th>\n",
       "      <th>calls_count</th>\n",
       "      <th>call_duration</th>\n",
       "      <th>total_call_duration</th>\n",
       "      <th>wm</th>\n",
       "    </tr>\n",
       "  </thead>\n",
       "  <tbody>\n",
       "    <tr>\n",
       "      <th>0</th>\n",
       "      <td>879896</td>\n",
       "      <td>58</td>\n",
       "      <td>5616</td>\n",
       "      <td>6190</td>\n",
       "      <td>9.896552</td>\n",
       "    </tr>\n",
       "    <tr>\n",
       "      <th>1</th>\n",
       "      <td>879898</td>\n",
       "      <td>103</td>\n",
       "      <td>6351</td>\n",
       "      <td>8024</td>\n",
       "      <td>16.242718</td>\n",
       "    </tr>\n",
       "    <tr>\n",
       "      <th>2</th>\n",
       "      <td>880020</td>\n",
       "      <td>7</td>\n",
       "      <td>299</td>\n",
       "      <td>353</td>\n",
       "      <td>7.714286</td>\n",
       "    </tr>\n",
       "    <tr>\n",
       "      <th>3</th>\n",
       "      <td>880022</td>\n",
       "      <td>8</td>\n",
       "      <td>512</td>\n",
       "      <td>624</td>\n",
       "      <td>14.000000</td>\n",
       "    </tr>\n",
       "    <tr>\n",
       "      <th>4</th>\n",
       "      <td>880026</td>\n",
       "      <td>24</td>\n",
       "      <td>1587</td>\n",
       "      <td>1730</td>\n",
       "      <td>5.958333</td>\n",
       "    </tr>\n",
       "  </tbody>\n",
       "</table>\n",
       "</div>"
      ],
      "text/plain": [
       "   operator_id  calls_count  call_duration  total_call_duration         wm\n",
       "0       879896           58           5616                 6190   9.896552\n",
       "1       879898          103           6351                 8024  16.242718\n",
       "2       880020            7            299                  353   7.714286\n",
       "3       880022            8            512                  624  14.000000\n",
       "4       880026           24           1587                 1730   5.958333"
      ]
     },
     "execution_count": 67,
     "metadata": {},
     "output_type": "execute_result"
    }
   ],
   "source": [
    "waiting_by_op['wm']=(waiting_by_op['total_call_duration']-waiting_by_op['call_duration'])/waiting_by_op['calls_count']\n",
    "waiting_by_op.head()"
   ]
  },
  {
   "cell_type": "markdown",
   "metadata": {},
   "source": [
    "Сформируем таблицу операторов, неэффективных по времени ожидания, т.е. тех, у кого эта велична более 14"
   ]
  },
  {
   "cell_type": "code",
   "execution_count": 68,
   "metadata": {},
   "outputs": [
    {
     "name": "stdout",
     "output_type": "stream",
     "text": [
      "<class 'pandas.core.frame.DataFrame'>\n",
      "Int64Index: 386 entries, 1 to 753\n",
      "Data columns (total 2 columns):\n",
      " #   Column       Non-Null Count  Dtype  \n",
      "---  ------       --------------  -----  \n",
      " 0   operator_id  386 non-null    int64  \n",
      " 1   wm           386 non-null    float64\n",
      "dtypes: float64(1), int64(1)\n",
      "memory usage: 9.0 KB\n",
      "    operator_id         wm\n",
      "1        879898  16.242718\n",
      "6        882476  31.666667\n",
      "7        882478  25.333333\n",
      "8        882680  16.070707\n",
      "9        882684  15.539967\n",
      "10       882686  14.714099\n",
      "11       882688  44.866667\n",
      "12       882690  41.532164\n",
      "16       884408  26.400000\n",
      "17       884412  41.666667\n",
      "Количество операторов c долгим временем ожидания: 386\n"
     ]
    },
    {
     "name": "stderr",
     "output_type": "stream",
     "text": [
      "/opt/conda/lib/python3.9/site-packages/pandas/core/frame.py:4308: SettingWithCopyWarning: \n",
      "A value is trying to be set on a copy of a slice from a DataFrame\n",
      "\n",
      "See the caveats in the documentation: https://pandas.pydata.org/pandas-docs/stable/user_guide/indexing.html#returning-a-view-versus-a-copy\n",
      "  return super().drop(\n"
     ]
    }
   ],
   "source": [
    "non_ef_waiting_op=waiting_by_op.query('wm>14')\n",
    "non_ef_waiting_op.drop(columns = ['calls_count','call_duration','total_call_duration'],axis = 1, inplace=True)\n",
    "non_ef_waiting_op.info()\n",
    "print(non_ef_waiting_op.head(10))\n",
    "print('Количество операторов c долгим временем ожидания:',len(non_ef_waiting_op['wm']))"
   ]
  },
  {
   "cell_type": "code",
   "execution_count": 69,
   "metadata": {},
   "outputs": [
    {
     "data": {
      "image/png": "[encoded data removed]",
      "text/plain": [
       "<Figure size 1296x432 with 1 Axes>"
      ]
     },
     "metadata": {
      "needs_background": "light"
     },
     "output_type": "display_data"
    }
   ],
   "source": [
    "plt.figure(figsize = (18,6))\n",
    "waiting_by_op['wm'].hist(bins=100, color = 'royalblue', edgecolor = 'black').set(title = 'Распределение времени ожидания', xlabel = 'Время ожидания')\n",
    "plt.show()"
   ]
  },
  {
   "cell_type": "code",
   "execution_count": 70,
   "metadata": {},
   "outputs": [
    {
     "name": "stdout",
     "output_type": "stream",
     "text": [
      "Эффективны по времени ожидания клиента 368 операторов из  1092\n"
     ]
    }
   ],
   "source": [
    "print('Эффективны по времени ожидания клиента', len(waiting_by_op.query('wm<=14')), 'операторов из ', len(ds_op_id))"
   ]
  },
  {
   "cell_type": "markdown",
   "metadata": {},
   "source": [
    "Критерий эффективности рабочий, хотя время ожидания велико, с моей точки зрения."
   ]
  },
  {
   "cell_type": "markdown",
   "metadata": {},
   "source": [
    "##### Напишем функцию для расчета времени ожидания заказчика и применим ее к каждой из наших трех тарифных групп. Интересно как будут различаться показатели."
   ]
  },
  {
   "cell_type": "code",
   "execution_count": 71,
   "metadata": {},
   "outputs": [],
   "source": [
    "def w_waiting (tariff):\n",
    "    print ('Распределение по времени ожидания для тарифа ',tariff)\n",
    "    fwaiting_median=waiting_median\n",
    "    fdata_op_in=data_ds_fin.query('direction==\"in\" and tariff_plan == @tariff')\n",
    "    fwaiting_by_op=fdata_op_in.groupby(['operator_id'], as_index = False).agg({'calls_count':'sum','call_duration':'sum', 'total_call_duration':'sum'})\n",
    "    fwaiting_by_op['wm']=(fwaiting_by_op['total_call_duration']-fwaiting_by_op['call_duration'])/fwaiting_by_op['calls_count']\n",
    "    fnon_ef_waiting_op=fwaiting_by_op.query('wm>14')\n",
    "    #fnon_ef_waiting_op.drop(columns = ['calls_count','call_duration','total_call_duration'],axis = 1, inplace=True)\n",
    "    fnon_ef_waiting_op.reset_index(drop=True, inplace=True)\n",
    "    plt.figure(figsize = (18,6))\n",
    "    fnon_ef_waiting_op['wm'].hist(bins=100, color = 'royalblue', edgecolor = 'black').set( xlabel = 'Время ожидания')\n",
    "    plt.show()\n",
    "    \n",
    "    return fnon_ef_waiting_op['wm']"
   ]
  },
  {
   "cell_type": "code",
   "execution_count": 72,
   "metadata": {},
   "outputs": [
    {
     "name": "stdout",
     "output_type": "stream",
     "text": [
      "Распределение по времени ожидания для тарифа  A\n"
     ]
    },
    {
     "data": {
      "image/png": "[encoded data removed]",
      "text/plain": [
       "<Figure size 1296x432 with 1 Axes>"
      ]
     },
     "metadata": {
      "needs_background": "light"
     },
     "output_type": "display_data"
    },
    {
     "name": "stdout",
     "output_type": "stream",
     "text": [
      "Распределение по времени ожидания для тарифа  B\n"
     ]
    },
    {
     "data": {
      "image/png": "[encoded data removed]",
      "text/plain": [
       "<Figure size 1296x432 with 1 Axes>"
      ]
     },
     "metadata": {
      "needs_background": "light"
     },
     "output_type": "display_data"
    },
    {
     "name": "stdout",
     "output_type": "stream",
     "text": [
      "Распределение по времени ожидания для тарифа  C\n"
     ]
    },
    {
     "data": {
      "image/png": "[encoded data removed]",
      "text/plain": [
       "<Figure size 1296x432 with 1 Axes>"
      ]
     },
     "metadata": {
      "needs_background": "light"
     },
     "output_type": "display_data"
    }
   ],
   "source": [
    "waiting_a=w_waiting ('A')\n",
    "waiting_b=w_waiting ('B')\n",
    "waiting_c=w_waiting ('C')"
   ]
  },
  {
   "cell_type": "markdown",
   "metadata": {},
   "source": [
    "#### Сводный отчет по неэффективным операторам"
   ]
  },
  {
   "cell_type": "markdown",
   "metadata": {},
   "source": [
    "Для начала создам фрейм, куда войдут operator_id и user_id\n"
   ]
  },
  {
   "cell_type": "code",
   "execution_count": 73,
   "metadata": {},
   "outputs": [
    {
     "name": "stdout",
     "output_type": "stream",
     "text": [
      "   user_id  operator_id\n",
      "0   166377       880020\n",
      "1   166377       880022\n",
      "2   166377       880026\n",
      "3   166377       880028\n",
      "4   166377       881278\n"
     ]
    }
   ],
   "source": [
    "non_ef_op = data_ds_fin.groupby(['user_id','operator_id'], as_index = False).agg({'calls_count': 'sum'})\n",
    "non_ef_op.drop(columns = ['calls_count'],axis = 1, inplace=True)\n",
    "print(non_ef_op.head())"
   ]
  },
  {
   "cell_type": "markdown",
   "metadata": {},
   "source": [
    "Вспомним также о трех фреймах по неэффективности, которые сформировали ранее."
   ]
  },
  {
   "cell_type": "code",
   "execution_count": 74,
   "metadata": {
    "scrolled": false
   },
   "outputs": [
    {
     "name": "stderr",
     "output_type": "stream",
     "text": [
      "/tmp/ipykernel_471/898702528.py:1: SettingWithCopyWarning: \n",
      "A value is trying to be set on a copy of a slice from a DataFrame.\n",
      "Try using .loc[row_indexer,col_indexer] = value instead\n",
      "\n",
      "See the caveats in the documentation: https://pandas.pydata.org/pandas-docs/stable/user_guide/indexing.html#returning-a-view-versus-a-copy\n",
      "  non_ef_waiting_op['wm']=1\n"
     ]
    },
    {
     "data": {
      "text/html": [
       "<div>\n",
       "<style scoped>\n",
       "    .dataframe tbody tr th:only-of-type {\n",
       "        vertical-align: middle;\n",
       "    }\n",
       "\n",
       "    .dataframe tbody tr th {\n",
       "        vertical-align: top;\n",
       "    }\n",
       "\n",
       "    .dataframe thead th {\n",
       "        text-align: right;\n",
       "    }\n",
       "</style>\n",
       "<table border=\"1\" class=\"dataframe\">\n",
       "  <thead>\n",
       "    <tr style=\"text-align: right;\">\n",
       "      <th></th>\n",
       "      <th>operator_id</th>\n",
       "      <th>wm</th>\n",
       "    </tr>\n",
       "  </thead>\n",
       "  <tbody>\n",
       "    <tr>\n",
       "      <th>1</th>\n",
       "      <td>879898</td>\n",
       "      <td>1</td>\n",
       "    </tr>\n",
       "    <tr>\n",
       "      <th>6</th>\n",
       "      <td>882476</td>\n",
       "      <td>1</td>\n",
       "    </tr>\n",
       "    <tr>\n",
       "      <th>7</th>\n",
       "      <td>882478</td>\n",
       "      <td>1</td>\n",
       "    </tr>\n",
       "    <tr>\n",
       "      <th>8</th>\n",
       "      <td>882680</td>\n",
       "      <td>1</td>\n",
       "    </tr>\n",
       "    <tr>\n",
       "      <th>9</th>\n",
       "      <td>882684</td>\n",
       "      <td>1</td>\n",
       "    </tr>\n",
       "  </tbody>\n",
       "</table>\n",
       "</div>"
      ],
      "text/plain": [
       "   operator_id  wm\n",
       "1       879898   1\n",
       "6       882476   1\n",
       "7       882478   1\n",
       "8       882680   1\n",
       "9       882684   1"
      ]
     },
     "metadata": {},
     "output_type": "display_data"
    },
    {
     "data": {
      "text/html": [
       "<div>\n",
       "<style scoped>\n",
       "    .dataframe tbody tr th:only-of-type {\n",
       "        vertical-align: middle;\n",
       "    }\n",
       "\n",
       "    .dataframe tbody tr th {\n",
       "        vertical-align: top;\n",
       "    }\n",
       "\n",
       "    .dataframe thead th {\n",
       "        text-align: right;\n",
       "    }\n",
       "</style>\n",
       "<table border=\"1\" class=\"dataframe\">\n",
       "  <thead>\n",
       "    <tr style=\"text-align: right;\">\n",
       "      <th></th>\n",
       "      <th>operator_id</th>\n",
       "      <th>missed_calls_op</th>\n",
       "    </tr>\n",
       "  </thead>\n",
       "  <tbody>\n",
       "    <tr>\n",
       "      <th>0</th>\n",
       "      <td>882680</td>\n",
       "      <td>1</td>\n",
       "    </tr>\n",
       "    <tr>\n",
       "      <th>1</th>\n",
       "      <td>882684</td>\n",
       "      <td>1</td>\n",
       "    </tr>\n",
       "    <tr>\n",
       "      <th>2</th>\n",
       "      <td>882686</td>\n",
       "      <td>1</td>\n",
       "    </tr>\n",
       "    <tr>\n",
       "      <th>3</th>\n",
       "      <td>882690</td>\n",
       "      <td>1</td>\n",
       "    </tr>\n",
       "    <tr>\n",
       "      <th>4</th>\n",
       "      <td>884408</td>\n",
       "      <td>1</td>\n",
       "    </tr>\n",
       "  </tbody>\n",
       "</table>\n",
       "</div>"
      ],
      "text/plain": [
       "   operator_id  missed_calls_op\n",
       "0       882680                1\n",
       "1       882684                1\n",
       "2       882686                1\n",
       "3       882690                1\n",
       "4       884408                1"
      ]
     },
     "metadata": {},
     "output_type": "display_data"
    },
    {
     "name": "stderr",
     "output_type": "stream",
     "text": [
      "/tmp/ipykernel_471/898702528.py:5: SettingWithCopyWarning: \n",
      "A value is trying to be set on a copy of a slice from a DataFrame.\n",
      "Try using .loc[row_indexer,col_indexer] = value instead\n",
      "\n",
      "See the caveats in the documentation: https://pandas.pydata.org/pandas-docs/stable/user_guide/indexing.html#returning-a-view-versus-a-copy\n",
      "  non_ef_work_duration['work_duration']=1\n"
     ]
    },
    {
     "data": {
      "text/html": [
       "<div>\n",
       "<style scoped>\n",
       "    .dataframe tbody tr th:only-of-type {\n",
       "        vertical-align: middle;\n",
       "    }\n",
       "\n",
       "    .dataframe tbody tr th {\n",
       "        vertical-align: top;\n",
       "    }\n",
       "\n",
       "    .dataframe thead th {\n",
       "        text-align: right;\n",
       "    }\n",
       "</style>\n",
       "<table border=\"1\" class=\"dataframe\">\n",
       "  <thead>\n",
       "    <tr style=\"text-align: right;\">\n",
       "      <th></th>\n",
       "      <th>operator_id</th>\n",
       "      <th>work_duration</th>\n",
       "    </tr>\n",
       "  </thead>\n",
       "  <tbody>\n",
       "    <tr>\n",
       "      <th>355</th>\n",
       "      <td>947638</td>\n",
       "      <td>1</td>\n",
       "    </tr>\n",
       "    <tr>\n",
       "      <th>356</th>\n",
       "      <td>940434</td>\n",
       "      <td>1</td>\n",
       "    </tr>\n",
       "    <tr>\n",
       "      <th>357</th>\n",
       "      <td>959312</td>\n",
       "      <td>1</td>\n",
       "    </tr>\n",
       "    <tr>\n",
       "      <th>358</th>\n",
       "      <td>951492</td>\n",
       "      <td>1</td>\n",
       "    </tr>\n",
       "    <tr>\n",
       "      <th>359</th>\n",
       "      <td>939738</td>\n",
       "      <td>1</td>\n",
       "    </tr>\n",
       "  </tbody>\n",
       "</table>\n",
       "</div>"
      ],
      "text/plain": [
       "     operator_id  work_duration\n",
       "355       947638              1\n",
       "356       940434              1\n",
       "357       959312              1\n",
       "358       951492              1\n",
       "359       939738              1"
      ]
     },
     "metadata": {},
     "output_type": "display_data"
    }
   ],
   "source": [
    "non_ef_waiting_op['wm']=1\n",
    "display(non_ef_waiting_op.head())\n",
    "data_in_missed_op['missed_calls_op']=1\n",
    "display(data_in_missed_op.head())\n",
    "non_ef_work_duration['work_duration']=1\n",
    "display(non_ef_work_duration.head())"
   ]
  },
  {
   "cell_type": "markdown",
   "metadata": {},
   "source": [
    "Объеденим все четыре таблици в общий датафрейм non_effective"
   ]
  },
  {
   "cell_type": "code",
   "execution_count": 75,
   "metadata": {},
   "outputs": [
    {
     "name": "stdout",
     "output_type": "stream",
     "text": [
      "<class 'pandas.core.frame.DataFrame'>\n",
      "RangeIndex: 1092 entries, 0 to 1091\n",
      "Data columns (total 6 columns):\n",
      " #   Column           Non-Null Count  Dtype  \n",
      "---  ------           --------------  -----  \n",
      " 0   user_id          1092 non-null   int64  \n",
      " 1   operator_id      1092 non-null   int64  \n",
      " 2   wm               1092 non-null   float64\n",
      " 3   missed_calls_op  1092 non-null   float64\n",
      " 4   work_duration    1092 non-null   float64\n",
      " 5   total_non_ef     1092 non-null   float64\n",
      "dtypes: float64(4), int64(2)\n",
      "memory usage: 51.3 KB\n"
     ]
    },
    {
     "data": {
      "text/html": [
       "<div>\n",
       "<style scoped>\n",
       "    .dataframe tbody tr th:only-of-type {\n",
       "        vertical-align: middle;\n",
       "    }\n",
       "\n",
       "    .dataframe tbody tr th {\n",
       "        vertical-align: top;\n",
       "    }\n",
       "\n",
       "    .dataframe thead th {\n",
       "        text-align: right;\n",
       "    }\n",
       "</style>\n",
       "<table border=\"1\" class=\"dataframe\">\n",
       "  <thead>\n",
       "    <tr style=\"text-align: right;\">\n",
       "      <th></th>\n",
       "      <th>user_id</th>\n",
       "      <th>operator_id</th>\n",
       "      <th>wm</th>\n",
       "      <th>missed_calls_op</th>\n",
       "      <th>work_duration</th>\n",
       "      <th>total_non_ef</th>\n",
       "    </tr>\n",
       "  </thead>\n",
       "  <tbody>\n",
       "    <tr>\n",
       "      <th>0</th>\n",
       "      <td>166377</td>\n",
       "      <td>880020</td>\n",
       "      <td>0.0</td>\n",
       "      <td>0.0</td>\n",
       "      <td>1.0</td>\n",
       "      <td>1.0</td>\n",
       "    </tr>\n",
       "    <tr>\n",
       "      <th>1</th>\n",
       "      <td>166377</td>\n",
       "      <td>880022</td>\n",
       "      <td>0.0</td>\n",
       "      <td>0.0</td>\n",
       "      <td>1.0</td>\n",
       "      <td>1.0</td>\n",
       "    </tr>\n",
       "    <tr>\n",
       "      <th>2</th>\n",
       "      <td>166377</td>\n",
       "      <td>880026</td>\n",
       "      <td>0.0</td>\n",
       "      <td>0.0</td>\n",
       "      <td>0.0</td>\n",
       "      <td>0.0</td>\n",
       "    </tr>\n",
       "    <tr>\n",
       "      <th>3</th>\n",
       "      <td>166377</td>\n",
       "      <td>880028</td>\n",
       "      <td>0.0</td>\n",
       "      <td>0.0</td>\n",
       "      <td>0.0</td>\n",
       "      <td>0.0</td>\n",
       "    </tr>\n",
       "    <tr>\n",
       "      <th>4</th>\n",
       "      <td>166377</td>\n",
       "      <td>881278</td>\n",
       "      <td>0.0</td>\n",
       "      <td>0.0</td>\n",
       "      <td>1.0</td>\n",
       "      <td>1.0</td>\n",
       "    </tr>\n",
       "    <tr>\n",
       "      <th>5</th>\n",
       "      <td>166391</td>\n",
       "      <td>882476</td>\n",
       "      <td>1.0</td>\n",
       "      <td>0.0</td>\n",
       "      <td>1.0</td>\n",
       "      <td>2.0</td>\n",
       "    </tr>\n",
       "    <tr>\n",
       "      <th>6</th>\n",
       "      <td>166391</td>\n",
       "      <td>882478</td>\n",
       "      <td>1.0</td>\n",
       "      <td>0.0</td>\n",
       "      <td>1.0</td>\n",
       "      <td>2.0</td>\n",
       "    </tr>\n",
       "    <tr>\n",
       "      <th>7</th>\n",
       "      <td>166392</td>\n",
       "      <td>886892</td>\n",
       "      <td>1.0</td>\n",
       "      <td>0.0</td>\n",
       "      <td>1.0</td>\n",
       "      <td>2.0</td>\n",
       "    </tr>\n",
       "    <tr>\n",
       "      <th>8</th>\n",
       "      <td>166392</td>\n",
       "      <td>891900</td>\n",
       "      <td>1.0</td>\n",
       "      <td>0.0</td>\n",
       "      <td>1.0</td>\n",
       "      <td>2.0</td>\n",
       "    </tr>\n",
       "    <tr>\n",
       "      <th>9</th>\n",
       "      <td>166392</td>\n",
       "      <td>891906</td>\n",
       "      <td>1.0</td>\n",
       "      <td>0.0</td>\n",
       "      <td>1.0</td>\n",
       "      <td>2.0</td>\n",
       "    </tr>\n",
       "  </tbody>\n",
       "</table>\n",
       "</div>"
      ],
      "text/plain": [
       "   user_id  operator_id   wm  missed_calls_op  work_duration  total_non_ef\n",
       "0   166377       880020  0.0              0.0            1.0           1.0\n",
       "1   166377       880022  0.0              0.0            1.0           1.0\n",
       "2   166377       880026  0.0              0.0            0.0           0.0\n",
       "3   166377       880028  0.0              0.0            0.0           0.0\n",
       "4   166377       881278  0.0              0.0            1.0           1.0\n",
       "5   166391       882476  1.0              0.0            1.0           2.0\n",
       "6   166391       882478  1.0              0.0            1.0           2.0\n",
       "7   166392       886892  1.0              0.0            1.0           2.0\n",
       "8   166392       891900  1.0              0.0            1.0           2.0\n",
       "9   166392       891906  1.0              0.0            1.0           2.0"
      ]
     },
     "execution_count": 75,
     "metadata": {},
     "output_type": "execute_result"
    }
   ],
   "source": [
    "non_ef_op=non_ef_op.merge(non_ef_waiting_op, on='operator_id', how='outer')\n",
    "\n",
    "non_ef_op=non_ef_op.merge(data_in_missed_op, on='operator_id', how='outer')\n",
    "non_ef_op=non_ef_op.merge(non_ef_work_duration, on='operator_id', how='outer')\n",
    "non_ef_op = non_ef_op.fillna(0)\n",
    "non_ef_op['total_non_ef'] = non_ef_op['wm']+non_ef_op['missed_calls_op']+non_ef_op['work_duration']\n",
    "\n",
    "non_ef_op.reset_index(drop=True, inplace=True)\n",
    "non_ef_op.info()\n",
    "non_ef_op.head(10)"
   ]
  },
  {
   "cell_type": "code",
   "execution_count": 76,
   "metadata": {},
   "outputs": [
    {
     "data": {
      "text/html": [
       "<div>\n",
       "<style scoped>\n",
       "    .dataframe tbody tr th:only-of-type {\n",
       "        vertical-align: middle;\n",
       "    }\n",
       "\n",
       "    .dataframe tbody tr th {\n",
       "        vertical-align: top;\n",
       "    }\n",
       "\n",
       "    .dataframe thead th {\n",
       "        text-align: right;\n",
       "    }\n",
       "</style>\n",
       "<table border=\"1\" class=\"dataframe\">\n",
       "  <thead>\n",
       "    <tr style=\"text-align: right;\">\n",
       "      <th></th>\n",
       "      <th>user_id</th>\n",
       "      <th>operator_id</th>\n",
       "      <th>wm</th>\n",
       "      <th>missed_calls_op</th>\n",
       "      <th>work_duration</th>\n",
       "      <th>total_non_ef</th>\n",
       "      <th>total_non</th>\n",
       "    </tr>\n",
       "  </thead>\n",
       "  <tbody>\n",
       "    <tr>\n",
       "      <th>0</th>\n",
       "      <td>166377</td>\n",
       "      <td>880020</td>\n",
       "      <td>0.0</td>\n",
       "      <td>0.0</td>\n",
       "      <td>1.0</td>\n",
       "      <td>1.0</td>\n",
       "      <td>1.0</td>\n",
       "    </tr>\n",
       "    <tr>\n",
       "      <th>1</th>\n",
       "      <td>166377</td>\n",
       "      <td>880022</td>\n",
       "      <td>0.0</td>\n",
       "      <td>0.0</td>\n",
       "      <td>1.0</td>\n",
       "      <td>1.0</td>\n",
       "      <td>1.0</td>\n",
       "    </tr>\n",
       "    <tr>\n",
       "      <th>2</th>\n",
       "      <td>166377</td>\n",
       "      <td>880026</td>\n",
       "      <td>0.0</td>\n",
       "      <td>0.0</td>\n",
       "      <td>0.0</td>\n",
       "      <td>0.0</td>\n",
       "      <td>0.0</td>\n",
       "    </tr>\n",
       "    <tr>\n",
       "      <th>3</th>\n",
       "      <td>166377</td>\n",
       "      <td>880028</td>\n",
       "      <td>0.0</td>\n",
       "      <td>0.0</td>\n",
       "      <td>0.0</td>\n",
       "      <td>0.0</td>\n",
       "      <td>0.0</td>\n",
       "    </tr>\n",
       "    <tr>\n",
       "      <th>4</th>\n",
       "      <td>166377</td>\n",
       "      <td>881278</td>\n",
       "      <td>0.0</td>\n",
       "      <td>0.0</td>\n",
       "      <td>1.0</td>\n",
       "      <td>1.0</td>\n",
       "      <td>1.0</td>\n",
       "    </tr>\n",
       "    <tr>\n",
       "      <th>5</th>\n",
       "      <td>166391</td>\n",
       "      <td>882476</td>\n",
       "      <td>1.0</td>\n",
       "      <td>0.0</td>\n",
       "      <td>1.0</td>\n",
       "      <td>2.0</td>\n",
       "      <td>1.0</td>\n",
       "    </tr>\n",
       "    <tr>\n",
       "      <th>6</th>\n",
       "      <td>166391</td>\n",
       "      <td>882478</td>\n",
       "      <td>1.0</td>\n",
       "      <td>0.0</td>\n",
       "      <td>1.0</td>\n",
       "      <td>2.0</td>\n",
       "      <td>1.0</td>\n",
       "    </tr>\n",
       "    <tr>\n",
       "      <th>7</th>\n",
       "      <td>166392</td>\n",
       "      <td>886892</td>\n",
       "      <td>1.0</td>\n",
       "      <td>0.0</td>\n",
       "      <td>1.0</td>\n",
       "      <td>2.0</td>\n",
       "      <td>1.0</td>\n",
       "    </tr>\n",
       "    <tr>\n",
       "      <th>8</th>\n",
       "      <td>166392</td>\n",
       "      <td>891900</td>\n",
       "      <td>1.0</td>\n",
       "      <td>0.0</td>\n",
       "      <td>1.0</td>\n",
       "      <td>2.0</td>\n",
       "      <td>1.0</td>\n",
       "    </tr>\n",
       "    <tr>\n",
       "      <th>9</th>\n",
       "      <td>166392</td>\n",
       "      <td>891906</td>\n",
       "      <td>1.0</td>\n",
       "      <td>0.0</td>\n",
       "      <td>1.0</td>\n",
       "      <td>2.0</td>\n",
       "      <td>1.0</td>\n",
       "    </tr>\n",
       "  </tbody>\n",
       "</table>\n",
       "</div>"
      ],
      "text/plain": [
       "   user_id  operator_id   wm  missed_calls_op  work_duration  total_non_ef  \\\n",
       "0   166377       880020  0.0              0.0            1.0           1.0   \n",
       "1   166377       880022  0.0              0.0            1.0           1.0   \n",
       "2   166377       880026  0.0              0.0            0.0           0.0   \n",
       "3   166377       880028  0.0              0.0            0.0           0.0   \n",
       "4   166377       881278  0.0              0.0            1.0           1.0   \n",
       "5   166391       882476  1.0              0.0            1.0           2.0   \n",
       "6   166391       882478  1.0              0.0            1.0           2.0   \n",
       "7   166392       886892  1.0              0.0            1.0           2.0   \n",
       "8   166392       891900  1.0              0.0            1.0           2.0   \n",
       "9   166392       891906  1.0              0.0            1.0           2.0   \n",
       "\n",
       "   total_non  \n",
       "0        1.0  \n",
       "1        1.0  \n",
       "2        0.0  \n",
       "3        0.0  \n",
       "4        1.0  \n",
       "5        1.0  \n",
       "6        1.0  \n",
       "7        1.0  \n",
       "8        1.0  \n",
       "9        1.0  "
      ]
     },
     "execution_count": 76,
     "metadata": {},
     "output_type": "execute_result"
    }
   ],
   "source": [
    "non_ef_op['total_non']=non_ef_op['total_non_ef']\n",
    "for i in range(len(non_ef_op)):\n",
    "    #print(i)\n",
    "    if non_ef_op.loc[i,'total_non_ef']>0:\n",
    "        non_ef_op.loc[i,'total_non']=1\n",
    "non_ef_op.head(10)"
   ]
  },
  {
   "cell_type": "code",
   "execution_count": 77,
   "metadata": {
    "scrolled": true
   },
   "outputs": [
    {
     "name": "stdout",
     "output_type": "stream",
     "text": [
      "Общее количество КЦ, где есть неэффективные операторы,  276  из  290\n"
     ]
    }
   ],
   "source": [
    "print('Общее количество КЦ, где есть неэффективные операторы, ',\n",
    "     len(non_ef_op.query('total_non_ef>0').groupby(['user_id'], as_index = False).agg({'operator_id': 'count'})),\n",
    "      ' из ',len(ds_user_id))"
   ]
  },
  {
   "cell_type": "code",
   "execution_count": 78,
   "metadata": {},
   "outputs": [
    {
     "name": "stdout",
     "output_type": "stream",
     "text": [
      "Общее количество операторов неэффективных по времени ожидания заказчика: 386\n"
     ]
    }
   ],
   "source": [
    "print('Общее количество операторов неэффективных по времени ожидания заказчика:', non_ef_op.query('wm>0')['wm'].count())"
   ]
  },
  {
   "cell_type": "code",
   "execution_count": 79,
   "metadata": {},
   "outputs": [
    {
     "name": "stdout",
     "output_type": "stream",
     "text": [
      "Общее количество операторов неэффективных по количеству пропущенных звонков: 239\n"
     ]
    }
   ],
   "source": [
    "print('Общее количество операторов неэффективных по количеству пропущенных звонков:', non_ef_op.query('missed_calls_op>0')['missed_calls_op'].count())"
   ]
  },
  {
   "cell_type": "code",
   "execution_count": 80,
   "metadata": {},
   "outputs": [
    {
     "name": "stdout",
     "output_type": "stream",
     "text": [
      "Общее количество операторов неэффективных по времени работы со звонками: 737\n"
     ]
    }
   ],
   "source": [
    "print('Общее количество операторов неэффективных по времени работы со звонками:', non_ef_op.query('work_duration>0')['work_duration'].count())"
   ]
  },
  {
   "cell_type": "code",
   "execution_count": 81,
   "metadata": {},
   "outputs": [
    {
     "name": "stdout",
     "output_type": "stream",
     "text": [
      "Общее количество операторов неэффективных хотя бы по одному критерию: 889  из  1092\n"
     ]
    }
   ],
   "source": [
    "print('Общее количество операторов неэффективных хотя бы по одному критерию:',\n",
    "      non_ef_op.query('total_non_ef>0')['total_non_ef'].count(), ' из ', non_ef_op['operator_id'].nunique())"
   ]
  },
  {
   "cell_type": "code",
   "execution_count": 82,
   "metadata": {},
   "outputs": [
    {
     "data": {
      "text/html": [
       "<div>\n",
       "<style scoped>\n",
       "    .dataframe tbody tr th:only-of-type {\n",
       "        vertical-align: middle;\n",
       "    }\n",
       "\n",
       "    .dataframe tbody tr th {\n",
       "        vertical-align: top;\n",
       "    }\n",
       "\n",
       "    .dataframe thead th {\n",
       "        text-align: right;\n",
       "    }\n",
       "</style>\n",
       "<table border=\"1\" class=\"dataframe\">\n",
       "  <thead>\n",
       "    <tr style=\"text-align: right;\">\n",
       "      <th></th>\n",
       "      <th>user_id</th>\n",
       "      <th>operator_id</th>\n",
       "      <th>total_non</th>\n",
       "      <th>non_eef_share</th>\n",
       "    </tr>\n",
       "  </thead>\n",
       "  <tbody>\n",
       "    <tr>\n",
       "      <th>0</th>\n",
       "      <td>166377</td>\n",
       "      <td>5</td>\n",
       "      <td>3.0</td>\n",
       "      <td>0.600000</td>\n",
       "    </tr>\n",
       "    <tr>\n",
       "      <th>1</th>\n",
       "      <td>166391</td>\n",
       "      <td>2</td>\n",
       "      <td>2.0</td>\n",
       "      <td>1.000000</td>\n",
       "    </tr>\n",
       "    <tr>\n",
       "      <th>2</th>\n",
       "      <td>166392</td>\n",
       "      <td>3</td>\n",
       "      <td>3.0</td>\n",
       "      <td>1.000000</td>\n",
       "    </tr>\n",
       "    <tr>\n",
       "      <th>3</th>\n",
       "      <td>166399</td>\n",
       "      <td>1</td>\n",
       "      <td>1.0</td>\n",
       "      <td>1.000000</td>\n",
       "    </tr>\n",
       "    <tr>\n",
       "      <th>4</th>\n",
       "      <td>166405</td>\n",
       "      <td>10</td>\n",
       "      <td>9.0</td>\n",
       "      <td>0.900000</td>\n",
       "    </tr>\n",
       "    <tr>\n",
       "      <th>5</th>\n",
       "      <td>166406</td>\n",
       "      <td>3</td>\n",
       "      <td>2.0</td>\n",
       "      <td>0.666667</td>\n",
       "    </tr>\n",
       "    <tr>\n",
       "      <th>6</th>\n",
       "      <td>166407</td>\n",
       "      <td>8</td>\n",
       "      <td>8.0</td>\n",
       "      <td>1.000000</td>\n",
       "    </tr>\n",
       "    <tr>\n",
       "      <th>7</th>\n",
       "      <td>166428</td>\n",
       "      <td>3</td>\n",
       "      <td>3.0</td>\n",
       "      <td>1.000000</td>\n",
       "    </tr>\n",
       "    <tr>\n",
       "      <th>8</th>\n",
       "      <td>166481</td>\n",
       "      <td>1</td>\n",
       "      <td>1.0</td>\n",
       "      <td>1.000000</td>\n",
       "    </tr>\n",
       "    <tr>\n",
       "      <th>9</th>\n",
       "      <td>166482</td>\n",
       "      <td>2</td>\n",
       "      <td>2.0</td>\n",
       "      <td>1.000000</td>\n",
       "    </tr>\n",
       "  </tbody>\n",
       "</table>\n",
       "</div>"
      ],
      "text/plain": [
       "   user_id  operator_id  total_non  non_eef_share\n",
       "0   166377            5        3.0       0.600000\n",
       "1   166391            2        2.0       1.000000\n",
       "2   166392            3        3.0       1.000000\n",
       "3   166399            1        1.0       1.000000\n",
       "4   166405           10        9.0       0.900000\n",
       "5   166406            3        2.0       0.666667\n",
       "6   166407            8        8.0       1.000000\n",
       "7   166428            3        3.0       1.000000\n",
       "8   166481            1        1.0       1.000000\n",
       "9   166482            2        2.0       1.000000"
      ]
     },
     "execution_count": 82,
     "metadata": {},
     "output_type": "execute_result"
    }
   ],
   "source": [
    "non_ef_cc=non_ef_op.groupby(['user_id'], as_index = False).agg({'operator_id': 'count','total_non': 'sum'})\n",
    "non_ef_cc['non_eef_share']=non_ef_cc['total_non']/non_ef_cc['operator_id']\n",
    "\n",
    "non_ef_cc.head(10)"
   ]
  },
  {
   "cell_type": "markdown",
   "metadata": {},
   "source": [
    "Ранее мы писали, что в 276 из 290 коллцентров есть неэффективные операторы. Лидируют те 14, где их нет. Список чемпионов:"
   ]
  },
  {
   "cell_type": "code",
   "execution_count": 83,
   "metadata": {},
   "outputs": [
    {
     "name": "stdout",
     "output_type": "stream",
     "text": [
      "     user_id  operator_id  total_non  non_eef_share\n",
      "12    166495            2        0.0            0.0\n",
      "43    166717            1        0.0            0.0\n",
      "70    166941            5        0.0            0.0\n",
      "86    167011            6        0.0            0.0\n",
      "107   167125            8        0.0            0.0\n",
      "110   167141            1        0.0            0.0\n",
      "148   167455            1        0.0            0.0\n",
      "159   167530            1        0.0            0.0\n",
      "183   167727            1        0.0            0.0\n",
      "191   167799            1        0.0            0.0\n",
      "241   168093            1        0.0            0.0\n",
      "268   168315            1        0.0            0.0\n",
      "274   168416            1        0.0            0.0\n",
      "277   168466            2        0.0            0.0\n"
     ]
    }
   ],
   "source": [
    "print (non_ef_cc.query('non_eef_share==0'))"
   ]
  },
  {
   "cell_type": "code",
   "execution_count": 84,
   "metadata": {},
   "outputs": [
    {
     "data": {
      "image/png": "[encoded data removed]",
      "text/plain": [
       "<Figure size 1296x432 with 1 Axes>"
      ]
     },
     "metadata": {
      "needs_background": "light"
     },
     "output_type": "display_data"
    }
   ],
   "source": [
    "plt.figure(figsize = (18,6))\n",
    "non_ef_cc['total_non'].hist(bins=100, color = 'royalblue', edgecolor = 'black').set(title = 'Распределение неэффективных операторов по КЦ', xlabel = 'Количество')\n",
    "plt.show()"
   ]
  },
  {
   "cell_type": "markdown",
   "metadata": {},
   "source": [
    "Промежуточные выводы:\n",
    "1. Предложены четыре вида критериев для оценки работы операторов:\n",
    "    1. Общее время, которое оператор проводит за телефонными звонками. Исходим из того, что в рабочем дне 8 часов (из них 1 час на обед и 1 час на санитарные нужды). Итого 6 часов с полной загрузкой на смену. На одном рабочем месте (с одним opertor_id) могут в 3 смены работать 3 разных человека. Тогда у нас получится фонд рабочего времени 18 часов (после анализа показателей поймем, насколько примлемо допущение о 18 часах в сутки (или для всех ли КЦ). (6 часов = 360 минут = 21 600 секунд)(18 часов = 1 080 минут = 64 800 секунд)\n",
    "       1. Расчет времени за звонками для трех тарифов.\n",
    "    2. Количество пропущенных оператором звонков (в том случае, если звонок был на него распределен, но пропущен). Примем, что для КЦ в целом приемлемая доля пропущенных звонков 5%. Из них убираем долю нераспределенные звонки. Оставшиеся будут допустимым процентом для операторов. Если не укладываются, то неэффективны.\n",
    "    3. Возможно не у всех операторов в принципе есть пропущенные звонки. И это дополнительный критерий эффективности. Т.е. оператор эффективен (по этому критерию), если звонков нет вообще. Вторая ступень (есть пропущенные звонки, но время ожидания у оператора меньше). Третья ступень: есть пропущенные звонки и время ожидания больше среднего.\n",
    "    4. Время ожидания ответа оператора. Здесь мы сравним среднее время по пропущенным звонкам (у абонента не хватило терпения). И если наш оператор показывает среднее время ожидания (даже и по отвеченным звонкам) хуже этой величины, то он неэффективен.\n",
    "2. Работоспособность подтвердили  критерии общего времени на телефонных звонках, времени ожидания заказчиком и количества пропущенных звонков.\n",
    "3. Подготовлен сводный отчет по эффективности операторов.\n",
    "   1. Общее количество КЦ, где есть неэффективные операторы,  276  из  290\n",
    "   2. Общее количество операторов, неэффективных по времени ожидания заказчика: 386\n",
    "   3. Общее количество операторов неэффективных по количеству пропущенных звонков: 239\n",
    "   4. Общее количество операторов неэффективных по времени работы со звонками: 737\n",
    "   5. Общее количество операторов неэффективных хотя бы по одному критерию: 889  из  1092\n",
    "   6. Подготовлен список 14 КЦ, где нет неэффективных операторов"
   ]
  },
  {
   "cell_type": "markdown",
   "metadata": {},
   "source": [
    "### Проверка гипотез."
   ]
  },
  {
   "cell_type": "markdown",
   "metadata": {},
   "source": [
    "#### Проверка гипотезы о равенстве среднего времени работы на телефоне для операторов тарифных групп А и В, В и С, А и В."
   ]
  },
  {
   "cell_type": "markdown",
   "metadata": {},
   "source": [
    "Проверим гипотезу о равенстве среднего времени на телефонных звонках для групп А и В. Нулевая гипотеза: среднее время на телефонные звонки по группам одинаково. Альтернативная гипотеза - они отличаются. Зададим уровень значимости (pvalue) в 0.01. Распределения близки к нормальным, поэтому для проверки гипотез будем использовать t-тест. "
   ]
  },
  {
   "cell_type": "code",
   "execution_count": 85,
   "metadata": {},
   "outputs": [
    {
     "name": "stdout",
     "output_type": "stream",
     "text": [
      "Ttest_indResult(statistic=7.0225675874144775, pvalue=5.147949986566851e-12)\n",
      "Среднее время на телефонных звонках для групп А и В не различаются. pvalue =  5.147949986566851e-12\n"
     ]
    }
   ],
   "source": [
    "results_time_ab = st.ttest_ind(\n",
    "    workdur_a, \n",
    "    workdur_b)\n",
    "print (results_time_ab)\n",
    "if results_time_ab.pvalue<0.01:\n",
    "    print ('Среднее время на телефонных звонках для групп А и В не различаются. pvalue = ',results_time_ab.pvalue)\n",
    "else:\n",
    "    print ('Среднее время на телефонных звонках для групп А и В различаются. pvalue = ',results_time_ab.pvalue)\n"
   ]
  },
  {
   "cell_type": "markdown",
   "metadata": {},
   "source": [
    "Проверим гипотезу о равенстве среднего времени на телефонных звонках для групп B и C. Нулевая гипотеза: среднее время на телефонные звонки по группам одинаково. Альтернативная гипотеза - они отличаются. Зададим уровень значимости (pvalue) в 0.01. Распределения близки к нормальным, поэтому для проверки гипотез будем использовать t-тест.\n"
   ]
  },
  {
   "cell_type": "code",
   "execution_count": 86,
   "metadata": {},
   "outputs": [
    {
     "name": "stdout",
     "output_type": "stream",
     "text": [
      "Ttest_indResult(statistic=-0.08088286845181432, pvalue=0.9355558526551646)\n",
      "Среднее время на телефонных звонках для групп B и C различаются. pvalue =  0.9355558526551646\n"
     ]
    }
   ],
   "source": [
    "results_time_bc = st.ttest_ind(\n",
    "    workdur_b, \n",
    "    workdur_c)\n",
    "print (results_time_bc)\n",
    "if results_time_bc.pvalue<0.01:\n",
    "    print ('Среднее время на телефонных звонках для групп B и C не различаются. pvalue = ',results_time_bc.pvalue)\n",
    "else:\n",
    "    print ('Среднее время на телефонных звонках для групп B и C различаются. pvalue = ',results_time_bc.pvalue)"
   ]
  },
  {
   "cell_type": "markdown",
   "metadata": {},
   "source": [
    "Проверим гипотезу о равенстве среднего времени на телефонных звонках для групп A и C. Нулевая гипотеза: среднее время на телефонные звонки по группам одинаково. Альтернативная гипотеза - они отличаются. Зададим уровень значимости (pvalue) в 0.01. Распределения близки к нормальным, поэтому для проверки гипотез будем использовать t-тест."
   ]
  },
  {
   "cell_type": "code",
   "execution_count": 87,
   "metadata": {},
   "outputs": [
    {
     "name": "stdout",
     "output_type": "stream",
     "text": [
      "Ttest_indResult(statistic=6.724654021672447, pvalue=3.675706285397218e-11)\n",
      "Среднее время на телефонных звонках для групп A и C не различаются. pvalue =  3.675706285397218e-11\n"
     ]
    }
   ],
   "source": [
    "results_time_ac = st.ttest_ind(\n",
    "    workdur_a, \n",
    "    workdur_c)\n",
    "print (results_time_ac)\n",
    "if results_time_ac.pvalue<0.01:\n",
    "    print ('Среднее время на телефонных звонках для групп A и C не различаются. pvalue = ',results_time_ac.pvalue)\n",
    "else:\n",
    "    print ('Среднее время на телефонных звонках для групп A и C различаются. pvalue = ',results_time_ac.pvalue)"
   ]
  },
  {
   "cell_type": "markdown",
   "metadata": {},
   "source": [
    "Промежуточный вывод: для оценки эффективности операторов критерий среднего времени на телефоне лучше выводить отдельно для разных тарифных групп."
   ]
  },
  {
   "cell_type": "markdown",
   "metadata": {},
   "source": [
    "#### Проверка гипотезы о равенстве среднего времени ожидания ответа неэффективных операторов для тарифных групп А и В, В и С, А и В."
   ]
  },
  {
   "cell_type": "markdown",
   "metadata": {},
   "source": [
    "Проверим гипотезу о равенстве среднего времени ожидания ответа неэффективных операторов А и В. Нулевая гипотеза: среднее время ожидание по группам одинаково. Альтернативная гипотеза - они отличаются. Зададим уровень значимости (pvalue) в 0.01. Распределения близки к нормальным, поэтому для проверки гипотез будем использовать t-тест. "
   ]
  },
  {
   "cell_type": "code",
   "execution_count": 88,
   "metadata": {},
   "outputs": [
    {
     "name": "stdout",
     "output_type": "stream",
     "text": [
      "Ttest_indResult(statistic=0.9362467616754383, pvalue=0.35010727950686527)\n",
      "Среднее время ожидания на телефонных звонках для групп А и В различаются. pvalue =  0.35010727950686527\n"
     ]
    }
   ],
   "source": [
    "results_waiting_ab = st.ttest_ind(\n",
    "    waiting_a, \n",
    "    waiting_b)\n",
    "print (results_waiting_ab)\n",
    "if results_waiting_ab.pvalue<0.01:\n",
    "    print ('Среднее время ожидания на телефонных звонках для групп А и В не различаются. pvalue = ',results_waiting_ab.pvalue)\n",
    "else:\n",
    "    print ('Среднее время ожидания на телефонных звонках для групп А и В различаются. pvalue = ',results_waiting_ab.pvalue)\n"
   ]
  },
  {
   "cell_type": "markdown",
   "metadata": {},
   "source": [
    "Проверим гипотезу о равенстве среднего времени ожидания ответа неэффективных операторов B и C. Нулевая гипотеза: среднее время ожидание по группам одинаково. Альтернативная гипотеза - они отличаются. Зададим уровень значимости (pvalue) в 0.01. Распределения близки к нормальным, поэтому для проверки гипотез будем использовать t-тест. "
   ]
  },
  {
   "cell_type": "code",
   "execution_count": 89,
   "metadata": {},
   "outputs": [
    {
     "name": "stdout",
     "output_type": "stream",
     "text": [
      "Ttest_indResult(statistic=1.8784356860120617, pvalue=0.061278474579719466)\n",
      "Среднее время ожидания на телефонных звонках для групп B и C различаются. pvalue =  0.061278474579719466\n"
     ]
    }
   ],
   "source": [
    "results_waiting_bc = st.ttest_ind(\n",
    "    waiting_b, \n",
    "    waiting_c)\n",
    "print (results_waiting_bc)\n",
    "if results_waiting_bc.pvalue<0.01:\n",
    "    print ('Среднее время ожидания на телефонных звонках для групп B и C не различаются. pvalue = ',results_waiting_bc.pvalue)\n",
    "else:\n",
    "    print ('Среднее время ожидания на телефонных звонках для групп B и C различаются. pvalue = ',results_waiting_bc.pvalue)"
   ]
  },
  {
   "cell_type": "markdown",
   "metadata": {},
   "source": [
    "Проверим гипотезу о равенстве среднего времени ожидания ответа неэффективных операторов A и C. Нулевая гипотеза: среднее время ожидание по группам одинаково. Альтернативная гипотеза - они отличаются. Зададим уровень значимости (pvalue) в 0.01. Распределения близки к нормальным, поэтому для проверки гипотез будем использовать t-тест. "
   ]
  },
  {
   "cell_type": "code",
   "execution_count": 90,
   "metadata": {},
   "outputs": [
    {
     "name": "stdout",
     "output_type": "stream",
     "text": [
      "Ttest_indResult(statistic=2.753405432110628, pvalue=0.006375335366306557)\n",
      "Среднее время ожидания на телефонных звонках для групп A и C не различаются. pvalue =  0.006375335366306557\n"
     ]
    }
   ],
   "source": [
    "results_waiting_ac = st.ttest_ind(\n",
    "    waiting_a, \n",
    "    waiting_c)\n",
    "print (results_waiting_ac)\n",
    "if results_waiting_ac.pvalue<0.01:\n",
    "    print ('Среднее время ожидания на телефонных звонках для групп A и C не различаются. pvalue = ',results_waiting_ac.pvalue)\n",
    "else:\n",
    "    print ('Среднее время ожидания на телефонных звонках для групп A и C различаются. pvalue = ',results_waiting_ac.pvalue)"
   ]
  },
  {
   "cell_type": "markdown",
   "metadata": {},
   "source": [
    "Промежуточный вывод: для оценки эффективности операторов критерий среднего времени ожидания для операторов лучше выводить отдельно для разных тарифных групп."
   ]
  },
  {
   "cell_type": "markdown",
   "metadata": {},
   "source": [
    "## Выводы:"
   ]
  },
  {
   "cell_type": "markdown",
   "metadata": {},
   "source": [
    "### Предварительные выводы:"
   ]
  },
  {
   "cell_type": "markdown",
   "metadata": {},
   "source": [
    "1. В ходе работы проведена предобработка данных:\n",
    "   1. Удалены 4900 дубликатов.\n",
    "   2. В датафрейме data_ds данные изначально были только из 307 КЦ (из 732 в датафрейме с информацией по контрактам). После обработки остались данные по 290 КЦ.\n",
    "   3. Мы удалили 10 строк, где содержались пропуски в столбце internal.\n",
    "   4. Мы удалили 7401 строку, где содержались пропуски в столбце operator_id. Это значительное количество, но иначе мы бы получили искажения в последующем анализе.\n",
    "   5. После удаления 929 строк с аномально большими значениями в столбце calls_count у нас остались в датафрейме 40562 строки (из изначальных 53902) и данные о 290 КЦ из изначальных 307. Т.е. в результате предобработки мы удалили около 25% строк. Это значительное количество, но удаленное либо невозможно было бы вовлечь в последующий анализ, либо наши данные были бы искажены.\n",
    "   6. Нет КЦ, специализирующихся только на исходящих или только входящих звонках (и операторов тоже нет). \n",
    "   7. В нашем распоряжении данные за период с 02 августа 2019 года по 28 ноября 2019 года. Причем мы имеем более чем по 250 строк в день, только начиная с 15 сентября. Возможно, в последующем анализе стоит отбросить более ранние даты.\n",
    "   8. Длительность звонков в секундах.\n",
    "   \n",
    "2. Предложены четыре вида критериев для оценки работы операторов:\n",
    "    1. Общее время, которое оператор проводит за телефонными звонками. Исходим из того, что в рабочем дне 8 часов (из них 1 час на обед и 1 час на санитарные нужды). Итого 6 часов с полной загрузкой на смену. На одном рабочем месте (с одним opertor_id) могут в 3 смены работать 3 разных человека. Тогда у нас получится фонд рабочего времени 18 часов (после анализа показателей поймем, насколько примлемо допущение о 18 часах в сутки (или для всех ли КЦ). (6 часов = 360 минут = 21 600 секунд)(18 часов = 1 080 минут = 64 800 секунд)\n",
    "       1. Расчет времени за звонками для трех тарифов.\n",
    "    2. Количество пропущенных оператором звонков (в том случае, если звонок был на него распределен, но пропущен). Примем, что для КЦ в целом приемлемая доля пропущенных звонков 5%. Из них убираем долю нераспределенные звонки. Оставшиеся будут допустимым процентом для операторов. Если не укладываются, то неэффективны.\n",
    "    3. Возможно не у всех операторов в принципе есть пропущенные звонки. И это дополнительный критерий эффективности. Т.е. оператор эффективен (по этому критерию), если звонков нет вообще. Вторая ступень (есть пропущенные звонки, но время ожидания у оператора меньше). Третья ступень: есть пропущенные звонки и время ожидания больше среднего.\n",
    "    4. Время ожидания ответа оператора. Здесь мы сравним среднее время по пропущенным звонкам (у абонента не хватило терпения). И если наш оператор показывает среднее время ожидания (даже и по отвеченным звонкам) хуже этой величины, то он неэффективен.\n",
    "3. Работоспособность подтвердили критерии общего времени на телефонных звонках, времени ожидания заказчиком и количества пропущенных звонков.\n",
    "4. Проведена сводная оценка эффективности операторов. По ней:\n",
    "   1. Общее количество КЦ, где есть неэффективные операторы,  276  из  290\n",
    "   2. Общее количество операторов, неэффективных по времени ожидания заказчика: 386\n",
    "   3. Общее количество операторов неэффективных по количеству пропущенных звонков: 239\n",
    "   4. Общее количество операторов неэффективных по времени работы со звонками: 737\n",
    "   5. Общее количество операторов неэффективных хотя бы по одному критерию: 889  из  1092\n",
    "   6. Подготовлен список 14 КЦ, где нет неэффективных операторов\n",
    "5. Проведена проверка гипотез о равенстве средних значений рабочего времени за телефонными звонками и равенстве среднего времени ожидания ответа оператора для разных тарифных групп. Рекомендуется считать критерии отдельно для разных групп."
   ]
  },
  {
   "cell_type": "markdown",
   "metadata": {},
   "source": [
    "### Общие выводы"
   ]
  },
  {
   "cell_type": "markdown",
   "metadata": {},
   "source": [
    "1. В качестве критериев оценки эффективности мы можем использовать:\n",
    "   1. Общее время потраченное на телефонные звонки за смену/сутки.\n",
    "   2. Время ожидания клиентом ответа на телефонный звонок.\n",
    "   3. Количество пропущенных операторами звонков.\n",
    "2. И по одному и по другому критерию лишь около 1/3 операторов показывают себя эффективными.\n",
    "3. Расчет критериев рекомендуется производить раздельно для разных тарифных групп (либо для групп и единый, как ориентир).\n",
    "4. Предлагаемый продукт может быть интересен колл-центрам с количеством работающих в смену операторов 4 и более.\n",
    "5. Однако рекомендуется усовершенствовать заполнение данных: провести обучение с ответственными специалистами, которые обрабатывают данные в колл-центрах, либо доработать форматы в софте, собирающем данные.\n",
    "6. Нужно четче прописать критерии заполнения данных."
   ]
  },
  {
   "cell_type": "markdown",
   "metadata": {},
   "source": [
    "## Материалы"
   ]
  },
  {
   "cell_type": "markdown",
   "metadata": {},
   "source": [
    "Презентация: https://disk.yandex.com/i/NlDXq16o_zRvqQ"
   ]
  }
 ],
 "metadata": {
  "ExecuteTimeLog": [
   {
    "duration": 1192,
    "start_time": "2022-10-30T08:13:21.177Z"
   },
   {
    "duration": 183,
    "start_time": "2022-10-30T08:13:50.744Z"
   },
   {
    "duration": 28,
    "start_time": "2022-10-30T08:14:07.163Z"
   },
   {
    "duration": 81,
    "start_time": "2022-10-30T08:14:31.954Z"
   },
   {
    "duration": 14,
    "start_time": "2022-10-30T08:14:47.303Z"
   },
   {
    "duration": 23,
    "start_time": "2022-10-30T08:18:02.939Z"
   },
   {
    "duration": 13,
    "start_time": "2022-10-30T08:18:19.203Z"
   },
   {
    "duration": 1095,
    "start_time": "2022-10-30T08:18:52.433Z"
   },
   {
    "duration": 185,
    "start_time": "2022-10-30T08:18:53.530Z"
   },
   {
    "duration": 31,
    "start_time": "2022-10-30T08:18:53.716Z"
   },
   {
    "duration": 26,
    "start_time": "2022-10-30T08:18:53.748Z"
   },
   {
    "duration": 13,
    "start_time": "2022-10-30T08:18:53.775Z"
   },
   {
    "duration": 1284,
    "start_time": "2022-10-30T18:08:42.430Z"
   },
   {
    "duration": 150,
    "start_time": "2022-10-30T18:08:43.716Z"
   },
   {
    "duration": 81,
    "start_time": "2022-10-30T18:08:43.867Z"
   },
   {
    "duration": 28,
    "start_time": "2022-10-30T18:08:43.950Z"
   },
   {
    "duration": 13,
    "start_time": "2022-10-30T18:08:43.980Z"
   },
   {
    "duration": 1188,
    "start_time": "2022-10-30T18:10:22.045Z"
   },
   {
    "duration": 180,
    "start_time": "2022-10-30T18:10:23.235Z"
   },
   {
    "duration": 35,
    "start_time": "2022-10-30T18:10:23.416Z"
   },
   {
    "duration": 54,
    "start_time": "2022-10-30T18:10:23.453Z"
   },
   {
    "duration": 19,
    "start_time": "2022-10-30T18:10:23.509Z"
   },
   {
    "duration": 1113,
    "start_time": "2022-10-30T18:13:19.533Z"
   },
   {
    "duration": 128,
    "start_time": "2022-10-30T18:13:20.648Z"
   },
   {
    "duration": 28,
    "start_time": "2022-10-30T18:13:20.778Z"
   },
   {
    "duration": 55,
    "start_time": "2022-10-30T18:13:20.808Z"
   },
   {
    "duration": 20,
    "start_time": "2022-10-30T18:13:20.864Z"
   },
   {
    "duration": 49,
    "start_time": "2022-10-30T18:23:23.922Z"
   },
   {
    "duration": 20,
    "start_time": "2022-10-30T18:36:48.839Z"
   },
   {
    "duration": 92,
    "start_time": "2022-10-30T18:45:02.115Z"
   },
   {
    "duration": 54,
    "start_time": "2022-10-30T18:45:16.547Z"
   },
   {
    "duration": 28,
    "start_time": "2022-10-30T18:46:22.615Z"
   },
   {
    "duration": 1170,
    "start_time": "2022-10-30T18:57:52.270Z"
   },
   {
    "duration": 182,
    "start_time": "2022-10-30T18:57:53.442Z"
   },
   {
    "duration": 28,
    "start_time": "2022-10-30T18:57:53.626Z"
   },
   {
    "duration": 58,
    "start_time": "2022-10-30T18:57:53.656Z"
   },
   {
    "duration": 14,
    "start_time": "2022-10-30T18:57:53.716Z"
   },
   {
    "duration": 47,
    "start_time": "2022-10-30T18:57:53.732Z"
   },
   {
    "duration": 41,
    "start_time": "2022-10-30T18:57:53.781Z"
   },
   {
    "duration": 54,
    "start_time": "2022-10-30T18:57:53.823Z"
   },
   {
    "duration": 40,
    "start_time": "2022-10-30T19:02:27.503Z"
   },
   {
    "duration": 37,
    "start_time": "2022-10-30T19:05:45.011Z"
   },
   {
    "duration": 23,
    "start_time": "2022-10-30T19:18:39.931Z"
   },
   {
    "duration": 103,
    "start_time": "2022-10-30T19:21:48.453Z"
   },
   {
    "duration": 48,
    "start_time": "2022-10-30T19:22:12.842Z"
   },
   {
    "duration": 54,
    "start_time": "2022-10-30T19:22:35.951Z"
   },
   {
    "duration": 16,
    "start_time": "2022-10-30T19:22:56.601Z"
   },
   {
    "duration": 18,
    "start_time": "2022-10-30T19:26:09.897Z"
   },
   {
    "duration": 22,
    "start_time": "2022-10-30T19:27:48.706Z"
   },
   {
    "duration": 12,
    "start_time": "2022-10-30T19:34:04.158Z"
   },
   {
    "duration": 17,
    "start_time": "2022-10-30T19:34:50.933Z"
   },
   {
    "duration": 21,
    "start_time": "2022-10-30T19:36:10.874Z"
   },
   {
    "duration": 16,
    "start_time": "2022-10-30T19:38:16.569Z"
   },
   {
    "duration": 221,
    "start_time": "2022-10-30T19:41:51.867Z"
   },
   {
    "duration": 227,
    "start_time": "2022-10-30T19:43:18.856Z"
   },
   {
    "duration": 30,
    "start_time": "2022-10-30T19:52:58.321Z"
   },
   {
    "duration": 30,
    "start_time": "2022-10-30T19:53:23.395Z"
   },
   {
    "duration": 29,
    "start_time": "2022-10-30T19:54:57.381Z"
   },
   {
    "duration": 28,
    "start_time": "2022-10-30T20:04:47.625Z"
   },
   {
    "duration": 12,
    "start_time": "2022-10-30T20:05:31.087Z"
   },
   {
    "duration": 27,
    "start_time": "2022-10-30T20:06:39.708Z"
   },
   {
    "duration": 15,
    "start_time": "2022-10-30T20:07:07.446Z"
   },
   {
    "duration": 17,
    "start_time": "2022-10-30T20:07:43.387Z"
   },
   {
    "duration": 13,
    "start_time": "2022-10-30T20:14:08.289Z"
   },
   {
    "duration": 48,
    "start_time": "2022-10-30T20:22:15.566Z"
   },
   {
    "duration": 24,
    "start_time": "2022-10-30T20:22:25.432Z"
   },
   {
    "duration": 22,
    "start_time": "2022-10-30T20:22:59.085Z"
   },
   {
    "duration": 1075,
    "start_time": "2022-10-30T20:23:11.114Z"
   },
   {
    "duration": 188,
    "start_time": "2022-10-30T20:23:12.191Z"
   },
   {
    "duration": 137,
    "start_time": "2022-10-30T20:23:12.380Z"
   },
   {
    "duration": 52,
    "start_time": "2022-10-30T20:23:12.519Z"
   },
   {
    "duration": 14,
    "start_time": "2022-10-30T20:23:12.573Z"
   },
   {
    "duration": 39,
    "start_time": "2022-10-30T20:23:12.588Z"
   },
   {
    "duration": 40,
    "start_time": "2022-10-30T20:23:12.628Z"
   },
   {
    "duration": 27,
    "start_time": "2022-10-30T20:23:12.669Z"
   },
   {
    "duration": 30,
    "start_time": "2022-10-30T20:23:12.698Z"
   },
   {
    "duration": 26,
    "start_time": "2022-10-30T20:23:12.730Z"
   },
   {
    "duration": 31,
    "start_time": "2022-10-30T20:23:12.758Z"
   },
   {
    "duration": 12,
    "start_time": "2022-10-30T20:23:12.791Z"
   },
   {
    "duration": 228,
    "start_time": "2022-10-30T20:23:12.805Z"
   },
   {
    "duration": 26,
    "start_time": "2022-10-30T20:23:13.034Z"
   },
   {
    "duration": 39,
    "start_time": "2022-10-30T20:23:13.061Z"
   },
   {
    "duration": 13,
    "start_time": "2022-10-30T20:23:13.102Z"
   },
   {
    "duration": 22,
    "start_time": "2022-10-30T20:23:13.117Z"
   },
   {
    "duration": 13,
    "start_time": "2022-10-30T20:24:37.840Z"
   },
   {
    "duration": 220,
    "start_time": "2022-10-30T20:26:24.489Z"
   },
   {
    "duration": 173,
    "start_time": "2022-10-30T20:27:14.605Z"
   },
   {
    "duration": 1041,
    "start_time": "2022-10-30T20:28:27.342Z"
   },
   {
    "duration": 9,
    "start_time": "2022-10-30T20:34:56.007Z"
   },
   {
    "duration": 8,
    "start_time": "2022-10-30T20:35:21.855Z"
   },
   {
    "duration": 7,
    "start_time": "2022-10-30T20:35:33.615Z"
   },
   {
    "duration": 7,
    "start_time": "2022-10-30T20:35:45.397Z"
   },
   {
    "duration": 10,
    "start_time": "2022-10-30T20:37:45.276Z"
   },
   {
    "duration": 12,
    "start_time": "2022-10-30T20:42:15.541Z"
   },
   {
    "duration": 62,
    "start_time": "2022-10-30T20:43:10.062Z"
   },
   {
    "duration": 57,
    "start_time": "2022-10-30T20:43:26.945Z"
   },
   {
    "duration": 11,
    "start_time": "2022-10-30T20:44:06.713Z"
   },
   {
    "duration": 50,
    "start_time": "2022-10-30T20:45:30.042Z"
   },
   {
    "duration": 7,
    "start_time": "2022-10-30T20:46:27.525Z"
   },
   {
    "duration": 11,
    "start_time": "2022-10-30T20:46:53.694Z"
   },
   {
    "duration": 8,
    "start_time": "2022-10-30T20:47:46.065Z"
   },
   {
    "duration": 8,
    "start_time": "2022-10-30T20:52:45.576Z"
   },
   {
    "duration": 13,
    "start_time": "2022-10-30T20:53:36.145Z"
   },
   {
    "duration": 8,
    "start_time": "2022-10-30T20:53:59.685Z"
   },
   {
    "duration": 8,
    "start_time": "2022-10-30T20:54:18.456Z"
   },
   {
    "duration": 31,
    "start_time": "2022-10-30T20:59:20.078Z"
   },
   {
    "duration": 26,
    "start_time": "2022-10-30T21:00:36.943Z"
   },
   {
    "duration": 1101,
    "start_time": "2022-10-30T21:00:47.984Z"
   },
   {
    "duration": 256,
    "start_time": "2022-10-30T21:00:49.086Z"
   },
   {
    "duration": 34,
    "start_time": "2022-10-30T21:00:49.344Z"
   },
   {
    "duration": 52,
    "start_time": "2022-10-30T21:00:49.380Z"
   },
   {
    "duration": 13,
    "start_time": "2022-10-30T21:00:49.433Z"
   },
   {
    "duration": 37,
    "start_time": "2022-10-30T21:00:49.447Z"
   },
   {
    "duration": 38,
    "start_time": "2022-10-30T21:00:49.486Z"
   },
   {
    "duration": 26,
    "start_time": "2022-10-30T21:00:49.526Z"
   },
   {
    "duration": 48,
    "start_time": "2022-10-30T21:00:49.554Z"
   },
   {
    "duration": 27,
    "start_time": "2022-10-30T21:00:49.605Z"
   },
   {
    "duration": 15,
    "start_time": "2022-10-30T21:00:49.634Z"
   },
   {
    "duration": 35,
    "start_time": "2022-10-30T21:00:49.651Z"
   },
   {
    "duration": 225,
    "start_time": "2022-10-30T21:00:49.688Z"
   },
   {
    "duration": 27,
    "start_time": "2022-10-30T21:00:49.914Z"
   },
   {
    "duration": 42,
    "start_time": "2022-10-30T21:00:49.943Z"
   },
   {
    "duration": 15,
    "start_time": "2022-10-30T21:00:49.987Z"
   },
   {
    "duration": 23,
    "start_time": "2022-10-30T21:00:50.003Z"
   },
   {
    "duration": 14,
    "start_time": "2022-10-30T21:00:50.027Z"
   },
   {
    "duration": 1080,
    "start_time": "2022-10-30T21:00:50.043Z"
   },
   {
    "duration": 10,
    "start_time": "2022-10-30T21:00:51.125Z"
   },
   {
    "duration": 23,
    "start_time": "2022-10-30T21:00:51.137Z"
   },
   {
    "duration": 10,
    "start_time": "2022-10-30T21:02:38.537Z"
   },
   {
    "duration": 10,
    "start_time": "2022-10-30T21:03:23.631Z"
   },
   {
    "duration": 22,
    "start_time": "2022-10-30T21:04:08.414Z"
   },
   {
    "duration": 11,
    "start_time": "2022-10-30T21:04:30.441Z"
   },
   {
    "duration": 24,
    "start_time": "2022-10-30T21:05:23.641Z"
   },
   {
    "duration": 12,
    "start_time": "2022-10-30T21:05:27.970Z"
   },
   {
    "duration": 10,
    "start_time": "2022-10-30T21:05:32.180Z"
   },
   {
    "duration": 20,
    "start_time": "2022-10-30T21:06:05.635Z"
   },
   {
    "duration": 10,
    "start_time": "2022-10-30T21:06:11.909Z"
   },
   {
    "duration": 15,
    "start_time": "2022-10-30T21:06:14.410Z"
   },
   {
    "duration": 21,
    "start_time": "2022-10-30T21:06:46.302Z"
   },
   {
    "duration": 9,
    "start_time": "2022-10-30T21:07:08.670Z"
   },
   {
    "duration": 11,
    "start_time": "2022-10-30T21:07:17.730Z"
   },
   {
    "duration": 23,
    "start_time": "2022-10-30T21:07:47.674Z"
   },
   {
    "duration": 10,
    "start_time": "2022-10-30T21:07:53.570Z"
   },
   {
    "duration": 10,
    "start_time": "2022-10-30T21:07:58.499Z"
   },
   {
    "duration": 20,
    "start_time": "2022-10-30T21:08:22.833Z"
   },
   {
    "duration": 10,
    "start_time": "2022-10-30T21:08:28.930Z"
   },
   {
    "duration": 10,
    "start_time": "2022-10-30T21:09:25.862Z"
   },
   {
    "duration": 111,
    "start_time": "2022-10-30T21:10:25.851Z"
   },
   {
    "duration": 25,
    "start_time": "2022-10-30T21:10:34.257Z"
   },
   {
    "duration": 26,
    "start_time": "2022-10-30T21:11:34.416Z"
   },
   {
    "duration": 13,
    "start_time": "2022-10-30T21:11:38.007Z"
   },
   {
    "duration": 9,
    "start_time": "2022-10-30T21:11:40.653Z"
   },
   {
    "duration": 33,
    "start_time": "2022-10-30T21:11:45.237Z"
   },
   {
    "duration": 8,
    "start_time": "2022-10-30T21:18:44.279Z"
   },
   {
    "duration": 25,
    "start_time": "2022-10-30T21:19:07.120Z"
   },
   {
    "duration": 10,
    "start_time": "2022-10-30T21:19:23.214Z"
   },
   {
    "duration": 11,
    "start_time": "2022-10-30T21:19:28.384Z"
   },
   {
    "duration": 19,
    "start_time": "2022-10-30T21:26:02.488Z"
   },
   {
    "duration": 17,
    "start_time": "2022-10-30T21:29:16.803Z"
   },
   {
    "duration": 1066,
    "start_time": "2022-10-30T21:32:02.233Z"
   },
   {
    "duration": 176,
    "start_time": "2022-10-30T21:32:03.300Z"
   },
   {
    "duration": 91,
    "start_time": "2022-10-30T21:32:03.477Z"
   },
   {
    "duration": 52,
    "start_time": "2022-10-30T21:32:03.570Z"
   },
   {
    "duration": 13,
    "start_time": "2022-10-30T21:32:03.624Z"
   },
   {
    "duration": 21,
    "start_time": "2022-10-30T21:32:03.638Z"
   },
   {
    "duration": 52,
    "start_time": "2022-10-30T21:32:03.660Z"
   },
   {
    "duration": 26,
    "start_time": "2022-10-30T21:32:03.714Z"
   },
   {
    "duration": 45,
    "start_time": "2022-10-30T21:32:03.742Z"
   },
   {
    "duration": 27,
    "start_time": "2022-10-30T21:32:03.789Z"
   },
   {
    "duration": 15,
    "start_time": "2022-10-30T21:32:03.817Z"
   },
   {
    "duration": 12,
    "start_time": "2022-10-30T21:32:03.834Z"
   },
   {
    "duration": 248,
    "start_time": "2022-10-30T21:32:03.847Z"
   },
   {
    "duration": 26,
    "start_time": "2022-10-30T21:32:04.097Z"
   },
   {
    "duration": 25,
    "start_time": "2022-10-30T21:32:04.124Z"
   },
   {
    "duration": 30,
    "start_time": "2022-10-30T21:32:04.151Z"
   },
   {
    "duration": 21,
    "start_time": "2022-10-30T21:32:04.183Z"
   },
   {
    "duration": 12,
    "start_time": "2022-10-30T21:32:04.206Z"
   },
   {
    "duration": 1053,
    "start_time": "2022-10-30T21:32:04.220Z"
   },
   {
    "duration": 11,
    "start_time": "2022-10-30T21:32:05.276Z"
   },
   {
    "duration": 47,
    "start_time": "2022-10-30T21:32:05.289Z"
   },
   {
    "duration": 10,
    "start_time": "2022-10-30T21:32:05.338Z"
   },
   {
    "duration": 9,
    "start_time": "2022-10-30T21:32:05.349Z"
   },
   {
    "duration": 34,
    "start_time": "2022-10-30T21:32:05.359Z"
   },
   {
    "duration": 16,
    "start_time": "2022-10-30T21:32:05.394Z"
   },
   {
    "duration": 16,
    "start_time": "2022-10-30T21:35:17.028Z"
   },
   {
    "duration": 1168,
    "start_time": "2022-10-30T21:35:48.173Z"
   },
   {
    "duration": 578,
    "start_time": "2022-10-30T21:35:49.343Z"
   },
   {
    "duration": 31,
    "start_time": "2022-10-30T21:35:49.923Z"
   },
   {
    "duration": 54,
    "start_time": "2022-10-30T21:35:49.956Z"
   },
   {
    "duration": 14,
    "start_time": "2022-10-30T21:35:50.011Z"
   },
   {
    "duration": 36,
    "start_time": "2022-10-30T21:35:50.027Z"
   },
   {
    "duration": 39,
    "start_time": "2022-10-30T21:35:50.065Z"
   },
   {
    "duration": 28,
    "start_time": "2022-10-30T21:35:50.106Z"
   },
   {
    "duration": 46,
    "start_time": "2022-10-30T21:35:50.136Z"
   },
   {
    "duration": 26,
    "start_time": "2022-10-30T21:35:50.184Z"
   },
   {
    "duration": 16,
    "start_time": "2022-10-30T21:35:50.212Z"
   },
   {
    "duration": 13,
    "start_time": "2022-10-30T21:35:50.230Z"
   },
   {
    "duration": 221,
    "start_time": "2022-10-30T21:35:50.277Z"
   },
   {
    "duration": 26,
    "start_time": "2022-10-30T21:35:50.500Z"
   },
   {
    "duration": 25,
    "start_time": "2022-10-30T21:35:50.528Z"
   },
   {
    "duration": 15,
    "start_time": "2022-10-30T21:35:50.576Z"
   },
   {
    "duration": 12,
    "start_time": "2022-10-30T21:35:50.592Z"
   },
   {
    "duration": 12,
    "start_time": "2022-10-30T21:35:50.606Z"
   },
   {
    "duration": 1030,
    "start_time": "2022-10-30T21:35:50.620Z"
   },
   {
    "duration": 9,
    "start_time": "2022-10-30T21:35:51.652Z"
   },
   {
    "duration": 34,
    "start_time": "2022-10-30T21:35:51.663Z"
   },
   {
    "duration": 9,
    "start_time": "2022-10-30T21:35:51.698Z"
   },
   {
    "duration": 13,
    "start_time": "2022-10-30T21:35:51.708Z"
   },
   {
    "duration": 36,
    "start_time": "2022-10-30T21:35:51.722Z"
   },
   {
    "duration": 20,
    "start_time": "2022-10-30T21:35:51.759Z"
   },
   {
    "duration": 106,
    "start_time": "2022-10-30T21:42:28.141Z"
   },
   {
    "duration": 22,
    "start_time": "2022-10-30T21:44:52.015Z"
   },
   {
    "duration": 21,
    "start_time": "2022-10-30T21:46:00.257Z"
   },
   {
    "duration": 22,
    "start_time": "2022-10-30T21:46:11.649Z"
   },
   {
    "duration": 11,
    "start_time": "2022-10-30T21:53:54.233Z"
   },
   {
    "duration": 11,
    "start_time": "2022-10-30T21:54:12.592Z"
   },
   {
    "duration": 54,
    "start_time": "2022-10-30T22:03:04.516Z"
   },
   {
    "duration": 10,
    "start_time": "2022-10-30T22:03:55.385Z"
   },
   {
    "duration": 13,
    "start_time": "2022-10-30T22:04:21.408Z"
   },
   {
    "duration": 39,
    "start_time": "2022-10-30T22:04:33.195Z"
   },
   {
    "duration": 13,
    "start_time": "2022-10-30T22:05:03.504Z"
   },
   {
    "duration": 1053,
    "start_time": "2022-10-30T22:05:21.626Z"
   },
   {
    "duration": 196,
    "start_time": "2022-10-30T22:05:22.681Z"
   },
   {
    "duration": 31,
    "start_time": "2022-10-30T22:05:22.878Z"
   },
   {
    "duration": 54,
    "start_time": "2022-10-30T22:05:22.910Z"
   },
   {
    "duration": 13,
    "start_time": "2022-10-30T22:05:22.966Z"
   },
   {
    "duration": 30,
    "start_time": "2022-10-30T22:05:22.981Z"
   },
   {
    "duration": 38,
    "start_time": "2022-10-30T22:05:23.012Z"
   },
   {
    "duration": 40,
    "start_time": "2022-10-30T22:05:23.051Z"
   },
   {
    "duration": 29,
    "start_time": "2022-10-30T22:05:23.092Z"
   },
   {
    "duration": 26,
    "start_time": "2022-10-30T22:05:23.123Z"
   },
   {
    "duration": 32,
    "start_time": "2022-10-30T22:05:23.150Z"
   },
   {
    "duration": 12,
    "start_time": "2022-10-30T22:05:23.183Z"
   },
   {
    "duration": 231,
    "start_time": "2022-10-30T22:05:23.197Z"
   },
   {
    "duration": 25,
    "start_time": "2022-10-30T22:05:23.429Z"
   },
   {
    "duration": 36,
    "start_time": "2022-10-30T22:05:23.456Z"
   },
   {
    "duration": 14,
    "start_time": "2022-10-30T22:05:23.494Z"
   },
   {
    "duration": 503,
    "start_time": "2022-10-30T22:05:23.510Z"
   },
   {
    "duration": 0,
    "start_time": "2022-10-30T22:05:24.015Z"
   },
   {
    "duration": 0,
    "start_time": "2022-10-30T22:05:24.016Z"
   },
   {
    "duration": 0,
    "start_time": "2022-10-30T22:05:24.017Z"
   },
   {
    "duration": 0,
    "start_time": "2022-10-30T22:05:24.018Z"
   },
   {
    "duration": 0,
    "start_time": "2022-10-30T22:05:24.019Z"
   },
   {
    "duration": 0,
    "start_time": "2022-10-30T22:05:24.020Z"
   },
   {
    "duration": 0,
    "start_time": "2022-10-30T22:05:24.021Z"
   },
   {
    "duration": 0,
    "start_time": "2022-10-30T22:05:24.022Z"
   },
   {
    "duration": 1090,
    "start_time": "2022-10-30T22:06:10.112Z"
   },
   {
    "duration": 268,
    "start_time": "2022-10-30T22:06:11.204Z"
   },
   {
    "duration": 37,
    "start_time": "2022-10-30T22:06:11.473Z"
   },
   {
    "duration": 51,
    "start_time": "2022-10-30T22:06:11.512Z"
   },
   {
    "duration": 13,
    "start_time": "2022-10-30T22:06:11.564Z"
   },
   {
    "duration": 21,
    "start_time": "2022-10-30T22:06:11.578Z"
   },
   {
    "duration": 35,
    "start_time": "2022-10-30T22:06:11.601Z"
   },
   {
    "duration": 42,
    "start_time": "2022-10-30T22:06:11.638Z"
   },
   {
    "duration": 28,
    "start_time": "2022-10-30T22:06:11.682Z"
   },
   {
    "duration": 29,
    "start_time": "2022-10-30T22:06:11.713Z"
   },
   {
    "duration": 43,
    "start_time": "2022-10-30T22:06:11.744Z"
   },
   {
    "duration": 15,
    "start_time": "2022-10-30T22:06:11.789Z"
   },
   {
    "duration": 262,
    "start_time": "2022-10-30T22:06:11.806Z"
   },
   {
    "duration": 30,
    "start_time": "2022-10-30T22:06:12.070Z"
   },
   {
    "duration": 25,
    "start_time": "2022-10-30T22:06:12.102Z"
   },
   {
    "duration": 15,
    "start_time": "2022-10-30T22:06:12.128Z"
   },
   {
    "duration": 37,
    "start_time": "2022-10-30T22:06:12.145Z"
   },
   {
    "duration": 13,
    "start_time": "2022-10-30T22:06:12.183Z"
   },
   {
    "duration": 1018,
    "start_time": "2022-10-30T22:06:12.197Z"
   },
   {
    "duration": 11,
    "start_time": "2022-10-30T22:06:13.217Z"
   },
   {
    "duration": 25,
    "start_time": "2022-10-30T22:06:13.230Z"
   },
   {
    "duration": 32,
    "start_time": "2022-10-30T22:06:13.257Z"
   },
   {
    "duration": 12,
    "start_time": "2022-10-30T22:06:13.291Z"
   },
   {
    "duration": 41,
    "start_time": "2022-10-30T22:06:13.305Z"
   },
   {
    "duration": 16,
    "start_time": "2022-10-30T22:06:13.348Z"
   },
   {
    "duration": 18,
    "start_time": "2022-10-30T22:19:38.448Z"
   },
   {
    "duration": 295,
    "start_time": "2022-10-30T22:45:42.198Z"
   },
   {
    "duration": 306,
    "start_time": "2022-10-30T22:47:04.380Z"
   },
   {
    "duration": 1132,
    "start_time": "2022-10-30T22:48:13.848Z"
   },
   {
    "duration": 337,
    "start_time": "2022-10-30T22:48:14.981Z"
   },
   {
    "duration": 54,
    "start_time": "2022-10-30T22:48:15.320Z"
   },
   {
    "duration": 59,
    "start_time": "2022-10-30T22:48:15.376Z"
   },
   {
    "duration": 14,
    "start_time": "2022-10-30T22:48:15.436Z"
   },
   {
    "duration": 43,
    "start_time": "2022-10-30T22:48:15.451Z"
   },
   {
    "duration": 41,
    "start_time": "2022-10-30T22:48:15.496Z"
   },
   {
    "duration": 47,
    "start_time": "2022-10-30T22:48:15.539Z"
   },
   {
    "duration": 31,
    "start_time": "2022-10-30T22:48:15.588Z"
   },
   {
    "duration": 28,
    "start_time": "2022-10-30T22:48:15.622Z"
   },
   {
    "duration": 34,
    "start_time": "2022-10-30T22:48:15.651Z"
   },
   {
    "duration": 13,
    "start_time": "2022-10-30T22:48:15.687Z"
   },
   {
    "duration": 246,
    "start_time": "2022-10-30T22:48:15.702Z"
   },
   {
    "duration": 34,
    "start_time": "2022-10-30T22:48:15.950Z"
   },
   {
    "duration": 26,
    "start_time": "2022-10-30T22:48:15.986Z"
   },
   {
    "duration": 15,
    "start_time": "2022-10-30T22:48:16.013Z"
   },
   {
    "duration": 276,
    "start_time": "2022-10-30T22:48:16.030Z"
   },
   {
    "duration": 0,
    "start_time": "2022-10-30T22:48:16.308Z"
   },
   {
    "duration": 0,
    "start_time": "2022-10-30T22:48:16.309Z"
   },
   {
    "duration": 0,
    "start_time": "2022-10-30T22:48:16.310Z"
   },
   {
    "duration": 0,
    "start_time": "2022-10-30T22:48:16.312Z"
   },
   {
    "duration": 1,
    "start_time": "2022-10-30T22:48:16.313Z"
   },
   {
    "duration": 0,
    "start_time": "2022-10-30T22:48:16.315Z"
   },
   {
    "duration": 0,
    "start_time": "2022-10-30T22:48:16.316Z"
   },
   {
    "duration": 0,
    "start_time": "2022-10-30T22:48:16.318Z"
   },
   {
    "duration": 181,
    "start_time": "2022-10-30T22:49:51.817Z"
   },
   {
    "duration": 344,
    "start_time": "2022-10-30T22:50:42.369Z"
   },
   {
    "duration": 1077,
    "start_time": "2022-10-30T22:51:10.726Z"
   },
   {
    "duration": 189,
    "start_time": "2022-10-30T22:51:11.805Z"
   },
   {
    "duration": 29,
    "start_time": "2022-10-30T22:51:11.996Z"
   },
   {
    "duration": 54,
    "start_time": "2022-10-30T22:51:12.027Z"
   },
   {
    "duration": 14,
    "start_time": "2022-10-30T22:51:12.083Z"
   },
   {
    "duration": 21,
    "start_time": "2022-10-30T22:51:12.099Z"
   },
   {
    "duration": 61,
    "start_time": "2022-10-30T22:51:12.122Z"
   },
   {
    "duration": 27,
    "start_time": "2022-10-30T22:51:12.185Z"
   },
   {
    "duration": 30,
    "start_time": "2022-10-30T22:51:12.213Z"
   },
   {
    "duration": 28,
    "start_time": "2022-10-30T22:51:12.277Z"
   },
   {
    "duration": 16,
    "start_time": "2022-10-30T22:51:12.306Z"
   },
   {
    "duration": 14,
    "start_time": "2022-10-30T22:51:12.324Z"
   },
   {
    "duration": 251,
    "start_time": "2022-10-30T22:51:12.340Z"
   },
   {
    "duration": 27,
    "start_time": "2022-10-30T22:51:12.593Z"
   },
   {
    "duration": 26,
    "start_time": "2022-10-30T22:51:12.621Z"
   },
   {
    "duration": 37,
    "start_time": "2022-10-30T22:51:12.649Z"
   },
   {
    "duration": 341,
    "start_time": "2022-10-30T22:51:12.688Z"
   },
   {
    "duration": 13,
    "start_time": "2022-10-30T22:51:13.031Z"
   },
   {
    "duration": 1024,
    "start_time": "2022-10-30T22:51:13.046Z"
   },
   {
    "duration": 9,
    "start_time": "2022-10-30T22:51:14.077Z"
   },
   {
    "duration": 23,
    "start_time": "2022-10-30T22:51:14.088Z"
   },
   {
    "duration": 11,
    "start_time": "2022-10-30T22:51:14.113Z"
   },
   {
    "duration": 10,
    "start_time": "2022-10-30T22:51:14.126Z"
   },
   {
    "duration": 60,
    "start_time": "2022-10-30T22:51:14.137Z"
   },
   {
    "duration": 17,
    "start_time": "2022-10-30T22:51:14.198Z"
   },
   {
    "duration": 204,
    "start_time": "2022-10-30T22:52:19.369Z"
   },
   {
    "duration": 1058,
    "start_time": "2022-10-30T22:52:47.647Z"
   },
   {
    "duration": 234,
    "start_time": "2022-10-30T22:52:48.706Z"
   },
   {
    "duration": 27,
    "start_time": "2022-10-30T22:52:48.944Z"
   },
   {
    "duration": 51,
    "start_time": "2022-10-30T22:52:48.972Z"
   },
   {
    "duration": 12,
    "start_time": "2022-10-30T22:52:49.025Z"
   },
   {
    "duration": 38,
    "start_time": "2022-10-30T22:52:49.039Z"
   },
   {
    "duration": 36,
    "start_time": "2022-10-30T22:52:49.078Z"
   },
   {
    "duration": 25,
    "start_time": "2022-10-30T22:52:49.115Z"
   },
   {
    "duration": 44,
    "start_time": "2022-10-30T22:52:49.142Z"
   },
   {
    "duration": 25,
    "start_time": "2022-10-30T22:52:49.188Z"
   },
   {
    "duration": 14,
    "start_time": "2022-10-30T22:52:49.215Z"
   },
   {
    "duration": 13,
    "start_time": "2022-10-30T22:52:49.230Z"
   },
   {
    "duration": 237,
    "start_time": "2022-10-30T22:52:49.244Z"
   },
   {
    "duration": 24,
    "start_time": "2022-10-30T22:52:49.482Z"
   },
   {
    "duration": 23,
    "start_time": "2022-10-30T22:52:49.508Z"
   },
   {
    "duration": 13,
    "start_time": "2022-10-30T22:52:49.532Z"
   },
   {
    "duration": 334,
    "start_time": "2022-10-30T22:52:49.547Z"
   },
   {
    "duration": 13,
    "start_time": "2022-10-30T22:52:49.883Z"
   },
   {
    "duration": 993,
    "start_time": "2022-10-30T22:52:49.897Z"
   },
   {
    "duration": 9,
    "start_time": "2022-10-30T22:52:50.892Z"
   },
   {
    "duration": 24,
    "start_time": "2022-10-30T22:52:50.902Z"
   },
   {
    "duration": 9,
    "start_time": "2022-10-30T22:52:50.927Z"
   },
   {
    "duration": 8,
    "start_time": "2022-10-30T22:52:50.938Z"
   },
   {
    "duration": 24,
    "start_time": "2022-10-30T22:52:50.977Z"
   },
   {
    "duration": 16,
    "start_time": "2022-10-30T22:52:51.002Z"
   },
   {
    "duration": 1097,
    "start_time": "2022-10-30T22:54:01.280Z"
   },
   {
    "duration": 139,
    "start_time": "2022-10-30T22:54:02.379Z"
   },
   {
    "duration": 30,
    "start_time": "2022-10-30T22:54:02.519Z"
   },
   {
    "duration": 54,
    "start_time": "2022-10-30T22:54:02.551Z"
   },
   {
    "duration": 12,
    "start_time": "2022-10-30T22:54:02.607Z"
   },
   {
    "duration": 23,
    "start_time": "2022-10-30T22:54:02.620Z"
   },
   {
    "duration": 50,
    "start_time": "2022-10-30T22:54:02.644Z"
   },
   {
    "duration": 25,
    "start_time": "2022-10-30T22:54:02.695Z"
   },
   {
    "duration": 28,
    "start_time": "2022-10-30T22:54:02.722Z"
   },
   {
    "duration": 47,
    "start_time": "2022-10-30T22:54:02.753Z"
   },
   {
    "duration": 14,
    "start_time": "2022-10-30T22:54:02.802Z"
   },
   {
    "duration": 12,
    "start_time": "2022-10-30T22:54:02.818Z"
   },
   {
    "duration": 236,
    "start_time": "2022-10-30T22:54:02.831Z"
   },
   {
    "duration": 30,
    "start_time": "2022-10-30T22:54:03.069Z"
   },
   {
    "duration": 24,
    "start_time": "2022-10-30T22:54:03.100Z"
   },
   {
    "duration": 14,
    "start_time": "2022-10-30T22:54:03.125Z"
   },
   {
    "duration": 5,
    "start_time": "2022-10-30T22:54:03.140Z"
   },
   {
    "duration": 0,
    "start_time": "2022-10-30T22:54:03.146Z"
   },
   {
    "duration": 0,
    "start_time": "2022-10-30T22:54:03.147Z"
   },
   {
    "duration": 0,
    "start_time": "2022-10-30T22:54:03.148Z"
   },
   {
    "duration": 0,
    "start_time": "2022-10-30T22:54:03.148Z"
   },
   {
    "duration": 0,
    "start_time": "2022-10-30T22:54:03.177Z"
   },
   {
    "duration": 0,
    "start_time": "2022-10-30T22:54:03.178Z"
   },
   {
    "duration": 0,
    "start_time": "2022-10-30T22:54:03.179Z"
   },
   {
    "duration": 0,
    "start_time": "2022-10-30T22:54:03.180Z"
   },
   {
    "duration": 1117,
    "start_time": "2022-10-30T22:54:40.270Z"
   },
   {
    "duration": 133,
    "start_time": "2022-10-30T22:54:41.390Z"
   },
   {
    "duration": 44,
    "start_time": "2022-10-30T22:54:41.525Z"
   },
   {
    "duration": 63,
    "start_time": "2022-10-30T22:54:41.571Z"
   },
   {
    "duration": 16,
    "start_time": "2022-10-30T22:54:41.636Z"
   },
   {
    "duration": 35,
    "start_time": "2022-10-30T22:54:41.653Z"
   },
   {
    "duration": 39,
    "start_time": "2022-10-30T22:54:41.690Z"
   },
   {
    "duration": 48,
    "start_time": "2022-10-30T22:54:41.731Z"
   },
   {
    "duration": 29,
    "start_time": "2022-10-30T22:54:41.780Z"
   },
   {
    "duration": 27,
    "start_time": "2022-10-30T22:54:41.811Z"
   },
   {
    "duration": 37,
    "start_time": "2022-10-30T22:54:41.840Z"
   },
   {
    "duration": 14,
    "start_time": "2022-10-30T22:54:41.879Z"
   },
   {
    "duration": 233,
    "start_time": "2022-10-30T22:54:41.894Z"
   },
   {
    "duration": 26,
    "start_time": "2022-10-30T22:54:42.128Z"
   },
   {
    "duration": 41,
    "start_time": "2022-10-30T22:54:42.156Z"
   },
   {
    "duration": 13,
    "start_time": "2022-10-30T22:54:42.199Z"
   },
   {
    "duration": 520,
    "start_time": "2022-10-30T22:54:42.214Z"
   },
   {
    "duration": 0,
    "start_time": "2022-10-30T22:54:42.736Z"
   },
   {
    "duration": 0,
    "start_time": "2022-10-30T22:54:42.737Z"
   },
   {
    "duration": 0,
    "start_time": "2022-10-30T22:54:42.739Z"
   },
   {
    "duration": 0,
    "start_time": "2022-10-30T22:54:42.740Z"
   },
   {
    "duration": 0,
    "start_time": "2022-10-30T22:54:42.742Z"
   },
   {
    "duration": 0,
    "start_time": "2022-10-30T22:54:42.743Z"
   },
   {
    "duration": 0,
    "start_time": "2022-10-30T22:54:42.745Z"
   },
   {
    "duration": 0,
    "start_time": "2022-10-30T22:54:42.747Z"
   },
   {
    "duration": 1174,
    "start_time": "2022-10-30T22:55:34.976Z"
   },
   {
    "duration": 136,
    "start_time": "2022-10-30T22:55:36.152Z"
   },
   {
    "duration": 34,
    "start_time": "2022-10-30T22:55:36.289Z"
   },
   {
    "duration": 57,
    "start_time": "2022-10-30T22:55:36.325Z"
   },
   {
    "duration": 15,
    "start_time": "2022-10-30T22:55:36.384Z"
   },
   {
    "duration": 51,
    "start_time": "2022-10-30T22:55:36.400Z"
   },
   {
    "duration": 47,
    "start_time": "2022-10-30T22:55:36.453Z"
   },
   {
    "duration": 27,
    "start_time": "2022-10-30T22:55:36.502Z"
   },
   {
    "duration": 48,
    "start_time": "2022-10-30T22:55:36.531Z"
   },
   {
    "duration": 35,
    "start_time": "2022-10-30T22:55:36.582Z"
   },
   {
    "duration": 18,
    "start_time": "2022-10-30T22:55:36.619Z"
   },
   {
    "duration": 38,
    "start_time": "2022-10-30T22:55:36.639Z"
   },
   {
    "duration": 250,
    "start_time": "2022-10-30T22:55:36.680Z"
   },
   {
    "duration": 32,
    "start_time": "2022-10-30T22:55:36.932Z"
   },
   {
    "duration": 31,
    "start_time": "2022-10-30T22:55:36.977Z"
   },
   {
    "duration": 28,
    "start_time": "2022-10-30T22:55:37.010Z"
   },
   {
    "duration": 380,
    "start_time": "2022-10-30T22:55:37.040Z"
   },
   {
    "duration": 16,
    "start_time": "2022-10-30T22:55:37.422Z"
   },
   {
    "duration": 1120,
    "start_time": "2022-10-30T22:55:37.440Z"
   },
   {
    "duration": 18,
    "start_time": "2022-10-30T22:55:38.562Z"
   },
   {
    "duration": 28,
    "start_time": "2022-10-30T22:55:38.581Z"
   },
   {
    "duration": 17,
    "start_time": "2022-10-30T22:55:38.610Z"
   },
   {
    "duration": 28,
    "start_time": "2022-10-30T22:55:38.628Z"
   },
   {
    "duration": 41,
    "start_time": "2022-10-30T22:55:38.657Z"
   },
   {
    "duration": 19,
    "start_time": "2022-10-30T22:55:38.699Z"
   },
   {
    "duration": 1096,
    "start_time": "2022-10-30T22:57:28.482Z"
   },
   {
    "duration": 120,
    "start_time": "2022-10-30T22:57:29.579Z"
   },
   {
    "duration": 39,
    "start_time": "2022-10-30T22:57:29.701Z"
   },
   {
    "duration": 51,
    "start_time": "2022-10-30T22:57:29.742Z"
   },
   {
    "duration": 13,
    "start_time": "2022-10-30T22:57:29.794Z"
   },
   {
    "duration": 19,
    "start_time": "2022-10-30T22:57:29.808Z"
   },
   {
    "duration": 53,
    "start_time": "2022-10-30T22:57:29.828Z"
   },
   {
    "duration": 25,
    "start_time": "2022-10-30T22:57:29.883Z"
   },
   {
    "duration": 31,
    "start_time": "2022-10-30T22:57:29.909Z"
   },
   {
    "duration": 49,
    "start_time": "2022-10-30T22:57:29.943Z"
   },
   {
    "duration": 15,
    "start_time": "2022-10-30T22:57:29.993Z"
   },
   {
    "duration": 28,
    "start_time": "2022-10-30T22:57:30.010Z"
   },
   {
    "duration": 230,
    "start_time": "2022-10-30T22:57:30.039Z"
   },
   {
    "duration": 26,
    "start_time": "2022-10-30T22:57:30.276Z"
   },
   {
    "duration": 41,
    "start_time": "2022-10-30T22:57:30.303Z"
   },
   {
    "duration": 31,
    "start_time": "2022-10-30T22:57:30.345Z"
   },
   {
    "duration": 349,
    "start_time": "2022-10-30T22:57:30.377Z"
   },
   {
    "duration": 13,
    "start_time": "2022-10-30T22:57:30.727Z"
   },
   {
    "duration": 993,
    "start_time": "2022-10-30T22:57:30.741Z"
   },
   {
    "duration": 9,
    "start_time": "2022-10-30T22:57:31.736Z"
   },
   {
    "duration": 36,
    "start_time": "2022-10-30T22:57:31.746Z"
   },
   {
    "duration": 8,
    "start_time": "2022-10-30T22:57:31.784Z"
   },
   {
    "duration": 12,
    "start_time": "2022-10-30T22:57:31.794Z"
   },
   {
    "duration": 32,
    "start_time": "2022-10-30T22:57:31.808Z"
   },
   {
    "duration": 16,
    "start_time": "2022-10-30T22:57:31.841Z"
   },
   {
    "duration": 1108,
    "start_time": "2022-10-30T23:04:18.505Z"
   },
   {
    "duration": 401,
    "start_time": "2022-10-30T23:04:19.615Z"
   },
   {
    "duration": 28,
    "start_time": "2022-10-30T23:04:20.017Z"
   },
   {
    "duration": 55,
    "start_time": "2022-10-30T23:04:20.047Z"
   },
   {
    "duration": 14,
    "start_time": "2022-10-30T23:04:20.104Z"
   },
   {
    "duration": 20,
    "start_time": "2022-10-30T23:04:20.120Z"
   },
   {
    "duration": 65,
    "start_time": "2022-10-30T23:04:20.142Z"
   },
   {
    "duration": 28,
    "start_time": "2022-10-30T23:04:20.209Z"
   },
   {
    "duration": 42,
    "start_time": "2022-10-30T23:04:20.239Z"
   },
   {
    "duration": 29,
    "start_time": "2022-10-30T23:04:20.282Z"
   },
   {
    "duration": 18,
    "start_time": "2022-10-30T23:04:20.312Z"
   },
   {
    "duration": 46,
    "start_time": "2022-10-30T23:04:20.332Z"
   },
   {
    "duration": 251,
    "start_time": "2022-10-30T23:04:20.381Z"
   },
   {
    "duration": 26,
    "start_time": "2022-10-30T23:04:20.636Z"
   },
   {
    "duration": 29,
    "start_time": "2022-10-30T23:04:20.677Z"
   },
   {
    "duration": 19,
    "start_time": "2022-10-30T23:04:20.708Z"
   },
   {
    "duration": 348,
    "start_time": "2022-10-30T23:04:20.728Z"
   },
   {
    "duration": 13,
    "start_time": "2022-10-30T23:04:21.078Z"
   },
   {
    "duration": 1003,
    "start_time": "2022-10-30T23:04:21.092Z"
   },
   {
    "duration": 11,
    "start_time": "2022-10-30T23:04:22.097Z"
   },
   {
    "duration": 25,
    "start_time": "2022-10-30T23:04:22.110Z"
   },
   {
    "duration": 10,
    "start_time": "2022-10-30T23:04:22.136Z"
   },
   {
    "duration": 38,
    "start_time": "2022-10-30T23:04:22.147Z"
   },
   {
    "duration": 28,
    "start_time": "2022-10-30T23:04:22.187Z"
   },
   {
    "duration": 18,
    "start_time": "2022-10-30T23:04:22.217Z"
   },
   {
    "duration": 18,
    "start_time": "2022-10-30T23:06:27.602Z"
   },
   {
    "duration": 13,
    "start_time": "2022-10-30T23:07:02.142Z"
   },
   {
    "duration": 1101,
    "start_time": "2022-10-30T23:11:06.107Z"
   },
   {
    "duration": 194,
    "start_time": "2022-10-30T23:11:07.210Z"
   },
   {
    "duration": 26,
    "start_time": "2022-10-30T23:11:07.405Z"
   },
   {
    "duration": 60,
    "start_time": "2022-10-30T23:11:07.433Z"
   },
   {
    "duration": 15,
    "start_time": "2022-10-30T23:11:07.494Z"
   },
   {
    "duration": 16,
    "start_time": "2022-10-30T23:11:07.510Z"
   },
   {
    "duration": 21,
    "start_time": "2022-10-30T23:11:07.528Z"
   },
   {
    "duration": 63,
    "start_time": "2022-10-30T23:11:07.577Z"
   },
   {
    "duration": 51,
    "start_time": "2022-10-30T23:11:07.642Z"
   },
   {
    "duration": 45,
    "start_time": "2022-10-30T23:11:07.696Z"
   },
   {
    "duration": 50,
    "start_time": "2022-10-30T23:11:07.743Z"
   },
   {
    "duration": 18,
    "start_time": "2022-10-30T23:11:07.796Z"
   },
   {
    "duration": 16,
    "start_time": "2022-10-30T23:11:07.816Z"
   },
   {
    "duration": 59,
    "start_time": "2022-10-30T23:11:07.834Z"
   },
   {
    "duration": 26,
    "start_time": "2022-10-30T23:11:07.895Z"
   },
   {
    "duration": 17,
    "start_time": "2022-10-30T23:11:07.923Z"
   },
   {
    "duration": 368,
    "start_time": "2022-10-30T23:11:07.942Z"
   },
   {
    "duration": 14,
    "start_time": "2022-10-30T23:11:08.312Z"
   },
   {
    "duration": 1077,
    "start_time": "2022-10-30T23:11:08.330Z"
   },
   {
    "duration": 9,
    "start_time": "2022-10-30T23:11:09.409Z"
   },
   {
    "duration": 26,
    "start_time": "2022-10-30T23:11:09.420Z"
   },
   {
    "duration": 30,
    "start_time": "2022-10-30T23:11:09.448Z"
   },
   {
    "duration": 10,
    "start_time": "2022-10-30T23:11:09.479Z"
   },
   {
    "duration": 31,
    "start_time": "2022-10-30T23:11:09.491Z"
   },
   {
    "duration": 261,
    "start_time": "2022-10-30T23:13:23.498Z"
   },
   {
    "duration": 1058,
    "start_time": "2022-10-30T23:18:39.150Z"
   },
   {
    "duration": 1005,
    "start_time": "2022-10-30T23:19:23.352Z"
   },
   {
    "duration": 9,
    "start_time": "2022-10-30T23:22:33.512Z"
   },
   {
    "duration": 9,
    "start_time": "2022-10-30T23:22:48.546Z"
   },
   {
    "duration": 25,
    "start_time": "2022-10-30T23:23:07.669Z"
   },
   {
    "duration": 11,
    "start_time": "2022-10-30T23:23:36.512Z"
   },
   {
    "duration": 9,
    "start_time": "2022-10-30T23:23:41.394Z"
   },
   {
    "duration": 24,
    "start_time": "2022-10-30T23:23:44.434Z"
   },
   {
    "duration": 918,
    "start_time": "2022-10-30T23:23:52.825Z"
   },
   {
    "duration": 289,
    "start_time": "2022-10-30T23:24:23.465Z"
   },
   {
    "duration": 1064,
    "start_time": "2022-10-30T23:25:06.934Z"
   },
   {
    "duration": 181,
    "start_time": "2022-10-30T23:25:07.999Z"
   },
   {
    "duration": 33,
    "start_time": "2022-10-30T23:25:08.181Z"
   },
   {
    "duration": 49,
    "start_time": "2022-10-30T23:25:08.216Z"
   },
   {
    "duration": 13,
    "start_time": "2022-10-30T23:25:08.267Z"
   },
   {
    "duration": 15,
    "start_time": "2022-10-30T23:25:08.281Z"
   },
   {
    "duration": 17,
    "start_time": "2022-10-30T23:25:08.298Z"
   },
   {
    "duration": 34,
    "start_time": "2022-10-30T23:25:08.316Z"
   },
   {
    "duration": 46,
    "start_time": "2022-10-30T23:25:08.352Z"
   },
   {
    "duration": 28,
    "start_time": "2022-10-30T23:25:08.400Z"
   },
   {
    "duration": 25,
    "start_time": "2022-10-30T23:25:08.430Z"
   },
   {
    "duration": 33,
    "start_time": "2022-10-30T23:25:08.457Z"
   },
   {
    "duration": 12,
    "start_time": "2022-10-30T23:25:08.492Z"
   },
   {
    "duration": 327,
    "start_time": "2022-10-30T23:25:08.506Z"
   },
   {
    "duration": 42,
    "start_time": "2022-10-30T23:25:08.835Z"
   },
   {
    "duration": 28,
    "start_time": "2022-10-30T23:25:08.879Z"
   },
   {
    "duration": 16,
    "start_time": "2022-10-30T23:25:08.910Z"
   },
   {
    "duration": 352,
    "start_time": "2022-10-30T23:25:08.928Z"
   },
   {
    "duration": 14,
    "start_time": "2022-10-30T23:25:09.281Z"
   },
   {
    "duration": 979,
    "start_time": "2022-10-30T23:25:09.296Z"
   },
   {
    "duration": 10,
    "start_time": "2022-10-30T23:25:10.276Z"
   },
   {
    "duration": 23,
    "start_time": "2022-10-30T23:25:10.287Z"
   },
   {
    "duration": 9,
    "start_time": "2022-10-30T23:25:10.312Z"
   },
   {
    "duration": 9,
    "start_time": "2022-10-30T23:25:10.323Z"
   },
   {
    "duration": 58,
    "start_time": "2022-10-30T23:25:10.333Z"
   },
   {
    "duration": 303,
    "start_time": "2022-10-30T23:25:10.393Z"
   },
   {
    "duration": 9,
    "start_time": "2022-10-30T23:26:18.372Z"
   },
   {
    "duration": 24,
    "start_time": "2022-10-30T23:26:30.294Z"
   },
   {
    "duration": 9,
    "start_time": "2022-10-30T23:26:42.361Z"
   },
   {
    "duration": 10,
    "start_time": "2022-10-30T23:26:45.831Z"
   },
   {
    "duration": 24,
    "start_time": "2022-10-30T23:26:48.232Z"
   },
   {
    "duration": 284,
    "start_time": "2022-10-30T23:26:51.992Z"
   },
   {
    "duration": 10,
    "start_time": "2022-10-30T23:45:17.152Z"
   },
   {
    "duration": 749,
    "start_time": "2022-10-30T23:46:12.483Z"
   },
   {
    "duration": 373,
    "start_time": "2022-10-30T23:47:15.197Z"
   },
   {
    "duration": 194,
    "start_time": "2022-10-30T23:47:49.314Z"
   },
   {
    "duration": 210,
    "start_time": "2022-10-30T23:48:47.176Z"
   },
   {
    "duration": 12,
    "start_time": "2022-10-30T23:54:00.437Z"
   },
   {
    "duration": 1068,
    "start_time": "2022-10-30T23:54:32.308Z"
   },
   {
    "duration": 166,
    "start_time": "2022-10-30T23:54:33.378Z"
   },
   {
    "duration": 79,
    "start_time": "2022-10-30T23:54:33.546Z"
   },
   {
    "duration": 54,
    "start_time": "2022-10-30T23:54:33.627Z"
   },
   {
    "duration": 14,
    "start_time": "2022-10-30T23:54:33.682Z"
   },
   {
    "duration": 14,
    "start_time": "2022-10-30T23:54:33.698Z"
   },
   {
    "duration": 17,
    "start_time": "2022-10-30T23:54:33.714Z"
   },
   {
    "duration": 59,
    "start_time": "2022-10-30T23:54:33.732Z"
   },
   {
    "duration": 29,
    "start_time": "2022-10-30T23:54:33.792Z"
   },
   {
    "duration": 32,
    "start_time": "2022-10-30T23:54:33.824Z"
   },
   {
    "duration": 27,
    "start_time": "2022-10-30T23:54:33.876Z"
   },
   {
    "duration": 14,
    "start_time": "2022-10-30T23:54:33.904Z"
   },
   {
    "duration": 37,
    "start_time": "2022-10-30T23:54:33.920Z"
   },
   {
    "duration": 299,
    "start_time": "2022-10-30T23:54:33.959Z"
   },
   {
    "duration": 33,
    "start_time": "2022-10-30T23:54:34.260Z"
   },
   {
    "duration": 27,
    "start_time": "2022-10-30T23:54:34.294Z"
   },
   {
    "duration": 17,
    "start_time": "2022-10-30T23:54:34.323Z"
   },
   {
    "duration": 391,
    "start_time": "2022-10-30T23:54:34.342Z"
   },
   {
    "duration": 17,
    "start_time": "2022-10-30T23:54:34.735Z"
   },
   {
    "duration": 1163,
    "start_time": "2022-10-30T23:54:34.753Z"
   },
   {
    "duration": 11,
    "start_time": "2022-10-30T23:54:35.918Z"
   },
   {
    "duration": 26,
    "start_time": "2022-10-30T23:54:35.930Z"
   },
   {
    "duration": 30,
    "start_time": "2022-10-30T23:54:35.957Z"
   },
   {
    "duration": 12,
    "start_time": "2022-10-30T23:54:35.989Z"
   },
   {
    "duration": 27,
    "start_time": "2022-10-30T23:54:36.003Z"
   },
   {
    "duration": 294,
    "start_time": "2022-10-30T23:54:36.032Z"
   },
   {
    "duration": 11,
    "start_time": "2022-10-30T23:54:36.328Z"
   },
   {
    "duration": 232,
    "start_time": "2022-10-30T23:54:36.342Z"
   },
   {
    "duration": 98,
    "start_time": "2022-10-30T23:55:13.730Z"
   },
   {
    "duration": 11,
    "start_time": "2022-10-30T23:56:14.322Z"
   },
   {
    "duration": 11,
    "start_time": "2022-10-30T23:57:22.679Z"
   },
   {
    "duration": 201,
    "start_time": "2022-10-30T23:58:31.927Z"
   },
   {
    "duration": 41,
    "start_time": "2022-10-30T23:59:42.493Z"
   },
   {
    "duration": 320,
    "start_time": "2022-10-31T00:00:28.690Z"
   },
   {
    "duration": 206,
    "start_time": "2022-10-31T00:01:11.093Z"
   },
   {
    "duration": 15,
    "start_time": "2022-10-31T00:03:33.807Z"
   },
   {
    "duration": 14,
    "start_time": "2022-10-31T00:03:45.360Z"
   },
   {
    "duration": 14,
    "start_time": "2022-10-31T00:04:22.605Z"
   },
   {
    "duration": 114,
    "start_time": "2022-10-31T00:08:41.338Z"
   },
   {
    "duration": 1152,
    "start_time": "2022-10-31T00:08:53.566Z"
   },
   {
    "duration": 379,
    "start_time": "2022-10-31T00:08:54.720Z"
   },
   {
    "duration": 33,
    "start_time": "2022-10-31T00:08:55.101Z"
   },
   {
    "duration": 71,
    "start_time": "2022-10-31T00:08:55.136Z"
   },
   {
    "duration": 18,
    "start_time": "2022-10-31T00:08:55.210Z"
   },
   {
    "duration": 29,
    "start_time": "2022-10-31T00:08:55.230Z"
   },
   {
    "duration": 33,
    "start_time": "2022-10-31T00:08:55.261Z"
   },
   {
    "duration": 52,
    "start_time": "2022-10-31T00:08:55.296Z"
   },
   {
    "duration": 50,
    "start_time": "2022-10-31T00:08:55.350Z"
   },
   {
    "duration": 31,
    "start_time": "2022-10-31T00:08:55.403Z"
   },
   {
    "duration": 55,
    "start_time": "2022-10-31T00:08:55.436Z"
   },
   {
    "duration": 17,
    "start_time": "2022-10-31T00:08:55.493Z"
   },
   {
    "duration": 13,
    "start_time": "2022-10-31T00:08:55.513Z"
   },
   {
    "duration": 325,
    "start_time": "2022-10-31T00:08:55.528Z"
   },
   {
    "duration": 36,
    "start_time": "2022-10-31T00:08:55.856Z"
   },
   {
    "duration": 27,
    "start_time": "2022-10-31T00:08:55.894Z"
   },
   {
    "duration": 16,
    "start_time": "2022-10-31T00:08:55.923Z"
   },
   {
    "duration": 40,
    "start_time": "2022-10-31T00:08:55.941Z"
   },
   {
    "duration": 1105,
    "start_time": "2022-10-31T00:08:55.983Z"
   },
   {
    "duration": 9,
    "start_time": "2022-10-31T00:08:57.090Z"
   },
   {
    "duration": 27,
    "start_time": "2022-10-31T00:08:57.100Z"
   },
   {
    "duration": 9,
    "start_time": "2022-10-31T00:08:57.129Z"
   },
   {
    "duration": 8,
    "start_time": "2022-10-31T00:08:57.139Z"
   },
   {
    "duration": 46,
    "start_time": "2022-10-31T00:08:57.149Z"
   },
   {
    "duration": 257,
    "start_time": "2022-10-31T00:08:57.197Z"
   },
   {
    "duration": 29,
    "start_time": "2022-10-31T00:08:57.456Z"
   },
   {
    "duration": 213,
    "start_time": "2022-10-31T00:08:57.487Z"
   },
   {
    "duration": 376,
    "start_time": "2022-10-31T00:08:57.702Z"
   },
   {
    "duration": 3,
    "start_time": "2022-10-31T00:11:13.662Z"
   },
   {
    "duration": 3,
    "start_time": "2022-10-31T00:11:46.715Z"
   },
   {
    "duration": 475,
    "start_time": "2022-10-31T00:16:24.527Z"
   },
   {
    "duration": 1465,
    "start_time": "2022-10-31T05:54:16.011Z"
   },
   {
    "duration": 186,
    "start_time": "2022-10-31T05:54:17.478Z"
   },
   {
    "duration": 197,
    "start_time": "2022-10-31T05:54:17.666Z"
   },
   {
    "duration": 61,
    "start_time": "2022-10-31T05:54:17.865Z"
   },
   {
    "duration": 14,
    "start_time": "2022-10-31T05:54:17.928Z"
   },
   {
    "duration": 48,
    "start_time": "2022-10-31T05:54:17.944Z"
   },
   {
    "duration": 40,
    "start_time": "2022-10-31T05:54:17.993Z"
   },
   {
    "duration": 54,
    "start_time": "2022-10-31T05:54:18.035Z"
   },
   {
    "duration": 29,
    "start_time": "2022-10-31T05:54:18.091Z"
   },
   {
    "duration": 41,
    "start_time": "2022-10-31T05:54:18.123Z"
   },
   {
    "duration": 29,
    "start_time": "2022-10-31T05:54:18.166Z"
   },
   {
    "duration": 17,
    "start_time": "2022-10-31T05:54:18.197Z"
   },
   {
    "duration": 36,
    "start_time": "2022-10-31T05:54:18.215Z"
   },
   {
    "duration": 339,
    "start_time": "2022-10-31T05:54:18.254Z"
   },
   {
    "duration": 30,
    "start_time": "2022-10-31T05:54:18.595Z"
   },
   {
    "duration": 27,
    "start_time": "2022-10-31T05:54:18.638Z"
   },
   {
    "duration": 17,
    "start_time": "2022-10-31T05:54:18.666Z"
   },
   {
    "duration": 15,
    "start_time": "2022-10-31T05:54:18.685Z"
   },
   {
    "duration": 1109,
    "start_time": "2022-10-31T05:54:18.702Z"
   },
   {
    "duration": 10,
    "start_time": "2022-10-31T05:54:19.813Z"
   },
   {
    "duration": 27,
    "start_time": "2022-10-31T05:54:19.838Z"
   },
   {
    "duration": 12,
    "start_time": "2022-10-31T05:54:19.867Z"
   },
   {
    "duration": 11,
    "start_time": "2022-10-31T05:54:19.881Z"
   },
   {
    "duration": 59,
    "start_time": "2022-10-31T05:54:19.894Z"
   },
   {
    "duration": 295,
    "start_time": "2022-10-31T05:54:19.955Z"
   },
   {
    "duration": 15,
    "start_time": "2022-10-31T05:54:20.252Z"
   },
   {
    "duration": 273,
    "start_time": "2022-10-31T05:54:20.269Z"
   },
   {
    "duration": 431,
    "start_time": "2022-10-31T05:54:20.545Z"
   },
   {
    "duration": 4,
    "start_time": "2022-10-31T05:54:20.978Z"
   },
   {
    "duration": 17,
    "start_time": "2022-10-31T05:54:20.984Z"
   },
   {
    "duration": 605,
    "start_time": "2022-10-31T05:54:21.003Z"
   },
   {
    "duration": 13,
    "start_time": "2022-10-31T16:30:52.052Z"
   },
   {
    "duration": 12,
    "start_time": "2022-10-31T16:31:57.455Z"
   },
   {
    "duration": 21,
    "start_time": "2022-10-31T16:35:25.571Z"
   },
   {
    "duration": 16,
    "start_time": "2022-10-31T16:35:53.699Z"
   },
   {
    "duration": 15,
    "start_time": "2022-10-31T16:39:26.923Z"
   },
   {
    "duration": 28,
    "start_time": "2022-10-31T16:43:39.082Z"
   },
   {
    "duration": 1101,
    "start_time": "2022-10-31T16:52:58.988Z"
   },
   {
    "duration": 182,
    "start_time": "2022-10-31T16:53:00.090Z"
   },
   {
    "duration": 60,
    "start_time": "2022-10-31T16:53:00.273Z"
   },
   {
    "duration": 59,
    "start_time": "2022-10-31T16:53:00.336Z"
   },
   {
    "duration": 16,
    "start_time": "2022-10-31T16:53:00.397Z"
   },
   {
    "duration": 35,
    "start_time": "2022-10-31T16:53:00.415Z"
   },
   {
    "duration": 21,
    "start_time": "2022-10-31T16:53:00.452Z"
   },
   {
    "duration": 64,
    "start_time": "2022-10-31T16:53:00.475Z"
   },
   {
    "duration": 31,
    "start_time": "2022-10-31T16:53:00.540Z"
   },
   {
    "duration": 32,
    "start_time": "2022-10-31T16:53:00.573Z"
   },
   {
    "duration": 54,
    "start_time": "2022-10-31T16:53:00.607Z"
   },
   {
    "duration": 21,
    "start_time": "2022-10-31T16:53:00.663Z"
   },
   {
    "duration": 18,
    "start_time": "2022-10-31T16:53:00.686Z"
   },
   {
    "duration": 332,
    "start_time": "2022-10-31T16:53:00.706Z"
   },
   {
    "duration": 30,
    "start_time": "2022-10-31T16:53:01.040Z"
   },
   {
    "duration": 28,
    "start_time": "2022-10-31T16:53:01.071Z"
   },
   {
    "duration": 42,
    "start_time": "2022-10-31T16:53:01.101Z"
   },
   {
    "duration": 14,
    "start_time": "2022-10-31T16:53:01.145Z"
   },
   {
    "duration": 1065,
    "start_time": "2022-10-31T16:53:01.160Z"
   },
   {
    "duration": 16,
    "start_time": "2022-10-31T16:53:02.227Z"
   },
   {
    "duration": 29,
    "start_time": "2022-10-31T16:53:02.245Z"
   },
   {
    "duration": 23,
    "start_time": "2022-10-31T16:53:02.276Z"
   },
   {
    "duration": 17,
    "start_time": "2022-10-31T16:53:02.301Z"
   },
   {
    "duration": 48,
    "start_time": "2022-10-31T16:53:02.320Z"
   },
   {
    "duration": 280,
    "start_time": "2022-10-31T16:53:02.369Z"
   },
   {
    "duration": 15,
    "start_time": "2022-10-31T16:53:02.650Z"
   },
   {
    "duration": 234,
    "start_time": "2022-10-31T16:53:02.667Z"
   },
   {
    "duration": 337,
    "start_time": "2022-10-31T16:53:02.905Z"
   },
   {
    "duration": 4,
    "start_time": "2022-10-31T16:53:03.243Z"
   },
   {
    "duration": 24,
    "start_time": "2022-10-31T16:53:03.248Z"
   },
   {
    "duration": 519,
    "start_time": "2022-10-31T16:53:03.274Z"
   },
   {
    "duration": 18,
    "start_time": "2022-10-31T16:53:03.795Z"
   },
   {
    "duration": 46,
    "start_time": "2022-10-31T16:53:03.814Z"
   },
   {
    "duration": 20,
    "start_time": "2022-10-31T16:53:03.862Z"
   },
   {
    "duration": 112,
    "start_time": "2022-10-31T16:59:44.768Z"
   },
   {
    "duration": 18,
    "start_time": "2022-10-31T17:00:52.070Z"
   },
   {
    "duration": 14,
    "start_time": "2022-10-31T17:02:21.715Z"
   },
   {
    "duration": 21,
    "start_time": "2022-10-31T17:03:30.670Z"
   },
   {
    "duration": 11,
    "start_time": "2022-10-31T17:06:15.130Z"
   },
   {
    "duration": 16,
    "start_time": "2022-10-31T17:06:35.377Z"
   },
   {
    "duration": 5,
    "start_time": "2022-10-31T17:23:07.739Z"
   },
   {
    "duration": 4,
    "start_time": "2022-10-31T17:24:14.500Z"
   },
   {
    "duration": 61,
    "start_time": "2022-10-31T17:27:35.788Z"
   },
   {
    "duration": 5,
    "start_time": "2022-10-31T17:27:46.431Z"
   },
   {
    "duration": 5,
    "start_time": "2022-10-31T17:28:19.044Z"
   },
   {
    "duration": 1117,
    "start_time": "2022-10-31T17:29:54.200Z"
   },
   {
    "duration": 272,
    "start_time": "2022-10-31T17:29:55.318Z"
   },
   {
    "duration": 28,
    "start_time": "2022-10-31T17:29:55.591Z"
   },
   {
    "duration": 54,
    "start_time": "2022-10-31T17:29:55.621Z"
   },
   {
    "duration": 14,
    "start_time": "2022-10-31T17:29:55.676Z"
   },
   {
    "duration": 20,
    "start_time": "2022-10-31T17:29:55.691Z"
   },
   {
    "duration": 36,
    "start_time": "2022-10-31T17:29:55.713Z"
   },
   {
    "duration": 44,
    "start_time": "2022-10-31T17:29:55.751Z"
   },
   {
    "duration": 51,
    "start_time": "2022-10-31T17:29:55.797Z"
   },
   {
    "duration": 31,
    "start_time": "2022-10-31T17:29:55.850Z"
   },
   {
    "duration": 29,
    "start_time": "2022-10-31T17:29:55.883Z"
   },
   {
    "duration": 40,
    "start_time": "2022-10-31T17:29:55.914Z"
   },
   {
    "duration": 17,
    "start_time": "2022-10-31T17:29:55.956Z"
   },
   {
    "duration": 314,
    "start_time": "2022-10-31T17:29:55.975Z"
   },
   {
    "duration": 27,
    "start_time": "2022-10-31T17:29:56.291Z"
   },
   {
    "duration": 40,
    "start_time": "2022-10-31T17:29:56.320Z"
   },
   {
    "duration": 16,
    "start_time": "2022-10-31T17:29:56.362Z"
   },
   {
    "duration": 14,
    "start_time": "2022-10-31T17:29:56.379Z"
   },
   {
    "duration": 1209,
    "start_time": "2022-10-31T17:29:56.395Z"
   },
   {
    "duration": 11,
    "start_time": "2022-10-31T17:29:57.606Z"
   },
   {
    "duration": 41,
    "start_time": "2022-10-31T17:29:57.618Z"
   },
   {
    "duration": 12,
    "start_time": "2022-10-31T17:29:57.660Z"
   },
   {
    "duration": 10,
    "start_time": "2022-10-31T17:29:57.673Z"
   },
   {
    "duration": 29,
    "start_time": "2022-10-31T17:29:57.685Z"
   },
   {
    "duration": 291,
    "start_time": "2022-10-31T17:29:57.715Z"
   },
   {
    "duration": 30,
    "start_time": "2022-10-31T17:29:58.008Z"
   },
   {
    "duration": 233,
    "start_time": "2022-10-31T17:29:58.040Z"
   },
   {
    "duration": 347,
    "start_time": "2022-10-31T17:29:58.276Z"
   },
   {
    "duration": 4,
    "start_time": "2022-10-31T17:29:58.625Z"
   },
   {
    "duration": 4,
    "start_time": "2022-10-31T17:29:58.638Z"
   },
   {
    "duration": 535,
    "start_time": "2022-10-31T17:29:58.644Z"
   },
   {
    "duration": 16,
    "start_time": "2022-10-31T17:29:59.181Z"
   },
   {
    "duration": 22,
    "start_time": "2022-10-31T17:29:59.199Z"
   },
   {
    "duration": 12,
    "start_time": "2022-10-31T17:29:59.239Z"
   },
   {
    "duration": 15,
    "start_time": "2022-10-31T17:29:59.253Z"
   },
   {
    "duration": 5,
    "start_time": "2022-10-31T17:29:59.269Z"
   },
   {
    "duration": 9,
    "start_time": "2022-10-31T17:29:59.275Z"
   },
   {
    "duration": 1099,
    "start_time": "2022-10-31T17:30:41.694Z"
   },
   {
    "duration": 135,
    "start_time": "2022-10-31T17:30:42.795Z"
   },
   {
    "duration": 35,
    "start_time": "2022-10-31T17:30:42.932Z"
   },
   {
    "duration": 58,
    "start_time": "2022-10-31T17:30:42.969Z"
   },
   {
    "duration": 16,
    "start_time": "2022-10-31T17:30:43.029Z"
   },
   {
    "duration": 14,
    "start_time": "2022-10-31T17:30:43.047Z"
   },
   {
    "duration": 20,
    "start_time": "2022-10-31T17:30:43.063Z"
   },
   {
    "duration": 66,
    "start_time": "2022-10-31T17:30:43.084Z"
   },
   {
    "duration": 27,
    "start_time": "2022-10-31T17:30:43.152Z"
   },
   {
    "duration": 32,
    "start_time": "2022-10-31T17:30:43.181Z"
   },
   {
    "duration": 48,
    "start_time": "2022-10-31T17:30:43.215Z"
   },
   {
    "duration": 15,
    "start_time": "2022-10-31T17:30:43.265Z"
   },
   {
    "duration": 13,
    "start_time": "2022-10-31T17:30:43.282Z"
   },
   {
    "duration": 331,
    "start_time": "2022-10-31T17:30:43.297Z"
   },
   {
    "duration": 34,
    "start_time": "2022-10-31T17:30:43.630Z"
   },
   {
    "duration": 27,
    "start_time": "2022-10-31T17:30:43.666Z"
   },
   {
    "duration": 17,
    "start_time": "2022-10-31T17:30:43.694Z"
   },
   {
    "duration": 39,
    "start_time": "2022-10-31T17:30:43.713Z"
   },
   {
    "duration": 1063,
    "start_time": "2022-10-31T17:30:43.753Z"
   },
   {
    "duration": 22,
    "start_time": "2022-10-31T17:30:44.818Z"
   },
   {
    "duration": 25,
    "start_time": "2022-10-31T17:30:44.841Z"
   },
   {
    "duration": 11,
    "start_time": "2022-10-31T17:30:44.868Z"
   },
   {
    "duration": 10,
    "start_time": "2022-10-31T17:30:44.880Z"
   },
   {
    "duration": 53,
    "start_time": "2022-10-31T17:30:44.891Z"
   },
   {
    "duration": 272,
    "start_time": "2022-10-31T17:30:44.945Z"
   },
   {
    "duration": 23,
    "start_time": "2022-10-31T17:30:45.218Z"
   },
   {
    "duration": 227,
    "start_time": "2022-10-31T17:30:45.242Z"
   },
   {
    "duration": 326,
    "start_time": "2022-10-31T17:30:45.473Z"
   },
   {
    "duration": 4,
    "start_time": "2022-10-31T17:30:45.801Z"
   },
   {
    "duration": 8,
    "start_time": "2022-10-31T17:30:45.807Z"
   },
   {
    "duration": 486,
    "start_time": "2022-10-31T17:30:45.816Z"
   },
   {
    "duration": 15,
    "start_time": "2022-10-31T17:30:46.304Z"
   },
   {
    "duration": 30,
    "start_time": "2022-10-31T17:30:46.321Z"
   },
   {
    "duration": 11,
    "start_time": "2022-10-31T17:30:46.353Z"
   },
   {
    "duration": 14,
    "start_time": "2022-10-31T17:30:46.366Z"
   },
   {
    "duration": 4,
    "start_time": "2022-10-31T17:30:46.382Z"
   },
   {
    "duration": 8,
    "start_time": "2022-10-31T17:30:46.387Z"
   },
   {
    "duration": 97,
    "start_time": "2022-10-31T17:38:34.244Z"
   },
   {
    "duration": 8,
    "start_time": "2022-10-31T17:41:16.867Z"
   },
   {
    "duration": 9,
    "start_time": "2022-10-31T17:47:32.725Z"
   },
   {
    "duration": 6,
    "start_time": "2022-10-31T17:48:03.193Z"
   },
   {
    "duration": 5,
    "start_time": "2022-10-31T17:50:59.229Z"
   },
   {
    "duration": 1268,
    "start_time": "2022-10-31T17:53:06.401Z"
   },
   {
    "duration": 198,
    "start_time": "2022-10-31T17:53:07.672Z"
   },
   {
    "duration": 61,
    "start_time": "2022-10-31T17:53:07.872Z"
   },
   {
    "duration": 58,
    "start_time": "2022-10-31T17:53:07.936Z"
   },
   {
    "duration": 16,
    "start_time": "2022-10-31T17:53:07.997Z"
   },
   {
    "duration": 38,
    "start_time": "2022-10-31T17:53:08.015Z"
   },
   {
    "duration": 21,
    "start_time": "2022-10-31T17:53:08.055Z"
   },
   {
    "duration": 65,
    "start_time": "2022-10-31T17:53:08.078Z"
   },
   {
    "duration": 33,
    "start_time": "2022-10-31T17:53:08.145Z"
   },
   {
    "duration": 58,
    "start_time": "2022-10-31T17:53:08.182Z"
   },
   {
    "duration": 39,
    "start_time": "2022-10-31T17:53:08.242Z"
   },
   {
    "duration": 19,
    "start_time": "2022-10-31T17:53:08.283Z"
   },
   {
    "duration": 44,
    "start_time": "2022-10-31T17:53:08.305Z"
   },
   {
    "duration": 321,
    "start_time": "2022-10-31T17:53:08.352Z"
   },
   {
    "duration": 30,
    "start_time": "2022-10-31T17:53:08.676Z"
   },
   {
    "duration": 47,
    "start_time": "2022-10-31T17:53:08.708Z"
   },
   {
    "duration": 17,
    "start_time": "2022-10-31T17:53:08.758Z"
   },
   {
    "duration": 15,
    "start_time": "2022-10-31T17:53:08.777Z"
   },
   {
    "duration": 1088,
    "start_time": "2022-10-31T17:53:08.794Z"
   },
   {
    "duration": 11,
    "start_time": "2022-10-31T17:53:09.884Z"
   },
   {
    "duration": 45,
    "start_time": "2022-10-31T17:53:09.896Z"
   },
   {
    "duration": 12,
    "start_time": "2022-10-31T17:53:09.942Z"
   },
   {
    "duration": 11,
    "start_time": "2022-10-31T17:53:09.956Z"
   },
   {
    "duration": 25,
    "start_time": "2022-10-31T17:53:09.968Z"
   },
   {
    "duration": 301,
    "start_time": "2022-10-31T17:53:09.995Z"
   },
   {
    "duration": 18,
    "start_time": "2022-10-31T17:53:10.297Z"
   },
   {
    "duration": 248,
    "start_time": "2022-10-31T17:53:10.317Z"
   },
   {
    "duration": 364,
    "start_time": "2022-10-31T17:53:10.568Z"
   },
   {
    "duration": 4,
    "start_time": "2022-10-31T17:53:10.938Z"
   },
   {
    "duration": 8,
    "start_time": "2022-10-31T17:53:10.944Z"
   },
   {
    "duration": 524,
    "start_time": "2022-10-31T17:53:10.954Z"
   },
   {
    "duration": 17,
    "start_time": "2022-10-31T17:53:11.480Z"
   },
   {
    "duration": 22,
    "start_time": "2022-10-31T17:53:11.499Z"
   },
   {
    "duration": 14,
    "start_time": "2022-10-31T17:53:11.539Z"
   },
   {
    "duration": 15,
    "start_time": "2022-10-31T17:53:11.555Z"
   },
   {
    "duration": 4,
    "start_time": "2022-10-31T17:53:11.572Z"
   },
   {
    "duration": 10,
    "start_time": "2022-10-31T17:53:11.578Z"
   },
   {
    "duration": 12,
    "start_time": "2022-10-31T17:53:11.589Z"
   },
   {
    "duration": 12,
    "start_time": "2022-10-31T18:10:29.743Z"
   },
   {
    "duration": 1111,
    "start_time": "2022-10-31T18:11:04.061Z"
   },
   {
    "duration": 169,
    "start_time": "2022-10-31T18:11:05.174Z"
   },
   {
    "duration": 33,
    "start_time": "2022-10-31T18:11:05.344Z"
   },
   {
    "duration": 57,
    "start_time": "2022-10-31T18:11:05.379Z"
   },
   {
    "duration": 14,
    "start_time": "2022-10-31T18:11:05.438Z"
   },
   {
    "duration": 18,
    "start_time": "2022-10-31T18:11:05.453Z"
   },
   {
    "duration": 19,
    "start_time": "2022-10-31T18:11:05.472Z"
   },
   {
    "duration": 61,
    "start_time": "2022-10-31T18:11:05.493Z"
   },
   {
    "duration": 28,
    "start_time": "2022-10-31T18:11:05.556Z"
   },
   {
    "duration": 53,
    "start_time": "2022-10-31T18:11:05.588Z"
   },
   {
    "duration": 29,
    "start_time": "2022-10-31T18:11:05.643Z"
   },
   {
    "duration": 18,
    "start_time": "2022-10-31T18:11:05.674Z"
   },
   {
    "duration": 48,
    "start_time": "2022-10-31T18:11:05.695Z"
   },
   {
    "duration": 329,
    "start_time": "2022-10-31T18:11:05.745Z"
   },
   {
    "duration": 29,
    "start_time": "2022-10-31T18:11:06.075Z"
   },
   {
    "duration": 45,
    "start_time": "2022-10-31T18:11:06.105Z"
   },
   {
    "duration": 17,
    "start_time": "2022-10-31T18:11:06.151Z"
   },
   {
    "duration": 16,
    "start_time": "2022-10-31T18:11:06.170Z"
   },
   {
    "duration": 1159,
    "start_time": "2022-10-31T18:11:06.187Z"
   },
   {
    "duration": 13,
    "start_time": "2022-10-31T18:11:07.349Z"
   },
   {
    "duration": 37,
    "start_time": "2022-10-31T18:11:07.364Z"
   },
   {
    "duration": 39,
    "start_time": "2022-10-31T18:11:07.404Z"
   },
   {
    "duration": 13,
    "start_time": "2022-10-31T18:11:07.446Z"
   },
   {
    "duration": 42,
    "start_time": "2022-10-31T18:11:07.462Z"
   },
   {
    "duration": 281,
    "start_time": "2022-10-31T18:11:07.507Z"
   },
   {
    "duration": 15,
    "start_time": "2022-10-31T18:11:07.790Z"
   },
   {
    "duration": 234,
    "start_time": "2022-10-31T18:11:07.807Z"
   },
   {
    "duration": 329,
    "start_time": "2022-10-31T18:11:08.044Z"
   },
   {
    "duration": 4,
    "start_time": "2022-10-31T18:11:08.374Z"
   },
   {
    "duration": 6,
    "start_time": "2022-10-31T18:11:08.379Z"
   },
   {
    "duration": 517,
    "start_time": "2022-10-31T18:11:08.387Z"
   },
   {
    "duration": 12,
    "start_time": "2022-10-31T18:11:08.906Z"
   },
   {
    "duration": 32,
    "start_time": "2022-10-31T18:11:08.919Z"
   },
   {
    "duration": 19,
    "start_time": "2022-10-31T18:11:08.952Z"
   },
   {
    "duration": 16,
    "start_time": "2022-10-31T18:11:08.972Z"
   },
   {
    "duration": 21,
    "start_time": "2022-10-31T18:11:08.990Z"
   },
   {
    "duration": 4,
    "start_time": "2022-10-31T18:11:09.012Z"
   },
   {
    "duration": 24,
    "start_time": "2022-10-31T18:11:09.018Z"
   },
   {
    "duration": 10,
    "start_time": "2022-10-31T18:11:09.044Z"
   },
   {
    "duration": 317,
    "start_time": "2022-10-31T18:18:12.200Z"
   },
   {
    "duration": 324,
    "start_time": "2022-10-31T18:18:40.978Z"
   },
   {
    "duration": 1125,
    "start_time": "2022-10-31T18:22:49.364Z"
   },
   {
    "duration": 215,
    "start_time": "2022-10-31T18:22:50.491Z"
   },
   {
    "duration": 30,
    "start_time": "2022-10-31T18:22:50.708Z"
   },
   {
    "duration": 68,
    "start_time": "2022-10-31T18:22:50.741Z"
   },
   {
    "duration": 28,
    "start_time": "2022-10-31T18:22:50.811Z"
   },
   {
    "duration": 15,
    "start_time": "2022-10-31T18:22:50.840Z"
   },
   {
    "duration": 18,
    "start_time": "2022-10-31T18:22:50.857Z"
   },
   {
    "duration": 61,
    "start_time": "2022-10-31T18:22:50.877Z"
   },
   {
    "duration": 27,
    "start_time": "2022-10-31T18:22:50.940Z"
   },
   {
    "duration": 29,
    "start_time": "2022-10-31T18:22:50.970Z"
   },
   {
    "duration": 49,
    "start_time": "2022-10-31T18:22:51.001Z"
   },
   {
    "duration": 18,
    "start_time": "2022-10-31T18:22:51.052Z"
   },
   {
    "duration": 13,
    "start_time": "2022-10-31T18:22:51.072Z"
   },
   {
    "duration": 315,
    "start_time": "2022-10-31T18:22:51.087Z"
   },
   {
    "duration": 35,
    "start_time": "2022-10-31T18:22:51.404Z"
   },
   {
    "duration": 26,
    "start_time": "2022-10-31T18:22:51.441Z"
   },
   {
    "duration": 17,
    "start_time": "2022-10-31T18:22:51.469Z"
   },
   {
    "duration": 15,
    "start_time": "2022-10-31T18:22:51.488Z"
   },
   {
    "duration": 1102,
    "start_time": "2022-10-31T18:22:51.505Z"
   },
   {
    "duration": 9,
    "start_time": "2022-10-31T18:22:52.609Z"
   },
   {
    "duration": 39,
    "start_time": "2022-10-31T18:22:52.620Z"
   },
   {
    "duration": 12,
    "start_time": "2022-10-31T18:22:52.660Z"
   },
   {
    "duration": 10,
    "start_time": "2022-10-31T18:22:52.674Z"
   },
   {
    "duration": 28,
    "start_time": "2022-10-31T18:22:52.686Z"
   },
   {
    "duration": 267,
    "start_time": "2022-10-31T18:22:52.739Z"
   },
   {
    "duration": 14,
    "start_time": "2022-10-31T18:22:53.008Z"
   },
   {
    "duration": 208,
    "start_time": "2022-10-31T18:22:53.039Z"
   },
   {
    "duration": 330,
    "start_time": "2022-10-31T18:22:53.250Z"
   },
   {
    "duration": 4,
    "start_time": "2022-10-31T18:22:53.581Z"
   },
   {
    "duration": 8,
    "start_time": "2022-10-31T18:22:53.587Z"
   },
   {
    "duration": 512,
    "start_time": "2022-10-31T18:22:53.597Z"
   },
   {
    "duration": 12,
    "start_time": "2022-10-31T18:22:54.111Z"
   },
   {
    "duration": 26,
    "start_time": "2022-10-31T18:22:54.125Z"
   },
   {
    "duration": 29,
    "start_time": "2022-10-31T18:22:54.152Z"
   },
   {
    "duration": 11,
    "start_time": "2022-10-31T18:22:54.183Z"
   },
   {
    "duration": 14,
    "start_time": "2022-10-31T18:22:54.195Z"
   },
   {
    "duration": 29,
    "start_time": "2022-10-31T18:22:54.211Z"
   },
   {
    "duration": 3,
    "start_time": "2022-10-31T18:22:54.241Z"
   },
   {
    "duration": 9,
    "start_time": "2022-10-31T18:22:54.246Z"
   },
   {
    "duration": 5,
    "start_time": "2022-10-31T18:26:13.358Z"
   },
   {
    "duration": 33,
    "start_time": "2022-10-31T18:39:57.965Z"
   },
   {
    "duration": 39,
    "start_time": "2022-10-31T18:42:10.574Z"
   },
   {
    "duration": 19,
    "start_time": "2022-10-31T18:43:41.622Z"
   },
   {
    "duration": 16,
    "start_time": "2022-10-31T18:44:08.905Z"
   },
   {
    "duration": 17,
    "start_time": "2022-10-31T18:45:51.932Z"
   },
   {
    "duration": 1252,
    "start_time": "2022-10-31T18:47:08.911Z"
   },
   {
    "duration": 175,
    "start_time": "2022-10-31T18:47:10.166Z"
   },
   {
    "duration": 26,
    "start_time": "2022-10-31T18:47:10.343Z"
   },
   {
    "duration": 75,
    "start_time": "2022-10-31T18:47:10.372Z"
   },
   {
    "duration": 14,
    "start_time": "2022-10-31T18:47:10.449Z"
   },
   {
    "duration": 14,
    "start_time": "2022-10-31T18:47:10.465Z"
   },
   {
    "duration": 20,
    "start_time": "2022-10-31T18:47:10.481Z"
   },
   {
    "duration": 80,
    "start_time": "2022-10-31T18:47:10.503Z"
   },
   {
    "duration": 31,
    "start_time": "2022-10-31T18:47:10.585Z"
   },
   {
    "duration": 38,
    "start_time": "2022-10-31T18:47:10.638Z"
   },
   {
    "duration": 40,
    "start_time": "2022-10-31T18:47:10.678Z"
   },
   {
    "duration": 18,
    "start_time": "2022-10-31T18:47:10.739Z"
   },
   {
    "duration": 13,
    "start_time": "2022-10-31T18:47:10.759Z"
   },
   {
    "duration": 318,
    "start_time": "2022-10-31T18:47:10.774Z"
   },
   {
    "duration": 27,
    "start_time": "2022-10-31T18:47:11.094Z"
   },
   {
    "duration": 39,
    "start_time": "2022-10-31T18:47:11.123Z"
   },
   {
    "duration": 21,
    "start_time": "2022-10-31T18:47:11.164Z"
   },
   {
    "duration": 19,
    "start_time": "2022-10-31T18:47:11.187Z"
   },
   {
    "duration": 1154,
    "start_time": "2022-10-31T18:47:11.208Z"
   },
   {
    "duration": 10,
    "start_time": "2022-10-31T18:47:12.364Z"
   },
   {
    "duration": 26,
    "start_time": "2022-10-31T18:47:12.376Z"
   },
   {
    "duration": 36,
    "start_time": "2022-10-31T18:47:12.404Z"
   },
   {
    "duration": 9,
    "start_time": "2022-10-31T18:47:12.442Z"
   },
   {
    "duration": 29,
    "start_time": "2022-10-31T18:47:12.453Z"
   },
   {
    "duration": 276,
    "start_time": "2022-10-31T18:47:12.483Z"
   },
   {
    "duration": 13,
    "start_time": "2022-10-31T18:47:12.761Z"
   },
   {
    "duration": 224,
    "start_time": "2022-10-31T18:47:12.776Z"
   },
   {
    "duration": 311,
    "start_time": "2022-10-31T18:47:13.003Z"
   },
   {
    "duration": 4,
    "start_time": "2022-10-31T18:47:13.316Z"
   },
   {
    "duration": 20,
    "start_time": "2022-10-31T18:47:13.321Z"
   },
   {
    "duration": 506,
    "start_time": "2022-10-31T18:47:13.342Z"
   },
   {
    "duration": 12,
    "start_time": "2022-10-31T18:47:13.849Z"
   },
   {
    "duration": 16,
    "start_time": "2022-10-31T18:47:13.862Z"
   },
   {
    "duration": 21,
    "start_time": "2022-10-31T18:47:13.879Z"
   },
   {
    "duration": 39,
    "start_time": "2022-10-31T18:47:13.901Z"
   },
   {
    "duration": 14,
    "start_time": "2022-10-31T18:47:13.941Z"
   },
   {
    "duration": 3,
    "start_time": "2022-10-31T18:47:13.956Z"
   },
   {
    "duration": 8,
    "start_time": "2022-10-31T18:47:13.960Z"
   },
   {
    "duration": 5,
    "start_time": "2022-10-31T18:47:13.969Z"
   },
   {
    "duration": 6,
    "start_time": "2022-10-31T18:47:13.975Z"
   },
   {
    "duration": 67,
    "start_time": "2022-10-31T18:47:13.982Z"
   },
   {
    "duration": 15,
    "start_time": "2022-10-31T18:47:14.050Z"
   },
   {
    "duration": 16,
    "start_time": "2022-10-31T18:47:14.067Z"
   },
   {
    "duration": 1164,
    "start_time": "2022-10-31T18:49:18.808Z"
   },
   {
    "duration": 179,
    "start_time": "2022-10-31T18:49:19.974Z"
   },
   {
    "duration": 27,
    "start_time": "2022-10-31T18:49:20.154Z"
   },
   {
    "duration": 60,
    "start_time": "2022-10-31T18:49:20.183Z"
   },
   {
    "duration": 14,
    "start_time": "2022-10-31T18:49:20.245Z"
   },
   {
    "duration": 17,
    "start_time": "2022-10-31T18:49:20.261Z"
   },
   {
    "duration": 21,
    "start_time": "2022-10-31T18:49:20.279Z"
   },
   {
    "duration": 71,
    "start_time": "2022-10-31T18:49:20.301Z"
   },
   {
    "duration": 28,
    "start_time": "2022-10-31T18:49:20.374Z"
   },
   {
    "duration": 51,
    "start_time": "2022-10-31T18:49:20.406Z"
   },
   {
    "duration": 28,
    "start_time": "2022-10-31T18:49:20.459Z"
   },
   {
    "duration": 16,
    "start_time": "2022-10-31T18:49:20.488Z"
   },
   {
    "duration": 39,
    "start_time": "2022-10-31T18:49:20.505Z"
   },
   {
    "duration": 321,
    "start_time": "2022-10-31T18:49:20.546Z"
   },
   {
    "duration": 28,
    "start_time": "2022-10-31T18:49:20.869Z"
   },
   {
    "duration": 42,
    "start_time": "2022-10-31T18:49:20.898Z"
   },
   {
    "duration": 17,
    "start_time": "2022-10-31T18:49:20.941Z"
   },
   {
    "duration": 14,
    "start_time": "2022-10-31T18:49:20.959Z"
   },
   {
    "duration": 1060,
    "start_time": "2022-10-31T18:49:20.974Z"
   },
   {
    "duration": 10,
    "start_time": "2022-10-31T18:49:22.039Z"
   },
   {
    "duration": 26,
    "start_time": "2022-10-31T18:49:22.051Z"
   },
   {
    "duration": 11,
    "start_time": "2022-10-31T18:49:22.079Z"
   },
   {
    "duration": 10,
    "start_time": "2022-10-31T18:49:22.092Z"
   },
   {
    "duration": 61,
    "start_time": "2022-10-31T18:49:22.104Z"
   },
   {
    "duration": 265,
    "start_time": "2022-10-31T18:49:22.166Z"
   },
   {
    "duration": 14,
    "start_time": "2022-10-31T18:49:22.438Z"
   },
   {
    "duration": 232,
    "start_time": "2022-10-31T18:49:22.455Z"
   },
   {
    "duration": 311,
    "start_time": "2022-10-31T18:49:22.690Z"
   },
   {
    "duration": 3,
    "start_time": "2022-10-31T18:49:23.002Z"
   },
   {
    "duration": 8,
    "start_time": "2022-10-31T18:49:23.007Z"
   },
   {
    "duration": 507,
    "start_time": "2022-10-31T18:49:23.016Z"
   },
   {
    "duration": 15,
    "start_time": "2022-10-31T18:49:23.525Z"
   },
   {
    "duration": 16,
    "start_time": "2022-10-31T18:49:23.541Z"
   },
   {
    "duration": 19,
    "start_time": "2022-10-31T18:49:23.558Z"
   },
   {
    "duration": 10,
    "start_time": "2022-10-31T18:49:23.578Z"
   },
   {
    "duration": 20,
    "start_time": "2022-10-31T18:49:23.590Z"
   },
   {
    "duration": 29,
    "start_time": "2022-10-31T18:49:23.611Z"
   },
   {
    "duration": 5,
    "start_time": "2022-10-31T18:49:23.641Z"
   },
   {
    "duration": 8,
    "start_time": "2022-10-31T18:49:23.648Z"
   },
   {
    "duration": 6,
    "start_time": "2022-10-31T18:49:23.657Z"
   },
   {
    "duration": 38,
    "start_time": "2022-10-31T18:49:23.665Z"
   },
   {
    "duration": 37,
    "start_time": "2022-10-31T18:49:23.705Z"
   },
   {
    "duration": 17,
    "start_time": "2022-10-31T18:49:23.744Z"
   },
   {
    "duration": 16,
    "start_time": "2022-10-31T18:50:33.140Z"
   },
   {
    "duration": 13,
    "start_time": "2022-10-31T18:51:11.823Z"
   },
   {
    "duration": 13,
    "start_time": "2022-10-31T18:52:00.275Z"
   },
   {
    "duration": 11,
    "start_time": "2022-10-31T18:53:00.207Z"
   },
   {
    "duration": 12,
    "start_time": "2022-10-31T19:05:34.988Z"
   },
   {
    "duration": 15,
    "start_time": "2022-10-31T19:06:20.388Z"
   },
   {
    "duration": 17,
    "start_time": "2022-10-31T19:07:58.315Z"
   },
   {
    "duration": 22,
    "start_time": "2022-10-31T19:09:15.324Z"
   },
   {
    "duration": 25,
    "start_time": "2022-10-31T19:10:30.423Z"
   },
   {
    "duration": 15,
    "start_time": "2022-10-31T19:27:40.539Z"
   },
   {
    "duration": 270,
    "start_time": "2022-10-31T19:29:47.354Z"
   },
   {
    "duration": 266,
    "start_time": "2022-10-31T19:31:30.322Z"
   },
   {
    "duration": 1147,
    "start_time": "2022-10-31T19:34:10.869Z"
   },
   {
    "duration": 214,
    "start_time": "2022-10-31T19:34:12.018Z"
   },
   {
    "duration": 88,
    "start_time": "2022-10-31T19:34:12.233Z"
   },
   {
    "duration": 59,
    "start_time": "2022-10-31T19:34:12.324Z"
   },
   {
    "duration": 14,
    "start_time": "2022-10-31T19:34:12.385Z"
   },
   {
    "duration": 16,
    "start_time": "2022-10-31T19:34:12.401Z"
   },
   {
    "duration": 20,
    "start_time": "2022-10-31T19:34:12.438Z"
   },
   {
    "duration": 39,
    "start_time": "2022-10-31T19:34:12.460Z"
   },
   {
    "duration": 52,
    "start_time": "2022-10-31T19:34:12.501Z"
   },
   {
    "duration": 32,
    "start_time": "2022-10-31T19:34:12.556Z"
   },
   {
    "duration": 30,
    "start_time": "2022-10-31T19:34:12.590Z"
   },
   {
    "duration": 16,
    "start_time": "2022-10-31T19:34:12.638Z"
   },
   {
    "duration": 12,
    "start_time": "2022-10-31T19:34:12.656Z"
   },
   {
    "duration": 305,
    "start_time": "2022-10-31T19:34:12.670Z"
   },
   {
    "duration": 28,
    "start_time": "2022-10-31T19:34:12.976Z"
   },
   {
    "duration": 39,
    "start_time": "2022-10-31T19:34:13.006Z"
   },
   {
    "duration": 16,
    "start_time": "2022-10-31T19:34:13.046Z"
   },
   {
    "duration": 13,
    "start_time": "2022-10-31T19:34:13.064Z"
   },
   {
    "duration": 1065,
    "start_time": "2022-10-31T19:34:13.079Z"
   },
   {
    "duration": 10,
    "start_time": "2022-10-31T19:34:14.145Z"
   },
   {
    "duration": 26,
    "start_time": "2022-10-31T19:34:14.156Z"
   },
   {
    "duration": 11,
    "start_time": "2022-10-31T19:34:14.183Z"
   },
   {
    "duration": 9,
    "start_time": "2022-10-31T19:34:14.196Z"
   },
   {
    "duration": 260,
    "start_time": "2022-10-31T19:34:14.239Z"
   },
   {
    "duration": 28,
    "start_time": "2022-10-31T19:34:14.500Z"
   },
   {
    "duration": 265,
    "start_time": "2022-10-31T19:34:14.538Z"
   },
   {
    "duration": 14,
    "start_time": "2022-10-31T19:34:14.804Z"
   },
   {
    "duration": 221,
    "start_time": "2022-10-31T19:34:14.820Z"
   },
   {
    "duration": 436,
    "start_time": "2022-10-31T19:34:15.042Z"
   },
   {
    "duration": 4,
    "start_time": "2022-10-31T19:34:15.479Z"
   },
   {
    "duration": 7,
    "start_time": "2022-10-31T19:34:15.484Z"
   },
   {
    "duration": 407,
    "start_time": "2022-10-31T19:34:15.492Z"
   },
   {
    "duration": 11,
    "start_time": "2022-10-31T19:34:15.900Z"
   },
   {
    "duration": 27,
    "start_time": "2022-10-31T19:34:15.912Z"
   },
   {
    "duration": 19,
    "start_time": "2022-10-31T19:34:15.940Z"
   },
   {
    "duration": 10,
    "start_time": "2022-10-31T19:34:15.961Z"
   },
   {
    "duration": 14,
    "start_time": "2022-10-31T19:34:15.973Z"
   },
   {
    "duration": 4,
    "start_time": "2022-10-31T19:34:15.988Z"
   },
   {
    "duration": 5,
    "start_time": "2022-10-31T19:34:15.994Z"
   },
   {
    "duration": 40,
    "start_time": "2022-10-31T19:34:16.000Z"
   },
   {
    "duration": 10,
    "start_time": "2022-10-31T19:34:16.041Z"
   },
   {
    "duration": 36,
    "start_time": "2022-10-31T19:34:16.052Z"
   },
   {
    "duration": 24,
    "start_time": "2022-10-31T19:34:16.089Z"
   },
   {
    "duration": 31,
    "start_time": "2022-10-31T19:34:16.114Z"
   },
   {
    "duration": 15,
    "start_time": "2022-10-31T19:34:16.146Z"
   },
   {
    "duration": 19,
    "start_time": "2022-10-31T19:37:47.485Z"
   },
   {
    "duration": 198,
    "start_time": "2022-10-31T19:38:21.006Z"
   },
   {
    "duration": 15,
    "start_time": "2022-10-31T19:41:57.913Z"
   },
   {
    "duration": 18,
    "start_time": "2022-10-31T19:43:23.404Z"
   },
   {
    "duration": 12,
    "start_time": "2022-10-31T19:45:27.021Z"
   },
   {
    "duration": 14,
    "start_time": "2022-10-31T19:45:48.712Z"
   },
   {
    "duration": 17,
    "start_time": "2022-10-31T19:48:10.682Z"
   },
   {
    "duration": 1247,
    "start_time": "2022-10-31T19:52:09.108Z"
   },
   {
    "duration": 178,
    "start_time": "2022-10-31T19:52:10.357Z"
   },
   {
    "duration": 32,
    "start_time": "2022-10-31T19:52:10.538Z"
   },
   {
    "duration": 66,
    "start_time": "2022-10-31T19:52:10.573Z"
   },
   {
    "duration": 19,
    "start_time": "2022-10-31T19:52:10.642Z"
   },
   {
    "duration": 25,
    "start_time": "2022-10-31T19:52:10.662Z"
   },
   {
    "duration": 21,
    "start_time": "2022-10-31T19:52:10.689Z"
   },
   {
    "duration": 77,
    "start_time": "2022-10-31T19:52:10.712Z"
   },
   {
    "duration": 29,
    "start_time": "2022-10-31T19:52:10.790Z"
   },
   {
    "duration": 52,
    "start_time": "2022-10-31T19:52:10.821Z"
   },
   {
    "duration": 27,
    "start_time": "2022-10-31T19:52:10.875Z"
   },
   {
    "duration": 36,
    "start_time": "2022-10-31T19:52:10.904Z"
   },
   {
    "duration": 18,
    "start_time": "2022-10-31T19:52:10.942Z"
   },
   {
    "duration": 327,
    "start_time": "2022-10-31T19:52:10.962Z"
   },
   {
    "duration": 32,
    "start_time": "2022-10-31T19:52:11.291Z"
   },
   {
    "duration": 45,
    "start_time": "2022-10-31T19:52:11.325Z"
   },
   {
    "duration": 16,
    "start_time": "2022-10-31T19:52:11.371Z"
   },
   {
    "duration": 14,
    "start_time": "2022-10-31T19:52:11.388Z"
   },
   {
    "duration": 1145,
    "start_time": "2022-10-31T19:52:11.404Z"
   },
   {
    "duration": 10,
    "start_time": "2022-10-31T19:52:12.552Z"
   },
   {
    "duration": 26,
    "start_time": "2022-10-31T19:52:12.564Z"
   },
   {
    "duration": 11,
    "start_time": "2022-10-31T19:52:12.591Z"
   },
   {
    "duration": 40,
    "start_time": "2022-10-31T19:52:12.604Z"
   },
   {
    "duration": 279,
    "start_time": "2022-10-31T19:52:12.646Z"
   },
   {
    "duration": 35,
    "start_time": "2022-10-31T19:52:12.927Z"
   },
   {
    "duration": 286,
    "start_time": "2022-10-31T19:52:12.964Z"
   },
   {
    "duration": 17,
    "start_time": "2022-10-31T19:52:13.252Z"
   },
   {
    "duration": 239,
    "start_time": "2022-10-31T19:52:13.272Z"
   },
   {
    "duration": 492,
    "start_time": "2022-10-31T19:52:13.513Z"
   },
   {
    "duration": 4,
    "start_time": "2022-10-31T19:52:14.007Z"
   },
   {
    "duration": 6,
    "start_time": "2022-10-31T19:52:14.012Z"
   },
   {
    "duration": 443,
    "start_time": "2022-10-31T19:52:14.019Z"
   },
   {
    "duration": 15,
    "start_time": "2022-10-31T19:52:14.464Z"
   },
   {
    "duration": 13,
    "start_time": "2022-10-31T19:52:14.480Z"
   },
   {
    "duration": 15,
    "start_time": "2022-10-31T19:52:14.495Z"
   },
   {
    "duration": 32,
    "start_time": "2022-10-31T19:52:14.512Z"
   },
   {
    "duration": 6,
    "start_time": "2022-10-31T19:52:14.547Z"
   },
   {
    "duration": 15,
    "start_time": "2022-10-31T19:52:14.555Z"
   },
   {
    "duration": 6,
    "start_time": "2022-10-31T19:52:14.572Z"
   },
   {
    "duration": 42,
    "start_time": "2022-10-31T19:52:14.579Z"
   },
   {
    "duration": 31,
    "start_time": "2022-10-31T19:52:14.639Z"
   },
   {
    "duration": 14,
    "start_time": "2022-10-31T19:52:14.672Z"
   },
   {
    "duration": 16,
    "start_time": "2022-10-31T19:52:14.687Z"
   },
   {
    "duration": 26,
    "start_time": "2022-10-31T19:58:12.592Z"
   },
   {
    "duration": 25,
    "start_time": "2022-10-31T20:00:03.890Z"
   },
   {
    "duration": 29,
    "start_time": "2022-10-31T20:00:37.224Z"
   },
   {
    "duration": 1176,
    "start_time": "2022-10-31T20:00:46.789Z"
   },
   {
    "duration": 207,
    "start_time": "2022-10-31T20:00:47.967Z"
   },
   {
    "duration": 32,
    "start_time": "2022-10-31T20:00:48.176Z"
   },
   {
    "duration": 55,
    "start_time": "2022-10-31T20:00:48.210Z"
   },
   {
    "duration": 13,
    "start_time": "2022-10-31T20:00:48.267Z"
   },
   {
    "duration": 15,
    "start_time": "2022-10-31T20:00:48.282Z"
   },
   {
    "duration": 44,
    "start_time": "2022-10-31T20:00:48.298Z"
   },
   {
    "duration": 39,
    "start_time": "2022-10-31T20:00:48.344Z"
   },
   {
    "duration": 26,
    "start_time": "2022-10-31T20:00:48.384Z"
   },
   {
    "duration": 47,
    "start_time": "2022-10-31T20:00:48.412Z"
   },
   {
    "duration": 27,
    "start_time": "2022-10-31T20:00:48.460Z"
   },
   {
    "duration": 17,
    "start_time": "2022-10-31T20:00:48.489Z"
   },
   {
    "duration": 42,
    "start_time": "2022-10-31T20:00:48.507Z"
   },
   {
    "duration": 314,
    "start_time": "2022-10-31T20:00:48.550Z"
   },
   {
    "duration": 29,
    "start_time": "2022-10-31T20:00:48.866Z"
   },
   {
    "duration": 50,
    "start_time": "2022-10-31T20:00:48.897Z"
   },
   {
    "duration": 19,
    "start_time": "2022-10-31T20:00:48.948Z"
   },
   {
    "duration": 15,
    "start_time": "2022-10-31T20:00:48.969Z"
   },
   {
    "duration": 1029,
    "start_time": "2022-10-31T20:00:48.986Z"
   },
   {
    "duration": 10,
    "start_time": "2022-10-31T20:00:50.017Z"
   },
   {
    "duration": 34,
    "start_time": "2022-10-31T20:00:50.028Z"
   },
   {
    "duration": 10,
    "start_time": "2022-10-31T20:00:50.063Z"
   },
   {
    "duration": 9,
    "start_time": "2022-10-31T20:00:50.075Z"
   },
   {
    "duration": 285,
    "start_time": "2022-10-31T20:00:50.086Z"
   },
   {
    "duration": 29,
    "start_time": "2022-10-31T20:00:50.373Z"
   },
   {
    "duration": 279,
    "start_time": "2022-10-31T20:00:50.403Z"
   },
   {
    "duration": 19,
    "start_time": "2022-10-31T20:00:50.684Z"
   },
   {
    "duration": 223,
    "start_time": "2022-10-31T20:00:50.707Z"
   },
   {
    "duration": 449,
    "start_time": "2022-10-31T20:00:50.931Z"
   },
   {
    "duration": 5,
    "start_time": "2022-10-31T20:00:51.382Z"
   },
   {
    "duration": 6,
    "start_time": "2022-10-31T20:00:51.388Z"
   },
   {
    "duration": 410,
    "start_time": "2022-10-31T20:00:51.396Z"
   },
   {
    "duration": 15,
    "start_time": "2022-10-31T20:00:51.807Z"
   },
   {
    "duration": 26,
    "start_time": "2022-10-31T20:00:51.824Z"
   },
   {
    "duration": 16,
    "start_time": "2022-10-31T20:00:51.852Z"
   },
   {
    "duration": 4,
    "start_time": "2022-10-31T20:00:51.869Z"
   },
   {
    "duration": 7,
    "start_time": "2022-10-31T20:00:51.875Z"
   },
   {
    "duration": 6,
    "start_time": "2022-10-31T20:00:51.883Z"
   },
   {
    "duration": 6,
    "start_time": "2022-10-31T20:00:51.891Z"
   },
   {
    "duration": 64,
    "start_time": "2022-10-31T20:00:51.899Z"
   },
   {
    "duration": 25,
    "start_time": "2022-10-31T20:00:51.965Z"
   },
   {
    "duration": 16,
    "start_time": "2022-10-31T20:00:51.992Z"
   },
   {
    "duration": 43,
    "start_time": "2022-10-31T20:00:52.009Z"
   },
   {
    "duration": 28,
    "start_time": "2022-10-31T20:02:24.663Z"
   },
   {
    "duration": 26,
    "start_time": "2022-10-31T20:03:02.985Z"
   },
   {
    "duration": 20,
    "start_time": "2022-10-31T20:03:11.642Z"
   },
   {
    "duration": 35,
    "start_time": "2022-10-31T20:22:04.225Z"
   },
   {
    "duration": 20,
    "start_time": "2022-10-31T20:23:50.593Z"
   },
   {
    "duration": 1129,
    "start_time": "2022-10-31T20:35:50.878Z"
   },
   {
    "duration": 214,
    "start_time": "2022-10-31T20:35:52.009Z"
   },
   {
    "duration": 70,
    "start_time": "2022-10-31T20:35:52.224Z"
   },
   {
    "duration": 64,
    "start_time": "2022-10-31T20:35:52.296Z"
   },
   {
    "duration": 14,
    "start_time": "2022-10-31T20:35:52.362Z"
   },
   {
    "duration": 15,
    "start_time": "2022-10-31T20:35:52.378Z"
   },
   {
    "duration": 21,
    "start_time": "2022-10-31T20:35:52.394Z"
   },
   {
    "duration": 83,
    "start_time": "2022-10-31T20:35:52.416Z"
   },
   {
    "duration": 33,
    "start_time": "2022-10-31T20:35:52.500Z"
   },
   {
    "duration": 40,
    "start_time": "2022-10-31T20:35:52.541Z"
   },
   {
    "duration": 27,
    "start_time": "2022-10-31T20:35:52.583Z"
   },
   {
    "duration": 47,
    "start_time": "2022-10-31T20:35:52.612Z"
   },
   {
    "duration": 14,
    "start_time": "2022-10-31T20:35:52.660Z"
   },
   {
    "duration": 330,
    "start_time": "2022-10-31T20:35:52.676Z"
   },
   {
    "duration": 38,
    "start_time": "2022-10-31T20:35:53.007Z"
   },
   {
    "duration": 27,
    "start_time": "2022-10-31T20:35:53.047Z"
   },
   {
    "duration": 16,
    "start_time": "2022-10-31T20:35:53.075Z"
   },
   {
    "duration": 13,
    "start_time": "2022-10-31T20:35:53.092Z"
   },
   {
    "duration": 1091,
    "start_time": "2022-10-31T20:35:53.107Z"
   },
   {
    "duration": 9,
    "start_time": "2022-10-31T20:35:54.200Z"
   },
   {
    "duration": 48,
    "start_time": "2022-10-31T20:35:54.211Z"
   },
   {
    "duration": 11,
    "start_time": "2022-10-31T20:35:54.260Z"
   },
   {
    "duration": 9,
    "start_time": "2022-10-31T20:35:54.272Z"
   },
   {
    "duration": 295,
    "start_time": "2022-10-31T20:35:54.282Z"
   },
   {
    "duration": 24,
    "start_time": "2022-10-31T20:35:54.578Z"
   },
   {
    "duration": 280,
    "start_time": "2022-10-31T20:35:54.604Z"
   },
   {
    "duration": 16,
    "start_time": "2022-10-31T20:35:54.885Z"
   },
   {
    "duration": 221,
    "start_time": "2022-10-31T20:35:54.904Z"
   },
   {
    "duration": 486,
    "start_time": "2022-10-31T20:35:55.127Z"
   },
   {
    "duration": 4,
    "start_time": "2022-10-31T20:35:55.615Z"
   },
   {
    "duration": 7,
    "start_time": "2022-10-31T20:35:55.621Z"
   },
   {
    "duration": 428,
    "start_time": "2022-10-31T20:35:55.640Z"
   },
   {
    "duration": 13,
    "start_time": "2022-10-31T20:35:56.070Z"
   },
   {
    "duration": 14,
    "start_time": "2022-10-31T20:35:56.084Z"
   },
   {
    "duration": 12,
    "start_time": "2022-10-31T20:35:56.100Z"
   },
   {
    "duration": 3,
    "start_time": "2022-10-31T20:35:56.114Z"
   },
   {
    "duration": 26,
    "start_time": "2022-10-31T20:35:56.118Z"
   },
   {
    "duration": 16,
    "start_time": "2022-10-31T20:35:56.148Z"
   },
   {
    "duration": 6,
    "start_time": "2022-10-31T20:35:56.165Z"
   },
   {
    "duration": 36,
    "start_time": "2022-10-31T20:35:56.172Z"
   },
   {
    "duration": 48,
    "start_time": "2022-10-31T20:35:56.210Z"
   },
   {
    "duration": 20,
    "start_time": "2022-10-31T20:35:56.260Z"
   },
   {
    "duration": 1111,
    "start_time": "2022-10-31T20:47:18.058Z"
   },
   {
    "duration": 185,
    "start_time": "2022-10-31T20:47:19.171Z"
   },
   {
    "duration": 27,
    "start_time": "2022-10-31T20:47:19.358Z"
   },
   {
    "duration": 53,
    "start_time": "2022-10-31T20:47:19.387Z"
   },
   {
    "duration": 23,
    "start_time": "2022-10-31T20:47:19.441Z"
   },
   {
    "duration": 16,
    "start_time": "2022-10-31T20:47:19.465Z"
   },
   {
    "duration": 19,
    "start_time": "2022-10-31T20:47:19.483Z"
   },
   {
    "duration": 67,
    "start_time": "2022-10-31T20:47:19.504Z"
   },
   {
    "duration": 29,
    "start_time": "2022-10-31T20:47:19.572Z"
   },
   {
    "duration": 48,
    "start_time": "2022-10-31T20:47:19.604Z"
   },
   {
    "duration": 27,
    "start_time": "2022-10-31T20:47:19.653Z"
   },
   {
    "duration": 15,
    "start_time": "2022-10-31T20:47:19.682Z"
   },
   {
    "duration": 13,
    "start_time": "2022-10-31T20:47:19.698Z"
   },
   {
    "duration": 299,
    "start_time": "2022-10-31T20:47:19.713Z"
   },
   {
    "duration": 37,
    "start_time": "2022-10-31T20:47:20.013Z"
   },
   {
    "duration": 26,
    "start_time": "2022-10-31T20:47:20.051Z"
   },
   {
    "duration": 17,
    "start_time": "2022-10-31T20:47:20.079Z"
   },
   {
    "duration": 44,
    "start_time": "2022-10-31T20:47:20.098Z"
   },
   {
    "duration": 1048,
    "start_time": "2022-10-31T20:47:20.143Z"
   },
   {
    "duration": 9,
    "start_time": "2022-10-31T20:47:21.193Z"
   },
   {
    "duration": 38,
    "start_time": "2022-10-31T20:47:21.204Z"
   },
   {
    "duration": 12,
    "start_time": "2022-10-31T20:47:21.244Z"
   },
   {
    "duration": 9,
    "start_time": "2022-10-31T20:47:21.257Z"
   },
   {
    "duration": 278,
    "start_time": "2022-10-31T20:47:21.268Z"
   },
   {
    "duration": 26,
    "start_time": "2022-10-31T20:47:21.548Z"
   },
   {
    "duration": 268,
    "start_time": "2022-10-31T20:47:21.576Z"
   },
   {
    "duration": 18,
    "start_time": "2022-10-31T20:47:21.845Z"
   },
   {
    "duration": 220,
    "start_time": "2022-10-31T20:47:21.866Z"
   },
   {
    "duration": 433,
    "start_time": "2022-10-31T20:47:22.087Z"
   },
   {
    "duration": 16,
    "start_time": "2022-10-31T20:47:22.522Z"
   },
   {
    "duration": 4,
    "start_time": "2022-10-31T20:47:22.540Z"
   },
   {
    "duration": 382,
    "start_time": "2022-10-31T20:47:22.546Z"
   },
   {
    "duration": 16,
    "start_time": "2022-10-31T20:47:22.930Z"
   },
   {
    "duration": 11,
    "start_time": "2022-10-31T20:47:22.948Z"
   },
   {
    "duration": 12,
    "start_time": "2022-10-31T20:47:22.961Z"
   },
   {
    "duration": 3,
    "start_time": "2022-10-31T20:47:22.975Z"
   },
   {
    "duration": 5,
    "start_time": "2022-10-31T20:47:22.979Z"
   },
   {
    "duration": 11,
    "start_time": "2022-10-31T20:47:22.986Z"
   },
   {
    "duration": 9,
    "start_time": "2022-10-31T20:47:22.999Z"
   },
   {
    "duration": 60,
    "start_time": "2022-10-31T20:47:23.009Z"
   },
   {
    "duration": 26,
    "start_time": "2022-10-31T20:47:23.071Z"
   },
   {
    "duration": 20,
    "start_time": "2022-10-31T20:47:23.099Z"
   },
   {
    "duration": 52,
    "start_time": "2022-11-02T10:47:08.605Z"
   },
   {
    "duration": 1290,
    "start_time": "2022-11-02T10:47:18.530Z"
   },
   {
    "duration": 159,
    "start_time": "2022-11-02T10:47:19.822Z"
   },
   {
    "duration": 65,
    "start_time": "2022-11-02T10:47:19.982Z"
   },
   {
    "duration": 53,
    "start_time": "2022-11-02T10:47:20.049Z"
   },
   {
    "duration": 13,
    "start_time": "2022-11-02T10:47:20.104Z"
   },
   {
    "duration": 17,
    "start_time": "2022-11-02T10:47:20.118Z"
   },
   {
    "duration": 38,
    "start_time": "2022-11-02T10:47:20.136Z"
   },
   {
    "duration": 40,
    "start_time": "2022-11-02T10:47:20.176Z"
   },
   {
    "duration": 25,
    "start_time": "2022-11-02T10:47:20.218Z"
   },
   {
    "duration": 35,
    "start_time": "2022-11-02T10:47:20.246Z"
   },
   {
    "duration": 43,
    "start_time": "2022-11-02T10:47:20.282Z"
   },
   {
    "duration": 15,
    "start_time": "2022-11-02T10:47:20.326Z"
   },
   {
    "duration": 27,
    "start_time": "2022-11-02T10:47:20.343Z"
   },
   {
    "duration": 290,
    "start_time": "2022-11-02T10:47:20.372Z"
   },
   {
    "duration": 26,
    "start_time": "2022-11-02T10:47:20.664Z"
   },
   {
    "duration": 37,
    "start_time": "2022-11-02T10:47:20.692Z"
   },
   {
    "duration": 17,
    "start_time": "2022-11-02T10:47:20.730Z"
   },
   {
    "duration": 15,
    "start_time": "2022-11-02T10:47:20.748Z"
   },
   {
    "duration": 946,
    "start_time": "2022-11-02T10:47:20.764Z"
   },
   {
    "duration": 9,
    "start_time": "2022-11-02T10:47:21.711Z"
   },
   {
    "duration": 38,
    "start_time": "2022-11-02T10:47:21.722Z"
   },
   {
    "duration": 11,
    "start_time": "2022-11-02T10:47:21.761Z"
   },
   {
    "duration": 8,
    "start_time": "2022-11-02T10:47:21.774Z"
   },
   {
    "duration": 263,
    "start_time": "2022-11-02T10:47:21.784Z"
   },
   {
    "duration": 27,
    "start_time": "2022-11-02T10:47:22.048Z"
   },
   {
    "duration": 266,
    "start_time": "2022-11-02T10:47:22.077Z"
   },
   {
    "duration": 17,
    "start_time": "2022-11-02T10:47:22.345Z"
   },
   {
    "duration": 229,
    "start_time": "2022-11-02T10:47:22.366Z"
   },
   {
    "duration": 501,
    "start_time": "2022-11-02T10:47:22.597Z"
   },
   {
    "duration": 3,
    "start_time": "2022-11-02T10:47:23.100Z"
   },
   {
    "duration": 19,
    "start_time": "2022-11-02T10:47:23.109Z"
   },
   {
    "duration": 401,
    "start_time": "2022-11-02T10:47:23.130Z"
   },
   {
    "duration": 14,
    "start_time": "2022-11-02T10:47:23.532Z"
   },
   {
    "duration": 24,
    "start_time": "2022-11-02T10:47:23.547Z"
   },
   {
    "duration": 25,
    "start_time": "2022-11-02T10:47:23.573Z"
   },
   {
    "duration": 15,
    "start_time": "2022-11-02T10:47:23.600Z"
   },
   {
    "duration": 10,
    "start_time": "2022-11-02T10:47:23.617Z"
   },
   {
    "duration": 13,
    "start_time": "2022-11-02T10:47:23.628Z"
   },
   {
    "duration": 9,
    "start_time": "2022-11-02T10:47:23.642Z"
   },
   {
    "duration": 49,
    "start_time": "2022-11-02T10:47:23.653Z"
   },
   {
    "duration": 61,
    "start_time": "2022-11-02T10:47:23.704Z"
   },
   {
    "duration": 18,
    "start_time": "2022-11-02T10:47:23.767Z"
   },
   {
    "duration": 4,
    "start_time": "2022-11-02T10:47:23.787Z"
   },
   {
    "duration": 13,
    "start_time": "2022-11-02T10:52:14.113Z"
   },
   {
    "duration": 30,
    "start_time": "2022-11-02T10:52:50.624Z"
   },
   {
    "duration": 18,
    "start_time": "2022-11-02T10:53:17.741Z"
   },
   {
    "duration": 33,
    "start_time": "2022-11-02T10:53:37.205Z"
   },
   {
    "duration": 16,
    "start_time": "2022-11-02T10:54:37.912Z"
   },
   {
    "duration": 25,
    "start_time": "2022-11-02T10:55:58.426Z"
   },
   {
    "duration": 25,
    "start_time": "2022-11-02T10:57:24.096Z"
   },
   {
    "duration": 23,
    "start_time": "2022-11-02T11:01:14.841Z"
   },
   {
    "duration": 63,
    "start_time": "2022-11-02T11:53:30.468Z"
   },
   {
    "duration": 18,
    "start_time": "2022-11-02T11:54:01.897Z"
   },
   {
    "duration": 48,
    "start_time": "2022-11-02T14:05:26.228Z"
   },
   {
    "duration": 1467,
    "start_time": "2022-11-02T14:05:36.436Z"
   },
   {
    "duration": 279,
    "start_time": "2022-11-02T14:05:37.905Z"
   },
   {
    "duration": 90,
    "start_time": "2022-11-02T14:05:38.186Z"
   },
   {
    "duration": 63,
    "start_time": "2022-11-02T14:05:38.279Z"
   },
   {
    "duration": 28,
    "start_time": "2022-11-02T14:05:38.344Z"
   },
   {
    "duration": 71,
    "start_time": "2022-11-02T14:05:38.391Z"
   },
   {
    "duration": 0,
    "start_time": "2022-11-02T14:05:38.465Z"
   },
   {
    "duration": 0,
    "start_time": "2022-11-02T14:05:38.467Z"
   },
   {
    "duration": 0,
    "start_time": "2022-11-02T14:05:38.469Z"
   },
   {
    "duration": 0,
    "start_time": "2022-11-02T14:05:38.470Z"
   },
   {
    "duration": 0,
    "start_time": "2022-11-02T14:05:38.472Z"
   },
   {
    "duration": 0,
    "start_time": "2022-11-02T14:05:38.473Z"
   },
   {
    "duration": 0,
    "start_time": "2022-11-02T14:05:38.475Z"
   },
   {
    "duration": 0,
    "start_time": "2022-11-02T14:05:38.476Z"
   },
   {
    "duration": 0,
    "start_time": "2022-11-02T14:05:38.478Z"
   },
   {
    "duration": 0,
    "start_time": "2022-11-02T14:05:38.479Z"
   },
   {
    "duration": 0,
    "start_time": "2022-11-02T14:05:38.480Z"
   },
   {
    "duration": 0,
    "start_time": "2022-11-02T14:05:38.481Z"
   },
   {
    "duration": 0,
    "start_time": "2022-11-02T14:05:38.483Z"
   },
   {
    "duration": 0,
    "start_time": "2022-11-02T14:05:38.484Z"
   },
   {
    "duration": 0,
    "start_time": "2022-11-02T14:05:38.485Z"
   },
   {
    "duration": 0,
    "start_time": "2022-11-02T14:05:38.487Z"
   },
   {
    "duration": 0,
    "start_time": "2022-11-02T14:05:38.488Z"
   },
   {
    "duration": 0,
    "start_time": "2022-11-02T14:05:38.490Z"
   },
   {
    "duration": 0,
    "start_time": "2022-11-02T14:05:38.491Z"
   },
   {
    "duration": 0,
    "start_time": "2022-11-02T14:05:38.492Z"
   },
   {
    "duration": 0,
    "start_time": "2022-11-02T14:05:38.494Z"
   },
   {
    "duration": 0,
    "start_time": "2022-11-02T14:05:38.495Z"
   },
   {
    "duration": 0,
    "start_time": "2022-11-02T14:05:38.496Z"
   },
   {
    "duration": 0,
    "start_time": "2022-11-02T14:05:38.497Z"
   },
   {
    "duration": 0,
    "start_time": "2022-11-02T14:05:38.498Z"
   },
   {
    "duration": 0,
    "start_time": "2022-11-02T14:05:38.499Z"
   },
   {
    "duration": 0,
    "start_time": "2022-11-02T14:05:38.501Z"
   },
   {
    "duration": 0,
    "start_time": "2022-11-02T14:05:38.502Z"
   },
   {
    "duration": 0,
    "start_time": "2022-11-02T14:05:38.503Z"
   },
   {
    "duration": 0,
    "start_time": "2022-11-02T14:05:38.504Z"
   },
   {
    "duration": 0,
    "start_time": "2022-11-02T14:05:38.506Z"
   },
   {
    "duration": 0,
    "start_time": "2022-11-02T14:05:38.507Z"
   },
   {
    "duration": 0,
    "start_time": "2022-11-02T14:05:38.508Z"
   },
   {
    "duration": 0,
    "start_time": "2022-11-02T14:05:38.508Z"
   },
   {
    "duration": 0,
    "start_time": "2022-11-02T14:05:38.510Z"
   },
   {
    "duration": 0,
    "start_time": "2022-11-02T14:05:38.511Z"
   },
   {
    "duration": 0,
    "start_time": "2022-11-02T14:05:38.511Z"
   },
   {
    "duration": 0,
    "start_time": "2022-11-02T14:05:38.512Z"
   },
   {
    "duration": 0,
    "start_time": "2022-11-02T14:05:38.513Z"
   },
   {
    "duration": 0,
    "start_time": "2022-11-02T14:05:38.514Z"
   },
   {
    "duration": 0,
    "start_time": "2022-11-02T14:05:38.514Z"
   },
   {
    "duration": 1320,
    "start_time": "2022-11-02T14:07:29.273Z"
   },
   {
    "duration": 198,
    "start_time": "2022-11-02T14:07:30.595Z"
   },
   {
    "duration": 375,
    "start_time": "2022-11-02T14:07:30.795Z"
   },
   {
    "duration": 72,
    "start_time": "2022-11-02T14:07:31.173Z"
   },
   {
    "duration": 49,
    "start_time": "2022-11-02T14:07:31.248Z"
   },
   {
    "duration": 15,
    "start_time": "2022-11-02T14:07:31.299Z"
   },
   {
    "duration": 35,
    "start_time": "2022-11-02T14:07:31.316Z"
   },
   {
    "duration": 21,
    "start_time": "2022-11-02T14:07:31.353Z"
   },
   {
    "duration": 56,
    "start_time": "2022-11-02T14:07:31.376Z"
   },
   {
    "duration": 32,
    "start_time": "2022-11-02T14:07:31.435Z"
   },
   {
    "duration": 54,
    "start_time": "2022-11-02T14:07:31.469Z"
   },
   {
    "duration": 34,
    "start_time": "2022-11-02T14:07:31.525Z"
   },
   {
    "duration": 41,
    "start_time": "2022-11-02T14:07:31.561Z"
   },
   {
    "duration": 20,
    "start_time": "2022-11-02T14:07:31.604Z"
   },
   {
    "duration": 352,
    "start_time": "2022-11-02T14:07:31.626Z"
   },
   {
    "duration": 38,
    "start_time": "2022-11-02T14:07:31.980Z"
   },
   {
    "duration": 30,
    "start_time": "2022-11-02T14:07:32.020Z"
   },
   {
    "duration": 52,
    "start_time": "2022-11-02T14:07:32.052Z"
   },
   {
    "duration": 18,
    "start_time": "2022-11-02T14:07:32.105Z"
   },
   {
    "duration": 15,
    "start_time": "2022-11-02T14:07:32.125Z"
   },
   {
    "duration": 1176,
    "start_time": "2022-11-02T14:07:32.142Z"
   },
   {
    "duration": 10,
    "start_time": "2022-11-02T14:07:33.320Z"
   },
   {
    "duration": 36,
    "start_time": "2022-11-02T14:07:33.332Z"
   },
   {
    "duration": 31,
    "start_time": "2022-11-02T14:07:33.369Z"
   },
   {
    "duration": 11,
    "start_time": "2022-11-02T14:07:33.401Z"
   },
   {
    "duration": 311,
    "start_time": "2022-11-02T14:07:33.413Z"
   },
   {
    "duration": 30,
    "start_time": "2022-11-02T14:07:33.726Z"
   },
   {
    "duration": 335,
    "start_time": "2022-11-02T14:07:33.760Z"
   },
   {
    "duration": 18,
    "start_time": "2022-11-02T14:07:34.098Z"
   },
   {
    "duration": 254,
    "start_time": "2022-11-02T14:07:34.117Z"
   },
   {
    "duration": 545,
    "start_time": "2022-11-02T14:07:34.373Z"
   },
   {
    "duration": 4,
    "start_time": "2022-11-02T14:07:34.920Z"
   },
   {
    "duration": 5,
    "start_time": "2022-11-02T14:07:34.927Z"
   },
   {
    "duration": 460,
    "start_time": "2022-11-02T14:07:34.933Z"
   },
   {
    "duration": 16,
    "start_time": "2022-11-02T14:07:35.396Z"
   },
   {
    "duration": 16,
    "start_time": "2022-11-02T14:07:35.414Z"
   },
   {
    "duration": 16,
    "start_time": "2022-11-02T14:07:35.432Z"
   },
   {
    "duration": 9,
    "start_time": "2022-11-02T14:07:35.451Z"
   },
   {
    "duration": 7,
    "start_time": "2022-11-02T14:07:35.491Z"
   },
   {
    "duration": 13,
    "start_time": "2022-11-02T14:07:35.500Z"
   },
   {
    "duration": 17,
    "start_time": "2022-11-02T14:07:35.515Z"
   },
   {
    "duration": 42,
    "start_time": "2022-11-02T14:07:35.534Z"
   },
   {
    "duration": 50,
    "start_time": "2022-11-02T14:07:35.577Z"
   },
   {
    "duration": 22,
    "start_time": "2022-11-02T14:07:35.629Z"
   },
   {
    "duration": 3,
    "start_time": "2022-11-02T14:07:35.653Z"
   },
   {
    "duration": 59,
    "start_time": "2022-11-02T14:07:35.658Z"
   },
   {
    "duration": 78,
    "start_time": "2022-11-02T15:21:27.217Z"
   },
   {
    "duration": 25,
    "start_time": "2022-11-02T15:21:47.595Z"
   },
   {
    "duration": 3,
    "start_time": "2022-11-02T15:32:35.226Z"
   },
   {
    "duration": 4,
    "start_time": "2022-11-02T15:32:50.998Z"
   },
   {
    "duration": 1193,
    "start_time": "2022-11-02T16:05:01.015Z"
   },
   {
    "duration": 305,
    "start_time": "2022-11-02T16:05:02.209Z"
   },
   {
    "duration": 138,
    "start_time": "2022-11-02T16:05:02.516Z"
   },
   {
    "duration": 58,
    "start_time": "2022-11-02T16:05:02.657Z"
   },
   {
    "duration": 16,
    "start_time": "2022-11-02T16:05:02.716Z"
   },
   {
    "duration": 21,
    "start_time": "2022-11-02T16:05:02.734Z"
   },
   {
    "duration": 38,
    "start_time": "2022-11-02T16:05:02.756Z"
   },
   {
    "duration": 42,
    "start_time": "2022-11-02T16:05:02.796Z"
   },
   {
    "duration": 55,
    "start_time": "2022-11-02T16:05:02.840Z"
   },
   {
    "duration": 29,
    "start_time": "2022-11-02T16:05:02.897Z"
   },
   {
    "duration": 28,
    "start_time": "2022-11-02T16:05:02.928Z"
   },
   {
    "duration": 41,
    "start_time": "2022-11-02T16:05:02.957Z"
   },
   {
    "duration": 14,
    "start_time": "2022-11-02T16:05:02.999Z"
   },
   {
    "duration": 320,
    "start_time": "2022-11-02T16:05:03.015Z"
   },
   {
    "duration": 29,
    "start_time": "2022-11-02T16:05:03.336Z"
   },
   {
    "duration": 46,
    "start_time": "2022-11-02T16:05:03.367Z"
   },
   {
    "duration": 15,
    "start_time": "2022-11-02T16:05:03.415Z"
   },
   {
    "duration": 20,
    "start_time": "2022-11-02T16:05:03.432Z"
   },
   {
    "duration": 1087,
    "start_time": "2022-11-02T16:05:03.454Z"
   },
   {
    "duration": 10,
    "start_time": "2022-11-02T16:05:04.543Z"
   },
   {
    "duration": 24,
    "start_time": "2022-11-02T16:05:04.555Z"
   },
   {
    "duration": 11,
    "start_time": "2022-11-02T16:05:04.591Z"
   },
   {
    "duration": 9,
    "start_time": "2022-11-02T16:05:04.604Z"
   },
   {
    "duration": 304,
    "start_time": "2022-11-02T16:05:04.615Z"
   },
   {
    "duration": 27,
    "start_time": "2022-11-02T16:05:04.921Z"
   },
   {
    "duration": 279,
    "start_time": "2022-11-02T16:05:04.949Z"
   },
   {
    "duration": 19,
    "start_time": "2022-11-02T16:05:05.230Z"
   },
   {
    "duration": 263,
    "start_time": "2022-11-02T16:05:05.253Z"
   },
   {
    "duration": 455,
    "start_time": "2022-11-02T16:05:05.517Z"
   },
   {
    "duration": 3,
    "start_time": "2022-11-02T16:05:05.974Z"
   },
   {
    "duration": 14,
    "start_time": "2022-11-02T16:05:05.979Z"
   },
   {
    "duration": 393,
    "start_time": "2022-11-02T16:05:05.994Z"
   },
   {
    "duration": 14,
    "start_time": "2022-11-02T16:05:06.390Z"
   },
   {
    "duration": 13,
    "start_time": "2022-11-02T16:05:06.406Z"
   },
   {
    "duration": 24,
    "start_time": "2022-11-02T16:05:06.420Z"
   },
   {
    "duration": 5,
    "start_time": "2022-11-02T16:05:06.446Z"
   },
   {
    "duration": 4,
    "start_time": "2022-11-02T16:05:06.452Z"
   },
   {
    "duration": 43,
    "start_time": "2022-11-02T16:05:06.458Z"
   },
   {
    "duration": 16,
    "start_time": "2022-11-02T16:05:06.503Z"
   },
   {
    "duration": 9,
    "start_time": "2022-11-02T16:05:06.521Z"
   },
   {
    "duration": 43,
    "start_time": "2022-11-02T16:05:06.532Z"
   },
   {
    "duration": 43,
    "start_time": "2022-11-02T16:05:06.577Z"
   },
   {
    "duration": 28,
    "start_time": "2022-11-02T16:05:06.621Z"
   },
   {
    "duration": 3,
    "start_time": "2022-11-02T16:05:06.651Z"
   },
   {
    "duration": 58,
    "start_time": "2022-11-02T16:05:06.656Z"
   },
   {
    "duration": 1168,
    "start_time": "2022-11-02T16:09:13.387Z"
   },
   {
    "duration": 162,
    "start_time": "2022-11-02T16:09:14.557Z"
   },
   {
    "duration": 61,
    "start_time": "2022-11-02T16:09:14.720Z"
   },
   {
    "duration": 58,
    "start_time": "2022-11-02T16:09:14.783Z"
   },
   {
    "duration": 15,
    "start_time": "2022-11-02T16:09:14.844Z"
   },
   {
    "duration": 32,
    "start_time": "2022-11-02T16:09:14.861Z"
   },
   {
    "duration": 21,
    "start_time": "2022-11-02T16:09:14.894Z"
   },
   {
    "duration": 40,
    "start_time": "2022-11-02T16:09:14.916Z"
   },
   {
    "duration": 56,
    "start_time": "2022-11-02T16:09:14.958Z"
   },
   {
    "duration": 31,
    "start_time": "2022-11-02T16:09:15.017Z"
   },
   {
    "duration": 45,
    "start_time": "2022-11-02T16:09:15.049Z"
   },
   {
    "duration": 17,
    "start_time": "2022-11-02T16:09:15.096Z"
   },
   {
    "duration": 15,
    "start_time": "2022-11-02T16:09:15.115Z"
   },
   {
    "duration": 321,
    "start_time": "2022-11-02T16:09:15.132Z"
   },
   {
    "duration": 37,
    "start_time": "2022-11-02T16:09:15.455Z"
   },
   {
    "duration": 27,
    "start_time": "2022-11-02T16:09:15.493Z"
   },
   {
    "duration": 16,
    "start_time": "2022-11-02T16:09:15.522Z"
   },
   {
    "duration": 13,
    "start_time": "2022-11-02T16:09:15.540Z"
   },
   {
    "duration": 1149,
    "start_time": "2022-11-02T16:09:15.555Z"
   },
   {
    "duration": 14,
    "start_time": "2022-11-02T16:09:16.706Z"
   },
   {
    "duration": 35,
    "start_time": "2022-11-02T16:09:16.723Z"
   },
   {
    "duration": 42,
    "start_time": "2022-11-02T16:09:16.760Z"
   },
   {
    "duration": 14,
    "start_time": "2022-11-02T16:09:16.804Z"
   },
   {
    "duration": 302,
    "start_time": "2022-11-02T16:09:16.820Z"
   },
   {
    "duration": 28,
    "start_time": "2022-11-02T16:09:17.124Z"
   },
   {
    "duration": 295,
    "start_time": "2022-11-02T16:09:17.154Z"
   },
   {
    "duration": 16,
    "start_time": "2022-11-02T16:09:17.451Z"
   },
   {
    "duration": 229,
    "start_time": "2022-11-02T16:09:17.471Z"
   },
   {
    "duration": 455,
    "start_time": "2022-11-02T16:09:17.702Z"
   },
   {
    "duration": 4,
    "start_time": "2022-11-02T16:09:18.158Z"
   },
   {
    "duration": 6,
    "start_time": "2022-11-02T16:09:18.163Z"
   },
   {
    "duration": 447,
    "start_time": "2022-11-02T16:09:18.171Z"
   },
   {
    "duration": 15,
    "start_time": "2022-11-02T16:09:18.619Z"
   },
   {
    "duration": 13,
    "start_time": "2022-11-02T16:09:18.636Z"
   },
   {
    "duration": 15,
    "start_time": "2022-11-02T16:09:18.651Z"
   },
   {
    "duration": 25,
    "start_time": "2022-11-02T16:09:18.668Z"
   },
   {
    "duration": 5,
    "start_time": "2022-11-02T16:09:18.694Z"
   },
   {
    "duration": 9,
    "start_time": "2022-11-02T16:09:18.701Z"
   },
   {
    "duration": 5,
    "start_time": "2022-11-02T16:09:18.711Z"
   },
   {
    "duration": 6,
    "start_time": "2022-11-02T16:09:18.718Z"
   },
   {
    "duration": 36,
    "start_time": "2022-11-02T16:09:18.725Z"
   },
   {
    "duration": 27,
    "start_time": "2022-11-02T16:09:18.791Z"
   },
   {
    "duration": 20,
    "start_time": "2022-11-02T16:09:18.820Z"
   },
   {
    "duration": 3,
    "start_time": "2022-11-02T16:09:18.841Z"
   },
   {
    "duration": 49,
    "start_time": "2022-11-02T16:09:18.845Z"
   },
   {
    "duration": 93,
    "start_time": "2022-11-02T16:12:53.075Z"
   },
   {
    "duration": 26,
    "start_time": "2022-11-02T16:13:19.724Z"
   },
   {
    "duration": 11,
    "start_time": "2022-11-02T16:23:24.889Z"
   },
   {
    "duration": 12,
    "start_time": "2022-11-02T16:26:26.216Z"
   },
   {
    "duration": 1240,
    "start_time": "2022-11-02T16:26:33.819Z"
   },
   {
    "duration": 650,
    "start_time": "2022-11-02T16:26:35.061Z"
   },
   {
    "duration": 61,
    "start_time": "2022-11-02T16:26:35.713Z"
   },
   {
    "duration": 63,
    "start_time": "2022-11-02T16:26:35.776Z"
   },
   {
    "duration": 16,
    "start_time": "2022-11-02T16:26:35.840Z"
   },
   {
    "duration": 34,
    "start_time": "2022-11-02T16:26:35.858Z"
   },
   {
    "duration": 20,
    "start_time": "2022-11-02T16:26:35.894Z"
   },
   {
    "duration": 44,
    "start_time": "2022-11-02T16:26:35.916Z"
   },
   {
    "duration": 52,
    "start_time": "2022-11-02T16:26:35.962Z"
   },
   {
    "duration": 39,
    "start_time": "2022-11-02T16:26:36.016Z"
   },
   {
    "duration": 51,
    "start_time": "2022-11-02T16:26:36.057Z"
   },
   {
    "duration": 18,
    "start_time": "2022-11-02T16:26:36.109Z"
   },
   {
    "duration": 14,
    "start_time": "2022-11-02T16:26:36.129Z"
   },
   {
    "duration": 333,
    "start_time": "2022-11-02T16:26:36.145Z"
   },
   {
    "duration": 32,
    "start_time": "2022-11-02T16:26:36.480Z"
   },
   {
    "duration": 34,
    "start_time": "2022-11-02T16:26:36.513Z"
   },
   {
    "duration": 43,
    "start_time": "2022-11-02T16:26:36.550Z"
   },
   {
    "duration": 20,
    "start_time": "2022-11-02T16:26:36.595Z"
   },
   {
    "duration": 1145,
    "start_time": "2022-11-02T16:26:36.617Z"
   },
   {
    "duration": 11,
    "start_time": "2022-11-02T16:26:37.764Z"
   },
   {
    "duration": 27,
    "start_time": "2022-11-02T16:26:37.790Z"
   },
   {
    "duration": 12,
    "start_time": "2022-11-02T16:26:37.819Z"
   },
   {
    "duration": 12,
    "start_time": "2022-11-02T16:26:37.832Z"
   },
   {
    "duration": 309,
    "start_time": "2022-11-02T16:26:37.846Z"
   },
   {
    "duration": 37,
    "start_time": "2022-11-02T16:26:38.157Z"
   },
   {
    "duration": 302,
    "start_time": "2022-11-02T16:26:38.196Z"
   },
   {
    "duration": 18,
    "start_time": "2022-11-02T16:26:38.500Z"
   },
   {
    "duration": 236,
    "start_time": "2022-11-02T16:26:38.521Z"
   },
   {
    "duration": 501,
    "start_time": "2022-11-02T16:26:38.759Z"
   },
   {
    "duration": 4,
    "start_time": "2022-11-02T16:26:39.262Z"
   },
   {
    "duration": 24,
    "start_time": "2022-11-02T16:26:39.268Z"
   },
   {
    "duration": 419,
    "start_time": "2022-11-02T16:26:39.294Z"
   },
   {
    "duration": 16,
    "start_time": "2022-11-02T16:26:39.715Z"
   },
   {
    "duration": 15,
    "start_time": "2022-11-02T16:26:39.733Z"
   },
   {
    "duration": 45,
    "start_time": "2022-11-02T16:26:39.750Z"
   },
   {
    "duration": 4,
    "start_time": "2022-11-02T16:26:39.797Z"
   },
   {
    "duration": 5,
    "start_time": "2022-11-02T16:26:39.803Z"
   },
   {
    "duration": 9,
    "start_time": "2022-11-02T16:26:39.810Z"
   },
   {
    "duration": 21,
    "start_time": "2022-11-02T16:26:39.821Z"
   },
   {
    "duration": 6,
    "start_time": "2022-11-02T16:26:39.844Z"
   },
   {
    "duration": 56,
    "start_time": "2022-11-02T16:26:39.852Z"
   },
   {
    "duration": 28,
    "start_time": "2022-11-02T16:26:39.911Z"
   },
   {
    "duration": 22,
    "start_time": "2022-11-02T16:26:39.941Z"
   },
   {
    "duration": 51,
    "start_time": "2022-11-02T16:26:39.964Z"
   },
   {
    "duration": 13,
    "start_time": "2022-11-02T16:26:40.017Z"
   },
   {
    "duration": 3,
    "start_time": "2022-11-02T16:26:40.032Z"
   },
   {
    "duration": 59,
    "start_time": "2022-11-02T16:26:40.037Z"
   },
   {
    "duration": 72,
    "start_time": "2022-11-02T16:28:21.921Z"
   },
   {
    "duration": 26,
    "start_time": "2022-11-02T16:28:33.548Z"
   },
   {
    "duration": 1182,
    "start_time": "2022-11-02T16:29:32.537Z"
   },
   {
    "duration": 243,
    "start_time": "2022-11-02T16:29:33.721Z"
   },
   {
    "duration": 56,
    "start_time": "2022-11-02T16:29:33.967Z"
   },
   {
    "duration": 68,
    "start_time": "2022-11-02T16:29:34.026Z"
   },
   {
    "duration": 18,
    "start_time": "2022-11-02T16:29:34.096Z"
   },
   {
    "duration": 16,
    "start_time": "2022-11-02T16:29:34.115Z"
   },
   {
    "duration": 27,
    "start_time": "2022-11-02T16:29:34.133Z"
   },
   {
    "duration": 47,
    "start_time": "2022-11-02T16:29:34.192Z"
   },
   {
    "duration": 65,
    "start_time": "2022-11-02T16:29:34.241Z"
   },
   {
    "duration": 43,
    "start_time": "2022-11-02T16:29:34.310Z"
   },
   {
    "duration": 49,
    "start_time": "2022-11-02T16:29:34.355Z"
   },
   {
    "duration": 28,
    "start_time": "2022-11-02T16:29:34.406Z"
   },
   {
    "duration": 17,
    "start_time": "2022-11-02T16:29:34.436Z"
   },
   {
    "duration": 357,
    "start_time": "2022-11-02T16:29:34.455Z"
   },
   {
    "duration": 31,
    "start_time": "2022-11-02T16:29:34.814Z"
   },
   {
    "duration": 49,
    "start_time": "2022-11-02T16:29:34.847Z"
   },
   {
    "duration": 19,
    "start_time": "2022-11-02T16:29:34.899Z"
   },
   {
    "duration": 16,
    "start_time": "2022-11-02T16:29:34.920Z"
   },
   {
    "duration": 1163,
    "start_time": "2022-11-02T16:29:34.938Z"
   },
   {
    "duration": 10,
    "start_time": "2022-11-02T16:29:36.103Z"
   },
   {
    "duration": 30,
    "start_time": "2022-11-02T16:29:36.114Z"
   },
   {
    "duration": 12,
    "start_time": "2022-11-02T16:29:36.145Z"
   },
   {
    "duration": 39,
    "start_time": "2022-11-02T16:29:36.159Z"
   },
   {
    "duration": 332,
    "start_time": "2022-11-02T16:29:36.200Z"
   },
   {
    "duration": 39,
    "start_time": "2022-11-02T16:29:36.534Z"
   },
   {
    "duration": 315,
    "start_time": "2022-11-02T16:29:36.576Z"
   },
   {
    "duration": 16,
    "start_time": "2022-11-02T16:29:36.893Z"
   },
   {
    "duration": 236,
    "start_time": "2022-11-02T16:29:36.913Z"
   },
   {
    "duration": 479,
    "start_time": "2022-11-02T16:29:37.150Z"
   },
   {
    "duration": 3,
    "start_time": "2022-11-02T16:29:37.631Z"
   },
   {
    "duration": 5,
    "start_time": "2022-11-02T16:29:37.636Z"
   },
   {
    "duration": 426,
    "start_time": "2022-11-02T16:29:37.642Z"
   },
   {
    "duration": 27,
    "start_time": "2022-11-02T16:29:38.069Z"
   },
   {
    "duration": 14,
    "start_time": "2022-11-02T16:29:38.097Z"
   },
   {
    "duration": 17,
    "start_time": "2022-11-02T16:29:38.113Z"
   },
   {
    "duration": 4,
    "start_time": "2022-11-02T16:29:38.131Z"
   },
   {
    "duration": 5,
    "start_time": "2022-11-02T16:29:38.137Z"
   },
   {
    "duration": 5,
    "start_time": "2022-11-02T16:29:38.144Z"
   },
   {
    "duration": 5,
    "start_time": "2022-11-02T16:29:38.190Z"
   },
   {
    "duration": 5,
    "start_time": "2022-11-02T16:29:38.197Z"
   },
   {
    "duration": 36,
    "start_time": "2022-11-02T16:29:38.203Z"
   },
   {
    "duration": 51,
    "start_time": "2022-11-02T16:29:38.241Z"
   },
   {
    "duration": 26,
    "start_time": "2022-11-02T16:29:38.294Z"
   },
   {
    "duration": 27,
    "start_time": "2022-11-02T16:29:38.321Z"
   },
   {
    "duration": 11,
    "start_time": "2022-11-02T16:29:38.349Z"
   },
   {
    "duration": 27,
    "start_time": "2022-11-02T16:29:38.391Z"
   },
   {
    "duration": 3,
    "start_time": "2022-11-02T16:29:38.420Z"
   },
   {
    "duration": 34,
    "start_time": "2022-11-02T16:29:38.425Z"
   },
   {
    "duration": 15,
    "start_time": "2022-11-02T16:30:47.671Z"
   },
   {
    "duration": 1209,
    "start_time": "2022-11-02T16:37:56.233Z"
   },
   {
    "duration": 206,
    "start_time": "2022-11-02T16:37:57.444Z"
   },
   {
    "duration": 49,
    "start_time": "2022-11-02T16:37:57.652Z"
   },
   {
    "duration": 61,
    "start_time": "2022-11-02T16:37:57.703Z"
   },
   {
    "duration": 26,
    "start_time": "2022-11-02T16:37:57.767Z"
   },
   {
    "duration": 16,
    "start_time": "2022-11-02T16:37:57.795Z"
   },
   {
    "duration": 19,
    "start_time": "2022-11-02T16:37:57.813Z"
   },
   {
    "duration": 61,
    "start_time": "2022-11-02T16:37:57.834Z"
   },
   {
    "duration": 29,
    "start_time": "2022-11-02T16:37:57.897Z"
   },
   {
    "duration": 32,
    "start_time": "2022-11-02T16:37:57.928Z"
   },
   {
    "duration": 55,
    "start_time": "2022-11-02T16:37:57.961Z"
   },
   {
    "duration": 18,
    "start_time": "2022-11-02T16:37:58.018Z"
   },
   {
    "duration": 14,
    "start_time": "2022-11-02T16:37:58.038Z"
   },
   {
    "duration": 347,
    "start_time": "2022-11-02T16:37:58.054Z"
   },
   {
    "duration": 40,
    "start_time": "2022-11-02T16:37:58.403Z"
   },
   {
    "duration": 52,
    "start_time": "2022-11-02T16:37:58.445Z"
   },
   {
    "duration": 18,
    "start_time": "2022-11-02T16:37:58.499Z"
   },
   {
    "duration": 16,
    "start_time": "2022-11-02T16:37:58.519Z"
   },
   {
    "duration": 1105,
    "start_time": "2022-11-02T16:37:58.536Z"
   },
   {
    "duration": 11,
    "start_time": "2022-11-02T16:37:59.643Z"
   },
   {
    "duration": 45,
    "start_time": "2022-11-02T16:37:59.656Z"
   },
   {
    "duration": 13,
    "start_time": "2022-11-02T16:37:59.702Z"
   },
   {
    "duration": 12,
    "start_time": "2022-11-02T16:37:59.716Z"
   },
   {
    "duration": 299,
    "start_time": "2022-11-02T16:37:59.729Z"
   },
   {
    "duration": 28,
    "start_time": "2022-11-02T16:38:00.030Z"
   },
   {
    "duration": 288,
    "start_time": "2022-11-02T16:38:00.061Z"
   },
   {
    "duration": 19,
    "start_time": "2022-11-02T16:38:00.351Z"
   },
   {
    "duration": 219,
    "start_time": "2022-11-02T16:38:00.393Z"
   },
   {
    "duration": 508,
    "start_time": "2022-11-02T16:38:00.614Z"
   },
   {
    "duration": 5,
    "start_time": "2022-11-02T16:38:01.125Z"
   },
   {
    "duration": 29,
    "start_time": "2022-11-02T16:38:01.133Z"
   },
   {
    "duration": 450,
    "start_time": "2022-11-02T16:38:01.164Z"
   },
   {
    "duration": 15,
    "start_time": "2022-11-02T16:38:01.616Z"
   },
   {
    "duration": 21,
    "start_time": "2022-11-02T16:38:01.633Z"
   },
   {
    "duration": 19,
    "start_time": "2022-11-02T16:38:01.656Z"
   },
   {
    "duration": 5,
    "start_time": "2022-11-02T16:38:01.690Z"
   },
   {
    "duration": 17,
    "start_time": "2022-11-02T16:38:01.697Z"
   },
   {
    "duration": 11,
    "start_time": "2022-11-02T16:38:01.716Z"
   },
   {
    "duration": 4,
    "start_time": "2022-11-02T16:38:01.729Z"
   },
   {
    "duration": 6,
    "start_time": "2022-11-02T16:38:01.734Z"
   },
   {
    "duration": 49,
    "start_time": "2022-11-02T16:38:01.742Z"
   },
   {
    "duration": 28,
    "start_time": "2022-11-02T16:38:01.793Z"
   },
   {
    "duration": 22,
    "start_time": "2022-11-02T16:38:01.823Z"
   },
   {
    "duration": 45,
    "start_time": "2022-11-02T16:38:01.847Z"
   },
   {
    "duration": 12,
    "start_time": "2022-11-02T16:38:01.893Z"
   },
   {
    "duration": 43,
    "start_time": "2022-11-02T16:38:01.907Z"
   },
   {
    "duration": 11,
    "start_time": "2022-11-02T16:38:01.952Z"
   },
   {
    "duration": 17,
    "start_time": "2022-11-02T16:38:01.964Z"
   },
   {
    "duration": 45,
    "start_time": "2022-11-02T16:38:01.983Z"
   },
   {
    "duration": 1321,
    "start_time": "2022-11-02T19:32:46.399Z"
   },
   {
    "duration": 185,
    "start_time": "2022-11-02T19:32:47.722Z"
   },
   {
    "duration": 70,
    "start_time": "2022-11-02T19:32:47.909Z"
   },
   {
    "duration": 56,
    "start_time": "2022-11-02T19:32:47.981Z"
   },
   {
    "duration": 13,
    "start_time": "2022-11-02T19:32:48.039Z"
   },
   {
    "duration": 15,
    "start_time": "2022-11-02T19:32:48.053Z"
   },
   {
    "duration": 41,
    "start_time": "2022-11-02T19:32:48.069Z"
   },
   {
    "duration": 47,
    "start_time": "2022-11-02T19:32:48.111Z"
   },
   {
    "duration": 26,
    "start_time": "2022-11-02T19:32:48.160Z"
   },
   {
    "duration": 49,
    "start_time": "2022-11-02T19:32:48.188Z"
   },
   {
    "duration": 27,
    "start_time": "2022-11-02T19:32:48.239Z"
   },
   {
    "duration": 15,
    "start_time": "2022-11-02T19:32:48.268Z"
   },
   {
    "duration": 33,
    "start_time": "2022-11-02T19:32:48.284Z"
   },
   {
    "duration": 285,
    "start_time": "2022-11-02T19:32:48.318Z"
   },
   {
    "duration": 28,
    "start_time": "2022-11-02T19:32:48.604Z"
   },
   {
    "duration": 23,
    "start_time": "2022-11-02T19:32:48.633Z"
   },
   {
    "duration": 15,
    "start_time": "2022-11-02T19:32:48.658Z"
   },
   {
    "duration": 39,
    "start_time": "2022-11-02T19:32:48.674Z"
   },
   {
    "duration": 950,
    "start_time": "2022-11-02T19:32:48.715Z"
   },
   {
    "duration": 11,
    "start_time": "2022-11-02T19:32:49.666Z"
   },
   {
    "duration": 44,
    "start_time": "2022-11-02T19:32:49.678Z"
   },
   {
    "duration": 11,
    "start_time": "2022-11-02T19:32:49.724Z"
   },
   {
    "duration": 9,
    "start_time": "2022-11-02T19:32:49.736Z"
   },
   {
    "duration": 284,
    "start_time": "2022-11-02T19:32:49.746Z"
   },
   {
    "duration": 24,
    "start_time": "2022-11-02T19:32:50.032Z"
   },
   {
    "duration": 272,
    "start_time": "2022-11-02T19:32:50.057Z"
   },
   {
    "duration": 16,
    "start_time": "2022-11-02T19:32:50.330Z"
   },
   {
    "duration": 216,
    "start_time": "2022-11-02T19:32:50.349Z"
   },
   {
    "duration": 435,
    "start_time": "2022-11-02T19:32:50.567Z"
   },
   {
    "duration": 7,
    "start_time": "2022-11-02T19:32:51.003Z"
   },
   {
    "duration": 4,
    "start_time": "2022-11-02T19:32:51.011Z"
   },
   {
    "duration": 401,
    "start_time": "2022-11-02T19:32:51.017Z"
   },
   {
    "duration": 14,
    "start_time": "2022-11-02T19:32:51.419Z"
   },
   {
    "duration": 12,
    "start_time": "2022-11-02T19:32:51.434Z"
   },
   {
    "duration": 15,
    "start_time": "2022-11-02T19:32:51.447Z"
   },
   {
    "duration": 3,
    "start_time": "2022-11-02T19:32:51.463Z"
   },
   {
    "duration": 6,
    "start_time": "2022-11-02T19:32:51.468Z"
   },
   {
    "duration": 35,
    "start_time": "2022-11-02T19:32:51.476Z"
   },
   {
    "duration": 3,
    "start_time": "2022-11-02T19:32:51.512Z"
   },
   {
    "duration": 5,
    "start_time": "2022-11-02T19:32:51.516Z"
   },
   {
    "duration": 31,
    "start_time": "2022-11-02T19:32:51.522Z"
   },
   {
    "duration": 25,
    "start_time": "2022-11-02T19:32:51.555Z"
   },
   {
    "duration": 45,
    "start_time": "2022-11-02T19:32:51.581Z"
   },
   {
    "duration": 22,
    "start_time": "2022-11-02T19:32:51.628Z"
   },
   {
    "duration": 9,
    "start_time": "2022-11-02T19:32:51.652Z"
   },
   {
    "duration": 48,
    "start_time": "2022-11-02T19:32:51.663Z"
   },
   {
    "duration": 9,
    "start_time": "2022-11-02T19:32:51.713Z"
   },
   {
    "duration": 2,
    "start_time": "2022-11-02T19:32:51.724Z"
   },
   {
    "duration": 30,
    "start_time": "2022-11-02T19:32:51.727Z"
   },
   {
    "duration": 113,
    "start_time": "2022-11-02T19:41:21.167Z"
   },
   {
    "duration": 14,
    "start_time": "2022-11-02T19:41:30.432Z"
   },
   {
    "duration": 12,
    "start_time": "2022-11-02T19:41:50.255Z"
   },
   {
    "duration": 12,
    "start_time": "2022-11-02T19:43:01.016Z"
   },
   {
    "duration": 12,
    "start_time": "2022-11-02T19:43:39.044Z"
   },
   {
    "duration": 23,
    "start_time": "2022-11-02T19:54:11.110Z"
   },
   {
    "duration": 26,
    "start_time": "2022-11-02T19:55:05.342Z"
   },
   {
    "duration": 4,
    "start_time": "2022-11-02T20:02:22.750Z"
   },
   {
    "duration": 4,
    "start_time": "2022-11-02T20:03:45.885Z"
   },
   {
    "duration": 10,
    "start_time": "2022-11-02T20:07:16.036Z"
   },
   {
    "duration": 15,
    "start_time": "2022-11-02T20:08:24.177Z"
   },
   {
    "duration": 15,
    "start_time": "2022-11-02T20:09:06.328Z"
   },
   {
    "duration": 13,
    "start_time": "2022-11-02T20:09:36.669Z"
   },
   {
    "duration": 1110,
    "start_time": "2022-11-02T20:10:54.333Z"
   },
   {
    "duration": 188,
    "start_time": "2022-11-02T20:10:55.445Z"
   },
   {
    "duration": 27,
    "start_time": "2022-11-02T20:10:55.634Z"
   },
   {
    "duration": 52,
    "start_time": "2022-11-02T20:10:55.663Z"
   },
   {
    "duration": 13,
    "start_time": "2022-11-02T20:10:55.717Z"
   },
   {
    "duration": 13,
    "start_time": "2022-11-02T20:10:55.732Z"
   },
   {
    "duration": 19,
    "start_time": "2022-11-02T20:10:55.747Z"
   },
   {
    "duration": 63,
    "start_time": "2022-11-02T20:10:55.768Z"
   },
   {
    "duration": 28,
    "start_time": "2022-11-02T20:10:55.833Z"
   },
   {
    "duration": 55,
    "start_time": "2022-11-02T20:10:55.864Z"
   },
   {
    "duration": 27,
    "start_time": "2022-11-02T20:10:55.922Z"
   },
   {
    "duration": 16,
    "start_time": "2022-11-02T20:10:55.951Z"
   },
   {
    "duration": 12,
    "start_time": "2022-11-02T20:10:55.969Z"
   },
   {
    "duration": 5,
    "start_time": "2022-11-02T20:10:56.010Z"
   },
   {
    "duration": 12,
    "start_time": "2022-11-02T20:10:56.017Z"
   },
   {
    "duration": 4,
    "start_time": "2022-11-02T20:10:56.030Z"
   },
   {
    "duration": 11,
    "start_time": "2022-11-02T20:10:56.035Z"
   },
   {
    "duration": 322,
    "start_time": "2022-11-02T20:10:56.047Z"
   },
   {
    "duration": 40,
    "start_time": "2022-11-02T20:10:56.370Z"
   },
   {
    "duration": 27,
    "start_time": "2022-11-02T20:10:56.412Z"
   },
   {
    "duration": 19,
    "start_time": "2022-11-02T20:10:56.440Z"
   },
   {
    "duration": 17,
    "start_time": "2022-11-02T20:10:56.461Z"
   },
   {
    "duration": 1046,
    "start_time": "2022-11-02T20:10:56.480Z"
   },
   {
    "duration": 9,
    "start_time": "2022-11-02T20:10:57.528Z"
   },
   {
    "duration": 38,
    "start_time": "2022-11-02T20:10:57.539Z"
   },
   {
    "duration": 12,
    "start_time": "2022-11-02T20:10:57.579Z"
   },
   {
    "duration": 25,
    "start_time": "2022-11-02T20:10:57.593Z"
   },
   {
    "duration": 287,
    "start_time": "2022-11-02T20:10:57.622Z"
   },
   {
    "duration": 25,
    "start_time": "2022-11-02T20:10:57.911Z"
   },
   {
    "duration": 282,
    "start_time": "2022-11-02T20:10:57.938Z"
   },
   {
    "duration": 19,
    "start_time": "2022-11-02T20:10:58.222Z"
   },
   {
    "duration": 229,
    "start_time": "2022-11-02T20:10:58.242Z"
   },
   {
    "duration": 496,
    "start_time": "2022-11-02T20:10:58.473Z"
   },
   {
    "duration": 3,
    "start_time": "2022-11-02T20:10:58.971Z"
   },
   {
    "duration": 7,
    "start_time": "2022-11-02T20:10:58.976Z"
   },
   {
    "duration": 406,
    "start_time": "2022-11-02T20:10:58.985Z"
   },
   {
    "duration": 23,
    "start_time": "2022-11-02T20:10:59.392Z"
   },
   {
    "duration": 13,
    "start_time": "2022-11-02T20:10:59.417Z"
   },
   {
    "duration": 14,
    "start_time": "2022-11-02T20:10:59.432Z"
   },
   {
    "duration": 3,
    "start_time": "2022-11-02T20:10:59.448Z"
   },
   {
    "duration": 4,
    "start_time": "2022-11-02T20:10:59.453Z"
   },
   {
    "duration": 8,
    "start_time": "2022-11-02T20:10:59.459Z"
   },
   {
    "duration": 40,
    "start_time": "2022-11-02T20:10:59.469Z"
   },
   {
    "duration": 4,
    "start_time": "2022-11-02T20:10:59.511Z"
   },
   {
    "duration": 33,
    "start_time": "2022-11-02T20:10:59.516Z"
   },
   {
    "duration": 27,
    "start_time": "2022-11-02T20:10:59.551Z"
   },
   {
    "duration": 48,
    "start_time": "2022-11-02T20:10:59.580Z"
   },
   {
    "duration": 28,
    "start_time": "2022-11-02T20:10:59.629Z"
   },
   {
    "duration": 12,
    "start_time": "2022-11-02T20:10:59.659Z"
   },
   {
    "duration": 54,
    "start_time": "2022-11-02T20:10:59.673Z"
   },
   {
    "duration": 12,
    "start_time": "2022-11-02T20:10:59.729Z"
   },
   {
    "duration": 3,
    "start_time": "2022-11-02T20:10:59.742Z"
   },
   {
    "duration": 24,
    "start_time": "2022-11-02T20:10:59.746Z"
   },
   {
    "duration": 24,
    "start_time": "2022-11-02T20:13:53.588Z"
   },
   {
    "duration": 16,
    "start_time": "2022-11-02T20:14:39.466Z"
   },
   {
    "duration": 24,
    "start_time": "2022-11-02T20:15:02.373Z"
   },
   {
    "duration": 12,
    "start_time": "2022-11-02T20:15:11.247Z"
   },
   {
    "duration": 11,
    "start_time": "2022-11-02T20:20:11.937Z"
   },
   {
    "duration": 1153,
    "start_time": "2022-11-02T20:46:12.276Z"
   },
   {
    "duration": 199,
    "start_time": "2022-11-02T20:46:13.430Z"
   },
   {
    "duration": 53,
    "start_time": "2022-11-02T20:46:13.630Z"
   },
   {
    "duration": 53,
    "start_time": "2022-11-02T20:46:13.685Z"
   },
   {
    "duration": 13,
    "start_time": "2022-11-02T20:46:13.740Z"
   },
   {
    "duration": 15,
    "start_time": "2022-11-02T20:46:13.754Z"
   },
   {
    "duration": 19,
    "start_time": "2022-11-02T20:46:13.770Z"
   },
   {
    "duration": 39,
    "start_time": "2022-11-02T20:46:13.809Z"
   },
   {
    "duration": 26,
    "start_time": "2022-11-02T20:46:13.850Z"
   },
   {
    "duration": 51,
    "start_time": "2022-11-02T20:46:13.878Z"
   },
   {
    "duration": 26,
    "start_time": "2022-11-02T20:46:13.931Z"
   },
   {
    "duration": 17,
    "start_time": "2022-11-02T20:46:13.958Z"
   },
   {
    "duration": 35,
    "start_time": "2022-11-02T20:46:13.977Z"
   },
   {
    "duration": 4,
    "start_time": "2022-11-02T20:46:14.014Z"
   },
   {
    "duration": 11,
    "start_time": "2022-11-02T20:46:14.019Z"
   },
   {
    "duration": 3,
    "start_time": "2022-11-02T20:46:14.032Z"
   },
   {
    "duration": 10,
    "start_time": "2022-11-02T20:46:14.037Z"
   },
   {
    "duration": 301,
    "start_time": "2022-11-02T20:46:14.049Z"
   },
   {
    "duration": 28,
    "start_time": "2022-11-02T20:46:14.352Z"
   },
   {
    "duration": 47,
    "start_time": "2022-11-02T20:46:14.382Z"
   },
   {
    "duration": 19,
    "start_time": "2022-11-02T20:46:14.431Z"
   },
   {
    "duration": 17,
    "start_time": "2022-11-02T20:46:14.453Z"
   },
   {
    "duration": 950,
    "start_time": "2022-11-02T20:46:14.472Z"
   },
   {
    "duration": 9,
    "start_time": "2022-11-02T20:46:15.423Z"
   },
   {
    "duration": 36,
    "start_time": "2022-11-02T20:46:15.434Z"
   },
   {
    "duration": 11,
    "start_time": "2022-11-02T20:46:15.471Z"
   },
   {
    "duration": 8,
    "start_time": "2022-11-02T20:46:15.484Z"
   },
   {
    "duration": 253,
    "start_time": "2022-11-02T20:46:15.510Z"
   },
   {
    "duration": 25,
    "start_time": "2022-11-02T20:46:15.765Z"
   },
   {
    "duration": 261,
    "start_time": "2022-11-02T20:46:15.792Z"
   },
   {
    "duration": 16,
    "start_time": "2022-11-02T20:46:16.055Z"
   },
   {
    "duration": 232,
    "start_time": "2022-11-02T20:46:16.073Z"
   },
   {
    "duration": 461,
    "start_time": "2022-11-02T20:46:16.307Z"
   },
   {
    "duration": 4,
    "start_time": "2022-11-02T20:46:16.769Z"
   },
   {
    "duration": 9,
    "start_time": "2022-11-02T20:46:16.774Z"
   },
   {
    "duration": 382,
    "start_time": "2022-11-02T20:46:16.784Z"
   },
   {
    "duration": 14,
    "start_time": "2022-11-02T20:46:17.168Z"
   },
   {
    "duration": 27,
    "start_time": "2022-11-02T20:46:17.183Z"
   },
   {
    "duration": 15,
    "start_time": "2022-11-02T20:46:17.211Z"
   },
   {
    "duration": 3,
    "start_time": "2022-11-02T20:46:17.227Z"
   },
   {
    "duration": 7,
    "start_time": "2022-11-02T20:46:17.232Z"
   },
   {
    "duration": 5,
    "start_time": "2022-11-02T20:46:17.241Z"
   },
   {
    "duration": 7,
    "start_time": "2022-11-02T20:46:17.247Z"
   },
   {
    "duration": 6,
    "start_time": "2022-11-02T20:46:17.255Z"
   },
   {
    "duration": 68,
    "start_time": "2022-11-02T20:46:17.262Z"
   },
   {
    "duration": 26,
    "start_time": "2022-11-02T20:46:17.331Z"
   },
   {
    "duration": 18,
    "start_time": "2022-11-02T20:46:17.359Z"
   },
   {
    "duration": 42,
    "start_time": "2022-11-02T20:46:17.379Z"
   },
   {
    "duration": 10,
    "start_time": "2022-11-02T20:46:17.423Z"
   },
   {
    "duration": 23,
    "start_time": "2022-11-02T20:46:17.434Z"
   },
   {
    "duration": 11,
    "start_time": "2022-11-02T20:46:17.459Z"
   },
   {
    "duration": 16,
    "start_time": "2022-11-02T20:46:17.472Z"
   },
   {
    "duration": 47,
    "start_time": "2022-11-02T20:46:17.490Z"
   },
   {
    "duration": 10,
    "start_time": "2022-11-02T20:46:17.539Z"
   },
   {
    "duration": 19,
    "start_time": "2022-11-02T20:58:54.031Z"
   },
   {
    "duration": 48,
    "start_time": "2022-11-02T21:02:36.494Z"
   },
   {
    "duration": 77,
    "start_time": "2022-11-02T21:02:52.272Z"
   },
   {
    "duration": 20,
    "start_time": "2022-11-02T21:03:45.882Z"
   },
   {
    "duration": 20,
    "start_time": "2022-11-02T21:15:13.375Z"
   },
   {
    "duration": 20,
    "start_time": "2022-11-02T21:17:05.346Z"
   },
   {
    "duration": 23,
    "start_time": "2022-11-02T21:21:30.549Z"
   },
   {
    "duration": 25,
    "start_time": "2022-11-02T21:25:49.365Z"
   },
   {
    "duration": 251,
    "start_time": "2022-11-02T21:27:52.339Z"
   },
   {
    "duration": 119,
    "start_time": "2022-11-02T21:31:35.604Z"
   },
   {
    "duration": 23,
    "start_time": "2022-11-02T21:31:51.902Z"
   },
   {
    "duration": 252,
    "start_time": "2022-11-02T21:32:03.174Z"
   },
   {
    "duration": 5,
    "start_time": "2022-11-02T21:33:44.048Z"
   },
   {
    "duration": 6,
    "start_time": "2022-11-02T21:35:35.617Z"
   },
   {
    "duration": 6,
    "start_time": "2022-11-02T21:36:31.118Z"
   },
   {
    "duration": 8,
    "start_time": "2022-11-02T21:39:36.920Z"
   },
   {
    "duration": 24,
    "start_time": "2022-11-02T21:40:02.624Z"
   },
   {
    "duration": 1146,
    "start_time": "2022-11-02T21:40:15.393Z"
   },
   {
    "duration": 271,
    "start_time": "2022-11-02T21:40:16.541Z"
   },
   {
    "duration": 28,
    "start_time": "2022-11-02T21:40:16.814Z"
   },
   {
    "duration": 54,
    "start_time": "2022-11-02T21:40:16.843Z"
   },
   {
    "duration": 18,
    "start_time": "2022-11-02T21:40:16.898Z"
   },
   {
    "duration": 14,
    "start_time": "2022-11-02T21:40:16.918Z"
   },
   {
    "duration": 20,
    "start_time": "2022-11-02T21:40:16.933Z"
   },
   {
    "duration": 61,
    "start_time": "2022-11-02T21:40:16.954Z"
   },
   {
    "duration": 25,
    "start_time": "2022-11-02T21:40:17.017Z"
   },
   {
    "duration": 30,
    "start_time": "2022-11-02T21:40:17.044Z"
   },
   {
    "duration": 49,
    "start_time": "2022-11-02T21:40:17.076Z"
   },
   {
    "duration": 17,
    "start_time": "2022-11-02T21:40:17.127Z"
   },
   {
    "duration": 12,
    "start_time": "2022-11-02T21:40:17.146Z"
   },
   {
    "duration": 5,
    "start_time": "2022-11-02T21:40:17.160Z"
   },
   {
    "duration": 15,
    "start_time": "2022-11-02T21:40:17.166Z"
   },
   {
    "duration": 28,
    "start_time": "2022-11-02T21:40:17.183Z"
   },
   {
    "duration": 12,
    "start_time": "2022-11-02T21:40:17.213Z"
   },
   {
    "duration": 292,
    "start_time": "2022-11-02T21:40:17.226Z"
   },
   {
    "duration": 27,
    "start_time": "2022-11-02T21:40:17.519Z"
   },
   {
    "duration": 24,
    "start_time": "2022-11-02T21:40:17.547Z"
   },
   {
    "duration": 37,
    "start_time": "2022-11-02T21:40:17.572Z"
   },
   {
    "duration": 13,
    "start_time": "2022-11-02T21:40:17.611Z"
   },
   {
    "duration": 923,
    "start_time": "2022-11-02T21:40:17.625Z"
   },
   {
    "duration": 10,
    "start_time": "2022-11-02T21:40:18.550Z"
   },
   {
    "duration": 25,
    "start_time": "2022-11-02T21:40:18.561Z"
   },
   {
    "duration": 28,
    "start_time": "2022-11-02T21:40:18.587Z"
   },
   {
    "duration": 8,
    "start_time": "2022-11-02T21:40:18.617Z"
   },
   {
    "duration": 256,
    "start_time": "2022-11-02T21:40:18.629Z"
   },
   {
    "duration": 30,
    "start_time": "2022-11-02T21:40:18.886Z"
   },
   {
    "duration": 268,
    "start_time": "2022-11-02T21:40:18.917Z"
   },
   {
    "duration": 23,
    "start_time": "2022-11-02T21:40:19.187Z"
   },
   {
    "duration": 201,
    "start_time": "2022-11-02T21:40:19.211Z"
   },
   {
    "duration": 433,
    "start_time": "2022-11-02T21:40:19.414Z"
   },
   {
    "duration": 4,
    "start_time": "2022-11-02T21:40:19.848Z"
   },
   {
    "duration": 6,
    "start_time": "2022-11-02T21:40:19.854Z"
   },
   {
    "duration": 386,
    "start_time": "2022-11-02T21:40:19.861Z"
   },
   {
    "duration": 15,
    "start_time": "2022-11-02T21:40:20.248Z"
   },
   {
    "duration": 13,
    "start_time": "2022-11-02T21:40:20.265Z"
   },
   {
    "duration": 38,
    "start_time": "2022-11-02T21:40:20.280Z"
   },
   {
    "duration": 4,
    "start_time": "2022-11-02T21:40:20.319Z"
   },
   {
    "duration": 7,
    "start_time": "2022-11-02T21:40:20.324Z"
   },
   {
    "duration": 9,
    "start_time": "2022-11-02T21:40:20.332Z"
   },
   {
    "duration": 4,
    "start_time": "2022-11-02T21:40:20.343Z"
   },
   {
    "duration": 7,
    "start_time": "2022-11-02T21:40:20.348Z"
   },
   {
    "duration": 65,
    "start_time": "2022-11-02T21:40:20.356Z"
   },
   {
    "duration": 28,
    "start_time": "2022-11-02T21:40:20.422Z"
   },
   {
    "duration": 22,
    "start_time": "2022-11-02T21:40:20.451Z"
   },
   {
    "duration": 47,
    "start_time": "2022-11-02T21:40:20.474Z"
   },
   {
    "duration": 271,
    "start_time": "2022-11-02T21:40:20.522Z"
   },
   {
    "duration": 6,
    "start_time": "2022-11-02T21:40:20.794Z"
   },
   {
    "duration": 11,
    "start_time": "2022-11-02T21:40:20.801Z"
   },
   {
    "duration": 26,
    "start_time": "2022-11-02T21:40:20.813Z"
   },
   {
    "duration": 10,
    "start_time": "2022-11-02T21:40:20.841Z"
   },
   {
    "duration": 23,
    "start_time": "2022-11-02T21:40:20.852Z"
   },
   {
    "duration": 36,
    "start_time": "2022-11-02T21:40:20.876Z"
   },
   {
    "duration": 3,
    "start_time": "2022-11-02T21:40:20.913Z"
   },
   {
    "duration": 26,
    "start_time": "2022-11-02T21:40:20.917Z"
   },
   {
    "duration": 10,
    "start_time": "2022-11-02T21:40:20.944Z"
   },
   {
    "duration": 9,
    "start_time": "2022-11-02T21:42:01.804Z"
   },
   {
    "duration": 1104,
    "start_time": "2022-11-02T21:42:15.920Z"
   },
   {
    "duration": 142,
    "start_time": "2022-11-02T21:42:17.026Z"
   },
   {
    "duration": 35,
    "start_time": "2022-11-02T21:42:17.169Z"
   },
   {
    "duration": 56,
    "start_time": "2022-11-02T21:42:17.206Z"
   },
   {
    "duration": 13,
    "start_time": "2022-11-02T21:42:17.264Z"
   },
   {
    "duration": 33,
    "start_time": "2022-11-02T21:42:17.279Z"
   },
   {
    "duration": 21,
    "start_time": "2022-11-02T21:42:17.313Z"
   },
   {
    "duration": 40,
    "start_time": "2022-11-02T21:42:17.336Z"
   },
   {
    "duration": 48,
    "start_time": "2022-11-02T21:42:17.378Z"
   },
   {
    "duration": 29,
    "start_time": "2022-11-02T21:42:17.428Z"
   },
   {
    "duration": 25,
    "start_time": "2022-11-02T21:42:17.458Z"
   },
   {
    "duration": 33,
    "start_time": "2022-11-02T21:42:17.485Z"
   },
   {
    "duration": 12,
    "start_time": "2022-11-02T21:42:17.519Z"
   },
   {
    "duration": 7,
    "start_time": "2022-11-02T21:42:17.532Z"
   },
   {
    "duration": 10,
    "start_time": "2022-11-02T21:42:17.540Z"
   },
   {
    "duration": 3,
    "start_time": "2022-11-02T21:42:17.552Z"
   },
   {
    "duration": 10,
    "start_time": "2022-11-02T21:42:17.556Z"
   },
   {
    "duration": 299,
    "start_time": "2022-11-02T21:42:17.568Z"
   },
   {
    "duration": 27,
    "start_time": "2022-11-02T21:42:17.869Z"
   },
   {
    "duration": 31,
    "start_time": "2022-11-02T21:42:17.898Z"
   },
   {
    "duration": 16,
    "start_time": "2022-11-02T21:42:17.931Z"
   },
   {
    "duration": 14,
    "start_time": "2022-11-02T21:42:17.949Z"
   },
   {
    "duration": 959,
    "start_time": "2022-11-02T21:42:17.965Z"
   },
   {
    "duration": 10,
    "start_time": "2022-11-02T21:42:18.925Z"
   },
   {
    "duration": 30,
    "start_time": "2022-11-02T21:42:18.936Z"
   },
   {
    "duration": 11,
    "start_time": "2022-11-02T21:42:18.967Z"
   },
   {
    "duration": 30,
    "start_time": "2022-11-02T21:42:18.979Z"
   },
   {
    "duration": 251,
    "start_time": "2022-11-02T21:42:19.013Z"
   },
   {
    "duration": 26,
    "start_time": "2022-11-02T21:42:19.266Z"
   },
   {
    "duration": 283,
    "start_time": "2022-11-02T21:42:19.293Z"
   },
   {
    "duration": 16,
    "start_time": "2022-11-02T21:42:19.579Z"
   },
   {
    "duration": 204,
    "start_time": "2022-11-02T21:42:19.609Z"
   },
   {
    "duration": 436,
    "start_time": "2022-11-02T21:42:19.816Z"
   },
   {
    "duration": 4,
    "start_time": "2022-11-02T21:42:20.254Z"
   },
   {
    "duration": 19,
    "start_time": "2022-11-02T21:42:20.259Z"
   },
   {
    "duration": 373,
    "start_time": "2022-11-02T21:42:20.280Z"
   },
   {
    "duration": 14,
    "start_time": "2022-11-02T21:42:20.654Z"
   },
   {
    "duration": 13,
    "start_time": "2022-11-02T21:42:20.670Z"
   },
   {
    "duration": 31,
    "start_time": "2022-11-02T21:42:20.684Z"
   },
   {
    "duration": 3,
    "start_time": "2022-11-02T21:42:20.717Z"
   },
   {
    "duration": 5,
    "start_time": "2022-11-02T21:42:20.722Z"
   },
   {
    "duration": 6,
    "start_time": "2022-11-02T21:42:20.728Z"
   },
   {
    "duration": 4,
    "start_time": "2022-11-02T21:42:20.735Z"
   },
   {
    "duration": 11,
    "start_time": "2022-11-02T21:42:20.740Z"
   },
   {
    "duration": 35,
    "start_time": "2022-11-02T21:42:20.752Z"
   },
   {
    "duration": 44,
    "start_time": "2022-11-02T21:42:20.789Z"
   },
   {
    "duration": 18,
    "start_time": "2022-11-02T21:42:20.834Z"
   },
   {
    "duration": 19,
    "start_time": "2022-11-02T21:42:20.854Z"
   },
   {
    "duration": 268,
    "start_time": "2022-11-02T21:42:20.875Z"
   },
   {
    "duration": 6,
    "start_time": "2022-11-02T21:42:21.144Z"
   },
   {
    "duration": 9,
    "start_time": "2022-11-02T21:42:21.151Z"
   },
   {
    "duration": 32,
    "start_time": "2022-11-02T21:42:21.161Z"
   },
   {
    "duration": 22,
    "start_time": "2022-11-02T21:42:21.194Z"
   },
   {
    "duration": 27,
    "start_time": "2022-11-02T21:42:21.217Z"
   },
   {
    "duration": 13,
    "start_time": "2022-11-02T21:42:21.246Z"
   },
   {
    "duration": 2,
    "start_time": "2022-11-02T21:42:21.261Z"
   },
   {
    "duration": 63,
    "start_time": "2022-11-02T21:42:21.265Z"
   },
   {
    "duration": 11,
    "start_time": "2022-11-02T21:42:21.329Z"
   },
   {
    "duration": 10,
    "start_time": "2022-11-02T21:45:30.341Z"
   },
   {
    "duration": 25,
    "start_time": "2022-11-02T21:45:46.838Z"
   },
   {
    "duration": 1118,
    "start_time": "2022-11-02T21:46:11.140Z"
   },
   {
    "duration": 166,
    "start_time": "2022-11-02T21:46:12.260Z"
   },
   {
    "duration": 347,
    "start_time": "2022-11-02T21:46:12.428Z"
   },
   {
    "duration": 53,
    "start_time": "2022-11-02T21:46:12.777Z"
   },
   {
    "duration": 14,
    "start_time": "2022-11-02T21:46:12.831Z"
   },
   {
    "duration": 16,
    "start_time": "2022-11-02T21:46:12.846Z"
   },
   {
    "duration": 19,
    "start_time": "2022-11-02T21:46:12.863Z"
   },
   {
    "duration": 61,
    "start_time": "2022-11-02T21:46:12.884Z"
   },
   {
    "duration": 27,
    "start_time": "2022-11-02T21:46:12.946Z"
   },
   {
    "duration": 44,
    "start_time": "2022-11-02T21:46:12.975Z"
   },
   {
    "duration": 27,
    "start_time": "2022-11-02T21:46:13.020Z"
   },
   {
    "duration": 16,
    "start_time": "2022-11-02T21:46:13.048Z"
   },
   {
    "duration": 13,
    "start_time": "2022-11-02T21:46:13.065Z"
   },
   {
    "duration": 32,
    "start_time": "2022-11-02T21:46:13.079Z"
   },
   {
    "duration": 12,
    "start_time": "2022-11-02T21:46:13.112Z"
   },
   {
    "duration": 4,
    "start_time": "2022-11-02T21:46:13.125Z"
   },
   {
    "duration": 13,
    "start_time": "2022-11-02T21:46:13.130Z"
   },
   {
    "duration": 307,
    "start_time": "2022-11-02T21:46:13.144Z"
   },
   {
    "duration": 27,
    "start_time": "2022-11-02T21:46:13.453Z"
   },
   {
    "duration": 38,
    "start_time": "2022-11-02T21:46:13.482Z"
   },
   {
    "duration": 15,
    "start_time": "2022-11-02T21:46:13.522Z"
   },
   {
    "duration": 12,
    "start_time": "2022-11-02T21:46:13.539Z"
   },
   {
    "duration": 972,
    "start_time": "2022-11-02T21:46:13.552Z"
   },
   {
    "duration": 10,
    "start_time": "2022-11-02T21:46:14.525Z"
   },
   {
    "duration": 23,
    "start_time": "2022-11-02T21:46:14.536Z"
   },
   {
    "duration": 10,
    "start_time": "2022-11-02T21:46:14.561Z"
   },
   {
    "duration": 38,
    "start_time": "2022-11-02T21:46:14.573Z"
   },
   {
    "duration": 248,
    "start_time": "2022-11-02T21:46:14.615Z"
   },
   {
    "duration": 24,
    "start_time": "2022-11-02T21:46:14.865Z"
   },
   {
    "duration": 257,
    "start_time": "2022-11-02T21:46:14.890Z"
   },
   {
    "duration": 16,
    "start_time": "2022-11-02T21:46:15.148Z"
   },
   {
    "duration": 205,
    "start_time": "2022-11-02T21:46:15.165Z"
   },
   {
    "duration": 399,
    "start_time": "2022-11-02T21:46:15.371Z"
   },
   {
    "duration": 3,
    "start_time": "2022-11-02T21:46:15.772Z"
   },
   {
    "duration": 8,
    "start_time": "2022-11-02T21:46:15.776Z"
   },
   {
    "duration": 378,
    "start_time": "2022-11-02T21:46:15.785Z"
   },
   {
    "duration": 15,
    "start_time": "2022-11-02T21:46:16.164Z"
   },
   {
    "duration": 12,
    "start_time": "2022-11-02T21:46:16.180Z"
   },
   {
    "duration": 14,
    "start_time": "2022-11-02T21:46:16.208Z"
   },
   {
    "duration": 4,
    "start_time": "2022-11-02T21:46:16.223Z"
   },
   {
    "duration": 10,
    "start_time": "2022-11-02T21:46:16.228Z"
   },
   {
    "duration": 5,
    "start_time": "2022-11-02T21:46:16.240Z"
   },
   {
    "duration": 4,
    "start_time": "2022-11-02T21:46:16.246Z"
   },
   {
    "duration": 6,
    "start_time": "2022-11-02T21:46:16.252Z"
   },
   {
    "duration": 64,
    "start_time": "2022-11-02T21:46:16.260Z"
   },
   {
    "duration": 25,
    "start_time": "2022-11-02T21:46:16.326Z"
   },
   {
    "duration": 19,
    "start_time": "2022-11-02T21:46:16.353Z"
   },
   {
    "duration": 51,
    "start_time": "2022-11-02T21:46:16.374Z"
   },
   {
    "duration": 263,
    "start_time": "2022-11-02T21:46:16.427Z"
   },
   {
    "duration": 6,
    "start_time": "2022-11-02T21:46:16.691Z"
   },
   {
    "duration": 14,
    "start_time": "2022-11-02T21:46:16.698Z"
   },
   {
    "duration": 23,
    "start_time": "2022-11-02T21:46:16.713Z"
   },
   {
    "duration": 12,
    "start_time": "2022-11-02T21:46:16.737Z"
   },
   {
    "duration": 24,
    "start_time": "2022-11-02T21:46:16.751Z"
   },
   {
    "duration": 37,
    "start_time": "2022-11-02T21:46:16.776Z"
   },
   {
    "duration": 2,
    "start_time": "2022-11-02T21:46:16.815Z"
   },
   {
    "duration": 25,
    "start_time": "2022-11-02T21:46:16.819Z"
   },
   {
    "duration": 12,
    "start_time": "2022-11-02T21:46:16.845Z"
   },
   {
    "duration": 1117,
    "start_time": "2022-11-02T21:52:18.410Z"
   },
   {
    "duration": 156,
    "start_time": "2022-11-02T21:52:19.529Z"
   },
   {
    "duration": 68,
    "start_time": "2022-11-02T21:52:19.686Z"
   },
   {
    "duration": 52,
    "start_time": "2022-11-02T21:52:19.756Z"
   },
   {
    "duration": 13,
    "start_time": "2022-11-02T21:52:19.809Z"
   },
   {
    "duration": 17,
    "start_time": "2022-11-02T21:52:19.824Z"
   },
   {
    "duration": 19,
    "start_time": "2022-11-02T21:52:19.843Z"
   },
   {
    "duration": 62,
    "start_time": "2022-11-02T21:52:19.864Z"
   },
   {
    "duration": 35,
    "start_time": "2022-11-02T21:52:19.927Z"
   },
   {
    "duration": 49,
    "start_time": "2022-11-02T21:52:19.965Z"
   },
   {
    "duration": 26,
    "start_time": "2022-11-02T21:52:20.016Z"
   },
   {
    "duration": 16,
    "start_time": "2022-11-02T21:52:20.043Z"
   },
   {
    "duration": 13,
    "start_time": "2022-11-02T21:52:20.060Z"
   },
   {
    "duration": 5,
    "start_time": "2022-11-02T21:52:20.074Z"
   },
   {
    "duration": 10,
    "start_time": "2022-11-02T21:52:20.110Z"
   },
   {
    "duration": 4,
    "start_time": "2022-11-02T21:52:20.122Z"
   },
   {
    "duration": 16,
    "start_time": "2022-11-02T21:52:20.127Z"
   },
   {
    "duration": 296,
    "start_time": "2022-11-02T21:52:20.144Z"
   },
   {
    "duration": 25,
    "start_time": "2022-11-02T21:52:20.442Z"
   },
   {
    "duration": 24,
    "start_time": "2022-11-02T21:52:20.468Z"
   },
   {
    "duration": 15,
    "start_time": "2022-11-02T21:52:20.509Z"
   },
   {
    "duration": 15,
    "start_time": "2022-11-02T21:52:20.525Z"
   },
   {
    "duration": 920,
    "start_time": "2022-11-02T21:52:20.541Z"
   },
   {
    "duration": 9,
    "start_time": "2022-11-02T21:52:21.463Z"
   },
   {
    "duration": 37,
    "start_time": "2022-11-02T21:52:21.473Z"
   },
   {
    "duration": 11,
    "start_time": "2022-11-02T21:52:21.511Z"
   },
   {
    "duration": 9,
    "start_time": "2022-11-02T21:52:21.524Z"
   },
   {
    "duration": 266,
    "start_time": "2022-11-02T21:52:21.537Z"
   },
   {
    "duration": 28,
    "start_time": "2022-11-02T21:52:21.804Z"
   },
   {
    "duration": 258,
    "start_time": "2022-11-02T21:52:21.834Z"
   },
   {
    "duration": 22,
    "start_time": "2022-11-02T21:52:22.094Z"
   },
   {
    "duration": 209,
    "start_time": "2022-11-02T21:52:22.118Z"
   },
   {
    "duration": 465,
    "start_time": "2022-11-02T21:52:22.329Z"
   },
   {
    "duration": 4,
    "start_time": "2022-11-02T21:52:22.796Z"
   },
   {
    "duration": 8,
    "start_time": "2022-11-02T21:52:22.801Z"
   },
   {
    "duration": 383,
    "start_time": "2022-11-02T21:52:22.810Z"
   },
   {
    "duration": 19,
    "start_time": "2022-11-02T21:52:23.194Z"
   },
   {
    "duration": 18,
    "start_time": "2022-11-02T21:52:23.214Z"
   },
   {
    "duration": 20,
    "start_time": "2022-11-02T21:52:23.234Z"
   },
   {
    "duration": 13,
    "start_time": "2022-11-02T21:52:23.256Z"
   },
   {
    "duration": 19,
    "start_time": "2022-11-02T21:52:23.271Z"
   },
   {
    "duration": 23,
    "start_time": "2022-11-02T21:52:23.291Z"
   },
   {
    "duration": 19,
    "start_time": "2022-11-02T21:52:23.315Z"
   },
   {
    "duration": 8,
    "start_time": "2022-11-02T21:52:23.336Z"
   },
   {
    "duration": 35,
    "start_time": "2022-11-02T21:52:23.345Z"
   },
   {
    "duration": 28,
    "start_time": "2022-11-02T21:52:23.381Z"
   },
   {
    "duration": 19,
    "start_time": "2022-11-02T21:52:23.410Z"
   },
   {
    "duration": 22,
    "start_time": "2022-11-02T21:52:23.430Z"
   },
   {
    "duration": 271,
    "start_time": "2022-11-02T21:52:23.453Z"
   },
   {
    "duration": 6,
    "start_time": "2022-11-02T21:52:23.726Z"
   },
   {
    "duration": 7,
    "start_time": "2022-11-02T21:52:23.734Z"
   },
   {
    "duration": 26,
    "start_time": "2022-11-02T21:52:23.742Z"
   },
   {
    "duration": 11,
    "start_time": "2022-11-02T21:52:23.770Z"
   },
   {
    "duration": 52,
    "start_time": "2022-11-02T21:52:23.782Z"
   },
   {
    "duration": 12,
    "start_time": "2022-11-02T21:52:23.835Z"
   },
   {
    "duration": 3,
    "start_time": "2022-11-02T21:52:23.848Z"
   },
   {
    "duration": 28,
    "start_time": "2022-11-02T21:52:23.852Z"
   },
   {
    "duration": 38,
    "start_time": "2022-11-02T21:52:23.881Z"
   },
   {
    "duration": 7,
    "start_time": "2022-11-02T21:57:58.824Z"
   },
   {
    "duration": 1112,
    "start_time": "2022-11-02T22:13:04.815Z"
   },
   {
    "duration": 215,
    "start_time": "2022-11-02T22:13:05.929Z"
   },
   {
    "duration": 34,
    "start_time": "2022-11-02T22:13:06.146Z"
   },
   {
    "duration": 60,
    "start_time": "2022-11-02T22:13:06.182Z"
   },
   {
    "duration": 16,
    "start_time": "2022-11-02T22:13:06.244Z"
   },
   {
    "duration": 15,
    "start_time": "2022-11-02T22:13:06.261Z"
   },
   {
    "duration": 41,
    "start_time": "2022-11-02T22:13:06.277Z"
   },
   {
    "duration": 40,
    "start_time": "2022-11-02T22:13:06.319Z"
   },
   {
    "duration": 27,
    "start_time": "2022-11-02T22:13:06.361Z"
   },
   {
    "duration": 31,
    "start_time": "2022-11-02T22:13:06.410Z"
   },
   {
    "duration": 28,
    "start_time": "2022-11-02T22:13:06.443Z"
   },
   {
    "duration": 38,
    "start_time": "2022-11-02T22:13:06.472Z"
   },
   {
    "duration": 14,
    "start_time": "2022-11-02T22:13:06.512Z"
   },
   {
    "duration": 7,
    "start_time": "2022-11-02T22:13:06.528Z"
   },
   {
    "duration": 16,
    "start_time": "2022-11-02T22:13:06.537Z"
   },
   {
    "duration": 4,
    "start_time": "2022-11-02T22:13:06.555Z"
   },
   {
    "duration": 12,
    "start_time": "2022-11-02T22:13:06.561Z"
   },
   {
    "duration": 313,
    "start_time": "2022-11-02T22:13:06.574Z"
   },
   {
    "duration": 31,
    "start_time": "2022-11-02T22:13:06.889Z"
   },
   {
    "duration": 24,
    "start_time": "2022-11-02T22:13:06.922Z"
   },
   {
    "duration": 16,
    "start_time": "2022-11-02T22:13:06.947Z"
   },
   {
    "duration": 12,
    "start_time": "2022-11-02T22:13:06.964Z"
   },
   {
    "duration": 946,
    "start_time": "2022-11-02T22:13:06.978Z"
   },
   {
    "duration": 10,
    "start_time": "2022-11-02T22:13:07.926Z"
   },
   {
    "duration": 25,
    "start_time": "2022-11-02T22:13:07.937Z"
   },
   {
    "duration": 11,
    "start_time": "2022-11-02T22:13:07.964Z"
   },
   {
    "duration": 38,
    "start_time": "2022-11-02T22:13:07.977Z"
   },
   {
    "duration": 259,
    "start_time": "2022-11-02T22:13:08.018Z"
   },
   {
    "duration": 31,
    "start_time": "2022-11-02T22:13:08.278Z"
   },
   {
    "duration": 257,
    "start_time": "2022-11-02T22:13:08.311Z"
   },
   {
    "duration": 15,
    "start_time": "2022-11-02T22:13:08.570Z"
   },
   {
    "duration": 224,
    "start_time": "2022-11-02T22:13:08.587Z"
   },
   {
    "duration": 448,
    "start_time": "2022-11-02T22:13:08.813Z"
   },
   {
    "duration": 4,
    "start_time": "2022-11-02T22:13:09.263Z"
   },
   {
    "duration": 8,
    "start_time": "2022-11-02T22:13:09.268Z"
   },
   {
    "duration": 384,
    "start_time": "2022-11-02T22:13:09.277Z"
   },
   {
    "duration": 13,
    "start_time": "2022-11-02T22:13:09.663Z"
   },
   {
    "duration": 11,
    "start_time": "2022-11-02T22:13:09.678Z"
   },
   {
    "duration": 30,
    "start_time": "2022-11-02T22:13:09.691Z"
   },
   {
    "duration": 3,
    "start_time": "2022-11-02T22:13:09.723Z"
   },
   {
    "duration": 8,
    "start_time": "2022-11-02T22:13:09.727Z"
   },
   {
    "duration": 8,
    "start_time": "2022-11-02T22:13:09.736Z"
   },
   {
    "duration": 3,
    "start_time": "2022-11-02T22:13:09.746Z"
   },
   {
    "duration": 6,
    "start_time": "2022-11-02T22:13:09.751Z"
   },
   {
    "duration": 58,
    "start_time": "2022-11-02T22:13:09.758Z"
   },
   {
    "duration": 27,
    "start_time": "2022-11-02T22:13:09.817Z"
   },
   {
    "duration": 18,
    "start_time": "2022-11-02T22:13:09.846Z"
   },
   {
    "duration": 45,
    "start_time": "2022-11-02T22:13:09.865Z"
   },
   {
    "duration": 266,
    "start_time": "2022-11-02T22:13:09.911Z"
   },
   {
    "duration": 6,
    "start_time": "2022-11-02T22:13:10.179Z"
   },
   {
    "duration": 9,
    "start_time": "2022-11-02T22:13:10.186Z"
   },
   {
    "duration": 23,
    "start_time": "2022-11-02T22:13:10.208Z"
   },
   {
    "duration": 11,
    "start_time": "2022-11-02T22:13:10.232Z"
   },
   {
    "duration": 23,
    "start_time": "2022-11-02T22:13:10.244Z"
   },
   {
    "duration": 41,
    "start_time": "2022-11-02T22:13:10.269Z"
   },
   {
    "duration": 3,
    "start_time": "2022-11-02T22:13:10.311Z"
   },
   {
    "duration": 29,
    "start_time": "2022-11-02T22:13:10.315Z"
   },
   {
    "duration": 12,
    "start_time": "2022-11-02T22:13:10.345Z"
   },
   {
    "duration": 8,
    "start_time": "2022-11-02T22:20:56.444Z"
   },
   {
    "duration": 8,
    "start_time": "2022-11-02T22:22:52.988Z"
   },
   {
    "duration": 8,
    "start_time": "2022-11-02T22:23:38.247Z"
   },
   {
    "duration": 11,
    "start_time": "2022-11-02T22:24:07.717Z"
   },
   {
    "duration": 1050,
    "start_time": "2022-11-02T22:25:44.609Z"
   },
   {
    "duration": 25,
    "start_time": "2022-11-02T22:26:13.689Z"
   },
   {
    "duration": 25,
    "start_time": "2022-11-02T22:27:09.046Z"
   },
   {
    "duration": 14,
    "start_time": "2022-11-02T22:28:03.885Z"
   },
   {
    "duration": 255,
    "start_time": "2022-11-02T22:29:07.799Z"
   },
   {
    "duration": 243,
    "start_time": "2022-11-02T22:31:07.272Z"
   },
   {
    "duration": 310,
    "start_time": "2022-11-02T22:32:54.634Z"
   },
   {
    "duration": 2,
    "start_time": "2022-11-02T22:37:10.980Z"
   },
   {
    "duration": 5,
    "start_time": "2022-11-02T22:38:47.321Z"
   },
   {
    "duration": 5,
    "start_time": "2022-11-02T22:39:00.294Z"
   },
   {
    "duration": 14,
    "start_time": "2022-11-02T22:48:50.020Z"
   },
   {
    "duration": 15,
    "start_time": "2022-11-02T22:49:15.365Z"
   },
   {
    "duration": 1123,
    "start_time": "2022-11-02T22:50:08.610Z"
   },
   {
    "duration": 187,
    "start_time": "2022-11-02T22:50:09.734Z"
   },
   {
    "duration": 27,
    "start_time": "2022-11-02T22:50:09.922Z"
   },
   {
    "duration": 53,
    "start_time": "2022-11-02T22:50:09.951Z"
   },
   {
    "duration": 14,
    "start_time": "2022-11-02T22:50:10.006Z"
   },
   {
    "duration": 18,
    "start_time": "2022-11-02T22:50:10.022Z"
   },
   {
    "duration": 23,
    "start_time": "2022-11-02T22:50:10.041Z"
   },
   {
    "duration": 61,
    "start_time": "2022-11-02T22:50:10.065Z"
   },
   {
    "duration": 33,
    "start_time": "2022-11-02T22:50:10.128Z"
   },
   {
    "duration": 45,
    "start_time": "2022-11-02T22:50:10.164Z"
   },
   {
    "duration": 26,
    "start_time": "2022-11-02T22:50:10.210Z"
   },
   {
    "duration": 16,
    "start_time": "2022-11-02T22:50:10.237Z"
   },
   {
    "duration": 13,
    "start_time": "2022-11-02T22:50:10.255Z"
   },
   {
    "duration": 6,
    "start_time": "2022-11-02T22:50:10.269Z"
   },
   {
    "duration": 41,
    "start_time": "2022-11-02T22:50:10.277Z"
   },
   {
    "duration": 5,
    "start_time": "2022-11-02T22:50:10.319Z"
   },
   {
    "duration": 10,
    "start_time": "2022-11-02T22:50:10.326Z"
   },
   {
    "duration": 303,
    "start_time": "2022-11-02T22:50:10.338Z"
   },
   {
    "duration": 26,
    "start_time": "2022-11-02T22:50:10.643Z"
   },
   {
    "duration": 40,
    "start_time": "2022-11-02T22:50:10.670Z"
   },
   {
    "duration": 16,
    "start_time": "2022-11-02T22:50:10.712Z"
   },
   {
    "duration": 12,
    "start_time": "2022-11-02T22:50:10.730Z"
   },
   {
    "duration": 928,
    "start_time": "2022-11-02T22:50:10.743Z"
   },
   {
    "duration": 10,
    "start_time": "2022-11-02T22:50:11.672Z"
   },
   {
    "duration": 37,
    "start_time": "2022-11-02T22:50:11.684Z"
   },
   {
    "duration": 9,
    "start_time": "2022-11-02T22:50:11.723Z"
   },
   {
    "duration": 8,
    "start_time": "2022-11-02T22:50:11.734Z"
   },
   {
    "duration": 264,
    "start_time": "2022-11-02T22:50:11.745Z"
   },
   {
    "duration": 23,
    "start_time": "2022-11-02T22:50:12.010Z"
   },
   {
    "duration": 258,
    "start_time": "2022-11-02T22:50:12.034Z"
   },
   {
    "duration": 22,
    "start_time": "2022-11-02T22:50:12.294Z"
   },
   {
    "duration": 211,
    "start_time": "2022-11-02T22:50:12.318Z"
   },
   {
    "duration": 434,
    "start_time": "2022-11-02T22:50:12.530Z"
   },
   {
    "duration": 4,
    "start_time": "2022-11-02T22:50:12.966Z"
   },
   {
    "duration": 4,
    "start_time": "2022-11-02T22:50:12.972Z"
   },
   {
    "duration": 391,
    "start_time": "2022-11-02T22:50:12.978Z"
   },
   {
    "duration": 15,
    "start_time": "2022-11-02T22:50:13.371Z"
   },
   {
    "duration": 23,
    "start_time": "2022-11-02T22:50:13.388Z"
   },
   {
    "duration": 15,
    "start_time": "2022-11-02T22:50:13.413Z"
   },
   {
    "duration": 3,
    "start_time": "2022-11-02T22:50:13.429Z"
   },
   {
    "duration": 8,
    "start_time": "2022-11-02T22:50:13.434Z"
   },
   {
    "duration": 6,
    "start_time": "2022-11-02T22:50:13.444Z"
   },
   {
    "duration": 5,
    "start_time": "2022-11-02T22:50:13.452Z"
   },
   {
    "duration": 6,
    "start_time": "2022-11-02T22:50:13.459Z"
   },
   {
    "duration": 68,
    "start_time": "2022-11-02T22:50:13.467Z"
   },
   {
    "duration": 29,
    "start_time": "2022-11-02T22:50:13.537Z"
   },
   {
    "duration": 20,
    "start_time": "2022-11-02T22:50:13.567Z"
   },
   {
    "duration": 24,
    "start_time": "2022-11-02T22:50:13.609Z"
   },
   {
    "duration": 265,
    "start_time": "2022-11-02T22:50:13.634Z"
   },
   {
    "duration": 11,
    "start_time": "2022-11-02T22:50:13.900Z"
   },
   {
    "duration": 8,
    "start_time": "2022-11-02T22:50:13.912Z"
   },
   {
    "duration": 23,
    "start_time": "2022-11-02T22:50:13.921Z"
   },
   {
    "duration": 10,
    "start_time": "2022-11-02T22:50:13.946Z"
   },
   {
    "duration": 26,
    "start_time": "2022-11-02T22:50:13.958Z"
   },
   {
    "duration": 11,
    "start_time": "2022-11-02T22:50:14.009Z"
   },
   {
    "duration": 3,
    "start_time": "2022-11-02T22:50:14.021Z"
   },
   {
    "duration": 28,
    "start_time": "2022-11-02T22:50:14.025Z"
   },
   {
    "duration": 11,
    "start_time": "2022-11-02T22:50:14.054Z"
   },
   {
    "duration": 13,
    "start_time": "2022-11-02T22:50:14.066Z"
   },
   {
    "duration": 259,
    "start_time": "2022-11-02T22:50:14.109Z"
   },
   {
    "duration": 4,
    "start_time": "2022-11-02T22:50:14.370Z"
   },
   {
    "duration": 33,
    "start_time": "2022-11-02T22:50:14.376Z"
   },
   {
    "duration": 14,
    "start_time": "2022-11-02T22:50:37.343Z"
   },
   {
    "duration": 16,
    "start_time": "2022-11-02T22:51:17.193Z"
   },
   {
    "duration": 24,
    "start_time": "2022-11-02T22:52:08.930Z"
   },
   {
    "duration": 24,
    "start_time": "2022-11-02T22:54:41.186Z"
   },
   {
    "duration": 25,
    "start_time": "2022-11-02T22:55:08.526Z"
   },
   {
    "duration": 27,
    "start_time": "2022-11-02T22:56:31.469Z"
   },
   {
    "duration": 16,
    "start_time": "2022-11-02T22:56:57.408Z"
   },
   {
    "duration": 9,
    "start_time": "2022-11-02T23:00:14.124Z"
   },
   {
    "duration": 242,
    "start_time": "2022-11-02T23:00:59.691Z"
   },
   {
    "duration": 109,
    "start_time": "2022-11-02T23:05:08.882Z"
   },
   {
    "duration": 6,
    "start_time": "2022-11-02T23:05:47.834Z"
   },
   {
    "duration": 5,
    "start_time": "2022-11-02T23:07:01.660Z"
   },
   {
    "duration": 8,
    "start_time": "2022-11-02T23:21:23.222Z"
   },
   {
    "duration": 52,
    "start_time": "2022-11-02T23:21:27.275Z"
   },
   {
    "duration": 4,
    "start_time": "2022-11-02T23:21:43.256Z"
   },
   {
    "duration": 9,
    "start_time": "2022-11-02T23:21:45.139Z"
   },
   {
    "duration": 31,
    "start_time": "2022-11-02T23:22:14.887Z"
   },
   {
    "duration": 48,
    "start_time": "2022-11-02T23:23:45.566Z"
   },
   {
    "duration": 42,
    "start_time": "2022-11-02T23:24:05.951Z"
   },
   {
    "duration": 3,
    "start_time": "2022-11-02T23:24:20.256Z"
   },
   {
    "duration": 13,
    "start_time": "2022-11-02T23:24:22.900Z"
   },
   {
    "duration": 13,
    "start_time": "2022-11-02T23:24:45.777Z"
   },
   {
    "duration": 13,
    "start_time": "2022-11-02T23:24:54.907Z"
   },
   {
    "duration": 4,
    "start_time": "2022-11-02T23:25:29.085Z"
   },
   {
    "duration": 14,
    "start_time": "2022-11-02T23:25:30.035Z"
   },
   {
    "duration": 3,
    "start_time": "2022-11-02T23:29:04.834Z"
   },
   {
    "duration": 15,
    "start_time": "2022-11-02T23:29:24.948Z"
   },
   {
    "duration": 12,
    "start_time": "2022-11-02T23:29:58.078Z"
   },
   {
    "duration": 4,
    "start_time": "2022-11-02T23:31:36.468Z"
   },
   {
    "duration": 14,
    "start_time": "2022-11-02T23:31:38.328Z"
   },
   {
    "duration": 4,
    "start_time": "2022-11-02T23:34:42.495Z"
   },
   {
    "duration": 28,
    "start_time": "2022-11-02T23:34:44.278Z"
   },
   {
    "duration": 4,
    "start_time": "2022-11-02T23:40:14.080Z"
   },
   {
    "duration": 14,
    "start_time": "2022-11-02T23:40:18.044Z"
   },
   {
    "duration": 8,
    "start_time": "2022-11-02T23:40:48.260Z"
   },
   {
    "duration": 17,
    "start_time": "2022-11-02T23:41:54.462Z"
   },
   {
    "duration": 75,
    "start_time": "2022-11-02T23:50:12.529Z"
   },
   {
    "duration": 45,
    "start_time": "2022-11-02T23:51:11.568Z"
   },
   {
    "duration": 3,
    "start_time": "2022-11-02T23:51:36.229Z"
   },
   {
    "duration": 22,
    "start_time": "2022-11-02T23:51:39.832Z"
   },
   {
    "duration": 5,
    "start_time": "2022-11-02T23:53:11.122Z"
   },
   {
    "duration": 329,
    "start_time": "2022-11-02T23:53:14.809Z"
   },
   {
    "duration": 4,
    "start_time": "2022-11-02T23:53:31.680Z"
   },
   {
    "duration": 251,
    "start_time": "2022-11-02T23:53:34.851Z"
   },
   {
    "duration": 4,
    "start_time": "2022-11-02T23:54:20.934Z"
   },
   {
    "duration": 251,
    "start_time": "2022-11-02T23:54:23.499Z"
   },
   {
    "duration": 263,
    "start_time": "2022-11-02T23:55:54.169Z"
   },
   {
    "duration": 5,
    "start_time": "2022-11-02T23:57:39.137Z"
   },
   {
    "duration": 261,
    "start_time": "2022-11-02T23:57:40.992Z"
   },
   {
    "duration": 4,
    "start_time": "2022-11-02T23:58:04.536Z"
   },
   {
    "duration": 243,
    "start_time": "2022-11-02T23:58:07.983Z"
   },
   {
    "duration": 826,
    "start_time": "2022-11-02T23:59:10.513Z"
   },
   {
    "duration": 1103,
    "start_time": "2022-11-03T00:09:00.048Z"
   },
   {
    "duration": 185,
    "start_time": "2022-11-03T00:09:01.153Z"
   },
   {
    "duration": 58,
    "start_time": "2022-11-03T00:09:01.340Z"
   },
   {
    "duration": 53,
    "start_time": "2022-11-03T00:09:01.400Z"
   },
   {
    "duration": 14,
    "start_time": "2022-11-03T00:09:01.454Z"
   },
   {
    "duration": 14,
    "start_time": "2022-11-03T00:09:01.469Z"
   },
   {
    "duration": 37,
    "start_time": "2022-11-03T00:09:01.485Z"
   },
   {
    "duration": 41,
    "start_time": "2022-11-03T00:09:01.524Z"
   },
   {
    "duration": 44,
    "start_time": "2022-11-03T00:09:01.567Z"
   },
   {
    "duration": 30,
    "start_time": "2022-11-03T00:09:01.614Z"
   },
   {
    "duration": 28,
    "start_time": "2022-11-03T00:09:01.645Z"
   },
   {
    "duration": 41,
    "start_time": "2022-11-03T00:09:01.675Z"
   },
   {
    "duration": 13,
    "start_time": "2022-11-03T00:09:01.717Z"
   },
   {
    "duration": 9,
    "start_time": "2022-11-03T00:09:01.731Z"
   },
   {
    "duration": 16,
    "start_time": "2022-11-03T00:09:01.741Z"
   },
   {
    "duration": 4,
    "start_time": "2022-11-03T00:09:01.758Z"
   },
   {
    "duration": 19,
    "start_time": "2022-11-03T00:09:01.764Z"
   },
   {
    "duration": 304,
    "start_time": "2022-11-03T00:09:01.785Z"
   },
   {
    "duration": 33,
    "start_time": "2022-11-03T00:09:02.091Z"
   },
   {
    "duration": 25,
    "start_time": "2022-11-03T00:09:02.126Z"
   },
   {
    "duration": 16,
    "start_time": "2022-11-03T00:09:02.152Z"
   },
   {
    "duration": 14,
    "start_time": "2022-11-03T00:09:02.169Z"
   },
   {
    "duration": 944,
    "start_time": "2022-11-03T00:09:02.184Z"
   },
   {
    "duration": 10,
    "start_time": "2022-11-03T00:09:03.129Z"
   },
   {
    "duration": 34,
    "start_time": "2022-11-03T00:09:03.141Z"
   },
   {
    "duration": 11,
    "start_time": "2022-11-03T00:09:03.177Z"
   },
   {
    "duration": 27,
    "start_time": "2022-11-03T00:09:03.189Z"
   },
   {
    "duration": 246,
    "start_time": "2022-11-03T00:09:03.219Z"
   },
   {
    "duration": 24,
    "start_time": "2022-11-03T00:09:03.466Z"
   },
   {
    "duration": 262,
    "start_time": "2022-11-03T00:09:03.492Z"
   },
   {
    "duration": 16,
    "start_time": "2022-11-03T00:09:03.756Z"
   },
   {
    "duration": 211,
    "start_time": "2022-11-03T00:09:03.773Z"
   },
   {
    "duration": 465,
    "start_time": "2022-11-03T00:09:03.985Z"
   },
   {
    "duration": 5,
    "start_time": "2022-11-03T00:09:04.452Z"
   },
   {
    "duration": 8,
    "start_time": "2022-11-03T00:09:04.459Z"
   },
   {
    "duration": 395,
    "start_time": "2022-11-03T00:09:04.468Z"
   },
   {
    "duration": 15,
    "start_time": "2022-11-03T00:09:04.864Z"
   },
   {
    "duration": 13,
    "start_time": "2022-11-03T00:09:04.880Z"
   },
   {
    "duration": 27,
    "start_time": "2022-11-03T00:09:04.894Z"
   },
   {
    "duration": 4,
    "start_time": "2022-11-03T00:09:04.922Z"
   },
   {
    "duration": 15,
    "start_time": "2022-11-03T00:09:04.927Z"
   },
   {
    "duration": 10,
    "start_time": "2022-11-03T00:09:04.943Z"
   },
   {
    "duration": 5,
    "start_time": "2022-11-03T00:09:04.955Z"
   },
   {
    "duration": 8,
    "start_time": "2022-11-03T00:09:04.962Z"
   },
   {
    "duration": 45,
    "start_time": "2022-11-03T00:09:04.971Z"
   },
   {
    "duration": 27,
    "start_time": "2022-11-03T00:09:05.017Z"
   },
   {
    "duration": 19,
    "start_time": "2022-11-03T00:09:05.045Z"
   },
   {
    "duration": 45,
    "start_time": "2022-11-03T00:09:05.065Z"
   },
   {
    "duration": 258,
    "start_time": "2022-11-03T00:09:05.111Z"
   },
   {
    "duration": 6,
    "start_time": "2022-11-03T00:09:05.371Z"
   },
   {
    "duration": 8,
    "start_time": "2022-11-03T00:09:05.378Z"
   },
   {
    "duration": 22,
    "start_time": "2022-11-03T00:09:05.387Z"
   },
   {
    "duration": 837,
    "start_time": "2022-11-03T00:09:05.410Z"
   },
   {
    "duration": 29,
    "start_time": "2022-11-03T00:09:06.249Z"
   },
   {
    "duration": 10,
    "start_time": "2022-11-03T00:09:06.280Z"
   },
   {
    "duration": 24,
    "start_time": "2022-11-03T00:09:06.309Z"
   },
   {
    "duration": 10,
    "start_time": "2022-11-03T00:09:06.335Z"
   },
   {
    "duration": 2,
    "start_time": "2022-11-03T00:09:06.347Z"
   },
   {
    "duration": 24,
    "start_time": "2022-11-03T00:09:06.350Z"
   },
   {
    "duration": 39,
    "start_time": "2022-11-03T00:09:06.375Z"
   },
   {
    "duration": 15,
    "start_time": "2022-11-03T00:09:06.415Z"
   },
   {
    "duration": 275,
    "start_time": "2022-11-03T00:09:06.431Z"
   },
   {
    "duration": 5,
    "start_time": "2022-11-03T00:09:06.707Z"
   },
   {
    "duration": 18,
    "start_time": "2022-11-03T00:09:06.713Z"
   },
   {
    "duration": 10,
    "start_time": "2022-11-03T00:09:06.732Z"
   },
   {
    "duration": 263,
    "start_time": "2022-11-03T00:09:06.744Z"
   },
   {
    "duration": 6,
    "start_time": "2022-11-03T00:09:07.009Z"
   },
   {
    "duration": 113,
    "start_time": "2022-11-03T00:34:05.326Z"
   },
   {
    "duration": 4,
    "start_time": "2022-11-03T00:34:32.665Z"
   },
   {
    "duration": 12,
    "start_time": "2022-11-03T00:36:35.138Z"
   },
   {
    "duration": 1064,
    "start_time": "2022-11-03T00:38:24.662Z"
   },
   {
    "duration": 432,
    "start_time": "2022-11-03T00:38:25.727Z"
   },
   {
    "duration": 57,
    "start_time": "2022-11-03T00:38:26.161Z"
   },
   {
    "duration": 59,
    "start_time": "2022-11-03T00:38:26.220Z"
   },
   {
    "duration": 13,
    "start_time": "2022-11-03T00:38:26.281Z"
   },
   {
    "duration": 28,
    "start_time": "2022-11-03T00:38:26.295Z"
   },
   {
    "duration": 20,
    "start_time": "2022-11-03T00:38:26.325Z"
   },
   {
    "duration": 74,
    "start_time": "2022-11-03T00:38:26.347Z"
   },
   {
    "duration": 27,
    "start_time": "2022-11-03T00:38:26.422Z"
   },
   {
    "duration": 33,
    "start_time": "2022-11-03T00:38:26.452Z"
   },
   {
    "duration": 38,
    "start_time": "2022-11-03T00:38:26.487Z"
   },
   {
    "duration": 19,
    "start_time": "2022-11-03T00:38:26.526Z"
   },
   {
    "duration": 12,
    "start_time": "2022-11-03T00:38:26.547Z"
   },
   {
    "duration": 6,
    "start_time": "2022-11-03T00:38:26.560Z"
   },
   {
    "duration": 13,
    "start_time": "2022-11-03T00:38:26.568Z"
   },
   {
    "duration": 3,
    "start_time": "2022-11-03T00:38:26.583Z"
   },
   {
    "duration": 30,
    "start_time": "2022-11-03T00:38:26.587Z"
   },
   {
    "duration": 385,
    "start_time": "2022-11-03T00:38:26.619Z"
   },
   {
    "duration": 27,
    "start_time": "2022-11-03T00:38:27.008Z"
   },
   {
    "duration": 23,
    "start_time": "2022-11-03T00:38:27.037Z"
   },
   {
    "duration": 16,
    "start_time": "2022-11-03T00:38:27.062Z"
   },
   {
    "duration": 15,
    "start_time": "2022-11-03T00:38:27.109Z"
   },
   {
    "duration": 915,
    "start_time": "2022-11-03T00:38:27.126Z"
   },
   {
    "duration": 9,
    "start_time": "2022-11-03T00:38:28.042Z"
   },
   {
    "duration": 24,
    "start_time": "2022-11-03T00:38:28.052Z"
   },
   {
    "duration": 34,
    "start_time": "2022-11-03T00:38:28.078Z"
   },
   {
    "duration": 10,
    "start_time": "2022-11-03T00:38:28.114Z"
   },
   {
    "duration": 257,
    "start_time": "2022-11-03T00:38:28.128Z"
   },
   {
    "duration": 31,
    "start_time": "2022-11-03T00:38:28.387Z"
   },
   {
    "duration": 249,
    "start_time": "2022-11-03T00:38:28.420Z"
   },
   {
    "duration": 15,
    "start_time": "2022-11-03T00:38:28.671Z"
   },
   {
    "duration": 201,
    "start_time": "2022-11-03T00:38:28.687Z"
   },
   {
    "duration": 457,
    "start_time": "2022-11-03T00:38:28.889Z"
   },
   {
    "duration": 4,
    "start_time": "2022-11-03T00:38:29.348Z"
   },
   {
    "duration": 6,
    "start_time": "2022-11-03T00:38:29.353Z"
   },
   {
    "duration": 402,
    "start_time": "2022-11-03T00:38:29.361Z"
   },
   {
    "duration": 14,
    "start_time": "2022-11-03T00:38:29.765Z"
   },
   {
    "duration": 13,
    "start_time": "2022-11-03T00:38:29.780Z"
   },
   {
    "duration": 14,
    "start_time": "2022-11-03T00:38:29.809Z"
   },
   {
    "duration": 3,
    "start_time": "2022-11-03T00:38:29.825Z"
   },
   {
    "duration": 5,
    "start_time": "2022-11-03T00:38:29.829Z"
   },
   {
    "duration": 9,
    "start_time": "2022-11-03T00:38:29.835Z"
   },
   {
    "duration": 3,
    "start_time": "2022-11-03T00:38:29.846Z"
   },
   {
    "duration": 5,
    "start_time": "2022-11-03T00:38:29.851Z"
   },
   {
    "duration": 63,
    "start_time": "2022-11-03T00:38:29.857Z"
   },
   {
    "duration": 26,
    "start_time": "2022-11-03T00:38:29.922Z"
   },
   {
    "duration": 18,
    "start_time": "2022-11-03T00:38:29.950Z"
   },
   {
    "duration": 44,
    "start_time": "2022-11-03T00:38:29.970Z"
   },
   {
    "duration": 271,
    "start_time": "2022-11-03T00:38:30.015Z"
   },
   {
    "duration": 6,
    "start_time": "2022-11-03T00:38:30.287Z"
   },
   {
    "duration": 36,
    "start_time": "2022-11-03T00:38:30.294Z"
   },
   {
    "duration": 22,
    "start_time": "2022-11-03T00:38:30.331Z"
   },
   {
    "duration": 845,
    "start_time": "2022-11-03T00:38:30.354Z"
   },
   {
    "duration": 28,
    "start_time": "2022-11-03T00:38:31.201Z"
   },
   {
    "duration": 10,
    "start_time": "2022-11-03T00:38:31.231Z"
   },
   {
    "duration": 30,
    "start_time": "2022-11-03T00:38:31.242Z"
   },
   {
    "duration": 12,
    "start_time": "2022-11-03T00:38:31.273Z"
   },
   {
    "duration": 25,
    "start_time": "2022-11-03T00:38:31.286Z"
   },
   {
    "duration": 39,
    "start_time": "2022-11-03T00:38:31.313Z"
   },
   {
    "duration": 11,
    "start_time": "2022-11-03T00:38:31.354Z"
   },
   {
    "duration": 14,
    "start_time": "2022-11-03T00:38:31.367Z"
   },
   {
    "duration": 269,
    "start_time": "2022-11-03T00:38:31.383Z"
   },
   {
    "duration": 4,
    "start_time": "2022-11-03T00:38:31.654Z"
   },
   {
    "duration": 19,
    "start_time": "2022-11-03T00:38:31.659Z"
   },
   {
    "duration": 9,
    "start_time": "2022-11-03T00:38:31.680Z"
   },
   {
    "duration": 248,
    "start_time": "2022-11-03T00:38:31.709Z"
   },
   {
    "duration": 8,
    "start_time": "2022-11-03T00:38:31.959Z"
   },
   {
    "duration": 11,
    "start_time": "2022-11-03T00:38:31.968Z"
   },
   {
    "duration": 4,
    "start_time": "2022-11-03T00:40:23.446Z"
   },
   {
    "duration": 5,
    "start_time": "2022-11-03T00:41:32.762Z"
   },
   {
    "duration": 4,
    "start_time": "2022-11-03T00:42:07.797Z"
   },
   {
    "duration": 4,
    "start_time": "2022-11-03T00:42:57.993Z"
   },
   {
    "duration": 5,
    "start_time": "2022-11-03T00:46:11.391Z"
   },
   {
    "duration": 1097,
    "start_time": "2022-11-03T02:14:27.520Z"
   },
   {
    "duration": 182,
    "start_time": "2022-11-03T02:14:28.619Z"
   },
   {
    "duration": 66,
    "start_time": "2022-11-03T02:14:28.803Z"
   },
   {
    "duration": 52,
    "start_time": "2022-11-03T02:14:28.871Z"
   },
   {
    "duration": 14,
    "start_time": "2022-11-03T02:14:28.925Z"
   },
   {
    "duration": 14,
    "start_time": "2022-11-03T02:14:28.940Z"
   },
   {
    "duration": 20,
    "start_time": "2022-11-03T02:14:28.956Z"
   },
   {
    "duration": 66,
    "start_time": "2022-11-03T02:14:28.977Z"
   },
   {
    "duration": 25,
    "start_time": "2022-11-03T02:14:29.044Z"
   },
   {
    "duration": 43,
    "start_time": "2022-11-03T02:14:29.071Z"
   },
   {
    "duration": 26,
    "start_time": "2022-11-03T02:14:29.115Z"
   },
   {
    "duration": 15,
    "start_time": "2022-11-03T02:14:29.142Z"
   },
   {
    "duration": 12,
    "start_time": "2022-11-03T02:14:29.159Z"
   },
   {
    "duration": 5,
    "start_time": "2022-11-03T02:14:29.172Z"
   },
   {
    "duration": 9,
    "start_time": "2022-11-03T02:14:29.209Z"
   },
   {
    "duration": 3,
    "start_time": "2022-11-03T02:14:29.220Z"
   },
   {
    "duration": 9,
    "start_time": "2022-11-03T02:14:29.225Z"
   },
   {
    "duration": 305,
    "start_time": "2022-11-03T02:14:29.236Z"
   },
   {
    "duration": 26,
    "start_time": "2022-11-03T02:14:29.543Z"
   },
   {
    "duration": 24,
    "start_time": "2022-11-03T02:14:29.570Z"
   },
   {
    "duration": 15,
    "start_time": "2022-11-03T02:14:29.609Z"
   },
   {
    "duration": 13,
    "start_time": "2022-11-03T02:14:29.626Z"
   },
   {
    "duration": 937,
    "start_time": "2022-11-03T02:14:29.640Z"
   },
   {
    "duration": 10,
    "start_time": "2022-11-03T02:14:30.579Z"
   },
   {
    "duration": 40,
    "start_time": "2022-11-03T02:14:30.590Z"
   },
   {
    "duration": 10,
    "start_time": "2022-11-03T02:14:30.632Z"
   },
   {
    "duration": 16,
    "start_time": "2022-11-03T02:14:30.643Z"
   },
   {
    "duration": 262,
    "start_time": "2022-11-03T02:14:30.663Z"
   },
   {
    "duration": 23,
    "start_time": "2022-11-03T02:14:30.927Z"
   },
   {
    "duration": 251,
    "start_time": "2022-11-03T02:14:30.952Z"
   },
   {
    "duration": 17,
    "start_time": "2022-11-03T02:14:31.205Z"
   },
   {
    "duration": 214,
    "start_time": "2022-11-03T02:14:31.223Z"
   },
   {
    "duration": 460,
    "start_time": "2022-11-03T02:14:31.438Z"
   },
   {
    "duration": 4,
    "start_time": "2022-11-03T02:14:31.899Z"
   },
   {
    "duration": 3,
    "start_time": "2022-11-03T02:14:31.909Z"
   },
   {
    "duration": 383,
    "start_time": "2022-11-03T02:14:31.914Z"
   },
   {
    "duration": 15,
    "start_time": "2022-11-03T02:14:32.298Z"
   },
   {
    "duration": 29,
    "start_time": "2022-11-03T02:14:32.315Z"
   },
   {
    "duration": 13,
    "start_time": "2022-11-03T02:14:32.345Z"
   },
   {
    "duration": 3,
    "start_time": "2022-11-03T02:14:32.359Z"
   },
   {
    "duration": 3,
    "start_time": "2022-11-03T02:14:32.364Z"
   },
   {
    "duration": 7,
    "start_time": "2022-11-03T02:14:32.368Z"
   },
   {
    "duration": 5,
    "start_time": "2022-11-03T02:14:32.376Z"
   },
   {
    "duration": 28,
    "start_time": "2022-11-03T02:14:32.382Z"
   },
   {
    "duration": 33,
    "start_time": "2022-11-03T02:14:32.411Z"
   },
   {
    "duration": 26,
    "start_time": "2022-11-03T02:14:32.445Z"
   },
   {
    "duration": 18,
    "start_time": "2022-11-03T02:14:32.472Z"
   },
   {
    "duration": 21,
    "start_time": "2022-11-03T02:14:32.509Z"
   },
   {
    "duration": 260,
    "start_time": "2022-11-03T02:14:32.532Z"
   },
   {
    "duration": 6,
    "start_time": "2022-11-03T02:14:32.794Z"
   },
   {
    "duration": 5,
    "start_time": "2022-11-03T02:14:32.809Z"
   },
   {
    "duration": 4,
    "start_time": "2022-11-03T02:14:32.816Z"
   },
   {
    "duration": 841,
    "start_time": "2022-11-03T02:14:32.822Z"
   },
   {
    "duration": 23,
    "start_time": "2022-11-03T02:14:33.665Z"
   },
   {
    "duration": 24,
    "start_time": "2022-11-03T02:14:33.690Z"
   },
   {
    "duration": 24,
    "start_time": "2022-11-03T02:14:33.716Z"
   },
   {
    "duration": 12,
    "start_time": "2022-11-03T02:14:33.742Z"
   },
   {
    "duration": 2,
    "start_time": "2022-11-03T02:14:33.755Z"
   },
   {
    "duration": 54,
    "start_time": "2022-11-03T02:14:33.759Z"
   },
   {
    "duration": 11,
    "start_time": "2022-11-03T02:14:33.814Z"
   },
   {
    "duration": 13,
    "start_time": "2022-11-03T02:14:33.826Z"
   },
   {
    "duration": 281,
    "start_time": "2022-11-03T02:14:33.841Z"
   },
   {
    "duration": 5,
    "start_time": "2022-11-03T02:14:34.123Z"
   },
   {
    "duration": 19,
    "start_time": "2022-11-03T02:14:34.129Z"
   },
   {
    "duration": 9,
    "start_time": "2022-11-03T02:14:34.149Z"
   },
   {
    "duration": 273,
    "start_time": "2022-11-03T02:14:34.160Z"
   },
   {
    "duration": 6,
    "start_time": "2022-11-03T02:14:34.435Z"
   },
   {
    "duration": 9,
    "start_time": "2022-11-03T02:14:34.443Z"
   },
   {
    "duration": 6,
    "start_time": "2022-11-03T02:14:34.453Z"
   },
   {
    "duration": 9,
    "start_time": "2022-11-03T02:14:34.460Z"
   },
   {
    "duration": 1082,
    "start_time": "2022-11-03T07:03:54.248Z"
   },
   {
    "duration": 295,
    "start_time": "2022-11-03T07:03:55.336Z"
   },
   {
    "duration": 102,
    "start_time": "2022-11-03T07:03:55.633Z"
   },
   {
    "duration": 51,
    "start_time": "2022-11-03T07:03:55.739Z"
   },
   {
    "duration": 12,
    "start_time": "2022-11-03T07:03:55.792Z"
   },
   {
    "duration": 54,
    "start_time": "2022-11-03T07:03:55.806Z"
   },
   {
    "duration": 21,
    "start_time": "2022-11-03T07:03:55.861Z"
   },
   {
    "duration": 35,
    "start_time": "2022-11-03T07:03:55.883Z"
   },
   {
    "duration": 30,
    "start_time": "2022-11-03T07:03:55.919Z"
   },
   {
    "duration": 28,
    "start_time": "2022-11-03T07:03:55.951Z"
   },
   {
    "duration": 48,
    "start_time": "2022-11-03T07:03:55.980Z"
   },
   {
    "duration": 23,
    "start_time": "2022-11-03T07:03:56.031Z"
   },
   {
    "duration": 17,
    "start_time": "2022-11-03T07:03:56.056Z"
   },
   {
    "duration": 6,
    "start_time": "2022-11-03T07:03:56.074Z"
   },
   {
    "duration": 42,
    "start_time": "2022-11-03T07:03:56.082Z"
   },
   {
    "duration": 13,
    "start_time": "2022-11-03T07:03:56.126Z"
   },
   {
    "duration": 20,
    "start_time": "2022-11-03T07:03:56.141Z"
   },
   {
    "duration": 355,
    "start_time": "2022-11-03T07:03:56.163Z"
   },
   {
    "duration": 41,
    "start_time": "2022-11-03T07:03:56.519Z"
   },
   {
    "duration": 29,
    "start_time": "2022-11-03T07:03:56.561Z"
   },
   {
    "duration": 16,
    "start_time": "2022-11-03T07:03:56.592Z"
   },
   {
    "duration": 23,
    "start_time": "2022-11-03T07:03:56.623Z"
   },
   {
    "duration": 1121,
    "start_time": "2022-11-03T07:03:56.648Z"
   },
   {
    "duration": 10,
    "start_time": "2022-11-03T07:03:57.770Z"
   },
   {
    "duration": 56,
    "start_time": "2022-11-03T07:03:57.782Z"
   },
   {
    "duration": 14,
    "start_time": "2022-11-03T07:03:57.841Z"
   },
   {
    "duration": 18,
    "start_time": "2022-11-03T07:03:57.857Z"
   },
   {
    "duration": 292,
    "start_time": "2022-11-03T07:03:57.879Z"
   },
   {
    "duration": 25,
    "start_time": "2022-11-03T07:03:58.173Z"
   },
   {
    "duration": 286,
    "start_time": "2022-11-03T07:03:58.200Z"
   },
   {
    "duration": 21,
    "start_time": "2022-11-03T07:03:58.488Z"
   },
   {
    "duration": 226,
    "start_time": "2022-11-03T07:03:58.527Z"
   },
   {
    "duration": 452,
    "start_time": "2022-11-03T07:03:58.755Z"
   },
   {
    "duration": 4,
    "start_time": "2022-11-03T07:03:59.208Z"
   },
   {
    "duration": 22,
    "start_time": "2022-11-03T07:03:59.213Z"
   },
   {
    "duration": 532,
    "start_time": "2022-11-03T07:04:06.933Z"
   },
   {
    "duration": 323,
    "start_time": "2022-11-03T07:04:31.576Z"
   },
   {
    "duration": 314,
    "start_time": "2022-11-03T07:04:48.520Z"
   },
   {
    "duration": 321,
    "start_time": "2022-11-03T07:04:53.182Z"
   },
   {
    "duration": 3,
    "start_time": "2022-11-03T07:17:48.555Z"
   },
   {
    "duration": 646,
    "start_time": "2022-11-03T07:17:48.562Z"
   },
   {
    "duration": 53,
    "start_time": "2022-11-03T07:17:49.211Z"
   },
   {
    "duration": 51,
    "start_time": "2022-11-03T07:17:49.266Z"
   },
   {
    "duration": 15,
    "start_time": "2022-11-03T07:17:49.318Z"
   },
   {
    "duration": 19,
    "start_time": "2022-11-03T07:17:49.336Z"
   },
   {
    "duration": 19,
    "start_time": "2022-11-03T07:17:49.357Z"
   },
   {
    "duration": 59,
    "start_time": "2022-11-03T07:17:49.378Z"
   },
   {
    "duration": 140,
    "start_time": "2022-11-03T07:17:49.439Z"
   },
   {
    "duration": 61,
    "start_time": "2022-11-03T07:17:49.581Z"
   },
   {
    "duration": 41,
    "start_time": "2022-11-03T07:17:49.644Z"
   },
   {
    "duration": 44,
    "start_time": "2022-11-03T07:17:49.687Z"
   },
   {
    "duration": 14,
    "start_time": "2022-11-03T07:17:49.733Z"
   },
   {
    "duration": 8,
    "start_time": "2022-11-03T07:17:49.749Z"
   },
   {
    "duration": 17,
    "start_time": "2022-11-03T07:17:49.761Z"
   },
   {
    "duration": 5,
    "start_time": "2022-11-03T07:17:49.781Z"
   },
   {
    "duration": 43,
    "start_time": "2022-11-03T07:17:49.787Z"
   },
   {
    "duration": 285,
    "start_time": "2022-11-03T07:17:49.832Z"
   },
   {
    "duration": 27,
    "start_time": "2022-11-03T07:17:50.121Z"
   },
   {
    "duration": 26,
    "start_time": "2022-11-03T07:17:50.150Z"
   },
   {
    "duration": 15,
    "start_time": "2022-11-03T07:17:50.178Z"
   },
   {
    "duration": 14,
    "start_time": "2022-11-03T07:17:50.221Z"
   },
   {
    "duration": 978,
    "start_time": "2022-11-03T07:17:50.237Z"
   },
   {
    "duration": 12,
    "start_time": "2022-11-03T07:17:51.217Z"
   },
   {
    "duration": 52,
    "start_time": "2022-11-03T07:17:51.231Z"
   },
   {
    "duration": 11,
    "start_time": "2022-11-03T07:17:51.286Z"
   },
   {
    "duration": 23,
    "start_time": "2022-11-03T07:17:51.299Z"
   },
   {
    "duration": 390,
    "start_time": "2022-11-03T07:17:51.324Z"
   },
   {
    "duration": 28,
    "start_time": "2022-11-03T07:17:51.716Z"
   },
   {
    "duration": 272,
    "start_time": "2022-11-03T07:17:51.745Z"
   },
   {
    "duration": 21,
    "start_time": "2022-11-03T07:17:52.021Z"
   },
   {
    "duration": 304,
    "start_time": "2022-11-03T07:17:52.044Z"
   },
   {
    "duration": 374,
    "start_time": "2022-11-03T07:17:52.350Z"
   },
   {
    "duration": 4,
    "start_time": "2022-11-03T07:17:52.726Z"
   },
   {
    "duration": 9,
    "start_time": "2022-11-03T07:17:52.732Z"
   },
   {
    "duration": 440,
    "start_time": "2022-11-03T07:17:52.743Z"
   },
   {
    "duration": 14,
    "start_time": "2022-11-03T07:17:53.185Z"
   },
   {
    "duration": 25,
    "start_time": "2022-11-03T07:17:53.200Z"
   },
   {
    "duration": 19,
    "start_time": "2022-11-03T07:17:53.226Z"
   },
   {
    "duration": 4,
    "start_time": "2022-11-03T07:17:53.247Z"
   },
   {
    "duration": 9,
    "start_time": "2022-11-03T07:17:53.253Z"
   },
   {
    "duration": 12,
    "start_time": "2022-11-03T07:17:53.268Z"
   },
   {
    "duration": 6,
    "start_time": "2022-11-03T07:17:53.282Z"
   },
   {
    "duration": 34,
    "start_time": "2022-11-03T07:17:53.289Z"
   },
   {
    "duration": 33,
    "start_time": "2022-11-03T07:17:53.325Z"
   },
   {
    "duration": 29,
    "start_time": "2022-11-03T07:17:53.361Z"
   },
   {
    "duration": 49,
    "start_time": "2022-11-03T07:17:53.392Z"
   },
   {
    "duration": 23,
    "start_time": "2022-11-03T07:17:53.443Z"
   },
   {
    "duration": 282,
    "start_time": "2022-11-03T07:17:53.468Z"
   },
   {
    "duration": 6,
    "start_time": "2022-11-03T07:17:53.752Z"
   },
   {
    "duration": 6,
    "start_time": "2022-11-03T07:17:53.760Z"
   },
   {
    "duration": 6,
    "start_time": "2022-11-03T07:17:53.768Z"
   },
   {
    "duration": 826,
    "start_time": "2022-11-03T07:17:53.776Z"
   },
   {
    "duration": 40,
    "start_time": "2022-11-03T07:17:54.604Z"
   },
   {
    "duration": 13,
    "start_time": "2022-11-03T07:17:54.646Z"
   },
   {
    "duration": 24,
    "start_time": "2022-11-03T07:17:54.661Z"
   },
   {
    "duration": 45,
    "start_time": "2022-11-03T07:17:54.687Z"
   },
   {
    "duration": 3,
    "start_time": "2022-11-03T07:17:54.734Z"
   },
   {
    "duration": 37,
    "start_time": "2022-11-03T07:17:54.739Z"
   },
   {
    "duration": 14,
    "start_time": "2022-11-03T07:17:54.778Z"
   },
   {
    "duration": 42,
    "start_time": "2022-11-03T07:17:54.794Z"
   },
   {
    "duration": 289,
    "start_time": "2022-11-03T07:17:54.838Z"
   },
   {
    "duration": 5,
    "start_time": "2022-11-03T07:17:55.129Z"
   },
   {
    "duration": 35,
    "start_time": "2022-11-03T07:17:55.136Z"
   },
   {
    "duration": 10,
    "start_time": "2022-11-03T07:17:55.172Z"
   },
   {
    "duration": 373,
    "start_time": "2022-11-03T07:17:55.183Z"
   },
   {
    "duration": 7,
    "start_time": "2022-11-03T07:17:55.557Z"
   },
   {
    "duration": 8,
    "start_time": "2022-11-03T07:17:55.566Z"
   },
   {
    "duration": 11,
    "start_time": "2022-11-03T07:17:55.576Z"
   },
   {
    "duration": 9,
    "start_time": "2022-11-03T07:17:55.588Z"
   },
   {
    "duration": 43,
    "start_time": "2022-11-03T07:57:49.095Z"
   },
   {
    "duration": 1379,
    "start_time": "2022-11-03T08:00:35.332Z"
   },
   {
    "duration": 245,
    "start_time": "2022-11-03T08:00:36.713Z"
   },
   {
    "duration": 77,
    "start_time": "2022-11-03T08:00:36.959Z"
   },
   {
    "duration": 56,
    "start_time": "2022-11-03T08:00:37.038Z"
   },
   {
    "duration": 14,
    "start_time": "2022-11-03T08:00:37.095Z"
   },
   {
    "duration": 40,
    "start_time": "2022-11-03T08:00:37.121Z"
   },
   {
    "duration": 26,
    "start_time": "2022-11-03T08:00:37.163Z"
   },
   {
    "duration": 39,
    "start_time": "2022-11-03T08:00:37.192Z"
   },
   {
    "duration": 29,
    "start_time": "2022-11-03T08:00:37.233Z"
   },
   {
    "duration": 31,
    "start_time": "2022-11-03T08:00:37.264Z"
   },
   {
    "duration": 49,
    "start_time": "2022-11-03T08:00:37.297Z"
   },
   {
    "duration": 17,
    "start_time": "2022-11-03T08:00:37.348Z"
   },
   {
    "duration": 19,
    "start_time": "2022-11-03T08:00:37.367Z"
   },
   {
    "duration": 7,
    "start_time": "2022-11-03T08:00:37.388Z"
   },
   {
    "duration": 13,
    "start_time": "2022-11-03T08:00:37.422Z"
   },
   {
    "duration": 5,
    "start_time": "2022-11-03T08:00:37.436Z"
   },
   {
    "duration": 15,
    "start_time": "2022-11-03T08:00:37.443Z"
   },
   {
    "duration": 317,
    "start_time": "2022-11-03T08:00:37.459Z"
   },
   {
    "duration": 28,
    "start_time": "2022-11-03T08:00:37.778Z"
   },
   {
    "duration": 39,
    "start_time": "2022-11-03T08:00:37.808Z"
   },
   {
    "duration": 18,
    "start_time": "2022-11-03T08:00:37.848Z"
   },
   {
    "duration": 21,
    "start_time": "2022-11-03T08:00:37.868Z"
   },
   {
    "duration": 1038,
    "start_time": "2022-11-03T08:00:37.892Z"
   },
   {
    "duration": 10,
    "start_time": "2022-11-03T08:00:38.934Z"
   },
   {
    "duration": 33,
    "start_time": "2022-11-03T08:00:38.946Z"
   },
   {
    "duration": 12,
    "start_time": "2022-11-03T08:00:38.981Z"
   },
   {
    "duration": 31,
    "start_time": "2022-11-03T08:00:38.994Z"
   },
   {
    "duration": 277,
    "start_time": "2022-11-03T08:00:39.028Z"
   },
   {
    "duration": 34,
    "start_time": "2022-11-03T08:00:39.307Z"
   },
   {
    "duration": 287,
    "start_time": "2022-11-03T08:00:39.343Z"
   },
   {
    "duration": 17,
    "start_time": "2022-11-03T08:00:39.632Z"
   },
   {
    "duration": 229,
    "start_time": "2022-11-03T08:00:39.651Z"
   },
   {
    "duration": 456,
    "start_time": "2022-11-03T08:00:39.882Z"
   },
   {
    "duration": 4,
    "start_time": "2022-11-03T08:00:40.339Z"
   },
   {
    "duration": 6,
    "start_time": "2022-11-03T08:00:40.345Z"
   },
   {
    "duration": 374,
    "start_time": "2022-11-03T08:00:40.353Z"
   },
   {
    "duration": 13,
    "start_time": "2022-11-03T08:00:40.729Z"
   },
   {
    "duration": 11,
    "start_time": "2022-11-03T08:00:40.743Z"
   },
   {
    "duration": 13,
    "start_time": "2022-11-03T08:00:40.756Z"
   },
   {
    "duration": 6,
    "start_time": "2022-11-03T08:00:40.770Z"
   },
   {
    "duration": 6,
    "start_time": "2022-11-03T08:00:40.778Z"
   },
   {
    "duration": 10,
    "start_time": "2022-11-03T08:00:40.786Z"
   },
   {
    "duration": 3,
    "start_time": "2022-11-03T08:00:40.822Z"
   },
   {
    "duration": 6,
    "start_time": "2022-11-03T08:00:40.827Z"
   },
   {
    "duration": 31,
    "start_time": "2022-11-03T08:00:40.834Z"
   },
   {
    "duration": 24,
    "start_time": "2022-11-03T08:00:40.867Z"
   },
   {
    "duration": 43,
    "start_time": "2022-11-03T08:00:40.893Z"
   },
   {
    "duration": 21,
    "start_time": "2022-11-03T08:00:40.938Z"
   },
   {
    "duration": 272,
    "start_time": "2022-11-03T08:00:40.961Z"
   },
   {
    "duration": 6,
    "start_time": "2022-11-03T08:00:41.234Z"
   },
   {
    "duration": 14,
    "start_time": "2022-11-03T08:00:41.241Z"
   },
   {
    "duration": 11,
    "start_time": "2022-11-03T08:00:41.256Z"
   },
   {
    "duration": 867,
    "start_time": "2022-11-03T08:00:41.268Z"
   },
   {
    "duration": 22,
    "start_time": "2022-11-03T08:00:42.137Z"
   },
   {
    "duration": 12,
    "start_time": "2022-11-03T08:00:42.161Z"
   },
   {
    "duration": 22,
    "start_time": "2022-11-03T08:00:42.174Z"
   },
   {
    "duration": 11,
    "start_time": "2022-11-03T08:00:42.222Z"
   },
   {
    "duration": 2,
    "start_time": "2022-11-03T08:00:42.234Z"
   },
   {
    "duration": 24,
    "start_time": "2022-11-03T08:00:42.238Z"
   },
   {
    "duration": 120,
    "start_time": "2022-11-03T08:00:42.264Z"
   },
   {
    "duration": 0,
    "start_time": "2022-11-03T08:00:42.385Z"
   },
   {
    "duration": 0,
    "start_time": "2022-11-03T08:00:42.387Z"
   },
   {
    "duration": 0,
    "start_time": "2022-11-03T08:00:42.388Z"
   },
   {
    "duration": 0,
    "start_time": "2022-11-03T08:00:42.389Z"
   },
   {
    "duration": 0,
    "start_time": "2022-11-03T08:00:42.391Z"
   },
   {
    "duration": 0,
    "start_time": "2022-11-03T08:00:42.392Z"
   },
   {
    "duration": 1,
    "start_time": "2022-11-03T08:00:42.393Z"
   },
   {
    "duration": 0,
    "start_time": "2022-11-03T08:00:42.395Z"
   },
   {
    "duration": 0,
    "start_time": "2022-11-03T08:00:42.396Z"
   },
   {
    "duration": 0,
    "start_time": "2022-11-03T08:00:42.397Z"
   },
   {
    "duration": 0,
    "start_time": "2022-11-03T08:00:42.398Z"
   },
   {
    "duration": 1052,
    "start_time": "2022-11-03T08:02:09.060Z"
   },
   {
    "duration": 254,
    "start_time": "2022-11-03T08:02:10.113Z"
   },
   {
    "duration": 71,
    "start_time": "2022-11-03T08:02:10.368Z"
   },
   {
    "duration": 50,
    "start_time": "2022-11-03T08:02:10.441Z"
   },
   {
    "duration": 16,
    "start_time": "2022-11-03T08:02:10.492Z"
   },
   {
    "duration": 21,
    "start_time": "2022-11-03T08:02:10.509Z"
   },
   {
    "duration": 26,
    "start_time": "2022-11-03T08:02:10.532Z"
   },
   {
    "duration": 36,
    "start_time": "2022-11-03T08:02:10.559Z"
   },
   {
    "duration": 31,
    "start_time": "2022-11-03T08:02:10.596Z"
   },
   {
    "duration": 26,
    "start_time": "2022-11-03T08:02:10.630Z"
   },
   {
    "duration": 27,
    "start_time": "2022-11-03T08:02:10.657Z"
   },
   {
    "duration": 39,
    "start_time": "2022-11-03T08:02:10.685Z"
   },
   {
    "duration": 15,
    "start_time": "2022-11-03T08:02:10.725Z"
   },
   {
    "duration": 61,
    "start_time": "2022-11-03T08:02:10.741Z"
   },
   {
    "duration": 48,
    "start_time": "2022-11-03T08:02:10.804Z"
   },
   {
    "duration": 35,
    "start_time": "2022-11-03T08:02:10.854Z"
   },
   {
    "duration": 33,
    "start_time": "2022-11-03T08:02:10.890Z"
   },
   {
    "duration": 305,
    "start_time": "2022-11-03T08:02:10.925Z"
   },
   {
    "duration": 24,
    "start_time": "2022-11-03T08:02:11.231Z"
   },
   {
    "duration": 30,
    "start_time": "2022-11-03T08:02:11.257Z"
   },
   {
    "duration": 20,
    "start_time": "2022-11-03T08:02:11.288Z"
   },
   {
    "duration": 28,
    "start_time": "2022-11-03T08:02:11.322Z"
   },
   {
    "duration": 957,
    "start_time": "2022-11-03T08:02:11.351Z"
   },
   {
    "duration": 18,
    "start_time": "2022-11-03T08:02:12.309Z"
   },
   {
    "duration": 33,
    "start_time": "2022-11-03T08:02:12.328Z"
   },
   {
    "duration": 12,
    "start_time": "2022-11-03T08:02:12.363Z"
   },
   {
    "duration": 24,
    "start_time": "2022-11-03T08:02:12.376Z"
   },
   {
    "duration": 290,
    "start_time": "2022-11-03T08:02:12.403Z"
   },
   {
    "duration": 29,
    "start_time": "2022-11-03T08:02:12.694Z"
   },
   {
    "duration": 250,
    "start_time": "2022-11-03T08:02:12.724Z"
   },
   {
    "duration": 14,
    "start_time": "2022-11-03T08:02:12.975Z"
   },
   {
    "duration": 325,
    "start_time": "2022-11-03T08:02:12.990Z"
   },
   {
    "duration": 409,
    "start_time": "2022-11-03T08:02:13.316Z"
   },
   {
    "duration": 3,
    "start_time": "2022-11-03T08:02:13.727Z"
   },
   {
    "duration": 7,
    "start_time": "2022-11-03T08:02:13.732Z"
   },
   {
    "duration": 376,
    "start_time": "2022-11-03T08:02:13.741Z"
   },
   {
    "duration": 14,
    "start_time": "2022-11-03T08:02:14.121Z"
   },
   {
    "duration": 12,
    "start_time": "2022-11-03T08:02:14.136Z"
   },
   {
    "duration": 13,
    "start_time": "2022-11-03T08:02:14.150Z"
   },
   {
    "duration": 3,
    "start_time": "2022-11-03T08:02:14.165Z"
   },
   {
    "duration": 5,
    "start_time": "2022-11-03T08:02:14.170Z"
   },
   {
    "duration": 6,
    "start_time": "2022-11-03T08:02:14.177Z"
   },
   {
    "duration": 5,
    "start_time": "2022-11-03T08:02:14.184Z"
   },
   {
    "duration": 5,
    "start_time": "2022-11-03T08:02:14.221Z"
   },
   {
    "duration": 34,
    "start_time": "2022-11-03T08:02:14.227Z"
   },
   {
    "duration": 30,
    "start_time": "2022-11-03T08:02:14.263Z"
   },
   {
    "duration": 39,
    "start_time": "2022-11-03T08:02:14.295Z"
   },
   {
    "duration": 21,
    "start_time": "2022-11-03T08:02:14.336Z"
   },
   {
    "duration": 276,
    "start_time": "2022-11-03T08:02:14.359Z"
   },
   {
    "duration": 7,
    "start_time": "2022-11-03T08:02:14.637Z"
   },
   {
    "duration": 11,
    "start_time": "2022-11-03T08:02:14.645Z"
   },
   {
    "duration": 10,
    "start_time": "2022-11-03T08:02:14.658Z"
   },
   {
    "duration": 817,
    "start_time": "2022-11-03T08:02:14.670Z"
   },
   {
    "duration": 23,
    "start_time": "2022-11-03T08:02:15.488Z"
   },
   {
    "duration": 12,
    "start_time": "2022-11-03T08:02:15.522Z"
   },
   {
    "duration": 25,
    "start_time": "2022-11-03T08:02:15.535Z"
   },
   {
    "duration": 14,
    "start_time": "2022-11-03T08:02:15.562Z"
   },
   {
    "duration": 3,
    "start_time": "2022-11-03T08:02:15.579Z"
   },
   {
    "duration": 58,
    "start_time": "2022-11-03T08:02:15.583Z"
   },
   {
    "duration": 11,
    "start_time": "2022-11-03T08:02:15.643Z"
   },
   {
    "duration": 259,
    "start_time": "2022-11-03T08:02:15.656Z"
   },
   {
    "duration": 16,
    "start_time": "2022-11-03T08:02:15.916Z"
   },
   {
    "duration": 399,
    "start_time": "2022-11-03T08:02:15.933Z"
   },
   {
    "duration": 4,
    "start_time": "2022-11-03T08:02:16.334Z"
   },
   {
    "duration": 19,
    "start_time": "2022-11-03T08:02:16.339Z"
   },
   {
    "duration": 8,
    "start_time": "2022-11-03T08:02:16.359Z"
   },
   {
    "duration": 264,
    "start_time": "2022-11-03T08:02:16.369Z"
   },
   {
    "duration": 6,
    "start_time": "2022-11-03T08:02:16.634Z"
   },
   {
    "duration": 7,
    "start_time": "2022-11-03T08:02:16.641Z"
   },
   {
    "duration": 24,
    "start_time": "2022-11-03T08:02:16.650Z"
   },
   {
    "duration": 8,
    "start_time": "2022-11-03T08:02:16.675Z"
   },
   {
    "duration": 12,
    "start_time": "2022-11-03T08:04:23.414Z"
   },
   {
    "duration": 193,
    "start_time": "2022-11-03T08:06:58.923Z"
   },
   {
    "duration": 1136,
    "start_time": "2022-11-03T08:08:27.594Z"
   },
   {
    "duration": 186,
    "start_time": "2022-11-03T08:08:28.732Z"
   },
   {
    "duration": 71,
    "start_time": "2022-11-03T08:08:28.919Z"
   },
   {
    "duration": 53,
    "start_time": "2022-11-03T08:08:28.992Z"
   },
   {
    "duration": 13,
    "start_time": "2022-11-03T08:08:29.047Z"
   },
   {
    "duration": 14,
    "start_time": "2022-11-03T08:08:29.061Z"
   },
   {
    "duration": 18,
    "start_time": "2022-11-03T08:08:29.077Z"
   },
   {
    "duration": 64,
    "start_time": "2022-11-03T08:08:29.096Z"
   },
   {
    "duration": 29,
    "start_time": "2022-11-03T08:08:29.162Z"
   },
   {
    "duration": 49,
    "start_time": "2022-11-03T08:08:29.194Z"
   },
   {
    "duration": 29,
    "start_time": "2022-11-03T08:08:29.244Z"
   },
   {
    "duration": 15,
    "start_time": "2022-11-03T08:08:29.274Z"
   },
   {
    "duration": 36,
    "start_time": "2022-11-03T08:08:29.290Z"
   },
   {
    "duration": 4,
    "start_time": "2022-11-03T08:08:29.327Z"
   },
   {
    "duration": 26,
    "start_time": "2022-11-03T08:08:29.332Z"
   },
   {
    "duration": 13,
    "start_time": "2022-11-03T08:08:29.360Z"
   },
   {
    "duration": 32,
    "start_time": "2022-11-03T08:08:29.375Z"
   },
   {
    "duration": 279,
    "start_time": "2022-11-03T08:08:29.408Z"
   },
   {
    "duration": 25,
    "start_time": "2022-11-03T08:08:29.688Z"
   },
   {
    "duration": 32,
    "start_time": "2022-11-03T08:08:29.715Z"
   },
   {
    "duration": 15,
    "start_time": "2022-11-03T08:08:29.748Z"
   },
   {
    "duration": 26,
    "start_time": "2022-11-03T08:08:29.764Z"
   },
   {
    "duration": 969,
    "start_time": "2022-11-03T08:08:29.792Z"
   },
   {
    "duration": 10,
    "start_time": "2022-11-03T08:08:30.762Z"
   },
   {
    "duration": 48,
    "start_time": "2022-11-03T08:08:30.774Z"
   },
   {
    "duration": 35,
    "start_time": "2022-11-03T08:08:30.823Z"
   },
   {
    "duration": 33,
    "start_time": "2022-11-03T08:08:30.859Z"
   },
   {
    "duration": 301,
    "start_time": "2022-11-03T08:08:30.897Z"
   },
   {
    "duration": 32,
    "start_time": "2022-11-03T08:08:31.199Z"
   },
   {
    "duration": 250,
    "start_time": "2022-11-03T08:08:31.232Z"
   },
   {
    "duration": 15,
    "start_time": "2022-11-03T08:08:31.484Z"
   },
   {
    "duration": 206,
    "start_time": "2022-11-03T08:08:31.500Z"
   },
   {
    "duration": 429,
    "start_time": "2022-11-03T08:08:31.708Z"
   },
   {
    "duration": 3,
    "start_time": "2022-11-03T08:08:32.139Z"
   },
   {
    "duration": 8,
    "start_time": "2022-11-03T08:08:32.143Z"
   },
   {
    "duration": 371,
    "start_time": "2022-11-03T08:08:32.152Z"
   },
   {
    "duration": 13,
    "start_time": "2022-11-03T08:08:32.525Z"
   },
   {
    "duration": 12,
    "start_time": "2022-11-03T08:08:32.540Z"
   },
   {
    "duration": 12,
    "start_time": "2022-11-03T08:08:32.554Z"
   },
   {
    "duration": 8,
    "start_time": "2022-11-03T08:08:32.567Z"
   },
   {
    "duration": 7,
    "start_time": "2022-11-03T08:08:32.576Z"
   },
   {
    "duration": 9,
    "start_time": "2022-11-03T08:08:32.584Z"
   },
   {
    "duration": 17,
    "start_time": "2022-11-03T08:08:32.594Z"
   },
   {
    "duration": 13,
    "start_time": "2022-11-03T08:08:32.612Z"
   },
   {
    "duration": 55,
    "start_time": "2022-11-03T08:08:32.626Z"
   },
   {
    "duration": 24,
    "start_time": "2022-11-03T08:08:32.683Z"
   },
   {
    "duration": 29,
    "start_time": "2022-11-03T08:08:32.708Z"
   },
   {
    "duration": 19,
    "start_time": "2022-11-03T08:08:32.739Z"
   },
   {
    "duration": 251,
    "start_time": "2022-11-03T08:08:32.760Z"
   },
   {
    "duration": 10,
    "start_time": "2022-11-03T08:08:33.013Z"
   },
   {
    "duration": 26,
    "start_time": "2022-11-03T08:08:33.024Z"
   },
   {
    "duration": 7,
    "start_time": "2022-11-03T08:08:33.052Z"
   },
   {
    "duration": 843,
    "start_time": "2022-11-03T08:08:33.061Z"
   },
   {
    "duration": 23,
    "start_time": "2022-11-03T08:08:33.905Z"
   },
   {
    "duration": 10,
    "start_time": "2022-11-03T08:08:33.929Z"
   },
   {
    "duration": 40,
    "start_time": "2022-11-03T08:08:33.940Z"
   },
   {
    "duration": 15,
    "start_time": "2022-11-03T08:08:33.982Z"
   },
   {
    "duration": 4,
    "start_time": "2022-11-03T08:08:33.998Z"
   },
   {
    "duration": 28,
    "start_time": "2022-11-03T08:08:34.003Z"
   },
   {
    "duration": 12,
    "start_time": "2022-11-03T08:08:34.033Z"
   },
   {
    "duration": 214,
    "start_time": "2022-11-03T08:08:34.047Z"
   },
   {
    "duration": 13,
    "start_time": "2022-11-03T08:08:34.263Z"
   },
   {
    "duration": 251,
    "start_time": "2022-11-03T08:08:34.278Z"
   },
   {
    "duration": 4,
    "start_time": "2022-11-03T08:08:34.530Z"
   },
   {
    "duration": 16,
    "start_time": "2022-11-03T08:08:34.536Z"
   },
   {
    "duration": 8,
    "start_time": "2022-11-03T08:08:34.553Z"
   },
   {
    "duration": 256,
    "start_time": "2022-11-03T08:08:34.562Z"
   },
   {
    "duration": 7,
    "start_time": "2022-11-03T08:08:34.819Z"
   },
   {
    "duration": 21,
    "start_time": "2022-11-03T08:08:34.828Z"
   },
   {
    "duration": 38,
    "start_time": "2022-11-03T08:08:34.851Z"
   },
   {
    "duration": 6,
    "start_time": "2022-11-03T08:08:34.891Z"
   },
   {
    "duration": 75,
    "start_time": "2022-11-03T08:36:20.021Z"
   },
   {
    "duration": 13,
    "start_time": "2022-11-03T08:36:32.956Z"
   },
   {
    "duration": 19,
    "start_time": "2022-11-03T08:36:47.771Z"
   },
   {
    "duration": 93,
    "start_time": "2022-11-03T08:37:24.320Z"
   },
   {
    "duration": 13,
    "start_time": "2022-11-03T08:37:39.568Z"
   },
   {
    "duration": 1251,
    "start_time": "2022-11-03T08:42:49.041Z"
   },
   {
    "duration": 12,
    "start_time": "2022-11-03T08:43:24.016Z"
   },
   {
    "duration": 16,
    "start_time": "2022-11-03T08:57:03.807Z"
   },
   {
    "duration": 12,
    "start_time": "2022-11-03T08:58:53.561Z"
   },
   {
    "duration": 12,
    "start_time": "2022-11-03T09:04:35.645Z"
   },
   {
    "duration": 22,
    "start_time": "2022-11-03T09:06:18.996Z"
   },
   {
    "duration": 1188,
    "start_time": "2022-11-03T09:21:29.153Z"
   },
   {
    "duration": 14,
    "start_time": "2022-11-03T09:21:58.100Z"
   },
   {
    "duration": 15,
    "start_time": "2022-11-03T09:22:57.892Z"
   },
   {
    "duration": 12,
    "start_time": "2022-11-03T09:34:29.624Z"
   },
   {
    "duration": 13,
    "start_time": "2022-11-03T09:39:54.450Z"
   },
   {
    "duration": 14,
    "start_time": "2022-11-03T10:05:18.333Z"
   },
   {
    "duration": 14,
    "start_time": "2022-11-03T10:06:08.171Z"
   },
   {
    "duration": 14,
    "start_time": "2022-11-03T10:07:42.640Z"
   },
   {
    "duration": 14,
    "start_time": "2022-11-03T10:08:34.288Z"
   },
   {
    "duration": 14,
    "start_time": "2022-11-03T10:08:49.946Z"
   },
   {
    "duration": 1124,
    "start_time": "2022-11-03T10:08:57.435Z"
   },
   {
    "duration": 228,
    "start_time": "2022-11-03T10:08:58.560Z"
   },
   {
    "duration": 74,
    "start_time": "2022-11-03T10:08:58.790Z"
   },
   {
    "duration": 54,
    "start_time": "2022-11-03T10:08:58.866Z"
   },
   {
    "duration": 13,
    "start_time": "2022-11-03T10:08:58.921Z"
   },
   {
    "duration": 17,
    "start_time": "2022-11-03T10:08:58.935Z"
   },
   {
    "duration": 20,
    "start_time": "2022-11-03T10:08:58.954Z"
   },
   {
    "duration": 62,
    "start_time": "2022-11-03T10:08:58.975Z"
   },
   {
    "duration": 29,
    "start_time": "2022-11-03T10:08:59.039Z"
   },
   {
    "duration": 29,
    "start_time": "2022-11-03T10:08:59.071Z"
   },
   {
    "duration": 27,
    "start_time": "2022-11-03T10:08:59.122Z"
   },
   {
    "duration": 17,
    "start_time": "2022-11-03T10:08:59.151Z"
   },
   {
    "duration": 12,
    "start_time": "2022-11-03T10:08:59.169Z"
   },
   {
    "duration": 7,
    "start_time": "2022-11-03T10:08:59.183Z"
   },
   {
    "duration": 39,
    "start_time": "2022-11-03T10:08:59.191Z"
   },
   {
    "duration": 4,
    "start_time": "2022-11-03T10:08:59.231Z"
   },
   {
    "duration": 12,
    "start_time": "2022-11-03T10:08:59.236Z"
   },
   {
    "duration": 290,
    "start_time": "2022-11-03T10:08:59.250Z"
   },
   {
    "duration": 24,
    "start_time": "2022-11-03T10:08:59.542Z"
   },
   {
    "duration": 23,
    "start_time": "2022-11-03T10:08:59.567Z"
   },
   {
    "duration": 32,
    "start_time": "2022-11-03T10:08:59.591Z"
   },
   {
    "duration": 16,
    "start_time": "2022-11-03T10:08:59.624Z"
   },
   {
    "duration": 953,
    "start_time": "2022-11-03T10:08:59.642Z"
   },
   {
    "duration": 9,
    "start_time": "2022-11-03T10:09:00.596Z"
   },
   {
    "duration": 33,
    "start_time": "2022-11-03T10:09:00.606Z"
   },
   {
    "duration": 9,
    "start_time": "2022-11-03T10:09:00.641Z"
   },
   {
    "duration": 13,
    "start_time": "2022-11-03T10:09:00.651Z"
   },
   {
    "duration": 266,
    "start_time": "2022-11-03T10:09:00.668Z"
   },
   {
    "duration": 26,
    "start_time": "2022-11-03T10:09:00.936Z"
   },
   {
    "duration": 267,
    "start_time": "2022-11-03T10:09:00.963Z"
   },
   {
    "duration": 17,
    "start_time": "2022-11-03T10:09:01.231Z"
   },
   {
    "duration": 235,
    "start_time": "2022-11-03T10:09:01.250Z"
   },
   {
    "duration": 429,
    "start_time": "2022-11-03T10:09:01.487Z"
   },
   {
    "duration": 3,
    "start_time": "2022-11-03T10:09:01.921Z"
   },
   {
    "duration": 46,
    "start_time": "2022-11-03T10:09:01.926Z"
   },
   {
    "duration": 396,
    "start_time": "2022-11-03T10:09:01.973Z"
   },
   {
    "duration": 12,
    "start_time": "2022-11-03T10:09:02.371Z"
   },
   {
    "duration": 40,
    "start_time": "2022-11-03T10:09:02.384Z"
   },
   {
    "duration": 42,
    "start_time": "2022-11-03T10:09:02.426Z"
   },
   {
    "duration": 21,
    "start_time": "2022-11-03T10:09:02.470Z"
   },
   {
    "duration": 43,
    "start_time": "2022-11-03T10:09:02.492Z"
   },
   {
    "duration": 24,
    "start_time": "2022-11-03T10:09:02.537Z"
   },
   {
    "duration": 31,
    "start_time": "2022-11-03T10:09:02.563Z"
   },
   {
    "duration": 26,
    "start_time": "2022-11-03T10:09:02.595Z"
   },
   {
    "duration": 60,
    "start_time": "2022-11-03T10:09:02.623Z"
   },
   {
    "duration": 36,
    "start_time": "2022-11-03T10:09:02.684Z"
   },
   {
    "duration": 20,
    "start_time": "2022-11-03T10:09:02.721Z"
   },
   {
    "duration": 40,
    "start_time": "2022-11-03T10:09:02.742Z"
   },
   {
    "duration": 20,
    "start_time": "2022-11-03T10:09:02.783Z"
   },
   {
    "duration": 262,
    "start_time": "2022-11-03T10:09:02.804Z"
   },
   {
    "duration": 6,
    "start_time": "2022-11-03T10:09:03.067Z"
   },
   {
    "duration": 32,
    "start_time": "2022-11-03T10:09:03.074Z"
   },
   {
    "duration": 44,
    "start_time": "2022-11-03T10:09:03.107Z"
   },
   {
    "duration": 826,
    "start_time": "2022-11-03T10:09:03.152Z"
   },
   {
    "duration": 22,
    "start_time": "2022-11-03T10:09:03.980Z"
   },
   {
    "duration": 25,
    "start_time": "2022-11-03T10:09:04.003Z"
   },
   {
    "duration": 33,
    "start_time": "2022-11-03T10:09:04.029Z"
   },
   {
    "duration": 39,
    "start_time": "2022-11-03T10:09:04.063Z"
   },
   {
    "duration": 111,
    "start_time": "2022-11-03T10:09:04.103Z"
   },
   {
    "duration": 55,
    "start_time": "2022-11-03T10:09:04.216Z"
   },
   {
    "duration": 16,
    "start_time": "2022-11-03T10:09:04.273Z"
   },
   {
    "duration": 1243,
    "start_time": "2022-11-03T10:09:04.291Z"
   },
   {
    "duration": 0,
    "start_time": "2022-11-03T10:09:05.535Z"
   },
   {
    "duration": 0,
    "start_time": "2022-11-03T10:09:05.536Z"
   },
   {
    "duration": 0,
    "start_time": "2022-11-03T10:09:05.537Z"
   },
   {
    "duration": 0,
    "start_time": "2022-11-03T10:09:05.538Z"
   },
   {
    "duration": 0,
    "start_time": "2022-11-03T10:09:05.539Z"
   },
   {
    "duration": 0,
    "start_time": "2022-11-03T10:09:05.540Z"
   },
   {
    "duration": 0,
    "start_time": "2022-11-03T10:09:05.541Z"
   },
   {
    "duration": 0,
    "start_time": "2022-11-03T10:09:05.542Z"
   },
   {
    "duration": 0,
    "start_time": "2022-11-03T10:09:05.543Z"
   },
   {
    "duration": 0,
    "start_time": "2022-11-03T10:09:05.544Z"
   },
   {
    "duration": 0,
    "start_time": "2022-11-03T10:09:05.545Z"
   },
   {
    "duration": 0,
    "start_time": "2022-11-03T10:09:05.546Z"
   },
   {
    "duration": 0,
    "start_time": "2022-11-03T10:09:05.547Z"
   },
   {
    "duration": 190,
    "start_time": "2022-11-03T10:11:16.801Z"
   },
   {
    "duration": 14,
    "start_time": "2022-11-03T10:11:16.993Z"
   },
   {
    "duration": 239,
    "start_time": "2022-11-03T10:11:17.021Z"
   },
   {
    "duration": 4,
    "start_time": "2022-11-03T10:11:17.262Z"
   },
   {
    "duration": 38,
    "start_time": "2022-11-03T10:11:17.267Z"
   },
   {
    "duration": 27,
    "start_time": "2022-11-03T10:11:17.307Z"
   },
   {
    "duration": 43,
    "start_time": "2022-11-03T10:11:17.336Z"
   },
   {
    "duration": 291,
    "start_time": "2022-11-03T10:11:17.381Z"
   },
   {
    "duration": 6,
    "start_time": "2022-11-03T10:11:17.673Z"
   },
   {
    "duration": 31,
    "start_time": "2022-11-03T10:11:17.682Z"
   },
   {
    "duration": 27,
    "start_time": "2022-11-03T10:11:17.714Z"
   },
   {
    "duration": 10,
    "start_time": "2022-11-03T10:11:17.742Z"
   },
   {
    "duration": 23,
    "start_time": "2022-11-03T10:11:17.754Z"
   },
   {
    "duration": 29,
    "start_time": "2022-11-03T10:11:17.779Z"
   },
   {
    "duration": 15,
    "start_time": "2022-11-03T10:12:41.481Z"
   },
   {
    "duration": 14,
    "start_time": "2022-11-03T10:14:03.060Z"
   },
   {
    "duration": 16,
    "start_time": "2022-11-03T10:20:57.830Z"
   },
   {
    "duration": 32,
    "start_time": "2022-11-03T10:21:51.303Z"
   },
   {
    "duration": 33,
    "start_time": "2022-11-03T10:22:27.534Z"
   },
   {
    "duration": 20,
    "start_time": "2022-11-03T10:23:30.361Z"
   },
   {
    "duration": 1175,
    "start_time": "2022-11-03T10:23:38.886Z"
   },
   {
    "duration": 264,
    "start_time": "2022-11-03T10:23:40.063Z"
   },
   {
    "duration": 59,
    "start_time": "2022-11-03T10:23:40.329Z"
   },
   {
    "duration": 54,
    "start_time": "2022-11-03T10:23:40.391Z"
   },
   {
    "duration": 16,
    "start_time": "2022-11-03T10:23:40.447Z"
   },
   {
    "duration": 14,
    "start_time": "2022-11-03T10:23:40.464Z"
   },
   {
    "duration": 42,
    "start_time": "2022-11-03T10:23:40.480Z"
   },
   {
    "duration": 38,
    "start_time": "2022-11-03T10:23:40.524Z"
   },
   {
    "duration": 25,
    "start_time": "2022-11-03T10:23:40.564Z"
   },
   {
    "duration": 45,
    "start_time": "2022-11-03T10:23:40.591Z"
   },
   {
    "duration": 24,
    "start_time": "2022-11-03T10:23:40.637Z"
   },
   {
    "duration": 16,
    "start_time": "2022-11-03T10:23:40.662Z"
   },
   {
    "duration": 12,
    "start_time": "2022-11-03T10:23:40.679Z"
   },
   {
    "duration": 32,
    "start_time": "2022-11-03T10:23:40.692Z"
   },
   {
    "duration": 11,
    "start_time": "2022-11-03T10:23:40.725Z"
   },
   {
    "duration": 4,
    "start_time": "2022-11-03T10:23:40.737Z"
   },
   {
    "duration": 10,
    "start_time": "2022-11-03T10:23:40.742Z"
   },
   {
    "duration": 278,
    "start_time": "2022-11-03T10:23:40.754Z"
   },
   {
    "duration": 26,
    "start_time": "2022-11-03T10:23:41.034Z"
   },
   {
    "duration": 25,
    "start_time": "2022-11-03T10:23:41.062Z"
   },
   {
    "duration": 37,
    "start_time": "2022-11-03T10:23:41.089Z"
   },
   {
    "duration": 12,
    "start_time": "2022-11-03T10:23:41.128Z"
   },
   {
    "duration": 1019,
    "start_time": "2022-11-03T10:23:41.141Z"
   },
   {
    "duration": 9,
    "start_time": "2022-11-03T10:23:42.162Z"
   },
   {
    "duration": 24,
    "start_time": "2022-11-03T10:23:42.172Z"
   },
   {
    "duration": 29,
    "start_time": "2022-11-03T10:23:42.197Z"
   },
   {
    "duration": 8,
    "start_time": "2022-11-03T10:23:42.228Z"
   },
   {
    "duration": 255,
    "start_time": "2022-11-03T10:23:42.240Z"
   },
   {
    "duration": 31,
    "start_time": "2022-11-03T10:23:42.496Z"
   },
   {
    "duration": 242,
    "start_time": "2022-11-03T10:23:42.528Z"
   },
   {
    "duration": 14,
    "start_time": "2022-11-03T10:23:42.772Z"
   },
   {
    "duration": 202,
    "start_time": "2022-11-03T10:23:42.788Z"
   },
   {
    "duration": 399,
    "start_time": "2022-11-03T10:23:42.991Z"
   },
   {
    "duration": 4,
    "start_time": "2022-11-03T10:23:43.392Z"
   },
   {
    "duration": 9,
    "start_time": "2022-11-03T10:23:43.397Z"
   },
   {
    "duration": 368,
    "start_time": "2022-11-03T10:23:43.407Z"
   },
   {
    "duration": 13,
    "start_time": "2022-11-03T10:23:43.776Z"
   },
   {
    "duration": 12,
    "start_time": "2022-11-03T10:23:43.791Z"
   },
   {
    "duration": 31,
    "start_time": "2022-11-03T10:23:43.804Z"
   },
   {
    "duration": 4,
    "start_time": "2022-11-03T10:23:43.836Z"
   },
   {
    "duration": 10,
    "start_time": "2022-11-03T10:23:43.841Z"
   },
   {
    "duration": 6,
    "start_time": "2022-11-03T10:23:43.852Z"
   },
   {
    "duration": 4,
    "start_time": "2022-11-03T10:23:43.860Z"
   },
   {
    "duration": 7,
    "start_time": "2022-11-03T10:23:43.866Z"
   },
   {
    "duration": 55,
    "start_time": "2022-11-03T10:23:43.874Z"
   },
   {
    "duration": 25,
    "start_time": "2022-11-03T10:23:43.930Z"
   },
   {
    "duration": 18,
    "start_time": "2022-11-03T10:23:43.956Z"
   },
   {
    "duration": 21,
    "start_time": "2022-11-03T10:23:43.976Z"
   },
   {
    "duration": 37,
    "start_time": "2022-11-03T10:23:43.999Z"
   },
   {
    "duration": 266,
    "start_time": "2022-11-03T10:23:44.038Z"
   },
   {
    "duration": 6,
    "start_time": "2022-11-03T10:23:44.306Z"
   },
   {
    "duration": 6,
    "start_time": "2022-11-03T10:23:44.322Z"
   },
   {
    "duration": 6,
    "start_time": "2022-11-03T10:23:44.329Z"
   },
   {
    "duration": 842,
    "start_time": "2022-11-03T10:23:44.336Z"
   },
   {
    "duration": 23,
    "start_time": "2022-11-03T10:23:45.179Z"
   },
   {
    "duration": 27,
    "start_time": "2022-11-03T10:23:45.203Z"
   },
   {
    "duration": 23,
    "start_time": "2022-11-03T10:23:45.231Z"
   },
   {
    "duration": 10,
    "start_time": "2022-11-03T10:23:45.256Z"
   },
   {
    "duration": 2,
    "start_time": "2022-11-03T10:23:45.267Z"
   },
   {
    "duration": 22,
    "start_time": "2022-11-03T10:23:45.271Z"
   },
   {
    "duration": 10,
    "start_time": "2022-11-03T10:23:45.322Z"
   },
   {
    "duration": 211,
    "start_time": "2022-11-03T10:23:45.334Z"
   },
   {
    "duration": 13,
    "start_time": "2022-11-03T10:23:45.546Z"
   },
   {
    "duration": 241,
    "start_time": "2022-11-03T10:23:45.561Z"
   },
   {
    "duration": 5,
    "start_time": "2022-11-03T10:23:45.803Z"
   },
   {
    "duration": 21,
    "start_time": "2022-11-03T10:23:45.809Z"
   },
   {
    "duration": 8,
    "start_time": "2022-11-03T10:23:45.832Z"
   },
   {
    "duration": 14,
    "start_time": "2022-11-03T10:23:45.841Z"
   },
   {
    "duration": 299,
    "start_time": "2022-11-03T10:23:45.856Z"
   },
   {
    "duration": 6,
    "start_time": "2022-11-03T10:23:46.157Z"
   },
   {
    "duration": 24,
    "start_time": "2022-11-03T10:23:46.165Z"
   },
   {
    "duration": 32,
    "start_time": "2022-11-03T10:23:46.191Z"
   },
   {
    "duration": 27,
    "start_time": "2022-11-03T10:23:46.225Z"
   },
   {
    "duration": 6,
    "start_time": "2022-11-03T10:23:46.254Z"
   },
   {
    "duration": 13,
    "start_time": "2022-11-03T10:23:46.263Z"
   },
   {
    "duration": 9,
    "start_time": "2022-11-03T10:23:46.277Z"
   },
   {
    "duration": 19,
    "start_time": "2022-11-03T10:24:28.631Z"
   },
   {
    "duration": 25,
    "start_time": "2022-11-03T10:26:43.601Z"
   },
   {
    "duration": 36,
    "start_time": "2022-11-03T10:26:56.493Z"
   },
   {
    "duration": 1150,
    "start_time": "2022-11-03T10:27:06.107Z"
   },
   {
    "duration": 408,
    "start_time": "2022-11-03T10:27:07.259Z"
   },
   {
    "duration": 54,
    "start_time": "2022-11-03T10:27:07.668Z"
   },
   {
    "duration": 48,
    "start_time": "2022-11-03T10:27:07.724Z"
   },
   {
    "duration": 17,
    "start_time": "2022-11-03T10:27:07.773Z"
   },
   {
    "duration": 36,
    "start_time": "2022-11-03T10:27:07.792Z"
   },
   {
    "duration": 21,
    "start_time": "2022-11-03T10:27:07.830Z"
   },
   {
    "duration": 40,
    "start_time": "2022-11-03T10:27:07.853Z"
   },
   {
    "duration": 48,
    "start_time": "2022-11-03T10:27:07.895Z"
   },
   {
    "duration": 27,
    "start_time": "2022-11-03T10:27:07.945Z"
   },
   {
    "duration": 50,
    "start_time": "2022-11-03T10:27:07.973Z"
   },
   {
    "duration": 15,
    "start_time": "2022-11-03T10:27:08.024Z"
   },
   {
    "duration": 21,
    "start_time": "2022-11-03T10:27:08.040Z"
   },
   {
    "duration": 8,
    "start_time": "2022-11-03T10:27:08.063Z"
   },
   {
    "duration": 13,
    "start_time": "2022-11-03T10:27:08.072Z"
   },
   {
    "duration": 8,
    "start_time": "2022-11-03T10:27:08.086Z"
   },
   {
    "duration": 27,
    "start_time": "2022-11-03T10:27:08.095Z"
   },
   {
    "duration": 274,
    "start_time": "2022-11-03T10:27:08.124Z"
   },
   {
    "duration": 30,
    "start_time": "2022-11-03T10:27:08.400Z"
   },
   {
    "duration": 26,
    "start_time": "2022-11-03T10:27:08.432Z"
   },
   {
    "duration": 14,
    "start_time": "2022-11-03T10:27:08.459Z"
   },
   {
    "duration": 39,
    "start_time": "2022-11-03T10:27:08.475Z"
   },
   {
    "duration": 986,
    "start_time": "2022-11-03T10:27:08.515Z"
   },
   {
    "duration": 10,
    "start_time": "2022-11-03T10:27:09.502Z"
   },
   {
    "duration": 24,
    "start_time": "2022-11-03T10:27:09.522Z"
   },
   {
    "duration": 10,
    "start_time": "2022-11-03T10:27:09.548Z"
   },
   {
    "duration": 19,
    "start_time": "2022-11-03T10:27:09.560Z"
   },
   {
    "duration": 262,
    "start_time": "2022-11-03T10:27:09.583Z"
   },
   {
    "duration": 24,
    "start_time": "2022-11-03T10:27:09.846Z"
   },
   {
    "duration": 260,
    "start_time": "2022-11-03T10:27:09.872Z"
   },
   {
    "duration": 15,
    "start_time": "2022-11-03T10:27:10.134Z"
   },
   {
    "duration": 207,
    "start_time": "2022-11-03T10:27:10.150Z"
   },
   {
    "duration": 402,
    "start_time": "2022-11-03T10:27:10.358Z"
   },
   {
    "duration": 4,
    "start_time": "2022-11-03T10:27:10.761Z"
   },
   {
    "duration": 15,
    "start_time": "2022-11-03T10:27:10.766Z"
   },
   {
    "duration": 431,
    "start_time": "2022-11-03T10:27:10.782Z"
   },
   {
    "duration": 15,
    "start_time": "2022-11-03T10:27:11.215Z"
   },
   {
    "duration": 11,
    "start_time": "2022-11-03T10:27:11.232Z"
   },
   {
    "duration": 20,
    "start_time": "2022-11-03T10:27:11.244Z"
   },
   {
    "duration": 3,
    "start_time": "2022-11-03T10:27:11.266Z"
   },
   {
    "duration": 18,
    "start_time": "2022-11-03T10:27:11.270Z"
   },
   {
    "duration": 15,
    "start_time": "2022-11-03T10:27:11.290Z"
   },
   {
    "duration": 26,
    "start_time": "2022-11-03T10:27:11.307Z"
   },
   {
    "duration": 17,
    "start_time": "2022-11-03T10:27:11.334Z"
   },
   {
    "duration": 57,
    "start_time": "2022-11-03T10:27:11.353Z"
   },
   {
    "duration": 25,
    "start_time": "2022-11-03T10:27:11.412Z"
   },
   {
    "duration": 21,
    "start_time": "2022-11-03T10:27:11.438Z"
   },
   {
    "duration": 38,
    "start_time": "2022-11-03T10:27:11.462Z"
   },
   {
    "duration": 29,
    "start_time": "2022-11-03T10:27:11.502Z"
   },
   {
    "duration": 296,
    "start_time": "2022-11-03T10:27:11.533Z"
   },
   {
    "duration": 6,
    "start_time": "2022-11-03T10:27:11.831Z"
   },
   {
    "duration": 17,
    "start_time": "2022-11-03T10:27:11.839Z"
   },
   {
    "duration": 25,
    "start_time": "2022-11-03T10:27:11.857Z"
   },
   {
    "duration": 869,
    "start_time": "2022-11-03T10:27:11.884Z"
   },
   {
    "duration": 24,
    "start_time": "2022-11-03T10:27:12.755Z"
   },
   {
    "duration": 11,
    "start_time": "2022-11-03T10:27:12.780Z"
   },
   {
    "duration": 43,
    "start_time": "2022-11-03T10:27:12.793Z"
   },
   {
    "duration": 12,
    "start_time": "2022-11-03T10:27:12.838Z"
   },
   {
    "duration": 6,
    "start_time": "2022-11-03T10:27:12.852Z"
   },
   {
    "duration": 32,
    "start_time": "2022-11-03T10:27:12.860Z"
   },
   {
    "duration": 32,
    "start_time": "2022-11-03T10:27:12.894Z"
   },
   {
    "duration": 211,
    "start_time": "2022-11-03T10:27:12.927Z"
   },
   {
    "duration": 14,
    "start_time": "2022-11-03T10:27:13.140Z"
   },
   {
    "duration": 277,
    "start_time": "2022-11-03T10:27:13.156Z"
   },
   {
    "duration": 5,
    "start_time": "2022-11-03T10:27:13.434Z"
   },
   {
    "duration": 20,
    "start_time": "2022-11-03T10:27:13.440Z"
   },
   {
    "duration": 17,
    "start_time": "2022-11-03T10:27:13.461Z"
   },
   {
    "duration": 19,
    "start_time": "2022-11-03T10:27:13.480Z"
   },
   {
    "duration": 269,
    "start_time": "2022-11-03T10:27:13.501Z"
   },
   {
    "duration": 6,
    "start_time": "2022-11-03T10:27:13.773Z"
   },
   {
    "duration": 24,
    "start_time": "2022-11-03T10:27:13.780Z"
   },
   {
    "duration": 27,
    "start_time": "2022-11-03T10:27:13.806Z"
   },
   {
    "duration": 27,
    "start_time": "2022-11-03T10:27:13.834Z"
   },
   {
    "duration": 5,
    "start_time": "2022-11-03T10:27:13.862Z"
   },
   {
    "duration": 9,
    "start_time": "2022-11-03T10:27:13.868Z"
   },
   {
    "duration": 11,
    "start_time": "2022-11-03T10:27:13.879Z"
   },
   {
    "duration": 27,
    "start_time": "2022-11-03T10:27:52.146Z"
   },
   {
    "duration": 1070,
    "start_time": "2022-11-03T10:28:08.658Z"
   },
   {
    "duration": 157,
    "start_time": "2022-11-03T10:28:09.730Z"
   },
   {
    "duration": 51,
    "start_time": "2022-11-03T10:28:09.888Z"
   },
   {
    "duration": 52,
    "start_time": "2022-11-03T10:28:09.941Z"
   },
   {
    "duration": 15,
    "start_time": "2022-11-03T10:28:09.995Z"
   },
   {
    "duration": 39,
    "start_time": "2022-11-03T10:28:10.011Z"
   },
   {
    "duration": 19,
    "start_time": "2022-11-03T10:28:10.052Z"
   },
   {
    "duration": 40,
    "start_time": "2022-11-03T10:28:10.073Z"
   },
   {
    "duration": 26,
    "start_time": "2022-11-03T10:28:10.114Z"
   },
   {
    "duration": 27,
    "start_time": "2022-11-03T10:28:10.142Z"
   },
   {
    "duration": 27,
    "start_time": "2022-11-03T10:28:10.170Z"
   },
   {
    "duration": 34,
    "start_time": "2022-11-03T10:28:10.198Z"
   },
   {
    "duration": 12,
    "start_time": "2022-11-03T10:28:10.233Z"
   },
   {
    "duration": 20,
    "start_time": "2022-11-03T10:28:10.247Z"
   },
   {
    "duration": 49,
    "start_time": "2022-11-03T10:28:10.268Z"
   },
   {
    "duration": 8,
    "start_time": "2022-11-03T10:28:10.318Z"
   },
   {
    "duration": 22,
    "start_time": "2022-11-03T10:28:10.327Z"
   },
   {
    "duration": 273,
    "start_time": "2022-11-03T10:28:10.351Z"
   },
   {
    "duration": 25,
    "start_time": "2022-11-03T10:28:10.625Z"
   },
   {
    "duration": 23,
    "start_time": "2022-11-03T10:28:10.652Z"
   },
   {
    "duration": 17,
    "start_time": "2022-11-03T10:28:10.677Z"
   },
   {
    "duration": 40,
    "start_time": "2022-11-03T10:28:10.696Z"
   },
   {
    "duration": 1075,
    "start_time": "2022-11-03T10:28:10.738Z"
   },
   {
    "duration": 16,
    "start_time": "2022-11-03T10:28:11.814Z"
   },
   {
    "duration": 24,
    "start_time": "2022-11-03T10:28:11.832Z"
   },
   {
    "duration": 10,
    "start_time": "2022-11-03T10:28:11.857Z"
   },
   {
    "duration": 10,
    "start_time": "2022-11-03T10:28:11.868Z"
   },
   {
    "duration": 256,
    "start_time": "2022-11-03T10:28:11.882Z"
   },
   {
    "duration": 24,
    "start_time": "2022-11-03T10:28:12.140Z"
   },
   {
    "duration": 256,
    "start_time": "2022-11-03T10:28:12.165Z"
   },
   {
    "duration": 15,
    "start_time": "2022-11-03T10:28:12.423Z"
   },
   {
    "duration": 203,
    "start_time": "2022-11-03T10:28:12.440Z"
   },
   {
    "duration": 406,
    "start_time": "2022-11-03T10:28:12.644Z"
   },
   {
    "duration": 3,
    "start_time": "2022-11-03T10:28:13.051Z"
   },
   {
    "duration": 6,
    "start_time": "2022-11-03T10:28:13.056Z"
   },
   {
    "duration": 381,
    "start_time": "2022-11-03T10:28:13.064Z"
   },
   {
    "duration": 12,
    "start_time": "2022-11-03T10:28:13.447Z"
   },
   {
    "duration": 11,
    "start_time": "2022-11-03T10:28:13.461Z"
   },
   {
    "duration": 14,
    "start_time": "2022-11-03T10:28:13.474Z"
   },
   {
    "duration": 4,
    "start_time": "2022-11-03T10:28:13.489Z"
   },
   {
    "duration": 4,
    "start_time": "2022-11-03T10:28:13.521Z"
   },
   {
    "duration": 12,
    "start_time": "2022-11-03T10:28:13.527Z"
   },
   {
    "duration": 5,
    "start_time": "2022-11-03T10:28:13.540Z"
   },
   {
    "duration": 6,
    "start_time": "2022-11-03T10:28:13.546Z"
   },
   {
    "duration": 34,
    "start_time": "2022-11-03T10:28:13.553Z"
   },
   {
    "duration": 56,
    "start_time": "2022-11-03T10:28:13.589Z"
   },
   {
    "duration": 19,
    "start_time": "2022-11-03T10:28:13.647Z"
   },
   {
    "duration": 22,
    "start_time": "2022-11-03T10:28:13.668Z"
   },
   {
    "duration": 40,
    "start_time": "2022-11-03T10:28:13.692Z"
   },
   {
    "duration": 249,
    "start_time": "2022-11-03T10:28:13.734Z"
   },
   {
    "duration": 6,
    "start_time": "2022-11-03T10:28:13.984Z"
   },
   {
    "duration": 13,
    "start_time": "2022-11-03T10:28:13.991Z"
   },
   {
    "duration": 7,
    "start_time": "2022-11-03T10:28:14.005Z"
   },
   {
    "duration": 846,
    "start_time": "2022-11-03T10:28:14.013Z"
   },
   {
    "duration": 23,
    "start_time": "2022-11-03T10:28:14.861Z"
   },
   {
    "duration": 11,
    "start_time": "2022-11-03T10:28:14.886Z"
   },
   {
    "duration": 41,
    "start_time": "2022-11-03T10:28:14.899Z"
   },
   {
    "duration": 11,
    "start_time": "2022-11-03T10:28:14.942Z"
   },
   {
    "duration": 2,
    "start_time": "2022-11-03T10:28:14.954Z"
   },
   {
    "duration": 25,
    "start_time": "2022-11-03T10:28:14.957Z"
   },
   {
    "duration": 39,
    "start_time": "2022-11-03T10:28:14.983Z"
   },
   {
    "duration": 211,
    "start_time": "2022-11-03T10:28:15.024Z"
   },
   {
    "duration": 12,
    "start_time": "2022-11-03T10:28:15.237Z"
   },
   {
    "duration": 274,
    "start_time": "2022-11-03T10:28:15.250Z"
   },
   {
    "duration": 4,
    "start_time": "2022-11-03T10:28:15.526Z"
   },
   {
    "duration": 19,
    "start_time": "2022-11-03T10:28:15.531Z"
   },
   {
    "duration": 9,
    "start_time": "2022-11-03T10:28:15.551Z"
   },
   {
    "duration": 16,
    "start_time": "2022-11-03T10:28:15.562Z"
   },
   {
    "duration": 262,
    "start_time": "2022-11-03T10:28:15.580Z"
   },
   {
    "duration": 6,
    "start_time": "2022-11-03T10:28:15.844Z"
   },
   {
    "duration": 18,
    "start_time": "2022-11-03T10:28:15.852Z"
   },
   {
    "duration": 20,
    "start_time": "2022-11-03T10:28:15.871Z"
   },
   {
    "duration": 40,
    "start_time": "2022-11-03T10:28:15.892Z"
   },
   {
    "duration": 5,
    "start_time": "2022-11-03T10:28:15.934Z"
   },
   {
    "duration": 7,
    "start_time": "2022-11-03T10:28:15.941Z"
   },
   {
    "duration": 10,
    "start_time": "2022-11-03T10:28:15.950Z"
   },
   {
    "duration": 30,
    "start_time": "2022-11-03T10:31:14.535Z"
   },
   {
    "duration": 1039,
    "start_time": "2022-11-03T10:31:24.577Z"
   },
   {
    "duration": 176,
    "start_time": "2022-11-03T10:31:25.618Z"
   },
   {
    "duration": 51,
    "start_time": "2022-11-03T10:31:25.795Z"
   },
   {
    "duration": 52,
    "start_time": "2022-11-03T10:31:25.848Z"
   },
   {
    "duration": 13,
    "start_time": "2022-11-03T10:31:25.901Z"
   },
   {
    "duration": 15,
    "start_time": "2022-11-03T10:31:25.916Z"
   },
   {
    "duration": 17,
    "start_time": "2022-11-03T10:31:25.932Z"
   },
   {
    "duration": 36,
    "start_time": "2022-11-03T10:31:25.950Z"
   },
   {
    "duration": 51,
    "start_time": "2022-11-03T10:31:25.987Z"
   },
   {
    "duration": 36,
    "start_time": "2022-11-03T10:31:26.041Z"
   },
   {
    "duration": 48,
    "start_time": "2022-11-03T10:31:26.078Z"
   },
   {
    "duration": 19,
    "start_time": "2022-11-03T10:31:26.128Z"
   },
   {
    "duration": 16,
    "start_time": "2022-11-03T10:31:26.149Z"
   },
   {
    "duration": 4,
    "start_time": "2022-11-03T10:31:26.168Z"
   },
   {
    "duration": 19,
    "start_time": "2022-11-03T10:31:26.174Z"
   },
   {
    "duration": 28,
    "start_time": "2022-11-03T10:31:26.195Z"
   },
   {
    "duration": 11,
    "start_time": "2022-11-03T10:31:26.224Z"
   },
   {
    "duration": 270,
    "start_time": "2022-11-03T10:31:26.236Z"
   },
   {
    "duration": 32,
    "start_time": "2022-11-03T10:31:26.508Z"
   },
   {
    "duration": 24,
    "start_time": "2022-11-03T10:31:26.541Z"
   },
   {
    "duration": 16,
    "start_time": "2022-11-03T10:31:26.566Z"
   },
   {
    "duration": 39,
    "start_time": "2022-11-03T10:31:26.583Z"
   },
   {
    "duration": 943,
    "start_time": "2022-11-03T10:31:26.624Z"
   },
   {
    "duration": 9,
    "start_time": "2022-11-03T10:31:27.569Z"
   },
   {
    "duration": 22,
    "start_time": "2022-11-03T10:31:27.580Z"
   },
   {
    "duration": 29,
    "start_time": "2022-11-03T10:31:27.603Z"
   },
   {
    "duration": 11,
    "start_time": "2022-11-03T10:31:27.634Z"
   },
   {
    "duration": 265,
    "start_time": "2022-11-03T10:31:27.650Z"
   },
   {
    "duration": 23,
    "start_time": "2022-11-03T10:31:27.921Z"
   },
   {
    "duration": 244,
    "start_time": "2022-11-03T10:31:27.946Z"
   },
   {
    "duration": 14,
    "start_time": "2022-11-03T10:31:28.192Z"
   },
   {
    "duration": 199,
    "start_time": "2022-11-03T10:31:28.208Z"
   },
   {
    "duration": 423,
    "start_time": "2022-11-03T10:31:28.408Z"
   },
   {
    "duration": 3,
    "start_time": "2022-11-03T10:31:28.833Z"
   },
   {
    "duration": 8,
    "start_time": "2022-11-03T10:31:28.837Z"
   },
   {
    "duration": 368,
    "start_time": "2022-11-03T10:31:28.846Z"
   },
   {
    "duration": 14,
    "start_time": "2022-11-03T10:31:29.222Z"
   },
   {
    "duration": 12,
    "start_time": "2022-11-03T10:31:29.237Z"
   },
   {
    "duration": 13,
    "start_time": "2022-11-03T10:31:29.251Z"
   },
   {
    "duration": 4,
    "start_time": "2022-11-03T10:31:29.266Z"
   },
   {
    "duration": 6,
    "start_time": "2022-11-03T10:31:29.271Z"
   },
   {
    "duration": 7,
    "start_time": "2022-11-03T10:31:29.278Z"
   },
   {
    "duration": 35,
    "start_time": "2022-11-03T10:31:29.287Z"
   },
   {
    "duration": 5,
    "start_time": "2022-11-03T10:31:29.323Z"
   },
   {
    "duration": 38,
    "start_time": "2022-11-03T10:31:29.329Z"
   },
   {
    "duration": 24,
    "start_time": "2022-11-03T10:31:29.369Z"
   },
   {
    "duration": 36,
    "start_time": "2022-11-03T10:31:29.394Z"
   },
   {
    "duration": 21,
    "start_time": "2022-11-03T10:31:29.431Z"
   },
   {
    "duration": 14,
    "start_time": "2022-11-03T10:31:29.453Z"
   },
   {
    "duration": 278,
    "start_time": "2022-11-03T10:31:29.469Z"
   },
   {
    "duration": 6,
    "start_time": "2022-11-03T10:31:29.748Z"
   },
   {
    "duration": 25,
    "start_time": "2022-11-03T10:31:29.756Z"
   },
   {
    "duration": 19,
    "start_time": "2022-11-03T10:31:29.782Z"
   },
   {
    "duration": 833,
    "start_time": "2022-11-03T10:31:29.803Z"
   },
   {
    "duration": 23,
    "start_time": "2022-11-03T10:31:30.638Z"
   },
   {
    "duration": 13,
    "start_time": "2022-11-03T10:31:30.663Z"
   },
   {
    "duration": 49,
    "start_time": "2022-11-03T10:31:30.678Z"
   },
   {
    "duration": 13,
    "start_time": "2022-11-03T10:31:30.729Z"
   },
   {
    "duration": 19,
    "start_time": "2022-11-03T10:31:30.743Z"
   },
   {
    "duration": 42,
    "start_time": "2022-11-03T10:31:30.763Z"
   },
   {
    "duration": 33,
    "start_time": "2022-11-03T10:31:30.806Z"
   },
   {
    "duration": 240,
    "start_time": "2022-11-03T10:31:30.841Z"
   },
   {
    "duration": 13,
    "start_time": "2022-11-03T10:31:31.084Z"
   },
   {
    "duration": 271,
    "start_time": "2022-11-03T10:31:31.099Z"
   },
   {
    "duration": 4,
    "start_time": "2022-11-03T10:31:31.372Z"
   },
   {
    "duration": 44,
    "start_time": "2022-11-03T10:31:31.378Z"
   },
   {
    "duration": 8,
    "start_time": "2022-11-03T10:31:31.423Z"
   },
   {
    "duration": 22,
    "start_time": "2022-11-03T10:31:31.433Z"
   },
   {
    "duration": 252,
    "start_time": "2022-11-03T10:31:31.456Z"
   },
   {
    "duration": 6,
    "start_time": "2022-11-03T10:31:31.709Z"
   },
   {
    "duration": 37,
    "start_time": "2022-11-03T10:31:31.716Z"
   },
   {
    "duration": 29,
    "start_time": "2022-11-03T10:31:31.754Z"
   },
   {
    "duration": 37,
    "start_time": "2022-11-03T10:31:31.785Z"
   },
   {
    "duration": 5,
    "start_time": "2022-11-03T10:31:31.823Z"
   },
   {
    "duration": 8,
    "start_time": "2022-11-03T10:31:31.829Z"
   },
   {
    "duration": 23,
    "start_time": "2022-11-03T10:31:31.839Z"
   },
   {
    "duration": 1193,
    "start_time": "2022-11-03T10:37:31.483Z"
   },
   {
    "duration": 1153,
    "start_time": "2022-11-03T10:38:10.151Z"
   },
   {
    "duration": 396,
    "start_time": "2022-11-03T10:38:11.306Z"
   },
   {
    "duration": 48,
    "start_time": "2022-11-03T10:38:11.704Z"
   },
   {
    "duration": 55,
    "start_time": "2022-11-03T10:38:11.754Z"
   },
   {
    "duration": 14,
    "start_time": "2022-11-03T10:38:11.810Z"
   },
   {
    "duration": 22,
    "start_time": "2022-11-03T10:38:11.826Z"
   },
   {
    "duration": 29,
    "start_time": "2022-11-03T10:38:11.849Z"
   },
   {
    "duration": 37,
    "start_time": "2022-11-03T10:38:11.880Z"
   },
   {
    "duration": 26,
    "start_time": "2022-11-03T10:38:11.923Z"
   },
   {
    "duration": 28,
    "start_time": "2022-11-03T10:38:11.951Z"
   },
   {
    "duration": 43,
    "start_time": "2022-11-03T10:38:11.980Z"
   },
   {
    "duration": 16,
    "start_time": "2022-11-03T10:38:12.024Z"
   },
   {
    "duration": 13,
    "start_time": "2022-11-03T10:38:12.042Z"
   },
   {
    "duration": 8,
    "start_time": "2022-11-03T10:38:12.057Z"
   },
   {
    "duration": 15,
    "start_time": "2022-11-03T10:38:12.066Z"
   },
   {
    "duration": 7,
    "start_time": "2022-11-03T10:38:12.083Z"
   },
   {
    "duration": 35,
    "start_time": "2022-11-03T10:38:12.092Z"
   },
   {
    "duration": 298,
    "start_time": "2022-11-03T10:38:12.128Z"
   },
   {
    "duration": 31,
    "start_time": "2022-11-03T10:38:12.428Z"
   },
   {
    "duration": 30,
    "start_time": "2022-11-03T10:38:12.461Z"
   },
   {
    "duration": 38,
    "start_time": "2022-11-03T10:38:12.493Z"
   },
   {
    "duration": 14,
    "start_time": "2022-11-03T10:38:12.533Z"
   },
   {
    "duration": 1015,
    "start_time": "2022-11-03T10:38:12.549Z"
   },
   {
    "duration": 9,
    "start_time": "2022-11-03T10:38:13.566Z"
   },
   {
    "duration": 23,
    "start_time": "2022-11-03T10:38:13.576Z"
   },
   {
    "duration": 25,
    "start_time": "2022-11-03T10:38:13.600Z"
   },
   {
    "duration": 10,
    "start_time": "2022-11-03T10:38:13.627Z"
   },
   {
    "duration": 283,
    "start_time": "2022-11-03T10:38:13.641Z"
   },
   {
    "duration": 29,
    "start_time": "2022-11-03T10:38:13.925Z"
   },
   {
    "duration": 257,
    "start_time": "2022-11-03T10:38:13.956Z"
   },
   {
    "duration": 17,
    "start_time": "2022-11-03T10:38:14.221Z"
   },
   {
    "duration": 215,
    "start_time": "2022-11-03T10:38:14.239Z"
   },
   {
    "duration": 450,
    "start_time": "2022-11-03T10:38:14.456Z"
   },
   {
    "duration": 4,
    "start_time": "2022-11-03T10:38:14.907Z"
   },
   {
    "duration": 11,
    "start_time": "2022-11-03T10:38:14.912Z"
   },
   {
    "duration": 372,
    "start_time": "2022-11-03T10:38:14.925Z"
   },
   {
    "duration": 13,
    "start_time": "2022-11-03T10:38:15.298Z"
   },
   {
    "duration": 14,
    "start_time": "2022-11-03T10:38:15.322Z"
   },
   {
    "duration": 14,
    "start_time": "2022-11-03T10:38:15.338Z"
   },
   {
    "duration": 3,
    "start_time": "2022-11-03T10:38:15.354Z"
   },
   {
    "duration": 4,
    "start_time": "2022-11-03T10:38:15.359Z"
   },
   {
    "duration": 7,
    "start_time": "2022-11-03T10:38:15.365Z"
   },
   {
    "duration": 7,
    "start_time": "2022-11-03T10:38:15.374Z"
   },
   {
    "duration": 6,
    "start_time": "2022-11-03T10:38:15.383Z"
   },
   {
    "duration": 30,
    "start_time": "2022-11-03T10:38:15.422Z"
   },
   {
    "duration": 26,
    "start_time": "2022-11-03T10:38:15.454Z"
   },
   {
    "duration": 42,
    "start_time": "2022-11-03T10:38:15.481Z"
   },
   {
    "duration": 22,
    "start_time": "2022-11-03T10:38:15.524Z"
   },
   {
    "duration": 17,
    "start_time": "2022-11-03T10:38:15.547Z"
   },
   {
    "duration": 283,
    "start_time": "2022-11-03T10:38:15.566Z"
   },
   {
    "duration": 6,
    "start_time": "2022-11-03T10:38:15.851Z"
   },
   {
    "duration": 7,
    "start_time": "2022-11-03T10:38:15.859Z"
   },
   {
    "duration": 6,
    "start_time": "2022-11-03T10:38:15.868Z"
   },
   {
    "duration": 935,
    "start_time": "2022-11-03T10:38:15.875Z"
   },
   {
    "duration": 28,
    "start_time": "2022-11-03T10:38:16.811Z"
   },
   {
    "duration": 12,
    "start_time": "2022-11-03T10:38:16.840Z"
   },
   {
    "duration": 24,
    "start_time": "2022-11-03T10:38:16.853Z"
   },
   {
    "duration": 10,
    "start_time": "2022-11-03T10:38:16.879Z"
   },
   {
    "duration": 32,
    "start_time": "2022-11-03T10:38:16.890Z"
   },
   {
    "duration": 26,
    "start_time": "2022-11-03T10:38:16.924Z"
   },
   {
    "duration": 10,
    "start_time": "2022-11-03T10:38:16.952Z"
   },
   {
    "duration": 218,
    "start_time": "2022-11-03T10:38:16.963Z"
   },
   {
    "duration": 15,
    "start_time": "2022-11-03T10:38:17.182Z"
   },
   {
    "duration": 323,
    "start_time": "2022-11-03T10:38:17.199Z"
   },
   {
    "duration": 5,
    "start_time": "2022-11-03T10:38:17.524Z"
   },
   {
    "duration": 18,
    "start_time": "2022-11-03T10:38:17.530Z"
   },
   {
    "duration": 9,
    "start_time": "2022-11-03T10:38:17.550Z"
   },
   {
    "duration": 17,
    "start_time": "2022-11-03T10:38:17.561Z"
   },
   {
    "duration": 321,
    "start_time": "2022-11-03T10:38:17.580Z"
   },
   {
    "duration": 6,
    "start_time": "2022-11-03T10:38:17.903Z"
   },
   {
    "duration": 24,
    "start_time": "2022-11-03T10:38:17.910Z"
   },
   {
    "duration": 15,
    "start_time": "2022-11-03T10:38:17.936Z"
   },
   {
    "duration": 28,
    "start_time": "2022-11-03T10:38:17.953Z"
   },
   {
    "duration": 5,
    "start_time": "2022-11-03T10:38:17.983Z"
   },
   {
    "duration": 36,
    "start_time": "2022-11-03T10:38:17.990Z"
   },
   {
    "duration": 6,
    "start_time": "2022-11-03T10:38:18.028Z"
   },
   {
    "duration": 7,
    "start_time": "2022-11-03T10:48:36.290Z"
   },
   {
    "duration": 10,
    "start_time": "2022-11-03T10:51:59.095Z"
   },
   {
    "duration": 12,
    "start_time": "2022-11-03T10:52:36.235Z"
   },
   {
    "duration": 12,
    "start_time": "2022-11-03T10:59:32.232Z"
   },
   {
    "duration": 74,
    "start_time": "2022-11-03T11:11:53.853Z"
   },
   {
    "duration": 97,
    "start_time": "2022-11-03T11:13:36.925Z"
   },
   {
    "duration": 7,
    "start_time": "2022-11-03T11:18:47.074Z"
   },
   {
    "duration": 6,
    "start_time": "2022-11-03T11:19:07.063Z"
   },
   {
    "duration": 5,
    "start_time": "2022-11-03T11:20:29.559Z"
   },
   {
    "duration": 5,
    "start_time": "2022-11-03T11:23:07.616Z"
   },
   {
    "duration": 6,
    "start_time": "2022-11-03T11:25:21.807Z"
   },
   {
    "duration": 85,
    "start_time": "2022-11-03T11:27:31.310Z"
   },
   {
    "duration": 7,
    "start_time": "2022-11-03T11:28:24.322Z"
   },
   {
    "duration": 11,
    "start_time": "2022-11-03T11:36:12.692Z"
   },
   {
    "duration": 70,
    "start_time": "2022-11-03T11:37:18.896Z"
   },
   {
    "duration": 74,
    "start_time": "2022-11-03T11:37:50.780Z"
   },
   {
    "duration": 1186,
    "start_time": "2022-11-03T11:38:10.419Z"
   },
   {
    "duration": 1153,
    "start_time": "2022-11-03T11:39:07.709Z"
   },
   {
    "duration": 1332,
    "start_time": "2022-11-03T11:39:42.438Z"
   },
   {
    "duration": 467,
    "start_time": "2022-11-03T11:40:20.389Z"
   },
   {
    "duration": 207,
    "start_time": "2022-11-03T11:40:59.912Z"
   },
   {
    "duration": 10,
    "start_time": "2022-11-03T11:44:16.428Z"
   },
   {
    "duration": 12,
    "start_time": "2022-11-03T11:46:39.660Z"
   },
   {
    "duration": 12,
    "start_time": "2022-11-03T11:47:37.616Z"
   },
   {
    "duration": 14,
    "start_time": "2022-11-03T11:51:01.853Z"
   },
   {
    "duration": 9,
    "start_time": "2022-11-03T12:02:32.001Z"
   },
   {
    "duration": 1158,
    "start_time": "2022-11-03T12:14:43.302Z"
   },
   {
    "duration": 224,
    "start_time": "2022-11-03T12:14:44.461Z"
   },
   {
    "duration": 78,
    "start_time": "2022-11-03T12:14:44.687Z"
   },
   {
    "duration": 58,
    "start_time": "2022-11-03T12:14:44.767Z"
   },
   {
    "duration": 14,
    "start_time": "2022-11-03T12:14:44.827Z"
   },
   {
    "duration": 18,
    "start_time": "2022-11-03T12:14:44.843Z"
   },
   {
    "duration": 20,
    "start_time": "2022-11-03T12:14:44.863Z"
   },
   {
    "duration": 66,
    "start_time": "2022-11-03T12:14:44.885Z"
   },
   {
    "duration": 28,
    "start_time": "2022-11-03T12:14:44.952Z"
   },
   {
    "duration": 45,
    "start_time": "2022-11-03T12:14:44.982Z"
   },
   {
    "duration": 31,
    "start_time": "2022-11-03T12:14:45.029Z"
   },
   {
    "duration": 20,
    "start_time": "2022-11-03T12:14:45.062Z"
   },
   {
    "duration": 41,
    "start_time": "2022-11-03T12:14:45.083Z"
   },
   {
    "duration": 7,
    "start_time": "2022-11-03T12:14:45.126Z"
   },
   {
    "duration": 11,
    "start_time": "2022-11-03T12:14:45.135Z"
   },
   {
    "duration": 4,
    "start_time": "2022-11-03T12:14:45.148Z"
   },
   {
    "duration": 17,
    "start_time": "2022-11-03T12:14:45.153Z"
   },
   {
    "duration": 296,
    "start_time": "2022-11-03T12:14:45.171Z"
   },
   {
    "duration": 26,
    "start_time": "2022-11-03T12:14:45.469Z"
   },
   {
    "duration": 42,
    "start_time": "2022-11-03T12:14:45.497Z"
   },
   {
    "duration": 16,
    "start_time": "2022-11-03T12:14:45.540Z"
   },
   {
    "duration": 14,
    "start_time": "2022-11-03T12:14:45.558Z"
   },
   {
    "duration": 1107,
    "start_time": "2022-11-03T12:14:45.573Z"
   },
   {
    "duration": 10,
    "start_time": "2022-11-03T12:14:46.682Z"
   },
   {
    "duration": 35,
    "start_time": "2022-11-03T12:14:46.694Z"
   },
   {
    "duration": 12,
    "start_time": "2022-11-03T12:14:46.731Z"
   },
   {
    "duration": 10,
    "start_time": "2022-11-03T12:14:46.744Z"
   },
   {
    "duration": 283,
    "start_time": "2022-11-03T12:14:46.758Z"
   },
   {
    "duration": 26,
    "start_time": "2022-11-03T12:14:47.042Z"
   },
   {
    "duration": 261,
    "start_time": "2022-11-03T12:14:47.070Z"
   },
   {
    "duration": 16,
    "start_time": "2022-11-03T12:14:47.333Z"
   },
   {
    "duration": 239,
    "start_time": "2022-11-03T12:14:47.351Z"
   },
   {
    "duration": 445,
    "start_time": "2022-11-03T12:14:47.592Z"
   },
   {
    "duration": 4,
    "start_time": "2022-11-03T12:14:48.039Z"
   },
   {
    "duration": 9,
    "start_time": "2022-11-03T12:14:48.044Z"
   },
   {
    "duration": 371,
    "start_time": "2022-11-03T12:14:48.054Z"
   },
   {
    "duration": 13,
    "start_time": "2022-11-03T12:14:48.426Z"
   },
   {
    "duration": 46,
    "start_time": "2022-11-03T12:14:48.441Z"
   },
   {
    "duration": 30,
    "start_time": "2022-11-03T12:14:48.488Z"
   },
   {
    "duration": 25,
    "start_time": "2022-11-03T12:14:48.520Z"
   },
   {
    "duration": 17,
    "start_time": "2022-11-03T12:14:48.547Z"
   },
   {
    "duration": 41,
    "start_time": "2022-11-03T12:14:48.565Z"
   },
   {
    "duration": 23,
    "start_time": "2022-11-03T12:14:48.607Z"
   },
   {
    "duration": 36,
    "start_time": "2022-11-03T12:14:48.632Z"
   },
   {
    "duration": 63,
    "start_time": "2022-11-03T12:14:48.669Z"
   },
   {
    "duration": 27,
    "start_time": "2022-11-03T12:14:48.734Z"
   },
   {
    "duration": 20,
    "start_time": "2022-11-03T12:14:48.763Z"
   },
   {
    "duration": 43,
    "start_time": "2022-11-03T12:14:48.784Z"
   },
   {
    "duration": 16,
    "start_time": "2022-11-03T12:14:48.829Z"
   },
   {
    "duration": 280,
    "start_time": "2022-11-03T12:14:48.846Z"
   },
   {
    "duration": 6,
    "start_time": "2022-11-03T12:14:49.127Z"
   },
   {
    "duration": 41,
    "start_time": "2022-11-03T12:14:49.134Z"
   },
   {
    "duration": 18,
    "start_time": "2022-11-03T12:14:49.177Z"
   },
   {
    "duration": 909,
    "start_time": "2022-11-03T12:14:49.197Z"
   },
   {
    "duration": 25,
    "start_time": "2022-11-03T12:14:50.108Z"
   },
   {
    "duration": 13,
    "start_time": "2022-11-03T12:14:50.134Z"
   },
   {
    "duration": 32,
    "start_time": "2022-11-03T12:14:50.148Z"
   },
   {
    "duration": 14,
    "start_time": "2022-11-03T12:14:50.182Z"
   },
   {
    "duration": 21,
    "start_time": "2022-11-03T12:14:50.198Z"
   },
   {
    "duration": 37,
    "start_time": "2022-11-03T12:14:50.221Z"
   },
   {
    "duration": 11,
    "start_time": "2022-11-03T12:14:50.260Z"
   },
   {
    "duration": 224,
    "start_time": "2022-11-03T12:14:50.272Z"
   },
   {
    "duration": 14,
    "start_time": "2022-11-03T12:14:50.497Z"
   },
   {
    "duration": 280,
    "start_time": "2022-11-03T12:14:50.512Z"
   },
   {
    "duration": 4,
    "start_time": "2022-11-03T12:14:50.794Z"
   },
   {
    "duration": 28,
    "start_time": "2022-11-03T12:14:50.800Z"
   },
   {
    "duration": 8,
    "start_time": "2022-11-03T12:14:50.830Z"
   },
   {
    "duration": 49,
    "start_time": "2022-11-03T12:14:50.840Z"
   },
   {
    "duration": 270,
    "start_time": "2022-11-03T12:14:50.891Z"
   },
   {
    "duration": 5,
    "start_time": "2022-11-03T12:14:51.163Z"
   },
   {
    "duration": 25,
    "start_time": "2022-11-03T12:14:51.170Z"
   },
   {
    "duration": 14,
    "start_time": "2022-11-03T12:14:51.196Z"
   },
   {
    "duration": 38,
    "start_time": "2022-11-03T12:14:51.212Z"
   },
   {
    "duration": 233,
    "start_time": "2022-11-03T12:14:51.251Z"
   },
   {
    "duration": 9,
    "start_time": "2022-11-03T12:14:51.485Z"
   },
   {
    "duration": 11,
    "start_time": "2022-11-03T12:14:51.495Z"
   },
   {
    "duration": 21,
    "start_time": "2022-11-03T12:14:51.508Z"
   },
   {
    "duration": 37,
    "start_time": "2022-11-03T12:14:51.530Z"
   },
   {
    "duration": 19,
    "start_time": "2022-11-03T12:14:51.568Z"
   },
   {
    "duration": 43,
    "start_time": "2022-11-03T12:14:51.588Z"
   },
   {
    "duration": 8,
    "start_time": "2022-11-03T12:14:51.632Z"
   },
   {
    "duration": 269,
    "start_time": "2022-11-03T12:14:51.645Z"
   },
   {
    "duration": 7,
    "start_time": "2022-11-03T12:14:51.916Z"
   },
   {
    "duration": 28,
    "start_time": "2022-11-03T12:14:51.925Z"
   },
   {
    "duration": 21,
    "start_time": "2022-11-03T12:14:51.955Z"
   },
   {
    "duration": 100,
    "start_time": "2022-11-03T12:21:27.714Z"
   },
   {
    "duration": 13,
    "start_time": "2022-11-03T12:21:58.898Z"
   },
   {
    "duration": 1082,
    "start_time": "2022-11-03T12:22:11.773Z"
   },
   {
    "duration": 222,
    "start_time": "2022-11-03T12:22:12.856Z"
   },
   {
    "duration": 50,
    "start_time": "2022-11-03T12:22:13.079Z"
   },
   {
    "duration": 56,
    "start_time": "2022-11-03T12:22:13.131Z"
   },
   {
    "duration": 13,
    "start_time": "2022-11-03T12:22:13.188Z"
   },
   {
    "duration": 27,
    "start_time": "2022-11-03T12:22:13.203Z"
   },
   {
    "duration": 19,
    "start_time": "2022-11-03T12:22:13.232Z"
   },
   {
    "duration": 39,
    "start_time": "2022-11-03T12:22:13.253Z"
   },
   {
    "duration": 48,
    "start_time": "2022-11-03T12:22:13.294Z"
   },
   {
    "duration": 32,
    "start_time": "2022-11-03T12:22:13.345Z"
   },
   {
    "duration": 60,
    "start_time": "2022-11-03T12:22:13.379Z"
   },
   {
    "duration": 18,
    "start_time": "2022-11-03T12:22:13.441Z"
   },
   {
    "duration": 15,
    "start_time": "2022-11-03T12:22:13.461Z"
   },
   {
    "duration": 6,
    "start_time": "2022-11-03T12:22:13.477Z"
   },
   {
    "duration": 40,
    "start_time": "2022-11-03T12:22:13.484Z"
   },
   {
    "duration": 4,
    "start_time": "2022-11-03T12:22:13.526Z"
   },
   {
    "duration": 12,
    "start_time": "2022-11-03T12:22:13.531Z"
   },
   {
    "duration": 302,
    "start_time": "2022-11-03T12:22:13.545Z"
   },
   {
    "duration": 25,
    "start_time": "2022-11-03T12:22:13.849Z"
   },
   {
    "duration": 26,
    "start_time": "2022-11-03T12:22:13.876Z"
   },
   {
    "duration": 16,
    "start_time": "2022-11-03T12:22:13.924Z"
   },
   {
    "duration": 14,
    "start_time": "2022-11-03T12:22:13.941Z"
   },
   {
    "duration": 957,
    "start_time": "2022-11-03T12:22:13.957Z"
   },
   {
    "duration": 17,
    "start_time": "2022-11-03T12:22:14.915Z"
   },
   {
    "duration": 25,
    "start_time": "2022-11-03T12:22:14.933Z"
   },
   {
    "duration": 11,
    "start_time": "2022-11-03T12:22:14.959Z"
   },
   {
    "duration": 12,
    "start_time": "2022-11-03T12:22:14.972Z"
   },
   {
    "duration": 267,
    "start_time": "2022-11-03T12:22:14.988Z"
   },
   {
    "duration": 24,
    "start_time": "2022-11-03T12:22:15.256Z"
   },
   {
    "duration": 276,
    "start_time": "2022-11-03T12:22:15.282Z"
   },
   {
    "duration": 15,
    "start_time": "2022-11-03T12:22:15.559Z"
   },
   {
    "duration": 205,
    "start_time": "2022-11-03T12:22:15.575Z"
   },
   {
    "duration": 474,
    "start_time": "2022-11-03T12:22:15.781Z"
   },
   {
    "duration": 4,
    "start_time": "2022-11-03T12:22:16.257Z"
   },
   {
    "duration": 29,
    "start_time": "2022-11-03T12:22:16.263Z"
   },
   {
    "duration": 375,
    "start_time": "2022-11-03T12:22:16.294Z"
   },
   {
    "duration": 13,
    "start_time": "2022-11-03T12:22:16.671Z"
   },
   {
    "duration": 11,
    "start_time": "2022-11-03T12:22:16.686Z"
   },
   {
    "duration": 32,
    "start_time": "2022-11-03T12:22:16.698Z"
   },
   {
    "duration": 4,
    "start_time": "2022-11-03T12:22:16.732Z"
   },
   {
    "duration": 5,
    "start_time": "2022-11-03T12:22:16.737Z"
   },
   {
    "duration": 6,
    "start_time": "2022-11-03T12:22:16.743Z"
   },
   {
    "duration": 6,
    "start_time": "2022-11-03T12:22:16.750Z"
   },
   {
    "duration": 8,
    "start_time": "2022-11-03T12:22:16.758Z"
   },
   {
    "duration": 55,
    "start_time": "2022-11-03T12:22:16.768Z"
   },
   {
    "duration": 26,
    "start_time": "2022-11-03T12:22:16.824Z"
   },
   {
    "duration": 19,
    "start_time": "2022-11-03T12:22:16.851Z"
   },
   {
    "duration": 21,
    "start_time": "2022-11-03T12:22:16.871Z"
   },
   {
    "duration": 41,
    "start_time": "2022-11-03T12:22:16.894Z"
   },
   {
    "duration": 268,
    "start_time": "2022-11-03T12:22:16.937Z"
   },
   {
    "duration": 6,
    "start_time": "2022-11-03T12:22:17.207Z"
   },
   {
    "duration": 5,
    "start_time": "2022-11-03T12:22:17.222Z"
   },
   {
    "duration": 5,
    "start_time": "2022-11-03T12:22:17.229Z"
   },
   {
    "duration": 931,
    "start_time": "2022-11-03T12:22:17.235Z"
   },
   {
    "duration": 23,
    "start_time": "2022-11-03T12:22:18.167Z"
   },
   {
    "duration": 11,
    "start_time": "2022-11-03T12:22:18.192Z"
   },
   {
    "duration": 40,
    "start_time": "2022-11-03T12:22:18.204Z"
   },
   {
    "duration": 12,
    "start_time": "2022-11-03T12:22:18.245Z"
   },
   {
    "duration": 2,
    "start_time": "2022-11-03T12:22:18.258Z"
   },
   {
    "duration": 26,
    "start_time": "2022-11-03T12:22:18.262Z"
   },
   {
    "duration": 40,
    "start_time": "2022-11-03T12:22:18.290Z"
   },
   {
    "duration": 214,
    "start_time": "2022-11-03T12:22:18.332Z"
   },
   {
    "duration": 14,
    "start_time": "2022-11-03T12:22:18.547Z"
   },
   {
    "duration": 256,
    "start_time": "2022-11-03T12:22:18.562Z"
   },
   {
    "duration": 4,
    "start_time": "2022-11-03T12:22:18.821Z"
   },
   {
    "duration": 25,
    "start_time": "2022-11-03T12:22:18.827Z"
   },
   {
    "duration": 28,
    "start_time": "2022-11-03T12:22:18.854Z"
   },
   {
    "duration": 25,
    "start_time": "2022-11-03T12:22:18.883Z"
   },
   {
    "duration": 262,
    "start_time": "2022-11-03T12:22:18.910Z"
   },
   {
    "duration": 6,
    "start_time": "2022-11-03T12:22:19.173Z"
   },
   {
    "duration": 33,
    "start_time": "2022-11-03T12:22:19.180Z"
   },
   {
    "duration": 23,
    "start_time": "2022-11-03T12:22:19.215Z"
   },
   {
    "duration": 32,
    "start_time": "2022-11-03T12:22:19.239Z"
   },
   {
    "duration": 221,
    "start_time": "2022-11-03T12:22:19.273Z"
   },
   {
    "duration": 28,
    "start_time": "2022-11-03T12:22:19.495Z"
   },
   {
    "duration": 12,
    "start_time": "2022-11-03T12:22:19.524Z"
   },
   {
    "duration": 18,
    "start_time": "2022-11-03T12:22:19.537Z"
   },
   {
    "duration": 20,
    "start_time": "2022-11-03T12:22:19.556Z"
   },
   {
    "duration": 29,
    "start_time": "2022-11-03T12:22:19.577Z"
   },
   {
    "duration": 28,
    "start_time": "2022-11-03T12:22:19.607Z"
   },
   {
    "duration": 19,
    "start_time": "2022-11-03T12:22:19.636Z"
   },
   {
    "duration": 97,
    "start_time": "2022-11-03T12:22:19.659Z"
   },
   {
    "duration": 0,
    "start_time": "2022-11-03T12:22:19.757Z"
   },
   {
    "duration": 0,
    "start_time": "2022-11-03T12:22:19.758Z"
   },
   {
    "duration": 0,
    "start_time": "2022-11-03T12:22:19.759Z"
   },
   {
    "duration": 241,
    "start_time": "2022-11-03T12:22:59.294Z"
   },
   {
    "duration": 318,
    "start_time": "2022-11-03T12:23:55.239Z"
   },
   {
    "duration": 239,
    "start_time": "2022-11-03T12:25:03.464Z"
   },
   {
    "duration": 1116,
    "start_time": "2022-11-03T12:25:38.775Z"
   },
   {
    "duration": 265,
    "start_time": "2022-11-03T12:25:39.893Z"
   },
   {
    "duration": 55,
    "start_time": "2022-11-03T12:25:40.160Z"
   },
   {
    "duration": 56,
    "start_time": "2022-11-03T12:25:40.218Z"
   },
   {
    "duration": 14,
    "start_time": "2022-11-03T12:25:40.275Z"
   },
   {
    "duration": 35,
    "start_time": "2022-11-03T12:25:40.290Z"
   },
   {
    "duration": 19,
    "start_time": "2022-11-03T12:25:40.327Z"
   },
   {
    "duration": 38,
    "start_time": "2022-11-03T12:25:40.348Z"
   },
   {
    "duration": 49,
    "start_time": "2022-11-03T12:25:40.388Z"
   },
   {
    "duration": 29,
    "start_time": "2022-11-03T12:25:40.439Z"
   },
   {
    "duration": 27,
    "start_time": "2022-11-03T12:25:40.469Z"
   },
   {
    "duration": 38,
    "start_time": "2022-11-03T12:25:40.498Z"
   },
   {
    "duration": 13,
    "start_time": "2022-11-03T12:25:40.537Z"
   },
   {
    "duration": 11,
    "start_time": "2022-11-03T12:25:40.552Z"
   },
   {
    "duration": 12,
    "start_time": "2022-11-03T12:25:40.564Z"
   },
   {
    "duration": 4,
    "start_time": "2022-11-03T12:25:40.577Z"
   },
   {
    "duration": 11,
    "start_time": "2022-11-03T12:25:40.582Z"
   },
   {
    "duration": 276,
    "start_time": "2022-11-03T12:25:40.622Z"
   },
   {
    "duration": 35,
    "start_time": "2022-11-03T12:25:40.900Z"
   },
   {
    "duration": 31,
    "start_time": "2022-11-03T12:25:40.937Z"
   },
   {
    "duration": 16,
    "start_time": "2022-11-03T12:25:40.970Z"
   },
   {
    "duration": 36,
    "start_time": "2022-11-03T12:25:40.987Z"
   },
   {
    "duration": 1008,
    "start_time": "2022-11-03T12:25:41.025Z"
   },
   {
    "duration": 10,
    "start_time": "2022-11-03T12:25:42.035Z"
   },
   {
    "duration": 26,
    "start_time": "2022-11-03T12:25:42.046Z"
   },
   {
    "duration": 12,
    "start_time": "2022-11-03T12:25:42.074Z"
   },
   {
    "duration": 40,
    "start_time": "2022-11-03T12:25:42.088Z"
   },
   {
    "duration": 253,
    "start_time": "2022-11-03T12:25:42.132Z"
   },
   {
    "duration": 25,
    "start_time": "2022-11-03T12:25:42.386Z"
   },
   {
    "duration": 271,
    "start_time": "2022-11-03T12:25:42.412Z"
   },
   {
    "duration": 15,
    "start_time": "2022-11-03T12:25:42.684Z"
   },
   {
    "duration": 207,
    "start_time": "2022-11-03T12:25:42.700Z"
   },
   {
    "duration": 419,
    "start_time": "2022-11-03T12:25:42.909Z"
   },
   {
    "duration": 3,
    "start_time": "2022-11-03T12:25:43.330Z"
   },
   {
    "duration": 22,
    "start_time": "2022-11-03T12:25:43.335Z"
   },
   {
    "duration": 401,
    "start_time": "2022-11-03T12:25:43.358Z"
   },
   {
    "duration": 14,
    "start_time": "2022-11-03T12:25:43.760Z"
   },
   {
    "duration": 15,
    "start_time": "2022-11-03T12:25:43.775Z"
   },
   {
    "duration": 34,
    "start_time": "2022-11-03T12:25:43.791Z"
   },
   {
    "duration": 4,
    "start_time": "2022-11-03T12:25:43.826Z"
   },
   {
    "duration": 16,
    "start_time": "2022-11-03T12:25:43.831Z"
   },
   {
    "duration": 27,
    "start_time": "2022-11-03T12:25:43.849Z"
   },
   {
    "duration": 13,
    "start_time": "2022-11-03T12:25:43.877Z"
   },
   {
    "duration": 18,
    "start_time": "2022-11-03T12:25:43.892Z"
   },
   {
    "duration": 38,
    "start_time": "2022-11-03T12:25:43.911Z"
   },
   {
    "duration": 25,
    "start_time": "2022-11-03T12:25:43.951Z"
   },
   {
    "duration": 18,
    "start_time": "2022-11-03T12:25:43.978Z"
   },
   {
    "duration": 42,
    "start_time": "2022-11-03T12:25:43.998Z"
   },
   {
    "duration": 15,
    "start_time": "2022-11-03T12:25:44.042Z"
   },
   {
    "duration": 268,
    "start_time": "2022-11-03T12:25:44.059Z"
   },
   {
    "duration": 5,
    "start_time": "2022-11-03T12:25:44.329Z"
   },
   {
    "duration": 8,
    "start_time": "2022-11-03T12:25:44.335Z"
   },
   {
    "duration": 14,
    "start_time": "2022-11-03T12:25:44.344Z"
   },
   {
    "duration": 803,
    "start_time": "2022-11-03T12:25:44.359Z"
   },
   {
    "duration": 23,
    "start_time": "2022-11-03T12:25:45.163Z"
   },
   {
    "duration": 15,
    "start_time": "2022-11-03T12:25:45.188Z"
   },
   {
    "duration": 46,
    "start_time": "2022-11-03T12:25:45.205Z"
   },
   {
    "duration": 14,
    "start_time": "2022-11-03T12:25:45.252Z"
   },
   {
    "duration": 28,
    "start_time": "2022-11-03T12:25:45.268Z"
   },
   {
    "duration": 29,
    "start_time": "2022-11-03T12:25:45.297Z"
   },
   {
    "duration": 13,
    "start_time": "2022-11-03T12:25:45.327Z"
   },
   {
    "duration": 221,
    "start_time": "2022-11-03T12:25:45.342Z"
   },
   {
    "duration": 15,
    "start_time": "2022-11-03T12:25:45.565Z"
   },
   {
    "duration": 257,
    "start_time": "2022-11-03T12:25:45.582Z"
   },
   {
    "duration": 4,
    "start_time": "2022-11-03T12:25:45.841Z"
   },
   {
    "duration": 43,
    "start_time": "2022-11-03T12:25:45.847Z"
   },
   {
    "duration": 18,
    "start_time": "2022-11-03T12:25:45.892Z"
   },
   {
    "duration": 30,
    "start_time": "2022-11-03T12:25:45.912Z"
   },
   {
    "duration": 357,
    "start_time": "2022-11-03T12:25:45.944Z"
   },
   {
    "duration": 6,
    "start_time": "2022-11-03T12:25:46.302Z"
   },
   {
    "duration": 36,
    "start_time": "2022-11-03T12:25:46.309Z"
   },
   {
    "duration": 14,
    "start_time": "2022-11-03T12:25:46.346Z"
   },
   {
    "duration": 52,
    "start_time": "2022-11-03T12:25:46.361Z"
   },
   {
    "duration": 225,
    "start_time": "2022-11-03T12:25:46.415Z"
   },
   {
    "duration": 9,
    "start_time": "2022-11-03T12:25:46.641Z"
   },
   {
    "duration": 47,
    "start_time": "2022-11-03T12:25:46.651Z"
   },
   {
    "duration": 15,
    "start_time": "2022-11-03T12:25:46.699Z"
   },
   {
    "duration": 43,
    "start_time": "2022-11-03T12:25:46.716Z"
   },
   {
    "duration": 29,
    "start_time": "2022-11-03T12:25:46.761Z"
   },
   {
    "duration": 48,
    "start_time": "2022-11-03T12:25:46.792Z"
   },
   {
    "duration": 24,
    "start_time": "2022-11-03T12:25:46.842Z"
   },
   {
    "duration": 246,
    "start_time": "2022-11-03T12:25:46.871Z"
   },
   {
    "duration": 4,
    "start_time": "2022-11-03T12:25:47.119Z"
   },
   {
    "duration": 13,
    "start_time": "2022-11-03T12:25:47.124Z"
   },
   {
    "duration": 9,
    "start_time": "2022-11-03T12:25:47.138Z"
   },
   {
    "duration": 4,
    "start_time": "2022-11-03T12:49:29.900Z"
   },
   {
    "duration": 5,
    "start_time": "2022-11-03T12:51:00.984Z"
   },
   {
    "duration": 1491,
    "start_time": "2022-11-03T12:51:04.283Z"
   },
   {
    "duration": 4,
    "start_time": "2022-11-03T12:51:42.704Z"
   },
   {
    "duration": 869,
    "start_time": "2022-11-03T12:51:45.113Z"
   },
   {
    "duration": 5,
    "start_time": "2022-11-03T12:52:45.923Z"
   },
   {
    "duration": 853,
    "start_time": "2022-11-03T12:52:47.273Z"
   },
   {
    "duration": 4,
    "start_time": "2022-11-03T12:53:26.304Z"
   },
   {
    "duration": 780,
    "start_time": "2022-11-03T12:53:27.438Z"
   },
   {
    "duration": 1094,
    "start_time": "2022-11-03T12:53:48.152Z"
   },
   {
    "duration": 414,
    "start_time": "2022-11-03T12:53:49.248Z"
   },
   {
    "duration": 45,
    "start_time": "2022-11-03T12:53:49.664Z"
   },
   {
    "duration": 54,
    "start_time": "2022-11-03T12:53:49.711Z"
   },
   {
    "duration": 14,
    "start_time": "2022-11-03T12:53:49.767Z"
   },
   {
    "duration": 40,
    "start_time": "2022-11-03T12:53:49.783Z"
   },
   {
    "duration": 29,
    "start_time": "2022-11-03T12:53:49.825Z"
   },
   {
    "duration": 49,
    "start_time": "2022-11-03T12:53:49.856Z"
   },
   {
    "duration": 31,
    "start_time": "2022-11-03T12:53:49.922Z"
   },
   {
    "duration": 32,
    "start_time": "2022-11-03T12:53:49.956Z"
   },
   {
    "duration": 51,
    "start_time": "2022-11-03T12:53:49.990Z"
   },
   {
    "duration": 15,
    "start_time": "2022-11-03T12:53:50.043Z"
   },
   {
    "duration": 12,
    "start_time": "2022-11-03T12:53:50.060Z"
   },
   {
    "duration": 7,
    "start_time": "2022-11-03T12:53:50.074Z"
   },
   {
    "duration": 18,
    "start_time": "2022-11-03T12:53:50.082Z"
   },
   {
    "duration": 14,
    "start_time": "2022-11-03T12:53:50.124Z"
   },
   {
    "duration": 19,
    "start_time": "2022-11-03T12:53:50.139Z"
   },
   {
    "duration": 300,
    "start_time": "2022-11-03T12:53:50.159Z"
   },
   {
    "duration": 28,
    "start_time": "2022-11-03T12:53:50.460Z"
   },
   {
    "duration": 45,
    "start_time": "2022-11-03T12:53:50.490Z"
   },
   {
    "duration": 17,
    "start_time": "2022-11-03T12:53:50.537Z"
   },
   {
    "duration": 19,
    "start_time": "2022-11-03T12:53:50.556Z"
   },
   {
    "duration": 968,
    "start_time": "2022-11-03T12:53:50.576Z"
   },
   {
    "duration": 9,
    "start_time": "2022-11-03T12:53:51.546Z"
   },
   {
    "duration": 23,
    "start_time": "2022-11-03T12:53:51.557Z"
   },
   {
    "duration": 11,
    "start_time": "2022-11-03T12:53:51.581Z"
   },
   {
    "duration": 33,
    "start_time": "2022-11-03T12:53:51.594Z"
   },
   {
    "duration": 258,
    "start_time": "2022-11-03T12:53:51.631Z"
   },
   {
    "duration": 36,
    "start_time": "2022-11-03T12:53:51.891Z"
   },
   {
    "duration": 234,
    "start_time": "2022-11-03T12:53:51.929Z"
   },
   {
    "duration": 15,
    "start_time": "2022-11-03T12:53:52.165Z"
   },
   {
    "duration": 211,
    "start_time": "2022-11-03T12:53:52.182Z"
   },
   {
    "duration": 420,
    "start_time": "2022-11-03T12:53:52.394Z"
   },
   {
    "duration": 8,
    "start_time": "2022-11-03T12:53:52.815Z"
   },
   {
    "duration": 6,
    "start_time": "2022-11-03T12:53:52.825Z"
   },
   {
    "duration": 366,
    "start_time": "2022-11-03T12:53:52.833Z"
   },
   {
    "duration": 21,
    "start_time": "2022-11-03T12:53:53.200Z"
   },
   {
    "duration": 12,
    "start_time": "2022-11-03T12:53:53.223Z"
   },
   {
    "duration": 13,
    "start_time": "2022-11-03T12:53:53.236Z"
   },
   {
    "duration": 3,
    "start_time": "2022-11-03T12:53:53.250Z"
   },
   {
    "duration": 8,
    "start_time": "2022-11-03T12:53:53.255Z"
   },
   {
    "duration": 6,
    "start_time": "2022-11-03T12:53:53.264Z"
   },
   {
    "duration": 11,
    "start_time": "2022-11-03T12:53:53.271Z"
   },
   {
    "duration": 6,
    "start_time": "2022-11-03T12:53:53.284Z"
   },
   {
    "duration": 51,
    "start_time": "2022-11-03T12:53:53.292Z"
   },
   {
    "duration": 29,
    "start_time": "2022-11-03T12:53:53.345Z"
   },
   {
    "duration": 19,
    "start_time": "2022-11-03T12:53:53.375Z"
   },
   {
    "duration": 40,
    "start_time": "2022-11-03T12:53:53.395Z"
   },
   {
    "duration": 14,
    "start_time": "2022-11-03T12:53:53.436Z"
   },
   {
    "duration": 263,
    "start_time": "2022-11-03T12:53:53.451Z"
   },
   {
    "duration": 6,
    "start_time": "2022-11-03T12:53:53.721Z"
   },
   {
    "duration": 8,
    "start_time": "2022-11-03T12:53:53.728Z"
   },
   {
    "duration": 13,
    "start_time": "2022-11-03T12:53:53.738Z"
   },
   {
    "duration": 851,
    "start_time": "2022-11-03T12:53:53.752Z"
   },
   {
    "duration": 37,
    "start_time": "2022-11-03T12:53:54.605Z"
   },
   {
    "duration": 26,
    "start_time": "2022-11-03T12:53:54.645Z"
   },
   {
    "duration": 33,
    "start_time": "2022-11-03T12:53:54.673Z"
   },
   {
    "duration": 18,
    "start_time": "2022-11-03T12:53:54.708Z"
   },
   {
    "duration": 6,
    "start_time": "2022-11-03T12:53:54.728Z"
   },
   {
    "duration": 53,
    "start_time": "2022-11-03T12:53:54.736Z"
   },
   {
    "duration": 11,
    "start_time": "2022-11-03T12:53:54.790Z"
   },
   {
    "duration": 215,
    "start_time": "2022-11-03T12:53:54.803Z"
   },
   {
    "duration": 14,
    "start_time": "2022-11-03T12:53:55.021Z"
   },
   {
    "duration": 245,
    "start_time": "2022-11-03T12:53:55.037Z"
   },
   {
    "duration": 3,
    "start_time": "2022-11-03T12:53:55.284Z"
   },
   {
    "duration": 27,
    "start_time": "2022-11-03T12:53:55.289Z"
   },
   {
    "duration": 9,
    "start_time": "2022-11-03T12:53:55.321Z"
   },
   {
    "duration": 19,
    "start_time": "2022-11-03T12:53:55.332Z"
   },
   {
    "duration": 260,
    "start_time": "2022-11-03T12:53:55.352Z"
   },
   {
    "duration": 9,
    "start_time": "2022-11-03T12:53:55.614Z"
   },
   {
    "duration": 7,
    "start_time": "2022-11-03T12:53:55.624Z"
   },
   {
    "duration": 887,
    "start_time": "2022-11-03T12:53:55.633Z"
   },
   {
    "duration": 11,
    "start_time": "2022-11-03T12:53:56.522Z"
   },
   {
    "duration": 14,
    "start_time": "2022-11-03T12:53:56.535Z"
   },
   {
    "duration": 26,
    "start_time": "2022-11-03T12:53:56.551Z"
   },
   {
    "duration": 270,
    "start_time": "2022-11-03T12:53:56.579Z"
   },
   {
    "duration": 9,
    "start_time": "2022-11-03T12:53:56.851Z"
   },
   {
    "duration": 5,
    "start_time": "2022-11-03T12:53:56.862Z"
   },
   {
    "duration": 8,
    "start_time": "2022-11-03T12:53:56.868Z"
   },
   {
    "duration": 7,
    "start_time": "2022-11-03T12:53:56.877Z"
   },
   {
    "duration": 7,
    "start_time": "2022-11-03T12:53:56.885Z"
   },
   {
    "duration": 14,
    "start_time": "2022-11-03T12:53:56.926Z"
   },
   {
    "duration": 7,
    "start_time": "2022-11-03T12:53:56.942Z"
   },
   {
    "duration": 266,
    "start_time": "2022-11-03T12:53:56.951Z"
   },
   {
    "duration": 5,
    "start_time": "2022-11-03T12:53:57.221Z"
   },
   {
    "duration": 11,
    "start_time": "2022-11-03T12:53:57.227Z"
   },
   {
    "duration": 6,
    "start_time": "2022-11-03T12:53:57.240Z"
   },
   {
    "duration": 6,
    "start_time": "2022-11-03T13:05:10.320Z"
   },
   {
    "duration": 4,
    "start_time": "2022-11-03T13:05:36.854Z"
   },
   {
    "duration": 88,
    "start_time": "2022-11-03T13:07:47.568Z"
   },
   {
    "duration": 5,
    "start_time": "2022-11-03T13:08:21.054Z"
   },
   {
    "duration": 4,
    "start_time": "2022-11-03T13:10:26.774Z"
   },
   {
    "duration": 1157,
    "start_time": "2022-11-03T13:13:12.917Z"
   },
   {
    "duration": 197,
    "start_time": "2022-11-03T13:13:14.076Z"
   },
   {
    "duration": 49,
    "start_time": "2022-11-03T13:13:14.275Z"
   },
   {
    "duration": 49,
    "start_time": "2022-11-03T13:13:14.326Z"
   },
   {
    "duration": 13,
    "start_time": "2022-11-03T13:13:14.377Z"
   },
   {
    "duration": 38,
    "start_time": "2022-11-03T13:13:14.391Z"
   },
   {
    "duration": 19,
    "start_time": "2022-11-03T13:13:14.431Z"
   },
   {
    "duration": 38,
    "start_time": "2022-11-03T13:13:14.452Z"
   },
   {
    "duration": 47,
    "start_time": "2022-11-03T13:13:14.492Z"
   },
   {
    "duration": 28,
    "start_time": "2022-11-03T13:13:14.541Z"
   },
   {
    "duration": 25,
    "start_time": "2022-11-03T13:13:14.571Z"
   },
   {
    "duration": 38,
    "start_time": "2022-11-03T13:13:14.597Z"
   },
   {
    "duration": 13,
    "start_time": "2022-11-03T13:13:14.636Z"
   },
   {
    "duration": 3,
    "start_time": "2022-11-03T13:13:14.651Z"
   },
   {
    "duration": 13,
    "start_time": "2022-11-03T13:13:14.656Z"
   },
   {
    "duration": 5,
    "start_time": "2022-11-03T13:13:14.671Z"
   },
   {
    "duration": 11,
    "start_time": "2022-11-03T13:13:14.678Z"
   },
   {
    "duration": 292,
    "start_time": "2022-11-03T13:13:14.692Z"
   },
   {
    "duration": 36,
    "start_time": "2022-11-03T13:13:14.985Z"
   },
   {
    "duration": 27,
    "start_time": "2022-11-03T13:13:15.023Z"
   },
   {
    "duration": 15,
    "start_time": "2022-11-03T13:13:15.052Z"
   },
   {
    "duration": 12,
    "start_time": "2022-11-03T13:13:15.068Z"
   },
   {
    "duration": 1086,
    "start_time": "2022-11-03T13:13:15.081Z"
   },
   {
    "duration": 12,
    "start_time": "2022-11-03T13:13:16.169Z"
   },
   {
    "duration": 41,
    "start_time": "2022-11-03T13:13:16.183Z"
   },
   {
    "duration": 15,
    "start_time": "2022-11-03T13:13:16.226Z"
   },
   {
    "duration": 11,
    "start_time": "2022-11-03T13:13:16.242Z"
   },
   {
    "duration": 272,
    "start_time": "2022-11-03T13:13:16.259Z"
   },
   {
    "duration": 23,
    "start_time": "2022-11-03T13:13:16.533Z"
   },
   {
    "duration": 252,
    "start_time": "2022-11-03T13:13:16.558Z"
   },
   {
    "duration": 17,
    "start_time": "2022-11-03T13:13:16.812Z"
   },
   {
    "duration": 197,
    "start_time": "2022-11-03T13:13:16.831Z"
   },
   {
    "duration": 431,
    "start_time": "2022-11-03T13:13:17.029Z"
   },
   {
    "duration": 4,
    "start_time": "2022-11-03T13:13:17.462Z"
   },
   {
    "duration": 11,
    "start_time": "2022-11-03T13:13:17.469Z"
   },
   {
    "duration": 411,
    "start_time": "2022-11-03T13:13:17.481Z"
   },
   {
    "duration": 14,
    "start_time": "2022-11-03T13:13:17.894Z"
   },
   {
    "duration": 27,
    "start_time": "2022-11-03T13:13:17.910Z"
   },
   {
    "duration": 25,
    "start_time": "2022-11-03T13:13:17.938Z"
   },
   {
    "duration": 17,
    "start_time": "2022-11-03T13:13:17.965Z"
   },
   {
    "duration": 23,
    "start_time": "2022-11-03T13:13:17.984Z"
   },
   {
    "duration": 38,
    "start_time": "2022-11-03T13:13:18.009Z"
   },
   {
    "duration": 14,
    "start_time": "2022-11-03T13:13:18.049Z"
   },
   {
    "duration": 23,
    "start_time": "2022-11-03T13:13:18.065Z"
   },
   {
    "duration": 63,
    "start_time": "2022-11-03T13:13:18.089Z"
   },
   {
    "duration": 25,
    "start_time": "2022-11-03T13:13:18.154Z"
   },
   {
    "duration": 26,
    "start_time": "2022-11-03T13:13:18.180Z"
   },
   {
    "duration": 25,
    "start_time": "2022-11-03T13:13:18.208Z"
   },
   {
    "duration": 21,
    "start_time": "2022-11-03T13:13:18.234Z"
   },
   {
    "duration": 271,
    "start_time": "2022-11-03T13:13:18.256Z"
   },
   {
    "duration": 6,
    "start_time": "2022-11-03T13:13:18.529Z"
   },
   {
    "duration": 22,
    "start_time": "2022-11-03T13:13:18.536Z"
   },
   {
    "duration": 48,
    "start_time": "2022-11-03T13:13:18.559Z"
   },
   {
    "duration": 854,
    "start_time": "2022-11-03T13:13:18.609Z"
   },
   {
    "duration": 22,
    "start_time": "2022-11-03T13:13:19.464Z"
   },
   {
    "duration": 13,
    "start_time": "2022-11-03T13:13:19.487Z"
   },
   {
    "duration": 48,
    "start_time": "2022-11-03T13:13:19.502Z"
   },
   {
    "duration": 16,
    "start_time": "2022-11-03T13:13:19.552Z"
   },
   {
    "duration": 18,
    "start_time": "2022-11-03T13:13:19.569Z"
   },
   {
    "duration": 58,
    "start_time": "2022-11-03T13:13:19.589Z"
   },
   {
    "duration": 11,
    "start_time": "2022-11-03T13:13:19.648Z"
   },
   {
    "duration": 221,
    "start_time": "2022-11-03T13:13:19.660Z"
   },
   {
    "duration": 13,
    "start_time": "2022-11-03T13:13:19.883Z"
   },
   {
    "duration": 258,
    "start_time": "2022-11-03T13:13:19.898Z"
   },
   {
    "duration": 4,
    "start_time": "2022-11-03T13:13:20.158Z"
   },
   {
    "duration": 69,
    "start_time": "2022-11-03T13:13:20.163Z"
   },
   {
    "duration": 37,
    "start_time": "2022-11-03T13:13:20.233Z"
   },
   {
    "duration": 40,
    "start_time": "2022-11-03T13:13:20.272Z"
   },
   {
    "duration": 261,
    "start_time": "2022-11-03T13:13:20.313Z"
   },
   {
    "duration": 5,
    "start_time": "2022-11-03T13:13:20.576Z"
   },
   {
    "duration": 31,
    "start_time": "2022-11-03T13:13:20.583Z"
   },
   {
    "duration": 896,
    "start_time": "2022-11-03T13:13:20.615Z"
   },
   {
    "duration": 16,
    "start_time": "2022-11-03T13:13:21.513Z"
   },
   {
    "duration": 14,
    "start_time": "2022-11-03T13:13:21.530Z"
   },
   {
    "duration": 25,
    "start_time": "2022-11-03T13:13:21.546Z"
   },
   {
    "duration": 225,
    "start_time": "2022-11-03T13:13:21.573Z"
   },
   {
    "duration": 8,
    "start_time": "2022-11-03T13:13:21.800Z"
   },
   {
    "duration": 16,
    "start_time": "2022-11-03T13:13:21.810Z"
   },
   {
    "duration": 5,
    "start_time": "2022-11-03T13:13:21.828Z"
   },
   {
    "duration": 6,
    "start_time": "2022-11-03T13:13:21.835Z"
   },
   {
    "duration": 7,
    "start_time": "2022-11-03T13:13:21.842Z"
   },
   {
    "duration": 13,
    "start_time": "2022-11-03T13:13:21.854Z"
   },
   {
    "duration": 7,
    "start_time": "2022-11-03T13:13:21.869Z"
   },
   {
    "duration": 272,
    "start_time": "2022-11-03T13:13:21.877Z"
   },
   {
    "duration": 5,
    "start_time": "2022-11-03T13:13:22.150Z"
   },
   {
    "duration": 10,
    "start_time": "2022-11-03T13:13:22.156Z"
   },
   {
    "duration": 9,
    "start_time": "2022-11-03T13:13:22.168Z"
   },
   {
    "duration": 6,
    "start_time": "2022-11-03T13:13:22.179Z"
   },
   {
    "duration": 6,
    "start_time": "2022-11-03T13:13:22.187Z"
   },
   {
    "duration": 8,
    "start_time": "2022-11-03T13:13:22.194Z"
   },
   {
    "duration": 1125,
    "start_time": "2022-11-03T13:32:10.760Z"
   },
   {
    "duration": 230,
    "start_time": "2022-11-03T13:32:11.886Z"
   },
   {
    "duration": 85,
    "start_time": "2022-11-03T13:32:12.118Z"
   },
   {
    "duration": 51,
    "start_time": "2022-11-03T13:32:12.205Z"
   },
   {
    "duration": 13,
    "start_time": "2022-11-03T13:32:12.258Z"
   },
   {
    "duration": 13,
    "start_time": "2022-11-03T13:32:12.272Z"
   },
   {
    "duration": 42,
    "start_time": "2022-11-03T13:32:12.287Z"
   },
   {
    "duration": 38,
    "start_time": "2022-11-03T13:32:12.330Z"
   },
   {
    "duration": 24,
    "start_time": "2022-11-03T13:32:12.370Z"
   },
   {
    "duration": 46,
    "start_time": "2022-11-03T13:32:12.396Z"
   },
   {
    "duration": 24,
    "start_time": "2022-11-03T13:32:12.443Z"
   },
   {
    "duration": 14,
    "start_time": "2022-11-03T13:32:12.469Z"
   },
   {
    "duration": 12,
    "start_time": "2022-11-03T13:32:12.484Z"
   },
   {
    "duration": 27,
    "start_time": "2022-11-03T13:32:12.497Z"
   },
   {
    "duration": 21,
    "start_time": "2022-11-03T13:32:12.526Z"
   },
   {
    "duration": 22,
    "start_time": "2022-11-03T13:32:12.548Z"
   },
   {
    "duration": 22,
    "start_time": "2022-11-03T13:32:12.571Z"
   },
   {
    "duration": 281,
    "start_time": "2022-11-03T13:32:12.595Z"
   },
   {
    "duration": 26,
    "start_time": "2022-11-03T13:32:12.878Z"
   },
   {
    "duration": 37,
    "start_time": "2022-11-03T13:32:12.905Z"
   },
   {
    "duration": 13,
    "start_time": "2022-11-03T13:32:12.944Z"
   },
   {
    "duration": 13,
    "start_time": "2022-11-03T13:32:12.958Z"
   },
   {
    "duration": 985,
    "start_time": "2022-11-03T13:32:12.973Z"
   },
   {
    "duration": 9,
    "start_time": "2022-11-03T13:32:13.959Z"
   },
   {
    "duration": 62,
    "start_time": "2022-11-03T13:32:13.970Z"
   },
   {
    "duration": 23,
    "start_time": "2022-11-03T13:32:14.034Z"
   },
   {
    "duration": 13,
    "start_time": "2022-11-03T13:32:14.058Z"
   },
   {
    "duration": 261,
    "start_time": "2022-11-03T13:32:14.076Z"
   },
   {
    "duration": 26,
    "start_time": "2022-11-03T13:32:14.339Z"
   },
   {
    "duration": 249,
    "start_time": "2022-11-03T13:32:14.366Z"
   },
   {
    "duration": 17,
    "start_time": "2022-11-03T13:32:14.617Z"
   },
   {
    "duration": 210,
    "start_time": "2022-11-03T13:32:14.636Z"
   },
   {
    "duration": 409,
    "start_time": "2022-11-03T13:32:14.847Z"
   },
   {
    "duration": 3,
    "start_time": "2022-11-03T13:32:15.258Z"
   },
   {
    "duration": 18,
    "start_time": "2022-11-03T13:32:15.263Z"
   },
   {
    "duration": 383,
    "start_time": "2022-11-03T13:32:15.283Z"
   },
   {
    "duration": 12,
    "start_time": "2022-11-03T13:32:15.668Z"
   },
   {
    "duration": 53,
    "start_time": "2022-11-03T13:32:15.681Z"
   },
   {
    "duration": 26,
    "start_time": "2022-11-03T13:32:15.736Z"
   },
   {
    "duration": 18,
    "start_time": "2022-11-03T13:32:15.763Z"
   },
   {
    "duration": 11,
    "start_time": "2022-11-03T13:32:15.783Z"
   },
   {
    "duration": 21,
    "start_time": "2022-11-03T13:32:15.795Z"
   },
   {
    "duration": 15,
    "start_time": "2022-11-03T13:32:15.818Z"
   },
   {
    "duration": 25,
    "start_time": "2022-11-03T13:32:15.834Z"
   },
   {
    "duration": 44,
    "start_time": "2022-11-03T13:32:15.860Z"
   },
   {
    "duration": 24,
    "start_time": "2022-11-03T13:32:15.905Z"
   },
   {
    "duration": 22,
    "start_time": "2022-11-03T13:32:15.930Z"
   },
   {
    "duration": 24,
    "start_time": "2022-11-03T13:32:15.954Z"
   },
   {
    "duration": 28,
    "start_time": "2022-11-03T13:32:15.979Z"
   },
   {
    "duration": 299,
    "start_time": "2022-11-03T13:32:16.008Z"
   },
   {
    "duration": 6,
    "start_time": "2022-11-03T13:32:16.308Z"
   },
   {
    "duration": 8,
    "start_time": "2022-11-03T13:32:16.322Z"
   },
   {
    "duration": 27,
    "start_time": "2022-11-03T13:32:16.331Z"
   },
   {
    "duration": 809,
    "start_time": "2022-11-03T13:32:16.360Z"
   },
   {
    "duration": 22,
    "start_time": "2022-11-03T13:32:17.170Z"
   },
   {
    "duration": 23,
    "start_time": "2022-11-03T13:32:17.193Z"
   },
   {
    "duration": 35,
    "start_time": "2022-11-03T13:32:17.218Z"
   },
   {
    "duration": 17,
    "start_time": "2022-11-03T13:32:17.254Z"
   },
   {
    "duration": 20,
    "start_time": "2022-11-03T13:32:17.272Z"
   },
   {
    "duration": 33,
    "start_time": "2022-11-03T13:32:17.293Z"
   },
   {
    "duration": 22,
    "start_time": "2022-11-03T13:32:17.327Z"
   },
   {
    "duration": 243,
    "start_time": "2022-11-03T13:32:17.351Z"
   },
   {
    "duration": 15,
    "start_time": "2022-11-03T13:32:17.596Z"
   },
   {
    "duration": 285,
    "start_time": "2022-11-03T13:32:17.622Z"
   },
   {
    "duration": 5,
    "start_time": "2022-11-03T13:32:17.909Z"
   },
   {
    "duration": 18,
    "start_time": "2022-11-03T13:32:17.922Z"
   },
   {
    "duration": 9,
    "start_time": "2022-11-03T13:32:17.941Z"
   },
   {
    "duration": 16,
    "start_time": "2022-11-03T13:32:17.952Z"
   },
   {
    "duration": 261,
    "start_time": "2022-11-03T13:32:17.969Z"
   },
   {
    "duration": 6,
    "start_time": "2022-11-03T13:32:18.231Z"
   },
   {
    "duration": 9,
    "start_time": "2022-11-03T13:32:18.238Z"
   },
   {
    "duration": 800,
    "start_time": "2022-11-03T13:32:18.248Z"
   },
   {
    "duration": 12,
    "start_time": "2022-11-03T13:32:19.050Z"
   },
   {
    "duration": 46,
    "start_time": "2022-11-03T13:32:19.063Z"
   },
   {
    "duration": 43,
    "start_time": "2022-11-03T13:32:19.110Z"
   },
   {
    "duration": 219,
    "start_time": "2022-11-03T13:32:19.155Z"
   },
   {
    "duration": 10,
    "start_time": "2022-11-03T13:32:19.376Z"
   },
   {
    "duration": 22,
    "start_time": "2022-11-03T13:32:19.387Z"
   },
   {
    "duration": 23,
    "start_time": "2022-11-03T13:32:19.411Z"
   },
   {
    "duration": 37,
    "start_time": "2022-11-03T13:32:19.436Z"
   },
   {
    "duration": 10,
    "start_time": "2022-11-03T13:32:19.475Z"
   },
   {
    "duration": 27,
    "start_time": "2022-11-03T13:32:19.489Z"
   },
   {
    "duration": 7,
    "start_time": "2022-11-03T13:32:19.517Z"
   },
   {
    "duration": 261,
    "start_time": "2022-11-03T13:32:19.525Z"
   },
   {
    "duration": 5,
    "start_time": "2022-11-03T13:32:19.788Z"
   },
   {
    "duration": 35,
    "start_time": "2022-11-03T13:32:19.795Z"
   },
   {
    "duration": 28,
    "start_time": "2022-11-03T13:32:19.832Z"
   },
   {
    "duration": 25,
    "start_time": "2022-11-03T13:32:19.862Z"
   },
   {
    "duration": 14,
    "start_time": "2022-11-03T13:32:19.889Z"
   },
   {
    "duration": 21,
    "start_time": "2022-11-03T13:32:19.905Z"
   },
   {
    "duration": 119,
    "start_time": "2022-11-03T14:56:52.494Z"
   }
  ],
  "kernelspec": {
   "display_name": "Python 3 (ipykernel)",
   "language": "python",
   "name": "python3"
  },
  "language_info": {
   "codemirror_mode": {
    "name": "ipython",
    "version": 3
   },
   "file_extension": ".py",
   "mimetype": "text/x-python",
   "name": "python",
   "nbconvert_exporter": "python",
   "pygments_lexer": "ipython3",
   "version": "3.9.13"
  },
  "toc": {
   "base_numbering": 1,
   "nav_menu": {},
   "number_sections": true,
   "sideBar": true,
   "skip_h1_title": true,
   "title_cell": "Table of Contents",
   "title_sidebar": "Contents",
   "toc_cell": false,
   "toc_position": {
    "height": "calc(100% - 180px)",
    "left": "10px",
    "top": "150px",
    "width": "276px"
   },
   "toc_section_display": true,
   "toc_window_display": true
  }
 },
 "nbformat": 4,
 "nbformat_minor": 2
}
