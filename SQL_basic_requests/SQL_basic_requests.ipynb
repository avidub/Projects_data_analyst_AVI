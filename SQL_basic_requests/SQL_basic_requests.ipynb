{
 "cells": [
  {
   "cell_type": "markdown",
   "metadata": {},
   "source": [
    "## Описание проекта"
   ]
  },
  {
   "cell_type": "markdown",
   "metadata": {},
   "source": [
    "### Цели проекта"
   ]
  },
  {
   "cell_type": "markdown",
   "metadata": {},
   "source": [
    "Появилась тенденция к тому, чтобы создавать приложения для тех, кто любит читать. Компания, где я работаю, решила быть на волне и купила крупный сервис для чтения книг по подписке.\n",
    "\n",
    "Моя первая задача как аналитика — проанализировать базу данных.\n",
    "\n",
    "В ней — информация о книгах, издательствах, авторах, а также пользовательские обзоры книг. Эти данные помогут сформулировать ценностное предложение для нового продукта."
   ]
  },
  {
   "cell_type": "markdown",
   "metadata": {},
   "source": [
    "### Описание данных"
   ]
  },
  {
   "cell_type": "markdown",
   "metadata": {},
   "source": [
    "1. Таблица books\n",
    "   Содержит данные о книгах:\n",
    "\n",
    "       book_id — идентификатор книги;\n",
    "       author_id — идентификатор автора;\n",
    "       title — название книги;\n",
    "       num_pages — количество страниц;\n",
    "       publication_date — дата публикации книги;\n",
    "       publisher_id — идентификатор издателя.\n",
    "\n",
    "2. Таблица authors\n",
    "   Содержит данные об авторах:\n",
    "\n",
    "       author_id — идентификатор автора;\n",
    "       author — имя автора.\n",
    "\n",
    "3. Таблица publishers\n",
    "   Содержит данные об издательствах:\n",
    "\n",
    "       publisher_id — идентификатор издательства;\n",
    "       publisher — название издательства;\n",
    "\n",
    "4. Таблица ratings\n",
    "   Содержит данные о пользовательских оценках книг:\n",
    "\n",
    "       rating_id — идентификатор оценки;\n",
    "       book_id — идентификатор книги;\n",
    "       username — имя пользователя, оставившего оценку;\n",
    "       rating — оценка книги.\n",
    "\n",
    "5. Таблица reviews\n",
    "   Содержит данные о пользовательских обзорах:\n",
    "\n",
    "       review_id — идентификатор обзора;\n",
    "       book_id — идентификатор книги;\n",
    "       username — имя автора обзора;\n",
    "       text — текст обзора."
   ]
  },
  {
   "cell_type": "markdown",
   "metadata": {},
   "source": [
    "### Схема данных"
   ]
  },
  {
   "cell_type": "markdown",
   "metadata": {},
   "source": [
    "![](https://pictures.s3.yandex.net/resources/scheme_1589269096.png)"
   ]
  },
  {
   "cell_type": "markdown",
   "metadata": {},
   "source": [
    "### Задания\n",
    "#### Посчитать, сколько книг вышло после 1 января 2000 года;\n",
    "#### Для каждой книги посчитайте количество обзоров и среднюю оценку;\n",
    "#### Определить издательство, которое выпустило наибольшее число книг толще 50 страниц — так мы исключим из анализа брошюры;\n",
    "#### Определите автора с самой высокой средней оценкой книг — учитывайте только книги с 50 и более оценками;\n",
    "#### Посчитайте среднее количество обзоров от пользователей, которые поставили больше 50 оценок."
   ]
  },
  {
   "cell_type": "markdown",
   "metadata": {},
   "source": [
    "### Последовательность действий"
   ]
  },
  {
   "cell_type": "markdown",
   "metadata": {},
   "source": [
    "#### Исследование таблиц — вывод первых строк;\n",
    "#### SQL-запросы для решения каждого задания (1) и вывод результатов каждого запроса.\n",
    "#### Выводы по каждой из задач"
   ]
  },
  {
   "cell_type": "markdown",
   "metadata": {},
   "source": [
    "## Выполнение задач проекта"
   ]
  },
  {
   "cell_type": "markdown",
   "metadata": {},
   "source": [
    "### Загрузка библиотек, задание параметров подключения и создание строки  соединения к БД, подключение к БД"
   ]
  },
  {
   "cell_type": "code",
   "execution_count": 1,
   "metadata": {},
   "outputs": [],
   "source": [
    "import pandas as pd\n",
    "from sqlalchemy import create_engine"
   ]
  },
  {
   "cell_type": "code",
   "execution_count": 2,
   "metadata": {},
   "outputs": [],
   "source": [
    "db_config = {'user': '', # имя пользователя\n",
    "            'pwd': '', # пароль\n",
    "            'host': '',\n",
    "            'port': , # порт подключения\n",
    "            'db': ''} # название базы данных"
   ]
  },
  {
   "cell_type": "code",
   "execution_count": 3,
   "metadata": {},
   "outputs": [],
   "source": [
    "connection_string = 'postgresql://{}:{}@{}:{}/{}'.format(db_config['user'],\n",
    "                                                         db_config['pwd'],\n",
    "                                                         db_config['host'],\n",
    "                                                         db_config['port'],\n",
    "                                                         db_config['db'])"
   ]
  },
  {
   "cell_type": "code",
   "execution_count": 4,
   "metadata": {},
   "outputs": [],
   "source": [
    "engine = create_engine(connection_string)"
   ]
  },
  {
   "cell_type": "code",
   "execution_count": 5,
   "metadata": {},
   "outputs": [],
   "source": [
    "#pd.io.sql.read_sql(query, con = engine)"
   ]
  },
  {
   "cell_type": "markdown",
   "metadata": {},
   "source": [
    "### Исследование таблиц-вывод первых строк"
   ]
  },
  {
   "cell_type": "code",
   "execution_count": 6,
   "metadata": {},
   "outputs": [],
   "source": [
    "query_books_fstring = ''' SELECT * FROM books LIMIT 1 ''' \n",
    "query_authors_fstring = ''' SELECT * FROM authors LIMIT 1 '''\n",
    "query_publishers_fstring = ''' SELECT * FROM publishers LIMIT 1 '''\n",
    "query_ratings_fstring = ''' SELECT * FROM ratings LIMIT 1 '''\n",
    "query_reviews_fstring = ''' SELECT * FROM reviews LIMIT 1 '''"
   ]
  },
  {
   "cell_type": "code",
   "execution_count": 7,
   "metadata": {
    "scrolled": true
   },
   "outputs": [
    {
     "data": {
      "text/html": [
       "<div>\n",
       "<style scoped>\n",
       "    .dataframe tbody tr th:only-of-type {\n",
       "        vertical-align: middle;\n",
       "    }\n",
       "\n",
       "    .dataframe tbody tr th {\n",
       "        vertical-align: top;\n",
       "    }\n",
       "\n",
       "    .dataframe thead th {\n",
       "        text-align: right;\n",
       "    }\n",
       "</style>\n",
       "<table border=\"1\" class=\"dataframe\">\n",
       "  <thead>\n",
       "    <tr style=\"text-align: right;\">\n",
       "      <th></th>\n",
       "      <th>book_id</th>\n",
       "      <th>author_id</th>\n",
       "      <th>title</th>\n",
       "      <th>num_pages</th>\n",
       "      <th>publication_date</th>\n",
       "      <th>publisher_id</th>\n",
       "    </tr>\n",
       "  </thead>\n",
       "  <tbody>\n",
       "    <tr>\n",
       "      <th>0</th>\n",
       "      <td>1</td>\n",
       "      <td>546</td>\n",
       "      <td>'Salem's Lot</td>\n",
       "      <td>594</td>\n",
       "      <td>2005-11-01</td>\n",
       "      <td>93</td>\n",
       "    </tr>\n",
       "  </tbody>\n",
       "</table>\n",
       "</div>"
      ],
      "text/plain": [
       "   book_id  author_id         title  num_pages publication_date  publisher_id\n",
       "0        1        546  'Salem's Lot        594       2005-11-01            93"
      ]
     },
     "execution_count": 7,
     "metadata": {},
     "output_type": "execute_result"
    }
   ],
   "source": [
    "books_fstring = pd.io.sql.read_sql(query_books_fstring, con = engine)\n",
    "books_fstring"
   ]
  },
  {
   "cell_type": "code",
   "execution_count": 8,
   "metadata": {},
   "outputs": [
    {
     "data": {
      "text/html": [
       "<div>\n",
       "<style scoped>\n",
       "    .dataframe tbody tr th:only-of-type {\n",
       "        vertical-align: middle;\n",
       "    }\n",
       "\n",
       "    .dataframe tbody tr th {\n",
       "        vertical-align: top;\n",
       "    }\n",
       "\n",
       "    .dataframe thead th {\n",
       "        text-align: right;\n",
       "    }\n",
       "</style>\n",
       "<table border=\"1\" class=\"dataframe\">\n",
       "  <thead>\n",
       "    <tr style=\"text-align: right;\">\n",
       "      <th></th>\n",
       "      <th>author_id</th>\n",
       "      <th>author</th>\n",
       "    </tr>\n",
       "  </thead>\n",
       "  <tbody>\n",
       "    <tr>\n",
       "      <th>0</th>\n",
       "      <td>1</td>\n",
       "      <td>A.S. Byatt</td>\n",
       "    </tr>\n",
       "  </tbody>\n",
       "</table>\n",
       "</div>"
      ],
      "text/plain": [
       "   author_id      author\n",
       "0          1  A.S. Byatt"
      ]
     },
     "execution_count": 8,
     "metadata": {},
     "output_type": "execute_result"
    }
   ],
   "source": [
    "books_authors_fstring = pd.io.sql.read_sql(query_authors_fstring, con = engine)\n",
    "books_authors_fstring"
   ]
  },
  {
   "cell_type": "code",
   "execution_count": 9,
   "metadata": {},
   "outputs": [
    {
     "data": {
      "text/html": [
       "<div>\n",
       "<style scoped>\n",
       "    .dataframe tbody tr th:only-of-type {\n",
       "        vertical-align: middle;\n",
       "    }\n",
       "\n",
       "    .dataframe tbody tr th {\n",
       "        vertical-align: top;\n",
       "    }\n",
       "\n",
       "    .dataframe thead th {\n",
       "        text-align: right;\n",
       "    }\n",
       "</style>\n",
       "<table border=\"1\" class=\"dataframe\">\n",
       "  <thead>\n",
       "    <tr style=\"text-align: right;\">\n",
       "      <th></th>\n",
       "      <th>publisher_id</th>\n",
       "      <th>publisher</th>\n",
       "    </tr>\n",
       "  </thead>\n",
       "  <tbody>\n",
       "    <tr>\n",
       "      <th>0</th>\n",
       "      <td>1</td>\n",
       "      <td>Ace</td>\n",
       "    </tr>\n",
       "  </tbody>\n",
       "</table>\n",
       "</div>"
      ],
      "text/plain": [
       "   publisher_id publisher\n",
       "0             1       Ace"
      ]
     },
     "execution_count": 9,
     "metadata": {},
     "output_type": "execute_result"
    }
   ],
   "source": [
    "books_publishers_fstring = pd.io.sql.read_sql(query_publishers_fstring, con = engine)\n",
    "books_publishers_fstring"
   ]
  },
  {
   "cell_type": "code",
   "execution_count": 10,
   "metadata": {},
   "outputs": [
    {
     "data": {
      "text/html": [
       "<div>\n",
       "<style scoped>\n",
       "    .dataframe tbody tr th:only-of-type {\n",
       "        vertical-align: middle;\n",
       "    }\n",
       "\n",
       "    .dataframe tbody tr th {\n",
       "        vertical-align: top;\n",
       "    }\n",
       "\n",
       "    .dataframe thead th {\n",
       "        text-align: right;\n",
       "    }\n",
       "</style>\n",
       "<table border=\"1\" class=\"dataframe\">\n",
       "  <thead>\n",
       "    <tr style=\"text-align: right;\">\n",
       "      <th></th>\n",
       "      <th>rating_id</th>\n",
       "      <th>book_id</th>\n",
       "      <th>username</th>\n",
       "      <th>rating</th>\n",
       "    </tr>\n",
       "  </thead>\n",
       "  <tbody>\n",
       "    <tr>\n",
       "      <th>0</th>\n",
       "      <td>1</td>\n",
       "      <td>1</td>\n",
       "      <td>ryanfranco</td>\n",
       "      <td>4</td>\n",
       "    </tr>\n",
       "  </tbody>\n",
       "</table>\n",
       "</div>"
      ],
      "text/plain": [
       "   rating_id  book_id    username  rating\n",
       "0          1        1  ryanfranco       4"
      ]
     },
     "execution_count": 10,
     "metadata": {},
     "output_type": "execute_result"
    }
   ],
   "source": [
    "books_ratings_fstring = pd.io.sql.read_sql(query_ratings_fstring, con = engine)\n",
    "books_ratings_fstring"
   ]
  },
  {
   "cell_type": "code",
   "execution_count": 11,
   "metadata": {},
   "outputs": [
    {
     "data": {
      "text/html": [
       "<div>\n",
       "<style scoped>\n",
       "    .dataframe tbody tr th:only-of-type {\n",
       "        vertical-align: middle;\n",
       "    }\n",
       "\n",
       "    .dataframe tbody tr th {\n",
       "        vertical-align: top;\n",
       "    }\n",
       "\n",
       "    .dataframe thead th {\n",
       "        text-align: right;\n",
       "    }\n",
       "</style>\n",
       "<table border=\"1\" class=\"dataframe\">\n",
       "  <thead>\n",
       "    <tr style=\"text-align: right;\">\n",
       "      <th></th>\n",
       "      <th>review_id</th>\n",
       "      <th>book_id</th>\n",
       "      <th>username</th>\n",
       "      <th>text</th>\n",
       "    </tr>\n",
       "  </thead>\n",
       "  <tbody>\n",
       "    <tr>\n",
       "      <th>0</th>\n",
       "      <td>1</td>\n",
       "      <td>1</td>\n",
       "      <td>brandtandrea</td>\n",
       "      <td>Mention society tell send professor analysis. ...</td>\n",
       "    </tr>\n",
       "  </tbody>\n",
       "</table>\n",
       "</div>"
      ],
      "text/plain": [
       "   review_id  book_id      username  \\\n",
       "0          1        1  brandtandrea   \n",
       "\n",
       "                                                text  \n",
       "0  Mention society tell send professor analysis. ...  "
      ]
     },
     "execution_count": 11,
     "metadata": {},
     "output_type": "execute_result"
    }
   ],
   "source": [
    "books_reviews_fstring = pd.io.sql.read_sql(query_reviews_fstring, con = engine)\n",
    "books_reviews_fstring"
   ]
  },
  {
   "cell_type": "markdown",
   "metadata": {},
   "source": [
    "### Задача 1"
   ]
  },
  {
   "cell_type": "markdown",
   "metadata": {},
   "source": [
    "Посчитать, сколько книг вышло после 1 января 2000 года"
   ]
  },
  {
   "cell_type": "code",
   "execution_count": 12,
   "metadata": {},
   "outputs": [
    {
     "name": "stdout",
     "output_type": "stream",
     "text": [
      "С начала двухтысячного года вышло(а)  821  книг(а)\n"
     ]
    }
   ],
   "source": [
    "query_task_one = ''' SELECT COUNT(book_id)\n",
    "                     FROM books\n",
    "                     WHERE publication_date>'1999-12-31'\n",
    "        ''' \n",
    "task_one=pd.io.sql.read_sql(query_task_one, con = engine)\n",
    "print ('С начала двухтысячного года вышло(а) ', task_one.iloc[0,0], ' книг(а)')"
   ]
  },
  {
   "cell_type": "markdown",
   "metadata": {},
   "source": [
    "Если мы говорим о том, чтобы создать новый ресурс для чтения, то 821 книга (свежие) это по идее не много для выбора. Но не надо забывать об авторских отчислениях. И это наши вложения на старте магазина."
   ]
  },
  {
   "cell_type": "markdown",
   "metadata": {},
   "source": [
    "### Задача 2"
   ]
  },
  {
   "cell_type": "markdown",
   "metadata": {},
   "source": [
    "Для каждой книги посчитайте количество обзоров и среднюю оценку"
   ]
  },
  {
   "cell_type": "code",
   "execution_count": 13,
   "metadata": {},
   "outputs": [
    {
     "name": "stdout",
     "output_type": "stream",
     "text": [
      "<class 'pandas.core.frame.DataFrame'>\n",
      "RangeIndex: 1000 entries, 0 to 999\n",
      "Data columns (total 6 columns):\n",
      " #   Column            Non-Null Count  Dtype \n",
      "---  ------            --------------  ----- \n",
      " 0   book_id           1000 non-null   int64 \n",
      " 1   author_id         1000 non-null   int64 \n",
      " 2   title             1000 non-null   object\n",
      " 3   num_pages         1000 non-null   int64 \n",
      " 4   publication_date  1000 non-null   object\n",
      " 5   publisher_id      1000 non-null   int64 \n",
      "dtypes: int64(4), object(2)\n",
      "memory usage: 47.0+ KB\n",
      "Дубликатов в таблице test_books: 0\n"
     ]
    }
   ],
   "source": [
    "query_test_books = ''' SELECT *\n",
    "                            FROM books\n",
    "                    '''\n",
    "test_books = pd.io.sql.read_sql(query_test_books, con = engine)\n",
    "test_books.info()\n",
    "print ('Дубликатов в таблице test_books:', test_books.duplicated().sum())\n"
   ]
  },
  {
   "cell_type": "code",
   "execution_count": 14,
   "metadata": {},
   "outputs": [
    {
     "name": "stdout",
     "output_type": "stream",
     "text": [
      "<class 'pandas.core.frame.DataFrame'>\n",
      "RangeIndex: 1000 entries, 0 to 999\n",
      "Data columns (total 3 columns):\n",
      " #   Column         Non-Null Count  Dtype  \n",
      "---  ------         --------------  -----  \n",
      " 0   title          1000 non-null   object \n",
      " 1   reviews_count  1000 non-null   int64  \n",
      " 2   avg_rating     1000 non-null   float64\n",
      "dtypes: float64(1), int64(1), object(1)\n",
      "memory usage: 23.6+ KB\n",
      "КОЛИЧЕСТВО ОБЗОРОВ И СРЕДНЯЯ ОЦЕНКА ДЛЯ КАЖДОЙ КНИГИ\n"
     ]
    },
    {
     "data": {
      "text/html": [
       "<div>\n",
       "<style scoped>\n",
       "    .dataframe tbody tr th:only-of-type {\n",
       "        vertical-align: middle;\n",
       "    }\n",
       "\n",
       "    .dataframe tbody tr th {\n",
       "        vertical-align: top;\n",
       "    }\n",
       "\n",
       "    .dataframe thead th {\n",
       "        text-align: right;\n",
       "    }\n",
       "</style>\n",
       "<table border=\"1\" class=\"dataframe\">\n",
       "  <thead>\n",
       "    <tr style=\"text-align: right;\">\n",
       "      <th></th>\n",
       "      <th>title</th>\n",
       "      <th>reviews_count</th>\n",
       "      <th>avg_rating</th>\n",
       "    </tr>\n",
       "  </thead>\n",
       "  <tbody>\n",
       "    <tr>\n",
       "      <th>0</th>\n",
       "      <td>The Body in the Library (Miss Marple  #3)</td>\n",
       "      <td>4</td>\n",
       "      <td>4.50</td>\n",
       "    </tr>\n",
       "    <tr>\n",
       "      <th>1</th>\n",
       "      <td>Galápagos</td>\n",
       "      <td>4</td>\n",
       "      <td>4.50</td>\n",
       "    </tr>\n",
       "    <tr>\n",
       "      <th>2</th>\n",
       "      <td>A Tree Grows in Brooklyn</td>\n",
       "      <td>60</td>\n",
       "      <td>4.25</td>\n",
       "    </tr>\n",
       "    <tr>\n",
       "      <th>3</th>\n",
       "      <td>Undaunted Courage: The Pioneering First Missio...</td>\n",
       "      <td>4</td>\n",
       "      <td>4.00</td>\n",
       "    </tr>\n",
       "    <tr>\n",
       "      <th>4</th>\n",
       "      <td>The Prophet</td>\n",
       "      <td>28</td>\n",
       "      <td>4.29</td>\n",
       "    </tr>\n",
       "    <tr>\n",
       "      <th>5</th>\n",
       "      <td>American Gods (American Gods  #1)</td>\n",
       "      <td>70</td>\n",
       "      <td>4.00</td>\n",
       "    </tr>\n",
       "    <tr>\n",
       "      <th>6</th>\n",
       "      <td>Influence: The Psychology of Persuasion</td>\n",
       "      <td>9</td>\n",
       "      <td>4.33</td>\n",
       "    </tr>\n",
       "    <tr>\n",
       "      <th>7</th>\n",
       "      <td>The Idiot</td>\n",
       "      <td>12</td>\n",
       "      <td>4.25</td>\n",
       "    </tr>\n",
       "    <tr>\n",
       "      <th>8</th>\n",
       "      <td>Rebecca</td>\n",
       "      <td>28</td>\n",
       "      <td>4.00</td>\n",
       "    </tr>\n",
       "    <tr>\n",
       "      <th>9</th>\n",
       "      <td>The Source</td>\n",
       "      <td>4</td>\n",
       "      <td>3.50</td>\n",
       "    </tr>\n",
       "  </tbody>\n",
       "</table>\n",
       "</div>"
      ],
      "text/plain": [
       "                                               title  reviews_count  \\\n",
       "0          The Body in the Library (Miss Marple  #3)              4   \n",
       "1                                          Galápagos              4   \n",
       "2                           A Tree Grows in Brooklyn             60   \n",
       "3  Undaunted Courage: The Pioneering First Missio...              4   \n",
       "4                                        The Prophet             28   \n",
       "5                  American Gods (American Gods  #1)             70   \n",
       "6            Influence: The Psychology of Persuasion              9   \n",
       "7                                          The Idiot             12   \n",
       "8                                            Rebecca             28   \n",
       "9                                         The Source              4   \n",
       "\n",
       "   avg_rating  \n",
       "0        4.50  \n",
       "1        4.50  \n",
       "2        4.25  \n",
       "3        4.00  \n",
       "4        4.29  \n",
       "5        4.00  \n",
       "6        4.33  \n",
       "7        4.25  \n",
       "8        4.00  \n",
       "9        3.50  "
      ]
     },
     "metadata": {},
     "output_type": "display_data"
    }
   ],
   "source": [
    "query_task_two = ''' SELECT bo.title,\n",
    "                            COUNT (re.review_id) AS reviews_count,\n",
    "                            ROUND (AVG (ra.rating),2) AS avg_rating\n",
    "                     FROM books AS bo\n",
    "                     LEFT OUTER JOIN reviews AS re ON bo.book_id = re.book_id\n",
    "                     LEFT OUTER JOIN ratings AS ra ON bo.book_id = ra.book_id\n",
    "                     GROUP BY bo.book_id\n",
    "        ''' \n",
    "task_two=pd.io.sql.read_sql(query_task_two, con = engine)\n",
    "task_two.info()\n",
    "print ('КОЛИЧЕСТВО ОБЗОРОВ И СРЕДНЯЯ ОЦЕНКА ДЛЯ КАЖДОЙ КНИГИ')\n",
    "display(task_two.head(10))"
   ]
  },
  {
   "cell_type": "markdown",
   "metadata": {},
   "source": [
    "Мы можем ранжировать книги по среднему рейтингу (оценка) и количеству отзывов (интерес и резонанс). И пополнять наш ресурс, используя сначала наиболее рейтинговые и обсуждаемые. В итоговый запрос вошло на 1 книгу меньше, чем в исходный файл. "
   ]
  },
  {
   "cell_type": "markdown",
   "metadata": {},
   "source": [
    "### Задача 3\n",
    "Определить издательство, которое выпустило наибольшее число книг толще 50 страниц — так мы исключим из анализа брошюры"
   ]
  },
  {
   "cell_type": "code",
   "execution_count": 15,
   "metadata": {},
   "outputs": [
    {
     "data": {
      "text/html": [
       "<div>\n",
       "<style scoped>\n",
       "    .dataframe tbody tr th:only-of-type {\n",
       "        vertical-align: middle;\n",
       "    }\n",
       "\n",
       "    .dataframe tbody tr th {\n",
       "        vertical-align: top;\n",
       "    }\n",
       "\n",
       "    .dataframe thead th {\n",
       "        text-align: right;\n",
       "    }\n",
       "</style>\n",
       "<table border=\"1\" class=\"dataframe\">\n",
       "  <thead>\n",
       "    <tr style=\"text-align: right;\">\n",
       "      <th></th>\n",
       "      <th>publisher</th>\n",
       "    </tr>\n",
       "  </thead>\n",
       "  <tbody>\n",
       "    <tr>\n",
       "      <th>0</th>\n",
       "      <td>Penguin Books</td>\n",
       "    </tr>\n",
       "  </tbody>\n",
       "</table>\n",
       "</div>"
      ],
      "text/plain": [
       "       publisher\n",
       "0  Penguin Books"
      ]
     },
     "metadata": {},
     "output_type": "display_data"
    },
    {
     "name": "stdout",
     "output_type": "stream",
     "text": [
      "Издательство, которое выпустило наибольшее число книг толще 50 страниц:  Penguin Books\n"
     ]
    }
   ],
   "source": [
    "query_task_three = ''' SELECT pu.publisher\n",
    "                             \n",
    "                       FROM publishers AS pu\n",
    "                       LEFT OUTER JOIN books AS bo ON pu.publisher_id = bo.publisher_id\n",
    "                       WHERE bo.num_pages>50\n",
    "                       GROUP BY pu.publisher_id\n",
    "                       ORDER BY SUM(bo.book_id) DESC\n",
    "                       LIMIT 1\n",
    "        ''' \n",
    "task_three=pd.io.sql.read_sql(query_task_three, con = engine)\n",
    "display(task_three)\n",
    "print ('Издательство, которое выпустило наибольшее число книг толще 50 страниц: ', task_three.iloc[0,0])"
   ]
  },
  {
   "cell_type": "markdown",
   "metadata": {},
   "source": [
    "Использование этого отбора позволяет нам ориентироваться на издательства (в первую очередь), которые выпускают наибольшее количество литературы (не брошюр). Penguin Books - одно из ведущих издательств, выпускающих литературу на английском языке."
   ]
  },
  {
   "cell_type": "markdown",
   "metadata": {},
   "source": [
    "### Задача 4\n",
    "Определите автора с самой высокой средней оценкой книг — учитывайте только книги с 50 и более оценками"
   ]
  },
  {
   "cell_type": "code",
   "execution_count": 16,
   "metadata": {},
   "outputs": [
    {
     "data": {
      "text/html": [
       "<div>\n",
       "<style scoped>\n",
       "    .dataframe tbody tr th:only-of-type {\n",
       "        vertical-align: middle;\n",
       "    }\n",
       "\n",
       "    .dataframe tbody tr th {\n",
       "        vertical-align: top;\n",
       "    }\n",
       "\n",
       "    .dataframe thead th {\n",
       "        text-align: right;\n",
       "    }\n",
       "</style>\n",
       "<table border=\"1\" class=\"dataframe\">\n",
       "  <thead>\n",
       "    <tr style=\"text-align: right;\">\n",
       "      <th></th>\n",
       "      <th>author</th>\n",
       "      <th>round</th>\n",
       "    </tr>\n",
       "  </thead>\n",
       "  <tbody>\n",
       "    <tr>\n",
       "      <th>0</th>\n",
       "      <td>J.K. Rowling/Mary GrandPré</td>\n",
       "      <td>4.29</td>\n",
       "    </tr>\n",
       "  </tbody>\n",
       "</table>\n",
       "</div>"
      ],
      "text/plain": [
       "                       author  round\n",
       "0  J.K. Rowling/Mary GrandPré   4.29"
      ]
     },
     "metadata": {},
     "output_type": "display_data"
    },
    {
     "name": "stdout",
     "output_type": "stream",
     "text": [
      "Автор с самой высокой средней оценкой книг (учитывая только книги с 50 и более оценками):  J.K. Rowling/Mary GrandPré\n"
     ]
    }
   ],
   "source": [
    "query_task_four = ''' SELECT au.author,\n",
    "                             ROUND(AVG (ra.rating),2)\n",
    "                      FROM authors AS au\n",
    "                      JOIN books AS bo ON bo.author_id=au.author_id\n",
    "                      JOIN ratings AS ra ON bo.book_id=ra.book_id\n",
    "                      WHERE bo.book_id IN (SELECT book_id\n",
    "                                           FROM ratings\n",
    "                                           GROUP BY book_id\n",
    "                                           HAVING COUNT(rating_id)>50)\n",
    "                      GROUP BY au.author_id\n",
    "                      ORDER BY AVG (ra.rating) DESC \n",
    "                      LIMIT 1\n",
    "        ''' \n",
    "task_four=pd.io.sql.read_sql(query_task_four, con = engine)\n",
    "display(task_four)\n",
    "print ('Автор с самой высокой средней оценкой книг (учитывая только книги с 50 и более оценками): ', task_four.iloc[0,0])"
   ]
  },
  {
   "cell_type": "markdown",
   "metadata": {},
   "source": [
    "Использование этого отбора позволяет нам начать с приобретения производений наиболее рейтинговых авторов. Джоан Роулинг вполне логична."
   ]
  },
  {
   "cell_type": "markdown",
   "metadata": {},
   "source": [
    "### Задача 5\n",
    "Посчитайте среднее количество обзоров от пользователей, которые поставили больше 50 оценок."
   ]
  },
  {
   "cell_type": "code",
   "execution_count": 17,
   "metadata": {},
   "outputs": [
    {
     "data": {
      "text/html": [
       "<div>\n",
       "<style scoped>\n",
       "    .dataframe tbody tr th:only-of-type {\n",
       "        vertical-align: middle;\n",
       "    }\n",
       "\n",
       "    .dataframe tbody tr th {\n",
       "        vertical-align: top;\n",
       "    }\n",
       "\n",
       "    .dataframe thead th {\n",
       "        text-align: right;\n",
       "    }\n",
       "</style>\n",
       "<table border=\"1\" class=\"dataframe\">\n",
       "  <thead>\n",
       "    <tr style=\"text-align: right;\">\n",
       "      <th></th>\n",
       "      <th>avg_reviews</th>\n",
       "    </tr>\n",
       "  </thead>\n",
       "  <tbody>\n",
       "    <tr>\n",
       "      <th>0</th>\n",
       "      <td>24.33</td>\n",
       "    </tr>\n",
       "  </tbody>\n",
       "</table>\n",
       "</div>"
      ],
      "text/plain": [
       "   avg_reviews\n",
       "0        24.33"
      ]
     },
     "metadata": {},
     "output_type": "display_data"
    },
    {
     "name": "stdout",
     "output_type": "stream",
     "text": [
      "Cреднее количество обзоров от пользователей, которые поставили больше 50 оценок:  24.33\n"
     ]
    }
   ],
   "source": [
    "query_task_five = ''' WITH \n",
    "                      i AS (SELECT re.username, \n",
    "                            COUNT(re.review_id)\n",
    "                            FROM reviews AS re\n",
    "                            WHERE re.username IN (SELECT username\n",
    "                                           FROM ratings\n",
    "                                           GROUP BY username\n",
    "                                           HAVING COUNT(rating_id)>50)\n",
    "                            GROUP BY re.username)\n",
    "                      SELECT ROUND(SUM (count)/COUNT(username),2) AS avg_reviews\n",
    "                      FROM i\n",
    "        ''' \n",
    "task_five=pd.io.sql.read_sql(query_task_five, con = engine)\n",
    "display(task_five)\n",
    "print ('Cреднее количество обзоров от пользователей, которые поставили больше 50 оценок: ', task_five.iloc[0,0])"
   ]
  },
  {
   "cell_type": "markdown",
   "metadata": {},
   "source": [
    "Этот отбор позволяет нам сформировать понимание аудитории наиболее активных пользователей, чтобы начать продвижение нашего ресурса с их помощью (например, вставлять в отзывы упоминание."
   ]
  },
  {
   "cell_type": "markdown",
   "metadata": {},
   "source": [
    "## Выводы\n",
    "1. Отбор выпущенных только за последнее время книг позволяет минимизировать начальные расходы стартапа на закупку авторских прав.\n",
    "2. Отборы позволяют нам выбрать наиболее позитивно воспринятые и обсуждаемые книги, чтобы начать с приобретения именно их (минимизация стартового бюджета).\n",
    "3. Также мы можем выбрать наиболее крупные издательства, чтобы начать переговоры именно с ними (оптимизация усилий).\n",
    "4. У них можно выкупать права в первую очередь на выходящие новинки самых рейтинговых авторов (чтобы поддерживать интерес аудитории.\n",
    "5. Мы можем отобрать наиболее активных пользователей, чтобы начать продвижение именно с их помощью.\n",
    "6. Как основную идею (слоган нового стартапа) можно сформулировать: Специально для вас мы следим за новинками и отбираем только лучшее, чтобы вы не тратили свое время."
   ]
  }
 ],
 "metadata": {
  "ExecuteTimeLog": [
   {
    "duration": 540,
    "start_time": "2022-11-08T08:28:06.482Z"
   },
   {
    "duration": 2,
    "start_time": "2022-11-08T08:28:07.025Z"
   },
   {
    "duration": 6,
    "start_time": "2022-11-08T08:28:07.029Z"
   },
   {
    "duration": 7,
    "start_time": "2022-11-08T08:28:07.037Z"
   },
   {
    "duration": 504,
    "start_time": "2022-11-08T09:22:38.087Z"
   },
   {
    "duration": 7,
    "start_time": "2022-11-08T09:22:38.593Z"
   },
   {
    "duration": 31,
    "start_time": "2022-11-08T09:22:38.601Z"
   },
   {
    "duration": 10,
    "start_time": "2022-11-08T09:22:38.633Z"
   },
   {
    "duration": 2,
    "start_time": "2022-11-08T09:33:41.887Z"
   },
   {
    "duration": 2,
    "start_time": "2022-11-08T09:33:44.682Z"
   },
   {
    "duration": 3,
    "start_time": "2022-11-08T09:33:45.377Z"
   },
   {
    "duration": 2,
    "start_time": "2022-11-08T09:33:47.037Z"
   },
   {
    "duration": 443,
    "start_time": "2022-11-08T09:33:58.230Z"
   },
   {
    "duration": 2,
    "start_time": "2022-11-08T09:33:58.675Z"
   },
   {
    "duration": 8,
    "start_time": "2022-11-08T09:33:58.678Z"
   },
   {
    "duration": 7,
    "start_time": "2022-11-08T09:33:58.687Z"
   },
   {
    "duration": 7918,
    "start_time": "2022-11-08T09:42:29.374Z"
   },
   {
    "duration": 499,
    "start_time": "2022-11-08T09:42:39.492Z"
   },
   {
    "duration": 3,
    "start_time": "2022-11-08T09:42:39.993Z"
   },
   {
    "duration": 13,
    "start_time": "2022-11-08T09:42:40.000Z"
   },
   {
    "duration": 8087,
    "start_time": "2022-11-08T09:42:40.015Z"
   },
   {
    "duration": 3,
    "start_time": "2022-11-08T09:42:48.103Z"
   },
   {
    "duration": 3,
    "start_time": "2022-11-08T09:54:36.750Z"
   },
   {
    "duration": 63,
    "start_time": "2022-11-08T09:56:17.742Z"
   },
   {
    "duration": 12,
    "start_time": "2022-11-08T09:57:08.308Z"
   },
   {
    "duration": 10,
    "start_time": "2022-11-08T09:57:59.303Z"
   },
   {
    "duration": 67,
    "start_time": "2022-11-08T09:58:51.668Z"
   },
   {
    "duration": 12,
    "start_time": "2022-11-08T09:59:28.572Z"
   },
   {
    "duration": 11,
    "start_time": "2022-11-08T10:00:24.507Z"
   },
   {
    "duration": 2,
    "start_time": "2022-11-08T10:45:38.892Z"
   },
   {
    "duration": 4,
    "start_time": "2022-11-08T10:45:59.837Z"
   },
   {
    "duration": 10,
    "start_time": "2022-11-08T10:47:34.408Z"
   },
   {
    "duration": 73,
    "start_time": "2022-11-08T10:49:19.401Z"
   },
   {
    "duration": 1077,
    "start_time": "2022-11-08T10:49:44.526Z"
   },
   {
    "duration": 11,
    "start_time": "2022-11-08T10:50:13.761Z"
   },
   {
    "duration": 9,
    "start_time": "2022-11-08T10:50:35.397Z"
   },
   {
    "duration": 9,
    "start_time": "2022-11-08T10:51:18.544Z"
   },
   {
    "duration": 541,
    "start_time": "2022-11-08T10:58:05.149Z"
   },
   {
    "duration": 3,
    "start_time": "2022-11-08T10:58:05.692Z"
   },
   {
    "duration": 17,
    "start_time": "2022-11-08T10:58:05.699Z"
   },
   {
    "duration": 7647,
    "start_time": "2022-11-08T10:58:05.718Z"
   },
   {
    "duration": 3,
    "start_time": "2022-11-08T10:58:13.366Z"
   },
   {
    "duration": 13,
    "start_time": "2022-11-08T10:58:13.371Z"
   },
   {
    "duration": 93,
    "start_time": "2022-11-08T10:58:13.385Z"
   },
   {
    "duration": 14,
    "start_time": "2022-11-08T10:58:13.480Z"
   },
   {
    "duration": 17,
    "start_time": "2022-11-08T10:58:13.496Z"
   },
   {
    "duration": 28,
    "start_time": "2022-11-08T10:58:13.515Z"
   },
   {
    "duration": 16,
    "start_time": "2022-11-08T10:58:13.545Z"
   },
   {
    "duration": 25,
    "start_time": "2022-11-08T10:58:13.563Z"
   },
   {
    "duration": 139,
    "start_time": "2022-11-08T11:25:32.368Z"
   },
   {
    "duration": 91,
    "start_time": "2022-11-08T11:25:57.118Z"
   },
   {
    "duration": 2495,
    "start_time": "2022-11-08T11:27:39.634Z"
   },
   {
    "duration": 3,
    "start_time": "2022-11-08T11:29:11.281Z"
   },
   {
    "duration": 15,
    "start_time": "2022-11-08T11:29:17.051Z"
   },
   {
    "duration": 26,
    "start_time": "2022-11-08T11:29:43.195Z"
   },
   {
    "duration": 3,
    "start_time": "2022-11-08T11:29:55.047Z"
   },
   {
    "duration": 12,
    "start_time": "2022-11-08T11:30:00.412Z"
   },
   {
    "duration": 26,
    "start_time": "2022-11-08T11:30:36.030Z"
   },
   {
    "duration": 90,
    "start_time": "2022-11-08T11:58:48.474Z"
   },
   {
    "duration": 91,
    "start_time": "2022-11-08T11:59:19.143Z"
   },
   {
    "duration": 90,
    "start_time": "2022-11-08T11:59:35.598Z"
   },
   {
    "duration": 90,
    "start_time": "2022-11-08T12:00:18.553Z"
   },
   {
    "duration": 13,
    "start_time": "2022-11-08T12:01:37.779Z"
   },
   {
    "duration": 10,
    "start_time": "2022-11-08T12:02:22.573Z"
   },
   {
    "duration": 13,
    "start_time": "2022-11-08T12:03:51.149Z"
   },
   {
    "duration": 15,
    "start_time": "2022-11-08T12:04:33.494Z"
   },
   {
    "duration": 26,
    "start_time": "2022-11-08T12:05:14.404Z"
   },
   {
    "duration": 30,
    "start_time": "2022-11-08T12:05:22.281Z"
   },
   {
    "duration": 484,
    "start_time": "2022-11-08T12:05:34.571Z"
   },
   {
    "duration": 3,
    "start_time": "2022-11-08T12:05:35.056Z"
   },
   {
    "duration": 6,
    "start_time": "2022-11-08T12:05:35.062Z"
   },
   {
    "duration": 7276,
    "start_time": "2022-11-08T12:05:35.069Z"
   },
   {
    "duration": 2,
    "start_time": "2022-11-08T12:05:42.347Z"
   },
   {
    "duration": 9,
    "start_time": "2022-11-08T12:05:42.351Z"
   },
   {
    "duration": 64,
    "start_time": "2022-11-08T12:05:42.361Z"
   },
   {
    "duration": 10,
    "start_time": "2022-11-08T12:05:42.427Z"
   },
   {
    "duration": 10,
    "start_time": "2022-11-08T12:05:42.438Z"
   },
   {
    "duration": 9,
    "start_time": "2022-11-08T12:05:42.450Z"
   },
   {
    "duration": 11,
    "start_time": "2022-11-08T12:05:42.460Z"
   },
   {
    "duration": 8,
    "start_time": "2022-11-08T12:05:42.472Z"
   },
   {
    "duration": 31,
    "start_time": "2022-11-08T12:05:42.481Z"
   },
   {
    "duration": 11,
    "start_time": "2022-11-08T12:05:42.514Z"
   },
   {
    "duration": 430,
    "start_time": "2022-11-08T12:07:18.143Z"
   },
   {
    "duration": 3,
    "start_time": "2022-11-08T12:07:18.575Z"
   },
   {
    "duration": 10,
    "start_time": "2022-11-08T12:07:18.579Z"
   },
   {
    "duration": 7764,
    "start_time": "2022-11-08T12:07:18.591Z"
   },
   {
    "duration": 2,
    "start_time": "2022-11-08T12:07:26.356Z"
   },
   {
    "duration": 15,
    "start_time": "2022-11-08T12:07:26.360Z"
   },
   {
    "duration": 56,
    "start_time": "2022-11-08T12:07:26.377Z"
   },
   {
    "duration": 11,
    "start_time": "2022-11-08T12:07:26.434Z"
   },
   {
    "duration": 22,
    "start_time": "2022-11-08T12:07:26.446Z"
   },
   {
    "duration": 22,
    "start_time": "2022-11-08T12:07:26.470Z"
   },
   {
    "duration": 11,
    "start_time": "2022-11-08T12:07:26.493Z"
   },
   {
    "duration": 7,
    "start_time": "2022-11-08T12:07:26.506Z"
   },
   {
    "duration": 40,
    "start_time": "2022-11-08T12:07:26.514Z"
   },
   {
    "duration": 11,
    "start_time": "2022-11-08T12:07:26.555Z"
   },
   {
    "duration": 3310,
    "start_time": "2022-11-08T12:17:43.131Z"
   },
   {
    "duration": 79,
    "start_time": "2022-11-08T14:11:51.681Z"
   },
   {
    "duration": 174,
    "start_time": "2022-11-08T14:13:10.982Z"
   },
   {
    "duration": 13,
    "start_time": "2022-11-08T14:13:33.786Z"
   },
   {
    "duration": 91,
    "start_time": "2022-11-08T14:19:09.351Z"
   },
   {
    "duration": 19,
    "start_time": "2022-11-08T14:19:54.672Z"
   },
   {
    "duration": 106,
    "start_time": "2022-11-08T15:44:46.281Z"
   },
   {
    "duration": 145,
    "start_time": "2022-11-08T15:45:02.021Z"
   },
   {
    "duration": 14,
    "start_time": "2022-11-08T15:46:36.152Z"
   },
   {
    "duration": 14,
    "start_time": "2022-11-08T15:49:18.944Z"
   },
   {
    "duration": 504,
    "start_time": "2022-11-08T15:50:51.671Z"
   },
   {
    "duration": 3,
    "start_time": "2022-11-08T15:50:52.177Z"
   },
   {
    "duration": 5,
    "start_time": "2022-11-08T15:50:52.181Z"
   },
   {
    "duration": 8086,
    "start_time": "2022-11-08T15:50:52.188Z"
   },
   {
    "duration": 3,
    "start_time": "2022-11-08T15:51:00.275Z"
   },
   {
    "duration": 17,
    "start_time": "2022-11-08T15:51:00.279Z"
   },
   {
    "duration": 77,
    "start_time": "2022-11-08T15:51:00.298Z"
   },
   {
    "duration": 11,
    "start_time": "2022-11-08T15:51:00.377Z"
   },
   {
    "duration": 47,
    "start_time": "2022-11-08T15:51:00.390Z"
   },
   {
    "duration": 19,
    "start_time": "2022-11-08T15:51:00.439Z"
   },
   {
    "duration": 17,
    "start_time": "2022-11-08T15:51:00.459Z"
   },
   {
    "duration": 14,
    "start_time": "2022-11-08T15:51:00.477Z"
   },
   {
    "duration": 54,
    "start_time": "2022-11-08T15:51:00.492Z"
   },
   {
    "duration": 12,
    "start_time": "2022-11-08T15:51:00.548Z"
   },
   {
    "duration": 25,
    "start_time": "2022-11-08T15:51:00.561Z"
   },
   {
    "duration": 496,
    "start_time": "2022-11-08T15:52:49.338Z"
   },
   {
    "duration": 3,
    "start_time": "2022-11-08T15:52:49.835Z"
   },
   {
    "duration": 8,
    "start_time": "2022-11-08T15:52:49.839Z"
   },
   {
    "duration": 7574,
    "start_time": "2022-11-08T15:52:49.849Z"
   },
   {
    "duration": 3,
    "start_time": "2022-11-08T15:52:57.424Z"
   },
   {
    "duration": 21,
    "start_time": "2022-11-08T15:52:57.428Z"
   },
   {
    "duration": 60,
    "start_time": "2022-11-08T15:52:57.450Z"
   },
   {
    "duration": 10,
    "start_time": "2022-11-08T15:52:57.511Z"
   },
   {
    "duration": 45,
    "start_time": "2022-11-08T15:52:57.522Z"
   },
   {
    "duration": 26,
    "start_time": "2022-11-08T15:52:57.569Z"
   },
   {
    "duration": 14,
    "start_time": "2022-11-08T15:52:57.597Z"
   },
   {
    "duration": 23,
    "start_time": "2022-11-08T15:52:57.613Z"
   },
   {
    "duration": 62,
    "start_time": "2022-11-08T15:52:57.637Z"
   },
   {
    "duration": 18,
    "start_time": "2022-11-08T15:52:57.700Z"
   },
   {
    "duration": 27,
    "start_time": "2022-11-08T15:52:57.719Z"
   },
   {
    "duration": 553,
    "start_time": "2022-11-08T15:54:50.268Z"
   },
   {
    "duration": 3,
    "start_time": "2022-11-08T15:54:50.823Z"
   },
   {
    "duration": 10,
    "start_time": "2022-11-08T15:54:50.827Z"
   },
   {
    "duration": 7586,
    "start_time": "2022-11-08T15:54:50.839Z"
   },
   {
    "duration": 3,
    "start_time": "2022-11-08T15:54:58.426Z"
   },
   {
    "duration": 6,
    "start_time": "2022-11-08T15:54:58.430Z"
   },
   {
    "duration": 47,
    "start_time": "2022-11-08T15:54:58.437Z"
   },
   {
    "duration": 10,
    "start_time": "2022-11-08T15:54:58.485Z"
   },
   {
    "duration": 9,
    "start_time": "2022-11-08T15:54:58.497Z"
   },
   {
    "duration": 10,
    "start_time": "2022-11-08T15:54:58.508Z"
   },
   {
    "duration": 9,
    "start_time": "2022-11-08T15:54:58.519Z"
   },
   {
    "duration": 7,
    "start_time": "2022-11-08T15:54:58.530Z"
   },
   {
    "duration": 31,
    "start_time": "2022-11-08T15:54:58.539Z"
   },
   {
    "duration": 11,
    "start_time": "2022-11-08T15:54:58.571Z"
   },
   {
    "duration": 17,
    "start_time": "2022-11-08T15:54:58.584Z"
   },
   {
    "duration": 154,
    "start_time": "2022-11-08T16:13:40.900Z"
   },
   {
    "duration": 108,
    "start_time": "2022-11-08T16:14:48.196Z"
   },
   {
    "duration": 14,
    "start_time": "2022-11-08T16:15:36.635Z"
   },
   {
    "duration": 13,
    "start_time": "2022-11-08T16:17:06.127Z"
   },
   {
    "duration": 14,
    "start_time": "2022-11-08T16:20:48.195Z"
   },
   {
    "duration": 84,
    "start_time": "2022-11-08T16:22:38.965Z"
   },
   {
    "duration": 379,
    "start_time": "2022-11-08T16:24:15.955Z"
   },
   {
    "duration": 13,
    "start_time": "2022-11-08T16:24:38.936Z"
   },
   {
    "duration": 17,
    "start_time": "2022-11-08T16:26:02.565Z"
   },
   {
    "duration": 90,
    "start_time": "2022-11-08T16:28:07.158Z"
   },
   {
    "duration": 15,
    "start_time": "2022-11-08T16:31:03.791Z"
   },
   {
    "duration": 13,
    "start_time": "2022-11-08T16:32:08.160Z"
   },
   {
    "duration": 18,
    "start_time": "2022-11-08T16:32:34.425Z"
   },
   {
    "duration": 93,
    "start_time": "2022-11-08T16:34:45.745Z"
   },
   {
    "duration": 13,
    "start_time": "2022-11-08T16:36:03.225Z"
   },
   {
    "duration": 92,
    "start_time": "2022-11-08T16:37:03.177Z"
   },
   {
    "duration": 14,
    "start_time": "2022-11-08T16:37:22.104Z"
   },
   {
    "duration": 14,
    "start_time": "2022-11-08T16:41:10.980Z"
   },
   {
    "duration": 12,
    "start_time": "2022-11-08T16:41:50.986Z"
   },
   {
    "duration": 14,
    "start_time": "2022-11-08T16:43:46.309Z"
   },
   {
    "duration": 478,
    "start_time": "2022-11-08T16:44:32.609Z"
   },
   {
    "duration": 3,
    "start_time": "2022-11-08T16:44:33.089Z"
   },
   {
    "duration": 20,
    "start_time": "2022-11-08T16:44:33.094Z"
   },
   {
    "duration": 7533,
    "start_time": "2022-11-08T16:44:33.116Z"
   },
   {
    "duration": 2,
    "start_time": "2022-11-08T16:44:40.651Z"
   },
   {
    "duration": 9,
    "start_time": "2022-11-08T16:44:40.655Z"
   },
   {
    "duration": 52,
    "start_time": "2022-11-08T16:44:40.665Z"
   },
   {
    "duration": 9,
    "start_time": "2022-11-08T16:44:40.718Z"
   },
   {
    "duration": 11,
    "start_time": "2022-11-08T16:44:40.729Z"
   },
   {
    "duration": 9,
    "start_time": "2022-11-08T16:44:40.743Z"
   },
   {
    "duration": 11,
    "start_time": "2022-11-08T16:44:40.753Z"
   },
   {
    "duration": 7,
    "start_time": "2022-11-08T16:44:40.765Z"
   },
   {
    "duration": 47,
    "start_time": "2022-11-08T16:44:40.773Z"
   },
   {
    "duration": 13,
    "start_time": "2022-11-08T16:44:40.822Z"
   },
   {
    "duration": 17,
    "start_time": "2022-11-08T16:44:40.836Z"
   },
   {
    "duration": 13,
    "start_time": "2022-11-08T16:44:40.854Z"
   },
   {
    "duration": 12,
    "start_time": "2022-11-08T16:44:40.868Z"
   },
   {
    "duration": 45,
    "start_time": "2022-11-08T18:46:37.106Z"
   },
   {
    "duration": 461,
    "start_time": "2022-11-08T18:46:58.094Z"
   },
   {
    "duration": 2,
    "start_time": "2022-11-08T18:46:58.557Z"
   },
   {
    "duration": 9,
    "start_time": "2022-11-08T18:46:58.560Z"
   },
   {
    "duration": 5032,
    "start_time": "2022-11-08T18:46:58.571Z"
   },
   {
    "duration": 2,
    "start_time": "2022-11-08T18:47:03.604Z"
   },
   {
    "duration": 6,
    "start_time": "2022-11-08T18:47:03.608Z"
   },
   {
    "duration": 243,
    "start_time": "2022-11-08T18:47:03.616Z"
   },
   {
    "duration": 66,
    "start_time": "2022-11-08T18:47:03.861Z"
   },
   {
    "duration": 67,
    "start_time": "2022-11-08T18:47:03.929Z"
   },
   {
    "duration": 66,
    "start_time": "2022-11-08T18:47:03.998Z"
   },
   {
    "duration": 68,
    "start_time": "2022-11-08T18:47:04.065Z"
   },
   {
    "duration": 65,
    "start_time": "2022-11-08T18:47:04.134Z"
   },
   {
    "duration": 107,
    "start_time": "2022-11-08T18:47:04.201Z"
   },
   {
    "duration": 68,
    "start_time": "2022-11-08T18:47:04.310Z"
   },
   {
    "duration": 71,
    "start_time": "2022-11-08T18:47:04.381Z"
   },
   {
    "duration": 69,
    "start_time": "2022-11-08T18:47:04.454Z"
   },
   {
    "duration": 68,
    "start_time": "2022-11-08T18:47:04.525Z"
   },
   {
    "duration": 505,
    "start_time": "2022-11-08T18:47:29.433Z"
   },
   {
    "duration": 3,
    "start_time": "2022-11-08T18:47:29.940Z"
   },
   {
    "duration": 2,
    "start_time": "2022-11-08T18:47:29.949Z"
   },
   {
    "duration": 4856,
    "start_time": "2022-11-08T18:47:29.953Z"
   },
   {
    "duration": 3,
    "start_time": "2022-11-08T18:47:34.810Z"
   },
   {
    "duration": 8,
    "start_time": "2022-11-08T18:47:34.814Z"
   },
   {
    "duration": 252,
    "start_time": "2022-11-08T18:47:34.823Z"
   },
   {
    "duration": 68,
    "start_time": "2022-11-08T18:47:35.077Z"
   },
   {
    "duration": 67,
    "start_time": "2022-11-08T18:47:35.148Z"
   },
   {
    "duration": 66,
    "start_time": "2022-11-08T18:47:35.217Z"
   },
   {
    "duration": 66,
    "start_time": "2022-11-08T18:47:35.285Z"
   },
   {
    "duration": 63,
    "start_time": "2022-11-08T18:47:35.353Z"
   },
   {
    "duration": 108,
    "start_time": "2022-11-08T18:47:35.418Z"
   },
   {
    "duration": 72,
    "start_time": "2022-11-08T18:47:35.527Z"
   },
   {
    "duration": 70,
    "start_time": "2022-11-08T18:47:35.601Z"
   },
   {
    "duration": 66,
    "start_time": "2022-11-08T18:47:35.672Z"
   },
   {
    "duration": 66,
    "start_time": "2022-11-08T18:48:08.054Z"
   },
   {
    "duration": 66,
    "start_time": "2022-11-08T18:48:16.719Z"
   },
   {
    "duration": 67,
    "start_time": "2022-11-08T18:48:48.529Z"
   },
   {
    "duration": 69,
    "start_time": "2022-11-08T18:49:02.462Z"
   },
   {
    "duration": 438,
    "start_time": "2022-11-08T19:06:34.603Z"
   },
   {
    "duration": 2,
    "start_time": "2022-11-08T19:06:35.043Z"
   },
   {
    "duration": 10,
    "start_time": "2022-11-08T19:06:35.048Z"
   },
   {
    "duration": 4786,
    "start_time": "2022-11-08T19:06:35.059Z"
   },
   {
    "duration": 2,
    "start_time": "2022-11-08T19:06:39.847Z"
   },
   {
    "duration": 6,
    "start_time": "2022-11-08T19:06:39.851Z"
   },
   {
    "duration": 263,
    "start_time": "2022-11-08T19:06:39.858Z"
   },
   {
    "duration": 69,
    "start_time": "2022-11-08T19:06:40.123Z"
   },
   {
    "duration": 68,
    "start_time": "2022-11-08T19:06:40.194Z"
   },
   {
    "duration": 69,
    "start_time": "2022-11-08T19:06:40.264Z"
   },
   {
    "duration": 68,
    "start_time": "2022-11-08T19:06:40.335Z"
   },
   {
    "duration": 65,
    "start_time": "2022-11-08T19:06:40.404Z"
   },
   {
    "duration": 104,
    "start_time": "2022-11-08T19:06:40.471Z"
   },
   {
    "duration": 68,
    "start_time": "2022-11-08T19:06:40.576Z"
   },
   {
    "duration": 72,
    "start_time": "2022-11-08T19:06:40.646Z"
   },
   {
    "duration": 72,
    "start_time": "2022-11-08T19:06:40.720Z"
   },
   {
    "duration": 86,
    "start_time": "2022-11-09T05:25:42.669Z"
   },
   {
    "duration": 464,
    "start_time": "2022-11-09T05:26:50.692Z"
   },
   {
    "duration": 2,
    "start_time": "2022-11-09T05:26:51.158Z"
   },
   {
    "duration": 3,
    "start_time": "2022-11-09T05:26:51.168Z"
   },
   {
    "duration": 8285,
    "start_time": "2022-11-09T05:26:51.173Z"
   },
   {
    "duration": 2,
    "start_time": "2022-11-09T05:26:59.460Z"
   },
   {
    "duration": 6,
    "start_time": "2022-11-09T05:26:59.463Z"
   },
   {
    "duration": 246,
    "start_time": "2022-11-09T05:26:59.470Z"
   },
   {
    "duration": 70,
    "start_time": "2022-11-09T05:26:59.718Z"
   },
   {
    "duration": 67,
    "start_time": "2022-11-09T05:26:59.790Z"
   },
   {
    "duration": 70,
    "start_time": "2022-11-09T05:26:59.859Z"
   },
   {
    "duration": 71,
    "start_time": "2022-11-09T05:26:59.930Z"
   },
   {
    "duration": 69,
    "start_time": "2022-11-09T05:27:00.003Z"
   },
   {
    "duration": 124,
    "start_time": "2022-11-09T05:27:02.070Z"
   },
   {
    "duration": 106,
    "start_time": "2022-11-09T05:27:43.810Z"
   },
   {
    "duration": 68,
    "start_time": "2022-11-09T11:48:09.870Z"
   },
   {
    "duration": 508,
    "start_time": "2022-11-09T11:48:17.193Z"
   },
   {
    "duration": 4,
    "start_time": "2022-11-09T11:48:17.705Z"
   },
   {
    "duration": 22,
    "start_time": "2022-11-09T11:48:17.711Z"
   },
   {
    "duration": 6110,
    "start_time": "2022-11-09T11:48:17.736Z"
   },
   {
    "duration": 3,
    "start_time": "2022-11-09T11:48:23.848Z"
   },
   {
    "duration": 12,
    "start_time": "2022-11-09T11:48:23.853Z"
   },
   {
    "duration": 251,
    "start_time": "2022-11-09T11:48:23.866Z"
   },
   {
    "duration": 72,
    "start_time": "2022-11-09T11:48:24.118Z"
   },
   {
    "duration": 76,
    "start_time": "2022-11-09T11:48:24.192Z"
   },
   {
    "duration": 71,
    "start_time": "2022-11-09T11:48:24.271Z"
   },
   {
    "duration": 72,
    "start_time": "2022-11-09T11:48:24.344Z"
   },
   {
    "duration": 77,
    "start_time": "2022-11-09T11:48:24.418Z"
   },
   {
    "duration": 118,
    "start_time": "2022-11-09T11:48:24.497Z"
   },
   {
    "duration": 76,
    "start_time": "2022-11-09T11:48:24.617Z"
   },
   {
    "duration": 74,
    "start_time": "2022-11-09T11:48:24.695Z"
   },
   {
    "duration": 3705,
    "start_time": "2022-11-09T11:48:24.771Z"
   },
   {
    "duration": 69,
    "start_time": "2022-11-09T11:51:10.853Z"
   },
   {
    "duration": 105,
    "start_time": "2022-11-09T11:56:22.602Z"
   },
   {
    "duration": 529,
    "start_time": "2022-11-09T11:57:37.184Z"
   },
   {
    "duration": 3,
    "start_time": "2022-11-09T11:57:37.715Z"
   },
   {
    "duration": 7,
    "start_time": "2022-11-09T11:57:37.720Z"
   },
   {
    "duration": 5131,
    "start_time": "2022-11-09T11:57:37.729Z"
   },
   {
    "duration": 3,
    "start_time": "2022-11-09T11:57:42.862Z"
   },
   {
    "duration": 30,
    "start_time": "2022-11-09T11:57:42.866Z"
   },
   {
    "duration": 252,
    "start_time": "2022-11-09T11:57:42.897Z"
   },
   {
    "duration": 67,
    "start_time": "2022-11-09T11:57:43.151Z"
   },
   {
    "duration": 66,
    "start_time": "2022-11-09T11:57:43.220Z"
   },
   {
    "duration": 66,
    "start_time": "2022-11-09T11:57:43.288Z"
   },
   {
    "duration": 67,
    "start_time": "2022-11-09T11:57:43.356Z"
   },
   {
    "duration": 65,
    "start_time": "2022-11-09T11:57:43.425Z"
   },
   {
    "duration": 83,
    "start_time": "2022-11-09T11:57:43.492Z"
   },
   {
    "duration": 0,
    "start_time": "2022-11-09T11:57:43.578Z"
   },
   {
    "duration": 0,
    "start_time": "2022-11-09T11:57:43.579Z"
   },
   {
    "duration": 0,
    "start_time": "2022-11-09T11:57:43.580Z"
   },
   {
    "duration": 0,
    "start_time": "2022-11-09T11:57:43.582Z"
   },
   {
    "duration": 584,
    "start_time": "2022-11-09T11:58:16.007Z"
   },
   {
    "duration": 3,
    "start_time": "2022-11-09T11:58:16.593Z"
   },
   {
    "duration": 27,
    "start_time": "2022-11-09T11:58:16.598Z"
   },
   {
    "duration": 5294,
    "start_time": "2022-11-09T11:58:16.627Z"
   },
   {
    "duration": 3,
    "start_time": "2022-11-09T11:58:21.922Z"
   },
   {
    "duration": 7,
    "start_time": "2022-11-09T11:58:21.927Z"
   },
   {
    "duration": 251,
    "start_time": "2022-11-09T11:58:21.936Z"
   },
   {
    "duration": 68,
    "start_time": "2022-11-09T11:58:22.189Z"
   },
   {
    "duration": 68,
    "start_time": "2022-11-09T11:58:22.260Z"
   },
   {
    "duration": 69,
    "start_time": "2022-11-09T11:58:22.330Z"
   },
   {
    "duration": 69,
    "start_time": "2022-11-09T11:58:22.401Z"
   },
   {
    "duration": 66,
    "start_time": "2022-11-09T11:58:22.473Z"
   },
   {
    "duration": 173,
    "start_time": "2022-11-09T11:58:22.540Z"
   },
   {
    "duration": 0,
    "start_time": "2022-11-09T11:58:22.715Z"
   },
   {
    "duration": 0,
    "start_time": "2022-11-09T11:58:22.716Z"
   },
   {
    "duration": 0,
    "start_time": "2022-11-09T11:58:22.718Z"
   },
   {
    "duration": 0,
    "start_time": "2022-11-09T11:58:22.719Z"
   },
   {
    "duration": 563,
    "start_time": "2022-11-09T11:59:00.949Z"
   },
   {
    "duration": 3,
    "start_time": "2022-11-09T11:59:01.515Z"
   },
   {
    "duration": 23,
    "start_time": "2022-11-09T11:59:01.519Z"
   },
   {
    "duration": 6242,
    "start_time": "2022-11-09T11:59:01.544Z"
   },
   {
    "duration": 3,
    "start_time": "2022-11-09T11:59:07.788Z"
   },
   {
    "duration": 36,
    "start_time": "2022-11-09T11:59:07.793Z"
   },
   {
    "duration": 259,
    "start_time": "2022-11-09T11:59:07.831Z"
   },
   {
    "duration": 69,
    "start_time": "2022-11-09T11:59:08.092Z"
   },
   {
    "duration": 66,
    "start_time": "2022-11-09T11:59:08.163Z"
   },
   {
    "duration": 72,
    "start_time": "2022-11-09T11:59:08.232Z"
   },
   {
    "duration": 76,
    "start_time": "2022-11-09T11:59:08.308Z"
   },
   {
    "duration": 68,
    "start_time": "2022-11-09T11:59:08.386Z"
   },
   {
    "duration": 95,
    "start_time": "2022-11-09T11:59:08.456Z"
   },
   {
    "duration": 87,
    "start_time": "2022-11-09T11:59:08.553Z"
   },
   {
    "duration": 68,
    "start_time": "2022-11-09T11:59:08.642Z"
   },
   {
    "duration": 71,
    "start_time": "2022-11-09T11:59:08.713Z"
   },
   {
    "duration": 72,
    "start_time": "2022-11-09T11:59:08.786Z"
   },
   {
    "duration": 314,
    "start_time": "2022-11-09T12:02:00.855Z"
   },
   {
    "duration": 115,
    "start_time": "2022-11-09T12:03:49.078Z"
   },
   {
    "duration": 105,
    "start_time": "2022-11-09T12:04:42.769Z"
   },
   {
    "duration": 109,
    "start_time": "2022-11-09T12:05:21.549Z"
   },
   {
    "duration": 275,
    "start_time": "2022-11-09T12:07:15.710Z"
   },
   {
    "duration": 336,
    "start_time": "2022-11-09T12:08:44.203Z"
   },
   {
    "duration": 307,
    "start_time": "2022-11-09T12:10:22.992Z"
   },
   {
    "duration": 108,
    "start_time": "2022-11-09T12:12:20.180Z"
   },
   {
    "duration": 70,
    "start_time": "2022-11-09T12:18:44.095Z"
   },
   {
    "duration": 73,
    "start_time": "2022-11-09T12:20:41.537Z"
   },
   {
    "duration": 521,
    "start_time": "2022-11-09T12:28:54.909Z"
   },
   {
    "duration": 3,
    "start_time": "2022-11-09T12:28:55.432Z"
   },
   {
    "duration": 8,
    "start_time": "2022-11-09T12:28:55.439Z"
   },
   {
    "duration": 6779,
    "start_time": "2022-11-09T12:28:55.449Z"
   },
   {
    "duration": 3,
    "start_time": "2022-11-09T12:29:02.230Z"
   },
   {
    "duration": 9,
    "start_time": "2022-11-09T12:29:02.235Z"
   },
   {
    "duration": 343,
    "start_time": "2022-11-09T12:29:02.246Z"
   },
   {
    "duration": 97,
    "start_time": "2022-11-09T12:29:02.591Z"
   },
   {
    "duration": 73,
    "start_time": "2022-11-09T12:29:02.691Z"
   },
   {
    "duration": 83,
    "start_time": "2022-11-09T12:29:02.767Z"
   },
   {
    "duration": 98,
    "start_time": "2022-11-09T12:29:02.852Z"
   },
   {
    "duration": 76,
    "start_time": "2022-11-09T12:29:02.952Z"
   },
   {
    "duration": 121,
    "start_time": "2022-11-09T12:29:03.029Z"
   },
   {
    "duration": 125,
    "start_time": "2022-11-09T12:29:03.153Z"
   },
   {
    "duration": 82,
    "start_time": "2022-11-09T12:29:03.279Z"
   },
   {
    "duration": 86,
    "start_time": "2022-11-09T12:29:03.362Z"
   },
   {
    "duration": 96,
    "start_time": "2022-11-09T12:29:03.449Z"
   }
  ],
  "kernelspec": {
   "display_name": "Python 3 (ipykernel)",
   "language": "python",
   "name": "python3"
  },
  "language_info": {
   "codemirror_mode": {
    "name": "ipython",
    "version": 3
   },
   "file_extension": ".py",
   "mimetype": "text/x-python",
   "name": "python",
   "nbconvert_exporter": "python",
   "pygments_lexer": "ipython3",
   "version": "3.9.13"
  },
  "toc": {
   "base_numbering": 1,
   "nav_menu": {},
   "number_sections": true,
   "sideBar": true,
   "skip_h1_title": true,
   "title_cell": "Содержание",
   "title_sidebar": "Содержание",
   "toc_cell": false,
   "toc_position": {},
   "toc_section_display": true,
   "toc_window_display": true
  }
 },
 "nbformat": 4,
 "nbformat_minor": 2
}
