{
 "cells": [
  {
   "cell_type": "markdown",
   "id": "8d8630bc",
   "metadata": {},
   "source": [
    "# Исследование надежности заемщиков."
   ]
  },
  {
   "cell_type": "markdown",
   "id": "33bc68ad",
   "metadata": {},
   "source": [
    "### Шаг 1. Обзор данных"
   ]
  },
  {
   "cell_type": "code",
   "execution_count": 418,
   "id": "c0423681",
   "metadata": {},
   "outputs": [],
   "source": [
    "import pandas as pd"
   ]
  },
  {
   "cell_type": "code",
   "execution_count": 419,
   "id": "3197ad9f",
   "metadata": {},
   "outputs": [
    {
     "name": "stdout",
     "output_type": "stream",
     "text": [
      "<class 'pandas.core.frame.DataFrame'>\n",
      "RangeIndex: 21525 entries, 0 to 21524\n",
      "Data columns (total 12 columns):\n",
      " #   Column            Non-Null Count  Dtype  \n",
      "---  ------            --------------  -----  \n",
      " 0   children          21525 non-null  int64  \n",
      " 1   days_employed     19351 non-null  float64\n",
      " 2   dob_years         21525 non-null  int64  \n",
      " 3   education         21525 non-null  object \n",
      " 4   education_id      21525 non-null  int64  \n",
      " 5   family_status     21525 non-null  object \n",
      " 6   family_status_id  21525 non-null  int64  \n",
      " 7   gender            21525 non-null  object \n",
      " 8   income_type       21525 non-null  object \n",
      " 9   debt              21525 non-null  int64  \n",
      " 10  total_income      19351 non-null  float64\n",
      " 11  purpose           21525 non-null  object \n",
      "dtypes: float64(2), int64(5), object(5)\n",
      "memory usage: 2.0+ MB\n",
      "    children  days_employed  dob_years            education  education_id  \\\n",
      "0          1   -8437.673028         42               высшее             0   \n",
      "1          1   -4024.803754         36              среднее             1   \n",
      "2          0   -5623.422610         33              Среднее             1   \n",
      "3          3   -4124.747207         32              среднее             1   \n",
      "4          0  340266.072047         53              среднее             1   \n",
      "5          0    -926.185831         27               высшее             0   \n",
      "6          0   -2879.202052         43               высшее             0   \n",
      "7          0    -152.779569         50              СРЕДНЕЕ             1   \n",
      "8          2   -6929.865299         35               ВЫСШЕЕ             0   \n",
      "9          0   -2188.756445         41              среднее             1   \n",
      "10         2   -4171.483647         36               высшее             0   \n",
      "11         0    -792.701887         40              среднее             1   \n",
      "12         0            NaN         65              среднее             1   \n",
      "13         0   -1846.641941         54  неоконченное высшее             2   \n",
      "14         0   -1844.956182         56               высшее             0   \n",
      "15         1    -972.364419         26              среднее             1   \n",
      "16         0   -1719.934226         35              среднее             1   \n",
      "17         0   -2369.999720         33               высшее             0   \n",
      "18         0  400281.136913         53              среднее             1   \n",
      "19         0  -10038.818549         48              СРЕДНЕЕ             1   \n",
      "\n",
      "       family_status  family_status_id gender income_type  debt  \\\n",
      "0    женат / замужем                 0      F   сотрудник     0   \n",
      "1    женат / замужем                 0      F   сотрудник     0   \n",
      "2    женат / замужем                 0      M   сотрудник     0   \n",
      "3    женат / замужем                 0      M   сотрудник     0   \n",
      "4   гражданский брак                 1      F   пенсионер     0   \n",
      "5   гражданский брак                 1      M   компаньон     0   \n",
      "6    женат / замужем                 0      F   компаньон     0   \n",
      "7    женат / замужем                 0      M   сотрудник     0   \n",
      "8   гражданский брак                 1      F   сотрудник     0   \n",
      "9    женат / замужем                 0      M   сотрудник     0   \n",
      "10   женат / замужем                 0      M   компаньон     0   \n",
      "11   женат / замужем                 0      F   сотрудник     0   \n",
      "12  гражданский брак                 1      M   пенсионер     0   \n",
      "13   женат / замужем                 0      F   сотрудник     0   \n",
      "14  гражданский брак                 1      F   компаньон     1   \n",
      "15   женат / замужем                 0      F   сотрудник     0   \n",
      "16   женат / замужем                 0      F   сотрудник     0   \n",
      "17  гражданский брак                 1      M   сотрудник     0   \n",
      "18    вдовец / вдова                 2      F   пенсионер     0   \n",
      "19         в разводе                 3      F   сотрудник     0   \n",
      "\n",
      "     total_income                                 purpose  \n",
      "0   253875.639453                           покупка жилья  \n",
      "1   112080.014102                 приобретение автомобиля  \n",
      "2   145885.952297                           покупка жилья  \n",
      "3   267628.550329              дополнительное образование  \n",
      "4   158616.077870                         сыграть свадьбу  \n",
      "5   255763.565419                           покупка жилья  \n",
      "6   240525.971920                       операции с жильем  \n",
      "7   135823.934197                             образование  \n",
      "8    95856.832424                   на проведение свадьбы  \n",
      "9   144425.938277                 покупка жилья для семьи  \n",
      "10  113943.491460                    покупка недвижимости  \n",
      "11   77069.234271       покупка коммерческой недвижимости  \n",
      "12            NaN                         сыграть свадьбу  \n",
      "13  130458.228857                 приобретение автомобиля  \n",
      "14  165127.911772              покупка жилой недвижимости  \n",
      "15  116820.904450  строительство собственной недвижимости  \n",
      "16  289202.704229                            недвижимость  \n",
      "17   90410.586745              строительство недвижимости  \n",
      "18   56823.777243      на покупку подержанного автомобиля  \n",
      "19  242831.107982            на покупку своего автомобиля  \n"
     ]
    }
   ],
   "source": [
    "\n",
    "data = pd.read_csv('/datasets/data.csv')\n",
    "data.info()\n",
    "print (data.head(20))\n"
   ]
  },
  {
   "cell_type": "markdown",
   "id": "35d53e03",
   "metadata": {},
   "source": [
    "В начале открываем файл с данными, используя read_csv. Затем с помощью метода info() проводим общий обзор данных. Общее количество строк 21525, столбцов 12. Названия столбцов корректны. Нет необходимости переименовывать. Видны пропуски данных в столбцах days_employed и total_income. Оба столбца должны быть заполнены вещественными числами. Данные в столбце total_income могут отсутствовать в связи с тем, что не все заемщики их предоставили. Проанализируем на какие данные строки могут приходиться пропуски данных в столбце total_income. Для этого воспользуемся методом isna() и выведем на экран первый 20 строк с пропусками в столбце total_income.   "
   ]
  },
  {
   "cell_type": "code",
   "execution_count": 420,
   "id": "15b35892",
   "metadata": {
    "scrolled": false
   },
   "outputs": [
    {
     "name": "stdout",
     "output_type": "stream",
     "text": [
      "    children  days_employed  dob_years education  education_id  \\\n",
      "12         0            NaN         65   среднее             1   \n",
      "26         0            NaN         41   среднее             1   \n",
      "29         0            NaN         63   среднее             1   \n",
      "41         0            NaN         50   среднее             1   \n",
      "55         0            NaN         54   среднее             1   \n",
      "65         0            NaN         21   среднее             1   \n",
      "67         0            NaN         52    высшее             0   \n",
      "72         1            NaN         32    высшее             0   \n",
      "82         2            NaN         50    высшее             0   \n",
      "83         0            NaN         52   среднее             1   \n",
      "\n",
      "            family_status  family_status_id gender  income_type  debt  \\\n",
      "12       гражданский брак                 1      M    пенсионер     0   \n",
      "26        женат / замужем                 0      M  госслужащий     0   \n",
      "29  Не женат / не замужем                 4      F    пенсионер     0   \n",
      "41        женат / замужем                 0      F  госслужащий     0   \n",
      "55       гражданский брак                 1      F    пенсионер     1   \n",
      "65  Не женат / не замужем                 4      M    компаньон     0   \n",
      "67        женат / замужем                 0      F    пенсионер     0   \n",
      "72        женат / замужем                 0      M  госслужащий     0   \n",
      "82        женат / замужем                 0      F    сотрудник     0   \n",
      "83        женат / замужем                 0      M    сотрудник     0   \n",
      "\n",
      "    total_income                                purpose  \n",
      "12           NaN                        сыграть свадьбу  \n",
      "26           NaN                            образование  \n",
      "29           NaN       строительство жилой недвижимости  \n",
      "41           NaN       сделка с подержанным автомобилем  \n",
      "55           NaN                        сыграть свадьбу  \n",
      "65           NaN  операции с коммерческой недвижимостью  \n",
      "67           NaN                покупка жилья для семьи  \n",
      "72           NaN  операции с коммерческой недвижимостью  \n",
      "82           NaN                                  жилье  \n",
      "83           NaN                                  жилье  \n"
     ]
    }
   ],
   "source": [
    "print(data[data['total_income'].isna()].head(10))"
   ]
  },
  {
   "cell_type": "markdown",
   "id": "af6a9787",
   "metadata": {},
   "source": [
    "Обращает внимание, что: \n",
    "1. В случае пропуска в столбце total_income всегда пропущены данные и в столбце days_employed (после использования метода info () мы также знаем, что общее количество пропусков в обоих столбцах совпадает. \n",
    "2. В большинстве строк со значением NaN в столбце family_status значение 'женат / замужем' (18 из 30), а в графе gender значение  значение F (21 из 30). Используя условие и метод count() оценим какое количество строк с этими значениями и сравним с общим количеством строк в таблице."
   ]
  },
  {
   "cell_type": "code",
   "execution_count": 421,
   "id": "6f22b108",
   "metadata": {
    "scrolled": false
   },
   "outputs": [
    {
     "name": "stdout",
     "output_type": "stream",
     "text": [
      "12380\n",
      "14236\n"
     ]
    }
   ],
   "source": [
    "print (data[data['family_status'] == 'женат / замужем']['family_status'].count())\n",
    "print (data[data['gender'] == 'F']['gender'].count())"
   ]
  },
  {
   "cell_type": "markdown",
   "id": "cd0c3a06",
   "metadata": {},
   "source": [
    "Из полученных значений видим, что пропорции в нашей выборке и пропорции в целом по датафрейму по значениям 'женат / замужем' и 'F' совпадают. Значит в дальнейшей работе этим фактом можно пренебречь."
   ]
  },
  {
   "cell_type": "markdown",
   "id": "027bdbc8",
   "metadata": {},
   "source": [
    "### Шаг 2.1 Заполнение пропусков"
   ]
  },
  {
   "cell_type": "markdown",
   "id": "89f2e518",
   "metadata": {},
   "source": [
    "Разберем ситуацию с пропусками в столбце 'total_income'. Не заполнено около 10% процентов значений. С ними можно поступить следующим образом:\n",
    "1. Пренебречь, удалив из выборки.\n",
    "2. Заменить на среднее арифметическое значение.\n",
    "3. Заменить на медианное значение"
   ]
  },
  {
   "cell_type": "markdown",
   "id": "ca2be510",
   "metadata": {},
   "source": [
    "Проанализируем уникальные значения в столбце 'income_type', используя метод unique()"
   ]
  },
  {
   "cell_type": "code",
   "execution_count": 422,
   "id": "a54f8b9b",
   "metadata": {
    "scrolled": true
   },
   "outputs": [
    {
     "name": "stdout",
     "output_type": "stream",
     "text": [
      "['сотрудник' 'пенсионер' 'компаньон' 'госслужащий' 'безработный'\n",
      " 'предприниматель' 'студент' 'в декрете']\n"
     ]
    }
   ],
   "source": [
    "print (data['income_type'].unique())"
   ]
  },
  {
   "cell_type": "code",
   "execution_count": 423,
   "id": "d30f8dfa",
   "metadata": {
    "scrolled": true
   },
   "outputs": [
    {
     "name": "stdout",
     "output_type": "stream",
     "text": [
      "2\n"
     ]
    }
   ],
   "source": [
    "print (data[data['income_type'] == 'безработный']['income_type'].count())"
   ]
  },
  {
   "cell_type": "markdown",
   "id": "e7cb6154",
   "metadata": {},
   "source": [
    "Видим, что безработных в базе только два человека. Значит отсутствие данных о количестве дней трудового стажа. Значит причина отсутствия данных в том, что они просто не были предоставлены клиентами в процессе заполнения анкет. Для заполнения  ячеек предпочтительно использовать медианное значение, так как наибольшее количество значений лежит в дипазоне от 100 000 до 250 000 (видно из выведенного фрагмента). Поэтому использование среднего арифметического значительно сместит в нижнюю стороны значения в незаполненных ячейках."
   ]
  },
  {
   "cell_type": "code",
   "execution_count": 424,
   "id": "ef8cd435",
   "metadata": {},
   "outputs": [],
   "source": [
    "income_avg = data['total_income'].median()\n",
    "data['total_income'] = data['total_income'].fillna(value=income_avg)\n"
   ]
  },
  {
   "cell_type": "markdown",
   "id": "52fb94c5",
   "metadata": {},
   "source": [
    "### Шаг 2.2 Проверка данных на аномалии и исправления."
   ]
  },
  {
   "cell_type": "markdown",
   "id": "64660134",
   "metadata": {},
   "source": [
    "Проанализируем значения и пропуски в столбце 'days_employed'. Речь идет об общем трудовом стаже в днях. Количество рабочих дней в году примем за 250 (например, в 2022, в соответствии с производственным календарем, их 247). Примем, что в обычном случае клиент может работать максиму с 18 лет до 65. То есть 47 лет. А это значит максимально 11 609. Все заметно большие значения являются аномальными. Оценим их количество в нашей базе, используя метод count() и условие."
   ]
  },
  {
   "cell_type": "code",
   "execution_count": 425,
   "id": "a16c4e4a",
   "metadata": {
    "scrolled": false
   },
   "outputs": [
    {
     "name": "stdout",
     "output_type": "stream",
     "text": [
      "3445\n"
     ]
    }
   ],
   "source": [
    "print (data[data['days_employed'] > 11609]['days_employed'].count())"
   ]
  },
  {
   "cell_type": "markdown",
   "id": "e7da74c1",
   "metadata": {},
   "source": [
    "Видим, что таких аномальных значений у нас в базе 3445. Предположительно это может быть связано с некорректным занесением в базу. Второй тип аномалий - это отрицательное количество дней трудового стажа. Незаполненых ячеек у нас 2174, а анамально больших 3455. Выдвигаем гипотезу, что остальные поля заполнены отрицательными значениями. Т.е. их должно быть 15 906. Вновь используем условие и метод count().\n"
   ]
  },
  {
   "cell_type": "code",
   "execution_count": 426,
   "id": "691b315c",
   "metadata": {
    "scrolled": false
   },
   "outputs": [
    {
     "name": "stdout",
     "output_type": "stream",
     "text": [
      "15906\n"
     ]
    }
   ],
   "source": [
    "print (data[data['days_employed'] < 0]['days_employed'].count())"
   ]
  },
  {
   "cell_type": "markdown",
   "id": "f74e5874",
   "metadata": {},
   "source": [
    "Наша гипотеза подтверждена. Причина скорее всего в неверном заполнении полей форм. Для исправления значений выполним следующую последовательность действий:\n",
    "1. Заменим все значения на значения по модулю, используя стандартную функцию abs()\n",
    "2. Заменим аномально большие значения на максимально возможное количество дней стажа, которое мы рассчитали.\n",
    "3. Заменим все пропущенные значения на медианные по столбцу."
   ]
  },
  {
   "cell_type": "code",
   "execution_count": 427,
   "id": "309b2c37",
   "metadata": {},
   "outputs": [],
   "source": [
    "data['days_employed']=abs(data['days_employed'])\n",
    "data.loc[data['days_employed'] > 11609,'days_employed'] = 11609\n",
    "\n",
    "days_employed_avg = data['days_employed'].median()\n",
    "data['days_employed'] = data['days_employed'].fillna(value=days_employed_avg)\n",
    "\n"
   ]
  },
  {
   "cell_type": "markdown",
   "id": "3df348d1",
   "metadata": {},
   "source": [
    "Проанализируем уникальные значения в столбце 'dob_years', используя методы unique(), а затем count(). Видим, что в столбце встречается значение 0. Такого возраста быть не может. Скорее всего имеем дело с ошибкой заполнения. Видим, что таких строк 101. Поэтому применим замену на медианное значение."
   ]
  },
  {
   "cell_type": "code",
   "execution_count": 428,
   "id": "b07e9fd8",
   "metadata": {},
   "outputs": [
    {
     "name": "stdout",
     "output_type": "stream",
     "text": [
      "[42 36 33 32 53 27 43 50 35 41 40 65 54 56 26 48 24 21 57 67 28 63 62 47\n",
      " 34 68 25 31 30 20 49 37 45 61 64 44 52 46 23 38 39 51  0 59 29 60 55 58\n",
      " 71 22 73 66 69 19 72 70 74 75]\n",
      "dob_years\n",
      "0     101\n",
      "19     14\n",
      "20     51\n",
      "21    111\n",
      "22    183\n",
      "23    254\n",
      "24    264\n",
      "25    357\n",
      "26    408\n",
      "27    493\n",
      "28    503\n",
      "29    545\n",
      "30    540\n",
      "31    560\n",
      "32    510\n",
      "33    581\n",
      "34    603\n",
      "35    617\n",
      "36    555\n",
      "37    537\n",
      "38    598\n",
      "39    573\n",
      "40    609\n",
      "41    607\n",
      "42    597\n",
      "43    513\n",
      "44    547\n",
      "45    497\n",
      "46    475\n",
      "47    480\n",
      "48    538\n",
      "49    508\n",
      "50    514\n",
      "51    448\n",
      "52    484\n",
      "53    459\n",
      "54    479\n",
      "55    443\n",
      "56    487\n",
      "57    460\n",
      "58    461\n",
      "59    444\n",
      "60    377\n",
      "61    355\n",
      "62    352\n",
      "63    269\n",
      "64    265\n",
      "65    194\n",
      "66    183\n",
      "67    167\n",
      "68     99\n",
      "69     85\n",
      "70     65\n",
      "71     58\n",
      "72     33\n",
      "73      8\n",
      "74      6\n",
      "75      1\n",
      "Name: debt, dtype: int64\n"
     ]
    }
   ],
   "source": [
    "print(data['dob_years'].unique())\n",
    "print(data.groupby('dob_years')['debt'].count())"
   ]
  },
  {
   "cell_type": "code",
   "execution_count": 429,
   "id": "6d4624f2",
   "metadata": {},
   "outputs": [],
   "source": [
    "income_avg = data['dob_years'].median()\n",
    "data['dob_years'] = data['dob_years'].replace(0, income_avg).astype(int)"
   ]
  },
  {
   "cell_type": "markdown",
   "id": "a7b23e95",
   "metadata": {},
   "source": [
    "Исследуя столбец 'gender' с помощью методов unique(), а затем count(), находим в одной из строк значение 'XNA'. Так как такая строка только одна, а в РФ по-прежнему официально признаны только два гендера, то строку с неизвестным гендером просто удалим. Для этого сначала заменим значение 'XNA' на пропуск, а затем удалим эту строку используя метод dropna() "
   ]
  },
  {
   "cell_type": "code",
   "execution_count": 430,
   "id": "5d3e2105",
   "metadata": {},
   "outputs": [
    {
     "name": "stdout",
     "output_type": "stream",
     "text": [
      "['F' 'M' 'XNA']\n",
      "gender\n",
      "F      14236\n",
      "M       7288\n",
      "XNA        1\n",
      "Name: debt, dtype: int64\n"
     ]
    }
   ],
   "source": [
    "print(data['gender'].unique())\n",
    "print(data.groupby('gender')['debt'].count())"
   ]
  },
  {
   "cell_type": "code",
   "execution_count": 431,
   "id": "7f909654",
   "metadata": {},
   "outputs": [
    {
     "name": "stdout",
     "output_type": "stream",
     "text": [
      "['F' 'M']\n",
      "gender\n",
      "F    14236\n",
      "M     7288\n",
      "Name: debt, dtype: int64\n"
     ]
    }
   ],
   "source": [
    "data.loc[data['gender'] == 'XNA','gender'] = None\n",
    "data = data.dropna().reset_index(drop=True) \n",
    "print(data['gender'].unique())\n",
    "print(data.groupby('gender')['debt'].count())"
   ]
  },
  {
   "cell_type": "markdown",
   "id": "019bc212",
   "metadata": {},
   "source": [
    "### Шаг 2.3. Изменение типов данных."
   ]
  },
  {
   "cell_type": "code",
   "execution_count": 432,
   "id": "c52b02fa",
   "metadata": {
    "scrolled": true
   },
   "outputs": [],
   "source": [
    "data['total_income'] = data['total_income'].astype('int')\n"
   ]
  },
  {
   "cell_type": "markdown",
   "id": "d9f5be6f",
   "metadata": {},
   "source": [
    "Выше мы заменили тип данных в столбце 'total_income' на int, используя метод astype()"
   ]
  },
  {
   "cell_type": "markdown",
   "id": "7b004db4",
   "metadata": {},
   "source": [
    "### Шаг 2.4. Удаление дубликатов."
   ]
  },
  {
   "cell_type": "code",
   "execution_count": 433,
   "id": "e1444cb6",
   "metadata": {},
   "outputs": [],
   "source": [
    "data ['education'] = data ['education'].str.lower()\n",
    "\n",
    "data  =data.drop_duplicates()"
   ]
  },
  {
   "cell_type": "markdown",
   "id": "8b3811a1",
   "metadata": {},
   "source": [
    "Выше мы убрали дубликаты из таблицы, используя метод data.duplicated() для их подсчета и метод drop_duplicates(). Затем мы удалили неявные дубликаты по столбцу 'education'. Использовали метод str.lower(), чтобы все содержимое было в одном регистре, а затем повторили связку duplicated().count()) и drop_duplicates()"
   ]
  },
  {
   "cell_type": "markdown",
   "id": "de966318",
   "metadata": {},
   "source": [
    "Проведем аналогичный поиск по столбцам 'education', 'family_status', 'income_type'."
   ]
  },
  {
   "cell_type": "code",
   "execution_count": 434,
   "id": "a280ef63",
   "metadata": {
    "scrolled": false
   },
   "outputs": [
    {
     "name": "stdout",
     "output_type": "stream",
     "text": [
      "['высшее' 'среднее' 'неоконченное высшее' 'начальное' 'ученая степень']\n"
     ]
    }
   ],
   "source": [
    "print(data['education'].unique())"
   ]
  },
  {
   "cell_type": "code",
   "execution_count": 435,
   "id": "0530534e",
   "metadata": {
    "scrolled": true
   },
   "outputs": [
    {
     "name": "stdout",
     "output_type": "stream",
     "text": [
      "['женат / замужем' 'гражданский брак' 'вдовец / вдова' 'в разводе'\n",
      " 'Не женат / не замужем']\n"
     ]
    }
   ],
   "source": [
    "print(data['family_status'].unique())"
   ]
  },
  {
   "cell_type": "code",
   "execution_count": 436,
   "id": "bffd6e4e",
   "metadata": {
    "scrolled": true
   },
   "outputs": [
    {
     "name": "stdout",
     "output_type": "stream",
     "text": [
      "['сотрудник' 'пенсионер' 'компаньон' 'госслужащий' 'безработный'\n",
      " 'предприниматель' 'студент' 'в декрете']\n"
     ]
    }
   ],
   "source": [
    "print(data['income_type'].unique())"
   ]
  },
  {
   "cell_type": "markdown",
   "id": "f8af6672",
   "metadata": {},
   "source": [
    "Выше с использованием метода unique() мы определили, что в столбцах 'education', 'family_status', 'income_type'нет аномальных и дублирующихся значений "
   ]
  },
  {
   "cell_type": "code",
   "execution_count": 437,
   "id": "2d92d9fa",
   "metadata": {},
   "outputs": [
    {
     "name": "stdout",
     "output_type": "stream",
     "text": [
      "[ 1  0  3  2 -1  4 20  5]\n"
     ]
    }
   ],
   "source": [
    "print(data['children'].unique())"
   ]
  },
  {
   "cell_type": "markdown",
   "id": "bd1d631e",
   "metadata": {},
   "source": [
    "Видим, что в количестве детей есть аномальные значения: отрицательные или слишком большие. И то, и другое, скорее всего ошибка ввода. Поэтому заменим отрицательные значения на модуль с помощью метода abs(). А большие на медианные, используя median()."
   ]
  },
  {
   "cell_type": "code",
   "execution_count": 438,
   "id": "2f24aedf",
   "metadata": {},
   "outputs": [],
   "source": [
    "data['children']=abs(data['children'])"
   ]
  },
  {
   "cell_type": "markdown",
   "id": "09034a8e",
   "metadata": {},
   "source": [
    "Используя groupby, определяем, что на аномально большие значения приходится менее одного процента данных (ниже)."
   ]
  },
  {
   "cell_type": "code",
   "execution_count": 439,
   "id": "679cd960",
   "metadata": {
    "scrolled": true
   },
   "outputs": [
    {
     "name": "stdout",
     "output_type": "stream",
     "text": [
      "          days_employed  dob_years  education  education_id  family_status  \\\n",
      "children                                                                     \n",
      "0                 14089      14089      14089         14089          14089   \n",
      "1                  4855       4855       4855          4855           4855   \n",
      "2                  2052       2052       2052          2052           2052   \n",
      "3                   330        330        330           330            330   \n",
      "4                    41         41         41            41             41   \n",
      "5                     9          9          9             9              9   \n",
      "20                   76         76         76            76             76   \n",
      "\n",
      "          family_status_id  gender  income_type   debt  total_income  purpose  \n",
      "children                                                                       \n",
      "0                    14089   14089        14089  14089         14089    14089  \n",
      "1                     4855    4855         4855   4855          4855     4855  \n",
      "2                     2052    2052         2052   2052          2052     2052  \n",
      "3                      330     330          330    330           330      330  \n",
      "4                       41      41           41     41            41       41  \n",
      "5                        9       9            9      9             9        9  \n",
      "20                      76      76           76     76            76       76  \n"
     ]
    }
   ],
   "source": [
    "print(data.groupby('children').count())"
   ]
  },
  {
   "cell_type": "markdown",
   "id": "90c2ae39",
   "metadata": {},
   "source": [
    "Мы можем либо вообще удалить эти строки, либо заменить в них значение в столбце 'children' на среднее арифметическое. Но удаление может исказить результаты исследования, если это заемщики из одной группы. Поэтому заменяем на среднее арифметическое и проверяем полученный результат с помощью groupby"
   ]
  },
  {
   "cell_type": "code",
   "execution_count": 440,
   "id": "a3a184b1",
   "metadata": {},
   "outputs": [
    {
     "name": "stdout",
     "output_type": "stream",
     "text": [
      "0\n",
      "          days_employed  dob_years  education  education_id  family_status  \\\n",
      "children                                                                     \n",
      "0                 14165      14165      14165         14165          14165   \n",
      "1                  4855       4855       4855          4855           4855   \n",
      "2                  2052       2052       2052          2052           2052   \n",
      "3                   330        330        330           330            330   \n",
      "4                    41         41         41            41             41   \n",
      "5                     9          9          9             9              9   \n",
      "\n",
      "          family_status_id  gender  income_type   debt  total_income  purpose  \n",
      "children                                                                       \n",
      "0                    14165   14165        14165  14165         14165    14165  \n",
      "1                     4855    4855         4855   4855          4855     4855  \n",
      "2                     2052    2052         2052   2052          2052     2052  \n",
      "3                      330     330          330    330           330      330  \n",
      "4                       41      41           41     41            41       41  \n",
      "5                        9       9            9      9             9        9  \n"
     ]
    }
   ],
   "source": [
    "children_avg=data['children'].mean().astype('int')\n",
    "print (children_avg)\n",
    "data.loc[data['children'] == 20,'children'] = children_avg\n",
    "print(data.groupby('children').count())"
   ]
  },
  {
   "cell_type": "markdown",
   "id": "1fc05ee6",
   "metadata": {},
   "source": [
    "### Шаг 2.5. Формирование дополнительных датафреймов словарей, декомпозиция исходного датафрейма."
   ]
  },
  {
   "cell_type": "markdown",
   "id": "859bd7bc",
   "metadata": {},
   "source": [
    "Создадим два новых датафрейма."
   ]
  },
  {
   "cell_type": "code",
   "execution_count": 441,
   "id": "362b2198",
   "metadata": {
    "scrolled": false
   },
   "outputs": [
    {
     "name": "stdout",
     "output_type": "stream",
     "text": [
      "   education_id education\n",
      "0             0    высшее\n",
      "1             1   среднее\n",
      "2             1   среднее\n",
      "3             1   среднее\n",
      "4             1   среднее\n",
      "5             0    высшее\n",
      "6             0    высшее\n",
      "7             1   среднее\n",
      "8             0    высшее\n",
      "9             1   среднее\n",
      "   family_status_id     family_status\n",
      "0                 0   женат / замужем\n",
      "1                 0   женат / замужем\n",
      "2                 0   женат / замужем\n",
      "3                 0   женат / замужем\n",
      "4                 1  гражданский брак\n",
      "5                 1  гражданский брак\n",
      "6                 0   женат / замужем\n",
      "7                 0   женат / замужем\n",
      "8                 1  гражданский брак\n",
      "9                 0   женат / замужем\n"
     ]
    }
   ],
   "source": [
    "education_dict = data[['education_id', 'education']]\n",
    "family_status_dict = data[['family_status_id', 'family_status']]\n",
    "print (education_dict.head(10))\n",
    "print (family_status_dict.head(10))                      "
   ]
  },
  {
   "cell_type": "markdown",
   "id": "911327ea",
   "metadata": {},
   "source": [
    "Строки в полученных датафреймах многократно дублируются. Уберем дубликаты, используя метод drop_duplicates(). "
   ]
  },
  {
   "cell_type": "code",
   "execution_count": 442,
   "id": "342a9b33",
   "metadata": {
    "scrolled": false
   },
   "outputs": [
    {
     "name": "stdout",
     "output_type": "stream",
     "text": [
      "      education_id            education\n",
      "0                0               высшее\n",
      "1                1              среднее\n",
      "13               2  неоконченное высшее\n",
      "31               3            начальное\n",
      "2963             4       ученая степень\n",
      "    family_status_id          family_status\n",
      "0                  0        женат / замужем\n",
      "4                  1       гражданский брак\n",
      "18                 2         вдовец / вдова\n",
      "19                 3              в разводе\n",
      "24                 4  Не женат / не замужем\n"
     ]
    }
   ],
   "source": [
    "education_dict=education_dict.drop_duplicates()\n",
    "family_status_dict=family_status_dict.drop_duplicates()\n",
    "\n",
    "print (education_dict.head(30))\n",
    "print (family_status_dict.head(30))"
   ]
  },
  {
   "cell_type": "markdown",
   "id": "2df77074",
   "metadata": {},
   "source": [
    "Удалим из исходного датафрейма столбцы 'education' и 'family_status', используя метод pop()"
   ]
  },
  {
   "cell_type": "code",
   "execution_count": 443,
   "id": "bcfd3441",
   "metadata": {
    "scrolled": true
   },
   "outputs": [
    {
     "name": "stdout",
     "output_type": "stream",
     "text": [
      "<class 'pandas.core.frame.DataFrame'>\n",
      "Int64Index: 21452 entries, 0 to 21523\n",
      "Data columns (total 10 columns):\n",
      " #   Column            Non-Null Count  Dtype  \n",
      "---  ------            --------------  -----  \n",
      " 0   children          21452 non-null  int64  \n",
      " 1   days_employed     21452 non-null  float64\n",
      " 2   dob_years         21452 non-null  int64  \n",
      " 3   education_id      21452 non-null  int64  \n",
      " 4   family_status_id  21452 non-null  int64  \n",
      " 5   gender            21452 non-null  object \n",
      " 6   income_type       21452 non-null  object \n",
      " 7   debt              21452 non-null  int64  \n",
      " 8   total_income      21452 non-null  int64  \n",
      " 9   purpose           21452 non-null  object \n",
      "dtypes: float64(1), int64(6), object(3)\n",
      "memory usage: 1.8+ MB\n"
     ]
    }
   ],
   "source": [
    "data.pop('education')\n",
    "data.pop('family_status')\n",
    "data.info()"
   ]
  },
  {
   "cell_type": "markdown",
   "id": "2a139657",
   "metadata": {},
   "source": [
    "### Шаг 2.6. Категоризация дохода."
   ]
  },
  {
   "cell_type": "markdown",
   "id": "1e33e914",
   "metadata": {},
   "source": [
    "Для категоризации доходов мы напишем функцию, куда в качестве значения будет передаваться доход (значение 'total_income'). И с помощью метода apply применим ее к столбцу 'total_icome', а значения поместим в столбец 'total_income_category'"
   ]
  },
  {
   "cell_type": "code",
   "execution_count": 444,
   "id": "46ee42c4",
   "metadata": {},
   "outputs": [
    {
     "name": "stdout",
     "output_type": "stream",
     "text": [
      "   children  days_employed  dob_years  education_id  family_status_id gender  \\\n",
      "0         1    8437.673028         42             0                 0      F   \n",
      "1         1    4024.803754         36             1                 0      F   \n",
      "2         0    5623.422610         33             1                 0      M   \n",
      "3         3    4124.747207         32             1                 0      M   \n",
      "4         0   11609.000000         53             1                 1      F   \n",
      "5         0     926.185831         27             0                 1      M   \n",
      "6         0    2879.202052         43             0                 0      F   \n",
      "7         0     152.779569         50             1                 0      M   \n",
      "8         2    6929.865299         35             0                 1      F   \n",
      "9         0    2188.756445         41             1                 0      M   \n",
      "\n",
      "  income_type  debt  total_income                     purpose  \\\n",
      "0   сотрудник     0        253875               покупка жилья   \n",
      "1   сотрудник     0        112080     приобретение автомобиля   \n",
      "2   сотрудник     0        145885               покупка жилья   \n",
      "3   сотрудник     0        267628  дополнительное образование   \n",
      "4   пенсионер     0        158616             сыграть свадьбу   \n",
      "5   компаньон     0        255763               покупка жилья   \n",
      "6   компаньон     0        240525           операции с жильем   \n",
      "7   сотрудник     0        135823                 образование   \n",
      "8   сотрудник     0         95856       на проведение свадьбы   \n",
      "9   сотрудник     0        144425     покупка жилья для семьи   \n",
      "\n",
      "  total_income_category  \n",
      "0                     B  \n",
      "1                     C  \n",
      "2                     C  \n",
      "3                     B  \n",
      "4                     C  \n",
      "5                     B  \n",
      "6                     B  \n",
      "7                     C  \n",
      "8                     C  \n",
      "9                     C  \n"
     ]
    }
   ],
   "source": [
    "\n",
    "def tot_inc_cat(t_incom):\n",
    "    if (t_incom >0) & (t_incom<30000):\n",
    "        return 'E'\n",
    "    elif (t_incom< 50000) & (t_incom>=30001):\n",
    "        return 'D'\n",
    "    elif (t_incom>=50001)  & (t_incom< 200000):\n",
    "        return 'C'\n",
    "    elif (t_incom>=200001) & (t_incom< 1000000):\n",
    "        return 'B'\n",
    "    else:\n",
    "        return 'A'\n",
    "data['total_income_category']=data['total_income'].apply(tot_inc_cat)\n",
    "\n",
    "print (data.head(10))"
   ]
  },
  {
   "cell_type": "markdown",
   "id": "510e96df",
   "metadata": {},
   "source": [
    "### Шаг 2.7. Категоризация целей кредита."
   ]
  },
  {
   "cell_type": "markdown",
   "id": "037cfb5a",
   "metadata": {},
   "source": [
    "Для категоризации целей получения кредита посмотрим перечень уникальных значений в столбце 'purpose' c помощью метода unique() и попробуем увидеть закономерности."
   ]
  },
  {
   "cell_type": "code",
   "execution_count": 445,
   "id": "961a8e18",
   "metadata": {
    "scrolled": true
   },
   "outputs": [
    {
     "name": "stdout",
     "output_type": "stream",
     "text": [
      "['покупка жилья' 'приобретение автомобиля' 'дополнительное образование'\n",
      " 'сыграть свадьбу' 'операции с жильем' 'образование'\n",
      " 'на проведение свадьбы' 'покупка жилья для семьи' 'покупка недвижимости'\n",
      " 'покупка коммерческой недвижимости' 'покупка жилой недвижимости'\n",
      " 'строительство собственной недвижимости' 'недвижимость'\n",
      " 'строительство недвижимости' 'на покупку подержанного автомобиля'\n",
      " 'на покупку своего автомобиля' 'операции с коммерческой недвижимостью'\n",
      " 'строительство жилой недвижимости' 'жилье'\n",
      " 'операции со своей недвижимостью' 'автомобили' 'заняться образованием'\n",
      " 'сделка с подержанным автомобилем' 'получение образования' 'автомобиль'\n",
      " 'свадьба' 'получение дополнительного образования' 'покупка своего жилья'\n",
      " 'операции с недвижимостью' 'получение высшего образования'\n",
      " 'свой автомобиль' 'сделка с автомобилем' 'профильное образование'\n",
      " 'высшее образование' 'покупка жилья для сдачи' 'на покупку автомобиля'\n",
      " 'ремонт жилью' 'заняться высшим образованием']\n"
     ]
    }
   ],
   "source": [
    "print (data['purpose'].unique())"
   ]
  },
  {
   "cell_type": "markdown",
   "id": "d1ed013d",
   "metadata": {},
   "source": [
    "Видим, что:\n",
    "1. В описании всех целей, связанных с автомобилями присутствует \"авто\"\n",
    "2. В описании всех целей, связанных с образованием присутствет \"образовани\"\n",
    "3. В описании всех целей, связанных со свадьбами присутствует \"свадьб\""
   ]
  },
  {
   "cell_type": "code",
   "execution_count": 446,
   "id": "51c766d9",
   "metadata": {},
   "outputs": [],
   "source": [
    "def purp_cat_name(purpose_name):\n",
    "    try:\n",
    "        \n",
    "        if 'авто' in purpose_name:\n",
    "            return 'операции с автомобилем'\n",
    "        elif 'образовани' in purpose_name:\n",
    "            return 'получение образования'\n",
    "        elif 'свадьб'in purpose_name:\n",
    "            return 'проведение свадьбы'\n",
    "        else:\n",
    "            return 'операции с недвижимостью'\n",
    "    except:\n",
    "        return 'некорректное значение'\n",
    "    \n",
    "data['purpose_category']=data['purpose'].apply(purp_cat_name)\n"
   ]
  },
  {
   "cell_type": "code",
   "execution_count": 447,
   "id": "179c836f",
   "metadata": {},
   "outputs": [
    {
     "name": "stdout",
     "output_type": "stream",
     "text": [
      "   children  days_employed  dob_years  education_id  family_status_id gender  \\\n",
      "0         1    8437.673028         42             0                 0      F   \n",
      "1         1    4024.803754         36             1                 0      F   \n",
      "2         0    5623.422610         33             1                 0      M   \n",
      "3         3    4124.747207         32             1                 0      M   \n",
      "4         0   11609.000000         53             1                 1      F   \n",
      "5         0     926.185831         27             0                 1      M   \n",
      "6         0    2879.202052         43             0                 0      F   \n",
      "7         0     152.779569         50             1                 0      M   \n",
      "8         2    6929.865299         35             0                 1      F   \n",
      "9         0    2188.756445         41             1                 0      M   \n",
      "\n",
      "  income_type  debt  total_income                     purpose  \\\n",
      "0   сотрудник     0        253875               покупка жилья   \n",
      "1   сотрудник     0        112080     приобретение автомобиля   \n",
      "2   сотрудник     0        145885               покупка жилья   \n",
      "3   сотрудник     0        267628  дополнительное образование   \n",
      "4   пенсионер     0        158616             сыграть свадьбу   \n",
      "5   компаньон     0        255763               покупка жилья   \n",
      "6   компаньон     0        240525           операции с жильем   \n",
      "7   сотрудник     0        135823                 образование   \n",
      "8   сотрудник     0         95856       на проведение свадьбы   \n",
      "9   сотрудник     0        144425     покупка жилья для семьи   \n",
      "\n",
      "  total_income_category          purpose_category  \n",
      "0                     B  операции с недвижимостью  \n",
      "1                     C    операции с автомобилем  \n",
      "2                     C  операции с недвижимостью  \n",
      "3                     B     получение образования  \n",
      "4                     C        проведение свадьбы  \n",
      "5                     B  операции с недвижимостью  \n",
      "6                     B  операции с недвижимостью  \n",
      "7                     C     получение образования  \n",
      "8                     C        проведение свадьбы  \n",
      "9                     C  операции с недвижимостью  \n"
     ]
    }
   ],
   "source": [
    "print (data.head(10))"
   ]
  },
  {
   "cell_type": "markdown",
   "id": "b4b8c1d9",
   "metadata": {},
   "source": [
    "Для определения наличия зависимости между доходом заемщика и вероятностью возврата кредита построим сводную таблицу. В качестве результата сумма по столбцу debt. Так значения там только 0 (нет задолженности) или 1 (имеется), то сумма хорошо ответит на нужный вопрос."
   ]
  },
  {
   "cell_type": "code",
   "execution_count": 448,
   "id": "f85fde91",
   "metadata": {
    "scrolled": false
   },
   "outputs": [
    {
     "name": "stdout",
     "output_type": "stream",
     "text": [
      "                       count   sum  ratio_per\n",
      "total_income_category                        \n",
      "A                         25     2   8.000000\n",
      "B                       5040   356   7.063492\n",
      "C                      16015  1360   8.492039\n",
      "D                        350    21   6.000000\n",
      "E                         22     2   9.090909\n"
     ]
    }
   ],
   "source": [
    "data_pivot_income = data.pivot_table(index=['total_income_category'], values='debt', aggfunc={'sum', 'count'})\n",
    "\n",
    "\n",
    "data_pivot_income['ratio_per']=data_pivot_income['sum']/data_pivot_income['count']*100\n",
    "print(data_pivot_income)    "
   ]
  },
  {
   "cell_type": "markdown",
   "id": "ddfffdf8",
   "metadata": {},
   "source": [
    "Для определения наличия зависимости между количеством детей у заемщика и вероятностью возврата кредита построим сводную таблицу. В качестве результата сумма по столбцу debt. "
   ]
  },
  {
   "cell_type": "code",
   "execution_count": 449,
   "id": "907b2f08",
   "metadata": {
    "scrolled": true
   },
   "outputs": [
    {
     "name": "stdout",
     "output_type": "stream",
     "text": [
      "          count   sum  ratio_per\n",
      "children                        \n",
      "0         14165  1071   7.560890\n",
      "1          4855   445   9.165808\n",
      "2          2052   194   9.454191\n",
      "3           330    27   8.181818\n",
      "4            41     4   9.756098\n",
      "5             9     0   0.000000\n"
     ]
    }
   ],
   "source": [
    "data_pivot_children = data.pivot_table(index=['children'], values='debt', aggfunc={'sum', 'count'})\n",
    "\n",
    "\n",
    "data_pivot_children['ratio_per']=data_pivot_children['sum']/data_pivot_children['count']*100\n",
    "print(data_pivot_children)\n"
   ]
  },
  {
   "cell_type": "markdown",
   "id": "530133d1",
   "metadata": {},
   "source": [
    "Для определения наличия зависимости между семейным статусом заемщика и вероятностью возврата кредита построим сводную таблицу. В качестве результата сумма по столбцу debt. После это присоединим к ней датафрейм family_status_dict, где содержатся описания семейных статусов"
   ]
  },
  {
   "cell_type": "code",
   "execution_count": 450,
   "id": "0869e9fe",
   "metadata": {
    "scrolled": true
   },
   "outputs": [
    {
     "name": "stdout",
     "output_type": "stream",
     "text": [
      "   family_status_id  count  sum     ratio          family_status\n",
      "0                 0  12339  931  7.545182        женат / замужем\n",
      "1                 1   4149  388  9.351651       гражданский брак\n",
      "2                 2    959   63  6.569343         вдовец / вдова\n",
      "3                 3   1195   85  7.112971              в разводе\n",
      "4                 4   2810  274  9.750890  Не женат / не замужем\n"
     ]
    }
   ],
   "source": [
    "data_pivot_family = data.pivot_table(index=['family_status_id'], values='debt', aggfunc={'sum', 'count'})\n",
    "\n",
    "\n",
    "data_pivot_family['ratio']=data_pivot_family['sum']/data_pivot_family['count']*100\n",
    "\n",
    "data_pivot_family_f = data_pivot_family.merge(family_status_dict, on='family_status_id', how='right')\n",
    " \n",
    "print(data_pivot_family_f)        \n"
   ]
  },
  {
   "cell_type": "markdown",
   "id": "1c811d50",
   "metadata": {},
   "source": [
    "Для определения наличия зависимости между целью кредита и вероятностью возврата кредита построим сводную таблицу. В качестве результата сумма по столбцу debt. После это присоединим к ней датафрейм family_status_dict, где содержатся описания семейных статусов"
   ]
  },
  {
   "cell_type": "code",
   "execution_count": 451,
   "id": "a73d8f91",
   "metadata": {},
   "outputs": [
    {
     "name": "stdout",
     "output_type": "stream",
     "text": [
      "                          count  sum     ratio\n",
      "purpose_category                              \n",
      "операции с автомобилем     4306  403  9.359034\n",
      "операции с недвижимостью  10810  782  7.234043\n",
      "получение образования      4013  370  9.220035\n",
      "проведение свадьбы         2323  186  8.006888\n"
     ]
    }
   ],
   "source": [
    "data_pivot_purpose_category = data.pivot_table(index=['purpose_category'], values='debt', aggfunc={'sum', 'count'})\n",
    "\n",
    "data_pivot_purpose_category['ratio']=data_pivot_purpose_category['sum']/data_pivot_purpose_category['count']*100\n",
    "print(data_pivot_purpose_category)"
   ]
  },
  {
   "cell_type": "markdown",
   "id": "d91986d9",
   "metadata": {},
   "source": [
    "### Ответы на вопросы."
   ]
  },
  {
   "cell_type": "markdown",
   "id": "51d044cf",
   "metadata": {},
   "source": [
    "##### Вывод 1:"
   ]
  },
  {
   "cell_type": "markdown",
   "id": "51f0e2ae",
   "metadata": {},
   "source": [
    "О взаимосвязи количества детей и возврата кредита. Из сводной таблицы мы видим, что величина невозвратов колеблется в диапазоне от 7,56% до 9,75%. Исключение составляют случаи, когда у заемщика пять детей. Там все кредиты вернулись. В остальных случаях четкой закономерности не видно. Но нужно отметить, что для заемщиков без детей вероятность невозврата лежит на нижней границе диапазона. Риск немного, но ниже."
   ]
  },
  {
   "cell_type": "markdown",
   "id": "0177d05a",
   "metadata": {},
   "source": [
    "##### Вопрос 2:"
   ]
  },
  {
   "cell_type": "markdown",
   "id": "dfeb3b51",
   "metadata": {},
   "source": [
    "Исследование взаимосвязи между семейным статусом заемщика и вероятностью непогашения кредита приводит нас к следующим выводам:\n",
    "     - разброс значений в диапаозоне от 6,57% до 9,76%. Хотя разница почти в полтора раза, но в абсолютном измерении разброс незначительный\n",
    "     - вероятность невозврата кредита несколько выше для тех, кто имеет статус \"гражданский брак\" и \"не женат\""
   ]
  },
  {
   "cell_type": "markdown",
   "id": "fa924b54",
   "metadata": {},
   "source": [
    "##### Вопрос 3:"
   ]
  },
  {
   "cell_type": "markdown",
   "id": "71758068",
   "metadata": {},
   "source": [
    "Исследуя аналогично и зависимость возврата кредита от категории дохода заемщика, мы приходим к схожим выводам. Разброс вероятности невозврата находится в диапазоне от 6% до 9,1%. Максимальное количество невозвратов приходится на заемщиков группы Е, т.е. минимальные доходы. Но резко снижается в следующей группе. Четкой тенденции не видно. Но минимальная вероятность невозврата приходится на группу D. С доходами от 31 до 50 рублей."
   ]
  },
  {
   "cell_type": "markdown",
   "id": "d2af6003",
   "metadata": {},
   "source": [
    "##### Вопрос 4:"
   ]
  },
  {
   "cell_type": "markdown",
   "id": "4c9cf9e4",
   "metadata": {},
   "source": [
    "Анализ взаимосвязи между целью кредита и возможностью его невозврата лежит в еще более узком диапазоне. От 7,23% до 9,35%. Можно сказать, что вероятность возврата не зависит от целей кредита."
   ]
  },
  {
   "cell_type": "markdown",
   "id": "020848f0",
   "metadata": {},
   "source": [
    "## Общий вывод:"
   ]
  },
  {
   "cell_type": "markdown",
   "id": "0b20443b",
   "metadata": {},
   "source": [
    "Вероятность возврата кредита на основании проведенного исследования не зависит от дохода, семейного статуса и количества детей у заемщика. Также и от целей займа. Риск невозврата несколько выше для заемщиков со статусом 'Не женат / не замужем', а также когда заемщики со статусом 'гражданский брак' обращаются за займом на свадьбу."
   ]
  },
  {
   "cell_type": "markdown",
   "id": "64497abc",
   "metadata": {},
   "source": [
    "Целью настоящего исследования было установить влияние семейного статуса, количества детей и доходов заемщика на вероятность возврата кредита.\n",
    "В предоставленных данных потребовалось провести предварительную обработку для их использования. Отсутстовали данные о доходах примерно в 10% случаев. Данные были заполнены медианныыми значениями и это не должно было значительно исказить выводы исследования.\n",
    "Также примерно в 15% случаев было некорректно заполнено поле с трудовым стажем заемщиков. Были внесены замены на медианные значения. Но важно отметить, что в рамках исследования зависимость вероятности возврата от возраста не рассматривалась.\n",
    "В целом результ исследования показал отсутствие критических зависимостей вероятности возврата от семейного статуса, количества детей, уровня доходов и цели кредита. Все значения лежат в достаточно узком диапазоне от 6% до 9,75%.\n",
    "\n",
    "Риск невозвра несколько выше в случаях, когда берется кредит на операции с автомобилями и составляет 9,35%. На эту группу заемщиков стоит обратить большее внимание."
   ]
  }
 ],
 "metadata": {
  "ExecuteTimeLog": [
   {
    "duration": 814,
    "start_time": "2022-05-24T19:45:39.054Z"
   },
   {
    "duration": 92,
    "start_time": "2022-05-24T21:34:56.228Z"
   },
   {
    "duration": 85,
    "start_time": "2022-05-24T21:35:49.511Z"
   },
   {
    "duration": 572,
    "start_time": "2022-05-25T19:09:50.889Z"
   },
   {
    "duration": 11,
    "start_time": "2022-05-25T19:17:13.381Z"
   },
   {
    "duration": 14,
    "start_time": "2022-05-25T19:18:24.760Z"
   },
   {
    "duration": 10,
    "start_time": "2022-05-25T19:19:52.273Z"
   },
   {
    "duration": 8,
    "start_time": "2022-05-25T19:43:23.396Z"
   },
   {
    "duration": 13,
    "start_time": "2022-05-25T19:45:07.690Z"
   },
   {
    "duration": 796,
    "start_time": "2022-05-25T20:53:29.529Z"
   },
   {
    "duration": 4,
    "start_time": "2022-05-25T20:53:56.553Z"
   },
   {
    "duration": 6,
    "start_time": "2022-05-25T20:56:17.576Z"
   },
   {
    "duration": 89,
    "start_time": "2022-05-25T21:02:42.342Z"
   },
   {
    "duration": 86,
    "start_time": "2022-05-25T21:03:41.254Z"
   },
   {
    "duration": 16,
    "start_time": "2022-05-25T21:16:39.879Z"
   },
   {
    "duration": 10,
    "start_time": "2022-05-25T21:17:33.324Z"
   },
   {
    "duration": 88,
    "start_time": "2022-05-25T21:17:55.474Z"
   },
   {
    "duration": 10,
    "start_time": "2022-05-25T21:18:04.825Z"
   },
   {
    "duration": 10,
    "start_time": "2022-05-25T21:18:12.554Z"
   },
   {
    "duration": 6,
    "start_time": "2022-05-25T21:18:17.017Z"
   },
   {
    "duration": 7,
    "start_time": "2022-05-25T21:18:22.357Z"
   },
   {
    "duration": 12,
    "start_time": "2022-05-25T21:18:29.888Z"
   },
   {
    "duration": 436,
    "start_time": "2022-05-25T21:30:02.253Z"
   },
   {
    "duration": 5,
    "start_time": "2022-05-25T21:30:21.356Z"
   },
   {
    "duration": 5,
    "start_time": "2022-05-25T21:30:30.808Z"
   },
   {
    "duration": 6,
    "start_time": "2022-05-25T21:39:45.067Z"
   },
   {
    "duration": 10,
    "start_time": "2022-05-25T21:49:49.597Z"
   },
   {
    "duration": 6,
    "start_time": "2022-05-25T21:58:32.586Z"
   },
   {
    "duration": 8,
    "start_time": "2022-05-25T22:00:48.646Z"
   },
   {
    "duration": 17,
    "start_time": "2022-05-25T22:01:33.177Z"
   },
   {
    "duration": 16,
    "start_time": "2022-05-25T22:02:15.497Z"
   },
   {
    "duration": 14,
    "start_time": "2022-05-25T22:03:26.817Z"
   },
   {
    "duration": 11,
    "start_time": "2022-05-25T22:04:45.080Z"
   },
   {
    "duration": 13,
    "start_time": "2022-05-25T22:11:05.097Z"
   },
   {
    "duration": 13,
    "start_time": "2022-05-25T22:14:20.954Z"
   },
   {
    "duration": 12,
    "start_time": "2022-05-25T22:16:37.308Z"
   },
   {
    "duration": 11,
    "start_time": "2022-05-25T22:17:28.069Z"
   },
   {
    "duration": 13,
    "start_time": "2022-05-25T22:17:59.046Z"
   },
   {
    "duration": 11,
    "start_time": "2022-05-25T22:18:23.303Z"
   },
   {
    "duration": 14,
    "start_time": "2022-05-25T22:18:33.120Z"
   },
   {
    "duration": 12,
    "start_time": "2022-05-25T22:21:32.367Z"
   },
   {
    "duration": 38,
    "start_time": "2022-05-25T22:26:26.279Z"
   },
   {
    "duration": 32,
    "start_time": "2022-05-25T22:27:07.313Z"
   },
   {
    "duration": 37,
    "start_time": "2022-05-25T22:28:58.532Z"
   },
   {
    "duration": 12,
    "start_time": "2022-05-25T22:29:39.328Z"
   },
   {
    "duration": 272,
    "start_time": "2022-05-25T22:30:18.306Z"
   },
   {
    "duration": 11,
    "start_time": "2022-05-25T22:30:27.345Z"
   },
   {
    "duration": 515,
    "start_time": "2022-05-25T22:30:41.867Z"
   },
   {
    "duration": 13,
    "start_time": "2022-05-25T22:31:00.748Z"
   },
   {
    "duration": 12,
    "start_time": "2022-05-25T22:31:08.148Z"
   },
   {
    "duration": 11,
    "start_time": "2022-05-25T22:31:41.678Z"
   },
   {
    "duration": 16,
    "start_time": "2022-05-25T22:34:36.832Z"
   },
   {
    "duration": 18,
    "start_time": "2022-05-25T22:37:03.769Z"
   },
   {
    "duration": 11,
    "start_time": "2022-05-25T22:37:24.607Z"
   },
   {
    "duration": 12,
    "start_time": "2022-05-25T22:37:42.002Z"
   },
   {
    "duration": 12,
    "start_time": "2022-05-25T22:41:59.342Z"
   },
   {
    "duration": 10,
    "start_time": "2022-05-25T22:42:43.842Z"
   },
   {
    "duration": 115,
    "start_time": "2022-05-25T22:42:58.249Z"
   },
   {
    "duration": 12,
    "start_time": "2022-05-25T22:44:00.347Z"
   },
   {
    "duration": 82,
    "start_time": "2022-05-25T22:44:11.324Z"
   },
   {
    "duration": 10,
    "start_time": "2022-05-25T22:44:19.965Z"
   },
   {
    "duration": 11,
    "start_time": "2022-05-25T22:44:28.357Z"
   },
   {
    "duration": 4,
    "start_time": "2022-05-25T22:44:36.589Z"
   },
   {
    "duration": 5,
    "start_time": "2022-05-25T22:44:41.733Z"
   },
   {
    "duration": 11,
    "start_time": "2022-05-25T22:44:48.926Z"
   },
   {
    "duration": 6,
    "start_time": "2022-05-25T22:45:10.080Z"
   },
   {
    "duration": 6,
    "start_time": "2022-05-25T22:45:15.352Z"
   },
   {
    "duration": 12,
    "start_time": "2022-05-25T22:45:19.376Z"
   },
   {
    "duration": 9,
    "start_time": "2022-05-25T22:50:16.807Z"
   },
   {
    "duration": 4,
    "start_time": "2022-05-25T23:12:26.724Z"
   },
   {
    "duration": 18,
    "start_time": "2022-05-25T23:12:56.188Z"
   },
   {
    "duration": 26,
    "start_time": "2022-05-25T23:21:36.365Z"
   },
   {
    "duration": 78,
    "start_time": "2022-05-25T23:22:42.975Z"
   },
   {
    "duration": 10,
    "start_time": "2022-05-25T23:23:04.730Z"
   },
   {
    "duration": 10,
    "start_time": "2022-05-25T23:23:11.152Z"
   },
   {
    "duration": 5,
    "start_time": "2022-05-25T23:23:14.939Z"
   },
   {
    "duration": 6,
    "start_time": "2022-05-25T23:23:17.792Z"
   },
   {
    "duration": 11,
    "start_time": "2022-05-25T23:23:20.800Z"
   },
   {
    "duration": 6,
    "start_time": "2022-05-25T23:23:27.865Z"
   },
   {
    "duration": 6,
    "start_time": "2022-05-25T23:23:30.562Z"
   },
   {
    "duration": 12,
    "start_time": "2022-05-25T23:23:33.797Z"
   },
   {
    "duration": 10,
    "start_time": "2022-05-25T23:23:39.705Z"
   },
   {
    "duration": 26,
    "start_time": "2022-05-25T23:23:45.475Z"
   },
   {
    "duration": 64,
    "start_time": "2022-05-25T23:25:54.962Z"
   },
   {
    "duration": 36,
    "start_time": "2022-05-25T23:26:03.136Z"
   },
   {
    "duration": 58,
    "start_time": "2022-05-25T23:32:23.083Z"
   },
   {
    "duration": 69,
    "start_time": "2022-05-25T23:32:42.910Z"
   },
   {
    "duration": 73,
    "start_time": "2022-05-25T23:33:51.185Z"
   },
   {
    "duration": 81,
    "start_time": "2022-05-25T23:34:30.634Z"
   },
   {
    "duration": 9,
    "start_time": "2022-05-25T23:34:36.694Z"
   },
   {
    "duration": 10,
    "start_time": "2022-05-25T23:34:42.707Z"
   },
   {
    "duration": 4,
    "start_time": "2022-05-25T23:34:46.674Z"
   },
   {
    "duration": 5,
    "start_time": "2022-05-25T23:34:50.131Z"
   },
   {
    "duration": 10,
    "start_time": "2022-05-25T23:34:53.731Z"
   },
   {
    "duration": 5,
    "start_time": "2022-05-25T23:35:00.157Z"
   },
   {
    "duration": 5,
    "start_time": "2022-05-25T23:35:03.493Z"
   },
   {
    "duration": 12,
    "start_time": "2022-05-25T23:35:08.049Z"
   },
   {
    "duration": 10,
    "start_time": "2022-05-25T23:35:29.396Z"
   },
   {
    "duration": 82,
    "start_time": "2022-05-25T23:35:38.757Z"
   },
   {
    "duration": 77,
    "start_time": "2022-05-25T23:38:12.408Z"
   },
   {
    "duration": 84,
    "start_time": "2022-05-25T23:39:18.752Z"
   },
   {
    "duration": 66,
    "start_time": "2022-05-25T23:41:06.656Z"
   },
   {
    "duration": 34,
    "start_time": "2022-05-26T00:13:06.907Z"
   },
   {
    "duration": 16,
    "start_time": "2022-05-26T00:13:17.809Z"
   },
   {
    "duration": 20,
    "start_time": "2022-05-26T00:18:35.124Z"
   },
   {
    "duration": 24,
    "start_time": "2022-05-26T00:23:45.614Z"
   },
   {
    "duration": 25,
    "start_time": "2022-05-26T00:24:10.006Z"
   },
   {
    "duration": 27,
    "start_time": "2022-05-26T00:27:40.043Z"
   },
   {
    "duration": 5,
    "start_time": "2022-05-26T00:30:48.377Z"
   },
   {
    "duration": 5,
    "start_time": "2022-05-26T00:31:41.026Z"
   },
   {
    "duration": 5,
    "start_time": "2022-05-26T00:33:17.680Z"
   },
   {
    "duration": 16,
    "start_time": "2022-05-26T00:36:39.225Z"
   },
   {
    "duration": 27,
    "start_time": "2022-05-26T00:37:46.107Z"
   },
   {
    "duration": 30,
    "start_time": "2022-05-26T00:40:14.342Z"
   },
   {
    "duration": 15,
    "start_time": "2022-05-26T00:40:53.527Z"
   },
   {
    "duration": 81,
    "start_time": "2022-05-26T00:43:04.517Z"
   },
   {
    "duration": 10,
    "start_time": "2022-05-26T00:43:10.374Z"
   },
   {
    "duration": 10,
    "start_time": "2022-05-26T00:43:15.702Z"
   },
   {
    "duration": 4,
    "start_time": "2022-05-26T00:43:20.232Z"
   },
   {
    "duration": 6,
    "start_time": "2022-05-26T00:43:23.430Z"
   },
   {
    "duration": 10,
    "start_time": "2022-05-26T00:43:27.168Z"
   },
   {
    "duration": 6,
    "start_time": "2022-05-26T00:43:34.098Z"
   },
   {
    "duration": 6,
    "start_time": "2022-05-26T00:43:38.919Z"
   },
   {
    "duration": 13,
    "start_time": "2022-05-26T00:43:43.592Z"
   },
   {
    "duration": 10,
    "start_time": "2022-05-26T00:43:51.816Z"
   },
   {
    "duration": 72,
    "start_time": "2022-05-26T00:43:56.754Z"
   },
   {
    "duration": 30,
    "start_time": "2022-05-26T00:44:04.521Z"
   },
   {
    "duration": 5,
    "start_time": "2022-05-26T00:44:12.631Z"
   },
   {
    "duration": 5,
    "start_time": "2022-05-26T00:44:16.553Z"
   },
   {
    "duration": 5,
    "start_time": "2022-05-26T00:44:18.345Z"
   },
   {
    "duration": 31,
    "start_time": "2022-05-26T00:44:23.531Z"
   },
   {
    "duration": 9,
    "start_time": "2022-05-26T00:54:08.756Z"
   },
   {
    "duration": 4,
    "start_time": "2022-05-26T00:59:06.045Z"
   },
   {
    "duration": 7,
    "start_time": "2022-05-26T00:59:14.797Z"
   },
   {
    "duration": 3,
    "start_time": "2022-05-26T00:59:25.768Z"
   },
   {
    "duration": 79,
    "start_time": "2022-05-26T00:59:39.439Z"
   },
   {
    "duration": 11,
    "start_time": "2022-05-26T00:59:45.453Z"
   },
   {
    "duration": 12,
    "start_time": "2022-05-26T00:59:50.112Z"
   },
   {
    "duration": 4,
    "start_time": "2022-05-26T00:59:55.721Z"
   },
   {
    "duration": 5,
    "start_time": "2022-05-26T00:59:58.813Z"
   },
   {
    "duration": 4,
    "start_time": "2022-05-26T01:00:02.623Z"
   },
   {
    "duration": 6,
    "start_time": "2022-05-26T01:00:06.799Z"
   },
   {
    "duration": 5,
    "start_time": "2022-05-26T01:00:09.973Z"
   },
   {
    "duration": 6,
    "start_time": "2022-05-26T01:00:12.798Z"
   },
   {
    "duration": 4,
    "start_time": "2022-05-26T01:00:17.407Z"
   },
   {
    "duration": 61,
    "start_time": "2022-05-26T01:00:20.518Z"
   },
   {
    "duration": 29,
    "start_time": "2022-05-26T01:00:25.640Z"
   },
   {
    "duration": 4,
    "start_time": "2022-05-26T01:00:34.984Z"
   },
   {
    "duration": 5,
    "start_time": "2022-05-26T01:00:37.825Z"
   },
   {
    "duration": 5,
    "start_time": "2022-05-26T01:00:40.529Z"
   },
   {
    "duration": 29,
    "start_time": "2022-05-26T01:00:43.896Z"
   },
   {
    "duration": 20,
    "start_time": "2022-05-26T01:01:43.579Z"
   },
   {
    "duration": 872,
    "start_time": "2022-05-26T17:00:27.517Z"
   },
   {
    "duration": 10,
    "start_time": "2022-05-26T17:00:33.830Z"
   },
   {
    "duration": 11,
    "start_time": "2022-05-26T17:00:43.790Z"
   },
   {
    "duration": 4,
    "start_time": "2022-05-26T17:00:47.230Z"
   },
   {
    "duration": 5,
    "start_time": "2022-05-26T17:00:56.888Z"
   },
   {
    "duration": 6,
    "start_time": "2022-05-26T17:01:08.407Z"
   },
   {
    "duration": 5,
    "start_time": "2022-05-26T17:01:12.313Z"
   },
   {
    "duration": 5,
    "start_time": "2022-05-26T17:01:15.751Z"
   },
   {
    "duration": 6,
    "start_time": "2022-05-26T17:01:20.350Z"
   },
   {
    "duration": 4,
    "start_time": "2022-05-26T17:01:25.056Z"
   },
   {
    "duration": 58,
    "start_time": "2022-05-26T17:01:28.691Z"
   },
   {
    "duration": 4,
    "start_time": "2022-05-26T17:01:33.616Z"
   },
   {
    "duration": 5,
    "start_time": "2022-05-26T17:01:36.090Z"
   },
   {
    "duration": 4,
    "start_time": "2022-05-26T17:01:40.094Z"
   },
   {
    "duration": 19,
    "start_time": "2022-05-26T17:02:09.404Z"
   },
   {
    "duration": 34,
    "start_time": "2022-05-26T17:03:41.556Z"
   },
   {
    "duration": 13,
    "start_time": "2022-05-26T17:04:40.802Z"
   },
   {
    "duration": 93,
    "start_time": "2022-05-26T17:17:32.897Z"
   },
   {
    "duration": 10,
    "start_time": "2022-05-26T17:17:37.228Z"
   },
   {
    "duration": 15,
    "start_time": "2022-05-26T17:17:41.996Z"
   },
   {
    "duration": 5,
    "start_time": "2022-05-26T17:17:45.496Z"
   },
   {
    "duration": 5,
    "start_time": "2022-05-26T17:17:47.726Z"
   },
   {
    "duration": 4,
    "start_time": "2022-05-26T17:17:50.853Z"
   },
   {
    "duration": 5,
    "start_time": "2022-05-26T17:17:54.103Z"
   },
   {
    "duration": 7,
    "start_time": "2022-05-26T17:17:56.688Z"
   },
   {
    "duration": 7,
    "start_time": "2022-05-26T17:17:59.586Z"
   },
   {
    "duration": 4,
    "start_time": "2022-05-26T17:18:03.091Z"
   },
   {
    "duration": 66,
    "start_time": "2022-05-26T17:18:07.189Z"
   },
   {
    "duration": 6,
    "start_time": "2022-05-26T17:18:12.398Z"
   },
   {
    "duration": 6,
    "start_time": "2022-05-26T17:18:16.149Z"
   },
   {
    "duration": 5,
    "start_time": "2022-05-26T17:18:18.823Z"
   },
   {
    "duration": 19,
    "start_time": "2022-05-26T17:18:41.566Z"
   },
   {
    "duration": 105,
    "start_time": "2022-05-26T17:20:42.816Z"
   },
   {
    "duration": 10,
    "start_time": "2022-05-26T17:20:49.192Z"
   },
   {
    "duration": 9,
    "start_time": "2022-05-26T17:20:54.102Z"
   },
   {
    "duration": 4,
    "start_time": "2022-05-26T17:20:57.520Z"
   },
   {
    "duration": 5,
    "start_time": "2022-05-26T17:20:58.248Z"
   },
   {
    "duration": 5,
    "start_time": "2022-05-26T17:21:01.391Z"
   },
   {
    "duration": 5,
    "start_time": "2022-05-26T17:21:03.965Z"
   },
   {
    "duration": 6,
    "start_time": "2022-05-26T17:21:07.711Z"
   },
   {
    "duration": 7,
    "start_time": "2022-05-26T17:21:12.294Z"
   },
   {
    "duration": 3,
    "start_time": "2022-05-26T17:21:16.185Z"
   },
   {
    "duration": 39,
    "start_time": "2022-05-26T17:21:18.630Z"
   },
   {
    "duration": 5,
    "start_time": "2022-05-26T17:21:23.998Z"
   },
   {
    "duration": 5,
    "start_time": "2022-05-26T17:21:27.394Z"
   },
   {
    "duration": 5,
    "start_time": "2022-05-26T17:21:30.055Z"
   },
   {
    "duration": 19,
    "start_time": "2022-05-26T17:21:34.440Z"
   },
   {
    "duration": 25,
    "start_time": "2022-05-26T17:23:05.283Z"
   },
   {
    "duration": 456,
    "start_time": "2022-05-26T17:23:09.187Z"
   },
   {
    "duration": 87,
    "start_time": "2022-05-26T17:23:30.391Z"
   },
   {
    "duration": 9,
    "start_time": "2022-05-26T17:23:40.677Z"
   },
   {
    "duration": 10,
    "start_time": "2022-05-26T17:23:44.651Z"
   },
   {
    "duration": 5,
    "start_time": "2022-05-26T17:23:47.422Z"
   },
   {
    "duration": 5,
    "start_time": "2022-05-26T17:23:49.416Z"
   },
   {
    "duration": 4,
    "start_time": "2022-05-26T17:23:53.391Z"
   },
   {
    "duration": 5,
    "start_time": "2022-05-26T17:23:55.573Z"
   },
   {
    "duration": 5,
    "start_time": "2022-05-26T17:23:58.456Z"
   },
   {
    "duration": 7,
    "start_time": "2022-05-26T17:24:01.215Z"
   },
   {
    "duration": 4,
    "start_time": "2022-05-26T17:24:04.814Z"
   },
   {
    "duration": 37,
    "start_time": "2022-05-26T17:24:06.849Z"
   },
   {
    "duration": 86,
    "start_time": "2022-05-26T17:26:03.942Z"
   },
   {
    "duration": 9,
    "start_time": "2022-05-26T17:26:08.230Z"
   },
   {
    "duration": 11,
    "start_time": "2022-05-26T17:26:11.947Z"
   },
   {
    "duration": 3,
    "start_time": "2022-05-26T17:26:14.432Z"
   },
   {
    "duration": 5,
    "start_time": "2022-05-26T17:26:16.774Z"
   },
   {
    "duration": 4,
    "start_time": "2022-05-26T17:26:19.847Z"
   },
   {
    "duration": 5,
    "start_time": "2022-05-26T17:26:22.030Z"
   },
   {
    "duration": 7,
    "start_time": "2022-05-26T17:26:24.672Z"
   },
   {
    "duration": 7,
    "start_time": "2022-05-26T17:26:27.899Z"
   },
   {
    "duration": 4,
    "start_time": "2022-05-26T17:26:31.831Z"
   },
   {
    "duration": 28,
    "start_time": "2022-05-26T17:26:35.311Z"
   },
   {
    "duration": 4,
    "start_time": "2022-05-26T17:26:39.623Z"
   },
   {
    "duration": 5,
    "start_time": "2022-05-26T17:26:49.867Z"
   },
   {
    "duration": 5,
    "start_time": "2022-05-26T17:26:52.012Z"
   },
   {
    "duration": 26,
    "start_time": "2022-05-26T17:26:56.104Z"
   },
   {
    "duration": 9,
    "start_time": "2022-05-26T17:27:10.147Z"
   },
   {
    "duration": 85,
    "start_time": "2022-05-26T17:28:37.886Z"
   },
   {
    "duration": 9,
    "start_time": "2022-05-26T17:28:42.693Z"
   },
   {
    "duration": 13,
    "start_time": "2022-05-26T17:28:47.672Z"
   },
   {
    "duration": 5,
    "start_time": "2022-05-26T17:28:50.295Z"
   },
   {
    "duration": 7,
    "start_time": "2022-05-26T17:28:52.215Z"
   },
   {
    "duration": 4,
    "start_time": "2022-05-26T17:28:56.818Z"
   },
   {
    "duration": 5,
    "start_time": "2022-05-26T17:28:59.719Z"
   },
   {
    "duration": 5,
    "start_time": "2022-05-26T17:29:03.470Z"
   },
   {
    "duration": 6,
    "start_time": "2022-05-26T17:29:06.760Z"
   },
   {
    "duration": 4,
    "start_time": "2022-05-26T17:29:10.118Z"
   },
   {
    "duration": 38,
    "start_time": "2022-05-26T17:29:13.159Z"
   },
   {
    "duration": 5,
    "start_time": "2022-05-26T17:29:16.677Z"
   },
   {
    "duration": 4,
    "start_time": "2022-05-26T17:29:20.158Z"
   },
   {
    "duration": 4,
    "start_time": "2022-05-26T17:29:22.478Z"
   },
   {
    "duration": 19,
    "start_time": "2022-05-26T17:29:29.400Z"
   },
   {
    "duration": 9,
    "start_time": "2022-05-26T17:29:49.457Z"
   },
   {
    "duration": 12,
    "start_time": "2022-05-26T17:36:11.995Z"
   },
   {
    "duration": 12,
    "start_time": "2022-05-26T17:38:12.871Z"
   },
   {
    "duration": 80,
    "start_time": "2022-05-26T17:39:18.797Z"
   },
   {
    "duration": 11,
    "start_time": "2022-05-26T17:39:22.854Z"
   },
   {
    "duration": 10,
    "start_time": "2022-05-26T17:39:26.854Z"
   },
   {
    "duration": 4,
    "start_time": "2022-05-26T17:39:30.687Z"
   },
   {
    "duration": 5,
    "start_time": "2022-05-26T17:39:32.591Z"
   },
   {
    "duration": 5,
    "start_time": "2022-05-26T17:39:36.115Z"
   },
   {
    "duration": 5,
    "start_time": "2022-05-26T17:39:38.918Z"
   },
   {
    "duration": 5,
    "start_time": "2022-05-26T17:39:42.383Z"
   },
   {
    "duration": 6,
    "start_time": "2022-05-26T17:39:45.815Z"
   },
   {
    "duration": 4,
    "start_time": "2022-05-26T17:39:49.703Z"
   },
   {
    "duration": 35,
    "start_time": "2022-05-26T17:39:52.510Z"
   },
   {
    "duration": 5,
    "start_time": "2022-05-26T17:39:56.284Z"
   },
   {
    "duration": 6,
    "start_time": "2022-05-26T17:40:00.197Z"
   },
   {
    "duration": 4,
    "start_time": "2022-05-26T17:40:03.975Z"
   },
   {
    "duration": 22,
    "start_time": "2022-05-26T17:40:07.475Z"
   },
   {
    "duration": 9,
    "start_time": "2022-05-26T17:40:11.072Z"
   },
   {
    "duration": 16,
    "start_time": "2022-05-26T17:40:15.295Z"
   },
   {
    "duration": 421,
    "start_time": "2022-05-26T17:53:07.116Z"
   },
   {
    "duration": 670,
    "start_time": "2022-05-26T17:53:32.198Z"
   },
   {
    "duration": 454,
    "start_time": "2022-05-26T17:57:41.122Z"
   },
   {
    "duration": 82,
    "start_time": "2022-05-26T17:59:14.793Z"
   },
   {
    "duration": 10,
    "start_time": "2022-05-26T17:59:19.051Z"
   },
   {
    "duration": 9,
    "start_time": "2022-05-26T17:59:21.892Z"
   },
   {
    "duration": 5,
    "start_time": "2022-05-26T17:59:24.900Z"
   },
   {
    "duration": 5,
    "start_time": "2022-05-26T17:59:27.245Z"
   },
   {
    "duration": 4,
    "start_time": "2022-05-26T17:59:31.295Z"
   },
   {
    "duration": 5,
    "start_time": "2022-05-26T17:59:34.054Z"
   },
   {
    "duration": 5,
    "start_time": "2022-05-26T17:59:37.464Z"
   },
   {
    "duration": 7,
    "start_time": "2022-05-26T17:59:40.358Z"
   },
   {
    "duration": 4,
    "start_time": "2022-05-26T17:59:42.797Z"
   },
   {
    "duration": 38,
    "start_time": "2022-05-26T17:59:45.318Z"
   },
   {
    "duration": 4,
    "start_time": "2022-05-26T17:59:48.950Z"
   },
   {
    "duration": 4,
    "start_time": "2022-05-26T17:59:52.446Z"
   },
   {
    "duration": 5,
    "start_time": "2022-05-26T17:59:55.944Z"
   },
   {
    "duration": 21,
    "start_time": "2022-05-26T17:59:59.903Z"
   },
   {
    "duration": 9,
    "start_time": "2022-05-26T18:00:11.800Z"
   },
   {
    "duration": 14,
    "start_time": "2022-05-26T18:00:17.541Z"
   },
   {
    "duration": 18,
    "start_time": "2022-05-26T18:00:21.978Z"
   },
   {
    "duration": 57,
    "start_time": "2022-05-27T15:07:47.896Z"
   },
   {
    "duration": 895,
    "start_time": "2022-05-27T15:08:09.093Z"
   },
   {
    "duration": 17,
    "start_time": "2022-05-27T15:08:16.039Z"
   },
   {
    "duration": 17,
    "start_time": "2022-05-27T15:08:21.298Z"
   },
   {
    "duration": 4,
    "start_time": "2022-05-27T15:08:24.635Z"
   },
   {
    "duration": 7,
    "start_time": "2022-05-27T15:08:26.967Z"
   },
   {
    "duration": 6,
    "start_time": "2022-05-27T15:08:30.298Z"
   },
   {
    "duration": 9,
    "start_time": "2022-05-27T15:08:33.997Z"
   },
   {
    "duration": 8,
    "start_time": "2022-05-27T15:08:36.205Z"
   },
   {
    "duration": 13,
    "start_time": "2022-05-27T15:08:38.673Z"
   },
   {
    "duration": 4,
    "start_time": "2022-05-27T15:08:42.214Z"
   },
   {
    "duration": 67,
    "start_time": "2022-05-27T15:08:44.644Z"
   },
   {
    "duration": 10,
    "start_time": "2022-05-27T15:08:48.813Z"
   },
   {
    "duration": 6,
    "start_time": "2022-05-27T15:08:50.044Z"
   },
   {
    "duration": 5,
    "start_time": "2022-05-27T15:08:51.103Z"
   },
   {
    "duration": 40,
    "start_time": "2022-05-27T15:08:54.543Z"
   },
   {
    "duration": 19,
    "start_time": "2022-05-27T15:09:03.174Z"
   },
   {
    "duration": 17,
    "start_time": "2022-05-27T15:09:10.064Z"
   },
   {
    "duration": 26,
    "start_time": "2022-05-27T15:09:13.324Z"
   },
   {
    "duration": 41,
    "start_time": "2022-05-27T15:09:18.614Z"
   },
   {
    "duration": 11,
    "start_time": "2022-05-27T15:10:09.318Z"
   },
   {
    "duration": 13,
    "start_time": "2022-05-27T15:16:32.843Z"
   },
   {
    "duration": 11,
    "start_time": "2022-05-27T15:22:59.353Z"
   },
   {
    "duration": 14,
    "start_time": "2022-05-27T15:24:04.416Z"
   },
   {
    "duration": 101,
    "start_time": "2022-05-27T15:24:33.067Z"
   },
   {
    "duration": 11,
    "start_time": "2022-05-27T15:24:37.752Z"
   },
   {
    "duration": 17,
    "start_time": "2022-05-27T15:24:42.168Z"
   },
   {
    "duration": 10,
    "start_time": "2022-05-27T15:24:47.271Z"
   },
   {
    "duration": 9,
    "start_time": "2022-05-27T15:24:50.699Z"
   },
   {
    "duration": 11,
    "start_time": "2022-05-27T15:24:53.572Z"
   },
   {
    "duration": 5,
    "start_time": "2022-05-27T15:24:56.303Z"
   },
   {
    "duration": 7,
    "start_time": "2022-05-27T15:24:59.668Z"
   },
   {
    "duration": 11,
    "start_time": "2022-05-27T15:25:02.002Z"
   },
   {
    "duration": 4,
    "start_time": "2022-05-27T15:25:04.661Z"
   },
   {
    "duration": 54,
    "start_time": "2022-05-27T15:25:07.173Z"
   },
   {
    "duration": 5,
    "start_time": "2022-05-27T15:25:10.812Z"
   },
   {
    "duration": 5,
    "start_time": "2022-05-27T15:25:12.006Z"
   },
   {
    "duration": 5,
    "start_time": "2022-05-27T15:25:12.924Z"
   },
   {
    "duration": 34,
    "start_time": "2022-05-27T15:25:13.972Z"
   },
   {
    "duration": 13,
    "start_time": "2022-05-27T15:25:17.945Z"
   },
   {
    "duration": 18,
    "start_time": "2022-05-27T15:25:26.794Z"
   },
   {
    "duration": 20,
    "start_time": "2022-05-27T15:25:31.832Z"
   },
   {
    "duration": 22,
    "start_time": "2022-05-27T15:25:36.371Z"
   },
   {
    "duration": 11,
    "start_time": "2022-05-27T15:53:24.644Z"
   },
   {
    "duration": 19,
    "start_time": "2022-05-27T15:53:48.064Z"
   },
   {
    "duration": 26,
    "start_time": "2022-05-27T15:55:13.605Z"
   },
   {
    "duration": 11,
    "start_time": "2022-05-27T15:58:04.016Z"
   },
   {
    "duration": 25,
    "start_time": "2022-05-27T15:58:46.221Z"
   },
   {
    "duration": 5,
    "start_time": "2022-05-27T16:12:51.944Z"
   },
   {
    "duration": 3,
    "start_time": "2022-05-27T16:21:41.315Z"
   },
   {
    "duration": 32,
    "start_time": "2022-05-27T16:32:03.855Z"
   },
   {
    "duration": 7,
    "start_time": "2022-05-27T16:41:16.030Z"
   },
   {
    "duration": 6,
    "start_time": "2022-05-27T16:44:19.273Z"
   },
   {
    "duration": 3,
    "start_time": "2022-05-27T16:45:28.051Z"
   },
   {
    "duration": 7,
    "start_time": "2022-05-27T16:45:42.511Z"
   },
   {
    "duration": 28,
    "start_time": "2022-05-27T16:48:18.309Z"
   },
   {
    "duration": 25,
    "start_time": "2022-05-27T16:52:24.502Z"
   },
   {
    "duration": 56,
    "start_time": "2022-05-27T20:11:21.573Z"
   },
   {
    "duration": 889,
    "start_time": "2022-05-27T20:11:37.385Z"
   },
   {
    "duration": 11,
    "start_time": "2022-05-27T20:11:47.909Z"
   },
   {
    "duration": 11,
    "start_time": "2022-05-27T20:11:54.304Z"
   },
   {
    "duration": 4,
    "start_time": "2022-05-27T20:11:59.120Z"
   },
   {
    "duration": 6,
    "start_time": "2022-05-27T20:12:01.230Z"
   },
   {
    "duration": 5,
    "start_time": "2022-05-27T20:12:04.688Z"
   },
   {
    "duration": 8,
    "start_time": "2022-05-27T20:12:07.385Z"
   },
   {
    "duration": 6,
    "start_time": "2022-05-27T20:12:10.380Z"
   },
   {
    "duration": 7,
    "start_time": "2022-05-27T20:12:13.428Z"
   },
   {
    "duration": 4,
    "start_time": "2022-05-27T20:12:16.868Z"
   },
   {
    "duration": 44,
    "start_time": "2022-05-27T20:12:19.844Z"
   },
   {
    "duration": 5,
    "start_time": "2022-05-27T20:12:24.465Z"
   },
   {
    "duration": 6,
    "start_time": "2022-05-27T20:12:27.495Z"
   },
   {
    "duration": 5,
    "start_time": "2022-05-27T20:12:29.864Z"
   },
   {
    "duration": 26,
    "start_time": "2022-05-27T20:12:30.727Z"
   },
   {
    "duration": 9,
    "start_time": "2022-05-27T20:12:36.121Z"
   },
   {
    "duration": 13,
    "start_time": "2022-05-27T20:12:41.289Z"
   },
   {
    "duration": 18,
    "start_time": "2022-05-27T20:12:45.833Z"
   },
   {
    "duration": 28,
    "start_time": "2022-05-27T20:12:50.379Z"
   },
   {
    "duration": 5,
    "start_time": "2022-05-27T20:12:57.017Z"
   },
   {
    "duration": 4,
    "start_time": "2022-05-27T20:13:00.708Z"
   },
   {
    "duration": 3,
    "start_time": "2022-05-27T20:13:06.362Z"
   },
   {
    "duration": 38,
    "start_time": "2022-05-27T20:52:46.785Z"
   },
   {
    "duration": 18,
    "start_time": "2022-05-27T20:53:00.201Z"
   },
   {
    "duration": 94,
    "start_time": "2022-05-27T20:54:15.364Z"
   },
   {
    "duration": 11,
    "start_time": "2022-05-27T20:54:20.556Z"
   },
   {
    "duration": 11,
    "start_time": "2022-05-27T20:54:26.081Z"
   },
   {
    "duration": 5,
    "start_time": "2022-05-27T20:54:31.761Z"
   },
   {
    "duration": 6,
    "start_time": "2022-05-27T20:54:34.192Z"
   },
   {
    "duration": 4,
    "start_time": "2022-05-27T20:54:38.126Z"
   },
   {
    "duration": 6,
    "start_time": "2022-05-27T20:54:42.912Z"
   },
   {
    "duration": 6,
    "start_time": "2022-05-27T20:54:46.320Z"
   },
   {
    "duration": 6,
    "start_time": "2022-05-27T20:54:51.382Z"
   },
   {
    "duration": 3,
    "start_time": "2022-05-27T20:54:54.499Z"
   },
   {
    "duration": 41,
    "start_time": "2022-05-27T20:54:58.260Z"
   },
   {
    "duration": 6,
    "start_time": "2022-05-27T20:55:02.471Z"
   },
   {
    "duration": 5,
    "start_time": "2022-05-27T20:55:05.343Z"
   },
   {
    "duration": 5,
    "start_time": "2022-05-27T20:55:08.369Z"
   },
   {
    "duration": 28,
    "start_time": "2022-05-27T20:55:12.290Z"
   },
   {
    "duration": 10,
    "start_time": "2022-05-27T20:55:17.810Z"
   },
   {
    "duration": 13,
    "start_time": "2022-05-27T20:55:22.861Z"
   },
   {
    "duration": 20,
    "start_time": "2022-05-27T20:55:29.711Z"
   },
   {
    "duration": 30,
    "start_time": "2022-05-27T20:55:35.176Z"
   },
   {
    "duration": 5,
    "start_time": "2022-05-27T20:55:43.682Z"
   },
   {
    "duration": 4,
    "start_time": "2022-05-27T20:55:47.170Z"
   },
   {
    "duration": 4,
    "start_time": "2022-05-27T20:55:52.554Z"
   },
   {
    "duration": 16,
    "start_time": "2022-05-27T20:55:56.112Z"
   },
   {
    "duration": 44,
    "start_time": "2022-05-27T20:56:30.394Z"
   },
   {
    "duration": 52,
    "start_time": "2022-05-27T20:57:45.463Z"
   },
   {
    "duration": 4,
    "start_time": "2022-05-27T21:00:57.198Z"
   },
   {
    "duration": 4,
    "start_time": "2022-05-27T21:01:18.058Z"
   },
   {
    "duration": 4,
    "start_time": "2022-05-27T21:04:10.596Z"
   },
   {
    "duration": 4,
    "start_time": "2022-05-27T21:10:34.328Z"
   },
   {
    "duration": 4,
    "start_time": "2022-05-27T21:10:38.902Z"
   },
   {
    "duration": 8,
    "start_time": "2022-05-27T21:11:18.582Z"
   },
   {
    "duration": 3,
    "start_time": "2022-05-27T21:14:49.633Z"
   },
   {
    "duration": 18,
    "start_time": "2022-05-27T21:18:45.726Z"
   },
   {
    "duration": 40,
    "start_time": "2022-05-27T21:25:20.928Z"
   },
   {
    "duration": 3,
    "start_time": "2022-05-27T21:25:38.767Z"
   },
   {
    "duration": 12,
    "start_time": "2022-05-27T21:25:46.051Z"
   },
   {
    "duration": 4,
    "start_time": "2022-05-27T21:26:23.315Z"
   },
   {
    "duration": 4,
    "start_time": "2022-05-27T21:26:39.467Z"
   },
   {
    "duration": 14,
    "start_time": "2022-05-27T21:29:19.606Z"
   },
   {
    "duration": 5,
    "start_time": "2022-05-27T21:30:43.789Z"
   },
   {
    "duration": 18,
    "start_time": "2022-05-27T21:30:48.151Z"
   },
   {
    "duration": 85,
    "start_time": "2022-05-27T21:33:52.704Z"
   },
   {
    "duration": 10,
    "start_time": "2022-05-27T21:34:15.842Z"
   },
   {
    "duration": 12,
    "start_time": "2022-05-27T21:34:28.267Z"
   },
   {
    "duration": 4,
    "start_time": "2022-05-27T21:34:32.266Z"
   },
   {
    "duration": 5,
    "start_time": "2022-05-27T21:34:34.618Z"
   },
   {
    "duration": 6,
    "start_time": "2022-05-27T21:34:38.513Z"
   },
   {
    "duration": 6,
    "start_time": "2022-05-27T21:34:42.777Z"
   },
   {
    "duration": 13,
    "start_time": "2022-05-27T21:34:46.990Z"
   },
   {
    "duration": 7,
    "start_time": "2022-05-27T21:34:50.366Z"
   },
   {
    "duration": 3,
    "start_time": "2022-05-27T21:34:53.620Z"
   },
   {
    "duration": 46,
    "start_time": "2022-05-27T21:34:57.028Z"
   },
   {
    "duration": 5,
    "start_time": "2022-05-27T21:35:02.341Z"
   },
   {
    "duration": 5,
    "start_time": "2022-05-27T21:35:06.371Z"
   },
   {
    "duration": 4,
    "start_time": "2022-05-27T21:35:10.164Z"
   },
   {
    "duration": 4,
    "start_time": "2022-05-27T21:35:16.036Z"
   },
   {
    "duration": 5,
    "start_time": "2022-05-27T21:35:18.965Z"
   },
   {
    "duration": 13,
    "start_time": "2022-05-27T21:35:29.297Z"
   },
   {
    "duration": 12,
    "start_time": "2022-05-27T21:36:16.253Z"
   },
   {
    "duration": 15,
    "start_time": "2022-05-27T21:36:22.253Z"
   },
   {
    "duration": 20,
    "start_time": "2022-05-27T21:36:31.117Z"
   },
   {
    "duration": 10,
    "start_time": "2022-05-27T21:36:38.615Z"
   },
   {
    "duration": 14,
    "start_time": "2022-05-27T21:36:45.028Z"
   },
   {
    "duration": 20,
    "start_time": "2022-05-27T21:36:50.059Z"
   },
   {
    "duration": 27,
    "start_time": "2022-05-27T21:36:57.629Z"
   },
   {
    "duration": 5,
    "start_time": "2022-05-27T21:37:05.806Z"
   },
   {
    "duration": 4,
    "start_time": "2022-05-27T21:37:12.357Z"
   },
   {
    "duration": 9,
    "start_time": "2022-05-27T21:37:22.825Z"
   },
   {
    "duration": 4,
    "start_time": "2022-05-27T21:37:26.967Z"
   },
   {
    "duration": 26,
    "start_time": "2022-05-27T21:38:10.996Z"
   },
   {
    "duration": 23,
    "start_time": "2022-05-27T21:39:07.698Z"
   },
   {
    "duration": 24,
    "start_time": "2022-05-27T21:40:41.630Z"
   },
   {
    "duration": 7,
    "start_time": "2022-05-27T21:43:22.323Z"
   },
   {
    "duration": 25,
    "start_time": "2022-05-27T21:43:45.350Z"
   },
   {
    "duration": 23,
    "start_time": "2022-05-27T21:50:21.278Z"
   },
   {
    "duration": 22,
    "start_time": "2022-05-27T21:53:30.926Z"
   },
   {
    "duration": 19,
    "start_time": "2022-05-27T21:56:38.016Z"
   },
   {
    "duration": 25,
    "start_time": "2022-05-27T21:58:03.699Z"
   },
   {
    "duration": 4,
    "start_time": "2022-05-27T21:59:50.558Z"
   },
   {
    "duration": 19,
    "start_time": "2022-05-27T21:59:50.583Z"
   },
   {
    "duration": 23,
    "start_time": "2022-05-27T21:59:50.604Z"
   },
   {
    "duration": 3,
    "start_time": "2022-05-27T22:00:51.170Z"
   },
   {
    "duration": 25,
    "start_time": "2022-05-27T22:01:55.526Z"
   },
   {
    "duration": 24,
    "start_time": "2022-05-27T22:03:47.425Z"
   },
   {
    "duration": 22,
    "start_time": "2022-05-27T22:04:18.628Z"
   },
   {
    "duration": 22,
    "start_time": "2022-05-27T22:07:20.940Z"
   },
   {
    "duration": 20,
    "start_time": "2022-05-27T22:07:32.498Z"
   },
   {
    "duration": 22,
    "start_time": "2022-05-27T22:07:57.300Z"
   },
   {
    "duration": 17,
    "start_time": "2022-05-27T22:09:21.186Z"
   },
   {
    "duration": 17,
    "start_time": "2022-05-27T22:11:23.272Z"
   },
   {
    "duration": 20,
    "start_time": "2022-05-27T22:16:01.766Z"
   },
   {
    "duration": 20,
    "start_time": "2022-05-27T22:16:24.503Z"
   },
   {
    "duration": 21,
    "start_time": "2022-05-27T22:16:54.310Z"
   },
   {
    "duration": 80,
    "start_time": "2022-05-27T22:21:10.456Z"
   },
   {
    "duration": 9,
    "start_time": "2022-05-27T22:21:10.538Z"
   },
   {
    "duration": 13,
    "start_time": "2022-05-27T22:21:10.549Z"
   },
   {
    "duration": 5,
    "start_time": "2022-05-27T22:21:10.564Z"
   },
   {
    "duration": 6,
    "start_time": "2022-05-27T22:21:10.595Z"
   },
   {
    "duration": 11,
    "start_time": "2022-05-27T22:21:10.602Z"
   },
   {
    "duration": 4,
    "start_time": "2022-05-27T22:21:10.615Z"
   },
   {
    "duration": 5,
    "start_time": "2022-05-27T22:21:10.621Z"
   },
   {
    "duration": 6,
    "start_time": "2022-05-27T22:21:10.627Z"
   },
   {
    "duration": 7,
    "start_time": "2022-05-27T22:21:10.635Z"
   },
   {
    "duration": 66,
    "start_time": "2022-05-27T22:21:10.643Z"
   },
   {
    "duration": 5,
    "start_time": "2022-05-27T22:21:10.711Z"
   },
   {
    "duration": 12,
    "start_time": "2022-05-27T22:21:10.717Z"
   },
   {
    "duration": 6,
    "start_time": "2022-05-27T22:21:10.731Z"
   },
   {
    "duration": 12,
    "start_time": "2022-05-27T22:21:10.738Z"
   },
   {
    "duration": 7,
    "start_time": "2022-05-27T22:21:10.753Z"
   },
   {
    "duration": 22,
    "start_time": "2022-05-27T22:21:10.762Z"
   },
   {
    "duration": 22,
    "start_time": "2022-05-27T22:21:10.786Z"
   },
   {
    "duration": 21,
    "start_time": "2022-05-27T22:21:10.810Z"
   },
   {
    "duration": 10,
    "start_time": "2022-05-27T22:21:10.833Z"
   },
   {
    "duration": 15,
    "start_time": "2022-05-27T22:21:10.844Z"
   },
   {
    "duration": 54,
    "start_time": "2022-05-27T22:21:10.861Z"
   },
   {
    "duration": 25,
    "start_time": "2022-05-27T22:21:10.917Z"
   },
   {
    "duration": 5,
    "start_time": "2022-05-27T22:21:10.943Z"
   },
   {
    "duration": 11,
    "start_time": "2022-05-27T22:21:10.949Z"
   },
   {
    "duration": 41,
    "start_time": "2022-05-27T22:21:10.962Z"
   },
   {
    "duration": 19,
    "start_time": "2022-05-27T22:21:11.006Z"
   },
   {
    "duration": 14,
    "start_time": "2022-05-27T22:21:11.027Z"
   },
   {
    "duration": 22,
    "start_time": "2022-05-27T22:21:11.043Z"
   },
   {
    "duration": 11,
    "start_time": "2022-05-27T22:23:39.049Z"
   },
   {
    "duration": 84,
    "start_time": "2022-05-27T22:23:55.717Z"
   },
   {
    "duration": 8,
    "start_time": "2022-05-27T22:23:55.803Z"
   },
   {
    "duration": 12,
    "start_time": "2022-05-27T22:23:55.813Z"
   },
   {
    "duration": 4,
    "start_time": "2022-05-27T22:23:55.827Z"
   },
   {
    "duration": 6,
    "start_time": "2022-05-27T22:23:55.832Z"
   },
   {
    "duration": 5,
    "start_time": "2022-05-27T22:23:55.839Z"
   },
   {
    "duration": 5,
    "start_time": "2022-05-27T22:23:55.846Z"
   },
   {
    "duration": 45,
    "start_time": "2022-05-27T22:23:55.852Z"
   },
   {
    "duration": 6,
    "start_time": "2022-05-27T22:23:55.899Z"
   },
   {
    "duration": 3,
    "start_time": "2022-05-27T22:23:55.907Z"
   },
   {
    "duration": 43,
    "start_time": "2022-05-27T22:23:55.912Z"
   },
   {
    "duration": 4,
    "start_time": "2022-05-27T22:23:55.957Z"
   },
   {
    "duration": 11,
    "start_time": "2022-05-27T22:23:55.963Z"
   },
   {
    "duration": 22,
    "start_time": "2022-05-27T22:23:55.975Z"
   },
   {
    "duration": 6,
    "start_time": "2022-05-27T22:23:55.999Z"
   },
   {
    "duration": 5,
    "start_time": "2022-05-27T22:23:56.006Z"
   },
   {
    "duration": 17,
    "start_time": "2022-05-27T22:23:56.012Z"
   },
   {
    "duration": 15,
    "start_time": "2022-05-27T22:23:56.030Z"
   },
   {
    "duration": 8,
    "start_time": "2022-05-27T22:23:56.046Z"
   },
   {
    "duration": 42,
    "start_time": "2022-05-27T22:23:56.056Z"
   },
   {
    "duration": 17,
    "start_time": "2022-05-27T22:23:56.100Z"
   },
   {
    "duration": 25,
    "start_time": "2022-05-27T22:23:56.119Z"
   },
   {
    "duration": 4,
    "start_time": "2022-05-27T22:23:56.146Z"
   },
   {
    "duration": 9,
    "start_time": "2022-05-27T22:23:56.152Z"
   },
   {
    "duration": 54,
    "start_time": "2022-05-27T22:23:56.162Z"
   },
   {
    "duration": 17,
    "start_time": "2022-05-27T22:23:56.217Z"
   },
   {
    "duration": 16,
    "start_time": "2022-05-27T22:23:56.235Z"
   },
   {
    "duration": 43,
    "start_time": "2022-05-27T22:23:56.253Z"
   },
   {
    "duration": 99,
    "start_time": "2022-05-27T22:25:37.187Z"
   },
   {
    "duration": 10,
    "start_time": "2022-05-27T22:25:37.288Z"
   },
   {
    "duration": 21,
    "start_time": "2022-05-27T22:25:37.300Z"
   },
   {
    "duration": 18,
    "start_time": "2022-05-27T22:25:37.324Z"
   },
   {
    "duration": 13,
    "start_time": "2022-05-27T22:25:37.345Z"
   },
   {
    "duration": 12,
    "start_time": "2022-05-27T22:25:37.359Z"
   },
   {
    "duration": 6,
    "start_time": "2022-05-27T22:25:37.373Z"
   },
   {
    "duration": 17,
    "start_time": "2022-05-27T22:25:37.381Z"
   },
   {
    "duration": 7,
    "start_time": "2022-05-27T22:25:37.400Z"
   },
   {
    "duration": 4,
    "start_time": "2022-05-27T22:25:37.409Z"
   },
   {
    "duration": 44,
    "start_time": "2022-05-27T22:25:37.415Z"
   },
   {
    "duration": 5,
    "start_time": "2022-05-27T22:25:37.461Z"
   },
   {
    "duration": 5,
    "start_time": "2022-05-27T22:25:37.495Z"
   },
   {
    "duration": 5,
    "start_time": "2022-05-27T22:25:37.502Z"
   },
   {
    "duration": 6,
    "start_time": "2022-05-27T22:25:37.509Z"
   },
   {
    "duration": 4,
    "start_time": "2022-05-27T22:25:37.517Z"
   },
   {
    "duration": 16,
    "start_time": "2022-05-27T22:25:37.522Z"
   },
   {
    "duration": 15,
    "start_time": "2022-05-27T22:25:37.540Z"
   },
   {
    "duration": 45,
    "start_time": "2022-05-27T22:25:37.557Z"
   },
   {
    "duration": 22,
    "start_time": "2022-05-27T22:25:37.604Z"
   },
   {
    "duration": 14,
    "start_time": "2022-05-27T22:25:37.628Z"
   },
   {
    "duration": 17,
    "start_time": "2022-05-27T22:25:37.644Z"
   },
   {
    "duration": 35,
    "start_time": "2022-05-27T22:25:37.663Z"
   },
   {
    "duration": 14,
    "start_time": "2022-05-27T22:25:37.700Z"
   },
   {
    "duration": 26,
    "start_time": "2022-05-27T22:25:37.716Z"
   },
   {
    "duration": 19,
    "start_time": "2022-05-27T22:25:37.744Z"
   },
   {
    "duration": 40,
    "start_time": "2022-05-27T22:25:37.765Z"
   },
   {
    "duration": 21,
    "start_time": "2022-05-27T22:25:37.808Z"
   },
   {
    "duration": 91,
    "start_time": "2022-05-27T22:55:34.355Z"
   },
   {
    "duration": 9,
    "start_time": "2022-05-27T22:55:34.448Z"
   },
   {
    "duration": 13,
    "start_time": "2022-05-27T22:55:34.458Z"
   },
   {
    "duration": 26,
    "start_time": "2022-05-27T22:55:34.473Z"
   },
   {
    "duration": 8,
    "start_time": "2022-05-27T22:55:34.504Z"
   },
   {
    "duration": 6,
    "start_time": "2022-05-27T22:55:34.514Z"
   },
   {
    "duration": 4,
    "start_time": "2022-05-27T22:55:34.522Z"
   },
   {
    "duration": 5,
    "start_time": "2022-05-27T22:55:34.528Z"
   },
   {
    "duration": 6,
    "start_time": "2022-05-27T22:55:34.534Z"
   },
   {
    "duration": 4,
    "start_time": "2022-05-27T22:55:34.543Z"
   },
   {
    "duration": 77,
    "start_time": "2022-05-27T22:55:34.549Z"
   },
   {
    "duration": 5,
    "start_time": "2022-05-27T22:55:34.628Z"
   },
   {
    "duration": 6,
    "start_time": "2022-05-27T22:55:34.635Z"
   },
   {
    "duration": 5,
    "start_time": "2022-05-27T22:55:34.643Z"
   },
   {
    "duration": 6,
    "start_time": "2022-05-27T22:55:34.650Z"
   },
   {
    "duration": 5,
    "start_time": "2022-05-27T22:55:34.657Z"
   },
   {
    "duration": 49,
    "start_time": "2022-05-27T22:55:34.664Z"
   },
   {
    "duration": 18,
    "start_time": "2022-05-27T22:55:34.715Z"
   },
   {
    "duration": 8,
    "start_time": "2022-05-27T22:55:34.735Z"
   },
   {
    "duration": 13,
    "start_time": "2022-05-27T22:55:34.784Z"
   },
   {
    "duration": 14,
    "start_time": "2022-05-27T22:55:34.811Z"
   },
   {
    "duration": 15,
    "start_time": "2022-05-27T22:55:34.851Z"
   },
   {
    "duration": 12,
    "start_time": "2022-05-27T22:55:34.868Z"
   },
   {
    "duration": 24,
    "start_time": "2022-05-27T22:55:34.881Z"
   },
   {
    "duration": 10,
    "start_time": "2022-05-27T22:55:34.908Z"
   },
   {
    "duration": 18,
    "start_time": "2022-05-27T22:55:34.931Z"
   },
   {
    "duration": 20,
    "start_time": "2022-05-27T22:55:34.982Z"
   },
   {
    "duration": 21,
    "start_time": "2022-05-27T22:55:35.056Z"
   },
   {
    "duration": 27,
    "start_time": "2022-05-27T23:00:30.391Z"
   },
   {
    "duration": 26,
    "start_time": "2022-05-27T23:05:08.165Z"
   },
   {
    "duration": 40,
    "start_time": "2022-05-27T23:10:00.768Z"
   },
   {
    "duration": 33,
    "start_time": "2022-05-27T23:12:09.800Z"
   },
   {
    "duration": 29,
    "start_time": "2022-05-27T23:13:05.821Z"
   },
   {
    "duration": 13,
    "start_time": "2022-05-27T23:18:49.322Z"
   },
   {
    "duration": 7,
    "start_time": "2022-05-27T23:21:16.461Z"
   },
   {
    "duration": 13,
    "start_time": "2022-05-27T23:21:23.978Z"
   },
   {
    "duration": 23,
    "start_time": "2022-05-27T23:22:28.226Z"
   },
   {
    "duration": 17,
    "start_time": "2022-05-27T23:22:53.065Z"
   },
   {
    "duration": 26,
    "start_time": "2022-05-27T23:24:18.802Z"
   },
   {
    "duration": 7,
    "start_time": "2022-05-27T23:24:50.131Z"
   },
   {
    "duration": 18,
    "start_time": "2022-05-27T23:31:17.739Z"
   },
   {
    "duration": 92,
    "start_time": "2022-05-27T23:33:47.053Z"
   },
   {
    "duration": 8,
    "start_time": "2022-05-27T23:33:47.146Z"
   },
   {
    "duration": 9,
    "start_time": "2022-05-27T23:33:47.156Z"
   },
   {
    "duration": 4,
    "start_time": "2022-05-27T23:33:47.167Z"
   },
   {
    "duration": 7,
    "start_time": "2022-05-27T23:33:47.195Z"
   },
   {
    "duration": 12,
    "start_time": "2022-05-27T23:33:47.205Z"
   },
   {
    "duration": 12,
    "start_time": "2022-05-27T23:33:47.219Z"
   },
   {
    "duration": 16,
    "start_time": "2022-05-27T23:33:47.233Z"
   },
   {
    "duration": 9,
    "start_time": "2022-05-27T23:33:47.251Z"
   },
   {
    "duration": 5,
    "start_time": "2022-05-27T23:33:47.263Z"
   },
   {
    "duration": 77,
    "start_time": "2022-05-27T23:33:47.270Z"
   },
   {
    "duration": 5,
    "start_time": "2022-05-27T23:33:47.349Z"
   },
   {
    "duration": 13,
    "start_time": "2022-05-27T23:33:47.356Z"
   },
   {
    "duration": 25,
    "start_time": "2022-05-27T23:33:47.371Z"
   },
   {
    "duration": 16,
    "start_time": "2022-05-27T23:33:47.398Z"
   },
   {
    "duration": 11,
    "start_time": "2022-05-27T23:33:47.416Z"
   },
   {
    "duration": 15,
    "start_time": "2022-05-27T23:33:47.429Z"
   },
   {
    "duration": 14,
    "start_time": "2022-05-27T23:33:47.446Z"
   },
   {
    "duration": 8,
    "start_time": "2022-05-27T23:33:47.461Z"
   },
   {
    "duration": 38,
    "start_time": "2022-05-27T23:33:47.472Z"
   },
   {
    "duration": 14,
    "start_time": "2022-05-27T23:33:47.512Z"
   },
   {
    "duration": 15,
    "start_time": "2022-05-27T23:33:47.527Z"
   },
   {
    "duration": 5,
    "start_time": "2022-05-27T23:33:47.544Z"
   },
   {
    "duration": 9,
    "start_time": "2022-05-27T23:33:47.550Z"
   },
   {
    "duration": 41,
    "start_time": "2022-05-27T23:33:47.560Z"
   },
   {
    "duration": 32,
    "start_time": "2022-05-27T23:33:47.603Z"
   },
   {
    "duration": 18,
    "start_time": "2022-05-27T23:33:47.637Z"
   },
   {
    "duration": 45,
    "start_time": "2022-05-27T23:33:47.657Z"
   },
   {
    "duration": 8,
    "start_time": "2022-05-27T23:33:47.704Z"
   },
   {
    "duration": 748,
    "start_time": "2022-05-28T06:39:45.499Z"
   },
   {
    "duration": 8,
    "start_time": "2022-05-28T06:39:46.249Z"
   },
   {
    "duration": 10,
    "start_time": "2022-05-28T06:39:46.258Z"
   },
   {
    "duration": 4,
    "start_time": "2022-05-28T06:39:46.270Z"
   },
   {
    "duration": 8,
    "start_time": "2022-05-28T06:39:46.275Z"
   },
   {
    "duration": 8,
    "start_time": "2022-05-28T06:39:46.285Z"
   },
   {
    "duration": 6,
    "start_time": "2022-05-28T06:39:46.294Z"
   },
   {
    "duration": 26,
    "start_time": "2022-05-28T06:39:46.302Z"
   },
   {
    "duration": 7,
    "start_time": "2022-05-28T06:39:46.329Z"
   },
   {
    "duration": 5,
    "start_time": "2022-05-28T06:39:46.338Z"
   },
   {
    "duration": 47,
    "start_time": "2022-05-28T06:39:46.344Z"
   },
   {
    "duration": 4,
    "start_time": "2022-05-28T06:39:46.393Z"
   },
   {
    "duration": 25,
    "start_time": "2022-05-28T06:39:46.398Z"
   },
   {
    "duration": 4,
    "start_time": "2022-05-28T06:39:46.425Z"
   },
   {
    "duration": 5,
    "start_time": "2022-05-28T06:39:46.431Z"
   },
   {
    "duration": 5,
    "start_time": "2022-05-28T06:39:46.438Z"
   },
   {
    "duration": 13,
    "start_time": "2022-05-28T06:39:46.444Z"
   },
   {
    "duration": 14,
    "start_time": "2022-05-28T06:39:46.459Z"
   },
   {
    "duration": 7,
    "start_time": "2022-05-28T06:39:46.475Z"
   },
   {
    "duration": 43,
    "start_time": "2022-05-28T06:39:46.484Z"
   },
   {
    "duration": 17,
    "start_time": "2022-05-28T06:39:46.529Z"
   },
   {
    "duration": 15,
    "start_time": "2022-05-28T06:39:46.548Z"
   },
   {
    "duration": 8,
    "start_time": "2022-05-28T06:39:46.565Z"
   },
   {
    "duration": 9,
    "start_time": "2022-05-28T06:39:46.575Z"
   },
   {
    "duration": 38,
    "start_time": "2022-05-28T06:39:46.586Z"
   },
   {
    "duration": 22,
    "start_time": "2022-05-28T06:39:46.626Z"
   },
   {
    "duration": 31,
    "start_time": "2022-05-28T06:39:46.651Z"
   },
   {
    "duration": 23,
    "start_time": "2022-05-28T06:39:46.685Z"
   },
   {
    "duration": 6,
    "start_time": "2022-05-28T06:39:46.722Z"
   },
   {
    "duration": 43,
    "start_time": "2022-05-28T20:19:33.244Z"
   },
   {
    "duration": 62,
    "start_time": "2022-05-28T20:19:56.952Z"
   },
   {
    "duration": 1161,
    "start_time": "2022-05-28T20:20:29.340Z"
   },
   {
    "duration": 16,
    "start_time": "2022-05-28T20:20:30.503Z"
   },
   {
    "duration": 13,
    "start_time": "2022-05-28T20:20:30.521Z"
   },
   {
    "duration": 9,
    "start_time": "2022-05-28T20:20:30.536Z"
   },
   {
    "duration": 39,
    "start_time": "2022-05-28T20:20:30.547Z"
   },
   {
    "duration": 25,
    "start_time": "2022-05-28T20:20:30.588Z"
   },
   {
    "duration": 19,
    "start_time": "2022-05-28T20:20:30.615Z"
   },
   {
    "duration": 28,
    "start_time": "2022-05-28T20:20:30.637Z"
   },
   {
    "duration": 39,
    "start_time": "2022-05-28T20:20:30.666Z"
   },
   {
    "duration": 9,
    "start_time": "2022-05-28T20:20:30.708Z"
   },
   {
    "duration": 66,
    "start_time": "2022-05-28T20:20:30.719Z"
   },
   {
    "duration": 7,
    "start_time": "2022-05-28T20:20:30.788Z"
   },
   {
    "duration": 19,
    "start_time": "2022-05-28T20:20:30.798Z"
   },
   {
    "duration": 16,
    "start_time": "2022-05-28T20:20:30.819Z"
   },
   {
    "duration": 15,
    "start_time": "2022-05-28T20:20:30.838Z"
   },
   {
    "duration": 18,
    "start_time": "2022-05-28T20:20:30.856Z"
   },
   {
    "duration": 34,
    "start_time": "2022-05-28T20:20:30.875Z"
   },
   {
    "duration": 37,
    "start_time": "2022-05-28T20:20:30.911Z"
   },
   {
    "duration": 11,
    "start_time": "2022-05-28T20:20:30.950Z"
   },
   {
    "duration": 36,
    "start_time": "2022-05-28T20:20:30.963Z"
   },
   {
    "duration": 17,
    "start_time": "2022-05-28T20:20:31.001Z"
   },
   {
    "duration": 17,
    "start_time": "2022-05-28T20:20:31.020Z"
   },
   {
    "duration": 26,
    "start_time": "2022-05-28T20:20:31.039Z"
   },
   {
    "duration": 18,
    "start_time": "2022-05-28T20:20:31.066Z"
   },
   {
    "duration": 23,
    "start_time": "2022-05-28T20:20:31.088Z"
   },
   {
    "duration": 32,
    "start_time": "2022-05-28T20:20:31.113Z"
   },
   {
    "duration": 31,
    "start_time": "2022-05-28T20:20:31.147Z"
   },
   {
    "duration": 28,
    "start_time": "2022-05-28T20:20:31.184Z"
   },
   {
    "duration": 8,
    "start_time": "2022-05-28T20:20:31.214Z"
   },
   {
    "duration": 101,
    "start_time": "2022-05-28T20:22:15.209Z"
   },
   {
    "duration": 10,
    "start_time": "2022-05-28T20:22:15.312Z"
   },
   {
    "duration": 14,
    "start_time": "2022-05-28T20:22:15.324Z"
   },
   {
    "duration": 36,
    "start_time": "2022-05-28T20:22:15.341Z"
   },
   {
    "duration": 10,
    "start_time": "2022-05-28T20:22:15.382Z"
   },
   {
    "duration": 11,
    "start_time": "2022-05-28T20:22:15.394Z"
   },
   {
    "duration": 7,
    "start_time": "2022-05-28T20:22:15.407Z"
   },
   {
    "duration": 9,
    "start_time": "2022-05-28T20:22:15.417Z"
   },
   {
    "duration": 9,
    "start_time": "2022-05-28T20:22:15.428Z"
   },
   {
    "duration": 9,
    "start_time": "2022-05-28T20:22:15.468Z"
   },
   {
    "duration": 55,
    "start_time": "2022-05-28T20:22:15.478Z"
   },
   {
    "duration": 5,
    "start_time": "2022-05-28T20:22:15.535Z"
   },
   {
    "duration": 7,
    "start_time": "2022-05-28T20:22:15.542Z"
   },
   {
    "duration": 18,
    "start_time": "2022-05-28T20:22:15.551Z"
   },
   {
    "duration": 16,
    "start_time": "2022-05-28T20:22:15.574Z"
   },
   {
    "duration": 8,
    "start_time": "2022-05-28T20:22:15.592Z"
   },
   {
    "duration": 17,
    "start_time": "2022-05-28T20:22:15.602Z"
   },
   {
    "duration": 20,
    "start_time": "2022-05-28T20:22:15.620Z"
   },
   {
    "duration": 16,
    "start_time": "2022-05-28T20:22:15.667Z"
   },
   {
    "duration": 20,
    "start_time": "2022-05-28T20:22:15.687Z"
   },
   {
    "duration": 18,
    "start_time": "2022-05-28T20:22:15.709Z"
   },
   {
    "duration": 41,
    "start_time": "2022-05-28T20:22:15.729Z"
   },
   {
    "duration": 16,
    "start_time": "2022-05-28T20:22:15.773Z"
   },
   {
    "duration": 20,
    "start_time": "2022-05-28T20:22:15.792Z"
   },
   {
    "duration": 9,
    "start_time": "2022-05-28T20:22:15.814Z"
   },
   {
    "duration": 45,
    "start_time": "2022-05-28T20:22:15.825Z"
   },
   {
    "duration": 26,
    "start_time": "2022-05-28T20:22:15.873Z"
   },
   {
    "duration": 32,
    "start_time": "2022-05-28T20:22:15.902Z"
   },
   {
    "duration": 8,
    "start_time": "2022-05-28T20:22:15.937Z"
   },
   {
    "duration": 103,
    "start_time": "2022-05-28T20:46:36.184Z"
   },
   {
    "duration": 10,
    "start_time": "2022-05-28T20:46:36.291Z"
   },
   {
    "duration": 13,
    "start_time": "2022-05-28T20:46:36.302Z"
   },
   {
    "duration": 5,
    "start_time": "2022-05-28T20:46:36.317Z"
   },
   {
    "duration": 46,
    "start_time": "2022-05-28T20:46:36.324Z"
   },
   {
    "duration": 8,
    "start_time": "2022-05-28T20:46:36.371Z"
   },
   {
    "duration": 19,
    "start_time": "2022-05-28T20:46:36.381Z"
   },
   {
    "duration": 9,
    "start_time": "2022-05-28T20:46:36.402Z"
   },
   {
    "duration": 8,
    "start_time": "2022-05-28T20:46:36.413Z"
   },
   {
    "duration": 4,
    "start_time": "2022-05-28T20:46:36.424Z"
   },
   {
    "duration": 86,
    "start_time": "2022-05-28T20:46:36.430Z"
   },
   {
    "duration": 6,
    "start_time": "2022-05-28T20:46:36.518Z"
   },
   {
    "duration": 9,
    "start_time": "2022-05-28T20:46:36.525Z"
   },
   {
    "duration": 31,
    "start_time": "2022-05-28T20:46:36.536Z"
   },
   {
    "duration": 8,
    "start_time": "2022-05-28T20:46:36.569Z"
   },
   {
    "duration": 32,
    "start_time": "2022-05-28T20:46:36.582Z"
   },
   {
    "duration": 26,
    "start_time": "2022-05-28T20:46:36.617Z"
   },
   {
    "duration": 27,
    "start_time": "2022-05-28T20:46:36.645Z"
   },
   {
    "duration": 11,
    "start_time": "2022-05-28T20:46:36.674Z"
   },
   {
    "duration": 30,
    "start_time": "2022-05-28T20:46:36.687Z"
   },
   {
    "duration": 20,
    "start_time": "2022-05-28T20:46:36.720Z"
   },
   {
    "duration": 47,
    "start_time": "2022-05-28T20:46:36.743Z"
   },
   {
    "duration": 10,
    "start_time": "2022-05-28T20:46:36.792Z"
   },
   {
    "duration": 20,
    "start_time": "2022-05-28T20:46:36.804Z"
   },
   {
    "duration": 14,
    "start_time": "2022-05-28T20:46:36.826Z"
   },
   {
    "duration": 47,
    "start_time": "2022-05-28T20:46:36.843Z"
   },
   {
    "duration": 23,
    "start_time": "2022-05-28T20:46:36.894Z"
   },
   {
    "duration": 49,
    "start_time": "2022-05-28T20:46:36.919Z"
   },
   {
    "duration": 18,
    "start_time": "2022-05-28T20:46:36.972Z"
   },
   {
    "duration": 4,
    "start_time": "2022-05-28T20:50:50.438Z"
   },
   {
    "duration": 28,
    "start_time": "2022-05-28T20:51:14.730Z"
   },
   {
    "duration": 32,
    "start_time": "2022-05-28T20:53:09.318Z"
   },
   {
    "duration": 27,
    "start_time": "2022-05-28T20:53:58.340Z"
   },
   {
    "duration": 27,
    "start_time": "2022-05-28T20:55:02.593Z"
   },
   {
    "duration": 29,
    "start_time": "2022-05-28T20:55:56.612Z"
   },
   {
    "duration": 41,
    "start_time": "2022-05-28T21:00:06.150Z"
   },
   {
    "duration": 20,
    "start_time": "2022-05-28T21:03:09.213Z"
   },
   {
    "duration": 442,
    "start_time": "2022-05-28T21:03:36.390Z"
   },
   {
    "duration": 28,
    "start_time": "2022-05-28T21:04:56.008Z"
   },
   {
    "duration": 61,
    "start_time": "2022-05-28T21:31:07.043Z"
   },
   {
    "duration": 53,
    "start_time": "2022-05-28T21:35:19.819Z"
   },
   {
    "duration": 45,
    "start_time": "2022-05-28T21:36:03.102Z"
   },
   {
    "duration": 60,
    "start_time": "2022-05-28T21:38:52.007Z"
   },
   {
    "duration": 28,
    "start_time": "2022-05-28T21:57:58.848Z"
   },
   {
    "duration": 25,
    "start_time": "2022-05-28T22:00:20.581Z"
   },
   {
    "duration": 26,
    "start_time": "2022-05-28T22:07:01.901Z"
   },
   {
    "duration": 23,
    "start_time": "2022-05-28T22:08:53.955Z"
   },
   {
    "duration": 26,
    "start_time": "2022-05-28T22:09:59.329Z"
   },
   {
    "duration": 28,
    "start_time": "2022-05-28T22:11:01.131Z"
   },
   {
    "duration": 28,
    "start_time": "2022-05-28T22:12:07.790Z"
   },
   {
    "duration": 28,
    "start_time": "2022-05-28T22:14:17.366Z"
   },
   {
    "duration": 29,
    "start_time": "2022-05-28T22:15:32.465Z"
   },
   {
    "duration": 21,
    "start_time": "2022-05-28T22:18:40.841Z"
   },
   {
    "duration": 20,
    "start_time": "2022-05-28T22:20:21.771Z"
   },
   {
    "duration": 23,
    "start_time": "2022-05-28T22:23:40.062Z"
   },
   {
    "duration": 22,
    "start_time": "2022-05-28T22:25:37.571Z"
   },
   {
    "duration": 21,
    "start_time": "2022-05-28T22:26:09.342Z"
   },
   {
    "duration": 19,
    "start_time": "2022-05-28T22:26:09.365Z"
   },
   {
    "duration": 2,
    "start_time": "2022-05-28T22:31:48.050Z"
   },
   {
    "duration": 96,
    "start_time": "2022-05-28T22:31:48.060Z"
   },
   {
    "duration": 10,
    "start_time": "2022-05-28T22:31:48.159Z"
   },
   {
    "duration": 16,
    "start_time": "2022-05-28T22:31:48.171Z"
   },
   {
    "duration": 5,
    "start_time": "2022-05-28T22:31:48.190Z"
   },
   {
    "duration": 9,
    "start_time": "2022-05-28T22:31:48.198Z"
   },
   {
    "duration": 11,
    "start_time": "2022-05-28T22:31:48.209Z"
   },
   {
    "duration": 10,
    "start_time": "2022-05-28T22:31:48.223Z"
   },
   {
    "duration": 8,
    "start_time": "2022-05-28T22:31:48.264Z"
   },
   {
    "duration": 9,
    "start_time": "2022-05-28T22:31:48.274Z"
   },
   {
    "duration": 5,
    "start_time": "2022-05-28T22:31:48.285Z"
   },
   {
    "duration": 74,
    "start_time": "2022-05-28T22:31:48.292Z"
   },
   {
    "duration": 6,
    "start_time": "2022-05-28T22:31:48.368Z"
   },
   {
    "duration": 8,
    "start_time": "2022-05-28T22:31:48.376Z"
   },
   {
    "duration": 6,
    "start_time": "2022-05-28T22:31:48.386Z"
   },
   {
    "duration": 5,
    "start_time": "2022-05-28T22:31:48.394Z"
   },
   {
    "duration": 8,
    "start_time": "2022-05-28T22:31:48.402Z"
   },
   {
    "duration": 56,
    "start_time": "2022-05-28T22:31:48.412Z"
   },
   {
    "duration": 18,
    "start_time": "2022-05-28T22:31:48.470Z"
   },
   {
    "duration": 11,
    "start_time": "2022-05-28T22:31:48.490Z"
   },
   {
    "duration": 29,
    "start_time": "2022-05-28T22:31:48.503Z"
   },
   {
    "duration": 38,
    "start_time": "2022-05-28T22:31:48.534Z"
   },
   {
    "duration": 19,
    "start_time": "2022-05-28T22:31:48.574Z"
   },
   {
    "duration": 8,
    "start_time": "2022-05-28T22:31:48.595Z"
   },
   {
    "duration": 11,
    "start_time": "2022-05-28T22:31:48.605Z"
   },
   {
    "duration": 16,
    "start_time": "2022-05-28T22:31:48.617Z"
   },
   {
    "duration": 49,
    "start_time": "2022-05-28T22:31:48.634Z"
   },
   {
    "duration": 20,
    "start_time": "2022-05-28T22:31:48.685Z"
   },
   {
    "duration": 26,
    "start_time": "2022-05-28T22:31:48.707Z"
   },
   {
    "duration": 22,
    "start_time": "2022-05-28T22:31:48.765Z"
   },
   {
    "duration": 3,
    "start_time": "2022-05-28T22:33:13.723Z"
   },
   {
    "duration": 104,
    "start_time": "2022-05-28T22:33:13.742Z"
   },
   {
    "duration": 10,
    "start_time": "2022-05-28T22:33:13.987Z"
   },
   {
    "duration": 11,
    "start_time": "2022-05-28T22:33:14.004Z"
   },
   {
    "duration": 5,
    "start_time": "2022-05-28T22:33:14.054Z"
   },
   {
    "duration": 7,
    "start_time": "2022-05-28T22:33:14.061Z"
   },
   {
    "duration": 7,
    "start_time": "2022-05-28T22:33:14.069Z"
   },
   {
    "duration": 7,
    "start_time": "2022-05-28T22:33:14.078Z"
   },
   {
    "duration": 7,
    "start_time": "2022-05-28T22:33:14.086Z"
   },
   {
    "duration": 10,
    "start_time": "2022-05-28T22:33:14.094Z"
   },
   {
    "duration": 14,
    "start_time": "2022-05-28T22:33:14.106Z"
   },
   {
    "duration": 60,
    "start_time": "2022-05-28T22:33:14.122Z"
   },
   {
    "duration": 5,
    "start_time": "2022-05-28T22:33:14.185Z"
   },
   {
    "duration": 11,
    "start_time": "2022-05-28T22:33:14.192Z"
   },
   {
    "duration": 6,
    "start_time": "2022-05-28T22:33:14.206Z"
   },
   {
    "duration": 9,
    "start_time": "2022-05-28T22:33:14.214Z"
   },
   {
    "duration": 8,
    "start_time": "2022-05-28T22:33:14.225Z"
   },
   {
    "duration": 49,
    "start_time": "2022-05-28T22:33:14.235Z"
   },
   {
    "duration": 22,
    "start_time": "2022-05-28T22:33:14.286Z"
   },
   {
    "duration": 10,
    "start_time": "2022-05-28T22:33:14.312Z"
   },
   {
    "duration": 49,
    "start_time": "2022-05-28T22:33:14.324Z"
   },
   {
    "duration": 16,
    "start_time": "2022-05-28T22:33:14.375Z"
   },
   {
    "duration": 20,
    "start_time": "2022-05-28T22:33:14.393Z"
   },
   {
    "duration": 5,
    "start_time": "2022-05-28T22:33:14.415Z"
   },
   {
    "duration": 45,
    "start_time": "2022-05-28T22:33:14.422Z"
   },
   {
    "duration": 16,
    "start_time": "2022-05-28T22:33:14.469Z"
   },
   {
    "duration": 26,
    "start_time": "2022-05-28T22:33:14.487Z"
   },
   {
    "duration": 19,
    "start_time": "2022-05-28T22:33:14.515Z"
   },
   {
    "duration": 45,
    "start_time": "2022-05-28T22:33:14.536Z"
   },
   {
    "duration": 29,
    "start_time": "2022-05-28T22:33:14.583Z"
   },
   {
    "duration": 5,
    "start_time": "2022-05-28T22:37:33.972Z"
   },
   {
    "duration": 16,
    "start_time": "2022-05-28T22:38:48.494Z"
   },
   {
    "duration": 8,
    "start_time": "2022-05-28T22:39:51.247Z"
   },
   {
    "duration": 8,
    "start_time": "2022-05-28T22:51:26.949Z"
   },
   {
    "duration": 15,
    "start_time": "2022-05-28T22:51:39.308Z"
   },
   {
    "duration": 17,
    "start_time": "2022-05-28T23:03:35.797Z"
   },
   {
    "duration": 15,
    "start_time": "2022-05-28T23:06:46.074Z"
   },
   {
    "duration": 10,
    "start_time": "2022-05-28T23:26:24.430Z"
   },
   {
    "duration": 20,
    "start_time": "2022-05-28T23:26:36.098Z"
   },
   {
    "duration": 21,
    "start_time": "2022-05-28T23:29:11.416Z"
   },
   {
    "duration": 8,
    "start_time": "2022-05-28T23:29:37.993Z"
   },
   {
    "duration": 28,
    "start_time": "2022-05-28T23:30:14.371Z"
   },
   {
    "duration": 21,
    "start_time": "2022-05-28T23:40:07.173Z"
   },
   {
    "duration": 4,
    "start_time": "2022-05-28T23:40:38.427Z"
   },
   {
    "duration": 307,
    "start_time": "2022-05-28T23:40:38.443Z"
   },
   {
    "duration": 0,
    "start_time": "2022-05-28T23:40:38.752Z"
   },
   {
    "duration": 0,
    "start_time": "2022-05-28T23:40:38.753Z"
   },
   {
    "duration": 0,
    "start_time": "2022-05-28T23:40:38.754Z"
   },
   {
    "duration": 0,
    "start_time": "2022-05-28T23:40:38.755Z"
   },
   {
    "duration": 0,
    "start_time": "2022-05-28T23:40:38.756Z"
   },
   {
    "duration": 0,
    "start_time": "2022-05-28T23:40:38.757Z"
   },
   {
    "duration": 0,
    "start_time": "2022-05-28T23:40:38.758Z"
   },
   {
    "duration": 0,
    "start_time": "2022-05-28T23:40:38.760Z"
   },
   {
    "duration": 0,
    "start_time": "2022-05-28T23:40:38.761Z"
   },
   {
    "duration": 0,
    "start_time": "2022-05-28T23:40:38.762Z"
   },
   {
    "duration": 0,
    "start_time": "2022-05-28T23:40:38.763Z"
   },
   {
    "duration": 0,
    "start_time": "2022-05-28T23:40:38.764Z"
   },
   {
    "duration": 0,
    "start_time": "2022-05-28T23:40:38.765Z"
   },
   {
    "duration": 0,
    "start_time": "2022-05-28T23:40:38.766Z"
   },
   {
    "duration": 0,
    "start_time": "2022-05-28T23:40:38.767Z"
   },
   {
    "duration": 0,
    "start_time": "2022-05-28T23:40:38.768Z"
   },
   {
    "duration": 0,
    "start_time": "2022-05-28T23:40:38.769Z"
   },
   {
    "duration": 0,
    "start_time": "2022-05-28T23:40:38.770Z"
   },
   {
    "duration": 3,
    "start_time": "2022-05-28T23:40:56.924Z"
   },
   {
    "duration": 91,
    "start_time": "2022-05-28T23:40:56.940Z"
   },
   {
    "duration": 10,
    "start_time": "2022-05-28T23:40:57.033Z"
   },
   {
    "duration": 28,
    "start_time": "2022-05-28T23:40:57.044Z"
   },
   {
    "duration": 6,
    "start_time": "2022-05-28T23:40:57.074Z"
   },
   {
    "duration": 7,
    "start_time": "2022-05-28T23:40:57.083Z"
   },
   {
    "duration": 8,
    "start_time": "2022-05-28T23:40:57.092Z"
   },
   {
    "duration": 19,
    "start_time": "2022-05-28T23:40:57.101Z"
   },
   {
    "duration": 19,
    "start_time": "2022-05-28T23:40:57.122Z"
   },
   {
    "duration": 26,
    "start_time": "2022-05-28T23:40:57.143Z"
   },
   {
    "duration": 7,
    "start_time": "2022-05-28T23:40:57.171Z"
   },
   {
    "duration": 29,
    "start_time": "2022-05-28T23:40:57.180Z"
   },
   {
    "duration": 4,
    "start_time": "2022-05-28T23:40:57.210Z"
   },
   {
    "duration": 77,
    "start_time": "2022-05-28T23:40:57.216Z"
   },
   {
    "duration": 5,
    "start_time": "2022-05-28T23:40:57.296Z"
   },
   {
    "duration": 7,
    "start_time": "2022-05-28T23:40:57.302Z"
   },
   {
    "duration": 14,
    "start_time": "2022-05-28T23:40:57.311Z"
   },
   {
    "duration": 21,
    "start_time": "2022-05-28T23:40:57.327Z"
   },
   {
    "duration": 12,
    "start_time": "2022-05-28T23:40:57.350Z"
   },
   {
    "duration": 32,
    "start_time": "2022-05-28T23:40:57.363Z"
   },
   {
    "duration": 29,
    "start_time": "2022-05-28T23:40:57.397Z"
   },
   {
    "duration": 13,
    "start_time": "2022-05-28T23:40:57.428Z"
   },
   {
    "duration": 34,
    "start_time": "2022-05-28T23:40:57.443Z"
   },
   {
    "duration": 55,
    "start_time": "2022-05-28T23:40:57.479Z"
   },
   {
    "duration": 16,
    "start_time": "2022-05-28T23:40:57.536Z"
   },
   {
    "duration": 24,
    "start_time": "2022-05-28T23:40:57.554Z"
   },
   {
    "duration": 11,
    "start_time": "2022-05-28T23:40:57.580Z"
   },
   {
    "duration": 14,
    "start_time": "2022-05-28T23:40:57.593Z"
   },
   {
    "duration": 36,
    "start_time": "2022-05-28T23:40:57.609Z"
   },
   {
    "duration": 19,
    "start_time": "2022-05-28T23:40:57.647Z"
   },
   {
    "duration": 25,
    "start_time": "2022-05-28T23:40:57.668Z"
   },
   {
    "duration": 23,
    "start_time": "2022-05-28T23:40:57.695Z"
   },
   {
    "duration": 22,
    "start_time": "2022-05-28T23:42:42.706Z"
   },
   {
    "duration": 11,
    "start_time": "2022-05-28T23:43:28.158Z"
   },
   {
    "duration": 3,
    "start_time": "2022-05-28T23:43:56.639Z"
   },
   {
    "duration": 337,
    "start_time": "2022-05-28T23:43:56.651Z"
   },
   {
    "duration": 0,
    "start_time": "2022-05-28T23:43:56.990Z"
   },
   {
    "duration": 0,
    "start_time": "2022-05-28T23:43:56.991Z"
   },
   {
    "duration": 0,
    "start_time": "2022-05-28T23:43:56.992Z"
   },
   {
    "duration": 0,
    "start_time": "2022-05-28T23:43:56.993Z"
   },
   {
    "duration": 0,
    "start_time": "2022-05-28T23:43:56.995Z"
   },
   {
    "duration": 0,
    "start_time": "2022-05-28T23:43:56.996Z"
   },
   {
    "duration": 0,
    "start_time": "2022-05-28T23:43:56.997Z"
   },
   {
    "duration": 0,
    "start_time": "2022-05-28T23:43:56.998Z"
   },
   {
    "duration": 0,
    "start_time": "2022-05-28T23:43:56.999Z"
   },
   {
    "duration": 0,
    "start_time": "2022-05-28T23:43:57.000Z"
   },
   {
    "duration": 0,
    "start_time": "2022-05-28T23:43:57.002Z"
   },
   {
    "duration": 0,
    "start_time": "2022-05-28T23:43:57.003Z"
   },
   {
    "duration": 0,
    "start_time": "2022-05-28T23:43:57.004Z"
   },
   {
    "duration": 0,
    "start_time": "2022-05-28T23:43:57.005Z"
   },
   {
    "duration": 0,
    "start_time": "2022-05-28T23:43:57.006Z"
   },
   {
    "duration": 0,
    "start_time": "2022-05-28T23:43:57.007Z"
   },
   {
    "duration": 0,
    "start_time": "2022-05-28T23:43:57.008Z"
   },
   {
    "duration": 0,
    "start_time": "2022-05-28T23:43:57.009Z"
   },
   {
    "duration": 3,
    "start_time": "2022-05-28T23:44:29.834Z"
   },
   {
    "duration": 105,
    "start_time": "2022-05-28T23:44:29.839Z"
   },
   {
    "duration": 10,
    "start_time": "2022-05-28T23:44:29.945Z"
   },
   {
    "duration": 11,
    "start_time": "2022-05-28T23:44:29.957Z"
   },
   {
    "duration": 5,
    "start_time": "2022-05-28T23:44:29.970Z"
   },
   {
    "duration": 6,
    "start_time": "2022-05-28T23:44:29.977Z"
   },
   {
    "duration": 6,
    "start_time": "2022-05-28T23:44:29.985Z"
   },
   {
    "duration": 5,
    "start_time": "2022-05-28T23:44:29.993Z"
   },
   {
    "duration": 7,
    "start_time": "2022-05-28T23:44:30.000Z"
   },
   {
    "duration": 7,
    "start_time": "2022-05-28T23:44:30.009Z"
   },
   {
    "duration": 50,
    "start_time": "2022-05-28T23:44:30.018Z"
   },
   {
    "duration": 13,
    "start_time": "2022-05-28T23:44:30.070Z"
   },
   {
    "duration": 4,
    "start_time": "2022-05-28T23:44:30.085Z"
   },
   {
    "duration": 50,
    "start_time": "2022-05-28T23:44:30.092Z"
   },
   {
    "duration": 25,
    "start_time": "2022-05-28T23:44:30.143Z"
   },
   {
    "duration": 14,
    "start_time": "2022-05-28T23:44:30.170Z"
   },
   {
    "duration": 8,
    "start_time": "2022-05-28T23:44:30.186Z"
   },
   {
    "duration": 14,
    "start_time": "2022-05-28T23:44:30.195Z"
   },
   {
    "duration": 17,
    "start_time": "2022-05-28T23:44:30.211Z"
   },
   {
    "duration": 38,
    "start_time": "2022-05-28T23:44:30.231Z"
   },
   {
    "duration": 19,
    "start_time": "2022-05-28T23:44:30.271Z"
   },
   {
    "duration": 9,
    "start_time": "2022-05-28T23:44:30.292Z"
   },
   {
    "duration": 32,
    "start_time": "2022-05-28T23:44:30.303Z"
   },
   {
    "duration": 15,
    "start_time": "2022-05-28T23:44:30.336Z"
   },
   {
    "duration": 18,
    "start_time": "2022-05-28T23:44:30.364Z"
   },
   {
    "duration": 26,
    "start_time": "2022-05-28T23:44:30.383Z"
   },
   {
    "duration": 12,
    "start_time": "2022-05-28T23:44:30.411Z"
   },
   {
    "duration": 19,
    "start_time": "2022-05-28T23:44:30.425Z"
   },
   {
    "duration": 35,
    "start_time": "2022-05-28T23:44:30.446Z"
   },
   {
    "duration": 20,
    "start_time": "2022-05-28T23:44:30.483Z"
   },
   {
    "duration": 21,
    "start_time": "2022-05-28T23:44:30.505Z"
   },
   {
    "duration": 47,
    "start_time": "2022-05-28T23:44:30.528Z"
   },
   {
    "duration": 11,
    "start_time": "2022-05-28T23:46:12.134Z"
   },
   {
    "duration": 6,
    "start_time": "2022-05-28T23:46:46.170Z"
   },
   {
    "duration": 6,
    "start_time": "2022-05-28T23:48:13.822Z"
   },
   {
    "duration": 4,
    "start_time": "2022-05-28T23:50:22.658Z"
   },
   {
    "duration": 7,
    "start_time": "2022-05-28T23:50:25.176Z"
   },
   {
    "duration": 10,
    "start_time": "2022-05-28T23:51:35.547Z"
   },
   {
    "duration": 9,
    "start_time": "2022-05-28T23:51:37.977Z"
   },
   {
    "duration": 5,
    "start_time": "2022-05-28T23:52:25.459Z"
   },
   {
    "duration": 6,
    "start_time": "2022-05-28T23:52:28.727Z"
   },
   {
    "duration": 8,
    "start_time": "2022-05-28T23:52:39.662Z"
   },
   {
    "duration": 21,
    "start_time": "2022-05-28T23:54:56.262Z"
   },
   {
    "duration": 2,
    "start_time": "2022-05-29T00:07:44.425Z"
   },
   {
    "duration": 97,
    "start_time": "2022-05-29T00:07:44.431Z"
   },
   {
    "duration": 9,
    "start_time": "2022-05-29T00:07:44.651Z"
   },
   {
    "duration": 12,
    "start_time": "2022-05-29T00:07:44.670Z"
   },
   {
    "duration": 5,
    "start_time": "2022-05-29T00:07:44.683Z"
   },
   {
    "duration": 7,
    "start_time": "2022-05-29T00:07:44.689Z"
   },
   {
    "duration": 5,
    "start_time": "2022-05-29T00:07:44.698Z"
   },
   {
    "duration": 6,
    "start_time": "2022-05-29T00:07:44.711Z"
   },
   {
    "duration": 6,
    "start_time": "2022-05-29T00:07:44.718Z"
   },
   {
    "duration": 6,
    "start_time": "2022-05-29T00:07:44.727Z"
   },
   {
    "duration": 6,
    "start_time": "2022-05-29T00:07:44.836Z"
   },
   {
    "duration": 9,
    "start_time": "2022-05-29T00:07:44.856Z"
   },
   {
    "duration": 7,
    "start_time": "2022-05-29T00:07:44.977Z"
   },
   {
    "duration": 24,
    "start_time": "2022-05-29T00:07:44.991Z"
   },
   {
    "duration": 5,
    "start_time": "2022-05-29T00:07:45.018Z"
   },
   {
    "duration": 66,
    "start_time": "2022-05-29T00:07:45.025Z"
   },
   {
    "duration": 6,
    "start_time": "2022-05-29T00:07:45.093Z"
   },
   {
    "duration": 9,
    "start_time": "2022-05-29T00:07:45.102Z"
   },
   {
    "duration": 6,
    "start_time": "2022-05-29T00:07:45.114Z"
   },
   {
    "duration": 7,
    "start_time": "2022-05-29T00:07:45.122Z"
   },
   {
    "duration": 33,
    "start_time": "2022-05-29T00:07:45.132Z"
   },
   {
    "duration": 18,
    "start_time": "2022-05-29T00:07:45.167Z"
   },
   {
    "duration": 17,
    "start_time": "2022-05-29T00:07:45.186Z"
   },
   {
    "duration": 9,
    "start_time": "2022-05-29T00:07:45.204Z"
   },
   {
    "duration": 17,
    "start_time": "2022-05-29T00:07:45.215Z"
   },
   {
    "duration": 18,
    "start_time": "2022-05-29T00:07:45.264Z"
   },
   {
    "duration": 22,
    "start_time": "2022-05-29T00:07:45.283Z"
   },
   {
    "duration": 6,
    "start_time": "2022-05-29T00:07:45.307Z"
   },
   {
    "duration": 13,
    "start_time": "2022-05-29T00:07:45.316Z"
   },
   {
    "duration": 45,
    "start_time": "2022-05-29T00:07:45.331Z"
   },
   {
    "duration": 22,
    "start_time": "2022-05-29T00:07:45.378Z"
   },
   {
    "duration": 20,
    "start_time": "2022-05-29T00:07:45.402Z"
   },
   {
    "duration": 47,
    "start_time": "2022-05-29T00:07:45.423Z"
   },
   {
    "duration": 21,
    "start_time": "2022-05-29T00:07:45.472Z"
   },
   {
    "duration": 3,
    "start_time": "2022-05-29T00:11:19.444Z"
   },
   {
    "duration": 95,
    "start_time": "2022-05-29T00:11:19.451Z"
   },
   {
    "duration": 10,
    "start_time": "2022-05-29T00:11:19.549Z"
   },
   {
    "duration": 12,
    "start_time": "2022-05-29T00:11:19.564Z"
   },
   {
    "duration": 5,
    "start_time": "2022-05-29T00:11:19.578Z"
   },
   {
    "duration": 8,
    "start_time": "2022-05-29T00:11:19.585Z"
   },
   {
    "duration": 6,
    "start_time": "2022-05-29T00:11:19.595Z"
   },
   {
    "duration": 7,
    "start_time": "2022-05-29T00:11:19.603Z"
   },
   {
    "duration": 10,
    "start_time": "2022-05-29T00:11:19.612Z"
   },
   {
    "duration": 47,
    "start_time": "2022-05-29T00:11:19.624Z"
   },
   {
    "duration": 7,
    "start_time": "2022-05-29T00:11:19.674Z"
   },
   {
    "duration": 12,
    "start_time": "2022-05-29T00:11:19.682Z"
   },
   {
    "duration": 8,
    "start_time": "2022-05-29T00:11:19.697Z"
   },
   {
    "duration": 25,
    "start_time": "2022-05-29T00:11:19.707Z"
   },
   {
    "duration": 5,
    "start_time": "2022-05-29T00:11:19.765Z"
   },
   {
    "duration": 51,
    "start_time": "2022-05-29T00:11:19.772Z"
   },
   {
    "duration": 7,
    "start_time": "2022-05-29T00:11:19.825Z"
   },
   {
    "duration": 32,
    "start_time": "2022-05-29T00:11:19.833Z"
   },
   {
    "duration": 5,
    "start_time": "2022-05-29T00:11:19.866Z"
   },
   {
    "duration": 10,
    "start_time": "2022-05-29T00:11:19.873Z"
   },
   {
    "duration": 11,
    "start_time": "2022-05-29T00:11:19.884Z"
   },
   {
    "duration": 17,
    "start_time": "2022-05-29T00:11:19.897Z"
   },
   {
    "duration": 16,
    "start_time": "2022-05-29T00:11:19.915Z"
   },
   {
    "duration": 37,
    "start_time": "2022-05-29T00:11:19.933Z"
   },
   {
    "duration": 19,
    "start_time": "2022-05-29T00:11:19.972Z"
   },
   {
    "duration": 16,
    "start_time": "2022-05-29T00:11:19.993Z"
   },
   {
    "duration": 17,
    "start_time": "2022-05-29T00:11:20.011Z"
   },
   {
    "duration": 36,
    "start_time": "2022-05-29T00:11:20.030Z"
   },
   {
    "duration": 10,
    "start_time": "2022-05-29T00:11:20.068Z"
   },
   {
    "duration": 20,
    "start_time": "2022-05-29T00:11:20.079Z"
   },
   {
    "duration": 36,
    "start_time": "2022-05-29T00:11:20.101Z"
   },
   {
    "duration": 25,
    "start_time": "2022-05-29T00:11:20.139Z"
   },
   {
    "duration": 24,
    "start_time": "2022-05-29T00:11:20.166Z"
   },
   {
    "duration": 21,
    "start_time": "2022-05-29T00:11:20.192Z"
   },
   {
    "duration": 3,
    "start_time": "2022-05-29T00:15:22.760Z"
   },
   {
    "duration": 95,
    "start_time": "2022-05-29T00:15:22.775Z"
   },
   {
    "duration": 10,
    "start_time": "2022-05-29T00:15:22.871Z"
   },
   {
    "duration": 13,
    "start_time": "2022-05-29T00:15:22.883Z"
   },
   {
    "duration": 7,
    "start_time": "2022-05-29T00:15:22.898Z"
   },
   {
    "duration": 9,
    "start_time": "2022-05-29T00:15:22.907Z"
   },
   {
    "duration": 10,
    "start_time": "2022-05-29T00:15:22.918Z"
   },
   {
    "duration": 5,
    "start_time": "2022-05-29T00:15:22.930Z"
   },
   {
    "duration": 6,
    "start_time": "2022-05-29T00:15:22.965Z"
   },
   {
    "duration": 7,
    "start_time": "2022-05-29T00:15:22.973Z"
   },
   {
    "duration": 6,
    "start_time": "2022-05-29T00:15:23.070Z"
   },
   {
    "duration": 9,
    "start_time": "2022-05-29T00:15:23.085Z"
   },
   {
    "duration": 8,
    "start_time": "2022-05-29T00:15:23.096Z"
   },
   {
    "duration": 20,
    "start_time": "2022-05-29T00:15:23.105Z"
   },
   {
    "duration": 3,
    "start_time": "2022-05-29T00:15:23.128Z"
   },
   {
    "duration": 55,
    "start_time": "2022-05-29T00:15:23.132Z"
   },
   {
    "duration": 6,
    "start_time": "2022-05-29T00:15:23.314Z"
   },
   {
    "duration": 5,
    "start_time": "2022-05-29T00:15:23.329Z"
   },
   {
    "duration": 6,
    "start_time": "2022-05-29T00:15:23.336Z"
   },
   {
    "duration": 4,
    "start_time": "2022-05-29T00:15:23.343Z"
   },
   {
    "duration": 3,
    "start_time": "2022-05-29T00:15:23.351Z"
   },
   {
    "duration": 15,
    "start_time": "2022-05-29T00:15:23.356Z"
   },
   {
    "duration": 15,
    "start_time": "2022-05-29T00:15:23.373Z"
   },
   {
    "duration": 9,
    "start_time": "2022-05-29T00:15:23.390Z"
   },
   {
    "duration": 16,
    "start_time": "2022-05-29T00:15:23.401Z"
   },
   {
    "duration": 52,
    "start_time": "2022-05-29T00:15:23.418Z"
   },
   {
    "duration": 17,
    "start_time": "2022-05-29T00:15:23.472Z"
   },
   {
    "duration": 12,
    "start_time": "2022-05-29T00:15:23.491Z"
   },
   {
    "duration": 10,
    "start_time": "2022-05-29T00:15:23.505Z"
   },
   {
    "duration": 12,
    "start_time": "2022-05-29T00:15:23.517Z"
   },
   {
    "duration": 64,
    "start_time": "2022-05-29T00:15:23.531Z"
   },
   {
    "duration": 24,
    "start_time": "2022-05-29T00:15:23.598Z"
   },
   {
    "duration": 43,
    "start_time": "2022-05-29T00:15:23.624Z"
   },
   {
    "duration": 22,
    "start_time": "2022-05-29T00:15:23.669Z"
   },
   {
    "duration": 32,
    "start_time": "2022-05-29T00:19:52.687Z"
   },
   {
    "duration": 19,
    "start_time": "2022-05-29T00:20:19.892Z"
   },
   {
    "duration": 19,
    "start_time": "2022-05-29T00:20:49.236Z"
   },
   {
    "duration": 17,
    "start_time": "2022-05-29T00:21:20.177Z"
   },
   {
    "duration": 20,
    "start_time": "2022-05-29T00:21:41.665Z"
   },
   {
    "duration": 18,
    "start_time": "2022-05-29T00:22:05.017Z"
   },
   {
    "duration": 2,
    "start_time": "2022-05-29T00:22:29.545Z"
   },
   {
    "duration": 96,
    "start_time": "2022-05-29T00:22:29.549Z"
   },
   {
    "duration": 9,
    "start_time": "2022-05-29T00:22:29.646Z"
   },
   {
    "duration": 11,
    "start_time": "2022-05-29T00:22:29.656Z"
   },
   {
    "duration": 6,
    "start_time": "2022-05-29T00:22:29.669Z"
   },
   {
    "duration": 8,
    "start_time": "2022-05-29T00:22:29.677Z"
   },
   {
    "duration": 9,
    "start_time": "2022-05-29T00:22:29.687Z"
   },
   {
    "duration": 9,
    "start_time": "2022-05-29T00:22:29.698Z"
   },
   {
    "duration": 7,
    "start_time": "2022-05-29T00:22:29.709Z"
   },
   {
    "duration": 9,
    "start_time": "2022-05-29T00:22:29.718Z"
   },
   {
    "duration": 8,
    "start_time": "2022-05-29T00:22:29.729Z"
   },
   {
    "duration": 33,
    "start_time": "2022-05-29T00:22:29.739Z"
   },
   {
    "duration": 7,
    "start_time": "2022-05-29T00:22:29.774Z"
   },
   {
    "duration": 22,
    "start_time": "2022-05-29T00:22:29.784Z"
   },
   {
    "duration": 3,
    "start_time": "2022-05-29T00:22:29.808Z"
   },
   {
    "duration": 61,
    "start_time": "2022-05-29T00:22:29.814Z"
   },
   {
    "duration": 6,
    "start_time": "2022-05-29T00:22:29.877Z"
   },
   {
    "duration": 12,
    "start_time": "2022-05-29T00:22:29.885Z"
   },
   {
    "duration": 17,
    "start_time": "2022-05-29T00:22:29.900Z"
   },
   {
    "duration": 7,
    "start_time": "2022-05-29T00:22:29.919Z"
   },
   {
    "duration": 12,
    "start_time": "2022-05-29T00:22:29.927Z"
   },
   {
    "duration": 33,
    "start_time": "2022-05-29T00:22:29.940Z"
   },
   {
    "duration": 16,
    "start_time": "2022-05-29T00:22:29.974Z"
   },
   {
    "duration": 8,
    "start_time": "2022-05-29T00:22:29.992Z"
   },
   {
    "duration": 72,
    "start_time": "2022-05-29T00:22:30.002Z"
   },
   {
    "duration": 15,
    "start_time": "2022-05-29T00:22:30.075Z"
   },
   {
    "duration": 15,
    "start_time": "2022-05-29T00:22:30.092Z"
   },
   {
    "duration": 6,
    "start_time": "2022-05-29T00:22:30.165Z"
   },
   {
    "duration": 23,
    "start_time": "2022-05-29T00:22:30.173Z"
   },
   {
    "duration": 8,
    "start_time": "2022-05-29T00:22:30.198Z"
   },
   {
    "duration": 26,
    "start_time": "2022-05-29T00:22:30.208Z"
   },
   {
    "duration": 44,
    "start_time": "2022-05-29T00:22:30.236Z"
   },
   {
    "duration": 23,
    "start_time": "2022-05-29T00:22:30.282Z"
   },
   {
    "duration": 29,
    "start_time": "2022-05-29T00:22:30.306Z"
   },
   {
    "duration": 23,
    "start_time": "2022-05-29T00:25:06.489Z"
   },
   {
    "duration": 21,
    "start_time": "2022-05-29T00:25:06.514Z"
   },
   {
    "duration": 20,
    "start_time": "2022-05-29T00:25:06.536Z"
   },
   {
    "duration": 3,
    "start_time": "2022-05-29T01:11:53.447Z"
   },
   {
    "duration": 91,
    "start_time": "2022-05-29T01:11:53.454Z"
   },
   {
    "duration": 10,
    "start_time": "2022-05-29T01:11:53.547Z"
   },
   {
    "duration": 12,
    "start_time": "2022-05-29T01:11:53.559Z"
   },
   {
    "duration": 5,
    "start_time": "2022-05-29T01:11:53.573Z"
   },
   {
    "duration": 8,
    "start_time": "2022-05-29T01:11:53.579Z"
   },
   {
    "duration": 14,
    "start_time": "2022-05-29T01:11:53.588Z"
   },
   {
    "duration": 7,
    "start_time": "2022-05-29T01:11:53.604Z"
   },
   {
    "duration": 12,
    "start_time": "2022-05-29T01:11:53.613Z"
   },
   {
    "duration": 40,
    "start_time": "2022-05-29T01:11:53.627Z"
   },
   {
    "duration": 11,
    "start_time": "2022-05-29T01:11:53.671Z"
   },
   {
    "duration": 10,
    "start_time": "2022-05-29T01:11:53.684Z"
   },
   {
    "duration": 7,
    "start_time": "2022-05-29T01:11:53.696Z"
   },
   {
    "duration": 24,
    "start_time": "2022-05-29T01:11:53.704Z"
   },
   {
    "duration": 4,
    "start_time": "2022-05-29T01:11:53.730Z"
   },
   {
    "duration": 30,
    "start_time": "2022-05-29T01:11:53.764Z"
   },
   {
    "duration": 5,
    "start_time": "2022-05-29T01:11:53.795Z"
   },
   {
    "duration": 6,
    "start_time": "2022-05-29T01:11:53.802Z"
   },
   {
    "duration": 5,
    "start_time": "2022-05-29T01:11:53.809Z"
   },
   {
    "duration": 7,
    "start_time": "2022-05-29T01:11:53.816Z"
   },
   {
    "duration": 42,
    "start_time": "2022-05-29T01:11:53.824Z"
   },
   {
    "duration": 17,
    "start_time": "2022-05-29T01:11:53.868Z"
   },
   {
    "duration": 16,
    "start_time": "2022-05-29T01:11:53.887Z"
   },
   {
    "duration": 9,
    "start_time": "2022-05-29T01:11:53.906Z"
   },
   {
    "duration": 48,
    "start_time": "2022-05-29T01:11:53.917Z"
   },
   {
    "duration": 17,
    "start_time": "2022-05-29T01:11:53.967Z"
   },
   {
    "duration": 19,
    "start_time": "2022-05-29T01:11:53.986Z"
   },
   {
    "duration": 8,
    "start_time": "2022-05-29T01:11:54.007Z"
   },
   {
    "duration": 11,
    "start_time": "2022-05-29T01:11:54.018Z"
   },
   {
    "duration": 9,
    "start_time": "2022-05-29T01:11:54.065Z"
   },
   {
    "duration": 21,
    "start_time": "2022-05-29T01:11:54.076Z"
   },
   {
    "duration": 15,
    "start_time": "2022-05-29T01:11:54.098Z"
   },
   {
    "duration": 19,
    "start_time": "2022-05-29T01:11:54.115Z"
   },
   {
    "duration": 19,
    "start_time": "2022-05-29T01:11:54.165Z"
   }
  ],
  "kernelspec": {
   "display_name": "Python 3 (ipykernel)",
   "language": "python",
   "name": "python3"
  },
  "language_info": {
   "codemirror_mode": {
    "name": "ipython",
    "version": 3
   },
   "file_extension": ".py",
   "mimetype": "text/x-python",
   "name": "python",
   "nbconvert_exporter": "python",
   "pygments_lexer": "ipython3",
   "version": "3.9.12"
  },
  "toc": {
   "base_numbering": 1,
   "nav_menu": {},
   "number_sections": true,
   "sideBar": true,
   "skip_h1_title": true,
   "title_cell": "Table of Contents",
   "title_sidebar": "Contents",
   "toc_cell": false,
   "toc_position": {
    "height": "calc(100% - 180px)",
    "left": "10px",
    "top": "150px",
    "width": "383.188px"
   },
   "toc_section_display": true,
   "toc_window_display": true
  }
 },
 "nbformat": 4,
 "nbformat_minor": 5
}
