{
 "cells": [
  {
   "cell_type": "markdown",
   "metadata": {
    "toc": true
   },
   "source": [
    "<h1>Содержание<span class=\"tocSkip\"></span></h1>\n",
    "<div class=\"toc\"><ul class=\"toc-item\"><li><span><a href=\"#Описание-проекта\" data-toc-modified-id=\"Описание-проекта-1\"><span class=\"toc-item-num\">1&nbsp;&nbsp;</span>Описание проекта</a></span><ul class=\"toc-item\"><li><span><a href=\"#Контекст-проекта\" data-toc-modified-id=\"Контекст-проекта-1.1\"><span class=\"toc-item-num\">1.1&nbsp;&nbsp;</span>Контекст проекта</a></span></li><li><span><a href=\"#Описание-данных\" data-toc-modified-id=\"Описание-данных-1.2\"><span class=\"toc-item-num\">1.2&nbsp;&nbsp;</span>Описание данных</a></span></li><li><span><a href=\"#Цели-проекта\" data-toc-modified-id=\"Цели-проекта-1.3\"><span class=\"toc-item-num\">1.3&nbsp;&nbsp;</span>Цели проекта</a></span><ul class=\"toc-item\"><li><span><a href=\"#Часть-1\" data-toc-modified-id=\"Часть-1-1.3.1\"><span class=\"toc-item-num\">1.3.1&nbsp;&nbsp;</span>Часть 1</a></span></li><li><span><a href=\"#Часть-2\" data-toc-modified-id=\"Часть-2-1.3.2\"><span class=\"toc-item-num\">1.3.2&nbsp;&nbsp;</span>Часть 2</a></span></li></ul></li></ul></li><li><span><a href=\"#Открытие-и-изучение-файлов-данных\" data-toc-modified-id=\"Открытие-и-изучение-файлов-данных-2\"><span class=\"toc-item-num\">2&nbsp;&nbsp;</span>Открытие и изучение файлов данных</a></span><ul class=\"toc-item\"><li><span><a href=\"#Импорт-библиотек\" data-toc-modified-id=\"Импорт-библиотек-2.1\"><span class=\"toc-item-num\">2.1&nbsp;&nbsp;</span>Импорт библиотек</a></span></li><li><span><a href=\"#Открытие-и-исследование-файлов-данных\" data-toc-modified-id=\"Открытие-и-исследование-файлов-данных-2.2\"><span class=\"toc-item-num\">2.2&nbsp;&nbsp;</span>Открытие и исследование файлов данных</a></span></li></ul></li><li><span><a href=\"#Решение-задач-по-проекту\" data-toc-modified-id=\"Решение-задач-по-проекту-3\"><span class=\"toc-item-num\">3&nbsp;&nbsp;</span>Решение задач по проекту</a></span><ul class=\"toc-item\"><li><span><a href=\"#Часть-1\" data-toc-modified-id=\"Часть-1-3.1\"><span class=\"toc-item-num\">3.1&nbsp;&nbsp;</span>Часть 1</a></span><ul class=\"toc-item\"><li><span><a href=\"#Применение-фреймворка-ICE-для-приоритизации-гипотез-(сортировка-по-убыванию-приоритета).\" data-toc-modified-id=\"Применение-фреймворка-ICE-для-приоритизации-гипотез-(сортировка-по-убыванию-приоритета).-3.1.1\"><span class=\"toc-item-num\">3.1.1&nbsp;&nbsp;</span>Применение фреймворка ICE для приоритизации гипотез (сортировка по убыванию приоритета).</a></span></li><li><span><a href=\"#Применение-фреймворка-RICE-для-приоритизации-гипотез-(сортировка-по-убыванию-приоритета).\" data-toc-modified-id=\"Применение-фреймворка-RICE-для-приоритизации-гипотез-(сортировка-по-убыванию-приоритета).-3.1.2\"><span class=\"toc-item-num\">3.1.2&nbsp;&nbsp;</span>Применение фреймворка RICE для приоритизации гипотез (сортировка по убыванию приоритета).</a></span></li><li><span><a href=\"#Оценка-изменения-приоритизации-гипотез-при-применении-RICE-вместо-ICE.\" data-toc-modified-id=\"Оценка-изменения-приоритизации-гипотез-при-применении-RICE-вместо-ICE.-3.1.3\"><span class=\"toc-item-num\">3.1.3&nbsp;&nbsp;</span>Оценка изменения приоритизации гипотез при применении RICE вместо ICE.</a></span></li></ul></li><li><span><a href=\"#Часть-2\" data-toc-modified-id=\"Часть-2-3.2\"><span class=\"toc-item-num\">3.2&nbsp;&nbsp;</span>Часть 2</a></span><ul class=\"toc-item\"><li><span><a href=\"#Построение-графика-кумулятивной-выручки-по-группам.-Выводы-и-предположения.\" data-toc-modified-id=\"Построение-графика-кумулятивной-выручки-по-группам.-Выводы-и-предположения.-3.2.1\"><span class=\"toc-item-num\">3.2.1&nbsp;&nbsp;</span>Построение графика кумулятивной выручки по группам. Выводы и предположения.</a></span></li><li><span><a href=\"#Построение-графика-кумулятивного-среднего-чека-по-группам.-Выводы-и-предположения.\" data-toc-modified-id=\"Построение-графика-кумулятивного-среднего-чека-по-группам.-Выводы-и-предположения.-3.2.2\"><span class=\"toc-item-num\">3.2.2&nbsp;&nbsp;</span>Построение графика кумулятивного среднего чека по группам. Выводы и предположения.</a></span></li><li><span><a href=\"#Построение-графика-относительного-изменения-кумулятивного-среднего-чека-группы-B-к-группе-A.-Выводы-и-предположения.\" data-toc-modified-id=\"Построение-графика-относительного-изменения-кумулятивного-среднего-чека-группы-B-к-группе-A.-Выводы-и-предположения.-3.2.3\"><span class=\"toc-item-num\">3.2.3&nbsp;&nbsp;</span>Построение графика относительного изменения кумулятивного среднего чека группы B к группе A. Выводы и предположения.</a></span></li><li><span><a href=\"#Построение-графика-кумулятивной-конверсии-по-группам.-Выводы-и-предположения.\" data-toc-modified-id=\"Построение-графика-кумулятивной-конверсии-по-группам.-Выводы-и-предположения.-3.2.4\"><span class=\"toc-item-num\">3.2.4&nbsp;&nbsp;</span>Построение графика кумулятивной конверсии по группам. Выводы и предположения.</a></span></li><li><span><a href=\"#Построение-графика-относительного-изменения-кумулятивной-конверсии-группы-B-к-группе-A.-Выводы-и-предположения.\" data-toc-modified-id=\"Построение-графика-относительного-изменения-кумулятивной-конверсии-группы-B-к-группе-A.-Выводы-и-предположения.-3.2.5\"><span class=\"toc-item-num\">3.2.5&nbsp;&nbsp;</span>Построение графика относительного изменения кумулятивной конверсии группы B к группе A. Выводы и предположения.</a></span></li><li><span><a href=\"#Построение-точечного-графика-количества-заказов-по-пользователям.-Выводы-и-предположения.\" data-toc-modified-id=\"Построение-точечного-графика-количества-заказов-по-пользователям.-Выводы-и-предположения.-3.2.6\"><span class=\"toc-item-num\">3.2.6&nbsp;&nbsp;</span>Построение точечного графика количества заказов по пользователям. Выводы и предположения.</a></span></li><li><span><a href=\"#Расчет-95-й-и-99-й-перцентили-количества-заказов-на-пользователя.-Выбор-границы-для-определения-аномальных-пользователей.\" data-toc-modified-id=\"Расчет-95-й-и-99-й-перцентили-количества-заказов-на-пользователя.-Выбор-границы-для-определения-аномальных-пользователей.-3.2.7\"><span class=\"toc-item-num\">3.2.7&nbsp;&nbsp;</span>Расчет 95-й и 99-й перцентили количества заказов на пользователя. Выбор границы для определения аномальных пользователей.</a></span></li><li><span><a href=\"#Построение-точечного-графика-стоимостей-заказов.-Выводы-и-предположения.\" data-toc-modified-id=\"Построение-точечного-графика-стоимостей-заказов.-Выводы-и-предположения.-3.2.8\"><span class=\"toc-item-num\">3.2.8&nbsp;&nbsp;</span>Построение точечного графика стоимостей заказов. Выводы и предположения.</a></span></li><li><span><a href=\"#Расчет-95-й-и-99-й-перцентили-стоимости-заказов.-Выбор-границы-для-определения-аномальных-заказов.\" data-toc-modified-id=\"Расчет-95-й-и-99-й-перцентили-стоимости-заказов.-Выбор-границы-для-определения-аномальных-заказов.-3.2.9\"><span class=\"toc-item-num\">3.2.9&nbsp;&nbsp;</span>Расчет 95-й и 99-й перцентили стоимости заказов. Выбор границы для определения аномальных заказов.</a></span></li><li><span><a href=\"#Расчет-статистической-значимости-различий-в-конверсии-между-группами-по-«сырым»-данным.-Выводы-и-предположения.\" data-toc-modified-id=\"Расчет-статистической-значимости-различий-в-конверсии-между-группами-по-«сырым»-данным.-Выводы-и-предположения.-3.2.10\"><span class=\"toc-item-num\">3.2.10&nbsp;&nbsp;</span>Расчет статистической значимости различий в конверсии между группами по «сырым» данным. Выводы и предположения.</a></span></li><li><span><a href=\"#Расчет-статистической-значимости-различий-в-среднем-чеке-заказа-между-группами-по-«сырым»-данным.-Сделайте-выводы-и-предположения.\" data-toc-modified-id=\"Расчет-статистической-значимости-различий-в-среднем-чеке-заказа-между-группами-по-«сырым»-данным.-Сделайте-выводы-и-предположения.-3.2.11\"><span class=\"toc-item-num\">3.2.11&nbsp;&nbsp;</span>Расчет статистической значимости различий в среднем чеке заказа между группами по «сырым» данным. Сделайте выводы и предположения.</a></span></li><li><span><a href=\"#Расчет-статистической-значимости-различий-в-конверсии-между-группами-по-«очищенным»-данным.-Выводы-и-предположения.\" data-toc-modified-id=\"Расчет-статистической-значимости-различий-в-конверсии-между-группами-по-«очищенным»-данным.-Выводы-и-предположения.-3.2.12\"><span class=\"toc-item-num\">3.2.12&nbsp;&nbsp;</span>Расчет статистической значимости различий в конверсии между группами по «очищенным» данным. Выводы и предположения.</a></span></li><li><span><a href=\"#Расчет-статистической-значимости-различий-в-среднем-чеке-заказа-между-группами-по-«очищенным»-данным.-Выводы-и-предположения.\" data-toc-modified-id=\"Расчет-статистической-значимости-различий-в-среднем-чеке-заказа-между-группами-по-«очищенным»-данным.-Выводы-и-предположения.-3.2.13\"><span class=\"toc-item-num\">3.2.13&nbsp;&nbsp;</span>Расчет статистической значимости различий в среднем чеке заказа между группами по «очищенным» данным. Выводы и предположения.</a></span></li></ul></li></ul></li><li><span><a href=\"#Общие-выводы-и-рекомендации-по-целесообразности-проведения-теста.\" data-toc-modified-id=\"Общие-выводы-и-рекомендации-по-целесообразности-проведения-теста.-4\"><span class=\"toc-item-num\">4&nbsp;&nbsp;</span>Общие выводы и рекомендации по целесообразности проведения теста.</a></span><ul class=\"toc-item\"><li><span><a href=\"#Выводы\" data-toc-modified-id=\"Выводы-4.1\"><span class=\"toc-item-num\">4.1&nbsp;&nbsp;</span>Выводы</a></span></li><li><span><a href=\"#Общая-рекомендация\" data-toc-modified-id=\"Общая-рекомендация-4.2\"><span class=\"toc-item-num\">4.2&nbsp;&nbsp;</span>Общая рекомендация</a></span></li></ul></li></ul></div>"
   ]
  },
  {
   "cell_type": "markdown",
   "metadata": {},
   "source": [
    "## Описание проекта"
   ]
  },
  {
   "cell_type": "markdown",
   "metadata": {},
   "source": [
    "### Контекст проекта"
   ]
  },
  {
   "cell_type": "markdown",
   "metadata": {},
   "source": [
    "Я — аналитик крупного интернет-магазина. Вместе с отделом маркетинга мы подготовили список гипотез для увеличения выручки.\n",
    "Необходимо приоретизировать гипотезы и проанализировать результаты А/В теста. "
   ]
  },
  {
   "cell_type": "markdown",
   "metadata": {},
   "source": [
    "### Описание данных"
   ]
  },
  {
   "cell_type": "markdown",
   "metadata": {},
   "source": [
    "Данные для первой части\n",
    "Файл ''.\n",
    "\n",
    "    Hypothesis — краткое описание гипотезы;\n",
    "    Reach — охват пользователей по 10-балльной шкале;\n",
    "    Impact — влияние на пользователей по 10-балльной шкале;\n",
    "    Confidence — уверенность в гипотезе по 10-балльной шкале;\n",
    "    Efforts — затраты ресурсов на проверку гипотезы по 10-балльной шкале. Чем больше значение Efforts, тем дороже проверка гипотезы.\n",
    "\n",
    "Данные для второй части\n",
    "Файл ''. \n",
    "\n",
    "    transactionId — идентификатор заказа;\n",
    "    visitorId — идентификатор пользователя, совершившего заказ;\n",
    "    date — дата, когда был совершён заказ;\n",
    "    revenue — выручка заказа;\n",
    "    group — группа A/B-теста, в которую попал заказ.\n",
    "\n",
    "Файл ''.\n",
    "\n",
    "    date — дата;\n",
    "    group — группа A/B-теста;\n",
    "    visitors — количество пользователей в указанную дату в указанной группе A/B-теста"
   ]
  },
  {
   "cell_type": "markdown",
   "metadata": {},
   "source": [
    "### Цели проекта"
   ]
  },
  {
   "cell_type": "markdown",
   "metadata": {},
   "source": [
    "#### Часть 1"
   ]
  },
  {
   "cell_type": "markdown",
   "metadata": {},
   "source": [
    "В файле /datasets/hypothesis.csv 9 гипотез по увеличению выручки интернет-магазина с указанными параметрами Reach, Impact, Confidence, Effort.\n",
    "Задача:\n",
    "\n",
    "    1. Примените фреймворк ICE для приоритизации гипотез. Отсортируйте их по убыванию приоритета.\n",
    "    2. Примените фреймворк RICE для приоритизации гипотез. Отсортируйте их по убыванию приоритета.\n",
    "    3. Укажите, как изменилась приоритизация гипотез при применении RICE вместо ICE. Объясните, почему так произошло."
   ]
  },
  {
   "cell_type": "markdown",
   "metadata": {},
   "source": [
    "#### Часть 2"
   ]
  },
  {
   "cell_type": "markdown",
   "metadata": {},
   "source": [
    "A/B-тест проведен, получены результаты, которые описаны в файлах /datasets/orders.csv и /datasets/visitors.csv.\n",
    "Необходимо проанализировать A/B-тест:\n",
    "\n",
    "    1. Постройте график кумулятивной выручки по группам. Сделайте выводы и предположения.\n",
    "    2. Постройте график кумулятивного среднего чека по группам. Сделайте выводы и предположения.\n",
    "    3. Постройте график относительного изменения кумулятивного среднего чека группы B к группе A. Сделайте выводы и предположения.\n",
    "    4. Постройте график кумулятивной конверсии по группам. Сделайте выводы и предположения.\n",
    "    5. Постройте график относительного изменения кумулятивной конверсии группы B к группе A. Сделайте выводы и предположения.\n",
    "    6. Постройте точечный график количества заказов по пользователям. Сделайте выводы и предположения.\n",
    "    7. Посчитайте 95-й и 99-й перцентили количества заказов на пользователя. Выберите границу для определения аномальных пользователей.\n",
    "    8. Постройте точечный график стоимостей заказов. Сделайте выводы и предположения.\n",
    "    9. Посчитайте 95-й и 99-й перцентили стоимости заказов. Выберите границу для определения аномальных заказов.\n",
    "    10. Посчитайте статистическую значимость различий в конверсии между группами по «сырым» данным. Сделайте выводы и предположения.\n",
    "    11. Посчитайте статистическую значимость различий в среднем чеке заказа между группами по «сырым» данным. Сделайте выводы и предположения.\n",
    "    12. Посчитайте статистическую значимость различий в конверсии между группами по «очищенным» данным. Сделайте выводы и предположения.\n",
    "    13. Посчитайте статистическую значимость различий в среднем чеке заказа между группами по «очищенным» данным. Сделайте выводы и предположения.\n",
    "    "
   ]
  },
  {
   "cell_type": "markdown",
   "metadata": {},
   "source": [
    "Необходимо принять решение по результатам теста и объяснить его. Варианты решений:\n",
    "\n",
    "    1. Остановить тест, зафиксировать победу одной из групп. \n",
    "    2. Остановить тест, зафиксировать отсутствие различий между группами. \n",
    "    3. Продолжить тест."
   ]
  },
  {
   "cell_type": "markdown",
   "metadata": {},
   "source": [
    "## Открытие и изучение файлов данных"
   ]
  },
  {
   "cell_type": "markdown",
   "metadata": {},
   "source": [
    "### Импорт библиотек"
   ]
  },
  {
   "cell_type": "code",
   "execution_count": 1,
   "metadata": {},
   "outputs": [],
   "source": [
    "import pandas as pd\n",
    "import scipy.stats as stats\n",
    "import datetime as dt\n",
    "import numpy as np\n",
    "from matplotlib import pyplot as plt"
   ]
  },
  {
   "cell_type": "markdown",
   "metadata": {},
   "source": [
    "### Открытие и исследование файлов данных"
   ]
  },
  {
   "cell_type": "code",
   "execution_count": 2,
   "metadata": {},
   "outputs": [],
   "source": [
    "try:\n",
    "   data = pd.read_csv('')\n",
    "except:\n",
    "   print (\"Какая то ошибка\")"
   ]
  },
  {
   "cell_type": "code",
   "execution_count": 3,
   "metadata": {
    "scrolled": false
   },
   "outputs": [
    {
     "name": "stdout",
     "output_type": "stream",
     "text": [
      "<class 'pandas.core.frame.DataFrame'>\n",
      "RangeIndex: 9 entries, 0 to 8\n",
      "Data columns (total 5 columns):\n",
      " #   Column      Non-Null Count  Dtype \n",
      "---  ------      --------------  ----- \n",
      " 0   Hypothesis  9 non-null      object\n",
      " 1   Reach       9 non-null      int64 \n",
      " 2   Impact      9 non-null      int64 \n",
      " 3   Confidence  9 non-null      int64 \n",
      " 4   Efforts     9 non-null      int64 \n",
      "dtypes: int64(4), object(1)\n",
      "memory usage: 488.0+ bytes\n"
     ]
    },
    {
     "data": {
      "text/html": [
       "<div>\n",
       "<style scoped>\n",
       "    .dataframe tbody tr th:only-of-type {\n",
       "        vertical-align: middle;\n",
       "    }\n",
       "\n",
       "    .dataframe tbody tr th {\n",
       "        vertical-align: top;\n",
       "    }\n",
       "\n",
       "    .dataframe thead th {\n",
       "        text-align: right;\n",
       "    }\n",
       "</style>\n",
       "<table border=\"1\" class=\"dataframe\">\n",
       "  <thead>\n",
       "    <tr style=\"text-align: right;\">\n",
       "      <th></th>\n",
       "      <th>Hypothesis</th>\n",
       "      <th>Reach</th>\n",
       "      <th>Impact</th>\n",
       "      <th>Confidence</th>\n",
       "      <th>Efforts</th>\n",
       "    </tr>\n",
       "  </thead>\n",
       "  <tbody>\n",
       "    <tr>\n",
       "      <th>0</th>\n",
       "      <td>Добавить два новых канала привлечения трафика,...</td>\n",
       "      <td>3</td>\n",
       "      <td>10</td>\n",
       "      <td>8</td>\n",
       "      <td>6</td>\n",
       "    </tr>\n",
       "    <tr>\n",
       "      <th>1</th>\n",
       "      <td>Запустить собственную службу доставки, что сок...</td>\n",
       "      <td>2</td>\n",
       "      <td>5</td>\n",
       "      <td>4</td>\n",
       "      <td>10</td>\n",
       "    </tr>\n",
       "    <tr>\n",
       "      <th>2</th>\n",
       "      <td>Добавить блоки рекомендаций товаров на сайт ин...</td>\n",
       "      <td>8</td>\n",
       "      <td>3</td>\n",
       "      <td>7</td>\n",
       "      <td>3</td>\n",
       "    </tr>\n",
       "    <tr>\n",
       "      <th>3</th>\n",
       "      <td>Изменить структура категорий, что увеличит кон...</td>\n",
       "      <td>8</td>\n",
       "      <td>3</td>\n",
       "      <td>3</td>\n",
       "      <td>8</td>\n",
       "    </tr>\n",
       "    <tr>\n",
       "      <th>4</th>\n",
       "      <td>Изменить цвет фона главной страницы, чтобы уве...</td>\n",
       "      <td>3</td>\n",
       "      <td>1</td>\n",
       "      <td>1</td>\n",
       "      <td>1</td>\n",
       "    </tr>\n",
       "    <tr>\n",
       "      <th>5</th>\n",
       "      <td>Добавить страницу отзывов клиентов о магазине,...</td>\n",
       "      <td>3</td>\n",
       "      <td>2</td>\n",
       "      <td>2</td>\n",
       "      <td>3</td>\n",
       "    </tr>\n",
       "    <tr>\n",
       "      <th>6</th>\n",
       "      <td>Показать на главной странице баннеры с актуаль...</td>\n",
       "      <td>5</td>\n",
       "      <td>3</td>\n",
       "      <td>8</td>\n",
       "      <td>3</td>\n",
       "    </tr>\n",
       "    <tr>\n",
       "      <th>7</th>\n",
       "      <td>Добавить форму подписки на все основные страни...</td>\n",
       "      <td>10</td>\n",
       "      <td>7</td>\n",
       "      <td>8</td>\n",
       "      <td>5</td>\n",
       "    </tr>\n",
       "    <tr>\n",
       "      <th>8</th>\n",
       "      <td>Запустить акцию, дающую скидку на товар в день...</td>\n",
       "      <td>1</td>\n",
       "      <td>9</td>\n",
       "      <td>9</td>\n",
       "      <td>5</td>\n",
       "    </tr>\n",
       "  </tbody>\n",
       "</table>\n",
       "</div>"
      ],
      "text/plain": [
       "                                          Hypothesis  Reach  Impact  \\\n",
       "0  Добавить два новых канала привлечения трафика,...      3      10   \n",
       "1  Запустить собственную службу доставки, что сок...      2       5   \n",
       "2  Добавить блоки рекомендаций товаров на сайт ин...      8       3   \n",
       "3  Изменить структура категорий, что увеличит кон...      8       3   \n",
       "4  Изменить цвет фона главной страницы, чтобы уве...      3       1   \n",
       "5  Добавить страницу отзывов клиентов о магазине,...      3       2   \n",
       "6  Показать на главной странице баннеры с актуаль...      5       3   \n",
       "7  Добавить форму подписки на все основные страни...     10       7   \n",
       "8  Запустить акцию, дающую скидку на товар в день...      1       9   \n",
       "\n",
       "   Confidence  Efforts  \n",
       "0           8        6  \n",
       "1           4       10  \n",
       "2           7        3  \n",
       "3           3        8  \n",
       "4           1        1  \n",
       "5           2        3  \n",
       "6           8        3  \n",
       "7           8        5  \n",
       "8           9        5  "
      ]
     },
     "execution_count": 3,
     "metadata": {},
     "output_type": "execute_result"
    }
   ],
   "source": [
    "data.info()\n",
    "data.head(10)"
   ]
  },
  {
   "cell_type": "code",
   "execution_count": 4,
   "metadata": {},
   "outputs": [
    {
     "name": "stdout",
     "output_type": "stream",
     "text": [
      "Дубликатов в таблице: 0\n"
     ]
    }
   ],
   "source": [
    "print ('Дубликатов в таблице:', data.duplicated().sum())"
   ]
  },
  {
   "cell_type": "markdown",
   "metadata": {},
   "source": [
    "В данных нет пропусков. Типы соответствуют. Файл не требует дополнительной обработки. Только переведем названия столбцов в нижний регистр."
   ]
  },
  {
   "cell_type": "code",
   "execution_count": 5,
   "metadata": {},
   "outputs": [
    {
     "name": "stdout",
     "output_type": "stream",
     "text": [
      "<class 'pandas.core.frame.DataFrame'>\n",
      "RangeIndex: 9 entries, 0 to 8\n",
      "Data columns (total 5 columns):\n",
      " #   Column      Non-Null Count  Dtype \n",
      "---  ------      --------------  ----- \n",
      " 0   hypothesis  9 non-null      object\n",
      " 1   reach       9 non-null      int64 \n",
      " 2   impact      9 non-null      int64 \n",
      " 3   confidence  9 non-null      int64 \n",
      " 4   efforts     9 non-null      int64 \n",
      "dtypes: int64(4), object(1)\n",
      "memory usage: 488.0+ bytes\n"
     ]
    }
   ],
   "source": [
    "data = data.rename(columns={'Hypothesis':'hypothesis', 'Reach':'reach', 'Impact':'impact', 'Confidence':'confidence', 'Efforts':'efforts'} )\n",
    "data.info()"
   ]
  },
  {
   "cell_type": "code",
   "execution_count": 6,
   "metadata": {},
   "outputs": [],
   "source": [
    "try:\n",
    "   ordersf = pd.read_csv('',sep=',')\n",
    "except:\n",
    "   print (\"Какая то ошибка\")"
   ]
  },
  {
   "cell_type": "code",
   "execution_count": 7,
   "metadata": {
    "scrolled": false
   },
   "outputs": [
    {
     "name": "stdout",
     "output_type": "stream",
     "text": [
      "<class 'pandas.core.frame.DataFrame'>\n",
      "RangeIndex: 1197 entries, 0 to 1196\n",
      "Data columns (total 5 columns):\n",
      " #   Column         Non-Null Count  Dtype \n",
      "---  ------         --------------  ----- \n",
      " 0   transactionId  1197 non-null   int64 \n",
      " 1   visitorId      1197 non-null   int64 \n",
      " 2   date           1197 non-null   object\n",
      " 3   revenue        1197 non-null   int64 \n",
      " 4   group          1197 non-null   object\n",
      "dtypes: int64(3), object(2)\n",
      "memory usage: 46.9+ KB\n"
     ]
    },
    {
     "data": {
      "text/html": [
       "<div>\n",
       "<style scoped>\n",
       "    .dataframe tbody tr th:only-of-type {\n",
       "        vertical-align: middle;\n",
       "    }\n",
       "\n",
       "    .dataframe tbody tr th {\n",
       "        vertical-align: top;\n",
       "    }\n",
       "\n",
       "    .dataframe thead th {\n",
       "        text-align: right;\n",
       "    }\n",
       "</style>\n",
       "<table border=\"1\" class=\"dataframe\">\n",
       "  <thead>\n",
       "    <tr style=\"text-align: right;\">\n",
       "      <th></th>\n",
       "      <th>transactionId</th>\n",
       "      <th>visitorId</th>\n",
       "      <th>date</th>\n",
       "      <th>revenue</th>\n",
       "      <th>group</th>\n",
       "    </tr>\n",
       "  </thead>\n",
       "  <tbody>\n",
       "    <tr>\n",
       "      <th>0</th>\n",
       "      <td>3667963787</td>\n",
       "      <td>3312258926</td>\n",
       "      <td>2019-08-15</td>\n",
       "      <td>1650</td>\n",
       "      <td>B</td>\n",
       "    </tr>\n",
       "    <tr>\n",
       "      <th>1</th>\n",
       "      <td>2804400009</td>\n",
       "      <td>3642806036</td>\n",
       "      <td>2019-08-15</td>\n",
       "      <td>730</td>\n",
       "      <td>B</td>\n",
       "    </tr>\n",
       "    <tr>\n",
       "      <th>2</th>\n",
       "      <td>2961555356</td>\n",
       "      <td>4069496402</td>\n",
       "      <td>2019-08-15</td>\n",
       "      <td>400</td>\n",
       "      <td>A</td>\n",
       "    </tr>\n",
       "    <tr>\n",
       "      <th>3</th>\n",
       "      <td>3797467345</td>\n",
       "      <td>1196621759</td>\n",
       "      <td>2019-08-15</td>\n",
       "      <td>9759</td>\n",
       "      <td>B</td>\n",
       "    </tr>\n",
       "    <tr>\n",
       "      <th>4</th>\n",
       "      <td>2282983706</td>\n",
       "      <td>2322279887</td>\n",
       "      <td>2019-08-15</td>\n",
       "      <td>2308</td>\n",
       "      <td>B</td>\n",
       "    </tr>\n",
       "  </tbody>\n",
       "</table>\n",
       "</div>"
      ],
      "text/plain": [
       "   transactionId   visitorId        date  revenue group\n",
       "0     3667963787  3312258926  2019-08-15     1650     B\n",
       "1     2804400009  3642806036  2019-08-15      730     B\n",
       "2     2961555356  4069496402  2019-08-15      400     A\n",
       "3     3797467345  1196621759  2019-08-15     9759     B\n",
       "4     2282983706  2322279887  2019-08-15     2308     B"
      ]
     },
     "execution_count": 7,
     "metadata": {},
     "output_type": "execute_result"
    }
   ],
   "source": [
    "ordersf.info()\n",
    "ordersf.head()"
   ]
  },
  {
   "cell_type": "code",
   "execution_count": 8,
   "metadata": {},
   "outputs": [
    {
     "name": "stdout",
     "output_type": "stream",
     "text": [
      "Дубликатов в таблице: 0\n"
     ]
    }
   ],
   "source": [
    "print ('Дубликатов в таблице:', ordersf.duplicated().sum())"
   ]
  },
  {
   "cell_type": "markdown",
   "metadata": {},
   "source": [
    "В данных нет пропусков и дубликатов. Типы соответствуют, кроме столбца date. "
   ]
  },
  {
   "cell_type": "markdown",
   "metadata": {},
   "source": [
    "Переведем названия столбцов в нижний регистр."
   ]
  },
  {
   "cell_type": "code",
   "execution_count": 9,
   "metadata": {},
   "outputs": [
    {
     "name": "stdout",
     "output_type": "stream",
     "text": [
      "<class 'pandas.core.frame.DataFrame'>\n",
      "RangeIndex: 1197 entries, 0 to 1196\n",
      "Data columns (total 5 columns):\n",
      " #   Column         Non-Null Count  Dtype \n",
      "---  ------         --------------  ----- \n",
      " 0   transactionid  1197 non-null   int64 \n",
      " 1   visitorid      1197 non-null   int64 \n",
      " 2   date           1197 non-null   object\n",
      " 3   revenue        1197 non-null   int64 \n",
      " 4   group          1197 non-null   object\n",
      "dtypes: int64(3), object(2)\n",
      "memory usage: 46.9+ KB\n"
     ]
    }
   ],
   "source": [
    "ordersf = ordersf.rename(columns={'transactionId':'transactionid', 'visitorId':'visitorid'} )\n",
    "ordersf.info()"
   ]
  },
  {
   "cell_type": "markdown",
   "metadata": {},
   "source": [
    "Изменим тип в столбце date. "
   ]
  },
  {
   "cell_type": "code",
   "execution_count": 10,
   "metadata": {},
   "outputs": [
    {
     "name": "stdout",
     "output_type": "stream",
     "text": [
      "<class 'pandas.core.frame.DataFrame'>\n",
      "RangeIndex: 1197 entries, 0 to 1196\n",
      "Data columns (total 5 columns):\n",
      " #   Column         Non-Null Count  Dtype         \n",
      "---  ------         --------------  -----         \n",
      " 0   transactionid  1197 non-null   int64         \n",
      " 1   visitorid      1197 non-null   int64         \n",
      " 2   date           1197 non-null   datetime64[ns]\n",
      " 3   revenue        1197 non-null   int64         \n",
      " 4   group          1197 non-null   object        \n",
      "dtypes: datetime64[ns](1), int64(3), object(1)\n",
      "memory usage: 46.9+ KB\n"
     ]
    },
    {
     "data": {
      "text/html": [
       "<div>\n",
       "<style scoped>\n",
       "    .dataframe tbody tr th:only-of-type {\n",
       "        vertical-align: middle;\n",
       "    }\n",
       "\n",
       "    .dataframe tbody tr th {\n",
       "        vertical-align: top;\n",
       "    }\n",
       "\n",
       "    .dataframe thead th {\n",
       "        text-align: right;\n",
       "    }\n",
       "</style>\n",
       "<table border=\"1\" class=\"dataframe\">\n",
       "  <thead>\n",
       "    <tr style=\"text-align: right;\">\n",
       "      <th></th>\n",
       "      <th>transactionid</th>\n",
       "      <th>visitorid</th>\n",
       "      <th>date</th>\n",
       "      <th>revenue</th>\n",
       "      <th>group</th>\n",
       "    </tr>\n",
       "  </thead>\n",
       "  <tbody>\n",
       "    <tr>\n",
       "      <th>0</th>\n",
       "      <td>3667963787</td>\n",
       "      <td>3312258926</td>\n",
       "      <td>2019-08-15</td>\n",
       "      <td>1650</td>\n",
       "      <td>B</td>\n",
       "    </tr>\n",
       "    <tr>\n",
       "      <th>1</th>\n",
       "      <td>2804400009</td>\n",
       "      <td>3642806036</td>\n",
       "      <td>2019-08-15</td>\n",
       "      <td>730</td>\n",
       "      <td>B</td>\n",
       "    </tr>\n",
       "    <tr>\n",
       "      <th>2</th>\n",
       "      <td>2961555356</td>\n",
       "      <td>4069496402</td>\n",
       "      <td>2019-08-15</td>\n",
       "      <td>400</td>\n",
       "      <td>A</td>\n",
       "    </tr>\n",
       "    <tr>\n",
       "      <th>3</th>\n",
       "      <td>3797467345</td>\n",
       "      <td>1196621759</td>\n",
       "      <td>2019-08-15</td>\n",
       "      <td>9759</td>\n",
       "      <td>B</td>\n",
       "    </tr>\n",
       "    <tr>\n",
       "      <th>4</th>\n",
       "      <td>2282983706</td>\n",
       "      <td>2322279887</td>\n",
       "      <td>2019-08-15</td>\n",
       "      <td>2308</td>\n",
       "      <td>B</td>\n",
       "    </tr>\n",
       "  </tbody>\n",
       "</table>\n",
       "</div>"
      ],
      "text/plain": [
       "   transactionid   visitorid       date  revenue group\n",
       "0     3667963787  3312258926 2019-08-15     1650     B\n",
       "1     2804400009  3642806036 2019-08-15      730     B\n",
       "2     2961555356  4069496402 2019-08-15      400     A\n",
       "3     3797467345  1196621759 2019-08-15     9759     B\n",
       "4     2282983706  2322279887 2019-08-15     2308     B"
      ]
     },
     "execution_count": 10,
     "metadata": {},
     "output_type": "execute_result"
    }
   ],
   "source": [
    "ordersf['date']= ordersf['date'].map(lambda x: dt.datetime.strptime(x, '%Y-%m-%d'))\n",
    "ordersf.info()\n",
    "ordersf.head()"
   ]
  },
  {
   "cell_type": "markdown",
   "metadata": {},
   "source": [
    "Однако существует вероятность, что некоторые пользователи могут попасть и в одну, и в другую групп тестирования. Это может существенно исказить результаты и выводы. Таких пользователей нужно удалить из базы. Сделаем два среза, в каждый из которых войдут пользователи одной или другой группы. Потом объединим их по 'visitorId' c использованием merge и типа inner. В этом случае в нее войдут только заказчики, которые есть в обеих группах."
   ]
  },
  {
   "cell_type": "code",
   "execution_count": 11,
   "metadata": {},
   "outputs": [
    {
     "data": {
      "text/html": [
       "<div>\n",
       "<style scoped>\n",
       "    .dataframe tbody tr th:only-of-type {\n",
       "        vertical-align: middle;\n",
       "    }\n",
       "\n",
       "    .dataframe tbody tr th {\n",
       "        vertical-align: top;\n",
       "    }\n",
       "\n",
       "    .dataframe thead th {\n",
       "        text-align: right;\n",
       "    }\n",
       "</style>\n",
       "<table border=\"1\" class=\"dataframe\">\n",
       "  <thead>\n",
       "    <tr style=\"text-align: right;\">\n",
       "      <th></th>\n",
       "      <th>transactionid_x</th>\n",
       "      <th>visitorid</th>\n",
       "      <th>date_x</th>\n",
       "      <th>revenue_x</th>\n",
       "      <th>group_x</th>\n",
       "      <th>transactionid_y</th>\n",
       "      <th>date_y</th>\n",
       "      <th>revenue_y</th>\n",
       "      <th>group_y</th>\n",
       "    </tr>\n",
       "  </thead>\n",
       "  <tbody>\n",
       "    <tr>\n",
       "      <th>0</th>\n",
       "      <td>2961555356</td>\n",
       "      <td>4069496402</td>\n",
       "      <td>2019-08-15</td>\n",
       "      <td>400</td>\n",
       "      <td>A</td>\n",
       "      <td>1473132782</td>\n",
       "      <td>2019-08-12</td>\n",
       "      <td>640</td>\n",
       "      <td>B</td>\n",
       "    </tr>\n",
       "    <tr>\n",
       "      <th>1</th>\n",
       "      <td>2223239646</td>\n",
       "      <td>199603092</td>\n",
       "      <td>2019-08-15</td>\n",
       "      <td>3488</td>\n",
       "      <td>A</td>\n",
       "      <td>437656952</td>\n",
       "      <td>2019-08-02</td>\n",
       "      <td>3488</td>\n",
       "      <td>B</td>\n",
       "    </tr>\n",
       "    <tr>\n",
       "      <th>2</th>\n",
       "      <td>62794304</td>\n",
       "      <td>199603092</td>\n",
       "      <td>2019-08-22</td>\n",
       "      <td>6976</td>\n",
       "      <td>A</td>\n",
       "      <td>437656952</td>\n",
       "      <td>2019-08-02</td>\n",
       "      <td>3488</td>\n",
       "      <td>B</td>\n",
       "    </tr>\n",
       "    <tr>\n",
       "      <th>3</th>\n",
       "      <td>2971973105</td>\n",
       "      <td>199603092</td>\n",
       "      <td>2019-08-27</td>\n",
       "      <td>2790</td>\n",
       "      <td>A</td>\n",
       "      <td>437656952</td>\n",
       "      <td>2019-08-02</td>\n",
       "      <td>3488</td>\n",
       "      <td>B</td>\n",
       "    </tr>\n",
       "    <tr>\n",
       "      <th>4</th>\n",
       "      <td>1941707234</td>\n",
       "      <td>199603092</td>\n",
       "      <td>2019-08-12</td>\n",
       "      <td>6438</td>\n",
       "      <td>A</td>\n",
       "      <td>437656952</td>\n",
       "      <td>2019-08-02</td>\n",
       "      <td>3488</td>\n",
       "      <td>B</td>\n",
       "    </tr>\n",
       "    <tr>\n",
       "      <th>...</th>\n",
       "      <td>...</td>\n",
       "      <td>...</td>\n",
       "      <td>...</td>\n",
       "      <td>...</td>\n",
       "      <td>...</td>\n",
       "      <td>...</td>\n",
       "      <td>...</td>\n",
       "      <td>...</td>\n",
       "      <td>...</td>\n",
       "    </tr>\n",
       "    <tr>\n",
       "      <th>178</th>\n",
       "      <td>3757656646</td>\n",
       "      <td>4186807279</td>\n",
       "      <td>2019-08-14</td>\n",
       "      <td>4990</td>\n",
       "      <td>A</td>\n",
       "      <td>1759418862</td>\n",
       "      <td>2019-08-21</td>\n",
       "      <td>18560</td>\n",
       "      <td>B</td>\n",
       "    </tr>\n",
       "    <tr>\n",
       "      <th>179</th>\n",
       "      <td>3757656646</td>\n",
       "      <td>4186807279</td>\n",
       "      <td>2019-08-14</td>\n",
       "      <td>4990</td>\n",
       "      <td>A</td>\n",
       "      <td>380064637</td>\n",
       "      <td>2019-08-27</td>\n",
       "      <td>13740</td>\n",
       "      <td>B</td>\n",
       "    </tr>\n",
       "    <tr>\n",
       "      <th>180</th>\n",
       "      <td>3612788481</td>\n",
       "      <td>2712142231</td>\n",
       "      <td>2019-08-14</td>\n",
       "      <td>2490</td>\n",
       "      <td>A</td>\n",
       "      <td>1251767592</td>\n",
       "      <td>2019-08-16</td>\n",
       "      <td>790</td>\n",
       "      <td>B</td>\n",
       "    </tr>\n",
       "    <tr>\n",
       "      <th>181</th>\n",
       "      <td>4052155355</td>\n",
       "      <td>2949041841</td>\n",
       "      <td>2019-08-14</td>\n",
       "      <td>190</td>\n",
       "      <td>A</td>\n",
       "      <td>1329499668</td>\n",
       "      <td>2019-08-14</td>\n",
       "      <td>10380</td>\n",
       "      <td>B</td>\n",
       "    </tr>\n",
       "    <tr>\n",
       "      <th>182</th>\n",
       "      <td>1458356232</td>\n",
       "      <td>963407295</td>\n",
       "      <td>2019-08-14</td>\n",
       "      <td>4940</td>\n",
       "      <td>A</td>\n",
       "      <td>2904772834</td>\n",
       "      <td>2019-08-15</td>\n",
       "      <td>300</td>\n",
       "      <td>B</td>\n",
       "    </tr>\n",
       "  </tbody>\n",
       "</table>\n",
       "<p>183 rows × 9 columns</p>\n",
       "</div>"
      ],
      "text/plain": [
       "     transactionid_x   visitorid     date_x  revenue_x group_x  \\\n",
       "0         2961555356  4069496402 2019-08-15        400       A   \n",
       "1         2223239646   199603092 2019-08-15       3488       A   \n",
       "2           62794304   199603092 2019-08-22       6976       A   \n",
       "3         2971973105   199603092 2019-08-27       2790       A   \n",
       "4         1941707234   199603092 2019-08-12       6438       A   \n",
       "..               ...         ...        ...        ...     ...   \n",
       "178       3757656646  4186807279 2019-08-14       4990       A   \n",
       "179       3757656646  4186807279 2019-08-14       4990       A   \n",
       "180       3612788481  2712142231 2019-08-14       2490       A   \n",
       "181       4052155355  2949041841 2019-08-14        190       A   \n",
       "182       1458356232   963407295 2019-08-14       4940       A   \n",
       "\n",
       "     transactionid_y     date_y  revenue_y group_y  \n",
       "0         1473132782 2019-08-12        640       B  \n",
       "1          437656952 2019-08-02       3488       B  \n",
       "2          437656952 2019-08-02       3488       B  \n",
       "3          437656952 2019-08-02       3488       B  \n",
       "4          437656952 2019-08-02       3488       B  \n",
       "..               ...        ...        ...     ...  \n",
       "178       1759418862 2019-08-21      18560       B  \n",
       "179        380064637 2019-08-27      13740       B  \n",
       "180       1251767592 2019-08-16        790       B  \n",
       "181       1329499668 2019-08-14      10380       B  \n",
       "182       2904772834 2019-08-15        300       B  \n",
       "\n",
       "[183 rows x 9 columns]"
      ]
     },
     "execution_count": 11,
     "metadata": {},
     "output_type": "execute_result"
    }
   ],
   "source": [
    "orders_a = ordersf.query('group == \"A\"')\n",
    "orders_b = ordersf.query('group == \"B\"')\n",
    "orders_id = orders_a.merge(orders_b, on='visitorid', how='inner')\n",
    "orders_id"
   ]
  },
  {
   "cell_type": "markdown",
   "metadata": {},
   "source": [
    "Составим список уникальных id"
   ]
  },
  {
   "cell_type": "code",
   "execution_count": 12,
   "metadata": {},
   "outputs": [
    {
     "data": {
      "text/plain": [
       "array([4069496402,  199603092, 3803269165, 2378935119,  237748145,\n",
       "       4256040402, 2038680547, 1738359350, 2458001652, 3891541246,\n",
       "       2716752286, 3656415546, 2686716486, 2954449915, 2927087541,\n",
       "       3234906277,  457167155, 2579882178, 3957174400, 1648269707,\n",
       "       2780786433,  818047933, 2044997962, 1959144690, 3202540741,\n",
       "       1333886533,  351125977, 3951559397,  393266494, 3984495233,\n",
       "       4120364173, 4266935830, 1230306981, 1294878855, 1614305549,\n",
       "          8300375,  477780734, 1668030113, 3717692402, 3766097110,\n",
       "       3941795274,  471551937, 1316129916, 1801183820, 1602967004,\n",
       "       2587333274, 2600415354,  232979603, 3972127743, 1404934699,\n",
       "        276558944, 3062433592, 2654030115, 3963646447, 4186807279,\n",
       "       2712142231, 2949041841,  963407295])"
      ]
     },
     "metadata": {},
     "output_type": "display_data"
    },
    {
     "data": {
      "text/plain": [
       "58"
      ]
     },
     "execution_count": 12,
     "metadata": {},
     "output_type": "execute_result"
    }
   ],
   "source": [
    "list_unique_id = orders_id['visitorid'].unique()\n",
    "display(list_unique_id)\n",
    "len(list_unique_id)"
   ]
  },
  {
   "cell_type": "markdown",
   "metadata": {},
   "source": [
    "Уберем из исходного фрейма строки, где 'visitorid' совпадает с полученным нами листом. И получим уже финальный фрейм, с которым и будем работать дальше."
   ]
  },
  {
   "cell_type": "code",
   "execution_count": 13,
   "metadata": {
    "scrolled": false
   },
   "outputs": [
    {
     "name": "stdout",
     "output_type": "stream",
     "text": [
      "<class 'pandas.core.frame.DataFrame'>\n",
      "Int64Index: 1016 entries, 0 to 1196\n",
      "Data columns (total 5 columns):\n",
      " #   Column         Non-Null Count  Dtype         \n",
      "---  ------         --------------  -----         \n",
      " 0   transactionid  1016 non-null   int64         \n",
      " 1   visitorid      1016 non-null   int64         \n",
      " 2   date           1016 non-null   datetime64[ns]\n",
      " 3   revenue        1016 non-null   int64         \n",
      " 4   group          1016 non-null   object        \n",
      "dtypes: datetime64[ns](1), int64(3), object(1)\n",
      "memory usage: 47.6+ KB\n"
     ]
    },
    {
     "data": {
      "text/html": [
       "<div>\n",
       "<style scoped>\n",
       "    .dataframe tbody tr th:only-of-type {\n",
       "        vertical-align: middle;\n",
       "    }\n",
       "\n",
       "    .dataframe tbody tr th {\n",
       "        vertical-align: top;\n",
       "    }\n",
       "\n",
       "    .dataframe thead th {\n",
       "        text-align: right;\n",
       "    }\n",
       "</style>\n",
       "<table border=\"1\" class=\"dataframe\">\n",
       "  <thead>\n",
       "    <tr style=\"text-align: right;\">\n",
       "      <th></th>\n",
       "      <th>transactionid</th>\n",
       "      <th>visitorid</th>\n",
       "      <th>date</th>\n",
       "      <th>revenue</th>\n",
       "      <th>group</th>\n",
       "    </tr>\n",
       "  </thead>\n",
       "  <tbody>\n",
       "    <tr>\n",
       "      <th>0</th>\n",
       "      <td>3667963787</td>\n",
       "      <td>3312258926</td>\n",
       "      <td>2019-08-15</td>\n",
       "      <td>1650</td>\n",
       "      <td>B</td>\n",
       "    </tr>\n",
       "    <tr>\n",
       "      <th>1</th>\n",
       "      <td>2804400009</td>\n",
       "      <td>3642806036</td>\n",
       "      <td>2019-08-15</td>\n",
       "      <td>730</td>\n",
       "      <td>B</td>\n",
       "    </tr>\n",
       "    <tr>\n",
       "      <th>3</th>\n",
       "      <td>3797467345</td>\n",
       "      <td>1196621759</td>\n",
       "      <td>2019-08-15</td>\n",
       "      <td>9759</td>\n",
       "      <td>B</td>\n",
       "    </tr>\n",
       "    <tr>\n",
       "      <th>4</th>\n",
       "      <td>2282983706</td>\n",
       "      <td>2322279887</td>\n",
       "      <td>2019-08-15</td>\n",
       "      <td>2308</td>\n",
       "      <td>B</td>\n",
       "    </tr>\n",
       "    <tr>\n",
       "      <th>5</th>\n",
       "      <td>182168103</td>\n",
       "      <td>935554773</td>\n",
       "      <td>2019-08-15</td>\n",
       "      <td>2210</td>\n",
       "      <td>B</td>\n",
       "    </tr>\n",
       "  </tbody>\n",
       "</table>\n",
       "</div>"
      ],
      "text/plain": [
       "   transactionid   visitorid       date  revenue group\n",
       "0     3667963787  3312258926 2019-08-15     1650     B\n",
       "1     2804400009  3642806036 2019-08-15      730     B\n",
       "3     3797467345  1196621759 2019-08-15     9759     B\n",
       "4     2282983706  2322279887 2019-08-15     2308     B\n",
       "5      182168103   935554773 2019-08-15     2210     B"
      ]
     },
     "execution_count": 13,
     "metadata": {},
     "output_type": "execute_result"
    }
   ],
   "source": [
    "orders = ordersf[~ordersf['visitorid'].isin(list_unique_id)]\n",
    "orders.info()\n",
    "orders.head()"
   ]
  },
  {
   "cell_type": "code",
   "execution_count": 14,
   "metadata": {
    "scrolled": true
   },
   "outputs": [
    {
     "name": "stdout",
     "output_type": "stream",
     "text": [
      "50 1294500\n"
     ]
    }
   ],
   "source": [
    "print (orders['revenue'].min(),orders['revenue'].max())"
   ]
  },
  {
   "cell_type": "markdown",
   "metadata": {},
   "source": [
    "Видим, что в столбце 'revenue' присутствуют значения, которые можно назвать анамально большими. Это требует дополнительного исследования."
   ]
  },
  {
   "cell_type": "code",
   "execution_count": 15,
   "metadata": {
    "scrolled": false
   },
   "outputs": [
    {
     "data": {
      "text/plain": [
       "<matplotlib.collections.PathCollection at 0x7f52b3c408b0>"
      ]
     },
     "execution_count": 15,
     "metadata": {},
     "output_type": "execute_result"
    },
    {
     "data": {
      "image/png": "[encoded data removed]",
      "text/plain": [
       "<Figure size 432x288 with 1 Axes>"
      ]
     },
     "metadata": {
      "needs_background": "light"
     },
     "output_type": "display_data"
    }
   ],
   "source": [
    "x_values = pd.Series(range(0,len(orders['revenue'])))\n",
    "plt.scatter(x_values, orders['revenue']) "
   ]
  },
  {
   "cell_type": "markdown",
   "metadata": {},
   "source": [
    "Видим, что реально выделяются только два значения."
   ]
  },
  {
   "cell_type": "code",
   "execution_count": 16,
   "metadata": {},
   "outputs": [
    {
     "name": "stdout",
     "output_type": "stream",
     "text": [
      "[17990. 26785. 53904.]\n"
     ]
    }
   ],
   "source": [
    "print(np.percentile(orders['revenue'], [90, 95, 99])) "
   ]
  },
  {
   "cell_type": "markdown",
   "metadata": {},
   "source": [
    "Не более 5% заказов на сумму более 28 000. И не более 1% на сумму более 58 233"
   ]
  },
  {
   "cell_type": "code",
   "execution_count": 17,
   "metadata": {},
   "outputs": [],
   "source": [
    "try:\n",
    "   visitors = pd.read_csv('',sep=',')\n",
    "except:\n",
    "   print (\"Какая то ошибка\")"
   ]
  },
  {
   "cell_type": "code",
   "execution_count": 18,
   "metadata": {
    "scrolled": false
   },
   "outputs": [
    {
     "name": "stdout",
     "output_type": "stream",
     "text": [
      "<class 'pandas.core.frame.DataFrame'>\n",
      "RangeIndex: 62 entries, 0 to 61\n",
      "Data columns (total 3 columns):\n",
      " #   Column    Non-Null Count  Dtype \n",
      "---  ------    --------------  ----- \n",
      " 0   date      62 non-null     object\n",
      " 1   group     62 non-null     object\n",
      " 2   visitors  62 non-null     int64 \n",
      "dtypes: int64(1), object(2)\n",
      "memory usage: 1.6+ KB\n"
     ]
    },
    {
     "data": {
      "text/html": [
       "<div>\n",
       "<style scoped>\n",
       "    .dataframe tbody tr th:only-of-type {\n",
       "        vertical-align: middle;\n",
       "    }\n",
       "\n",
       "    .dataframe tbody tr th {\n",
       "        vertical-align: top;\n",
       "    }\n",
       "\n",
       "    .dataframe thead th {\n",
       "        text-align: right;\n",
       "    }\n",
       "</style>\n",
       "<table border=\"1\" class=\"dataframe\">\n",
       "  <thead>\n",
       "    <tr style=\"text-align: right;\">\n",
       "      <th></th>\n",
       "      <th>date</th>\n",
       "      <th>group</th>\n",
       "      <th>visitors</th>\n",
       "    </tr>\n",
       "  </thead>\n",
       "  <tbody>\n",
       "    <tr>\n",
       "      <th>0</th>\n",
       "      <td>2019-08-01</td>\n",
       "      <td>A</td>\n",
       "      <td>719</td>\n",
       "    </tr>\n",
       "    <tr>\n",
       "      <th>1</th>\n",
       "      <td>2019-08-02</td>\n",
       "      <td>A</td>\n",
       "      <td>619</td>\n",
       "    </tr>\n",
       "    <tr>\n",
       "      <th>2</th>\n",
       "      <td>2019-08-03</td>\n",
       "      <td>A</td>\n",
       "      <td>507</td>\n",
       "    </tr>\n",
       "    <tr>\n",
       "      <th>3</th>\n",
       "      <td>2019-08-04</td>\n",
       "      <td>A</td>\n",
       "      <td>717</td>\n",
       "    </tr>\n",
       "    <tr>\n",
       "      <th>4</th>\n",
       "      <td>2019-08-05</td>\n",
       "      <td>A</td>\n",
       "      <td>756</td>\n",
       "    </tr>\n",
       "  </tbody>\n",
       "</table>\n",
       "</div>"
      ],
      "text/plain": [
       "         date group  visitors\n",
       "0  2019-08-01     A       719\n",
       "1  2019-08-02     A       619\n",
       "2  2019-08-03     A       507\n",
       "3  2019-08-04     A       717\n",
       "4  2019-08-05     A       756"
      ]
     },
     "execution_count": 18,
     "metadata": {},
     "output_type": "execute_result"
    }
   ],
   "source": [
    "visitors.info()\n",
    "visitors.head()"
   ]
  },
  {
   "cell_type": "code",
   "execution_count": 19,
   "metadata": {},
   "outputs": [
    {
     "name": "stdout",
     "output_type": "stream",
     "text": [
      "Дубликатов в таблице: 0\n"
     ]
    }
   ],
   "source": [
    "print ('Дубликатов в таблице:', visitors.duplicated().sum())"
   ]
  },
  {
   "cell_type": "markdown",
   "metadata": {},
   "source": [
    "В данных нет пропусков и дубликатов. Типы соответствуют. Изменим тип в столбце  date. "
   ]
  },
  {
   "cell_type": "code",
   "execution_count": 20,
   "metadata": {},
   "outputs": [
    {
     "name": "stdout",
     "output_type": "stream",
     "text": [
      "<class 'pandas.core.frame.DataFrame'>\n",
      "RangeIndex: 62 entries, 0 to 61\n",
      "Data columns (total 3 columns):\n",
      " #   Column    Non-Null Count  Dtype         \n",
      "---  ------    --------------  -----         \n",
      " 0   date      62 non-null     datetime64[ns]\n",
      " 1   group     62 non-null     object        \n",
      " 2   visitors  62 non-null     int64         \n",
      "dtypes: datetime64[ns](1), int64(1), object(1)\n",
      "memory usage: 1.6+ KB\n"
     ]
    },
    {
     "data": {
      "text/html": [
       "<div>\n",
       "<style scoped>\n",
       "    .dataframe tbody tr th:only-of-type {\n",
       "        vertical-align: middle;\n",
       "    }\n",
       "\n",
       "    .dataframe tbody tr th {\n",
       "        vertical-align: top;\n",
       "    }\n",
       "\n",
       "    .dataframe thead th {\n",
       "        text-align: right;\n",
       "    }\n",
       "</style>\n",
       "<table border=\"1\" class=\"dataframe\">\n",
       "  <thead>\n",
       "    <tr style=\"text-align: right;\">\n",
       "      <th></th>\n",
       "      <th>date</th>\n",
       "      <th>group</th>\n",
       "      <th>visitors</th>\n",
       "    </tr>\n",
       "  </thead>\n",
       "  <tbody>\n",
       "    <tr>\n",
       "      <th>0</th>\n",
       "      <td>2019-08-01</td>\n",
       "      <td>A</td>\n",
       "      <td>719</td>\n",
       "    </tr>\n",
       "    <tr>\n",
       "      <th>1</th>\n",
       "      <td>2019-08-02</td>\n",
       "      <td>A</td>\n",
       "      <td>619</td>\n",
       "    </tr>\n",
       "    <tr>\n",
       "      <th>2</th>\n",
       "      <td>2019-08-03</td>\n",
       "      <td>A</td>\n",
       "      <td>507</td>\n",
       "    </tr>\n",
       "    <tr>\n",
       "      <th>3</th>\n",
       "      <td>2019-08-04</td>\n",
       "      <td>A</td>\n",
       "      <td>717</td>\n",
       "    </tr>\n",
       "    <tr>\n",
       "      <th>4</th>\n",
       "      <td>2019-08-05</td>\n",
       "      <td>A</td>\n",
       "      <td>756</td>\n",
       "    </tr>\n",
       "  </tbody>\n",
       "</table>\n",
       "</div>"
      ],
      "text/plain": [
       "        date group  visitors\n",
       "0 2019-08-01     A       719\n",
       "1 2019-08-02     A       619\n",
       "2 2019-08-03     A       507\n",
       "3 2019-08-04     A       717\n",
       "4 2019-08-05     A       756"
      ]
     },
     "execution_count": 20,
     "metadata": {},
     "output_type": "execute_result"
    }
   ],
   "source": [
    "visitors['date']= visitors['date'].map(lambda x: dt.datetime.strptime(x, '%Y-%m-%d'))\n",
    "visitors.info()\n",
    "visitors.head()"
   ]
  },
  {
   "cell_type": "code",
   "execution_count": 21,
   "metadata": {
    "scrolled": true
   },
   "outputs": [
    {
     "name": "stdout",
     "output_type": "stream",
     "text": [
      "361 770\n"
     ]
    }
   ],
   "source": [
    "print (visitors['visitors'].min(),visitors['visitors'].max())"
   ]
  },
  {
   "cell_type": "code",
   "execution_count": 22,
   "metadata": {},
   "outputs": [
    {
     "data": {
      "text/plain": [
       "<matplotlib.collections.PathCollection at 0x7f52abb3fdc0>"
      ]
     },
     "execution_count": 22,
     "metadata": {},
     "output_type": "execute_result"
    },
    {
     "data": {
      "image/png": "[encoded data removed]",
      "text/plain": [
       "<Figure size 432x288 with 1 Axes>"
      ]
     },
     "metadata": {
      "needs_background": "light"
     },
     "output_type": "display_data"
    }
   ],
   "source": [
    "x_values = pd.Series(range(0,len(visitors['visitors'])))\n",
    "plt.scatter(x_values, visitors['visitors']) "
   ]
  },
  {
   "cell_type": "markdown",
   "metadata": {},
   "source": [
    "Судя по диаграмме, данные не имеют аномальных выбросов."
   ]
  },
  {
   "cell_type": "code",
   "execution_count": 23,
   "metadata": {},
   "outputs": [
    {
     "name": "stdout",
     "output_type": "stream",
     "text": [
      "[733.7  747.9  769.39]\n"
     ]
    }
   ],
   "source": [
    "print(np.percentile(visitors['visitors'], [90, 95, 99])) "
   ]
  },
  {
   "cell_type": "markdown",
   "metadata": {},
   "source": [
    "## Решение задач по проекту"
   ]
  },
  {
   "cell_type": "markdown",
   "metadata": {},
   "source": [
    "### Часть 1"
   ]
  },
  {
   "cell_type": "markdown",
   "metadata": {},
   "source": [
    "#### Применение фреймворка ICE для приоритизации гипотез (сортировка по убыванию приоритета)."
   ]
  },
  {
   "cell_type": "code",
   "execution_count": 24,
   "metadata": {},
   "outputs": [
    {
     "data": {
      "text/html": [
       "<div>\n",
       "<style scoped>\n",
       "    .dataframe tbody tr th:only-of-type {\n",
       "        vertical-align: middle;\n",
       "    }\n",
       "\n",
       "    .dataframe tbody tr th {\n",
       "        vertical-align: top;\n",
       "    }\n",
       "\n",
       "    .dataframe thead th {\n",
       "        text-align: right;\n",
       "    }\n",
       "</style>\n",
       "<table border=\"1\" class=\"dataframe\">\n",
       "  <thead>\n",
       "    <tr style=\"text-align: right;\">\n",
       "      <th></th>\n",
       "      <th>hypothesis</th>\n",
       "      <th>ICE</th>\n",
       "    </tr>\n",
       "  </thead>\n",
       "  <tbody>\n",
       "    <tr>\n",
       "      <th>8</th>\n",
       "      <td>Запустить акцию, дающую скидку на товар в день рождения</td>\n",
       "      <td>16.200000</td>\n",
       "    </tr>\n",
       "    <tr>\n",
       "      <th>0</th>\n",
       "      <td>Добавить два новых канала привлечения трафика, что позволит привлекать на 30% больше пользователей</td>\n",
       "      <td>13.333333</td>\n",
       "    </tr>\n",
       "    <tr>\n",
       "      <th>7</th>\n",
       "      <td>Добавить форму подписки на все основные страницы, чтобы собрать базу клиентов для email-рассылок</td>\n",
       "      <td>11.200000</td>\n",
       "    </tr>\n",
       "    <tr>\n",
       "      <th>6</th>\n",
       "      <td>Показать на главной странице баннеры с актуальными акциями и распродажами, чтобы увеличить конверсию</td>\n",
       "      <td>8.000000</td>\n",
       "    </tr>\n",
       "    <tr>\n",
       "      <th>2</th>\n",
       "      <td>Добавить блоки рекомендаций товаров на сайт интернет магазина, чтобы повысить конверсию и средний чек заказа</td>\n",
       "      <td>7.000000</td>\n",
       "    </tr>\n",
       "    <tr>\n",
       "      <th>1</th>\n",
       "      <td>Запустить собственную службу доставки, что сократит срок доставки заказов</td>\n",
       "      <td>2.000000</td>\n",
       "    </tr>\n",
       "    <tr>\n",
       "      <th>5</th>\n",
       "      <td>Добавить страницу отзывов клиентов о магазине, что позволит увеличить количество заказов</td>\n",
       "      <td>1.333333</td>\n",
       "    </tr>\n",
       "    <tr>\n",
       "      <th>3</th>\n",
       "      <td>Изменить структура категорий, что увеличит конверсию, т.к. пользователи быстрее найдут нужный товар</td>\n",
       "      <td>1.125000</td>\n",
       "    </tr>\n",
       "    <tr>\n",
       "      <th>4</th>\n",
       "      <td>Изменить цвет фона главной страницы, чтобы увеличить вовлеченность пользователей</td>\n",
       "      <td>1.000000</td>\n",
       "    </tr>\n",
       "  </tbody>\n",
       "</table>\n",
       "</div>"
      ],
      "text/plain": [
       "                                                                                                     hypothesis  \\\n",
       "8                                                       Запустить акцию, дающую скидку на товар в день рождения   \n",
       "0            Добавить два новых канала привлечения трафика, что позволит привлекать на 30% больше пользователей   \n",
       "7              Добавить форму подписки на все основные страницы, чтобы собрать базу клиентов для email-рассылок   \n",
       "6          Показать на главной странице баннеры с актуальными акциями и распродажами, чтобы увеличить конверсию   \n",
       "2  Добавить блоки рекомендаций товаров на сайт интернет магазина, чтобы повысить конверсию и средний чек заказа   \n",
       "1                                     Запустить собственную службу доставки, что сократит срок доставки заказов   \n",
       "5                      Добавить страницу отзывов клиентов о магазине, что позволит увеличить количество заказов   \n",
       "3           Изменить структура категорий, что увеличит конверсию, т.к. пользователи быстрее найдут нужный товар   \n",
       "4                              Изменить цвет фона главной страницы, чтобы увеличить вовлеченность пользователей   \n",
       "\n",
       "         ICE  \n",
       "8  16.200000  \n",
       "0  13.333333  \n",
       "7  11.200000  \n",
       "6   8.000000  \n",
       "2   7.000000  \n",
       "1   2.000000  \n",
       "5   1.333333  \n",
       "3   1.125000  \n",
       "4   1.000000  "
      ]
     },
     "metadata": {},
     "output_type": "display_data"
    }
   ],
   "source": [
    "data['ICE'] = (data['impact']*data['confidence'])/data['efforts']\n",
    "data_s=data[['hypothesis','ICE']].sort_values(by='ICE', ascending=False)\n",
    "pd.options.display.max_colwidth = 120\n",
    "display (data_s)"
   ]
  },
  {
   "cell_type": "markdown",
   "metadata": {},
   "source": [
    "#### Применение фреймворка RICE для приоритизации гипотез (сортировка по убыванию приоритета)."
   ]
  },
  {
   "cell_type": "code",
   "execution_count": 25,
   "metadata": {},
   "outputs": [
    {
     "data": {
      "text/html": [
       "<div>\n",
       "<style scoped>\n",
       "    .dataframe tbody tr th:only-of-type {\n",
       "        vertical-align: middle;\n",
       "    }\n",
       "\n",
       "    .dataframe tbody tr th {\n",
       "        vertical-align: top;\n",
       "    }\n",
       "\n",
       "    .dataframe thead th {\n",
       "        text-align: right;\n",
       "    }\n",
       "</style>\n",
       "<table border=\"1\" class=\"dataframe\">\n",
       "  <thead>\n",
       "    <tr style=\"text-align: right;\">\n",
       "      <th></th>\n",
       "      <th>hypothesis</th>\n",
       "      <th>RICE</th>\n",
       "    </tr>\n",
       "  </thead>\n",
       "  <tbody>\n",
       "    <tr>\n",
       "      <th>7</th>\n",
       "      <td>Добавить форму подписки на все основные страницы, чтобы собрать базу клиентов для email-рассылок</td>\n",
       "      <td>112.0</td>\n",
       "    </tr>\n",
       "    <tr>\n",
       "      <th>2</th>\n",
       "      <td>Добавить блоки рекомендаций товаров на сайт интернет магазина, чтобы повысить конверсию и средний чек заказа</td>\n",
       "      <td>56.0</td>\n",
       "    </tr>\n",
       "    <tr>\n",
       "      <th>0</th>\n",
       "      <td>Добавить два новых канала привлечения трафика, что позволит привлекать на 30% больше пользователей</td>\n",
       "      <td>40.0</td>\n",
       "    </tr>\n",
       "    <tr>\n",
       "      <th>6</th>\n",
       "      <td>Показать на главной странице баннеры с актуальными акциями и распродажами, чтобы увеличить конверсию</td>\n",
       "      <td>40.0</td>\n",
       "    </tr>\n",
       "    <tr>\n",
       "      <th>8</th>\n",
       "      <td>Запустить акцию, дающую скидку на товар в день рождения</td>\n",
       "      <td>16.2</td>\n",
       "    </tr>\n",
       "    <tr>\n",
       "      <th>3</th>\n",
       "      <td>Изменить структура категорий, что увеличит конверсию, т.к. пользователи быстрее найдут нужный товар</td>\n",
       "      <td>9.0</td>\n",
       "    </tr>\n",
       "    <tr>\n",
       "      <th>1</th>\n",
       "      <td>Запустить собственную службу доставки, что сократит срок доставки заказов</td>\n",
       "      <td>4.0</td>\n",
       "    </tr>\n",
       "    <tr>\n",
       "      <th>5</th>\n",
       "      <td>Добавить страницу отзывов клиентов о магазине, что позволит увеличить количество заказов</td>\n",
       "      <td>4.0</td>\n",
       "    </tr>\n",
       "    <tr>\n",
       "      <th>4</th>\n",
       "      <td>Изменить цвет фона главной страницы, чтобы увеличить вовлеченность пользователей</td>\n",
       "      <td>3.0</td>\n",
       "    </tr>\n",
       "  </tbody>\n",
       "</table>\n",
       "</div>"
      ],
      "text/plain": [
       "                                                                                                     hypothesis  \\\n",
       "7              Добавить форму подписки на все основные страницы, чтобы собрать базу клиентов для email-рассылок   \n",
       "2  Добавить блоки рекомендаций товаров на сайт интернет магазина, чтобы повысить конверсию и средний чек заказа   \n",
       "0            Добавить два новых канала привлечения трафика, что позволит привлекать на 30% больше пользователей   \n",
       "6          Показать на главной странице баннеры с актуальными акциями и распродажами, чтобы увеличить конверсию   \n",
       "8                                                       Запустить акцию, дающую скидку на товар в день рождения   \n",
       "3           Изменить структура категорий, что увеличит конверсию, т.к. пользователи быстрее найдут нужный товар   \n",
       "1                                     Запустить собственную службу доставки, что сократит срок доставки заказов   \n",
       "5                      Добавить страницу отзывов клиентов о магазине, что позволит увеличить количество заказов   \n",
       "4                              Изменить цвет фона главной страницы, чтобы увеличить вовлеченность пользователей   \n",
       "\n",
       "    RICE  \n",
       "7  112.0  \n",
       "2   56.0  \n",
       "0   40.0  \n",
       "6   40.0  \n",
       "8   16.2  \n",
       "3    9.0  \n",
       "1    4.0  \n",
       "5    4.0  \n",
       "4    3.0  "
      ]
     },
     "metadata": {},
     "output_type": "display_data"
    }
   ],
   "source": [
    "data['RICE'] = (data['impact']*data['confidence']*data['reach'])/data['efforts']\n",
    "data_s=data[['hypothesis','RICE']].sort_values(by='RICE', ascending=False)\n",
    "pd.options.display.max_colwidth = 120\n",
    "display (data_s)"
   ]
  },
  {
   "cell_type": "markdown",
   "metadata": {},
   "source": [
    "#### Оценка изменения приоритизации гипотез при применении RICE вместо ICE."
   ]
  },
  {
   "cell_type": "markdown",
   "metadata": {},
   "source": [
    "Среди первых 5 гипотез, лидирующих по результатам применения обоих вариантов приоритизации произошло одно существенное изменение. После добавления показателия Rich опустился приоритет гипотезы \"Запустить акцию, дающую скидку на день рождения\". А на ее место поднялась гипотеза \"Добавить форму подписки на все основные страницы, чтобы собрать базу клиентов для email-рассылок\". Объяснение просто:\n",
    "1. Скидки на день рождения - отличная идея и точно сработает, но один раз в год для каждого пользователя. В остальное время не работает. Плюс, если инструмент будет работать менее года (тоже вполне возможно), то даже не все пользователи получат возможность воспользоваться этим предложением. Значит охват ниже, чем для других гипотез. Поэтому и произошло смещение вниз в рейтинге.\n",
    "2. Идея про формы email-рассылки - инструмент не прямого и не мгновенного действия. Пользователи будут получать рассылку, а значит контактов с каждым из них будет больше. Вероятность того, что какая-то из рассылок (не одна) достигнет цели -высока. Но при этом гораздо большее количество пользователей (возможно все) будут вовлечены в коммуникацию. Охват выше, а значит при введении Rich гипотеза поднимается вверх в рейтинге.\n",
    "3. Остальные гипотезы остаются более или менее на своих местах."
   ]
  },
  {
   "cell_type": "markdown",
   "metadata": {},
   "source": [
    "### Часть 2"
   ]
  },
  {
   "cell_type": "markdown",
   "metadata": {},
   "source": [
    "#### Построение графика кумулятивной выручки по группам. Выводы и предположения."
   ]
  },
  {
   "cell_type": "markdown",
   "metadata": {},
   "source": [
    "Создадим массив уникальных пар значений дат и групп теста методом drop_duplicates():"
   ]
  },
  {
   "cell_type": "code",
   "execution_count": 26,
   "metadata": {},
   "outputs": [],
   "source": [
    "datesgroups = orders[['date','group']].drop_duplicates() "
   ]
  },
  {
   "cell_type": "markdown",
   "metadata": {},
   "source": [
    "Соберём агрегированные кумулятивные по дням данные о заказах в несколько действий.\n",
    "Получим строки таблицы orders, дата которых меньше или равна дате элемента из datesGroups, а группа теста равна группе из datesgroups. Агрегируем значения. Вычислим максимальную дату. Для группы тоже рассчитаем максимум, и хотя она будет определённой, сделаем это, чтобы столбец 'group' не пропал из итогового вывода. Найдём число уникальных ID заказов и пользователей. Подсчитаем сумму средних чеков:\n",
    ".agg({'date' : 'max', 'group' : 'max', 'orderId' : 'nunique', 'userId' : 'nunique', 'revenue' : 'sum'}). Применим методы к каждой строке датафрейма: apply(axis=1) и отсортируем результаты по столбцам 'date' и 'group': "
   ]
  },
  {
   "cell_type": "code",
   "execution_count": 27,
   "metadata": {},
   "outputs": [],
   "source": [
    "ordersaggregated = (\n",
    "    datesgroups.apply(lambda x: orders[np.logical_and(orders['date'] <= x['date'], orders['group'] == x['group'])]\\\n",
    "    .agg({'date' : 'max', 'group' : 'max', 'transactionid' : 'nunique', 'visitorid' : 'nunique', 'revenue' : 'sum'}),\n",
    "                      axis=1).sort_values(by=['date','group'])\n",
    ")"
   ]
  },
  {
   "cell_type": "markdown",
   "metadata": {},
   "source": [
    "Аналогично получим агрегированные кумулятивные по дням данные о посетителях интернет-магазина: "
   ]
  },
  {
   "cell_type": "code",
   "execution_count": 28,
   "metadata": {},
   "outputs": [],
   "source": [
    "visitorsaggregated = (\n",
    "    datesgroups.apply(lambda x: visitors[np.logical_and(visitors['date'] <= x['date'],\n",
    "    visitors['group'] == x['group'])].agg({'date' : 'max', 'group' : 'max', 'visitors' : 'sum'}), axis=1)\n",
    "    .sort_values(by=['date','group']) \n",
    ")"
   ]
  },
  {
   "cell_type": "markdown",
   "metadata": {},
   "source": [
    "Объеденим две таблицы в одну:"
   ]
  },
  {
   "cell_type": "code",
   "execution_count": 29,
   "metadata": {},
   "outputs": [
    {
     "name": "stdout",
     "output_type": "stream",
     "text": [
      "        date group  orders  buyers  revenue  visitors\n",
      "0 2019-08-01     A      23      19   142779       719\n",
      "1 2019-08-01     B      17      17    59758       713\n",
      "2 2019-08-02     A      42      36   234381      1338\n",
      "3 2019-08-02     B      40      39   221801      1294\n",
      "4 2019-08-03     A      66      60   346854      1845\n"
     ]
    }
   ],
   "source": [
    "cumulativedata = ordersaggregated.merge(visitorsaggregated, left_on=['date', 'group'], right_on=['date', 'group'])\n",
    "cumulativedata.columns = ['date', 'group', 'orders', 'buyers', 'revenue', 'visitors']\n",
    "\n",
    "print(cumulativedata.head(5)) "
   ]
  },
  {
   "cell_type": "markdown",
   "metadata": {},
   "source": [
    "Построим графики кумулятивной выручки по дням и группам A/B-тестирования: "
   ]
  },
  {
   "cell_type": "code",
   "execution_count": 30,
   "metadata": {
    "scrolled": true
   },
   "outputs": [],
   "source": [
    "cumulativerevenue_a = cumulativedata[cumulativedata['group']=='A'][['date','revenue', 'orders']]\n",
    "cumulativerevenue_b = cumulativedata[cumulativedata['group']=='B'][['date','revenue', 'orders']]"
   ]
  },
  {
   "cell_type": "code",
   "execution_count": 31,
   "metadata": {},
   "outputs": [
    {
     "data": {
      "text/plain": [
       "Text(0.5, 1.0, 'Графики кумулятивной выручки по дням')"
      ]
     },
     "execution_count": 31,
     "metadata": {},
     "output_type": "execute_result"
    },
    {
     "data": {
      "image/png": "[encoded data removed]",
      "text/plain": [
       "<Figure size 1152x432 with 1 Axes>"
      ]
     },
     "metadata": {
      "needs_background": "light"
     },
     "output_type": "display_data"
    }
   ],
   "source": [
    "plt.figure(figsize = (16,6))\n",
    "plt.plot(cumulativerevenue_a['date'], cumulativerevenue_a['revenue'], label='A')\n",
    "plt.plot(cumulativerevenue_b['date'], cumulativerevenue_b['revenue'], label='B')\n",
    "plt.legend()\n",
    "plt.title('Графики кумулятивной выручки по дням')"
   ]
  },
  {
   "cell_type": "markdown",
   "metadata": {},
   "source": [
    "Оба графика достаточно плавно растут по мере эксперимента. Однако в одном месте на графике В видим резкий скачок. Скорее всего это выбросы, которые мы видели ранее. Проработаем эту тему позже."
   ]
  },
  {
   "cell_type": "markdown",
   "metadata": {},
   "source": [
    "#### Построение графика кумулятивного среднего чека по группам. Выводы и предположения."
   ]
  },
  {
   "cell_type": "markdown",
   "metadata": {},
   "source": [
    "Построим графики среднего чека по группам — разделим кумулятивную выручку на кумулятивное число заказов:"
   ]
  },
  {
   "cell_type": "code",
   "execution_count": 32,
   "metadata": {},
   "outputs": [
    {
     "data": {
      "text/plain": [
       "Text(0.5, 1.0, 'Графики кумулятивного среднего чека по группам')"
      ]
     },
     "execution_count": 32,
     "metadata": {},
     "output_type": "execute_result"
    },
    {
     "data": {
      "image/png": "[encoded data removed]",
      "text/plain": [
       "<Figure size 1152x432 with 1 Axes>"
      ]
     },
     "metadata": {
      "needs_background": "light"
     },
     "output_type": "display_data"
    }
   ],
   "source": [
    "plt.figure(figsize = (16,6))\n",
    "plt.plot(cumulativerevenue_a['date'], cumulativerevenue_a['revenue']/cumulativerevenue_a['orders'], label='A')\n",
    "plt.plot(cumulativerevenue_b['date'], cumulativerevenue_b['revenue']/cumulativerevenue_b['orders'], label='B')\n",
    "plt.legend()\n",
    "plt.title('Графики кумулятивного среднего чека по группам')"
   ]
  },
  {
   "cell_type": "markdown",
   "metadata": {},
   "source": [
    "Средний чек тоже становится равномерным ближе к концу теста: установился для группы A и падает после всплеска для группы B. Это влияние аномального значения, попавшего в группу А в середине теста. Тогда ей нужно больше данных, чтобы прийти к реальному среднему чеку и установиться на его уровне. Для группы А изначально тоже был всплеск, но не аномальный. Прост в группе изначально были крупные покупки. Потом был провал, а затем ситуация выровнялась."
   ]
  },
  {
   "cell_type": "markdown",
   "metadata": {},
   "source": [
    "#### Построение графика относительного изменения кумулятивного среднего чека группы B к группе A. Выводы и предположения."
   ]
  },
  {
   "cell_type": "markdown",
   "metadata": {},
   "source": [
    "Построим график относительного различия для среднего чека. Добавим горизонтальную ось методом axhline():"
   ]
  },
  {
   "cell_type": "code",
   "execution_count": 33,
   "metadata": {
    "scrolled": false
   },
   "outputs": [
    {
     "data": {
      "text/plain": [
       "Text(0.5, 1.0, 'График относительного изменения кумулятивного среднего чека группы B к группе A')"
      ]
     },
     "execution_count": 33,
     "metadata": {},
     "output_type": "execute_result"
    },
    {
     "data": {
      "image/png": "[encoded data removed]",
      "text/plain": [
       "<Figure size 1152x432 with 1 Axes>"
      ]
     },
     "metadata": {
      "needs_background": "light"
     },
     "output_type": "display_data"
    }
   ],
   "source": [
    "plt.figure(figsize = (16,6))\n",
    "mergedсumulativerev = (\n",
    "    cumulativerevenue_a.merge(cumulativerevenue_b, left_on='date', right_on='date',\n",
    "                          how='left', suffixes=['a', 'b'])\n",
    ")\n",
    "\n",
    "\n",
    "(\n",
    "    plt.plot (mergedсumulativerev['date'],((mergedсumulativerev['revenueb']/mergedсumulativerev['ordersb'])\n",
    "                                           /(mergedсumulativerev['revenuea']/mergedсumulativerev['ordersa'])-1))\n",
    ")\n",
    "plt.axhline(y=0, color='black', linestyle='--') \n",
    "plt.title('График относительного изменения кумулятивного среднего чека группы B к группе A')"
   ]
  },
  {
   "cell_type": "markdown",
   "metadata": {},
   "source": [
    "В нескольких точках на графике соотношение резко меняется, это выбросы или провалы в заказах. Будет рассмотренно позже."
   ]
  },
  {
   "cell_type": "markdown",
   "metadata": {},
   "source": [
    "#### Построение графика кумулятивной конверсии по группам. Выводы и предположения."
   ]
  },
  {
   "cell_type": "code",
   "execution_count": 34,
   "metadata": {},
   "outputs": [],
   "source": [
    "cumulativedata['conversion'] = cumulativedata['orders']/cumulativedata['visitors']\n",
    "cumulativedata_a = cumulativedata[cumulativedata['group']=='A']\n",
    "cumulativedata_b = cumulativedata[cumulativedata['group']=='B']\n"
   ]
  },
  {
   "cell_type": "code",
   "execution_count": 35,
   "metadata": {},
   "outputs": [
    {
     "data": {
      "text/plain": [
       "Text(0.5, 1.0, 'График кумулятивной конверсии по группам')"
      ]
     },
     "execution_count": 35,
     "metadata": {},
     "output_type": "execute_result"
    },
    {
     "data": {
      "image/png": "[encoded data removed]",
      "text/plain": [
       "<Figure size 1152x432 with 1 Axes>"
      ]
     },
     "metadata": {
      "needs_background": "light"
     },
     "output_type": "display_data"
    }
   ],
   "source": [
    "plt.figure(figsize = (16,6))\n",
    "plt.plot(cumulativedata_a['date'], cumulativedata_a['conversion'], label='A')\n",
    "plt.plot(cumulativedata_b['date'], cumulativedata_b['conversion'], label='B')\n",
    "plt.legend()\n",
    "plt.title('График кумулятивной конверсии по группам')\n"
   ]
  },
  {
   "cell_type": "markdown",
   "metadata": {},
   "source": [
    "График симметричный. В начале по А был выброс вверх, затем был провал по B. Но потом конверсия по В поднялась вверх и далее стабильно выше на 15-20%."
   ]
  },
  {
   "cell_type": "markdown",
   "metadata": {},
   "source": [
    "#### Построение графика относительного изменения кумулятивной конверсии группы B к группе A. Выводы и предположения."
   ]
  },
  {
   "cell_type": "code",
   "execution_count": 36,
   "metadata": {},
   "outputs": [
    {
     "data": {
      "text/plain": [
       "Text(0.5, 1.0, 'Относительный прирост конверсии группы B относительно группы A')"
      ]
     },
     "execution_count": 36,
     "metadata": {},
     "output_type": "execute_result"
    },
    {
     "data": {
      "image/png": "[encoded data removed]",
      "text/plain": [
       "<Figure size 1152x432 with 1 Axes>"
      ]
     },
     "metadata": {
      "needs_background": "light"
     },
     "output_type": "display_data"
    }
   ],
   "source": [
    "mergedсumulative_сon = (\n",
    "    cumulativedata_a[['date','conversion']].merge(cumulativedata_b[['date','conversion']],\n",
    "                                                  left_on='date', right_on='date', how='left', suffixes=['a', 'b'])\n",
    ")\n",
    "\n",
    "plt.figure(figsize = (16,6))\n",
    "(plt.plot(mergedсumulative_сon['date'], mergedсumulative_сon['conversionb']\n",
    "          /mergedсumulative_сon['conversiona']-1)\n",
    ")\n",
    "plt.axhline(y=0, color='black', linestyle='--')\n",
    "plt.axhline(y=0.15, color='grey', linestyle='--')\n",
    "plt.title ('Относительный прирост конверсии группы B относительно группы A')"
   ]
  },
  {
   "cell_type": "markdown",
   "metadata": {},
   "source": [
    "В начале теста конверсия по группе В значительно уступала, но затем вышла вперед и сейчас колеблется вокруг отметки 0,15."
   ]
  },
  {
   "cell_type": "markdown",
   "metadata": {},
   "source": [
    "#### Построение точечного графика количества заказов по пользователям. Выводы и предположения."
   ]
  },
  {
   "cell_type": "code",
   "execution_count": 37,
   "metadata": {},
   "outputs": [],
   "source": [
    "orders_by_users = (\n",
    "    orders.groupby('visitorid', as_index=False)\n",
    "    .agg({'transactionid': 'nunique'})\n",
    ")\n",
    "orders_by_users.columns = ['user_id', 'orders']"
   ]
  },
  {
   "cell_type": "code",
   "execution_count": 38,
   "metadata": {},
   "outputs": [
    {
     "data": {
      "text/plain": [
       "<matplotlib.collections.PathCollection at 0x7f52ab5ec4f0>"
      ]
     },
     "execution_count": 38,
     "metadata": {},
     "output_type": "execute_result"
    },
    {
     "data": {
      "image/png": "[encoded data removed]",
      "text/plain": [
       "<Figure size 1152x432 with 1 Axes>"
      ]
     },
     "metadata": {
      "needs_background": "light"
     },
     "output_type": "display_data"
    }
   ],
   "source": [
    "plt.figure(figsize = (16,6))\n",
    "x_values = pd.Series(range(0,len(orders_by_users)))\n",
    "\n",
    "plt.scatter(x_values, orders_by_users['orders'], c = [[0.1, 0.63, 0.55]]) "
   ]
  },
  {
   "cell_type": "markdown",
   "metadata": {},
   "source": [
    "Видим, что подавляющее количество пользователей сделало только по одному заказу, лишь некоторые по 2, и совсем немногие по 3."
   ]
  },
  {
   "cell_type": "markdown",
   "metadata": {},
   "source": [
    "#### Расчет 95-й и 99-й перцентили количества заказов на пользователя. Выбор границы для определения аномальных пользователей."
   ]
  },
  {
   "cell_type": "code",
   "execution_count": 39,
   "metadata": {},
   "outputs": [
    {
     "name": "stdout",
     "output_type": "stream",
     "text": [
      "[1. 1. 2.]\n"
     ]
    }
   ],
   "source": [
    "print(np.percentile(orders_by_users['orders'], [90, 95, 99])) "
   ]
  },
  {
   "cell_type": "markdown",
   "metadata": {},
   "source": [
    "Видим, что менее 1% пользователей совершили более одной покупки, и только 5% процентов совершили более одной покупки. В данном случае примем, что более одной покупки - аномальные значения."
   ]
  },
  {
   "cell_type": "markdown",
   "metadata": {},
   "source": [
    "#### Построение точечного графика стоимостей заказов. Выводы и предположения."
   ]
  },
  {
   "cell_type": "code",
   "execution_count": 40,
   "metadata": {
    "scrolled": false
   },
   "outputs": [
    {
     "data": {
      "text/plain": [
       "<matplotlib.collections.PathCollection at 0x7f52ab3c9df0>"
      ]
     },
     "execution_count": 40,
     "metadata": {},
     "output_type": "execute_result"
    },
    {
     "data": {
      "image/png": "[encoded data removed]",
      "text/plain": [
       "<Figure size 1152x432 with 1 Axes>"
      ]
     },
     "metadata": {
      "needs_background": "light"
     },
     "output_type": "display_data"
    }
   ],
   "source": [
    "plt.figure(figsize = (16,6))\n",
    "x_values = pd.Series(range(0,len(orders['revenue'])))\n",
    "plt.scatter(x_values, orders['revenue'], c='magenta') "
   ]
  },
  {
   "cell_type": "markdown",
   "metadata": {},
   "source": [
    "График выглядит так, что аномальных значений только два. Одно около 1,5 млн. и одно около 200 тыс."
   ]
  },
  {
   "cell_type": "markdown",
   "metadata": {},
   "source": [
    "#### Расчет 95-й и 99-й перцентили стоимости заказов. Выбор границы для определения аномальных заказов."
   ]
  },
  {
   "cell_type": "code",
   "execution_count": 41,
   "metadata": {},
   "outputs": [
    {
     "name": "stdout",
     "output_type": "stream",
     "text": [
      "[17990. 26785. 53904.]\n"
     ]
    }
   ],
   "source": [
    "print(np.percentile(orders['revenue'], [90, 95, 99])) "
   ]
  },
  {
   "cell_type": "markdown",
   "metadata": {},
   "source": [
    "Видим, что менее одного процента пользователей совершили покупку на сумму более 53 904, и менее 5%  на сумму более 26 785. Будем считать значения более 26 785 аномальными."
   ]
  },
  {
   "cell_type": "markdown",
   "metadata": {},
   "source": [
    "#### Расчет статистической значимости различий в конверсии между группами по «сырым» данным. Выводы и предположения."
   ]
  },
  {
   "cell_type": "markdown",
   "metadata": {},
   "source": [
    "Подготовим данные для последующего анализа. Соберем в одну таблицу данные по датам и агрегированные по посетителям, заказам, суммам заказов."
   ]
  },
  {
   "cell_type": "code",
   "execution_count": 42,
   "metadata": {},
   "outputs": [],
   "source": [
    "visitors_a_daily = visitors[visitors['group'] == 'A'][['date', 'visitors']]\n",
    "visitors_a_daily.columns = ['date', 'visitors_perdate_a']\n",
    "\n",
    "visitors_a_cum = visitors_a_daily.apply(\n",
    "    lambda x: visitors_a_daily[visitors_a_daily['date'] <= x['date']].agg(\n",
    "        {'date': 'max', 'visitors_perdate_a': 'sum'}\n",
    "    ),\n",
    "    axis=1,\n",
    ")\n",
    "visitors_a_cum.columns = ['date', 'visitors_cum_a']\n",
    "\n",
    "visitors_b_daily = visitors[visitors['group'] == 'B'][['date', 'visitors']]\n",
    "visitors_b_daily.columns = ['date', 'visitors_perdate_b']\n",
    "\n",
    "visitors_b_cum = visitors_b_daily.apply(\n",
    "    lambda x: visitors_b_daily[visitors_b_daily['date'] <= x['date']].agg(\n",
    "        {'date': 'max', 'visitors_perdate_b': 'sum'}\n",
    "    ),\n",
    "    axis=1,\n",
    ")\n",
    "visitors_b_cum.columns = ['date', 'visitors_cum_b']"
   ]
  },
  {
   "cell_type": "code",
   "execution_count": 43,
   "metadata": {},
   "outputs": [],
   "source": [
    "orders_a_daily = (\n",
    "    orders[orders['group'] == 'A'][['date', 'transactionid', 'visitorid', 'revenue']]\n",
    "    .groupby('date', as_index=False)\n",
    "    .agg({'transactionid': pd.Series.nunique, 'revenue': 'sum'})\n",
    ")\n",
    "orders_a_daily.columns = ['date', 'orders_perdate_a', 'revenue_perdate_a']\n",
    "\n",
    "orders_a_cum = orders_a_daily.apply(\n",
    "    lambda x: orders_a_daily[orders_a_daily['date'] <= x['date']].agg(\n",
    "        {'date': 'max', 'orders_perdate_a': 'sum', 'revenue_perdate_a': 'sum'}\n",
    "    ),\n",
    "    axis=1,\n",
    ").sort_values(by=['date'])\n",
    "orders_a_cum.columns = [\n",
    "    'date',\n",
    "    'orders_cum_a',\n",
    "    'revenue_cum_a',\n",
    "]\n",
    "\n",
    "orders_b_daily = (\n",
    "    orders[orders['group'] == 'B'][['date', 'transactionid', 'visitorid', 'revenue']]\n",
    "    .groupby('date', as_index=False)\n",
    "    .agg({'transactionid': pd.Series.nunique, 'revenue': 'sum'})\n",
    ")\n",
    "orders_b_daily.columns = ['date', 'orders_perdate_b', 'revenue_perdate_b']\n",
    "\n",
    "orders_b_cum = orders_b_daily.apply(\n",
    "    lambda x: orders_b_daily[orders_b_daily['date'] <= x['date']].agg(\n",
    "        {'date': 'max', 'orders_perdate_b': 'sum', 'revenue_perdate_b': 'sum'}\n",
    "    ),\n",
    "    axis=1,\n",
    ").sort_values(by=['date'])\n",
    "orders_b_cum.columns = [\n",
    "    'date',\n",
    "    'orders_cum_b',\n",
    "    'revenue_cum_b',\n",
    "]\n"
   ]
  },
  {
   "cell_type": "code",
   "execution_count": 44,
   "metadata": {},
   "outputs": [
    {
     "name": "stdout",
     "output_type": "stream",
     "text": [
      "        date  orders_perdate_a  revenue_perdate_a  orders_perdate_b  \\\n",
      "0 2019-08-01                23             142779                17   \n",
      "1 2019-08-02                19              91602                23   \n",
      "2 2019-08-03                24             112473                14   \n",
      "3 2019-08-04                11              41176                14   \n",
      "4 2019-08-05                22              86383                21   \n",
      "\n",
      "   revenue_perdate_b  orders_cum_a  revenue_cum_a  orders_cum_b  \\\n",
      "0              59758            23         142779            17   \n",
      "1             162043            42         234381            40   \n",
      "2              67049            66         346854            54   \n",
      "3              96890            77         388030            68   \n",
      "4              89908            99         474413            89   \n",
      "\n",
      "   revenue_cum_b  visitors_perdate_a  visitors_perdate_b  visitors_cum_a  \\\n",
      "0          59758                 719                 713             719   \n",
      "1         221801                 619                 581            1338   \n",
      "2         288850                 507                 509            1845   \n",
      "3         385740                 717                 770            2562   \n",
      "4         475648                 756                 707            3318   \n",
      "\n",
      "   visitors_cum_b  \n",
      "0             713  \n",
      "1            1294  \n",
      "2            1803  \n",
      "3            2573  \n",
      "4            3280  \n"
     ]
    }
   ],
   "source": [
    "data_nf = (\n",
    "    orders_a_daily.merge(\n",
    "        orders_b_daily, left_on='date', right_on='date', how='left'\n",
    "    )\n",
    "    .merge(orders_a_cum, left_on='date', right_on='date', how='left')\n",
    "    .merge(orders_b_cum, left_on='date', right_on='date', how='left')\n",
    "    .merge(visitors_a_daily, left_on='date', right_on='date', how='left')\n",
    "    .merge(visitors_b_daily, left_on='date', right_on='date', how='left')\n",
    "    .merge(visitors_a_cum, left_on='date', right_on='date', how='left')\n",
    "    .merge(visitors_b_cum, left_on='date', right_on='date', how='left')\n",
    ")\n",
    "\n",
    "print(data_nf.head()) "
   ]
  },
  {
   "cell_type": "markdown",
   "metadata": {},
   "source": [
    "Создадим переменные orders_bu_a и orders_bu_b со столбцами ['user_id', 'orders']. В них для пользователей, которые заказывали хотя бы 1 раз, укажем число совершённых заказов. "
   ]
  },
  {
   "cell_type": "code",
   "execution_count": 45,
   "metadata": {},
   "outputs": [
    {
     "name": "stdout",
     "output_type": "stream",
     "text": [
      "    user_id  orders\n",
      "0  11685486       1\n",
      "1  54447517       1\n",
      "2  66685450       1\n",
      "3  78758296       1\n",
      "4  85103373       1\n",
      "    user_id  orders\n",
      "0   5114589       1\n",
      "1   6958315       1\n",
      "2  39475350       1\n",
      "3  47206413       1\n",
      "4  48147722       1\n"
     ]
    }
   ],
   "source": [
    "orders_bu_a = (\n",
    "    orders[orders['group'] == 'A']\n",
    "    .groupby('visitorid', as_index=False)\n",
    "    .agg({'transactionid': pd.Series.nunique})\n",
    ")\n",
    "orders_bu_a.columns = ['user_id', 'orders']\n",
    "\n",
    "orders_bu_b = (\n",
    "    orders[orders['group'] == 'B']\n",
    "    .groupby('visitorid', as_index=False)\n",
    "    .agg({'transactionid': pd.Series.nunique})\n",
    ")\n",
    "orders_bu_b.columns = ['user_id', 'orders'] \n",
    "print(orders_bu_a.head())\n",
    "print(orders_bu_b.head())"
   ]
  },
  {
   "cell_type": "markdown",
   "metadata": {},
   "source": [
    "Объявим переменные sample_a и sample_b, в которых пользователям из разных групп будет соответствовать количество заказов. Тем, кто ничего не заказал, будут соответствовать нули. Это нужно, чтобы подготовить выборки к проверке критерием Манна-Уитни."
   ]
  },
  {
   "cell_type": "code",
   "execution_count": 46,
   "metadata": {},
   "outputs": [],
   "source": [
    "sample_a = (\n",
    "    pd.concat([orders_bu_a['orders'],pd.Series(0, index=np.arange(data_nf['visitors_perdate_a'].sum()\n",
    "    - len(orders_bu_a['orders'])), name='orders')],axis=0)\n",
    ")\n",
    "\n",
    "sample_b = (\n",
    "    pd.concat([orders_bu_b['orders'],pd.Series(0, index=np.arange(data_nf['visitors_perdate_b'].sum()\n",
    "    - len(orders_bu_a['orders'])), name='orders')],axis=0)\n",
    ")"
   ]
  },
  {
   "cell_type": "markdown",
   "metadata": {},
   "source": [
    "Примем, как нулевую гипотезу, что разница в выборках статистически не значима. Альтернативная - разница статистически значима."
   ]
  },
  {
   "cell_type": "code",
   "execution_count": 47,
   "metadata": {},
   "outputs": [
    {
     "name": "stdout",
     "output_type": "stream",
     "text": [
      "0.013\n",
      "0.155\n",
      "Отвергаем нулевую гипотезу: разница статистически значима\n"
     ]
    }
   ],
   "source": [
    "print(\"{0:.3f}\".format(stats.mannwhitneyu(sample_a, sample_b)[1]))\n",
    "\n",
    "print(\"{0:.3f}\".format(sample_b.mean() / sample_a.mean() - 1))\n",
    "results = stats.mannwhitneyu(sample_a, sample_b)\n",
    "\n",
    "alpha = 0.05\n",
    "if results.pvalue < alpha:\n",
    "    print('Отвергаем нулевую гипотезу: разница статистически значима')\n",
    "else:\n",
    "    print(\n",
    "        'Не получилось отвергнуть нулевую гипотезу, вывод о различии сделать нельзя'\n",
    "    ) "
   ]
  },
  {
   "cell_type": "markdown",
   "metadata": {},
   "source": [
    "Можем сделать вывод о различии результатов в группах А и В. Относительный выигрыш в группе В 15.5%"
   ]
  },
  {
   "cell_type": "markdown",
   "metadata": {},
   "source": [
    "#### Расчет статистической значимости различий в среднем чеке заказа между группами по «сырым» данным. Сделайте выводы и предположения."
   ]
  },
  {
   "cell_type": "markdown",
   "metadata": {},
   "source": [
    "Найдём относительные различия в среднем чеке между группами. Примем как нулевую гипотезу, что разницы между группами по среднему чеку заказа нет, а альтернативную, что разница есть :"
   ]
  },
  {
   "cell_type": "code",
   "execution_count": 48,
   "metadata": {},
   "outputs": [
    {
     "name": "stdout",
     "output_type": "stream",
     "text": [
      "0.829\n",
      "0.287\n"
     ]
    }
   ],
   "source": [
    "print(\n",
    "    ('{0:.3f}'.format(stats.mannwhitneyu(orders[orders['group']=='A']['revenue'],\n",
    "                                         orders[orders['group']=='B']['revenue'])[1]))\n",
    ")\n",
    "print('{0:.3f}'.format(orders[orders['group']=='B']['revenue'].mean()/orders[orders['group']=='A']['revenue'].mean()-1)) "
   ]
  },
  {
   "cell_type": "code",
   "execution_count": 49,
   "metadata": {},
   "outputs": [
    {
     "name": "stdout",
     "output_type": "stream",
     "text": [
      "Не получилось отвергнуть нулевую гипотезу, вывод о различии сделать нельзя\n"
     ]
    }
   ],
   "source": [
    "results = stats.mannwhitneyu(orders[orders['group']=='A']['revenue'], orders[orders['group']=='B']['revenue'])\n",
    "\n",
    "alpha = 0.05\n",
    "if results.pvalue < alpha:\n",
    "    print('Отвергаем нулевую гипотезу: разница статистически значима')\n",
    "else:\n",
    "    print(\n",
    "        'Не получилось отвергнуть нулевую гипотезу, вывод о различии сделать нельзя'\n",
    "    ) "
   ]
  },
  {
   "cell_type": "markdown",
   "metadata": {},
   "source": [
    "Видим, что на \"сырых\" данных статистически значимых различий между группами в среднем чеке нет. Хотя средний чек в группе А заметно меньше (почти на 30%)."
   ]
  },
  {
   "cell_type": "markdown",
   "metadata": {},
   "source": [
    "#### Расчет статистической значимости различий в конверсии между группами по «очищенным» данным. Выводы и предположения."
   ]
  },
  {
   "cell_type": "markdown",
   "metadata": {},
   "source": [
    "Очистим данные. Ранее мы приняли решения считать аномальными количество заказов более 1 и выручки более 26785."
   ]
  },
  {
   "cell_type": "code",
   "execution_count": 50,
   "metadata": {
    "scrolled": false
   },
   "outputs": [
    {
     "name": "stdout",
     "output_type": "stream",
     "text": [
      "36      366673373\n",
      "58      611059232\n",
      "64      678354126\n",
      "72      759473111\n",
      "171    1617417821\n",
      "Name: user_id, dtype: int64\n",
      "36\n",
      "73     2947100995\n",
      "77      787824685\n",
      "78     3288820196\n",
      "131    2254586615\n",
      "137    1211585711\n",
      "Name: visitorid, dtype: int64\n",
      "51\n",
      "568     113298937\n",
      "1099    148427295\n",
      "928     204675465\n",
      "33      249864742\n",
      "684     358944393\n",
      "dtype: int64\n",
      "86\n"
     ]
    }
   ],
   "source": [
    "users_wmo = pd.concat(\n",
    "    [\n",
    "        orders_bu_a[orders_bu_a['orders'] > 1]['user_id'],\n",
    "        orders_bu_b[orders_bu_b['orders'] > 1]['user_id'],\n",
    "    ],\n",
    "    axis=0,\n",
    ")\n",
    "print(users_wmo.head(5))\n",
    "print(users_wmo.shape[0]) \n",
    "users_weo = orders[orders['revenue'] > 26785]['visitorid']\n",
    "\n",
    "abnormal_users = (\n",
    "    pd.concat([users_wmo, users_weo], axis=0)\n",
    "    .drop_duplicates()\n",
    "    .sort_values()\n",
    ")\n",
    "print(users_weo.head(5))\n",
    "print(users_weo.shape[0]) \n",
    "print(abnormal_users.head(5))\n",
    "print(abnormal_users.shape[0]) "
   ]
  },
  {
   "cell_type": "markdown",
   "metadata": {},
   "source": [
    "Итого в общей сложности 87 аномальных пользователей"
   ]
  },
  {
   "cell_type": "code",
   "execution_count": 51,
   "metadata": {},
   "outputs": [],
   "source": [
    "sample_a_fil = (\n",
    "    pd.concat([orders_bu_a[np.logical_not(orders_bu_a['user_id'].isin(abnormal_users))]['orders']\n",
    "               ,pd.Series(0,index=np.arange(data_nf['visitors_perdate_a'].sum() - len(orders_bu_a['orders']))\n",
    "                          ,name='orders',),],axis=0,)\n",
    ")\n",
    "\n",
    "sample_b_fil = (\n",
    "    pd.concat([orders_bu_b[np.logical_not(orders_bu_b['user_id'].isin(abnormal_users))]['orders']\n",
    "               ,pd.Series(0,index=np.arange(data_nf['visitors_perdate_b'].sum() - len(orders_bu_b['orders']))\n",
    "                          ,name='orders',),],axis=0,)\n",
    ")"
   ]
  },
  {
   "cell_type": "markdown",
   "metadata": {},
   "source": [
    "Применим статистический критерий Манна-Уитни к полученным выборкам. Примем, как нулевую гипотезу, что разница в выборках статистически не значима. Альтернативная - разница статистически значима."
   ]
  },
  {
   "cell_type": "code",
   "execution_count": 52,
   "metadata": {},
   "outputs": [
    {
     "name": "stdout",
     "output_type": "stream",
     "text": [
      "0.016\n",
      "0.174\n"
     ]
    }
   ],
   "source": [
    "print(\"{0:.3f}\".format(stats.mannwhitneyu(sample_a_fil, sample_b_fil)[1]))\n",
    "\n",
    "print(\"{0:.3f}\".format(sample_b_fil.mean()/sample_a_fil.mean() - 1))\n"
   ]
  },
  {
   "cell_type": "code",
   "execution_count": 53,
   "metadata": {},
   "outputs": [
    {
     "name": "stdout",
     "output_type": "stream",
     "text": [
      "Отвергаем нулевую гипотезу: разница статистически значима\n"
     ]
    }
   ],
   "source": [
    "results = stats.mannwhitneyu(sample_a_fil, sample_b_fil)\n",
    "\n",
    "alpha = 0.05\n",
    "if results.pvalue < alpha:\n",
    "    print('Отвергаем нулевую гипотезу: разница статистически значима')\n",
    "else:\n",
    "    print(\n",
    "        'Не получилось отвергнуть нулевую гипотезу, вывод о различии сделать нельзя'\n",
    "    ) "
   ]
  },
  {
   "cell_type": "markdown",
   "metadata": {},
   "source": [
    "Можно сделать вывод о статистически значимой разнице в выборках А и В. Причем значение p-value увеличилась, а разница между сегментами выросла до 17,4%"
   ]
  },
  {
   "cell_type": "markdown",
   "metadata": {},
   "source": [
    "#### Расчет статистической значимости различий в среднем чеке заказа между группами по «очищенным» данным. Выводы и предположения."
   ]
  },
  {
   "cell_type": "code",
   "execution_count": 54,
   "metadata": {},
   "outputs": [
    {
     "name": "stdout",
     "output_type": "stream",
     "text": [
      "0.727\n",
      "-0.034\n"
     ]
    }
   ],
   "source": [
    "print(\n",
    "    '{0:.3f}'.format(\n",
    "        stats.mannwhitneyu(\n",
    "            orders[\n",
    "                np.logical_and(\n",
    "                    orders['group'] == 'A',\n",
    "                    np.logical_not(orders['visitorid'].isin(abnormal_users)),\n",
    "                )\n",
    "            ]['revenue'],\n",
    "            orders[\n",
    "                np.logical_and(\n",
    "                    orders['group'] == 'B',\n",
    "                    np.logical_not(orders['visitorid'].isin(abnormal_users)),\n",
    "                )\n",
    "            ]['revenue'],\n",
    "        )[1]\n",
    "    )\n",
    ")\n",
    "\n",
    "print(\n",
    "    \"{0:.3f}\".format(\n",
    "        orders[\n",
    "            np.logical_and(\n",
    "                orders['group'] == 'B',\n",
    "                np.logical_not(orders['visitorid'].isin(abnormal_users)),\n",
    "            )\n",
    "        ]['revenue'].mean()\n",
    "        / orders[\n",
    "            np.logical_and(\n",
    "                orders['group'] == 'A',\n",
    "                np.logical_not(orders['visitorid'].isin(abnormal_users)),\n",
    "            )\n",
    "        ]['revenue'].mean()\n",
    "        - 1\n",
    "    )\n",
    ") "
   ]
  },
  {
   "cell_type": "code",
   "execution_count": 55,
   "metadata": {},
   "outputs": [
    {
     "name": "stdout",
     "output_type": "stream",
     "text": [
      "Не получилось отвергнуть нулевую гипотезу, вывод о различии сделать нельзя\n"
     ]
    }
   ],
   "source": [
    "results = (\n",
    "    stats.mannwhitneyu( orders[np.logical_and(orders['group'] == 'A',\n",
    "                    np.logical_not(orders['visitorid'].isin(abnormal_users)),)]['revenue'],\n",
    "                       orders[np.logical_and(orders['group'] == 'B', \n",
    "                    np.logical_not(orders['visitorid'].isin(abnormal_users)),)]['revenue'],)\n",
    ")\n",
    "\n",
    "alpha = 0.05\n",
    "if results.pvalue < alpha:\n",
    "    print('Отвергаем нулевую гипотезу: разница статистически значима')\n",
    "else:\n",
    "    print(\n",
    "        'Не получилось отвергнуть нулевую гипотезу, вывод о различии сделать нельзя'\n",
    "    ) "
   ]
  },
  {
   "cell_type": "markdown",
   "metadata": {},
   "source": [
    "Статистически значимых различий в выборке по среднему чеку нет. Хотя на очищенных данных средний чек по выборке А незначительно, но больше."
   ]
  },
  {
   "cell_type": "markdown",
   "metadata": {},
   "source": [
    "## Общие выводы и рекомендации по целесообразности проведения теста."
   ]
  },
  {
   "cell_type": "markdown",
   "metadata": {},
   "source": [
    "### Выводы"
   ]
  },
  {
   "cell_type": "markdown",
   "metadata": {},
   "source": [
    "1. Есть заметные различия по количеству заказов и на сырых данных, и по данным после фильтрации аномалий. В пользу группы В.\n",
    "2. По средним чекам статистически значимых различий нет ни по сырым данным, ни по данным после фильтрации. Можно говорить о немного большей величине среднего чека для А, но невозможно сказать устойчивая ли это тенденция.\n",
    "3. График относительного изменения среднего чека (п.3.2.3) говорит о том, что средний чек по В выше, чем по А, но проявилась тенденция к снижению. Пока неясно, насколько она устойчивая.\n",
    "4. График различия конверсии (п 3.2.5) говорит об устойчиво более высокой конверсии в группе В.\n"
   ]
  },
  {
   "cell_type": "markdown",
   "metadata": {},
   "source": [
    "### Общая рекомендация"
   ]
  },
  {
   "cell_type": "markdown",
   "metadata": {},
   "source": [
    "Видим, что группа В показывает устойчиво лучшую конверсию. При сравнимом среднем чеке это дает прирост продаж. Но не совсем ясен вопрос о том, на сколько устойчива тенденция к снижению среднего чека. Рекомендуется продолжить эксперимент, чтобы подтвердить/опровергнуть устойчивость снижения среднего чека в группе B."
   ]
  }
 ],
 "metadata": {
  "ExecuteTimeLog": [
   {
    "duration": 81,
    "start_time": "2022-08-20T16:20:43.369Z"
   },
   {
    "duration": 1130,
    "start_time": "2022-08-20T16:54:46.415Z"
   },
   {
    "duration": 26,
    "start_time": "2022-08-20T16:58:26.496Z"
   },
   {
    "duration": 140,
    "start_time": "2022-08-20T17:02:51.490Z"
   },
   {
    "duration": 916,
    "start_time": "2022-08-20T17:03:09.563Z"
   },
   {
    "duration": 97,
    "start_time": "2022-08-20T17:03:10.481Z"
   },
   {
    "duration": 18,
    "start_time": "2022-08-20T17:03:10.579Z"
   },
   {
    "duration": 990,
    "start_time": "2022-08-20T17:04:44.804Z"
   },
   {
    "duration": 66,
    "start_time": "2022-08-20T17:04:45.796Z"
   },
   {
    "duration": 17,
    "start_time": "2022-08-20T17:04:45.863Z"
   },
   {
    "duration": 92,
    "start_time": "2022-08-20T17:04:45.882Z"
   },
   {
    "duration": 101,
    "start_time": "2022-08-20T17:04:45.976Z"
   },
   {
    "duration": 959,
    "start_time": "2022-08-20T17:05:14.429Z"
   },
   {
    "duration": 62,
    "start_time": "2022-08-20T17:05:15.390Z"
   },
   {
    "duration": 16,
    "start_time": "2022-08-20T17:05:15.454Z"
   },
   {
    "duration": 36,
    "start_time": "2022-08-20T17:05:15.472Z"
   },
   {
    "duration": 13,
    "start_time": "2022-08-20T17:05:15.509Z"
   },
   {
    "duration": 71,
    "start_time": "2022-08-20T17:08:18.322Z"
   },
   {
    "duration": 15,
    "start_time": "2022-08-20T17:08:19.815Z"
   },
   {
    "duration": 1240,
    "start_time": "2022-08-20T20:32:57.313Z"
   },
   {
    "duration": 115,
    "start_time": "2022-08-20T20:32:58.555Z"
   },
   {
    "duration": 18,
    "start_time": "2022-08-20T20:32:58.672Z"
   },
   {
    "duration": 130,
    "start_time": "2022-08-20T20:32:58.692Z"
   },
   {
    "duration": 14,
    "start_time": "2022-08-20T20:32:58.824Z"
   },
   {
    "duration": 53,
    "start_time": "2022-08-20T20:32:58.840Z"
   },
   {
    "duration": 13,
    "start_time": "2022-08-20T20:32:58.895Z"
   },
   {
    "duration": 4,
    "start_time": "2022-08-20T20:38:58.927Z"
   },
   {
    "duration": 201,
    "start_time": "2022-08-20T20:43:01.958Z"
   },
   {
    "duration": 129,
    "start_time": "2022-08-20T20:43:25.827Z"
   },
   {
    "duration": 225,
    "start_time": "2022-08-20T20:44:00.181Z"
   },
   {
    "duration": 444,
    "start_time": "2022-08-20T20:44:21.949Z"
   },
   {
    "duration": 159,
    "start_time": "2022-08-20T20:45:33.012Z"
   },
   {
    "duration": 136,
    "start_time": "2022-08-20T20:45:52.176Z"
   },
   {
    "duration": 202,
    "start_time": "2022-08-20T20:48:15.433Z"
   },
   {
    "duration": 128,
    "start_time": "2022-08-20T20:49:25.285Z"
   },
   {
    "duration": 3,
    "start_time": "2022-08-20T20:59:38.678Z"
   },
   {
    "duration": 1487,
    "start_time": "2022-08-20T21:00:04.386Z"
   },
   {
    "duration": 3,
    "start_time": "2022-08-20T21:00:47.583Z"
   },
   {
    "duration": 132,
    "start_time": "2022-08-20T21:01:37.598Z"
   },
   {
    "duration": 4,
    "start_time": "2022-08-20T21:05:25.779Z"
   },
   {
    "duration": 5,
    "start_time": "2022-08-20T21:07:48.459Z"
   },
   {
    "duration": 49,
    "start_time": "2022-08-20T21:24:19.049Z"
   },
   {
    "duration": 941,
    "start_time": "2022-08-20T21:25:50.238Z"
   },
   {
    "duration": 73,
    "start_time": "2022-08-20T21:25:51.181Z"
   },
   {
    "duration": 18,
    "start_time": "2022-08-20T21:25:51.255Z"
   },
   {
    "duration": 53,
    "start_time": "2022-08-20T21:25:51.274Z"
   },
   {
    "duration": 0,
    "start_time": "2022-08-20T21:25:51.328Z"
   },
   {
    "duration": 0,
    "start_time": "2022-08-20T21:25:51.329Z"
   },
   {
    "duration": 0,
    "start_time": "2022-08-20T21:25:51.330Z"
   },
   {
    "duration": 0,
    "start_time": "2022-08-20T21:25:51.332Z"
   },
   {
    "duration": 0,
    "start_time": "2022-08-20T21:25:51.333Z"
   },
   {
    "duration": 0,
    "start_time": "2022-08-20T21:25:51.333Z"
   },
   {
    "duration": 0,
    "start_time": "2022-08-20T21:25:51.334Z"
   },
   {
    "duration": 0,
    "start_time": "2022-08-20T21:25:51.335Z"
   },
   {
    "duration": 0,
    "start_time": "2022-08-20T21:25:51.337Z"
   },
   {
    "duration": 0,
    "start_time": "2022-08-20T21:25:51.338Z"
   },
   {
    "duration": 0,
    "start_time": "2022-08-20T21:25:51.339Z"
   },
   {
    "duration": 87,
    "start_time": "2022-08-20T21:27:43.345Z"
   },
   {
    "duration": 969,
    "start_time": "2022-08-20T21:28:12.546Z"
   },
   {
    "duration": 87,
    "start_time": "2022-08-20T21:28:13.517Z"
   },
   {
    "duration": 22,
    "start_time": "2022-08-20T21:28:13.606Z"
   },
   {
    "duration": 10,
    "start_time": "2022-08-20T21:28:13.630Z"
   },
   {
    "duration": 42,
    "start_time": "2022-08-20T21:28:13.642Z"
   },
   {
    "duration": 16,
    "start_time": "2022-08-20T21:28:13.686Z"
   },
   {
    "duration": 18,
    "start_time": "2022-08-20T21:28:13.704Z"
   },
   {
    "duration": 150,
    "start_time": "2022-08-20T21:28:13.724Z"
   },
   {
    "duration": 11,
    "start_time": "2022-08-20T21:28:13.876Z"
   },
   {
    "duration": 15,
    "start_time": "2022-08-20T21:28:13.890Z"
   },
   {
    "duration": 15,
    "start_time": "2022-08-20T21:28:13.907Z"
   },
   {
    "duration": 6,
    "start_time": "2022-08-20T21:28:13.924Z"
   },
   {
    "duration": 160,
    "start_time": "2022-08-20T21:28:13.932Z"
   },
   {
    "duration": 4,
    "start_time": "2022-08-20T21:28:14.094Z"
   },
   {
    "duration": 16,
    "start_time": "2022-08-20T21:28:14.100Z"
   },
   {
    "duration": 5,
    "start_time": "2022-08-20T21:29:55.642Z"
   },
   {
    "duration": 8,
    "start_time": "2022-08-20T21:31:26.418Z"
   },
   {
    "duration": 4,
    "start_time": "2022-08-20T21:32:23.213Z"
   },
   {
    "duration": 10,
    "start_time": "2022-08-20T21:35:17.334Z"
   },
   {
    "duration": 11,
    "start_time": "2022-08-20T21:40:04.914Z"
   },
   {
    "duration": 11,
    "start_time": "2022-08-20T21:40:19.115Z"
   },
   {
    "duration": 14,
    "start_time": "2022-08-20T21:40:54.828Z"
   },
   {
    "duration": 12,
    "start_time": "2022-08-20T21:41:10.940Z"
   },
   {
    "duration": 990,
    "start_time": "2022-08-20T21:46:49.381Z"
   },
   {
    "duration": 79,
    "start_time": "2022-08-20T21:46:50.373Z"
   },
   {
    "duration": 21,
    "start_time": "2022-08-20T21:46:50.454Z"
   },
   {
    "duration": 6,
    "start_time": "2022-08-20T21:46:50.478Z"
   },
   {
    "duration": 18,
    "start_time": "2022-08-20T21:46:50.487Z"
   },
   {
    "duration": 45,
    "start_time": "2022-08-20T21:46:50.507Z"
   },
   {
    "duration": 14,
    "start_time": "2022-08-20T21:46:50.554Z"
   },
   {
    "duration": 6,
    "start_time": "2022-08-20T21:46:50.570Z"
   },
   {
    "duration": 4,
    "start_time": "2022-08-20T21:46:50.578Z"
   },
   {
    "duration": 134,
    "start_time": "2022-08-20T21:46:50.585Z"
   },
   {
    "duration": 5,
    "start_time": "2022-08-20T21:46:50.720Z"
   },
   {
    "duration": 18,
    "start_time": "2022-08-20T21:46:50.726Z"
   },
   {
    "duration": 14,
    "start_time": "2022-08-20T21:46:50.746Z"
   },
   {
    "duration": 10,
    "start_time": "2022-08-20T21:46:50.762Z"
   },
   {
    "duration": 22,
    "start_time": "2022-08-20T21:46:50.773Z"
   },
   {
    "duration": 129,
    "start_time": "2022-08-20T21:46:50.797Z"
   },
   {
    "duration": 4,
    "start_time": "2022-08-20T21:46:50.928Z"
   },
   {
    "duration": 24,
    "start_time": "2022-08-20T21:46:50.933Z"
   },
   {
    "duration": 13,
    "start_time": "2022-08-20T21:46:50.959Z"
   },
   {
    "duration": 1147,
    "start_time": "2022-08-21T10:08:43.679Z"
   },
   {
    "duration": 109,
    "start_time": "2022-08-21T10:08:44.829Z"
   },
   {
    "duration": 20,
    "start_time": "2022-08-21T10:08:44.939Z"
   },
   {
    "duration": 5,
    "start_time": "2022-08-21T10:08:44.961Z"
   },
   {
    "duration": 12,
    "start_time": "2022-08-21T10:08:44.968Z"
   },
   {
    "duration": 132,
    "start_time": "2022-08-21T10:08:44.986Z"
   },
   {
    "duration": 15,
    "start_time": "2022-08-21T10:08:45.120Z"
   },
   {
    "duration": 6,
    "start_time": "2022-08-21T10:08:45.136Z"
   },
   {
    "duration": 30,
    "start_time": "2022-08-21T10:08:45.144Z"
   },
   {
    "duration": 6,
    "start_time": "2022-08-21T10:08:45.176Z"
   },
   {
    "duration": 86,
    "start_time": "2022-08-21T10:08:45.183Z"
   },
   {
    "duration": 0,
    "start_time": "2022-08-21T10:08:45.271Z"
   },
   {
    "duration": 0,
    "start_time": "2022-08-21T10:08:45.272Z"
   },
   {
    "duration": 0,
    "start_time": "2022-08-21T10:08:45.273Z"
   },
   {
    "duration": 0,
    "start_time": "2022-08-21T10:08:45.274Z"
   },
   {
    "duration": 0,
    "start_time": "2022-08-21T10:08:45.275Z"
   },
   {
    "duration": 0,
    "start_time": "2022-08-21T10:08:45.276Z"
   },
   {
    "duration": 0,
    "start_time": "2022-08-21T10:08:45.277Z"
   },
   {
    "duration": 0,
    "start_time": "2022-08-21T10:08:45.286Z"
   },
   {
    "duration": 0,
    "start_time": "2022-08-21T10:08:45.287Z"
   },
   {
    "duration": 0,
    "start_time": "2022-08-21T10:08:45.288Z"
   },
   {
    "duration": 0,
    "start_time": "2022-08-21T10:08:45.289Z"
   },
   {
    "duration": 1015,
    "start_time": "2022-08-21T10:09:06.707Z"
   },
   {
    "duration": 78,
    "start_time": "2022-08-21T10:09:07.723Z"
   },
   {
    "duration": 20,
    "start_time": "2022-08-21T10:09:07.802Z"
   },
   {
    "duration": 11,
    "start_time": "2022-08-21T10:09:07.823Z"
   },
   {
    "duration": 12,
    "start_time": "2022-08-21T10:09:07.836Z"
   },
   {
    "duration": 41,
    "start_time": "2022-08-21T10:09:07.850Z"
   },
   {
    "duration": 14,
    "start_time": "2022-08-21T10:09:07.893Z"
   },
   {
    "duration": 4,
    "start_time": "2022-08-21T10:09:07.908Z"
   },
   {
    "duration": 25,
    "start_time": "2022-08-21T10:09:07.914Z"
   },
   {
    "duration": 5,
    "start_time": "2022-08-21T10:09:07.941Z"
   },
   {
    "duration": 41,
    "start_time": "2022-08-21T10:09:07.947Z"
   },
   {
    "duration": 4,
    "start_time": "2022-08-21T10:09:07.989Z"
   },
   {
    "duration": 147,
    "start_time": "2022-08-21T10:09:07.994Z"
   },
   {
    "duration": 4,
    "start_time": "2022-08-21T10:09:08.143Z"
   },
   {
    "duration": 60,
    "start_time": "2022-08-21T10:09:08.149Z"
   },
   {
    "duration": 15,
    "start_time": "2022-08-21T10:09:08.210Z"
   },
   {
    "duration": 8,
    "start_time": "2022-08-21T10:09:08.226Z"
   },
   {
    "duration": 6,
    "start_time": "2022-08-21T10:09:08.235Z"
   },
   {
    "duration": 133,
    "start_time": "2022-08-21T10:09:08.242Z"
   },
   {
    "duration": 4,
    "start_time": "2022-08-21T10:09:08.376Z"
   },
   {
    "duration": 15,
    "start_time": "2022-08-21T10:09:08.381Z"
   },
   {
    "duration": 10,
    "start_time": "2022-08-21T10:09:08.398Z"
   },
   {
    "duration": 981,
    "start_time": "2022-08-21T10:42:27.606Z"
   },
   {
    "duration": 80,
    "start_time": "2022-08-21T10:42:28.589Z"
   },
   {
    "duration": 20,
    "start_time": "2022-08-21T10:42:28.670Z"
   },
   {
    "duration": 7,
    "start_time": "2022-08-21T10:42:28.692Z"
   },
   {
    "duration": 15,
    "start_time": "2022-08-21T10:42:28.701Z"
   },
   {
    "duration": 39,
    "start_time": "2022-08-21T10:42:28.718Z"
   },
   {
    "duration": 15,
    "start_time": "2022-08-21T10:42:28.759Z"
   },
   {
    "duration": 6,
    "start_time": "2022-08-21T10:42:28.776Z"
   },
   {
    "duration": 33,
    "start_time": "2022-08-21T10:42:28.783Z"
   },
   {
    "duration": 5,
    "start_time": "2022-08-21T10:42:28.819Z"
   },
   {
    "duration": 20,
    "start_time": "2022-08-21T10:42:28.826Z"
   },
   {
    "duration": 3,
    "start_time": "2022-08-21T10:42:28.848Z"
   },
   {
    "duration": 151,
    "start_time": "2022-08-21T10:42:28.852Z"
   },
   {
    "duration": 5,
    "start_time": "2022-08-21T10:42:29.005Z"
   },
   {
    "duration": 33,
    "start_time": "2022-08-21T10:42:29.011Z"
   },
   {
    "duration": 14,
    "start_time": "2022-08-21T10:42:29.046Z"
   },
   {
    "duration": 8,
    "start_time": "2022-08-21T10:42:29.062Z"
   },
   {
    "duration": 6,
    "start_time": "2022-08-21T10:42:29.071Z"
   },
   {
    "duration": 133,
    "start_time": "2022-08-21T10:42:29.078Z"
   },
   {
    "duration": 5,
    "start_time": "2022-08-21T10:42:29.212Z"
   },
   {
    "duration": 45,
    "start_time": "2022-08-21T10:42:29.218Z"
   },
   {
    "duration": 0,
    "start_time": "2022-08-21T10:42:29.265Z"
   },
   {
    "duration": 0,
    "start_time": "2022-08-21T10:42:29.266Z"
   },
   {
    "duration": 29,
    "start_time": "2022-08-21T10:43:15.800Z"
   },
   {
    "duration": 972,
    "start_time": "2022-08-21T10:43:44.718Z"
   },
   {
    "duration": 80,
    "start_time": "2022-08-21T10:43:45.691Z"
   },
   {
    "duration": 19,
    "start_time": "2022-08-21T10:43:45.773Z"
   },
   {
    "duration": 8,
    "start_time": "2022-08-21T10:43:45.794Z"
   },
   {
    "duration": 12,
    "start_time": "2022-08-21T10:43:45.804Z"
   },
   {
    "duration": 41,
    "start_time": "2022-08-21T10:43:45.818Z"
   },
   {
    "duration": 15,
    "start_time": "2022-08-21T10:43:45.860Z"
   },
   {
    "duration": 6,
    "start_time": "2022-08-21T10:43:45.877Z"
   },
   {
    "duration": 26,
    "start_time": "2022-08-21T10:43:45.884Z"
   },
   {
    "duration": 6,
    "start_time": "2022-08-21T10:43:45.912Z"
   },
   {
    "duration": 16,
    "start_time": "2022-08-21T10:43:45.919Z"
   },
   {
    "duration": 4,
    "start_time": "2022-08-21T10:43:45.937Z"
   },
   {
    "duration": 175,
    "start_time": "2022-08-21T10:43:45.943Z"
   },
   {
    "duration": 5,
    "start_time": "2022-08-21T10:43:46.120Z"
   },
   {
    "duration": 20,
    "start_time": "2022-08-21T10:43:46.127Z"
   },
   {
    "duration": 15,
    "start_time": "2022-08-21T10:43:46.149Z"
   },
   {
    "duration": 20,
    "start_time": "2022-08-21T10:43:46.166Z"
   },
   {
    "duration": 3,
    "start_time": "2022-08-21T10:43:46.189Z"
   },
   {
    "duration": 193,
    "start_time": "2022-08-21T10:43:46.194Z"
   },
   {
    "duration": 5,
    "start_time": "2022-08-21T10:43:46.389Z"
   },
   {
    "duration": 33,
    "start_time": "2022-08-21T10:43:46.396Z"
   },
   {
    "duration": 14,
    "start_time": "2022-08-21T10:43:46.431Z"
   },
   {
    "duration": 48,
    "start_time": "2022-08-21T10:43:46.447Z"
   },
   {
    "duration": 296,
    "start_time": "2022-08-21T10:44:27.555Z"
   },
   {
    "duration": 985,
    "start_time": "2022-08-21T10:44:54.508Z"
   },
   {
    "duration": 79,
    "start_time": "2022-08-21T10:44:55.495Z"
   },
   {
    "duration": 20,
    "start_time": "2022-08-21T10:44:55.575Z"
   },
   {
    "duration": 9,
    "start_time": "2022-08-21T10:44:55.598Z"
   },
   {
    "duration": 17,
    "start_time": "2022-08-21T10:44:55.609Z"
   },
   {
    "duration": 41,
    "start_time": "2022-08-21T10:44:55.628Z"
   },
   {
    "duration": 15,
    "start_time": "2022-08-21T10:44:55.671Z"
   },
   {
    "duration": 6,
    "start_time": "2022-08-21T10:44:55.687Z"
   },
   {
    "duration": 23,
    "start_time": "2022-08-21T10:44:55.694Z"
   },
   {
    "duration": 5,
    "start_time": "2022-08-21T10:44:55.720Z"
   },
   {
    "duration": 17,
    "start_time": "2022-08-21T10:44:55.727Z"
   },
   {
    "duration": 4,
    "start_time": "2022-08-21T10:44:55.746Z"
   },
   {
    "duration": 164,
    "start_time": "2022-08-21T10:44:55.751Z"
   },
   {
    "duration": 4,
    "start_time": "2022-08-21T10:44:55.916Z"
   },
   {
    "duration": 19,
    "start_time": "2022-08-21T10:44:55.922Z"
   },
   {
    "duration": 14,
    "start_time": "2022-08-21T10:44:55.942Z"
   },
   {
    "duration": 7,
    "start_time": "2022-08-21T10:44:55.958Z"
   },
   {
    "duration": 20,
    "start_time": "2022-08-21T10:44:55.966Z"
   },
   {
    "duration": 141,
    "start_time": "2022-08-21T10:44:55.989Z"
   },
   {
    "duration": 4,
    "start_time": "2022-08-21T10:44:56.132Z"
   },
   {
    "duration": 32,
    "start_time": "2022-08-21T10:44:56.138Z"
   },
   {
    "duration": 15,
    "start_time": "2022-08-21T10:44:56.189Z"
   },
   {
    "duration": 14,
    "start_time": "2022-08-21T10:44:56.206Z"
   },
   {
    "duration": 281,
    "start_time": "2022-08-21T10:49:37.723Z"
   },
   {
    "duration": 1032,
    "start_time": "2022-08-21T10:49:46.876Z"
   },
   {
    "duration": 87,
    "start_time": "2022-08-21T10:49:47.910Z"
   },
   {
    "duration": 22,
    "start_time": "2022-08-21T10:49:47.999Z"
   },
   {
    "duration": 6,
    "start_time": "2022-08-21T10:49:48.023Z"
   },
   {
    "duration": 27,
    "start_time": "2022-08-21T10:49:48.031Z"
   },
   {
    "duration": 43,
    "start_time": "2022-08-21T10:49:48.061Z"
   },
   {
    "duration": 16,
    "start_time": "2022-08-21T10:49:48.106Z"
   },
   {
    "duration": 10,
    "start_time": "2022-08-21T10:49:48.124Z"
   },
   {
    "duration": 26,
    "start_time": "2022-08-21T10:49:48.136Z"
   },
   {
    "duration": 7,
    "start_time": "2022-08-21T10:49:48.164Z"
   },
   {
    "duration": 18,
    "start_time": "2022-08-21T10:49:48.186Z"
   },
   {
    "duration": 4,
    "start_time": "2022-08-21T10:49:48.206Z"
   },
   {
    "duration": 153,
    "start_time": "2022-08-21T10:49:48.211Z"
   },
   {
    "duration": 4,
    "start_time": "2022-08-21T10:49:48.368Z"
   },
   {
    "duration": 27,
    "start_time": "2022-08-21T10:49:48.374Z"
   },
   {
    "duration": 16,
    "start_time": "2022-08-21T10:49:48.402Z"
   },
   {
    "duration": 9,
    "start_time": "2022-08-21T10:49:48.419Z"
   },
   {
    "duration": 7,
    "start_time": "2022-08-21T10:49:48.430Z"
   },
   {
    "duration": 135,
    "start_time": "2022-08-21T10:49:48.438Z"
   },
   {
    "duration": 14,
    "start_time": "2022-08-21T10:49:48.575Z"
   },
   {
    "duration": 33,
    "start_time": "2022-08-21T10:49:48.590Z"
   },
   {
    "duration": 12,
    "start_time": "2022-08-21T10:49:48.625Z"
   },
   {
    "duration": 14,
    "start_time": "2022-08-21T10:49:48.639Z"
   },
   {
    "duration": 1101,
    "start_time": "2022-08-21T10:50:27.920Z"
   },
   {
    "duration": 92,
    "start_time": "2022-08-21T10:50:29.023Z"
   },
   {
    "duration": 21,
    "start_time": "2022-08-21T10:50:29.116Z"
   },
   {
    "duration": 5,
    "start_time": "2022-08-21T10:50:29.139Z"
   },
   {
    "duration": 12,
    "start_time": "2022-08-21T10:50:29.145Z"
   },
   {
    "duration": 43,
    "start_time": "2022-08-21T10:50:29.158Z"
   },
   {
    "duration": 15,
    "start_time": "2022-08-21T10:50:29.203Z"
   },
   {
    "duration": 7,
    "start_time": "2022-08-21T10:50:29.220Z"
   },
   {
    "duration": 26,
    "start_time": "2022-08-21T10:50:29.229Z"
   },
   {
    "duration": 6,
    "start_time": "2022-08-21T10:50:29.257Z"
   },
   {
    "duration": 26,
    "start_time": "2022-08-21T10:50:29.265Z"
   },
   {
    "duration": 3,
    "start_time": "2022-08-21T10:50:29.293Z"
   },
   {
    "duration": 143,
    "start_time": "2022-08-21T10:50:29.297Z"
   },
   {
    "duration": 5,
    "start_time": "2022-08-21T10:50:29.442Z"
   },
   {
    "duration": 20,
    "start_time": "2022-08-21T10:50:29.448Z"
   },
   {
    "duration": 17,
    "start_time": "2022-08-21T10:50:29.470Z"
   },
   {
    "duration": 6,
    "start_time": "2022-08-21T10:50:29.489Z"
   },
   {
    "duration": 6,
    "start_time": "2022-08-21T10:50:29.497Z"
   },
   {
    "duration": 139,
    "start_time": "2022-08-21T10:50:29.505Z"
   },
   {
    "duration": 4,
    "start_time": "2022-08-21T10:50:29.646Z"
   },
   {
    "duration": 111,
    "start_time": "2022-08-21T10:50:29.652Z"
   },
   {
    "duration": 0,
    "start_time": "2022-08-21T10:50:29.765Z"
   },
   {
    "duration": 0,
    "start_time": "2022-08-21T10:50:29.767Z"
   },
   {
    "duration": 1003,
    "start_time": "2022-08-21T10:51:09.013Z"
   },
   {
    "duration": 95,
    "start_time": "2022-08-21T10:51:10.018Z"
   },
   {
    "duration": 21,
    "start_time": "2022-08-21T10:51:10.115Z"
   },
   {
    "duration": 5,
    "start_time": "2022-08-21T10:51:10.137Z"
   },
   {
    "duration": 14,
    "start_time": "2022-08-21T10:51:10.144Z"
   },
   {
    "duration": 42,
    "start_time": "2022-08-21T10:51:10.159Z"
   },
   {
    "duration": 17,
    "start_time": "2022-08-21T10:51:10.202Z"
   },
   {
    "duration": 7,
    "start_time": "2022-08-21T10:51:10.220Z"
   },
   {
    "duration": 31,
    "start_time": "2022-08-21T10:51:10.228Z"
   },
   {
    "duration": 7,
    "start_time": "2022-08-21T10:51:10.261Z"
   },
   {
    "duration": 27,
    "start_time": "2022-08-21T10:51:10.269Z"
   },
   {
    "duration": 9,
    "start_time": "2022-08-21T10:51:10.297Z"
   },
   {
    "duration": 167,
    "start_time": "2022-08-21T10:51:10.308Z"
   },
   {
    "duration": 12,
    "start_time": "2022-08-21T10:51:10.479Z"
   },
   {
    "duration": 22,
    "start_time": "2022-08-21T10:51:10.493Z"
   },
   {
    "duration": 16,
    "start_time": "2022-08-21T10:51:10.517Z"
   },
   {
    "duration": 12,
    "start_time": "2022-08-21T10:51:10.535Z"
   },
   {
    "duration": 10,
    "start_time": "2022-08-21T10:51:10.549Z"
   },
   {
    "duration": 185,
    "start_time": "2022-08-21T10:51:10.561Z"
   },
   {
    "duration": 4,
    "start_time": "2022-08-21T10:51:10.748Z"
   },
   {
    "duration": 807,
    "start_time": "2022-08-21T10:51:10.755Z"
   },
   {
    "duration": 0,
    "start_time": "2022-08-21T10:51:11.564Z"
   },
   {
    "duration": 0,
    "start_time": "2022-08-21T10:51:11.565Z"
   },
   {
    "duration": 1023,
    "start_time": "2022-08-21T10:52:06.496Z"
   },
   {
    "duration": 95,
    "start_time": "2022-08-21T10:52:07.521Z"
   },
   {
    "duration": 27,
    "start_time": "2022-08-21T10:52:07.622Z"
   },
   {
    "duration": 6,
    "start_time": "2022-08-21T10:52:07.652Z"
   },
   {
    "duration": 14,
    "start_time": "2022-08-21T10:52:07.660Z"
   },
   {
    "duration": 39,
    "start_time": "2022-08-21T10:52:07.676Z"
   },
   {
    "duration": 18,
    "start_time": "2022-08-21T10:52:07.716Z"
   },
   {
    "duration": 9,
    "start_time": "2022-08-21T10:52:07.736Z"
   },
   {
    "duration": 35,
    "start_time": "2022-08-21T10:52:07.747Z"
   },
   {
    "duration": 6,
    "start_time": "2022-08-21T10:52:07.785Z"
   },
   {
    "duration": 24,
    "start_time": "2022-08-21T10:52:07.793Z"
   },
   {
    "duration": 4,
    "start_time": "2022-08-21T10:52:07.819Z"
   },
   {
    "duration": 209,
    "start_time": "2022-08-21T10:52:07.825Z"
   },
   {
    "duration": 5,
    "start_time": "2022-08-21T10:52:08.036Z"
   },
   {
    "duration": 29,
    "start_time": "2022-08-21T10:52:08.042Z"
   },
   {
    "duration": 21,
    "start_time": "2022-08-21T10:52:08.073Z"
   },
   {
    "duration": 5,
    "start_time": "2022-08-21T10:52:08.097Z"
   },
   {
    "duration": 9,
    "start_time": "2022-08-21T10:52:08.103Z"
   },
   {
    "duration": 148,
    "start_time": "2022-08-21T10:52:08.114Z"
   },
   {
    "duration": 4,
    "start_time": "2022-08-21T10:52:08.264Z"
   },
   {
    "duration": 106,
    "start_time": "2022-08-21T10:52:08.270Z"
   },
   {
    "duration": 0,
    "start_time": "2022-08-21T10:52:08.378Z"
   },
   {
    "duration": 0,
    "start_time": "2022-08-21T10:52:08.379Z"
   },
   {
    "duration": 35,
    "start_time": "2022-08-21T10:52:45.623Z"
   },
   {
    "duration": 1070,
    "start_time": "2022-08-21T10:56:35.277Z"
   },
   {
    "duration": 96,
    "start_time": "2022-08-21T10:56:36.349Z"
   },
   {
    "duration": 25,
    "start_time": "2022-08-21T10:56:36.447Z"
   },
   {
    "duration": 13,
    "start_time": "2022-08-21T10:56:36.475Z"
   },
   {
    "duration": 15,
    "start_time": "2022-08-21T10:56:36.491Z"
   },
   {
    "duration": 40,
    "start_time": "2022-08-21T10:56:36.508Z"
   },
   {
    "duration": 17,
    "start_time": "2022-08-21T10:56:36.550Z"
   },
   {
    "duration": 14,
    "start_time": "2022-08-21T10:56:36.569Z"
   },
   {
    "duration": 32,
    "start_time": "2022-08-21T10:56:36.585Z"
   },
   {
    "duration": 7,
    "start_time": "2022-08-21T10:56:36.620Z"
   },
   {
    "duration": 20,
    "start_time": "2022-08-21T10:56:36.628Z"
   },
   {
    "duration": 5,
    "start_time": "2022-08-21T10:56:36.649Z"
   },
   {
    "duration": 162,
    "start_time": "2022-08-21T10:56:36.656Z"
   },
   {
    "duration": 5,
    "start_time": "2022-08-21T10:56:36.820Z"
   },
   {
    "duration": 20,
    "start_time": "2022-08-21T10:56:36.826Z"
   },
   {
    "duration": 15,
    "start_time": "2022-08-21T10:56:36.847Z"
   },
   {
    "duration": 7,
    "start_time": "2022-08-21T10:56:36.864Z"
   },
   {
    "duration": 22,
    "start_time": "2022-08-21T10:56:36.873Z"
   },
   {
    "duration": 141,
    "start_time": "2022-08-21T10:56:36.896Z"
   },
   {
    "duration": 5,
    "start_time": "2022-08-21T10:56:37.038Z"
   },
   {
    "duration": 42,
    "start_time": "2022-08-21T10:56:37.045Z"
   },
   {
    "duration": 12,
    "start_time": "2022-08-21T10:56:37.089Z"
   },
   {
    "duration": 13,
    "start_time": "2022-08-21T10:56:37.103Z"
   },
   {
    "duration": 1011,
    "start_time": "2022-08-21T10:57:34.248Z"
   },
   {
    "duration": 73,
    "start_time": "2022-08-21T10:57:35.261Z"
   },
   {
    "duration": 18,
    "start_time": "2022-08-21T10:57:35.335Z"
   },
   {
    "duration": 19,
    "start_time": "2022-08-21T10:57:35.355Z"
   },
   {
    "duration": 27,
    "start_time": "2022-08-21T10:57:35.376Z"
   },
   {
    "duration": 50,
    "start_time": "2022-08-21T10:57:35.405Z"
   },
   {
    "duration": 16,
    "start_time": "2022-08-21T10:57:35.456Z"
   },
   {
    "duration": 18,
    "start_time": "2022-08-21T10:57:35.473Z"
   },
   {
    "duration": 43,
    "start_time": "2022-08-21T10:57:35.492Z"
   },
   {
    "duration": 5,
    "start_time": "2022-08-21T10:57:35.538Z"
   },
   {
    "duration": 32,
    "start_time": "2022-08-21T10:57:35.544Z"
   },
   {
    "duration": 3,
    "start_time": "2022-08-21T10:57:35.578Z"
   },
   {
    "duration": 133,
    "start_time": "2022-08-21T10:57:35.582Z"
   },
   {
    "duration": 4,
    "start_time": "2022-08-21T10:57:35.716Z"
   },
   {
    "duration": 40,
    "start_time": "2022-08-21T10:57:35.722Z"
   },
   {
    "duration": 14,
    "start_time": "2022-08-21T10:57:35.765Z"
   },
   {
    "duration": 17,
    "start_time": "2022-08-21T10:57:35.781Z"
   },
   {
    "duration": 17,
    "start_time": "2022-08-21T10:57:35.799Z"
   },
   {
    "duration": 139,
    "start_time": "2022-08-21T10:57:35.818Z"
   },
   {
    "duration": 5,
    "start_time": "2022-08-21T10:57:35.959Z"
   },
   {
    "duration": 46,
    "start_time": "2022-08-21T10:57:35.966Z"
   },
   {
    "duration": 31,
    "start_time": "2022-08-21T10:57:36.014Z"
   },
   {
    "duration": 28,
    "start_time": "2022-08-21T10:57:36.047Z"
   },
   {
    "duration": 1041,
    "start_time": "2022-08-21T10:58:09.954Z"
   },
   {
    "duration": 79,
    "start_time": "2022-08-21T10:58:10.997Z"
   },
   {
    "duration": 18,
    "start_time": "2022-08-21T10:58:11.078Z"
   },
   {
    "duration": 4,
    "start_time": "2022-08-21T10:58:11.098Z"
   },
   {
    "duration": 15,
    "start_time": "2022-08-21T10:58:11.104Z"
   },
   {
    "duration": 46,
    "start_time": "2022-08-21T10:58:11.120Z"
   },
   {
    "duration": 13,
    "start_time": "2022-08-21T10:58:11.168Z"
   },
   {
    "duration": 7,
    "start_time": "2022-08-21T10:58:11.183Z"
   },
   {
    "duration": 24,
    "start_time": "2022-08-21T10:58:11.192Z"
   },
   {
    "duration": 5,
    "start_time": "2022-08-21T10:58:11.219Z"
   },
   {
    "duration": 31,
    "start_time": "2022-08-21T10:58:11.226Z"
   },
   {
    "duration": 6,
    "start_time": "2022-08-21T10:58:11.258Z"
   },
   {
    "duration": 147,
    "start_time": "2022-08-21T10:58:11.265Z"
   },
   {
    "duration": 4,
    "start_time": "2022-08-21T10:58:11.414Z"
   },
   {
    "duration": 23,
    "start_time": "2022-08-21T10:58:11.419Z"
   },
   {
    "duration": 14,
    "start_time": "2022-08-21T10:58:11.444Z"
   },
   {
    "duration": 7,
    "start_time": "2022-08-21T10:58:11.460Z"
   },
   {
    "duration": 6,
    "start_time": "2022-08-21T10:58:11.469Z"
   },
   {
    "duration": 140,
    "start_time": "2022-08-21T10:58:11.487Z"
   },
   {
    "duration": 5,
    "start_time": "2022-08-21T10:58:11.628Z"
   },
   {
    "duration": 34,
    "start_time": "2022-08-21T10:58:11.634Z"
   },
   {
    "duration": 12,
    "start_time": "2022-08-21T10:58:11.686Z"
   },
   {
    "duration": 11,
    "start_time": "2022-08-21T10:58:11.700Z"
   },
   {
    "duration": 969,
    "start_time": "2022-08-21T11:00:25.009Z"
   },
   {
    "duration": 92,
    "start_time": "2022-08-21T11:00:25.980Z"
   },
   {
    "duration": 20,
    "start_time": "2022-08-21T11:00:26.074Z"
   },
   {
    "duration": 6,
    "start_time": "2022-08-21T11:00:26.097Z"
   },
   {
    "duration": 21,
    "start_time": "2022-08-21T11:00:26.105Z"
   },
   {
    "duration": 52,
    "start_time": "2022-08-21T11:00:26.128Z"
   },
   {
    "duration": 14,
    "start_time": "2022-08-21T11:00:26.182Z"
   },
   {
    "duration": 13,
    "start_time": "2022-08-21T11:00:26.198Z"
   },
   {
    "duration": 44,
    "start_time": "2022-08-21T11:00:26.213Z"
   },
   {
    "duration": 8,
    "start_time": "2022-08-21T11:00:26.260Z"
   },
   {
    "duration": 48,
    "start_time": "2022-08-21T11:00:26.271Z"
   },
   {
    "duration": 4,
    "start_time": "2022-08-21T11:00:26.322Z"
   },
   {
    "duration": 184,
    "start_time": "2022-08-21T11:00:26.328Z"
   },
   {
    "duration": 6,
    "start_time": "2022-08-21T11:00:26.514Z"
   },
   {
    "duration": 22,
    "start_time": "2022-08-21T11:00:26.521Z"
   },
   {
    "duration": 20,
    "start_time": "2022-08-21T11:00:26.545Z"
   },
   {
    "duration": 22,
    "start_time": "2022-08-21T11:00:26.567Z"
   },
   {
    "duration": 13,
    "start_time": "2022-08-21T11:00:26.590Z"
   },
   {
    "duration": 138,
    "start_time": "2022-08-21T11:00:26.604Z"
   },
   {
    "duration": 4,
    "start_time": "2022-08-21T11:00:26.744Z"
   },
   {
    "duration": 42,
    "start_time": "2022-08-21T11:00:26.749Z"
   },
   {
    "duration": 12,
    "start_time": "2022-08-21T11:00:26.793Z"
   },
   {
    "duration": 12,
    "start_time": "2022-08-21T11:00:26.807Z"
   },
   {
    "duration": 1111,
    "start_time": "2022-08-21T11:01:34.999Z"
   },
   {
    "duration": 88,
    "start_time": "2022-08-21T11:01:36.111Z"
   },
   {
    "duration": 26,
    "start_time": "2022-08-21T11:01:36.201Z"
   },
   {
    "duration": 6,
    "start_time": "2022-08-21T11:01:36.230Z"
   },
   {
    "duration": 23,
    "start_time": "2022-08-21T11:01:36.240Z"
   },
   {
    "duration": 41,
    "start_time": "2022-08-21T11:01:36.266Z"
   },
   {
    "duration": 18,
    "start_time": "2022-08-21T11:01:36.310Z"
   },
   {
    "duration": 14,
    "start_time": "2022-08-21T11:01:36.331Z"
   },
   {
    "duration": 41,
    "start_time": "2022-08-21T11:01:36.347Z"
   },
   {
    "duration": 8,
    "start_time": "2022-08-21T11:01:36.391Z"
   },
   {
    "duration": 28,
    "start_time": "2022-08-21T11:01:36.401Z"
   },
   {
    "duration": 17,
    "start_time": "2022-08-21T11:01:36.431Z"
   },
   {
    "duration": 178,
    "start_time": "2022-08-21T11:01:36.450Z"
   },
   {
    "duration": 5,
    "start_time": "2022-08-21T11:01:36.631Z"
   },
   {
    "duration": 31,
    "start_time": "2022-08-21T11:01:36.638Z"
   },
   {
    "duration": 18,
    "start_time": "2022-08-21T11:01:36.671Z"
   },
   {
    "duration": 7,
    "start_time": "2022-08-21T11:01:36.691Z"
   },
   {
    "duration": 6,
    "start_time": "2022-08-21T11:01:36.700Z"
   },
   {
    "duration": 147,
    "start_time": "2022-08-21T11:01:36.708Z"
   },
   {
    "duration": 4,
    "start_time": "2022-08-21T11:01:36.857Z"
   },
   {
    "duration": 546,
    "start_time": "2022-08-21T11:01:36.863Z"
   },
   {
    "duration": 0,
    "start_time": "2022-08-21T11:01:37.411Z"
   },
   {
    "duration": 0,
    "start_time": "2022-08-21T11:01:37.412Z"
   },
   {
    "duration": 1037,
    "start_time": "2022-08-21T11:02:31.600Z"
   },
   {
    "duration": 76,
    "start_time": "2022-08-21T11:02:32.639Z"
   },
   {
    "duration": 18,
    "start_time": "2022-08-21T11:02:32.717Z"
   },
   {
    "duration": 3,
    "start_time": "2022-08-21T11:02:32.737Z"
   },
   {
    "duration": 16,
    "start_time": "2022-08-21T11:02:32.742Z"
   },
   {
    "duration": 41,
    "start_time": "2022-08-21T11:02:32.759Z"
   },
   {
    "duration": 14,
    "start_time": "2022-08-21T11:02:32.801Z"
   },
   {
    "duration": 7,
    "start_time": "2022-08-21T11:02:32.817Z"
   },
   {
    "duration": 22,
    "start_time": "2022-08-21T11:02:32.825Z"
   },
   {
    "duration": 6,
    "start_time": "2022-08-21T11:02:32.849Z"
   },
   {
    "duration": 17,
    "start_time": "2022-08-21T11:02:32.856Z"
   },
   {
    "duration": 4,
    "start_time": "2022-08-21T11:02:32.887Z"
   },
   {
    "duration": 140,
    "start_time": "2022-08-21T11:02:32.892Z"
   },
   {
    "duration": 4,
    "start_time": "2022-08-21T11:02:33.034Z"
   },
   {
    "duration": 19,
    "start_time": "2022-08-21T11:02:33.039Z"
   },
   {
    "duration": 13,
    "start_time": "2022-08-21T11:02:33.059Z"
   },
   {
    "duration": 16,
    "start_time": "2022-08-21T11:02:33.073Z"
   },
   {
    "duration": 8,
    "start_time": "2022-08-21T11:02:33.090Z"
   },
   {
    "duration": 116,
    "start_time": "2022-08-21T11:02:33.099Z"
   },
   {
    "duration": 4,
    "start_time": "2022-08-21T11:02:33.217Z"
   },
   {
    "duration": 31,
    "start_time": "2022-08-21T11:02:33.222Z"
   },
   {
    "duration": 34,
    "start_time": "2022-08-21T11:02:33.254Z"
   },
   {
    "duration": 15,
    "start_time": "2022-08-21T11:02:33.289Z"
   },
   {
    "duration": 1098,
    "start_time": "2022-08-21T11:04:05.984Z"
   },
   {
    "duration": 78,
    "start_time": "2022-08-21T11:04:07.084Z"
   },
   {
    "duration": 19,
    "start_time": "2022-08-21T11:04:07.163Z"
   },
   {
    "duration": 4,
    "start_time": "2022-08-21T11:04:07.184Z"
   },
   {
    "duration": 13,
    "start_time": "2022-08-21T11:04:07.190Z"
   },
   {
    "duration": 39,
    "start_time": "2022-08-21T11:04:07.205Z"
   },
   {
    "duration": 16,
    "start_time": "2022-08-21T11:04:07.245Z"
   },
   {
    "duration": 25,
    "start_time": "2022-08-21T11:04:07.262Z"
   },
   {
    "duration": 33,
    "start_time": "2022-08-21T11:04:07.289Z"
   },
   {
    "duration": 11,
    "start_time": "2022-08-21T11:04:07.324Z"
   },
   {
    "duration": 27,
    "start_time": "2022-08-21T11:04:07.337Z"
   },
   {
    "duration": 4,
    "start_time": "2022-08-21T11:04:07.365Z"
   },
   {
    "duration": 160,
    "start_time": "2022-08-21T11:04:07.370Z"
   },
   {
    "duration": 6,
    "start_time": "2022-08-21T11:04:07.532Z"
   },
   {
    "duration": 53,
    "start_time": "2022-08-21T11:04:07.539Z"
   },
   {
    "duration": 21,
    "start_time": "2022-08-21T11:04:07.594Z"
   },
   {
    "duration": 20,
    "start_time": "2022-08-21T11:04:07.616Z"
   },
   {
    "duration": 23,
    "start_time": "2022-08-21T11:04:07.637Z"
   },
   {
    "duration": 155,
    "start_time": "2022-08-21T11:04:07.661Z"
   },
   {
    "duration": 4,
    "start_time": "2022-08-21T11:04:07.818Z"
   },
   {
    "duration": 33,
    "start_time": "2022-08-21T11:04:07.823Z"
   },
   {
    "duration": 39,
    "start_time": "2022-08-21T11:04:07.858Z"
   },
   {
    "duration": 12,
    "start_time": "2022-08-21T11:04:07.899Z"
   },
   {
    "duration": 15,
    "start_time": "2022-08-21T11:04:07.912Z"
   },
   {
    "duration": 1016,
    "start_time": "2022-08-21T11:05:47.373Z"
   },
   {
    "duration": 73,
    "start_time": "2022-08-21T11:05:48.391Z"
   },
   {
    "duration": 18,
    "start_time": "2022-08-21T11:05:48.465Z"
   },
   {
    "duration": 5,
    "start_time": "2022-08-21T11:05:48.485Z"
   },
   {
    "duration": 12,
    "start_time": "2022-08-21T11:05:48.491Z"
   },
   {
    "duration": 40,
    "start_time": "2022-08-21T11:05:48.504Z"
   },
   {
    "duration": 15,
    "start_time": "2022-08-21T11:05:48.545Z"
   },
   {
    "duration": 5,
    "start_time": "2022-08-21T11:05:48.561Z"
   },
   {
    "duration": 86,
    "start_time": "2022-08-21T11:05:48.567Z"
   },
   {
    "duration": 0,
    "start_time": "2022-08-21T11:05:48.655Z"
   },
   {
    "duration": 0,
    "start_time": "2022-08-21T11:05:48.656Z"
   },
   {
    "duration": 0,
    "start_time": "2022-08-21T11:05:48.657Z"
   },
   {
    "duration": 0,
    "start_time": "2022-08-21T11:05:48.658Z"
   },
   {
    "duration": 0,
    "start_time": "2022-08-21T11:05:48.659Z"
   },
   {
    "duration": 0,
    "start_time": "2022-08-21T11:05:48.660Z"
   },
   {
    "duration": 0,
    "start_time": "2022-08-21T11:05:48.661Z"
   },
   {
    "duration": 0,
    "start_time": "2022-08-21T11:05:48.661Z"
   },
   {
    "duration": 0,
    "start_time": "2022-08-21T11:05:48.662Z"
   },
   {
    "duration": 0,
    "start_time": "2022-08-21T11:05:48.663Z"
   },
   {
    "duration": 0,
    "start_time": "2022-08-21T11:05:48.664Z"
   },
   {
    "duration": 0,
    "start_time": "2022-08-21T11:05:48.665Z"
   },
   {
    "duration": 0,
    "start_time": "2022-08-21T11:05:48.666Z"
   },
   {
    "duration": 0,
    "start_time": "2022-08-21T11:05:48.667Z"
   },
   {
    "duration": 0,
    "start_time": "2022-08-21T11:05:48.667Z"
   },
   {
    "duration": 0,
    "start_time": "2022-08-21T11:05:48.668Z"
   },
   {
    "duration": 1017,
    "start_time": "2022-08-21T11:06:10.177Z"
   },
   {
    "duration": 77,
    "start_time": "2022-08-21T11:06:11.196Z"
   },
   {
    "duration": 19,
    "start_time": "2022-08-21T11:06:11.275Z"
   },
   {
    "duration": 5,
    "start_time": "2022-08-21T11:06:11.295Z"
   },
   {
    "duration": 15,
    "start_time": "2022-08-21T11:06:11.302Z"
   },
   {
    "duration": 45,
    "start_time": "2022-08-21T11:06:11.318Z"
   },
   {
    "duration": 14,
    "start_time": "2022-08-21T11:06:11.365Z"
   },
   {
    "duration": 6,
    "start_time": "2022-08-21T11:06:11.381Z"
   },
   {
    "duration": 23,
    "start_time": "2022-08-21T11:06:11.389Z"
   },
   {
    "duration": 22,
    "start_time": "2022-08-21T11:06:11.414Z"
   },
   {
    "duration": 6,
    "start_time": "2022-08-21T11:06:11.438Z"
   },
   {
    "duration": 43,
    "start_time": "2022-08-21T11:06:11.445Z"
   },
   {
    "duration": 3,
    "start_time": "2022-08-21T11:06:11.489Z"
   },
   {
    "duration": 136,
    "start_time": "2022-08-21T11:06:11.495Z"
   },
   {
    "duration": 4,
    "start_time": "2022-08-21T11:06:11.633Z"
   },
   {
    "duration": 18,
    "start_time": "2022-08-21T11:06:11.638Z"
   },
   {
    "duration": 15,
    "start_time": "2022-08-21T11:06:11.658Z"
   },
   {
    "duration": 5,
    "start_time": "2022-08-21T11:06:11.687Z"
   },
   {
    "duration": 8,
    "start_time": "2022-08-21T11:06:11.693Z"
   },
   {
    "duration": 147,
    "start_time": "2022-08-21T11:06:11.702Z"
   },
   {
    "duration": 4,
    "start_time": "2022-08-21T11:06:11.851Z"
   },
   {
    "duration": 6,
    "start_time": "2022-08-21T11:06:11.857Z"
   },
   {
    "duration": 28,
    "start_time": "2022-08-21T11:06:11.864Z"
   },
   {
    "duration": 10,
    "start_time": "2022-08-21T11:06:11.894Z"
   },
   {
    "duration": 13,
    "start_time": "2022-08-21T11:06:11.906Z"
   },
   {
    "duration": 995,
    "start_time": "2022-08-21T11:08:20.095Z"
   },
   {
    "duration": 81,
    "start_time": "2022-08-21T11:08:21.091Z"
   },
   {
    "duration": 18,
    "start_time": "2022-08-21T11:08:21.174Z"
   },
   {
    "duration": 9,
    "start_time": "2022-08-21T11:08:21.194Z"
   },
   {
    "duration": 25,
    "start_time": "2022-08-21T11:08:21.205Z"
   },
   {
    "duration": 47,
    "start_time": "2022-08-21T11:08:21.232Z"
   },
   {
    "duration": 15,
    "start_time": "2022-08-21T11:08:21.281Z"
   },
   {
    "duration": 12,
    "start_time": "2022-08-21T11:08:21.298Z"
   },
   {
    "duration": 27,
    "start_time": "2022-08-21T11:08:21.311Z"
   },
   {
    "duration": 31,
    "start_time": "2022-08-21T11:08:21.340Z"
   },
   {
    "duration": 14,
    "start_time": "2022-08-21T11:08:21.373Z"
   },
   {
    "duration": 15,
    "start_time": "2022-08-21T11:08:21.389Z"
   },
   {
    "duration": 3,
    "start_time": "2022-08-21T11:08:21.405Z"
   },
   {
    "duration": 140,
    "start_time": "2022-08-21T11:08:21.410Z"
   },
   {
    "duration": 4,
    "start_time": "2022-08-21T11:08:21.551Z"
   },
   {
    "duration": 30,
    "start_time": "2022-08-21T11:08:21.556Z"
   },
   {
    "duration": 17,
    "start_time": "2022-08-21T11:08:21.588Z"
   },
   {
    "duration": 12,
    "start_time": "2022-08-21T11:08:21.606Z"
   },
   {
    "duration": 27,
    "start_time": "2022-08-21T11:08:21.619Z"
   },
   {
    "duration": 16,
    "start_time": "2022-08-21T11:08:21.647Z"
   },
   {
    "duration": 125,
    "start_time": "2022-08-21T11:08:21.664Z"
   },
   {
    "duration": 4,
    "start_time": "2022-08-21T11:08:21.790Z"
   },
   {
    "duration": 20,
    "start_time": "2022-08-21T11:08:21.795Z"
   },
   {
    "duration": 11,
    "start_time": "2022-08-21T11:08:21.816Z"
   },
   {
    "duration": 7,
    "start_time": "2022-08-21T11:26:55.254Z"
   },
   {
    "duration": 7,
    "start_time": "2022-08-21T11:27:56.342Z"
   },
   {
    "duration": 7,
    "start_time": "2022-08-21T11:28:15.635Z"
   },
   {
    "duration": 999,
    "start_time": "2022-08-21T11:37:52.176Z"
   },
   {
    "duration": 81,
    "start_time": "2022-08-21T11:37:53.177Z"
   },
   {
    "duration": 19,
    "start_time": "2022-08-21T11:37:53.260Z"
   },
   {
    "duration": 4,
    "start_time": "2022-08-21T11:37:53.282Z"
   },
   {
    "duration": 25,
    "start_time": "2022-08-21T11:37:53.288Z"
   },
   {
    "duration": 49,
    "start_time": "2022-08-21T11:37:53.314Z"
   },
   {
    "duration": 14,
    "start_time": "2022-08-21T11:37:53.364Z"
   },
   {
    "duration": 20,
    "start_time": "2022-08-21T11:37:53.380Z"
   },
   {
    "duration": 45,
    "start_time": "2022-08-21T11:37:53.402Z"
   },
   {
    "duration": 0,
    "start_time": "2022-08-21T11:37:53.449Z"
   },
   {
    "duration": 0,
    "start_time": "2022-08-21T11:37:53.451Z"
   },
   {
    "duration": 0,
    "start_time": "2022-08-21T11:37:53.452Z"
   },
   {
    "duration": 0,
    "start_time": "2022-08-21T11:37:53.454Z"
   },
   {
    "duration": 0,
    "start_time": "2022-08-21T11:37:53.455Z"
   },
   {
    "duration": 0,
    "start_time": "2022-08-21T11:37:53.456Z"
   },
   {
    "duration": 0,
    "start_time": "2022-08-21T11:37:53.458Z"
   },
   {
    "duration": 0,
    "start_time": "2022-08-21T11:37:53.459Z"
   },
   {
    "duration": 0,
    "start_time": "2022-08-21T11:37:53.460Z"
   },
   {
    "duration": 0,
    "start_time": "2022-08-21T11:37:53.462Z"
   },
   {
    "duration": 0,
    "start_time": "2022-08-21T11:37:53.463Z"
   },
   {
    "duration": 0,
    "start_time": "2022-08-21T11:37:53.465Z"
   },
   {
    "duration": 0,
    "start_time": "2022-08-21T11:37:53.466Z"
   },
   {
    "duration": 0,
    "start_time": "2022-08-21T11:37:53.468Z"
   },
   {
    "duration": 0,
    "start_time": "2022-08-21T11:37:53.469Z"
   },
   {
    "duration": 0,
    "start_time": "2022-08-21T11:37:53.470Z"
   },
   {
    "duration": 0,
    "start_time": "2022-08-21T11:37:53.472Z"
   },
   {
    "duration": 0,
    "start_time": "2022-08-21T11:37:53.473Z"
   },
   {
    "duration": 0,
    "start_time": "2022-08-21T11:37:53.474Z"
   },
   {
    "duration": 972,
    "start_time": "2022-08-21T11:38:12.514Z"
   },
   {
    "duration": 79,
    "start_time": "2022-08-21T11:38:13.488Z"
   },
   {
    "duration": 19,
    "start_time": "2022-08-21T11:38:13.568Z"
   },
   {
    "duration": 4,
    "start_time": "2022-08-21T11:38:13.589Z"
   },
   {
    "duration": 13,
    "start_time": "2022-08-21T11:38:13.594Z"
   },
   {
    "duration": 40,
    "start_time": "2022-08-21T11:38:13.609Z"
   },
   {
    "duration": 16,
    "start_time": "2022-08-21T11:38:13.650Z"
   },
   {
    "duration": 11,
    "start_time": "2022-08-21T11:38:13.668Z"
   },
   {
    "duration": 13,
    "start_time": "2022-08-21T11:38:13.680Z"
   },
   {
    "duration": 27,
    "start_time": "2022-08-21T11:38:13.695Z"
   },
   {
    "duration": 24,
    "start_time": "2022-08-21T11:38:13.723Z"
   },
   {
    "duration": 6,
    "start_time": "2022-08-21T11:38:13.748Z"
   },
   {
    "duration": 43,
    "start_time": "2022-08-21T11:38:13.755Z"
   },
   {
    "duration": 3,
    "start_time": "2022-08-21T11:38:13.800Z"
   },
   {
    "duration": 151,
    "start_time": "2022-08-21T11:38:13.805Z"
   },
   {
    "duration": 4,
    "start_time": "2022-08-21T11:38:13.958Z"
   },
   {
    "duration": 22,
    "start_time": "2022-08-21T11:38:13.964Z"
   },
   {
    "duration": 15,
    "start_time": "2022-08-21T11:38:13.987Z"
   },
   {
    "duration": 7,
    "start_time": "2022-08-21T11:38:14.004Z"
   },
   {
    "duration": 21,
    "start_time": "2022-08-21T11:38:14.013Z"
   },
   {
    "duration": 7,
    "start_time": "2022-08-21T11:38:14.035Z"
   },
   {
    "duration": 155,
    "start_time": "2022-08-21T11:38:14.044Z"
   },
   {
    "duration": 4,
    "start_time": "2022-08-21T11:38:14.201Z"
   },
   {
    "duration": 19,
    "start_time": "2022-08-21T11:38:14.207Z"
   },
   {
    "duration": 12,
    "start_time": "2022-08-21T11:38:14.228Z"
   },
   {
    "duration": 14,
    "start_time": "2022-08-21T11:38:14.242Z"
   },
   {
    "duration": 101,
    "start_time": "2022-08-21T11:38:14.258Z"
   },
   {
    "duration": 10,
    "start_time": "2022-08-21T11:40:45.632Z"
   },
   {
    "duration": 163,
    "start_time": "2022-08-21T11:41:08.070Z"
   },
   {
    "duration": 154,
    "start_time": "2022-08-21T11:43:14.829Z"
   },
   {
    "duration": 11,
    "start_time": "2022-08-21T11:44:03.265Z"
   },
   {
    "duration": 112,
    "start_time": "2022-08-21T11:44:27.612Z"
   },
   {
    "duration": 1038,
    "start_time": "2022-08-21T11:44:43.161Z"
   },
   {
    "duration": 73,
    "start_time": "2022-08-21T11:44:44.201Z"
   },
   {
    "duration": 17,
    "start_time": "2022-08-21T11:44:44.276Z"
   },
   {
    "duration": 4,
    "start_time": "2022-08-21T11:44:44.295Z"
   },
   {
    "duration": 14,
    "start_time": "2022-08-21T11:44:44.301Z"
   },
   {
    "duration": 49,
    "start_time": "2022-08-21T11:44:44.316Z"
   },
   {
    "duration": 14,
    "start_time": "2022-08-21T11:44:44.367Z"
   },
   {
    "duration": 6,
    "start_time": "2022-08-21T11:44:44.382Z"
   },
   {
    "duration": 11,
    "start_time": "2022-08-21T11:44:44.390Z"
   },
   {
    "duration": 23,
    "start_time": "2022-08-21T11:44:44.405Z"
   },
   {
    "duration": 25,
    "start_time": "2022-08-21T11:44:44.430Z"
   },
   {
    "duration": 32,
    "start_time": "2022-08-21T11:44:44.457Z"
   },
   {
    "duration": 17,
    "start_time": "2022-08-21T11:44:44.491Z"
   },
   {
    "duration": 4,
    "start_time": "2022-08-21T11:44:44.510Z"
   },
   {
    "duration": 157,
    "start_time": "2022-08-21T11:44:44.515Z"
   },
   {
    "duration": 4,
    "start_time": "2022-08-21T11:44:44.674Z"
   },
   {
    "duration": 17,
    "start_time": "2022-08-21T11:44:44.686Z"
   },
   {
    "duration": 13,
    "start_time": "2022-08-21T11:44:44.704Z"
   },
   {
    "duration": 6,
    "start_time": "2022-08-21T11:44:44.719Z"
   },
   {
    "duration": 21,
    "start_time": "2022-08-21T11:44:44.726Z"
   },
   {
    "duration": 3,
    "start_time": "2022-08-21T11:44:44.748Z"
   },
   {
    "duration": 141,
    "start_time": "2022-08-21T11:44:44.753Z"
   },
   {
    "duration": 4,
    "start_time": "2022-08-21T11:44:44.895Z"
   },
   {
    "duration": 12,
    "start_time": "2022-08-21T11:44:44.901Z"
   },
   {
    "duration": 10,
    "start_time": "2022-08-21T11:44:44.914Z"
   },
   {
    "duration": 7,
    "start_time": "2022-08-21T11:44:44.925Z"
   },
   {
    "duration": 168,
    "start_time": "2022-08-21T11:44:44.933Z"
   },
   {
    "duration": 118,
    "start_time": "2022-08-21T11:44:45.104Z"
   },
   {
    "duration": 92,
    "start_time": "2022-08-21T11:47:33.006Z"
   },
   {
    "duration": 960,
    "start_time": "2022-08-21T11:48:09.436Z"
   },
   {
    "duration": 85,
    "start_time": "2022-08-21T11:48:10.398Z"
   },
   {
    "duration": 20,
    "start_time": "2022-08-21T11:48:10.484Z"
   },
   {
    "duration": 5,
    "start_time": "2022-08-21T11:48:10.507Z"
   },
   {
    "duration": 16,
    "start_time": "2022-08-21T11:48:10.514Z"
   },
   {
    "duration": 42,
    "start_time": "2022-08-21T11:48:10.532Z"
   },
   {
    "duration": 21,
    "start_time": "2022-08-21T11:48:10.576Z"
   },
   {
    "duration": 6,
    "start_time": "2022-08-21T11:48:10.598Z"
   },
   {
    "duration": 16,
    "start_time": "2022-08-21T11:48:10.606Z"
   },
   {
    "duration": 25,
    "start_time": "2022-08-21T11:48:10.625Z"
   },
   {
    "duration": 50,
    "start_time": "2022-08-21T11:48:10.652Z"
   },
   {
    "duration": 7,
    "start_time": "2022-08-21T11:48:10.704Z"
   },
   {
    "duration": 16,
    "start_time": "2022-08-21T11:48:10.713Z"
   },
   {
    "duration": 4,
    "start_time": "2022-08-21T11:48:10.730Z"
   },
   {
    "duration": 172,
    "start_time": "2022-08-21T11:48:10.736Z"
   },
   {
    "duration": 5,
    "start_time": "2022-08-21T11:48:10.909Z"
   },
   {
    "duration": 18,
    "start_time": "2022-08-21T11:48:10.915Z"
   },
   {
    "duration": 14,
    "start_time": "2022-08-21T11:48:10.935Z"
   },
   {
    "duration": 6,
    "start_time": "2022-08-21T11:48:10.951Z"
   },
   {
    "duration": 38,
    "start_time": "2022-08-21T11:48:10.958Z"
   },
   {
    "duration": 4,
    "start_time": "2022-08-21T11:48:10.997Z"
   },
   {
    "duration": 142,
    "start_time": "2022-08-21T11:48:11.002Z"
   },
   {
    "duration": 4,
    "start_time": "2022-08-21T11:48:11.146Z"
   },
   {
    "duration": 14,
    "start_time": "2022-08-21T11:48:11.151Z"
   },
   {
    "duration": 29,
    "start_time": "2022-08-21T11:48:11.167Z"
   },
   {
    "duration": 7,
    "start_time": "2022-08-21T11:48:11.198Z"
   },
   {
    "duration": 165,
    "start_time": "2022-08-21T11:48:11.206Z"
   },
   {
    "duration": 130,
    "start_time": "2022-08-21T11:48:11.375Z"
   },
   {
    "duration": 8,
    "start_time": "2022-08-21T11:48:11.507Z"
   },
   {
    "duration": 95,
    "start_time": "2022-08-21T11:50:06.021Z"
   },
   {
    "duration": 9,
    "start_time": "2022-08-21T11:50:19.838Z"
   },
   {
    "duration": 5,
    "start_time": "2022-08-21T11:50:27.029Z"
   },
   {
    "duration": 9,
    "start_time": "2022-08-21T11:52:53.645Z"
   },
   {
    "duration": 8,
    "start_time": "2022-08-21T11:53:03.037Z"
   },
   {
    "duration": 223,
    "start_time": "2022-08-21T11:53:05.205Z"
   },
   {
    "duration": 505,
    "start_time": "2022-08-21T11:55:32.221Z"
   },
   {
    "duration": 226,
    "start_time": "2022-08-21T11:56:01.318Z"
   },
   {
    "duration": 210,
    "start_time": "2022-08-21T11:56:14.879Z"
   },
   {
    "duration": 198,
    "start_time": "2022-08-21T11:56:25.976Z"
   },
   {
    "duration": 193,
    "start_time": "2022-08-21T11:57:05.639Z"
   },
   {
    "duration": 228,
    "start_time": "2022-08-21T12:04:17.492Z"
   },
   {
    "duration": 990,
    "start_time": "2022-08-21T12:08:39.722Z"
   },
   {
    "duration": 78,
    "start_time": "2022-08-21T12:08:40.714Z"
   },
   {
    "duration": 18,
    "start_time": "2022-08-21T12:08:40.794Z"
   },
   {
    "duration": 5,
    "start_time": "2022-08-21T12:08:40.814Z"
   },
   {
    "duration": 15,
    "start_time": "2022-08-21T12:08:40.820Z"
   },
   {
    "duration": 41,
    "start_time": "2022-08-21T12:08:40.837Z"
   },
   {
    "duration": 14,
    "start_time": "2022-08-21T12:08:40.880Z"
   },
   {
    "duration": 6,
    "start_time": "2022-08-21T12:08:40.895Z"
   },
   {
    "duration": 9,
    "start_time": "2022-08-21T12:08:40.903Z"
   },
   {
    "duration": 22,
    "start_time": "2022-08-21T12:08:40.915Z"
   },
   {
    "duration": 22,
    "start_time": "2022-08-21T12:08:40.938Z"
   },
   {
    "duration": 5,
    "start_time": "2022-08-21T12:08:40.987Z"
   },
   {
    "duration": 16,
    "start_time": "2022-08-21T12:08:40.994Z"
   },
   {
    "duration": 11,
    "start_time": "2022-08-21T12:08:41.011Z"
   },
   {
    "duration": 142,
    "start_time": "2022-08-21T12:08:41.023Z"
   },
   {
    "duration": 4,
    "start_time": "2022-08-21T12:08:41.167Z"
   },
   {
    "duration": 16,
    "start_time": "2022-08-21T12:08:41.186Z"
   },
   {
    "duration": 14,
    "start_time": "2022-08-21T12:08:41.204Z"
   },
   {
    "duration": 11,
    "start_time": "2022-08-21T12:08:41.220Z"
   },
   {
    "duration": 21,
    "start_time": "2022-08-21T12:08:41.233Z"
   },
   {
    "duration": 5,
    "start_time": "2022-08-21T12:08:41.255Z"
   },
   {
    "duration": 131,
    "start_time": "2022-08-21T12:08:41.262Z"
   },
   {
    "duration": 4,
    "start_time": "2022-08-21T12:08:41.394Z"
   },
   {
    "duration": 13,
    "start_time": "2022-08-21T12:08:41.400Z"
   },
   {
    "duration": 10,
    "start_time": "2022-08-21T12:08:41.414Z"
   },
   {
    "duration": 10,
    "start_time": "2022-08-21T12:08:41.425Z"
   },
   {
    "duration": 176,
    "start_time": "2022-08-21T12:08:41.436Z"
   },
   {
    "duration": 116,
    "start_time": "2022-08-21T12:08:41.615Z"
   },
   {
    "duration": 8,
    "start_time": "2022-08-21T12:08:41.733Z"
   },
   {
    "duration": 14,
    "start_time": "2022-08-21T12:08:41.743Z"
   },
   {
    "duration": 260,
    "start_time": "2022-08-21T12:08:41.758Z"
   },
   {
    "duration": 205,
    "start_time": "2022-08-21T12:08:42.019Z"
   },
   {
    "duration": 96,
    "start_time": "2022-08-21T12:17:51.519Z"
   },
   {
    "duration": 13,
    "start_time": "2022-08-21T12:18:07.496Z"
   },
   {
    "duration": 268,
    "start_time": "2022-08-21T12:19:24.788Z"
   },
   {
    "duration": 286,
    "start_time": "2022-08-21T12:21:09.354Z"
   },
   {
    "duration": 256,
    "start_time": "2022-08-21T12:23:08.093Z"
   },
   {
    "duration": 98,
    "start_time": "2022-08-21T12:29:32.645Z"
   },
   {
    "duration": 52,
    "start_time": "2022-08-21T12:29:55.151Z"
   },
   {
    "duration": 249,
    "start_time": "2022-08-21T12:30:21.814Z"
   },
   {
    "duration": 87,
    "start_time": "2022-08-21T12:30:43.472Z"
   },
   {
    "duration": 226,
    "start_time": "2022-08-21T12:31:28.044Z"
   },
   {
    "duration": 109,
    "start_time": "2022-08-21T12:34:05.770Z"
   },
   {
    "duration": 5,
    "start_time": "2022-08-21T12:34:31.027Z"
   },
   {
    "duration": 50,
    "start_time": "2022-08-21T12:35:35.735Z"
   },
   {
    "duration": 52,
    "start_time": "2022-08-21T12:35:47.200Z"
   },
   {
    "duration": 54,
    "start_time": "2022-08-21T12:37:27.271Z"
   },
   {
    "duration": 22,
    "start_time": "2022-08-21T12:37:51.603Z"
   },
   {
    "duration": 21,
    "start_time": "2022-08-21T12:38:53.535Z"
   },
   {
    "duration": 155,
    "start_time": "2022-08-21T12:40:18.779Z"
   },
   {
    "duration": 51,
    "start_time": "2022-08-21T12:41:39.812Z"
   },
   {
    "duration": 141,
    "start_time": "2022-08-21T12:42:09.743Z"
   },
   {
    "duration": 137,
    "start_time": "2022-08-21T12:42:27.786Z"
   },
   {
    "duration": 155,
    "start_time": "2022-08-21T12:42:42.118Z"
   },
   {
    "duration": 177,
    "start_time": "2022-08-21T12:43:45.030Z"
   },
   {
    "duration": 305,
    "start_time": "2022-08-21T12:44:17.099Z"
   },
   {
    "duration": 211,
    "start_time": "2022-08-21T12:46:04.199Z"
   },
   {
    "duration": 201,
    "start_time": "2022-08-21T12:46:56.902Z"
   },
   {
    "duration": 300,
    "start_time": "2022-08-21T12:48:02.645Z"
   },
   {
    "duration": 999,
    "start_time": "2022-08-21T12:48:24.402Z"
   },
   {
    "duration": 78,
    "start_time": "2022-08-21T12:48:25.403Z"
   },
   {
    "duration": 25,
    "start_time": "2022-08-21T12:48:25.483Z"
   },
   {
    "duration": 4,
    "start_time": "2022-08-21T12:48:25.510Z"
   },
   {
    "duration": 12,
    "start_time": "2022-08-21T12:48:25.515Z"
   },
   {
    "duration": 39,
    "start_time": "2022-08-21T12:48:25.528Z"
   },
   {
    "duration": 14,
    "start_time": "2022-08-21T12:48:25.569Z"
   },
   {
    "duration": 19,
    "start_time": "2022-08-21T12:48:25.584Z"
   },
   {
    "duration": 12,
    "start_time": "2022-08-21T12:48:25.607Z"
   },
   {
    "duration": 27,
    "start_time": "2022-08-21T12:48:25.621Z"
   },
   {
    "duration": 40,
    "start_time": "2022-08-21T12:48:25.650Z"
   },
   {
    "duration": 5,
    "start_time": "2022-08-21T12:48:25.695Z"
   },
   {
    "duration": 24,
    "start_time": "2022-08-21T12:48:25.702Z"
   },
   {
    "duration": 6,
    "start_time": "2022-08-21T12:48:25.728Z"
   },
   {
    "duration": 158,
    "start_time": "2022-08-21T12:48:25.736Z"
   },
   {
    "duration": 5,
    "start_time": "2022-08-21T12:48:25.898Z"
   },
   {
    "duration": 21,
    "start_time": "2022-08-21T12:48:25.905Z"
   },
   {
    "duration": 14,
    "start_time": "2022-08-21T12:48:25.928Z"
   },
   {
    "duration": 7,
    "start_time": "2022-08-21T12:48:25.944Z"
   },
   {
    "duration": 17,
    "start_time": "2022-08-21T12:48:25.952Z"
   },
   {
    "duration": 6,
    "start_time": "2022-08-21T12:48:25.971Z"
   },
   {
    "duration": 182,
    "start_time": "2022-08-21T12:48:25.986Z"
   },
   {
    "duration": 4,
    "start_time": "2022-08-21T12:48:26.170Z"
   },
   {
    "duration": 18,
    "start_time": "2022-08-21T12:48:26.187Z"
   },
   {
    "duration": 24,
    "start_time": "2022-08-21T12:48:26.213Z"
   },
   {
    "duration": 21,
    "start_time": "2022-08-21T12:48:26.239Z"
   },
   {
    "duration": 193,
    "start_time": "2022-08-21T12:48:26.262Z"
   },
   {
    "duration": 154,
    "start_time": "2022-08-21T12:48:26.458Z"
   },
   {
    "duration": 8,
    "start_time": "2022-08-21T12:48:26.614Z"
   },
   {
    "duration": 17,
    "start_time": "2022-08-21T12:48:26.623Z"
   },
   {
    "duration": 300,
    "start_time": "2022-08-21T12:48:26.641Z"
   },
   {
    "duration": 224,
    "start_time": "2022-08-21T12:48:26.943Z"
   },
   {
    "duration": 328,
    "start_time": "2022-08-21T12:48:27.169Z"
   },
   {
    "duration": 5,
    "start_time": "2022-08-21T12:56:48.585Z"
   },
   {
    "duration": 274,
    "start_time": "2022-08-21T12:57:51.955Z"
   },
   {
    "duration": 162,
    "start_time": "2022-08-21T12:58:20.342Z"
   },
   {
    "duration": 172,
    "start_time": "2022-08-21T12:58:29.510Z"
   },
   {
    "duration": 205,
    "start_time": "2022-08-21T12:59:13.776Z"
   },
   {
    "duration": 273,
    "start_time": "2022-08-21T13:01:12.117Z"
   },
   {
    "duration": 14,
    "start_time": "2022-08-21T13:09:37.423Z"
   },
   {
    "duration": 167,
    "start_time": "2022-08-21T13:09:54.191Z"
   },
   {
    "duration": 167,
    "start_time": "2022-08-21T13:10:39.631Z"
   },
   {
    "duration": 162,
    "start_time": "2022-08-21T13:10:59.218Z"
   },
   {
    "duration": 50,
    "start_time": "2022-08-21T13:11:36.692Z"
   },
   {
    "duration": 186,
    "start_time": "2022-08-21T13:11:46.078Z"
   },
   {
    "duration": 255,
    "start_time": "2022-08-21T13:12:31.623Z"
   },
   {
    "duration": 1071,
    "start_time": "2022-08-21T13:13:22.487Z"
   },
   {
    "duration": 79,
    "start_time": "2022-08-21T13:13:23.559Z"
   },
   {
    "duration": 23,
    "start_time": "2022-08-21T13:13:23.640Z"
   },
   {
    "duration": 8,
    "start_time": "2022-08-21T13:13:23.666Z"
   },
   {
    "duration": 19,
    "start_time": "2022-08-21T13:13:23.676Z"
   },
   {
    "duration": 42,
    "start_time": "2022-08-21T13:13:23.697Z"
   },
   {
    "duration": 15,
    "start_time": "2022-08-21T13:13:23.741Z"
   },
   {
    "duration": 12,
    "start_time": "2022-08-21T13:13:23.757Z"
   },
   {
    "duration": 11,
    "start_time": "2022-08-21T13:13:23.771Z"
   },
   {
    "duration": 25,
    "start_time": "2022-08-21T13:13:23.784Z"
   },
   {
    "duration": 24,
    "start_time": "2022-08-21T13:13:23.810Z"
   },
   {
    "duration": 5,
    "start_time": "2022-08-21T13:13:23.835Z"
   },
   {
    "duration": 16,
    "start_time": "2022-08-21T13:13:23.842Z"
   },
   {
    "duration": 29,
    "start_time": "2022-08-21T13:13:23.860Z"
   },
   {
    "duration": 139,
    "start_time": "2022-08-21T13:13:23.891Z"
   },
   {
    "duration": 5,
    "start_time": "2022-08-21T13:13:24.031Z"
   },
   {
    "duration": 30,
    "start_time": "2022-08-21T13:13:24.037Z"
   },
   {
    "duration": 17,
    "start_time": "2022-08-21T13:13:24.068Z"
   },
   {
    "duration": 5,
    "start_time": "2022-08-21T13:13:24.087Z"
   },
   {
    "duration": 18,
    "start_time": "2022-08-21T13:13:24.094Z"
   },
   {
    "duration": 4,
    "start_time": "2022-08-21T13:13:24.113Z"
   },
   {
    "duration": 145,
    "start_time": "2022-08-21T13:13:24.118Z"
   },
   {
    "duration": 4,
    "start_time": "2022-08-21T13:13:24.264Z"
   },
   {
    "duration": 17,
    "start_time": "2022-08-21T13:13:24.270Z"
   },
   {
    "duration": 11,
    "start_time": "2022-08-21T13:13:24.289Z"
   },
   {
    "duration": 9,
    "start_time": "2022-08-21T13:13:24.301Z"
   },
   {
    "duration": 168,
    "start_time": "2022-08-21T13:13:24.311Z"
   },
   {
    "duration": 128,
    "start_time": "2022-08-21T13:13:24.482Z"
   },
   {
    "duration": 10,
    "start_time": "2022-08-21T13:13:24.611Z"
   },
   {
    "duration": 9,
    "start_time": "2022-08-21T13:13:24.622Z"
   },
   {
    "duration": 272,
    "start_time": "2022-08-21T13:13:24.632Z"
   },
   {
    "duration": 203,
    "start_time": "2022-08-21T13:13:24.906Z"
   },
   {
    "duration": 279,
    "start_time": "2022-08-21T13:13:25.110Z"
   },
   {
    "duration": 6,
    "start_time": "2022-08-21T13:13:25.390Z"
   },
   {
    "duration": 220,
    "start_time": "2022-08-21T13:13:25.397Z"
   },
   {
    "duration": 289,
    "start_time": "2022-08-21T13:13:25.619Z"
   },
   {
    "duration": 259,
    "start_time": "2022-08-21T13:15:52.930Z"
   },
   {
    "duration": 955,
    "start_time": "2022-08-21T13:16:34.331Z"
   },
   {
    "duration": 91,
    "start_time": "2022-08-21T13:16:35.288Z"
   },
   {
    "duration": 30,
    "start_time": "2022-08-21T13:16:35.381Z"
   },
   {
    "duration": 4,
    "start_time": "2022-08-21T13:16:35.413Z"
   },
   {
    "duration": 15,
    "start_time": "2022-08-21T13:16:35.418Z"
   },
   {
    "duration": 41,
    "start_time": "2022-08-21T13:16:35.434Z"
   },
   {
    "duration": 20,
    "start_time": "2022-08-21T13:16:35.477Z"
   },
   {
    "duration": 15,
    "start_time": "2022-08-21T13:16:35.498Z"
   },
   {
    "duration": 12,
    "start_time": "2022-08-21T13:16:35.514Z"
   },
   {
    "duration": 30,
    "start_time": "2022-08-21T13:16:35.528Z"
   },
   {
    "duration": 34,
    "start_time": "2022-08-21T13:16:35.559Z"
   },
   {
    "duration": 10,
    "start_time": "2022-08-21T13:16:35.594Z"
   },
   {
    "duration": 17,
    "start_time": "2022-08-21T13:16:35.606Z"
   },
   {
    "duration": 4,
    "start_time": "2022-08-21T13:16:35.624Z"
   },
   {
    "duration": 170,
    "start_time": "2022-08-21T13:16:35.629Z"
   },
   {
    "duration": 6,
    "start_time": "2022-08-21T13:16:35.801Z"
   },
   {
    "duration": 20,
    "start_time": "2022-08-21T13:16:35.808Z"
   },
   {
    "duration": 16,
    "start_time": "2022-08-21T13:16:35.830Z"
   },
   {
    "duration": 5,
    "start_time": "2022-08-21T13:16:35.847Z"
   },
   {
    "duration": 45,
    "start_time": "2022-08-21T13:16:35.853Z"
   },
   {
    "duration": 5,
    "start_time": "2022-08-21T13:16:35.900Z"
   },
   {
    "duration": 161,
    "start_time": "2022-08-21T13:16:35.907Z"
   },
   {
    "duration": 4,
    "start_time": "2022-08-21T13:16:36.070Z"
   },
   {
    "duration": 27,
    "start_time": "2022-08-21T13:16:36.076Z"
   },
   {
    "duration": 10,
    "start_time": "2022-08-21T13:16:36.105Z"
   },
   {
    "duration": 7,
    "start_time": "2022-08-21T13:16:36.117Z"
   },
   {
    "duration": 195,
    "start_time": "2022-08-21T13:16:36.125Z"
   },
   {
    "duration": 150,
    "start_time": "2022-08-21T13:16:36.323Z"
   },
   {
    "duration": 28,
    "start_time": "2022-08-21T13:16:36.475Z"
   },
   {
    "duration": 25,
    "start_time": "2022-08-21T13:16:36.505Z"
   },
   {
    "duration": 320,
    "start_time": "2022-08-21T13:16:36.532Z"
   },
   {
    "duration": 213,
    "start_time": "2022-08-21T13:16:36.854Z"
   },
   {
    "duration": 331,
    "start_time": "2022-08-21T13:16:37.068Z"
   },
   {
    "duration": 5,
    "start_time": "2022-08-21T13:16:37.401Z"
   },
   {
    "duration": 219,
    "start_time": "2022-08-21T13:16:37.408Z"
   },
   {
    "duration": 288,
    "start_time": "2022-08-21T13:16:37.630Z"
   },
   {
    "duration": 103,
    "start_time": "2022-08-21T13:28:17.244Z"
   },
   {
    "duration": 6,
    "start_time": "2022-08-21T13:29:09.158Z"
   },
   {
    "duration": 6,
    "start_time": "2022-08-21T13:30:59.269Z"
   },
   {
    "duration": 116,
    "start_time": "2022-08-21T13:35:17.137Z"
   },
   {
    "duration": 107,
    "start_time": "2022-08-21T13:36:20.069Z"
   },
   {
    "duration": 199,
    "start_time": "2022-08-21T13:37:54.481Z"
   },
   {
    "duration": 114,
    "start_time": "2022-08-21T13:38:17.250Z"
   },
   {
    "duration": 115,
    "start_time": "2022-08-21T13:40:34.048Z"
   },
   {
    "duration": 178,
    "start_time": "2022-08-21T13:41:46.322Z"
   },
   {
    "duration": 95,
    "start_time": "2022-08-21T13:43:17.044Z"
   },
   {
    "duration": 150,
    "start_time": "2022-08-21T13:43:27.920Z"
   },
   {
    "duration": 18,
    "start_time": "2022-08-21T13:47:12.604Z"
   },
   {
    "duration": 6,
    "start_time": "2022-08-21T13:47:37.357Z"
   },
   {
    "duration": 5,
    "start_time": "2022-08-21T13:51:15.547Z"
   },
   {
    "duration": 1025,
    "start_time": "2022-08-21T13:54:33.462Z"
   },
   {
    "duration": 78,
    "start_time": "2022-08-21T13:54:34.488Z"
   },
   {
    "duration": 18,
    "start_time": "2022-08-21T13:54:34.568Z"
   },
   {
    "duration": 5,
    "start_time": "2022-08-21T13:54:34.588Z"
   },
   {
    "duration": 15,
    "start_time": "2022-08-21T13:54:34.594Z"
   },
   {
    "duration": 40,
    "start_time": "2022-08-21T13:54:34.610Z"
   },
   {
    "duration": 15,
    "start_time": "2022-08-21T13:54:34.652Z"
   },
   {
    "duration": 6,
    "start_time": "2022-08-21T13:54:34.669Z"
   },
   {
    "duration": 14,
    "start_time": "2022-08-21T13:54:34.677Z"
   },
   {
    "duration": 25,
    "start_time": "2022-08-21T13:54:34.694Z"
   },
   {
    "duration": 23,
    "start_time": "2022-08-21T13:54:34.721Z"
   },
   {
    "duration": 6,
    "start_time": "2022-08-21T13:54:34.746Z"
   },
   {
    "duration": 47,
    "start_time": "2022-08-21T13:54:34.754Z"
   },
   {
    "duration": 4,
    "start_time": "2022-08-21T13:54:34.802Z"
   },
   {
    "duration": 143,
    "start_time": "2022-08-21T13:54:34.807Z"
   },
   {
    "duration": 4,
    "start_time": "2022-08-21T13:54:34.952Z"
   },
   {
    "duration": 19,
    "start_time": "2022-08-21T13:54:34.957Z"
   },
   {
    "duration": 21,
    "start_time": "2022-08-21T13:54:34.978Z"
   },
   {
    "duration": 8,
    "start_time": "2022-08-21T13:54:35.000Z"
   },
   {
    "duration": 17,
    "start_time": "2022-08-21T13:54:35.010Z"
   },
   {
    "duration": 7,
    "start_time": "2022-08-21T13:54:35.029Z"
   },
   {
    "duration": 162,
    "start_time": "2022-08-21T13:54:35.038Z"
   },
   {
    "duration": 4,
    "start_time": "2022-08-21T13:54:35.202Z"
   },
   {
    "duration": 14,
    "start_time": "2022-08-21T13:54:35.208Z"
   },
   {
    "duration": 10,
    "start_time": "2022-08-21T13:54:35.224Z"
   },
   {
    "duration": 6,
    "start_time": "2022-08-21T13:54:35.236Z"
   },
   {
    "duration": 183,
    "start_time": "2022-08-21T13:54:35.244Z"
   },
   {
    "duration": 115,
    "start_time": "2022-08-21T13:54:35.430Z"
   },
   {
    "duration": 8,
    "start_time": "2022-08-21T13:54:35.547Z"
   },
   {
    "duration": 9,
    "start_time": "2022-08-21T13:54:35.557Z"
   },
   {
    "duration": 298,
    "start_time": "2022-08-21T13:54:35.567Z"
   },
   {
    "duration": 231,
    "start_time": "2022-08-21T13:54:35.866Z"
   },
   {
    "duration": 346,
    "start_time": "2022-08-21T13:54:36.098Z"
   },
   {
    "duration": 7,
    "start_time": "2022-08-21T13:54:36.445Z"
   },
   {
    "duration": 257,
    "start_time": "2022-08-21T13:54:36.454Z"
   },
   {
    "duration": 309,
    "start_time": "2022-08-21T13:54:36.713Z"
   },
   {
    "duration": 7,
    "start_time": "2022-08-21T13:54:37.023Z"
   },
   {
    "duration": 158,
    "start_time": "2022-08-21T13:54:37.031Z"
   },
   {
    "duration": 4,
    "start_time": "2022-08-21T13:54:37.191Z"
   },
   {
    "duration": 1209,
    "start_time": "2022-08-21T13:56:17.593Z"
   },
   {
    "duration": 119,
    "start_time": "2022-08-21T13:56:46.796Z"
   },
   {
    "duration": 184,
    "start_time": "2022-08-21T13:57:02.651Z"
   },
   {
    "duration": 112,
    "start_time": "2022-08-21T13:57:22.546Z"
   },
   {
    "duration": 54,
    "start_time": "2022-08-21T13:57:39.558Z"
   },
   {
    "duration": 124,
    "start_time": "2022-08-21T13:58:03.691Z"
   },
   {
    "duration": 107,
    "start_time": "2022-08-21T13:58:20.811Z"
   },
   {
    "duration": 4,
    "start_time": "2022-08-21T14:04:32.318Z"
   },
   {
    "duration": 1009,
    "start_time": "2022-08-21T14:07:35.713Z"
   },
   {
    "duration": 76,
    "start_time": "2022-08-21T14:07:36.724Z"
   },
   {
    "duration": 18,
    "start_time": "2022-08-21T14:07:36.802Z"
   },
   {
    "duration": 5,
    "start_time": "2022-08-21T14:07:36.822Z"
   },
   {
    "duration": 16,
    "start_time": "2022-08-21T14:07:36.829Z"
   },
   {
    "duration": 46,
    "start_time": "2022-08-21T14:07:36.847Z"
   },
   {
    "duration": 15,
    "start_time": "2022-08-21T14:07:36.894Z"
   },
   {
    "duration": 7,
    "start_time": "2022-08-21T14:07:36.910Z"
   },
   {
    "duration": 12,
    "start_time": "2022-08-21T14:07:36.918Z"
   },
   {
    "duration": 22,
    "start_time": "2022-08-21T14:07:36.933Z"
   },
   {
    "duration": 44,
    "start_time": "2022-08-21T14:07:36.956Z"
   },
   {
    "duration": 7,
    "start_time": "2022-08-21T14:07:37.002Z"
   },
   {
    "duration": 16,
    "start_time": "2022-08-21T14:07:37.010Z"
   },
   {
    "duration": 4,
    "start_time": "2022-08-21T14:07:37.028Z"
   },
   {
    "duration": 155,
    "start_time": "2022-08-21T14:07:37.033Z"
   },
   {
    "duration": 4,
    "start_time": "2022-08-21T14:07:37.190Z"
   },
   {
    "duration": 17,
    "start_time": "2022-08-21T14:07:37.196Z"
   },
   {
    "duration": 14,
    "start_time": "2022-08-21T14:07:37.215Z"
   },
   {
    "duration": 8,
    "start_time": "2022-08-21T14:07:37.231Z"
   },
   {
    "duration": 19,
    "start_time": "2022-08-21T14:07:37.241Z"
   },
   {
    "duration": 3,
    "start_time": "2022-08-21T14:07:37.261Z"
   },
   {
    "duration": 127,
    "start_time": "2022-08-21T14:07:37.287Z"
   },
   {
    "duration": 4,
    "start_time": "2022-08-21T14:07:37.415Z"
   },
   {
    "duration": 13,
    "start_time": "2022-08-21T14:07:37.420Z"
   },
   {
    "duration": 10,
    "start_time": "2022-08-21T14:07:37.435Z"
   },
   {
    "duration": 11,
    "start_time": "2022-08-21T14:07:37.446Z"
   },
   {
    "duration": 199,
    "start_time": "2022-08-21T14:07:37.458Z"
   },
   {
    "duration": 127,
    "start_time": "2022-08-21T14:07:37.660Z"
   },
   {
    "duration": 9,
    "start_time": "2022-08-21T14:07:37.788Z"
   },
   {
    "duration": 5,
    "start_time": "2022-08-21T14:07:37.799Z"
   },
   {
    "duration": 278,
    "start_time": "2022-08-21T14:07:37.806Z"
   },
   {
    "duration": 209,
    "start_time": "2022-08-21T14:07:38.086Z"
   },
   {
    "duration": 309,
    "start_time": "2022-08-21T14:07:38.296Z"
   },
   {
    "duration": 6,
    "start_time": "2022-08-21T14:07:38.606Z"
   },
   {
    "duration": 218,
    "start_time": "2022-08-21T14:07:38.613Z"
   },
   {
    "duration": 281,
    "start_time": "2022-08-21T14:07:38.833Z"
   },
   {
    "duration": 7,
    "start_time": "2022-08-21T14:07:39.116Z"
   },
   {
    "duration": 155,
    "start_time": "2022-08-21T14:07:39.124Z"
   },
   {
    "duration": 7,
    "start_time": "2022-08-21T14:07:39.281Z"
   },
   {
    "duration": 123,
    "start_time": "2022-08-21T14:07:39.290Z"
   },
   {
    "duration": 3,
    "start_time": "2022-08-21T14:07:39.415Z"
   },
   {
    "duration": 1029,
    "start_time": "2022-08-21T14:11:02.067Z"
   },
   {
    "duration": 85,
    "start_time": "2022-08-21T14:11:03.097Z"
   },
   {
    "duration": 18,
    "start_time": "2022-08-21T14:11:03.183Z"
   },
   {
    "duration": 4,
    "start_time": "2022-08-21T14:11:03.203Z"
   },
   {
    "duration": 16,
    "start_time": "2022-08-21T14:11:03.209Z"
   },
   {
    "duration": 41,
    "start_time": "2022-08-21T14:11:03.227Z"
   },
   {
    "duration": 15,
    "start_time": "2022-08-21T14:11:03.270Z"
   },
   {
    "duration": 7,
    "start_time": "2022-08-21T14:11:03.287Z"
   },
   {
    "duration": 10,
    "start_time": "2022-08-21T14:11:03.296Z"
   },
   {
    "duration": 26,
    "start_time": "2022-08-21T14:11:03.310Z"
   },
   {
    "duration": 50,
    "start_time": "2022-08-21T14:11:03.338Z"
   },
   {
    "duration": 5,
    "start_time": "2022-08-21T14:11:03.390Z"
   },
   {
    "duration": 20,
    "start_time": "2022-08-21T14:11:03.397Z"
   },
   {
    "duration": 13,
    "start_time": "2022-08-21T14:11:03.419Z"
   },
   {
    "duration": 170,
    "start_time": "2022-08-21T14:11:03.433Z"
   },
   {
    "duration": 5,
    "start_time": "2022-08-21T14:11:03.605Z"
   },
   {
    "duration": 25,
    "start_time": "2022-08-21T14:11:03.612Z"
   },
   {
    "duration": 23,
    "start_time": "2022-08-21T14:11:03.640Z"
   },
   {
    "duration": 8,
    "start_time": "2022-08-21T14:11:03.665Z"
   },
   {
    "duration": 27,
    "start_time": "2022-08-21T14:11:03.687Z"
   },
   {
    "duration": 5,
    "start_time": "2022-08-21T14:11:03.716Z"
   },
   {
    "duration": 183,
    "start_time": "2022-08-21T14:11:03.723Z"
   },
   {
    "duration": 4,
    "start_time": "2022-08-21T14:11:03.908Z"
   },
   {
    "duration": 25,
    "start_time": "2022-08-21T14:11:03.914Z"
   },
   {
    "duration": 17,
    "start_time": "2022-08-21T14:11:03.941Z"
   },
   {
    "duration": 7,
    "start_time": "2022-08-21T14:11:03.960Z"
   },
   {
    "duration": 188,
    "start_time": "2022-08-21T14:11:03.969Z"
   },
   {
    "duration": 134,
    "start_time": "2022-08-21T14:11:04.161Z"
   },
   {
    "duration": 12,
    "start_time": "2022-08-21T14:11:04.297Z"
   },
   {
    "duration": 11,
    "start_time": "2022-08-21T14:11:04.311Z"
   },
   {
    "duration": 326,
    "start_time": "2022-08-21T14:11:04.324Z"
   },
   {
    "duration": 271,
    "start_time": "2022-08-21T14:11:04.653Z"
   },
   {
    "duration": 301,
    "start_time": "2022-08-21T14:11:04.926Z"
   },
   {
    "duration": 6,
    "start_time": "2022-08-21T14:11:05.229Z"
   },
   {
    "duration": 236,
    "start_time": "2022-08-21T14:11:05.236Z"
   },
   {
    "duration": 322,
    "start_time": "2022-08-21T14:11:05.474Z"
   },
   {
    "duration": 7,
    "start_time": "2022-08-21T14:11:05.798Z"
   },
   {
    "duration": 165,
    "start_time": "2022-08-21T14:11:05.806Z"
   },
   {
    "duration": 4,
    "start_time": "2022-08-21T14:11:05.973Z"
   },
   {
    "duration": 167,
    "start_time": "2022-08-21T14:11:05.987Z"
   },
   {
    "duration": 5,
    "start_time": "2022-08-21T14:11:06.155Z"
   },
   {
    "duration": 154,
    "start_time": "2022-08-21T14:24:54.218Z"
   },
   {
    "duration": 176,
    "start_time": "2022-08-21T14:37:40.574Z"
   },
   {
    "duration": 124,
    "start_time": "2022-08-21T14:38:44.285Z"
   },
   {
    "duration": 26,
    "start_time": "2022-08-21T14:42:30.761Z"
   },
   {
    "duration": 981,
    "start_time": "2022-08-21T14:43:00.634Z"
   },
   {
    "duration": 87,
    "start_time": "2022-08-21T14:43:01.617Z"
   },
   {
    "duration": 21,
    "start_time": "2022-08-21T14:43:01.706Z"
   },
   {
    "duration": 35,
    "start_time": "2022-08-21T14:43:01.729Z"
   },
   {
    "duration": 32,
    "start_time": "2022-08-21T14:43:01.766Z"
   },
   {
    "duration": 61,
    "start_time": "2022-08-21T14:43:01.800Z"
   },
   {
    "duration": 16,
    "start_time": "2022-08-21T14:43:01.863Z"
   },
   {
    "duration": 19,
    "start_time": "2022-08-21T14:43:01.881Z"
   },
   {
    "duration": 40,
    "start_time": "2022-08-21T14:43:01.902Z"
   },
   {
    "duration": 57,
    "start_time": "2022-08-21T14:43:01.945Z"
   },
   {
    "duration": 42,
    "start_time": "2022-08-21T14:43:02.004Z"
   },
   {
    "duration": 7,
    "start_time": "2022-08-21T14:43:02.047Z"
   },
   {
    "duration": 33,
    "start_time": "2022-08-21T14:43:02.056Z"
   },
   {
    "duration": 23,
    "start_time": "2022-08-21T14:43:02.090Z"
   },
   {
    "duration": 156,
    "start_time": "2022-08-21T14:43:02.114Z"
   },
   {
    "duration": 4,
    "start_time": "2022-08-21T14:43:02.272Z"
   },
   {
    "duration": 35,
    "start_time": "2022-08-21T14:43:02.278Z"
   },
   {
    "duration": 16,
    "start_time": "2022-08-21T14:43:02.315Z"
   },
   {
    "duration": 23,
    "start_time": "2022-08-21T14:43:02.334Z"
   },
   {
    "duration": 44,
    "start_time": "2022-08-21T14:43:02.358Z"
   },
   {
    "duration": 19,
    "start_time": "2022-08-21T14:43:02.404Z"
   },
   {
    "duration": 149,
    "start_time": "2022-08-21T14:43:02.425Z"
   },
   {
    "duration": 5,
    "start_time": "2022-08-21T14:43:02.576Z"
   },
   {
    "duration": 30,
    "start_time": "2022-08-21T14:43:02.587Z"
   },
   {
    "duration": 40,
    "start_time": "2022-08-21T14:43:02.619Z"
   },
   {
    "duration": 33,
    "start_time": "2022-08-21T14:43:02.661Z"
   },
   {
    "duration": 170,
    "start_time": "2022-08-21T14:43:02.695Z"
   },
   {
    "duration": 122,
    "start_time": "2022-08-21T14:43:02.868Z"
   },
   {
    "duration": 10,
    "start_time": "2022-08-21T14:43:02.992Z"
   },
   {
    "duration": 36,
    "start_time": "2022-08-21T14:43:03.004Z"
   },
   {
    "duration": 317,
    "start_time": "2022-08-21T14:43:03.042Z"
   },
   {
    "duration": 228,
    "start_time": "2022-08-21T14:43:03.361Z"
   },
   {
    "duration": 336,
    "start_time": "2022-08-21T14:43:03.592Z"
   },
   {
    "duration": 8,
    "start_time": "2022-08-21T14:43:03.931Z"
   },
   {
    "duration": 257,
    "start_time": "2022-08-21T14:43:03.941Z"
   },
   {
    "duration": 304,
    "start_time": "2022-08-21T14:43:04.200Z"
   },
   {
    "duration": 6,
    "start_time": "2022-08-21T14:43:04.506Z"
   },
   {
    "duration": 172,
    "start_time": "2022-08-21T14:43:04.514Z"
   },
   {
    "duration": 4,
    "start_time": "2022-08-21T14:43:04.688Z"
   },
   {
    "duration": 162,
    "start_time": "2022-08-21T14:43:04.694Z"
   },
   {
    "duration": 4,
    "start_time": "2022-08-21T14:43:04.858Z"
   },
   {
    "duration": 194,
    "start_time": "2022-08-21T14:43:04.864Z"
   },
   {
    "duration": 127,
    "start_time": "2022-08-21T14:43:05.060Z"
   },
   {
    "duration": 28,
    "start_time": "2022-08-21T14:43:05.188Z"
   },
   {
    "duration": 24,
    "start_time": "2022-08-21T14:44:49.711Z"
   },
   {
    "duration": 27,
    "start_time": "2022-08-21T14:45:10.528Z"
   },
   {
    "duration": 26,
    "start_time": "2022-08-21T14:46:18.353Z"
   },
   {
    "duration": 1041,
    "start_time": "2022-08-21T14:46:29.785Z"
   },
   {
    "duration": 75,
    "start_time": "2022-08-21T14:46:30.828Z"
   },
   {
    "duration": 17,
    "start_time": "2022-08-21T14:46:30.905Z"
   },
   {
    "duration": 15,
    "start_time": "2022-08-21T14:46:30.924Z"
   },
   {
    "duration": 29,
    "start_time": "2022-08-21T14:46:30.940Z"
   },
   {
    "duration": 45,
    "start_time": "2022-08-21T14:46:30.970Z"
   },
   {
    "duration": 15,
    "start_time": "2022-08-21T14:46:31.016Z"
   },
   {
    "duration": 13,
    "start_time": "2022-08-21T14:46:31.033Z"
   },
   {
    "duration": 17,
    "start_time": "2022-08-21T14:46:31.048Z"
   },
   {
    "duration": 36,
    "start_time": "2022-08-21T14:46:31.069Z"
   },
   {
    "duration": 30,
    "start_time": "2022-08-21T14:46:31.106Z"
   },
   {
    "duration": 5,
    "start_time": "2022-08-21T14:46:31.138Z"
   },
   {
    "duration": 23,
    "start_time": "2022-08-21T14:46:31.145Z"
   },
   {
    "duration": 18,
    "start_time": "2022-08-21T14:46:31.170Z"
   },
   {
    "duration": 149,
    "start_time": "2022-08-21T14:46:31.189Z"
   },
   {
    "duration": 4,
    "start_time": "2022-08-21T14:46:31.340Z"
   },
   {
    "duration": 26,
    "start_time": "2022-08-21T14:46:31.346Z"
   },
   {
    "duration": 13,
    "start_time": "2022-08-21T14:46:31.374Z"
   },
   {
    "duration": 20,
    "start_time": "2022-08-21T14:46:31.389Z"
   },
   {
    "duration": 18,
    "start_time": "2022-08-21T14:46:31.411Z"
   },
   {
    "duration": 3,
    "start_time": "2022-08-21T14:46:31.430Z"
   },
   {
    "duration": 138,
    "start_time": "2022-08-21T14:46:31.435Z"
   },
   {
    "duration": 14,
    "start_time": "2022-08-21T14:46:31.575Z"
   },
   {
    "duration": 26,
    "start_time": "2022-08-21T14:46:31.590Z"
   },
   {
    "duration": 12,
    "start_time": "2022-08-21T14:46:31.618Z"
   },
   {
    "duration": 8,
    "start_time": "2022-08-21T14:46:31.632Z"
   },
   {
    "duration": 164,
    "start_time": "2022-08-21T14:46:31.642Z"
   },
   {
    "duration": 124,
    "start_time": "2022-08-21T14:46:31.810Z"
   },
   {
    "duration": 9,
    "start_time": "2022-08-21T14:46:31.936Z"
   },
   {
    "duration": 9,
    "start_time": "2022-08-21T14:46:31.946Z"
   },
   {
    "duration": 303,
    "start_time": "2022-08-21T14:46:31.956Z"
   },
   {
    "duration": 228,
    "start_time": "2022-08-21T14:46:32.261Z"
   },
   {
    "duration": 309,
    "start_time": "2022-08-21T14:46:32.490Z"
   },
   {
    "duration": 5,
    "start_time": "2022-08-21T14:46:32.801Z"
   },
   {
    "duration": 215,
    "start_time": "2022-08-21T14:46:32.808Z"
   },
   {
    "duration": 288,
    "start_time": "2022-08-21T14:46:33.025Z"
   },
   {
    "duration": 7,
    "start_time": "2022-08-21T14:46:33.315Z"
   },
   {
    "duration": 151,
    "start_time": "2022-08-21T14:46:33.324Z"
   },
   {
    "duration": 13,
    "start_time": "2022-08-21T14:46:33.476Z"
   },
   {
    "duration": 155,
    "start_time": "2022-08-21T14:46:33.490Z"
   },
   {
    "duration": 4,
    "start_time": "2022-08-21T14:46:33.647Z"
   },
   {
    "duration": 170,
    "start_time": "2022-08-21T14:46:33.652Z"
   },
   {
    "duration": 127,
    "start_time": "2022-08-21T14:46:33.824Z"
   },
   {
    "duration": 51,
    "start_time": "2022-08-21T14:46:33.953Z"
   },
   {
    "duration": 176,
    "start_time": "2022-08-21T14:55:15.943Z"
   },
   {
    "duration": 1717,
    "start_time": "2022-08-21T15:02:12.419Z"
   },
   {
    "duration": 5,
    "start_time": "2022-08-21T15:02:40.929Z"
   },
   {
    "duration": 1023,
    "start_time": "2022-08-21T15:02:54.998Z"
   },
   {
    "duration": 85,
    "start_time": "2022-08-21T15:02:56.024Z"
   },
   {
    "duration": 20,
    "start_time": "2022-08-21T15:02:56.110Z"
   },
   {
    "duration": 4,
    "start_time": "2022-08-21T15:02:56.132Z"
   },
   {
    "duration": 20,
    "start_time": "2022-08-21T15:02:56.137Z"
   },
   {
    "duration": 55,
    "start_time": "2022-08-21T15:02:56.159Z"
   },
   {
    "duration": 23,
    "start_time": "2022-08-21T15:02:56.219Z"
   },
   {
    "duration": 34,
    "start_time": "2022-08-21T15:02:56.244Z"
   },
   {
    "duration": 23,
    "start_time": "2022-08-21T15:02:56.281Z"
   },
   {
    "duration": 48,
    "start_time": "2022-08-21T15:02:56.308Z"
   },
   {
    "duration": 54,
    "start_time": "2022-08-21T15:02:56.359Z"
   },
   {
    "duration": 11,
    "start_time": "2022-08-21T15:02:56.415Z"
   },
   {
    "duration": 27,
    "start_time": "2022-08-21T15:02:56.428Z"
   },
   {
    "duration": 14,
    "start_time": "2022-08-21T15:02:56.456Z"
   },
   {
    "duration": 164,
    "start_time": "2022-08-21T15:02:56.472Z"
   },
   {
    "duration": 4,
    "start_time": "2022-08-21T15:02:56.639Z"
   },
   {
    "duration": 23,
    "start_time": "2022-08-21T15:02:56.646Z"
   },
   {
    "duration": 17,
    "start_time": "2022-08-21T15:02:56.671Z"
   },
   {
    "duration": 16,
    "start_time": "2022-08-21T15:02:56.690Z"
   },
   {
    "duration": 21,
    "start_time": "2022-08-21T15:02:56.708Z"
   },
   {
    "duration": 9,
    "start_time": "2022-08-21T15:02:56.731Z"
   },
   {
    "duration": 140,
    "start_time": "2022-08-21T15:02:56.742Z"
   },
   {
    "duration": 5,
    "start_time": "2022-08-21T15:02:56.884Z"
   },
   {
    "duration": 23,
    "start_time": "2022-08-21T15:02:56.891Z"
   },
   {
    "duration": 19,
    "start_time": "2022-08-21T15:02:56.915Z"
   },
   {
    "duration": 17,
    "start_time": "2022-08-21T15:02:56.936Z"
   },
   {
    "duration": 168,
    "start_time": "2022-08-21T15:02:56.955Z"
   },
   {
    "duration": 126,
    "start_time": "2022-08-21T15:02:57.128Z"
   },
   {
    "duration": 9,
    "start_time": "2022-08-21T15:02:57.256Z"
   },
   {
    "duration": 19,
    "start_time": "2022-08-21T15:02:57.267Z"
   },
   {
    "duration": 287,
    "start_time": "2022-08-21T15:02:57.288Z"
   },
   {
    "duration": 231,
    "start_time": "2022-08-21T15:02:57.577Z"
   },
   {
    "duration": 304,
    "start_time": "2022-08-21T15:02:57.810Z"
   },
   {
    "duration": 6,
    "start_time": "2022-08-21T15:02:58.116Z"
   },
   {
    "duration": 230,
    "start_time": "2022-08-21T15:02:58.124Z"
   },
   {
    "duration": 323,
    "start_time": "2022-08-21T15:02:58.355Z"
   },
   {
    "duration": 10,
    "start_time": "2022-08-21T15:02:58.680Z"
   },
   {
    "duration": 164,
    "start_time": "2022-08-21T15:02:58.692Z"
   },
   {
    "duration": 5,
    "start_time": "2022-08-21T15:02:58.858Z"
   },
   {
    "duration": 161,
    "start_time": "2022-08-21T15:02:58.864Z"
   },
   {
    "duration": 5,
    "start_time": "2022-08-21T15:02:59.027Z"
   },
   {
    "duration": 177,
    "start_time": "2022-08-21T15:02:59.034Z"
   },
   {
    "duration": 116,
    "start_time": "2022-08-21T15:02:59.213Z"
   },
   {
    "duration": 24,
    "start_time": "2022-08-21T15:02:59.330Z"
   },
   {
    "duration": 121,
    "start_time": "2022-08-21T15:02:59.355Z"
   },
   {
    "duration": 11,
    "start_time": "2022-08-21T15:02:59.478Z"
   },
   {
    "duration": 975,
    "start_time": "2022-08-21T15:06:01.706Z"
   },
   {
    "duration": 75,
    "start_time": "2022-08-21T15:06:02.683Z"
   },
   {
    "duration": 19,
    "start_time": "2022-08-21T15:06:02.760Z"
   },
   {
    "duration": 4,
    "start_time": "2022-08-21T15:06:02.781Z"
   },
   {
    "duration": 12,
    "start_time": "2022-08-21T15:06:02.787Z"
   },
   {
    "duration": 40,
    "start_time": "2022-08-21T15:06:02.800Z"
   },
   {
    "duration": 14,
    "start_time": "2022-08-21T15:06:02.842Z"
   },
   {
    "duration": 5,
    "start_time": "2022-08-21T15:06:02.858Z"
   },
   {
    "duration": 9,
    "start_time": "2022-08-21T15:06:02.865Z"
   },
   {
    "duration": 23,
    "start_time": "2022-08-21T15:06:02.876Z"
   },
   {
    "duration": 24,
    "start_time": "2022-08-21T15:06:02.901Z"
   },
   {
    "duration": 5,
    "start_time": "2022-08-21T15:06:02.926Z"
   },
   {
    "duration": 34,
    "start_time": "2022-08-21T15:06:02.932Z"
   },
   {
    "duration": 7,
    "start_time": "2022-08-21T15:06:02.968Z"
   },
   {
    "duration": 133,
    "start_time": "2022-08-21T15:06:02.976Z"
   },
   {
    "duration": 5,
    "start_time": "2022-08-21T15:06:03.111Z"
   },
   {
    "duration": 27,
    "start_time": "2022-08-21T15:06:03.117Z"
   },
   {
    "duration": 15,
    "start_time": "2022-08-21T15:06:03.146Z"
   },
   {
    "duration": 6,
    "start_time": "2022-08-21T15:06:03.163Z"
   },
   {
    "duration": 29,
    "start_time": "2022-08-21T15:06:03.170Z"
   },
   {
    "duration": 19,
    "start_time": "2022-08-21T15:06:03.201Z"
   },
   {
    "duration": 133,
    "start_time": "2022-08-21T15:06:03.221Z"
   },
   {
    "duration": 4,
    "start_time": "2022-08-21T15:06:03.356Z"
   },
   {
    "duration": 27,
    "start_time": "2022-08-21T15:06:03.362Z"
   },
   {
    "duration": 11,
    "start_time": "2022-08-21T15:06:03.390Z"
   },
   {
    "duration": 8,
    "start_time": "2022-08-21T15:06:03.402Z"
   },
   {
    "duration": 174,
    "start_time": "2022-08-21T15:06:03.412Z"
   },
   {
    "duration": 117,
    "start_time": "2022-08-21T15:06:03.589Z"
   },
   {
    "duration": 13,
    "start_time": "2022-08-21T15:06:03.707Z"
   },
   {
    "duration": 11,
    "start_time": "2022-08-21T15:06:03.722Z"
   },
   {
    "duration": 291,
    "start_time": "2022-08-21T15:06:03.735Z"
   },
   {
    "duration": 223,
    "start_time": "2022-08-21T15:06:04.028Z"
   },
   {
    "duration": 317,
    "start_time": "2022-08-21T15:06:04.253Z"
   },
   {
    "duration": 5,
    "start_time": "2022-08-21T15:06:04.572Z"
   },
   {
    "duration": 213,
    "start_time": "2022-08-21T15:06:04.586Z"
   },
   {
    "duration": 296,
    "start_time": "2022-08-21T15:06:04.800Z"
   },
   {
    "duration": 6,
    "start_time": "2022-08-21T15:06:05.098Z"
   },
   {
    "duration": 172,
    "start_time": "2022-08-21T15:06:05.106Z"
   },
   {
    "duration": 10,
    "start_time": "2022-08-21T15:06:05.279Z"
   },
   {
    "duration": 158,
    "start_time": "2022-08-21T15:06:05.290Z"
   },
   {
    "duration": 4,
    "start_time": "2022-08-21T15:06:05.450Z"
   },
   {
    "duration": 180,
    "start_time": "2022-08-21T15:06:05.456Z"
   },
   {
    "duration": 121,
    "start_time": "2022-08-21T15:06:05.638Z"
   },
   {
    "duration": 34,
    "start_time": "2022-08-21T15:06:05.761Z"
   },
   {
    "duration": 129,
    "start_time": "2022-08-21T15:06:05.797Z"
   },
   {
    "duration": 7,
    "start_time": "2022-08-21T15:06:05.928Z"
   },
   {
    "duration": 24,
    "start_time": "2022-08-21T15:06:05.937Z"
   },
   {
    "duration": 132,
    "start_time": "2022-08-21T15:11:11.875Z"
   },
   {
    "duration": 27,
    "start_time": "2022-08-21T15:11:28.650Z"
   },
   {
    "duration": 48,
    "start_time": "2022-08-21T15:12:04.847Z"
   },
   {
    "duration": 48,
    "start_time": "2022-08-21T15:12:42.112Z"
   },
   {
    "duration": 39,
    "start_time": "2022-08-21T15:12:56.487Z"
   },
   {
    "duration": 1072,
    "start_time": "2022-08-21T15:19:33.174Z"
   },
   {
    "duration": 90,
    "start_time": "2022-08-21T15:19:34.247Z"
   },
   {
    "duration": 20,
    "start_time": "2022-08-21T15:19:34.339Z"
   },
   {
    "duration": 4,
    "start_time": "2022-08-21T15:19:34.361Z"
   },
   {
    "duration": 32,
    "start_time": "2022-08-21T15:19:34.367Z"
   },
   {
    "duration": 46,
    "start_time": "2022-08-21T15:19:34.401Z"
   },
   {
    "duration": 14,
    "start_time": "2022-08-21T15:19:34.449Z"
   },
   {
    "duration": 6,
    "start_time": "2022-08-21T15:19:34.465Z"
   },
   {
    "duration": 11,
    "start_time": "2022-08-21T15:19:34.472Z"
   },
   {
    "duration": 27,
    "start_time": "2022-08-21T15:19:34.485Z"
   },
   {
    "duration": 36,
    "start_time": "2022-08-21T15:19:34.513Z"
   },
   {
    "duration": 6,
    "start_time": "2022-08-21T15:19:34.551Z"
   },
   {
    "duration": 40,
    "start_time": "2022-08-21T15:19:34.558Z"
   },
   {
    "duration": 5,
    "start_time": "2022-08-21T15:19:34.601Z"
   },
   {
    "duration": 178,
    "start_time": "2022-08-21T15:19:34.608Z"
   },
   {
    "duration": 5,
    "start_time": "2022-08-21T15:19:34.788Z"
   },
   {
    "duration": 25,
    "start_time": "2022-08-21T15:19:34.795Z"
   },
   {
    "duration": 15,
    "start_time": "2022-08-21T15:19:34.822Z"
   },
   {
    "duration": 6,
    "start_time": "2022-08-21T15:19:34.838Z"
   },
   {
    "duration": 21,
    "start_time": "2022-08-21T15:19:34.845Z"
   },
   {
    "duration": 19,
    "start_time": "2022-08-21T15:19:34.868Z"
   },
   {
    "duration": 145,
    "start_time": "2022-08-21T15:19:34.889Z"
   },
   {
    "duration": 6,
    "start_time": "2022-08-21T15:19:35.035Z"
   },
   {
    "duration": 20,
    "start_time": "2022-08-21T15:19:35.042Z"
   },
   {
    "duration": 25,
    "start_time": "2022-08-21T15:19:35.063Z"
   },
   {
    "duration": 7,
    "start_time": "2022-08-21T15:19:35.090Z"
   },
   {
    "duration": 167,
    "start_time": "2022-08-21T15:19:35.098Z"
   },
   {
    "duration": 149,
    "start_time": "2022-08-21T15:19:35.269Z"
   },
   {
    "duration": 9,
    "start_time": "2022-08-21T15:19:35.420Z"
   },
   {
    "duration": 11,
    "start_time": "2022-08-21T15:19:35.431Z"
   },
   {
    "duration": 308,
    "start_time": "2022-08-21T15:19:35.443Z"
   },
   {
    "duration": 229,
    "start_time": "2022-08-21T15:19:35.753Z"
   },
   {
    "duration": 367,
    "start_time": "2022-08-21T15:19:35.986Z"
   },
   {
    "duration": 7,
    "start_time": "2022-08-21T15:19:36.355Z"
   },
   {
    "duration": 291,
    "start_time": "2022-08-21T15:19:36.365Z"
   },
   {
    "duration": 370,
    "start_time": "2022-08-21T15:19:36.658Z"
   },
   {
    "duration": 7,
    "start_time": "2022-08-21T15:19:37.029Z"
   },
   {
    "duration": 185,
    "start_time": "2022-08-21T15:19:37.038Z"
   },
   {
    "duration": 4,
    "start_time": "2022-08-21T15:19:37.225Z"
   },
   {
    "duration": 174,
    "start_time": "2022-08-21T15:19:37.231Z"
   },
   {
    "duration": 5,
    "start_time": "2022-08-21T15:19:37.408Z"
   },
   {
    "duration": 200,
    "start_time": "2022-08-21T15:19:37.414Z"
   },
   {
    "duration": 133,
    "start_time": "2022-08-21T15:19:37.616Z"
   },
   {
    "duration": 24,
    "start_time": "2022-08-21T15:19:37.751Z"
   },
   {
    "duration": 171,
    "start_time": "2022-08-21T15:19:37.791Z"
   },
   {
    "duration": 7,
    "start_time": "2022-08-21T15:19:37.964Z"
   },
   {
    "duration": 72,
    "start_time": "2022-08-21T15:19:37.972Z"
   },
   {
    "duration": 11,
    "start_time": "2022-08-21T15:26:43.011Z"
   },
   {
    "duration": 5,
    "start_time": "2022-08-21T15:29:14.090Z"
   },
   {
    "duration": 105,
    "start_time": "2022-08-21T15:29:42.637Z"
   },
   {
    "duration": 14,
    "start_time": "2022-08-21T15:30:30.491Z"
   },
   {
    "duration": 1030,
    "start_time": "2022-08-21T15:39:51.668Z"
   },
   {
    "duration": 81,
    "start_time": "2022-08-21T15:39:52.699Z"
   },
   {
    "duration": 28,
    "start_time": "2022-08-21T15:39:52.781Z"
   },
   {
    "duration": 22,
    "start_time": "2022-08-21T15:39:52.811Z"
   },
   {
    "duration": 24,
    "start_time": "2022-08-21T15:39:52.835Z"
   },
   {
    "duration": 53,
    "start_time": "2022-08-21T15:39:52.860Z"
   },
   {
    "duration": 15,
    "start_time": "2022-08-21T15:39:52.915Z"
   },
   {
    "duration": 16,
    "start_time": "2022-08-21T15:39:52.931Z"
   },
   {
    "duration": 29,
    "start_time": "2022-08-21T15:39:52.949Z"
   },
   {
    "duration": 51,
    "start_time": "2022-08-21T15:39:52.981Z"
   },
   {
    "duration": 42,
    "start_time": "2022-08-21T15:39:53.034Z"
   },
   {
    "duration": 6,
    "start_time": "2022-08-21T15:39:53.078Z"
   },
   {
    "duration": 28,
    "start_time": "2022-08-21T15:39:53.093Z"
   },
   {
    "duration": 9,
    "start_time": "2022-08-21T15:39:53.123Z"
   },
   {
    "duration": 143,
    "start_time": "2022-08-21T15:39:53.134Z"
   },
   {
    "duration": 22,
    "start_time": "2022-08-21T15:39:53.279Z"
   },
   {
    "duration": 31,
    "start_time": "2022-08-21T15:39:53.303Z"
   },
   {
    "duration": 15,
    "start_time": "2022-08-21T15:39:53.336Z"
   },
   {
    "duration": 4,
    "start_time": "2022-08-21T15:39:53.352Z"
   },
   {
    "duration": 18,
    "start_time": "2022-08-21T15:39:53.358Z"
   },
   {
    "duration": 4,
    "start_time": "2022-08-21T15:39:53.378Z"
   },
   {
    "duration": 141,
    "start_time": "2022-08-21T15:39:53.384Z"
   },
   {
    "duration": 4,
    "start_time": "2022-08-21T15:39:53.526Z"
   },
   {
    "duration": 13,
    "start_time": "2022-08-21T15:39:53.531Z"
   },
   {
    "duration": 9,
    "start_time": "2022-08-21T15:39:53.545Z"
   },
   {
    "duration": 7,
    "start_time": "2022-08-21T15:39:53.555Z"
   },
   {
    "duration": 176,
    "start_time": "2022-08-21T15:39:53.563Z"
   },
   {
    "duration": 125,
    "start_time": "2022-08-21T15:39:53.742Z"
   },
   {
    "duration": 29,
    "start_time": "2022-08-21T15:39:53.868Z"
   },
   {
    "duration": 15,
    "start_time": "2022-08-21T15:39:53.898Z"
   },
   {
    "duration": 283,
    "start_time": "2022-08-21T15:39:53.914Z"
   },
   {
    "duration": 211,
    "start_time": "2022-08-21T15:39:54.199Z"
   },
   {
    "duration": 305,
    "start_time": "2022-08-21T15:39:54.412Z"
   },
   {
    "duration": 5,
    "start_time": "2022-08-21T15:39:54.718Z"
   },
   {
    "duration": 240,
    "start_time": "2022-08-21T15:39:54.725Z"
   },
   {
    "duration": 357,
    "start_time": "2022-08-21T15:39:54.967Z"
   },
   {
    "duration": 7,
    "start_time": "2022-08-21T15:39:55.326Z"
   },
   {
    "duration": 176,
    "start_time": "2022-08-21T15:39:55.334Z"
   },
   {
    "duration": 4,
    "start_time": "2022-08-21T15:39:55.512Z"
   },
   {
    "duration": 160,
    "start_time": "2022-08-21T15:39:55.517Z"
   },
   {
    "duration": 20,
    "start_time": "2022-08-21T15:39:55.679Z"
   },
   {
    "duration": 158,
    "start_time": "2022-08-21T15:39:55.701Z"
   },
   {
    "duration": 148,
    "start_time": "2022-08-21T15:39:55.861Z"
   },
   {
    "duration": 33,
    "start_time": "2022-08-21T15:39:56.011Z"
   },
   {
    "duration": 159,
    "start_time": "2022-08-21T15:39:56.045Z"
   },
   {
    "duration": 7,
    "start_time": "2022-08-21T15:39:56.207Z"
   },
   {
    "duration": 84,
    "start_time": "2022-08-21T15:39:56.217Z"
   },
   {
    "duration": 12,
    "start_time": "2022-08-21T15:39:56.304Z"
   },
   {
    "duration": 17,
    "start_time": "2022-08-21T15:39:56.318Z"
   },
   {
    "duration": 9,
    "start_time": "2022-08-21T15:47:58.135Z"
   },
   {
    "duration": 90,
    "start_time": "2022-08-21T15:50:52.254Z"
   },
   {
    "duration": 11,
    "start_time": "2022-08-21T15:51:26.135Z"
   },
   {
    "duration": 10,
    "start_time": "2022-08-21T15:53:15.580Z"
   },
   {
    "duration": 17,
    "start_time": "2022-08-21T16:00:16.227Z"
   },
   {
    "duration": 16,
    "start_time": "2022-08-21T16:03:05.311Z"
   },
   {
    "duration": 1002,
    "start_time": "2022-08-21T16:03:13.050Z"
   },
   {
    "duration": 75,
    "start_time": "2022-08-21T16:03:14.054Z"
   },
   {
    "duration": 19,
    "start_time": "2022-08-21T16:03:14.131Z"
   },
   {
    "duration": 6,
    "start_time": "2022-08-21T16:03:14.152Z"
   },
   {
    "duration": 28,
    "start_time": "2022-08-21T16:03:14.159Z"
   },
   {
    "duration": 48,
    "start_time": "2022-08-21T16:03:14.188Z"
   },
   {
    "duration": 14,
    "start_time": "2022-08-21T16:03:14.238Z"
   },
   {
    "duration": 15,
    "start_time": "2022-08-21T16:03:14.254Z"
   },
   {
    "duration": 14,
    "start_time": "2022-08-21T16:03:14.271Z"
   },
   {
    "duration": 31,
    "start_time": "2022-08-21T16:03:14.287Z"
   },
   {
    "duration": 28,
    "start_time": "2022-08-21T16:03:14.319Z"
   },
   {
    "duration": 5,
    "start_time": "2022-08-21T16:03:14.348Z"
   },
   {
    "duration": 32,
    "start_time": "2022-08-21T16:03:14.355Z"
   },
   {
    "duration": 4,
    "start_time": "2022-08-21T16:03:14.388Z"
   },
   {
    "duration": 149,
    "start_time": "2022-08-21T16:03:14.393Z"
   },
   {
    "duration": 4,
    "start_time": "2022-08-21T16:03:14.544Z"
   },
   {
    "duration": 20,
    "start_time": "2022-08-21T16:03:14.549Z"
   },
   {
    "duration": 17,
    "start_time": "2022-08-21T16:03:14.570Z"
   },
   {
    "duration": 4,
    "start_time": "2022-08-21T16:03:14.589Z"
   },
   {
    "duration": 19,
    "start_time": "2022-08-21T16:03:14.595Z"
   },
   {
    "duration": 7,
    "start_time": "2022-08-21T16:03:14.615Z"
   },
   {
    "duration": 152,
    "start_time": "2022-08-21T16:03:14.623Z"
   },
   {
    "duration": 11,
    "start_time": "2022-08-21T16:03:14.777Z"
   },
   {
    "duration": 15,
    "start_time": "2022-08-21T16:03:14.790Z"
   },
   {
    "duration": 11,
    "start_time": "2022-08-21T16:03:14.806Z"
   },
   {
    "duration": 6,
    "start_time": "2022-08-21T16:03:14.818Z"
   },
   {
    "duration": 172,
    "start_time": "2022-08-21T16:03:14.826Z"
   },
   {
    "duration": 136,
    "start_time": "2022-08-21T16:03:15.002Z"
   },
   {
    "duration": 9,
    "start_time": "2022-08-21T16:03:15.139Z"
   },
   {
    "duration": 10,
    "start_time": "2022-08-21T16:03:15.149Z"
   },
   {
    "duration": 272,
    "start_time": "2022-08-21T16:03:15.161Z"
   },
   {
    "duration": 221,
    "start_time": "2022-08-21T16:03:15.434Z"
   },
   {
    "duration": 330,
    "start_time": "2022-08-21T16:03:15.657Z"
   },
   {
    "duration": 6,
    "start_time": "2022-08-21T16:03:15.988Z"
   },
   {
    "duration": 260,
    "start_time": "2022-08-21T16:03:15.996Z"
   },
   {
    "duration": 363,
    "start_time": "2022-08-21T16:03:16.258Z"
   },
   {
    "duration": 7,
    "start_time": "2022-08-21T16:03:16.623Z"
   },
   {
    "duration": 161,
    "start_time": "2022-08-21T16:03:16.631Z"
   },
   {
    "duration": 5,
    "start_time": "2022-08-21T16:03:16.794Z"
   },
   {
    "duration": 160,
    "start_time": "2022-08-21T16:03:16.800Z"
   },
   {
    "duration": 4,
    "start_time": "2022-08-21T16:03:16.962Z"
   },
   {
    "duration": 173,
    "start_time": "2022-08-21T16:03:16.967Z"
   },
   {
    "duration": 116,
    "start_time": "2022-08-21T16:03:17.142Z"
   },
   {
    "duration": 32,
    "start_time": "2022-08-21T16:03:17.260Z"
   },
   {
    "duration": 133,
    "start_time": "2022-08-21T16:03:17.294Z"
   },
   {
    "duration": 5,
    "start_time": "2022-08-21T16:03:17.429Z"
   },
   {
    "duration": 51,
    "start_time": "2022-08-21T16:03:17.436Z"
   },
   {
    "duration": 12,
    "start_time": "2022-08-21T16:03:17.488Z"
   },
   {
    "duration": 6,
    "start_time": "2022-08-21T16:03:17.502Z"
   },
   {
    "duration": 10,
    "start_time": "2022-08-21T16:03:17.510Z"
   },
   {
    "duration": 142,
    "start_time": "2022-08-21T16:03:17.522Z"
   },
   {
    "duration": 9,
    "start_time": "2022-08-21T16:08:44.619Z"
   },
   {
    "duration": 26,
    "start_time": "2022-08-21T16:11:09.042Z"
   },
   {
    "duration": 999,
    "start_time": "2022-08-21T16:11:38.639Z"
   },
   {
    "duration": 86,
    "start_time": "2022-08-21T16:11:39.640Z"
   },
   {
    "duration": 19,
    "start_time": "2022-08-21T16:11:39.728Z"
   },
   {
    "duration": 4,
    "start_time": "2022-08-21T16:11:39.750Z"
   },
   {
    "duration": 15,
    "start_time": "2022-08-21T16:11:39.756Z"
   },
   {
    "duration": 60,
    "start_time": "2022-08-21T16:11:39.772Z"
   },
   {
    "duration": 14,
    "start_time": "2022-08-21T16:11:39.833Z"
   },
   {
    "duration": 5,
    "start_time": "2022-08-21T16:11:39.849Z"
   },
   {
    "duration": 12,
    "start_time": "2022-08-21T16:11:39.855Z"
   },
   {
    "duration": 23,
    "start_time": "2022-08-21T16:11:39.869Z"
   },
   {
    "duration": 24,
    "start_time": "2022-08-21T16:11:39.894Z"
   },
   {
    "duration": 5,
    "start_time": "2022-08-21T16:11:39.921Z"
   },
   {
    "duration": 23,
    "start_time": "2022-08-21T16:11:39.928Z"
   },
   {
    "duration": 3,
    "start_time": "2022-08-21T16:11:39.952Z"
   },
   {
    "duration": 167,
    "start_time": "2022-08-21T16:11:39.957Z"
   },
   {
    "duration": 4,
    "start_time": "2022-08-21T16:11:40.125Z"
   },
   {
    "duration": 22,
    "start_time": "2022-08-21T16:11:40.130Z"
   },
   {
    "duration": 13,
    "start_time": "2022-08-21T16:11:40.154Z"
   },
   {
    "duration": 4,
    "start_time": "2022-08-21T16:11:40.169Z"
   },
   {
    "duration": 28,
    "start_time": "2022-08-21T16:11:40.175Z"
   },
   {
    "duration": 6,
    "start_time": "2022-08-21T16:11:40.205Z"
   },
   {
    "duration": 162,
    "start_time": "2022-08-21T16:11:40.212Z"
   },
   {
    "duration": 14,
    "start_time": "2022-08-21T16:11:40.376Z"
   },
   {
    "duration": 23,
    "start_time": "2022-08-21T16:11:40.393Z"
   },
   {
    "duration": 12,
    "start_time": "2022-08-21T16:11:40.417Z"
   },
   {
    "duration": 6,
    "start_time": "2022-08-21T16:11:40.431Z"
   },
   {
    "duration": 201,
    "start_time": "2022-08-21T16:11:40.439Z"
   },
   {
    "duration": 127,
    "start_time": "2022-08-21T16:11:40.644Z"
   },
   {
    "duration": 21,
    "start_time": "2022-08-21T16:11:40.773Z"
   },
   {
    "duration": 16,
    "start_time": "2022-08-21T16:11:40.797Z"
   },
   {
    "duration": 319,
    "start_time": "2022-08-21T16:11:40.815Z"
   },
   {
    "duration": 208,
    "start_time": "2022-08-21T16:11:41.136Z"
   },
   {
    "duration": 316,
    "start_time": "2022-08-21T16:11:41.346Z"
   },
   {
    "duration": 6,
    "start_time": "2022-08-21T16:11:41.663Z"
   },
   {
    "duration": 253,
    "start_time": "2022-08-21T16:11:41.670Z"
   },
   {
    "duration": 323,
    "start_time": "2022-08-21T16:11:41.924Z"
   },
   {
    "duration": 6,
    "start_time": "2022-08-21T16:11:42.249Z"
   },
   {
    "duration": 177,
    "start_time": "2022-08-21T16:11:42.257Z"
   },
   {
    "duration": 4,
    "start_time": "2022-08-21T16:11:42.435Z"
   },
   {
    "duration": 158,
    "start_time": "2022-08-21T16:11:42.441Z"
   },
   {
    "duration": 4,
    "start_time": "2022-08-21T16:11:42.602Z"
   },
   {
    "duration": 173,
    "start_time": "2022-08-21T16:11:42.608Z"
   },
   {
    "duration": 128,
    "start_time": "2022-08-21T16:11:42.788Z"
   },
   {
    "duration": 21,
    "start_time": "2022-08-21T16:11:42.917Z"
   },
   {
    "duration": 169,
    "start_time": "2022-08-21T16:11:42.940Z"
   },
   {
    "duration": 6,
    "start_time": "2022-08-21T16:11:43.113Z"
   },
   {
    "duration": 41,
    "start_time": "2022-08-21T16:11:43.120Z"
   },
   {
    "duration": 31,
    "start_time": "2022-08-21T16:11:43.163Z"
   },
   {
    "duration": 12,
    "start_time": "2022-08-21T16:11:43.197Z"
   },
   {
    "duration": 12,
    "start_time": "2022-08-21T16:11:43.210Z"
   },
   {
    "duration": 8,
    "start_time": "2022-08-21T16:11:43.224Z"
   },
   {
    "duration": 133,
    "start_time": "2022-08-21T16:11:43.233Z"
   },
   {
    "duration": 28,
    "start_time": "2022-08-21T16:12:43.972Z"
   },
   {
    "duration": 36,
    "start_time": "2022-08-21T16:14:45.434Z"
   },
   {
    "duration": 22,
    "start_time": "2022-08-21T16:15:07.227Z"
   },
   {
    "duration": 21,
    "start_time": "2022-08-21T16:16:17.896Z"
   },
   {
    "duration": 754,
    "start_time": "2022-08-21T16:22:47.303Z"
   },
   {
    "duration": 10,
    "start_time": "2022-08-21T16:25:17.078Z"
   },
   {
    "duration": 9,
    "start_time": "2022-08-21T16:25:17.090Z"
   },
   {
    "duration": 24,
    "start_time": "2022-08-21T16:25:17.101Z"
   },
   {
    "duration": 21,
    "start_time": "2022-08-21T16:25:17.126Z"
   },
   {
    "duration": 1158,
    "start_time": "2022-08-21T16:25:17.149Z"
   },
   {
    "duration": 16,
    "start_time": "2022-08-21T16:28:39.680Z"
   },
   {
    "duration": 10,
    "start_time": "2022-08-21T16:34:06.016Z"
   },
   {
    "duration": 1004,
    "start_time": "2022-08-21T16:55:47.484Z"
   },
   {
    "duration": 76,
    "start_time": "2022-08-21T16:55:48.490Z"
   },
   {
    "duration": 18,
    "start_time": "2022-08-21T16:55:48.568Z"
   },
   {
    "duration": 4,
    "start_time": "2022-08-21T16:55:48.588Z"
   },
   {
    "duration": 15,
    "start_time": "2022-08-21T16:55:48.593Z"
   },
   {
    "duration": 41,
    "start_time": "2022-08-21T16:55:48.609Z"
   },
   {
    "duration": 15,
    "start_time": "2022-08-21T16:55:48.651Z"
   },
   {
    "duration": 8,
    "start_time": "2022-08-21T16:55:48.667Z"
   },
   {
    "duration": 12,
    "start_time": "2022-08-21T16:55:48.676Z"
   },
   {
    "duration": 26,
    "start_time": "2022-08-21T16:55:48.690Z"
   },
   {
    "duration": 24,
    "start_time": "2022-08-21T16:55:48.718Z"
   },
   {
    "duration": 5,
    "start_time": "2022-08-21T16:55:48.743Z"
   },
   {
    "duration": 38,
    "start_time": "2022-08-21T16:55:48.749Z"
   },
   {
    "duration": 3,
    "start_time": "2022-08-21T16:55:48.789Z"
   },
   {
    "duration": 130,
    "start_time": "2022-08-21T16:55:48.794Z"
   },
   {
    "duration": 4,
    "start_time": "2022-08-21T16:55:48.926Z"
   },
   {
    "duration": 19,
    "start_time": "2022-08-21T16:55:48.931Z"
   },
   {
    "duration": 13,
    "start_time": "2022-08-21T16:55:48.952Z"
   },
   {
    "duration": 6,
    "start_time": "2022-08-21T16:55:48.966Z"
   },
   {
    "duration": 29,
    "start_time": "2022-08-21T16:55:48.974Z"
   },
   {
    "duration": 4,
    "start_time": "2022-08-21T16:55:49.004Z"
   },
   {
    "duration": 154,
    "start_time": "2022-08-21T16:55:49.010Z"
   },
   {
    "duration": 5,
    "start_time": "2022-08-21T16:55:49.166Z"
   },
   {
    "duration": 26,
    "start_time": "2022-08-21T16:55:49.172Z"
   },
   {
    "duration": 12,
    "start_time": "2022-08-21T16:55:49.199Z"
   },
   {
    "duration": 10,
    "start_time": "2022-08-21T16:55:49.212Z"
   },
   {
    "duration": 166,
    "start_time": "2022-08-21T16:55:49.223Z"
   },
   {
    "duration": 118,
    "start_time": "2022-08-21T16:55:49.392Z"
   },
   {
    "duration": 9,
    "start_time": "2022-08-21T16:55:49.511Z"
   },
   {
    "duration": 8,
    "start_time": "2022-08-21T16:55:49.522Z"
   },
   {
    "duration": 275,
    "start_time": "2022-08-21T16:55:49.531Z"
   },
   {
    "duration": 205,
    "start_time": "2022-08-21T16:55:49.808Z"
   },
   {
    "duration": 281,
    "start_time": "2022-08-21T16:55:50.015Z"
   },
   {
    "duration": 6,
    "start_time": "2022-08-21T16:55:50.298Z"
   },
   {
    "duration": 213,
    "start_time": "2022-08-21T16:55:50.305Z"
   },
   {
    "duration": 305,
    "start_time": "2022-08-21T16:55:50.520Z"
   },
   {
    "duration": 6,
    "start_time": "2022-08-21T16:55:50.827Z"
   },
   {
    "duration": 158,
    "start_time": "2022-08-21T16:55:50.835Z"
   },
   {
    "duration": 4,
    "start_time": "2022-08-21T16:55:50.994Z"
   },
   {
    "duration": 161,
    "start_time": "2022-08-21T16:55:51.000Z"
   },
   {
    "duration": 4,
    "start_time": "2022-08-21T16:55:51.163Z"
   },
   {
    "duration": 169,
    "start_time": "2022-08-21T16:55:51.168Z"
   },
   {
    "duration": 109,
    "start_time": "2022-08-21T16:55:51.339Z"
   },
   {
    "duration": 22,
    "start_time": "2022-08-21T16:55:51.449Z"
   },
   {
    "duration": 123,
    "start_time": "2022-08-21T16:55:51.473Z"
   },
   {
    "duration": 6,
    "start_time": "2022-08-21T16:55:51.598Z"
   },
   {
    "duration": 40,
    "start_time": "2022-08-21T16:55:51.605Z"
   },
   {
    "duration": 10,
    "start_time": "2022-08-21T16:55:51.646Z"
   },
   {
    "duration": 34,
    "start_time": "2022-08-21T16:55:51.657Z"
   },
   {
    "duration": 13,
    "start_time": "2022-08-21T16:55:51.693Z"
   },
   {
    "duration": 12,
    "start_time": "2022-08-21T16:55:51.708Z"
   },
   {
    "duration": 21,
    "start_time": "2022-08-21T16:55:51.722Z"
   },
   {
    "duration": 20,
    "start_time": "2022-08-21T16:55:51.744Z"
   },
   {
    "duration": 18,
    "start_time": "2022-08-21T16:55:51.786Z"
   },
   {
    "duration": 10,
    "start_time": "2022-08-21T16:55:51.806Z"
   },
   {
    "duration": 1015,
    "start_time": "2022-08-21T16:59:30.662Z"
   },
   {
    "duration": 83,
    "start_time": "2022-08-21T16:59:31.679Z"
   },
   {
    "duration": 19,
    "start_time": "2022-08-21T16:59:31.763Z"
   },
   {
    "duration": 4,
    "start_time": "2022-08-21T16:59:31.785Z"
   },
   {
    "duration": 13,
    "start_time": "2022-08-21T16:59:31.790Z"
   },
   {
    "duration": 40,
    "start_time": "2022-08-21T16:59:31.804Z"
   },
   {
    "duration": 15,
    "start_time": "2022-08-21T16:59:31.846Z"
   },
   {
    "duration": 6,
    "start_time": "2022-08-21T16:59:31.863Z"
   },
   {
    "duration": 11,
    "start_time": "2022-08-21T16:59:31.871Z"
   },
   {
    "duration": 23,
    "start_time": "2022-08-21T16:59:31.886Z"
   },
   {
    "duration": 24,
    "start_time": "2022-08-21T16:59:31.911Z"
   },
   {
    "duration": 6,
    "start_time": "2022-08-21T16:59:31.936Z"
   },
   {
    "duration": 44,
    "start_time": "2022-08-21T16:59:31.944Z"
   },
   {
    "duration": 4,
    "start_time": "2022-08-21T16:59:31.990Z"
   },
   {
    "duration": 145,
    "start_time": "2022-08-21T16:59:31.995Z"
   },
   {
    "duration": 5,
    "start_time": "2022-08-21T16:59:32.141Z"
   },
   {
    "duration": 42,
    "start_time": "2022-08-21T16:59:32.147Z"
   },
   {
    "duration": 15,
    "start_time": "2022-08-21T16:59:32.192Z"
   },
   {
    "duration": 5,
    "start_time": "2022-08-21T16:59:32.209Z"
   },
   {
    "duration": 17,
    "start_time": "2022-08-21T16:59:32.215Z"
   },
   {
    "duration": 3,
    "start_time": "2022-08-21T16:59:32.233Z"
   },
   {
    "duration": 155,
    "start_time": "2022-08-21T16:59:32.238Z"
   },
   {
    "duration": 4,
    "start_time": "2022-08-21T16:59:32.394Z"
   },
   {
    "duration": 15,
    "start_time": "2022-08-21T16:59:32.400Z"
   },
   {
    "duration": 10,
    "start_time": "2022-08-21T16:59:32.417Z"
   },
   {
    "duration": 9,
    "start_time": "2022-08-21T16:59:32.428Z"
   },
   {
    "duration": 165,
    "start_time": "2022-08-21T16:59:32.438Z"
   },
   {
    "duration": 119,
    "start_time": "2022-08-21T16:59:32.606Z"
   },
   {
    "duration": 8,
    "start_time": "2022-08-21T16:59:32.726Z"
   },
   {
    "duration": 9,
    "start_time": "2022-08-21T16:59:32.736Z"
   },
   {
    "duration": 271,
    "start_time": "2022-08-21T16:59:32.746Z"
   },
   {
    "duration": 206,
    "start_time": "2022-08-21T16:59:33.018Z"
   },
   {
    "duration": 262,
    "start_time": "2022-08-21T16:59:33.226Z"
   },
   {
    "duration": 5,
    "start_time": "2022-08-21T16:59:33.490Z"
   },
   {
    "duration": 205,
    "start_time": "2022-08-21T16:59:33.497Z"
   },
   {
    "duration": 296,
    "start_time": "2022-08-21T16:59:33.704Z"
   },
   {
    "duration": 7,
    "start_time": "2022-08-21T16:59:34.002Z"
   },
   {
    "duration": 171,
    "start_time": "2022-08-21T16:59:34.011Z"
   },
   {
    "duration": 4,
    "start_time": "2022-08-21T16:59:34.186Z"
   },
   {
    "duration": 148,
    "start_time": "2022-08-21T16:59:34.192Z"
   },
   {
    "duration": 4,
    "start_time": "2022-08-21T16:59:34.342Z"
   },
   {
    "duration": 165,
    "start_time": "2022-08-21T16:59:34.347Z"
   },
   {
    "duration": 117,
    "start_time": "2022-08-21T16:59:34.513Z"
   },
   {
    "duration": 23,
    "start_time": "2022-08-21T16:59:34.631Z"
   },
   {
    "duration": 150,
    "start_time": "2022-08-21T16:59:34.656Z"
   },
   {
    "duration": 5,
    "start_time": "2022-08-21T16:59:34.808Z"
   },
   {
    "duration": 38,
    "start_time": "2022-08-21T16:59:34.815Z"
   },
   {
    "duration": 10,
    "start_time": "2022-08-21T16:59:34.854Z"
   },
   {
    "duration": 26,
    "start_time": "2022-08-21T16:59:34.865Z"
   },
   {
    "duration": 21,
    "start_time": "2022-08-21T16:59:34.892Z"
   },
   {
    "duration": 6,
    "start_time": "2022-08-21T16:59:34.914Z"
   },
   {
    "duration": 21,
    "start_time": "2022-08-21T16:59:34.922Z"
   },
   {
    "duration": 20,
    "start_time": "2022-08-21T16:59:34.944Z"
   },
   {
    "duration": 28,
    "start_time": "2022-08-21T16:59:34.966Z"
   },
   {
    "duration": 9,
    "start_time": "2022-08-21T16:59:34.995Z"
   },
   {
    "duration": 1060,
    "start_time": "2022-08-21T18:17:35.066Z"
   },
   {
    "duration": 101,
    "start_time": "2022-08-21T18:17:36.127Z"
   },
   {
    "duration": 19,
    "start_time": "2022-08-21T18:17:36.229Z"
   },
   {
    "duration": 6,
    "start_time": "2022-08-21T18:17:36.250Z"
   },
   {
    "duration": 25,
    "start_time": "2022-08-21T18:17:36.257Z"
   },
   {
    "duration": 84,
    "start_time": "2022-08-21T18:17:36.284Z"
   },
   {
    "duration": 13,
    "start_time": "2022-08-21T18:17:36.369Z"
   },
   {
    "duration": 39,
    "start_time": "2022-08-21T18:17:36.383Z"
   },
   {
    "duration": 36,
    "start_time": "2022-08-21T18:17:36.423Z"
   },
   {
    "duration": 34,
    "start_time": "2022-08-21T18:17:36.462Z"
   },
   {
    "duration": 24,
    "start_time": "2022-08-21T18:17:36.498Z"
   },
   {
    "duration": 13,
    "start_time": "2022-08-21T18:17:36.524Z"
   },
   {
    "duration": 49,
    "start_time": "2022-08-21T18:17:36.538Z"
   },
   {
    "duration": 19,
    "start_time": "2022-08-21T18:17:36.589Z"
   },
   {
    "duration": 116,
    "start_time": "2022-08-21T18:17:36.610Z"
   },
   {
    "duration": 4,
    "start_time": "2022-08-21T18:17:36.728Z"
   },
   {
    "duration": 55,
    "start_time": "2022-08-21T18:17:36.733Z"
   },
   {
    "duration": 13,
    "start_time": "2022-08-21T18:17:36.789Z"
   },
   {
    "duration": 10,
    "start_time": "2022-08-21T18:17:36.803Z"
   },
   {
    "duration": 16,
    "start_time": "2022-08-21T18:17:36.814Z"
   },
   {
    "duration": 3,
    "start_time": "2022-08-21T18:17:36.832Z"
   },
   {
    "duration": 141,
    "start_time": "2022-08-21T18:17:36.836Z"
   },
   {
    "duration": 3,
    "start_time": "2022-08-21T18:17:36.979Z"
   },
   {
    "duration": 18,
    "start_time": "2022-08-21T18:17:36.983Z"
   },
   {
    "duration": 10,
    "start_time": "2022-08-21T18:17:37.002Z"
   },
   {
    "duration": 9,
    "start_time": "2022-08-21T18:17:37.013Z"
   },
   {
    "duration": 175,
    "start_time": "2022-08-21T18:17:37.023Z"
   },
   {
    "duration": 127,
    "start_time": "2022-08-21T18:17:37.202Z"
   },
   {
    "duration": 11,
    "start_time": "2022-08-21T18:17:37.330Z"
   },
   {
    "duration": 7,
    "start_time": "2022-08-21T18:17:37.343Z"
   },
   {
    "duration": 277,
    "start_time": "2022-08-21T18:17:37.351Z"
   },
   {
    "duration": 210,
    "start_time": "2022-08-21T18:17:37.630Z"
   },
   {
    "duration": 268,
    "start_time": "2022-08-21T18:17:37.842Z"
   },
   {
    "duration": 6,
    "start_time": "2022-08-21T18:17:38.112Z"
   },
   {
    "duration": 214,
    "start_time": "2022-08-21T18:17:38.120Z"
   },
   {
    "duration": 295,
    "start_time": "2022-08-21T18:17:38.335Z"
   },
   {
    "duration": 6,
    "start_time": "2022-08-21T18:17:38.631Z"
   },
   {
    "duration": 143,
    "start_time": "2022-08-21T18:17:38.639Z"
   },
   {
    "duration": 4,
    "start_time": "2022-08-21T18:17:38.783Z"
   },
   {
    "duration": 148,
    "start_time": "2022-08-21T18:17:38.788Z"
   },
   {
    "duration": 15,
    "start_time": "2022-08-21T18:17:38.937Z"
   },
   {
    "duration": 145,
    "start_time": "2022-08-21T18:17:38.953Z"
   },
   {
    "duration": 116,
    "start_time": "2022-08-21T18:17:39.099Z"
   },
   {
    "duration": 23,
    "start_time": "2022-08-21T18:17:39.216Z"
   },
   {
    "duration": 136,
    "start_time": "2022-08-21T18:17:39.240Z"
   },
   {
    "duration": 6,
    "start_time": "2022-08-21T18:17:39.377Z"
   },
   {
    "duration": 63,
    "start_time": "2022-08-21T18:17:39.385Z"
   },
   {
    "duration": 9,
    "start_time": "2022-08-21T18:17:39.450Z"
   },
   {
    "duration": 7,
    "start_time": "2022-08-21T18:17:39.461Z"
   },
   {
    "duration": 36,
    "start_time": "2022-08-21T18:17:39.469Z"
   },
   {
    "duration": 8,
    "start_time": "2022-08-21T18:17:39.508Z"
   },
   {
    "duration": 20,
    "start_time": "2022-08-21T18:17:39.517Z"
   },
   {
    "duration": 18,
    "start_time": "2022-08-21T18:17:39.539Z"
   },
   {
    "duration": 13,
    "start_time": "2022-08-21T18:17:39.559Z"
   },
   {
    "duration": 31,
    "start_time": "2022-08-21T18:17:39.573Z"
   }
  ],
  "kernelspec": {
   "display_name": "Python 3 (ipykernel)",
   "language": "python",
   "name": "python3"
  },
  "language_info": {
   "codemirror_mode": {
    "name": "ipython",
    "version": 3
   },
   "file_extension": ".py",
   "mimetype": "text/x-python",
   "name": "python",
   "nbconvert_exporter": "python",
   "pygments_lexer": "ipython3",
   "version": "3.9.13"
  },
  "toc": {
   "base_numbering": 1,
   "nav_menu": {
    "height": "123px",
    "width": "396px"
   },
   "number_sections": true,
   "sideBar": true,
   "skip_h1_title": true,
   "title_cell": "Содержание",
   "title_sidebar": "Содержание",
   "toc_cell": true,
   "toc_position": {
    "height": "calc(100% - 180px)",
    "left": "10px",
    "top": "150px",
    "width": "366.2px"
   },
   "toc_section_display": true,
   "toc_window_display": false
  }
 },
 "nbformat": 4,
 "nbformat_minor": 2
}
